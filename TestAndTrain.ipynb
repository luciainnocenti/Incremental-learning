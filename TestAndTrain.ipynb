{
  "nbformat": 4,
  "nbformat_minor": 0,
  "metadata": {
    "colab": {
      "name": "ResNet.ipynb",
      "provenance": [],
      "collapsed_sections": [],
      "toc_visible": true,
      "include_colab_link": true
    },
    "kernelspec": {
      "name": "python3",
      "display_name": "Python 3"
    },
    "accelerator": "GPU"
  },
  "cells": [
    {
      "cell_type": "markdown",
      "metadata": {
        "id": "view-in-github",
        "colab_type": "text"
      },
      "source": [
        "<a href=\"https://colab.research.google.com/github/luciainnocenti/IncrementalLearning/blob/master/TestAndTrain.ipynb\" target=\"_parent\"><img src=\"https://colab.research.google.com/assets/colab-badge.svg\" alt=\"Open In Colab\"/></a>"
      ]
    },
    {
      "cell_type": "markdown",
      "metadata": {
        "id": "mbtGDBU3QJaq",
        "colab_type": "text"
      },
      "source": [
        "# Import GitHub repository"
      ]
    },
    {
      "cell_type": "code",
      "metadata": {
        "id": "wf0TmOM3NdFM",
        "colab_type": "code",
        "outputId": "82e71c8c-db55-4998-b3a0-e2afa662e8a8",
        "colab": {
          "base_uri": "https://localhost:8080/",
          "height": 34
        }
      },
      "source": [
        "#!pip3 install 'tqdm'\n",
        "import os\n",
        "import logging\n",
        "import sys\n"
      ],
      "execution_count": 0,
      "outputs": [
        {
          "output_type": "stream",
          "text": [
            "Requirement already satisfied: tqdm in /usr/local/lib/python3.6/dist-packages (4.41.1)\n"
          ],
          "name": "stdout"
        }
      ]
    },
    {
      "cell_type": "code",
      "metadata": {
        "id": "8I0pKIVIM2KC",
        "colab_type": "code",
        "colab": {}
      },
      "source": [
        "if not os.path.isdir('./DatasetCIFAR'):\n",
        "  !git clone https://github.com/luciainnocenti/IncrementalLearning.git\n",
        "  !mv 'IncrementalLearning' 'DatasetCIFAR'"
      ],
      "execution_count": 0,
      "outputs": []
    },
    {
      "cell_type": "markdown",
      "metadata": {
        "id": "aLaS2laafBaG",
        "colab_type": "text"
      },
      "source": [
        "# Import packages"
      ]
    },
    {
      "cell_type": "code",
      "metadata": {
        "id": "liUP5Kc1DMbH",
        "colab_type": "code",
        "colab": {}
      },
      "source": [
        "from DatasetCIFAR.data_set import Dataset \n",
        "from DatasetCIFAR import ResNet\n",
        "from torchvision import models\n",
        "import torch.nn as nn\n",
        "import torch\n",
        "import torch.optim as optim\n",
        "import torchvision\n",
        "from torchvision import transforms\n",
        "from torch.utils.data import Subset, DataLoader"
      ],
      "execution_count": 0,
      "outputs": []
    },
    {
      "cell_type": "markdown",
      "metadata": {
        "id": "gQK7sS-Hed0j",
        "colab_type": "text"
      },
      "source": [
        "# Hyper-Parameters"
      ]
    },
    {
      "cell_type": "code",
      "metadata": {
        "id": "Eote8TwxYkfA",
        "colab_type": "code",
        "colab": {}
      },
      "source": [
        "DEVICE = 'cuda' # 'cuda' or 'cpu'\n",
        "BATCH_SIZE = 128\n",
        "NUM_WORKERS = 100\n",
        "TASK_SIZE = 10\n",
        "NUM_EPOCHS = 70\n",
        "WEIGHT_DECAY = 0.00001\n",
        "LR = 2\n",
        "STEP_SIZE = [49,63]\n",
        "GAMMA = 1/5"
      ],
      "execution_count": 0,
      "outputs": []
    },
    {
      "cell_type": "markdown",
      "metadata": {
        "id": "0_vlqOL7ehLC",
        "colab_type": "text"
      },
      "source": [
        "# Define Network"
      ]
    },
    {
      "cell_type": "code",
      "metadata": {
        "id": "tWttFW3ljoMj",
        "colab_type": "code",
        "colab": {}
      },
      "source": [
        "resNet = ResNet.resnet32(num_classes=100)\n",
        "resNet = resNet.to(DEVICE)"
      ],
      "execution_count": 0,
      "outputs": []
    },
    {
      "cell_type": "code",
      "metadata": {
        "id": "HSmohsyVWFpr",
        "colab_type": "code",
        "colab": {}
      },
      "source": [
        "resnet_transformer = transforms.Compose([transforms.Resize(32), \n",
        "                                      transforms.Normalize((0.5, 0.5, 0.5), (0.5, 0.5, 0.5)) # Normalizes tensor with mean and standard deviation\n",
        "])\n"
      ],
      "execution_count": 0,
      "outputs": []
    },
    {
      "cell_type": "markdown",
      "metadata": {
        "id": "y_cyhIzFej5-",
        "colab_type": "text"
      },
      "source": [
        "# Define DataSets"
      ]
    },
    {
      "cell_type": "code",
      "metadata": {
        "id": "wcBNohmiYBtP",
        "colab_type": "code",
        "outputId": "5d579464-c6a4-4fbd-ae66-43b477d71dd3",
        "colab": {
          "base_uri": "https://localhost:8080/",
          "height": 50
        }
      },
      "source": [
        "trainDS = Dataset(train=True, transform = resnet_transformer)\n",
        "testDS = Dataset(train=False, transform = resnet_transformer)"
      ],
      "execution_count": 0,
      "outputs": [
        {
          "output_type": "stream",
          "text": [
            "Files already downloaded and verified\n",
            "Files already downloaded and verified\n"
          ],
          "name": "stdout"
        }
      ]
    },
    {
      "cell_type": "markdown",
      "metadata": {
        "id": "WgAT2KQEersx",
        "colab_type": "text"
      },
      "source": [
        "# Useful plots"
      ]
    },
    {
      "cell_type": "markdown",
      "metadata": {
        "id": "B1l7flYj4NJh",
        "colab_type": "text"
      },
      "source": [
        "The function plotEpoch plots, at the end of each task, how accuracy and loss change during the training phase. It show\n",
        "\n",
        "*   Validation and Training Accuracy\n",
        "*   Validation and Training Loss\n",
        "\n",
        "The function plotTask, for each task, how the accuracy on the validation set change when adding new tasks\n"
      ]
    },
    {
      "cell_type": "code",
      "metadata": {
        "id": "ngT3FanbIdMa",
        "colab_type": "code",
        "colab": {}
      },
      "source": [
        "def plotEpoch(pars):\n",
        "  import numpy as np\n",
        "  import matplotlib.pyplot as plt\n",
        "\n",
        "  x_epochs = np.linspace(1,NUM_EPOCHS,NUM_EPOCHS)\n",
        "  y1 = [e[0] for e in pars] #val acuracy\n",
        "  y2 = [e[2] for e in pars] #train accuracy\n",
        "  plt.plot(x_epochs, y1 , '-', color='red')\n",
        "  plt.plot(x_epochs, y2, '-', color='blue')\n",
        "  plt.xlabel(\"Epoch\")\n",
        "  plt.legend(['Validation Accuracy', 'Train accuracy'])\n",
        "  plt.show()\n",
        "\n",
        "  y1 = [e[1] for e in pars] #val loss\n",
        "  y2 = [e[3] for e in pars] #train loss\n",
        "  plt.plot(x_epochs, y1 , '-', color='red')\n",
        "  plt.plot(x_epochs, y2, '-', color='blue')\n",
        "  plt.xlabel(\"Epoch\")\n",
        "  plt.legend(['Validation Loss', 'Train Loss'])\n",
        "  plt.show()\n",
        "\n"
      ],
      "execution_count": 0,
      "outputs": []
    },
    {
      "cell_type": "code",
      "metadata": {
        "id": "Gr58kkHiIzZU",
        "colab_type": "code",
        "colab": {}
      },
      "source": [
        "def plotTask():\n",
        "  import numpy as np\n",
        "  import matplotlib.pyplot as plt\n",
        "\n",
        "  x_tasks =  np.linspace(10, 100, 10)\n",
        "\n",
        "  plt.plot(x_tasks, y1 ,'b', label='Accuracy')\n",
        "  plt.xlabel(\"Epoch\")\n",
        "  plt.title('Accuracy over classes')\n",
        "  plt.legend(['Validation Accuracy'])\n",
        "  plt.grid(True)\n",
        "  plt.show()\n",
        "\n"
      ],
      "execution_count": 0,
      "outputs": []
    },
    {
      "cell_type": "markdown",
      "metadata": {
        "id": "iApKvCs942aS",
        "colab_type": "text"
      },
      "source": [
        "# Train and evaluation phase"
      ]
    },
    {
      "cell_type": "code",
      "metadata": {
        "id": "4L9wJqGIXIRo",
        "colab_type": "code",
        "colab": {}
      },
      "source": [
        "def eachepochevaluation():\n",
        "  resNet.train(False) # Set Network to evaluation mode\n",
        "  running_corrects = 0\n",
        "  #confusion_matrix = torch.zeros(10, 10)\n",
        "  for images, labels in test_loader:\n",
        "    images = images.float().to(DEVICE)\n",
        "    labels = labels.to(DEVICE)\n",
        "    onehot_labels = torch.eye(100)[labels].to(DEVICE) #it creates the one-hot-encoding list for the labels; neede for BCELoss\n",
        "    # Forward Pass\n",
        "    outputs = resNet(images)\n",
        "    # Get predictions\n",
        "    _, preds = torch.max(outputs.data, 1)\n",
        "    # Update Corrects\n",
        "    running_corrects += torch.sum(preds == labels.data).data.item()\n",
        "\n",
        "  # Calculate Accuracy\n",
        "  accuracy = running_corrects / float(len(test_dataset))\n",
        "  \n",
        "  #Calculate Loss\n",
        "  loss = criterion(outputs,onehot_labels)\n",
        "  print(\"epoch =\" + str(epoch))\n",
        "  print('Validation Loss: {} Validation Accuracy : {}'.format(loss,accuracy))\n",
        "  return (accuracy, loss.item())"
      ],
      "execution_count": 0,
      "outputs": []
    },
    {
      "cell_type": "code",
      "metadata": {
        "id": "oJse4JU7d9ck",
        "colab_type": "code",
        "outputId": "b7798769-b716-42c7-f0ee-9d979a473e88",
        "colab": {
          "base_uri": "https://localhost:8080/",
          "height": 1000
        }
      },
      "source": [
        "pars_epoch = []\n",
        "pars_tasks = []\n",
        "test_indexes = []\n",
        "\n",
        "for task in range(0, 100, TASK_SIZE):\n",
        "  pars_tasks.insert(task, 0)\n",
        "\n",
        "for task in range(0, 100, TASK_SIZE):\n",
        "\n",
        "  #Define the parameters for traininig:\n",
        "  criterion = nn.BCEWithLogitsLoss()\n",
        "  optimizer = torch.optim.SGD(resNet.parameters(), lr=2., weight_decay=WEIGHT_DECAY)\n",
        "  scheduler = optim.lr_scheduler.MultiStepLR(optimizer, STEP_SIZE, gamma=GAMMA) #allow to change the LR at predefined epochs\n",
        "\n",
        "  n_classes = task + TASK_SIZE\n",
        "\n",
        "  resNet.train(True)\n",
        "\n",
        "  print(\"Task classes {} to {}\".format(task, n_classes))\n",
        "\n",
        "  train_indexes = trainDS.__getIndexesGroups__(task)\n",
        "  test_indexes = test_indexes + testDS.__getIndexesGroups__(task)\n",
        "\n",
        "  train_dataset = Subset(trainDS, train_indexes)\n",
        "  test_dataset = Subset(testDS, test_indexes)\n",
        "\n",
        "  train_loader = DataLoader( train_dataset, num_workers=NUM_WORKERS, batch_size=BATCH_SIZE)\n",
        "  test_loader = DataLoader( test_dataset, num_workers=NUM_WORKERS, batch_size=BATCH_SIZE )\n",
        "\n",
        "  current_step = 0\n",
        "  \n",
        "  ##Train phase\n",
        "  for epoch in range(NUM_EPOCHS):\n",
        "    scheduler.step() #update the learning rate\n",
        "    print(scheduler.get_lr(), \"   \", scheduler.get_last_lr()) #check if the lr is okay\n",
        "    running_corrects = 0\n",
        "    for images, labels in train_loader:\n",
        "      \n",
        "      # Bring data over the device of choice\n",
        "      images = images.float().to(DEVICE)\n",
        "      labels = labels.to(DEVICE)\n",
        "\n",
        "      onehot_labels = torch.eye(100)[labels].to(DEVICE)#it creates the one-hot-encoding list for the labels; neede for BCELoss\n",
        "\n",
        "      optimizer.zero_grad() # Zero-ing the gradients\n",
        "\n",
        "      # Forward pass to the network\n",
        "      outputs = resNet(images)\n",
        "      \n",
        "      #loss = criterion(outputs,labels)\n",
        "      loss = criterion(outputs,onehot_labels)\n",
        "\n",
        "      # Get predictions\n",
        "      _, preds = torch.max(outputs.data, 1)\n",
        "      \n",
        "      # Update Corrects\n",
        "      running_corrects += torch.sum(preds == labels.data).data.item()\n",
        "      \n",
        "      loss.backward()  # backward pass: computes gradients\n",
        "      optimizer.step() # update weights based on accumulated gradients\n",
        "\n",
        "      current_step += 1\n",
        "    # Calculate Accuracy\n",
        "    accuracy = running_corrects / float(len(train_dataset))\n",
        "    print(\"At step \", str(task), \" and at epoch = \", epoch, \" the loss is = \", loss.item(), \" and accuracy is = \", accuracy)\n",
        "\n",
        "    #Some variables useful for visualization\n",
        "\n",
        "    param=eachepochevaluation() #run the network in the validation set, it returns validation accuracy and loss \n",
        "\n",
        "    pars_epoch.append( (param[0], param[1], accuracy, loss.item()) )\n",
        "    #pars_epoch -->   val_acc,  val_loss, train_acc,train_loss\n",
        "    pars_tasks[int(task/10)] += param[0] # \n",
        "    #pars_task[task/10] --> contains the sum of all the accuracies obtained in a specific task\n",
        "\n",
        "  plotEpoch(pars_epoch) \n",
        "  pars_epoch = [] #clean the pars_epoch after visualizations\n",
        "  pars_tasks[int(task/10)] /= NUM_EPOCHS #make the average sum(accuracy)/num_epochs\n",
        "\n",
        "plotTask(pars_tasks)"
      ],
      "execution_count": 0,
      "outputs": [
        {
          "output_type": "stream",
          "text": [
            "Task classes 0 to 10\n",
            "[2.0]     [2.0]\n"
          ],
          "name": "stdout"
        },
        {
          "output_type": "stream",
          "text": [
            "/usr/local/lib/python3.6/dist-packages/torch/optim/lr_scheduler.py:123: UserWarning: Detected call of `lr_scheduler.step()` before `optimizer.step()`. In PyTorch 1.1.0 and later, you should call them in the opposite order: `optimizer.step()` before `lr_scheduler.step()`.  Failure to do this will result in PyTorch skipping the first value of the learning rate schedule. See more details at https://pytorch.org/docs/stable/optim.html#how-to-adjust-learning-rate\n",
            "  \"https://pytorch.org/docs/stable/optim.html#how-to-adjust-learning-rate\", UserWarning)\n",
            "/usr/local/lib/python3.6/dist-packages/torch/optim/lr_scheduler.py:396: UserWarning: To get the last learning rate computed by the scheduler, please use `get_last_lr()`.\n",
            "  \"please use `get_last_lr()`.\", UserWarning)\n"
          ],
          "name": "stderr"
        },
        {
          "output_type": "stream",
          "text": [
            "At step  0  and at epoch =  0  the loss is =  0.03781043365597725  and accuracy is =  0.145\n",
            "epoch =0\n",
            "Validation Loss: 0.03864850476384163 Validation Accuracy : 0.141\n",
            "[2.0]     [2.0]\n",
            "At step  0  and at epoch =  1  the loss is =  0.03831131011247635  and accuracy is =  0.1508\n",
            "epoch =1\n",
            "Validation Loss: 0.044875312596559525 Validation Accuracy : 0.111\n",
            "[2.0]     [2.0]\n",
            "At step  0  and at epoch =  2  the loss is =  0.03208746761083603  and accuracy is =  0.1616\n",
            "epoch =2\n",
            "Validation Loss: 0.03861377388238907 Validation Accuracy : 0.122\n",
            "[2.0]     [2.0]\n",
            "At step  0  and at epoch =  3  the loss is =  0.03097987174987793  and accuracy is =  0.1992\n",
            "epoch =3\n",
            "Validation Loss: 0.034681204706430435 Validation Accuracy : 0.166\n",
            "[2.0]     [2.0]\n",
            "At step  0  and at epoch =  4  the loss is =  0.027154667302966118  and accuracy is =  0.2474\n",
            "epoch =4\n",
            "Validation Loss: 0.03817727789282799 Validation Accuracy : 0.123\n",
            "[2.0]     [2.0]\n",
            "At step  0  and at epoch =  5  the loss is =  0.02797466702759266  and accuracy is =  0.2736\n",
            "epoch =5\n",
            "Validation Loss: 0.045257098972797394 Validation Accuracy : 0.152\n",
            "[2.0]     [2.0]\n",
            "At step  0  and at epoch =  6  the loss is =  0.02893420122563839  and accuracy is =  0.2186\n",
            "epoch =6\n",
            "Validation Loss: 0.0377575159072876 Validation Accuracy : 0.127\n",
            "[2.0]     [2.0]\n",
            "At step  0  and at epoch =  7  the loss is =  0.024619240313768387  and accuracy is =  0.2862\n",
            "epoch =7\n",
            "Validation Loss: 0.030800100415945053 Validation Accuracy : 0.282\n",
            "[2.0]     [2.0]\n",
            "At step  0  and at epoch =  8  the loss is =  0.022759566083550453  and accuracy is =  0.3346\n",
            "epoch =8\n",
            "Validation Loss: 0.029695898294448853 Validation Accuracy : 0.309\n",
            "[2.0]     [2.0]\n",
            "At step  0  and at epoch =  9  the loss is =  0.020987510681152344  and accuracy is =  0.3478\n",
            "epoch =9\n",
            "Validation Loss: 0.02912585251033306 Validation Accuracy : 0.33\n",
            "[2.0]     [2.0]\n",
            "At step  0  and at epoch =  10  the loss is =  0.018544472754001617  and accuracy is =  0.3688\n",
            "epoch =10\n",
            "Validation Loss: 0.028792835772037506 Validation Accuracy : 0.348\n",
            "[2.0]     [2.0]\n",
            "At step  0  and at epoch =  11  the loss is =  0.019603051245212555  and accuracy is =  0.371\n",
            "epoch =11\n",
            "Validation Loss: 0.0341746062040329 Validation Accuracy : 0.284\n",
            "[2.0]     [2.0]\n",
            "At step  0  and at epoch =  12  the loss is =  0.018852459266781807  and accuracy is =  0.3908\n",
            "epoch =12\n",
            "Validation Loss: 0.038846228271722794 Validation Accuracy : 0.256\n",
            "[2.0]     [2.0]\n",
            "At step  0  and at epoch =  13  the loss is =  0.02253676764667034  and accuracy is =  0.323\n",
            "epoch =13\n",
            "Validation Loss: 0.02803777903318405 Validation Accuracy : 0.332\n",
            "[2.0]     [2.0]\n",
            "At step  0  and at epoch =  14  the loss is =  0.019838090986013412  and accuracy is =  0.3952\n",
            "epoch =14\n",
            "Validation Loss: 0.028713146224617958 Validation Accuracy : 0.352\n",
            "[2.0]     [2.0]\n",
            "At step  0  and at epoch =  15  the loss is =  0.016023671254515648  and accuracy is =  0.4266\n",
            "epoch =15\n",
            "Validation Loss: 0.02627953141927719 Validation Accuracy : 0.407\n",
            "[2.0]     [2.0]\n",
            "At step  0  and at epoch =  16  the loss is =  0.015881847590208054  and accuracy is =  0.4292\n",
            "epoch =16\n",
            "Validation Loss: 0.025802629068493843 Validation Accuracy : 0.424\n",
            "[2.0]     [2.0]\n",
            "At step  0  and at epoch =  17  the loss is =  0.014720863662660122  and accuracy is =  0.4504\n",
            "epoch =17\n",
            "Validation Loss: 0.030549993738532066 Validation Accuracy : 0.382\n",
            "[2.0]     [2.0]\n",
            "At step  0  and at epoch =  18  the loss is =  0.012820666655898094  and accuracy is =  0.4522\n",
            "epoch =18\n",
            "Validation Loss: 0.029816633090376854 Validation Accuracy : 0.392\n",
            "[2.0]     [2.0]\n",
            "At step  0  and at epoch =  19  the loss is =  0.013154695741832256  and accuracy is =  0.4652\n",
            "epoch =19\n",
            "Validation Loss: 0.027863048017024994 Validation Accuracy : 0.402\n",
            "[2.0]     [2.0]\n",
            "At step  0  and at epoch =  20  the loss is =  0.011671298183500767  and accuracy is =  0.4668\n",
            "epoch =20\n",
            "Validation Loss: 0.02686733566224575 Validation Accuracy : 0.42\n",
            "[2.0]     [2.0]\n",
            "At step  0  and at epoch =  21  the loss is =  0.010701014660298824  and accuracy is =  0.4806\n",
            "epoch =21\n",
            "Validation Loss: 0.026615530252456665 Validation Accuracy : 0.429\n",
            "[2.0]     [2.0]\n",
            "At step  0  and at epoch =  22  the loss is =  0.009907858446240425  and accuracy is =  0.492\n",
            "epoch =22\n",
            "Validation Loss: 0.02589438296854496 Validation Accuracy : 0.443\n",
            "[2.0]     [2.0]\n",
            "At step  0  and at epoch =  23  the loss is =  0.01074393093585968  and accuracy is =  0.4938\n",
            "epoch =23\n",
            "Validation Loss: 0.03116045519709587 Validation Accuracy : 0.369\n",
            "[2.0]     [2.0]\n",
            "At step  0  and at epoch =  24  the loss is =  0.009351310320198536  and accuracy is =  0.5038\n",
            "epoch =24\n",
            "Validation Loss: 0.02532704919576645 Validation Accuracy : 0.473\n",
            "[2.0]     [2.0]\n",
            "At step  0  and at epoch =  25  the loss is =  0.009029126726090908  and accuracy is =  0.5142\n",
            "epoch =25\n",
            "Validation Loss: 0.024989057332277298 Validation Accuracy : 0.479\n",
            "[2.0]     [2.0]\n",
            "At step  0  and at epoch =  26  the loss is =  0.008190829306840897  and accuracy is =  0.5272\n",
            "epoch =26\n",
            "Validation Loss: 0.024777432903647423 Validation Accuracy : 0.483\n",
            "[2.0]     [2.0]\n",
            "At step  0  and at epoch =  27  the loss is =  0.007780944928526878  and accuracy is =  0.5306\n",
            "epoch =27\n",
            "Validation Loss: 0.02508731000125408 Validation Accuracy : 0.503\n",
            "[2.0]     [2.0]\n",
            "At step  0  and at epoch =  28  the loss is =  0.011826911941170692  and accuracy is =  0.54\n",
            "epoch =28\n",
            "Validation Loss: 0.038408104330301285 Validation Accuracy : 0.326\n",
            "[2.0]     [2.0]\n",
            "At step  0  and at epoch =  29  the loss is =  0.010688173584640026  and accuracy is =  0.5052\n",
            "epoch =29\n",
            "Validation Loss: 0.026624925434589386 Validation Accuracy : 0.455\n",
            "[2.0]     [2.0]\n",
            "At step  0  and at epoch =  30  the loss is =  0.010323066264390945  and accuracy is =  0.5356\n",
            "epoch =30\n",
            "Validation Loss: 0.025281131267547607 Validation Accuracy : 0.491\n",
            "[2.0]     [2.0]\n",
            "At step  0  and at epoch =  31  the loss is =  0.01328522153198719  and accuracy is =  0.5456\n",
            "epoch =31\n",
            "Validation Loss: 0.0375853031873703 Validation Accuracy : 0.289\n",
            "[2.0]     [2.0]\n",
            "At step  0  and at epoch =  32  the loss is =  0.007295662071555853  and accuracy is =  0.5306\n",
            "epoch =32\n",
            "Validation Loss: 0.02348998934030533 Validation Accuracy : 0.513\n",
            "[2.0]     [2.0]\n",
            "At step  0  and at epoch =  33  the loss is =  0.0060173640958964825  and accuracy is =  0.5648\n",
            "epoch =33\n",
            "Validation Loss: 0.02387719601392746 Validation Accuracy : 0.518\n",
            "[2.0]     [2.0]\n",
            "At step  0  and at epoch =  34  the loss is =  0.006269631441682577  and accuracy is =  0.5688\n",
            "epoch =34\n",
            "Validation Loss: 0.02342160791158676 Validation Accuracy : 0.529\n",
            "[2.0]     [2.0]\n",
            "At step  0  and at epoch =  35  the loss is =  0.005933054722845554  and accuracy is =  0.5886\n",
            "epoch =35\n",
            "Validation Loss: 0.023986833170056343 Validation Accuracy : 0.502\n",
            "[2.0]     [2.0]\n",
            "At step  0  and at epoch =  36  the loss is =  0.007400978822261095  and accuracy is =  0.578\n",
            "epoch =36\n",
            "Validation Loss: 0.025405464693903923 Validation Accuracy : 0.494\n",
            "[2.0]     [2.0]\n",
            "At step  0  and at epoch =  37  the loss is =  0.014333151280879974  and accuracy is =  0.5998\n",
            "epoch =37\n",
            "Validation Loss: 0.03844901919364929 Validation Accuracy : 0.326\n",
            "[2.0]     [2.0]\n",
            "At step  0  and at epoch =  38  the loss is =  0.006127134431153536  and accuracy is =  0.5686\n",
            "epoch =38\n",
            "Validation Loss: 0.023431070148944855 Validation Accuracy : 0.551\n",
            "[2.0]     [2.0]\n",
            "At step  0  and at epoch =  39  the loss is =  0.004696320276707411  and accuracy is =  0.6094\n",
            "epoch =39\n",
            "Validation Loss: 0.02318491041660309 Validation Accuracy : 0.534\n",
            "[2.0]     [2.0]\n",
            "At step  0  and at epoch =  40  the loss is =  0.0056842840276658535  and accuracy is =  0.603\n",
            "epoch =40\n",
            "Validation Loss: 0.02179780602455139 Validation Accuracy : 0.56\n",
            "[2.0]     [2.0]\n",
            "At step  0  and at epoch =  41  the loss is =  0.005920196417719126  and accuracy is =  0.6208\n",
            "epoch =41\n",
            "Validation Loss: 0.02399056777358055 Validation Accuracy : 0.531\n",
            "[2.0]     [2.0]\n",
            "At step  0  and at epoch =  42  the loss is =  0.004753023851662874  and accuracy is =  0.6172\n",
            "epoch =42\n",
            "Validation Loss: 0.024269970133900642 Validation Accuracy : 0.547\n",
            "[2.0]     [2.0]\n",
            "At step  0  and at epoch =  43  the loss is =  0.004009478725492954  and accuracy is =  0.6198\n",
            "epoch =43\n",
            "Validation Loss: 0.021664239466190338 Validation Accuracy : 0.565\n",
            "[2.0]     [2.0]\n",
            "At step  0  and at epoch =  44  the loss is =  0.0037509475369006395  and accuracy is =  0.6422\n",
            "epoch =44\n",
            "Validation Loss: 0.023069029673933983 Validation Accuracy : 0.565\n",
            "[2.0]     [2.0]\n",
            "At step  0  and at epoch =  45  the loss is =  0.0037363069131970406  and accuracy is =  0.6348\n",
            "epoch =45\n",
            "Validation Loss: 0.022475715726614 Validation Accuracy : 0.555\n",
            "[2.0]     [2.0]\n",
            "At step  0  and at epoch =  46  the loss is =  0.005824717227369547  and accuracy is =  0.639\n",
            "epoch =46\n",
            "Validation Loss: 0.024124570190906525 Validation Accuracy : 0.509\n",
            "[2.0]     [2.0]\n",
            "At step  0  and at epoch =  47  the loss is =  0.003839056473225355  and accuracy is =  0.6302\n",
            "epoch =47\n",
            "Validation Loss: 0.023732326924800873 Validation Accuracy : 0.548\n",
            "[0.08000000000000002]     [0.4]\n",
            "At step  0  and at epoch =  48  the loss is =  0.0020907989237457514  and accuracy is =  0.7176\n",
            "epoch =48\n",
            "Validation Loss: 0.01802816055715084 Validation Accuracy : 0.629\n",
            "[0.4]     [0.4]\n",
            "At step  0  and at epoch =  49  the loss is =  0.002017530845478177  and accuracy is =  0.738\n",
            "epoch =49\n",
            "Validation Loss: 0.01783936657011509 Validation Accuracy : 0.636\n",
            "[0.4]     [0.4]\n",
            "At step  0  and at epoch =  50  the loss is =  0.0018880597781389952  and accuracy is =  0.7436\n",
            "epoch =50\n",
            "Validation Loss: 0.017746610566973686 Validation Accuracy : 0.635\n",
            "[0.4]     [0.4]\n",
            "At step  0  and at epoch =  51  the loss is =  0.0017816585022956133  and accuracy is =  0.7458\n",
            "epoch =51\n",
            "Validation Loss: 0.017736094072461128 Validation Accuracy : 0.635\n",
            "[0.4]     [0.4]\n",
            "At step  0  and at epoch =  52  the loss is =  0.0016427567461505532  and accuracy is =  0.7522\n",
            "epoch =52\n",
            "Validation Loss: 0.01772279292345047 Validation Accuracy : 0.638\n",
            "[0.4]     [0.4]\n",
            "At step  0  and at epoch =  53  the loss is =  0.0015558602754026651  and accuracy is =  0.7564\n",
            "epoch =53\n",
            "Validation Loss: 0.017743229866027832 Validation Accuracy : 0.641\n",
            "[0.4]     [0.4]\n",
            "At step  0  and at epoch =  54  the loss is =  0.0014849698636680841  and accuracy is =  0.7606\n",
            "epoch =54\n",
            "Validation Loss: 0.017729856073856354 Validation Accuracy : 0.641\n",
            "[0.4]     [0.4]\n",
            "At step  0  and at epoch =  55  the loss is =  0.0014225037302821875  and accuracy is =  0.7664\n",
            "epoch =55\n",
            "Validation Loss: 0.017751391977071762 Validation Accuracy : 0.643\n",
            "[0.4]     [0.4]\n",
            "At step  0  and at epoch =  56  the loss is =  0.0013429939281195402  and accuracy is =  0.77\n",
            "epoch =56\n",
            "Validation Loss: 0.017725888639688492 Validation Accuracy : 0.644\n",
            "[0.4]     [0.4]\n",
            "At step  0  and at epoch =  57  the loss is =  0.0012909391662105918  and accuracy is =  0.7748\n",
            "epoch =57\n",
            "Validation Loss: 0.017763454467058182 Validation Accuracy : 0.642\n",
            "[0.4]     [0.4]\n",
            "At step  0  and at epoch =  58  the loss is =  0.0012368833413347602  and accuracy is =  0.7792\n",
            "epoch =58\n",
            "Validation Loss: 0.01780657283961773 Validation Accuracy : 0.643\n",
            "[0.4]     [0.4]\n",
            "At step  0  and at epoch =  59  the loss is =  0.001158165861852467  and accuracy is =  0.7814\n",
            "epoch =59\n",
            "Validation Loss: 0.017870426177978516 Validation Accuracy : 0.641\n",
            "[0.4]     [0.4]\n",
            "At step  0  and at epoch =  60  the loss is =  0.0011132119689136744  and accuracy is =  0.7862\n",
            "epoch =60\n",
            "Validation Loss: 0.017938794568181038 Validation Accuracy : 0.642\n",
            "[0.4]     [0.4]\n",
            "At step  0  and at epoch =  61  the loss is =  0.0010631781769916415  and accuracy is =  0.7902\n",
            "epoch =61\n",
            "Validation Loss: 0.017955102026462555 Validation Accuracy : 0.641\n",
            "[0.016000000000000004]     [0.08000000000000002]\n",
            "At step  0  and at epoch =  62  the loss is =  0.0013751635560765862  and accuracy is =  0.7918\n",
            "epoch =62\n",
            "Validation Loss: 0.01695822738111019 Validation Accuracy : 0.659\n",
            "[0.08000000000000002]     [0.08000000000000002]\n",
            "At step  0  and at epoch =  63  the loss is =  0.0014098584651947021  and accuracy is =  0.7976\n",
            "epoch =63\n",
            "Validation Loss: 0.016904866322875023 Validation Accuracy : 0.657\n",
            "[0.08000000000000002]     [0.08000000000000002]\n",
            "At step  0  and at epoch =  64  the loss is =  0.0014065528521314263  and accuracy is =  0.7984\n",
            "epoch =64\n",
            "Validation Loss: 0.016880320385098457 Validation Accuracy : 0.658\n",
            "[0.08000000000000002]     [0.08000000000000002]\n",
            "At step  0  and at epoch =  65  the loss is =  0.0013833543052896857  and accuracy is =  0.7994\n",
            "epoch =65\n",
            "Validation Loss: 0.016879189759492874 Validation Accuracy : 0.659\n",
            "[0.08000000000000002]     [0.08000000000000002]\n",
            "At step  0  and at epoch =  66  the loss is =  0.001370132784359157  and accuracy is =  0.8004\n",
            "epoch =66\n",
            "Validation Loss: 0.016873888671398163 Validation Accuracy : 0.659\n",
            "[0.08000000000000002]     [0.08000000000000002]\n",
            "At step  0  and at epoch =  67  the loss is =  0.0013541266089305282  and accuracy is =  0.8018\n",
            "epoch =67\n",
            "Validation Loss: 0.016873223707079887 Validation Accuracy : 0.659\n",
            "[0.08000000000000002]     [0.08000000000000002]\n",
            "At step  0  and at epoch =  68  the loss is =  0.0013398327864706516  and accuracy is =  0.8028\n",
            "epoch =68\n",
            "Validation Loss: 0.016869356855750084 Validation Accuracy : 0.659\n",
            "[0.08000000000000002]     [0.08000000000000002]\n",
            "At step  0  and at epoch =  69  the loss is =  0.0013251486234366894  and accuracy is =  0.804\n",
            "epoch =69\n",
            "Validation Loss: 0.016868004575371742 Validation Accuracy : 0.658\n"
          ],
          "name": "stdout"
        },
        {
          "output_type": "display_data",
          "data": {
            "image/png": "[encoded data removed]",
            "text/plain": [
              "<Figure size 432x288 with 1 Axes>"
            ]
          },
          "metadata": {
            "tags": [],
            "needs_background": "light"
          }
        },
        {
          "output_type": "display_data",
          "data": {
            "image/png": "[encoded data removed]",
            "text/plain": [
              "<Figure size 432x288 with 1 Axes>"
            ]
          },
          "metadata": {
            "tags": [],
            "needs_background": "light"
          }
        },
        {
          "output_type": "stream",
          "text": [
            "Task classes 10 to 20\n",
            "[2.0]     [2.0]\n"
          ],
          "name": "stdout"
        },
        {
          "output_type": "stream",
          "text": [
            "/usr/local/lib/python3.6/dist-packages/torch/optim/lr_scheduler.py:123: UserWarning: Detected call of `lr_scheduler.step()` before `optimizer.step()`. In PyTorch 1.1.0 and later, you should call them in the opposite order: `optimizer.step()` before `lr_scheduler.step()`.  Failure to do this will result in PyTorch skipping the first value of the learning rate schedule. See more details at https://pytorch.org/docs/stable/optim.html#how-to-adjust-learning-rate\n",
            "  \"https://pytorch.org/docs/stable/optim.html#how-to-adjust-learning-rate\", UserWarning)\n",
            "/usr/local/lib/python3.6/dist-packages/torch/optim/lr_scheduler.py:396: UserWarning: To get the last learning rate computed by the scheduler, please use `get_last_lr()`.\n",
            "  \"please use `get_last_lr()`.\", UserWarning)\n"
          ],
          "name": "stderr"
        },
        {
          "output_type": "stream",
          "text": [
            "At step  10  and at epoch =  0  the loss is =  0.03422103449702263  and accuracy is =  0.161\n",
            "epoch =0\n",
            "Validation Loss: 0.03141219541430473 Validation Accuracy : 0.1025\n",
            "[2.0]     [2.0]\n",
            "At step  10  and at epoch =  1  the loss is =  0.03220921382308006  and accuracy is =  0.2748\n",
            "epoch =1\n",
            "Validation Loss: 0.03879709914326668 Validation Accuracy : 0.073\n",
            "[2.0]     [2.0]\n",
            "At step  10  and at epoch =  2  the loss is =  0.02407338097691536  and accuracy is =  0.2862\n",
            "epoch =2\n",
            "Validation Loss: 0.03879100829362869 Validation Accuracy : 0.0905\n",
            "[2.0]     [2.0]\n",
            "At step  10  and at epoch =  3  the loss is =  0.024298926815390587  and accuracy is =  0.319\n",
            "epoch =3\n",
            "Validation Loss: 0.04091411828994751 Validation Accuracy : 0.0925\n",
            "[2.0]     [2.0]\n",
            "At step  10  and at epoch =  4  the loss is =  0.0199564378708601  and accuracy is =  0.371\n",
            "epoch =4\n",
            "Validation Loss: 0.032054588198661804 Validation Accuracy : 0.1305\n",
            "[2.0]     [2.0]\n",
            "At step  10  and at epoch =  5  the loss is =  0.018227113410830498  and accuracy is =  0.3748\n",
            "epoch =5\n",
            "Validation Loss: 0.031308967620134354 Validation Accuracy : 0.1335\n",
            "[2.0]     [2.0]\n",
            "At step  10  and at epoch =  6  the loss is =  0.015916479751467705  and accuracy is =  0.4076\n",
            "epoch =6\n",
            "Validation Loss: 0.02828121744096279 Validation Accuracy : 0.1525\n",
            "[2.0]     [2.0]\n",
            "At step  10  and at epoch =  7  the loss is =  0.014998688362538815  and accuracy is =  0.423\n",
            "epoch =7\n",
            "Validation Loss: 0.02741185948252678 Validation Accuracy : 0.165\n",
            "[2.0]     [2.0]\n",
            "At step  10  and at epoch =  8  the loss is =  0.012081801891326904  and accuracy is =  0.4374\n",
            "epoch =8\n",
            "Validation Loss: 0.029154622927308083 Validation Accuracy : 0.159\n",
            "[2.0]     [2.0]\n",
            "At step  10  and at epoch =  9  the loss is =  0.011441637761890888  and accuracy is =  0.4408\n",
            "epoch =9\n",
            "Validation Loss: 0.03291287273168564 Validation Accuracy : 0.137\n",
            "[2.0]     [2.0]\n",
            "At step  10  and at epoch =  10  the loss is =  0.010398860089480877  and accuracy is =  0.455\n",
            "epoch =10\n",
            "Validation Loss: 0.0260873194783926 Validation Accuracy : 0.165\n",
            "[2.0]     [2.0]\n",
            "At step  10  and at epoch =  11  the loss is =  0.009154281578958035  and accuracy is =  0.4634\n",
            "epoch =11\n",
            "Validation Loss: 0.02499464526772499 Validation Accuracy : 0.17\n",
            "[2.0]     [2.0]\n",
            "At step  10  and at epoch =  12  the loss is =  0.007382404524832964  and accuracy is =  0.4814\n",
            "epoch =12\n",
            "Validation Loss: 0.02521050162613392 Validation Accuracy : 0.1845\n",
            "[2.0]     [2.0]\n",
            "At step  10  and at epoch =  13  the loss is =  0.007897941395640373  and accuracy is =  0.489\n",
            "epoch =13\n",
            "Validation Loss: 0.024735787883400917 Validation Accuracy : 0.194\n",
            "[2.0]     [2.0]\n",
            "At step  10  and at epoch =  14  the loss is =  0.00801103375852108  and accuracy is =  0.485\n",
            "epoch =14\n",
            "Validation Loss: 0.02625204622745514 Validation Accuracy : 0.1775\n",
            "[2.0]     [2.0]\n",
            "At step  10  and at epoch =  15  the loss is =  0.006904452107846737  and accuracy is =  0.4978\n",
            "epoch =15\n",
            "Validation Loss: 0.021565338596701622 Validation Accuracy : 0.2155\n",
            "[2.0]     [2.0]\n",
            "At step  10  and at epoch =  16  the loss is =  0.00967648159712553  and accuracy is =  0.5152\n",
            "epoch =16\n",
            "Validation Loss: 0.0318036824464798 Validation Accuracy : 0.138\n",
            "[2.0]     [2.0]\n",
            "At step  10  and at epoch =  17  the loss is =  0.004717794246971607  and accuracy is =  0.4792\n",
            "epoch =17\n",
            "Validation Loss: 0.019307374954223633 Validation Accuracy : 0.255\n",
            "[2.0]     [2.0]\n",
            "At step  10  and at epoch =  18  the loss is =  0.007100025191903114  and accuracy is =  0.5378\n",
            "epoch =18\n",
            "Validation Loss: 0.03222864866256714 Validation Accuracy : 0.1545\n",
            "[2.0]     [2.0]\n",
            "At step  10  and at epoch =  19  the loss is =  0.007736390456557274  and accuracy is =  0.431\n",
            "epoch =19\n",
            "Validation Loss: 0.022957108914852142 Validation Accuracy : 0.2015\n",
            "[2.0]     [2.0]\n",
            "At step  10  and at epoch =  20  the loss is =  0.009479204192757607  and accuracy is =  0.5006\n",
            "epoch =20\n",
            "Validation Loss: 0.024992406368255615 Validation Accuracy : 0.1875\n",
            "[2.0]     [2.0]\n",
            "At step  10  and at epoch =  21  the loss is =  0.005361133720725775  and accuracy is =  0.5168\n",
            "epoch =21\n",
            "Validation Loss: 0.019671471789479256 Validation Accuracy : 0.2405\n",
            "[2.0]     [2.0]\n",
            "At step  10  and at epoch =  22  the loss is =  0.006637043785303831  and accuracy is =  0.5388\n",
            "epoch =22\n",
            "Validation Loss: 0.02085205912590027 Validation Accuracy : 0.2255\n",
            "[2.0]     [2.0]\n",
            "At step  10  and at epoch =  23  the loss is =  0.0035115794744342566  and accuracy is =  0.56\n",
            "epoch =23\n",
            "Validation Loss: 0.018333710730075836 Validation Accuracy : 0.2615\n",
            "[2.0]     [2.0]\n",
            "At step  10  and at epoch =  24  the loss is =  0.006997511722147465  and accuracy is =  0.5644\n",
            "epoch =24\n",
            "Validation Loss: 0.026522736996412277 Validation Accuracy : 0.1905\n",
            "[2.0]     [2.0]\n",
            "At step  10  and at epoch =  25  the loss is =  0.0037812688387930393  and accuracy is =  0.5642\n",
            "epoch =25\n",
            "Validation Loss: 0.020721012726426125 Validation Accuracy : 0.2355\n",
            "[2.0]     [2.0]\n"
          ],
          "name": "stdout"
        }
      ]
    }
  ]
}