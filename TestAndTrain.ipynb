{
  "nbformat": 4,
  "nbformat_minor": 0,
  "metadata": {
    "colab": {
      "name": "ResNet.ipynb",
      "provenance": [],
      "collapsed_sections": [],
      "toc_visible": true,
      "include_colab_link": true
    },
    "kernelspec": {
      "name": "python3",
      "display_name": "Python 3"
    },
    "accelerator": "GPU",
    "widgets": {
      "application/vnd.jupyter.widget-state+json": {
        "e10de72225e54c0185ea445b55e9cd73": {
          "model_module": "@jupyter-widgets/controls",
          "model_name": "HBoxModel",
          "state": {
            "_view_name": "HBoxView",
            "_dom_classes": [],
            "_model_name": "HBoxModel",
            "_view_module": "@jupyter-widgets/controls",
            "_model_module_version": "1.5.0",
            "_view_count": null,
            "_view_module_version": "1.5.0",
            "box_style": "",
            "layout": "IPY_MODEL_b22f690c84a7429a9e07d7af3da877d5",
            "_model_module": "@jupyter-widgets/controls",
            "children": [
              "IPY_MODEL_2435aa18ffc04c9d89507029518691ac",
              "IPY_MODEL_d5f4569dcb034da997fa323c870bbffd"
            ]
          }
        },
        "b22f690c84a7429a9e07d7af3da877d5": {
          "model_module": "@jupyter-widgets/base",
          "model_name": "LayoutModel",
          "state": {
            "_view_name": "LayoutView",
            "grid_template_rows": null,
            "right": null,
            "justify_content": null,
            "_view_module": "@jupyter-widgets/base",
            "overflow": null,
            "_model_module_version": "1.2.0",
            "_view_count": null,
            "flex_flow": null,
            "width": null,
            "min_width": null,
            "border": null,
            "align_items": null,
            "bottom": null,
            "_model_module": "@jupyter-widgets/base",
            "top": null,
            "grid_column": null,
            "overflow_y": null,
            "overflow_x": null,
            "grid_auto_flow": null,
            "grid_area": null,
            "grid_template_columns": null,
            "flex": null,
            "_model_name": "LayoutModel",
            "justify_items": null,
            "grid_row": null,
            "max_height": null,
            "align_content": null,
            "visibility": null,
            "align_self": null,
            "height": null,
            "min_height": null,
            "padding": null,
            "grid_auto_rows": null,
            "grid_gap": null,
            "max_width": null,
            "order": null,
            "_view_module_version": "1.2.0",
            "grid_template_areas": null,
            "object_position": null,
            "object_fit": null,
            "grid_auto_columns": null,
            "margin": null,
            "display": null,
            "left": null
          }
        },
        "2435aa18ffc04c9d89507029518691ac": {
          "model_module": "@jupyter-widgets/controls",
          "model_name": "FloatProgressModel",
          "state": {
            "_view_name": "ProgressView",
            "style": "IPY_MODEL_f0df63e027624f9d811449236e17eeed",
            "_dom_classes": [],
            "description": "",
            "_model_name": "FloatProgressModel",
            "bar_style": "info",
            "max": 1,
            "_view_module": "@jupyter-widgets/controls",
            "_model_module_version": "1.5.0",
            "value": 1,
            "_view_count": null,
            "_view_module_version": "1.5.0",
            "orientation": "horizontal",
            "min": 0,
            "description_tooltip": null,
            "_model_module": "@jupyter-widgets/controls",
            "layout": "IPY_MODEL_94358c4a84a44d8690b3fe79b5f0ac00"
          }
        },
        "d5f4569dcb034da997fa323c870bbffd": {
          "model_module": "@jupyter-widgets/controls",
          "model_name": "HTMLModel",
          "state": {
            "_view_name": "HTMLView",
            "style": "IPY_MODEL_2d51d39a9f9e43b591632510b149fa89",
            "_dom_classes": [],
            "description": "",
            "_model_name": "HTMLModel",
            "placeholder": "​",
            "_view_module": "@jupyter-widgets/controls",
            "_model_module_version": "1.5.0",
            "value": " 169009152/? [00:30&lt;00:00, 17333620.64it/s]",
            "_view_count": null,
            "_view_module_version": "1.5.0",
            "description_tooltip": null,
            "_model_module": "@jupyter-widgets/controls",
            "layout": "IPY_MODEL_8a5a878d72184ade9706affe95d6a8d5"
          }
        },
        "f0df63e027624f9d811449236e17eeed": {
          "model_module": "@jupyter-widgets/controls",
          "model_name": "ProgressStyleModel",
          "state": {
            "_view_name": "StyleView",
            "_model_name": "ProgressStyleModel",
            "description_width": "initial",
            "_view_module": "@jupyter-widgets/base",
            "_model_module_version": "1.5.0",
            "_view_count": null,
            "_view_module_version": "1.2.0",
            "bar_color": null,
            "_model_module": "@jupyter-widgets/controls"
          }
        },
        "94358c4a84a44d8690b3fe79b5f0ac00": {
          "model_module": "@jupyter-widgets/base",
          "model_name": "LayoutModel",
          "state": {
            "_view_name": "LayoutView",
            "grid_template_rows": null,
            "right": null,
            "justify_content": null,
            "_view_module": "@jupyter-widgets/base",
            "overflow": null,
            "_model_module_version": "1.2.0",
            "_view_count": null,
            "flex_flow": null,
            "width": null,
            "min_width": null,
            "border": null,
            "align_items": null,
            "bottom": null,
            "_model_module": "@jupyter-widgets/base",
            "top": null,
            "grid_column": null,
            "overflow_y": null,
            "overflow_x": null,
            "grid_auto_flow": null,
            "grid_area": null,
            "grid_template_columns": null,
            "flex": null,
            "_model_name": "LayoutModel",
            "justify_items": null,
            "grid_row": null,
            "max_height": null,
            "align_content": null,
            "visibility": null,
            "align_self": null,
            "height": null,
            "min_height": null,
            "padding": null,
            "grid_auto_rows": null,
            "grid_gap": null,
            "max_width": null,
            "order": null,
            "_view_module_version": "1.2.0",
            "grid_template_areas": null,
            "object_position": null,
            "object_fit": null,
            "grid_auto_columns": null,
            "margin": null,
            "display": null,
            "left": null
          }
        },
        "2d51d39a9f9e43b591632510b149fa89": {
          "model_module": "@jupyter-widgets/controls",
          "model_name": "DescriptionStyleModel",
          "state": {
            "_view_name": "StyleView",
            "_model_name": "DescriptionStyleModel",
            "description_width": "",
            "_view_module": "@jupyter-widgets/base",
            "_model_module_version": "1.5.0",
            "_view_count": null,
            "_view_module_version": "1.2.0",
            "_model_module": "@jupyter-widgets/controls"
          }
        },
        "8a5a878d72184ade9706affe95d6a8d5": {
          "model_module": "@jupyter-widgets/base",
          "model_name": "LayoutModel",
          "state": {
            "_view_name": "LayoutView",
            "grid_template_rows": null,
            "right": null,
            "justify_content": null,
            "_view_module": "@jupyter-widgets/base",
            "overflow": null,
            "_model_module_version": "1.2.0",
            "_view_count": null,
            "flex_flow": null,
            "width": null,
            "min_width": null,
            "border": null,
            "align_items": null,
            "bottom": null,
            "_model_module": "@jupyter-widgets/base",
            "top": null,
            "grid_column": null,
            "overflow_y": null,
            "overflow_x": null,
            "grid_auto_flow": null,
            "grid_area": null,
            "grid_template_columns": null,
            "flex": null,
            "_model_name": "LayoutModel",
            "justify_items": null,
            "grid_row": null,
            "max_height": null,
            "align_content": null,
            "visibility": null,
            "align_self": null,
            "height": null,
            "min_height": null,
            "padding": null,
            "grid_auto_rows": null,
            "grid_gap": null,
            "max_width": null,
            "order": null,
            "_view_module_version": "1.2.0",
            "grid_template_areas": null,
            "object_position": null,
            "object_fit": null,
            "grid_auto_columns": null,
            "margin": null,
            "display": null,
            "left": null
          }
        }
      }
    }
  },
  "cells": [
    {
      "cell_type": "markdown",
      "metadata": {
        "id": "view-in-github",
        "colab_type": "text"
      },
      "source": [
        "<a href=\"https://colab.research.google.com/github/luciainnocenti/IncrementalLearning/blob/Lucia/TestAndTrain.ipynb\" target=\"_parent\"><img src=\"https://colab.research.google.com/assets/colab-badge.svg\" alt=\"Open In Colab\"/></a>"
      ]
    },
    {
      "cell_type": "markdown",
      "metadata": {
        "id": "mbtGDBU3QJaq",
        "colab_type": "text"
      },
      "source": [
        "# Import GitHub repository"
      ]
    },
    {
      "cell_type": "code",
      "metadata": {
        "id": "wf0TmOM3NdFM",
        "colab_type": "code",
        "colab": {}
      },
      "source": [
        "import os\n",
        "import logging\n",
        "import sys\n"
      ],
      "execution_count": 0,
      "outputs": []
    },
    {
      "cell_type": "code",
      "metadata": {
        "id": "8I0pKIVIM2KC",
        "colab_type": "code",
        "outputId": "a5c514c7-8447-4720-aad6-538e549c2fc8",
        "colab": {
          "base_uri": "https://localhost:8080/",
          "height": 141
        }
      },
      "source": [
        "if not os.path.isdir('./DatasetCIFAR'):\n",
        "  !git clone -b Lucia https://github.com/luciainnocenti/IncrementalLearning.git\n",
        "  !mv 'IncrementalLearning' 'DatasetCIFAR'"
      ],
      "execution_count": 2,
      "outputs": [
        {
          "output_type": "stream",
          "text": [
            "Cloning into 'IncrementalLearning'...\n",
            "remote: Enumerating objects: 172, done.\u001b[K\n",
            "remote: Counting objects: 100% (172/172), done.\u001b[K\n",
            "remote: Compressing objects: 100% (164/164), done.\u001b[K\n",
            "remote: Total 309 (delta 107), reused 18 (delta 8), pack-reused 137\u001b[K\n",
            "Receiving objects: 100% (309/309), 225.57 KiB | 426.00 KiB/s, done.\n",
            "Resolving deltas: 100% (183/183), done.\n"
          ],
          "name": "stdout"
        }
      ]
    },
    {
      "cell_type": "markdown",
      "metadata": {
        "id": "aLaS2laafBaG",
        "colab_type": "text"
      },
      "source": [
        "# Import packages"
      ]
    },
    {
      "cell_type": "code",
      "metadata": {
        "id": "liUP5Kc1DMbH",
        "colab_type": "code",
        "colab": {}
      },
      "source": [
        "from DatasetCIFAR.data_set import Dataset \n",
        "from DatasetCIFAR import ResNet\n",
        "from DatasetCIFAR import utils\n",
        "from torchvision import models\n",
        "import torch.nn as nn\n",
        "import torch\n",
        "import torch.optim as optim\n",
        "import torchvision\n",
        "from torchvision import transforms\n",
        "from torch.utils.data import Subset, DataLoader\n",
        "from torch.nn import functional as F"
      ],
      "execution_count": 0,
      "outputs": []
    },
    {
      "cell_type": "markdown",
      "metadata": {
        "id": "gQK7sS-Hed0j",
        "colab_type": "text"
      },
      "source": [
        "# Hyper-Parameters"
      ]
    },
    {
      "cell_type": "code",
      "metadata": {
        "id": "Eote8TwxYkfA",
        "colab_type": "code",
        "colab": {}
      },
      "source": [
        "DEVICE = 'cuda' # 'cuda' or 'cpu'\n",
        "BATCH_SIZE = 128\n",
        "NUM_WORKERS = 100\n",
        "TASK_SIZE = 10\n",
        "\n",
        "NUM_EPOCHS = 70\n",
        "\n",
        "\n",
        "\n",
        "WEIGHT_DECAY = 0.00001\n",
        "LR = 2\n",
        "STEP_SIZE = [49,63]\n",
        "GAMMA = 1/5"
      ],
      "execution_count": 0,
      "outputs": []
    },
    {
      "cell_type": "markdown",
      "metadata": {
        "id": "0_vlqOL7ehLC",
        "colab_type": "text"
      },
      "source": [
        "# Define Network"
      ]
    },
    {
      "cell_type": "code",
      "metadata": {
        "id": "tWttFW3ljoMj",
        "colab_type": "code",
        "colab": {}
      },
      "source": [
        "resNet = ResNet.resnet32(num_classes=100)\n",
        "resNet = resNet.to(DEVICE)"
      ],
      "execution_count": 0,
      "outputs": []
    },
    {
      "cell_type": "code",
      "metadata": {
        "id": "HSmohsyVWFpr",
        "colab_type": "code",
        "colab": {}
      },
      "source": [
        "resnet_transformer = transforms.Compose([transforms.Resize(32), \n",
        "                                      transforms.Normalize((0.5, 0.5, 0.5), (0.5, 0.5, 0.5)) # Normalizes tensor with mean and standard deviation\n",
        "])\n"
      ],
      "execution_count": 0,
      "outputs": []
    },
    {
      "cell_type": "markdown",
      "metadata": {
        "id": "y_cyhIzFej5-",
        "colab_type": "text"
      },
      "source": [
        "# Define DataSets"
      ]
    },
    {
      "cell_type": "code",
      "metadata": {
        "id": "wcBNohmiYBtP",
        "colab_type": "code",
        "outputId": "b7c5b992-39b0-4291-cfe4-289ef33f1a6f",
        "colab": {
          "base_uri": "https://localhost:8080/",
          "height": 102,
          "referenced_widgets": [
            "e10de72225e54c0185ea445b55e9cd73",
            "b22f690c84a7429a9e07d7af3da877d5",
            "2435aa18ffc04c9d89507029518691ac",
            "d5f4569dcb034da997fa323c870bbffd",
            "f0df63e027624f9d811449236e17eeed",
            "94358c4a84a44d8690b3fe79b5f0ac00",
            "2d51d39a9f9e43b591632510b149fa89",
            "8a5a878d72184ade9706affe95d6a8d5"
          ]
        }
      },
      "source": [
        "trainDS = Dataset(train=True, transform = resnet_transformer)\n",
        "testDS = Dataset(train=False, transform = resnet_transformer)"
      ],
      "execution_count": 7,
      "outputs": [
        {
          "output_type": "stream",
          "text": [
            "Downloading https://www.cs.toronto.edu/~kriz/cifar-100-python.tar.gz to data/cifar-100-python.tar.gz\n"
          ],
          "name": "stdout"
        },
        {
          "output_type": "display_data",
          "data": {
            "application/vnd.jupyter.widget-view+json": {
              "model_id": "e10de72225e54c0185ea445b55e9cd73",
              "version_minor": 0,
              "version_major": 2
            },
            "text/plain": [
              "HBox(children=(FloatProgress(value=1.0, bar_style='info', max=1.0), HTML(value='')))"
            ]
          },
          "metadata": {
            "tags": []
          }
        },
        {
          "output_type": "stream",
          "text": [
            "Extracting data/cifar-100-python.tar.gz to data\n",
            "Files already downloaded and verified\n"
          ],
          "name": "stdout"
        }
      ]
    },
    {
      "cell_type": "markdown",
      "metadata": {
        "id": "WgAT2KQEersx",
        "colab_type": "text"
      },
      "source": [
        "# Useful plots"
      ]
    },
    {
      "cell_type": "markdown",
      "metadata": {
        "id": "B1l7flYj4NJh",
        "colab_type": "text"
      },
      "source": [
        "The function plotEpoch plots, at the end of each task, how accuracy and loss change during the training phase. It show\n",
        "\n",
        "*   Validation and Training Accuracy\n",
        "*   Validation and Training Loss\n",
        "\n",
        "The function plotTask, for each task, how the accuracy on the validation set change when adding new tasks\n"
      ]
    },
    {
      "cell_type": "code",
      "metadata": {
        "id": "Gr58kkHiIzZU",
        "colab_type": "code",
        "colab": {}
      },
      "source": [
        "def plotTask(pars_tasks):\n",
        "  import numpy as np\n",
        "  import matplotlib.pyplot as plt\n",
        "\n",
        "  x_tasks =  np.linspace(10, 100, 10)\n",
        "\n",
        "  plt.plot(x_tasks, pars_tasks ,'b', label='Accuracy')\n",
        "  plt.xlabel(\"Epoch\")\n",
        "  plt.title('Accuracy over classes')\n",
        "  plt.legend(['Validation Accuracy'])\n",
        "  plt.grid(True)\n",
        "  plt.show()\n",
        "\n"
      ],
      "execution_count": 0,
      "outputs": []
    },
    {
      "cell_type": "markdown",
      "metadata": {
        "id": "iApKvCs942aS",
        "colab_type": "text"
      },
      "source": [
        "# Train and evaluation phase"
      ]
    },
    {
      "cell_type": "code",
      "metadata": {
        "id": "oJse4JU7d9ck",
        "colab_type": "code",
        "outputId": "4a232e72-81e8-4d66-95e8-313d15512c3d",
        "colab": {
          "base_uri": "https://localhost:8080/",
          "height": 1000
        }
      },
      "source": [
        "pars_tasks = []\n",
        "test_indexes = []\n",
        "\n",
        "for task in range(0, 100, TASK_SIZE):\n",
        "  pars_tasks.insert(task, 0)\n",
        "\n",
        "for task in range(0, 100, TASK_SIZE):\n",
        "\n",
        "  train_indexes = trainDS.__getIndexesGroups__(task)\n",
        "  test_indexes = test_indexes + testDS.__getIndexesGroups__(task)\n",
        "\n",
        "  train_dataset = Subset(trainDS, train_indexes)\n",
        "  test_dataset = Subset(testDS, test_indexes)\n",
        "\n",
        "  train_loader = DataLoader( train_dataset, num_workers=NUM_WORKERS, batch_size=BATCH_SIZE)\n",
        "  test_loader = DataLoader( test_dataset, num_workers=NUM_WORKERS, batch_size=BATCH_SIZE )\n",
        "\n",
        "  if(task == 0):\n",
        "    torch.save(resNet, 'resNet_task{0}.pt'.format(task))\n",
        "  \n",
        "  utils.trainfunction(task, train_loader)\n",
        "  param = utils.evaluationTest(task, test_loader) #evaluate test set at step task\n",
        "  pars_tasks[int(task/10)] = param #pars_task[i] = (accuracy, loss) at i-th task\t\n",
        "\n",
        "#plotTask(pars_tasks)"
      ],
      "execution_count": 0,
      "outputs": [
        {
          "output_type": "stream",
          "text": [
            "task = 0 \n"
          ],
          "name": "stdout"
        },
        {
          "output_type": "stream",
          "text": [
            "/usr/local/lib/python3.6/dist-packages/torch/optim/lr_scheduler.py:123: UserWarning: Detected call of `lr_scheduler.step()` before `optimizer.step()`. In PyTorch 1.1.0 and later, you should call them in the opposite order: `optimizer.step()` before `lr_scheduler.step()`.  Failure to do this will result in PyTorch skipping the first value of the learning rate schedule. See more details at https://pytorch.org/docs/stable/optim.html#how-to-adjust-learning-rate\n",
            "  \"https://pytorch.org/docs/stable/optim.html#how-to-adjust-learning-rate\", UserWarning)\n"
          ],
          "name": "stderr"
        },
        {
          "output_type": "stream",
          "text": [
            "At step  0  and at epoch =  0  the loss is =  0.34438014030456543  and accuracy is =  0.2088\n",
            "At step  0  and at epoch =  1  the loss is =  0.2957240641117096  and accuracy is =  0.2912\n",
            "At step  0  and at epoch =  2  the loss is =  0.27106770873069763  and accuracy is =  0.325\n",
            "At step  0  and at epoch =  3  the loss is =  0.20563125610351562  and accuracy is =  0.385\n",
            "At step  0  and at epoch =  4  the loss is =  0.15918295085430145  and accuracy is =  0.4452\n",
            "At step  0  and at epoch =  5  the loss is =  0.13048866391181946  and accuracy is =  0.4772\n",
            "At step  0  and at epoch =  6  the loss is =  0.10878574103116989  and accuracy is =  0.5146\n",
            "At step  0  and at epoch =  7  the loss is =  0.09601929038763046  and accuracy is =  0.5436\n",
            "At step  0  and at epoch =  8  the loss is =  0.07327108830213547  and accuracy is =  0.5724\n",
            "At step  0  and at epoch =  9  the loss is =  0.08634968847036362  and accuracy is =  0.6156\n",
            "At step  0  and at epoch =  10  the loss is =  0.04838824272155762  and accuracy is =  0.6348\n",
            "At step  0  and at epoch =  11  the loss is =  0.035835545510053635  and accuracy is =  0.6728\n",
            "At step  0  and at epoch =  12  the loss is =  0.030994225293397903  and accuracy is =  0.694\n",
            "At step  0  and at epoch =  13  the loss is =  0.06473628431558609  and accuracy is =  0.728\n",
            "At step  0  and at epoch =  14  the loss is =  0.03906602784991264  and accuracy is =  0.7328\n",
            "At step  0  and at epoch =  15  the loss is =  0.02148030512034893  and accuracy is =  0.7818\n",
            "At step  0  and at epoch =  16  the loss is =  0.027197379618883133  and accuracy is =  0.8014\n",
            "At step  0  and at epoch =  17  the loss is =  0.03248363360762596  and accuracy is =  0.8408\n",
            "At step  0  and at epoch =  18  the loss is =  0.02365168370306492  and accuracy is =  0.8368\n",
            "At step  0  and at epoch =  19  the loss is =  0.008682578802108765  and accuracy is =  0.8618\n",
            "At step  0  and at epoch =  20  the loss is =  0.005961693823337555  and accuracy is =  0.8948\n",
            "At step  0  and at epoch =  21  the loss is =  0.002290392527356744  and accuracy is =  0.937\n",
            "At step  0  and at epoch =  22  the loss is =  0.006099306046962738  and accuracy is =  0.927\n",
            "At step  0  and at epoch =  23  the loss is =  0.016585994511842728  and accuracy is =  0.9252\n",
            "At step  0  and at epoch =  24  the loss is =  0.008209511637687683  and accuracy is =  0.889\n",
            "At step  0  and at epoch =  25  the loss is =  0.003671372076496482  and accuracy is =  0.9822\n",
            "At step  0  and at epoch =  26  the loss is =  0.0018228121334686875  and accuracy is =  0.996\n",
            "At step  0  and at epoch =  27  the loss is =  0.0008126790053211153  and accuracy is =  0.9992\n",
            "At step  0  and at epoch =  28  the loss is =  0.0005701735499314964  and accuracy is =  0.9998\n",
            "At step  0  and at epoch =  29  the loss is =  0.00044321324094198644  and accuracy is =  1.0\n",
            "At step  0  and at epoch =  30  the loss is =  0.00037888530641794205  and accuracy is =  1.0\n",
            "At step  0  and at epoch =  31  the loss is =  0.0003326965670567006  and accuracy is =  1.0\n",
            "At step  0  and at epoch =  32  the loss is =  0.00029818457551300526  and accuracy is =  1.0\n",
            "At step  0  and at epoch =  33  the loss is =  0.0002707889361772686  and accuracy is =  1.0\n",
            "At step  0  and at epoch =  34  the loss is =  0.000248355558142066  and accuracy is =  1.0\n",
            "At step  0  and at epoch =  35  the loss is =  0.00022979509958531708  and accuracy is =  1.0\n",
            "At step  0  and at epoch =  36  the loss is =  0.0002140575525118038  and accuracy is =  1.0\n",
            "At step  0  and at epoch =  37  the loss is =  0.0002004422276513651  and accuracy is =  1.0\n",
            "At step  0  and at epoch =  38  the loss is =  0.00018862936121877283  and accuracy is =  1.0\n",
            "At step  0  and at epoch =  39  the loss is =  0.00017816817853599787  and accuracy is =  1.0\n",
            "At step  0  and at epoch =  40  the loss is =  0.0001688234624452889  and accuracy is =  1.0\n",
            "At step  0  and at epoch =  41  the loss is =  0.0001604181743459776  and accuracy is =  1.0\n",
            "At step  0  and at epoch =  42  the loss is =  0.0001529240544186905  and accuracy is =  1.0\n",
            "At step  0  and at epoch =  43  the loss is =  0.00014613712846767157  and accuracy is =  1.0\n",
            "At step  0  and at epoch =  44  the loss is =  0.0001398981548845768  and accuracy is =  1.0\n",
            "At step  0  and at epoch =  45  the loss is =  0.0001342130999546498  and accuracy is =  1.0\n",
            "At step  0  and at epoch =  46  the loss is =  0.00012899709690827876  and accuracy is =  1.0\n",
            "At step  0  and at epoch =  47  the loss is =  0.0001242054859176278  and accuracy is =  1.0\n",
            "At step  0  and at epoch =  48  the loss is =  0.00012104509369237348  and accuracy is =  1.0\n",
            "At step  0  and at epoch =  49  the loss is =  0.00012024968600599095  and accuracy is =  1.0\n",
            "At step  0  and at epoch =  50  the loss is =  0.00011945427831960842  and accuracy is =  1.0\n",
            "At step  0  and at epoch =  51  the loss is =  0.00011864991392940283  and accuracy is =  1.0\n",
            "At step  0  and at epoch =  52  the loss is =  0.00011786641698563471  and accuracy is =  1.0\n",
            "At step  0  and at epoch =  53  the loss is =  0.00011708441161317751  and accuracy is =  1.0\n",
            "At step  0  and at epoch =  54  the loss is =  0.00011629942309809849  and accuracy is =  1.0\n",
            "At step  0  and at epoch =  55  the loss is =  0.00011552336945896968  and accuracy is =  1.0\n",
            "At step  0  and at epoch =  56  the loss is =  0.00011476073268568143  and accuracy is =  1.0\n",
            "At step  0  and at epoch =  57  the loss is =  0.00011400254879845306  and accuracy is =  1.0\n",
            "At step  0  and at epoch =  58  the loss is =  0.00011324734805384651  and accuracy is =  1.0\n",
            "At step  0  and at epoch =  59  the loss is =  0.00011251001706114039  and accuracy is =  1.0\n",
            "At step  0  and at epoch =  60  the loss is =  0.0001117712163249962  and accuracy is =  1.0\n",
            "At step  0  and at epoch =  61  the loss is =  0.0001110532321035862  and accuracy is =  1.0\n",
            "At step  0  and at epoch =  62  the loss is =  0.00011053789785364643  and accuracy is =  1.0\n",
            "At step  0  and at epoch =  63  the loss is =  0.00011039490345865488  and accuracy is =  1.0\n",
            "At step  0  and at epoch =  64  the loss is =  0.00011025190178770572  and accuracy is =  1.0\n",
            "At step  0  and at epoch =  65  the loss is =  0.00011011634342139587  and accuracy is =  1.0\n",
            "At step  0  and at epoch =  66  the loss is =  0.00010997780918842182  and accuracy is =  1.0\n",
            "At step  0  and at epoch =  67  the loss is =  0.0001098318534786813  and accuracy is =  1.0\n",
            "At step  0  and at epoch =  68  the loss is =  0.00010970374569296837  and accuracy is =  1.0\n",
            "At step  0  and at epoch =  69  the loss is =  0.00010956371988868341  and accuracy is =  1.0\n",
            "Validation Loss: 0.2483752965927124 Validation Accuracy : 0.672\n",
            "task = 10 \n",
            "At step  10  and at epoch =  0  the loss is =  0.2091394066810608  and accuracy is =  0.279\n",
            "At step  10  and at epoch =  1  the loss is =  0.24525171518325806  and accuracy is =  0.3854\n",
            "At step  10  and at epoch =  2  the loss is =  0.16675008833408356  and accuracy is =  0.4586\n"
          ],
          "name": "stdout"
        }
      ]
    }
  ]
}