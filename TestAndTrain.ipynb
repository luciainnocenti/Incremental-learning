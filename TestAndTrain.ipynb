{
  "nbformat": 4,
  "nbformat_minor": 0,
  "metadata": {
    "colab": {
      "name": "ResNet.ipynb",
      "provenance": [],
      "collapsed_sections": [],
      "toc_visible": true,
      "include_colab_link": true
    },
    "kernelspec": {
      "name": "python3",
      "display_name": "Python 3"
    },
    "accelerator": "GPU",
    "widgets": {
      "application/vnd.jupyter.widget-state+json": {
        "c59c65a1ba8c43be8d296b8ee161e62b": {
          "model_module": "@jupyter-widgets/controls",
          "model_name": "HBoxModel",
          "state": {
            "_view_name": "HBoxView",
            "_dom_classes": [],
            "_model_name": "HBoxModel",
            "_view_module": "@jupyter-widgets/controls",
            "_model_module_version": "1.5.0",
            "_view_count": null,
            "_view_module_version": "1.5.0",
            "box_style": "",
            "layout": "IPY_MODEL_b32c6caa21654047bda1d5411d86b66a",
            "_model_module": "@jupyter-widgets/controls",
            "children": [
              "IPY_MODEL_a7552fdb667249d9a308b0a05cf1c47b",
              "IPY_MODEL_7febe9a55a824d0093da3d3895707e4b"
            ]
          }
        },
        "b32c6caa21654047bda1d5411d86b66a": {
          "model_module": "@jupyter-widgets/base",
          "model_name": "LayoutModel",
          "state": {
            "_view_name": "LayoutView",
            "grid_template_rows": null,
            "right": null,
            "justify_content": null,
            "_view_module": "@jupyter-widgets/base",
            "overflow": null,
            "_model_module_version": "1.2.0",
            "_view_count": null,
            "flex_flow": null,
            "width": null,
            "min_width": null,
            "border": null,
            "align_items": null,
            "bottom": null,
            "_model_module": "@jupyter-widgets/base",
            "top": null,
            "grid_column": null,
            "overflow_y": null,
            "overflow_x": null,
            "grid_auto_flow": null,
            "grid_area": null,
            "grid_template_columns": null,
            "flex": null,
            "_model_name": "LayoutModel",
            "justify_items": null,
            "grid_row": null,
            "max_height": null,
            "align_content": null,
            "visibility": null,
            "align_self": null,
            "height": null,
            "min_height": null,
            "padding": null,
            "grid_auto_rows": null,
            "grid_gap": null,
            "max_width": null,
            "order": null,
            "_view_module_version": "1.2.0",
            "grid_template_areas": null,
            "object_position": null,
            "object_fit": null,
            "grid_auto_columns": null,
            "margin": null,
            "display": null,
            "left": null
          }
        },
        "a7552fdb667249d9a308b0a05cf1c47b": {
          "model_module": "@jupyter-widgets/controls",
          "model_name": "FloatProgressModel",
          "state": {
            "_view_name": "ProgressView",
            "style": "IPY_MODEL_2b16cb9825314939bd768e7f3d5f3b3c",
            "_dom_classes": [],
            "description": "",
            "_model_name": "FloatProgressModel",
            "bar_style": "success",
            "max": 1,
            "_view_module": "@jupyter-widgets/controls",
            "_model_module_version": "1.5.0",
            "value": 1,
            "_view_count": null,
            "_view_module_version": "1.5.0",
            "orientation": "horizontal",
            "min": 0,
            "description_tooltip": null,
            "_model_module": "@jupyter-widgets/controls",
            "layout": "IPY_MODEL_d34787b7e9f84b8ea90c334d9f49a80c"
          }
        },
        "7febe9a55a824d0093da3d3895707e4b": {
          "model_module": "@jupyter-widgets/controls",
          "model_name": "HTMLModel",
          "state": {
            "_view_name": "HTMLView",
            "style": "IPY_MODEL_2414d1edf4344709a8025ccde43b6092",
            "_dom_classes": [],
            "description": "",
            "_model_name": "HTMLModel",
            "placeholder": "​",
            "_view_module": "@jupyter-widgets/controls",
            "_model_module_version": "1.5.0",
            "value": " 169009152/? [00:09&lt;00:00, 17408441.15it/s]",
            "_view_count": null,
            "_view_module_version": "1.5.0",
            "description_tooltip": null,
            "_model_module": "@jupyter-widgets/controls",
            "layout": "IPY_MODEL_112368b96d2b4c16b36415272ce50084"
          }
        },
        "2b16cb9825314939bd768e7f3d5f3b3c": {
          "model_module": "@jupyter-widgets/controls",
          "model_name": "ProgressStyleModel",
          "state": {
            "_view_name": "StyleView",
            "_model_name": "ProgressStyleModel",
            "description_width": "initial",
            "_view_module": "@jupyter-widgets/base",
            "_model_module_version": "1.5.0",
            "_view_count": null,
            "_view_module_version": "1.2.0",
            "bar_color": null,
            "_model_module": "@jupyter-widgets/controls"
          }
        },
        "d34787b7e9f84b8ea90c334d9f49a80c": {
          "model_module": "@jupyter-widgets/base",
          "model_name": "LayoutModel",
          "state": {
            "_view_name": "LayoutView",
            "grid_template_rows": null,
            "right": null,
            "justify_content": null,
            "_view_module": "@jupyter-widgets/base",
            "overflow": null,
            "_model_module_version": "1.2.0",
            "_view_count": null,
            "flex_flow": null,
            "width": null,
            "min_width": null,
            "border": null,
            "align_items": null,
            "bottom": null,
            "_model_module": "@jupyter-widgets/base",
            "top": null,
            "grid_column": null,
            "overflow_y": null,
            "overflow_x": null,
            "grid_auto_flow": null,
            "grid_area": null,
            "grid_template_columns": null,
            "flex": null,
            "_model_name": "LayoutModel",
            "justify_items": null,
            "grid_row": null,
            "max_height": null,
            "align_content": null,
            "visibility": null,
            "align_self": null,
            "height": null,
            "min_height": null,
            "padding": null,
            "grid_auto_rows": null,
            "grid_gap": null,
            "max_width": null,
            "order": null,
            "_view_module_version": "1.2.0",
            "grid_template_areas": null,
            "object_position": null,
            "object_fit": null,
            "grid_auto_columns": null,
            "margin": null,
            "display": null,
            "left": null
          }
        },
        "2414d1edf4344709a8025ccde43b6092": {
          "model_module": "@jupyter-widgets/controls",
          "model_name": "DescriptionStyleModel",
          "state": {
            "_view_name": "StyleView",
            "_model_name": "DescriptionStyleModel",
            "description_width": "",
            "_view_module": "@jupyter-widgets/base",
            "_model_module_version": "1.5.0",
            "_view_count": null,
            "_view_module_version": "1.2.0",
            "_model_module": "@jupyter-widgets/controls"
          }
        },
        "112368b96d2b4c16b36415272ce50084": {
          "model_module": "@jupyter-widgets/base",
          "model_name": "LayoutModel",
          "state": {
            "_view_name": "LayoutView",
            "grid_template_rows": null,
            "right": null,
            "justify_content": null,
            "_view_module": "@jupyter-widgets/base",
            "overflow": null,
            "_model_module_version": "1.2.0",
            "_view_count": null,
            "flex_flow": null,
            "width": null,
            "min_width": null,
            "border": null,
            "align_items": null,
            "bottom": null,
            "_model_module": "@jupyter-widgets/base",
            "top": null,
            "grid_column": null,
            "overflow_y": null,
            "overflow_x": null,
            "grid_auto_flow": null,
            "grid_area": null,
            "grid_template_columns": null,
            "flex": null,
            "_model_name": "LayoutModel",
            "justify_items": null,
            "grid_row": null,
            "max_height": null,
            "align_content": null,
            "visibility": null,
            "align_self": null,
            "height": null,
            "min_height": null,
            "padding": null,
            "grid_auto_rows": null,
            "grid_gap": null,
            "max_width": null,
            "order": null,
            "_view_module_version": "1.2.0",
            "grid_template_areas": null,
            "object_position": null,
            "object_fit": null,
            "grid_auto_columns": null,
            "margin": null,
            "display": null,
            "left": null
          }
        }
      }
    }
  },
  "cells": [
    {
      "cell_type": "markdown",
      "metadata": {
        "id": "view-in-github",
        "colab_type": "text"
      },
      "source": [
        "<a href=\"https://colab.research.google.com/github/luciainnocenti/IncrementalLearning/blob/Lucia/TestAndTrain.ipynb\" target=\"_parent\"><img src=\"https://colab.research.google.com/assets/colab-badge.svg\" alt=\"Open In Colab\"/></a>"
      ]
    },
    {
      "cell_type": "markdown",
      "metadata": {
        "id": "mbtGDBU3QJaq",
        "colab_type": "text"
      },
      "source": [
        "# Import GitHub repository"
      ]
    },
    {
      "cell_type": "code",
      "metadata": {
        "id": "wf0TmOM3NdFM",
        "colab_type": "code",
        "colab": {}
      },
      "source": [
        "import os\n",
        "import logging\n",
        "import sys\n"
      ],
      "execution_count": 0,
      "outputs": []
    },
    {
      "cell_type": "code",
      "metadata": {
        "id": "8I0pKIVIM2KC",
        "colab_type": "code",
        "colab": {
          "base_uri": "https://localhost:8080/",
          "height": 141
        },
        "outputId": "de9ee6f2-2d1c-453a-db90-2c27b82719e6"
      },
      "source": [
        "if not os.path.isdir('./DatasetCIFAR'):\n",
        "  !git clone -b Lucia https://github.com/luciainnocenti/IncrementalLearning.git\n",
        "  !mv 'IncrementalLearning' 'DatasetCIFAR'"
      ],
      "execution_count": 2,
      "outputs": [
        {
          "output_type": "stream",
          "text": [
            "Cloning into 'IncrementalLearning'...\n",
            "remote: Enumerating objects: 91, done.\u001b[K\n",
            "remote: Counting objects: 100% (91/91), done.\u001b[K\n",
            "remote: Compressing objects: 100% (83/83), done.\u001b[K\n",
            "remote: Total 228 (delta 53), reused 18 (delta 8), pack-reused 137\u001b[K\n",
            "Receiving objects: 100% (228/228), 181.98 KiB | 1.00 MiB/s, done.\n",
            "Resolving deltas: 100% (129/129), done.\n"
          ],
          "name": "stdout"
        }
      ]
    },
    {
      "cell_type": "markdown",
      "metadata": {
        "id": "aLaS2laafBaG",
        "colab_type": "text"
      },
      "source": [
        "# Import packages"
      ]
    },
    {
      "cell_type": "code",
      "metadata": {
        "id": "liUP5Kc1DMbH",
        "colab_type": "code",
        "colab": {}
      },
      "source": [
        "from DatasetCIFAR.data_set import Dataset \n",
        "from DatasetCIFAR import ResNet\n",
        "from DatasetCIFAR import utils\n",
        "from torchvision import models\n",
        "import torch.nn as nn\n",
        "import torch\n",
        "import torch.optim as optim\n",
        "import torchvision\n",
        "from torchvision import transforms\n",
        "from torch.utils.data import Subset, DataLoader\n",
        "from torch.nn import functional as F"
      ],
      "execution_count": 0,
      "outputs": []
    },
    {
      "cell_type": "markdown",
      "metadata": {
        "id": "gQK7sS-Hed0j",
        "colab_type": "text"
      },
      "source": [
        "# Hyper-Parameters"
      ]
    },
    {
      "cell_type": "code",
      "metadata": {
        "id": "Eote8TwxYkfA",
        "colab_type": "code",
        "colab": {}
      },
      "source": [
        "DEVICE = 'cuda' # 'cuda' or 'cpu'\n",
        "BATCH_SIZE = 128\n",
        "NUM_WORKERS = 100\n",
        "TASK_SIZE = 10\n",
        "############################################\n",
        "#NUM_EPOCHS = 70\n",
        "NUM_EPOCHS = 5\n",
        "############################################\n",
        "\n",
        "\n",
        "WEIGHT_DECAY = 0.00001\n",
        "LR = 2\n",
        "STEP_SIZE = [49,63]\n",
        "GAMMA = 1/5"
      ],
      "execution_count": 0,
      "outputs": []
    },
    {
      "cell_type": "markdown",
      "metadata": {
        "id": "0_vlqOL7ehLC",
        "colab_type": "text"
      },
      "source": [
        "# Define Network"
      ]
    },
    {
      "cell_type": "code",
      "metadata": {
        "id": "tWttFW3ljoMj",
        "colab_type": "code",
        "colab": {}
      },
      "source": [
        "resNet = ResNet.resnet32(num_classes=100)\n",
        "resNet = resNet.to(DEVICE)"
      ],
      "execution_count": 0,
      "outputs": []
    },
    {
      "cell_type": "code",
      "metadata": {
        "id": "HSmohsyVWFpr",
        "colab_type": "code",
        "colab": {}
      },
      "source": [
        "resnet_transformer = transforms.Compose([transforms.Resize(32), \n",
        "                                      transforms.Normalize((0.5, 0.5, 0.5), (0.5, 0.5, 0.5)) # Normalizes tensor with mean and standard deviation\n",
        "])\n"
      ],
      "execution_count": 0,
      "outputs": []
    },
    {
      "cell_type": "markdown",
      "metadata": {
        "id": "y_cyhIzFej5-",
        "colab_type": "text"
      },
      "source": [
        "# Define DataSets"
      ]
    },
    {
      "cell_type": "code",
      "metadata": {
        "id": "wcBNohmiYBtP",
        "colab_type": "code",
        "outputId": "6349cffc-7d07-4117-f674-cef7163fc58a",
        "colab": {
          "base_uri": "https://localhost:8080/",
          "height": 122,
          "referenced_widgets": [
            "c59c65a1ba8c43be8d296b8ee161e62b",
            "b32c6caa21654047bda1d5411d86b66a",
            "a7552fdb667249d9a308b0a05cf1c47b",
            "7febe9a55a824d0093da3d3895707e4b",
            "2b16cb9825314939bd768e7f3d5f3b3c",
            "d34787b7e9f84b8ea90c334d9f49a80c",
            "2414d1edf4344709a8025ccde43b6092",
            "112368b96d2b4c16b36415272ce50084"
          ]
        }
      },
      "source": [
        "trainDS = Dataset(train=True, transform = resnet_transformer)\n",
        "testDS = Dataset(train=False, transform = resnet_transformer)"
      ],
      "execution_count": 7,
      "outputs": [
        {
          "output_type": "stream",
          "text": [
            "Downloading https://www.cs.toronto.edu/~kriz/cifar-100-python.tar.gz to data/cifar-100-python.tar.gz\n"
          ],
          "name": "stdout"
        },
        {
          "output_type": "display_data",
          "data": {
            "application/vnd.jupyter.widget-view+json": {
              "model_id": "c59c65a1ba8c43be8d296b8ee161e62b",
              "version_minor": 0,
              "version_major": 2
            },
            "text/plain": [
              "HBox(children=(FloatProgress(value=1.0, bar_style='info', max=1.0), HTML(value='')))"
            ]
          },
          "metadata": {
            "tags": []
          }
        },
        {
          "output_type": "stream",
          "text": [
            "Extracting data/cifar-100-python.tar.gz to data\n",
            "Files already downloaded and verified\n"
          ],
          "name": "stdout"
        }
      ]
    },
    {
      "cell_type": "markdown",
      "metadata": {
        "id": "WgAT2KQEersx",
        "colab_type": "text"
      },
      "source": [
        "# Useful plots"
      ]
    },
    {
      "cell_type": "markdown",
      "metadata": {
        "id": "B1l7flYj4NJh",
        "colab_type": "text"
      },
      "source": [
        "The function plotEpoch plots, at the end of each task, how accuracy and loss change during the training phase. It show\n",
        "\n",
        "*   Validation and Training Accuracy\n",
        "*   Validation and Training Loss\n",
        "\n",
        "The function plotTask, for each task, how the accuracy on the validation set change when adding new tasks\n"
      ]
    },
    {
      "cell_type": "code",
      "metadata": {
        "id": "Gr58kkHiIzZU",
        "colab_type": "code",
        "colab": {}
      },
      "source": [
        "def plotTask(pars_tasks):\n",
        "  import numpy as np\n",
        "  import matplotlib.pyplot as plt\n",
        "\n",
        "  x_tasks =  np.linspace(10, 100, 10)\n",
        "\n",
        "  plt.plot(x_tasks, pars_tasks ,'b', label='Accuracy')\n",
        "  plt.xlabel(\"Epoch\")\n",
        "  plt.title('Accuracy over classes')\n",
        "  plt.legend(['Validation Accuracy'])\n",
        "  plt.grid(True)\n",
        "  plt.show()\n",
        "\n"
      ],
      "execution_count": 0,
      "outputs": []
    },
    {
      "cell_type": "markdown",
      "metadata": {
        "id": "iApKvCs942aS",
        "colab_type": "text"
      },
      "source": [
        "# Train and evaluation phase"
      ]
    },
    {
      "cell_type": "code",
      "metadata": {
        "id": "oJse4JU7d9ck",
        "colab_type": "code",
        "outputId": "d897226b-2b4f-4d91-d4b2-c4505f224b2e",
        "colab": {
          "base_uri": "https://localhost:8080/",
          "height": 1000
        }
      },
      "source": [
        "pars_tasks = []\n",
        "test_indexes = []\n",
        "\n",
        "for task in range(0, 100, TASK_SIZE):\n",
        "  pars_tasks.insert(task, 0)\n",
        "\n",
        "for task in range(0, 100, TASK_SIZE):\n",
        "\n",
        "  train_indexes = trainDS.__getIndexesGroups__(task)\n",
        "  test_indexes = test_indexes + testDS.__getIndexesGroups__(task)\n",
        "\n",
        "  train_dataset = Subset(trainDS, train_indexes)\n",
        "  test_dataset = Subset(testDS, test_indexes)\n",
        "\n",
        "  train_loader = DataLoader( train_dataset, num_workers=NUM_WORKERS, batch_size=BATCH_SIZE)\n",
        "  test_loader = DataLoader( test_dataset, num_workers=NUM_WORKERS, batch_size=BATCH_SIZE )\n",
        "\n",
        "  if(task == 0):\n",
        "    torch.save(resNet, 'resNet_task{0}.pt'.format(task))\n",
        "  \n",
        "  utils.trainfunction(task, train_loader)\n",
        "  param = utils.evaluationTest(task, test_loader) #evaluate test set at step task\n",
        "  pars_tasks[int(task/10)] = param #pars_task[i] = (accuracy, loss) at i-th task\t\n",
        "\n",
        "#plotTask(pars_tasks)"
      ],
      "execution_count": 0,
      "outputs": [
        {
          "output_type": "stream",
          "text": [
            "\n",
            "[2.0]     [2.0]\n"
          ],
          "name": "stdout"
        },
        {
          "output_type": "stream",
          "text": [
            "/usr/local/lib/python3.6/dist-packages/torch/optim/lr_scheduler.py:123: UserWarning: Detected call of `lr_scheduler.step()` before `optimizer.step()`. In PyTorch 1.1.0 and later, you should call them in the opposite order: `optimizer.step()` before `lr_scheduler.step()`.  Failure to do this will result in PyTorch skipping the first value of the learning rate schedule. See more details at https://pytorch.org/docs/stable/optim.html#how-to-adjust-learning-rate\n",
            "  \"https://pytorch.org/docs/stable/optim.html#how-to-adjust-learning-rate\", UserWarning)\n",
            "/usr/local/lib/python3.6/dist-packages/torch/optim/lr_scheduler.py:396: UserWarning: To get the last learning rate computed by the scheduler, please use `get_last_lr()`.\n",
            "  \"please use `get_last_lr()`.\", UserWarning)\n"
          ],
          "name": "stderr"
        },
        {
          "output_type": "stream",
          "text": [
            "class loss = 0.8002712726593018 dist loss = tensor([0.], device='cuda:0')\n",
            "class loss = 0.4017544090747833 dist loss = tensor([0.], device='cuda:0')\n",
            "class loss = 0.20246699452400208 dist loss = tensor([0.], device='cuda:0')\n",
            "class loss = 0.14069250226020813 dist loss = tensor([0.], device='cuda:0')\n",
            "class loss = 0.11152492463588715 dist loss = tensor([0.], device='cuda:0')\n",
            "class loss = 0.0943206176161766 dist loss = tensor([0.], device='cuda:0')\n",
            "class loss = 0.08273766934871674 dist loss = tensor([0.], device='cuda:0')\n",
            "class loss = 0.07480308413505554 dist loss = tensor([0.], device='cuda:0')\n",
            "class loss = 0.06932876259088516 dist loss = tensor([0.], device='cuda:0')\n",
            "class loss = 0.0646679550409317 dist loss = tensor([0.], device='cuda:0')\n",
            "class loss = 0.06074144318699837 dist loss = tensor([0.], device='cuda:0')\n",
            "class loss = 0.05814637616276741 dist loss = tensor([0.], device='cuda:0')\n",
            "class loss = 0.05543847009539604 dist loss = tensor([0.], device='cuda:0')\n",
            "class loss = 0.05358245223760605 dist loss = tensor([0.], device='cuda:0')\n",
            "class loss = 0.05183597281575203 dist loss = tensor([0.], device='cuda:0')\n",
            "class loss = 0.05048291012644768 dist loss = tensor([0.], device='cuda:0')\n",
            "class loss = 0.04889095202088356 dist loss = tensor([0.], device='cuda:0')\n",
            "class loss = 0.04773027449846268 dist loss = tensor([0.], device='cuda:0')\n",
            "class loss = 0.04667952284216881 dist loss = tensor([0.], device='cuda:0')\n",
            "class loss = 0.04578908905386925 dist loss = tensor([0.], device='cuda:0')\n",
            "class loss = 0.04515646770596504 dist loss = tensor([0.], device='cuda:0')\n",
            "class loss = 0.04430150240659714 dist loss = tensor([0.], device='cuda:0')\n",
            "class loss = 0.04353072866797447 dist loss = tensor([0.], device='cuda:0')\n",
            "class loss = 0.04272494837641716 dist loss = tensor([0.], device='cuda:0')\n",
            "class loss = 0.042099881917238235 dist loss = tensor([0.], device='cuda:0')\n",
            "class loss = 0.04197756573557854 dist loss = tensor([0.], device='cuda:0')\n",
            "class loss = 0.04140590876340866 dist loss = tensor([0.], device='cuda:0')\n",
            "class loss = 0.04067985340952873 dist loss = tensor([0.], device='cuda:0')\n",
            "class loss = 0.040406350046396255 dist loss = tensor([0.], device='cuda:0')\n",
            "class loss = 0.04022755101323128 dist loss = tensor([0.], device='cuda:0')\n",
            "class loss = 0.0395829975605011 dist loss = tensor([0.], device='cuda:0')\n",
            "class loss = 0.03917212039232254 dist loss = tensor([0.], device='cuda:0')\n",
            "class loss = 0.03874379023909569 dist loss = tensor([0.], device='cuda:0')\n",
            "class loss = 0.038646455854177475 dist loss = tensor([0.], device='cuda:0')\n",
            "class loss = 0.038029350340366364 dist loss = tensor([0.], device='cuda:0')\n",
            "class loss = 0.03809117525815964 dist loss = tensor([0.], device='cuda:0')\n",
            "class loss = 0.03815397992730141 dist loss = tensor([0.], device='cuda:0')\n",
            "class loss = 0.03777492791414261 dist loss = tensor([0.], device='cuda:0')\n",
            "class loss = 0.036903105676174164 dist loss = tensor([0.], device='cuda:0')\n",
            "class loss = 0.03830702602863312 dist loss = tensor([0.], device='cuda:0')\n",
            "At step  0  and at epoch =  0  the loss is =  0.03830702602863312  and accuracy is =  0.1472\n",
            "[2.0]     [2.0]\n",
            "class loss = 0.037770919501781464 dist loss = tensor([0.], device='cuda:0')\n",
            "class loss = 0.036974821239709854 dist loss = tensor([0.], device='cuda:0')\n",
            "class loss = 0.036490608006715775 dist loss = tensor([0.], device='cuda:0')\n",
            "class loss = 0.03661003336310387 dist loss = tensor([0.], device='cuda:0')\n",
            "class loss = 0.035827454179525375 dist loss = tensor([0.], device='cuda:0')\n",
            "class loss = 0.036406174302101135 dist loss = tensor([0.], device='cuda:0')\n",
            "class loss = 0.03536198288202286 dist loss = tensor([0.], device='cuda:0')\n",
            "class loss = 0.03561493754386902 dist loss = tensor([0.], device='cuda:0')\n",
            "class loss = 0.036013852804899216 dist loss = tensor([0.], device='cuda:0')\n",
            "class loss = 0.03527015447616577 dist loss = tensor([0.], device='cuda:0')\n",
            "class loss = 0.03499613702297211 dist loss = tensor([0.], device='cuda:0')\n",
            "class loss = 0.03616137430071831 dist loss = tensor([0.], device='cuda:0')\n",
            "class loss = 0.03470613807439804 dist loss = tensor([0.], device='cuda:0')\n",
            "class loss = 0.035293903201818466 dist loss = tensor([0.], device='cuda:0')\n",
            "class loss = 0.03485153242945671 dist loss = tensor([0.], device='cuda:0')\n",
            "class loss = 0.0349838025867939 dist loss = tensor([0.], device='cuda:0')\n",
            "class loss = 0.03449564799666405 dist loss = tensor([0.], device='cuda:0')\n",
            "class loss = 0.03445250540971756 dist loss = tensor([0.], device='cuda:0')\n",
            "class loss = 0.034506045281887054 dist loss = tensor([0.], device='cuda:0')\n",
            "class loss = 0.03413020446896553 dist loss = tensor([0.], device='cuda:0')\n",
            "class loss = 0.034114282578229904 dist loss = tensor([0.], device='cuda:0')\n",
            "class loss = 0.034038152545690536 dist loss = tensor([0.], device='cuda:0')\n",
            "class loss = 0.03392186760902405 dist loss = tensor([0.], device='cuda:0')\n",
            "class loss = 0.03370535001158714 dist loss = tensor([0.], device='cuda:0')\n",
            "class loss = 0.03364270552992821 dist loss = tensor([0.], device='cuda:0')\n",
            "class loss = 0.03390011563897133 dist loss = tensor([0.], device='cuda:0')\n",
            "class loss = 0.033543046563863754 dist loss = tensor([0.], device='cuda:0')\n",
            "class loss = 0.033132560551166534 dist loss = tensor([0.], device='cuda:0')\n",
            "class loss = 0.03307046741247177 dist loss = tensor([0.], device='cuda:0')\n",
            "class loss = 0.0329921580851078 dist loss = tensor([0.], device='cuda:0')\n",
            "class loss = 0.032877203077077866 dist loss = tensor([0.], device='cuda:0')\n",
            "class loss = 0.03280286863446236 dist loss = tensor([0.], device='cuda:0')\n",
            "class loss = 0.032145269215106964 dist loss = tensor([0.], device='cuda:0')\n",
            "class loss = 0.03256329894065857 dist loss = tensor([0.], device='cuda:0')\n",
            "class loss = 0.03211616352200508 dist loss = tensor([0.], device='cuda:0')\n",
            "class loss = 0.03251108527183533 dist loss = tensor([0.], device='cuda:0')\n",
            "class loss = 0.03325023502111435 dist loss = tensor([0.], device='cuda:0')\n",
            "class loss = 0.03248719498515129 dist loss = tensor([0.], device='cuda:0')\n",
            "class loss = 0.032138895243406296 dist loss = tensor([0.], device='cuda:0')\n",
            "class loss = 0.033471908420324326 dist loss = tensor([0.], device='cuda:0')\n",
            "At step  0  and at epoch =  1  the loss is =  0.033471908420324326  and accuracy is =  0.2296\n",
            "[2.0]     [2.0]\n",
            "class loss = 0.033530596643686295 dist loss = tensor([0.], device='cuda:0')\n",
            "class loss = 0.03259564936161041 dist loss = tensor([0.], device='cuda:0')\n",
            "class loss = 0.03224312141537666 dist loss = tensor([0.], device='cuda:0')\n",
            "class loss = 0.032262083142995834 dist loss = tensor([0.], device='cuda:0')\n",
            "class loss = 0.03150854632258415 dist loss = tensor([0.], device='cuda:0')\n",
            "class loss = 0.032575901597738266 dist loss = tensor([0.], device='cuda:0')\n",
            "class loss = 0.03099897876381874 dist loss = tensor([0.], device='cuda:0')\n",
            "class loss = 0.03149460256099701 dist loss = tensor([0.], device='cuda:0')\n",
            "class loss = 0.03189440816640854 dist loss = tensor([0.], device='cuda:0')\n",
            "class loss = 0.031008781865239143 dist loss = tensor([0.], device='cuda:0')\n",
            "class loss = 0.030602162703871727 dist loss = tensor([0.], device='cuda:0')\n",
            "class loss = 0.03275183588266373 dist loss = tensor([0.], device='cuda:0')\n",
            "class loss = 0.030842188745737076 dist loss = tensor([0.], device='cuda:0')\n",
            "class loss = 0.03133305534720421 dist loss = tensor([0.], device='cuda:0')\n",
            "class loss = 0.03128715604543686 dist loss = tensor([0.], device='cuda:0')\n",
            "class loss = 0.031472571194171906 dist loss = tensor([0.], device='cuda:0')\n",
            "class loss = 0.030969154089689255 dist loss = tensor([0.], device='cuda:0')\n",
            "class loss = 0.03083500824868679 dist loss = tensor([0.], device='cuda:0')\n",
            "class loss = 0.031033577397465706 dist loss = tensor([0.], device='cuda:0')\n",
            "class loss = 0.03039809688925743 dist loss = tensor([0.], device='cuda:0')\n",
            "class loss = 0.030736567452549934 dist loss = tensor([0.], device='cuda:0')\n",
            "class loss = 0.030248526483774185 dist loss = tensor([0.], device='cuda:0')\n",
            "class loss = 0.030748693272471428 dist loss = tensor([0.], device='cuda:0')\n",
            "class loss = 0.03009684942662716 dist loss = tensor([0.], device='cuda:0')\n",
            "class loss = 0.030361894518136978 dist loss = tensor([0.], device='cuda:0')\n",
            "class loss = 0.030829034745693207 dist loss = tensor([0.], device='cuda:0')\n",
            "class loss = 0.030177433043718338 dist loss = tensor([0.], device='cuda:0')\n",
            "class loss = 0.029870012775063515 dist loss = tensor([0.], device='cuda:0')\n",
            "class loss = 0.029535789042711258 dist loss = tensor([0.], device='cuda:0')\n",
            "class loss = 0.029935065656900406 dist loss = tensor([0.], device='cuda:0')\n",
            "class loss = 0.03028859943151474 dist loss = tensor([0.], device='cuda:0')\n",
            "class loss = 0.029335608705878258 dist loss = tensor([0.], device='cuda:0')\n",
            "class loss = 0.028548764064908028 dist loss = tensor([0.], device='cuda:0')\n",
            "class loss = 0.02891932986676693 dist loss = tensor([0.], device='cuda:0')\n",
            "class loss = 0.028658272698521614 dist loss = tensor([0.], device='cuda:0')\n",
            "class loss = 0.02943960763514042 dist loss = tensor([0.], device='cuda:0')\n",
            "class loss = 0.030837230384349823 dist loss = tensor([0.], device='cuda:0')\n",
            "class loss = 0.029733140021562576 dist loss = tensor([0.], device='cuda:0')\n",
            "class loss = 0.02948305383324623 dist loss = tensor([0.], device='cuda:0')\n",
            "class loss = 0.03161094710230827 dist loss = tensor([0.], device='cuda:0')\n",
            "At step  0  and at epoch =  2  the loss is =  0.03161094710230827  and accuracy is =  0.3036\n",
            "[2.0]     [2.0]\n",
            "class loss = 0.030754966661334038 dist loss = tensor([0.], device='cuda:0')\n",
            "class loss = 0.030133958905935287 dist loss = tensor([0.], device='cuda:0')\n",
            "class loss = 0.029610970988869667 dist loss = tensor([0.], device='cuda:0')\n",
            "class loss = 0.029385771602392197 dist loss = tensor([0.], device='cuda:0')\n",
            "class loss = 0.028597187250852585 dist loss = tensor([0.], device='cuda:0')\n",
            "class loss = 0.030120791867375374 dist loss = tensor([0.], device='cuda:0')\n",
            "class loss = 0.0281976368278265 dist loss = tensor([0.], device='cuda:0')\n",
            "class loss = 0.028997162356972694 dist loss = tensor([0.], device='cuda:0')\n",
            "class loss = 0.029345141723752022 dist loss = tensor([0.], device='cuda:0')\n",
            "class loss = 0.028402091935276985 dist loss = tensor([0.], device='cuda:0')\n",
            "class loss = 0.027946703135967255 dist loss = tensor([0.], device='cuda:0')\n",
            "class loss = 0.03035867214202881 dist loss = tensor([0.], device='cuda:0')\n",
            "class loss = 0.02811087854206562 dist loss = tensor([0.], device='cuda:0')\n",
            "class loss = 0.028774207457900047 dist loss = tensor([0.], device='cuda:0')\n",
            "class loss = 0.029280785471200943 dist loss = tensor([0.], device='cuda:0')\n",
            "class loss = 0.029413795098662376 dist loss = tensor([0.], device='cuda:0')\n",
            "class loss = 0.028973402455449104 dist loss = tensor([0.], device='cuda:0')\n",
            "class loss = 0.028819404542446136 dist loss = tensor([0.], device='cuda:0')\n",
            "class loss = 0.02909768559038639 dist loss = tensor([0.], device='cuda:0')\n",
            "class loss = 0.027878783643245697 dist loss = tensor([0.], device='cuda:0')\n",
            "class loss = 0.028511449694633484 dist loss = tensor([0.], device='cuda:0')\n",
            "class loss = 0.027964472770690918 dist loss = tensor([0.], device='cuda:0')\n",
            "class loss = 0.028941720724105835 dist loss = tensor([0.], device='cuda:0')\n",
            "class loss = 0.027911672368645668 dist loss = tensor([0.], device='cuda:0')\n",
            "class loss = 0.028215110301971436 dist loss = tensor([0.], device='cuda:0')\n",
            "class loss = 0.029068976640701294 dist loss = tensor([0.], device='cuda:0')\n",
            "class loss = 0.02863677591085434 dist loss = tensor([0.], device='cuda:0')\n",
            "class loss = 0.027987660840153694 dist loss = tensor([0.], device='cuda:0')\n",
            "class loss = 0.027148595079779625 dist loss = tensor([0.], device='cuda:0')\n",
            "class loss = 0.027796439826488495 dist loss = tensor([0.], device='cuda:0')\n",
            "class loss = 0.028727473691105843 dist loss = tensor([0.], device='cuda:0')\n",
            "class loss = 0.027162937447428703 dist loss = tensor([0.], device='cuda:0')\n",
            "class loss = 0.026356803253293037 dist loss = tensor([0.], device='cuda:0')\n",
            "class loss = 0.026768459007143974 dist loss = tensor([0.], device='cuda:0')\n",
            "class loss = 0.027011480182409286 dist loss = tensor([0.], device='cuda:0')\n",
            "class loss = 0.027616256847977638 dist loss = tensor([0.], device='cuda:0')\n",
            "class loss = 0.02975800633430481 dist loss = tensor([0.], device='cuda:0')\n",
            "class loss = 0.02789417840540409 dist loss = tensor([0.], device='cuda:0')\n",
            "class loss = 0.027383100241422653 dist loss = tensor([0.], device='cuda:0')\n",
            "class loss = 0.028919806703925133 dist loss = tensor([0.], device='cuda:0')\n",
            "At step  0  and at epoch =  3  the loss is =  0.028919806703925133  and accuracy is =  0.3536\n",
            "[2.0]     [2.0]\n",
            "class loss = 0.029364680871367455 dist loss = tensor([0.], device='cuda:0')\n",
            "class loss = 0.028945662081241608 dist loss = tensor([0.], device='cuda:0')\n",
            "class loss = 0.028236551210284233 dist loss = tensor([0.], device='cuda:0')\n",
            "class loss = 0.027890080586075783 dist loss = tensor([0.], device='cuda:0')\n",
            "class loss = 0.026501264423131943 dist loss = tensor([0.], device='cuda:0')\n",
            "class loss = 0.028352081775665283 dist loss = tensor([0.], device='cuda:0')\n",
            "class loss = 0.026695333421230316 dist loss = tensor([0.], device='cuda:0')\n",
            "class loss = 0.027426883578300476 dist loss = tensor([0.], device='cuda:0')\n",
            "class loss = 0.027991661801934242 dist loss = tensor([0.], device='cuda:0')\n",
            "class loss = 0.026928700506687164 dist loss = tensor([0.], device='cuda:0')\n",
            "class loss = 0.026198744773864746 dist loss = tensor([0.], device='cuda:0')\n",
            "class loss = 0.028696158900856972 dist loss = tensor([0.], device='cuda:0')\n",
            "class loss = 0.026516148820519447 dist loss = tensor([0.], device='cuda:0')\n",
            "class loss = 0.02698691375553608 dist loss = tensor([0.], device='cuda:0')\n",
            "class loss = 0.027913905680179596 dist loss = tensor([0.], device='cuda:0')\n",
            "class loss = 0.027956215664744377 dist loss = tensor([0.], device='cuda:0')\n",
            "class loss = 0.027717242017388344 dist loss = tensor([0.], device='cuda:0')\n",
            "class loss = 0.027641810476779938 dist loss = tensor([0.], device='cuda:0')\n",
            "class loss = 0.02791445516049862 dist loss = tensor([0.], device='cuda:0')\n",
            "class loss = 0.026047348976135254 dist loss = tensor([0.], device='cuda:0')\n",
            "class loss = 0.027231872081756592 dist loss = tensor([0.], device='cuda:0')\n",
            "class loss = 0.02649216540157795 dist loss = tensor([0.], device='cuda:0')\n",
            "class loss = 0.02778651937842369 dist loss = tensor([0.], device='cuda:0')\n",
            "class loss = 0.02614390291273594 dist loss = tensor([0.], device='cuda:0')\n",
            "class loss = 0.026768816635012627 dist loss = tensor([0.], device='cuda:0')\n",
            "class loss = 0.02788974717259407 dist loss = tensor([0.], device='cuda:0')\n",
            "class loss = 0.027663087472319603 dist loss = tensor([0.], device='cuda:0')\n",
            "class loss = 0.026738807559013367 dist loss = tensor([0.], device='cuda:0')\n",
            "class loss = 0.025428123772144318 dist loss = tensor([0.], device='cuda:0')\n",
            "class loss = 0.026315664872527122 dist loss = tensor([0.], device='cuda:0')\n",
            "class loss = 0.02770417369902134 dist loss = tensor([0.], device='cuda:0')\n",
            "class loss = 0.025785822421312332 dist loss = tensor([0.], device='cuda:0')\n",
            "class loss = 0.02508530579507351 dist loss = tensor([0.], device='cuda:0')\n",
            "class loss = 0.025194916874170303 dist loss = tensor([0.], device='cuda:0')\n",
            "class loss = 0.025818070396780968 dist loss = tensor([0.], device='cuda:0')\n",
            "class loss = 0.026078365743160248 dist loss = tensor([0.], device='cuda:0')\n",
            "class loss = 0.028827855363488197 dist loss = tensor([0.], device='cuda:0')\n",
            "class loss = 0.026657313108444214 dist loss = tensor([0.], device='cuda:0')\n",
            "class loss = 0.026103558018803596 dist loss = tensor([0.], device='cuda:0')\n",
            "class loss = 0.025937851518392563 dist loss = tensor([0.], device='cuda:0')\n",
            "At step  0  and at epoch =  4  the loss is =  0.025937851518392563  and accuracy is =  0.39\n",
            " running corrects = 0\n",
            " running corrects = 0\n",
            " running corrects = 0\n",
            " running corrects = 0\n",
            " running corrects = 0\n",
            " running corrects = 0\n",
            " running corrects = 0\n",
            " running corrects = 0\n",
            "Validation Loss: 701.5244140625 Validation Accuracy : 0.0\n",
            "[2.0]     [2.0]\n",
            "class loss = 0.08375164121389389 dist loss = -8.340087890625\n",
            "class loss = 0.08572659641504288 dist loss = -442.7611389160156\n",
            "class loss = 0.7059789896011353 dist loss = -8803.5859375\n",
            "class loss = 0.3845125436782837 dist loss = -223476.578125\n",
            "class loss = 440.2341613769531 dist loss = -5949881.0\n",
            "class loss = 16734.48046875 dist loss = -159586272.0\n",
            "class loss = 74208.53125 dist loss = -4288894976.0\n",
            "class loss = 9027915.0 dist loss = -115270893568.0\n",
            "class loss = 299927904.0 dist loss = -3097198592000.0\n",
            "class loss = 1379902720.0 dist loss = -83217767989248.0\n",
            "class loss = 175541469184.0 dist loss = -2228002742075392.0\n",
            "class loss = 5963154194432.0 dist loss = -5.969036885308211e+16\n",
            "class loss = 20135899299840.0 dist loss = -1.602211505091117e+18\n",
            "class loss = 3547255365697536.0 dist loss = -4.308030813551932e+19\n",
            "class loss = 1.1144062307611443e+17 dist loss = -1.1562388983136146e+21\n",
            "class loss = 4.923866644050084e+17 dist loss = -3.099567090280669e+22\n",
            "class loss = 6.591181661986934e+19 dist loss = -8.31990383474407e+23\n",
            "class loss = 2.1461592994384833e+21 dist loss = -2.2312162448949e+25\n",
            "class loss = 8.740766863735707e+21 dist loss = -5.974957221446271e+26\n",
            "class loss = 1.32044114334141e+24 dist loss = -1.6046654435413987e+28\n",
            "class loss = 4.283082637027354e+25 dist loss = -4.315977757241178e+29\n",
            "class loss = nan dist loss = nan\n",
            "class loss = nan dist loss = nan\n",
            "class loss = nan dist loss = nan\n",
            "class loss = nan dist loss = nan\n",
            "class loss = nan dist loss = nan\n",
            "class loss = nan dist loss = nan\n",
            "class loss = nan dist loss = nan\n",
            "class loss = nan dist loss = nan\n",
            "class loss = nan dist loss = nan\n",
            "class loss = nan dist loss = nan\n",
            "class loss = nan dist loss = nan\n",
            "class loss = nan dist loss = nan\n",
            "class loss = nan dist loss = nan\n",
            "class loss = nan dist loss = nan\n",
            "class loss = nan dist loss = nan\n",
            "class loss = nan dist loss = nan\n",
            "class loss = nan dist loss = nan\n",
            "class loss = nan dist loss = nan\n",
            "class loss = nan dist loss = nan\n",
            "At step  10  and at epoch =  0  the loss is =  nan  and accuracy is =  0.0324\n",
            "[2.0]     [2.0]\n",
            "class loss = nan dist loss = nan\n",
            "class loss = nan dist loss = nan\n",
            "class loss = nan dist loss = nan\n",
            "class loss = nan dist loss = nan\n",
            "class loss = nan dist loss = nan\n",
            "class loss = nan dist loss = nan\n",
            "class loss = nan dist loss = nan\n",
            "class loss = nan dist loss = nan\n",
            "class loss = nan dist loss = nan\n",
            "class loss = nan dist loss = nan\n",
            "class loss = nan dist loss = nan\n",
            "class loss = nan dist loss = nan\n",
            "class loss = nan dist loss = nan\n",
            "class loss = nan dist loss = nan\n",
            "class loss = nan dist loss = nan\n",
            "class loss = nan dist loss = nan\n"
          ],
          "name": "stdout"
        }
      ]
    }
  ]
}