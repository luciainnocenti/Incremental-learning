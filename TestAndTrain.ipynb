{
  "nbformat": 4,
  "nbformat_minor": 0,
  "metadata": {
    "colab": {
      "name": "ResNet.ipynb",
      "provenance": [],
      "collapsed_sections": [],
      "toc_visible": true,
      "authorship_tag": "ABX9TyPxRTpif9euIkfLxhPWiNmm",
      "include_colab_link": true
    },
    "kernelspec": {
      "name": "python3",
      "display_name": "Python 3"
    },
    "accelerator": "GPU",
    "widgets": {
      "application/vnd.jupyter.widget-state+json": {
        "82353af06a1e411bb25c35e661d3f8fa": {
          "model_module": "@jupyter-widgets/controls",
          "model_name": "HBoxModel",
          "state": {
            "_view_name": "HBoxView",
            "_dom_classes": [],
            "_model_name": "HBoxModel",
            "_view_module": "@jupyter-widgets/controls",
            "_model_module_version": "1.5.0",
            "_view_count": null,
            "_view_module_version": "1.5.0",
            "box_style": "",
            "layout": "IPY_MODEL_7b44ef54a95c4130a64f6460d8b2ab54",
            "_model_module": "@jupyter-widgets/controls",
            "children": [
              "IPY_MODEL_0868dc7ab3014f058b75821f239c2a03",
              "IPY_MODEL_0e19a2b3469d461b9c000586b7d705f2"
            ]
          }
        },
        "7b44ef54a95c4130a64f6460d8b2ab54": {
          "model_module": "@jupyter-widgets/base",
          "model_name": "LayoutModel",
          "state": {
            "_view_name": "LayoutView",
            "grid_template_rows": null,
            "right": null,
            "justify_content": null,
            "_view_module": "@jupyter-widgets/base",
            "overflow": null,
            "_model_module_version": "1.2.0",
            "_view_count": null,
            "flex_flow": null,
            "width": null,
            "min_width": null,
            "border": null,
            "align_items": null,
            "bottom": null,
            "_model_module": "@jupyter-widgets/base",
            "top": null,
            "grid_column": null,
            "overflow_y": null,
            "overflow_x": null,
            "grid_auto_flow": null,
            "grid_area": null,
            "grid_template_columns": null,
            "flex": null,
            "_model_name": "LayoutModel",
            "justify_items": null,
            "grid_row": null,
            "max_height": null,
            "align_content": null,
            "visibility": null,
            "align_self": null,
            "height": null,
            "min_height": null,
            "padding": null,
            "grid_auto_rows": null,
            "grid_gap": null,
            "max_width": null,
            "order": null,
            "_view_module_version": "1.2.0",
            "grid_template_areas": null,
            "object_position": null,
            "object_fit": null,
            "grid_auto_columns": null,
            "margin": null,
            "display": null,
            "left": null
          }
        },
        "0868dc7ab3014f058b75821f239c2a03": {
          "model_module": "@jupyter-widgets/controls",
          "model_name": "FloatProgressModel",
          "state": {
            "_view_name": "ProgressView",
            "style": "IPY_MODEL_03fa1ac0e25146668742f7c193046505",
            "_dom_classes": [],
            "description": "",
            "_model_name": "FloatProgressModel",
            "bar_style": "info",
            "max": 1,
            "_view_module": "@jupyter-widgets/controls",
            "_model_module_version": "1.5.0",
            "value": 1,
            "_view_count": null,
            "_view_module_version": "1.5.0",
            "orientation": "horizontal",
            "min": 0,
            "description_tooltip": null,
            "_model_module": "@jupyter-widgets/controls",
            "layout": "IPY_MODEL_1c02a224e53f446584dc73e358b1c0f6"
          }
        },
        "0e19a2b3469d461b9c000586b7d705f2": {
          "model_module": "@jupyter-widgets/controls",
          "model_name": "HTMLModel",
          "state": {
            "_view_name": "HTMLView",
            "style": "IPY_MODEL_94df1ddaba574f84bd04d7956867e93d",
            "_dom_classes": [],
            "description": "",
            "_model_name": "HTMLModel",
            "placeholder": "​",
            "_view_module": "@jupyter-widgets/controls",
            "_model_module_version": "1.5.0",
            "value": " 169009152/? [00:30&lt;00:00, 16105291.14it/s]",
            "_view_count": null,
            "_view_module_version": "1.5.0",
            "description_tooltip": null,
            "_model_module": "@jupyter-widgets/controls",
            "layout": "IPY_MODEL_fa62a0cbef254ea8aeb10c497fd81c5d"
          }
        },
        "03fa1ac0e25146668742f7c193046505": {
          "model_module": "@jupyter-widgets/controls",
          "model_name": "ProgressStyleModel",
          "state": {
            "_view_name": "StyleView",
            "_model_name": "ProgressStyleModel",
            "description_width": "initial",
            "_view_module": "@jupyter-widgets/base",
            "_model_module_version": "1.5.0",
            "_view_count": null,
            "_view_module_version": "1.2.0",
            "bar_color": null,
            "_model_module": "@jupyter-widgets/controls"
          }
        },
        "1c02a224e53f446584dc73e358b1c0f6": {
          "model_module": "@jupyter-widgets/base",
          "model_name": "LayoutModel",
          "state": {
            "_view_name": "LayoutView",
            "grid_template_rows": null,
            "right": null,
            "justify_content": null,
            "_view_module": "@jupyter-widgets/base",
            "overflow": null,
            "_model_module_version": "1.2.0",
            "_view_count": null,
            "flex_flow": null,
            "width": null,
            "min_width": null,
            "border": null,
            "align_items": null,
            "bottom": null,
            "_model_module": "@jupyter-widgets/base",
            "top": null,
            "grid_column": null,
            "overflow_y": null,
            "overflow_x": null,
            "grid_auto_flow": null,
            "grid_area": null,
            "grid_template_columns": null,
            "flex": null,
            "_model_name": "LayoutModel",
            "justify_items": null,
            "grid_row": null,
            "max_height": null,
            "align_content": null,
            "visibility": null,
            "align_self": null,
            "height": null,
            "min_height": null,
            "padding": null,
            "grid_auto_rows": null,
            "grid_gap": null,
            "max_width": null,
            "order": null,
            "_view_module_version": "1.2.0",
            "grid_template_areas": null,
            "object_position": null,
            "object_fit": null,
            "grid_auto_columns": null,
            "margin": null,
            "display": null,
            "left": null
          }
        },
        "94df1ddaba574f84bd04d7956867e93d": {
          "model_module": "@jupyter-widgets/controls",
          "model_name": "DescriptionStyleModel",
          "state": {
            "_view_name": "StyleView",
            "_model_name": "DescriptionStyleModel",
            "description_width": "",
            "_view_module": "@jupyter-widgets/base",
            "_model_module_version": "1.5.0",
            "_view_count": null,
            "_view_module_version": "1.2.0",
            "_model_module": "@jupyter-widgets/controls"
          }
        },
        "fa62a0cbef254ea8aeb10c497fd81c5d": {
          "model_module": "@jupyter-widgets/base",
          "model_name": "LayoutModel",
          "state": {
            "_view_name": "LayoutView",
            "grid_template_rows": null,
            "right": null,
            "justify_content": null,
            "_view_module": "@jupyter-widgets/base",
            "overflow": null,
            "_model_module_version": "1.2.0",
            "_view_count": null,
            "flex_flow": null,
            "width": null,
            "min_width": null,
            "border": null,
            "align_items": null,
            "bottom": null,
            "_model_module": "@jupyter-widgets/base",
            "top": null,
            "grid_column": null,
            "overflow_y": null,
            "overflow_x": null,
            "grid_auto_flow": null,
            "grid_area": null,
            "grid_template_columns": null,
            "flex": null,
            "_model_name": "LayoutModel",
            "justify_items": null,
            "grid_row": null,
            "max_height": null,
            "align_content": null,
            "visibility": null,
            "align_self": null,
            "height": null,
            "min_height": null,
            "padding": null,
            "grid_auto_rows": null,
            "grid_gap": null,
            "max_width": null,
            "order": null,
            "_view_module_version": "1.2.0",
            "grid_template_areas": null,
            "object_position": null,
            "object_fit": null,
            "grid_auto_columns": null,
            "margin": null,
            "display": null,
            "left": null
          }
        }
      }
    }
  },
  "cells": [
    {
      "cell_type": "markdown",
      "metadata": {
        "id": "view-in-github",
        "colab_type": "text"
      },
      "source": [
        "<a href=\"https://colab.research.google.com/github/luciainnocenti/IncrementalLearning/blob/master/TestAndTrain.ipynb\" target=\"_parent\"><img src=\"https://colab.research.google.com/assets/colab-badge.svg\" alt=\"Open In Colab\"/></a>"
      ]
    },
    {
      "cell_type": "markdown",
      "metadata": {
        "id": "mbtGDBU3QJaq",
        "colab_type": "text"
      },
      "source": [
        "# Import GitHub repository"
      ]
    },
    {
      "cell_type": "code",
      "metadata": {
        "id": "wf0TmOM3NdFM",
        "colab_type": "code",
        "colab": {}
      },
      "source": [
        "import os\n",
        "import logging\n",
        "import sys"
      ],
      "execution_count": 0,
      "outputs": []
    },
    {
      "cell_type": "code",
      "metadata": {
        "id": "8I0pKIVIM2KC",
        "colab_type": "code",
        "colab": {}
      },
      "source": [
        "if not os.path.isdir('./DatasetCIFAR'):\n",
        "  !git clone https://github.com/luciainnocenti/IncrementalLearning.git\n",
        "  !mv 'IncrementalLearning' 'DatasetCIFAR'\n",
        "\n",
        "\n",
        "from DatasetCIFAR.data_set import Dataset"
      ],
      "execution_count": 0,
      "outputs": []
    },
    {
      "cell_type": "markdown",
      "metadata": {
        "id": "aLaS2laafBaG",
        "colab_type": "text"
      },
      "source": [
        "# Import packages"
      ]
    },
    {
      "cell_type": "code",
      "metadata": {
        "id": "liUP5Kc1DMbH",
        "colab_type": "code",
        "colab": {}
      },
      "source": [
        "from DatasetCIFAR import ResNet\n",
        "from torchvision import models\n",
        "import torch.nn as nn\n",
        "import torch\n",
        "import torch.optim as optim\n",
        "import torchvision\n",
        "from torchvision import transforms\n",
        "from torch.utils.data import Subset, DataLoader"
      ],
      "execution_count": 0,
      "outputs": []
    },
    {
      "cell_type": "markdown",
      "metadata": {
        "id": "gQK7sS-Hed0j",
        "colab_type": "text"
      },
      "source": [
        "# Hyper-Parameters"
      ]
    },
    {
      "cell_type": "code",
      "metadata": {
        "id": "Eote8TwxYkfA",
        "colab_type": "code",
        "colab": {}
      },
      "source": [
        "DEVICE = 'cuda' # 'cuda' or 'cpu'\n",
        "BATCH_SIZE = 128\n",
        "NUM_WORKERS = 100\n",
        "TASK_SIZE = 10\n",
        "STEP_SIZE = 20       # How many epochs before decreasing learning rate (if using a step-down policy)\n",
        "GAMMA = 0.1          # Multiplicative factor for learning rate step-down\n",
        "LR = 1\n",
        "NUM_EPOCHS = 30"
      ],
      "execution_count": 0,
      "outputs": []
    },
    {
      "cell_type": "markdown",
      "metadata": {
        "id": "0_vlqOL7ehLC",
        "colab_type": "text"
      },
      "source": [
        "# Define Network"
      ]
    },
    {
      "cell_type": "code",
      "metadata": {
        "id": "P2CakyTYYmVK",
        "colab_type": "code",
        "colab": {}
      },
      "source": [
        "resNet = models.resnet18(pretrained=False)\n",
        "resNet = resNet.to(DEVICE)"
      ],
      "execution_count": 0,
      "outputs": []
    },
    {
      "cell_type": "code",
      "metadata": {
        "id": "tWttFW3ljoMj",
        "colab_type": "code",
        "colab": {}
      },
      "source": [
        "resNet = ResNet.resnet18()\n",
        "resNet = resNet.to(DEVICE)"
      ],
      "execution_count": 0,
      "outputs": []
    },
    {
      "cell_type": "code",
      "metadata": {
        "id": "HSmohsyVWFpr",
        "colab_type": "code",
        "colab": {}
      },
      "source": [
        "resnet_transformer = transforms.Compose([transforms.Resize(32), \n",
        "                                      transforms.Normalize((0.5, 0.5, 0.5), (0.5, 0.5, 0.5)) # Normalizes tensor with mean and standard deviation\n",
        "])\n"
      ],
      "execution_count": 0,
      "outputs": []
    },
    {
      "cell_type": "code",
      "metadata": {
        "id": "OZ7EWNxMDUUG",
        "colab_type": "code",
        "colab": {}
      },
      "source": [
        "blockExp = resNet.expansion "
      ],
      "execution_count": 0,
      "outputs": []
    },
    {
      "cell_type": "markdown",
      "metadata": {
        "id": "y_cyhIzFej5-",
        "colab_type": "text"
      },
      "source": [
        "# Define Data Loader"
      ]
    },
    {
      "cell_type": "code",
      "metadata": {
        "id": "wcBNohmiYBtP",
        "colab_type": "code",
        "outputId": "64ededf0-32b2-458e-d723-1965922147cc",
        "colab": {
          "base_uri": "https://localhost:8080/",
          "height": 102,
          "referenced_widgets": [
            "82353af06a1e411bb25c35e661d3f8fa",
            "7b44ef54a95c4130a64f6460d8b2ab54",
            "0868dc7ab3014f058b75821f239c2a03",
            "0e19a2b3469d461b9c000586b7d705f2",
            "03fa1ac0e25146668742f7c193046505",
            "1c02a224e53f446584dc73e358b1c0f6",
            "94df1ddaba574f84bd04d7956867e93d",
            "fa62a0cbef254ea8aeb10c497fd81c5d"
          ]
        }
      },
      "source": [
        "train_loader = torch.utils.data.DataLoader(\n",
        "    Dataset(train=True, transform = resnet_transformer),\n",
        "    num_workers=NUM_WORKERS,\n",
        "    batch_size=BATCH_SIZE\n",
        ")\n",
        "\n",
        "test_loader = torch.utils.data.DataLoader(\n",
        "    Dataset(train=False, transform = resnet_transformer),\n",
        "    num_workers=NUM_WORKERS,\n",
        "    batch_size=BATCH_SIZE\n",
        ")"
      ],
      "execution_count": 8,
      "outputs": [
        {
          "output_type": "stream",
          "text": [
            "Downloading https://www.cs.toronto.edu/~kriz/cifar-100-python.tar.gz to data/cifar-100-python.tar.gz\n"
          ],
          "name": "stdout"
        },
        {
          "output_type": "display_data",
          "data": {
            "application/vnd.jupyter.widget-view+json": {
              "model_id": "82353af06a1e411bb25c35e661d3f8fa",
              "version_minor": 0,
              "version_major": 2
            },
            "text/plain": [
              "HBox(children=(FloatProgress(value=1.0, bar_style='info', max=1.0), HTML(value='')))"
            ]
          },
          "metadata": {
            "tags": []
          }
        },
        {
          "output_type": "stream",
          "text": [
            "Extracting data/cifar-100-python.tar.gz to data\n",
            "Files already downloaded and verified\n"
          ],
          "name": "stdout"
        }
      ]
    },
    {
      "cell_type": "markdown",
      "metadata": {
        "id": "rg4WUpU6ey7G",
        "colab_type": "text"
      },
      "source": [
        "# Define training parameters"
      ]
    },
    {
      "cell_type": "code",
      "metadata": {
        "id": "TR4q4blae3Ft",
        "colab_type": "code",
        "colab": {}
      },
      "source": [
        "criterion = nn.BCELoss()\n",
        "\n",
        "optimizer = optim.SGD(resNet.parameters(), lr=LR)\n",
        "\n",
        "scheduler = optim.lr_scheduler.StepLR(optimizer, step_size=STEP_SIZE, gamma=GAMMA)"
      ],
      "execution_count": 0,
      "outputs": []
    },
    {
      "cell_type": "markdown",
      "metadata": {
        "id": "WgAT2KQEersx",
        "colab_type": "text"
      },
      "source": [
        "# Train phase"
      ]
    },
    {
      "cell_type": "code",
      "metadata": {
        "id": "oJse4JU7d9ck",
        "colab_type": "code",
        "outputId": "f04e6e27-ca85-4541-c0c9-db3bc8e7b17f",
        "colab": {
          "base_uri": "https://localhost:8080/",
          "height": 1000
        }
      },
      "source": [
        "test_indexes = []\n",
        "for task in range(0, 100, TASK_SIZE):\n",
        "  resNet.fc = nn.Linear(512*blockExp, task)\n",
        "  print(\"Task classes {} to {}\".format(task, task + TASK_SIZE))\n",
        "\n",
        "  train_indexes = train_loader.dataset.__getIndexesGroups__(task)\n",
        "  test_indexes = test_indexes + test_loader.dataset.__getIndexesGroups__(task)\n",
        "\n",
        "  train_dataset = Subset(Dataset(train=True), train_indexes)\n",
        "  test_dataset = Subset(Dataset(train=False), test_indexes)\n",
        "\n",
        "  for epoch in range(NUM_EPOCHS):\n",
        "    running_corrects = 0\n",
        "    for images, labels in train_loader:\n",
        "    # Bring data over the device of choice\n",
        "      images = images.float().to(DEVICE)\n",
        "      labels = labels.to(DEVICE)\n",
        "      optimizer.zero_grad() # Zero-ing the gradients\n",
        "\n",
        "      # Forward pass to the network\n",
        "      outputs = resNet(images)\n",
        "\n",
        "      loss = criterion(outputs, labels)\n",
        "      # Get predictions\n",
        "      _, preds = torch.max(outputs.data, 1)\n",
        "\n",
        "      # Update Corrects\n",
        "      running_corrects += torch.sum(preds == labels.data).data.item()\n",
        "\n",
        "      loss.backward()  # backward pass: computes gradients\n",
        "      optimizer.step() # update weights based on accumulated gradients\n",
        "    # Calculate Accuracy\n",
        "    accuracy = running_corrects / float(len(train_dataset))\n",
        "    print(\"At step \", str(task), \" and at epoch = \", epoch, \" the loss is = \", loss.item(), \" and accuracy is = \", accuracy)\n",
        "  scheduler.step() "
      ],
      "execution_count": 0,
      "outputs": [
        {
          "output_type": "stream",
          "text": [
            "Task classes 0 to 10\n",
            "Files already downloaded and verified\n",
            "Files already downloaded and verified\n",
            "At step  0  and at epoch =  0  the loss is =  1.881744384765625  and accuracy is =  0.1034\n",
            "At step  0  and at epoch =  1  the loss is =  1.8718831539154053  and accuracy is =  0.1236\n",
            "At step  0  and at epoch =  2  the loss is =  1.8678330183029175  and accuracy is =  0.1516\n",
            "At step  0  and at epoch =  3  the loss is =  1.835759162902832  and accuracy is =  0.1574\n",
            "At step  0  and at epoch =  4  the loss is =  1.857952356338501  and accuracy is =  0.1636\n",
            "At step  0  and at epoch =  5  the loss is =  1.8583192825317383  and accuracy is =  0.1694\n",
            "At step  0  and at epoch =  6  the loss is =  1.8564292192459106  and accuracy is =  0.1734\n",
            "At step  0  and at epoch =  7  the loss is =  1.8594348430633545  and accuracy is =  0.1754\n",
            "At step  0  and at epoch =  8  the loss is =  1.8569767475128174  and accuracy is =  0.1778\n",
            "At step  0  and at epoch =  9  the loss is =  1.849105715751648  and accuracy is =  0.1794\n",
            "At step  0  and at epoch =  10  the loss is =  1.8384640216827393  and accuracy is =  0.1884\n",
            "At step  0  and at epoch =  11  the loss is =  1.8332183361053467  and accuracy is =  0.1932\n",
            "At step  0  and at epoch =  12  the loss is =  1.7954052686691284  and accuracy is =  0.2046\n",
            "At step  0  and at epoch =  13  the loss is =  1.728745460510254  and accuracy is =  0.2164\n",
            "At step  0  and at epoch =  14  the loss is =  1.681351900100708  and accuracy is =  0.2212\n",
            "At step  0  and at epoch =  15  the loss is =  1.6395394802093506  and accuracy is =  0.242\n",
            "At step  0  and at epoch =  16  the loss is =  1.6209114789962769  and accuracy is =  0.2524\n",
            "At step  0  and at epoch =  17  the loss is =  1.6035219430923462  and accuracy is =  0.2644\n",
            "At step  0  and at epoch =  18  the loss is =  1.5604490041732788  and accuracy is =  0.2794\n",
            "At step  0  and at epoch =  19  the loss is =  1.5195705890655518  and accuracy is =  0.2908\n",
            "At step  0  and at epoch =  20  the loss is =  1.5106121301651  and accuracy is =  0.3012\n",
            "At step  0  and at epoch =  21  the loss is =  1.7508853673934937  and accuracy is =  0.306\n",
            "At step  0  and at epoch =  22  the loss is =  1.540717601776123  and accuracy is =  0.3166\n",
            "At step  0  and at epoch =  23  the loss is =  1.4839144945144653  and accuracy is =  0.3208\n",
            "At step  0  and at epoch =  24  the loss is =  1.4360406398773193  and accuracy is =  0.3302\n",
            "At step  0  and at epoch =  25  the loss is =  0.7125956416130066  and accuracy is =  0.3338\n",
            "At step  0  and at epoch =  26  the loss is =  1.1411775350570679  and accuracy is =  0.3486\n",
            "At step  0  and at epoch =  27  the loss is =  0.9975349307060242  and accuracy is =  0.349\n",
            "At step  0  and at epoch =  28  the loss is =  0.805082380771637  and accuracy is =  0.36\n",
            "At step  0  and at epoch =  29  the loss is =  0.539638340473175  and accuracy is =  0.3736\n",
            "Task classes 10 to 20\n",
            "Files already downloaded and verified\n",
            "Files already downloaded and verified\n",
            "At step  10  and at epoch =  0  the loss is =  0.48459914326667786  and accuracy is =  0.3878\n",
            "At step  10  and at epoch =  1  the loss is =  0.41563689708709717  and accuracy is =  0.4122\n",
            "At step  10  and at epoch =  2  the loss is =  0.3456621766090393  and accuracy is =  0.4388\n",
            "At step  10  and at epoch =  3  the loss is =  0.6316379904747009  and accuracy is =  0.4674\n",
            "At step  10  and at epoch =  4  the loss is =  0.5837447047233582  and accuracy is =  0.511\n",
            "At step  10  and at epoch =  5  the loss is =  0.7850062847137451  and accuracy is =  0.527\n",
            "At step  10  and at epoch =  6  the loss is =  0.8492125868797302  and accuracy is =  0.5742\n",
            "At step  10  and at epoch =  7  the loss is =  0.7435327768325806  and accuracy is =  0.6\n",
            "At step  10  and at epoch =  8  the loss is =  0.6878619194030762  and accuracy is =  0.6334\n",
            "At step  10  and at epoch =  9  the loss is =  0.4880000650882721  and accuracy is =  0.6584\n",
            "At step  10  and at epoch =  10  the loss is =  0.7623937726020813  and accuracy is =  0.669\n",
            "At step  10  and at epoch =  11  the loss is =  0.2738074064254761  and accuracy is =  0.6766\n",
            "At step  10  and at epoch =  12  the loss is =  0.1587270200252533  and accuracy is =  0.6834\n",
            "At step  10  and at epoch =  13  the loss is =  0.41818559169769287  and accuracy is =  0.6932\n",
            "At step  10  and at epoch =  14  the loss is =  0.29062288999557495  and accuracy is =  0.6908\n",
            "At step  10  and at epoch =  15  the loss is =  0.2166103720664978  and accuracy is =  0.6974\n",
            "At step  10  and at epoch =  16  the loss is =  0.5471131801605225  and accuracy is =  0.7084\n",
            "At step  10  and at epoch =  17  the loss is =  0.8373922109603882  and accuracy is =  0.7128\n",
            "At step  10  and at epoch =  18  the loss is =  0.3406248092651367  and accuracy is =  0.6934\n",
            "At step  10  and at epoch =  19  the loss is =  0.33283138275146484  and accuracy is =  0.7138\n",
            "At step  10  and at epoch =  20  the loss is =  0.5460678339004517  and accuracy is =  0.7088\n",
            "At step  10  and at epoch =  21  the loss is =  0.47329097986221313  and accuracy is =  0.705\n",
            "At step  10  and at epoch =  22  the loss is =  0.06194567680358887  and accuracy is =  0.7016\n",
            "At step  10  and at epoch =  23  the loss is =  -0.034661367535591125  and accuracy is =  0.7058\n",
            "At step  10  and at epoch =  24  the loss is =  0.7889415621757507  and accuracy is =  0.7192\n",
            "At step  10  and at epoch =  25  the loss is =  0.03751303628087044  and accuracy is =  0.7054\n",
            "At step  10  and at epoch =  26  the loss is =  0.4116726815700531  and accuracy is =  0.7082\n",
            "At step  10  and at epoch =  27  the loss is =  0.0605013407766819  and accuracy is =  0.7174\n",
            "At step  10  and at epoch =  28  the loss is =  -0.002694588154554367  and accuracy is =  0.6984\n",
            "At step  10  and at epoch =  29  the loss is =  0.7387841939926147  and accuracy is =  0.7058\n",
            "Task classes 20 to 30\n",
            "Files already downloaded and verified\n",
            "Files already downloaded and verified\n",
            "At step  20  and at epoch =  0  the loss is =  -0.12612049281597137  and accuracy is =  0.7068\n",
            "At step  20  and at epoch =  1  the loss is =  0.7611708641052246  and accuracy is =  0.7072\n",
            "At step  20  and at epoch =  2  the loss is =  0.5609864592552185  and accuracy is =  0.7058\n",
            "At step  20  and at epoch =  3  the loss is =  -0.11744917929172516  and accuracy is =  0.7084\n",
            "At step  20  and at epoch =  4  the loss is =  -0.09105873852968216  and accuracy is =  0.696\n",
            "At step  20  and at epoch =  5  the loss is =  0.5269241333007812  and accuracy is =  0.707\n",
            "At step  20  and at epoch =  6  the loss is =  0.416653573513031  and accuracy is =  0.7054\n",
            "At step  20  and at epoch =  7  the loss is =  -0.30052658915519714  and accuracy is =  0.7018\n",
            "At step  20  and at epoch =  8  the loss is =  -0.15610599517822266  and accuracy is =  0.7146\n",
            "At step  20  and at epoch =  9  the loss is =  -0.1320982426404953  and accuracy is =  0.6982\n",
            "At step  20  and at epoch =  10  the loss is =  -0.4009854197502136  and accuracy is =  0.7124\n",
            "At step  20  and at epoch =  11  the loss is =  -0.10955478250980377  and accuracy is =  0.7066\n",
            "At step  20  and at epoch =  12  the loss is =  -0.17158816754817963  and accuracy is =  0.706\n",
            "At step  20  and at epoch =  13  the loss is =  0.24681879580020905  and accuracy is =  0.7026\n",
            "At step  20  and at epoch =  14  the loss is =  -0.29590049386024475  and accuracy is =  0.7054\n",
            "At step  20  and at epoch =  15  the loss is =  -0.23065483570098877  and accuracy is =  0.703\n",
            "At step  20  and at epoch =  16  the loss is =  -0.2908249497413635  and accuracy is =  0.7134\n",
            "At step  20  and at epoch =  17  the loss is =  -0.31885388493537903  and accuracy is =  0.702\n",
            "At step  20  and at epoch =  18  the loss is =  -0.31624355912208557  and accuracy is =  0.707\n",
            "At step  20  and at epoch =  19  the loss is =  -0.3512642979621887  and accuracy is =  0.7038\n",
            "At step  20  and at epoch =  20  the loss is =  -0.358438640832901  and accuracy is =  0.7042\n",
            "At step  20  and at epoch =  21  the loss is =  0.4198765158653259  and accuracy is =  0.7022\n",
            "At step  20  and at epoch =  22  the loss is =  -0.2693149745464325  and accuracy is =  0.7022\n",
            "At step  20  and at epoch =  23  the loss is =  -0.41736650466918945  and accuracy is =  0.7002\n",
            "At step  20  and at epoch =  24  the loss is =  0.7670212984085083  and accuracy is =  0.71\n",
            "At step  20  and at epoch =  25  the loss is =  0.6798551082611084  and accuracy is =  0.6962\n",
            "At step  20  and at epoch =  26  the loss is =  0.6760029792785645  and accuracy is =  0.7084\n",
            "At step  20  and at epoch =  27  the loss is =  0.4085557460784912  and accuracy is =  0.6972\n",
            "At step  20  and at epoch =  28  the loss is =  0.08488775789737701  and accuracy is =  0.7074\n",
            "At step  20  and at epoch =  29  the loss is =  0.42546790838241577  and accuracy is =  0.701\n",
            "Task classes 30 to 40\n",
            "Files already downloaded and verified\n",
            "Files already downloaded and verified\n",
            "At step  30  and at epoch =  0  the loss is =  -0.0576658695936203  and accuracy is =  0.6934\n",
            "At step  30  and at epoch =  1  the loss is =  -0.5421597361564636  and accuracy is =  0.7056\n",
            "At step  30  and at epoch =  2  the loss is =  0.1121303141117096  and accuracy is =  0.699\n",
            "At step  30  and at epoch =  3  the loss is =  0.7705854177474976  and accuracy is =  0.7048\n",
            "At step  30  and at epoch =  4  the loss is =  0.15913841128349304  and accuracy is =  0.7044\n",
            "At step  30  and at epoch =  5  the loss is =  0.40808001160621643  and accuracy is =  0.7124\n",
            "At step  30  and at epoch =  6  the loss is =  0.700700044631958  and accuracy is =  0.7044\n",
            "At step  30  and at epoch =  7  the loss is =  0.4175792336463928  and accuracy is =  0.697\n",
            "At step  30  and at epoch =  8  the loss is =  0.4164201617240906  and accuracy is =  0.708\n",
            "At step  30  and at epoch =  9  the loss is =  0.4231595993041992  and accuracy is =  0.705\n",
            "At step  30  and at epoch =  10  the loss is =  0.2162720412015915  and accuracy is =  0.6988\n",
            "At step  30  and at epoch =  11  the loss is =  -0.6015462279319763  and accuracy is =  0.7082\n",
            "At step  30  and at epoch =  12  the loss is =  -0.5200284123420715  and accuracy is =  0.7016\n",
            "At step  30  and at epoch =  13  the loss is =  -0.657862663269043  and accuracy is =  0.7064\n",
            "At step  30  and at epoch =  14  the loss is =  0.43612557649612427  and accuracy is =  0.7128\n",
            "At step  30  and at epoch =  15  the loss is =  0.21502961218357086  and accuracy is =  0.7016\n",
            "At step  30  and at epoch =  16  the loss is =  0.7958943843841553  and accuracy is =  0.7022\n",
            "At step  30  and at epoch =  17  the loss is =  -0.6880375146865845  and accuracy is =  0.7052\n",
            "At step  30  and at epoch =  18  the loss is =  -0.7542446851730347  and accuracy is =  0.7076\n",
            "At step  30  and at epoch =  19  the loss is =  0.8202110528945923  and accuracy is =  0.699\n",
            "At step  30  and at epoch =  20  the loss is =  -0.6934264302253723  and accuracy is =  0.704\n",
            "At step  30  and at epoch =  21  the loss is =  -0.6047350764274597  and accuracy is =  0.7058\n",
            "At step  30  and at epoch =  22  the loss is =  0.6527056694030762  and accuracy is =  0.7006\n",
            "At step  30  and at epoch =  23  the loss is =  0.07083152234554291  and accuracy is =  0.7048\n",
            "At step  30  and at epoch =  24  the loss is =  -0.7165732383728027  and accuracy is =  0.7038\n",
            "At step  30  and at epoch =  25  the loss is =  0.6526898741722107  and accuracy is =  0.7086\n",
            "At step  30  and at epoch =  26  the loss is =  0.21792002022266388  and accuracy is =  0.7032\n",
            "At step  30  and at epoch =  27  the loss is =  -0.7305478453636169  and accuracy is =  0.7058\n",
            "At step  30  and at epoch =  28  the loss is =  -0.7933980226516724  and accuracy is =  0.7078\n",
            "At step  30  and at epoch =  29  the loss is =  -0.8191198110580444  and accuracy is =  0.6944\n",
            "Task classes 40 to 50\n",
            "Files already downloaded and verified\n",
            "Files already downloaded and verified\n",
            "At step  40  and at epoch =  0  the loss is =  0.632356584072113  and accuracy is =  0.709\n",
            "At step  40  and at epoch =  1  the loss is =  0.43165284395217896  and accuracy is =  0.6998\n",
            "At step  40  and at epoch =  2  the loss is =  -0.8111062049865723  and accuracy is =  0.7046\n",
            "At step  40  and at epoch =  3  the loss is =  0.42856860160827637  and accuracy is =  0.6988\n",
            "At step  40  and at epoch =  4  the loss is =  0.10985720157623291  and accuracy is =  0.7096\n",
            "At step  40  and at epoch =  5  the loss is =  -0.6680207252502441  and accuracy is =  0.699\n",
            "At step  40  and at epoch =  6  the loss is =  0.4283362627029419  and accuracy is =  0.704\n",
            "At step  40  and at epoch =  7  the loss is =  -0.8046479821205139  and accuracy is =  0.7004\n",
            "At step  40  and at epoch =  8  the loss is =  -0.73508620262146  and accuracy is =  0.7094\n",
            "At step  40  and at epoch =  9  the loss is =  0.22109198570251465  and accuracy is =  0.6932\n",
            "At step  40  and at epoch =  10  the loss is =  -0.8714722394943237  and accuracy is =  0.7086\n",
            "At step  40  and at epoch =  11  the loss is =  -0.9200583696365356  and accuracy is =  0.7018\n",
            "At step  40  and at epoch =  12  the loss is =  -0.9442566633224487  and accuracy is =  0.7052\n",
            "At step  40  and at epoch =  13  the loss is =  0.42725181579589844  and accuracy is =  0.7028\n",
            "At step  40  and at epoch =  14  the loss is =  0.6696274876594543  and accuracy is =  0.6976\n",
            "At step  40  and at epoch =  15  the loss is =  0.42549416422843933  and accuracy is =  0.7114\n",
            "At step  40  and at epoch =  16  the loss is =  0.4183714687824249  and accuracy is =  0.7022\n",
            "At step  40  and at epoch =  17  the loss is =  0.20883812010288239  and accuracy is =  0.7\n",
            "At step  40  and at epoch =  18  the loss is =  0.4016660451889038  and accuracy is =  0.6952\n",
            "At step  40  and at epoch =  19  the loss is =  0.6399163603782654  and accuracy is =  0.707\n",
            "At step  40  and at epoch =  20  the loss is =  0.27269208431243896  and accuracy is =  0.708\n",
            "At step  40  and at epoch =  21  the loss is =  -0.9497655630111694  and accuracy is =  0.6974\n",
            "At step  40  and at epoch =  22  the loss is =  -1.093161702156067  and accuracy is =  0.701\n",
            "At step  40  and at epoch =  23  the loss is =  0.4213441014289856  and accuracy is =  0.7078\n",
            "At step  40  and at epoch =  24  the loss is =  0.4243440628051758  and accuracy is =  0.7064\n",
            "At step  40  and at epoch =  25  the loss is =  -1.0998451709747314  and accuracy is =  0.6968\n",
            "At step  40  and at epoch =  26  the loss is =  0.2210075855255127  and accuracy is =  0.7106\n",
            "At step  40  and at epoch =  27  the loss is =  -1.1256271600723267  and accuracy is =  0.6978\n",
            "At step  40  and at epoch =  28  the loss is =  0.0566243976354599  and accuracy is =  0.7024\n",
            "At step  40  and at epoch =  29  the loss is =  -0.8687286376953125  and accuracy is =  0.7042\n",
            "Task classes 50 to 60\n",
            "Files already downloaded and verified\n",
            "Files already downloaded and verified\n",
            "At step  50  and at epoch =  0  the loss is =  0.42728543281555176  and accuracy is =  0.7096\n",
            "At step  50  and at epoch =  1  the loss is =  0.21946720778942108  and accuracy is =  0.6944\n",
            "At step  50  and at epoch =  2  the loss is =  0.6606636643409729  and accuracy is =  0.7108\n",
            "At step  50  and at epoch =  3  the loss is =  -1.0376293659210205  and accuracy is =  0.702\n",
            "At step  50  and at epoch =  4  the loss is =  0.13661471009254456  and accuracy is =  0.7076\n",
            "At step  50  and at epoch =  5  the loss is =  0.22083012759685516  and accuracy is =  0.7088\n",
            "At step  50  and at epoch =  6  the loss is =  0.4318065643310547  and accuracy is =  0.7016\n",
            "At step  50  and at epoch =  7  the loss is =  0.47751787304878235  and accuracy is =  0.7012\n",
            "At step  50  and at epoch =  8  the loss is =  0.19581949710845947  and accuracy is =  0.705\n",
            "At step  50  and at epoch =  9  the loss is =  -1.0362324714660645  and accuracy is =  0.7022\n",
            "At step  50  and at epoch =  10  the loss is =  0.6447142362594604  and accuracy is =  0.705\n",
            "At step  50  and at epoch =  11  the loss is =  0.18549028038978577  and accuracy is =  0.7004\n",
            "At step  50  and at epoch =  12  the loss is =  0.6403727531433105  and accuracy is =  0.7044\n",
            "At step  50  and at epoch =  13  the loss is =  0.43336278200149536  and accuracy is =  0.702\n",
            "At step  50  and at epoch =  14  the loss is =  0.7399942874908447  and accuracy is =  0.7024\n",
            "At step  50  and at epoch =  15  the loss is =  0.7509378790855408  and accuracy is =  0.7086\n",
            "At step  50  and at epoch =  16  the loss is =  0.21634535491466522  and accuracy is =  0.6996\n",
            "At step  50  and at epoch =  17  the loss is =  -0.9605129957199097  and accuracy is =  0.698\n",
            "At step  50  and at epoch =  18  the loss is =  0.4212552011013031  and accuracy is =  0.7082\n",
            "At step  50  and at epoch =  19  the loss is =  -1.0504661798477173  and accuracy is =  0.6988\n",
            "At step  50  and at epoch =  20  the loss is =  -1.2303327322006226  and accuracy is =  0.698\n",
            "At step  50  and at epoch =  21  the loss is =  0.21892647445201874  and accuracy is =  0.7156\n",
            "At step  50  and at epoch =  22  the loss is =  0.21400023996829987  and accuracy is =  0.7024\n",
            "At step  50  and at epoch =  23  the loss is =  -0.11147966980934143  and accuracy is =  0.7054\n",
            "At step  50  and at epoch =  24  the loss is =  0.42526355385780334  and accuracy is =  0.7032\n",
            "At step  50  and at epoch =  25  the loss is =  -1.2693333625793457  and accuracy is =  0.7034\n",
            "At step  50  and at epoch =  26  the loss is =  -1.3772920370101929  and accuracy is =  0.704\n",
            "At step  50  and at epoch =  27  the loss is =  -1.107011318206787  and accuracy is =  0.703\n",
            "At step  50  and at epoch =  28  the loss is =  -1.2089685201644897  and accuracy is =  0.707\n",
            "At step  50  and at epoch =  29  the loss is =  0.1099490374326706  and accuracy is =  0.703\n",
            "Task classes 60 to 70\n",
            "Files already downloaded and verified\n",
            "Files already downloaded and verified\n",
            "At step  60  and at epoch =  0  the loss is =  -1.5522441864013672  and accuracy is =  0.7016\n",
            "At step  60  and at epoch =  1  the loss is =  -1.511383295059204  and accuracy is =  0.7114\n",
            "At step  60  and at epoch =  2  the loss is =  0.12807834148406982  and accuracy is =  0.7066\n",
            "At step  60  and at epoch =  3  the loss is =  0.40497714281082153  and accuracy is =  0.7008\n",
            "At step  60  and at epoch =  4  the loss is =  0.4410020709037781  and accuracy is =  0.698\n",
            "At step  60  and at epoch =  5  the loss is =  -0.6903291940689087  and accuracy is =  0.6998\n",
            "At step  60  and at epoch =  6  the loss is =  -0.6704530715942383  and accuracy is =  0.7058\n",
            "At step  60  and at epoch =  7  the loss is =  0.7361647486686707  and accuracy is =  0.7034\n",
            "At step  60  and at epoch =  8  the loss is =  0.7163549661636353  and accuracy is =  0.7048\n",
            "At step  60  and at epoch =  9  the loss is =  -1.0104814767837524  and accuracy is =  0.7056\n",
            "At step  60  and at epoch =  10  the loss is =  -1.235161542892456  and accuracy is =  0.7026\n",
            "At step  60  and at epoch =  11  the loss is =  -1.0661805868148804  and accuracy is =  0.702\n",
            "At step  60  and at epoch =  12  the loss is =  -1.1257820129394531  and accuracy is =  0.699\n",
            "At step  60  and at epoch =  13  the loss is =  0.43172842264175415  and accuracy is =  0.708\n",
            "At step  60  and at epoch =  14  the loss is =  0.4907665252685547  and accuracy is =  0.7062\n",
            "At step  60  and at epoch =  15  the loss is =  -0.06394311040639877  and accuracy is =  0.7022\n",
            "At step  60  and at epoch =  16  the loss is =  0.6959471106529236  and accuracy is =  0.7022\n",
            "At step  60  and at epoch =  17  the loss is =  -1.0928032398223877  and accuracy is =  0.7078\n",
            "At step  60  and at epoch =  18  the loss is =  0.025342047214508057  and accuracy is =  0.7006\n",
            "At step  60  and at epoch =  19  the loss is =  -1.1389262676239014  and accuracy is =  0.7008\n",
            "At step  60  and at epoch =  20  the loss is =  0.41402414441108704  and accuracy is =  0.7\n",
            "At step  60  and at epoch =  21  the loss is =  0.41458141803741455  and accuracy is =  0.7056\n",
            "At step  60  and at epoch =  22  the loss is =  -0.018364638090133667  and accuracy is =  0.7026\n",
            "At step  60  and at epoch =  23  the loss is =  0.21464383602142334  and accuracy is =  0.6978\n",
            "At step  60  and at epoch =  24  the loss is =  0.21977445483207703  and accuracy is =  0.7036\n",
            "At step  60  and at epoch =  25  the loss is =  0.4010597765445709  and accuracy is =  0.695\n",
            "At step  60  and at epoch =  26  the loss is =  -1.0142143964767456  and accuracy is =  0.7088\n",
            "At step  60  and at epoch =  27  the loss is =  0.4091302156448364  and accuracy is =  0.7008\n",
            "At step  60  and at epoch =  28  the loss is =  0.6716771125793457  and accuracy is =  0.7026\n",
            "At step  60  and at epoch =  29  the loss is =  0.21529696881771088  and accuracy is =  0.6974\n",
            "Task classes 70 to 80\n",
            "Files already downloaded and verified\n",
            "Files already downloaded and verified\n",
            "At step  70  and at epoch =  0  the loss is =  -1.036334753036499  and accuracy is =  0.702\n",
            "At step  70  and at epoch =  1  the loss is =  0.713923454284668  and accuracy is =  0.7012\n",
            "At step  70  and at epoch =  2  the loss is =  0.04119783639907837  and accuracy is =  0.7088\n",
            "At step  70  and at epoch =  3  the loss is =  -1.050257921218872  and accuracy is =  0.6972\n",
            "At step  70  and at epoch =  4  the loss is =  -1.139609932899475  and accuracy is =  0.7056\n",
            "At step  70  and at epoch =  5  the loss is =  0.04592159390449524  and accuracy is =  0.703\n",
            "At step  70  and at epoch =  6  the loss is =  -1.080473780632019  and accuracy is =  0.7072\n",
            "At step  70  and at epoch =  7  the loss is =  -1.1628990173339844  and accuracy is =  0.6974\n",
            "At step  70  and at epoch =  8  the loss is =  0.06158241629600525  and accuracy is =  0.709\n",
            "At step  70  and at epoch =  9  the loss is =  -1.1702005863189697  and accuracy is =  0.6964\n",
            "At step  70  and at epoch =  10  the loss is =  -1.1256721019744873  and accuracy is =  0.7024\n",
            "At step  70  and at epoch =  11  the loss is =  -1.1277159452438354  and accuracy is =  0.7014\n",
            "At step  70  and at epoch =  12  the loss is =  0.21685539186000824  and accuracy is =  0.703\n",
            "At step  70  and at epoch =  13  the loss is =  -1.1730703115463257  and accuracy is =  0.699\n",
            "At step  70  and at epoch =  14  the loss is =  0.05807015299797058  and accuracy is =  0.7034\n",
            "At step  70  and at epoch =  15  the loss is =  0.4150911271572113  and accuracy is =  0.6976\n",
            "At step  70  and at epoch =  16  the loss is =  0.4185377359390259  and accuracy is =  0.7038\n",
            "At step  70  and at epoch =  17  the loss is =  0.07130751013755798  and accuracy is =  0.703\n",
            "At step  70  and at epoch =  18  the loss is =  -1.1867313385009766  and accuracy is =  0.7044\n",
            "At step  70  and at epoch =  19  the loss is =  -1.192270040512085  and accuracy is =  0.6974\n",
            "At step  70  and at epoch =  20  the loss is =  0.48011985421180725  and accuracy is =  0.6986\n",
            "At step  70  and at epoch =  21  the loss is =  -1.211498737335205  and accuracy is =  0.7\n",
            "At step  70  and at epoch =  22  the loss is =  -1.1976454257965088  and accuracy is =  0.6898\n",
            "At step  70  and at epoch =  23  the loss is =  0.21709612011909485  and accuracy is =  0.704\n",
            "At step  70  and at epoch =  24  the loss is =  0.21595005691051483  and accuracy is =  0.7022\n",
            "At step  70  and at epoch =  25  the loss is =  0.12213331460952759  and accuracy is =  0.699\n",
            "At step  70  and at epoch =  26  the loss is =  -1.2297630310058594  and accuracy is =  0.6978\n",
            "At step  70  and at epoch =  27  the loss is =  -1.238144874572754  and accuracy is =  0.6974\n",
            "At step  70  and at epoch =  28  the loss is =  0.41836750507354736  and accuracy is =  0.697\n",
            "At step  70  and at epoch =  29  the loss is =  -1.239149808883667  and accuracy is =  0.6984\n",
            "Task classes 80 to 90\n",
            "Files already downloaded and verified\n",
            "Files already downloaded and verified\n",
            "At step  80  and at epoch =  0  the loss is =  -1.2435922622680664  and accuracy is =  0.7014\n",
            "At step  80  and at epoch =  1  the loss is =  -1.2521525621414185  and accuracy is =  0.7038\n",
            "At step  80  and at epoch =  2  the loss is =  0.41926223039627075  and accuracy is =  0.694\n",
            "At step  80  and at epoch =  3  the loss is =  0.4197385311126709  and accuracy is =  0.706\n",
            "At step  80  and at epoch =  4  the loss is =  -1.272306203842163  and accuracy is =  0.6964\n",
            "At step  80  and at epoch =  5  the loss is =  -1.2542893886566162  and accuracy is =  0.7028\n",
            "At step  80  and at epoch =  6  the loss is =  -1.2771919965744019  and accuracy is =  0.6966\n",
            "At step  80  and at epoch =  7  the loss is =  0.2166871726512909  and accuracy is =  0.7048\n",
            "At step  80  and at epoch =  8  the loss is =  -1.283369541168213  and accuracy is =  0.6976\n",
            "At step  80  and at epoch =  9  the loss is =  0.6920395493507385  and accuracy is =  0.704\n",
            "At step  80  and at epoch =  10  the loss is =  -1.2836785316467285  and accuracy is =  0.6956\n",
            "At step  80  and at epoch =  11  the loss is =  -1.2730129957199097  and accuracy is =  0.702\n",
            "At step  80  and at epoch =  12  the loss is =  0.6901729106903076  and accuracy is =  0.6974\n",
            "At step  80  and at epoch =  13  the loss is =  0.6916463971138  and accuracy is =  0.7026\n",
            "At step  80  and at epoch =  14  the loss is =  0.4173521399497986  and accuracy is =  0.7012\n",
            "At step  80  and at epoch =  15  the loss is =  0.41912344098091125  and accuracy is =  0.7036\n",
            "At step  80  and at epoch =  16  the loss is =  0.6896291971206665  and accuracy is =  0.6956\n",
            "At step  80  and at epoch =  17  the loss is =  0.0474473237991333  and accuracy is =  0.7072\n",
            "At step  80  and at epoch =  18  the loss is =  0.4178454279899597  and accuracy is =  0.695\n",
            "At step  80  and at epoch =  19  the loss is =  -1.2895063161849976  and accuracy is =  0.705\n",
            "At step  80  and at epoch =  20  the loss is =  0.41776803135871887  and accuracy is =  0.6982\n",
            "At step  80  and at epoch =  21  the loss is =  -1.2883374691009521  and accuracy is =  0.7042\n",
            "At step  80  and at epoch =  22  the loss is =  0.05176350474357605  and accuracy is =  0.6978\n",
            "At step  80  and at epoch =  23  the loss is =  -1.2877154350280762  and accuracy is =  0.7044\n",
            "At step  80  and at epoch =  24  the loss is =  0.04473808407783508  and accuracy is =  0.696\n",
            "At step  80  and at epoch =  25  the loss is =  -0.020964622497558594  and accuracy is =  0.7056\n",
            "At step  80  and at epoch =  26  the loss is =  -1.3073091506958008  and accuracy is =  0.7084\n",
            "At step  80  and at epoch =  27  the loss is =  -1.3000285625457764  and accuracy is =  0.6966\n",
            "At step  80  and at epoch =  28  the loss is =  -1.2968547344207764  and accuracy is =  0.7062\n",
            "At step  80  and at epoch =  29  the loss is =  -1.2852028608322144  and accuracy is =  0.6956\n",
            "Task classes 90 to 100\n",
            "Files already downloaded and verified\n",
            "Files already downloaded and verified\n",
            "At step  90  and at epoch =  0  the loss is =  -1.2924336194992065  and accuracy is =  0.6982\n",
            "At step  90  and at epoch =  1  the loss is =  0.21733179688453674  and accuracy is =  0.7028\n",
            "At step  90  and at epoch =  2  the loss is =  0.21620972454547882  and accuracy is =  0.7054\n",
            "At step  90  and at epoch =  3  the loss is =  0.4913893938064575  and accuracy is =  0.704\n",
            "At step  90  and at epoch =  4  the loss is =  -1.2877932786941528  and accuracy is =  0.701\n",
            "At step  90  and at epoch =  5  the loss is =  -1.296409249305725  and accuracy is =  0.706\n",
            "At step  90  and at epoch =  6  the loss is =  0.4836883544921875  and accuracy is =  0.6968\n",
            "At step  90  and at epoch =  7  the loss is =  0.6916749477386475  and accuracy is =  0.7006\n",
            "At step  90  and at epoch =  8  the loss is =  0.4183438718318939  and accuracy is =  0.6998\n",
            "At step  90  and at epoch =  9  the loss is =  -1.3006980419158936  and accuracy is =  0.7034\n",
            "At step  90  and at epoch =  10  the loss is =  0.41877585649490356  and accuracy is =  0.6972\n",
            "At step  90  and at epoch =  11  the loss is =  0.6915768980979919  and accuracy is =  0.696\n",
            "At step  90  and at epoch =  12  the loss is =  -1.3306597471237183  and accuracy is =  0.7072\n",
            "At step  90  and at epoch =  13  the loss is =  -1.3320865631103516  and accuracy is =  0.7004\n",
            "At step  90  and at epoch =  14  the loss is =  0.2162279486656189  and accuracy is =  0.6982\n",
            "At step  90  and at epoch =  15  the loss is =  -1.3241918087005615  and accuracy is =  0.7018\n",
            "At step  90  and at epoch =  16  the loss is =  0.039816319942474365  and accuracy is =  0.6998\n",
            "At step  90  and at epoch =  17  the loss is =  0.41894131898880005  and accuracy is =  0.705\n",
            "At step  90  and at epoch =  18  the loss is =  0.4185641407966614  and accuracy is =  0.7024\n",
            "At step  90  and at epoch =  19  the loss is =  -1.3222191333770752  and accuracy is =  0.6988\n",
            "At step  90  and at epoch =  20  the loss is =  -1.3344361782073975  and accuracy is =  0.7008\n",
            "At step  90  and at epoch =  21  the loss is =  -1.3384827375411987  and accuracy is =  0.701\n",
            "At step  90  and at epoch =  22  the loss is =  -1.3514974117279053  and accuracy is =  0.697\n",
            "At step  90  and at epoch =  23  the loss is =  -1.3235843181610107  and accuracy is =  0.7028\n",
            "At step  90  and at epoch =  24  the loss is =  -1.3491003513336182  and accuracy is =  0.7028\n",
            "At step  90  and at epoch =  25  the loss is =  0.420534610748291  and accuracy is =  0.7036\n",
            "At step  90  and at epoch =  26  the loss is =  0.6897404193878174  and accuracy is =  0.7056\n",
            "At step  90  and at epoch =  27  the loss is =  0.42006298899650574  and accuracy is =  0.7014\n",
            "At step  90  and at epoch =  28  the loss is =  0.6901010274887085  and accuracy is =  0.7036\n",
            "At step  90  and at epoch =  29  the loss is =  0.02458333969116211  and accuracy is =  0.7084\n"
          ],
          "name": "stdout"
        }
      ]
    }
  ]
}