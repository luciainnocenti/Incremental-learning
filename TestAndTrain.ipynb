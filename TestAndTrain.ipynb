{
  "nbformat": 4,
  "nbformat_minor": 0,
  "metadata": {
    "colab": {
      "name": "ResNet.ipynb",
      "provenance": [],
      "collapsed_sections": [],
      "toc_visible": true,
      "include_colab_link": true
    },
    "kernelspec": {
      "name": "python3",
      "display_name": "Python 3"
    },
    "accelerator": "GPU",
    "widgets": {
      "application/vnd.jupyter.widget-state+json": {
        "4b698779fc124198b41c197384184e0d": {
          "model_module": "@jupyter-widgets/controls",
          "model_name": "HBoxModel",
          "state": {
            "_view_name": "HBoxView",
            "_dom_classes": [],
            "_model_name": "HBoxModel",
            "_view_module": "@jupyter-widgets/controls",
            "_model_module_version": "1.5.0",
            "_view_count": null,
            "_view_module_version": "1.5.0",
            "box_style": "",
            "layout": "IPY_MODEL_e125c1c6c446426682fbe16a0b77136a",
            "_model_module": "@jupyter-widgets/controls",
            "children": [
              "IPY_MODEL_e6ac822adcfa4d77b4129235c131dfe3",
              "IPY_MODEL_c5da541c655b429a85c2fd4d6b629ce9"
            ]
          }
        },
        "e125c1c6c446426682fbe16a0b77136a": {
          "model_module": "@jupyter-widgets/base",
          "model_name": "LayoutModel",
          "state": {
            "_view_name": "LayoutView",
            "grid_template_rows": null,
            "right": null,
            "justify_content": null,
            "_view_module": "@jupyter-widgets/base",
            "overflow": null,
            "_model_module_version": "1.2.0",
            "_view_count": null,
            "flex_flow": null,
            "width": null,
            "min_width": null,
            "border": null,
            "align_items": null,
            "bottom": null,
            "_model_module": "@jupyter-widgets/base",
            "top": null,
            "grid_column": null,
            "overflow_y": null,
            "overflow_x": null,
            "grid_auto_flow": null,
            "grid_area": null,
            "grid_template_columns": null,
            "flex": null,
            "_model_name": "LayoutModel",
            "justify_items": null,
            "grid_row": null,
            "max_height": null,
            "align_content": null,
            "visibility": null,
            "align_self": null,
            "height": null,
            "min_height": null,
            "padding": null,
            "grid_auto_rows": null,
            "grid_gap": null,
            "max_width": null,
            "order": null,
            "_view_module_version": "1.2.0",
            "grid_template_areas": null,
            "object_position": null,
            "object_fit": null,
            "grid_auto_columns": null,
            "margin": null,
            "display": null,
            "left": null
          }
        },
        "e6ac822adcfa4d77b4129235c131dfe3": {
          "model_module": "@jupyter-widgets/controls",
          "model_name": "FloatProgressModel",
          "state": {
            "_view_name": "ProgressView",
            "style": "IPY_MODEL_dd60d378c5f84f0a99abfc1dc3e5b6eb",
            "_dom_classes": [],
            "description": "",
            "_model_name": "FloatProgressModel",
            "bar_style": "success",
            "max": 1,
            "_view_module": "@jupyter-widgets/controls",
            "_model_module_version": "1.5.0",
            "value": 1,
            "_view_count": null,
            "_view_module_version": "1.5.0",
            "orientation": "horizontal",
            "min": 0,
            "description_tooltip": null,
            "_model_module": "@jupyter-widgets/controls",
            "layout": "IPY_MODEL_3067b711695344e69d5a548f5ed4c8a9"
          }
        },
        "c5da541c655b429a85c2fd4d6b629ce9": {
          "model_module": "@jupyter-widgets/controls",
          "model_name": "HTMLModel",
          "state": {
            "_view_name": "HTMLView",
            "style": "IPY_MODEL_a6b5905f32de413eb211ce05ba1015cf",
            "_dom_classes": [],
            "description": "",
            "_model_name": "HTMLModel",
            "placeholder": "​",
            "_view_module": "@jupyter-widgets/controls",
            "_model_module_version": "1.5.0",
            "value": " 169009152/? [00:06&lt;00:00, 26415095.32it/s]",
            "_view_count": null,
            "_view_module_version": "1.5.0",
            "description_tooltip": null,
            "_model_module": "@jupyter-widgets/controls",
            "layout": "IPY_MODEL_e32465222f1c4198971d0d6fb48d354a"
          }
        },
        "dd60d378c5f84f0a99abfc1dc3e5b6eb": {
          "model_module": "@jupyter-widgets/controls",
          "model_name": "ProgressStyleModel",
          "state": {
            "_view_name": "StyleView",
            "_model_name": "ProgressStyleModel",
            "description_width": "initial",
            "_view_module": "@jupyter-widgets/base",
            "_model_module_version": "1.5.0",
            "_view_count": null,
            "_view_module_version": "1.2.0",
            "bar_color": null,
            "_model_module": "@jupyter-widgets/controls"
          }
        },
        "3067b711695344e69d5a548f5ed4c8a9": {
          "model_module": "@jupyter-widgets/base",
          "model_name": "LayoutModel",
          "state": {
            "_view_name": "LayoutView",
            "grid_template_rows": null,
            "right": null,
            "justify_content": null,
            "_view_module": "@jupyter-widgets/base",
            "overflow": null,
            "_model_module_version": "1.2.0",
            "_view_count": null,
            "flex_flow": null,
            "width": null,
            "min_width": null,
            "border": null,
            "align_items": null,
            "bottom": null,
            "_model_module": "@jupyter-widgets/base",
            "top": null,
            "grid_column": null,
            "overflow_y": null,
            "overflow_x": null,
            "grid_auto_flow": null,
            "grid_area": null,
            "grid_template_columns": null,
            "flex": null,
            "_model_name": "LayoutModel",
            "justify_items": null,
            "grid_row": null,
            "max_height": null,
            "align_content": null,
            "visibility": null,
            "align_self": null,
            "height": null,
            "min_height": null,
            "padding": null,
            "grid_auto_rows": null,
            "grid_gap": null,
            "max_width": null,
            "order": null,
            "_view_module_version": "1.2.0",
            "grid_template_areas": null,
            "object_position": null,
            "object_fit": null,
            "grid_auto_columns": null,
            "margin": null,
            "display": null,
            "left": null
          }
        },
        "a6b5905f32de413eb211ce05ba1015cf": {
          "model_module": "@jupyter-widgets/controls",
          "model_name": "DescriptionStyleModel",
          "state": {
            "_view_name": "StyleView",
            "_model_name": "DescriptionStyleModel",
            "description_width": "",
            "_view_module": "@jupyter-widgets/base",
            "_model_module_version": "1.5.0",
            "_view_count": null,
            "_view_module_version": "1.2.0",
            "_model_module": "@jupyter-widgets/controls"
          }
        },
        "e32465222f1c4198971d0d6fb48d354a": {
          "model_module": "@jupyter-widgets/base",
          "model_name": "LayoutModel",
          "state": {
            "_view_name": "LayoutView",
            "grid_template_rows": null,
            "right": null,
            "justify_content": null,
            "_view_module": "@jupyter-widgets/base",
            "overflow": null,
            "_model_module_version": "1.2.0",
            "_view_count": null,
            "flex_flow": null,
            "width": null,
            "min_width": null,
            "border": null,
            "align_items": null,
            "bottom": null,
            "_model_module": "@jupyter-widgets/base",
            "top": null,
            "grid_column": null,
            "overflow_y": null,
            "overflow_x": null,
            "grid_auto_flow": null,
            "grid_area": null,
            "grid_template_columns": null,
            "flex": null,
            "_model_name": "LayoutModel",
            "justify_items": null,
            "grid_row": null,
            "max_height": null,
            "align_content": null,
            "visibility": null,
            "align_self": null,
            "height": null,
            "min_height": null,
            "padding": null,
            "grid_auto_rows": null,
            "grid_gap": null,
            "max_width": null,
            "order": null,
            "_view_module_version": "1.2.0",
            "grid_template_areas": null,
            "object_position": null,
            "object_fit": null,
            "grid_auto_columns": null,
            "margin": null,
            "display": null,
            "left": null
          }
        }
      }
    }
  },
  "cells": [
    {
      "cell_type": "markdown",
      "metadata": {
        "id": "view-in-github",
        "colab_type": "text"
      },
      "source": [
        "<a href=\"https://colab.research.google.com/github/luciainnocenti/IncrementalLearning/blob/Lucia/TestAndTrain.ipynb\" target=\"_parent\"><img src=\"https://colab.research.google.com/assets/colab-badge.svg\" alt=\"Open In Colab\"/></a>"
      ]
    },
    {
      "cell_type": "markdown",
      "metadata": {
        "id": "mbtGDBU3QJaq",
        "colab_type": "text"
      },
      "source": [
        "# Import GitHub repository"
      ]
    },
    {
      "cell_type": "code",
      "metadata": {
        "id": "wf0TmOM3NdFM",
        "colab_type": "code",
        "colab": {}
      },
      "source": [
        "import os\n",
        "import logging\n",
        "import sys\n"
      ],
      "execution_count": 0,
      "outputs": []
    },
    {
      "cell_type": "code",
      "metadata": {
        "id": "8I0pKIVIM2KC",
        "colab_type": "code",
        "colab": {
          "base_uri": "https://localhost:8080/",
          "height": 141
        },
        "outputId": "52f720d6-25cf-4ebc-d0f5-91093d0177ca"
      },
      "source": [
        "if not os.path.isdir('./DatasetCIFAR'):\n",
        "  !git clone -b Lucia https://github.com/luciainnocenti/IncrementalLearning.git\n",
        "  !mv 'IncrementalLearning' 'DatasetCIFAR'"
      ],
      "execution_count": 2,
      "outputs": [
        {
          "output_type": "stream",
          "text": [
            "Cloning into 'IncrementalLearning'...\n",
            "remote: Enumerating objects: 100, done.\u001b[K\n",
            "remote: Counting objects: 100% (100/100), done.\u001b[K\n",
            "remote: Compressing objects: 100% (92/92), done.\u001b[K\n",
            "remote: Total 237 (delta 58), reused 18 (delta 8), pack-reused 137\u001b[K\n",
            "Receiving objects: 100% (237/237), 190.47 KiB | 3.66 MiB/s, done.\n",
            "Resolving deltas: 100% (134/134), done.\n"
          ],
          "name": "stdout"
        }
      ]
    },
    {
      "cell_type": "markdown",
      "metadata": {
        "id": "aLaS2laafBaG",
        "colab_type": "text"
      },
      "source": [
        "# Import packages"
      ]
    },
    {
      "cell_type": "code",
      "metadata": {
        "id": "liUP5Kc1DMbH",
        "colab_type": "code",
        "colab": {}
      },
      "source": [
        "from DatasetCIFAR.data_set import Dataset \n",
        "from DatasetCIFAR import ResNet\n",
        "from DatasetCIFAR import utils\n",
        "from torchvision import models\n",
        "import torch.nn as nn\n",
        "import torch\n",
        "import torch.optim as optim\n",
        "import torchvision\n",
        "from torchvision import transforms\n",
        "from torch.utils.data import Subset, DataLoader\n",
        "from torch.nn import functional as F"
      ],
      "execution_count": 0,
      "outputs": []
    },
    {
      "cell_type": "markdown",
      "metadata": {
        "id": "gQK7sS-Hed0j",
        "colab_type": "text"
      },
      "source": [
        "# Hyper-Parameters"
      ]
    },
    {
      "cell_type": "code",
      "metadata": {
        "id": "Eote8TwxYkfA",
        "colab_type": "code",
        "colab": {}
      },
      "source": [
        "DEVICE = 'cuda' # 'cuda' or 'cpu'\n",
        "BATCH_SIZE = 128\n",
        "NUM_WORKERS = 100\n",
        "TASK_SIZE = 10\n",
        "############################################\n",
        "#NUM_EPOCHS = 70\n",
        "NUM_EPOCHS = 5\n",
        "############################################\n",
        "\n",
        "\n",
        "WEIGHT_DECAY = 0.00001\n",
        "LR = 2\n",
        "STEP_SIZE = [49,63]\n",
        "GAMMA = 1/5"
      ],
      "execution_count": 0,
      "outputs": []
    },
    {
      "cell_type": "markdown",
      "metadata": {
        "id": "0_vlqOL7ehLC",
        "colab_type": "text"
      },
      "source": [
        "# Define Network"
      ]
    },
    {
      "cell_type": "code",
      "metadata": {
        "id": "tWttFW3ljoMj",
        "colab_type": "code",
        "colab": {}
      },
      "source": [
        "resNet = ResNet.resnet32(num_classes=100)\n",
        "resNet = resNet.to(DEVICE)"
      ],
      "execution_count": 0,
      "outputs": []
    },
    {
      "cell_type": "code",
      "metadata": {
        "id": "HSmohsyVWFpr",
        "colab_type": "code",
        "colab": {}
      },
      "source": [
        "resnet_transformer = transforms.Compose([transforms.Resize(32), \n",
        "                                      transforms.Normalize((0.5, 0.5, 0.5), (0.5, 0.5, 0.5)) # Normalizes tensor with mean and standard deviation\n",
        "])\n"
      ],
      "execution_count": 0,
      "outputs": []
    },
    {
      "cell_type": "markdown",
      "metadata": {
        "id": "y_cyhIzFej5-",
        "colab_type": "text"
      },
      "source": [
        "# Define DataSets"
      ]
    },
    {
      "cell_type": "code",
      "metadata": {
        "id": "wcBNohmiYBtP",
        "colab_type": "code",
        "outputId": "294e7257-dd8d-4305-fb89-788f80944939",
        "colab": {
          "base_uri": "https://localhost:8080/",
          "height": 102,
          "referenced_widgets": [
            "4b698779fc124198b41c197384184e0d",
            "e125c1c6c446426682fbe16a0b77136a",
            "e6ac822adcfa4d77b4129235c131dfe3",
            "c5da541c655b429a85c2fd4d6b629ce9",
            "dd60d378c5f84f0a99abfc1dc3e5b6eb",
            "3067b711695344e69d5a548f5ed4c8a9",
            "a6b5905f32de413eb211ce05ba1015cf",
            "e32465222f1c4198971d0d6fb48d354a"
          ]
        }
      },
      "source": [
        "trainDS = Dataset(train=True, transform = resnet_transformer)\n",
        "testDS = Dataset(train=False, transform = resnet_transformer)"
      ],
      "execution_count": 7,
      "outputs": [
        {
          "output_type": "stream",
          "text": [
            "Downloading https://www.cs.toronto.edu/~kriz/cifar-100-python.tar.gz to data/cifar-100-python.tar.gz\n"
          ],
          "name": "stdout"
        },
        {
          "output_type": "display_data",
          "data": {
            "application/vnd.jupyter.widget-view+json": {
              "model_id": "4b698779fc124198b41c197384184e0d",
              "version_minor": 0,
              "version_major": 2
            },
            "text/plain": [
              "HBox(children=(FloatProgress(value=1.0, bar_style='info', max=1.0), HTML(value='')))"
            ]
          },
          "metadata": {
            "tags": []
          }
        },
        {
          "output_type": "stream",
          "text": [
            "Extracting data/cifar-100-python.tar.gz to data\n",
            "Files already downloaded and verified\n"
          ],
          "name": "stdout"
        }
      ]
    },
    {
      "cell_type": "markdown",
      "metadata": {
        "id": "WgAT2KQEersx",
        "colab_type": "text"
      },
      "source": [
        "# Useful plots"
      ]
    },
    {
      "cell_type": "markdown",
      "metadata": {
        "id": "B1l7flYj4NJh",
        "colab_type": "text"
      },
      "source": [
        "The function plotEpoch plots, at the end of each task, how accuracy and loss change during the training phase. It show\n",
        "\n",
        "*   Validation and Training Accuracy\n",
        "*   Validation and Training Loss\n",
        "\n",
        "The function plotTask, for each task, how the accuracy on the validation set change when adding new tasks\n"
      ]
    },
    {
      "cell_type": "code",
      "metadata": {
        "id": "Gr58kkHiIzZU",
        "colab_type": "code",
        "colab": {}
      },
      "source": [
        "def plotTask(pars_tasks):\n",
        "  import numpy as np\n",
        "  import matplotlib.pyplot as plt\n",
        "\n",
        "  x_tasks =  np.linspace(10, 100, 10)\n",
        "\n",
        "  plt.plot(x_tasks, pars_tasks ,'b', label='Accuracy')\n",
        "  plt.xlabel(\"Epoch\")\n",
        "  plt.title('Accuracy over classes')\n",
        "  plt.legend(['Validation Accuracy'])\n",
        "  plt.grid(True)\n",
        "  plt.show()\n",
        "\n"
      ],
      "execution_count": 0,
      "outputs": []
    },
    {
      "cell_type": "markdown",
      "metadata": {
        "id": "iApKvCs942aS",
        "colab_type": "text"
      },
      "source": [
        "# Train and evaluation phase"
      ]
    },
    {
      "cell_type": "code",
      "metadata": {
        "id": "oJse4JU7d9ck",
        "colab_type": "code",
        "outputId": "9ae02088-e4eb-461b-8605-268536cbed89",
        "colab": {
          "base_uri": "https://localhost:8080/",
          "height": 1000
        }
      },
      "source": [
        "pars_tasks = []\n",
        "test_indexes = []\n",
        "\n",
        "for task in range(0, 100, TASK_SIZE):\n",
        "  pars_tasks.insert(task, 0)\n",
        "\n",
        "for task in range(0, 100, TASK_SIZE):\n",
        "\n",
        "  train_indexes = trainDS.__getIndexesGroups__(task)\n",
        "  test_indexes = test_indexes + testDS.__getIndexesGroups__(task)\n",
        "\n",
        "  train_dataset = Subset(trainDS, train_indexes)\n",
        "  test_dataset = Subset(testDS, test_indexes)\n",
        "\n",
        "  train_loader = DataLoader( train_dataset, num_workers=NUM_WORKERS, batch_size=BATCH_SIZE)\n",
        "  test_loader = DataLoader( test_dataset, num_workers=NUM_WORKERS, batch_size=BATCH_SIZE )\n",
        "\n",
        "  if(task == 0):\n",
        "    torch.save(resNet, 'resNet_task{0}.pt'.format(task))\n",
        "  \n",
        "  utils.trainfunction(task, train_loader)\n",
        "  param = utils.evaluationTest(task, test_loader) #evaluate test set at step task\n",
        "  pars_tasks[int(task/10)] = param #pars_task[i] = (accuracy, loss) at i-th task\t\n",
        "\n",
        "#plotTask(pars_tasks)"
      ],
      "execution_count": 0,
      "outputs": [
        {
          "output_type": "stream",
          "text": [
            "\n",
            "[2.0]     [2.0]\n"
          ],
          "name": "stdout"
        },
        {
          "output_type": "stream",
          "text": [
            "/usr/local/lib/python3.6/dist-packages/torch/optim/lr_scheduler.py:123: UserWarning: Detected call of `lr_scheduler.step()` before `optimizer.step()`. In PyTorch 1.1.0 and later, you should call them in the opposite order: `optimizer.step()` before `lr_scheduler.step()`.  Failure to do this will result in PyTorch skipping the first value of the learning rate schedule. See more details at https://pytorch.org/docs/stable/optim.html#how-to-adjust-learning-rate\n",
            "  \"https://pytorch.org/docs/stable/optim.html#how-to-adjust-learning-rate\", UserWarning)\n",
            "/usr/local/lib/python3.6/dist-packages/torch/optim/lr_scheduler.py:396: UserWarning: To get the last learning rate computed by the scheduler, please use `get_last_lr()`.\n",
            "  \"please use `get_last_lr()`.\", UserWarning)\n"
          ],
          "name": "stderr"
        },
        {
          "output_type": "stream",
          "text": [
            "class loss = 0.8049167990684509 dist loss = tensor([0.], device='cuda:0')\n",
            "class loss = 0.41633331775665283 dist loss = tensor([0.], device='cuda:0')\n",
            "class loss = 0.2101389467716217 dist loss = tensor([0.], device='cuda:0')\n",
            "class loss = 0.14223775267601013 dist loss = tensor([0.], device='cuda:0')\n",
            "class loss = 0.11140637844800949 dist loss = tensor([0.], device='cuda:0')\n",
            "class loss = 0.0935656875371933 dist loss = tensor([0.], device='cuda:0')\n",
            "class loss = 0.08191654086112976 dist loss = tensor([0.], device='cuda:0')\n",
            "class loss = 0.0737772211432457 dist loss = tensor([0.], device='cuda:0')\n",
            "class loss = 0.06795715540647507 dist loss = tensor([0.], device='cuda:0')\n",
            "class loss = 0.06358940899372101 dist loss = tensor([0.], device='cuda:0')\n",
            "class loss = 0.059474945068359375 dist loss = tensor([0.], device='cuda:0')\n",
            "class loss = 0.056913215667009354 dist loss = tensor([0.], device='cuda:0')\n",
            "class loss = 0.05400995910167694 dist loss = tensor([0.], device='cuda:0')\n",
            "class loss = 0.0521298348903656 dist loss = tensor([0.], device='cuda:0')\n",
            "class loss = 0.05032096803188324 dist loss = tensor([0.], device='cuda:0')\n",
            "class loss = 0.04917127639055252 dist loss = tensor([0.], device='cuda:0')\n",
            "class loss = 0.047286275774240494 dist loss = tensor([0.], device='cuda:0')\n",
            "class loss = 0.04624980688095093 dist loss = tensor([0.], device='cuda:0')\n",
            "class loss = 0.04502321034669876 dist loss = tensor([0.], device='cuda:0')\n",
            "class loss = 0.04435789957642555 dist loss = tensor([0.], device='cuda:0')\n",
            "class loss = 0.04364136978983879 dist loss = tensor([0.], device='cuda:0')\n",
            "class loss = 0.04323403164744377 dist loss = tensor([0.], device='cuda:0')\n",
            "class loss = 0.042296722531318665 dist loss = tensor([0.], device='cuda:0')\n",
            "class loss = 0.04169004410505295 dist loss = tensor([0.], device='cuda:0')\n",
            "class loss = 0.040920477360486984 dist loss = tensor([0.], device='cuda:0')\n",
            "class loss = 0.04075479879975319 dist loss = tensor([0.], device='cuda:0')\n",
            "class loss = 0.04019217565655708 dist loss = tensor([0.], device='cuda:0')\n",
            "class loss = 0.03940967470407486 dist loss = tensor([0.], device='cuda:0')\n",
            "class loss = 0.039387915283441544 dist loss = tensor([0.], device='cuda:0')\n",
            "class loss = 0.03898565098643303 dist loss = tensor([0.], device='cuda:0')\n",
            "class loss = 0.03885957971215248 dist loss = tensor([0.], device='cuda:0')\n",
            "class loss = 0.038260605186223984 dist loss = tensor([0.], device='cuda:0')\n",
            "class loss = 0.03787662461400032 dist loss = tensor([0.], device='cuda:0')\n",
            "class loss = 0.037745676934719086 dist loss = tensor([0.], device='cuda:0')\n",
            "class loss = 0.03732515126466751 dist loss = tensor([0.], device='cuda:0')\n",
            "class loss = 0.037326958030462265 dist loss = tensor([0.], device='cuda:0')\n",
            "class loss = 0.03717988356947899 dist loss = tensor([0.], device='cuda:0')\n",
            "class loss = 0.036778271198272705 dist loss = tensor([0.], device='cuda:0')\n",
            "class loss = 0.036240749061107635 dist loss = tensor([0.], device='cuda:0')\n",
            "class loss = 0.037249088287353516 dist loss = tensor([0.], device='cuda:0')\n",
            "At step  0  and at epoch =  0  the loss is =  0.037249088287353516  and accuracy is =  0.146\n",
            "[2.0]     [2.0]\n",
            "class loss = 0.03685581311583519 dist loss = tensor([0.], device='cuda:0')\n",
            "class loss = 0.03591760993003845 dist loss = tensor([0.], device='cuda:0')\n",
            "class loss = 0.03601738065481186 dist loss = tensor([0.], device='cuda:0')\n",
            "class loss = 0.03590526059269905 dist loss = tensor([0.], device='cuda:0')\n",
            "class loss = 0.03553162142634392 dist loss = tensor([0.], device='cuda:0')\n",
            "class loss = 0.03534431383013725 dist loss = tensor([0.], device='cuda:0')\n",
            "class loss = 0.034698233008384705 dist loss = tensor([0.], device='cuda:0')\n",
            "class loss = 0.034865494817495346 dist loss = tensor([0.], device='cuda:0')\n",
            "class loss = 0.03491659462451935 dist loss = tensor([0.], device='cuda:0')\n",
            "class loss = 0.035137780010700226 dist loss = tensor([0.], device='cuda:0')\n",
            "class loss = 0.03433353453874588 dist loss = tensor([0.], device='cuda:0')\n",
            "class loss = 0.03517521545290947 dist loss = tensor([0.], device='cuda:0')\n",
            "class loss = 0.03404483199119568 dist loss = tensor([0.], device='cuda:0')\n",
            "class loss = 0.034098345786333084 dist loss = tensor([0.], device='cuda:0')\n",
            "class loss = 0.034378714859485626 dist loss = tensor([0.], device='cuda:0')\n",
            "class loss = 0.0340922474861145 dist loss = tensor([0.], device='cuda:0')\n",
            "class loss = 0.03377419337630272 dist loss = tensor([0.], device='cuda:0')\n",
            "class loss = 0.033616937696933746 dist loss = tensor([0.], device='cuda:0')\n",
            "class loss = 0.033604204654693604 dist loss = tensor([0.], device='cuda:0')\n",
            "class loss = 0.03376477584242821 dist loss = tensor([0.], device='cuda:0')\n",
            "class loss = 0.03347005322575569 dist loss = tensor([0.], device='cuda:0')\n",
            "class loss = 0.03343948721885681 dist loss = tensor([0.], device='cuda:0')\n",
            "class loss = 0.03324184566736221 dist loss = tensor([0.], device='cuda:0')\n",
            "class loss = 0.0331314355134964 dist loss = tensor([0.], device='cuda:0')\n",
            "class loss = 0.03247060999274254 dist loss = tensor([0.], device='cuda:0')\n",
            "class loss = 0.03351631388068199 dist loss = tensor([0.], device='cuda:0')\n",
            "class loss = 0.03262760490179062 dist loss = tensor([0.], device='cuda:0')\n",
            "class loss = 0.032065268605947495 dist loss = tensor([0.], device='cuda:0')\n",
            "class loss = 0.032308440655469894 dist loss = tensor([0.], device='cuda:0')\n",
            "class loss = 0.032576244324445724 dist loss = tensor([0.], device='cuda:0')\n",
            "class loss = 0.03294913098216057 dist loss = tensor([0.], device='cuda:0')\n",
            "class loss = 0.032328005880117416 dist loss = tensor([0.], device='cuda:0')\n",
            "class loss = 0.031571533530950546 dist loss = tensor([0.], device='cuda:0')\n",
            "class loss = 0.03189602494239807 dist loss = tensor([0.], device='cuda:0')\n",
            "class loss = 0.03141217678785324 dist loss = tensor([0.], device='cuda:0')\n",
            "class loss = 0.03168139234185219 dist loss = tensor([0.], device='cuda:0')\n",
            "class loss = 0.03245154768228531 dist loss = tensor([0.], device='cuda:0')\n",
            "class loss = 0.03174668177962303 dist loss = tensor([0.], device='cuda:0')\n",
            "class loss = 0.031491756439208984 dist loss = tensor([0.], device='cuda:0')\n",
            "class loss = 0.03286975994706154 dist loss = tensor([0.], device='cuda:0')\n",
            "At step  0  and at epoch =  1  the loss is =  0.03286975994706154  and accuracy is =  0.2516\n",
            "[2.0]     [2.0]\n",
            "class loss = 0.03249327093362808 dist loss = tensor([0.], device='cuda:0')\n",
            "class loss = 0.03189985081553459 dist loss = tensor([0.], device='cuda:0')\n",
            "class loss = 0.03208412602543831 dist loss = tensor([0.], device='cuda:0')\n",
            "class loss = 0.03139522671699524 dist loss = tensor([0.], device='cuda:0')\n",
            "class loss = 0.03123474307358265 dist loss = tensor([0.], device='cuda:0')\n",
            "class loss = 0.031992651522159576 dist loss = tensor([0.], device='cuda:0')\n",
            "class loss = 0.030609991401433945 dist loss = tensor([0.], device='cuda:0')\n",
            "class loss = 0.031257279217243195 dist loss = tensor([0.], device='cuda:0')\n",
            "class loss = 0.031249945983290672 dist loss = tensor([0.], device='cuda:0')\n",
            "class loss = 0.031299661844968796 dist loss = tensor([0.], device='cuda:0')\n",
            "class loss = 0.030532754957675934 dist loss = tensor([0.], device='cuda:0')\n",
            "class loss = 0.03222260996699333 dist loss = tensor([0.], device='cuda:0')\n",
            "class loss = 0.03039161115884781 dist loss = tensor([0.], device='cuda:0')\n",
            "class loss = 0.0304066464304924 dist loss = tensor([0.], device='cuda:0')\n",
            "class loss = 0.031224744394421577 dist loss = tensor([0.], device='cuda:0')\n",
            "class loss = 0.030989941209554672 dist loss = tensor([0.], device='cuda:0')\n",
            "class loss = 0.030851144343614578 dist loss = tensor([0.], device='cuda:0')\n",
            "class loss = 0.030486127361655235 dist loss = tensor([0.], device='cuda:0')\n",
            "class loss = 0.030832866206765175 dist loss = tensor([0.], device='cuda:0')\n",
            "class loss = 0.030359728261828423 dist loss = tensor([0.], device='cuda:0')\n",
            "class loss = 0.03054872900247574 dist loss = tensor([0.], device='cuda:0')\n",
            "class loss = 0.030302613973617554 dist loss = tensor([0.], device='cuda:0')\n",
            "class loss = 0.03060965985059738 dist loss = tensor([0.], device='cuda:0')\n",
            "class loss = 0.030511703342199326 dist loss = tensor([0.], device='cuda:0')\n",
            "class loss = 0.02953510172665119 dist loss = tensor([0.], device='cuda:0')\n",
            "class loss = 0.03129298612475395 dist loss = tensor([0.], device='cuda:0')\n",
            "class loss = 0.029941238462924957 dist loss = tensor([0.], device='cuda:0')\n",
            "class loss = 0.029344329610466957 dist loss = tensor([0.], device='cuda:0')\n",
            "class loss = 0.029346322640776634 dist loss = tensor([0.], device='cuda:0')\n",
            "class loss = 0.029819782823324203 dist loss = tensor([0.], device='cuda:0')\n",
            "class loss = 0.03079744055867195 dist loss = tensor([0.], device='cuda:0')\n",
            "class loss = 0.02951626665890217 dist loss = tensor([0.], device='cuda:0')\n",
            "class loss = 0.02884238213300705 dist loss = tensor([0.], device='cuda:0')\n",
            "class loss = 0.02947225049138069 dist loss = tensor([0.], device='cuda:0')\n",
            "class loss = 0.02870699018239975 dist loss = tensor([0.], device='cuda:0')\n",
            "class loss = 0.029335517436265945 dist loss = tensor([0.], device='cuda:0')\n",
            "class loss = 0.030693167820572853 dist loss = tensor([0.], device='cuda:0')\n",
            "class loss = 0.029619945213198662 dist loss = tensor([0.], device='cuda:0')\n",
            "class loss = 0.029562009498476982 dist loss = tensor([0.], device='cuda:0')\n",
            "class loss = 0.030576996505260468 dist loss = tensor([0.], device='cuda:0')\n",
            "At step  0  and at epoch =  2  the loss is =  0.030576996505260468  and accuracy is =  0.3016\n",
            "[2.0]     [2.0]\n",
            "class loss = 0.030764000490307808 dist loss = tensor([0.], device='cuda:0')\n",
            "class loss = 0.03025015816092491 dist loss = tensor([0.], device='cuda:0')\n",
            "class loss = 0.029897121712565422 dist loss = tensor([0.], device='cuda:0')\n",
            "class loss = 0.029306942597031593 dist loss = tensor([0.], device='cuda:0')\n",
            "class loss = 0.028922686353325844 dist loss = tensor([0.], device='cuda:0')\n",
            "class loss = 0.030192069709300995 dist loss = tensor([0.], device='cuda:0')\n",
            "class loss = 0.028296444565057755 dist loss = tensor([0.], device='cuda:0')\n",
            "class loss = 0.02912754938006401 dist loss = tensor([0.], device='cuda:0')\n",
            "class loss = 0.02932114526629448 dist loss = tensor([0.], device='cuda:0')\n",
            "class loss = 0.02898787520825863 dist loss = tensor([0.], device='cuda:0')\n",
            "class loss = 0.028292616829276085 dist loss = tensor([0.], device='cuda:0')\n",
            "class loss = 0.03048202209174633 dist loss = tensor([0.], device='cuda:0')\n",
            "class loss = 0.028270522132515907 dist loss = tensor([0.], device='cuda:0')\n",
            "class loss = 0.028298787772655487 dist loss = tensor([0.], device='cuda:0')\n",
            "class loss = 0.029590725898742676 dist loss = tensor([0.], device='cuda:0')\n",
            "class loss = 0.02906292863190174 dist loss = tensor([0.], device='cuda:0')\n",
            "class loss = 0.028818830847740173 dist loss = tensor([0.], device='cuda:0')\n",
            "class loss = 0.028642617166042328 dist loss = tensor([0.], device='cuda:0')\n",
            "class loss = 0.029128044843673706 dist loss = tensor([0.], device='cuda:0')\n",
            "class loss = 0.02790980599820614 dist loss = tensor([0.], device='cuda:0')\n",
            "class loss = 0.028761830180883408 dist loss = tensor([0.], device='cuda:0')\n",
            "class loss = 0.028697799891233444 dist loss = tensor([0.], device='cuda:0')\n",
            "class loss = 0.028825607150793076 dist loss = tensor([0.], device='cuda:0')\n",
            "class loss = 0.028496593236923218 dist loss = tensor([0.], device='cuda:0')\n",
            "class loss = 0.02780144102871418 dist loss = tensor([0.], device='cuda:0')\n",
            "class loss = 0.029841432347893715 dist loss = tensor([0.], device='cuda:0')\n",
            "class loss = 0.02812727354466915 dist loss = tensor([0.], device='cuda:0')\n",
            "class loss = 0.02779356576502323 dist loss = tensor([0.], device='cuda:0')\n",
            "class loss = 0.02750798687338829 dist loss = tensor([0.], device='cuda:0')\n",
            "class loss = 0.02770678699016571 dist loss = tensor([0.], device='cuda:0')\n",
            "class loss = 0.029318571090698242 dist loss = tensor([0.], device='cuda:0')\n",
            "class loss = 0.027523577213287354 dist loss = tensor([0.], device='cuda:0')\n",
            "class loss = 0.026889419183135033 dist loss = tensor([0.], device='cuda:0')\n",
            "class loss = 0.028160372748970985 dist loss = tensor([0.], device='cuda:0')\n",
            "class loss = 0.027054496109485626 dist loss = tensor([0.], device='cuda:0')\n",
            "class loss = 0.027686886489391327 dist loss = tensor([0.], device='cuda:0')\n",
            "class loss = 0.02970060333609581 dist loss = tensor([0.], device='cuda:0')\n",
            "class loss = 0.028412550687789917 dist loss = tensor([0.], device='cuda:0')\n",
            "class loss = 0.02813868038356304 dist loss = tensor([0.], device='cuda:0')\n",
            "class loss = 0.029201338067650795 dist loss = tensor([0.], device='cuda:0')\n",
            "At step  0  and at epoch =  3  the loss is =  0.029201338067650795  and accuracy is =  0.3422\n",
            "[2.0]     [2.0]\n",
            "class loss = 0.030089234933257103 dist loss = tensor([0.], device='cuda:0')\n",
            "class loss = 0.0294400192797184 dist loss = tensor([0.], device='cuda:0')\n",
            "class loss = 0.028626643121242523 dist loss = tensor([0.], device='cuda:0')\n",
            "class loss = 0.02792738936841488 dist loss = tensor([0.], device='cuda:0')\n",
            "class loss = 0.027229968458414078 dist loss = tensor([0.], device='cuda:0')\n",
            "class loss = 0.028498506173491478 dist loss = tensor([0.], device='cuda:0')\n",
            "class loss = 0.027032073587179184 dist loss = tensor([0.], device='cuda:0')\n",
            "class loss = 0.027695387601852417 dist loss = tensor([0.], device='cuda:0')\n",
            "class loss = 0.027910586446523666 dist loss = tensor([0.], device='cuda:0')\n",
            "class loss = 0.027192940935492516 dist loss = tensor([0.], device='cuda:0')\n",
            "class loss = 0.02676546759903431 dist loss = tensor([0.], device='cuda:0')\n",
            "class loss = 0.02900494821369648 dist loss = tensor([0.], device='cuda:0')\n",
            "class loss = 0.026639966294169426 dist loss = tensor([0.], device='cuda:0')\n",
            "class loss = 0.026764217764139175 dist loss = tensor([0.], device='cuda:0')\n",
            "class loss = 0.028481675311923027 dist loss = tensor([0.], device='cuda:0')\n",
            "class loss = 0.027789363637566566 dist loss = tensor([0.], device='cuda:0')\n",
            "class loss = 0.02734285220503807 dist loss = tensor([0.], device='cuda:0')\n",
            "class loss = 0.027365244925022125 dist loss = tensor([0.], device='cuda:0')\n",
            "class loss = 0.028049897402524948 dist loss = tensor([0.], device='cuda:0')\n",
            "class loss = 0.026093672960996628 dist loss = tensor([0.], device='cuda:0')\n",
            "class loss = 0.027405861765146255 dist loss = tensor([0.], device='cuda:0')\n",
            "class loss = 0.027443861588835716 dist loss = tensor([0.], device='cuda:0')\n",
            "class loss = 0.02749311365187168 dist loss = tensor([0.], device='cuda:0')\n",
            "class loss = 0.027233481407165527 dist loss = tensor([0.], device='cuda:0')\n",
            "class loss = 0.02660403959453106 dist loss = tensor([0.], device='cuda:0')\n",
            "class loss = 0.028840135782957077 dist loss = tensor([0.], device='cuda:0')\n",
            "class loss = 0.02706231363117695 dist loss = tensor([0.], device='cuda:0')\n",
            "class loss = 0.026781953871250153 dist loss = tensor([0.], device='cuda:0')\n",
            "class loss = 0.026209749281406403 dist loss = tensor([0.], device='cuda:0')\n",
            "class loss = 0.026365697383880615 dist loss = tensor([0.], device='cuda:0')\n",
            "class loss = 0.02831309288740158 dist loss = tensor([0.], device='cuda:0')\n",
            "class loss = 0.026099853217601776 dist loss = tensor([0.], device='cuda:0')\n",
            "class loss = 0.025731822475790977 dist loss = tensor([0.], device='cuda:0')\n",
            "class loss = 0.026819700375199318 dist loss = tensor([0.], device='cuda:0')\n",
            "class loss = 0.025928279384970665 dist loss = tensor([0.], device='cuda:0')\n",
            "class loss = 0.02638143301010132 dist loss = tensor([0.], device='cuda:0')\n",
            "class loss = 0.02890920080244541 dist loss = tensor([0.], device='cuda:0')\n",
            "class loss = 0.027531147003173828 dist loss = tensor([0.], device='cuda:0')\n",
            "class loss = 0.026968207210302353 dist loss = tensor([0.], device='cuda:0')\n",
            "class loss = 0.027339786291122437 dist loss = tensor([0.], device='cuda:0')\n",
            "At step  0  and at epoch =  4  the loss is =  0.027339786291122437  and accuracy is =  0.3764\n",
            " running corrects = 0\n",
            " running corrects = 0\n",
            " running corrects = 0\n",
            " running corrects = 0\n",
            " running corrects = 0\n",
            " running corrects = 0\n",
            " running corrects = 0\n",
            " running corrects = 0\n",
            "Validation Loss: 2133.615478515625 Validation Accuracy : 0.0\n",
            "[2.0]     [2.0]\n",
            "class loss = 0.08404522389173508 dist loss = -8.06110668182373\n",
            "class loss = 0.08200190216302872 dist loss = -468.1097106933594\n",
            "class loss = 0.6572123765945435 dist loss = -8765.15625\n",
            "class loss = 0.3969176113605499 dist loss = -220433.703125\n",
            "class loss = 460.7795104980469 dist loss = -5832937.5\n",
            "class loss = 11378.044921875 dist loss = -154187824.0\n",
            "class loss = 158559.78125 dist loss = -4079563520.0\n",
            "class loss = 8440390.0 dist loss = -108195061760.0\n",
            "class loss = 247317296.0 dist loss = -2870318989312.0\n",
            "class loss = 1968929408.0 dist loss = -75988541112320.0\n",
            "class loss = 188496183296.0 dist loss = -2008120414961664.0\n",
            "class loss = 4200885911552.0 dist loss = -5.307073762322022e+16\n",
            "class loss = 47578066452480.0 dist loss = -1.4014266630859653e+18\n",
            "class loss = 2924139362910208.0 dist loss = -3.707824568330407e+19\n",
            "class loss = 8.064687579489894e+16 dist loss = -9.841526973770907e+20\n",
            "class loss = 7.370750744267325e+17 dist loss = -2.6096538134562753e+22\n",
            "class loss = 5.865979416482624e+19 dist loss = -6.900099736795188e+23\n",
            "class loss = 1.4308629851973658e+21 dist loss = -1.826620924822467e+25\n",
            "class loss = 1.5772141823407134e+22 dist loss = -4.8343540835969656e+26\n",
            "class loss = 1.1137572654985106e+24 dist loss = -1.2808332940492853e+28\n",
            "class loss = 2.746297992720365e+25 dist loss = -3.391786458027196e+29\n",
            "class loss = nan dist loss = nan\n",
            "class loss = nan dist loss = nan\n",
            "class loss = nan dist loss = nan\n",
            "class loss = nan dist loss = nan\n",
            "class loss = nan dist loss = nan\n",
            "class loss = nan dist loss = nan\n",
            "class loss = nan dist loss = nan\n",
            "class loss = nan dist loss = nan\n",
            "class loss = nan dist loss = nan\n",
            "class loss = nan dist loss = nan\n",
            "class loss = nan dist loss = nan\n",
            "class loss = nan dist loss = nan\n",
            "class loss = nan dist loss = nan\n",
            "class loss = nan dist loss = nan\n",
            "class loss = nan dist loss = nan\n",
            "class loss = nan dist loss = nan\n",
            "class loss = nan dist loss = nan\n",
            "class loss = nan dist loss = nan\n",
            "class loss = nan dist loss = nan\n",
            "At step  10  and at epoch =  0  the loss is =  nan  and accuracy is =  0.047\n",
            "[2.0]     [2.0]\n",
            "class loss = nan dist loss = nan\n",
            "class loss = nan dist loss = nan\n",
            "class loss = nan dist loss = nan\n",
            "class loss = nan dist loss = nan\n",
            "class loss = nan dist loss = nan\n",
            "class loss = nan dist loss = nan\n",
            "class loss = nan dist loss = nan\n",
            "class loss = nan dist loss = nan\n",
            "class loss = nan dist loss = nan\n",
            "class loss = nan dist loss = nan\n",
            "class loss = nan dist loss = nan\n",
            "class loss = nan dist loss = nan\n",
            "class loss = nan dist loss = nan\n",
            "class loss = nan dist loss = nan\n",
            "class loss = nan dist loss = nan\n",
            "class loss = nan dist loss = nan\n",
            "class loss = nan dist loss = nan\n",
            "class loss = nan dist loss = nan\n",
            "class loss = nan dist loss = nan\n",
            "class loss = nan dist loss = nan\n",
            "class loss = nan dist loss = nan\n",
            "class loss = nan dist loss = nan\n",
            "class loss = nan dist loss = nan\n",
            "class loss = nan dist loss = nan\n",
            "class loss = nan dist loss = nan\n",
            "class loss = nan dist loss = nan\n",
            "class loss = nan dist loss = nan\n",
            "class loss = nan dist loss = nan\n",
            "class loss = nan dist loss = nan\n",
            "class loss = nan dist loss = nan\n",
            "class loss = nan dist loss = nan\n",
            "class loss = nan dist loss = nan\n",
            "class loss = nan dist loss = nan\n",
            "class loss = nan dist loss = nan\n",
            "class loss = nan dist loss = nan\n",
            "class loss = nan dist loss = nan\n",
            "class loss = nan dist loss = nan\n",
            "class loss = nan dist loss = nan\n",
            "class loss = nan dist loss = nan\n",
            "class loss = nan dist loss = nan\n",
            "At step  10  and at epoch =  1  the loss is =  nan  and accuracy is =  0.0\n",
            "[2.0]     [2.0]\n",
            "class loss = nan dist loss = nan\n",
            "class loss = nan dist loss = nan\n",
            "class loss = nan dist loss = nan\n",
            "class loss = nan dist loss = nan\n",
            "class loss = nan dist loss = nan\n"
          ],
          "name": "stdout"
        }
      ]
    }
  ]
}