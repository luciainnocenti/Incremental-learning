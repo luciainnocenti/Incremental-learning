{
  "nbformat": 4,
  "nbformat_minor": 0,
  "metadata": {
    "colab": {
      "name": "ResNet.ipynb",
      "provenance": [],
      "collapsed_sections": [],
      "toc_visible": true,
      "authorship_tag": "ABX9TyNUKIOEO0gCMcVqfY3xxkZp",
      "include_colab_link": true
    },
    "kernelspec": {
      "name": "python3",
      "display_name": "Python 3"
    },
    "accelerator": "GPU",
    "widgets": {
      "application/vnd.jupyter.widget-state+json": {
        "db9bbfea3c6d44f4afe1850488cef5b3": {
          "model_module": "@jupyter-widgets/controls",
          "model_name": "HBoxModel",
          "state": {
            "_view_name": "HBoxView",
            "_dom_classes": [],
            "_model_name": "HBoxModel",
            "_view_module": "@jupyter-widgets/controls",
            "_model_module_version": "1.5.0",
            "_view_count": null,
            "_view_module_version": "1.5.0",
            "box_style": "",
            "layout": "IPY_MODEL_f1beb9a9322e4e7a84ef9625d2d255c2",
            "_model_module": "@jupyter-widgets/controls",
            "children": [
              "IPY_MODEL_d21e8b928d3a449abe64c8f620fc1a82",
              "IPY_MODEL_94301a2872024f00847eb52f73f4eb95"
            ]
          }
        },
        "f1beb9a9322e4e7a84ef9625d2d255c2": {
          "model_module": "@jupyter-widgets/base",
          "model_name": "LayoutModel",
          "state": {
            "_view_name": "LayoutView",
            "grid_template_rows": null,
            "right": null,
            "justify_content": null,
            "_view_module": "@jupyter-widgets/base",
            "overflow": null,
            "_model_module_version": "1.2.0",
            "_view_count": null,
            "flex_flow": null,
            "width": null,
            "min_width": null,
            "border": null,
            "align_items": null,
            "bottom": null,
            "_model_module": "@jupyter-widgets/base",
            "top": null,
            "grid_column": null,
            "overflow_y": null,
            "overflow_x": null,
            "grid_auto_flow": null,
            "grid_area": null,
            "grid_template_columns": null,
            "flex": null,
            "_model_name": "LayoutModel",
            "justify_items": null,
            "grid_row": null,
            "max_height": null,
            "align_content": null,
            "visibility": null,
            "align_self": null,
            "height": null,
            "min_height": null,
            "padding": null,
            "grid_auto_rows": null,
            "grid_gap": null,
            "max_width": null,
            "order": null,
            "_view_module_version": "1.2.0",
            "grid_template_areas": null,
            "object_position": null,
            "object_fit": null,
            "grid_auto_columns": null,
            "margin": null,
            "display": null,
            "left": null
          }
        },
        "d21e8b928d3a449abe64c8f620fc1a82": {
          "model_module": "@jupyter-widgets/controls",
          "model_name": "FloatProgressModel",
          "state": {
            "_view_name": "ProgressView",
            "style": "IPY_MODEL_e61f21444f084a94b9081835c8c79756",
            "_dom_classes": [],
            "description": "",
            "_model_name": "FloatProgressModel",
            "bar_style": "info",
            "max": 1,
            "_view_module": "@jupyter-widgets/controls",
            "_model_module_version": "1.5.0",
            "value": 1,
            "_view_count": null,
            "_view_module_version": "1.5.0",
            "orientation": "horizontal",
            "min": 0,
            "description_tooltip": null,
            "_model_module": "@jupyter-widgets/controls",
            "layout": "IPY_MODEL_0732ad0a02b44bf2b2f1133dd559b890"
          }
        },
        "94301a2872024f00847eb52f73f4eb95": {
          "model_module": "@jupyter-widgets/controls",
          "model_name": "HTMLModel",
          "state": {
            "_view_name": "HTMLView",
            "style": "IPY_MODEL_ffc4eb28457444729919631d90b15a1f",
            "_dom_classes": [],
            "description": "",
            "_model_name": "HTMLModel",
            "placeholder": "​",
            "_view_module": "@jupyter-widgets/controls",
            "_model_module_version": "1.5.0",
            "value": " 169009152/? [00:20&lt;00:00, 32007741.08it/s]",
            "_view_count": null,
            "_view_module_version": "1.5.0",
            "description_tooltip": null,
            "_model_module": "@jupyter-widgets/controls",
            "layout": "IPY_MODEL_4105e810449141de824e6bcc26d657ec"
          }
        },
        "e61f21444f084a94b9081835c8c79756": {
          "model_module": "@jupyter-widgets/controls",
          "model_name": "ProgressStyleModel",
          "state": {
            "_view_name": "StyleView",
            "_model_name": "ProgressStyleModel",
            "description_width": "initial",
            "_view_module": "@jupyter-widgets/base",
            "_model_module_version": "1.5.0",
            "_view_count": null,
            "_view_module_version": "1.2.0",
            "bar_color": null,
            "_model_module": "@jupyter-widgets/controls"
          }
        },
        "0732ad0a02b44bf2b2f1133dd559b890": {
          "model_module": "@jupyter-widgets/base",
          "model_name": "LayoutModel",
          "state": {
            "_view_name": "LayoutView",
            "grid_template_rows": null,
            "right": null,
            "justify_content": null,
            "_view_module": "@jupyter-widgets/base",
            "overflow": null,
            "_model_module_version": "1.2.0",
            "_view_count": null,
            "flex_flow": null,
            "width": null,
            "min_width": null,
            "border": null,
            "align_items": null,
            "bottom": null,
            "_model_module": "@jupyter-widgets/base",
            "top": null,
            "grid_column": null,
            "overflow_y": null,
            "overflow_x": null,
            "grid_auto_flow": null,
            "grid_area": null,
            "grid_template_columns": null,
            "flex": null,
            "_model_name": "LayoutModel",
            "justify_items": null,
            "grid_row": null,
            "max_height": null,
            "align_content": null,
            "visibility": null,
            "align_self": null,
            "height": null,
            "min_height": null,
            "padding": null,
            "grid_auto_rows": null,
            "grid_gap": null,
            "max_width": null,
            "order": null,
            "_view_module_version": "1.2.0",
            "grid_template_areas": null,
            "object_position": null,
            "object_fit": null,
            "grid_auto_columns": null,
            "margin": null,
            "display": null,
            "left": null
          }
        },
        "ffc4eb28457444729919631d90b15a1f": {
          "model_module": "@jupyter-widgets/controls",
          "model_name": "DescriptionStyleModel",
          "state": {
            "_view_name": "StyleView",
            "_model_name": "DescriptionStyleModel",
            "description_width": "",
            "_view_module": "@jupyter-widgets/base",
            "_model_module_version": "1.5.0",
            "_view_count": null,
            "_view_module_version": "1.2.0",
            "_model_module": "@jupyter-widgets/controls"
          }
        },
        "4105e810449141de824e6bcc26d657ec": {
          "model_module": "@jupyter-widgets/base",
          "model_name": "LayoutModel",
          "state": {
            "_view_name": "LayoutView",
            "grid_template_rows": null,
            "right": null,
            "justify_content": null,
            "_view_module": "@jupyter-widgets/base",
            "overflow": null,
            "_model_module_version": "1.2.0",
            "_view_count": null,
            "flex_flow": null,
            "width": null,
            "min_width": null,
            "border": null,
            "align_items": null,
            "bottom": null,
            "_model_module": "@jupyter-widgets/base",
            "top": null,
            "grid_column": null,
            "overflow_y": null,
            "overflow_x": null,
            "grid_auto_flow": null,
            "grid_area": null,
            "grid_template_columns": null,
            "flex": null,
            "_model_name": "LayoutModel",
            "justify_items": null,
            "grid_row": null,
            "max_height": null,
            "align_content": null,
            "visibility": null,
            "align_self": null,
            "height": null,
            "min_height": null,
            "padding": null,
            "grid_auto_rows": null,
            "grid_gap": null,
            "max_width": null,
            "order": null,
            "_view_module_version": "1.2.0",
            "grid_template_areas": null,
            "object_position": null,
            "object_fit": null,
            "grid_auto_columns": null,
            "margin": null,
            "display": null,
            "left": null
          }
        }
      }
    }
  },
  "cells": [
    {
      "cell_type": "markdown",
      "metadata": {
        "id": "view-in-github",
        "colab_type": "text"
      },
      "source": [
        "<a href=\"https://colab.research.google.com/github/luciainnocenti/IncrementalLearning/blob/master/TestAndTrain.ipynb\" target=\"_parent\"><img src=\"https://colab.research.google.com/assets/colab-badge.svg\" alt=\"Open In Colab\"/></a>"
      ]
    },
    {
      "cell_type": "markdown",
      "metadata": {
        "id": "mbtGDBU3QJaq",
        "colab_type": "text"
      },
      "source": [
        "# Import GitHub repository"
      ]
    },
    {
      "cell_type": "code",
      "metadata": {
        "id": "wf0TmOM3NdFM",
        "colab_type": "code",
        "colab": {}
      },
      "source": [
        "import os\n",
        "import logging\n",
        "import sys"
      ],
      "execution_count": 0,
      "outputs": []
    },
    {
      "cell_type": "code",
      "metadata": {
        "id": "8I0pKIVIM2KC",
        "colab_type": "code",
        "outputId": "0885551f-9fe0-4fc8-e7f7-84d648b8a123",
        "colab": {
          "base_uri": "https://localhost:8080/",
          "height": 123
        }
      },
      "source": [
        "if not os.path.isdir('./DatasetCIFAR'):\n",
        "  !git clone https://github.com/luciainnocenti/IncrementalLearning.git\n",
        "  !mv 'IncrementalLearning' 'DatasetCIFAR'\n",
        "\n",
        "\n",
        "from DatasetCIFAR.data_set import Dataset"
      ],
      "execution_count": 2,
      "outputs": [
        {
          "output_type": "stream",
          "text": [
            "Cloning into 'IncrementalLearning'...\n",
            "remote: Enumerating objects: 54, done.\u001b[K\n",
            "remote: Counting objects: 100% (54/54), done.\u001b[K\n",
            "remote: Compressing objects: 100% (52/52), done.\u001b[K\n",
            "remote: Total 54 (delta 25), reused 0 (delta 0), pack-reused 0\u001b[K\n",
            "Unpacking objects: 100% (54/54), done.\n"
          ],
          "name": "stdout"
        }
      ]
    },
    {
      "cell_type": "markdown",
      "metadata": {
        "id": "aLaS2laafBaG",
        "colab_type": "text"
      },
      "source": [
        "# Import packages"
      ]
    },
    {
      "cell_type": "code",
      "metadata": {
        "id": "liUP5Kc1DMbH",
        "colab_type": "code",
        "colab": {}
      },
      "source": [
        "from DatasetCIFAR import ResNet\n",
        "from torchvision import models\n",
        "import torch.nn as nn\n",
        "import torch\n",
        "import torch.optim as optim\n",
        "import torchvision\n",
        "from torchvision import transforms\n",
        "from torch.utils.data import Subset, DataLoader"
      ],
      "execution_count": 0,
      "outputs": []
    },
    {
      "cell_type": "markdown",
      "metadata": {
        "id": "gQK7sS-Hed0j",
        "colab_type": "text"
      },
      "source": [
        "# Hyper-Parameters"
      ]
    },
    {
      "cell_type": "code",
      "metadata": {
        "id": "Eote8TwxYkfA",
        "colab_type": "code",
        "colab": {}
      },
      "source": [
        "DEVICE = 'cuda' # 'cuda' or 'cpu'\n",
        "BATCH_SIZE = 64\n",
        "NUM_WORKERS = 100\n",
        "TASK_SIZE = 10\n",
        "STEP_SIZE = 20       # How many epochs before decreasing learning rate (if using a step-down policy)\n",
        "GAMMA = 0.1          # Multiplicative factor for learning rate step-down\n",
        "LR = 1\n",
        "NUM_EPOCHS = 30"
      ],
      "execution_count": 0,
      "outputs": []
    },
    {
      "cell_type": "markdown",
      "metadata": {
        "id": "0_vlqOL7ehLC",
        "colab_type": "text"
      },
      "source": [
        "# Define Network"
      ]
    },
    {
      "cell_type": "code",
      "metadata": {
        "id": "P2CakyTYYmVK",
        "colab_type": "code",
        "colab": {}
      },
      "source": [
        "resNet = models.resnet18(pretrained=False)\n",
        "resNet = resNet.to(DEVICE)"
      ],
      "execution_count": 0,
      "outputs": []
    },
    {
      "cell_type": "code",
      "metadata": {
        "id": "tWttFW3ljoMj",
        "colab_type": "code",
        "colab": {}
      },
      "source": [
        "resNet = ResNet.resnet18()\n",
        "resNet = resNet.to(DEVICE)"
      ],
      "execution_count": 0,
      "outputs": []
    },
    {
      "cell_type": "code",
      "metadata": {
        "id": "HSmohsyVWFpr",
        "colab_type": "code",
        "colab": {}
      },
      "source": [
        "resnet_transformer = transforms.Compose([transforms.Resize(32), \n",
        "                                      transforms.Normalize((0.5, 0.5, 0.5), (0.5, 0.5, 0.5)) # Normalizes tensor with mean and standard deviation\n",
        "])\n"
      ],
      "execution_count": 0,
      "outputs": []
    },
    {
      "cell_type": "markdown",
      "metadata": {
        "id": "y_cyhIzFej5-",
        "colab_type": "text"
      },
      "source": [
        "# Define Data Loader"
      ]
    },
    {
      "cell_type": "code",
      "metadata": {
        "id": "wcBNohmiYBtP",
        "colab_type": "code",
        "outputId": "1b4986d6-8c23-4517-aa68-30aa0b026938",
        "colab": {
          "base_uri": "https://localhost:8080/",
          "height": 102,
          "referenced_widgets": [
            "db9bbfea3c6d44f4afe1850488cef5b3",
            "f1beb9a9322e4e7a84ef9625d2d255c2",
            "d21e8b928d3a449abe64c8f620fc1a82",
            "94301a2872024f00847eb52f73f4eb95",
            "e61f21444f084a94b9081835c8c79756",
            "0732ad0a02b44bf2b2f1133dd559b890",
            "ffc4eb28457444729919631d90b15a1f",
            "4105e810449141de824e6bcc26d657ec"
          ]
        }
      },
      "source": [
        "train_loader = torch.utils.data.DataLoader(\n",
        "    Dataset(train=True, transform = resnet_transformer),\n",
        "    num_workers=NUM_WORKERS,\n",
        "    batch_size=BATCH_SIZE\n",
        ")\n",
        "\n",
        "test_loader = torch.utils.data.DataLoader(\n",
        "    Dataset(train=False, transform = resnet_transformer),\n",
        "    num_workers=NUM_WORKERS,\n",
        "    batch_size=BATCH_SIZE\n",
        ")"
      ],
      "execution_count": 8,
      "outputs": [
        {
          "output_type": "stream",
          "text": [
            "Downloading https://www.cs.toronto.edu/~kriz/cifar-100-python.tar.gz to data/cifar-100-python.tar.gz\n"
          ],
          "name": "stdout"
        },
        {
          "output_type": "display_data",
          "data": {
            "application/vnd.jupyter.widget-view+json": {
              "model_id": "db9bbfea3c6d44f4afe1850488cef5b3",
              "version_minor": 0,
              "version_major": 2
            },
            "text/plain": [
              "HBox(children=(FloatProgress(value=1.0, bar_style='info', max=1.0), HTML(value='')))"
            ]
          },
          "metadata": {
            "tags": []
          }
        },
        {
          "output_type": "stream",
          "text": [
            "Extracting data/cifar-100-python.tar.gz to data\n",
            "Files already downloaded and verified\n"
          ],
          "name": "stdout"
        }
      ]
    },
    {
      "cell_type": "markdown",
      "metadata": {
        "id": "rg4WUpU6ey7G",
        "colab_type": "text"
      },
      "source": [
        "# Define training parameters"
      ]
    },
    {
      "cell_type": "code",
      "metadata": {
        "id": "TR4q4blae3Ft",
        "colab_type": "code",
        "colab": {}
      },
      "source": [
        "criterion = nn.CrossEntropyLoss()\n",
        "\n",
        "optimizer = optim.SGD(resNet.parameters(), lr=LR)\n",
        "\n",
        "scheduler = optim.lr_scheduler.StepLR(optimizer, step_size=STEP_SIZE, gamma=GAMMA)"
      ],
      "execution_count": 0,
      "outputs": []
    },
    {
      "cell_type": "markdown",
      "metadata": {
        "id": "WgAT2KQEersx",
        "colab_type": "text"
      },
      "source": [
        "# Train phase"
      ]
    },
    {
      "cell_type": "code",
      "metadata": {
        "id": "oJse4JU7d9ck",
        "colab_type": "code",
        "outputId": "06b7afef-441f-4018-9931-d3e4cafb8eac",
        "colab": {
          "base_uri": "https://localhost:8080/",
          "height": 843
        }
      },
      "source": [
        "test_indexes = []\n",
        "for task in range(0, 100, TASK_SIZE):\n",
        "  print(\"Task classes {} to {}\".format(task, task + TASK_SIZE))\n",
        "\n",
        "  train_indexes = train_loader.dataset.__getIndexesGroups__(task)\n",
        "  test_indexes = test_indexes + test_loader.dataset.__getIndexesGroups__(task)\n",
        "\n",
        "  train_dataset = Subset(Dataset(train=True), train_indexes)\n",
        "  test_dataset = Subset(Dataset(train=False), test_indexes)\n",
        "  #resNet.fc = nn.Linear(512, task)\n",
        "\n",
        "  for epoch in range(NUM_EPOCHS):\n",
        "    running_corrects = 0\n",
        "    for images, labels in train_loader:\n",
        "    # Bring data over the device of choice\n",
        "      images = images.float().to(DEVICE)\n",
        "      labels = labels.to(DEVICE)\n",
        "      optimizer.zero_grad() # Zero-ing the gradients\n",
        "\n",
        "      # Forward pass to the network\n",
        "      outputs = resNet(images)\n",
        "\n",
        "      loss = criterion(outputs, labels)\n",
        "      # Get predictions\n",
        "      _, preds = torch.max(outputs.data, 1)\n",
        "\n",
        "      # Update Corrects\n",
        "      running_corrects += torch.sum(preds == labels.data).data.item()\n",
        "\n",
        "      loss.backward()  # backward pass: computes gradients\n",
        "      optimizer.step() # update weights based on accumulated gradients\n",
        "    # Calculate Accuracy\n",
        "    accuracy = running_corrects / float(len(train_dataset))\n",
        "    print(\"At step \", str(task), \" and at epoch = \", epoch, \" the loss is = \", loss.item(), \" and accuracy is = \", accuracy)\n",
        "  scheduler.step() "
      ],
      "execution_count": 12,
      "outputs": [
        {
          "output_type": "stream",
          "text": [
            "Task classes 0 to 10\n",
            "Files already downloaded and verified\n",
            "Files already downloaded and verified\n",
            "At step  0  and at epoch =  0  the loss is =  1.8604573011398315  and accuracy is =  0.1076\n",
            "At step  0  and at epoch =  1  the loss is =  1.8413687944412231  and accuracy is =  0.1098\n",
            "At step  0  and at epoch =  2  the loss is =  1.8395475149154663  and accuracy is =  0.1286\n",
            "At step  0  and at epoch =  3  the loss is =  1.836973786354065  and accuracy is =  0.1488\n",
            "At step  0  and at epoch =  4  the loss is =  1.8195903301239014  and accuracy is =  0.1632\n",
            "At step  0  and at epoch =  5  the loss is =  1.826319932937622  and accuracy is =  0.1644\n",
            "At step  0  and at epoch =  6  the loss is =  1.8222366571426392  and accuracy is =  0.1712\n",
            "At step  0  and at epoch =  7  the loss is =  1.8143833875656128  and accuracy is =  0.1742\n",
            "At step  0  and at epoch =  8  the loss is =  1.8137463331222534  and accuracy is =  0.1826\n",
            "At step  0  and at epoch =  9  the loss is =  1.808374047279358  and accuracy is =  0.1944\n",
            "At step  0  and at epoch =  10  the loss is =  1.800901174545288  and accuracy is =  0.2014\n",
            "At step  0  and at epoch =  11  the loss is =  1.7905176877975464  and accuracy is =  0.2156\n",
            "At step  0  and at epoch =  12  the loss is =  1.7930387258529663  and accuracy is =  0.2262\n",
            "At step  0  and at epoch =  13  the loss is =  1.784438967704773  and accuracy is =  0.2396\n",
            "At step  0  and at epoch =  14  the loss is =  1.776665449142456  and accuracy is =  0.2612\n",
            "At step  0  and at epoch =  15  the loss is =  1.7773710489273071  and accuracy is =  0.2776\n",
            "At step  0  and at epoch =  16  the loss is =  1.7750740051269531  and accuracy is =  0.2918\n",
            "At step  0  and at epoch =  17  the loss is =  1.7670483589172363  and accuracy is =  0.3004\n",
            "At step  0  and at epoch =  18  the loss is =  1.767895221710205  and accuracy is =  0.3122\n",
            "At step  0  and at epoch =  19  the loss is =  1.7596598863601685  and accuracy is =  0.3168\n",
            "At step  0  and at epoch =  20  the loss is =  1.747076153755188  and accuracy is =  0.3248\n",
            "At step  0  and at epoch =  21  the loss is =  1.7390875816345215  and accuracy is =  0.3354\n",
            "At step  0  and at epoch =  22  the loss is =  1.7338361740112305  and accuracy is =  0.343\n",
            "At step  0  and at epoch =  23  the loss is =  1.7191171646118164  and accuracy is =  0.3484\n",
            "At step  0  and at epoch =  24  the loss is =  1.7282644510269165  and accuracy is =  0.35\n",
            "At step  0  and at epoch =  25  the loss is =  1.6895883083343506  and accuracy is =  0.3584\n",
            "At step  0  and at epoch =  26  the loss is =  1.682597041130066  and accuracy is =  0.3662\n",
            "At step  0  and at epoch =  27  the loss is =  1.657037377357483  and accuracy is =  0.369\n",
            "At step  0  and at epoch =  28  the loss is =  1.6238094568252563  and accuracy is =  0.3816\n",
            "At step  0  and at epoch =  29  the loss is =  1.6113678216934204  and accuracy is =  0.3828\n",
            "Task classes 10 to 20\n"
          ],
          "name": "stdout"
        },
        {
          "output_type": "error",
          "ename": "AttributeError",
          "evalue": "ignored",
          "traceback": [
            "\u001b[0;31m---------------------------------------------------------------------------\u001b[0m",
            "\u001b[0;31mAttributeError\u001b[0m                            Traceback (most recent call last)",
            "\u001b[0;32m<ipython-input-12-38fba00f5570>\u001b[0m in \u001b[0;36m<module>\u001b[0;34m()\u001b[0m\n\u001b[1;32m      4\u001b[0m \u001b[0;34m\u001b[0m\u001b[0m\n\u001b[1;32m      5\u001b[0m   \u001b[0mtrain_indexes\u001b[0m \u001b[0;34m=\u001b[0m \u001b[0mtrain_loader\u001b[0m\u001b[0;34m.\u001b[0m\u001b[0mdataset\u001b[0m\u001b[0;34m.\u001b[0m\u001b[0m__getIndexesGroups__\u001b[0m\u001b[0;34m(\u001b[0m\u001b[0mtask\u001b[0m\u001b[0;34m)\u001b[0m\u001b[0;34m\u001b[0m\u001b[0;34m\u001b[0m\u001b[0m\n\u001b[0;32m----> 6\u001b[0;31m   \u001b[0mtest_indexes\u001b[0m \u001b[0;34m=\u001b[0m \u001b[0mtest_indexes\u001b[0m\u001b[0;34m.\u001b[0m\u001b[0mappend\u001b[0m\u001b[0;34m(\u001b[0m\u001b[0mtest_loader\u001b[0m\u001b[0;34m.\u001b[0m\u001b[0mdataset\u001b[0m\u001b[0;34m.\u001b[0m\u001b[0m__getIndexesGroups__\u001b[0m\u001b[0;34m(\u001b[0m\u001b[0mtask\u001b[0m\u001b[0;34m)\u001b[0m\u001b[0;34m)\u001b[0m\u001b[0;34m\u001b[0m\u001b[0;34m\u001b[0m\u001b[0m\n\u001b[0m\u001b[1;32m      7\u001b[0m \u001b[0;34m\u001b[0m\u001b[0m\n\u001b[1;32m      8\u001b[0m   \u001b[0mtrain_dataset\u001b[0m \u001b[0;34m=\u001b[0m \u001b[0mSubset\u001b[0m\u001b[0;34m(\u001b[0m\u001b[0mDataset\u001b[0m\u001b[0;34m(\u001b[0m\u001b[0mtrain\u001b[0m\u001b[0;34m=\u001b[0m\u001b[0;32mTrue\u001b[0m\u001b[0;34m)\u001b[0m\u001b[0;34m,\u001b[0m \u001b[0mtrain_indexes\u001b[0m\u001b[0;34m)\u001b[0m\u001b[0;34m\u001b[0m\u001b[0;34m\u001b[0m\u001b[0m\n",
            "\u001b[0;31mAttributeError\u001b[0m: 'NoneType' object has no attribute 'append'"
          ]
        }
      ]
    }
  ]
}