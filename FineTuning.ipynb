{
  "nbformat": 4,
  "nbformat_minor": 0,
  "metadata": {
    "colab": {
      "name": "FineTuning.ipynb",
      "provenance": [],
      "collapsed_sections": [],
      "include_colab_link": true
    },
    "kernelspec": {
      "name": "python3",
      "display_name": "Python 3"
    },
    "accelerator": "GPU",
    "widgets": {
      "application/vnd.jupyter.widget-state+json": {
        "3e9e6e6c1c4c4246baa194613583c60c": {
          "model_module": "@jupyter-widgets/controls",
          "model_name": "HBoxModel",
          "state": {
            "_view_name": "HBoxView",
            "_dom_classes": [],
            "_model_name": "HBoxModel",
            "_view_module": "@jupyter-widgets/controls",
            "_model_module_version": "1.5.0",
            "_view_count": null,
            "_view_module_version": "1.5.0",
            "box_style": "",
            "layout": "IPY_MODEL_8375f5d81da0496dbbc96c16c52d7f9e",
            "_model_module": "@jupyter-widgets/controls",
            "children": [
              "IPY_MODEL_a3d29a2c81ba4e8f945b64c0d6b3bb97",
              "IPY_MODEL_526ca79b9fc94f0f92c67f9aa2d6d04a"
            ]
          }
        },
        "8375f5d81da0496dbbc96c16c52d7f9e": {
          "model_module": "@jupyter-widgets/base",
          "model_name": "LayoutModel",
          "state": {
            "_view_name": "LayoutView",
            "grid_template_rows": null,
            "right": null,
            "justify_content": null,
            "_view_module": "@jupyter-widgets/base",
            "overflow": null,
            "_model_module_version": "1.2.0",
            "_view_count": null,
            "flex_flow": null,
            "width": null,
            "min_width": null,
            "border": null,
            "align_items": null,
            "bottom": null,
            "_model_module": "@jupyter-widgets/base",
            "top": null,
            "grid_column": null,
            "overflow_y": null,
            "overflow_x": null,
            "grid_auto_flow": null,
            "grid_area": null,
            "grid_template_columns": null,
            "flex": null,
            "_model_name": "LayoutModel",
            "justify_items": null,
            "grid_row": null,
            "max_height": null,
            "align_content": null,
            "visibility": null,
            "align_self": null,
            "height": null,
            "min_height": null,
            "padding": null,
            "grid_auto_rows": null,
            "grid_gap": null,
            "max_width": null,
            "order": null,
            "_view_module_version": "1.2.0",
            "grid_template_areas": null,
            "object_position": null,
            "object_fit": null,
            "grid_auto_columns": null,
            "margin": null,
            "display": null,
            "left": null
          }
        },
        "a3d29a2c81ba4e8f945b64c0d6b3bb97": {
          "model_module": "@jupyter-widgets/controls",
          "model_name": "FloatProgressModel",
          "state": {
            "_view_name": "ProgressView",
            "style": "IPY_MODEL_189def33e9cc4466aa1f733f462514a8",
            "_dom_classes": [],
            "description": "",
            "_model_name": "FloatProgressModel",
            "bar_style": "info",
            "max": 1,
            "_view_module": "@jupyter-widgets/controls",
            "_model_module_version": "1.5.0",
            "value": 1,
            "_view_count": null,
            "_view_module_version": "1.5.0",
            "orientation": "horizontal",
            "min": 0,
            "description_tooltip": null,
            "_model_module": "@jupyter-widgets/controls",
            "layout": "IPY_MODEL_243f9e397c914bf78d0891efbb2fd37a"
          }
        },
        "526ca79b9fc94f0f92c67f9aa2d6d04a": {
          "model_module": "@jupyter-widgets/controls",
          "model_name": "HTMLModel",
          "state": {
            "_view_name": "HTMLView",
            "style": "IPY_MODEL_2090e3ceb35e48ceb011aff7c5abe4a5",
            "_dom_classes": [],
            "description": "",
            "_model_name": "HTMLModel",
            "placeholder": "​",
            "_view_module": "@jupyter-widgets/controls",
            "_model_module_version": "1.5.0",
            "value": " 169009152/? [00:19&lt;00:00, 51677323.71it/s]",
            "_view_count": null,
            "_view_module_version": "1.5.0",
            "description_tooltip": null,
            "_model_module": "@jupyter-widgets/controls",
            "layout": "IPY_MODEL_97fd9507487e41bda6fe397fb90ef006"
          }
        },
        "189def33e9cc4466aa1f733f462514a8": {
          "model_module": "@jupyter-widgets/controls",
          "model_name": "ProgressStyleModel",
          "state": {
            "_view_name": "StyleView",
            "_model_name": "ProgressStyleModel",
            "description_width": "initial",
            "_view_module": "@jupyter-widgets/base",
            "_model_module_version": "1.5.0",
            "_view_count": null,
            "_view_module_version": "1.2.0",
            "bar_color": null,
            "_model_module": "@jupyter-widgets/controls"
          }
        },
        "243f9e397c914bf78d0891efbb2fd37a": {
          "model_module": "@jupyter-widgets/base",
          "model_name": "LayoutModel",
          "state": {
            "_view_name": "LayoutView",
            "grid_template_rows": null,
            "right": null,
            "justify_content": null,
            "_view_module": "@jupyter-widgets/base",
            "overflow": null,
            "_model_module_version": "1.2.0",
            "_view_count": null,
            "flex_flow": null,
            "width": null,
            "min_width": null,
            "border": null,
            "align_items": null,
            "bottom": null,
            "_model_module": "@jupyter-widgets/base",
            "top": null,
            "grid_column": null,
            "overflow_y": null,
            "overflow_x": null,
            "grid_auto_flow": null,
            "grid_area": null,
            "grid_template_columns": null,
            "flex": null,
            "_model_name": "LayoutModel",
            "justify_items": null,
            "grid_row": null,
            "max_height": null,
            "align_content": null,
            "visibility": null,
            "align_self": null,
            "height": null,
            "min_height": null,
            "padding": null,
            "grid_auto_rows": null,
            "grid_gap": null,
            "max_width": null,
            "order": null,
            "_view_module_version": "1.2.0",
            "grid_template_areas": null,
            "object_position": null,
            "object_fit": null,
            "grid_auto_columns": null,
            "margin": null,
            "display": null,
            "left": null
          }
        },
        "2090e3ceb35e48ceb011aff7c5abe4a5": {
          "model_module": "@jupyter-widgets/controls",
          "model_name": "DescriptionStyleModel",
          "state": {
            "_view_name": "StyleView",
            "_model_name": "DescriptionStyleModel",
            "description_width": "",
            "_view_module": "@jupyter-widgets/base",
            "_model_module_version": "1.5.0",
            "_view_count": null,
            "_view_module_version": "1.2.0",
            "_model_module": "@jupyter-widgets/controls"
          }
        },
        "97fd9507487e41bda6fe397fb90ef006": {
          "model_module": "@jupyter-widgets/base",
          "model_name": "LayoutModel",
          "state": {
            "_view_name": "LayoutView",
            "grid_template_rows": null,
            "right": null,
            "justify_content": null,
            "_view_module": "@jupyter-widgets/base",
            "overflow": null,
            "_model_module_version": "1.2.0",
            "_view_count": null,
            "flex_flow": null,
            "width": null,
            "min_width": null,
            "border": null,
            "align_items": null,
            "bottom": null,
            "_model_module": "@jupyter-widgets/base",
            "top": null,
            "grid_column": null,
            "overflow_y": null,
            "overflow_x": null,
            "grid_auto_flow": null,
            "grid_area": null,
            "grid_template_columns": null,
            "flex": null,
            "_model_name": "LayoutModel",
            "justify_items": null,
            "grid_row": null,
            "max_height": null,
            "align_content": null,
            "visibility": null,
            "align_self": null,
            "height": null,
            "min_height": null,
            "padding": null,
            "grid_auto_rows": null,
            "grid_gap": null,
            "max_width": null,
            "order": null,
            "_view_module_version": "1.2.0",
            "grid_template_areas": null,
            "object_position": null,
            "object_fit": null,
            "grid_auto_columns": null,
            "margin": null,
            "display": null,
            "left": null
          }
        }
      }
    }
  },
  "cells": [
    {
      "cell_type": "markdown",
      "metadata": {
        "id": "view-in-github",
        "colab_type": "text"
      },
      "source": [
        "<a href=\"https://colab.research.google.com/github/luciainnocenti/IncrementalLearning/blob/newLosses_Lucia/FineTuning.ipynb\" target=\"_parent\"><img src=\"https://colab.research.google.com/assets/colab-badge.svg\" alt=\"Open In Colab\"/></a>"
      ]
    },
    {
      "cell_type": "markdown",
      "metadata": {
        "id": "iCO7owW4O0jb",
        "colab_type": "text"
      },
      "source": [
        "# Import GitHub repository"
      ]
    },
    {
      "cell_type": "code",
      "metadata": {
        "id": "01VjtslGOvI3",
        "colab_type": "code",
        "colab": {}
      },
      "source": [
        "import os\n",
        "import logging\n",
        "import sys"
      ],
      "execution_count": 1,
      "outputs": []
    },
    {
      "cell_type": "code",
      "metadata": {
        "id": "XSC6q-24O8Yr",
        "colab_type": "code",
        "colab": {
          "base_uri": "https://localhost:8080/",
          "height": 141
        },
        "outputId": "6fe5db9d-f748-4f73-a780-ce78b6716b33"
      },
      "source": [
        "if not os.path.isdir('./DatasetCIFAR'):\n",
        "  !git clone https://github.com/luciainnocenti/IncrementalLearning.git\n",
        "  !mv 'IncrementalLearning' 'DatasetCIFAR'"
      ],
      "execution_count": 2,
      "outputs": [
        {
          "output_type": "stream",
          "text": [
            "Cloning into 'IncrementalLearning'...\n",
            "remote: Enumerating objects: 3, done.\u001b[K\n",
            "remote: Counting objects: 100% (3/3), done.\u001b[K\n",
            "remote: Compressing objects: 100% (3/3), done.\u001b[K\n",
            "remote: Total 1314 (delta 0), reused 0 (delta 0), pack-reused 1311\u001b[K\n",
            "Receiving objects: 100% (1314/1314), 879.07 KiB | 3.18 MiB/s, done.\n",
            "Resolving deltas: 100% (842/842), done.\n"
          ],
          "name": "stdout"
        }
      ]
    },
    {
      "cell_type": "markdown",
      "metadata": {
        "id": "_q5sdRysO9-F",
        "colab_type": "text"
      },
      "source": [
        "# Import packages"
      ]
    },
    {
      "cell_type": "code",
      "metadata": {
        "id": "f3AwEK1IPEDf",
        "colab_type": "code",
        "colab": {}
      },
      "source": [
        "from DatasetCIFAR.data_set import Dataset \n",
        "from DatasetCIFAR import ResNet\n",
        "from DatasetCIFAR import utils\n",
        "from DatasetCIFAR import params\n",
        "from torchvision import models\n",
        "import torch.nn as nn\n",
        "import torch\n",
        "import torch.optim as optim\n",
        "import torchvision\n",
        "import numpy as np\n",
        "\n",
        "from torchvision import transforms\n",
        "from torch.utils.data import Subset, DataLoader\n",
        "from torch.nn import functional as F\n",
        "import random\n",
        "random.seed(params.SEED)"
      ],
      "execution_count": 4,
      "outputs": []
    },
    {
      "cell_type": "code",
      "metadata": {
        "id": "FYYOJdxSKLP3",
        "colab_type": "code",
        "colab": {
          "base_uri": "https://localhost:8080/",
          "height": 52
        },
        "outputId": "66ff7c78-db49-4ba1-ca7e-a17552a87384"
      },
      "source": [
        "print(params.SEED)\n",
        "print(params.NUM_WORKERS)"
      ],
      "execution_count": null,
      "outputs": [
        {
          "output_type": "stream",
          "text": [
            "653\n",
            "4\n"
          ],
          "name": "stdout"
        }
      ]
    },
    {
      "cell_type": "markdown",
      "metadata": {
        "id": "xU8_JQV3O_c5",
        "colab_type": "text"
      },
      "source": [
        "# Define Network"
      ]
    },
    {
      "cell_type": "code",
      "metadata": {
        "id": "4SN6IDz3PJUE",
        "colab_type": "code",
        "colab": {}
      },
      "source": [
        "resNet = ResNet.resnet32(num_classes=100)\n",
        "resNet = resNet.to(params.DEVICE)"
      ],
      "execution_count": null,
      "outputs": []
    },
    {
      "cell_type": "code",
      "metadata": {
        "id": "uXGgft0iPLVD",
        "colab_type": "code",
        "colab": {}
      },
      "source": [
        "\n",
        "train_transformer = transforms.Compose([transforms.RandomCrop(size = 32, padding=4),\n",
        "                                         transforms.RandomHorizontalFlip(),\n",
        "                                         transforms.ToTensor(),\n",
        "                                         transforms.Normalize((0.5, 0.5, 0.5), (0.5, 0.5, 0.5))\n",
        "])\n",
        "\n",
        "test_transformer = transforms.Compose([transforms.ToTensor(),\n",
        "                                         transforms.Normalize((0.5, 0.5, 0.5), (0.5, 0.5, 0.5))\n",
        "])"
      ],
      "execution_count": 5,
      "outputs": []
    },
    {
      "cell_type": "markdown",
      "metadata": {
        "id": "_ldJmjNkPNiG",
        "colab_type": "text"
      },
      "source": [
        "# Define DataSets"
      ]
    },
    {
      "cell_type": "code",
      "metadata": {
        "id": "czGrTi8VPRoB",
        "colab_type": "code",
        "colab": {
          "base_uri": "https://localhost:8080/",
          "height": 102,
          "referenced_widgets": [
            "3e9e6e6c1c4c4246baa194613583c60c",
            "8375f5d81da0496dbbc96c16c52d7f9e",
            "a3d29a2c81ba4e8f945b64c0d6b3bb97",
            "526ca79b9fc94f0f92c67f9aa2d6d04a",
            "189def33e9cc4466aa1f733f462514a8",
            "243f9e397c914bf78d0891efbb2fd37a",
            "2090e3ceb35e48ceb011aff7c5abe4a5",
            "97fd9507487e41bda6fe397fb90ef006"
          ]
        },
        "outputId": "22ce19bc-10a7-4645-b1b2-62ed19345b91"
      },
      "source": [
        "trainDS = Dataset(train=True, transform = train_transformer)\n",
        "testDS = Dataset(train=False, transform = test_transformer)"
      ],
      "execution_count": 6,
      "outputs": [
        {
          "output_type": "stream",
          "text": [
            "Downloading https://www.cs.toronto.edu/~kriz/cifar-100-python.tar.gz to data/cifar-100-python.tar.gz\n"
          ],
          "name": "stdout"
        },
        {
          "output_type": "display_data",
          "data": {
            "application/vnd.jupyter.widget-view+json": {
              "model_id": "3e9e6e6c1c4c4246baa194613583c60c",
              "version_minor": 0,
              "version_major": 2
            },
            "text/plain": [
              "HBox(children=(FloatProgress(value=1.0, bar_style='info', max=1.0), HTML(value='')))"
            ]
          },
          "metadata": {
            "tags": []
          }
        },
        {
          "output_type": "stream",
          "text": [
            "Extracting data/cifar-100-python.tar.gz to data\n",
            "Files already downloaded and verified\n"
          ],
          "name": "stdout"
        }
      ]
    },
    {
      "cell_type": "code",
      "metadata": {
        "id": "Tn8XrSWqPUiN",
        "colab_type": "code",
        "colab": {
          "base_uri": "https://localhost:8080/",
          "height": 72
        },
        "outputId": "948c7bce-f88c-4cd7-85dd-fd588affd03d"
      },
      "source": [
        "train_splits = trainDS.splits\n",
        "test_splits = testDS.splits\n",
        "print(train_splits)\n",
        "print(test_splits)"
      ],
      "execution_count": 7,
      "outputs": [
        {
          "output_type": "stream",
          "text": [
            "[[94.0, 63.0, 74.0, 21.0, 35.0, 56.0, 91.0, 96.0, 87.0, 48.0], [68.0, 80.0, 22.0, 37.0, 60.0, 97.0, 51.0, 62.0, 92.0, 76.0], [75.0, 89.0, 23.0, 99.0, 39.0, 66.0, 54.0, 69.0, 84.0, 61.0], [85.0, 24.0, 98.0, 41.0, 73.0, 58.0, 78.0, 77.0, 70.0, 49.0], [65.0, 88.0, 36.0, 93.0, 45.0, 10.0, 90.0, 17.0, 32.0, 59.0], [83.0, 43.0, 53.0, 11.0, 86.0, 19.0, 38.0, 30.0, 40.0, 50.0], [57.0, 81.0, 12.0, 95.0, 25.0, 47.0, 34.0, 52.0, 44.0, 72.0], [46.0, 79.0, 20.0, 28.0, 5.0, 71.0, 8.0, 18.0, 33.0, 15.0], [55.0, 29.0, 64.0, 31.0, 67.0, 7.0, 13.0, 14.0, 42.0, 6.0], [82.0, 2.0, 27.0, 16.0, 26.0, 3.0, 4.0, 1.0, 9.0, 0.0]]\n",
            "[[94.0, 63.0, 74.0, 21.0, 35.0, 56.0, 91.0, 96.0, 87.0, 48.0], [68.0, 80.0, 22.0, 37.0, 60.0, 97.0, 51.0, 62.0, 92.0, 76.0], [75.0, 89.0, 23.0, 99.0, 39.0, 66.0, 54.0, 69.0, 84.0, 61.0], [85.0, 24.0, 98.0, 41.0, 73.0, 58.0, 78.0, 77.0, 70.0, 49.0], [65.0, 88.0, 36.0, 93.0, 45.0, 10.0, 90.0, 17.0, 32.0, 59.0], [83.0, 43.0, 53.0, 11.0, 86.0, 19.0, 38.0, 30.0, 40.0, 50.0], [57.0, 81.0, 12.0, 95.0, 25.0, 47.0, 34.0, 52.0, 44.0, 72.0], [46.0, 79.0, 20.0, 28.0, 5.0, 71.0, 8.0, 18.0, 33.0, 15.0], [55.0, 29.0, 64.0, 31.0, 67.0, 7.0, 13.0, 14.0, 42.0, 6.0], [82.0, 2.0, 27.0, 16.0, 26.0, 3.0, 4.0, 1.0, 9.0, 0.0]]\n"
          ],
          "name": "stdout"
        }
      ]
    },
    {
      "cell_type": "markdown",
      "metadata": {
        "id": "Nc8WMLe3PQvI",
        "colab_type": "text"
      },
      "source": [
        "# Useful plots"
      ]
    },
    {
      "cell_type": "code",
      "metadata": {
        "id": "EQBZdyyrPW_a",
        "colab_type": "code",
        "colab": {}
      },
      "source": [
        "def plotTask(pars_tasks):\n",
        "  import numpy as np\n",
        "  import matplotlib.pyplot as plt\n",
        "\n",
        "  x_tasks =  np.linspace(10, 100, 10)\n",
        "\n",
        "  plt.plot(x_tasks, pars_tasks, label=['Accuracy', 'Loss'])\n",
        "  plt.xlabel(\"Epoch\")\n",
        "  plt.title('Accuracy over tasks')\n",
        "  plt.legend(['Accuracy', 'Loss'])\n",
        "  plt.grid(True)\n",
        "  plt.show()"
      ],
      "execution_count": null,
      "outputs": []
    },
    {
      "cell_type": "code",
      "metadata": {
        "id": "2RzunPCcSfip",
        "colab_type": "code",
        "colab": {}
      },
      "source": [
        "def mapFunction(labels, splits):\n",
        "\tm_l = []\n",
        "\tl_splits = list(splits)\n",
        "\tfor el in labels:\n",
        "\t\tm_l.append( l_splits.index(el) )\n",
        "\treturn torch.LongTensor(m_l).to(params.DEVICE)"
      ],
      "execution_count": null,
      "outputs": []
    },
    {
      "cell_type": "markdown",
      "metadata": {
        "id": "JPWcz2ISRN6E",
        "colab_type": "text"
      },
      "source": [
        "# Train and evaluation phase"
      ]
    },
    {
      "cell_type": "code",
      "metadata": {
        "id": "Pz0VwwqOiZz5",
        "colab_type": "code",
        "colab": {}
      },
      "source": [
        "LR = 2  # The initial Learning Rate\n",
        "MOMENTUM = 0.9  # Hyperparameter for SGD, keep this at 0.9 when using SGD\n",
        "WEIGHT_DECAY = 1e-5  # Regularization, you can keep this at the default\n",
        "\n",
        "NUM_EPOCHS = 70  # Total number of training epochs\n",
        "MILESTONES = [48, 62]  # How many epochs before decreasing learning rate (if using a step-down policy)\n",
        "GAMMA = 0.2  # Multiplicative factor for learning rate step-down"
      ],
      "execution_count": null,
      "outputs": []
    },
    {
      "cell_type": "code",
      "metadata": {
        "id": "fs6I_lmjRLYo",
        "colab_type": "code",
        "colab": {
          "base_uri": "https://localhost:8080/",
          "height": 1000
        },
        "outputId": "8b1d7d2f-998c-4462-ddf6-59ac496b5da1"
      },
      "source": [
        "pars_tasks = []\n",
        "test_indexes = []\n",
        "\n",
        "for task in range(0, 100, params.TASK_SIZE):\n",
        "  pars_tasks.insert(task, 0)\n",
        "\n",
        "\n",
        "criterion = torch.nn.BCEWithLogitsLoss()\n",
        "parameters_to_optimize = resNet.parameters()  # Parameters to optimize\n",
        "optimizer = optim.SGD(parameters_to_optimize, lr=LR, momentum=MOMENTUM, weight_decay=WEIGHT_DECAY)\n",
        "scheduler = optim.lr_scheduler.MultiStepLR(optimizer, milestones=MILESTONES, gamma=GAMMA, last_epoch=-1) \n",
        "current_step = 0\n",
        "\n",
        "\n",
        "for task in range(0, 100, params.TASK_SIZE):\n",
        "\n",
        "  train_indexes = trainDS.__getIndexesGroups__(task)\n",
        "  test_indexes = test_indexes + testDS.__getIndexesGroups__(task)\n",
        "\n",
        "  train_dataset = Subset(trainDS, train_indexes)\n",
        "  test_dataset = Subset(testDS, test_indexes)\n",
        "\n",
        "  train_loader = DataLoader( train_dataset, num_workers=params.NUM_WORKERS, batch_size=params.BATCH_SIZE, shuffle=True)\n",
        "  test_loader = DataLoader( test_dataset, num_workers=params.NUM_WORKERS, batch_size=params.BATCH_SIZE, shuffle=True )\n",
        "  \n",
        "  col = np.array(train_splits[int(task/10)]).astype(int)\n",
        "  \n",
        "  for epoch in range(params.NUM_EPOCHS):\n",
        "    lenght = 0\n",
        "    scheduler.step() #update the learning rate\n",
        "    running_corrects = 0    \n",
        "    for images, labels, _ in train_loader:\n",
        "      images = images.float().to(params.DEVICE)\n",
        "      labels = labels.to(params.DEVICE)\n",
        "      mappedLabels = mapFunction(labels, col)   \n",
        "      onehot_labels = torch.eye(100)[labels].to(params.DEVICE)#it creates the one-hot-encoding list for the labels; needed for BCELoss    \n",
        "      optimizer.zero_grad() # Zero-ing the gradients\n",
        "      outputs = resNet(images)\n",
        "      loss = criterion(outputs,onehot_labels)   \n",
        "      cut_outputs = np.take_along_axis(outputs.to(params.DEVICE), col[None, :], axis = 1).to(params.DEVICE)\n",
        "      _, preds = torch.max(cut_outputs.data, 1)\n",
        "      running_corrects += torch.sum(preds == mappedLabels.data).data.item()   \n",
        "      loss.backward()   \n",
        "      optimizer.step()    \n",
        "      current_step += 1\n",
        "      lenght += len(images)   \n",
        "    accuracy = running_corrects / float(lenght)\n",
        "    print(\"At step \", str(task), \" and at epoch = \", epoch, \" the loss is = \", loss.item(), \" and accuracy is = \", accuracy)\n",
        "  \n",
        "  resNet = resNet.eval()\n",
        "\n",
        "  t_l = 0\n",
        "  running_corrects = 0\n",
        "  col = []\n",
        "  for i,x in enumerate( test_splits[ :int(task/10) + 1]):\n",
        "  \tv = np.array(x)\n",
        "  \tcol = np.concatenate( (col,v), axis = None)\n",
        "  col = col.astype(int)\n",
        "\n",
        "  for images, labels, _ in test_loader:\n",
        "    images = images.float().to(params.DEVICE)\n",
        "    labels = labels.to(params.DEVICE)   \n",
        "    mappedLabels = mapFunction(labels, col)\n",
        "\n",
        "    onehot_labels = torch.eye(100)[labels].to(params.DEVICE)\n",
        "\n",
        "    outputs = resNet(images).to(params.DEVICE)\n",
        "    cut_outputs = np.take_along_axis(outputs, col[None, :], axis = 1)\n",
        "    cut_outputs = cut_outputs.to(params.DEVICE)\n",
        "    _, preds = torch.max(cut_outputs.data, 1)\n",
        "\t\t# Update Corrects\n",
        "    running_corrects += torch.sum(preds == mappedLabels.data).data.item()\n",
        "    print(len(images))\n",
        "    t_l += len(images)\n",
        "  # Calculate Accuracy\n",
        "  accuracy = running_corrects / float(t_l)\n",
        "  loss = criterion(outputs,onehot_labels)\n",
        "  print('Validation Loss: {} Validation Accuracy : {}'.format(loss.item(),accuracy) )\n",
        "  pars_tasks[int(task/10)] = (accuracy, loss.item())\n",
        "  resNet = resNet.train(True)\n",
        "  \n"
      ],
      "execution_count": null,
      "outputs": [
        {
          "output_type": "stream",
          "text": [
            "/usr/local/lib/python3.6/dist-packages/torch/optim/lr_scheduler.py:123: UserWarning: Detected call of `lr_scheduler.step()` before `optimizer.step()`. In PyTorch 1.1.0 and later, you should call them in the opposite order: `optimizer.step()` before `lr_scheduler.step()`.  Failure to do this will result in PyTorch skipping the first value of the learning rate schedule. See more details at https://pytorch.org/docs/stable/optim.html#how-to-adjust-learning-rate\n",
            "  \"https://pytorch.org/docs/stable/optim.html#how-to-adjust-learning-rate\", UserWarning)\n"
          ],
          "name": "stderr"
        },
        {
          "output_type": "stream",
          "text": [
            "At step  0  and at epoch =  0  the loss is =  0.025680460035800934  and accuracy is =  0.1924\n",
            "At step  0  and at epoch =  1  the loss is =  0.01826625131070614  and accuracy is =  0.42\n",
            "At step  0  and at epoch =  2  the loss is =  0.02262370102107525  and accuracy is =  0.5436\n",
            "At step  0  and at epoch =  3  the loss is =  0.02940012328326702  and accuracy is =  0.617\n",
            "At step  0  and at epoch =  4  the loss is =  0.021597061306238174  and accuracy is =  0.6598\n",
            "At step  0  and at epoch =  5  the loss is =  0.00930134579539299  and accuracy is =  0.7104\n",
            "At step  0  and at epoch =  6  the loss is =  0.015164823271334171  and accuracy is =  0.7542\n",
            "At step  0  and at epoch =  7  the loss is =  0.017768889665603638  and accuracy is =  0.7824\n",
            "At step  0  and at epoch =  8  the loss is =  0.01239742524921894  and accuracy is =  0.774\n",
            "At step  0  and at epoch =  9  the loss is =  0.015470647253096104  and accuracy is =  0.7992\n",
            "At step  0  and at epoch =  10  the loss is =  0.007862900383770466  and accuracy is =  0.8464\n",
            "At step  0  and at epoch =  11  the loss is =  0.01175229623913765  and accuracy is =  0.872\n",
            "At step  0  and at epoch =  12  the loss is =  0.016712991520762444  and accuracy is =  0.834\n",
            "At step  0  and at epoch =  13  the loss is =  0.022358659654855728  and accuracy is =  0.8702\n",
            "At step  0  and at epoch =  14  the loss is =  0.017749065533280373  and accuracy is =  0.8844\n",
            "At step  0  and at epoch =  15  the loss is =  0.010497897863388062  and accuracy is =  0.8854\n",
            "At step  0  and at epoch =  16  the loss is =  0.019527994096279144  and accuracy is =  0.9328\n",
            "At step  0  and at epoch =  17  the loss is =  0.008839457295835018  and accuracy is =  0.8786\n",
            "At step  0  and at epoch =  18  the loss is =  0.011386392638087273  and accuracy is =  0.9286\n",
            "At step  0  and at epoch =  19  the loss is =  0.021096838638186455  and accuracy is =  0.9432\n",
            "At step  0  and at epoch =  20  the loss is =  0.03186472877860069  and accuracy is =  0.8404\n",
            "At step  0  and at epoch =  21  the loss is =  0.014486038126051426  and accuracy is =  0.9056\n",
            "At step  0  and at epoch =  22  the loss is =  0.007920504547655582  and accuracy is =  0.9352\n",
            "At step  0  and at epoch =  23  the loss is =  0.02247333712875843  and accuracy is =  0.9602\n",
            "At step  0  and at epoch =  24  the loss is =  0.025727400556206703  and accuracy is =  0.945\n",
            "At step  0  and at epoch =  25  the loss is =  0.009306852705776691  and accuracy is =  0.927\n",
            "At step  0  and at epoch =  26  the loss is =  0.007077304180711508  and accuracy is =  0.9554\n",
            "At step  0  and at epoch =  27  the loss is =  0.023896856233477592  and accuracy is =  0.9476\n",
            "At step  0  and at epoch =  28  the loss is =  0.014158305712044239  and accuracy is =  0.9102\n",
            "At step  0  and at epoch =  29  the loss is =  0.006796317640691996  and accuracy is =  0.946\n",
            "At step  0  and at epoch =  30  the loss is =  0.007051961496472359  and accuracy is =  0.9648\n",
            "At step  0  and at epoch =  31  the loss is =  0.004756496287882328  and accuracy is =  0.9726\n",
            "At step  0  and at epoch =  32  the loss is =  0.003942383918911219  and accuracy is =  0.9756\n",
            "At step  0  and at epoch =  33  the loss is =  0.00373104028403759  and accuracy is =  0.9906\n",
            "At step  0  and at epoch =  34  the loss is =  0.0002926669258158654  and accuracy is =  0.994\n",
            "At step  0  and at epoch =  35  the loss is =  0.015198918990790844  and accuracy is =  0.9974\n",
            "At step  0  and at epoch =  36  the loss is =  0.001310678431764245  and accuracy is =  0.9592\n",
            "At step  0  and at epoch =  37  the loss is =  0.009800945408642292  and accuracy is =  0.989\n",
            "At step  0  and at epoch =  38  the loss is =  0.011241583153605461  and accuracy is =  0.9484\n",
            "At step  0  and at epoch =  39  the loss is =  0.005893326364457607  and accuracy is =  0.9082\n",
            "At step  0  and at epoch =  40  the loss is =  0.019654830917716026  and accuracy is =  0.966\n",
            "At step  0  and at epoch =  41  the loss is =  0.023079480975866318  and accuracy is =  0.9714\n",
            "At step  0  and at epoch =  42  the loss is =  0.005859879776835442  and accuracy is =  0.9636\n",
            "At step  0  and at epoch =  43  the loss is =  0.0010835694847628474  and accuracy is =  0.9814\n",
            "At step  0  and at epoch =  44  the loss is =  0.006602020934224129  and accuracy is =  0.9968\n",
            "At step  0  and at epoch =  45  the loss is =  0.0037266823928803205  and accuracy is =  0.9776\n",
            "At step  0  and at epoch =  46  the loss is =  0.000998815754428506  and accuracy is =  0.9858\n",
            "At step  0  and at epoch =  47  the loss is =  0.0008121123537421227  and accuracy is =  0.996\n",
            "At step  0  and at epoch =  48  the loss is =  0.007489148993045092  and accuracy is =  0.9992\n",
            "At step  0  and at epoch =  49  the loss is =  0.0003982315247412771  and accuracy is =  0.999\n",
            "At step  0  and at epoch =  50  the loss is =  0.0008718486060388386  and accuracy is =  0.9996\n",
            "At step  0  and at epoch =  51  the loss is =  0.017428120598196983  and accuracy is =  0.9998\n",
            "At step  0  and at epoch =  52  the loss is =  0.012157049030065536  and accuracy is =  0.9994\n",
            "At step  0  and at epoch =  53  the loss is =  0.0013646601000800729  and accuracy is =  0.9966\n",
            "At step  0  and at epoch =  54  the loss is =  0.0019643171690404415  and accuracy is =  0.9998\n",
            "At step  0  and at epoch =  55  the loss is =  0.004842929542064667  and accuracy is =  1.0\n",
            "At step  0  and at epoch =  56  the loss is =  0.002954288385808468  and accuracy is =  0.9996\n",
            "At step  0  and at epoch =  57  the loss is =  0.005125274416059256  and accuracy is =  0.9984\n",
            "At step  0  and at epoch =  58  the loss is =  0.005969997961074114  and accuracy is =  0.9968\n",
            "At step  0  and at epoch =  59  the loss is =  0.01249478105455637  and accuracy is =  0.9974\n",
            "At step  0  and at epoch =  60  the loss is =  0.006596762221306562  and accuracy is =  0.9974\n",
            "At step  0  and at epoch =  61  the loss is =  0.012837471440434456  and accuracy is =  0.9966\n",
            "At step  0  and at epoch =  62  the loss is =  0.0109925651922822  and accuracy is =  0.9982\n",
            "At step  0  and at epoch =  63  the loss is =  0.0006923202308826149  and accuracy is =  0.9992\n",
            "At step  0  and at epoch =  64  the loss is =  0.0061675249598920345  and accuracy is =  0.999\n",
            "At step  0  and at epoch =  65  the loss is =  0.0016640288522467017  and accuracy is =  0.9996\n",
            "At step  0  and at epoch =  66  the loss is =  0.009500053711235523  and accuracy is =  0.9994\n",
            "At step  0  and at epoch =  67  the loss is =  0.012388980016112328  and accuracy is =  0.9992\n",
            "At step  0  and at epoch =  68  the loss is =  0.013802426867187023  and accuracy is =  0.9996\n",
            "At step  0  and at epoch =  69  the loss is =  0.007386600133031607  and accuracy is =  0.9996\n",
            "128\n",
            "128\n",
            "128\n",
            "128\n",
            "128\n",
            "128\n",
            "128\n",
            "104\n",
            "Validation Loss: 0.011857252568006516 Validation Accuracy : 0.801\n",
            "At step  10  and at epoch =  0  the loss is =  0.08272674679756165  and accuracy is =  0.1418\n",
            "At step  10  and at epoch =  1  the loss is =  0.06345079094171524  and accuracy is =  0.1994\n",
            "At step  10  and at epoch =  2  the loss is =  0.028767267242074013  and accuracy is =  0.2446\n",
            "At step  10  and at epoch =  3  the loss is =  0.028693055734038353  and accuracy is =  0.2776\n",
            "At step  10  and at epoch =  4  the loss is =  0.025773536413908005  and accuracy is =  0.38\n",
            "At step  10  and at epoch =  5  the loss is =  0.02694571204483509  and accuracy is =  0.4324\n",
            "At step  10  and at epoch =  6  the loss is =  0.025575509294867516  and accuracy is =  0.474\n",
            "At step  10  and at epoch =  7  the loss is =  0.025232357904314995  and accuracy is =  0.4886\n",
            "At step  10  and at epoch =  8  the loss is =  0.028200307860970497  and accuracy is =  0.5164\n",
            "At step  10  and at epoch =  9  the loss is =  0.020913749933242798  and accuracy is =  0.5446\n",
            "At step  10  and at epoch =  10  the loss is =  0.02022763155400753  and accuracy is =  0.5612\n",
            "At step  10  and at epoch =  11  the loss is =  0.01995912566781044  and accuracy is =  0.5712\n",
            "At step  10  and at epoch =  12  the loss is =  0.021860837936401367  and accuracy is =  0.5818\n",
            "At step  10  and at epoch =  13  the loss is =  0.021368715912103653  and accuracy is =  0.5938\n",
            "At step  10  and at epoch =  14  the loss is =  0.017055030912160873  and accuracy is =  0.6026\n"
          ],
          "name": "stdout"
        }
      ]
    },
    {
      "cell_type": "code",
      "metadata": {
        "id": "pomxiRbnUNq7",
        "colab_type": "code",
        "colab": {}
      },
      "source": [
        "plotTask(pars_tasks)"
      ],
      "execution_count": null,
      "outputs": []
    }
  ]
}