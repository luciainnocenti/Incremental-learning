{
  "nbformat": 4,
  "nbformat_minor": 0,
  "metadata": {
    "colab": {
      "name": "FineTuning.ipynb",
      "provenance": [],
      "collapsed_sections": [],
      "authorship_tag": "ABX9TyOh4xRMJjyiJLkU4PT7qNJs",
      "include_colab_link": true
    },
    "kernelspec": {
      "name": "python3",
      "display_name": "Python 3"
    },
    "accelerator": "GPU",
    "widgets": {
      "application/vnd.jupyter.widget-state+json": {
        "68e8502698704473825c1da1bfa15b79": {
          "model_module": "@jupyter-widgets/controls",
          "model_name": "HBoxModel",
          "state": {
            "_view_name": "HBoxView",
            "_dom_classes": [],
            "_model_name": "HBoxModel",
            "_view_module": "@jupyter-widgets/controls",
            "_model_module_version": "1.5.0",
            "_view_count": null,
            "_view_module_version": "1.5.0",
            "box_style": "",
            "layout": "IPY_MODEL_4ce50b26e6ea4544a64d349cf7ab5799",
            "_model_module": "@jupyter-widgets/controls",
            "children": [
              "IPY_MODEL_9c8293c0a156493e8e9bac2c409d4e44",
              "IPY_MODEL_5f45341396b34f6ea851b827eff19b43"
            ]
          }
        },
        "4ce50b26e6ea4544a64d349cf7ab5799": {
          "model_module": "@jupyter-widgets/base",
          "model_name": "LayoutModel",
          "state": {
            "_view_name": "LayoutView",
            "grid_template_rows": null,
            "right": null,
            "justify_content": null,
            "_view_module": "@jupyter-widgets/base",
            "overflow": null,
            "_model_module_version": "1.2.0",
            "_view_count": null,
            "flex_flow": null,
            "width": null,
            "min_width": null,
            "border": null,
            "align_items": null,
            "bottom": null,
            "_model_module": "@jupyter-widgets/base",
            "top": null,
            "grid_column": null,
            "overflow_y": null,
            "overflow_x": null,
            "grid_auto_flow": null,
            "grid_area": null,
            "grid_template_columns": null,
            "flex": null,
            "_model_name": "LayoutModel",
            "justify_items": null,
            "grid_row": null,
            "max_height": null,
            "align_content": null,
            "visibility": null,
            "align_self": null,
            "height": null,
            "min_height": null,
            "padding": null,
            "grid_auto_rows": null,
            "grid_gap": null,
            "max_width": null,
            "order": null,
            "_view_module_version": "1.2.0",
            "grid_template_areas": null,
            "object_position": null,
            "object_fit": null,
            "grid_auto_columns": null,
            "margin": null,
            "display": null,
            "left": null
          }
        },
        "9c8293c0a156493e8e9bac2c409d4e44": {
          "model_module": "@jupyter-widgets/controls",
          "model_name": "FloatProgressModel",
          "state": {
            "_view_name": "ProgressView",
            "style": "IPY_MODEL_c0e68430665c4dcdb9a65239fdb51c24",
            "_dom_classes": [],
            "description": "",
            "_model_name": "FloatProgressModel",
            "bar_style": "info",
            "max": 1,
            "_view_module": "@jupyter-widgets/controls",
            "_model_module_version": "1.5.0",
            "value": 1,
            "_view_count": null,
            "_view_module_version": "1.5.0",
            "orientation": "horizontal",
            "min": 0,
            "description_tooltip": null,
            "_model_module": "@jupyter-widgets/controls",
            "layout": "IPY_MODEL_0c760f96773e48b8ba85ef685648d9ef"
          }
        },
        "5f45341396b34f6ea851b827eff19b43": {
          "model_module": "@jupyter-widgets/controls",
          "model_name": "HTMLModel",
          "state": {
            "_view_name": "HTMLView",
            "style": "IPY_MODEL_5ed9d3106a834e8d882d0cd6b89462a8",
            "_dom_classes": [],
            "description": "",
            "_model_name": "HTMLModel",
            "placeholder": "​",
            "_view_module": "@jupyter-widgets/controls",
            "_model_module_version": "1.5.0",
            "value": " 169009152/? [00:30&lt;00:00, 36849304.35it/s]",
            "_view_count": null,
            "_view_module_version": "1.5.0",
            "description_tooltip": null,
            "_model_module": "@jupyter-widgets/controls",
            "layout": "IPY_MODEL_4a6e415efae3456c81b7e98e74567a29"
          }
        },
        "c0e68430665c4dcdb9a65239fdb51c24": {
          "model_module": "@jupyter-widgets/controls",
          "model_name": "ProgressStyleModel",
          "state": {
            "_view_name": "StyleView",
            "_model_name": "ProgressStyleModel",
            "description_width": "initial",
            "_view_module": "@jupyter-widgets/base",
            "_model_module_version": "1.5.0",
            "_view_count": null,
            "_view_module_version": "1.2.0",
            "bar_color": null,
            "_model_module": "@jupyter-widgets/controls"
          }
        },
        "0c760f96773e48b8ba85ef685648d9ef": {
          "model_module": "@jupyter-widgets/base",
          "model_name": "LayoutModel",
          "state": {
            "_view_name": "LayoutView",
            "grid_template_rows": null,
            "right": null,
            "justify_content": null,
            "_view_module": "@jupyter-widgets/base",
            "overflow": null,
            "_model_module_version": "1.2.0",
            "_view_count": null,
            "flex_flow": null,
            "width": null,
            "min_width": null,
            "border": null,
            "align_items": null,
            "bottom": null,
            "_model_module": "@jupyter-widgets/base",
            "top": null,
            "grid_column": null,
            "overflow_y": null,
            "overflow_x": null,
            "grid_auto_flow": null,
            "grid_area": null,
            "grid_template_columns": null,
            "flex": null,
            "_model_name": "LayoutModel",
            "justify_items": null,
            "grid_row": null,
            "max_height": null,
            "align_content": null,
            "visibility": null,
            "align_self": null,
            "height": null,
            "min_height": null,
            "padding": null,
            "grid_auto_rows": null,
            "grid_gap": null,
            "max_width": null,
            "order": null,
            "_view_module_version": "1.2.0",
            "grid_template_areas": null,
            "object_position": null,
            "object_fit": null,
            "grid_auto_columns": null,
            "margin": null,
            "display": null,
            "left": null
          }
        },
        "5ed9d3106a834e8d882d0cd6b89462a8": {
          "model_module": "@jupyter-widgets/controls",
          "model_name": "DescriptionStyleModel",
          "state": {
            "_view_name": "StyleView",
            "_model_name": "DescriptionStyleModel",
            "description_width": "",
            "_view_module": "@jupyter-widgets/base",
            "_model_module_version": "1.5.0",
            "_view_count": null,
            "_view_module_version": "1.2.0",
            "_model_module": "@jupyter-widgets/controls"
          }
        },
        "4a6e415efae3456c81b7e98e74567a29": {
          "model_module": "@jupyter-widgets/base",
          "model_name": "LayoutModel",
          "state": {
            "_view_name": "LayoutView",
            "grid_template_rows": null,
            "right": null,
            "justify_content": null,
            "_view_module": "@jupyter-widgets/base",
            "overflow": null,
            "_model_module_version": "1.2.0",
            "_view_count": null,
            "flex_flow": null,
            "width": null,
            "min_width": null,
            "border": null,
            "align_items": null,
            "bottom": null,
            "_model_module": "@jupyter-widgets/base",
            "top": null,
            "grid_column": null,
            "overflow_y": null,
            "overflow_x": null,
            "grid_auto_flow": null,
            "grid_area": null,
            "grid_template_columns": null,
            "flex": null,
            "_model_name": "LayoutModel",
            "justify_items": null,
            "grid_row": null,
            "max_height": null,
            "align_content": null,
            "visibility": null,
            "align_self": null,
            "height": null,
            "min_height": null,
            "padding": null,
            "grid_auto_rows": null,
            "grid_gap": null,
            "max_width": null,
            "order": null,
            "_view_module_version": "1.2.0",
            "grid_template_areas": null,
            "object_position": null,
            "object_fit": null,
            "grid_auto_columns": null,
            "margin": null,
            "display": null,
            "left": null
          }
        }
      }
    }
  },
  "cells": [
    {
      "cell_type": "markdown",
      "metadata": {
        "id": "view-in-github",
        "colab_type": "text"
      },
      "source": [
        "<a href=\"https://colab.research.google.com/github/luciainnocenti/IncrementalLearning/blob/master/FineTuning.ipynb\" target=\"_parent\"><img src=\"https://colab.research.google.com/assets/colab-badge.svg\" alt=\"Open In Colab\"/></a>"
      ]
    },
    {
      "cell_type": "markdown",
      "metadata": {
        "id": "iCO7owW4O0jb",
        "colab_type": "text"
      },
      "source": [
        "# Import GitHub repository"
      ]
    },
    {
      "cell_type": "code",
      "metadata": {
        "id": "01VjtslGOvI3",
        "colab_type": "code",
        "colab": {}
      },
      "source": [
        "import os\n",
        "import logging\n",
        "import sys"
      ],
      "execution_count": 0,
      "outputs": []
    },
    {
      "cell_type": "code",
      "metadata": {
        "id": "XSC6q-24O8Yr",
        "colab_type": "code",
        "colab": {
          "base_uri": "https://localhost:8080/",
          "height": 141
        },
        "outputId": "dba5d3c6-e41d-43e4-dcac-3f19cb044597"
      },
      "source": [
        "if not os.path.isdir('./DatasetCIFAR'):\n",
        "  !git clone https://github.com/luciainnocenti/IncrementalLearning.git\n",
        "  !mv 'IncrementalLearning' 'DatasetCIFAR'"
      ],
      "execution_count": 2,
      "outputs": [
        {
          "output_type": "stream",
          "text": [
            "Cloning into 'IncrementalLearning'...\n",
            "remote: Enumerating objects: 191, done.\u001b[K\n",
            "remote: Counting objects: 100% (191/191), done.\u001b[K\n",
            "remote: Compressing objects: 100% (191/191), done.\u001b[K\n",
            "remote: Total 723 (delta 118), reused 0 (delta 0), pack-reused 532\u001b[K\n",
            "Receiving objects: 100% (723/723), 461.03 KiB | 6.78 MiB/s, done.\n",
            "Resolving deltas: 100% (447/447), done.\n"
          ],
          "name": "stdout"
        }
      ]
    },
    {
      "cell_type": "markdown",
      "metadata": {
        "id": "_q5sdRysO9-F",
        "colab_type": "text"
      },
      "source": [
        "# Import packages"
      ]
    },
    {
      "cell_type": "code",
      "metadata": {
        "id": "f3AwEK1IPEDf",
        "colab_type": "code",
        "colab": {}
      },
      "source": [
        "from DatasetCIFAR.data_set import Dataset \n",
        "from DatasetCIFAR import ResNet\n",
        "from DatasetCIFAR import utils\n",
        "from DatasetCIFAR import params\n",
        "from torchvision import models\n",
        "import torch.nn as nn\n",
        "import torch\n",
        "import torch.optim as optim\n",
        "import torchvision\n",
        "import numpy as np\n",
        "\n",
        "from torchvision import transforms\n",
        "from torch.utils.data import Subset, DataLoader\n",
        "from torch.nn import functional as F\n",
        "import random\n",
        "random.seed(params.SEED)"
      ],
      "execution_count": 0,
      "outputs": []
    },
    {
      "cell_type": "markdown",
      "metadata": {
        "id": "xU8_JQV3O_c5",
        "colab_type": "text"
      },
      "source": [
        "# Define Network"
      ]
    },
    {
      "cell_type": "code",
      "metadata": {
        "id": "4SN6IDz3PJUE",
        "colab_type": "code",
        "colab": {}
      },
      "source": [
        "resNet = ResNet.resnet32(num_classes=100)\n",
        "resNet = resNet.to(params.DEVICE)"
      ],
      "execution_count": 0,
      "outputs": []
    },
    {
      "cell_type": "code",
      "metadata": {
        "id": "uXGgft0iPLVD",
        "colab_type": "code",
        "colab": {}
      },
      "source": [
        "\n",
        "train_transformer = transforms.Compose([transforms.RandomCrop(size = 32, padding=4),\n",
        "                                         transforms.RandomHorizontalFlip(),\n",
        "                                         transforms.ToTensor(),\n",
        "                                         transforms.Normalize((0.5, 0.5, 0.5), (0.5, 0.5, 0.5))\n",
        "])\n",
        "\n",
        "test_transformer = transforms.Compose([transforms.ToTensor(),\n",
        "                                         transforms.Normalize((0.5, 0.5, 0.5), (0.5, 0.5, 0.5))\n",
        "])"
      ],
      "execution_count": 0,
      "outputs": []
    },
    {
      "cell_type": "markdown",
      "metadata": {
        "id": "_ldJmjNkPNiG",
        "colab_type": "text"
      },
      "source": [
        "# Define DataSets"
      ]
    },
    {
      "cell_type": "code",
      "metadata": {
        "id": "czGrTi8VPRoB",
        "colab_type": "code",
        "colab": {
          "base_uri": "https://localhost:8080/",
          "height": 102,
          "referenced_widgets": [
            "68e8502698704473825c1da1bfa15b79",
            "4ce50b26e6ea4544a64d349cf7ab5799",
            "9c8293c0a156493e8e9bac2c409d4e44",
            "5f45341396b34f6ea851b827eff19b43",
            "c0e68430665c4dcdb9a65239fdb51c24",
            "0c760f96773e48b8ba85ef685648d9ef",
            "5ed9d3106a834e8d882d0cd6b89462a8",
            "4a6e415efae3456c81b7e98e74567a29"
          ]
        },
        "outputId": "113cef64-0631-4e9c-8da1-c9395a41c016"
      },
      "source": [
        "trainDS = Dataset(train=True, transform = train_transformer)\n",
        "testDS = Dataset(train=False, transform = test_transformer)"
      ],
      "execution_count": 6,
      "outputs": [
        {
          "output_type": "stream",
          "text": [
            "Downloading https://www.cs.toronto.edu/~kriz/cifar-100-python.tar.gz to data/cifar-100-python.tar.gz\n"
          ],
          "name": "stdout"
        },
        {
          "output_type": "display_data",
          "data": {
            "application/vnd.jupyter.widget-view+json": {
              "model_id": "68e8502698704473825c1da1bfa15b79",
              "version_minor": 0,
              "version_major": 2
            },
            "text/plain": [
              "HBox(children=(FloatProgress(value=1.0, bar_style='info', max=1.0), HTML(value='')))"
            ]
          },
          "metadata": {
            "tags": []
          }
        },
        {
          "output_type": "stream",
          "text": [
            "Extracting data/cifar-100-python.tar.gz to data\n",
            "Files already downloaded and verified\n"
          ],
          "name": "stdout"
        }
      ]
    },
    {
      "cell_type": "code",
      "metadata": {
        "id": "Tn8XrSWqPUiN",
        "colab_type": "code",
        "colab": {
          "base_uri": "https://localhost:8080/",
          "height": 72
        },
        "outputId": "5d7ae227-6003-4cfd-b970-4f26eb8e7a14"
      },
      "source": [
        "train_splits = trainDS.splits\n",
        "test_splits = testDS.splits\n",
        "print(train_splits)\n",
        "print(test_splits)"
      ],
      "execution_count": 7,
      "outputs": [
        {
          "output_type": "stream",
          "text": [
            "[[94.0, 63.0, 74.0, 21.0, 35.0, 56.0, 91.0, 96.0, 87.0, 48.0], [68.0, 80.0, 22.0, 37.0, 60.0, 97.0, 51.0, 62.0, 92.0, 76.0], [75.0, 89.0, 23.0, 99.0, 39.0, 66.0, 54.0, 69.0, 84.0, 61.0], [85.0, 24.0, 98.0, 41.0, 73.0, 58.0, 78.0, 77.0, 70.0, 49.0], [65.0, 88.0, 36.0, 93.0, 45.0, 10.0, 90.0, 17.0, 32.0, 59.0], [83.0, 43.0, 53.0, 11.0, 86.0, 19.0, 38.0, 30.0, 40.0, 50.0], [57.0, 81.0, 12.0, 95.0, 25.0, 47.0, 34.0, 52.0, 44.0, 72.0], [46.0, 79.0, 20.0, 28.0, 5.0, 71.0, 8.0, 18.0, 33.0, 15.0], [55.0, 29.0, 64.0, 31.0, 67.0, 7.0, 13.0, 14.0, 42.0, 6.0], [82.0, 2.0, 27.0, 16.0, 26.0, 3.0, 4.0, 1.0, 9.0, 0.0]]\n",
            "[[94.0, 63.0, 74.0, 21.0, 35.0, 56.0, 91.0, 96.0, 87.0, 48.0], [68.0, 80.0, 22.0, 37.0, 60.0, 97.0, 51.0, 62.0, 92.0, 76.0], [75.0, 89.0, 23.0, 99.0, 39.0, 66.0, 54.0, 69.0, 84.0, 61.0], [85.0, 24.0, 98.0, 41.0, 73.0, 58.0, 78.0, 77.0, 70.0, 49.0], [65.0, 88.0, 36.0, 93.0, 45.0, 10.0, 90.0, 17.0, 32.0, 59.0], [83.0, 43.0, 53.0, 11.0, 86.0, 19.0, 38.0, 30.0, 40.0, 50.0], [57.0, 81.0, 12.0, 95.0, 25.0, 47.0, 34.0, 52.0, 44.0, 72.0], [46.0, 79.0, 20.0, 28.0, 5.0, 71.0, 8.0, 18.0, 33.0, 15.0], [55.0, 29.0, 64.0, 31.0, 67.0, 7.0, 13.0, 14.0, 42.0, 6.0], [82.0, 2.0, 27.0, 16.0, 26.0, 3.0, 4.0, 1.0, 9.0, 0.0]]\n"
          ],
          "name": "stdout"
        }
      ]
    },
    {
      "cell_type": "markdown",
      "metadata": {
        "id": "Nc8WMLe3PQvI",
        "colab_type": "text"
      },
      "source": [
        "# Useful plots"
      ]
    },
    {
      "cell_type": "code",
      "metadata": {
        "id": "EQBZdyyrPW_a",
        "colab_type": "code",
        "colab": {}
      },
      "source": [
        "def plotTask(pars_tasks):\n",
        "  import numpy as np\n",
        "  import matplotlib.pyplot as plt\n",
        "\n",
        "  x_tasks =  np.linspace(10, 100, 10)\n",
        "\n",
        "  plt.plot(x_tasks, pars_tasks, label=['Accuracy', 'Loss'])\n",
        "  plt.xlabel(\"Epoch\")\n",
        "  plt.title('Accuracy over tasks')\n",
        "  plt.legend(['Accuracy', 'Loss'])\n",
        "  plt.grid(True)\n",
        "  plt.show()"
      ],
      "execution_count": 0,
      "outputs": []
    },
    {
      "cell_type": "code",
      "metadata": {
        "id": "2RzunPCcSfip",
        "colab_type": "code",
        "colab": {}
      },
      "source": [
        "def mapFunction(labels, splits):\n",
        "\tm_l = []\n",
        "\tl_splits = list(splits)\n",
        "\tfor el in labels:\n",
        "\t\tm_l.append( l_splits.index(el) )\n",
        "\treturn torch.LongTensor(m_l).to(params.DEVICE)"
      ],
      "execution_count": 0,
      "outputs": []
    },
    {
      "cell_type": "markdown",
      "metadata": {
        "id": "JPWcz2ISRN6E",
        "colab_type": "text"
      },
      "source": [
        "# Train and evaluation phase"
      ]
    },
    {
      "cell_type": "code",
      "metadata": {
        "id": "fs6I_lmjRLYo",
        "colab_type": "code",
        "colab": {
          "base_uri": "https://localhost:8080/",
          "height": 1000
        },
        "outputId": "a2588644-a91a-4b29-a14d-a3d85c70ecda"
      },
      "source": [
        "pars_tasks = []\n",
        "test_indexes = []\n",
        "\n",
        "for task in range(0, 100, params.TASK_SIZE):\n",
        "  pars_tasks.insert(task, 0)\n",
        "\n",
        "\n",
        "optimizer = torch.optim.SGD(resNet.parameters(), lr=params.LR, momentum=params.MOMENTUM, weight_decay=params.WEIGHT_DECAY)\n",
        "scheduler = optim.lr_scheduler.MultiStepLR(optimizer, params.STEP_SIZE, gamma=params.GAMMA) #allow to change the LR at predefined epochs\n",
        "criterion = torch.nn.BCEWithLogitsLoss()\n",
        "\n",
        "current_step = 0\n",
        "\n",
        "\n",
        "for task in range(0, 100, params.TASK_SIZE):\n",
        "\n",
        "  train_indexes = trainDS.__getIndexesGroups__(task)\n",
        "  test_indexes = test_indexes + testDS.__getIndexesGroups__(task)\n",
        "\n",
        "  train_dataset = Subset(trainDS, train_indexes)\n",
        "  test_dataset = Subset(testDS, test_indexes)\n",
        "\n",
        "  train_loader = DataLoader( train_dataset, num_workers=params.NUM_WORKERS, batch_size=params.BATCH_SIZE, shuffle=True)\n",
        "  test_loader = DataLoader( test_dataset, num_workers=params.NUM_WORKERS, batch_size=params.BATCH_SIZE, shuffle=True )\n",
        "  \n",
        "  col = np.array(train_splits[int(task/10)]).astype(int)\n",
        "  \n",
        "  for epoch in range(params.NUM_EPOCHS):\n",
        "    lenght = 0\n",
        "    scheduler.step() #update the learning rate\n",
        "    running_corrects = 0    \n",
        "    for images, labels in train_loader:\n",
        "      images = images.float().to(params.DEVICE)\n",
        "      labels = labels.to(params.DEVICE)\n",
        "      mappedLabels = mapFunction(labels, col)   \n",
        "      onehot_labels = torch.eye(100)[labels].to(params.DEVICE)#it creates the one-hot-encoding list for the labels; needed for BCELoss    \n",
        "      optimizer.zero_grad() # Zero-ing the gradients\n",
        "      outputs = resNet(images)\n",
        "      loss = criterion(outputs,onehot_labels)   \n",
        "      cut_outputs = np.take_along_axis(outputs.to(params.DEVICE), col[None, :], axis = 1).to(params.DEVICE)\n",
        "      _, preds = torch.max(cut_outputs.data, 1)\n",
        "      running_corrects += torch.sum(preds == mappedLabels.data).data.item()   \n",
        "      loss.backward()   \n",
        "      optimizer.step()    \n",
        "      current_step += 1\n",
        "      lenght += len(images)   \n",
        "    accuracy = running_corrects / float(lenght)\n",
        "    print(\"At step \", str(task), \" and at epoch = \", epoch, \" the loss is = \", loss.item(), \" and accuracy is = \", accuracy)\n",
        "  \n",
        "  resNet = resNet.eval()\n",
        "\n",
        "  t_l = 0\n",
        "  running_corrects = 0\n",
        "  col = []\n",
        "  for i,x in enumerate( test_splits[ :int(task/10) + 1]):\n",
        "  \tv = np.array(x)\n",
        "  \tcol = np.concatenate( (col,v), axis = None)\n",
        "  col = col.astype(int)\n",
        "\n",
        "  for images, labels in test_loader:\n",
        "    images = images.float().to(params.DEVICE)\n",
        "    labels = labels.to(params.DEVICE)   \n",
        "    mappedLabels = mapFunction(labels, col)\n",
        "\n",
        "    onehot_labels = torch.eye(100)[labels].to(params.DEVICE)\n",
        "\n",
        "    outputs = resNet(images).to(params.DEVICE)\n",
        "    cut_outputs = np.take_along_axis(outputs, col[None, :], axis = 1)\n",
        "    cut_outputs = cut_outputs.to(params.DEVICE)\n",
        "    _, preds = torch.max(cut_outputs.data, 1)\n",
        "\t\t# Update Corrects\n",
        "    running_corrects += torch.sum(preds == mappedLabels.data).data.item()\n",
        "    print(len(images))\n",
        "    t_l += len(images)\n",
        "  # Calculate Accuracy\n",
        "  accuracy = running_corrects / float(t_l)\n",
        "  loss = criterion(outputs,onehot_labels)\n",
        "  print('Validation Loss: {} Validation Accuracy : {}'.format(loss.item(),accuracy) )\n",
        "  pars_tasks[int(task/10)] = (accuracy, loss.item())\n",
        "  resNet = resNet.train(True)\n",
        "  \n"
      ],
      "execution_count": 0,
      "outputs": [
        {
          "output_type": "stream",
          "text": [
            "/usr/local/lib/python3.6/dist-packages/torch/optim/lr_scheduler.py:123: UserWarning: Detected call of `lr_scheduler.step()` before `optimizer.step()`. In PyTorch 1.1.0 and later, you should call them in the opposite order: `optimizer.step()` before `lr_scheduler.step()`.  Failure to do this will result in PyTorch skipping the first value of the learning rate schedule. See more details at https://pytorch.org/docs/stable/optim.html#how-to-adjust-learning-rate\n",
            "  \"https://pytorch.org/docs/stable/optim.html#how-to-adjust-learning-rate\", UserWarning)\n"
          ],
          "name": "stderr"
        },
        {
          "output_type": "stream",
          "text": [
            "At step  0  and at epoch =  0  the loss is =  0.03215781971812248  and accuracy is =  0.1676\n",
            "At step  0  and at epoch =  1  the loss is =  0.027249468490481377  and accuracy is =  0.3172\n",
            "At step  0  and at epoch =  2  the loss is =  0.018743839114904404  and accuracy is =  0.4784\n",
            "At step  0  and at epoch =  3  the loss is =  0.013447639532387257  and accuracy is =  0.5818\n",
            "At step  0  and at epoch =  4  the loss is =  0.006173739209771156  and accuracy is =  0.6442\n",
            "At step  0  and at epoch =  5  the loss is =  0.005560406483709812  and accuracy is =  0.692\n",
            "At step  0  and at epoch =  6  the loss is =  0.0028979170601814985  and accuracy is =  0.746\n",
            "At step  0  and at epoch =  7  the loss is =  0.0031620138324797153  and accuracy is =  0.783\n",
            "At step  0  and at epoch =  8  the loss is =  0.0016392829129472375  and accuracy is =  0.8078\n",
            "At step  0  and at epoch =  9  the loss is =  0.002007654868066311  and accuracy is =  0.8106\n",
            "At step  0  and at epoch =  10  the loss is =  0.0016649344470351934  and accuracy is =  0.8296\n",
            "At step  0  and at epoch =  11  the loss is =  0.0016948181437328458  and accuracy is =  0.8524\n",
            "At step  0  and at epoch =  12  the loss is =  0.0011223785113543272  and accuracy is =  0.8728\n",
            "At step  0  and at epoch =  13  the loss is =  0.0011678512673825026  and accuracy is =  0.8862\n",
            "At step  0  and at epoch =  14  the loss is =  0.0020455126650631428  and accuracy is =  0.8896\n",
            "At step  0  and at epoch =  15  the loss is =  0.0010997597128152847  and accuracy is =  0.9002\n",
            "At step  0  and at epoch =  16  the loss is =  0.00850864127278328  and accuracy is =  0.9164\n",
            "At step  0  and at epoch =  17  the loss is =  0.006594354286789894  and accuracy is =  0.911\n",
            "At step  0  and at epoch =  18  the loss is =  0.0038937567733228207  and accuracy is =  0.9052\n",
            "At step  0  and at epoch =  19  the loss is =  0.0016275857342407107  and accuracy is =  0.946\n",
            "At step  0  and at epoch =  20  the loss is =  0.0019253573846071959  and accuracy is =  0.9644\n",
            "At step  0  and at epoch =  21  the loss is =  0.0037921227049082518  and accuracy is =  0.9816\n",
            "At step  0  and at epoch =  22  the loss is =  0.002192181535065174  and accuracy is =  0.9674\n",
            "At step  0  and at epoch =  23  the loss is =  0.0008969387854449451  and accuracy is =  0.9698\n",
            "At step  0  and at epoch =  24  the loss is =  0.0003070876409765333  and accuracy is =  0.9878\n",
            "At step  0  and at epoch =  25  the loss is =  0.00022220566461328417  and accuracy is =  0.9914\n",
            "At step  0  and at epoch =  26  the loss is =  0.00019674997020047158  and accuracy is =  0.99\n",
            "At step  0  and at epoch =  27  the loss is =  0.0001377798616886139  and accuracy is =  0.9938\n",
            "At step  0  and at epoch =  28  the loss is =  0.00010189897147938609  and accuracy is =  0.9962\n",
            "At step  0  and at epoch =  29  the loss is =  0.00011110212653875351  and accuracy is =  0.9984\n",
            "At step  0  and at epoch =  30  the loss is =  8.96217898116447e-05  and accuracy is =  0.9984\n",
            "At step  0  and at epoch =  31  the loss is =  6.341285188682377e-05  and accuracy is =  0.9986\n",
            "At step  0  and at epoch =  32  the loss is =  6.147164094727486e-05  and accuracy is =  0.9988\n",
            "At step  0  and at epoch =  33  the loss is =  5.532069189939648e-05  and accuracy is =  0.9994\n",
            "At step  0  and at epoch =  34  the loss is =  5.084226722829044e-05  and accuracy is =  1.0\n",
            "At step  0  and at epoch =  35  the loss is =  4.944783358951099e-05  and accuracy is =  1.0\n",
            "At step  0  and at epoch =  36  the loss is =  4.919731873087585e-05  and accuracy is =  1.0\n",
            "At step  0  and at epoch =  37  the loss is =  4.943945168633945e-05  and accuracy is =  1.0\n",
            "At step  0  and at epoch =  38  the loss is =  4.9965641665039584e-05  and accuracy is =  1.0\n",
            "At step  0  and at epoch =  39  the loss is =  5.065393997938372e-05  and accuracy is =  1.0\n",
            "At step  0  and at epoch =  40  the loss is =  5.145816976437345e-05  and accuracy is =  1.0\n",
            "At step  0  and at epoch =  41  the loss is =  5.235632852418348e-05  and accuracy is =  1.0\n",
            "At step  0  and at epoch =  42  the loss is =  5.332923319656402e-05  and accuracy is =  1.0\n",
            "At step  0  and at epoch =  43  the loss is =  5.4347634431906044e-05  and accuracy is =  1.0\n",
            "At step  0  and at epoch =  44  the loss is =  5.535451418836601e-05  and accuracy is =  1.0\n",
            "At step  0  and at epoch =  45  the loss is =  5.637317008222453e-05  and accuracy is =  1.0\n",
            "At step  0  and at epoch =  46  the loss is =  5.741532368119806e-05  and accuracy is =  1.0\n",
            "At step  0  and at epoch =  47  the loss is =  5.844483166583814e-05  and accuracy is =  1.0\n",
            "At step  0  and at epoch =  48  the loss is =  5.842345126438886e-05  and accuracy is =  1.0\n",
            "At step  0  and at epoch =  49  the loss is =  5.854811388417147e-05  and accuracy is =  1.0\n",
            "At step  0  and at epoch =  50  the loss is =  5.868928201380186e-05  and accuracy is =  1.0\n",
            "At step  0  and at epoch =  51  the loss is =  5.884919301024638e-05  and accuracy is =  1.0\n",
            "At step  0  and at epoch =  52  the loss is =  5.9017573221353814e-05  and accuracy is =  1.0\n",
            "At step  0  and at epoch =  53  the loss is =  5.919265458942391e-05  and accuracy is =  1.0\n",
            "At step  0  and at epoch =  54  the loss is =  5.937339301453903e-05  and accuracy is =  1.0\n",
            "At step  0  and at epoch =  55  the loss is =  5.9555160987656564e-05  and accuracy is =  1.0\n",
            "At step  0  and at epoch =  56  the loss is =  5.974169835099019e-05  and accuracy is =  1.0\n",
            "At step  0  and at epoch =  57  the loss is =  5.992793376208283e-05  and accuracy is =  1.0\n",
            "At step  0  and at epoch =  58  the loss is =  6.0115951782790944e-05  and accuracy is =  1.0\n",
            "At step  0  and at epoch =  59  the loss is =  6.0307102103251964e-05  and accuracy is =  1.0\n",
            "At step  0  and at epoch =  60  the loss is =  6.049541480024345e-05  and accuracy is =  1.0\n",
            "At step  0  and at epoch =  61  the loss is =  6.0687150835292414e-05  and accuracy is =  1.0\n",
            "At step  0  and at epoch =  62  the loss is =  6.069418668630533e-05  and accuracy is =  1.0\n",
            "At step  0  and at epoch =  63  the loss is =  6.072783799027093e-05  and accuracy is =  1.0\n",
            "At step  0  and at epoch =  64  the loss is =  6.0763268265873194e-05  and accuracy is =  1.0\n",
            "At step  0  and at epoch =  65  the loss is =  6.0795577155658975e-05  and accuracy is =  1.0\n",
            "At step  0  and at epoch =  66  the loss is =  6.083309563109651e-05  and accuracy is =  1.0\n",
            "At step  0  and at epoch =  67  the loss is =  6.08683840255253e-05  and accuracy is =  1.0\n",
            "At step  0  and at epoch =  68  the loss is =  6.0903366829734296e-05  and accuracy is =  1.0\n",
            "At step  0  and at epoch =  69  the loss is =  6.093939737183973e-05  and accuracy is =  1.0\n",
            "128\n",
            "128\n",
            "128\n",
            "128\n",
            "128\n",
            "128\n",
            "128\n",
            "104\n",
            "Validation Loss: 0.020260749384760857 Validation Accuracy : 0.777\n",
            "At step  10  and at epoch =  0  the loss is =  0.09027716517448425  and accuracy is =  0.136\n",
            "At step  10  and at epoch =  1  the loss is =  0.050920408219099045  and accuracy is =  0.2096\n",
            "At step  10  and at epoch =  2  the loss is =  0.0291143786162138  and accuracy is =  0.241\n",
            "At step  10  and at epoch =  3  the loss is =  0.02306681126356125  and accuracy is =  0.283\n",
            "At step  10  and at epoch =  4  the loss is =  0.02022813819348812  and accuracy is =  0.3926\n",
            "At step  10  and at epoch =  5  the loss is =  0.01815018430352211  and accuracy is =  0.484\n",
            "At step  10  and at epoch =  6  the loss is =  0.016306808218359947  and accuracy is =  0.5206\n",
            "At step  10  and at epoch =  7  the loss is =  0.014667750336229801  and accuracy is =  0.5496\n",
            "At step  10  and at epoch =  8  the loss is =  0.0132553456351161  and accuracy is =  0.5736\n",
            "At step  10  and at epoch =  9  the loss is =  0.012021305039525032  and accuracy is =  0.592\n",
            "At step  10  and at epoch =  10  the loss is =  0.010940957814455032  and accuracy is =  0.6094\n",
            "At step  10  and at epoch =  11  the loss is =  0.009974670596420765  and accuracy is =  0.6216\n",
            "At step  10  and at epoch =  12  the loss is =  0.009115520864725113  and accuracy is =  0.6392\n",
            "At step  10  and at epoch =  13  the loss is =  0.008369307033717632  and accuracy is =  0.6506\n",
            "At step  10  and at epoch =  14  the loss is =  0.007709221448749304  and accuracy is =  0.669\n",
            "At step  10  and at epoch =  15  the loss is =  0.007109895348548889  and accuracy is =  0.6826\n",
            "At step  10  and at epoch =  16  the loss is =  0.00657794950529933  and accuracy is =  0.6948\n",
            "At step  10  and at epoch =  17  the loss is =  0.006082372739911079  and accuracy is =  0.7108\n",
            "At step  10  and at epoch =  18  the loss is =  0.005620970390737057  and accuracy is =  0.7252\n",
            "At step  10  and at epoch =  19  the loss is =  0.005191215313971043  and accuracy is =  0.7446\n",
            "At step  10  and at epoch =  20  the loss is =  0.0047925119288265705  and accuracy is =  0.7594\n",
            "At step  10  and at epoch =  21  the loss is =  0.004421412479132414  and accuracy is =  0.7736\n",
            "At step  10  and at epoch =  22  the loss is =  0.004078980069607496  and accuracy is =  0.7876\n",
            "At step  10  and at epoch =  23  the loss is =  0.003764806315302849  and accuracy is =  0.8032\n",
            "At step  10  and at epoch =  24  the loss is =  0.003471777308732271  and accuracy is =  0.8184\n",
            "At step  10  and at epoch =  25  the loss is =  0.003200520295649767  and accuracy is =  0.8328\n",
            "At step  10  and at epoch =  26  the loss is =  0.0029474825132638216  and accuracy is =  0.8454\n",
            "At step  10  and at epoch =  27  the loss is =  0.0027120511513203382  and accuracy is =  0.8592\n",
            "At step  10  and at epoch =  28  the loss is =  0.0024999864399433136  and accuracy is =  0.8756\n",
            "At step  10  and at epoch =  29  the loss is =  0.0023005737457424402  and accuracy is =  0.889\n",
            "At step  10  and at epoch =  30  the loss is =  0.0021151495166122913  and accuracy is =  0.9028\n",
            "At step  10  and at epoch =  31  the loss is =  0.0019424565834924579  and accuracy is =  0.9156\n",
            "At step  10  and at epoch =  32  the loss is =  0.0017868963768705726  and accuracy is =  0.9284\n",
            "At step  10  and at epoch =  33  the loss is =  0.001645363518036902  and accuracy is =  0.9424\n",
            "At step  10  and at epoch =  34  the loss is =  0.0015168432146310806  and accuracy is =  0.9514\n",
            "At step  10  and at epoch =  35  the loss is =  0.0014030240708962083  and accuracy is =  0.9624\n",
            "At step  10  and at epoch =  36  the loss is =  0.0012999179307371378  and accuracy is =  0.9686\n",
            "At step  10  and at epoch =  37  the loss is =  0.0012041251175105572  and accuracy is =  0.9752\n",
            "At step  10  and at epoch =  38  the loss is =  0.0011166748590767384  and accuracy is =  0.98\n",
            "At step  10  and at epoch =  39  the loss is =  0.001036359230056405  and accuracy is =  0.9854\n",
            "At step  10  and at epoch =  40  the loss is =  0.0009627278195694089  and accuracy is =  0.9884\n",
            "At step  10  and at epoch =  41  the loss is =  0.0008946920861490071  and accuracy is =  0.9906\n",
            "At step  10  and at epoch =  42  the loss is =  0.000833962403703481  and accuracy is =  0.9926\n",
            "At step  10  and at epoch =  43  the loss is =  0.0007786479545757174  and accuracy is =  0.995\n",
            "At step  10  and at epoch =  44  the loss is =  0.0007292392547242343  and accuracy is =  0.996\n",
            "At step  10  and at epoch =  45  the loss is =  0.0006844672607257962  and accuracy is =  0.9964\n",
            "At step  10  and at epoch =  46  the loss is =  0.0006440343568101525  and accuracy is =  0.9968\n",
            "At step  10  and at epoch =  47  the loss is =  0.0006075670244172215  and accuracy is =  0.9982\n",
            "At step  10  and at epoch =  48  the loss is =  0.0005743229412473738  and accuracy is =  0.9984\n",
            "At step  10  and at epoch =  49  the loss is =  0.0005445264396257699  and accuracy is =  0.9984\n",
            "At step  10  and at epoch =  50  the loss is =  0.0005172036471776664  and accuracy is =  0.9984\n",
            "At step  10  and at epoch =  51  the loss is =  0.0004924066015519202  and accuracy is =  0.9986\n",
            "At step  10  and at epoch =  52  the loss is =  0.0004695638781413436  and accuracy is =  0.9986\n",
            "At step  10  and at epoch =  53  the loss is =  0.00044879390043206513  and accuracy is =  0.999\n",
            "At step  10  and at epoch =  54  the loss is =  0.0004293873207643628  and accuracy is =  0.9992\n",
            "At step  10  and at epoch =  55  the loss is =  0.0004115021147299558  and accuracy is =  0.9992\n",
            "At step  10  and at epoch =  56  the loss is =  0.0003950802201870829  and accuracy is =  0.9994\n",
            "At step  10  and at epoch =  57  the loss is =  0.0003798287361860275  and accuracy is =  0.9994\n",
            "At step  10  and at epoch =  58  the loss is =  0.0003656350600067526  and accuracy is =  0.9994\n",
            "At step  10  and at epoch =  59  the loss is =  0.00035245614708401263  and accuracy is =  0.9996\n",
            "At step  10  and at epoch =  60  the loss is =  0.00034014787524938583  and accuracy is =  0.9996\n",
            "At step  10  and at epoch =  61  the loss is =  0.00032850794377736747  and accuracy is =  0.9998\n",
            "At step  10  and at epoch =  62  the loss is =  0.0003176942700520158  and accuracy is =  0.9998\n",
            "At step  10  and at epoch =  63  the loss is =  0.0003075739659834653  and accuracy is =  0.9998\n",
            "At step  10  and at epoch =  64  the loss is =  0.0002981049183290452  and accuracy is =  0.9998\n",
            "At step  10  and at epoch =  65  the loss is =  0.00028922100318595767  and accuracy is =  0.9998\n",
            "At step  10  and at epoch =  66  the loss is =  0.00028085021767765284  and accuracy is =  0.9998\n",
            "At step  10  and at epoch =  67  the loss is =  0.000273019599262625  and accuracy is =  0.9998\n",
            "At step  10  and at epoch =  68  the loss is =  0.0002656287688296288  and accuracy is =  0.9998\n",
            "At step  10  and at epoch =  69  the loss is =  0.0002586258633527905  and accuracy is =  0.9998\n",
            "128\n",
            "128\n",
            "128\n",
            "128\n",
            "128\n",
            "128\n",
            "128\n",
            "128\n",
            "128\n",
            "128\n",
            "128\n",
            "128\n",
            "128\n",
            "128\n",
            "128\n",
            "80\n",
            "Validation Loss: 0.022754136472940445 Validation Accuracy : 0.305\n",
            "At step  20  and at epoch =  0  the loss is =  0.08604273945093155  and accuracy is =  0.1142\n",
            "At step  20  and at epoch =  1  the loss is =  0.05068841949105263  and accuracy is =  0.137\n",
            "At step  20  and at epoch =  2  the loss is =  0.03075605258345604  and accuracy is =  0.2182\n",
            "At step  20  and at epoch =  3  the loss is =  0.02324686013162136  and accuracy is =  0.2968\n",
            "At step  20  and at epoch =  4  the loss is =  0.020869502797722816  and accuracy is =  0.3948\n",
            "At step  20  and at epoch =  5  the loss is =  0.01906818151473999  and accuracy is =  0.4872\n",
            "At step  20  and at epoch =  6  the loss is =  0.0170942060649395  and accuracy is =  0.5404\n",
            "At step  20  and at epoch =  7  the loss is =  0.015484531410038471  and accuracy is =  0.5792\n",
            "At step  20  and at epoch =  8  the loss is =  0.014103231951594353  and accuracy is =  0.6064\n",
            "At step  20  and at epoch =  9  the loss is =  0.012873786501586437  and accuracy is =  0.6354\n",
            "At step  20  and at epoch =  10  the loss is =  0.011949357576668262  and accuracy is =  0.6638\n",
            "At step  20  and at epoch =  11  the loss is =  0.010658428072929382  and accuracy is =  0.6924\n",
            "At step  20  and at epoch =  12  the loss is =  0.009915539063513279  and accuracy is =  0.7238\n",
            "At step  20  and at epoch =  13  the loss is =  0.008873630315065384  and accuracy is =  0.7542\n",
            "At step  20  and at epoch =  14  the loss is =  0.00815369002521038  and accuracy is =  0.7788\n",
            "At step  20  and at epoch =  15  the loss is =  0.007254067342728376  and accuracy is =  0.809\n",
            "At step  20  and at epoch =  16  the loss is =  0.0066501665860414505  and accuracy is =  0.8332\n",
            "At step  20  and at epoch =  17  the loss is =  0.005957263521850109  and accuracy is =  0.8566\n",
            "At step  20  and at epoch =  18  the loss is =  0.005340815056115389  and accuracy is =  0.8812\n",
            "At step  20  and at epoch =  19  the loss is =  0.004870089702308178  and accuracy is =  0.9026\n",
            "At step  20  and at epoch =  20  the loss is =  0.0042784628458321095  and accuracy is =  0.9216\n",
            "At step  20  and at epoch =  21  the loss is =  0.0039020893163979053  and accuracy is =  0.9356\n",
            "At step  20  and at epoch =  22  the loss is =  0.0034315187949687243  and accuracy is =  0.948\n",
            "At step  20  and at epoch =  23  the loss is =  0.0031070297118276358  and accuracy is =  0.9608\n",
            "At step  20  and at epoch =  24  the loss is =  0.0027814796194434166  and accuracy is =  0.9708\n",
            "At step  20  and at epoch =  25  the loss is =  0.0025289785116910934  and accuracy is =  0.9762\n",
            "At step  20  and at epoch =  26  the loss is =  0.0022908500395715237  and accuracy is =  0.9812\n",
            "At step  20  and at epoch =  27  the loss is =  0.002094367053359747  and accuracy is =  0.9852\n",
            "At step  20  and at epoch =  28  the loss is =  0.0019222263945266604  and accuracy is =  0.989\n",
            "At step  20  and at epoch =  29  the loss is =  0.0017724139615893364  and accuracy is =  0.9918\n",
            "At step  20  and at epoch =  30  the loss is =  0.0016404560301452875  and accuracy is =  0.9934\n",
            "At step  20  and at epoch =  31  the loss is =  0.0015293684555217624  and accuracy is =  0.995\n",
            "At step  20  and at epoch =  32  the loss is =  0.0014314877334982157  and accuracy is =  0.9962\n",
            "At step  20  and at epoch =  33  the loss is =  0.0013460537884384394  and accuracy is =  0.9972\n",
            "At step  20  and at epoch =  34  the loss is =  0.0012713898904621601  and accuracy is =  0.9978\n"
          ],
          "name": "stdout"
        }
      ]
    },
    {
      "cell_type": "code",
      "metadata": {
        "id": "pomxiRbnUNq7",
        "colab_type": "code",
        "colab": {}
      },
      "source": [
        "plotTask(pars_tasks)"
      ],
      "execution_count": 0,
      "outputs": []
    }
  ]
}