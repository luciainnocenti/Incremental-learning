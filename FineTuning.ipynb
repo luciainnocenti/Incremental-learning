{
  "nbformat": 4,
  "nbformat_minor": 0,
  "metadata": {
    "colab": {
      "name": "FineTuning.ipynb",
      "provenance": [],
      "collapsed_sections": [],
      "include_colab_link": true
    },
    "kernelspec": {
      "name": "python3",
      "display_name": "Python 3"
    },
    "accelerator": "GPU",
    "widgets": {
      "application/vnd.jupyter.widget-state+json": {
        "95e632a821294a40a03d4258a359f4bc": {
          "model_module": "@jupyter-widgets/controls",
          "model_name": "HBoxModel",
          "state": {
            "_view_name": "HBoxView",
            "_dom_classes": [],
            "_model_name": "HBoxModel",
            "_view_module": "@jupyter-widgets/controls",
            "_model_module_version": "1.5.0",
            "_view_count": null,
            "_view_module_version": "1.5.0",
            "box_style": "",
            "layout": "IPY_MODEL_ce1384d81e3c491daffcf9adda69d279",
            "_model_module": "@jupyter-widgets/controls",
            "children": [
              "IPY_MODEL_21dc2dbb12544fca893a5d1ca6ae2d56",
              "IPY_MODEL_0bc614b41af8410b808bde487b963d22"
            ]
          }
        },
        "ce1384d81e3c491daffcf9adda69d279": {
          "model_module": "@jupyter-widgets/base",
          "model_name": "LayoutModel",
          "state": {
            "_view_name": "LayoutView",
            "grid_template_rows": null,
            "right": null,
            "justify_content": null,
            "_view_module": "@jupyter-widgets/base",
            "overflow": null,
            "_model_module_version": "1.2.0",
            "_view_count": null,
            "flex_flow": null,
            "width": null,
            "min_width": null,
            "border": null,
            "align_items": null,
            "bottom": null,
            "_model_module": "@jupyter-widgets/base",
            "top": null,
            "grid_column": null,
            "overflow_y": null,
            "overflow_x": null,
            "grid_auto_flow": null,
            "grid_area": null,
            "grid_template_columns": null,
            "flex": null,
            "_model_name": "LayoutModel",
            "justify_items": null,
            "grid_row": null,
            "max_height": null,
            "align_content": null,
            "visibility": null,
            "align_self": null,
            "height": null,
            "min_height": null,
            "padding": null,
            "grid_auto_rows": null,
            "grid_gap": null,
            "max_width": null,
            "order": null,
            "_view_module_version": "1.2.0",
            "grid_template_areas": null,
            "object_position": null,
            "object_fit": null,
            "grid_auto_columns": null,
            "margin": null,
            "display": null,
            "left": null
          }
        },
        "21dc2dbb12544fca893a5d1ca6ae2d56": {
          "model_module": "@jupyter-widgets/controls",
          "model_name": "FloatProgressModel",
          "state": {
            "_view_name": "ProgressView",
            "style": "IPY_MODEL_03230d984bbf4d58863d9b815a95a6b0",
            "_dom_classes": [],
            "description": "",
            "_model_name": "FloatProgressModel",
            "bar_style": "info",
            "max": 1,
            "_view_module": "@jupyter-widgets/controls",
            "_model_module_version": "1.5.0",
            "value": 1,
            "_view_count": null,
            "_view_module_version": "1.5.0",
            "orientation": "horizontal",
            "min": 0,
            "description_tooltip": null,
            "_model_module": "@jupyter-widgets/controls",
            "layout": "IPY_MODEL_e3c2c6023c614a4e9bf6bc5395fbd53f"
          }
        },
        "0bc614b41af8410b808bde487b963d22": {
          "model_module": "@jupyter-widgets/controls",
          "model_name": "HTMLModel",
          "state": {
            "_view_name": "HTMLView",
            "style": "IPY_MODEL_a79bb6af26574f8f98acb6d1b9234d76",
            "_dom_classes": [],
            "description": "",
            "_model_name": "HTMLModel",
            "placeholder": "​",
            "_view_module": "@jupyter-widgets/controls",
            "_model_module_version": "1.5.0",
            "value": " 169009152/? [00:20&lt;00:00, 33199461.28it/s]",
            "_view_count": null,
            "_view_module_version": "1.5.0",
            "description_tooltip": null,
            "_model_module": "@jupyter-widgets/controls",
            "layout": "IPY_MODEL_9f78f5f65fc940de906b92515e34d361"
          }
        },
        "03230d984bbf4d58863d9b815a95a6b0": {
          "model_module": "@jupyter-widgets/controls",
          "model_name": "ProgressStyleModel",
          "state": {
            "_view_name": "StyleView",
            "_model_name": "ProgressStyleModel",
            "description_width": "initial",
            "_view_module": "@jupyter-widgets/base",
            "_model_module_version": "1.5.0",
            "_view_count": null,
            "_view_module_version": "1.2.0",
            "bar_color": null,
            "_model_module": "@jupyter-widgets/controls"
          }
        },
        "e3c2c6023c614a4e9bf6bc5395fbd53f": {
          "model_module": "@jupyter-widgets/base",
          "model_name": "LayoutModel",
          "state": {
            "_view_name": "LayoutView",
            "grid_template_rows": null,
            "right": null,
            "justify_content": null,
            "_view_module": "@jupyter-widgets/base",
            "overflow": null,
            "_model_module_version": "1.2.0",
            "_view_count": null,
            "flex_flow": null,
            "width": null,
            "min_width": null,
            "border": null,
            "align_items": null,
            "bottom": null,
            "_model_module": "@jupyter-widgets/base",
            "top": null,
            "grid_column": null,
            "overflow_y": null,
            "overflow_x": null,
            "grid_auto_flow": null,
            "grid_area": null,
            "grid_template_columns": null,
            "flex": null,
            "_model_name": "LayoutModel",
            "justify_items": null,
            "grid_row": null,
            "max_height": null,
            "align_content": null,
            "visibility": null,
            "align_self": null,
            "height": null,
            "min_height": null,
            "padding": null,
            "grid_auto_rows": null,
            "grid_gap": null,
            "max_width": null,
            "order": null,
            "_view_module_version": "1.2.0",
            "grid_template_areas": null,
            "object_position": null,
            "object_fit": null,
            "grid_auto_columns": null,
            "margin": null,
            "display": null,
            "left": null
          }
        },
        "a79bb6af26574f8f98acb6d1b9234d76": {
          "model_module": "@jupyter-widgets/controls",
          "model_name": "DescriptionStyleModel",
          "state": {
            "_view_name": "StyleView",
            "_model_name": "DescriptionStyleModel",
            "description_width": "",
            "_view_module": "@jupyter-widgets/base",
            "_model_module_version": "1.5.0",
            "_view_count": null,
            "_view_module_version": "1.2.0",
            "_model_module": "@jupyter-widgets/controls"
          }
        },
        "9f78f5f65fc940de906b92515e34d361": {
          "model_module": "@jupyter-widgets/base",
          "model_name": "LayoutModel",
          "state": {
            "_view_name": "LayoutView",
            "grid_template_rows": null,
            "right": null,
            "justify_content": null,
            "_view_module": "@jupyter-widgets/base",
            "overflow": null,
            "_model_module_version": "1.2.0",
            "_view_count": null,
            "flex_flow": null,
            "width": null,
            "min_width": null,
            "border": null,
            "align_items": null,
            "bottom": null,
            "_model_module": "@jupyter-widgets/base",
            "top": null,
            "grid_column": null,
            "overflow_y": null,
            "overflow_x": null,
            "grid_auto_flow": null,
            "grid_area": null,
            "grid_template_columns": null,
            "flex": null,
            "_model_name": "LayoutModel",
            "justify_items": null,
            "grid_row": null,
            "max_height": null,
            "align_content": null,
            "visibility": null,
            "align_self": null,
            "height": null,
            "min_height": null,
            "padding": null,
            "grid_auto_rows": null,
            "grid_gap": null,
            "max_width": null,
            "order": null,
            "_view_module_version": "1.2.0",
            "grid_template_areas": null,
            "object_position": null,
            "object_fit": null,
            "grid_auto_columns": null,
            "margin": null,
            "display": null,
            "left": null
          }
        }
      }
    }
  },
  "cells": [
    {
      "cell_type": "markdown",
      "metadata": {
        "id": "view-in-github",
        "colab_type": "text"
      },
      "source": [
        "<a href=\"https://colab.research.google.com/github/luciainnocenti/IncrementalLearning/blob/newLosses_Lucia/FineTuning.ipynb\" target=\"_parent\"><img src=\"https://colab.research.google.com/assets/colab-badge.svg\" alt=\"Open In Colab\"/></a>"
      ]
    },
    {
      "cell_type": "markdown",
      "metadata": {
        "id": "iCO7owW4O0jb",
        "colab_type": "text"
      },
      "source": [
        "# Import GitHub repository"
      ]
    },
    {
      "cell_type": "code",
      "metadata": {
        "id": "01VjtslGOvI3",
        "colab_type": "code",
        "colab": {}
      },
      "source": [
        "import os\n",
        "import logging\n",
        "import sys"
      ],
      "execution_count": 1,
      "outputs": []
    },
    {
      "cell_type": "code",
      "metadata": {
        "id": "XSC6q-24O8Yr",
        "colab_type": "code",
        "colab": {
          "base_uri": "https://localhost:8080/",
          "height": 146
        },
        "outputId": "5811be7e-4773-42d2-e0a6-8068954cd7b6"
      },
      "source": [
        "if not os.path.isdir('./DatasetCIFAR'):\n",
        "  !git clone -b newLosses_Lucia https://github.com/luciainnocenti/IncrementalLearning.git\n",
        "  !mv 'IncrementalLearning' 'DatasetCIFAR'"
      ],
      "execution_count": 2,
      "outputs": [
        {
          "output_type": "stream",
          "text": [
            "Cloning into 'IncrementalLearning'...\n",
            "remote: Enumerating objects: 6, done.\u001b[K\n",
            "remote: Counting objects: 100% (6/6), done.\u001b[K\n",
            "remote: Compressing objects: 100% (6/6), done.\u001b[K\n",
            "remote: Total 1317 (delta 1), reused 0 (delta 0), pack-reused 1311\u001b[K\n",
            "Receiving objects: 100% (1317/1317), 884.75 KiB | 2.26 MiB/s, done.\n",
            "Resolving deltas: 100% (843/843), done.\n"
          ],
          "name": "stdout"
        }
      ]
    },
    {
      "cell_type": "markdown",
      "metadata": {
        "id": "5zGYZfd_oaDZ",
        "colab_type": "text"
      },
      "source": [
        "RUN CON NUOVI OPT SCHEDULER"
      ]
    },
    {
      "cell_type": "markdown",
      "metadata": {
        "id": "_q5sdRysO9-F",
        "colab_type": "text"
      },
      "source": [
        "# Import packages"
      ]
    },
    {
      "cell_type": "code",
      "metadata": {
        "id": "f3AwEK1IPEDf",
        "colab_type": "code",
        "colab": {}
      },
      "source": [
        "from DatasetCIFAR.data_set import Dataset \n",
        "from DatasetCIFAR import ResNet\n",
        "from DatasetCIFAR import utils\n",
        "from DatasetCIFAR import params\n",
        "from torchvision import models\n",
        "import torch.nn as nn\n",
        "import torch\n",
        "import torch.optim as optim\n",
        "import torchvision\n",
        "import numpy as np\n",
        "\n",
        "from torchvision import transforms\n",
        "from torch.utils.data import Subset, DataLoader\n",
        "from torch.nn import functional as F\n",
        "import random\n",
        "random.seed(params.SEED)"
      ],
      "execution_count": 3,
      "outputs": []
    },
    {
      "cell_type": "code",
      "metadata": {
        "id": "FYYOJdxSKLP3",
        "colab_type": "code",
        "colab": {
          "base_uri": "https://localhost:8080/",
          "height": 54
        },
        "outputId": "194d710f-8912-4896-8145-1147db53b65e"
      },
      "source": [
        "print(params.SEED)\n",
        "print(params.NUM_WORKERS)"
      ],
      "execution_count": 4,
      "outputs": [
        {
          "output_type": "stream",
          "text": [
            "653\n",
            "1\n"
          ],
          "name": "stdout"
        }
      ]
    },
    {
      "cell_type": "markdown",
      "metadata": {
        "id": "xU8_JQV3O_c5",
        "colab_type": "text"
      },
      "source": [
        "# Define Network"
      ]
    },
    {
      "cell_type": "code",
      "metadata": {
        "id": "4SN6IDz3PJUE",
        "colab_type": "code",
        "colab": {}
      },
      "source": [
        "resNet = ResNet.resnet32(num_classes=100)\n",
        "resNet = resNet.to(params.DEVICE)"
      ],
      "execution_count": 5,
      "outputs": []
    },
    {
      "cell_type": "code",
      "metadata": {
        "id": "uXGgft0iPLVD",
        "colab_type": "code",
        "colab": {}
      },
      "source": [
        "\n",
        "train_transformer = transforms.Compose([transforms.RandomCrop(size = 32, padding=4),\n",
        "                                         transforms.RandomHorizontalFlip(),\n",
        "                                         transforms.ToTensor(),\n",
        "                                         transforms.Normalize((0.4914, 0.4822, 0.4465), (0.2023, 0.1994, 0.2010))\n",
        "])\n",
        "\n",
        "test_transformer = transforms.Compose([transforms.ToTensor(),\n",
        "                                         transforms.Normalize((0.4914, 0.4822, 0.4465), (0.2023, 0.1994, 0.2010))\n",
        "])"
      ],
      "execution_count": 6,
      "outputs": []
    },
    {
      "cell_type": "markdown",
      "metadata": {
        "id": "_ldJmjNkPNiG",
        "colab_type": "text"
      },
      "source": [
        "# Define DataSets"
      ]
    },
    {
      "cell_type": "code",
      "metadata": {
        "id": "czGrTi8VPRoB",
        "colab_type": "code",
        "colab": {
          "base_uri": "https://localhost:8080/",
          "height": 104,
          "referenced_widgets": [
            "95e632a821294a40a03d4258a359f4bc",
            "ce1384d81e3c491daffcf9adda69d279",
            "21dc2dbb12544fca893a5d1ca6ae2d56",
            "0bc614b41af8410b808bde487b963d22",
            "03230d984bbf4d58863d9b815a95a6b0",
            "e3c2c6023c614a4e9bf6bc5395fbd53f",
            "a79bb6af26574f8f98acb6d1b9234d76",
            "9f78f5f65fc940de906b92515e34d361"
          ]
        },
        "outputId": "1b875f22-474d-4e0b-a80d-d0592640f64c"
      },
      "source": [
        "trainDS = Dataset(train=True, transform = train_transformer)\n",
        "testDS = Dataset(train=False, transform = test_transformer)"
      ],
      "execution_count": 7,
      "outputs": [
        {
          "output_type": "stream",
          "text": [
            "Downloading https://www.cs.toronto.edu/~kriz/cifar-100-python.tar.gz to data/cifar-100-python.tar.gz\n"
          ],
          "name": "stdout"
        },
        {
          "output_type": "display_data",
          "data": {
            "application/vnd.jupyter.widget-view+json": {
              "model_id": "95e632a821294a40a03d4258a359f4bc",
              "version_minor": 0,
              "version_major": 2
            },
            "text/plain": [
              "HBox(children=(FloatProgress(value=1.0, bar_style='info', max=1.0), HTML(value='')))"
            ]
          },
          "metadata": {
            "tags": []
          }
        },
        {
          "output_type": "stream",
          "text": [
            "Extracting data/cifar-100-python.tar.gz to data\n",
            "Files already downloaded and verified\n"
          ],
          "name": "stdout"
        }
      ]
    },
    {
      "cell_type": "code",
      "metadata": {
        "id": "Tn8XrSWqPUiN",
        "colab_type": "code",
        "colab": {
          "base_uri": "https://localhost:8080/",
          "height": 74
        },
        "outputId": "ae22561e-34f9-4386-e4b9-86c11a6a60b0"
      },
      "source": [
        "train_splits = trainDS.splits\n",
        "test_splits = testDS.splits\n",
        "print(train_splits)\n",
        "print(test_splits)"
      ],
      "execution_count": 8,
      "outputs": [
        {
          "output_type": "stream",
          "text": [
            "[[94.0, 63.0, 74.0, 21.0, 35.0, 56.0, 91.0, 96.0, 87.0, 48.0], [68.0, 80.0, 22.0, 37.0, 60.0, 97.0, 51.0, 62.0, 92.0, 76.0], [75.0, 89.0, 23.0, 99.0, 39.0, 66.0, 54.0, 69.0, 84.0, 61.0], [85.0, 24.0, 98.0, 41.0, 73.0, 58.0, 78.0, 77.0, 70.0, 49.0], [65.0, 88.0, 36.0, 93.0, 45.0, 10.0, 90.0, 17.0, 32.0, 59.0], [83.0, 43.0, 53.0, 11.0, 86.0, 19.0, 38.0, 30.0, 40.0, 50.0], [57.0, 81.0, 12.0, 95.0, 25.0, 47.0, 34.0, 52.0, 44.0, 72.0], [46.0, 79.0, 20.0, 28.0, 5.0, 71.0, 8.0, 18.0, 33.0, 15.0], [55.0, 29.0, 64.0, 31.0, 67.0, 7.0, 13.0, 14.0, 42.0, 6.0], [82.0, 2.0, 27.0, 16.0, 26.0, 3.0, 4.0, 1.0, 9.0, 0.0]]\n",
            "[[94.0, 63.0, 74.0, 21.0, 35.0, 56.0, 91.0, 96.0, 87.0, 48.0], [68.0, 80.0, 22.0, 37.0, 60.0, 97.0, 51.0, 62.0, 92.0, 76.0], [75.0, 89.0, 23.0, 99.0, 39.0, 66.0, 54.0, 69.0, 84.0, 61.0], [85.0, 24.0, 98.0, 41.0, 73.0, 58.0, 78.0, 77.0, 70.0, 49.0], [65.0, 88.0, 36.0, 93.0, 45.0, 10.0, 90.0, 17.0, 32.0, 59.0], [83.0, 43.0, 53.0, 11.0, 86.0, 19.0, 38.0, 30.0, 40.0, 50.0], [57.0, 81.0, 12.0, 95.0, 25.0, 47.0, 34.0, 52.0, 44.0, 72.0], [46.0, 79.0, 20.0, 28.0, 5.0, 71.0, 8.0, 18.0, 33.0, 15.0], [55.0, 29.0, 64.0, 31.0, 67.0, 7.0, 13.0, 14.0, 42.0, 6.0], [82.0, 2.0, 27.0, 16.0, 26.0, 3.0, 4.0, 1.0, 9.0, 0.0]]\n"
          ],
          "name": "stdout"
        }
      ]
    },
    {
      "cell_type": "markdown",
      "metadata": {
        "id": "Nc8WMLe3PQvI",
        "colab_type": "text"
      },
      "source": [
        "# Useful plots"
      ]
    },
    {
      "cell_type": "code",
      "metadata": {
        "id": "EQBZdyyrPW_a",
        "colab_type": "code",
        "colab": {}
      },
      "source": [
        "def plotTask(pars_tasks):\n",
        "  import numpy as np\n",
        "  import matplotlib.pyplot as plt\n",
        "\n",
        "  x_tasks =  np.linspace(10, 100, 10)\n",
        "\n",
        "  plt.plot(x_tasks, pars_tasks, label=['Accuracy', 'Loss'])\n",
        "  plt.xlabel(\"Epoch\")\n",
        "  plt.title('Accuracy over tasks')\n",
        "  plt.legend(['Accuracy', 'Loss'])\n",
        "  plt.grid(True)\n",
        "  plt.show()"
      ],
      "execution_count": 9,
      "outputs": []
    },
    {
      "cell_type": "code",
      "metadata": {
        "id": "2RzunPCcSfip",
        "colab_type": "code",
        "colab": {}
      },
      "source": [
        "def mapFunction(labels, splits):\n",
        "\tm_l = []\n",
        "\tl_splits = list(splits)\n",
        "\tfor el in labels:\n",
        "\t\tm_l.append( l_splits.index(el) )\n",
        "\treturn torch.LongTensor(m_l).to(params.DEVICE)"
      ],
      "execution_count": 10,
      "outputs": []
    },
    {
      "cell_type": "markdown",
      "metadata": {
        "id": "JPWcz2ISRN6E",
        "colab_type": "text"
      },
      "source": [
        "# Train and evaluation phase"
      ]
    },
    {
      "cell_type": "code",
      "metadata": {
        "id": "Pz0VwwqOiZz5",
        "colab_type": "code",
        "colab": {}
      },
      "source": [
        "LR = 2  # The initial Learning Rate\n",
        "MOMENTUM = 0.9  # Hyperparameter for SGD, keep this at 0.9 when using SGD\n",
        "WEIGHT_DECAY = 1e-5  # Regularization, you can keep this at the default\n",
        "\n",
        "NUM_EPOCHS = 70  # Total number of training epochs\n",
        "MILESTONES = [48, 62]  # How many epochs before decreasing learning rate (if using a step-down policy)\n",
        "GAMMA = 0.2  # Multiplicative factor for learning rate step-down"
      ],
      "execution_count": 11,
      "outputs": []
    },
    {
      "cell_type": "code",
      "metadata": {
        "id": "fs6I_lmjRLYo",
        "colab_type": "code",
        "colab": {
          "base_uri": "https://localhost:8080/",
          "height": 1000
        },
        "outputId": "f07c2ab7-1bde-4d88-82f7-0f34c0b33b66"
      },
      "source": [
        "pars_tasks = []\n",
        "test_indexes = []\n",
        "\n",
        "for task in range(0, 100, params.TASK_SIZE):\n",
        "  pars_tasks.insert(task, 0)\n",
        "\n",
        "\n",
        "criterion = torch.nn.BCEWithLogitsLoss()\n",
        "parameters_to_optimize = resNet.parameters()  # Parameters to optimize\n",
        "optimizer = optim.SGD(parameters_to_optimize, lr=LR, momentum=MOMENTUM, weight_decay=WEIGHT_DECAY)\n",
        "scheduler = optim.lr_scheduler.MultiStepLR(optimizer, milestones=MILESTONES, gamma=GAMMA, last_epoch=-1) \n",
        "current_step = 0\n",
        "\n",
        "\n",
        "for task in range(0, 100, params.TASK_SIZE):\n",
        "\n",
        "  train_indexes = trainDS.__getIndexesGroups__(task)\n",
        "  test_indexes = test_indexes + testDS.__getIndexesGroups__(task)\n",
        "\n",
        "  train_dataset = Subset(trainDS, train_indexes)\n",
        "  test_dataset = Subset(testDS, test_indexes)\n",
        "\n",
        "  train_loader = DataLoader( train_dataset, num_workers=4, batch_size=params.BATCH_SIZE, shuffle=True)\n",
        "  test_loader = DataLoader( test_dataset, num_workers=4, batch_size=params.BATCH_SIZE, shuffle=True )\n",
        "  \n",
        "  col = np.array(train_splits[int(task/10)]).astype(int)\n",
        "  \n",
        "  for epoch in range(params.NUM_EPOCHS):\n",
        "    lenght = 0\n",
        "    scheduler.step() #update the learning rate\n",
        "    running_corrects = 0    \n",
        "    for images, labels, _ in train_loader:\n",
        "      images = images.float().to(params.DEVICE)\n",
        "      labels = labels.to(params.DEVICE)\n",
        "      mappedLabels = mapFunction(labels, col)   \n",
        "      onehot_labels = torch.eye(100)[labels].to(params.DEVICE)#it creates the one-hot-encoding list for the labels; needed for BCELoss    \n",
        "      optimizer.zero_grad() # Zero-ing the gradients\n",
        "      outputs = resNet(images)\n",
        "      loss = criterion(outputs,onehot_labels)   \n",
        "      cut_outputs = np.take_along_axis(outputs.to(params.DEVICE), col[None, :], axis = 1).to(params.DEVICE)\n",
        "      _, preds = torch.max(cut_outputs.data, 1)\n",
        "      running_corrects += torch.sum(preds == mappedLabels.data).data.item()   \n",
        "      loss.backward()   \n",
        "      optimizer.step()    \n",
        "      current_step += 1\n",
        "      lenght += len(images)   \n",
        "    accuracy = running_corrects / float(lenght)\n",
        "    print(\"At step \", str(task), \" and at epoch = \", epoch, \" the loss is = \", loss.item(), \" and accuracy is = \", accuracy)\n",
        "  \n",
        "  resNet = resNet.eval()\n",
        "\n",
        "  t_l = 0\n",
        "  running_corrects = 0\n",
        "  col = []\n",
        "  for i,x in enumerate( test_splits[ :int(task/10) + 1]):\n",
        "  \tv = np.array(x)\n",
        "  \tcol = np.concatenate( (col,v), axis = None)\n",
        "  col = col.astype(int)\n",
        "\n",
        "  for images, labels, _ in test_loader:\n",
        "    images = images.float().to(params.DEVICE)\n",
        "    labels = labels.to(params.DEVICE)   \n",
        "    mappedLabels = mapFunction(labels, col)\n",
        "\n",
        "    onehot_labels = torch.eye(100)[labels].to(params.DEVICE)\n",
        "\n",
        "    outputs = resNet(images).to(params.DEVICE)\n",
        "    cut_outputs = np.take_along_axis(outputs, col[None, :], axis = 1)\n",
        "    cut_outputs = cut_outputs.to(params.DEVICE)\n",
        "    _, preds = torch.max(cut_outputs.data, 1)\n",
        "\t\t# Update Corrects\n",
        "    running_corrects += torch.sum(preds == mappedLabels.data).data.item()\n",
        "    print(len(images))\n",
        "    t_l += len(images)\n",
        "  # Calculate Accuracy\n",
        "  accuracy = running_corrects / float(t_l)\n",
        "  loss = criterion(outputs,onehot_labels)\n",
        "  print('Validation Loss: {} Validation Accuracy : {}'.format(loss.item(),accuracy) )\n",
        "  pars_tasks[int(task/10)] = (accuracy, loss.item())\n",
        "  resNet = resNet.train(True)\n",
        "  \n"
      ],
      "execution_count": null,
      "outputs": [
        {
          "output_type": "stream",
          "text": [
            "/usr/local/lib/python3.6/dist-packages/torch/optim/lr_scheduler.py:123: UserWarning: Detected call of `lr_scheduler.step()` before `optimizer.step()`. In PyTorch 1.1.0 and later, you should call them in the opposite order: `optimizer.step()` before `lr_scheduler.step()`.  Failure to do this will result in PyTorch skipping the first value of the learning rate schedule. See more details at https://pytorch.org/docs/stable/optim.html#how-to-adjust-learning-rate\n",
            "  \"https://pytorch.org/docs/stable/optim.html#how-to-adjust-learning-rate\", UserWarning)\n"
          ],
          "name": "stderr"
        },
        {
          "output_type": "stream",
          "text": [
            "At step  0  and at epoch =  0  the loss is =  0.02960957959294319  and accuracy is =  0.1866\n",
            "At step  0  and at epoch =  1  the loss is =  0.020757421851158142  and accuracy is =  0.4218\n",
            "At step  0  and at epoch =  2  the loss is =  0.02695564739406109  and accuracy is =  0.5162\n",
            "At step  0  and at epoch =  3  the loss is =  0.0187740009278059  and accuracy is =  0.5856\n",
            "At step  0  and at epoch =  4  the loss is =  0.011532227508723736  and accuracy is =  0.6452\n",
            "At step  0  and at epoch =  5  the loss is =  0.017546212300658226  and accuracy is =  0.699\n",
            "At step  0  and at epoch =  6  the loss is =  0.020752765238285065  and accuracy is =  0.7158\n",
            "At step  0  and at epoch =  7  the loss is =  0.01248397957533598  and accuracy is =  0.7736\n",
            "At step  0  and at epoch =  8  the loss is =  0.01795235648751259  and accuracy is =  0.8012\n",
            "At step  0  and at epoch =  9  the loss is =  0.011229784227907658  and accuracy is =  0.7884\n",
            "At step  0  and at epoch =  10  the loss is =  0.01519965473562479  and accuracy is =  0.8266\n",
            "At step  0  and at epoch =  11  the loss is =  0.007994095794856548  and accuracy is =  0.855\n",
            "At step  0  and at epoch =  12  the loss is =  0.022684559226036072  and accuracy is =  0.8686\n",
            "At step  0  and at epoch =  13  the loss is =  0.014176463708281517  and accuracy is =  0.8604\n",
            "At step  0  and at epoch =  14  the loss is =  0.01838185079395771  and accuracy is =  0.8706\n",
            "At step  0  and at epoch =  15  the loss is =  0.01146523654460907  and accuracy is =  0.8876\n",
            "At step  0  and at epoch =  16  the loss is =  0.01260686106979847  and accuracy is =  0.8536\n",
            "At step  0  and at epoch =  17  the loss is =  0.008948630653321743  and accuracy is =  0.9122\n",
            "At step  0  and at epoch =  18  the loss is =  0.011246993206441402  and accuracy is =  0.9086\n",
            "At step  0  and at epoch =  19  the loss is =  0.010710498318076134  and accuracy is =  0.9\n",
            "At step  0  and at epoch =  20  the loss is =  0.00942156556993723  and accuracy is =  0.9104\n",
            "At step  0  and at epoch =  21  the loss is =  0.0019797571003437042  and accuracy is =  0.943\n",
            "At step  0  and at epoch =  22  the loss is =  0.002140000695362687  and accuracy is =  0.9848\n",
            "At step  0  and at epoch =  23  the loss is =  0.011814489960670471  and accuracy is =  0.9802\n",
            "At step  0  and at epoch =  24  the loss is =  0.026931075379252434  and accuracy is =  0.887\n",
            "At step  0  and at epoch =  25  the loss is =  0.025548119097948074  and accuracy is =  0.9286\n",
            "At step  0  and at epoch =  26  the loss is =  0.012853260152041912  and accuracy is =  0.9294\n",
            "At step  0  and at epoch =  27  the loss is =  0.02098320983350277  and accuracy is =  0.9136\n",
            "At step  0  and at epoch =  28  the loss is =  0.019993513822555542  and accuracy is =  0.948\n",
            "At step  0  and at epoch =  29  the loss is =  0.0027741144876927137  and accuracy is =  0.9332\n",
            "At step  0  and at epoch =  30  the loss is =  0.019916491582989693  and accuracy is =  0.9762\n",
            "At step  0  and at epoch =  31  the loss is =  0.008303905837237835  and accuracy is =  0.9034\n",
            "At step  0  and at epoch =  32  the loss is =  0.00831963773816824  and accuracy is =  0.954\n",
            "At step  0  and at epoch =  33  the loss is =  0.004731814377009869  and accuracy is =  0.97\n",
            "At step  0  and at epoch =  34  the loss is =  0.005178381688892841  and accuracy is =  0.9826\n",
            "At step  0  and at epoch =  35  the loss is =  0.010976852849125862  and accuracy is =  0.9798\n",
            "At step  0  and at epoch =  36  the loss is =  0.011084286496043205  and accuracy is =  0.9542\n",
            "At step  0  and at epoch =  37  the loss is =  0.00842750258743763  and accuracy is =  0.933\n",
            "At step  0  and at epoch =  38  the loss is =  0.007001998834311962  and accuracy is =  0.93\n",
            "At step  0  and at epoch =  39  the loss is =  0.019237343221902847  and accuracy is =  0.9458\n",
            "At step  0  and at epoch =  40  the loss is =  0.007113318890333176  and accuracy is =  0.959\n",
            "At step  0  and at epoch =  41  the loss is =  0.0014923595590516925  and accuracy is =  0.982\n",
            "At step  0  and at epoch =  42  the loss is =  0.0011319201439619064  and accuracy is =  0.9936\n",
            "At step  0  and at epoch =  43  the loss is =  0.0007615670911036432  and accuracy is =  0.997\n",
            "At step  0  and at epoch =  44  the loss is =  0.004025553818792105  and accuracy is =  0.9988\n",
            "At step  0  and at epoch =  45  the loss is =  0.0037514078430831432  and accuracy is =  0.9904\n",
            "At step  0  and at epoch =  46  the loss is =  0.0008649767842143774  and accuracy is =  0.9862\n",
            "At step  0  and at epoch =  47  the loss is =  0.0039907717145979404  and accuracy is =  0.9982\n",
            "At step  0  and at epoch =  48  the loss is =  0.0032647689804434776  and accuracy is =  0.9982\n",
            "At step  0  and at epoch =  49  the loss is =  0.004853089805692434  and accuracy is =  0.9986\n",
            "At step  0  and at epoch =  50  the loss is =  0.0016743778251111507  and accuracy is =  0.9992\n",
            "At step  0  and at epoch =  51  the loss is =  0.003983391914516687  and accuracy is =  0.9992\n",
            "At step  0  and at epoch =  52  the loss is =  0.0031901791226118803  and accuracy is =  0.9994\n",
            "At step  0  and at epoch =  53  the loss is =  0.016458092257380486  and accuracy is =  0.9988\n",
            "At step  0  and at epoch =  54  the loss is =  0.0006969808018766344  and accuracy is =  0.9924\n",
            "At step  0  and at epoch =  55  the loss is =  0.009798621758818626  and accuracy is =  0.999\n",
            "At step  0  and at epoch =  56  the loss is =  0.00213472917675972  and accuracy is =  0.9966\n",
            "At step  0  and at epoch =  57  the loss is =  0.0024475762620568275  and accuracy is =  0.9998\n",
            "At step  0  and at epoch =  58  the loss is =  0.0012605565134435892  and accuracy is =  0.9998\n",
            "At step  0  and at epoch =  59  the loss is =  0.015357457101345062  and accuracy is =  0.9994\n",
            "At step  0  and at epoch =  60  the loss is =  0.0025096097961068153  and accuracy is =  0.998\n",
            "At step  0  and at epoch =  61  the loss is =  0.006853620987385511  and accuracy is =  0.9994\n",
            "At step  0  and at epoch =  62  the loss is =  0.00032794199069030583  and accuracy is =  0.9998\n",
            "At step  0  and at epoch =  63  the loss is =  0.004727542400360107  and accuracy is =  0.9996\n",
            "At step  0  and at epoch =  64  the loss is =  0.007769539020955563  and accuracy is =  0.9996\n",
            "At step  0  and at epoch =  65  the loss is =  0.0009326023864559829  and accuracy is =  0.9998\n",
            "At step  0  and at epoch =  66  the loss is =  0.014157173223793507  and accuracy is =  0.9996\n",
            "At step  0  and at epoch =  67  the loss is =  0.0019809615332633257  and accuracy is =  1.0\n",
            "At step  0  and at epoch =  68  the loss is =  0.004779519513249397  and accuracy is =  0.9998\n",
            "At step  0  and at epoch =  69  the loss is =  0.0017079883255064487  and accuracy is =  0.9998\n",
            "128\n",
            "128\n",
            "128\n",
            "128\n",
            "128\n",
            "128\n",
            "128\n",
            "104\n",
            "Validation Loss: 0.015718529000878334 Validation Accuracy : 0.776\n",
            "At step  10  and at epoch =  0  the loss is =  0.09161799401044846  and accuracy is =  0.1604\n",
            "At step  10  and at epoch =  1  the loss is =  0.08274099230766296  and accuracy is =  0.2132\n",
            "At step  10  and at epoch =  2  the loss is =  0.033984724432229996  and accuracy is =  0.2416\n",
            "At step  10  and at epoch =  3  the loss is =  0.025424698367714882  and accuracy is =  0.2838\n",
            "At step  10  and at epoch =  4  the loss is =  0.023550769314169884  and accuracy is =  0.3706\n"
          ],
          "name": "stdout"
        }
      ]
    },
    {
      "cell_type": "code",
      "metadata": {
        "id": "pomxiRbnUNq7",
        "colab_type": "code",
        "colab": {}
      },
      "source": [
        "plotTask(pars_tasks)"
      ],
      "execution_count": null,
      "outputs": []
    },
    {
      "cell_type": "code",
      "metadata": {
        "id": "sinXSxUtnzz8",
        "colab_type": "code",
        "colab": {}
      },
      "source": [
        "#n_workers=1\n",
        "#807, 779, 783\n",
        "\n",
        "#n_workers=2\n",
        "#790, 788, 790\n",
        "\n",
        "#n_workers=4\n",
        "#799 794 773 814 794\n",
        "\n",
        "#nW=4, with mu e std (0.4914, 0.4822, 0.4465), (0.2023, 0.1994, 0.2010)\n",
        "#794 790 798 800"
      ],
      "execution_count": null,
      "outputs": []
    }
  ]
}