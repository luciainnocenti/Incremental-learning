{
  "nbformat": 4,
  "nbformat_minor": 0,
  "metadata": {
    "colab": {
      "name": "FineTuning.ipynb",
      "provenance": [],
      "collapsed_sections": [],
      "include_colab_link": true
    },
    "kernelspec": {
      "name": "python3",
      "display_name": "Python 3"
    },
    "accelerator": "GPU",
    "widgets": {
      "application/vnd.jupyter.widget-state+json": {
        "a63c919f8f5141bd8ec78c160e77067c": {
          "model_module": "@jupyter-widgets/controls",
          "model_name": "HBoxModel",
          "state": {
            "_view_name": "HBoxView",
            "_dom_classes": [],
            "_model_name": "HBoxModel",
            "_view_module": "@jupyter-widgets/controls",
            "_model_module_version": "1.5.0",
            "_view_count": null,
            "_view_module_version": "1.5.0",
            "box_style": "",
            "layout": "IPY_MODEL_001851af637e4fa1b2a58357b01181a9",
            "_model_module": "@jupyter-widgets/controls",
            "children": [
              "IPY_MODEL_a14c98ed9d134c868eaa690c59be0288",
              "IPY_MODEL_bd31795b60224488a5edb935c7617539"
            ]
          }
        },
        "001851af637e4fa1b2a58357b01181a9": {
          "model_module": "@jupyter-widgets/base",
          "model_name": "LayoutModel",
          "state": {
            "_view_name": "LayoutView",
            "grid_template_rows": null,
            "right": null,
            "justify_content": null,
            "_view_module": "@jupyter-widgets/base",
            "overflow": null,
            "_model_module_version": "1.2.0",
            "_view_count": null,
            "flex_flow": null,
            "width": null,
            "min_width": null,
            "border": null,
            "align_items": null,
            "bottom": null,
            "_model_module": "@jupyter-widgets/base",
            "top": null,
            "grid_column": null,
            "overflow_y": null,
            "overflow_x": null,
            "grid_auto_flow": null,
            "grid_area": null,
            "grid_template_columns": null,
            "flex": null,
            "_model_name": "LayoutModel",
            "justify_items": null,
            "grid_row": null,
            "max_height": null,
            "align_content": null,
            "visibility": null,
            "align_self": null,
            "height": null,
            "min_height": null,
            "padding": null,
            "grid_auto_rows": null,
            "grid_gap": null,
            "max_width": null,
            "order": null,
            "_view_module_version": "1.2.0",
            "grid_template_areas": null,
            "object_position": null,
            "object_fit": null,
            "grid_auto_columns": null,
            "margin": null,
            "display": null,
            "left": null
          }
        },
        "a14c98ed9d134c868eaa690c59be0288": {
          "model_module": "@jupyter-widgets/controls",
          "model_name": "FloatProgressModel",
          "state": {
            "_view_name": "ProgressView",
            "style": "IPY_MODEL_ea907d3ddaf24454b97b4aa355514e81",
            "_dom_classes": [],
            "description": "",
            "_model_name": "FloatProgressModel",
            "bar_style": "info",
            "max": 1,
            "_view_module": "@jupyter-widgets/controls",
            "_model_module_version": "1.5.0",
            "value": 1,
            "_view_count": null,
            "_view_module_version": "1.5.0",
            "orientation": "horizontal",
            "min": 0,
            "description_tooltip": null,
            "_model_module": "@jupyter-widgets/controls",
            "layout": "IPY_MODEL_7ef791e13a814eccbf0c8248814d8061"
          }
        },
        "bd31795b60224488a5edb935c7617539": {
          "model_module": "@jupyter-widgets/controls",
          "model_name": "HTMLModel",
          "state": {
            "_view_name": "HTMLView",
            "style": "IPY_MODEL_cbefb1b495464eafad5b4c1157c9b9f6",
            "_dom_classes": [],
            "description": "",
            "_model_name": "HTMLModel",
            "placeholder": "​",
            "_view_module": "@jupyter-widgets/controls",
            "_model_module_version": "1.5.0",
            "value": " 169009152/? [00:20&lt;00:00, 33766210.95it/s]",
            "_view_count": null,
            "_view_module_version": "1.5.0",
            "description_tooltip": null,
            "_model_module": "@jupyter-widgets/controls",
            "layout": "IPY_MODEL_7a3cd6a66c434d6a8b232f1f4ddd927f"
          }
        },
        "ea907d3ddaf24454b97b4aa355514e81": {
          "model_module": "@jupyter-widgets/controls",
          "model_name": "ProgressStyleModel",
          "state": {
            "_view_name": "StyleView",
            "_model_name": "ProgressStyleModel",
            "description_width": "initial",
            "_view_module": "@jupyter-widgets/base",
            "_model_module_version": "1.5.0",
            "_view_count": null,
            "_view_module_version": "1.2.0",
            "bar_color": null,
            "_model_module": "@jupyter-widgets/controls"
          }
        },
        "7ef791e13a814eccbf0c8248814d8061": {
          "model_module": "@jupyter-widgets/base",
          "model_name": "LayoutModel",
          "state": {
            "_view_name": "LayoutView",
            "grid_template_rows": null,
            "right": null,
            "justify_content": null,
            "_view_module": "@jupyter-widgets/base",
            "overflow": null,
            "_model_module_version": "1.2.0",
            "_view_count": null,
            "flex_flow": null,
            "width": null,
            "min_width": null,
            "border": null,
            "align_items": null,
            "bottom": null,
            "_model_module": "@jupyter-widgets/base",
            "top": null,
            "grid_column": null,
            "overflow_y": null,
            "overflow_x": null,
            "grid_auto_flow": null,
            "grid_area": null,
            "grid_template_columns": null,
            "flex": null,
            "_model_name": "LayoutModel",
            "justify_items": null,
            "grid_row": null,
            "max_height": null,
            "align_content": null,
            "visibility": null,
            "align_self": null,
            "height": null,
            "min_height": null,
            "padding": null,
            "grid_auto_rows": null,
            "grid_gap": null,
            "max_width": null,
            "order": null,
            "_view_module_version": "1.2.0",
            "grid_template_areas": null,
            "object_position": null,
            "object_fit": null,
            "grid_auto_columns": null,
            "margin": null,
            "display": null,
            "left": null
          }
        },
        "cbefb1b495464eafad5b4c1157c9b9f6": {
          "model_module": "@jupyter-widgets/controls",
          "model_name": "DescriptionStyleModel",
          "state": {
            "_view_name": "StyleView",
            "_model_name": "DescriptionStyleModel",
            "description_width": "",
            "_view_module": "@jupyter-widgets/base",
            "_model_module_version": "1.5.0",
            "_view_count": null,
            "_view_module_version": "1.2.0",
            "_model_module": "@jupyter-widgets/controls"
          }
        },
        "7a3cd6a66c434d6a8b232f1f4ddd927f": {
          "model_module": "@jupyter-widgets/base",
          "model_name": "LayoutModel",
          "state": {
            "_view_name": "LayoutView",
            "grid_template_rows": null,
            "right": null,
            "justify_content": null,
            "_view_module": "@jupyter-widgets/base",
            "overflow": null,
            "_model_module_version": "1.2.0",
            "_view_count": null,
            "flex_flow": null,
            "width": null,
            "min_width": null,
            "border": null,
            "align_items": null,
            "bottom": null,
            "_model_module": "@jupyter-widgets/base",
            "top": null,
            "grid_column": null,
            "overflow_y": null,
            "overflow_x": null,
            "grid_auto_flow": null,
            "grid_area": null,
            "grid_template_columns": null,
            "flex": null,
            "_model_name": "LayoutModel",
            "justify_items": null,
            "grid_row": null,
            "max_height": null,
            "align_content": null,
            "visibility": null,
            "align_self": null,
            "height": null,
            "min_height": null,
            "padding": null,
            "grid_auto_rows": null,
            "grid_gap": null,
            "max_width": null,
            "order": null,
            "_view_module_version": "1.2.0",
            "grid_template_areas": null,
            "object_position": null,
            "object_fit": null,
            "grid_auto_columns": null,
            "margin": null,
            "display": null,
            "left": null
          }
        }
      }
    }
  },
  "cells": [
    {
      "cell_type": "markdown",
      "metadata": {
        "id": "view-in-github",
        "colab_type": "text"
      },
      "source": [
        "<a href=\"https://colab.research.google.com/github/luciainnocenti/IncrementalLearning/blob/master/FineTuning.ipynb\" target=\"_parent\"><img src=\"https://colab.research.google.com/assets/colab-badge.svg\" alt=\"Open In Colab\"/></a>"
      ]
    },
    {
      "cell_type": "markdown",
      "metadata": {
        "id": "iCO7owW4O0jb",
        "colab_type": "text"
      },
      "source": [
        "# Import GitHub repository"
      ]
    },
    {
      "cell_type": "code",
      "metadata": {
        "id": "01VjtslGOvI3",
        "colab_type": "code",
        "colab": {}
      },
      "source": [
        "import os\n",
        "import logging\n",
        "import sys"
      ],
      "execution_count": 1,
      "outputs": []
    },
    {
      "cell_type": "code",
      "metadata": {
        "id": "XSC6q-24O8Yr",
        "colab_type": "code",
        "colab": {
          "base_uri": "https://localhost:8080/",
          "height": 146
        },
        "outputId": "d9f8cdf6-7ea6-4067-cf0c-4acd4cc7ba6e"
      },
      "source": [
        "if not os.path.isdir('./DatasetCIFAR'):\n",
        "  !git clone https://github.com/luciainnocenti/IncrementalLearning.git\n",
        "  !mv 'IncrementalLearning' 'DatasetCIFAR'"
      ],
      "execution_count": 2,
      "outputs": [
        {
          "output_type": "stream",
          "text": [
            "Cloning into 'IncrementalLearning'...\n",
            "remote: Enumerating objects: 51, done.\u001b[K\n",
            "remote: Counting objects: 100% (51/51), done.\u001b[K\n",
            "remote: Compressing objects: 100% (51/51), done.\u001b[K\n",
            "remote: Total 1362 (delta 28), reused 0 (delta 0), pack-reused 1311\u001b[K\n",
            "Receiving objects: 100% (1362/1362), 909.40 KiB | 718.00 KiB/s, done.\n",
            "Resolving deltas: 100% (870/870), done.\n"
          ],
          "name": "stdout"
        }
      ]
    },
    {
      "cell_type": "markdown",
      "metadata": {
        "id": "_q5sdRysO9-F",
        "colab_type": "text"
      },
      "source": [
        "# Import packages"
      ]
    },
    {
      "cell_type": "code",
      "metadata": {
        "id": "f3AwEK1IPEDf",
        "colab_type": "code",
        "colab": {}
      },
      "source": [
        "from DatasetCIFAR.data_set import Dataset \n",
        "from DatasetCIFAR.data_set import Subset\n",
        "from DatasetCIFAR import ResNet\n",
        "from DatasetCIFAR import utils\n",
        "from DatasetCIFAR import params\n",
        "from torchvision import models\n",
        "import torch.nn as nn\n",
        "import torch\n",
        "import torch.optim as optim\n",
        "import torchvision\n",
        "import numpy as np\n",
        "\n",
        "from torchvision import transforms\n",
        "from torch.utils.data import DataLoader\n",
        "from torch.nn import functional as F\n",
        "import random\n",
        "random.seed(params.SEED)"
      ],
      "execution_count": 3,
      "outputs": []
    },
    {
      "cell_type": "code",
      "metadata": {
        "id": "FYYOJdxSKLP3",
        "colab_type": "code",
        "colab": {
          "base_uri": "https://localhost:8080/",
          "height": 54
        },
        "outputId": "5f67786a-d570-4f8a-8599-4c69464b3db3"
      },
      "source": [
        "print(params.SEED)\n",
        "print(params.NUM_WORKERS)"
      ],
      "execution_count": 4,
      "outputs": [
        {
          "output_type": "stream",
          "text": [
            "653\n",
            "4\n"
          ],
          "name": "stdout"
        }
      ]
    },
    {
      "cell_type": "markdown",
      "metadata": {
        "id": "xU8_JQV3O_c5",
        "colab_type": "text"
      },
      "source": [
        "# Define Network"
      ]
    },
    {
      "cell_type": "code",
      "metadata": {
        "id": "4SN6IDz3PJUE",
        "colab_type": "code",
        "colab": {}
      },
      "source": [
        "resNet = ResNet.resnet32(num_classes=100)\n",
        "resNet = resNet.to(params.DEVICE)"
      ],
      "execution_count": 5,
      "outputs": []
    },
    {
      "cell_type": "code",
      "metadata": {
        "id": "uXGgft0iPLVD",
        "colab_type": "code",
        "colab": {}
      },
      "source": [
        "\n",
        "train_transformer = transforms.Compose([transforms.RandomCrop(size = 32, padding=4),\n",
        "                                         transforms.RandomHorizontalFlip(),\n",
        "                                         transforms.ToTensor(),\n",
        "                                         transforms.Normalize((0.5, 0.5, 0.5), (0.5, 0.5, 0.5))\n",
        "])\n",
        "\n",
        "test_transformer = transforms.Compose([transforms.ToTensor(),\n",
        "                                         transforms.Normalize((0.5, 0.5, 0.5), (0.5, 0.5, 0.5))\n",
        "])"
      ],
      "execution_count": 6,
      "outputs": []
    },
    {
      "cell_type": "markdown",
      "metadata": {
        "id": "_ldJmjNkPNiG",
        "colab_type": "text"
      },
      "source": [
        "# Define DataSets"
      ]
    },
    {
      "cell_type": "code",
      "metadata": {
        "id": "czGrTi8VPRoB",
        "colab_type": "code",
        "colab": {
          "base_uri": "https://localhost:8080/",
          "height": 104,
          "referenced_widgets": [
            "a63c919f8f5141bd8ec78c160e77067c",
            "001851af637e4fa1b2a58357b01181a9",
            "a14c98ed9d134c868eaa690c59be0288",
            "bd31795b60224488a5edb935c7617539",
            "ea907d3ddaf24454b97b4aa355514e81",
            "7ef791e13a814eccbf0c8248814d8061",
            "cbefb1b495464eafad5b4c1157c9b9f6",
            "7a3cd6a66c434d6a8b232f1f4ddd927f"
          ]
        },
        "outputId": "559d9a1c-86bf-4f56-d9ef-19e146134f35"
      },
      "source": [
        "trainDS = Dataset(train=True)\n",
        "testDS = Dataset(train=False)"
      ],
      "execution_count": 7,
      "outputs": [
        {
          "output_type": "stream",
          "text": [
            "Downloading https://www.cs.toronto.edu/~kriz/cifar-100-python.tar.gz to data/cifar-100-python.tar.gz\n"
          ],
          "name": "stdout"
        },
        {
          "output_type": "display_data",
          "data": {
            "application/vnd.jupyter.widget-view+json": {
              "model_id": "a63c919f8f5141bd8ec78c160e77067c",
              "version_minor": 0,
              "version_major": 2
            },
            "text/plain": [
              "HBox(children=(FloatProgress(value=1.0, bar_style='info', max=1.0), HTML(value='')))"
            ]
          },
          "metadata": {
            "tags": []
          }
        },
        {
          "output_type": "stream",
          "text": [
            "Extracting data/cifar-100-python.tar.gz to data\n",
            "Files already downloaded and verified\n"
          ],
          "name": "stdout"
        }
      ]
    },
    {
      "cell_type": "code",
      "metadata": {
        "id": "Tn8XrSWqPUiN",
        "colab_type": "code",
        "colab": {
          "base_uri": "https://localhost:8080/",
          "height": 74
        },
        "outputId": "6ccb7258-a7bc-4efc-cd57-5f57e752a469"
      },
      "source": [
        "train_splits = trainDS.splits\n",
        "test_splits = testDS.splits\n",
        "print(train_splits)\n",
        "print(test_splits)"
      ],
      "execution_count": 8,
      "outputs": [
        {
          "output_type": "stream",
          "text": [
            "[[94.0, 63.0, 74.0, 21.0, 35.0, 56.0, 91.0, 96.0, 87.0, 48.0], [68.0, 80.0, 22.0, 37.0, 60.0, 97.0, 51.0, 62.0, 92.0, 76.0], [75.0, 89.0, 23.0, 99.0, 39.0, 66.0, 54.0, 69.0, 84.0, 61.0], [85.0, 24.0, 98.0, 41.0, 73.0, 58.0, 78.0, 77.0, 70.0, 49.0], [65.0, 88.0, 36.0, 93.0, 45.0, 10.0, 90.0, 17.0, 32.0, 59.0], [83.0, 43.0, 53.0, 11.0, 86.0, 19.0, 38.0, 30.0, 40.0, 50.0], [57.0, 81.0, 12.0, 95.0, 25.0, 47.0, 34.0, 52.0, 44.0, 72.0], [46.0, 79.0, 20.0, 28.0, 5.0, 71.0, 8.0, 18.0, 33.0, 15.0], [55.0, 29.0, 64.0, 31.0, 67.0, 7.0, 13.0, 14.0, 42.0, 6.0], [82.0, 2.0, 27.0, 16.0, 26.0, 3.0, 4.0, 1.0, 9.0, 0.0]]\n",
            "[[94.0, 63.0, 74.0, 21.0, 35.0, 56.0, 91.0, 96.0, 87.0, 48.0], [68.0, 80.0, 22.0, 37.0, 60.0, 97.0, 51.0, 62.0, 92.0, 76.0], [75.0, 89.0, 23.0, 99.0, 39.0, 66.0, 54.0, 69.0, 84.0, 61.0], [85.0, 24.0, 98.0, 41.0, 73.0, 58.0, 78.0, 77.0, 70.0, 49.0], [65.0, 88.0, 36.0, 93.0, 45.0, 10.0, 90.0, 17.0, 32.0, 59.0], [83.0, 43.0, 53.0, 11.0, 86.0, 19.0, 38.0, 30.0, 40.0, 50.0], [57.0, 81.0, 12.0, 95.0, 25.0, 47.0, 34.0, 52.0, 44.0, 72.0], [46.0, 79.0, 20.0, 28.0, 5.0, 71.0, 8.0, 18.0, 33.0, 15.0], [55.0, 29.0, 64.0, 31.0, 67.0, 7.0, 13.0, 14.0, 42.0, 6.0], [82.0, 2.0, 27.0, 16.0, 26.0, 3.0, 4.0, 1.0, 9.0, 0.0]]\n"
          ],
          "name": "stdout"
        }
      ]
    },
    {
      "cell_type": "markdown",
      "metadata": {
        "id": "Nc8WMLe3PQvI",
        "colab_type": "text"
      },
      "source": [
        "# Useful plots"
      ]
    },
    {
      "cell_type": "code",
      "metadata": {
        "id": "EQBZdyyrPW_a",
        "colab_type": "code",
        "colab": {}
      },
      "source": [
        "def plotTask(pars_tasks):\n",
        "  import numpy as np\n",
        "  import matplotlib.pyplot as plt\n",
        "\n",
        "  x_tasks =  np.linspace(10, 100, 10)\n",
        "\n",
        "  plt.plot(x_tasks, pars_tasks, label=['Accuracy', 'Loss'])\n",
        "  plt.xlabel(\"Epoch\")\n",
        "  plt.title('Accuracy over tasks')\n",
        "  plt.legend(['Accuracy', 'Loss'])\n",
        "  plt.grid(True)\n",
        "  plt.show()"
      ],
      "execution_count": 9,
      "outputs": []
    },
    {
      "cell_type": "code",
      "metadata": {
        "id": "2RzunPCcSfip",
        "colab_type": "code",
        "colab": {}
      },
      "source": [
        "def mapFunction(labels, splits):\n",
        "\tm_l = []\n",
        "\tl_splits = list(splits)\n",
        "\tfor el in labels:\n",
        "\t\tm_l.append( l_splits.index(el) )\n",
        "\treturn torch.LongTensor(m_l).to(params.DEVICE)"
      ],
      "execution_count": 10,
      "outputs": []
    },
    {
      "cell_type": "markdown",
      "metadata": {
        "id": "JPWcz2ISRN6E",
        "colab_type": "text"
      },
      "source": [
        "# Train and evaluation phase"
      ]
    },
    {
      "cell_type": "code",
      "metadata": {
        "id": "fs6I_lmjRLYo",
        "colab_type": "code",
        "colab": {
          "base_uri": "https://localhost:8080/",
          "height": 1000
        },
        "outputId": "72e84aa8-271d-41dd-a434-8f4feb21f608"
      },
      "source": [
        "pars_tasks = []\n",
        "test_indexes = []\n",
        "\n",
        "for task in range(0, 100, params.TASK_SIZE):\n",
        "  pars_tasks.insert(task, 0)\n",
        "\n",
        "\n",
        "optimizer = torch.optim.SGD(resNet.parameters(), lr=params.LR, momentum=params.MOMENTUM, weight_decay=params.WEIGHT_DECAY)\n",
        "scheduler = optim.lr_scheduler.MultiStepLR(optimizer, params.STEP_SIZE, gamma=params.GAMMA) #allow to change the LR at predefined epochs\n",
        "criterion = torch.nn.BCEWithLogitsLoss()\n",
        "\n",
        "current_step = 0\n",
        "\n",
        "\n",
        "for task in range(0, 100, params.TASK_SIZE):\n",
        "\n",
        "  train_indexes = trainDS.__getIndexesGroups__(task)\n",
        "  test_indexes = test_indexes + testDS.__getIndexesGroups__(task)\n",
        "\n",
        "  train_dataset = Subset(trainDS, train_indexes, train_transformer)\n",
        "  test_dataset = Subset(testDS, test_indexes, test_transformer)\n",
        "\n",
        "  train_loader = DataLoader( train_dataset, num_workers=params.NUM_WORKERS, batch_size=params.BATCH_SIZE, shuffle=True)\n",
        "  test_loader = DataLoader( test_dataset, num_workers=params.NUM_WORKERS, batch_size=params.BATCH_SIZE, shuffle=True )\n",
        "  \n",
        "  col = np.array(train_splits[int(task/10)]).astype(int)\n",
        "  \n",
        "  for epoch in range(params.NUM_EPOCHS):\n",
        "    lenght = 0\n",
        "    scheduler.step() #update the learning rate\n",
        "    running_corrects = 0    \n",
        "    for images, labels, _ in train_loader:\n",
        "      images = images.float().to(params.DEVICE)\n",
        "      labels = labels.to(params.DEVICE)\n",
        "      mappedLabels = mapFunction(labels, col)   \n",
        "      onehot_labels = torch.eye(100)[labels].to(params.DEVICE)#it creates the one-hot-encoding list for the labels; needed for BCELoss    \n",
        "      optimizer.zero_grad() # Zero-ing the gradients\n",
        "      outputs = resNet(images)\n",
        "      loss = criterion(outputs,onehot_labels)   \n",
        "      cut_outputs = np.take_along_axis(outputs.to(params.DEVICE), col[None, :], axis = 1).to(params.DEVICE)\n",
        "      _, preds = torch.max(cut_outputs.data, 1)\n",
        "      running_corrects += torch.sum(preds == mappedLabels.data).data.item()   \n",
        "      loss.backward()   \n",
        "      optimizer.step()    \n",
        "      current_step += 1\n",
        "      lenght += len(images)   \n",
        "    accuracy = running_corrects / float(lenght)\n",
        "    print(\"At step \", str(task), \" and at epoch = \", epoch, \" the loss is = \", loss.item(), \" and accuracy is = \", accuracy)\n",
        "  \n",
        "  resNet = resNet.eval()\n",
        "\n",
        "  t_l = 0\n",
        "  running_corrects = 0\n",
        "  col = []\n",
        "  for i,x in enumerate( test_splits[ :int(task/10) + 1]):\n",
        "  \tv = np.array(x)\n",
        "  \tcol = np.concatenate( (col,v), axis = None)\n",
        "  col = col.astype(int)\n",
        "\n",
        "  for images, labels, _ in test_loader:\n",
        "    images = images.float().to(params.DEVICE)\n",
        "    labels = labels.to(params.DEVICE)   \n",
        "    mappedLabels = mapFunction(labels, col)\n",
        "\n",
        "    onehot_labels = torch.eye(100)[labels].to(params.DEVICE)\n",
        "\n",
        "    outputs = resNet(images).to(params.DEVICE)\n",
        "    cut_outputs = np.take_along_axis(outputs, col[None, :], axis = 1)\n",
        "    cut_outputs = cut_outputs.to(params.DEVICE)\n",
        "    _, preds = torch.max(cut_outputs.data, 1)\n",
        "\t\t# Update Corrects\n",
        "    running_corrects += torch.sum(preds == mappedLabels.data).data.item()\n",
        "    print(len(images))\n",
        "    t_l += len(images)\n",
        "  # Calculate Accuracy\n",
        "  accuracy = running_corrects / float(t_l)\n",
        "  loss = criterion(outputs,onehot_labels)\n",
        "  print('Validation Loss: {} Validation Accuracy : {}'.format(loss.item(),accuracy) )\n",
        "  pars_tasks[int(task/10)] = (accuracy, loss.item())\n",
        "  resNet = resNet.train(True)\n",
        "  \n"
      ],
      "execution_count": 11,
      "outputs": [
        {
          "output_type": "stream",
          "text": [
            "/usr/local/lib/python3.6/dist-packages/torch/optim/lr_scheduler.py:123: UserWarning: Detected call of `lr_scheduler.step()` before `optimizer.step()`. In PyTorch 1.1.0 and later, you should call them in the opposite order: `optimizer.step()` before `lr_scheduler.step()`.  Failure to do this will result in PyTorch skipping the first value of the learning rate schedule. See more details at https://pytorch.org/docs/stable/optim.html#how-to-adjust-learning-rate\n",
            "  \"https://pytorch.org/docs/stable/optim.html#how-to-adjust-learning-rate\", UserWarning)\n"
          ],
          "name": "stderr"
        },
        {
          "output_type": "stream",
          "text": [
            "At step  0  and at epoch =  0  the loss is =  0.02779005654156208  and accuracy is =  0.1466\n",
            "At step  0  and at epoch =  1  the loss is =  0.0293209720402956  and accuracy is =  0.341\n",
            "At step  0  and at epoch =  2  the loss is =  0.025957169011235237  and accuracy is =  0.4324\n",
            "At step  0  and at epoch =  3  the loss is =  0.026036767289042473  and accuracy is =  0.5064\n",
            "At step  0  and at epoch =  4  the loss is =  0.015502965077757835  and accuracy is =  0.565\n",
            "At step  0  and at epoch =  5  the loss is =  0.016576066613197327  and accuracy is =  0.5542\n",
            "At step  0  and at epoch =  6  the loss is =  0.012305776588618755  and accuracy is =  0.6202\n",
            "At step  0  and at epoch =  7  the loss is =  0.026392783969640732  and accuracy is =  0.6398\n",
            "At step  0  and at epoch =  8  the loss is =  0.02085946314036846  and accuracy is =  0.6508\n",
            "At step  0  and at epoch =  9  the loss is =  0.015772083774209023  and accuracy is =  0.697\n",
            "At step  0  and at epoch =  10  the loss is =  0.025789089500904083  and accuracy is =  0.7068\n",
            "At step  0  and at epoch =  11  the loss is =  0.014307043515145779  and accuracy is =  0.7222\n",
            "At step  0  and at epoch =  12  the loss is =  0.010381612926721573  and accuracy is =  0.736\n",
            "At step  0  and at epoch =  13  the loss is =  0.02330664172768593  and accuracy is =  0.755\n",
            "At step  0  and at epoch =  14  the loss is =  0.007681976538151503  and accuracy is =  0.7482\n",
            "At step  0  and at epoch =  15  the loss is =  0.030547887086868286  and accuracy is =  0.77\n",
            "At step  0  and at epoch =  16  the loss is =  0.009594094939529896  and accuracy is =  0.7558\n",
            "At step  0  and at epoch =  17  the loss is =  0.015942299738526344  and accuracy is =  0.7902\n",
            "At step  0  and at epoch =  18  the loss is =  0.02600913494825363  and accuracy is =  0.791\n",
            "At step  0  and at epoch =  19  the loss is =  0.008364998735487461  and accuracy is =  0.7916\n",
            "At step  0  and at epoch =  20  the loss is =  0.027290042489767075  and accuracy is =  0.8088\n",
            "At step  0  and at epoch =  21  the loss is =  0.01417885348200798  and accuracy is =  0.82\n",
            "At step  0  and at epoch =  22  the loss is =  0.005842558108270168  and accuracy is =  0.807\n",
            "At step  0  and at epoch =  23  the loss is =  0.009679257869720459  and accuracy is =  0.8338\n",
            "At step  0  and at epoch =  24  the loss is =  0.015003507025539875  and accuracy is =  0.7904\n",
            "At step  0  and at epoch =  25  the loss is =  0.014811155386269093  and accuracy is =  0.8306\n",
            "At step  0  and at epoch =  26  the loss is =  0.017329011112451553  and accuracy is =  0.8432\n",
            "At step  0  and at epoch =  27  the loss is =  0.021280061453580856  and accuracy is =  0.845\n",
            "At step  0  and at epoch =  28  the loss is =  0.010945621877908707  and accuracy is =  0.8422\n",
            "At step  0  and at epoch =  29  the loss is =  0.009799087420105934  and accuracy is =  0.8598\n",
            "At step  0  and at epoch =  30  the loss is =  0.014174491167068481  and accuracy is =  0.8444\n",
            "At step  0  and at epoch =  31  the loss is =  0.009728888049721718  and accuracy is =  0.86\n",
            "At step  0  and at epoch =  32  the loss is =  0.00544636370614171  and accuracy is =  0.8732\n",
            "At step  0  and at epoch =  33  the loss is =  0.0043711489997804165  and accuracy is =  0.8774\n",
            "At step  0  and at epoch =  34  the loss is =  0.012544444762170315  and accuracy is =  0.89\n",
            "At step  0  and at epoch =  35  the loss is =  0.016513023525476456  and accuracy is =  0.8664\n",
            "At step  0  and at epoch =  36  the loss is =  0.011884857900440693  and accuracy is =  0.8784\n",
            "At step  0  and at epoch =  37  the loss is =  0.013093535788357258  and accuracy is =  0.8834\n",
            "At step  0  and at epoch =  38  the loss is =  0.013409550301730633  and accuracy is =  0.8764\n",
            "At step  0  and at epoch =  39  the loss is =  0.02468719519674778  and accuracy is =  0.8776\n",
            "At step  0  and at epoch =  40  the loss is =  0.017728537321090698  and accuracy is =  0.8368\n",
            "At step  0  and at epoch =  41  the loss is =  0.011017288081347942  and accuracy is =  0.8758\n",
            "At step  0  and at epoch =  42  the loss is =  0.020109040662646294  and accuracy is =  0.8676\n",
            "At step  0  and at epoch =  43  the loss is =  0.011784348636865616  and accuracy is =  0.8774\n",
            "At step  0  and at epoch =  44  the loss is =  0.00203257380053401  and accuracy is =  0.8906\n",
            "At step  0  and at epoch =  45  the loss is =  0.019377052783966064  and accuracy is =  0.9136\n",
            "At step  0  and at epoch =  46  the loss is =  0.007973207160830498  and accuracy is =  0.8744\n",
            "At step  0  and at epoch =  47  the loss is =  0.01731623150408268  and accuracy is =  0.8802\n",
            "At step  0  and at epoch =  48  the loss is =  0.01008016336709261  and accuracy is =  0.9264\n",
            "At step  0  and at epoch =  49  the loss is =  0.002318046521395445  and accuracy is =  0.943\n",
            "At step  0  and at epoch =  50  the loss is =  0.014700977131724358  and accuracy is =  0.9448\n",
            "At step  0  and at epoch =  51  the loss is =  0.009011379443109035  and accuracy is =  0.9516\n",
            "At step  0  and at epoch =  52  the loss is =  0.007889200933277607  and accuracy is =  0.9536\n",
            "At step  0  and at epoch =  53  the loss is =  0.006625857204198837  and accuracy is =  0.9506\n",
            "At step  0  and at epoch =  54  the loss is =  0.01624091900885105  and accuracy is =  0.9532\n",
            "At step  0  and at epoch =  55  the loss is =  0.012670684605836868  and accuracy is =  0.9566\n",
            "At step  0  and at epoch =  56  the loss is =  0.012255612760782242  and accuracy is =  0.9552\n",
            "At step  0  and at epoch =  57  the loss is =  0.009904095903038979  and accuracy is =  0.954\n",
            "At step  0  and at epoch =  58  the loss is =  0.002386653097346425  and accuracy is =  0.9556\n",
            "At step  0  and at epoch =  59  the loss is =  0.0029012332670390606  and accuracy is =  0.9624\n",
            "At step  0  and at epoch =  60  the loss is =  0.008006108924746513  and accuracy is =  0.9604\n",
            "At step  0  and at epoch =  61  the loss is =  0.01345848385244608  and accuracy is =  0.9632\n",
            "At step  0  and at epoch =  62  the loss is =  0.004109798464924097  and accuracy is =  0.97\n",
            "At step  0  and at epoch =  63  the loss is =  0.0007756500272080302  and accuracy is =  0.9688\n",
            "At step  0  and at epoch =  64  the loss is =  0.006746934726834297  and accuracy is =  0.9718\n",
            "At step  0  and at epoch =  65  the loss is =  0.011000053957104683  and accuracy is =  0.9702\n",
            "At step  0  and at epoch =  66  the loss is =  0.006327194627374411  and accuracy is =  0.9706\n",
            "At step  0  and at epoch =  67  the loss is =  0.009806595742702484  and accuracy is =  0.973\n",
            "At step  0  and at epoch =  68  the loss is =  0.008574355393648148  and accuracy is =  0.9706\n",
            "At step  0  and at epoch =  69  the loss is =  0.0015776206273585558  and accuracy is =  0.973\n",
            "128\n",
            "128\n",
            "128\n",
            "128\n",
            "128\n",
            "128\n",
            "128\n",
            "104\n",
            "Validation Loss: 0.00911013688892126 Validation Accuracy : 0.892\n",
            "At step  10  and at epoch =  0  the loss is =  0.0909479483962059  and accuracy is =  0.1244\n",
            "At step  10  and at epoch =  1  the loss is =  0.06710774451494217  and accuracy is =  0.1464\n",
            "At step  10  and at epoch =  2  the loss is =  0.04688649997115135  and accuracy is =  0.1674\n",
            "At step  10  and at epoch =  3  the loss is =  0.031272925436496735  and accuracy is =  0.2296\n",
            "At step  10  and at epoch =  4  the loss is =  0.028520852327346802  and accuracy is =  0.3398\n",
            "At step  10  and at epoch =  5  the loss is =  0.027956459671258926  and accuracy is =  0.4616\n",
            "At step  10  and at epoch =  6  the loss is =  0.027595410123467445  and accuracy is =  0.5014\n",
            "At step  10  and at epoch =  7  the loss is =  0.02300204709172249  and accuracy is =  0.5188\n",
            "At step  10  and at epoch =  8  the loss is =  0.01908574253320694  and accuracy is =  0.5394\n",
            "At step  10  and at epoch =  9  the loss is =  0.02528294548392296  and accuracy is =  0.5504\n",
            "At step  10  and at epoch =  10  the loss is =  0.023720528930425644  and accuracy is =  0.5712\n",
            "At step  10  and at epoch =  11  the loss is =  0.017785340547561646  and accuracy is =  0.5866\n",
            "At step  10  and at epoch =  12  the loss is =  0.028231121599674225  and accuracy is =  0.6006\n",
            "At step  10  and at epoch =  13  the loss is =  0.03167940676212311  and accuracy is =  0.6062\n",
            "At step  10  and at epoch =  14  the loss is =  0.027422308921813965  and accuracy is =  0.6188\n",
            "At step  10  and at epoch =  15  the loss is =  0.014051743783056736  and accuracy is =  0.6258\n",
            "At step  10  and at epoch =  16  the loss is =  0.015474648214876652  and accuracy is =  0.6274\n",
            "At step  10  and at epoch =  17  the loss is =  0.014290674589574337  and accuracy is =  0.6472\n",
            "At step  10  and at epoch =  18  the loss is =  0.024220479652285576  and accuracy is =  0.6514\n",
            "At step  10  and at epoch =  19  the loss is =  0.024907149374485016  and accuracy is =  0.647\n"
          ],
          "name": "stdout"
        },
        {
          "output_type": "error",
          "ename": "KeyboardInterrupt",
          "evalue": "ignored",
          "traceback": [
            "\u001b[0;31m---------------------------------------------------------------------------\u001b[0m",
            "\u001b[0;31mKeyboardInterrupt\u001b[0m                         Traceback (most recent call last)",
            "\u001b[0;32m<ipython-input-11-876f222f89e2>\u001b[0m in \u001b[0;36m<module>\u001b[0;34m()\u001b[0m\n\u001b[1;32m     31\u001b[0m     \u001b[0mrunning_corrects\u001b[0m \u001b[0;34m=\u001b[0m \u001b[0;36m0\u001b[0m\u001b[0;34m\u001b[0m\u001b[0;34m\u001b[0m\u001b[0m\n\u001b[1;32m     32\u001b[0m     \u001b[0;32mfor\u001b[0m \u001b[0mimages\u001b[0m\u001b[0;34m,\u001b[0m \u001b[0mlabels\u001b[0m\u001b[0;34m,\u001b[0m \u001b[0m_\u001b[0m \u001b[0;32min\u001b[0m \u001b[0mtrain_loader\u001b[0m\u001b[0;34m:\u001b[0m\u001b[0;34m\u001b[0m\u001b[0;34m\u001b[0m\u001b[0m\n\u001b[0;32m---> 33\u001b[0;31m       \u001b[0mimages\u001b[0m \u001b[0;34m=\u001b[0m \u001b[0mimages\u001b[0m\u001b[0;34m.\u001b[0m\u001b[0mfloat\u001b[0m\u001b[0;34m(\u001b[0m\u001b[0;34m)\u001b[0m\u001b[0;34m.\u001b[0m\u001b[0mto\u001b[0m\u001b[0;34m(\u001b[0m\u001b[0mparams\u001b[0m\u001b[0;34m.\u001b[0m\u001b[0mDEVICE\u001b[0m\u001b[0;34m)\u001b[0m\u001b[0;34m\u001b[0m\u001b[0;34m\u001b[0m\u001b[0m\n\u001b[0m\u001b[1;32m     34\u001b[0m       \u001b[0mlabels\u001b[0m \u001b[0;34m=\u001b[0m \u001b[0mlabels\u001b[0m\u001b[0;34m.\u001b[0m\u001b[0mto\u001b[0m\u001b[0;34m(\u001b[0m\u001b[0mparams\u001b[0m\u001b[0;34m.\u001b[0m\u001b[0mDEVICE\u001b[0m\u001b[0;34m)\u001b[0m\u001b[0;34m\u001b[0m\u001b[0;34m\u001b[0m\u001b[0m\n\u001b[1;32m     35\u001b[0m       \u001b[0mmappedLabels\u001b[0m \u001b[0;34m=\u001b[0m \u001b[0mmapFunction\u001b[0m\u001b[0;34m(\u001b[0m\u001b[0mlabels\u001b[0m\u001b[0;34m,\u001b[0m \u001b[0mcol\u001b[0m\u001b[0;34m)\u001b[0m\u001b[0;34m\u001b[0m\u001b[0;34m\u001b[0m\u001b[0m\n",
            "\u001b[0;31mKeyboardInterrupt\u001b[0m: "
          ]
        }
      ]
    },
    {
      "cell_type": "code",
      "metadata": {
        "id": "pomxiRbnUNq7",
        "colab_type": "code",
        "colab": {}
      },
      "source": [
        "plotTask(pars_tasks)"
      ],
      "execution_count": null,
      "outputs": []
    }
  ]
}