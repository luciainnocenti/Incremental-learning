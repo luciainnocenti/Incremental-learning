{
  "nbformat": 4,
  "nbformat_minor": 0,
  "metadata": {
    "colab": {
      "name": "Copy of ICaRLMain.ipynb",
      "provenance": [],
      "collapsed_sections": [],
      "include_colab_link": true
    },
    "kernelspec": {
      "name": "python3",
      "display_name": "Python 3"
    },
    "accelerator": "GPU",
    "widgets": {
      "application/vnd.jupyter.widget-state+json": {
        "d51e1a815a0c438c8304d7cb9e7faaa5": {
          "model_module": "@jupyter-widgets/controls",
          "model_name": "HBoxModel",
          "state": {
            "_view_name": "HBoxView",
            "_dom_classes": [],
            "_model_name": "HBoxModel",
            "_view_module": "@jupyter-widgets/controls",
            "_model_module_version": "1.5.0",
            "_view_count": null,
            "_view_module_version": "1.5.0",
            "box_style": "",
            "layout": "IPY_MODEL_75d4d3fc9b064c67a3ce6a32ec3fccd0",
            "_model_module": "@jupyter-widgets/controls",
            "children": [
              "IPY_MODEL_960b4166bdd240c9916791b9bd2ecd57",
              "IPY_MODEL_39af8781b55649ceae0f3b44ffc4d4d1"
            ]
          }
        },
        "75d4d3fc9b064c67a3ce6a32ec3fccd0": {
          "model_module": "@jupyter-widgets/base",
          "model_name": "LayoutModel",
          "state": {
            "_view_name": "LayoutView",
            "grid_template_rows": null,
            "right": null,
            "justify_content": null,
            "_view_module": "@jupyter-widgets/base",
            "overflow": null,
            "_model_module_version": "1.2.0",
            "_view_count": null,
            "flex_flow": null,
            "width": null,
            "min_width": null,
            "border": null,
            "align_items": null,
            "bottom": null,
            "_model_module": "@jupyter-widgets/base",
            "top": null,
            "grid_column": null,
            "overflow_y": null,
            "overflow_x": null,
            "grid_auto_flow": null,
            "grid_area": null,
            "grid_template_columns": null,
            "flex": null,
            "_model_name": "LayoutModel",
            "justify_items": null,
            "grid_row": null,
            "max_height": null,
            "align_content": null,
            "visibility": null,
            "align_self": null,
            "height": null,
            "min_height": null,
            "padding": null,
            "grid_auto_rows": null,
            "grid_gap": null,
            "max_width": null,
            "order": null,
            "_view_module_version": "1.2.0",
            "grid_template_areas": null,
            "object_position": null,
            "object_fit": null,
            "grid_auto_columns": null,
            "margin": null,
            "display": null,
            "left": null
          }
        },
        "960b4166bdd240c9916791b9bd2ecd57": {
          "model_module": "@jupyter-widgets/controls",
          "model_name": "FloatProgressModel",
          "state": {
            "_view_name": "ProgressView",
            "style": "IPY_MODEL_3cf0126a21ea44eea303b0d6eccae89e",
            "_dom_classes": [],
            "description": " 98%",
            "_model_name": "FloatProgressModel",
            "bar_style": "info",
            "max": 1,
            "_view_module": "@jupyter-widgets/controls",
            "_model_module_version": "1.5.0",
            "value": 1,
            "_view_count": null,
            "_view_module_version": "1.5.0",
            "orientation": "horizontal",
            "min": 0,
            "description_tooltip": null,
            "_model_module": "@jupyter-widgets/controls",
            "layout": "IPY_MODEL_987c222956fd4d179d55abad05f24e63"
          }
        },
        "39af8781b55649ceae0f3b44ffc4d4d1": {
          "model_module": "@jupyter-widgets/controls",
          "model_name": "HTMLModel",
          "state": {
            "_view_name": "HTMLView",
            "style": "IPY_MODEL_7c9c1e6bea5f4e10aeb5c28e0131212a",
            "_dom_classes": [],
            "description": "",
            "_model_name": "HTMLModel",
            "placeholder": "​",
            "_view_module": "@jupyter-widgets/controls",
            "_model_module_version": "1.5.0",
            "value": " 165830656/169001437 [00:02&lt;00:00, 83060822.27it/s]",
            "_view_count": null,
            "_view_module_version": "1.5.0",
            "description_tooltip": null,
            "_model_module": "@jupyter-widgets/controls",
            "layout": "IPY_MODEL_59d6575addb74cb9b5213cd32020070d"
          }
        },
        "3cf0126a21ea44eea303b0d6eccae89e": {
          "model_module": "@jupyter-widgets/controls",
          "model_name": "ProgressStyleModel",
          "state": {
            "_view_name": "StyleView",
            "_model_name": "ProgressStyleModel",
            "description_width": "initial",
            "_view_module": "@jupyter-widgets/base",
            "_model_module_version": "1.5.0",
            "_view_count": null,
            "_view_module_version": "1.2.0",
            "bar_color": null,
            "_model_module": "@jupyter-widgets/controls"
          }
        },
        "987c222956fd4d179d55abad05f24e63": {
          "model_module": "@jupyter-widgets/base",
          "model_name": "LayoutModel",
          "state": {
            "_view_name": "LayoutView",
            "grid_template_rows": null,
            "right": null,
            "justify_content": null,
            "_view_module": "@jupyter-widgets/base",
            "overflow": null,
            "_model_module_version": "1.2.0",
            "_view_count": null,
            "flex_flow": null,
            "width": null,
            "min_width": null,
            "border": null,
            "align_items": null,
            "bottom": null,
            "_model_module": "@jupyter-widgets/base",
            "top": null,
            "grid_column": null,
            "overflow_y": null,
            "overflow_x": null,
            "grid_auto_flow": null,
            "grid_area": null,
            "grid_template_columns": null,
            "flex": null,
            "_model_name": "LayoutModel",
            "justify_items": null,
            "grid_row": null,
            "max_height": null,
            "align_content": null,
            "visibility": null,
            "align_self": null,
            "height": null,
            "min_height": null,
            "padding": null,
            "grid_auto_rows": null,
            "grid_gap": null,
            "max_width": null,
            "order": null,
            "_view_module_version": "1.2.0",
            "grid_template_areas": null,
            "object_position": null,
            "object_fit": null,
            "grid_auto_columns": null,
            "margin": null,
            "display": null,
            "left": null
          }
        },
        "7c9c1e6bea5f4e10aeb5c28e0131212a": {
          "model_module": "@jupyter-widgets/controls",
          "model_name": "DescriptionStyleModel",
          "state": {
            "_view_name": "StyleView",
            "_model_name": "DescriptionStyleModel",
            "description_width": "",
            "_view_module": "@jupyter-widgets/base",
            "_model_module_version": "1.5.0",
            "_view_count": null,
            "_view_module_version": "1.2.0",
            "_model_module": "@jupyter-widgets/controls"
          }
        },
        "59d6575addb74cb9b5213cd32020070d": {
          "model_module": "@jupyter-widgets/base",
          "model_name": "LayoutModel",
          "state": {
            "_view_name": "LayoutView",
            "grid_template_rows": null,
            "right": null,
            "justify_content": null,
            "_view_module": "@jupyter-widgets/base",
            "overflow": null,
            "_model_module_version": "1.2.0",
            "_view_count": null,
            "flex_flow": null,
            "width": null,
            "min_width": null,
            "border": null,
            "align_items": null,
            "bottom": null,
            "_model_module": "@jupyter-widgets/base",
            "top": null,
            "grid_column": null,
            "overflow_y": null,
            "overflow_x": null,
            "grid_auto_flow": null,
            "grid_area": null,
            "grid_template_columns": null,
            "flex": null,
            "_model_name": "LayoutModel",
            "justify_items": null,
            "grid_row": null,
            "max_height": null,
            "align_content": null,
            "visibility": null,
            "align_self": null,
            "height": null,
            "min_height": null,
            "padding": null,
            "grid_auto_rows": null,
            "grid_gap": null,
            "max_width": null,
            "order": null,
            "_view_module_version": "1.2.0",
            "grid_template_areas": null,
            "object_position": null,
            "object_fit": null,
            "grid_auto_columns": null,
            "margin": null,
            "display": null,
            "left": null
          }
        }
      }
    }
  },
  "cells": [
    {
      "cell_type": "markdown",
      "metadata": {
        "id": "view-in-github",
        "colab_type": "text"
      },
      "source": [
        "<a href=\"https://colab.research.google.com/github/luciainnocenti/IncrementalLearning/blob/master/ICaRLMain.ipynb\" target=\"_parent\"><img src=\"https://colab.research.google.com/assets/colab-badge.svg\" alt=\"Open In Colab\"/></a>"
      ]
    },
    {
      "cell_type": "markdown",
      "metadata": {
        "id": "yiCNZFoc3ThO",
        "colab_type": "text"
      },
      "source": [
        "\n",
        "*   RUN PER VERIFICARE COSA HA FATTO ABBASSARE LA ACCURACY DEI BATCH SUCCESSIVI.IN QUESTA VERSIONE, PROVO A TOGLIERE SHUFFLE=TRUE --> MOLTO BRUTTO, SECODNO BATCH 49%\n",
        "\n",
        "\n",
        "*   LOADER TRAIN SHUFFLE TRUE, LOADER CLASSIFY SHUFFLE FALSE\n",
        "\n",
        "\n",
        "\n",
        "\n",
        "\n",
        "\n",
        "\n"
      ]
    },
    {
      "cell_type": "markdown",
      "metadata": {
        "id": "OLMLAOPyrR1K",
        "colab_type": "text"
      },
      "source": [
        "# Import GitHub repository"
      ]
    },
    {
      "cell_type": "code",
      "metadata": {
        "id": "3LqwZJLUlcYH",
        "colab_type": "code",
        "colab": {}
      },
      "source": [
        "import os\n",
        "import logging\n",
        "import sys"
      ],
      "execution_count": 1,
      "outputs": []
    },
    {
      "cell_type": "code",
      "metadata": {
        "id": "PVa_FlnxrXIk",
        "colab_type": "code",
        "colab": {
          "base_uri": "https://localhost:8080/",
          "height": 141
        },
        "outputId": "4109f4d6-023c-4fbd-fb1d-2f66171fb67f"
      },
      "source": [
        "if not os.path.isdir('./DatasetCIFAR'):\n",
        "  !git clone https://github.com/luciainnocenti/IncrementalLearning.git\n",
        "  !mv 'IncrementalLearning' 'DatasetCIFAR'"
      ],
      "execution_count": 2,
      "outputs": [
        {
          "output_type": "stream",
          "text": [
            "Cloning into 'IncrementalLearning'...\n",
            "remote: Enumerating objects: 187, done.\u001b[K\n",
            "remote: Counting objects:   0% (1/187)\u001b[K\rremote: Counting objects:   1% (2/187)\u001b[K\rremote: Counting objects:   2% (4/187)\u001b[K\rremote: Counting objects:   3% (6/187)\u001b[K\rremote: Counting objects:   4% (8/187)\u001b[K\rremote: Counting objects:   5% (10/187)\u001b[K\rremote: Counting objects:   6% (12/187)\u001b[K\rremote: Counting objects:   7% (14/187)\u001b[K\rremote: Counting objects:   8% (15/187)\u001b[K\rremote: Counting objects:   9% (17/187)\u001b[K\rremote: Counting objects:  10% (19/187)\u001b[K\rremote: Counting objects:  11% (21/187)\u001b[K\rremote: Counting objects:  12% (23/187)\u001b[K\rremote: Counting objects:  13% (25/187)\u001b[K\rremote: Counting objects:  14% (27/187)\u001b[K\rremote: Counting objects:  15% (29/187)\u001b[K\rremote: Counting objects:  16% (30/187)\u001b[K\rremote: Counting objects:  17% (32/187)\u001b[K\rremote: Counting objects:  18% (34/187)\u001b[K\rremote: Counting objects:  19% (36/187)\u001b[K\rremote: Counting objects:  20% (38/187)\u001b[K\rremote: Counting objects:  21% (40/187)\u001b[K\rremote: Counting objects:  22% (42/187)\u001b[K\rremote: Counting objects:  23% (44/187)\u001b[K\rremote: Counting objects:  24% (45/187)\u001b[K\rremote: Counting objects:  25% (47/187)\u001b[K\rremote: Counting objects:  26% (49/187)\u001b[K\rremote: Counting objects:  27% (51/187)\u001b[K\rremote: Counting objects:  28% (53/187)\u001b[K\rremote: Counting objects:  29% (55/187)\u001b[K\rremote: Counting objects:  30% (57/187)\u001b[K\rremote: Counting objects:  31% (58/187)\u001b[K\rremote: Counting objects:  32% (60/187)\u001b[K\rremote: Counting objects:  33% (62/187)\u001b[K\rremote: Counting objects:  34% (64/187)\u001b[K\rremote: Counting objects:  35% (66/187)\u001b[K\rremote: Counting objects:  36% (68/187)\u001b[K\rremote: Counting objects:  37% (70/187)\u001b[K\rremote: Counting objects:  38% (72/187)\u001b[K\rremote: Counting objects:  39% (73/187)\u001b[K\rremote: Counting objects:  40% (75/187)\u001b[K\rremote: Counting objects:  41% (77/187)\u001b[K\rremote: Counting objects:  42% (79/187)\u001b[K\rremote: Counting objects:  43% (81/187)\u001b[K\rremote: Counting objects:  44% (83/187)\u001b[K\rremote: Counting objects:  45% (85/187)\u001b[K\rremote: Counting objects:  46% (87/187)\u001b[K\rremote: Counting objects:  47% (88/187)\u001b[K\rremote: Counting objects:  48% (90/187)\u001b[K\rremote: Counting objects:  49% (92/187)\u001b[K\rremote: Counting objects:  50% (94/187)\u001b[K\rremote: Counting objects:  51% (96/187)\u001b[K\rremote: Counting objects:  52% (98/187)\u001b[K\rremote: Counting objects:  53% (100/187)\u001b[K\rremote: Counting objects:  54% (101/187)\u001b[K\rremote: Counting objects:  55% (103/187)\u001b[K\rremote: Counting objects:  56% (105/187)\u001b[K\rremote: Counting objects:  57% (107/187)\u001b[K\rremote: Counting objects:  58% (109/187)\u001b[K\rremote: Counting objects:  59% (111/187)\u001b[K\rremote: Counting objects:  60% (113/187)\u001b[K\rremote: Counting objects:  61% (115/187)\u001b[K\rremote: Counting objects:  62% (116/187)\u001b[K\rremote: Counting objects:  63% (118/187)\u001b[K\rremote: Counting objects:  64% (120/187)\u001b[K\rremote: Counting objects:  65% (122/187)\u001b[K\rremote: Counting objects:  66% (124/187)\u001b[K\rremote: Counting objects:  67% (126/187)\u001b[K\rremote: Counting objects:  68% (128/187)\u001b[K\rremote: Counting objects:  69% (130/187)\u001b[K\rremote: Counting objects:  70% (131/187)\u001b[K\rremote: Counting objects:  71% (133/187)\u001b[K\rremote: Counting objects:  72% (135/187)\u001b[K\rremote: Counting objects:  73% (137/187)\u001b[K\rremote: Counting objects:  74% (139/187)\u001b[K\rremote: Counting objects:  75% (141/187)\u001b[K\rremote: Counting objects:  76% (143/187)\u001b[K\rremote: Counting objects:  77% (144/187)\u001b[K\rremote: Counting objects:  78% (146/187)\u001b[K\rremote: Counting objects:  79% (148/187)\u001b[K\rremote: Counting objects:  80% (150/187)\u001b[K\rremote: Counting objects:  81% (152/187)\u001b[K\rremote: Counting objects:  82% (154/187)\u001b[K\rremote: Counting objects:  83% (156/187)\u001b[K\rremote: Counting objects:  84% (158/187)\u001b[K\rremote: Counting objects:  85% (159/187)\u001b[K\rremote: Counting objects:  86% (161/187)\u001b[K\rremote: Counting objects:  87% (163/187)\u001b[K\rremote: Counting objects:  88% (165/187)\u001b[K\rremote: Counting objects:  89% (167/187)\u001b[K\rremote: Counting objects:  90% (169/187)\u001b[K\rremote: Counting objects:  91% (171/187)\u001b[K\rremote: Counting objects:  92% (173/187)\u001b[K\rremote: Counting objects:  93% (174/187)\u001b[K\rremote: Counting objects:  94% (176/187)\u001b[K\rremote: Counting objects:  95% (178/187)\u001b[K\rremote: Counting objects:  96% (180/187)\u001b[K\rremote: Counting objects:  97% (182/187)\u001b[K\rremote: Counting objects:  98% (184/187)\u001b[K\rremote: Counting objects:  99% (186/187)\u001b[K\rremote: Counting objects: 100% (187/187)\u001b[K\rremote: Counting objects: 100% (187/187), done.\u001b[K\n",
            "remote: Compressing objects:   0% (1/162)\u001b[K\rremote: Compressing objects:   1% (2/162)\u001b[K\rremote: Compressing objects:   2% (4/162)\u001b[K\rremote: Compressing objects:   3% (5/162)\u001b[K\rremote: Compressing objects:   4% (7/162)\u001b[K\rremote: Compressing objects:   5% (9/162)\u001b[K\rremote: Compressing objects:   6% (10/162)\u001b[K\rremote: Compressing objects:   7% (12/162)\u001b[K\rremote: Compressing objects:   8% (13/162)\u001b[K\rremote: Compressing objects:   9% (15/162)\u001b[K\rremote: Compressing objects:  10% (17/162)\u001b[K\rremote: Compressing objects:  11% (18/162)\u001b[K\rremote: Compressing objects:  12% (20/162)\u001b[K\rremote: Compressing objects:  13% (22/162)\u001b[K\rremote: Compressing objects:  14% (23/162)\u001b[K\rremote: Compressing objects:  15% (25/162)\u001b[K\rremote: Compressing objects:  16% (26/162)\u001b[K\rremote: Compressing objects:  17% (28/162)\u001b[K\rremote: Compressing objects:  18% (30/162)\u001b[K\rremote: Compressing objects:  19% (31/162)\u001b[K\rremote: Compressing objects:  20% (33/162)\u001b[K\rremote: Compressing objects:  21% (35/162)\u001b[K\rremote: Compressing objects:  22% (36/162)\u001b[K\rremote: Compressing objects:  23% (38/162)\u001b[K\rremote: Compressing objects:  24% (39/162)\u001b[K\rremote: Compressing objects:  25% (41/162)\u001b[K\rremote: Compressing objects:  26% (43/162)\u001b[K\rremote: Compressing objects:  27% (44/162)\u001b[K\rremote: Compressing objects:  28% (46/162)\u001b[K\rremote: Compressing objects:  29% (47/162)\u001b[K\rremote: Compressing objects:  30% (49/162)\u001b[K\rremote: Compressing objects:  31% (51/162)\u001b[K\rremote: Compressing objects:  32% (52/162)\u001b[K\rremote: Compressing objects:  33% (54/162)\u001b[K\rremote: Compressing objects:  34% (56/162)\u001b[K\rremote: Compressing objects:  35% (57/162)\u001b[K\rremote: Compressing objects:  36% (59/162)\u001b[K\rremote: Compressing objects:  37% (60/162)\u001b[K\rremote: Compressing objects:  38% (62/162)\u001b[K\rremote: Compressing objects:  39% (64/162)\u001b[K\rremote: Compressing objects:  40% (65/162)\u001b[K\rremote: Compressing objects:  41% (67/162)\u001b[K\rremote: Compressing objects:  42% (69/162)\u001b[K\rremote: Compressing objects:  43% (70/162)\u001b[K\rremote: Compressing objects:  44% (72/162)\u001b[K\rremote: Compressing objects:  45% (73/162)\u001b[K\rremote: Compressing objects:  46% (75/162)\u001b[K\rremote: Compressing objects:  47% (77/162)\u001b[K\rremote: Compressing objects:  48% (78/162)\u001b[K\rremote: Compressing objects:  49% (80/162)\u001b[K\rremote: Compressing objects:  50% (81/162)\u001b[K\rremote: Compressing objects:  51% (83/162)\u001b[K\rremote: Compressing objects:  52% (85/162)\u001b[K\rremote: Compressing objects:  53% (86/162)\u001b[K\rremote: Compressing objects:  54% (88/162)\u001b[K\rremote: Compressing objects:  55% (90/162)\u001b[K\rremote: Compressing objects:  56% (91/162)\u001b[K\rremote: Compressing objects:  57% (93/162)\u001b[K\rremote: Compressing objects:  58% (94/162)\u001b[K\rremote: Compressing objects:  59% (96/162)\u001b[K\rremote: Compressing objects:  60% (98/162)\u001b[K\rremote: Compressing objects:  61% (99/162)\u001b[K\rremote: Compressing objects:  62% (101/162)\u001b[K\rremote: Compressing objects:  63% (103/162)\u001b[K\rremote: Compressing objects:  64% (104/162)\u001b[K\rremote: Compressing objects:  65% (106/162)\u001b[K\rremote: Compressing objects:  66% (107/162)\u001b[K\rremote: Compressing objects:  67% (109/162)\u001b[K\rremote: Compressing objects:  68% (111/162)\u001b[K\rremote: Compressing objects:  69% (112/162)\u001b[K\rremote: Compressing objects:  70% (114/162)\u001b[K\rremote: Compressing objects:  71% (116/162)\u001b[K\rremote: Compressing objects:  72% (117/162)\u001b[K\rremote: Compressing objects:  73% (119/162)\u001b[K\rremote: Compressing objects:  74% (120/162)\u001b[K\rremote: Compressing objects:  75% (122/162)\u001b[K\rremote: Compressing objects:  76% (124/162)\u001b[K\rremote: Compressing objects:  77% (125/162)\u001b[K\rremote: Compressing objects:  78% (127/162)\u001b[K\rremote: Compressing objects:  79% (128/162)\u001b[K\rremote: Compressing objects:  80% (130/162)\u001b[K\rremote: Compressing objects:  81% (132/162)\u001b[K\rremote: Compressing objects:  82% (133/162)\u001b[K\rremote: Compressing objects:  83% (135/162)\u001b[K\rremote: Compressing objects:  84% (137/162)\u001b[K\rremote: Compressing objects:  85% (138/162)\u001b[K\rremote: Compressing objects:  86% (140/162)\u001b[K\rremote: Compressing objects:  87% (141/162)\u001b[K\rremote: Compressing objects:  88% (143/162)\u001b[K\rremote: Compressing objects:  89% (145/162)\u001b[K\rremote: Compressing objects:  90% (146/162)\u001b[K\rremote: Compressing objects:  91% (148/162)\u001b[K\rremote: Compressing objects:  92% (150/162)\u001b[K\rremote: Compressing objects:  93% (151/162)\u001b[K\rremote: Compressing objects:  94% (153/162)\u001b[K\rremote: Compressing objects:  95% (154/162)\u001b[K\rremote: Compressing objects:  96% (156/162)\u001b[K\rremote: Compressing objects:  97% (158/162)\u001b[K\rremote: Compressing objects:  98% (159/162)\u001b[K\rremote: Compressing objects:  99% (161/162)\u001b[K\rremote: Compressing objects: 100% (162/162)\u001b[K\rremote: Compressing objects: 100% (162/162), done.\u001b[K\n",
            "Receiving objects:   0% (1/1299)   \rReceiving objects:   1% (13/1299)   \rReceiving objects:   2% (26/1299)   \rReceiving objects:   3% (39/1299)   \rReceiving objects:   4% (52/1299)   \rReceiving objects:   5% (65/1299)   \rReceiving objects:   6% (78/1299)   \rReceiving objects:   7% (91/1299)   \rReceiving objects:   8% (104/1299)   \rReceiving objects:   9% (117/1299)   \rReceiving objects:  10% (130/1299)   \rReceiving objects:  11% (143/1299)   \rReceiving objects:  12% (156/1299)   \rReceiving objects:  13% (169/1299)   \rReceiving objects:  14% (182/1299)   \rReceiving objects:  15% (195/1299)   \rReceiving objects:  16% (208/1299)   \rReceiving objects:  17% (221/1299)   \rReceiving objects:  18% (234/1299)   \rReceiving objects:  19% (247/1299)   \rReceiving objects:  20% (260/1299)   \rReceiving objects:  21% (273/1299)   \rReceiving objects:  22% (286/1299)   \rReceiving objects:  23% (299/1299)   \rReceiving objects:  24% (312/1299)   \rReceiving objects:  25% (325/1299)   \rReceiving objects:  26% (338/1299)   \rReceiving objects:  27% (351/1299)   \rReceiving objects:  28% (364/1299)   \rReceiving objects:  29% (377/1299)   \rReceiving objects:  30% (390/1299)   \rReceiving objects:  31% (403/1299)   \rReceiving objects:  32% (416/1299)   \rReceiving objects:  33% (429/1299)   \rReceiving objects:  34% (442/1299)   \rReceiving objects:  35% (455/1299)   \rReceiving objects:  36% (468/1299)   \rReceiving objects:  37% (481/1299)   \rReceiving objects:  38% (494/1299)   \rReceiving objects:  39% (507/1299)   \rReceiving objects:  40% (520/1299)   \rReceiving objects:  41% (533/1299)   \rReceiving objects:  42% (546/1299)   \rReceiving objects:  43% (559/1299)   \rReceiving objects:  44% (572/1299)   \rReceiving objects:  45% (585/1299)   \rReceiving objects:  46% (598/1299)   \rReceiving objects:  47% (611/1299)   \rReceiving objects:  48% (624/1299)   \rReceiving objects:  49% (637/1299)   \rReceiving objects:  50% (650/1299)   \rReceiving objects:  51% (663/1299)   \rReceiving objects:  52% (676/1299)   \rReceiving objects:  53% (689/1299)   \rReceiving objects:  54% (702/1299)   \rReceiving objects:  55% (715/1299)   \rReceiving objects:  56% (728/1299)   \rReceiving objects:  57% (741/1299)   \rReceiving objects:  58% (754/1299)   \rReceiving objects:  59% (767/1299)   \rReceiving objects:  60% (780/1299)   \rReceiving objects:  61% (793/1299)   \rReceiving objects:  62% (806/1299)   \rReceiving objects:  63% (819/1299)   \rReceiving objects:  64% (832/1299)   \rReceiving objects:  65% (845/1299)   \rReceiving objects:  66% (858/1299)   \rReceiving objects:  67% (871/1299)   \rReceiving objects:  68% (884/1299)   \rReceiving objects:  69% (897/1299)   \rReceiving objects:  70% (910/1299)   \rReceiving objects:  71% (923/1299)   \rReceiving objects:  72% (936/1299)   \rReceiving objects:  73% (949/1299)   \rReceiving objects:  74% (962/1299)   \rReceiving objects:  75% (975/1299)   \rReceiving objects:  76% (988/1299)   \rReceiving objects:  77% (1001/1299)   \rReceiving objects:  78% (1014/1299)   \rReceiving objects:  79% (1027/1299)   \rReceiving objects:  80% (1040/1299)   \rReceiving objects:  81% (1053/1299)   \rReceiving objects:  82% (1066/1299)   \rReceiving objects:  83% (1079/1299)   \rReceiving objects:  84% (1092/1299)   \rReceiving objects:  85% (1105/1299)   \rReceiving objects:  86% (1118/1299)   \rReceiving objects:  87% (1131/1299)   \rReceiving objects:  88% (1144/1299)   \rReceiving objects:  89% (1157/1299)   \rReceiving objects:  90% (1170/1299)   \rReceiving objects:  91% (1183/1299)   \rremote: Total 1299 (delta 128), reused 26 (delta 25), pack-reused 1112\u001b[K\n",
            "Receiving objects:  92% (1196/1299)   \rReceiving objects:  93% (1209/1299)   \rReceiving objects:  94% (1222/1299)   \rReceiving objects:  95% (1235/1299)   \rReceiving objects:  96% (1248/1299)   \rReceiving objects:  97% (1261/1299)   \rReceiving objects:  98% (1274/1299)   \rReceiving objects:  99% (1287/1299)   \rReceiving objects: 100% (1299/1299)   \rReceiving objects: 100% (1299/1299), 870.71 KiB | 12.09 MiB/s, done.\n",
            "Resolving deltas:   0% (0/828)   \rResolving deltas:   1% (9/828)   \rResolving deltas:   7% (58/828)   \rResolving deltas:  10% (87/828)   \rResolving deltas:  16% (133/828)   \rResolving deltas:  29% (245/828)   \rResolving deltas:  38% (315/828)   \rResolving deltas:  47% (397/828)   \rResolving deltas:  48% (399/828)   \rResolving deltas:  56% (464/828)   \rResolving deltas:  57% (475/828)   \rResolving deltas:  60% (505/828)   \rResolving deltas:  66% (553/828)   \rResolving deltas:  78% (647/828)   \rResolving deltas:  80% (667/828)   \rResolving deltas:  81% (673/828)   \rResolving deltas:  82% (683/828)   \rResolving deltas:  83% (689/828)   \rResolving deltas:  88% (732/828)   \rResolving deltas:  89% (737/828)   \rResolving deltas:  91% (755/828)   \rResolving deltas:  93% (777/828)   \rResolving deltas:  94% (781/828)   \rResolving deltas:  98% (819/828)   \rResolving deltas: 100% (828/828)   \rResolving deltas: 100% (828/828), done.\n"
          ],
          "name": "stdout"
        }
      ]
    },
    {
      "cell_type": "markdown",
      "metadata": {
        "id": "XXQyHMXzrZ5A",
        "colab_type": "text"
      },
      "source": [
        "# Import packages"
      ]
    },
    {
      "cell_type": "code",
      "metadata": {
        "id": "c24pdNxurdv1",
        "colab_type": "code",
        "colab": {}
      },
      "source": [
        "from DatasetCIFAR.data_set import Dataset \n",
        "from DatasetCIFAR import ResNet\n",
        "from DatasetCIFAR import utils\n",
        "from DatasetCIFAR import params\n",
        "from DatasetCIFAR import ICaRLModel\n",
        "from torchvision import models\n",
        "import torch.nn as nn\n",
        "import torch\n",
        "import torch.optim as optim\n",
        "import torchvision\n",
        "import numpy as np\n",
        "\n",
        "from torchvision import transforms\n",
        "from torch.utils.data import Subset, DataLoader\n",
        "from torch.nn import functional as F\n",
        "import random\n",
        "random.seed(params.SEED)"
      ],
      "execution_count": 3,
      "outputs": []
    },
    {
      "cell_type": "code",
      "metadata": {
        "id": "r2rkcBbIKfUQ",
        "colab_type": "code",
        "colab": {
          "base_uri": "https://localhost:8080/",
          "height": 52
        },
        "outputId": "5d1f3fc4-56a6-414c-80e8-bd46b85838fc"
      },
      "source": [
        "print(params.SEED)\n",
        "print(params.NUM_WORKERS)"
      ],
      "execution_count": 4,
      "outputs": [
        {
          "output_type": "stream",
          "text": [
            "653\n",
            "4\n"
          ],
          "name": "stdout"
        }
      ]
    },
    {
      "cell_type": "markdown",
      "metadata": {
        "id": "1FlAkShyryrf",
        "colab_type": "text"
      },
      "source": [
        "# Define Datasets"
      ]
    },
    {
      "cell_type": "code",
      "metadata": {
        "id": "AP2iR2vl3Wiz",
        "colab_type": "code",
        "colab": {}
      },
      "source": [
        "train_transformer = transforms.Compose([transforms.RandomCrop(size = 32, padding=4),\n",
        "                                         transforms.RandomHorizontalFlip(),\n",
        "                                         transforms.ToTensor(),\n",
        "                                         transforms.Normalize((0.5, 0.5, 0.5), (0.5, 0.5, 0.5))\n",
        "])\n",
        "\n",
        "test_transformer = transforms.Compose([transforms.ToTensor(),\n",
        "                                         transforms.Normalize((0.5, 0.5, 0.5), (0.5, 0.5, 0.5))\n",
        "])"
      ],
      "execution_count": 5,
      "outputs": []
    },
    {
      "cell_type": "code",
      "metadata": {
        "id": "1CSNk0NlrvAL",
        "colab_type": "code",
        "colab": {
          "base_uri": "https://localhost:8080/",
          "height": 84,
          "referenced_widgets": [
            "d51e1a815a0c438c8304d7cb9e7faaa5",
            "75d4d3fc9b064c67a3ce6a32ec3fccd0",
            "960b4166bdd240c9916791b9bd2ecd57",
            "39af8781b55649ceae0f3b44ffc4d4d1",
            "3cf0126a21ea44eea303b0d6eccae89e",
            "987c222956fd4d179d55abad05f24e63",
            "7c9c1e6bea5f4e10aeb5c28e0131212a",
            "59d6575addb74cb9b5213cd32020070d"
          ]
        },
        "outputId": "48f7962a-54f4-4e24-ab50-286343a418a0"
      },
      "source": [
        "trainDS = Dataset(train=True, transform = train_transformer)\n",
        "testDS = Dataset(train=False, transform = test_transformer)"
      ],
      "execution_count": null,
      "outputs": [
        {
          "output_type": "stream",
          "text": [
            "Downloading https://www.cs.toronto.edu/~kriz/cifar-100-python.tar.gz to data/cifar-100-python.tar.gz\n"
          ],
          "name": "stdout"
        },
        {
          "output_type": "display_data",
          "data": {
            "application/vnd.jupyter.widget-view+json": {
              "model_id": "d51e1a815a0c438c8304d7cb9e7faaa5",
              "version_minor": 0,
              "version_major": 2
            },
            "text/plain": [
              "HBox(children=(FloatProgress(value=1.0, bar_style='info', max=1.0), HTML(value='')))"
            ]
          },
          "metadata": {
            "tags": []
          }
        },
        {
          "output_type": "stream",
          "text": [
            "Extracting data/cifar-100-python.tar.gz to data\n"
          ],
          "name": "stdout"
        }
      ]
    },
    {
      "cell_type": "code",
      "metadata": {
        "id": "W3ge3VayryJL",
        "colab_type": "code",
        "colab": {}
      },
      "source": [
        "train_splits = trainDS.splits\n",
        "test_splits = testDS.splits"
      ],
      "execution_count": null,
      "outputs": []
    },
    {
      "cell_type": "markdown",
      "metadata": {
        "id": "AzxTlFF_rkfe",
        "colab_type": "text"
      },
      "source": [
        "# Define Network"
      ]
    },
    {
      "cell_type": "code",
      "metadata": {
        "id": "rgZtPkiPrmQK",
        "colab_type": "code",
        "colab": {}
      },
      "source": [
        "ICaRL = ResNet.resnet32(num_classes=100)\n",
        "ICaRL =  ICaRL.to(params.DEVICE)"
      ],
      "execution_count": null,
      "outputs": []
    },
    {
      "cell_type": "code",
      "metadata": {
        "id": "CI8EyFmpOikN",
        "colab_type": "code",
        "colab": {}
      },
      "source": [
        "exemplars = [None]*100\n",
        "\n",
        "test_indexes =  []"
      ],
      "execution_count": null,
      "outputs": []
    },
    {
      "cell_type": "code",
      "metadata": {
        "id": "fcFjbBGrOMz6",
        "colab_type": "code",
        "colab": {}
      },
      "source": [
        "for task in range(0, 100, params.TASK_SIZE):\n",
        "  train_indexes = trainDS.__getIndexesGroups__(task)\n",
        "  test_indexes = test_indexes + testDS.__getIndexesGroups__(task)\n",
        "\n",
        "  train_dataset = Subset(trainDS, train_indexes)\n",
        "  test_dataset = Subset(testDS, test_indexes)\n",
        "\n",
        "  train_loader = DataLoader( train_dataset, num_workers=params.NUM_WORKERS, batch_size=params.BATCH_SIZE, shuffle=False)\n",
        "  test_loader = DataLoader( test_dataset, num_workers=params.NUM_WORKERS, batch_size=params.BATCH_SIZE , shuffle=False )\n",
        "\n",
        "  ICaRL, exemplars = ICaRLModel.incrementalTrain(task, trainDS, ICaRL, exemplars)\n",
        "\n",
        "  col = []\n",
        "  for i,x in enumerate( train_splits[ :int(task/10) + 1]) : \n",
        "    v = np.array(x)\n",
        "    col = np.concatenate( (col,v), axis = None)\n",
        "    col = col.astype(int)\n",
        "  mean = None\n",
        "  total = 0.0\n",
        "  running_corrects = 0.0\n",
        "  for img, lbl, _ in train_loader:\n",
        "      img = img.float().to(params.DEVICE)\n",
        "      preds, mean = ICaRLModel.classify(img, exemplars, ICaRL, task, trainDS, mean)\n",
        "      preds = preds.to(params.DEVICE)\n",
        "      labels = utils.mapFunction(lbl, col).to(params.DEVICE)\n",
        "      #print(\"preds: \", preds.data)\n",
        "      #print(\"mapped labels: \", labels)\n",
        "      #print(\"labels: \", lbl)\n",
        "      total += len(lbl)\n",
        "      running_corrects += torch.sum(preds == labels.data).data.item()\n",
        "      #print(running_corrects)\n",
        "  accuracy = float(running_corrects/total)\n",
        "  print(f'task: {task}', f'train accuracy = {accuracy}')\n",
        "\n",
        "  total = 0.0\n",
        "  running_corrects = 0.0\n",
        "  for img, lbl, _ in test_loader:\n",
        "      img = img.float().to(params.DEVICE)\n",
        "      preds, _ = ICaRLModel.classify(img, exemplars, ICaRL, task, trainDS, mean)\n",
        "      preds = preds.to(params.DEVICE)\n",
        "      labels = utils.mapFunction(lbl, col).to(params.DEVICE)\n",
        "      #print(\"preds: \", preds.data)\n",
        "      #print(\"mapped labels: \", labels)\n",
        "      #print(\"labels: \", lbl)\n",
        "      total += len(lbl)\n",
        "      running_corrects += torch.sum(preds == labels.data).data.item()\n",
        "      #print(running_corrects)\n",
        "  accuracy = float(running_corrects/total)\n",
        "  print(f'task: {task}', f'test accuracy = {accuracy}')"
      ],
      "execution_count": null,
      "outputs": []
    },
    {
      "cell_type": "code",
      "metadata": {
        "id": "o0C6HE4usvUy",
        "colab_type": "code",
        "colab": {}
      },
      "source": [
        ""
      ],
      "execution_count": null,
      "outputs": []
    }
  ]
}