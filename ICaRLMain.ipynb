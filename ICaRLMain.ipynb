{
  "nbformat": 4,
  "nbformat_minor": 0,
  "metadata": {
    "colab": {
      "name": "ICaRLMain.ipynb",
      "provenance": [],
      "include_colab_link": true
    },
    "kernelspec": {
      "name": "python3",
      "display_name": "Python 3"
    },
    "accelerator": "GPU",
    "widgets": {
      "application/vnd.jupyter.widget-state+json": {
        "90cb19bcb13c4161aa53412aab29763c": {
          "model_module": "@jupyter-widgets/controls",
          "model_name": "HBoxModel",
          "state": {
            "_view_name": "HBoxView",
            "_dom_classes": [],
            "_model_name": "HBoxModel",
            "_view_module": "@jupyter-widgets/controls",
            "_model_module_version": "1.5.0",
            "_view_count": null,
            "_view_module_version": "1.5.0",
            "box_style": "",
            "layout": "IPY_MODEL_d1c8949fbe9b487e9ff7cebf590b70b6",
            "_model_module": "@jupyter-widgets/controls",
            "children": [
              "IPY_MODEL_7c92c38b86e24c0eb2615fc76fcc7c6e",
              "IPY_MODEL_f7cc3d3c47dc42dd93a77115bc8c6944"
            ]
          }
        },
        "d1c8949fbe9b487e9ff7cebf590b70b6": {
          "model_module": "@jupyter-widgets/base",
          "model_name": "LayoutModel",
          "state": {
            "_view_name": "LayoutView",
            "grid_template_rows": null,
            "right": null,
            "justify_content": null,
            "_view_module": "@jupyter-widgets/base",
            "overflow": null,
            "_model_module_version": "1.2.0",
            "_view_count": null,
            "flex_flow": null,
            "width": null,
            "min_width": null,
            "border": null,
            "align_items": null,
            "bottom": null,
            "_model_module": "@jupyter-widgets/base",
            "top": null,
            "grid_column": null,
            "overflow_y": null,
            "overflow_x": null,
            "grid_auto_flow": null,
            "grid_area": null,
            "grid_template_columns": null,
            "flex": null,
            "_model_name": "LayoutModel",
            "justify_items": null,
            "grid_row": null,
            "max_height": null,
            "align_content": null,
            "visibility": null,
            "align_self": null,
            "height": null,
            "min_height": null,
            "padding": null,
            "grid_auto_rows": null,
            "grid_gap": null,
            "max_width": null,
            "order": null,
            "_view_module_version": "1.2.0",
            "grid_template_areas": null,
            "object_position": null,
            "object_fit": null,
            "grid_auto_columns": null,
            "margin": null,
            "display": null,
            "left": null
          }
        },
        "7c92c38b86e24c0eb2615fc76fcc7c6e": {
          "model_module": "@jupyter-widgets/controls",
          "model_name": "FloatProgressModel",
          "state": {
            "_view_name": "ProgressView",
            "style": "IPY_MODEL_ff2259c2ddd34d76b100b6a994d28fcb",
            "_dom_classes": [],
            "description": "",
            "_model_name": "FloatProgressModel",
            "bar_style": "info",
            "max": 1,
            "_view_module": "@jupyter-widgets/controls",
            "_model_module_version": "1.5.0",
            "value": 1,
            "_view_count": null,
            "_view_module_version": "1.5.0",
            "orientation": "horizontal",
            "min": 0,
            "description_tooltip": null,
            "_model_module": "@jupyter-widgets/controls",
            "layout": "IPY_MODEL_b95de80e71ba45268325b2eea63b7da2"
          }
        },
        "f7cc3d3c47dc42dd93a77115bc8c6944": {
          "model_module": "@jupyter-widgets/controls",
          "model_name": "HTMLModel",
          "state": {
            "_view_name": "HTMLView",
            "style": "IPY_MODEL_353bed0b5e4041e1b9b8eb8e4154d9e2",
            "_dom_classes": [],
            "description": "",
            "_model_name": "HTMLModel",
            "placeholder": "​",
            "_view_module": "@jupyter-widgets/controls",
            "_model_module_version": "1.5.0",
            "value": " 169009152/? [00:20&lt;00:00, 32483973.71it/s]",
            "_view_count": null,
            "_view_module_version": "1.5.0",
            "description_tooltip": null,
            "_model_module": "@jupyter-widgets/controls",
            "layout": "IPY_MODEL_80dcf5dce7a54f24ab1b34b258d049db"
          }
        },
        "ff2259c2ddd34d76b100b6a994d28fcb": {
          "model_module": "@jupyter-widgets/controls",
          "model_name": "ProgressStyleModel",
          "state": {
            "_view_name": "StyleView",
            "_model_name": "ProgressStyleModel",
            "description_width": "initial",
            "_view_module": "@jupyter-widgets/base",
            "_model_module_version": "1.5.0",
            "_view_count": null,
            "_view_module_version": "1.2.0",
            "bar_color": null,
            "_model_module": "@jupyter-widgets/controls"
          }
        },
        "b95de80e71ba45268325b2eea63b7da2": {
          "model_module": "@jupyter-widgets/base",
          "model_name": "LayoutModel",
          "state": {
            "_view_name": "LayoutView",
            "grid_template_rows": null,
            "right": null,
            "justify_content": null,
            "_view_module": "@jupyter-widgets/base",
            "overflow": null,
            "_model_module_version": "1.2.0",
            "_view_count": null,
            "flex_flow": null,
            "width": null,
            "min_width": null,
            "border": null,
            "align_items": null,
            "bottom": null,
            "_model_module": "@jupyter-widgets/base",
            "top": null,
            "grid_column": null,
            "overflow_y": null,
            "overflow_x": null,
            "grid_auto_flow": null,
            "grid_area": null,
            "grid_template_columns": null,
            "flex": null,
            "_model_name": "LayoutModel",
            "justify_items": null,
            "grid_row": null,
            "max_height": null,
            "align_content": null,
            "visibility": null,
            "align_self": null,
            "height": null,
            "min_height": null,
            "padding": null,
            "grid_auto_rows": null,
            "grid_gap": null,
            "max_width": null,
            "order": null,
            "_view_module_version": "1.2.0",
            "grid_template_areas": null,
            "object_position": null,
            "object_fit": null,
            "grid_auto_columns": null,
            "margin": null,
            "display": null,
            "left": null
          }
        },
        "353bed0b5e4041e1b9b8eb8e4154d9e2": {
          "model_module": "@jupyter-widgets/controls",
          "model_name": "DescriptionStyleModel",
          "state": {
            "_view_name": "StyleView",
            "_model_name": "DescriptionStyleModel",
            "description_width": "",
            "_view_module": "@jupyter-widgets/base",
            "_model_module_version": "1.5.0",
            "_view_count": null,
            "_view_module_version": "1.2.0",
            "_model_module": "@jupyter-widgets/controls"
          }
        },
        "80dcf5dce7a54f24ab1b34b258d049db": {
          "model_module": "@jupyter-widgets/base",
          "model_name": "LayoutModel",
          "state": {
            "_view_name": "LayoutView",
            "grid_template_rows": null,
            "right": null,
            "justify_content": null,
            "_view_module": "@jupyter-widgets/base",
            "overflow": null,
            "_model_module_version": "1.2.0",
            "_view_count": null,
            "flex_flow": null,
            "width": null,
            "min_width": null,
            "border": null,
            "align_items": null,
            "bottom": null,
            "_model_module": "@jupyter-widgets/base",
            "top": null,
            "grid_column": null,
            "overflow_y": null,
            "overflow_x": null,
            "grid_auto_flow": null,
            "grid_area": null,
            "grid_template_columns": null,
            "flex": null,
            "_model_name": "LayoutModel",
            "justify_items": null,
            "grid_row": null,
            "max_height": null,
            "align_content": null,
            "visibility": null,
            "align_self": null,
            "height": null,
            "min_height": null,
            "padding": null,
            "grid_auto_rows": null,
            "grid_gap": null,
            "max_width": null,
            "order": null,
            "_view_module_version": "1.2.0",
            "grid_template_areas": null,
            "object_position": null,
            "object_fit": null,
            "grid_auto_columns": null,
            "margin": null,
            "display": null,
            "left": null
          }
        }
      }
    }
  },
  "cells": [
    {
      "cell_type": "markdown",
      "metadata": {
        "id": "view-in-github",
        "colab_type": "text"
      },
      "source": [
        "<a href=\"https://colab.research.google.com/github/luciainnocenti/IncrementalLearning/blob/ICaRL---Lucia/ICaRLMain.ipynb\" target=\"_parent\"><img src=\"https://colab.research.google.com/assets/colab-badge.svg\" alt=\"Open In Colab\"/></a>"
      ]
    },
    {
      "cell_type": "markdown",
      "metadata": {
        "id": "OLMLAOPyrR1K",
        "colab_type": "text"
      },
      "source": [
        "# Import GitHub repository"
      ]
    },
    {
      "cell_type": "code",
      "metadata": {
        "id": "3LqwZJLUlcYH",
        "colab_type": "code",
        "colab": {}
      },
      "source": [
        "import os\n",
        "import logging\n",
        "import sys"
      ],
      "execution_count": 0,
      "outputs": []
    },
    {
      "cell_type": "code",
      "metadata": {
        "id": "PVa_FlnxrXIk",
        "colab_type": "code",
        "outputId": "277ed956-3ed0-4e17-cee3-0c341ddb7285",
        "colab": {
          "base_uri": "https://localhost:8080/",
          "height": 146
        }
      },
      "source": [
        "if not os.path.isdir('./DatasetCIFAR'):\n",
        "  !git clone -b ICaRL---Lucia https://github.com/luciainnocenti/IncrementalLearning.git\n",
        "  !mv 'IncrementalLearning' 'DatasetCIFAR'"
      ],
      "execution_count": 2,
      "outputs": [
        {
          "output_type": "stream",
          "text": [
            "Cloning into 'IncrementalLearning'...\n",
            "remote: Enumerating objects: 201, done.\u001b[K\n",
            "remote: Counting objects:   0% (1/201)\u001b[K\rremote: Counting objects:   1% (3/201)\u001b[K\rremote: Counting objects:   2% (5/201)\u001b[K\rremote: Counting objects:   3% (7/201)\u001b[K\rremote: Counting objects:   4% (9/201)\u001b[K\rremote: Counting objects:   5% (11/201)\u001b[K\rremote: Counting objects:   6% (13/201)\u001b[K\rremote: Counting objects:   7% (15/201)\u001b[K\rremote: Counting objects:   8% (17/201)\u001b[K\rremote: Counting objects:   9% (19/201)\u001b[K\rremote: Counting objects:  10% (21/201)\u001b[K\rremote: Counting objects:  11% (23/201)\u001b[K\rremote: Counting objects:  12% (25/201)\u001b[K\rremote: Counting objects:  13% (27/201)\u001b[K\rremote: Counting objects:  14% (29/201)\u001b[K\rremote: Counting objects:  15% (31/201)\u001b[K\rremote: Counting objects:  16% (33/201)\u001b[K\rremote: Counting objects:  17% (35/201)\u001b[K\rremote: Counting objects:  18% (37/201)\u001b[K\rremote: Counting objects:  19% (39/201)\u001b[K\rremote: Counting objects:  20% (41/201)\u001b[K\rremote: Counting objects:  21% (43/201)\u001b[K\rremote: Counting objects:  22% (45/201)\u001b[K\rremote: Counting objects:  23% (47/201)\u001b[K\rremote: Counting objects:  24% (49/201)\u001b[K\rremote: Counting objects:  25% (51/201)\u001b[K\rremote: Counting objects:  26% (53/201)\u001b[K\rremote: Counting objects:  27% (55/201)\u001b[K\rremote: Counting objects:  28% (57/201)\u001b[K\rremote: Counting objects:  29% (59/201)\u001b[K\rremote: Counting objects:  30% (61/201)\u001b[K\rremote: Counting objects:  31% (63/201)\u001b[K\rremote: Counting objects:  32% (65/201)\u001b[K\rremote: Counting objects:  33% (67/201)\u001b[K\rremote: Counting objects:  34% (69/201)\u001b[K\rremote: Counting objects:  35% (71/201)\u001b[K\rremote: Counting objects:  36% (73/201)\u001b[K\rremote: Counting objects:  37% (75/201)\u001b[K\rremote: Counting objects:  38% (77/201)\u001b[K\rremote: Counting objects:  39% (79/201)\u001b[K\rremote: Counting objects:  40% (81/201)\u001b[K\rremote: Counting objects:  41% (83/201)\u001b[K\rremote: Counting objects:  42% (85/201)\u001b[K\rremote: Counting objects:  43% (87/201)\u001b[K\rremote: Counting objects:  44% (89/201)\u001b[K\rremote: Counting objects:  45% (91/201)\u001b[K\rremote: Counting objects:  46% (93/201)\u001b[K\rremote: Counting objects:  47% (95/201)\u001b[K\rremote: Counting objects:  48% (97/201)\u001b[K\rremote: Counting objects:  49% (99/201)\u001b[K\rremote: Counting objects:  50% (101/201)\u001b[K\rremote: Counting objects:  51% (103/201)\u001b[K\rremote: Counting objects:  52% (105/201)\u001b[K\rremote: Counting objects:  53% (107/201)\u001b[K\rremote: Counting objects:  54% (109/201)\u001b[K\rremote: Counting objects:  55% (111/201)\u001b[K\rremote: Counting objects:  56% (113/201)\u001b[K\rremote: Counting objects:  57% (115/201)\u001b[K\rremote: Counting objects:  58% (117/201)\u001b[K\rremote: Counting objects:  59% (119/201)\u001b[K\rremote: Counting objects:  60% (121/201)\u001b[K\rremote: Counting objects:  61% (123/201)\u001b[K\rremote: Counting objects:  62% (125/201)\u001b[K\rremote: Counting objects:  63% (127/201)\u001b[K\rremote: Counting objects:  64% (129/201)\u001b[K\rremote: Counting objects:  65% (131/201)\u001b[K\rremote: Counting objects:  66% (133/201)\u001b[K\rremote: Counting objects:  67% (135/201)\u001b[K\rremote: Counting objects:  68% (137/201)\u001b[K\rremote: Counting objects:  69% (139/201)\u001b[K\rremote: Counting objects:  70% (141/201)\u001b[K\rremote: Counting objects:  71% (143/201)\u001b[K\rremote: Counting objects:  72% (145/201)\u001b[K\rremote: Counting objects:  73% (147/201)\u001b[K\rremote: Counting objects:  74% (149/201)\u001b[K\rremote: Counting objects:  75% (151/201)\u001b[K\rremote: Counting objects:  76% (153/201)\u001b[K\rremote: Counting objects:  77% (155/201)\u001b[K\rremote: Counting objects:  78% (157/201)\u001b[K\rremote: Counting objects:  79% (159/201)\u001b[K\rremote: Counting objects:  80% (161/201)\u001b[K\rremote: Counting objects:  81% (163/201)\u001b[K\rremote: Counting objects:  82% (165/201)\u001b[K\rremote: Counting objects:  83% (167/201)\u001b[K\rremote: Counting objects:  84% (169/201)\u001b[K\rremote: Counting objects:  85% (171/201)\u001b[K\rremote: Counting objects:  86% (173/201)\u001b[K\rremote: Counting objects:  87% (175/201)\u001b[K\rremote: Counting objects:  88% (177/201)\u001b[K\rremote: Counting objects:  89% (179/201)\u001b[K\rremote: Counting objects:  90% (181/201)\u001b[K\rremote: Counting objects:  91% (183/201)\u001b[K\rremote: Counting objects:  92% (185/201)\u001b[K\rremote: Counting objects:  93% (187/201)\u001b[K\rremote: Counting objects:  94% (189/201)\u001b[K\rremote: Counting objects:  95% (191/201)\u001b[K\rremote: Counting objects:  96% (193/201)\u001b[K\rremote: Counting objects:  97% (195/201)\u001b[K\rremote: Counting objects:  98% (197/201)\u001b[K\rremote: Counting objects:  99% (199/201)\u001b[K\rremote: Counting objects: 100% (201/201)\u001b[K\rremote: Counting objects: 100% (201/201), done.\u001b[K\n",
            "remote: Compressing objects:   0% (1/199)\u001b[K\rremote: Compressing objects:   1% (2/199)\u001b[K\rremote: Compressing objects:   2% (4/199)\u001b[K\rremote: Compressing objects:   3% (6/199)\u001b[K\rremote: Compressing objects:   4% (8/199)\u001b[K\rremote: Compressing objects:   5% (10/199)\u001b[K\rremote: Compressing objects:   6% (12/199)\u001b[K\rremote: Compressing objects:   7% (14/199)\u001b[K\rremote: Compressing objects:   8% (16/199)\u001b[K\rremote: Compressing objects:   9% (18/199)\u001b[K\rremote: Compressing objects:  10% (20/199)\u001b[K\rremote: Compressing objects:  11% (22/199)\u001b[K\rremote: Compressing objects:  12% (24/199)\u001b[K\rremote: Compressing objects:  13% (26/199)\u001b[K\rremote: Compressing objects:  14% (28/199)\u001b[K\rremote: Compressing objects:  15% (30/199)\u001b[K\rremote: Compressing objects:  16% (32/199)\u001b[K\rremote: Compressing objects:  17% (34/199)\u001b[K\rremote: Compressing objects:  18% (36/199)\u001b[K\rremote: Compressing objects:  19% (38/199)\u001b[K\rremote: Compressing objects:  20% (40/199)\u001b[K\rremote: Compressing objects:  21% (42/199)\u001b[K\rremote: Compressing objects:  22% (44/199)\u001b[K\rremote: Compressing objects:  23% (46/199)\u001b[K\rremote: Compressing objects:  24% (48/199)\u001b[K\rremote: Compressing objects:  25% (50/199)\u001b[K\rremote: Compressing objects:  26% (52/199)\u001b[K\rremote: Compressing objects:  27% (54/199)\u001b[K\rremote: Compressing objects:  28% (56/199)\u001b[K\rremote: Compressing objects:  29% (58/199)\u001b[K\rremote: Compressing objects:  30% (60/199)\u001b[K\rremote: Compressing objects:  31% (62/199)\u001b[K\rremote: Compressing objects:  32% (64/199)\u001b[K\rremote: Compressing objects:  33% (66/199)\u001b[K\rremote: Compressing objects:  34% (68/199)\u001b[K\rremote: Compressing objects:  35% (70/199)\u001b[K\rremote: Compressing objects:  36% (72/199)\u001b[K\rremote: Compressing objects:  37% (74/199)\u001b[K\rremote: Compressing objects:  38% (76/199)\u001b[K\rremote: Compressing objects:  39% (78/199)\u001b[K\rremote: Compressing objects:  40% (80/199)\u001b[K\rremote: Compressing objects:  41% (82/199)\u001b[K\rremote: Compressing objects:  42% (84/199)\u001b[K\rremote: Compressing objects:  43% (86/199)\u001b[K\rremote: Compressing objects:  44% (88/199)\u001b[K\rremote: Compressing objects:  45% (90/199)\u001b[K\rremote: Compressing objects:  46% (92/199)\u001b[K\rremote: Compressing objects:  47% (94/199)\u001b[K\rremote: Compressing objects:  48% (96/199)\u001b[K\rremote: Compressing objects:  49% (98/199)\u001b[K\rremote: Compressing objects:  50% (100/199)\u001b[K\rremote: Compressing objects:  51% (102/199)\u001b[K\rremote: Compressing objects:  52% (104/199)\u001b[K\rremote: Compressing objects:  53% (106/199)\u001b[K\rremote: Compressing objects:  54% (108/199)\u001b[K\rremote: Compressing objects:  55% (110/199)\u001b[K\rremote: Compressing objects:  56% (112/199)\u001b[K\rremote: Compressing objects:  57% (114/199)\u001b[K\rremote: Compressing objects:  58% (116/199)\u001b[K\rremote: Compressing objects:  59% (118/199)\u001b[K\rremote: Compressing objects:  60% (120/199)\u001b[K\rremote: Compressing objects:  61% (122/199)\u001b[K\rremote: Compressing objects:  62% (124/199)\u001b[K\rremote: Compressing objects:  63% (126/199)\u001b[K\rremote: Compressing objects:  64% (128/199)\u001b[K\rremote: Compressing objects:  65% (130/199)\u001b[K\rremote: Compressing objects:  66% (132/199)\u001b[K\rremote: Compressing objects:  67% (134/199)\u001b[K\rremote: Compressing objects:  68% (136/199)\u001b[K\rremote: Compressing objects:  69% (138/199)\u001b[K\rremote: Compressing objects:  70% (140/199)\u001b[K\rremote: Compressing objects:  71% (142/199)\u001b[K\rremote: Compressing objects:  72% (144/199)\u001b[K\rremote: Compressing objects:  73% (146/199)\u001b[K\rremote: Compressing objects:  74% (148/199)\u001b[K\rremote: Compressing objects:  75% (150/199)\u001b[K\rremote: Compressing objects:  76% (152/199)\u001b[K\rremote: Compressing objects:  77% (154/199)\u001b[K\rremote: Compressing objects:  78% (156/199)\u001b[K\rremote: Compressing objects:  79% (158/199)\u001b[K\rremote: Compressing objects:  80% (160/199)\u001b[K\rremote: Compressing objects:  81% (162/199)\u001b[K\rremote: Compressing objects:  82% (164/199)\u001b[K\rremote: Compressing objects:  83% (166/199)\u001b[K\rremote: Compressing objects:  84% (168/199)\u001b[K\rremote: Compressing objects:  85% (170/199)\u001b[K\rremote: Compressing objects:  86% (172/199)\u001b[K\rremote: Compressing objects:  87% (174/199)\u001b[K\rremote: Compressing objects:  88% (176/199)\u001b[K\rremote: Compressing objects:  89% (178/199)\u001b[K\rremote: Compressing objects:  90% (180/199)\u001b[K\rremote: Compressing objects:  91% (182/199)\u001b[K\rremote: Compressing objects:  92% (184/199)\u001b[K\rremote: Compressing objects:  93% (186/199)\u001b[K\rremote: Compressing objects:  94% (188/199)\u001b[K\rremote: Compressing objects:  95% (190/199)\u001b[K\rremote: Compressing objects:  96% (192/199)\u001b[K\rremote: Compressing objects:  97% (194/199)\u001b[K\rremote: Compressing objects:  98% (196/199)\u001b[K\rremote: Compressing objects:  99% (198/199)\u001b[K\rremote: Compressing objects: 100% (199/199)\u001b[K\rremote: Compressing objects: 100% (199/199), done.\u001b[K\n",
            "Receiving objects:   0% (1/917)   \rReceiving objects:   1% (10/917)   \rReceiving objects:   2% (19/917)   \rReceiving objects:   3% (28/917)   \rReceiving objects:   4% (37/917)   \rReceiving objects:   5% (46/917)   \rReceiving objects:   6% (56/917)   \rReceiving objects:   7% (65/917)   \rReceiving objects:   8% (74/917)   \rReceiving objects:   9% (83/917)   \rReceiving objects:  10% (92/917)   \rReceiving objects:  11% (101/917)   \rReceiving objects:  12% (111/917)   \rReceiving objects:  13% (120/917)   \rReceiving objects:  14% (129/917)   \rReceiving objects:  15% (138/917)   \rReceiving objects:  16% (147/917)   \rReceiving objects:  17% (156/917)   \rReceiving objects:  18% (166/917)   \rReceiving objects:  19% (175/917)   \rReceiving objects:  20% (184/917)   \rReceiving objects:  21% (193/917)   \rReceiving objects:  22% (202/917)   \rReceiving objects:  23% (211/917)   \rReceiving objects:  24% (221/917)   \rReceiving objects:  25% (230/917)   \rReceiving objects:  26% (239/917)   \rReceiving objects:  27% (248/917)   \rReceiving objects:  28% (257/917)   \rReceiving objects:  29% (266/917)   \rReceiving objects:  30% (276/917)   \rReceiving objects:  31% (285/917)   \rReceiving objects:  32% (294/917)   \rReceiving objects:  33% (303/917)   \rReceiving objects:  34% (312/917)   \rReceiving objects:  35% (321/917)   \rReceiving objects:  36% (331/917)   \rReceiving objects:  37% (340/917)   \rReceiving objects:  38% (349/917)   \rReceiving objects:  39% (358/917)   \rReceiving objects:  40% (367/917)   \rReceiving objects:  41% (376/917)   \rReceiving objects:  42% (386/917)   \rReceiving objects:  43% (395/917)   \rReceiving objects:  44% (404/917)   \rReceiving objects:  45% (413/917)   \rReceiving objects:  46% (422/917)   \rReceiving objects:  47% (431/917)   \rReceiving objects:  48% (441/917)   \rReceiving objects:  49% (450/917)   \rReceiving objects:  50% (459/917)   \rReceiving objects:  51% (468/917)   \rReceiving objects:  52% (477/917)   \rReceiving objects:  53% (487/917)   \rReceiving objects:  54% (496/917)   \rReceiving objects:  55% (505/917)   \rReceiving objects:  56% (514/917)   \rReceiving objects:  57% (523/917)   \rReceiving objects:  58% (532/917)   \rReceiving objects:  59% (542/917)   \rReceiving objects:  60% (551/917)   \rReceiving objects:  61% (560/917)   \rReceiving objects:  62% (569/917)   \rReceiving objects:  63% (578/917)   \rReceiving objects:  64% (587/917)   \rReceiving objects:  65% (597/917)   \rReceiving objects:  66% (606/917)   \rReceiving objects:  67% (615/917)   \rReceiving objects:  68% (624/917)   \rReceiving objects:  69% (633/917)   \rReceiving objects:  70% (642/917)   \rReceiving objects:  71% (652/917)   \rReceiving objects:  72% (661/917)   \rReceiving objects:  73% (670/917)   \rReceiving objects:  74% (679/917)   \rReceiving objects:  75% (688/917)   \rReceiving objects:  76% (697/917)   \rReceiving objects:  77% (707/917)   \rReceiving objects:  78% (716/917)   \rReceiving objects:  79% (725/917)   \rReceiving objects:  80% (734/917)   \rReceiving objects:  81% (743/917)   \rReceiving objects:  82% (752/917)   \rReceiving objects:  83% (762/917)   \rremote: Total 917 (delta 125), reused 5 (delta 2), pack-reused 716\u001b[K\n",
            "Receiving objects:  84% (771/917)   \rReceiving objects:  85% (780/917)   \rReceiving objects:  86% (789/917)   \rReceiving objects:  87% (798/917)   \rReceiving objects:  88% (807/917)   \rReceiving objects:  89% (817/917)   \rReceiving objects:  90% (826/917)   \rReceiving objects:  91% (835/917)   \rReceiving objects:  92% (844/917)   \rReceiving objects:  93% (853/917)   \rReceiving objects:  94% (862/917)   \rReceiving objects:  95% (872/917)   \rReceiving objects:  96% (881/917)   \rReceiving objects:  97% (890/917)   \rReceiving objects:  98% (899/917)   \rReceiving objects:  99% (908/917)   \rReceiving objects: 100% (917/917)   \rReceiving objects: 100% (917/917), 596.49 KiB | 1.81 MiB/s, done.\n",
            "Resolving deltas:   0% (0/576)   \rResolving deltas:   1% (6/576)   \rResolving deltas:   3% (18/576)   \rResolving deltas:   7% (41/576)   \rResolving deltas:  12% (73/576)   \rResolving deltas:  32% (186/576)   \rResolving deltas:  45% (264/576)   \rResolving deltas:  47% (273/576)   \rResolving deltas:  64% (369/576)   \rResolving deltas:  65% (377/576)   \rResolving deltas:  71% (413/576)   \rResolving deltas:  72% (416/576)   \rResolving deltas:  74% (431/576)   \rResolving deltas:  75% (432/576)   \rResolving deltas:  76% (438/576)   \rResolving deltas:  87% (505/576)   \rResolving deltas:  88% (510/576)   \rResolving deltas:  98% (569/576)   \rResolving deltas:  99% (571/576)   \rResolving deltas: 100% (576/576)   \rResolving deltas: 100% (576/576), done.\n"
          ],
          "name": "stdout"
        }
      ]
    },
    {
      "cell_type": "markdown",
      "metadata": {
        "id": "XXQyHMXzrZ5A",
        "colab_type": "text"
      },
      "source": [
        "# Import packages"
      ]
    },
    {
      "cell_type": "code",
      "metadata": {
        "id": "c24pdNxurdv1",
        "colab_type": "code",
        "colab": {}
      },
      "source": [
        "\n",
        "from DatasetCIFAR.data_set import Dataset \n",
        "from DatasetCIFAR import ResNet\n",
        "from DatasetCIFAR import utils\n",
        "from DatasetCIFAR import params\n",
        "from DatasetCIFAR import ICaRLModel\n",
        "from torchvision import models\n",
        "import torch.nn as nn\n",
        "import torch\n",
        "import torch.optim as optim\n",
        "import torchvision\n",
        "import numpy as np\n",
        "\n",
        "from torchvision import transforms\n",
        "from torch.utils.data import Subset, DataLoader\n",
        "from torch.nn import functional as F\n",
        "import random\n",
        "random.seed(params.SEED)"
      ],
      "execution_count": 0,
      "outputs": []
    },
    {
      "cell_type": "markdown",
      "metadata": {
        "id": "1FlAkShyryrf",
        "colab_type": "text"
      },
      "source": [
        "# Define Datasets"
      ]
    },
    {
      "cell_type": "code",
      "metadata": {
        "id": "AP2iR2vl3Wiz",
        "colab_type": "code",
        "colab": {}
      },
      "source": [
        "train_transformer = transforms.Compose([transforms.RandomCrop(size = 32, padding=4),\n",
        "                                         transforms.RandomHorizontalFlip(),\n",
        "                                         transforms.ToTensor(),\n",
        "                                         transforms.Normalize((0.5, 0.5, 0.5), (0.5, 0.5, 0.5))\n",
        "])\n",
        "\n",
        "test_transformer = transforms.Compose([transforms.ToTensor(),\n",
        "                                         transforms.Normalize((0.5, 0.5, 0.5), (0.5, 0.5, 0.5))\n",
        "])"
      ],
      "execution_count": 0,
      "outputs": []
    },
    {
      "cell_type": "code",
      "metadata": {
        "id": "1CSNk0NlrvAL",
        "colab_type": "code",
        "outputId": "a0f3f79c-2d84-4e7c-e067-e7ce64c8d21f",
        "colab": {
          "base_uri": "https://localhost:8080/",
          "height": 104,
          "referenced_widgets": [
            "90cb19bcb13c4161aa53412aab29763c",
            "d1c8949fbe9b487e9ff7cebf590b70b6",
            "7c92c38b86e24c0eb2615fc76fcc7c6e",
            "f7cc3d3c47dc42dd93a77115bc8c6944",
            "ff2259c2ddd34d76b100b6a994d28fcb",
            "b95de80e71ba45268325b2eea63b7da2",
            "353bed0b5e4041e1b9b8eb8e4154d9e2",
            "80dcf5dce7a54f24ab1b34b258d049db"
          ]
        }
      },
      "source": [
        "trainDS = Dataset(train=True, transform = train_transformer)\n",
        "testDS = Dataset(train=False, transform = test_transformer)"
      ],
      "execution_count": 5,
      "outputs": [
        {
          "output_type": "stream",
          "text": [
            "Downloading https://www.cs.toronto.edu/~kriz/cifar-100-python.tar.gz to data/cifar-100-python.tar.gz\n"
          ],
          "name": "stdout"
        },
        {
          "output_type": "display_data",
          "data": {
            "application/vnd.jupyter.widget-view+json": {
              "model_id": "90cb19bcb13c4161aa53412aab29763c",
              "version_minor": 0,
              "version_major": 2
            },
            "text/plain": [
              "HBox(children=(FloatProgress(value=1.0, bar_style='info', max=1.0), HTML(value='')))"
            ]
          },
          "metadata": {
            "tags": []
          }
        },
        {
          "output_type": "stream",
          "text": [
            "Extracting data/cifar-100-python.tar.gz to data\n",
            "Files already downloaded and verified\n"
          ],
          "name": "stdout"
        }
      ]
    },
    {
      "cell_type": "code",
      "metadata": {
        "id": "W3ge3VayryJL",
        "colab_type": "code",
        "outputId": "d55bbafa-c768-42a2-b98b-fca0169ca9ce",
        "colab": {
          "base_uri": "https://localhost:8080/",
          "height": 74
        }
      },
      "source": [
        "train_splits = trainDS.splits\n",
        "test_splits = testDS.splits\n",
        "print(train_splits)\n",
        "print(test_splits)"
      ],
      "execution_count": 6,
      "outputs": [
        {
          "output_type": "stream",
          "text": [
            "[[94.0, 63.0, 74.0, 21.0, 35.0, 56.0, 91.0, 96.0, 87.0, 48.0], [68.0, 80.0, 22.0, 37.0, 60.0, 97.0, 51.0, 62.0, 92.0, 76.0], [75.0, 89.0, 23.0, 99.0, 39.0, 66.0, 54.0, 69.0, 84.0, 61.0], [85.0, 24.0, 98.0, 41.0, 73.0, 58.0, 78.0, 77.0, 70.0, 49.0], [65.0, 88.0, 36.0, 93.0, 45.0, 10.0, 90.0, 17.0, 32.0, 59.0], [83.0, 43.0, 53.0, 11.0, 86.0, 19.0, 38.0, 30.0, 40.0, 50.0], [57.0, 81.0, 12.0, 95.0, 25.0, 47.0, 34.0, 52.0, 44.0, 72.0], [46.0, 79.0, 20.0, 28.0, 5.0, 71.0, 8.0, 18.0, 33.0, 15.0], [55.0, 29.0, 64.0, 31.0, 67.0, 7.0, 13.0, 14.0, 42.0, 6.0], [82.0, 2.0, 27.0, 16.0, 26.0, 3.0, 4.0, 1.0, 9.0, 0.0]]\n",
            "[[94.0, 63.0, 74.0, 21.0, 35.0, 56.0, 91.0, 96.0, 87.0, 48.0], [68.0, 80.0, 22.0, 37.0, 60.0, 97.0, 51.0, 62.0, 92.0, 76.0], [75.0, 89.0, 23.0, 99.0, 39.0, 66.0, 54.0, 69.0, 84.0, 61.0], [85.0, 24.0, 98.0, 41.0, 73.0, 58.0, 78.0, 77.0, 70.0, 49.0], [65.0, 88.0, 36.0, 93.0, 45.0, 10.0, 90.0, 17.0, 32.0, 59.0], [83.0, 43.0, 53.0, 11.0, 86.0, 19.0, 38.0, 30.0, 40.0, 50.0], [57.0, 81.0, 12.0, 95.0, 25.0, 47.0, 34.0, 52.0, 44.0, 72.0], [46.0, 79.0, 20.0, 28.0, 5.0, 71.0, 8.0, 18.0, 33.0, 15.0], [55.0, 29.0, 64.0, 31.0, 67.0, 7.0, 13.0, 14.0, 42.0, 6.0], [82.0, 2.0, 27.0, 16.0, 26.0, 3.0, 4.0, 1.0, 9.0, 0.0]]\n"
          ],
          "name": "stdout"
        }
      ]
    },
    {
      "cell_type": "markdown",
      "metadata": {
        "id": "AzxTlFF_rkfe",
        "colab_type": "text"
      },
      "source": [
        "# Define Network"
      ]
    },
    {
      "cell_type": "code",
      "metadata": {
        "id": "rgZtPkiPrmQK",
        "colab_type": "code",
        "colab": {}
      },
      "source": [
        "ICaRL = ICaRLModel.ICaRLStruct(dataset = trainDS)"
      ],
      "execution_count": 0,
      "outputs": []
    },
    {
      "cell_type": "markdown",
      "metadata": {
        "id": "147q3Ae3s1V7",
        "colab_type": "text"
      },
      "source": [
        "# Train phase"
      ]
    },
    {
      "cell_type": "code",
      "metadata": {
        "id": "v7ztoxar3l2R",
        "colab_type": "code",
        "colab": {}
      },
      "source": [
        "pars_tasks = []\n",
        "test_indexes = []\n",
        "\n",
        "for task in range(0, 100, params.TASK_SIZE):\n",
        "  pars_tasks.insert(task, 0)"
      ],
      "execution_count": 0,
      "outputs": []
    },
    {
      "cell_type": "code",
      "metadata": {
        "id": "x2BtoRPgs36I",
        "colab_type": "code",
        "outputId": "d1f4e923-a98c-4aba-f6d6-7307bfb927fa",
        "colab": {
          "base_uri": "https://localhost:8080/",
          "height": 1000
        }
      },
      "source": [
        "for task in range(0, 100, params.TASK_SIZE):\n",
        "\n",
        "  train_indexes = trainDS.__getIndexesGroups__(task)\n",
        "  test_indexes = test_indexes + testDS.__getIndexesGroups__(task)\n",
        "\n",
        "  train_dataset = Subset(trainDS, train_indexes)\n",
        "  test_dataset = Subset(testDS, test_indexes)\n",
        "\n",
        "  train_loader = DataLoader( train_dataset, num_workers=params.NUM_WORKERS, batch_size=params.BATCH_SIZE)\n",
        "  test_loader = DataLoader( test_dataset, num_workers=params.NUM_WORKERS, batch_size=params.BATCH_SIZE )\n",
        "\n",
        "\n",
        "  col = []\n",
        "  for i,x in enumerate( test_splits[ :int(task/10) + 1]) : \n",
        "    v = np.array(x)\n",
        "    col = np.concatenate( (col,v), axis = None)\n",
        "    col = col.astype(int)\n",
        "\n",
        "  ICaRL.updateRep(task, train_dataset, col, train_transformer)\n",
        "\n",
        "\n",
        "  m = ICaRL.k / (task + params.TASK_SIZE) #task + params.TASK_SIZE represents the total amount of classes know at each step\n",
        "  print('m: ', m)\n",
        "\n",
        "  ICaRL.reduceExemplars(int(m))\n",
        "\n",
        "\n",
        "  for y in train_splits[int(task/10)]:\n",
        "    images = []\n",
        "    for i, el in enumerate(train_dataset):\n",
        "      if( el[1] == y):\n",
        "        images.append(train_indexes[i])\n",
        "    ICaRL.generateExemplars(images, int(m), int(y) )\n",
        "\n",
        "\n",
        "  total = 0.0\n",
        "  running_corrects = 0.0\n",
        "  for img, lbl, _ in train_loader:\n",
        "      img = img.float().to(params.DEVICE)\n",
        "      preds = ICaRL.classify(img, col)\n",
        "      labels = utils.mapFunction(lbl, col)\n",
        "      #print(\"preds: \", preds.data)\n",
        "      #print(\"mapped labels: \", labels)\n",
        "      #print(\"labels: \", lbl)\n",
        "      total += len(lbl)\n",
        "      running_corrects += torch.sum(preds == labels.data).data.item()\n",
        "      #print(running_corrects)\n",
        "  accuracy = float(running_corrects/total)\n",
        "  print(f'task: {task}', f'train accuracy = {accuracy}')\n",
        "\n",
        "\n",
        "  total = 0.0\n",
        "  running_corrects = 0.0\n",
        "  for img, lbl, _ in test_loader:\n",
        "      img = img.float().to(params.DEVICE)\n",
        "      preds = ICaRL.classify(img, col)\n",
        "      labels = utils.mapFunction(lbl, col)\n",
        "      total += len(lbl)\n",
        "      running_corrects += torch.sum(preds == labels.data).data.item()\n",
        "  accuracy = float(running_corrects/total)\n",
        "  print(f'task: {task}', f'test accuracy = {accuracy}')"
      ],
      "execution_count": 9,
      "outputs": [
        {
          "output_type": "stream",
          "text": [
            "Files already downloaded and verified\n",
            "task = 0 \n",
            "Task:  0  epoch:  0  loss:  0.05357510596513748\n",
            "Task:  0  epoch:  1  loss:  0.050531983375549316\n",
            "m:  200.0\n",
            "col =  [94 63 74 21 35 56 91 96 87 48]\n",
            "col =  [94 63 74 21 35 56 91 96 87 48]\n",
            "col =  [94 63 74 21 35 56 91 96 87 48]\n",
            "col =  [94 63 74 21 35 56 91 96 87 48]\n",
            "col =  [94 63 74 21 35 56 91 96 87 48]\n",
            "col =  [94 63 74 21 35 56 91 96 87 48]\n",
            "col =  [94 63 74 21 35 56 91 96 87 48]\n",
            "col =  [94 63 74 21 35 56 91 96 87 48]\n",
            "col =  [94 63 74 21 35 56 91 96 87 48]\n",
            "col =  [94 63 74 21 35 56 91 96 87 48]\n",
            "col =  [94 63 74 21 35 56 91 96 87 48]\n",
            "col =  [94 63 74 21 35 56 91 96 87 48]\n",
            "col =  [94 63 74 21 35 56 91 96 87 48]\n",
            "col =  [94 63 74 21 35 56 91 96 87 48]\n",
            "col =  [94 63 74 21 35 56 91 96 87 48]\n",
            "col =  [94 63 74 21 35 56 91 96 87 48]\n",
            "col =  [94 63 74 21 35 56 91 96 87 48]\n",
            "col =  [94 63 74 21 35 56 91 96 87 48]\n",
            "col =  [94 63 74 21 35 56 91 96 87 48]\n",
            "col =  [94 63 74 21 35 56 91 96 87 48]\n",
            "col =  [94 63 74 21 35 56 91 96 87 48]\n",
            "col =  [94 63 74 21 35 56 91 96 87 48]\n",
            "col =  [94 63 74 21 35 56 91 96 87 48]\n",
            "col =  [94 63 74 21 35 56 91 96 87 48]\n",
            "col =  [94 63 74 21 35 56 91 96 87 48]\n",
            "col =  [94 63 74 21 35 56 91 96 87 48]\n",
            "col =  [94 63 74 21 35 56 91 96 87 48]\n",
            "col =  [94 63 74 21 35 56 91 96 87 48]\n",
            "col =  [94 63 74 21 35 56 91 96 87 48]\n",
            "col =  [94 63 74 21 35 56 91 96 87 48]\n",
            "col =  [94 63 74 21 35 56 91 96 87 48]\n",
            "col =  [94 63 74 21 35 56 91 96 87 48]\n",
            "col =  [94 63 74 21 35 56 91 96 87 48]\n",
            "col =  [94 63 74 21 35 56 91 96 87 48]\n",
            "col =  [94 63 74 21 35 56 91 96 87 48]\n",
            "col =  [94 63 74 21 35 56 91 96 87 48]\n",
            "col =  [94 63 74 21 35 56 91 96 87 48]\n",
            "col =  [94 63 74 21 35 56 91 96 87 48]\n",
            "col =  [94 63 74 21 35 56 91 96 87 48]\n",
            "col =  [94 63 74 21 35 56 91 96 87 48]\n",
            "task: 0 train accuracy = 0.074\n",
            "col =  [94 63 74 21 35 56 91 96 87 48]\n",
            "col =  [94 63 74 21 35 56 91 96 87 48]\n",
            "col =  [94 63 74 21 35 56 91 96 87 48]\n",
            "col =  [94 63 74 21 35 56 91 96 87 48]\n",
            "col =  [94 63 74 21 35 56 91 96 87 48]\n",
            "col =  [94 63 74 21 35 56 91 96 87 48]\n",
            "col =  [94 63 74 21 35 56 91 96 87 48]\n",
            "col =  [94 63 74 21 35 56 91 96 87 48]\n",
            "task: 0 test accuracy = 0.073\n",
            "Files already downloaded and verified\n",
            "task = 10 \n"
          ],
          "name": "stdout"
        },
        {
          "output_type": "error",
          "ename": "ValueError",
          "evalue": "ignored",
          "traceback": [
            "\u001b[0;31m---------------------------------------------------------------------------\u001b[0m",
            "\u001b[0;31mValueError\u001b[0m                                Traceback (most recent call last)",
            "\u001b[0;32m<ipython-input-9-2733902f60b3>\u001b[0m in \u001b[0;36m<module>\u001b[0;34m()\u001b[0m\n\u001b[1;32m     17\u001b[0m     \u001b[0mcol\u001b[0m \u001b[0;34m=\u001b[0m \u001b[0mcol\u001b[0m\u001b[0;34m.\u001b[0m\u001b[0mastype\u001b[0m\u001b[0;34m(\u001b[0m\u001b[0mint\u001b[0m\u001b[0;34m)\u001b[0m\u001b[0;34m\u001b[0m\u001b[0;34m\u001b[0m\u001b[0m\n\u001b[1;32m     18\u001b[0m \u001b[0;34m\u001b[0m\u001b[0m\n\u001b[0;32m---> 19\u001b[0;31m   \u001b[0mICaRL\u001b[0m\u001b[0;34m.\u001b[0m\u001b[0mupdateRep\u001b[0m\u001b[0;34m(\u001b[0m\u001b[0mtask\u001b[0m\u001b[0;34m,\u001b[0m \u001b[0mtrain_dataset\u001b[0m\u001b[0;34m,\u001b[0m \u001b[0mcol\u001b[0m\u001b[0;34m,\u001b[0m \u001b[0mtrain_transformer\u001b[0m\u001b[0;34m)\u001b[0m\u001b[0;34m\u001b[0m\u001b[0;34m\u001b[0m\u001b[0m\n\u001b[0m\u001b[1;32m     20\u001b[0m \u001b[0;34m\u001b[0m\u001b[0m\n\u001b[1;32m     21\u001b[0m \u001b[0;34m\u001b[0m\u001b[0m\n",
            "\u001b[0;32m/content/DatasetCIFAR/ICaRLModel.py\u001b[0m in \u001b[0;36mupdateRep\u001b[0;34m(self, task, trainDataSet, splits, transformer)\u001b[0m\n\u001b[1;32m    105\u001b[0m           \u001b[0mexImages\u001b[0m \u001b[0;34m=\u001b[0m \u001b[0mself\u001b[0m\u001b[0;34m.\u001b[0m\u001b[0mexemplars\u001b[0m\u001b[0;34m[\u001b[0m\u001b[0my\u001b[0m\u001b[0;34m]\u001b[0m\u001b[0;34m\u001b[0m\u001b[0;34m\u001b[0m\u001b[0m\n\u001b[1;32m    106\u001b[0m           \u001b[0mexImages\u001b[0m \u001b[0;34m=\u001b[0m \u001b[0mself\u001b[0m\u001b[0;34m.\u001b[0m\u001b[0mdataset\u001b[0m\u001b[0;34m.\u001b[0m\u001b[0m_data\u001b[0m\u001b[0;34m[\u001b[0m\u001b[0mexImages\u001b[0m\u001b[0;34m]\u001b[0m\u001b[0;34m\u001b[0m\u001b[0;34m\u001b[0m\u001b[0m\n\u001b[0;32m--> 107\u001b[0;31m           \u001b[0mD\u001b[0m\u001b[0;34m.\u001b[0m\u001b[0mappend\u001b[0m\u001b[0;34m(\u001b[0m\u001b[0mexImages\u001b[0m\u001b[0;34m,\u001b[0m \u001b[0mexLabels\u001b[0m\u001b[0;34m)\u001b[0m\u001b[0;34m\u001b[0m\u001b[0;34m\u001b[0m\u001b[0m\n\u001b[0m\u001b[1;32m    108\u001b[0m \u001b[0;34m\u001b[0m\u001b[0m\n\u001b[1;32m    109\u001b[0m     \u001b[0mloader\u001b[0m \u001b[0;34m=\u001b[0m \u001b[0mDataLoader\u001b[0m\u001b[0;34m(\u001b[0m \u001b[0mD\u001b[0m\u001b[0;34m,\u001b[0m \u001b[0mnum_workers\u001b[0m\u001b[0;34m=\u001b[0m\u001b[0mparams\u001b[0m\u001b[0;34m.\u001b[0m\u001b[0mNUM_WORKERS\u001b[0m\u001b[0;34m,\u001b[0m \u001b[0mbatch_size\u001b[0m\u001b[0;34m=\u001b[0m\u001b[0mparams\u001b[0m\u001b[0;34m.\u001b[0m\u001b[0mBATCH_SIZE\u001b[0m\u001b[0;34m,\u001b[0m \u001b[0mshuffle\u001b[0m \u001b[0;34m=\u001b[0m \u001b[0;32mTrue\u001b[0m\u001b[0;34m)\u001b[0m\u001b[0;34m\u001b[0m\u001b[0;34m\u001b[0m\u001b[0m\n",
            "\u001b[0;32m/content/DatasetCIFAR/data_set.py\u001b[0m in \u001b[0;36mappend\u001b[0;34m(self, images, labels)\u001b[0m\n\u001b[1;32m     66\u001b[0m   \u001b[0;32mdef\u001b[0m \u001b[0mappend\u001b[0m\u001b[0;34m(\u001b[0m\u001b[0mself\u001b[0m\u001b[0;34m,\u001b[0m \u001b[0mimages\u001b[0m\u001b[0;34m,\u001b[0m \u001b[0mlabels\u001b[0m\u001b[0;34m)\u001b[0m\u001b[0;34m:\u001b[0m\u001b[0;34m\u001b[0m\u001b[0;34m\u001b[0m\u001b[0m\n\u001b[1;32m     67\u001b[0m         \u001b[0mself\u001b[0m\u001b[0;34m.\u001b[0m\u001b[0m_data\u001b[0m \u001b[0;34m=\u001b[0m \u001b[0mnp\u001b[0m\u001b[0;34m.\u001b[0m\u001b[0mconcatenate\u001b[0m\u001b[0;34m(\u001b[0m\u001b[0;34m(\u001b[0m\u001b[0mself\u001b[0m\u001b[0;34m.\u001b[0m\u001b[0m_data\u001b[0m\u001b[0;34m,\u001b[0m \u001b[0mimages\u001b[0m\u001b[0;34m)\u001b[0m\u001b[0;34m,\u001b[0m \u001b[0maxis\u001b[0m\u001b[0;34m=\u001b[0m\u001b[0;36m0\u001b[0m\u001b[0;34m)\u001b[0m\u001b[0;34m\u001b[0m\u001b[0;34m\u001b[0m\u001b[0m\n\u001b[0;32m---> 68\u001b[0;31m         \u001b[0mself\u001b[0m\u001b[0;34m.\u001b[0m\u001b[0m_targets\u001b[0m \u001b[0;34m=\u001b[0m \u001b[0mself\u001b[0m\u001b[0;34m.\u001b[0m\u001b[0m_targets\u001b[0m \u001b[0;34m+\u001b[0m \u001b[0mlabels\u001b[0m\u001b[0;34m\u001b[0m\u001b[0;34m\u001b[0m\u001b[0m\n\u001b[0m\u001b[1;32m     69\u001b[0m \u001b[0;34m\u001b[0m\u001b[0m\n\u001b[1;32m     70\u001b[0m   \u001b[0;32mdef\u001b[0m \u001b[0m__len__\u001b[0m\u001b[0;34m(\u001b[0m\u001b[0mself\u001b[0m\u001b[0;34m)\u001b[0m\u001b[0;34m:\u001b[0m\u001b[0;34m\u001b[0m\u001b[0;34m\u001b[0m\u001b[0m\n",
            "\u001b[0;31mValueError\u001b[0m: operands could not be broadcast together with shapes (50000,) (200,) "
          ]
        }
      ]
    },
    {
      "cell_type": "code",
      "metadata": {
        "id": "bqGWFU5sD7t2",
        "colab_type": "code",
        "colab": {}
      },
      "source": [
        "total = 0.0\n",
        "correct = 0.0\n",
        "for img, lbl, _ in train_loader:\n",
        "    img = img.float().to(params.DEVICE)\n",
        "    preds = ICaRL.classify(img, train_splits[: int(task/10) + 1])\n",
        "    total += lbl.size(0)\n",
        "    correct += (preds.data.cpu() == lbl).sum()"
      ],
      "execution_count": 0,
      "outputs": []
    },
    {
      "cell_type": "code",
      "metadata": {
        "id": "37Y2JCVCo5Qo",
        "colab_type": "code",
        "colab": {}
      },
      "source": [
        "a = 10\n",
        "b = 9\n",
        "print(f'task: {a}', f'accuracy = {b}')"
      ],
      "execution_count": 0,
      "outputs": []
    }
  ]
}