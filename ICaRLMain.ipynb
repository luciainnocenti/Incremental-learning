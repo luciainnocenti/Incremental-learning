{
  "nbformat": 4,
  "nbformat_minor": 0,
  "metadata": {
    "colab": {
      "name": "Copy of ICaRLMain.ipynb",
      "provenance": [],
      "collapsed_sections": [],
      "include_colab_link": true
    },
    "kernelspec": {
      "name": "python3",
      "display_name": "Python 3"
    },
    "accelerator": "GPU",
    "widgets": {
      "application/vnd.jupyter.widget-state+json": {
        "f4ccdf2f060a43ed955a5b1fe93b2723": {
          "model_module": "@jupyter-widgets/controls",
          "model_name": "HBoxModel",
          "state": {
            "_view_name": "HBoxView",
            "_dom_classes": [],
            "_model_name": "HBoxModel",
            "_view_module": "@jupyter-widgets/controls",
            "_model_module_version": "1.5.0",
            "_view_count": null,
            "_view_module_version": "1.5.0",
            "box_style": "",
            "layout": "IPY_MODEL_daa4437c25484a66b78b802396b4fd0e",
            "_model_module": "@jupyter-widgets/controls",
            "children": [
              "IPY_MODEL_d1ccc957f4254b5d85c131fe54e8ca6a",
              "IPY_MODEL_dc01ef97a2214204bfab4d8887493999"
            ]
          }
        },
        "daa4437c25484a66b78b802396b4fd0e": {
          "model_module": "@jupyter-widgets/base",
          "model_name": "LayoutModel",
          "state": {
            "_view_name": "LayoutView",
            "grid_template_rows": null,
            "right": null,
            "justify_content": null,
            "_view_module": "@jupyter-widgets/base",
            "overflow": null,
            "_model_module_version": "1.2.0",
            "_view_count": null,
            "flex_flow": null,
            "width": null,
            "min_width": null,
            "border": null,
            "align_items": null,
            "bottom": null,
            "_model_module": "@jupyter-widgets/base",
            "top": null,
            "grid_column": null,
            "overflow_y": null,
            "overflow_x": null,
            "grid_auto_flow": null,
            "grid_area": null,
            "grid_template_columns": null,
            "flex": null,
            "_model_name": "LayoutModel",
            "justify_items": null,
            "grid_row": null,
            "max_height": null,
            "align_content": null,
            "visibility": null,
            "align_self": null,
            "height": null,
            "min_height": null,
            "padding": null,
            "grid_auto_rows": null,
            "grid_gap": null,
            "max_width": null,
            "order": null,
            "_view_module_version": "1.2.0",
            "grid_template_areas": null,
            "object_position": null,
            "object_fit": null,
            "grid_auto_columns": null,
            "margin": null,
            "display": null,
            "left": null
          }
        },
        "d1ccc957f4254b5d85c131fe54e8ca6a": {
          "model_module": "@jupyter-widgets/controls",
          "model_name": "FloatProgressModel",
          "state": {
            "_view_name": "ProgressView",
            "style": "IPY_MODEL_78f149ddeef64d26aa303fe85de5e14a",
            "_dom_classes": [],
            "description": "",
            "_model_name": "FloatProgressModel",
            "bar_style": "success",
            "max": 1,
            "_view_module": "@jupyter-widgets/controls",
            "_model_module_version": "1.5.0",
            "value": 1,
            "_view_count": null,
            "_view_module_version": "1.5.0",
            "orientation": "horizontal",
            "min": 0,
            "description_tooltip": null,
            "_model_module": "@jupyter-widgets/controls",
            "layout": "IPY_MODEL_4839d31b43ce4b5eb7b794e6dddb8508"
          }
        },
        "dc01ef97a2214204bfab4d8887493999": {
          "model_module": "@jupyter-widgets/controls",
          "model_name": "HTMLModel",
          "state": {
            "_view_name": "HTMLView",
            "style": "IPY_MODEL_8668fbc3072748509cc7a340f0d78cb7",
            "_dom_classes": [],
            "description": "",
            "_model_name": "HTMLModel",
            "placeholder": "​",
            "_view_module": "@jupyter-widgets/controls",
            "_model_module_version": "1.5.0",
            "value": " 169009152/? [00:07&lt;00:00, 23237058.20it/s]",
            "_view_count": null,
            "_view_module_version": "1.5.0",
            "description_tooltip": null,
            "_model_module": "@jupyter-widgets/controls",
            "layout": "IPY_MODEL_2affe5a7465845a5b663f8df58809b66"
          }
        },
        "78f149ddeef64d26aa303fe85de5e14a": {
          "model_module": "@jupyter-widgets/controls",
          "model_name": "ProgressStyleModel",
          "state": {
            "_view_name": "StyleView",
            "_model_name": "ProgressStyleModel",
            "description_width": "initial",
            "_view_module": "@jupyter-widgets/base",
            "_model_module_version": "1.5.0",
            "_view_count": null,
            "_view_module_version": "1.2.0",
            "bar_color": null,
            "_model_module": "@jupyter-widgets/controls"
          }
        },
        "4839d31b43ce4b5eb7b794e6dddb8508": {
          "model_module": "@jupyter-widgets/base",
          "model_name": "LayoutModel",
          "state": {
            "_view_name": "LayoutView",
            "grid_template_rows": null,
            "right": null,
            "justify_content": null,
            "_view_module": "@jupyter-widgets/base",
            "overflow": null,
            "_model_module_version": "1.2.0",
            "_view_count": null,
            "flex_flow": null,
            "width": null,
            "min_width": null,
            "border": null,
            "align_items": null,
            "bottom": null,
            "_model_module": "@jupyter-widgets/base",
            "top": null,
            "grid_column": null,
            "overflow_y": null,
            "overflow_x": null,
            "grid_auto_flow": null,
            "grid_area": null,
            "grid_template_columns": null,
            "flex": null,
            "_model_name": "LayoutModel",
            "justify_items": null,
            "grid_row": null,
            "max_height": null,
            "align_content": null,
            "visibility": null,
            "align_self": null,
            "height": null,
            "min_height": null,
            "padding": null,
            "grid_auto_rows": null,
            "grid_gap": null,
            "max_width": null,
            "order": null,
            "_view_module_version": "1.2.0",
            "grid_template_areas": null,
            "object_position": null,
            "object_fit": null,
            "grid_auto_columns": null,
            "margin": null,
            "display": null,
            "left": null
          }
        },
        "8668fbc3072748509cc7a340f0d78cb7": {
          "model_module": "@jupyter-widgets/controls",
          "model_name": "DescriptionStyleModel",
          "state": {
            "_view_name": "StyleView",
            "_model_name": "DescriptionStyleModel",
            "description_width": "",
            "_view_module": "@jupyter-widgets/base",
            "_model_module_version": "1.5.0",
            "_view_count": null,
            "_view_module_version": "1.2.0",
            "_model_module": "@jupyter-widgets/controls"
          }
        },
        "2affe5a7465845a5b663f8df58809b66": {
          "model_module": "@jupyter-widgets/base",
          "model_name": "LayoutModel",
          "state": {
            "_view_name": "LayoutView",
            "grid_template_rows": null,
            "right": null,
            "justify_content": null,
            "_view_module": "@jupyter-widgets/base",
            "overflow": null,
            "_model_module_version": "1.2.0",
            "_view_count": null,
            "flex_flow": null,
            "width": null,
            "min_width": null,
            "border": null,
            "align_items": null,
            "bottom": null,
            "_model_module": "@jupyter-widgets/base",
            "top": null,
            "grid_column": null,
            "overflow_y": null,
            "overflow_x": null,
            "grid_auto_flow": null,
            "grid_area": null,
            "grid_template_columns": null,
            "flex": null,
            "_model_name": "LayoutModel",
            "justify_items": null,
            "grid_row": null,
            "max_height": null,
            "align_content": null,
            "visibility": null,
            "align_self": null,
            "height": null,
            "min_height": null,
            "padding": null,
            "grid_auto_rows": null,
            "grid_gap": null,
            "max_width": null,
            "order": null,
            "_view_module_version": "1.2.0",
            "grid_template_areas": null,
            "object_position": null,
            "object_fit": null,
            "grid_auto_columns": null,
            "margin": null,
            "display": null,
            "left": null
          }
        }
      }
    }
  },
  "cells": [
    {
      "cell_type": "markdown",
      "metadata": {
        "id": "view-in-github",
        "colab_type": "text"
      },
      "source": [
        "<a href=\"https://colab.research.google.com/github/luciainnocenti/IncrementalLearning/blob/newLossesRun2/ICaRLMain.ipynb\" target=\"_parent\"><img src=\"https://colab.research.google.com/assets/colab-badge.svg\" alt=\"Open In Colab\"/></a>"
      ]
    },
    {
      "cell_type": "markdown",
      "metadata": {
        "id": "OLMLAOPyrR1K",
        "colab_type": "text"
      },
      "source": [
        "# Import GitHub repository"
      ]
    },
    {
      "cell_type": "code",
      "metadata": {
        "id": "3LqwZJLUlcYH",
        "colab_type": "code",
        "colab": {}
      },
      "source": [
        "import os\n",
        "import logging\n",
        "import sys"
      ],
      "execution_count": 1,
      "outputs": []
    },
    {
      "cell_type": "code",
      "metadata": {
        "id": "PVa_FlnxrXIk",
        "colab_type": "code",
        "colab": {
          "base_uri": "https://localhost:8080/",
          "height": 141
        },
        "outputId": "a4c60896-05b6-4df6-f989-df3d0cf421bf"
      },
      "source": [
        "if not os.path.isdir('./DatasetCIFAR'):\n",
        "  !git clone -b newLossesRun2 https://github.com/luciainnocenti/IncrementalLearning.git\n",
        "  !mv 'IncrementalLearning' 'DatasetCIFAR'"
      ],
      "execution_count": 2,
      "outputs": [
        {
          "output_type": "stream",
          "text": [
            "Cloning into 'IncrementalLearning'...\n",
            "remote: Enumerating objects: 220, done.\u001b[K\n",
            "remote: Counting objects: 100% (220/220), done.\u001b[K\n",
            "remote: Compressing objects: 100% (199/199), done.\u001b[K\n",
            "remote: Total 1562 (delta 143), reused 21 (delta 21), pack-reused 1342\u001b[K\n",
            "Receiving objects: 100% (1562/1562), 1.40 MiB | 7.96 MiB/s, done.\n",
            "Resolving deltas: 100% (993/993), done.\n"
          ],
          "name": "stdout"
        }
      ]
    },
    {
      "cell_type": "markdown",
      "metadata": {
        "id": "XXQyHMXzrZ5A",
        "colab_type": "text"
      },
      "source": [
        "# Import packages"
      ]
    },
    {
      "cell_type": "code",
      "metadata": {
        "id": "c24pdNxurdv1",
        "colab_type": "code",
        "colab": {
          "base_uri": "https://localhost:8080/",
          "height": 72
        },
        "outputId": "42cf39b2-5684-4d52-bba8-9ed25957d2b5"
      },
      "source": [
        "from DatasetCIFAR.data_set import Dataset \n",
        "from DatasetCIFAR.data_set import Subset\n",
        "from DatasetCIFAR import ResNet\n",
        "from DatasetCIFAR import utils\n",
        "from DatasetCIFAR import params\n",
        "from DatasetCIFAR import ICaRLModel\n",
        "from torchvision import models\n",
        "import torch.nn as nn\n",
        "import torch\n",
        "import torch.optim as optim\n",
        "import torchvision\n",
        "import numpy as np\n",
        "import seaborn as sn\n",
        "import pandas as pd\n",
        "import matplotlib.pyplot as plt\n",
        "from sklearn.metrics import confusion_matrix\n",
        "\n",
        "from torchvision import transforms\n",
        "from torch.utils.data import DataLoader\n",
        "from torch.nn import functional as F\n",
        "import random\n",
        "random.seed(params.SEED)"
      ],
      "execution_count": 3,
      "outputs": [
        {
          "output_type": "stream",
          "text": [
            "/usr/local/lib/python3.6/dist-packages/statsmodels/tools/_testing.py:19: FutureWarning: pandas.util.testing is deprecated. Use the functions in the public API at pandas.testing instead.\n",
            "  import pandas.util.testing as tm\n"
          ],
          "name": "stderr"
        }
      ]
    },
    {
      "cell_type": "code",
      "metadata": {
        "id": "r2rkcBbIKfUQ",
        "colab_type": "code",
        "colab": {
          "base_uri": "https://localhost:8080/",
          "height": 52
        },
        "outputId": "4b7865fa-82d6-436f-90ab-23e4e1d47dd6"
      },
      "source": [
        "print(params.SEED)\n",
        "print(params.NUM_WORKERS)"
      ],
      "execution_count": 4,
      "outputs": [
        {
          "output_type": "stream",
          "text": [
            "653\n",
            "4\n"
          ],
          "name": "stdout"
        }
      ]
    },
    {
      "cell_type": "markdown",
      "metadata": {
        "id": "1FlAkShyryrf",
        "colab_type": "text"
      },
      "source": [
        "# Define Datasets"
      ]
    },
    {
      "cell_type": "code",
      "metadata": {
        "id": "AP2iR2vl3Wiz",
        "colab_type": "code",
        "colab": {}
      },
      "source": [
        "train_transformer = transforms.Compose([transforms.RandomCrop(size = 32, padding=4),\n",
        "                                         transforms.RandomHorizontalFlip(),\n",
        "                                         transforms.ToTensor(),\n",
        "                                         transforms.Normalize((0.5, 0.5, 0.5), (0.5, 0.5, 0.5))\n",
        "])\n",
        "\n",
        "test_transformer = transforms.Compose([transforms.ToTensor(),\n",
        "                                         transforms.Normalize((0.5, 0.5, 0.5), (0.5, 0.5, 0.5))\n",
        "])"
      ],
      "execution_count": 5,
      "outputs": []
    },
    {
      "cell_type": "code",
      "metadata": {
        "id": "1CSNk0NlrvAL",
        "colab_type": "code",
        "colab": {
          "base_uri": "https://localhost:8080/",
          "height": 102,
          "referenced_widgets": [
            "f4ccdf2f060a43ed955a5b1fe93b2723",
            "daa4437c25484a66b78b802396b4fd0e",
            "d1ccc957f4254b5d85c131fe54e8ca6a",
            "dc01ef97a2214204bfab4d8887493999",
            "78f149ddeef64d26aa303fe85de5e14a",
            "4839d31b43ce4b5eb7b794e6dddb8508",
            "8668fbc3072748509cc7a340f0d78cb7",
            "2affe5a7465845a5b663f8df58809b66"
          ]
        },
        "outputId": "252b1f40-cbc7-4516-fa46-8bfd1c271f18"
      },
      "source": [
        "trainDS = Dataset(train=True)\n",
        "testDS = Dataset(train=False)"
      ],
      "execution_count": 6,
      "outputs": [
        {
          "output_type": "stream",
          "text": [
            "Downloading https://www.cs.toronto.edu/~kriz/cifar-100-python.tar.gz to data/cifar-100-python.tar.gz\n"
          ],
          "name": "stdout"
        },
        {
          "output_type": "display_data",
          "data": {
            "application/vnd.jupyter.widget-view+json": {
              "model_id": "f4ccdf2f060a43ed955a5b1fe93b2723",
              "version_minor": 0,
              "version_major": 2
            },
            "text/plain": [
              "HBox(children=(FloatProgress(value=1.0, bar_style='info', max=1.0), HTML(value='')))"
            ]
          },
          "metadata": {
            "tags": []
          }
        },
        {
          "output_type": "stream",
          "text": [
            "Extracting data/cifar-100-python.tar.gz to data\n",
            "Files already downloaded and verified\n"
          ],
          "name": "stdout"
        }
      ]
    },
    {
      "cell_type": "code",
      "metadata": {
        "id": "W3ge3VayryJL",
        "colab_type": "code",
        "colab": {}
      },
      "source": [
        "train_splits = trainDS.splits\n",
        "test_splits = testDS.splits"
      ],
      "execution_count": 7,
      "outputs": []
    },
    {
      "cell_type": "markdown",
      "metadata": {
        "id": "AzxTlFF_rkfe",
        "colab_type": "text"
      },
      "source": [
        "# Define Network"
      ]
    },
    {
      "cell_type": "code",
      "metadata": {
        "id": "rgZtPkiPrmQK",
        "colab_type": "code",
        "colab": {
          "base_uri": "https://localhost:8080/",
          "height": 34
        },
        "outputId": "21a41449-c542-4b96-f009-64c72c2728f0"
      },
      "source": [
        "ICaRL = ResNet.resnet32(num_classes=100)\n",
        "ICaRL =  ICaRL.to(params.DEVICE)"
      ],
      "execution_count": 8,
      "outputs": [
        {
          "output_type": "stream",
          "text": [
            "\n"
          ],
          "name": "stdout"
        }
      ]
    },
    {
      "cell_type": "code",
      "metadata": {
        "id": "CI8EyFmpOikN",
        "colab_type": "code",
        "colab": {}
      },
      "source": [
        "exemplars = [None]*100\n",
        "\n",
        "test_indexes =  []\n",
        "accs = []"
      ],
      "execution_count": 9,
      "outputs": []
    },
    {
      "cell_type": "code",
      "metadata": {
        "id": "fcFjbBGrOMz6",
        "colab_type": "code",
        "colab": {
          "base_uri": "https://localhost:8080/",
          "height": 1000
        },
        "outputId": "7955863d-e665-4490-af5c-006ef1b89e37"
      },
      "source": [
        "for task in range(0, 100, params.TASK_SIZE):\n",
        "  train_indexes = trainDS.__getIndexesGroups__(task)\n",
        "  test_indexes = test_indexes + testDS.__getIndexesGroups__(task)\n",
        "\n",
        "  train_dataset = Subset(trainDS, train_indexes, transform = train_transformer)\n",
        "  test_dataset = Subset(testDS, test_indexes, transform = test_transformer)\n",
        "\n",
        "  train_loader = DataLoader( train_dataset, num_workers=params.NUM_WORKERS, batch_size=params.BATCH_SIZE, shuffle=True)\n",
        "  test_loader = DataLoader( test_dataset, num_workers=params.NUM_WORKERS, batch_size=params.BATCH_SIZE , shuffle=True )\n",
        "  \n",
        "  ICaRL, exemplars = ICaRLModel.incrementalTrain(task, trainDS, ICaRL, exemplars, train_transformer)\n",
        "\n",
        "  col = []\n",
        "  for i,x in enumerate( train_splits[ :int(task/10) + 1]) : \n",
        "    v = np.array(x)\n",
        "    col = np.concatenate( (col,v), axis = None)\n",
        "    col = col.astype(int)\n",
        "  mean = None\n",
        "  total = 0.0\n",
        "  running_corrects = 0.0\n",
        "  for img, lbl, _ in train_loader:\n",
        "      img = img.float().to(params.DEVICE)\n",
        "      preds, mean = ICaRLModel.classify(img, exemplars, ICaRL, task, trainDS, mean)\n",
        "      preds = preds.to(params.DEVICE)\n",
        "      labels = utils.mapFunction(lbl, col).to(params.DEVICE)\n",
        "\n",
        "      total += len(lbl)\n",
        "      running_corrects += torch.sum(preds == labels.data).data.item()\n",
        "\n",
        "  accuracy = float(running_corrects/total)\n",
        "  print(f'task: {task}', f'train accuracy = {accuracy}')\n",
        "  accs.append(accuracy)\n",
        "\n",
        "  total = 0.0\n",
        "  running_corrects = 0.0\n",
        "  tot_preds = []\n",
        "  tot_lab = []\n",
        "  for img, lbl, _ in test_loader:\n",
        "      img = img.float().to(params.DEVICE)\n",
        "      preds, _ = ICaRLModel.classify(img, exemplars, ICaRL, task, trainDS, mean)\n",
        "      preds = preds.to(params.DEVICE)\n",
        "      labels = utils.mapFunction(lbl, col).to(params.DEVICE)\n",
        "\n",
        "      tot_preds = np.concatenate( ( tot_preds, preds.data.cpu().numpy() ) )\n",
        "      tot_lab = np.concatenate( (tot_lab, labels.data.cpu().numpy()  ) )\n",
        "\n",
        "      total += len(lbl)\n",
        "      running_corrects += torch.sum(preds == labels.data).data.item()\n",
        "\n",
        "  accuracy = float(running_corrects/total)\n",
        "  print(f'task: {task}', f'test accuracy = {accuracy}')\n",
        "  cf = confusion_matrix(tot_lab, tot_preds)\n",
        "  df_cm = pd.DataFrame(cf, range(task + params.TASK_SIZE), range(task + params.TASK_SIZE))\n",
        "  sn.set(font_scale = .5) # for label size\n",
        "  sn.heatmap(df_cm, annot=False)\n",
        "  plt.show()"
      ],
      "execution_count": 10,
      "outputs": [
        {
          "output_type": "stream",
          "text": [
            "At step  0  and at epoch =  0  the loss is =  0.009982929565012455  and accuracy is =  0.1174\n",
            "At step  0  and at epoch =  1  the loss is =  0.007642789743840694  and accuracy is =  0.2504\n",
            "At step  0  and at epoch =  2  the loss is =  0.006384171079844236  and accuracy is =  0.3516\n",
            "At step  0  and at epoch =  3  the loss is =  0.007099721115082502  and accuracy is =  0.4312\n",
            "At step  0  and at epoch =  4  the loss is =  0.003419155953451991  and accuracy is =  0.4704\n",
            "At step  0  and at epoch =  5  the loss is =  0.004776832181960344  and accuracy is =  0.5484\n",
            "At step  0  and at epoch =  6  the loss is =  0.008795484900474548  and accuracy is =  0.5878\n",
            "At step  0  and at epoch =  7  the loss is =  0.004642985295504332  and accuracy is =  0.6078\n",
            "At step  0  and at epoch =  8  the loss is =  0.006932911928743124  and accuracy is =  0.6146\n",
            "At step  0  and at epoch =  9  the loss is =  0.00589408166706562  and accuracy is =  0.5998\n",
            "At step  0  and at epoch =  10  the loss is =  0.008090508170425892  and accuracy is =  0.6684\n",
            "At step  0  and at epoch =  11  the loss is =  0.007214403711259365  and accuracy is =  0.625\n",
            "At step  0  and at epoch =  12  the loss is =  0.003289802698418498  and accuracy is =  0.687\n",
            "At step  0  and at epoch =  13  the loss is =  0.003926873207092285  and accuracy is =  0.6916\n",
            "At step  0  and at epoch =  14  the loss is =  0.00522879883646965  and accuracy is =  0.731\n",
            "At step  0  and at epoch =  15  the loss is =  0.0028016185387969017  and accuracy is =  0.7278\n",
            "At step  0  and at epoch =  16  the loss is =  0.006700394209474325  and accuracy is =  0.7424\n",
            "At step  0  and at epoch =  17  the loss is =  0.00384006486274302  and accuracy is =  0.7562\n",
            "At step  0  and at epoch =  18  the loss is =  0.006323730107396841  and accuracy is =  0.7662\n",
            "At step  0  and at epoch =  19  the loss is =  0.0040004318580031395  and accuracy is =  0.7656\n",
            "At step  0  and at epoch =  20  the loss is =  0.004064403008669615  and accuracy is =  0.7604\n",
            "At step  0  and at epoch =  21  the loss is =  0.004021658096462488  and accuracy is =  0.7748\n",
            "At step  0  and at epoch =  22  the loss is =  0.004537119064480066  and accuracy is =  0.7914\n",
            "At step  0  and at epoch =  23  the loss is =  0.006040532607585192  and accuracy is =  0.7862\n",
            "At step  0  and at epoch =  24  the loss is =  0.003128333715721965  and accuracy is =  0.7832\n",
            "At step  0  and at epoch =  25  the loss is =  0.00241265376098454  and accuracy is =  0.8008\n",
            "At step  0  and at epoch =  26  the loss is =  0.002892790362238884  and accuracy is =  0.8064\n",
            "At step  0  and at epoch =  27  the loss is =  0.0009390148334205151  and accuracy is =  0.8162\n",
            "At step  0  and at epoch =  28  the loss is =  0.007309954147785902  and accuracy is =  0.8186\n",
            "At step  0  and at epoch =  29  the loss is =  0.005163966678082943  and accuracy is =  0.7932\n",
            "At step  0  and at epoch =  30  the loss is =  0.00456596165895462  and accuracy is =  0.816\n",
            "At step  0  and at epoch =  31  the loss is =  0.0009108742233365774  and accuracy is =  0.836\n",
            "At step  0  and at epoch =  32  the loss is =  0.0030960727017372847  and accuracy is =  0.8362\n",
            "At step  0  and at epoch =  33  the loss is =  0.005485097412019968  and accuracy is =  0.8206\n",
            "At step  0  and at epoch =  34  the loss is =  0.001237455871887505  and accuracy is =  0.8378\n",
            "At step  0  and at epoch =  35  the loss is =  0.002777117770165205  and accuracy is =  0.8448\n",
            "At step  0  and at epoch =  36  the loss is =  0.0015513021498918533  and accuracy is =  0.8564\n",
            "At step  0  and at epoch =  37  the loss is =  0.004571773111820221  and accuracy is =  0.8588\n",
            "At step  0  and at epoch =  38  the loss is =  0.004988080356270075  and accuracy is =  0.8336\n",
            "At step  0  and at epoch =  39  the loss is =  0.00450090691447258  and accuracy is =  0.8286\n",
            "At step  0  and at epoch =  40  the loss is =  0.004198533948510885  and accuracy is =  0.844\n",
            "At step  0  and at epoch =  41  the loss is =  0.008208787068724632  and accuracy is =  0.8528\n",
            "At step  0  and at epoch =  42  the loss is =  0.004145123064517975  and accuracy is =  0.8558\n",
            "At step  0  and at epoch =  43  the loss is =  0.0034748988691717386  and accuracy is =  0.829\n",
            "At step  0  and at epoch =  44  the loss is =  0.006471340544521809  and accuracy is =  0.7962\n",
            "At step  0  and at epoch =  45  the loss is =  0.0038148879539221525  and accuracy is =  0.755\n",
            "At step  0  and at epoch =  46  the loss is =  0.001549327396787703  and accuracy is =  0.83\n",
            "At step  0  and at epoch =  47  the loss is =  0.003533892333507538  and accuracy is =  0.8654\n",
            "At step  0  and at epoch =  48  the loss is =  0.0036013396456837654  and accuracy is =  0.8548\n",
            "At step  0  and at epoch =  49  the loss is =  0.001177057041786611  and accuracy is =  0.8906\n",
            "At step  0  and at epoch =  50  the loss is =  0.0005710557452403009  and accuracy is =  0.9154\n",
            "At step  0  and at epoch =  51  the loss is =  0.0017628329806029797  and accuracy is =  0.92\n",
            "At step  0  and at epoch =  52  the loss is =  0.002634937409311533  and accuracy is =  0.9186\n",
            "At step  0  and at epoch =  53  the loss is =  0.0020625737961381674  and accuracy is =  0.925\n",
            "At step  0  and at epoch =  54  the loss is =  0.006408005952835083  and accuracy is =  0.9288\n",
            "At step  0  and at epoch =  55  the loss is =  0.0033043217845261097  and accuracy is =  0.9184\n",
            "At step  0  and at epoch =  56  the loss is =  0.004831821192055941  and accuracy is =  0.9294\n",
            "At step  0  and at epoch =  57  the loss is =  0.0030096410773694515  and accuracy is =  0.9282\n",
            "At step  0  and at epoch =  58  the loss is =  0.001771136769093573  and accuracy is =  0.9298\n",
            "At step  0  and at epoch =  59  the loss is =  0.002268429845571518  and accuracy is =  0.9338\n",
            "At step  0  and at epoch =  60  the loss is =  0.0021278606727719307  and accuracy is =  0.9316\n",
            "At step  0  and at epoch =  61  the loss is =  0.0017962571000680327  and accuracy is =  0.9402\n",
            "At step  0  and at epoch =  62  the loss is =  0.0020669305231422186  and accuracy is =  0.9372\n",
            "At step  0  and at epoch =  63  the loss is =  0.0026126147713512182  and accuracy is =  0.949\n",
            "At step  0  and at epoch =  64  the loss is =  0.0036163446493446827  and accuracy is =  0.944\n",
            "At step  0  and at epoch =  65  the loss is =  0.0015183945652097464  and accuracy is =  0.9486\n",
            "At step  0  and at epoch =  66  the loss is =  0.0036048591136932373  and accuracy is =  0.9494\n",
            "At step  0  and at epoch =  67  the loss is =  0.0019836099818348885  and accuracy is =  0.951\n",
            "At step  0  and at epoch =  68  the loss is =  0.002288157818838954  and accuracy is =  0.948\n",
            "At step  0  and at epoch =  69  the loss is =  0.0018248382257297635  and accuracy is =  0.954\n",
            "task: 0 train accuracy = 0.9578\n",
            "task: 0 test accuracy = 0.884\n"
          ],
          "name": "stdout"
        },
        {
          "output_type": "display_data",
          "data": {
            "image/png": "[encoded data removed]",
            "text/plain": [
              "<Figure size 432x288 with 2 Axes>"
            ]
          },
          "metadata": {
            "tags": []
          }
        },
        {
          "output_type": "stream",
          "text": [
            "At step  10  and at epoch =  0  the loss is =  0.009012013673782349  and accuracy is =  0.2672857142857143\n",
            "At step  10  and at epoch =  1  the loss is =  0.007767578586935997  and accuracy is =  0.2641428571428571\n",
            "At step  10  and at epoch =  2  the loss is =  0.007912812754511833  and accuracy is =  0.26885714285714285\n",
            "At step  10  and at epoch =  3  the loss is =  0.008681327104568481  and accuracy is =  0.2674285714285714\n",
            "At step  10  and at epoch =  4  the loss is =  0.006476938724517822  and accuracy is =  0.2694285714285714\n",
            "At step  10  and at epoch =  5  the loss is =  0.009020507335662842  and accuracy is =  0.2671428571428571\n",
            "At step  10  and at epoch =  6  the loss is =  0.008152264170348644  and accuracy is =  0.2671428571428571\n",
            "At step  10  and at epoch =  7  the loss is =  0.008294938132166862  and accuracy is =  0.2682857142857143\n",
            "At step  10  and at epoch =  8  the loss is =  0.00825546309351921  and accuracy is =  0.2672857142857143\n",
            "At step  10  and at epoch =  9  the loss is =  0.007752669975161552  and accuracy is =  0.26771428571428574\n",
            "At step  10  and at epoch =  10  the loss is =  0.008296646177768707  and accuracy is =  0.2671428571428571\n",
            "At step  10  and at epoch =  11  the loss is =  0.008467717096209526  and accuracy is =  0.2671428571428571\n",
            "At step  10  and at epoch =  12  the loss is =  0.006944461725652218  and accuracy is =  0.26585714285714285\n",
            "At step  10  and at epoch =  13  the loss is =  0.008134199306368828  and accuracy is =  0.264\n",
            "At step  10  and at epoch =  14  the loss is =  0.00689976941794157  and accuracy is =  0.27014285714285713\n",
            "At step  10  and at epoch =  15  the loss is =  0.007104016840457916  and accuracy is =  0.2787142857142857\n",
            "At step  10  and at epoch =  16  the loss is =  0.006922506261616945  and accuracy is =  0.3477142857142857\n",
            "At step  10  and at epoch =  17  the loss is =  0.007587323896586895  and accuracy is =  0.4\n",
            "At step  10  and at epoch =  18  the loss is =  0.0065952083095908165  and accuracy is =  0.45885714285714285\n",
            "At step  10  and at epoch =  19  the loss is =  0.0070122224278748035  and accuracy is =  0.487\n",
            "At step  10  and at epoch =  20  the loss is =  0.006262330338358879  and accuracy is =  0.49457142857142855\n",
            "At step  10  and at epoch =  21  the loss is =  0.007276392076164484  and accuracy is =  0.5108571428571429\n",
            "At step  10  and at epoch =  22  the loss is =  0.006121649406850338  and accuracy is =  0.5188571428571429\n",
            "At step  10  and at epoch =  23  the loss is =  0.005687112454324961  and accuracy is =  0.5314285714285715\n",
            "At step  10  and at epoch =  24  the loss is =  0.006167569663375616  and accuracy is =  0.5481428571428572\n",
            "At step  10  and at epoch =  25  the loss is =  0.006790569517761469  and accuracy is =  0.556\n",
            "At step  10  and at epoch =  26  the loss is =  0.006279934197664261  and accuracy is =  0.5738571428571428\n",
            "At step  10  and at epoch =  27  the loss is =  0.005651623476296663  and accuracy is =  0.576\n",
            "At step  10  and at epoch =  28  the loss is =  0.006243822164833546  and accuracy is =  0.5814285714285714\n",
            "At step  10  and at epoch =  29  the loss is =  0.006669533904641867  and accuracy is =  0.5865714285714285\n",
            "At step  10  and at epoch =  30  the loss is =  0.0062336367554962635  and accuracy is =  0.5922857142857143\n",
            "At step  10  and at epoch =  31  the loss is =  0.005197212100028992  and accuracy is =  0.6091428571428571\n",
            "At step  10  and at epoch =  32  the loss is =  0.005169334355741739  and accuracy is =  0.6082857142857143\n",
            "At step  10  and at epoch =  33  the loss is =  0.00646758358925581  and accuracy is =  0.6075714285714285\n",
            "At step  10  and at epoch =  34  the loss is =  0.005439335480332375  and accuracy is =  0.6214285714285714\n",
            "At step  10  and at epoch =  35  the loss is =  0.0056478665210306644  and accuracy is =  0.6271428571428571\n",
            "At step  10  and at epoch =  36  the loss is =  0.005976940970867872  and accuracy is =  0.6487142857142857\n",
            "At step  10  and at epoch =  37  the loss is =  0.004800373688340187  and accuracy is =  0.6577142857142857\n",
            "At step  10  and at epoch =  38  the loss is =  0.0044152503833174706  and accuracy is =  0.6625714285714286\n",
            "At step  10  and at epoch =  39  the loss is =  0.004887879826128483  and accuracy is =  0.6617142857142857\n",
            "At step  10  and at epoch =  40  the loss is =  0.005701896268874407  and accuracy is =  0.6777142857142857\n",
            "At step  10  and at epoch =  41  the loss is =  0.004953005351126194  and accuracy is =  0.6802857142857143\n",
            "At step  10  and at epoch =  42  the loss is =  0.005761595908552408  and accuracy is =  0.6965714285714286\n",
            "At step  10  and at epoch =  43  the loss is =  0.005387040786445141  and accuracy is =  0.706\n",
            "At step  10  and at epoch =  44  the loss is =  0.0046724723652005196  and accuracy is =  0.6988571428571428\n",
            "At step  10  and at epoch =  45  the loss is =  0.0047449334524571896  and accuracy is =  0.7044285714285714\n",
            "At step  10  and at epoch =  46  the loss is =  0.005358654540032148  and accuracy is =  0.7327142857142858\n",
            "At step  10  and at epoch =  47  the loss is =  0.0049286182038486  and accuracy is =  0.7184285714285714\n",
            "At step  10  and at epoch =  48  the loss is =  0.00476128701120615  and accuracy is =  0.726\n",
            "At step  10  and at epoch =  49  the loss is =  0.0047122277319431305  and accuracy is =  0.7701428571428571\n",
            "At step  10  and at epoch =  50  the loss is =  0.00440753111615777  and accuracy is =  0.7864285714285715\n",
            "At step  10  and at epoch =  51  the loss is =  0.00405861297622323  and accuracy is =  0.7938571428571428\n",
            "At step  10  and at epoch =  52  the loss is =  0.004431941546499729  and accuracy is =  0.7985714285714286\n",
            "At step  10  and at epoch =  53  the loss is =  0.004114288371056318  and accuracy is =  0.7987142857142857\n",
            "At step  10  and at epoch =  54  the loss is =  0.0033652298152446747  and accuracy is =  0.8065714285714286\n",
            "At step  10  and at epoch =  55  the loss is =  0.004082966595888138  and accuracy is =  0.8075714285714286\n",
            "At step  10  and at epoch =  56  the loss is =  0.003665323369204998  and accuracy is =  0.8104285714285714\n",
            "At step  10  and at epoch =  57  the loss is =  0.0032301389146596193  and accuracy is =  0.8114285714285714\n",
            "At step  10  and at epoch =  58  the loss is =  0.003378287423402071  and accuracy is =  0.8197142857142857\n",
            "At step  10  and at epoch =  59  the loss is =  0.0037374556995928288  and accuracy is =  0.8152857142857143\n",
            "At step  10  and at epoch =  60  the loss is =  0.003622641321271658  and accuracy is =  0.8215714285714286\n",
            "At step  10  and at epoch =  61  the loss is =  0.0035488263238221407  and accuracy is =  0.8251428571428572\n",
            "At step  10  and at epoch =  62  the loss is =  0.003340713679790497  and accuracy is =  0.8255714285714286\n",
            "At step  10  and at epoch =  63  the loss is =  0.003773125819861889  and accuracy is =  0.8385714285714285\n",
            "At step  10  and at epoch =  64  the loss is =  0.0034386597108095884  and accuracy is =  0.8378571428571429\n",
            "At step  10  and at epoch =  65  the loss is =  0.0036936309188604355  and accuracy is =  0.8405714285714285\n",
            "At step  10  and at epoch =  66  the loss is =  0.003668464720249176  and accuracy is =  0.8412857142857143\n",
            "At step  10  and at epoch =  67  the loss is =  0.0031442679464817047  and accuracy is =  0.8332857142857143\n",
            "At step  10  and at epoch =  68  the loss is =  0.0032185900490731  and accuracy is =  0.8417142857142857\n",
            "At step  10  and at epoch =  69  the loss is =  0.0037789656780660152  and accuracy is =  0.8344285714285714\n",
            "task: 10 train accuracy = 0.8726\n",
            "task: 10 test accuracy = 0.7895\n"
          ],
          "name": "stdout"
        },
        {
          "output_type": "display_data",
          "data": {
            "image/png": "[encoded data removed]",
            "text/plain": [
              "<Figure size 432x288 with 2 Axes>"
            ]
          },
          "metadata": {
            "tags": []
          }
        },
        {
          "output_type": "stream",
          "text": [
            "At step  20  and at epoch =  0  the loss is =  0.009169922210276127  and accuracy is =  0.23485714285714285\n",
            "At step  20  and at epoch =  1  the loss is =  0.007557244971394539  and accuracy is =  0.23185714285714284\n",
            "At step  20  and at epoch =  2  the loss is =  0.008869901299476624  and accuracy is =  0.23842857142857143\n",
            "At step  20  and at epoch =  3  the loss is =  0.007933096960186958  and accuracy is =  0.23885714285714285\n",
            "At step  20  and at epoch =  4  the loss is =  0.007457475643604994  and accuracy is =  0.2362857142857143\n",
            "At step  20  and at epoch =  5  the loss is =  0.007431325037032366  and accuracy is =  0.241\n",
            "At step  20  and at epoch =  6  the loss is =  0.008284416049718857  and accuracy is =  0.24085714285714285\n",
            "At step  20  and at epoch =  7  the loss is =  0.007821218110620975  and accuracy is =  0.23942857142857144\n",
            "At step  20  and at epoch =  8  the loss is =  0.0076410346664488316  and accuracy is =  0.24271428571428572\n",
            "At step  20  and at epoch =  9  the loss is =  0.007000626064836979  and accuracy is =  0.23585714285714285\n",
            "At step  20  and at epoch =  10  the loss is =  0.008783150464296341  and accuracy is =  0.242\n",
            "At step  20  and at epoch =  11  the loss is =  0.0077398126013576984  and accuracy is =  0.24057142857142857\n",
            "At step  20  and at epoch =  12  the loss is =  0.007305174600332975  and accuracy is =  0.23542857142857143\n",
            "At step  20  and at epoch =  13  the loss is =  0.007938461378216743  and accuracy is =  0.24171428571428571\n",
            "At step  20  and at epoch =  14  the loss is =  0.007941043004393578  and accuracy is =  0.24171428571428571\n",
            "At step  20  and at epoch =  15  the loss is =  0.007898700423538685  and accuracy is =  0.2432857142857143\n",
            "At step  20  and at epoch =  16  the loss is =  0.00805065967142582  and accuracy is =  0.30757142857142855\n",
            "At step  20  and at epoch =  17  the loss is =  0.007252630311995745  and accuracy is =  0.3375714285714286\n",
            "At step  20  and at epoch =  18  the loss is =  0.006812388077378273  and accuracy is =  0.42942857142857144\n",
            "At step  20  and at epoch =  19  the loss is =  0.006994528230279684  and accuracy is =  0.4584285714285714\n",
            "At step  20  and at epoch =  20  the loss is =  0.005619665142148733  and accuracy is =  0.5085714285714286\n",
            "At step  20  and at epoch =  21  the loss is =  0.00612263847142458  and accuracy is =  0.5471428571428572\n",
            "At step  20  and at epoch =  22  the loss is =  0.006104920990765095  and accuracy is =  0.5614285714285714\n",
            "At step  20  and at epoch =  23  the loss is =  0.006123701576143503  and accuracy is =  0.5734285714285714\n",
            "At step  20  and at epoch =  24  the loss is =  0.006107173394411802  and accuracy is =  0.579\n",
            "At step  20  and at epoch =  25  the loss is =  0.005378959234803915  and accuracy is =  0.6358571428571429\n",
            "At step  20  and at epoch =  26  the loss is =  0.005402340088039637  and accuracy is =  0.6315714285714286\n",
            "At step  20  and at epoch =  27  the loss is =  0.004526818636804819  and accuracy is =  0.6432857142857142\n",
            "At step  20  and at epoch =  28  the loss is =  0.005124169401824474  and accuracy is =  0.646\n",
            "At step  20  and at epoch =  29  the loss is =  0.005122295115143061  and accuracy is =  0.6517142857142857\n",
            "At step  20  and at epoch =  30  the loss is =  0.004574932623654604  and accuracy is =  0.6832857142857143\n",
            "At step  20  and at epoch =  31  the loss is =  0.004356074146926403  and accuracy is =  0.6971428571428572\n",
            "At step  20  and at epoch =  32  the loss is =  0.005264045670628548  and accuracy is =  0.7138571428571429\n",
            "At step  20  and at epoch =  33  the loss is =  0.0055236127227544785  and accuracy is =  0.7168571428571429\n",
            "At step  20  and at epoch =  34  the loss is =  0.004755832254886627  and accuracy is =  0.7218571428571429\n",
            "At step  20  and at epoch =  35  the loss is =  0.0048695774748921394  and accuracy is =  0.7378571428571429\n",
            "At step  20  and at epoch =  36  the loss is =  0.003869434352964163  and accuracy is =  0.7322857142857143\n",
            "At step  20  and at epoch =  37  the loss is =  0.003962123300880194  and accuracy is =  0.745\n",
            "At step  20  and at epoch =  38  the loss is =  0.005042652599513531  and accuracy is =  0.7338571428571429\n",
            "At step  20  and at epoch =  39  the loss is =  0.004685776773840189  and accuracy is =  0.7468571428571429\n",
            "At step  20  and at epoch =  40  the loss is =  0.0038845743983983994  and accuracy is =  0.7422857142857143\n",
            "At step  20  and at epoch =  41  the loss is =  0.004223510157316923  and accuracy is =  0.7565714285714286\n",
            "At step  20  and at epoch =  42  the loss is =  0.00449131615459919  and accuracy is =  0.7565714285714286\n",
            "At step  20  and at epoch =  43  the loss is =  0.004462460987269878  and accuracy is =  0.7567142857142857\n",
            "At step  20  and at epoch =  44  the loss is =  0.004496528301388025  and accuracy is =  0.7542857142857143\n",
            "At step  20  and at epoch =  45  the loss is =  0.004172278568148613  and accuracy is =  0.7641428571428571\n",
            "At step  20  and at epoch =  46  the loss is =  0.004432011395692825  and accuracy is =  0.772\n",
            "At step  20  and at epoch =  47  the loss is =  0.004224878735840321  and accuracy is =  0.7688571428571429\n",
            "At step  20  and at epoch =  48  the loss is =  0.004828291945159435  and accuracy is =  0.7765714285714286\n",
            "At step  20  and at epoch =  49  the loss is =  0.0038001788780093193  and accuracy is =  0.8134285714285714\n",
            "At step  20  and at epoch =  50  the loss is =  0.0034547417890280485  and accuracy is =  0.8397142857142857\n",
            "At step  20  and at epoch =  51  the loss is =  0.0033099325373768806  and accuracy is =  0.8407142857142857\n",
            "At step  20  and at epoch =  52  the loss is =  0.003398110158741474  and accuracy is =  0.8527142857142858\n",
            "At step  20  and at epoch =  53  the loss is =  0.003538582008332014  and accuracy is =  0.8508571428571429\n",
            "At step  20  and at epoch =  54  the loss is =  0.003100566565990448  and accuracy is =  0.8561428571428571\n",
            "At step  20  and at epoch =  55  the loss is =  0.0030932931695133448  and accuracy is =  0.8554285714285714\n",
            "At step  20  and at epoch =  56  the loss is =  0.0029077203944325447  and accuracy is =  0.8612857142857143\n",
            "At step  20  and at epoch =  57  the loss is =  0.0034050189424306154  and accuracy is =  0.8621428571428571\n",
            "At step  20  and at epoch =  58  the loss is =  0.0035229327622801065  and accuracy is =  0.8658571428571429\n",
            "At step  20  and at epoch =  59  the loss is =  0.0036784682888537645  and accuracy is =  0.867\n",
            "At step  20  and at epoch =  60  the loss is =  0.002758957678452134  and accuracy is =  0.8662857142857143\n",
            "At step  20  and at epoch =  61  the loss is =  0.003221905557438731  and accuracy is =  0.8685714285714285\n",
            "At step  20  and at epoch =  62  the loss is =  0.0029493665788322687  and accuracy is =  0.8715714285714286\n",
            "At step  20  and at epoch =  63  the loss is =  0.0032134961802512407  and accuracy is =  0.8775714285714286\n",
            "At step  20  and at epoch =  64  the loss is =  0.003049230668693781  and accuracy is =  0.8777142857142857\n",
            "At step  20  and at epoch =  65  the loss is =  0.0031579360365867615  and accuracy is =  0.8767142857142857\n",
            "At step  20  and at epoch =  66  the loss is =  0.003141228575259447  and accuracy is =  0.882\n",
            "At step  20  and at epoch =  67  the loss is =  0.0026765200309455395  and accuracy is =  0.8847142857142857\n",
            "At step  20  and at epoch =  68  the loss is =  0.0031427633948624134  and accuracy is =  0.879\n",
            "At step  20  and at epoch =  69  the loss is =  0.0031979780178517103  and accuracy is =  0.8808571428571429\n",
            "task: 20 train accuracy = 0.8832\n",
            "task: 20 test accuracy = 0.7463333333333333\n"
          ],
          "name": "stdout"
        },
        {
          "output_type": "display_data",
          "data": {
            "image/png": "[encoded data removed]",
            "text/plain": [
              "<Figure size 432x288 with 2 Axes>"
            ]
          },
          "metadata": {
            "tags": []
          }
        },
        {
          "output_type": "stream",
          "text": [
            "At step  30  and at epoch =  0  the loss is =  0.008751541376113892  and accuracy is =  0.22924393723252495\n",
            "At step  30  and at epoch =  1  the loss is =  0.008776344358921051  and accuracy is =  0.22881597717546362\n",
            "At step  30  and at epoch =  2  the loss is =  0.0075545539148151875  and accuracy is =  0.2348074179743224\n",
            "At step  30  and at epoch =  3  the loss is =  0.007802905514836311  and accuracy is =  0.2332382310984308\n",
            "At step  30  and at epoch =  4  the loss is =  0.008276809006929398  and accuracy is =  0.23651925820256775\n",
            "At step  30  and at epoch =  5  the loss is =  0.008305895142257214  and accuracy is =  0.2355206847360913\n",
            "At step  30  and at epoch =  6  the loss is =  0.0087362015619874  and accuracy is =  0.2390870185449358\n",
            "At step  30  and at epoch =  7  the loss is =  0.0077522131614387035  and accuracy is =  0.23751783166904422\n",
            "At step  30  and at epoch =  8  the loss is =  0.00789563823491335  and accuracy is =  0.2346647646219686\n",
            "At step  30  and at epoch =  9  the loss is =  0.008675321005284786  and accuracy is =  0.23366619115549214\n",
            "At step  30  and at epoch =  10  the loss is =  0.008041294291615486  and accuracy is =  0.23751783166904422\n",
            "At step  30  and at epoch =  11  the loss is =  0.007558391895145178  and accuracy is =  0.2586305278174037\n",
            "At step  30  and at epoch =  12  the loss is =  0.0074762641452252865  and accuracy is =  0.3089871611982882\n",
            "At step  30  and at epoch =  13  the loss is =  0.00691683404147625  and accuracy is =  0.3902995720399429\n",
            "At step  30  and at epoch =  14  the loss is =  0.006364854983985424  and accuracy is =  0.4563480741797432\n",
            "At step  30  and at epoch =  15  the loss is =  0.006256987806409597  and accuracy is =  0.5302425106990014\n",
            "At step  30  and at epoch =  16  the loss is =  0.006034214515239  and accuracy is =  0.5600570613409415\n",
            "At step  30  and at epoch =  17  the loss is =  0.0050956206396222115  and accuracy is =  0.5788873038516406\n",
            "At step  30  and at epoch =  18  the loss is =  0.0044522034004330635  and accuracy is =  0.583737517831669\n",
            "At step  30  and at epoch =  19  the loss is =  0.005957930814474821  and accuracy is =  0.5901569186875891\n",
            "At step  30  and at epoch =  20  the loss is =  0.006164075341075659  and accuracy is =  0.6052781740370898\n",
            "At step  30  and at epoch =  21  the loss is =  0.0054690358228981495  and accuracy is =  0.6134094151212554\n",
            "At step  30  and at epoch =  22  the loss is =  0.005589134991168976  and accuracy is =  0.615549215406562\n",
            "At step  30  and at epoch =  23  the loss is =  0.004213670268654823  and accuracy is =  0.6621968616262482\n",
            "At step  30  and at epoch =  24  the loss is =  0.004702071193605661  and accuracy is =  0.6964336661911555\n",
            "At step  30  and at epoch =  25  the loss is =  0.004746078979223967  and accuracy is =  0.7034236804564907\n",
            "At step  30  and at epoch =  26  the loss is =  0.00543401762843132  and accuracy is =  0.7131241084165478\n",
            "At step  30  and at epoch =  27  the loss is =  0.004686632659286261  and accuracy is =  0.7206847360912981\n",
            "At step  30  and at epoch =  28  the loss is =  0.004229952581226826  and accuracy is =  0.7094151212553494\n",
            "At step  30  and at epoch =  29  the loss is =  0.00393172400072217  and accuracy is =  0.7165477888730385\n",
            "At step  30  and at epoch =  30  the loss is =  0.003951725549995899  and accuracy is =  0.7258202567760342\n",
            "At step  30  and at epoch =  31  the loss is =  0.0043282522819936275  and accuracy is =  0.7300998573466476\n",
            "At step  30  and at epoch =  32  the loss is =  0.004588052164763212  and accuracy is =  0.7349500713266762\n",
            "At step  30  and at epoch =  33  the loss is =  0.004244350828230381  and accuracy is =  0.7402282453637661\n",
            "At step  30  and at epoch =  34  the loss is =  0.0038916144985705614  and accuracy is =  0.7523537803138374\n",
            "At step  30  and at epoch =  35  the loss is =  0.004409331362694502  and accuracy is =  0.7413694721825963\n",
            "At step  30  and at epoch =  36  the loss is =  0.004227141384035349  and accuracy is =  0.7407988587731812\n",
            "At step  30  and at epoch =  37  the loss is =  0.00449875183403492  and accuracy is =  0.7500713266761769\n",
            "At step  30  and at epoch =  38  the loss is =  0.00448413984850049  and accuracy is =  0.7542082738944366\n",
            "At step  30  and at epoch =  39  the loss is =  0.0040484340861439705  and accuracy is =  0.7606276747503566\n",
            "At step  30  and at epoch =  40  the loss is =  0.003994383849203587  and accuracy is =  0.7621968616262482\n",
            "At step  30  and at epoch =  41  the loss is =  0.004036793485283852  and accuracy is =  0.7727532097004279\n",
            "At step  30  and at epoch =  42  the loss is =  0.0036058349069207907  and accuracy is =  0.775320970042796\n",
            "At step  30  and at epoch =  43  the loss is =  0.004181171301752329  and accuracy is =  0.7609129814550641\n",
            "At step  30  and at epoch =  44  the loss is =  0.0034543857909739017  and accuracy is =  0.7654778887303851\n",
            "At step  30  and at epoch =  45  the loss is =  0.004540501162409782  and accuracy is =  0.7684736091298145\n",
            "At step  30  and at epoch =  46  the loss is =  0.004442117642611265  and accuracy is =  0.769472182596291\n",
            "At step  30  and at epoch =  47  the loss is =  0.0038153044879436493  and accuracy is =  0.774037089871612\n",
            "At step  30  and at epoch =  48  the loss is =  0.0038755012210458517  and accuracy is =  0.766904422253923\n",
            "At step  30  and at epoch =  49  the loss is =  0.004028537310659885  and accuracy is =  0.8121255349500713\n",
            "At step  30  and at epoch =  50  the loss is =  0.0033395171631127596  and accuracy is =  0.8457917261055635\n",
            "At step  30  and at epoch =  51  the loss is =  0.003264503087848425  and accuracy is =  0.8482168330955777\n",
            "At step  30  and at epoch =  52  the loss is =  0.003340378636494279  and accuracy is =  0.8569186875891583\n",
            "At step  30  and at epoch =  53  the loss is =  0.0031735834199935198  and accuracy is =  0.8616262482168331\n",
            "At step  30  and at epoch =  54  the loss is =  0.0031114656012505293  and accuracy is =  0.8603423680456491\n",
            "At step  30  and at epoch =  55  the loss is =  0.003593508619815111  and accuracy is =  0.8631954350927247\n",
            "At step  30  and at epoch =  56  the loss is =  0.0031008280348032713  and accuracy is =  0.8701854493580599\n",
            "At step  30  and at epoch =  57  the loss is =  0.0028778722044080496  and accuracy is =  0.8683309557774608\n",
            "At step  30  and at epoch =  58  the loss is =  0.0026587790343910456  and accuracy is =  0.8684736091298145\n",
            "At step  30  and at epoch =  59  the loss is =  0.0032915605697780848  and accuracy is =  0.8723252496433667\n",
            "At step  30  and at epoch =  60  the loss is =  0.003106140997260809  and accuracy is =  0.8746077032810271\n",
            "At step  30  and at epoch =  61  the loss is =  0.002642301842570305  and accuracy is =  0.8763195435092724\n",
            "At step  30  and at epoch =  62  the loss is =  0.003049305872991681  and accuracy is =  0.8796005706134095\n",
            "At step  30  and at epoch =  63  the loss is =  0.0024429201148450375  and accuracy is =  0.8814550641940085\n",
            "At step  30  and at epoch =  64  the loss is =  0.002892083255574107  and accuracy is =  0.8855920114122682\n",
            "At step  30  and at epoch =  65  the loss is =  0.0025209507439285517  and accuracy is =  0.8860199714693295\n",
            "At step  30  and at epoch =  66  the loss is =  0.0030942228622734547  and accuracy is =  0.8843081312410842\n",
            "At step  30  and at epoch =  67  the loss is =  0.0027073384262621403  and accuracy is =  0.8827389443651926\n",
            "At step  30  and at epoch =  68  the loss is =  0.0024867013562470675  and accuracy is =  0.8904422253922967\n",
            "At step  30  and at epoch =  69  the loss is =  0.0031784779857844114  and accuracy is =  0.8865905848787446\n",
            "task: 30 train accuracy = 0.866\n",
            "task: 30 test accuracy = 0.69275\n"
          ],
          "name": "stdout"
        },
        {
          "output_type": "display_data",
          "data": {
            "image/png": "[encoded data removed]",
            "text/plain": [
              "<Figure size 432x288 with 2 Axes>"
            ]
          },
          "metadata": {
            "tags": []
          }
        },
        {
          "output_type": "stream",
          "text": [
            "At step  40  and at epoch =  0  the loss is =  0.00760551868006587  and accuracy is =  0.229\n",
            "At step  40  and at epoch =  1  the loss is =  0.007578874006867409  and accuracy is =  0.2267142857142857\n",
            "At step  40  and at epoch =  2  the loss is =  0.007248046342283487  and accuracy is =  0.22785714285714287\n",
            "At step  40  and at epoch =  3  the loss is =  0.00841735489666462  and accuracy is =  0.23042857142857143\n",
            "At step  40  and at epoch =  4  the loss is =  0.007535957265645266  and accuracy is =  0.22885714285714287\n",
            "At step  40  and at epoch =  5  the loss is =  0.007935467176139355  and accuracy is =  0.2307142857142857\n",
            "At step  40  and at epoch =  6  the loss is =  0.007948593236505985  and accuracy is =  0.2332857142857143\n",
            "At step  40  and at epoch =  7  the loss is =  0.008135602809488773  and accuracy is =  0.2337142857142857\n",
            "At step  40  and at epoch =  8  the loss is =  0.00760998297482729  and accuracy is =  0.2347142857142857\n",
            "At step  40  and at epoch =  9  the loss is =  0.008105653338134289  and accuracy is =  0.23957142857142857\n",
            "At step  40  and at epoch =  10  the loss is =  0.0071696690283715725  and accuracy is =  0.2797142857142857\n",
            "At step  40  and at epoch =  11  the loss is =  0.0071794684045016766  and accuracy is =  0.398\n",
            "At step  40  and at epoch =  12  the loss is =  0.005605402868241072  and accuracy is =  0.504\n",
            "At step  40  and at epoch =  13  the loss is =  0.007161131594330072  and accuracy is =  0.5687142857142857\n",
            "At step  40  and at epoch =  14  the loss is =  0.005524366162717342  and accuracy is =  0.5878571428571429\n",
            "At step  40  and at epoch =  15  the loss is =  0.006660482380539179  and accuracy is =  0.6075714285714285\n",
            "At step  40  and at epoch =  16  the loss is =  0.005337366834282875  and accuracy is =  0.6145714285714285\n",
            "At step  40  and at epoch =  17  the loss is =  0.005057125817984343  and accuracy is =  0.633\n",
            "At step  40  and at epoch =  18  the loss is =  0.005301198922097683  and accuracy is =  0.644\n",
            "At step  40  and at epoch =  19  the loss is =  0.004879227373749018  and accuracy is =  0.6528571428571428\n",
            "At step  40  and at epoch =  20  the loss is =  0.005052304361015558  and accuracy is =  0.6598571428571428\n",
            "At step  40  and at epoch =  21  the loss is =  0.005099653732031584  and accuracy is =  0.6778571428571428\n",
            "At step  40  and at epoch =  22  the loss is =  0.005204605404287577  and accuracy is =  0.6777142857142857\n",
            "At step  40  and at epoch =  23  the loss is =  0.005157335661351681  and accuracy is =  0.6818571428571428\n",
            "At step  40  and at epoch =  24  the loss is =  0.004629550036042929  and accuracy is =  0.6865714285714286\n",
            "At step  40  and at epoch =  25  the loss is =  0.00510050542652607  and accuracy is =  0.6951428571428572\n",
            "At step  40  and at epoch =  26  the loss is =  0.00530139310285449  and accuracy is =  0.6831428571428572\n",
            "At step  40  and at epoch =  27  the loss is =  0.0054516177624464035  and accuracy is =  0.7094285714285714\n",
            "At step  40  and at epoch =  28  the loss is =  0.0051499600522220135  and accuracy is =  0.7055714285714285\n",
            "At step  40  and at epoch =  29  the loss is =  0.005428565200418234  and accuracy is =  0.7137142857142857\n",
            "At step  40  and at epoch =  30  the loss is =  0.004691775888204575  and accuracy is =  0.7067142857142857\n",
            "At step  40  and at epoch =  31  the loss is =  0.0047588772140443325  and accuracy is =  0.7162857142857143\n",
            "At step  40  and at epoch =  32  the loss is =  0.004332833923399448  and accuracy is =  0.7168571428571429\n",
            "At step  40  and at epoch =  33  the loss is =  0.004766493570059538  and accuracy is =  0.7262857142857143\n",
            "At step  40  and at epoch =  34  the loss is =  0.00451111514121294  and accuracy is =  0.7218571428571429\n",
            "At step  40  and at epoch =  35  the loss is =  0.0051322937943041325  and accuracy is =  0.7341428571428571\n",
            "At step  40  and at epoch =  36  the loss is =  0.004211358726024628  and accuracy is =  0.7267142857142858\n",
            "At step  40  and at epoch =  37  the loss is =  0.004611055366694927  and accuracy is =  0.7294285714285714\n",
            "At step  40  and at epoch =  38  the loss is =  0.0046057915315032005  and accuracy is =  0.7415714285714285\n",
            "At step  40  and at epoch =  39  the loss is =  0.004129638895392418  and accuracy is =  0.7347142857142858\n",
            "At step  40  and at epoch =  40  the loss is =  0.004458037205040455  and accuracy is =  0.7254285714285714\n",
            "At step  40  and at epoch =  41  the loss is =  0.0046732667833566666  and accuracy is =  0.7384285714285714\n",
            "At step  40  and at epoch =  42  the loss is =  0.004706373903900385  and accuracy is =  0.7392857142857143\n",
            "At step  40  and at epoch =  43  the loss is =  0.0041694981046020985  and accuracy is =  0.7512857142857143\n",
            "At step  40  and at epoch =  44  the loss is =  0.005815404467284679  and accuracy is =  0.7487142857142857\n",
            "At step  40  and at epoch =  45  the loss is =  0.0047053806483745575  and accuracy is =  0.7407142857142858\n",
            "At step  40  and at epoch =  46  the loss is =  0.0040452610701322556  and accuracy is =  0.7442857142857143\n",
            "At step  40  and at epoch =  47  the loss is =  0.003792795818299055  and accuracy is =  0.7548571428571429\n",
            "At step  40  and at epoch =  48  the loss is =  0.00462973490357399  and accuracy is =  0.7467142857142857\n",
            "At step  40  and at epoch =  49  the loss is =  0.0036722985096275806  and accuracy is =  0.7975714285714286\n",
            "At step  40  and at epoch =  50  the loss is =  0.0033768063876777887  and accuracy is =  0.831\n",
            "At step  40  and at epoch =  51  the loss is =  0.0034273748751729727  and accuracy is =  0.8452857142857143\n",
            "At step  40  and at epoch =  52  the loss is =  0.0029942383989691734  and accuracy is =  0.848\n",
            "At step  40  and at epoch =  53  the loss is =  0.003021787852048874  and accuracy is =  0.8514285714285714\n",
            "At step  40  and at epoch =  54  the loss is =  0.0028530913405120373  and accuracy is =  0.8555714285714285\n",
            "At step  40  and at epoch =  55  the loss is =  0.0027962997555732727  and accuracy is =  0.859\n",
            "At step  40  and at epoch =  56  the loss is =  0.002926395507529378  and accuracy is =  0.8588571428571429\n",
            "At step  40  and at epoch =  57  the loss is =  0.0029259088914841413  and accuracy is =  0.8648571428571429\n",
            "At step  40  and at epoch =  58  the loss is =  0.0027535927947610617  and accuracy is =  0.8747142857142857\n",
            "At step  40  and at epoch =  59  the loss is =  0.002595815807580948  and accuracy is =  0.8715714285714286\n",
            "At step  40  and at epoch =  60  the loss is =  0.0031850035302340984  and accuracy is =  0.871\n",
            "At step  40  and at epoch =  61  the loss is =  0.003478637197986245  and accuracy is =  0.8757142857142857\n",
            "At step  40  and at epoch =  62  the loss is =  0.003077190602198243  and accuracy is =  0.873\n",
            "At step  40  and at epoch =  63  the loss is =  0.0028582075610756874  and accuracy is =  0.882\n",
            "At step  40  and at epoch =  64  the loss is =  0.0024032590445131063  and accuracy is =  0.8817142857142857\n",
            "At step  40  and at epoch =  65  the loss is =  0.002673744224011898  and accuracy is =  0.8827142857142857\n",
            "At step  40  and at epoch =  66  the loss is =  0.002537747146561742  and accuracy is =  0.8904285714285715\n",
            "At step  40  and at epoch =  67  the loss is =  0.0029774305876344442  and accuracy is =  0.8891428571428571\n",
            "At step  40  and at epoch =  68  the loss is =  0.002401486737653613  and accuracy is =  0.8888571428571429\n",
            "At step  40  and at epoch =  69  the loss is =  0.0024543271865695715  and accuracy is =  0.8905714285714286\n",
            "task: 40 train accuracy = 0.8236\n",
            "task: 40 test accuracy = 0.6248\n"
          ],
          "name": "stdout"
        },
        {
          "output_type": "display_data",
          "data": {
            "image/png": "[encoded data removed]",
            "text/plain": [
              "<Figure size 432x288 with 2 Axes>"
            ]
          },
          "metadata": {
            "tags": []
          }
        },
        {
          "output_type": "stream",
          "text": [
            "At step  50  and at epoch =  0  the loss is =  0.00847839005291462  and accuracy is =  0.21757142857142858\n",
            "At step  50  and at epoch =  1  the loss is =  0.008047224953770638  and accuracy is =  0.213\n",
            "At step  50  and at epoch =  2  the loss is =  0.007967834360897541  and accuracy is =  0.22285714285714286\n",
            "At step  50  and at epoch =  3  the loss is =  0.008106455206871033  and accuracy is =  0.22128571428571428\n",
            "At step  50  and at epoch =  4  the loss is =  0.008242974989116192  and accuracy is =  0.21942857142857142\n",
            "At step  50  and at epoch =  5  the loss is =  0.006928679067641497  and accuracy is =  0.22171428571428572\n",
            "At step  50  and at epoch =  6  the loss is =  0.007598319556564093  and accuracy is =  0.21928571428571428\n",
            "At step  50  and at epoch =  7  the loss is =  0.008238810114562511  and accuracy is =  0.22085714285714286\n",
            "At step  50  and at epoch =  8  the loss is =  0.007054260466247797  and accuracy is =  0.22357142857142856\n",
            "At step  50  and at epoch =  9  the loss is =  0.00657622842118144  and accuracy is =  0.27514285714285713\n",
            "At step  50  and at epoch =  10  the loss is =  0.00793615821748972  and accuracy is =  0.32257142857142856\n",
            "At step  50  and at epoch =  11  the loss is =  0.007049218285828829  and accuracy is =  0.41514285714285715\n",
            "At step  50  and at epoch =  12  the loss is =  0.006490868516266346  and accuracy is =  0.5178571428571429\n",
            "At step  50  and at epoch =  13  the loss is =  0.0058605968952178955  and accuracy is =  0.5891428571428572\n",
            "At step  50  and at epoch =  14  the loss is =  0.0056762779131531715  and accuracy is =  0.5962857142857143\n",
            "At step  50  and at epoch =  15  the loss is =  0.006105445325374603  and accuracy is =  0.6402857142857142\n",
            "At step  50  and at epoch =  16  the loss is =  0.005145147908478975  and accuracy is =  0.6565714285714286\n",
            "At step  50  and at epoch =  17  the loss is =  0.0058961655013263226  and accuracy is =  0.66\n",
            "At step  50  and at epoch =  18  the loss is =  0.005277944263070822  and accuracy is =  0.6782857142857143\n",
            "At step  50  and at epoch =  19  the loss is =  0.004603002220392227  and accuracy is =  0.678\n",
            "At step  50  and at epoch =  20  the loss is =  0.004350354429334402  and accuracy is =  0.685\n",
            "At step  50  and at epoch =  21  the loss is =  0.004647499416023493  and accuracy is =  0.691\n",
            "At step  50  and at epoch =  22  the loss is =  0.004720569588243961  and accuracy is =  0.7058571428571428\n",
            "At step  50  and at epoch =  23  the loss is =  0.005514056887477636  and accuracy is =  0.6935714285714286\n",
            "At step  50  and at epoch =  24  the loss is =  0.004837504122406244  and accuracy is =  0.6992857142857143\n",
            "At step  50  and at epoch =  25  the loss is =  0.004083750303834677  and accuracy is =  0.7118571428571429\n",
            "At step  50  and at epoch =  26  the loss is =  0.004745712038129568  and accuracy is =  0.7212857142857143\n",
            "At step  50  and at epoch =  27  the loss is =  0.004287995398044586  and accuracy is =  0.7215714285714285\n",
            "At step  50  and at epoch =  28  the loss is =  0.004410152789205313  and accuracy is =  0.7207142857142858\n",
            "At step  50  and at epoch =  29  the loss is =  0.004533971659839153  and accuracy is =  0.7298571428571429\n",
            "At step  50  and at epoch =  30  the loss is =  0.004618947394192219  and accuracy is =  0.7201428571428572\n",
            "At step  50  and at epoch =  31  the loss is =  0.00466636847704649  and accuracy is =  0.7377142857142858\n",
            "At step  50  and at epoch =  32  the loss is =  0.004559902474284172  and accuracy is =  0.7421428571428571\n",
            "At step  50  and at epoch =  33  the loss is =  0.0039167567156255245  and accuracy is =  0.74\n",
            "At step  50  and at epoch =  34  the loss is =  0.005177266430109739  and accuracy is =  0.7478571428571429\n",
            "At step  50  and at epoch =  35  the loss is =  0.004741163924336433  and accuracy is =  0.7457142857142857\n",
            "At step  50  and at epoch =  36  the loss is =  0.004395019728690386  and accuracy is =  0.7412857142857143\n",
            "At step  50  and at epoch =  37  the loss is =  0.004553766921162605  and accuracy is =  0.7478571428571429\n",
            "At step  50  and at epoch =  38  the loss is =  0.004353982862085104  and accuracy is =  0.738\n",
            "At step  50  and at epoch =  39  the loss is =  0.004952021408826113  and accuracy is =  0.7558571428571429\n",
            "At step  50  and at epoch =  40  the loss is =  0.004092342220246792  and accuracy is =  0.7465714285714286\n",
            "At step  50  and at epoch =  41  the loss is =  0.004305581096559763  and accuracy is =  0.7621428571428571\n",
            "At step  50  and at epoch =  42  the loss is =  0.004511211533099413  and accuracy is =  0.7537142857142857\n",
            "At step  50  and at epoch =  43  the loss is =  0.0041270023211836815  and accuracy is =  0.7575714285714286\n",
            "At step  50  and at epoch =  44  the loss is =  0.0033571801614016294  and accuracy is =  0.7581428571428571\n",
            "At step  50  and at epoch =  45  the loss is =  0.003987603820860386  and accuracy is =  0.7695714285714286\n",
            "At step  50  and at epoch =  46  the loss is =  0.005205528344959021  and accuracy is =  0.7578571428571429\n",
            "At step  50  and at epoch =  47  the loss is =  0.0034489191602915525  and accuracy is =  0.7587142857142857\n",
            "At step  50  and at epoch =  48  the loss is =  0.004230697173625231  and accuracy is =  0.7548571428571429\n",
            "At step  50  and at epoch =  49  the loss is =  0.003597836010158062  and accuracy is =  0.8214285714285714\n",
            "At step  50  and at epoch =  50  the loss is =  0.0038365251384675503  and accuracy is =  0.8408571428571429\n",
            "At step  50  and at epoch =  51  the loss is =  0.0026753812562674284  and accuracy is =  0.8497142857142858\n",
            "At step  50  and at epoch =  52  the loss is =  0.0027565311174839735  and accuracy is =  0.8524285714285714\n",
            "At step  50  and at epoch =  53  the loss is =  0.0028404933400452137  and accuracy is =  0.8592857142857143\n",
            "At step  50  and at epoch =  54  the loss is =  0.0029679173603653908  and accuracy is =  0.864\n",
            "At step  50  and at epoch =  55  the loss is =  0.003724112641066313  and accuracy is =  0.865\n",
            "At step  50  and at epoch =  56  the loss is =  0.002959412755444646  and accuracy is =  0.8667142857142857\n",
            "At step  50  and at epoch =  57  the loss is =  0.00252067600376904  and accuracy is =  0.8741428571428571\n",
            "At step  50  and at epoch =  58  the loss is =  0.0031290508341044188  and accuracy is =  0.876\n",
            "At step  50  and at epoch =  59  the loss is =  0.0032395648304373026  and accuracy is =  0.8757142857142857\n",
            "At step  50  and at epoch =  60  the loss is =  0.002532737562432885  and accuracy is =  0.8778571428571429\n",
            "At step  50  and at epoch =  61  the loss is =  0.002927543595433235  and accuracy is =  0.883\n",
            "At step  50  and at epoch =  62  the loss is =  0.003083809744566679  and accuracy is =  0.882\n",
            "At step  50  and at epoch =  63  the loss is =  0.002821944421157241  and accuracy is =  0.8852857142857142\n",
            "At step  50  and at epoch =  64  the loss is =  0.00275087496265769  and accuracy is =  0.892\n",
            "At step  50  and at epoch =  65  the loss is =  0.0032414342276751995  and accuracy is =  0.8861428571428571\n",
            "At step  50  and at epoch =  66  the loss is =  0.0029461111407727003  and accuracy is =  0.8895714285714286\n",
            "At step  50  and at epoch =  67  the loss is =  0.002660089638084173  and accuracy is =  0.8915714285714286\n",
            "At step  50  and at epoch =  68  the loss is =  0.002490224316716194  and accuracy is =  0.8918571428571429\n",
            "At step  50  and at epoch =  69  the loss is =  0.0029548497404903173  and accuracy is =  0.8905714285714286\n",
            "task: 50 train accuracy = 0.867\n",
            "task: 50 test accuracy = 0.5778333333333333\n"
          ],
          "name": "stdout"
        },
        {
          "output_type": "display_data",
          "data": {
            "image/png": "[encoded data removed]",
            "text/plain": [
              "<Figure size 432x288 with 2 Axes>"
            ]
          },
          "metadata": {
            "tags": []
          }
        },
        {
          "output_type": "stream",
          "text": [
            "At step  60  and at epoch =  0  the loss is =  0.008568845689296722  and accuracy is =  0.2004297994269341\n",
            "At step  60  and at epoch =  1  the loss is =  0.008814371190965176  and accuracy is =  0.20458452722063036\n",
            "At step  60  and at epoch =  2  the loss is =  0.00988850835710764  and accuracy is =  0.20630372492836677\n",
            "At step  60  and at epoch =  3  the loss is =  0.007057589013129473  and accuracy is =  0.21074498567335243\n",
            "At step  60  and at epoch =  4  the loss is =  0.009267882443964481  and accuracy is =  0.20759312320916906\n",
            "At step  60  and at epoch =  5  the loss is =  0.00865872297435999  and accuracy is =  0.21232091690544413\n",
            "At step  60  and at epoch =  6  the loss is =  0.008289649151265621  and accuracy is =  0.21232091690544413\n",
            "At step  60  and at epoch =  7  the loss is =  0.007960179820656776  and accuracy is =  0.21203438395415472\n",
            "At step  60  and at epoch =  8  the loss is =  0.006981970742344856  and accuracy is =  0.30544412607449856\n",
            "At step  60  and at epoch =  9  the loss is =  0.006638817023485899  and accuracy is =  0.3638968481375358\n",
            "At step  60  and at epoch =  10  the loss is =  0.006412872578948736  and accuracy is =  0.3949856733524355\n",
            "At step  60  and at epoch =  11  the loss is =  0.006140986457467079  and accuracy is =  0.49025787965616047\n",
            "At step  60  and at epoch =  12  the loss is =  0.00561321759596467  and accuracy is =  0.5138968481375358\n",
            "At step  60  and at epoch =  13  the loss is =  0.006090646609663963  and accuracy is =  0.5213467048710602\n",
            "At step  60  and at epoch =  14  the loss is =  0.006749207619577646  and accuracy is =  0.5230659025787966\n",
            "At step  60  and at epoch =  15  the loss is =  0.00578857958316803  and accuracy is =  0.5421203438395416\n",
            "At step  60  and at epoch =  16  the loss is =  0.005909118335694075  and accuracy is =  0.5512893982808023\n",
            "At step  60  and at epoch =  17  the loss is =  0.00532511854544282  and accuracy is =  0.5702005730659025\n",
            "At step  60  and at epoch =  18  the loss is =  0.005631633568555117  and accuracy is =  0.5958452722063037\n",
            "At step  60  and at epoch =  19  the loss is =  0.0050948746502399445  and accuracy is =  0.6060171919770774\n",
            "At step  60  and at epoch =  20  the loss is =  0.005584066268056631  and accuracy is =  0.6106017191977078\n",
            "At step  60  and at epoch =  21  the loss is =  0.00490527180954814  and accuracy is =  0.6551575931232092\n",
            "At step  60  and at epoch =  22  the loss is =  0.004306007642298937  and accuracy is =  0.6603151862464184\n",
            "At step  60  and at epoch =  23  the loss is =  0.004383464809507132  and accuracy is =  0.6657593123209169\n",
            "At step  60  and at epoch =  24  the loss is =  0.006275709252804518  and accuracy is =  0.6775071633237822\n",
            "At step  60  and at epoch =  25  the loss is =  0.005215843208134174  and accuracy is =  0.6749283667621776\n",
            "At step  60  and at epoch =  26  the loss is =  0.004967379849404097  and accuracy is =  0.6816618911174785\n",
            "At step  60  and at epoch =  27  the loss is =  0.005081991199404001  and accuracy is =  0.6851002865329513\n",
            "At step  60  and at epoch =  28  the loss is =  0.005262840073555708  and accuracy is =  0.6833810888252149\n",
            "At step  60  and at epoch =  29  the loss is =  0.004696921911090612  and accuracy is =  0.6819484240687679\n",
            "At step  60  and at epoch =  30  the loss is =  0.004376391414552927  and accuracy is =  0.686676217765043\n",
            "At step  60  and at epoch =  31  the loss is =  0.0050618392415344715  and accuracy is =  0.6936962750716332\n",
            "At step  60  and at epoch =  32  the loss is =  0.00463641295209527  and accuracy is =  0.6856733524355301\n",
            "At step  60  and at epoch =  33  the loss is =  0.004921567160636187  and accuracy is =  0.7110315186246419\n",
            "At step  60  and at epoch =  34  the loss is =  0.0037765854503959417  and accuracy is =  0.7035816618911175\n",
            "At step  60  and at epoch =  35  the loss is =  0.005332207307219505  and accuracy is =  0.7150429799426934\n",
            "At step  60  and at epoch =  36  the loss is =  0.004931480623781681  and accuracy is =  0.7048710601719198\n",
            "At step  60  and at epoch =  37  the loss is =  0.003717640647664666  and accuracy is =  0.7055873925501432\n",
            "At step  60  and at epoch =  38  the loss is =  0.004144554026424885  and accuracy is =  0.7117478510028653\n",
            "At step  60  and at epoch =  39  the loss is =  0.004161817021667957  and accuracy is =  0.7138968481375358\n",
            "At step  60  and at epoch =  40  the loss is =  0.005555607844144106  and accuracy is =  0.7159025787965616\n",
            "At step  60  and at epoch =  41  the loss is =  0.004555973224341869  and accuracy is =  0.7002865329512894\n",
            "At step  60  and at epoch =  42  the loss is =  0.004517443012446165  and accuracy is =  0.7146131805157593\n",
            "At step  60  and at epoch =  43  the loss is =  0.004506811965256929  and accuracy is =  0.7202005730659026\n",
            "At step  60  and at epoch =  44  the loss is =  0.0053671239875257015  and accuracy is =  0.7286532951289398\n",
            "At step  60  and at epoch =  45  the loss is =  0.0045488676987588406  and accuracy is =  0.7173352435530086\n",
            "At step  60  and at epoch =  46  the loss is =  0.003875215770676732  and accuracy is =  0.7123209169054441\n",
            "At step  60  and at epoch =  47  the loss is =  0.00404023751616478  and accuracy is =  0.7154727793696275\n",
            "At step  60  and at epoch =  48  the loss is =  0.004196591209620237  and accuracy is =  0.7396848137535816\n",
            "At step  60  and at epoch =  49  the loss is =  0.003370934631675482  and accuracy is =  0.7835243553008596\n",
            "At step  60  and at epoch =  50  the loss is =  0.0037839121650904417  and accuracy is =  0.811461318051576\n",
            "At step  60  and at epoch =  51  the loss is =  0.002943779807537794  and accuracy is =  0.8255014326647564\n",
            "At step  60  and at epoch =  52  the loss is =  0.0035802708007395267  and accuracy is =  0.82621776504298\n",
            "At step  60  and at epoch =  53  the loss is =  0.0033345625270158052  and accuracy is =  0.8333810888252149\n",
            "At step  60  and at epoch =  54  the loss is =  0.0035366194788366556  and accuracy is =  0.8332378223495702\n",
            "At step  60  and at epoch =  55  the loss is =  0.0029625513125211  and accuracy is =  0.8391117478510028\n",
            "At step  60  and at epoch =  56  the loss is =  0.0033792173489928246  and accuracy is =  0.8393982808022923\n",
            "At step  60  and at epoch =  57  the loss is =  0.00237562065012753  and accuracy is =  0.8446991404011461\n",
            "At step  60  and at epoch =  58  the loss is =  0.003012977307662368  and accuracy is =  0.848567335243553\n",
            "At step  60  and at epoch =  59  the loss is =  0.002810070291161537  and accuracy is =  0.8517191977077364\n",
            "At step  60  and at epoch =  60  the loss is =  0.0030994750559329987  and accuracy is =  0.851432664756447\n",
            "At step  60  and at epoch =  61  the loss is =  0.0025174017064273357  and accuracy is =  0.8573065902578797\n",
            "At step  60  and at epoch =  62  the loss is =  0.002728600986301899  and accuracy is =  0.8601719197707737\n",
            "At step  60  and at epoch =  63  the loss is =  0.002843131311237812  and accuracy is =  0.8664756446991404\n",
            "At step  60  and at epoch =  64  the loss is =  0.002169740153476596  and accuracy is =  0.8743553008595989\n",
            "At step  60  and at epoch =  65  the loss is =  0.0025071678683161736  and accuracy is =  0.8739255014326648\n",
            "At step  60  and at epoch =  66  the loss is =  0.0033142431639134884  and accuracy is =  0.873352435530086\n",
            "At step  60  and at epoch =  67  the loss is =  0.0023595753591507673  and accuracy is =  0.8710601719197708\n",
            "At step  60  and at epoch =  68  the loss is =  0.0026860046200454235  and accuracy is =  0.8750716332378223\n",
            "At step  60  and at epoch =  69  the loss is =  0.0030694438610225916  and accuracy is =  0.8746418338108882\n",
            "task: 60 train accuracy = 0.851\n",
            "task: 60 test accuracy = 0.5168571428571429\n"
          ],
          "name": "stdout"
        },
        {
          "output_type": "display_data",
          "data": {
            "image/png": "[encoded data removed]",
            "text/plain": [
              "<Figure size 432x288 with 2 Axes>"
            ]
          },
          "metadata": {
            "tags": []
          }
        },
        {
          "output_type": "stream",
          "text": [
            "At step  70  and at epoch =  0  the loss is =  0.008085176348686218  and accuracy is =  0.19630156472261737\n",
            "At step  70  and at epoch =  1  the loss is =  0.007628829684108496  and accuracy is =  0.19274537695590327\n",
            "At step  70  and at epoch =  2  the loss is =  0.008708354085683823  and accuracy is =  0.1984352773826458\n",
            "At step  70  and at epoch =  3  the loss is =  0.008103697560727596  and accuracy is =  0.1968705547652916\n",
            "At step  70  and at epoch =  4  the loss is =  0.007647163234651089  and accuracy is =  0.20327169274537696\n",
            "At step  70  and at epoch =  5  the loss is =  0.008181985467672348  and accuracy is =  0.20369843527738266\n",
            "At step  70  and at epoch =  6  the loss is =  0.007807602174580097  and accuracy is =  0.20540540540540542\n",
            "At step  70  and at epoch =  7  the loss is =  0.00666799396276474  and accuracy is =  0.29317211948790894\n",
            "At step  70  and at epoch =  8  the loss is =  0.0062326304614543915  and accuracy is =  0.3588904694167852\n",
            "At step  70  and at epoch =  9  the loss is =  0.005922555457800627  and accuracy is =  0.42105263157894735\n",
            "At step  70  and at epoch =  10  the loss is =  0.005636450368911028  and accuracy is =  0.47695590327169274\n",
            "At step  70  and at epoch =  11  the loss is =  0.005844277795404196  and accuracy is =  0.5251778093883357\n",
            "At step  70  and at epoch =  12  the loss is =  0.005116955377161503  and accuracy is =  0.5671408250355618\n",
            "At step  70  and at epoch =  13  the loss is =  0.00615396723151207  and accuracy is =  0.5699857752489331\n",
            "At step  70  and at epoch =  14  the loss is =  0.00453524012118578  and accuracy is =  0.5802275960170697\n",
            "At step  70  and at epoch =  15  the loss is =  0.005115818232297897  and accuracy is =  0.6421052631578947\n",
            "At step  70  and at epoch =  16  the loss is =  0.005033663008362055  and accuracy is =  0.6682788051209104\n",
            "At step  70  and at epoch =  17  the loss is =  0.004697069525718689  and accuracy is =  0.6803698435277382\n",
            "At step  70  and at epoch =  18  the loss is =  0.004656472243368626  and accuracy is =  0.6890469416785207\n",
            "At step  70  and at epoch =  19  the loss is =  0.004490896128118038  and accuracy is =  0.7018492176386913\n",
            "At step  70  and at epoch =  20  the loss is =  0.0045814793556928635  and accuracy is =  0.6967283072546231\n",
            "At step  70  and at epoch =  21  the loss is =  0.004304967354983091  and accuracy is =  0.7046941678520626\n",
            "At step  70  and at epoch =  22  the loss is =  0.004669805057346821  and accuracy is =  0.7036984352773826\n",
            "At step  70  and at epoch =  23  the loss is =  0.0040559615008533  and accuracy is =  0.723470839260313\n",
            "At step  70  and at epoch =  24  the loss is =  0.0039255330339074135  and accuracy is =  0.7304409672830725\n",
            "At step  70  and at epoch =  25  the loss is =  0.004634825978428125  and accuracy is =  0.719203413940256\n",
            "At step  70  and at epoch =  26  the loss is =  0.003841986646875739  and accuracy is =  0.7243243243243244\n",
            "At step  70  and at epoch =  27  the loss is =  0.004330279305577278  and accuracy is =  0.7273115220483641\n",
            "At step  70  and at epoch =  28  the loss is =  0.004341276828199625  and accuracy is =  0.7458036984352774\n",
            "At step  70  and at epoch =  29  the loss is =  0.003600743832066655  and accuracy is =  0.7433854907539118\n",
            "At step  70  and at epoch =  30  the loss is =  0.004666398745030165  and accuracy is =  0.7341394025604552\n",
            "At step  70  and at epoch =  31  the loss is =  0.0036559789441525936  and accuracy is =  0.7405405405405405\n",
            "At step  70  and at epoch =  32  the loss is =  0.004250728990882635  and accuracy is =  0.7513513513513513\n",
            "At step  70  and at epoch =  33  the loss is =  0.0037021434400230646  and accuracy is =  0.7483641536273116\n",
            "At step  70  and at epoch =  34  the loss is =  0.0039045140147209167  and accuracy is =  0.7371266002844951\n",
            "At step  70  and at epoch =  35  the loss is =  0.004226774908602238  and accuracy is =  0.7429587482219061\n",
            "At step  70  and at epoch =  36  the loss is =  0.004084527492523193  and accuracy is =  0.7469416785206259\n",
            "At step  70  and at epoch =  37  the loss is =  0.004051996860653162  and accuracy is =  0.755049786628734\n",
            "At step  70  and at epoch =  38  the loss is =  0.003224371699616313  and accuracy is =  0.7617354196301565\n",
            "At step  70  and at epoch =  39  the loss is =  0.004240707028657198  and accuracy is =  0.7630156472261735\n",
            "At step  70  and at epoch =  40  the loss is =  0.003530906978994608  and accuracy is =  0.7559032716927454\n",
            "At step  70  and at epoch =  41  the loss is =  0.004231111612170935  and accuracy is =  0.7584637268847795\n",
            "At step  70  and at epoch =  42  the loss is =  0.003906561061739922  and accuracy is =  0.7419630156472262\n",
            "At step  70  and at epoch =  43  the loss is =  0.0038805839139968157  and accuracy is =  0.7660028449502134\n",
            "At step  70  and at epoch =  44  the loss is =  0.0038457007613033056  and accuracy is =  0.7640113798008534\n",
            "At step  70  and at epoch =  45  the loss is =  0.0037369001656770706  and accuracy is =  0.7627311522048364\n",
            "At step  70  and at epoch =  46  the loss is =  0.0038164546713232994  and accuracy is =  0.761877667140825\n",
            "At step  70  and at epoch =  47  the loss is =  0.003656730754300952  and accuracy is =  0.7620199146514935\n",
            "At step  70  and at epoch =  48  the loss is =  0.003712085774168372  and accuracy is =  0.764153627311522\n",
            "At step  70  and at epoch =  49  the loss is =  0.0025214566849172115  and accuracy is =  0.8160739687055476\n",
            "At step  70  and at epoch =  50  the loss is =  0.0030691877473145723  and accuracy is =  0.837126600284495\n",
            "At step  70  and at epoch =  51  the loss is =  0.003321204101666808  and accuracy is =  0.8466571834992888\n",
            "At step  70  and at epoch =  52  the loss is =  0.00233542756177485  and accuracy is =  0.843669985775249\n",
            "At step  70  and at epoch =  53  the loss is =  0.00265371217392385  and accuracy is =  0.8503556187766714\n",
            "At step  70  and at epoch =  54  the loss is =  0.0025366870686411858  and accuracy is =  0.8510668563300142\n",
            "At step  70  and at epoch =  55  the loss is =  0.0027530037332326174  and accuracy is =  0.851778093883357\n",
            "At step  70  and at epoch =  56  the loss is =  0.0026253003161400557  and accuracy is =  0.8574679943100996\n",
            "At step  70  and at epoch =  57  the loss is =  0.002543945796787739  and accuracy is =  0.8604551920341394\n",
            "At step  70  and at epoch =  58  the loss is =  0.002277681138366461  and accuracy is =  0.862873399715505\n",
            "At step  70  and at epoch =  59  the loss is =  0.0025026421062648296  and accuracy is =  0.8633001422475106\n",
            "At step  70  and at epoch =  60  the loss is =  0.002461775438860059  and accuracy is =  0.864153627311522\n",
            "At step  70  and at epoch =  61  the loss is =  0.0025844816118478775  and accuracy is =  0.8610241820768136\n",
            "At step  70  and at epoch =  62  the loss is =  0.0024642611388117075  and accuracy is =  0.8655761024182077\n",
            "At step  70  and at epoch =  63  the loss is =  0.0025045701768249273  and accuracy is =  0.8736842105263158\n",
            "At step  70  and at epoch =  64  the loss is =  0.00253393966704607  and accuracy is =  0.8732574679943101\n",
            "At step  70  and at epoch =  65  the loss is =  0.002433450659736991  and accuracy is =  0.8748221906116643\n",
            "At step  70  and at epoch =  66  the loss is =  0.0022847589571028948  and accuracy is =  0.8753911806543385\n",
            "At step  70  and at epoch =  67  the loss is =  0.0025822590105235577  and accuracy is =  0.8753911806543385\n",
            "At step  70  and at epoch =  68  the loss is =  0.002165465382859111  and accuracy is =  0.8779516358463727\n",
            "At step  70  and at epoch =  69  the loss is =  0.002621461171656847  and accuracy is =  0.879800853485064\n",
            "task: 70 train accuracy = 0.9058\n",
            "task: 70 test accuracy = 0.488\n"
          ],
          "name": "stdout"
        },
        {
          "output_type": "display_data",
          "data": {
            "image/png": "[encoded data removed]",
            "text/plain": [
              "<Figure size 432x288 with 2 Axes>"
            ]
          },
          "metadata": {
            "tags": []
          }
        },
        {
          "output_type": "stream",
          "text": [
            "At step  80  and at epoch =  0  the loss is =  0.007933071814477444  and accuracy is =  0.19085714285714286\n",
            "At step  80  and at epoch =  1  the loss is =  0.007132871076464653  and accuracy is =  0.192\n",
            "At step  80  and at epoch =  2  the loss is =  0.008215652778744698  and accuracy is =  0.19342857142857142\n",
            "At step  80  and at epoch =  3  the loss is =  0.007510242518037558  and accuracy is =  0.19342857142857142\n",
            "At step  80  and at epoch =  4  the loss is =  0.007325342390686274  and accuracy is =  0.19342857142857142\n",
            "At step  80  and at epoch =  5  the loss is =  0.007724027615040541  and accuracy is =  0.19414285714285714\n",
            "At step  80  and at epoch =  6  the loss is =  0.006819114089012146  and accuracy is =  0.20785714285714285\n",
            "At step  80  and at epoch =  7  the loss is =  0.007373272441327572  and accuracy is =  0.29942857142857143\n",
            "At step  80  and at epoch =  8  the loss is =  0.006117728538811207  and accuracy is =  0.40685714285714286\n",
            "At step  80  and at epoch =  9  the loss is =  0.006462298333644867  and accuracy is =  0.5048571428571429\n",
            "At step  80  and at epoch =  10  the loss is =  0.005578722804784775  and accuracy is =  0.5321428571428571\n",
            "At step  80  and at epoch =  11  the loss is =  0.006290085148066282  and accuracy is =  0.5525714285714286\n",
            "At step  80  and at epoch =  12  the loss is =  0.005665598902851343  and accuracy is =  0.5507142857142857\n",
            "At step  80  and at epoch =  13  the loss is =  0.005071122664958239  and accuracy is =  0.571\n",
            "At step  80  and at epoch =  14  the loss is =  0.005085709970444441  and accuracy is =  0.6178571428571429\n",
            "At step  80  and at epoch =  15  the loss is =  0.0054696048609912395  and accuracy is =  0.6222857142857143\n",
            "At step  80  and at epoch =  16  the loss is =  0.004675723612308502  and accuracy is =  0.6215714285714286\n",
            "At step  80  and at epoch =  17  the loss is =  0.005706270225346088  and accuracy is =  0.6391428571428571\n",
            "At step  80  and at epoch =  18  the loss is =  0.0048267957754433155  and accuracy is =  0.6384285714285715\n",
            "At step  80  and at epoch =  19  the loss is =  0.00502124335616827  and accuracy is =  0.6547142857142857\n",
            "At step  80  and at epoch =  20  the loss is =  0.00508629996329546  and accuracy is =  0.6502857142857142\n",
            "At step  80  and at epoch =  21  the loss is =  0.004391256719827652  and accuracy is =  0.6668571428571428\n",
            "At step  80  and at epoch =  22  the loss is =  0.005237305536866188  and accuracy is =  0.6752857142857143\n",
            "At step  80  and at epoch =  23  the loss is =  0.004625343251973391  and accuracy is =  0.6725714285714286\n",
            "At step  80  and at epoch =  24  the loss is =  0.0050241160206496716  and accuracy is =  0.6708571428571428\n",
            "At step  80  and at epoch =  25  the loss is =  0.0049833576194942  and accuracy is =  0.6872857142857143\n",
            "At step  80  and at epoch =  26  the loss is =  0.005007720552384853  and accuracy is =  0.6818571428571428\n",
            "At step  80  and at epoch =  27  the loss is =  0.004555798601359129  and accuracy is =  0.6805714285714286\n",
            "At step  80  and at epoch =  28  the loss is =  0.004215891472995281  and accuracy is =  0.6792857142857143\n",
            "At step  80  and at epoch =  29  the loss is =  0.004343213047832251  and accuracy is =  0.6891428571428572\n",
            "At step  80  and at epoch =  30  the loss is =  0.004267530515789986  and accuracy is =  0.7067142857142857\n",
            "At step  80  and at epoch =  31  the loss is =  0.0036331259179860353  and accuracy is =  0.6922857142857143\n",
            "At step  80  and at epoch =  32  the loss is =  0.003807583823800087  and accuracy is =  0.7005714285714286\n",
            "At step  80  and at epoch =  33  the loss is =  0.004495756234973669  and accuracy is =  0.7001428571428572\n",
            "At step  80  and at epoch =  34  the loss is =  0.004443113226443529  and accuracy is =  0.7038571428571428\n",
            "At step  80  and at epoch =  35  the loss is =  0.004152777139097452  and accuracy is =  0.7095714285714285\n",
            "At step  80  and at epoch =  36  the loss is =  0.003983151167631149  and accuracy is =  0.7045714285714286\n",
            "At step  80  and at epoch =  37  the loss is =  0.004902885295450687  and accuracy is =  0.7101428571428572\n",
            "At step  80  and at epoch =  38  the loss is =  0.004327032715082169  and accuracy is =  0.7012857142857143\n",
            "At step  80  and at epoch =  39  the loss is =  0.004385044798254967  and accuracy is =  0.7048571428571428\n",
            "At step  80  and at epoch =  40  the loss is =  0.00427430123090744  and accuracy is =  0.7137142857142857\n",
            "At step  80  and at epoch =  41  the loss is =  0.0039330110885202885  and accuracy is =  0.7174285714285714\n",
            "At step  80  and at epoch =  42  the loss is =  0.004269687458872795  and accuracy is =  0.707\n",
            "At step  80  and at epoch =  43  the loss is =  0.004806212615221739  and accuracy is =  0.719\n",
            "At step  80  and at epoch =  44  the loss is =  0.0036806506104767323  and accuracy is =  0.7324285714285714\n",
            "At step  80  and at epoch =  45  the loss is =  0.004118759650737047  and accuracy is =  0.7325714285714285\n",
            "At step  80  and at epoch =  46  the loss is =  0.004021190106868744  and accuracy is =  0.7275714285714285\n",
            "At step  80  and at epoch =  47  the loss is =  0.003843749174848199  and accuracy is =  0.7254285714285714\n",
            "At step  80  and at epoch =  48  the loss is =  0.003357746172696352  and accuracy is =  0.7271428571428571\n",
            "At step  80  and at epoch =  49  the loss is =  0.0033471561037003994  and accuracy is =  0.7767142857142857\n",
            "At step  80  and at epoch =  50  the loss is =  0.0030162278562784195  and accuracy is =  0.8058571428571428\n",
            "At step  80  and at epoch =  51  the loss is =  0.002872409066185355  and accuracy is =  0.8181428571428572\n",
            "At step  80  and at epoch =  52  the loss is =  0.0028417562134563923  and accuracy is =  0.8191428571428572\n",
            "At step  80  and at epoch =  53  the loss is =  0.002613083692267537  and accuracy is =  0.8225714285714286\n",
            "At step  80  and at epoch =  54  the loss is =  0.0023884461261332035  and accuracy is =  0.8301428571428572\n",
            "At step  80  and at epoch =  55  the loss is =  0.0029622844886034727  and accuracy is =  0.8307142857142857\n",
            "At step  80  and at epoch =  56  the loss is =  0.00266487174667418  and accuracy is =  0.8357142857142857\n",
            "At step  80  and at epoch =  57  the loss is =  0.002950984053313732  and accuracy is =  0.8344285714285714\n",
            "At step  80  and at epoch =  58  the loss is =  0.0031806551851332188  and accuracy is =  0.8325714285714285\n",
            "At step  80  and at epoch =  59  the loss is =  0.0024868925102055073  and accuracy is =  0.8392857142857143\n",
            "At step  80  and at epoch =  60  the loss is =  0.0025884059723466635  and accuracy is =  0.8408571428571429\n",
            "At step  80  and at epoch =  61  the loss is =  0.00263248011469841  and accuracy is =  0.8451428571428572\n",
            "At step  80  and at epoch =  62  the loss is =  0.0022329313214868307  and accuracy is =  0.846\n",
            "At step  80  and at epoch =  63  the loss is =  0.002787246834486723  and accuracy is =  0.8495714285714285\n",
            "At step  80  and at epoch =  64  the loss is =  0.002978857373818755  and accuracy is =  0.8504285714285714\n",
            "At step  80  and at epoch =  65  the loss is =  0.0021744039840996265  and accuracy is =  0.853\n",
            "At step  80  and at epoch =  66  the loss is =  0.0024544119369238615  and accuracy is =  0.8571428571428571\n",
            "At step  80  and at epoch =  67  the loss is =  0.0024740395601838827  and accuracy is =  0.8568571428571429\n",
            "At step  80  and at epoch =  68  the loss is =  0.0026664352044463158  and accuracy is =  0.856\n",
            "At step  80  and at epoch =  69  the loss is =  0.0022919008042663336  and accuracy is =  0.8564285714285714\n",
            "task: 80 train accuracy = 0.856\n",
            "task: 80 test accuracy = 0.43766666666666665\n"
          ],
          "name": "stdout"
        },
        {
          "output_type": "display_data",
          "data": {
            "image/png": "[encoded data removed]",
            "text/plain": [
              "<Figure size 432x288 with 2 Axes>"
            ]
          },
          "metadata": {
            "tags": []
          }
        },
        {
          "output_type": "stream",
          "text": [
            "At step  90  and at epoch =  0  the loss is =  0.007578982971608639  and accuracy is =  0.17349570200573067\n",
            "At step  90  and at epoch =  1  the loss is =  0.008136252872645855  and accuracy is =  0.1693409742120344\n",
            "At step  90  and at epoch =  2  the loss is =  0.007743365131318569  and accuracy is =  0.17521489971346704\n",
            "At step  90  and at epoch =  3  the loss is =  0.00820177048444748  and accuracy is =  0.17636103151862464\n",
            "At step  90  and at epoch =  4  the loss is =  0.007353282067924738  and accuracy is =  0.17593123209169054\n",
            "At step  90  and at epoch =  5  the loss is =  0.007671325467526913  and accuracy is =  0.1806590257879656\n",
            "At step  90  and at epoch =  6  the loss is =  0.006482697557657957  and accuracy is =  0.28653295128939826\n",
            "At step  90  and at epoch =  7  the loss is =  0.005795971490442753  and accuracy is =  0.40959885386819483\n",
            "At step  90  and at epoch =  8  the loss is =  0.004399382043629885  and accuracy is =  0.51189111747851\n",
            "At step  90  and at epoch =  9  the loss is =  0.005258425138890743  and accuracy is =  0.5643266475644699\n",
            "At step  90  and at epoch =  10  the loss is =  0.005535480100661516  and accuracy is =  0.597134670487106\n",
            "At step  90  and at epoch =  11  the loss is =  0.005268898792564869  and accuracy is =  0.6391117478510029\n",
            "At step  90  and at epoch =  12  the loss is =  0.0047932774759829044  and accuracy is =  0.6396848137535817\n",
            "At step  90  and at epoch =  13  the loss is =  0.0050897421315312386  and accuracy is =  0.6515759312320917\n",
            "At step  90  and at epoch =  14  the loss is =  0.004125962965190411  and accuracy is =  0.6595988538681948\n",
            "At step  90  and at epoch =  15  the loss is =  0.004673512652516365  and accuracy is =  0.6607449856733524\n",
            "At step  90  and at epoch =  16  the loss is =  0.005422115325927734  and accuracy is =  0.6621776504297995\n",
            "At step  90  and at epoch =  17  the loss is =  0.004248704295605421  and accuracy is =  0.671919770773639\n",
            "At step  90  and at epoch =  18  the loss is =  0.0037533247377723455  and accuracy is =  0.6816618911174785\n",
            "At step  90  and at epoch =  19  the loss is =  0.0039830016903579235  and accuracy is =  0.6871060171919771\n",
            "At step  90  and at epoch =  20  the loss is =  0.004491799511015415  and accuracy is =  0.6955587392550143\n",
            "At step  90  and at epoch =  21  the loss is =  0.003702685935422778  and accuracy is =  0.6898280802292264\n",
            "At step  90  and at epoch =  22  the loss is =  0.004150834400206804  and accuracy is =  0.6987106017191977\n",
            "At step  90  and at epoch =  23  the loss is =  0.0038095961790531874  and accuracy is =  0.7041547277936963\n",
            "At step  90  and at epoch =  24  the loss is =  0.0038154476787894964  and accuracy is =  0.704727793696275\n",
            "At step  90  and at epoch =  25  the loss is =  0.0033101001754403114  and accuracy is =  0.7081661891117479\n",
            "At step  90  and at epoch =  26  the loss is =  0.004742667078971863  and accuracy is =  0.7107449856733524\n",
            "At step  90  and at epoch =  27  the loss is =  0.004295552149415016  and accuracy is =  0.7067335243553009\n",
            "At step  90  and at epoch =  28  the loss is =  0.0041351113468408585  and accuracy is =  0.7144699140401146\n",
            "At step  90  and at epoch =  29  the loss is =  0.004496388603001833  and accuracy is =  0.7156160458452722\n",
            "At step  90  and at epoch =  30  the loss is =  0.004511367529630661  and accuracy is =  0.7064469914040115\n",
            "At step  90  and at epoch =  31  the loss is =  0.0048562828451395035  and accuracy is =  0.7121776504297994\n",
            "At step  90  and at epoch =  32  the loss is =  0.003733219113200903  and accuracy is =  0.707593123209169\n",
            "At step  90  and at epoch =  33  the loss is =  0.0038556058425456285  and accuracy is =  0.7113180515759312\n",
            "At step  90  and at epoch =  34  the loss is =  0.004117404110729694  and accuracy is =  0.7138968481375358\n",
            "At step  90  and at epoch =  35  the loss is =  0.0035565521102398634  and accuracy is =  0.7299426934097422\n",
            "At step  90  and at epoch =  36  the loss is =  0.003769309027120471  and accuracy is =  0.7273638968481375\n",
            "At step  90  and at epoch =  37  the loss is =  0.003919259179383516  and accuracy is =  0.7272206303724928\n",
            "At step  90  and at epoch =  38  the loss is =  0.003753077471628785  and accuracy is =  0.7242120343839542\n",
            "At step  90  and at epoch =  39  the loss is =  0.004312215838581324  and accuracy is =  0.7418338108882522\n",
            "At step  90  and at epoch =  40  the loss is =  0.004343243781477213  and accuracy is =  0.7292263610315186\n",
            "At step  90  and at epoch =  41  the loss is =  0.0035837104078382254  and accuracy is =  0.7385386819484241\n",
            "At step  90  and at epoch =  42  the loss is =  0.003293287940323353  and accuracy is =  0.7339541547277937\n",
            "At step  90  and at epoch =  43  the loss is =  0.0038698327261954546  and accuracy is =  0.7244985673352435\n",
            "At step  90  and at epoch =  44  the loss is =  0.004467715043574572  and accuracy is =  0.7375358166189112\n",
            "At step  90  and at epoch =  45  the loss is =  0.0038953174371272326  and accuracy is =  0.7361031518624642\n",
            "At step  90  and at epoch =  46  the loss is =  0.0043307458981871605  and accuracy is =  0.744269340974212\n",
            "At step  90  and at epoch =  47  the loss is =  0.003486313857138157  and accuracy is =  0.7302292263610315\n",
            "At step  90  and at epoch =  48  the loss is =  0.0039019978139549494  and accuracy is =  0.7372492836676218\n",
            "At step  90  and at epoch =  49  the loss is =  0.0029371653217822313  and accuracy is =  0.7835243553008596\n",
            "At step  90  and at epoch =  50  the loss is =  0.0029237056151032448  and accuracy is =  0.8037249283667621\n",
            "At step  90  and at epoch =  51  the loss is =  0.003223514650017023  and accuracy is =  0.8148997134670487\n",
            "At step  90  and at epoch =  52  the loss is =  0.0025699357502162457  and accuracy is =  0.8170487106017192\n",
            "At step  90  and at epoch =  53  the loss is =  0.0026657411362975836  and accuracy is =  0.8179083094555873\n",
            "At step  90  and at epoch =  54  the loss is =  0.0030576903373003006  and accuracy is =  0.8285100286532951\n",
            "At step  90  and at epoch =  55  the loss is =  0.0024353356566280127  and accuracy is =  0.8265042979942694\n",
            "At step  90  and at epoch =  56  the loss is =  0.0026024754624813795  and accuracy is =  0.8283667621776505\n",
            "At step  90  and at epoch =  57  the loss is =  0.0025487630628049374  and accuracy is =  0.8310888252148997\n",
            "At step  90  and at epoch =  58  the loss is =  0.0023191715590655804  and accuracy is =  0.8329512893982808\n",
            "At step  90  and at epoch =  59  the loss is =  0.002934893826022744  and accuracy is =  0.8346704871060172\n",
            "At step  90  and at epoch =  60  the loss is =  0.002544805873185396  and accuracy is =  0.8355300859598854\n",
            "At step  90  and at epoch =  61  the loss is =  0.0023418522905558348  and accuracy is =  0.8369627507163324\n",
            "At step  90  and at epoch =  62  the loss is =  0.002115722745656967  and accuracy is =  0.8393982808022923\n",
            "At step  90  and at epoch =  63  the loss is =  0.0022632069885730743  and accuracy is =  0.8445558739255015\n",
            "At step  90  and at epoch =  64  the loss is =  0.002636609598994255  and accuracy is =  0.8451289398280802\n",
            "At step  90  and at epoch =  65  the loss is =  0.002040555002167821  and accuracy is =  0.8434097421203438\n",
            "At step  90  and at epoch =  66  the loss is =  0.0024797299411147833  and accuracy is =  0.8419770773638968\n",
            "At step  90  and at epoch =  67  the loss is =  0.002307521877810359  and accuracy is =  0.8454154727793697\n",
            "At step  90  and at epoch =  68  the loss is =  0.0021996935829520226  and accuracy is =  0.8464183381088826\n",
            "At step  90  and at epoch =  69  the loss is =  0.001925958669744432  and accuracy is =  0.8465616045845272\n",
            "task: 90 train accuracy = 0.889\n",
            "task: 90 test accuracy = 0.4017\n"
          ],
          "name": "stdout"
        },
        {
          "output_type": "display_data",
          "data": {
            "image/png": "[encoded data removed]",
            "text/plain": [
              "<Figure size 432x288 with 2 Axes>"
            ]
          },
          "metadata": {
            "tags": []
          }
        }
      ]
    }
  ]
}