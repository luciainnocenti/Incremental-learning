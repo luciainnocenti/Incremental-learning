{
  "nbformat": 4,
  "nbformat_minor": 0,
  "metadata": {
    "colab": {
      "name": "Copy of ICaRLMain.ipynb",
      "provenance": [],
      "collapsed_sections": [],
      "include_colab_link": true
    },
    "kernelspec": {
      "name": "python3",
      "display_name": "Python 3"
    },
    "accelerator": "GPU",
    "widgets": {
      "application/vnd.jupyter.widget-state+json": {
        "a7e52dd4378644138892929601f5c283": {
          "model_module": "@jupyter-widgets/controls",
          "model_name": "HBoxModel",
          "state": {
            "_view_name": "HBoxView",
            "_dom_classes": [],
            "_model_name": "HBoxModel",
            "_view_module": "@jupyter-widgets/controls",
            "_model_module_version": "1.5.0",
            "_view_count": null,
            "_view_module_version": "1.5.0",
            "box_style": "",
            "layout": "IPY_MODEL_6bdfa4f1ed0b400d88d2d5f69616189e",
            "_model_module": "@jupyter-widgets/controls",
            "children": [
              "IPY_MODEL_32b48b44aff947da810b8bb7e4031e42",
              "IPY_MODEL_36aed1e0525b4fe395fa9457aa04d002"
            ]
          }
        },
        "6bdfa4f1ed0b400d88d2d5f69616189e": {
          "model_module": "@jupyter-widgets/base",
          "model_name": "LayoutModel",
          "state": {
            "_view_name": "LayoutView",
            "grid_template_rows": null,
            "right": null,
            "justify_content": null,
            "_view_module": "@jupyter-widgets/base",
            "overflow": null,
            "_model_module_version": "1.2.0",
            "_view_count": null,
            "flex_flow": null,
            "width": null,
            "min_width": null,
            "border": null,
            "align_items": null,
            "bottom": null,
            "_model_module": "@jupyter-widgets/base",
            "top": null,
            "grid_column": null,
            "overflow_y": null,
            "overflow_x": null,
            "grid_auto_flow": null,
            "grid_area": null,
            "grid_template_columns": null,
            "flex": null,
            "_model_name": "LayoutModel",
            "justify_items": null,
            "grid_row": null,
            "max_height": null,
            "align_content": null,
            "visibility": null,
            "align_self": null,
            "height": null,
            "min_height": null,
            "padding": null,
            "grid_auto_rows": null,
            "grid_gap": null,
            "max_width": null,
            "order": null,
            "_view_module_version": "1.2.0",
            "grid_template_areas": null,
            "object_position": null,
            "object_fit": null,
            "grid_auto_columns": null,
            "margin": null,
            "display": null,
            "left": null
          }
        },
        "32b48b44aff947da810b8bb7e4031e42": {
          "model_module": "@jupyter-widgets/controls",
          "model_name": "FloatProgressModel",
          "state": {
            "_view_name": "ProgressView",
            "style": "IPY_MODEL_073b101cf353483d91900861be440185",
            "_dom_classes": [],
            "description": "",
            "_model_name": "FloatProgressModel",
            "bar_style": "info",
            "max": 1,
            "_view_module": "@jupyter-widgets/controls",
            "_model_module_version": "1.5.0",
            "value": 1,
            "_view_count": null,
            "_view_module_version": "1.5.0",
            "orientation": "horizontal",
            "min": 0,
            "description_tooltip": null,
            "_model_module": "@jupyter-widgets/controls",
            "layout": "IPY_MODEL_6b6935e189bf4c52a1280b8c7eeb33f4"
          }
        },
        "36aed1e0525b4fe395fa9457aa04d002": {
          "model_module": "@jupyter-widgets/controls",
          "model_name": "HTMLModel",
          "state": {
            "_view_name": "HTMLView",
            "style": "IPY_MODEL_a0c35daf80794b8ab9c04da87353c0ef",
            "_dom_classes": [],
            "description": "",
            "_model_name": "HTMLModel",
            "placeholder": "​",
            "_view_module": "@jupyter-widgets/controls",
            "_model_module_version": "1.5.0",
            "value": " 169009152/? [00:20&lt;00:00, 83839386.45it/s]",
            "_view_count": null,
            "_view_module_version": "1.5.0",
            "description_tooltip": null,
            "_model_module": "@jupyter-widgets/controls",
            "layout": "IPY_MODEL_e04d3db097ad47eea98eb7d5905341d4"
          }
        },
        "073b101cf353483d91900861be440185": {
          "model_module": "@jupyter-widgets/controls",
          "model_name": "ProgressStyleModel",
          "state": {
            "_view_name": "StyleView",
            "_model_name": "ProgressStyleModel",
            "description_width": "initial",
            "_view_module": "@jupyter-widgets/base",
            "_model_module_version": "1.5.0",
            "_view_count": null,
            "_view_module_version": "1.2.0",
            "bar_color": null,
            "_model_module": "@jupyter-widgets/controls"
          }
        },
        "6b6935e189bf4c52a1280b8c7eeb33f4": {
          "model_module": "@jupyter-widgets/base",
          "model_name": "LayoutModel",
          "state": {
            "_view_name": "LayoutView",
            "grid_template_rows": null,
            "right": null,
            "justify_content": null,
            "_view_module": "@jupyter-widgets/base",
            "overflow": null,
            "_model_module_version": "1.2.0",
            "_view_count": null,
            "flex_flow": null,
            "width": null,
            "min_width": null,
            "border": null,
            "align_items": null,
            "bottom": null,
            "_model_module": "@jupyter-widgets/base",
            "top": null,
            "grid_column": null,
            "overflow_y": null,
            "overflow_x": null,
            "grid_auto_flow": null,
            "grid_area": null,
            "grid_template_columns": null,
            "flex": null,
            "_model_name": "LayoutModel",
            "justify_items": null,
            "grid_row": null,
            "max_height": null,
            "align_content": null,
            "visibility": null,
            "align_self": null,
            "height": null,
            "min_height": null,
            "padding": null,
            "grid_auto_rows": null,
            "grid_gap": null,
            "max_width": null,
            "order": null,
            "_view_module_version": "1.2.0",
            "grid_template_areas": null,
            "object_position": null,
            "object_fit": null,
            "grid_auto_columns": null,
            "margin": null,
            "display": null,
            "left": null
          }
        },
        "a0c35daf80794b8ab9c04da87353c0ef": {
          "model_module": "@jupyter-widgets/controls",
          "model_name": "DescriptionStyleModel",
          "state": {
            "_view_name": "StyleView",
            "_model_name": "DescriptionStyleModel",
            "description_width": "",
            "_view_module": "@jupyter-widgets/base",
            "_model_module_version": "1.5.0",
            "_view_count": null,
            "_view_module_version": "1.2.0",
            "_model_module": "@jupyter-widgets/controls"
          }
        },
        "e04d3db097ad47eea98eb7d5905341d4": {
          "model_module": "@jupyter-widgets/base",
          "model_name": "LayoutModel",
          "state": {
            "_view_name": "LayoutView",
            "grid_template_rows": null,
            "right": null,
            "justify_content": null,
            "_view_module": "@jupyter-widgets/base",
            "overflow": null,
            "_model_module_version": "1.2.0",
            "_view_count": null,
            "flex_flow": null,
            "width": null,
            "min_width": null,
            "border": null,
            "align_items": null,
            "bottom": null,
            "_model_module": "@jupyter-widgets/base",
            "top": null,
            "grid_column": null,
            "overflow_y": null,
            "overflow_x": null,
            "grid_auto_flow": null,
            "grid_area": null,
            "grid_template_columns": null,
            "flex": null,
            "_model_name": "LayoutModel",
            "justify_items": null,
            "grid_row": null,
            "max_height": null,
            "align_content": null,
            "visibility": null,
            "align_self": null,
            "height": null,
            "min_height": null,
            "padding": null,
            "grid_auto_rows": null,
            "grid_gap": null,
            "max_width": null,
            "order": null,
            "_view_module_version": "1.2.0",
            "grid_template_areas": null,
            "object_position": null,
            "object_fit": null,
            "grid_auto_columns": null,
            "margin": null,
            "display": null,
            "left": null
          }
        }
      }
    }
  },
  "cells": [
    {
      "cell_type": "markdown",
      "metadata": {
        "id": "view-in-github",
        "colab_type": "text"
      },
      "source": [
        "<a href=\"https://colab.research.google.com/github/luciainnocenti/IncrementalLearning/blob/master/ICaRLMain.ipynb\" target=\"_parent\"><img src=\"https://colab.research.google.com/assets/colab-badge.svg\" alt=\"Open In Colab\"/></a>"
      ]
    },
    {
      "cell_type": "markdown",
      "metadata": {
        "id": "OLMLAOPyrR1K",
        "colab_type": "text"
      },
      "source": [
        "# Import GitHub repository"
      ]
    },
    {
      "cell_type": "code",
      "metadata": {
        "id": "3LqwZJLUlcYH",
        "colab_type": "code",
        "colab": {}
      },
      "source": [
        "import os\n",
        "import logging\n",
        "import sys"
      ],
      "execution_count": 1,
      "outputs": []
    },
    {
      "cell_type": "code",
      "metadata": {
        "id": "PVa_FlnxrXIk",
        "colab_type": "code",
        "colab": {
          "base_uri": "https://localhost:8080/",
          "height": 146
        },
        "outputId": "cd0e6d37-72c8-4fea-964c-8177351b0bd7"
      },
      "source": [
        "if not os.path.isdir('./DatasetCIFAR'):\n",
        "  !git clone https://github.com/luciainnocenti/IncrementalLearning.git\n",
        "  !mv 'IncrementalLearning' 'DatasetCIFAR'"
      ],
      "execution_count": 2,
      "outputs": [
        {
          "output_type": "stream",
          "text": [
            "Cloning into 'IncrementalLearning'...\n",
            "remote: Enumerating objects: 190, done.\u001b[K\n",
            "remote: Counting objects: 100% (190/190), done.\u001b[K\n",
            "remote: Compressing objects: 100% (165/165), done.\u001b[K\n",
            "remote: Total 1302 (delta 130), reused 26 (delta 25), pack-reused 1112\u001b[K\n",
            "Receiving objects: 100% (1302/1302), 874.07 KiB | 16.81 MiB/s, done.\n",
            "Resolving deltas: 100% (830/830), done.\n"
          ],
          "name": "stdout"
        }
      ]
    },
    {
      "cell_type": "markdown",
      "metadata": {
        "id": "XXQyHMXzrZ5A",
        "colab_type": "text"
      },
      "source": [
        "# Import packages"
      ]
    },
    {
      "cell_type": "code",
      "metadata": {
        "id": "c24pdNxurdv1",
        "colab_type": "code",
        "colab": {}
      },
      "source": [
        "from DatasetCIFAR.data_set import Dataset \n",
        "from DatasetCIFAR import ResNet\n",
        "from DatasetCIFAR import utils\n",
        "from DatasetCIFAR import params\n",
        "from DatasetCIFAR import ICaRLModel\n",
        "from torchvision import models\n",
        "import torch.nn as nn\n",
        "import torch\n",
        "import torch.optim as optim\n",
        "import torchvision\n",
        "import numpy as np\n",
        "\n",
        "from torchvision import transforms\n",
        "from torch.utils.data import Subset, DataLoader\n",
        "from torch.nn import functional as F\n",
        "import random\n",
        "random.seed(params.SEED)"
      ],
      "execution_count": 3,
      "outputs": []
    },
    {
      "cell_type": "code",
      "metadata": {
        "id": "r2rkcBbIKfUQ",
        "colab_type": "code",
        "colab": {
          "base_uri": "https://localhost:8080/",
          "height": 54
        },
        "outputId": "8688c0b7-b1cb-489a-e5fe-a1b7b3fc1b08"
      },
      "source": [
        "print(params.SEED)\n",
        "print(params.NUM_WORKERS)"
      ],
      "execution_count": 4,
      "outputs": [
        {
          "output_type": "stream",
          "text": [
            "653\n",
            "4\n"
          ],
          "name": "stdout"
        }
      ]
    },
    {
      "cell_type": "markdown",
      "metadata": {
        "id": "1FlAkShyryrf",
        "colab_type": "text"
      },
      "source": [
        "# Define Datasets"
      ]
    },
    {
      "cell_type": "code",
      "metadata": {
        "id": "AP2iR2vl3Wiz",
        "colab_type": "code",
        "colab": {}
      },
      "source": [
        "train_transformer = transforms.Compose([transforms.RandomCrop(size = 32, padding=4),\n",
        "                                         transforms.RandomHorizontalFlip(),\n",
        "                                         transforms.ToTensor(),\n",
        "                                         transforms.Normalize((0.5, 0.5, 0.5), (0.5, 0.5, 0.5))\n",
        "])\n",
        "\n",
        "test_transformer = transforms.Compose([transforms.ToTensor(),\n",
        "                                         transforms.Normalize((0.5, 0.5, 0.5), (0.5, 0.5, 0.5))\n",
        "])"
      ],
      "execution_count": 5,
      "outputs": []
    },
    {
      "cell_type": "code",
      "metadata": {
        "id": "1CSNk0NlrvAL",
        "colab_type": "code",
        "colab": {
          "base_uri": "https://localhost:8080/",
          "height": 104,
          "referenced_widgets": [
            "a7e52dd4378644138892929601f5c283",
            "6bdfa4f1ed0b400d88d2d5f69616189e",
            "32b48b44aff947da810b8bb7e4031e42",
            "36aed1e0525b4fe395fa9457aa04d002",
            "073b101cf353483d91900861be440185",
            "6b6935e189bf4c52a1280b8c7eeb33f4",
            "a0c35daf80794b8ab9c04da87353c0ef",
            "e04d3db097ad47eea98eb7d5905341d4"
          ]
        },
        "outputId": "b8e11731-82ff-4028-cdb9-c22c66332c1e"
      },
      "source": [
        "trainDS = Dataset(train=True, transform = train_transformer)\n",
        "testDS = Dataset(train=False, transform = test_transformer)"
      ],
      "execution_count": 6,
      "outputs": [
        {
          "output_type": "stream",
          "text": [
            "Downloading https://www.cs.toronto.edu/~kriz/cifar-100-python.tar.gz to data/cifar-100-python.tar.gz\n"
          ],
          "name": "stdout"
        },
        {
          "output_type": "display_data",
          "data": {
            "application/vnd.jupyter.widget-view+json": {
              "model_id": "a7e52dd4378644138892929601f5c283",
              "version_minor": 0,
              "version_major": 2
            },
            "text/plain": [
              "HBox(children=(FloatProgress(value=1.0, bar_style='info', max=1.0), HTML(value='')))"
            ]
          },
          "metadata": {
            "tags": []
          }
        },
        {
          "output_type": "stream",
          "text": [
            "Extracting data/cifar-100-python.tar.gz to data\n",
            "Files already downloaded and verified\n"
          ],
          "name": "stdout"
        }
      ]
    },
    {
      "cell_type": "code",
      "metadata": {
        "id": "W3ge3VayryJL",
        "colab_type": "code",
        "colab": {}
      },
      "source": [
        "train_splits = trainDS.splits\n",
        "test_splits = testDS.splits"
      ],
      "execution_count": 7,
      "outputs": []
    },
    {
      "cell_type": "markdown",
      "metadata": {
        "id": "AzxTlFF_rkfe",
        "colab_type": "text"
      },
      "source": [
        "# Define Network"
      ]
    },
    {
      "cell_type": "code",
      "metadata": {
        "id": "rgZtPkiPrmQK",
        "colab_type": "code",
        "colab": {}
      },
      "source": [
        "ICaRL = ResNet.resnet32(num_classes=100)\n",
        "ICaRL =  ICaRL.to(params.DEVICE)"
      ],
      "execution_count": 8,
      "outputs": []
    },
    {
      "cell_type": "code",
      "metadata": {
        "id": "CI8EyFmpOikN",
        "colab_type": "code",
        "colab": {}
      },
      "source": [
        "exemplars = [None]*100\n",
        "\n",
        "test_indexes =  []"
      ],
      "execution_count": 9,
      "outputs": []
    },
    {
      "cell_type": "code",
      "metadata": {
        "id": "fcFjbBGrOMz6",
        "colab_type": "code",
        "colab": {
          "base_uri": "https://localhost:8080/",
          "height": 1000
        },
        "outputId": "fdc79226-4185-45c1-a301-b14ce9ad56bf"
      },
      "source": [
        "for task in range(0, 100, params.TASK_SIZE):\n",
        "  train_indexes = trainDS.__getIndexesGroups__(task)\n",
        "  test_indexes = test_indexes + testDS.__getIndexesGroups__(task)\n",
        "\n",
        "  train_dataset = Subset(trainDS, train_indexes)\n",
        "  test_dataset = Subset(testDS, test_indexes)\n",
        "\n",
        "  train_loader = DataLoader( train_dataset, num_workers=params.NUM_WORKERS, batch_size=params.BATCH_SIZE, shuffle=True)\n",
        "  test_loader = DataLoader( test_dataset, num_workers=params.NUM_WORKERS, batch_size=params.BATCH_SIZE , shuffle=True )\n",
        "\n",
        "  ICaRL, exemplars = ICaRLModel.incrementalTrain(task, trainDS, ICaRL, exemplars)\n",
        "\n",
        "  col = []\n",
        "  for i,x in enumerate( train_splits[ :int(task/10) + 1]) : \n",
        "    v = np.array(x)\n",
        "    col = np.concatenate( (col,v), axis = None)\n",
        "    col = col.astype(int)\n",
        "  mean = None\n",
        "  total = 0.0\n",
        "  running_corrects = 0.0\n",
        "  for img, lbl, _ in train_loader:\n",
        "      img = img.float().to(params.DEVICE)\n",
        "      preds, mean = ICaRLModel.classify(img, exemplars, ICaRL, task, trainDS, mean)\n",
        "      preds = preds.to(params.DEVICE)\n",
        "      labels = utils.mapFunction(lbl, col).to(params.DEVICE)\n",
        "      #print(\"preds: \", preds.data)\n",
        "      #print(\"mapped labels: \", labels)\n",
        "      #print(\"labels: \", lbl)\n",
        "      total += len(lbl)\n",
        "      running_corrects += torch.sum(preds == labels.data).data.item()\n",
        "      #print(running_corrects)\n",
        "  accuracy = float(running_corrects/total)\n",
        "  print(f'task: {task}', f'train accuracy = {accuracy}')\n",
        "\n",
        "  total = 0.0\n",
        "  running_corrects = 0.0\n",
        "  for img, lbl, _ in test_loader:\n",
        "      img = img.float().to(params.DEVICE)\n",
        "      preds, _ = ICaRLModel.classify(img, exemplars, ICaRL, task, trainDS, mean)\n",
        "      preds = preds.to(params.DEVICE)\n",
        "      labels = utils.mapFunction(lbl, col).to(params.DEVICE)\n",
        "      #print(\"preds: \", preds.data)\n",
        "      #print(\"mapped labels: \", labels)\n",
        "      #print(\"labels: \", lbl)\n",
        "      total += len(lbl)\n",
        "      running_corrects += torch.sum(preds == labels.data).data.item()\n",
        "      #print(running_corrects)\n",
        "  accuracy = float(running_corrects/total)\n",
        "  print(f'task: {task}', f'test accuracy = {accuracy}')"
      ],
      "execution_count": null,
      "outputs": [
        {
          "output_type": "stream",
          "text": [
            "col =  [94 63 74 21 35 56 91 96 87 48]\n",
            "col[:10] [94 63 74 21 35 56 91 96 87 48]\n",
            "At step  0  and at epoch =  0  the loss is =  0.026180246844887733  and accuracy is =  0.1812\n",
            "At step  0  and at epoch =  1  the loss is =  0.02333865500986576  and accuracy is =  0.4148\n",
            "At step  0  and at epoch =  2  the loss is =  0.01857629418373108  and accuracy is =  0.514\n",
            "At step  0  and at epoch =  3  the loss is =  0.02637532167136669  and accuracy is =  0.5736\n",
            "At step  0  and at epoch =  4  the loss is =  0.01728350669145584  and accuracy is =  0.6334\n",
            "At step  0  and at epoch =  5  the loss is =  0.02795477956533432  and accuracy is =  0.6884\n",
            "At step  0  and at epoch =  6  the loss is =  0.01431830134242773  and accuracy is =  0.6888\n",
            "At step  0  and at epoch =  7  the loss is =  0.009407386183738708  and accuracy is =  0.7534\n",
            "At step  0  and at epoch =  8  the loss is =  0.021357430145144463  and accuracy is =  0.7574\n",
            "At step  0  and at epoch =  9  the loss is =  0.01897863671183586  and accuracy is =  0.7798\n",
            "At step  0  and at epoch =  10  the loss is =  0.009920535609126091  and accuracy is =  0.8136\n",
            "At step  0  and at epoch =  11  the loss is =  0.016883527860045433  and accuracy is =  0.8374\n",
            "At step  0  and at epoch =  12  the loss is =  0.015115279704332352  and accuracy is =  0.8316\n",
            "At step  0  and at epoch =  13  the loss is =  0.009720160625874996  and accuracy is =  0.8444\n",
            "At step  0  and at epoch =  14  the loss is =  0.007141526788473129  and accuracy is =  0.8738\n",
            "At step  0  and at epoch =  15  the loss is =  0.0029420906212180853  and accuracy is =  0.9126\n",
            "At step  0  and at epoch =  16  the loss is =  0.023516559973359108  and accuracy is =  0.9276\n",
            "At step  0  and at epoch =  17  the loss is =  0.02020413428544998  and accuracy is =  0.8086\n",
            "At step  0  and at epoch =  18  the loss is =  0.005877167917788029  and accuracy is =  0.8952\n",
            "At step  0  and at epoch =  19  the loss is =  0.0043326616287231445  and accuracy is =  0.9186\n",
            "At step  0  and at epoch =  20  the loss is =  0.00580965168774128  and accuracy is =  0.9278\n",
            "At step  0  and at epoch =  21  the loss is =  0.004654460586607456  and accuracy is =  0.9316\n",
            "At step  0  and at epoch =  22  the loss is =  0.007756792940199375  and accuracy is =  0.9586\n",
            "At step  0  and at epoch =  23  the loss is =  0.0069136046804487705  and accuracy is =  0.9072\n",
            "At step  0  and at epoch =  24  the loss is =  0.015089260414242744  and accuracy is =  0.9318\n",
            "At step  0  and at epoch =  25  the loss is =  0.008836422115564346  and accuracy is =  0.961\n",
            "At step  0  and at epoch =  26  the loss is =  0.011291556991636753  and accuracy is =  0.9512\n",
            "At step  0  and at epoch =  27  the loss is =  0.026648368686437607  and accuracy is =  0.9608\n",
            "At step  0  and at epoch =  28  the loss is =  0.006409102585166693  and accuracy is =  0.8894\n",
            "At step  0  and at epoch =  29  the loss is =  0.01648595742881298  and accuracy is =  0.9532\n",
            "At step  0  and at epoch =  30  the loss is =  0.029929200187325478  and accuracy is =  0.9524\n",
            "At step  0  and at epoch =  31  the loss is =  0.021046532317996025  and accuracy is =  0.917\n",
            "At step  0  and at epoch =  32  the loss is =  0.012254748493432999  and accuracy is =  0.937\n",
            "At step  0  and at epoch =  33  the loss is =  0.005780331790447235  and accuracy is =  0.938\n",
            "At step  0  and at epoch =  34  the loss is =  0.000947620312217623  and accuracy is =  0.9728\n",
            "At step  0  and at epoch =  35  the loss is =  0.004145635291934013  and accuracy is =  0.9926\n",
            "At step  0  and at epoch =  36  the loss is =  0.00648118369281292  and accuracy is =  0.9636\n",
            "At step  0  and at epoch =  37  the loss is =  0.0035407431423664093  and accuracy is =  0.9574\n",
            "At step  0  and at epoch =  38  the loss is =  0.004835520405322313  and accuracy is =  0.9854\n",
            "At step  0  and at epoch =  39  the loss is =  0.01996517926454544  and accuracy is =  0.9796\n",
            "At step  0  and at epoch =  40  the loss is =  0.008704130537807941  and accuracy is =  0.9598\n",
            "At step  0  and at epoch =  41  the loss is =  0.0026033734902739525  and accuracy is =  0.936\n",
            "At step  0  and at epoch =  42  the loss is =  0.0018015876412391663  and accuracy is =  0.9862\n",
            "At step  0  and at epoch =  43  the loss is =  0.0012679528445005417  and accuracy is =  0.9904\n",
            "At step  0  and at epoch =  44  the loss is =  0.009676627814769745  and accuracy is =  0.9964\n",
            "At step  0  and at epoch =  45  the loss is =  0.011161663569509983  and accuracy is =  0.9606\n",
            "At step  0  and at epoch =  46  the loss is =  0.0032701464369893074  and accuracy is =  0.9596\n",
            "At step  0  and at epoch =  47  the loss is =  0.009606756269931793  and accuracy is =  0.9768\n",
            "At step  0  and at epoch =  48  the loss is =  0.004089690279215574  and accuracy is =  0.97\n",
            "At step  0  and at epoch =  49  the loss is =  0.025941357016563416  and accuracy is =  0.9726\n",
            "At step  0  and at epoch =  50  the loss is =  0.018927570432424545  and accuracy is =  0.9584\n",
            "At step  0  and at epoch =  51  the loss is =  0.008004493080079556  and accuracy is =  0.9366\n",
            "At step  0  and at epoch =  52  the loss is =  0.006596183404326439  and accuracy is =  0.9516\n",
            "At step  0  and at epoch =  53  the loss is =  0.002434694906696677  and accuracy is =  0.9844\n",
            "At step  0  and at epoch =  54  the loss is =  0.004212161526083946  and accuracy is =  0.9898\n",
            "At step  0  and at epoch =  55  the loss is =  0.0019912489224225283  and accuracy is =  0.9836\n",
            "At step  0  and at epoch =  56  the loss is =  0.0034871860407292843  and accuracy is =  0.9912\n",
            "At step  0  and at epoch =  57  the loss is =  0.009217675775289536  and accuracy is =  0.9952\n",
            "At step  0  and at epoch =  58  the loss is =  0.014033179730176926  and accuracy is =  0.9362\n",
            "At step  0  and at epoch =  59  the loss is =  0.002809846308082342  and accuracy is =  0.8792\n",
            "At step  0  and at epoch =  60  the loss is =  0.01568613015115261  and accuracy is =  0.9746\n",
            "At step  0  and at epoch =  61  the loss is =  0.016990525647997856  and accuracy is =  0.9632\n",
            "At step  0  and at epoch =  62  the loss is =  0.029154786840081215  and accuracy is =  0.9416\n",
            "At step  0  and at epoch =  63  the loss is =  0.003216672455891967  and accuracy is =  0.9772\n",
            "At step  0  and at epoch =  64  the loss is =  0.002542380942031741  and accuracy is =  0.9914\n",
            "At step  0  and at epoch =  65  the loss is =  0.0027611181139945984  and accuracy is =  0.9884\n",
            "At step  0  and at epoch =  66  the loss is =  0.00018396771338302642  and accuracy is =  0.9924\n",
            "At step  0  and at epoch =  67  the loss is =  0.0008114422089420259  and accuracy is =  0.9992\n",
            "At step  0  and at epoch =  68  the loss is =  0.01457485742866993  and accuracy is =  0.9994\n",
            "At step  0  and at epoch =  69  the loss is =  0.002075041178613901  and accuracy is =  0.9848\n",
            "task: 0 train accuracy = 0.993\n",
            "task: 0 test accuracy = 0.768\n",
            "col =  [94 63 74 21 35 56 91 96 87 48 68 80 22 37 60 97 51 62 92 76]\n",
            "col[:10] [94 63 74 21 35 56 91 96 87 48]\n",
            "At step  10  and at epoch =  0  the loss is =  0.026198549196124077  and accuracy is =  0.30927246790299573\n",
            "At step  10  and at epoch =  1  the loss is =  0.0283365435898304  and accuracy is =  0.37646219686162624\n",
            "At step  10  and at epoch =  2  the loss is =  0.023405548185110092  and accuracy is =  0.45263908701854494\n",
            "At step  10  and at epoch =  3  the loss is =  0.02156066708266735  and accuracy is =  0.5105563480741797\n",
            "At step  10  and at epoch =  4  the loss is =  0.021928951144218445  and accuracy is =  0.5599144079885877\n",
            "At step  10  and at epoch =  5  the loss is =  0.018166178837418556  and accuracy is =  0.604564907275321\n",
            "At step  10  and at epoch =  6  the loss is =  0.015508466400206089  and accuracy is =  0.6549215406562054\n",
            "At step  10  and at epoch =  7  the loss is =  0.01435085665434599  and accuracy is =  0.705848787446505\n",
            "At step  10  and at epoch =  8  the loss is =  0.014895324595272541  and accuracy is =  0.7556348074179743\n",
            "At step  10  and at epoch =  9  the loss is =  0.013554539531469345  and accuracy is =  0.7871611982881598\n",
            "At step  10  and at epoch =  10  the loss is =  0.011935177259147167  and accuracy is =  0.8168330955777461\n",
            "At step  10  and at epoch =  11  the loss is =  0.01122179627418518  and accuracy is =  0.8559201141226819\n",
            "At step  10  and at epoch =  12  the loss is =  0.011553313583135605  and accuracy is =  0.8659058487874465\n",
            "At step  10  and at epoch =  13  the loss is =  0.01168898493051529  and accuracy is =  0.8726105563480742\n",
            "At step  10  and at epoch =  14  the loss is =  0.012547756545245647  and accuracy is =  0.8763195435092724\n",
            "At step  10  and at epoch =  15  the loss is =  0.010791567154228687  and accuracy is =  0.8758915834522111\n",
            "At step  10  and at epoch =  16  the loss is =  0.011522479355335236  and accuracy is =  0.8835948644793152\n",
            "At step  10  and at epoch =  17  the loss is =  0.01093736570328474  and accuracy is =  0.8874465049928674\n",
            "At step  10  and at epoch =  18  the loss is =  0.010373197495937347  and accuracy is =  0.9018544935805991\n",
            "At step  10  and at epoch =  19  the loss is =  0.01178479939699173  and accuracy is =  0.9082738944365193\n",
            "At step  10  and at epoch =  20  the loss is =  0.010860164649784565  and accuracy is =  0.9105563480741797\n",
            "At step  10  and at epoch =  21  the loss is =  0.009223868139088154  and accuracy is =  0.924679029957204\n",
            "At step  10  and at epoch =  22  the loss is =  0.009845868684351444  and accuracy is =  0.9222539229671898\n",
            "At step  10  and at epoch =  23  the loss is =  0.007570286747068167  and accuracy is =  0.9328102710413695\n",
            "At step  10  and at epoch =  24  the loss is =  0.007884862832725048  and accuracy is =  0.9296718972895863\n",
            "At step  10  and at epoch =  25  the loss is =  0.008608524687588215  and accuracy is =  0.9370898716119829\n",
            "At step  10  and at epoch =  26  the loss is =  0.007887925021350384  and accuracy is =  0.9362339514978602\n",
            "At step  10  and at epoch =  27  the loss is =  0.009574048221111298  and accuracy is =  0.92339514978602\n",
            "At step  10  and at epoch =  28  the loss is =  0.009213743731379509  and accuracy is =  0.9286733238231099\n",
            "At step  10  and at epoch =  29  the loss is =  0.008993217721581459  and accuracy is =  0.9106990014265335\n",
            "At step  10  and at epoch =  30  the loss is =  0.01024226937443018  and accuracy is =  0.9151212553495007\n",
            "At step  10  and at epoch =  31  the loss is =  0.009823966771364212  and accuracy is =  0.9194008559201141\n",
            "At step  10  and at epoch =  32  the loss is =  0.007284893188625574  and accuracy is =  0.9295292439372326\n",
            "At step  10  and at epoch =  33  the loss is =  0.008306493982672691  and accuracy is =  0.9312410841654779\n",
            "At step  10  and at epoch =  34  the loss is =  0.00923712458461523  and accuracy is =  0.9352353780313838\n",
            "At step  10  and at epoch =  35  the loss is =  0.006720366887748241  and accuracy is =  0.943509272467903\n",
            "At step  10  and at epoch =  36  the loss is =  0.008138238452374935  and accuracy is =  0.9574893009985734\n",
            "At step  10  and at epoch =  37  the loss is =  0.008011339232325554  and accuracy is =  0.9631954350927246\n",
            "At step  10  and at epoch =  38  the loss is =  0.007571361493319273  and accuracy is =  0.9509272467902996\n",
            "At step  10  and at epoch =  39  the loss is =  0.008155685849487782  and accuracy is =  0.9527817403708987\n",
            "At step  10  and at epoch =  40  the loss is =  0.007388493977487087  and accuracy is =  0.9704707560627674\n",
            "At step  10  and at epoch =  41  the loss is =  0.007532178889960051  and accuracy is =  0.9616262482168331\n",
            "At step  10  and at epoch =  42  the loss is =  0.008075435645878315  and accuracy is =  0.9650499286733238\n",
            "At step  10  and at epoch =  43  the loss is =  0.008761823177337646  and accuracy is =  0.9666191155492154\n",
            "At step  10  and at epoch =  44  the loss is =  0.007086125668138266  and accuracy is =  0.9669044222539229\n",
            "At step  10  and at epoch =  45  the loss is =  0.006862042471766472  and accuracy is =  0.9718972895863053\n",
            "At step  10  and at epoch =  46  the loss is =  0.007943463511765003  and accuracy is =  0.9713266761768902\n",
            "At step  10  and at epoch =  47  the loss is =  0.0073955426923930645  and accuracy is =  0.9689015691868759\n",
            "At step  10  and at epoch =  48  the loss is =  0.0061144656501710415  and accuracy is =  0.968188302425107\n",
            "At step  10  and at epoch =  49  the loss is =  0.00693483604118228  and accuracy is =  0.9676176890156919\n",
            "At step  10  and at epoch =  50  the loss is =  0.007336274720728397  and accuracy is =  0.967475035663338\n",
            "At step  10  and at epoch =  51  the loss is =  0.0063890451565384865  and accuracy is =  0.9634807417974323\n",
            "At step  10  and at epoch =  52  the loss is =  0.007642074953764677  and accuracy is =  0.9667617689015692\n",
            "At step  10  and at epoch =  53  the loss is =  0.006764654070138931  and accuracy is =  0.9717546362339515\n",
            "At step  10  and at epoch =  54  the loss is =  0.007645831909030676  and accuracy is =  0.9687589158345221\n",
            "At step  10  and at epoch =  55  the loss is =  0.008621100336313248  and accuracy is =  0.9657631954350927\n",
            "At step  10  and at epoch =  56  the loss is =  0.008668043650686741  and accuracy is =  0.949358059914408\n",
            "At step  10  and at epoch =  57  the loss is =  0.017179207876324654  and accuracy is =  0.8901569186875892\n",
            "At step  10  and at epoch =  58  the loss is =  0.014289353042840958  and accuracy is =  0.75848787446505\n",
            "At step  10  and at epoch =  59  the loss is =  0.01177376788109541  and accuracy is =  0.8607703281027104\n",
            "At step  10  and at epoch =  60  the loss is =  0.009137017652392387  and accuracy is =  0.8991440798858773\n",
            "At step  10  and at epoch =  61  the loss is =  0.008793707937002182  and accuracy is =  0.9192582025677604\n",
            "At step  10  and at epoch =  62  the loss is =  0.00954638235270977  and accuracy is =  0.927960057061341\n",
            "At step  10  and at epoch =  63  the loss is =  0.008203563280403614  and accuracy is =  0.9306704707560628\n",
            "At step  10  and at epoch =  64  the loss is =  0.009010715410113335  and accuracy is =  0.9359486447931527\n",
            "At step  10  and at epoch =  65  the loss is =  0.009113434702157974  and accuracy is =  0.9554921540656205\n",
            "At step  10  and at epoch =  66  the loss is =  0.0072061531245708466  and accuracy is =  0.9556348074179744\n",
            "At step  10  and at epoch =  67  the loss is =  0.006476688198745251  and accuracy is =  0.9579172610556348\n",
            "At step  10  and at epoch =  68  the loss is =  0.007943231612443924  and accuracy is =  0.961055634807418\n",
            "At step  10  and at epoch =  69  the loss is =  0.008391709066927433  and accuracy is =  0.9629101283880172\n",
            "task: 10 train accuracy = 0.9622\n",
            "task: 10 test accuracy = 0.6435\n",
            "col =  [94 63 74 21 35 56 91 96 87 48 68 80 22 37 60 97 51 62 92 76 75 89 23 99\n",
            " 39 66 54 69 84 61]\n",
            "col[:10] [94 63 74 21 35 56 91 96 87 48]\n",
            "At step  20  and at epoch =  0  the loss is =  0.03392617031931877  and accuracy is =  0.2668091168091168\n",
            "At step  20  and at epoch =  1  the loss is =  0.029444580897688866  and accuracy is =  0.31965811965811963\n",
            "At step  20  and at epoch =  2  the loss is =  0.0321887731552124  and accuracy is =  0.40484330484330483\n",
            "At step  20  and at epoch =  3  the loss is =  0.026974238455295563  and accuracy is =  0.4908831908831909\n",
            "At step  20  and at epoch =  4  the loss is =  0.02727656625211239  and accuracy is =  0.551994301994302\n",
            "At step  20  and at epoch =  5  the loss is =  0.025828495621681213  and accuracy is =  0.6245014245014245\n",
            "At step  20  and at epoch =  6  the loss is =  0.026691928505897522  and accuracy is =  0.6830484330484331\n",
            "At step  20  and at epoch =  7  the loss is =  0.021838348358869553  and accuracy is =  0.7233618233618233\n",
            "At step  20  and at epoch =  8  the loss is =  0.02378663793206215  and accuracy is =  0.7592592592592593\n",
            "At step  20  and at epoch =  9  the loss is =  0.020051322877407074  and accuracy is =  0.7789173789173789\n",
            "At step  20  and at epoch =  10  the loss is =  0.022154832258820534  and accuracy is =  0.7948717948717948\n",
            "At step  20  and at epoch =  11  the loss is =  0.0204604584723711  and accuracy is =  0.815954415954416\n",
            "At step  20  and at epoch =  12  the loss is =  0.021324219182133675  and accuracy is =  0.82991452991453\n",
            "At step  20  and at epoch =  13  the loss is =  0.020692605525255203  and accuracy is =  0.836039886039886\n",
            "At step  20  and at epoch =  14  the loss is =  0.019297253340482712  and accuracy is =  0.8434472934472934\n",
            "At step  20  and at epoch =  15  the loss is =  0.016701439395546913  and accuracy is =  0.8601139601139601\n",
            "At step  20  and at epoch =  16  the loss is =  0.01798917166888714  and accuracy is =  0.8603988603988604\n",
            "At step  20  and at epoch =  17  the loss is =  0.01614544540643692  and accuracy is =  0.8688034188034188\n",
            "At step  20  and at epoch =  18  the loss is =  0.01777060702443123  and accuracy is =  0.877920227920228\n",
            "At step  20  and at epoch =  19  the loss is =  0.020199952647089958  and accuracy is =  0.8888888888888888\n",
            "At step  20  and at epoch =  20  the loss is =  0.018909048289060593  and accuracy is =  0.8944444444444445\n",
            "At step  20  and at epoch =  21  the loss is =  0.017691439017653465  and accuracy is =  0.89002849002849\n",
            "At step  20  and at epoch =  22  the loss is =  0.017009006813168526  and accuracy is =  0.8972934472934473\n",
            "At step  20  and at epoch =  23  the loss is =  0.015905041247606277  and accuracy is =  0.9008547008547009\n",
            "At step  20  and at epoch =  24  the loss is =  0.01589777320623398  and accuracy is =  0.892022792022792\n"
          ],
          "name": "stdout"
        }
      ]
    }
  ]
}