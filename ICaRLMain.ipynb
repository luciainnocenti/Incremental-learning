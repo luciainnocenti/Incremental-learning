{
  "nbformat": 4,
  "nbformat_minor": 0,
  "metadata": {
    "colab": {
      "name": "Copy of ICaRLMain.ipynb",
      "provenance": [],
      "collapsed_sections": [],
      "include_colab_link": true
    },
    "kernelspec": {
      "name": "python3",
      "display_name": "Python 3"
    },
    "accelerator": "GPU",
    "widgets": {
      "application/vnd.jupyter.widget-state+json": {
        "e3a3274e70f84dbd8ace1653729023c1": {
          "model_module": "@jupyter-widgets/controls",
          "model_name": "HBoxModel",
          "state": {
            "_view_name": "HBoxView",
            "_dom_classes": [],
            "_model_name": "HBoxModel",
            "_view_module": "@jupyter-widgets/controls",
            "_model_module_version": "1.5.0",
            "_view_count": null,
            "_view_module_version": "1.5.0",
            "box_style": "",
            "layout": "IPY_MODEL_3f677033e1fe469980c9f52b61ecb18a",
            "_model_module": "@jupyter-widgets/controls",
            "children": [
              "IPY_MODEL_6a794047376d41e484d25834a9d697f4",
              "IPY_MODEL_527b57ef4ad74a029a4cfc4ff277832e"
            ]
          }
        },
        "3f677033e1fe469980c9f52b61ecb18a": {
          "model_module": "@jupyter-widgets/base",
          "model_name": "LayoutModel",
          "state": {
            "_view_name": "LayoutView",
            "grid_template_rows": null,
            "right": null,
            "justify_content": null,
            "_view_module": "@jupyter-widgets/base",
            "overflow": null,
            "_model_module_version": "1.2.0",
            "_view_count": null,
            "flex_flow": null,
            "width": null,
            "min_width": null,
            "border": null,
            "align_items": null,
            "bottom": null,
            "_model_module": "@jupyter-widgets/base",
            "top": null,
            "grid_column": null,
            "overflow_y": null,
            "overflow_x": null,
            "grid_auto_flow": null,
            "grid_area": null,
            "grid_template_columns": null,
            "flex": null,
            "_model_name": "LayoutModel",
            "justify_items": null,
            "grid_row": null,
            "max_height": null,
            "align_content": null,
            "visibility": null,
            "align_self": null,
            "height": null,
            "min_height": null,
            "padding": null,
            "grid_auto_rows": null,
            "grid_gap": null,
            "max_width": null,
            "order": null,
            "_view_module_version": "1.2.0",
            "grid_template_areas": null,
            "object_position": null,
            "object_fit": null,
            "grid_auto_columns": null,
            "margin": null,
            "display": null,
            "left": null
          }
        },
        "6a794047376d41e484d25834a9d697f4": {
          "model_module": "@jupyter-widgets/controls",
          "model_name": "FloatProgressModel",
          "state": {
            "_view_name": "ProgressView",
            "style": "IPY_MODEL_4d74ce557faf4eeca836186e35e20428",
            "_dom_classes": [],
            "description": "",
            "_model_name": "FloatProgressModel",
            "bar_style": "info",
            "max": 1,
            "_view_module": "@jupyter-widgets/controls",
            "_model_module_version": "1.5.0",
            "value": 1,
            "_view_count": null,
            "_view_module_version": "1.5.0",
            "orientation": "horizontal",
            "min": 0,
            "description_tooltip": null,
            "_model_module": "@jupyter-widgets/controls",
            "layout": "IPY_MODEL_72bf35011b974880840f90bd2d439427"
          }
        },
        "527b57ef4ad74a029a4cfc4ff277832e": {
          "model_module": "@jupyter-widgets/controls",
          "model_name": "HTMLModel",
          "state": {
            "_view_name": "HTMLView",
            "style": "IPY_MODEL_2d5d7be46961435cbfb2699a0c0fa9a8",
            "_dom_classes": [],
            "description": "",
            "_model_name": "HTMLModel",
            "placeholder": "​",
            "_view_module": "@jupyter-widgets/controls",
            "_model_module_version": "1.5.0",
            "value": " 169009152/? [00:20&lt;00:00, 73041128.74it/s]",
            "_view_count": null,
            "_view_module_version": "1.5.0",
            "description_tooltip": null,
            "_model_module": "@jupyter-widgets/controls",
            "layout": "IPY_MODEL_b699a1164e774a0f8fbcddd72d966c8d"
          }
        },
        "4d74ce557faf4eeca836186e35e20428": {
          "model_module": "@jupyter-widgets/controls",
          "model_name": "ProgressStyleModel",
          "state": {
            "_view_name": "StyleView",
            "_model_name": "ProgressStyleModel",
            "description_width": "initial",
            "_view_module": "@jupyter-widgets/base",
            "_model_module_version": "1.5.0",
            "_view_count": null,
            "_view_module_version": "1.2.0",
            "bar_color": null,
            "_model_module": "@jupyter-widgets/controls"
          }
        },
        "72bf35011b974880840f90bd2d439427": {
          "model_module": "@jupyter-widgets/base",
          "model_name": "LayoutModel",
          "state": {
            "_view_name": "LayoutView",
            "grid_template_rows": null,
            "right": null,
            "justify_content": null,
            "_view_module": "@jupyter-widgets/base",
            "overflow": null,
            "_model_module_version": "1.2.0",
            "_view_count": null,
            "flex_flow": null,
            "width": null,
            "min_width": null,
            "border": null,
            "align_items": null,
            "bottom": null,
            "_model_module": "@jupyter-widgets/base",
            "top": null,
            "grid_column": null,
            "overflow_y": null,
            "overflow_x": null,
            "grid_auto_flow": null,
            "grid_area": null,
            "grid_template_columns": null,
            "flex": null,
            "_model_name": "LayoutModel",
            "justify_items": null,
            "grid_row": null,
            "max_height": null,
            "align_content": null,
            "visibility": null,
            "align_self": null,
            "height": null,
            "min_height": null,
            "padding": null,
            "grid_auto_rows": null,
            "grid_gap": null,
            "max_width": null,
            "order": null,
            "_view_module_version": "1.2.0",
            "grid_template_areas": null,
            "object_position": null,
            "object_fit": null,
            "grid_auto_columns": null,
            "margin": null,
            "display": null,
            "left": null
          }
        },
        "2d5d7be46961435cbfb2699a0c0fa9a8": {
          "model_module": "@jupyter-widgets/controls",
          "model_name": "DescriptionStyleModel",
          "state": {
            "_view_name": "StyleView",
            "_model_name": "DescriptionStyleModel",
            "description_width": "",
            "_view_module": "@jupyter-widgets/base",
            "_model_module_version": "1.5.0",
            "_view_count": null,
            "_view_module_version": "1.2.0",
            "_model_module": "@jupyter-widgets/controls"
          }
        },
        "b699a1164e774a0f8fbcddd72d966c8d": {
          "model_module": "@jupyter-widgets/base",
          "model_name": "LayoutModel",
          "state": {
            "_view_name": "LayoutView",
            "grid_template_rows": null,
            "right": null,
            "justify_content": null,
            "_view_module": "@jupyter-widgets/base",
            "overflow": null,
            "_model_module_version": "1.2.0",
            "_view_count": null,
            "flex_flow": null,
            "width": null,
            "min_width": null,
            "border": null,
            "align_items": null,
            "bottom": null,
            "_model_module": "@jupyter-widgets/base",
            "top": null,
            "grid_column": null,
            "overflow_y": null,
            "overflow_x": null,
            "grid_auto_flow": null,
            "grid_area": null,
            "grid_template_columns": null,
            "flex": null,
            "_model_name": "LayoutModel",
            "justify_items": null,
            "grid_row": null,
            "max_height": null,
            "align_content": null,
            "visibility": null,
            "align_self": null,
            "height": null,
            "min_height": null,
            "padding": null,
            "grid_auto_rows": null,
            "grid_gap": null,
            "max_width": null,
            "order": null,
            "_view_module_version": "1.2.0",
            "grid_template_areas": null,
            "object_position": null,
            "object_fit": null,
            "grid_auto_columns": null,
            "margin": null,
            "display": null,
            "left": null
          }
        }
      }
    }
  },
  "cells": [
    {
      "cell_type": "markdown",
      "metadata": {
        "id": "view-in-github",
        "colab_type": "text"
      },
      "source": [
        "<a href=\"https://colab.research.google.com/github/luciainnocenti/IncrementalLearning/blob/newVersion---BIC/ICaRLMain.ipynb\" target=\"_parent\"><img src=\"https://colab.research.google.com/assets/colab-badge.svg\" alt=\"Open In Colab\"/></a>"
      ]
    },
    {
      "cell_type": "markdown",
      "metadata": {
        "id": "OLMLAOPyrR1K",
        "colab_type": "text"
      },
      "source": [
        "# Import GitHub repository"
      ]
    },
    {
      "cell_type": "code",
      "metadata": {
        "id": "3LqwZJLUlcYH",
        "colab_type": "code",
        "colab": {}
      },
      "source": [
        "import os\n",
        "import logging\n",
        "import sys"
      ],
      "execution_count": null,
      "outputs": []
    },
    {
      "cell_type": "code",
      "metadata": {
        "id": "PVa_FlnxrXIk",
        "colab_type": "code",
        "colab": {
          "base_uri": "https://localhost:8080/",
          "height": 141
        },
        "outputId": "65ed5913-9557-46a6-a153-60a2775a58dc"
      },
      "source": [
        "if not os.path.isdir('./DatasetCIFAR'):\n",
        "  !git clone -b newVersion---BIC https://github.com/luciainnocenti/IncrementalLearning.git\n",
        "  !mv 'IncrementalLearning' 'DatasetCIFAR'"
      ],
      "execution_count": null,
      "outputs": [
        {
          "output_type": "stream",
          "text": [
            "Cloning into 'IncrementalLearning'...\n",
            "remote: Enumerating objects: 100, done.\u001b[K\n",
            "remote: Counting objects:   1% (1/100)\u001b[K\rremote: Counting objects:   2% (2/100)\u001b[K\rremote: Counting objects:   3% (3/100)\u001b[K\rremote: Counting objects:   4% (4/100)\u001b[K\rremote: Counting objects:   5% (5/100)\u001b[K\rremote: Counting objects:   6% (6/100)\u001b[K\rremote: Counting objects:   7% (7/100)\u001b[K\rremote: Counting objects:   8% (8/100)\u001b[K\rremote: Counting objects:   9% (9/100)\u001b[K\rremote: Counting objects:  10% (10/100)\u001b[K\rremote: Counting objects:  11% (11/100)\u001b[K\rremote: Counting objects:  12% (12/100)\u001b[K\rremote: Counting objects:  13% (13/100)\u001b[K\rremote: Counting objects:  14% (14/100)\u001b[K\rremote: Counting objects:  15% (15/100)\u001b[K\rremote: Counting objects:  16% (16/100)\u001b[K\rremote: Counting objects:  17% (17/100)\u001b[K\rremote: Counting objects:  18% (18/100)\u001b[K\rremote: Counting objects:  19% (19/100)\u001b[K\rremote: Counting objects:  20% (20/100)\u001b[K\rremote: Counting objects:  21% (21/100)\u001b[K\rremote: Counting objects:  22% (22/100)\u001b[K\rremote: Counting objects:  23% (23/100)\u001b[K\rremote: Counting objects:  24% (24/100)\u001b[K\rremote: Counting objects:  25% (25/100)\u001b[K\rremote: Counting objects:  26% (26/100)\u001b[K\rremote: Counting objects:  27% (27/100)\u001b[K\rremote: Counting objects:  28% (28/100)\u001b[K\rremote: Counting objects:  29% (29/100)\u001b[K\rremote: Counting objects:  30% (30/100)\u001b[K\rremote: Counting objects:  31% (31/100)\u001b[K\rremote: Counting objects:  32% (32/100)\u001b[K\rremote: Counting objects:  33% (33/100)\u001b[K\rremote: Counting objects:  34% (34/100)\u001b[K\rremote: Counting objects:  35% (35/100)\u001b[K\rremote: Counting objects:  36% (36/100)\u001b[K\rremote: Counting objects:  37% (37/100)\u001b[K\rremote: Counting objects:  38% (38/100)\u001b[K\rremote: Counting objects:  39% (39/100)\u001b[K\rremote: Counting objects:  40% (40/100)\u001b[K\rremote: Counting objects:  41% (41/100)\u001b[K\rremote: Counting objects:  42% (42/100)\u001b[K\rremote: Counting objects:  43% (43/100)\u001b[K\rremote: Counting objects:  44% (44/100)\u001b[K\rremote: Counting objects:  45% (45/100)\u001b[K\rremote: Counting objects:  46% (46/100)\u001b[K\rremote: Counting objects:  47% (47/100)\u001b[K\rremote: Counting objects:  48% (48/100)\u001b[K\rremote: Counting objects:  49% (49/100)\u001b[K\rremote: Counting objects:  50% (50/100)\u001b[K\rremote: Counting objects:  51% (51/100)\u001b[K\rremote: Counting objects:  52% (52/100)\u001b[K\rremote: Counting objects:  53% (53/100)\u001b[K\rremote: Counting objects:  54% (54/100)\u001b[K\rremote: Counting objects:  55% (55/100)\u001b[K\rremote: Counting objects:  56% (56/100)\u001b[K\rremote: Counting objects:  57% (57/100)\u001b[K\rremote: Counting objects:  58% (58/100)\u001b[K\rremote: Counting objects:  59% (59/100)\u001b[K\rremote: Counting objects:  60% (60/100)\u001b[K\rremote: Counting objects:  61% (61/100)\u001b[K\rremote: Counting objects:  62% (62/100)\u001b[K\rremote: Counting objects:  63% (63/100)\u001b[K\rremote: Counting objects:  64% (64/100)\u001b[K\rremote: Counting objects:  65% (65/100)\u001b[K\rremote: Counting objects:  66% (66/100)\u001b[K\rremote: Counting objects:  67% (67/100)\u001b[K\rremote: Counting objects:  68% (68/100)\u001b[K\rremote: Counting objects:  69% (69/100)\u001b[K\rremote: Counting objects:  70% (70/100)\u001b[K\rremote: Counting objects:  71% (71/100)\u001b[K\rremote: Counting objects:  72% (72/100)\u001b[K\rremote: Counting objects:  73% (73/100)\u001b[K\rremote: Counting objects:  74% (74/100)\u001b[K\rremote: Counting objects:  75% (75/100)\u001b[K\rremote: Counting objects:  76% (76/100)\u001b[K\rremote: Counting objects:  77% (77/100)\u001b[K\rremote: Counting objects:  78% (78/100)\u001b[K\rremote: Counting objects:  79% (79/100)\u001b[K\rremote: Counting objects:  80% (80/100)\u001b[K\rremote: Counting objects:  81% (81/100)\u001b[K\rremote: Counting objects:  82% (82/100)\u001b[K\rremote: Counting objects:  83% (83/100)\u001b[K\rremote: Counting objects:  84% (84/100)\u001b[K\rremote: Counting objects:  85% (85/100)\u001b[K\rremote: Counting objects:  86% (86/100)\u001b[K\rremote: Counting objects:  87% (87/100)\u001b[K\rremote: Counting objects:  88% (88/100)\u001b[K\rremote: Counting objects:  89% (89/100)\u001b[K\rremote: Counting objects:  90% (90/100)\u001b[K\rremote: Counting objects:  91% (91/100)\u001b[K\rremote: Counting objects:  92% (92/100)\u001b[K\rremote: Counting objects:  93% (93/100)\u001b[K\rremote: Counting objects:  94% (94/100)\u001b[K\rremote: Counting objects:  95% (95/100)\u001b[K\rremote: Counting objects:  96% (96/100)\u001b[K\rremote: Counting objects:  97% (97/100)\u001b[K\rremote: Counting objects:  98% (98/100)\u001b[K\rremote: Counting objects:  99% (99/100)\u001b[K\rremote: Counting objects: 100% (100/100)\u001b[K\rremote: Counting objects: 100% (100/100), done.\u001b[K\n",
            "remote: Compressing objects: 100% (100/100), done.\u001b[K\n",
            "remote: Total 2531 (delta 56), reused 0 (delta 0), pack-reused 2431\u001b[K\n",
            "Receiving objects: 100% (2531/2531), 3.03 MiB | 15.61 MiB/s, done.\n",
            "Resolving deltas: 100% (1618/1618), done.\n"
          ],
          "name": "stdout"
        }
      ]
    },
    {
      "cell_type": "markdown",
      "metadata": {
        "id": "XXQyHMXzrZ5A",
        "colab_type": "text"
      },
      "source": [
        "# Import packages"
      ]
    },
    {
      "cell_type": "code",
      "metadata": {
        "id": "c24pdNxurdv1",
        "colab_type": "code",
        "colab": {
          "base_uri": "https://localhost:8080/",
          "height": 72
        },
        "outputId": "d963dd7f-67e9-4fa2-d89f-e9577100489b"
      },
      "source": [
        "from DatasetCIFAR.data_set import Dataset \n",
        "from DatasetCIFAR.data_set import Subset\n",
        "from DatasetCIFAR import ResNet\n",
        "from DatasetCIFAR import utils\n",
        "from DatasetCIFAR import params\n",
        "from DatasetCIFAR import ICaRLModel\n",
        "from torchvision import models\n",
        "import torch.nn as nn\n",
        "import torch\n",
        "import torch.optim as optim\n",
        "import torchvision\n",
        "import numpy as np\n",
        "import seaborn as sn\n",
        "import pandas as pd\n",
        "import matplotlib.pyplot as plt\n",
        "from sklearn.metrics import confusion_matrix\n",
        "\n",
        "from torchvision import transforms\n",
        "from torch.utils.data import DataLoader\n",
        "from torch.nn import functional as F\n",
        "import random\n",
        "random.seed(params.SEED)"
      ],
      "execution_count": null,
      "outputs": [
        {
          "output_type": "stream",
          "text": [
            "/usr/local/lib/python3.6/dist-packages/statsmodels/tools/_testing.py:19: FutureWarning: pandas.util.testing is deprecated. Use the functions in the public API at pandas.testing instead.\n",
            "  import pandas.util.testing as tm\n"
          ],
          "name": "stderr"
        }
      ]
    },
    {
      "cell_type": "code",
      "metadata": {
        "id": "r2rkcBbIKfUQ",
        "colab_type": "code",
        "colab": {
          "base_uri": "https://localhost:8080/",
          "height": 52
        },
        "outputId": "d2269f3f-c8b7-4806-ee57-a22ecf21f3bc"
      },
      "source": [
        "print(params.SEED)\n",
        "print(params.NUM_WORKERS)"
      ],
      "execution_count": null,
      "outputs": [
        {
          "output_type": "stream",
          "text": [
            "653\n",
            "4\n"
          ],
          "name": "stdout"
        }
      ]
    },
    {
      "cell_type": "markdown",
      "metadata": {
        "id": "1FlAkShyryrf",
        "colab_type": "text"
      },
      "source": [
        "# Define Datasets"
      ]
    },
    {
      "cell_type": "code",
      "metadata": {
        "id": "AP2iR2vl3Wiz",
        "colab_type": "code",
        "colab": {}
      },
      "source": [
        "train_transformer = transforms.Compose([transforms.RandomCrop(size = 32, padding=4),\n",
        "                                         transforms.RandomHorizontalFlip(),\n",
        "                                         transforms.ToTensor(),\n",
        "                                         transforms.Normalize((0.5, 0.5, 0.5), (0.5, 0.5, 0.5))\n",
        "])\n",
        "\n",
        "test_transformer = transforms.Compose([transforms.ToTensor(),\n",
        "                                         transforms.Normalize((0.5, 0.5, 0.5), (0.5, 0.5, 0.5))\n",
        "])"
      ],
      "execution_count": null,
      "outputs": []
    },
    {
      "cell_type": "code",
      "metadata": {
        "id": "1CSNk0NlrvAL",
        "colab_type": "code",
        "colab": {
          "base_uri": "https://localhost:8080/",
          "height": 102,
          "referenced_widgets": [
            "e3a3274e70f84dbd8ace1653729023c1",
            "3f677033e1fe469980c9f52b61ecb18a",
            "6a794047376d41e484d25834a9d697f4",
            "527b57ef4ad74a029a4cfc4ff277832e",
            "4d74ce557faf4eeca836186e35e20428",
            "72bf35011b974880840f90bd2d439427",
            "2d5d7be46961435cbfb2699a0c0fa9a8",
            "b699a1164e774a0f8fbcddd72d966c8d"
          ]
        },
        "outputId": "b45151c2-c07b-4746-a28e-0480986648a9"
      },
      "source": [
        "trainDS = Dataset(train=True)\n",
        "testDS = Dataset(train=False)"
      ],
      "execution_count": null,
      "outputs": [
        {
          "output_type": "stream",
          "text": [
            "Downloading https://www.cs.toronto.edu/~kriz/cifar-100-python.tar.gz to data/cifar-100-python.tar.gz\n"
          ],
          "name": "stdout"
        },
        {
          "output_type": "display_data",
          "data": {
            "application/vnd.jupyter.widget-view+json": {
              "model_id": "e3a3274e70f84dbd8ace1653729023c1",
              "version_minor": 0,
              "version_major": 2
            },
            "text/plain": [
              "HBox(children=(FloatProgress(value=1.0, bar_style='info', max=1.0), HTML(value='')))"
            ]
          },
          "metadata": {
            "tags": []
          }
        },
        {
          "output_type": "stream",
          "text": [
            "Extracting data/cifar-100-python.tar.gz to data\n",
            "Files already downloaded and verified\n"
          ],
          "name": "stdout"
        }
      ]
    },
    {
      "cell_type": "code",
      "metadata": {
        "id": "W3ge3VayryJL",
        "colab_type": "code",
        "colab": {}
      },
      "source": [
        "train_splits = trainDS.splits\n",
        "test_splits = testDS.splits"
      ],
      "execution_count": null,
      "outputs": []
    },
    {
      "cell_type": "markdown",
      "metadata": {
        "id": "AzxTlFF_rkfe",
        "colab_type": "text"
      },
      "source": [
        "# Define Network"
      ]
    },
    {
      "cell_type": "code",
      "metadata": {
        "id": "rgZtPkiPrmQK",
        "colab_type": "code",
        "colab": {}
      },
      "source": [
        "ICaRL = ResNet.resnet32(num_classes=100)\n",
        "ICaRL =  ICaRL.to(params.DEVICE)"
      ],
      "execution_count": null,
      "outputs": []
    },
    {
      "cell_type": "code",
      "metadata": {
        "id": "mEAKDqKak-nu",
        "colab_type": "code",
        "colab": {}
      },
      "source": [
        "BIC = ResNet.BiasLayer()"
      ],
      "execution_count": null,
      "outputs": []
    },
    {
      "cell_type": "code",
      "metadata": {
        "id": "CI8EyFmpOikN",
        "colab_type": "code",
        "colab": {}
      },
      "source": [
        "exemplars = [None]*100\n",
        "\n",
        "test_indexes =  []\n",
        "accs = []"
      ],
      "execution_count": null,
      "outputs": []
    },
    {
      "cell_type": "code",
      "metadata": {
        "id": "fcFjbBGrOMz6",
        "colab_type": "code",
        "colab": {
          "base_uri": "https://localhost:8080/",
          "height": 1000
        },
        "outputId": "e938f748-0f31-4baf-c752-90f304a7ba11"
      },
      "source": [
        "for task in range(0, 100, params.TASK_SIZE):\n",
        "  train_indexes = trainDS.__getIndexesGroups__(task)\n",
        "  test_indexes = test_indexes + testDS.__getIndexesGroups__(task)\n",
        "\n",
        "  train_dataset = Subset(trainDS, train_indexes, transform = train_transformer)\n",
        "  test_dataset = Subset(testDS, test_indexes, transform = test_transformer)\n",
        "\n",
        "  train_loader = DataLoader( train_dataset, num_workers=params.NUM_WORKERS, batch_size=params.BATCH_SIZE, shuffle=True)\n",
        "  test_loader = DataLoader( test_dataset, num_workers=params.NUM_WORKERS, batch_size=params.BATCH_SIZE , shuffle=True )\n",
        "  \n",
        "  ICaRL, exemplars = ICaRLModel.incrementalTrain(task, trainDS, ICaRL, exemplars, train_transformer, BIC = BIC)\n",
        "\n",
        "  col = []\n",
        "  for i,x in enumerate( train_splits[ :int(task/10) + 1]) : \n",
        "    v = np.array(x)\n",
        "    col = np.concatenate( (col,v), axis = None)\n",
        "    col = col.astype(int)\n",
        "  mean = None\n",
        "  total = 0.0\n",
        "  running_corrects = 0.0\n",
        "  for img, lbl, _ in train_loader:\n",
        "    img = img.float().to(params.DEVICE)\n",
        "    lbl = lbl.to(params.DEVICE)\n",
        "    outputs = ICaRL(img)\n",
        "    c = np.array(train_splits[int(task/10)]).astype(int)\n",
        "    cut_outputs = np.take_along_axis(outputs.to(params.DEVICE), c[None,:], axis = 1).to(params.DEVICE)\n",
        "    cut_outputs = BIC(cut_outputs)\n",
        "    outputs[:,c] = cut_outputs\n",
        "    \n",
        "    _ , preds = torch.max(outputs.data, 1)\n",
        "\n",
        "    total += len(lbl)\n",
        "    running_corrects += torch.sum(preds == lbl.data).data.item()\n",
        "  accuracy = float(running_corrects/total)\n",
        "  print(f'task: {task}', f'train accuracy = {accuracy}')\n",
        "  accs.append(accuracy)\n",
        "\n",
        "  total = 0.0\n",
        "  running_corrects = 0.0\n",
        "  tot_preds = []\n",
        "  tot_lab = []\n",
        "  for img, lbl, _ in test_loader:\n",
        "    img = img.float().to(params.DEVICE)\n",
        "    lbl = lbl.to(params.DEVICE)\n",
        "    outputs = ICaRL(img)\n",
        "    c = np.array(train_splits[int(task/10)]).astype(int)\n",
        "    cut_outputs = np.take_along_axis(outputs.to(params.DEVICE), c[None,:], axis = 1).to(params.DEVICE)\n",
        "    cut_outputs = BIC(cut_outputs)\n",
        "    outputs[:,c] = cut_outputs\n",
        "\n",
        "    _ , preds = torch.max(outputs.data, 1)\n",
        "    tot_preds = np.concatenate( ( tot_preds, preds.data.cpu().numpy() ) )\n",
        "    tot_lab = np.concatenate( (tot_lab, lbl.data.cpu().numpy()  ) )    \n",
        "    total += len(lbl)\n",
        "    running_corrects += torch.sum(preds == lbl.data).data.item()\n",
        "\n",
        "  accuracy = float(running_corrects/total)\n",
        "  print(f'task: {task}', f'test accuracy = {accuracy}')\n",
        "  cf = confusion_matrix(tot_lab, tot_preds)\n",
        "  df_cm = pd.DataFrame(cf, range(task + params.TASK_SIZE), range(task + params.TASK_SIZE))\n",
        "  sn.set(font_scale = .5) # for label size\n",
        "  sn.heatmap(df_cm, annot=False)\n",
        "  plt.show()"
      ],
      "execution_count": null,
      "outputs": [
        {
          "output_type": "stream",
          "text": [
            "task : 0\n",
            "1.0 0.0\n",
            "At step  0  and at epoch =  0  the loss is =  0.028525881469249725  and accuracy is =  0.1794\n",
            "At step  0  and at epoch =  1  the loss is =  0.023405883461236954  and accuracy is =  0.378\n",
            "At step  0  and at epoch =  2  the loss is =  0.02636146731674671  and accuracy is =  0.4792\n",
            "At step  0  and at epoch =  3  the loss is =  0.03554259240627289  and accuracy is =  0.522\n",
            "At step  0  and at epoch =  4  the loss is =  0.02292790450155735  and accuracy is =  0.5616\n",
            "At step  0  and at epoch =  5  the loss is =  0.016167622059583664  and accuracy is =  0.6048\n",
            "At step  0  and at epoch =  6  the loss is =  0.017338404431939125  and accuracy is =  0.6394\n",
            "At step  0  and at epoch =  7  the loss is =  0.016427362337708473  and accuracy is =  0.6694\n",
            "At step  0  and at epoch =  8  the loss is =  0.014015338383615017  and accuracy is =  0.6938\n",
            "At step  0  and at epoch =  9  the loss is =  0.02021370828151703  and accuracy is =  0.6896\n",
            "At step  0  and at epoch =  10  the loss is =  0.03171202540397644  and accuracy is =  0.7182\n",
            "At step  0  and at epoch =  11  the loss is =  0.022549819201231003  and accuracy is =  0.71\n",
            "At step  0  and at epoch =  12  the loss is =  0.0122462697327137  and accuracy is =  0.7518\n",
            "At step  0  and at epoch =  13  the loss is =  0.014442822895944118  and accuracy is =  0.7496\n",
            "At step  0  and at epoch =  14  the loss is =  0.008839319460093975  and accuracy is =  0.767\n",
            "At step  0  and at epoch =  15  the loss is =  0.018972450867295265  and accuracy is =  0.7892\n",
            "At step  0  and at epoch =  16  the loss is =  0.014480948448181152  and accuracy is =  0.7878\n",
            "At step  0  and at epoch =  17  the loss is =  0.023365983739495277  and accuracy is =  0.7818\n",
            "At step  0  and at epoch =  18  the loss is =  0.011637035757303238  and accuracy is =  0.78\n",
            "At step  0  and at epoch =  19  the loss is =  0.02869708649814129  and accuracy is =  0.8134\n",
            "At step  0  and at epoch =  20  the loss is =  0.017381440848112106  and accuracy is =  0.803\n",
            "At step  0  and at epoch =  21  the loss is =  0.008348077535629272  and accuracy is =  0.8154\n",
            "At step  0  and at epoch =  22  the loss is =  0.020058054476976395  and accuracy is =  0.839\n",
            "At step  0  and at epoch =  23  the loss is =  0.018584582954645157  and accuracy is =  0.795\n",
            "At step  0  and at epoch =  24  the loss is =  0.006182136479765177  and accuracy is =  0.7914\n",
            "At step  0  and at epoch =  25  the loss is =  0.003595037152990699  and accuracy is =  0.8342\n",
            "At step  0  and at epoch =  26  the loss is =  0.023144781589508057  and accuracy is =  0.8572\n",
            "At step  0  and at epoch =  27  the loss is =  0.006678765639662743  and accuracy is =  0.8452\n",
            "At step  0  and at epoch =  28  the loss is =  0.01744714193046093  and accuracy is =  0.8664\n",
            "At step  0  and at epoch =  29  the loss is =  0.0059304628521203995  and accuracy is =  0.8256\n",
            "At step  0  and at epoch =  30  the loss is =  0.007962586358189583  and accuracy is =  0.8668\n",
            "At step  0  and at epoch =  31  the loss is =  0.01228252612054348  and accuracy is =  0.865\n",
            "At step  0  and at epoch =  32  the loss is =  0.02208125963807106  and accuracy is =  0.8366\n",
            "At step  0  and at epoch =  33  the loss is =  0.016060853376984596  and accuracy is =  0.8586\n",
            "At step  0  and at epoch =  34  the loss is =  0.009399360977113247  and accuracy is =  0.8638\n",
            "At step  0  and at epoch =  35  the loss is =  0.002440930809825659  and accuracy is =  0.8724\n",
            "At step  0  and at epoch =  36  the loss is =  0.018265699967741966  and accuracy is =  0.8952\n",
            "At step  0  and at epoch =  37  the loss is =  0.010503317229449749  and accuracy is =  0.8378\n",
            "At step  0  and at epoch =  38  the loss is =  0.007687515579164028  and accuracy is =  0.878\n",
            "At step  0  and at epoch =  39  the loss is =  0.015893539413809776  and accuracy is =  0.8888\n",
            "At step  0  and at epoch =  40  the loss is =  0.007930454798042774  and accuracy is =  0.8724\n",
            "At step  0  and at epoch =  41  the loss is =  0.016969339922070503  and accuracy is =  0.8956\n",
            "At step  0  and at epoch =  42  the loss is =  0.007330766879022121  and accuracy is =  0.894\n",
            "At step  0  and at epoch =  43  the loss is =  0.022175950929522514  and accuracy is =  0.8972\n",
            "At step  0  and at epoch =  44  the loss is =  0.00932158250361681  and accuracy is =  0.8914\n",
            "At step  0  and at epoch =  45  the loss is =  0.005799874663352966  and accuracy is =  0.91\n",
            "At step  0  and at epoch =  46  the loss is =  0.007914864458143711  and accuracy is =  0.9074\n",
            "At step  0  and at epoch =  47  the loss is =  0.010020711459219456  and accuracy is =  0.894\n",
            "At step  0  and at epoch =  48  the loss is =  0.015521521680057049  and accuracy is =  0.8648\n",
            "At step  0  and at epoch =  49  the loss is =  0.01732763648033142  and accuracy is =  0.9258\n",
            "At step  0  and at epoch =  50  the loss is =  0.009696087799966335  and accuracy is =  0.9358\n",
            "At step  0  and at epoch =  51  the loss is =  0.003013593377545476  and accuracy is =  0.944\n",
            "At step  0  and at epoch =  52  the loss is =  0.008669711649417877  and accuracy is =  0.9516\n",
            "At step  0  and at epoch =  53  the loss is =  0.016119573265314102  and accuracy is =  0.951\n",
            "At step  0  and at epoch =  54  the loss is =  0.004298187792301178  and accuracy is =  0.945\n",
            "At step  0  and at epoch =  55  the loss is =  0.01333916187286377  and accuracy is =  0.957\n",
            "At step  0  and at epoch =  56  the loss is =  0.0026879836805164814  and accuracy is =  0.952\n",
            "At step  0  and at epoch =  57  the loss is =  0.007982208393514156  and accuracy is =  0.9628\n",
            "At step  0  and at epoch =  58  the loss is =  0.006894402205944061  and accuracy is =  0.9624\n",
            "At step  0  and at epoch =  59  the loss is =  0.0020842149388045073  and accuracy is =  0.9552\n",
            "At step  0  and at epoch =  60  the loss is =  0.013881254009902477  and accuracy is =  0.9626\n",
            "At step  0  and at epoch =  61  the loss is =  0.009607572108507156  and accuracy is =  0.961\n",
            "At step  0  and at epoch =  62  the loss is =  0.0027143319603055716  and accuracy is =  0.9644\n",
            "At step  0  and at epoch =  63  the loss is =  0.004066228400915861  and accuracy is =  0.9688\n",
            "At step  0  and at epoch =  64  the loss is =  0.004515679087489843  and accuracy is =  0.9726\n",
            "At step  0  and at epoch =  65  the loss is =  0.008100221864879131  and accuracy is =  0.9728\n",
            "At step  0  and at epoch =  66  the loss is =  0.0024718486238271  and accuracy is =  0.9732\n",
            "At step  0  and at epoch =  67  the loss is =  0.006935290992259979  and accuracy is =  0.974\n",
            "At step  0  and at epoch =  68  the loss is =  0.0002781048824544996  and accuracy is =  0.9746\n",
            "At step  0  and at epoch =  69  the loss is =  0.005442583467811346  and accuracy is =  0.9754\n",
            "task: 0 train accuracy = 0.9792\n",
            "task: 0 test accuracy = 0.892\n"
          ],
          "name": "stdout"
        },
        {
          "output_type": "display_data",
          "data": {
            "image/png": "[encoded data removed]",
            "text/plain": [
              "<Figure size 432x288 with 2 Axes>"
            ]
          },
          "metadata": {
            "tags": []
          }
        },
        {
          "output_type": "stream",
          "text": [
            "task : 10\n",
            "0.9288002848625183 -0.4442189633846283\n",
            "At step  10  and at epoch =  0  the loss is =  0.03129716217517853  and accuracy is =  0.2737878787878788\n",
            "At step  10  and at epoch =  1  the loss is =  0.028137175366282463  and accuracy is =  0.36303030303030304\n",
            "At step  10  and at epoch =  2  the loss is =  0.030140992254018784  and accuracy is =  0.44393939393939397\n",
            "At step  10  and at epoch =  3  the loss is =  0.024977492168545723  and accuracy is =  0.4959090909090909\n",
            "At step  10  and at epoch =  4  the loss is =  0.02648889645934105  and accuracy is =  0.5424242424242425\n",
            "At step  10  and at epoch =  5  the loss is =  0.02480137161910534  and accuracy is =  0.5712121212121212\n",
            "At step  10  and at epoch =  6  the loss is =  0.024792371317744255  and accuracy is =  0.5924242424242424\n",
            "At step  10  and at epoch =  7  the loss is =  0.022488703951239586  and accuracy is =  0.6083333333333333\n",
            "At step  10  and at epoch =  8  the loss is =  0.022413404658436775  and accuracy is =  0.6268181818181818\n",
            "At step  10  and at epoch =  9  the loss is =  0.02217884175479412  and accuracy is =  0.6351515151515151\n",
            "At step  10  and at epoch =  10  the loss is =  0.021032312884926796  and accuracy is =  0.6527272727272727\n",
            "At step  10  and at epoch =  11  the loss is =  0.020610611885786057  and accuracy is =  0.6630303030303031\n",
            "At step  10  and at epoch =  12  the loss is =  0.02250084839761257  and accuracy is =  0.6757575757575758\n",
            "At step  10  and at epoch =  13  the loss is =  0.022370491176843643  and accuracy is =  0.6881818181818182\n",
            "At step  10  and at epoch =  14  the loss is =  0.023807412013411522  and accuracy is =  0.6953030303030303\n",
            "At step  10  and at epoch =  15  the loss is =  0.0248927753418684  and accuracy is =  0.7027272727272728\n",
            "At step  10  and at epoch =  16  the loss is =  0.026582099497318268  and accuracy is =  0.7219696969696969\n",
            "At step  10  and at epoch =  17  the loss is =  0.019932594150304794  and accuracy is =  0.7127272727272728\n",
            "At step  10  and at epoch =  18  the loss is =  0.021386707201600075  and accuracy is =  0.7265151515151516\n",
            "At step  10  and at epoch =  19  the loss is =  0.020138660445809364  and accuracy is =  0.7319696969696969\n",
            "At step  10  and at epoch =  20  the loss is =  0.01905134506523609  and accuracy is =  0.7406060606060606\n",
            "At step  10  and at epoch =  21  the loss is =  0.021045003086328506  and accuracy is =  0.7389393939393939\n",
            "At step  10  and at epoch =  22  the loss is =  0.019595498219132423  and accuracy is =  0.7571212121212121\n",
            "At step  10  and at epoch =  23  the loss is =  0.021886134520173073  and accuracy is =  0.7557575757575757\n",
            "At step  10  and at epoch =  24  the loss is =  0.02090720273554325  and accuracy is =  0.7672727272727272\n",
            "At step  10  and at epoch =  25  the loss is =  0.023127127438783646  and accuracy is =  0.7510606060606061\n",
            "At step  10  and at epoch =  26  the loss is =  0.019832562655210495  and accuracy is =  0.7657575757575757\n",
            "At step  10  and at epoch =  27  the loss is =  0.021040625870227814  and accuracy is =  0.7716666666666666\n",
            "At step  10  and at epoch =  28  the loss is =  0.019749026745557785  and accuracy is =  0.7786363636363637\n",
            "At step  10  and at epoch =  29  the loss is =  0.020527170971035957  and accuracy is =  0.7793939393939394\n",
            "At step  10  and at epoch =  30  the loss is =  0.019821511581540108  and accuracy is =  0.7792424242424243\n",
            "At step  10  and at epoch =  31  the loss is =  0.02339252084493637  and accuracy is =  0.7884848484848485\n",
            "At step  10  and at epoch =  32  the loss is =  0.01977337710559368  and accuracy is =  0.7957575757575758\n",
            "At step  10  and at epoch =  33  the loss is =  0.017733141779899597  and accuracy is =  0.7974242424242424\n",
            "At step  10  and at epoch =  34  the loss is =  0.017171451821923256  and accuracy is =  0.7978787878787879\n",
            "At step  10  and at epoch =  35  the loss is =  0.017080478370189667  and accuracy is =  0.8040909090909091\n",
            "At step  10  and at epoch =  36  the loss is =  0.018065258860588074  and accuracy is =  0.8025757575757576\n",
            "At step  10  and at epoch =  37  the loss is =  0.01459955982863903  and accuracy is =  0.8084848484848485\n",
            "At step  10  and at epoch =  38  the loss is =  0.02080499194562435  and accuracy is =  0.806060606060606\n",
            "At step  10  and at epoch =  39  the loss is =  0.019092286005616188  and accuracy is =  0.8131818181818182\n",
            "At step  10  and at epoch =  40  the loss is =  0.018303625285625458  and accuracy is =  0.8083333333333333\n",
            "At step  10  and at epoch =  41  the loss is =  0.021463636308908463  and accuracy is =  0.8168181818181818\n",
            "At step  10  and at epoch =  42  the loss is =  0.018393978476524353  and accuracy is =  0.818939393939394\n",
            "At step  10  and at epoch =  43  the loss is =  0.018821517005562782  and accuracy is =  0.8183333333333334\n",
            "At step  10  and at epoch =  44  the loss is =  0.019507713615894318  and accuracy is =  0.811969696969697\n",
            "At step  10  and at epoch =  45  the loss is =  0.01823437586426735  and accuracy is =  0.8281818181818181\n",
            "At step  10  and at epoch =  46  the loss is =  0.01752648688852787  and accuracy is =  0.8266666666666667\n",
            "At step  10  and at epoch =  47  the loss is =  0.01594274491071701  and accuracy is =  0.8243939393939393\n",
            "At step  10  and at epoch =  48  the loss is =  0.016379274427890778  and accuracy is =  0.826060606060606\n",
            "At step  10  and at epoch =  49  the loss is =  0.014082741923630238  and accuracy is =  0.8665151515151515\n",
            "At step  10  and at epoch =  50  the loss is =  0.014787978492677212  and accuracy is =  0.8834848484848485\n",
            "At step  10  and at epoch =  51  the loss is =  0.01339017041027546  and accuracy is =  0.8863636363636364\n",
            "At step  10  and at epoch =  52  the loss is =  0.012990708462893963  and accuracy is =  0.889090909090909\n",
            "At step  10  and at epoch =  53  the loss is =  0.011734098196029663  and accuracy is =  0.8959090909090909\n",
            "At step  10  and at epoch =  54  the loss is =  0.014090044423937798  and accuracy is =  0.8928787878787878\n",
            "At step  10  and at epoch =  55  the loss is =  0.01488739624619484  and accuracy is =  0.896969696969697\n",
            "At step  10  and at epoch =  56  the loss is =  0.015898380428552628  and accuracy is =  0.9009090909090909\n",
            "At step  10  and at epoch =  57  the loss is =  0.01420061755925417  and accuracy is =  0.9028787878787878\n",
            "At step  10  and at epoch =  58  the loss is =  0.012387051247060299  and accuracy is =  0.9009090909090909\n",
            "At step  10  and at epoch =  59  the loss is =  0.014310820028185844  and accuracy is =  0.9021212121212121\n",
            "At step  10  and at epoch =  60  the loss is =  0.012448633089661598  and accuracy is =  0.9051515151515152\n",
            "At step  10  and at epoch =  61  the loss is =  0.012291296385228634  and accuracy is =  0.9078787878787878\n",
            "At step  10  and at epoch =  62  the loss is =  0.012116920202970505  and accuracy is =  0.9056060606060606\n",
            "At step  10  and at epoch =  63  the loss is =  0.011504683643579483  and accuracy is =  0.9142424242424242\n",
            "At step  10  and at epoch =  64  the loss is =  0.01192747987806797  and accuracy is =  0.9081818181818182\n",
            "At step  10  and at epoch =  65  the loss is =  0.011039168573915958  and accuracy is =  0.9157575757575758\n",
            "At step  10  and at epoch =  66  the loss is =  0.011884520761668682  and accuracy is =  0.9172727272727272\n",
            "At step  10  and at epoch =  67  the loss is =  0.012831553816795349  and accuracy is =  0.9140909090909091\n",
            "At step  10  and at epoch =  68  the loss is =  0.013394340872764587  and accuracy is =  0.9165151515151515\n",
            "At step  10  and at epoch =  69  the loss is =  0.012198928743600845  and accuracy is =  0.9130303030303031\n",
            "task: 10 train accuracy = 0.8914\n",
            "task: 10 test accuracy = 0.765\n"
          ],
          "name": "stdout"
        },
        {
          "output_type": "display_data",
          "data": {
            "image/png": "[encoded data removed]",
            "text/plain": [
              "<Figure size 432x288 with 2 Axes>"
            ]
          },
          "metadata": {
            "tags": []
          }
        },
        {
          "output_type": "stream",
          "text": [
            "task : 20\n",
            "0.8790928721427917 -0.7624998688697815\n",
            "At step  20  and at epoch =  0  the loss is =  0.04366437718272209  and accuracy is =  0.2593939393939394\n",
            "At step  20  and at epoch =  1  the loss is =  0.04230833426117897  and accuracy is =  0.31303030303030305\n",
            "At step  20  and at epoch =  2  the loss is =  0.0393739752471447  and accuracy is =  0.3977272727272727\n",
            "At step  20  and at epoch =  3  the loss is =  0.03704294562339783  and accuracy is =  0.4571212121212121\n",
            "At step  20  and at epoch =  4  the loss is =  0.034382231533527374  and accuracy is =  0.5010606060606061\n",
            "At step  20  and at epoch =  5  the loss is =  0.032746732234954834  and accuracy is =  0.543939393939394\n",
            "At step  20  and at epoch =  6  the loss is =  0.03403724730014801  and accuracy is =  0.556969696969697\n",
            "At step  20  and at epoch =  7  the loss is =  0.030726885423064232  and accuracy is =  0.5884848484848485\n",
            "At step  20  and at epoch =  8  the loss is =  0.03070223703980446  and accuracy is =  0.6037878787878788\n",
            "At step  20  and at epoch =  9  the loss is =  0.030098319053649902  and accuracy is =  0.6131818181818182\n",
            "At step  20  and at epoch =  10  the loss is =  0.03536221385002136  and accuracy is =  0.6339393939393939\n",
            "At step  20  and at epoch =  11  the loss is =  0.034679971635341644  and accuracy is =  0.6503030303030303\n",
            "At step  20  and at epoch =  12  the loss is =  0.031422391533851624  and accuracy is =  0.6545454545454545\n",
            "At step  20  and at epoch =  13  the loss is =  0.0293613001704216  and accuracy is =  0.6696969696969697\n",
            "At step  20  and at epoch =  14  the loss is =  0.031687621027231216  and accuracy is =  0.6812121212121212\n",
            "At step  20  and at epoch =  15  the loss is =  0.03240998089313507  and accuracy is =  0.6977272727272728\n",
            "At step  20  and at epoch =  16  the loss is =  0.03334353491663933  and accuracy is =  0.703939393939394\n",
            "At step  20  and at epoch =  17  the loss is =  0.030789140611886978  and accuracy is =  0.7137878787878787\n",
            "At step  20  and at epoch =  18  the loss is =  0.03129980340600014  and accuracy is =  0.7284848484848485\n",
            "At step  20  and at epoch =  19  the loss is =  0.030348561704158783  and accuracy is =  0.7240909090909091\n",
            "At step  20  and at epoch =  20  the loss is =  0.030380045995116234  and accuracy is =  0.7206060606060606\n",
            "At step  20  and at epoch =  21  the loss is =  0.028786752372980118  and accuracy is =  0.7315151515151516\n",
            "At step  20  and at epoch =  22  the loss is =  0.030009593814611435  and accuracy is =  0.7474242424242424\n",
            "At step  20  and at epoch =  23  the loss is =  0.030859824270009995  and accuracy is =  0.7396969696969697\n",
            "At step  20  and at epoch =  24  the loss is =  0.030526094138622284  and accuracy is =  0.745\n",
            "At step  20  and at epoch =  25  the loss is =  0.026651956140995026  and accuracy is =  0.7465151515151515\n",
            "At step  20  and at epoch =  26  the loss is =  0.031006403267383575  and accuracy is =  0.753030303030303\n",
            "At step  20  and at epoch =  27  the loss is =  0.02989925444126129  and accuracy is =  0.7603030303030303\n",
            "At step  20  and at epoch =  28  the loss is =  0.02981461025774479  and accuracy is =  0.7563636363636363\n",
            "At step  20  and at epoch =  29  the loss is =  0.026898570358753204  and accuracy is =  0.7692424242424243\n",
            "At step  20  and at epoch =  30  the loss is =  0.02589254081249237  and accuracy is =  0.7681818181818182\n",
            "At step  20  and at epoch =  31  the loss is =  0.029529890045523643  and accuracy is =  0.7796969696969697\n",
            "At step  20  and at epoch =  32  the loss is =  0.029942305758595467  and accuracy is =  0.7696969696969697\n",
            "At step  20  and at epoch =  33  the loss is =  0.027824748307466507  and accuracy is =  0.7796969696969697\n",
            "At step  20  and at epoch =  34  the loss is =  0.028586747124791145  and accuracy is =  0.7795454545454545\n",
            "At step  20  and at epoch =  35  the loss is =  0.02889949455857277  and accuracy is =  0.7827272727272727\n",
            "At step  20  and at epoch =  36  the loss is =  0.02707662433385849  and accuracy is =  0.7886363636363637\n",
            "At step  20  and at epoch =  37  the loss is =  0.02756747044622898  and accuracy is =  0.7892424242424242\n",
            "At step  20  and at epoch =  38  the loss is =  0.027280831709504128  and accuracy is =  0.7880303030303031\n",
            "At step  20  and at epoch =  39  the loss is =  0.02628123201429844  and accuracy is =  0.7968181818181819\n",
            "At step  20  and at epoch =  40  the loss is =  0.02720201388001442  and accuracy is =  0.79\n",
            "At step  20  and at epoch =  41  the loss is =  0.02983815036714077  and accuracy is =  0.7983333333333333\n",
            "At step  20  and at epoch =  42  the loss is =  0.02587922103703022  and accuracy is =  0.8065151515151515\n",
            "At step  20  and at epoch =  43  the loss is =  0.027354855090379715  and accuracy is =  0.8009090909090909\n",
            "At step  20  and at epoch =  44  the loss is =  0.028684379532933235  and accuracy is =  0.7995454545454546\n",
            "At step  20  and at epoch =  45  the loss is =  0.02690114825963974  and accuracy is =  0.8037878787878788\n",
            "At step  20  and at epoch =  46  the loss is =  0.027688268572092056  and accuracy is =  0.8124242424242424\n",
            "At step  20  and at epoch =  47  the loss is =  0.024948911741375923  and accuracy is =  0.8098484848484848\n",
            "At step  20  and at epoch =  48  the loss is =  0.03079557977616787  and accuracy is =  0.8127272727272727\n",
            "At step  20  and at epoch =  49  the loss is =  0.023210303857922554  and accuracy is =  0.8474242424242424\n",
            "At step  20  and at epoch =  50  the loss is =  0.022953776642680168  and accuracy is =  0.8640909090909091\n",
            "At step  20  and at epoch =  51  the loss is =  0.024288076907396317  and accuracy is =  0.8589393939393939\n",
            "At step  20  and at epoch =  52  the loss is =  0.02232993207871914  and accuracy is =  0.8707575757575757\n",
            "At step  20  and at epoch =  53  the loss is =  0.02602820284664631  and accuracy is =  0.868030303030303\n",
            "At step  20  and at epoch =  54  the loss is =  0.023337267339229584  and accuracy is =  0.8657575757575757\n",
            "At step  20  and at epoch =  55  the loss is =  0.025034137070178986  and accuracy is =  0.8736363636363637\n",
            "At step  20  and at epoch =  56  the loss is =  0.025860091671347618  and accuracy is =  0.8806060606060606\n",
            "At step  20  and at epoch =  57  the loss is =  0.020859763026237488  and accuracy is =  0.8710606060606061\n",
            "At step  20  and at epoch =  58  the loss is =  0.02334635518491268  and accuracy is =  0.8756060606060606\n",
            "At step  20  and at epoch =  59  the loss is =  0.023280220106244087  and accuracy is =  0.8793939393939394\n",
            "At step  20  and at epoch =  60  the loss is =  0.022818133234977722  and accuracy is =  0.8807575757575757\n",
            "At step  20  and at epoch =  61  the loss is =  0.021737519651651382  and accuracy is =  0.8803030303030303\n",
            "At step  20  and at epoch =  62  the loss is =  0.02120969444513321  and accuracy is =  0.8804545454545455\n",
            "At step  20  and at epoch =  63  the loss is =  0.02190886251628399  and accuracy is =  0.8801515151515151\n",
            "At step  20  and at epoch =  64  the loss is =  0.022324824705719948  and accuracy is =  0.8887878787878788\n",
            "At step  20  and at epoch =  65  the loss is =  0.022415846586227417  and accuracy is =  0.895\n",
            "At step  20  and at epoch =  66  the loss is =  0.024500805884599686  and accuracy is =  0.8884848484848484\n",
            "At step  20  and at epoch =  67  the loss is =  0.023079320788383484  and accuracy is =  0.8868181818181818\n",
            "At step  20  and at epoch =  68  the loss is =  0.02383948117494583  and accuracy is =  0.8881818181818182\n",
            "At step  20  and at epoch =  69  the loss is =  0.02231861650943756  and accuracy is =  0.8862121212121212\n",
            "task: 20 train accuracy = 0.8326\n",
            "task: 20 test accuracy = 0.7156666666666667\n"
          ],
          "name": "stdout"
        },
        {
          "output_type": "display_data",
          "data": {
            "image/png": "[encoded data removed]",
            "text/plain": [
              "<Figure size 432x288 with 2 Axes>"
            ]
          },
          "metadata": {
            "tags": []
          }
        },
        {
          "output_type": "stream",
          "text": [
            "task : 30\n",
            "0.9008373022079468 -1.2368474006652832\n",
            "At step  30  and at epoch =  0  the loss is =  0.04647645726799965  and accuracy is =  0.2633082706766917\n",
            "At step  30  and at epoch =  1  the loss is =  0.044347312301397324  and accuracy is =  0.3395488721804511\n",
            "At step  30  and at epoch =  2  the loss is =  0.042522184550762177  and accuracy is =  0.4195488721804511\n",
            "At step  30  and at epoch =  3  the loss is =  0.042853809893131256  and accuracy is =  0.47037593984962406\n",
            "At step  30  and at epoch =  4  the loss is =  0.042360056191682816  and accuracy is =  0.5069172932330827\n",
            "At step  30  and at epoch =  5  the loss is =  0.040108323097229004  and accuracy is =  0.5300751879699248\n",
            "At step  30  and at epoch =  6  the loss is =  0.04071188345551491  and accuracy is =  0.553233082706767\n",
            "At step  30  and at epoch =  7  the loss is =  0.03968271240592003  and accuracy is =  0.5786466165413534\n",
            "At step  30  and at epoch =  8  the loss is =  0.03950941562652588  and accuracy is =  0.5978947368421053\n",
            "At step  30  and at epoch =  9  the loss is =  0.040049660950899124  and accuracy is =  0.6133834586466166\n",
            "At step  30  and at epoch =  10  the loss is =  0.03934459760785103  and accuracy is =  0.6204511278195489\n",
            "At step  30  and at epoch =  11  the loss is =  0.038709692656993866  and accuracy is =  0.6401503759398496\n",
            "At step  30  and at epoch =  12  the loss is =  0.04113591089844704  and accuracy is =  0.6491729323308271\n",
            "At step  30  and at epoch =  13  the loss is =  0.04026848450303078  and accuracy is =  0.6583458646616541\n",
            "At step  30  and at epoch =  14  the loss is =  0.03992001339793205  and accuracy is =  0.6619548872180451\n",
            "At step  30  and at epoch =  15  the loss is =  0.036419522017240524  and accuracy is =  0.6676691729323309\n",
            "At step  30  and at epoch =  16  the loss is =  0.037718646228313446  and accuracy is =  0.6717293233082707\n",
            "At step  30  and at epoch =  17  the loss is =  0.03948440030217171  and accuracy is =  0.6840601503759398\n",
            "At step  30  and at epoch =  18  the loss is =  0.037740278989076614  and accuracy is =  0.6932330827067669\n",
            "At step  30  and at epoch =  19  the loss is =  0.04037771001458168  and accuracy is =  0.704812030075188\n",
            "At step  30  and at epoch =  20  the loss is =  0.03821105137467384  and accuracy is =  0.7055639097744361\n",
            "At step  30  and at epoch =  21  the loss is =  0.035247333347797394  and accuracy is =  0.7091729323308271\n",
            "At step  30  and at epoch =  22  the loss is =  0.039211589843034744  and accuracy is =  0.7180451127819549\n",
            "At step  30  and at epoch =  23  the loss is =  0.036681562662124634  and accuracy is =  0.7249624060150376\n",
            "At step  30  and at epoch =  24  the loss is =  0.033996645361185074  and accuracy is =  0.7345864661654136\n",
            "At step  30  and at epoch =  25  the loss is =  0.03805786743760109  and accuracy is =  0.729172932330827\n",
            "At step  30  and at epoch =  26  the loss is =  0.038895461708307266  and accuracy is =  0.7353383458646616\n",
            "At step  30  and at epoch =  27  the loss is =  0.0364457443356514  and accuracy is =  0.7278195488721805\n",
            "At step  30  and at epoch =  28  the loss is =  0.035562533885240555  and accuracy is =  0.7476691729323308\n",
            "At step  30  and at epoch =  29  the loss is =  0.03753727301955223  and accuracy is =  0.7470676691729323\n",
            "At step  30  and at epoch =  30  the loss is =  0.03360112011432648  and accuracy is =  0.7434586466165414\n",
            "At step  30  and at epoch =  31  the loss is =  0.035822898149490356  and accuracy is =  0.7553383458646616\n",
            "At step  30  and at epoch =  32  the loss is =  0.036906126886606216  and accuracy is =  0.7544360902255639\n",
            "At step  30  and at epoch =  33  the loss is =  0.03413425013422966  and accuracy is =  0.7559398496240601\n",
            "At step  30  and at epoch =  34  the loss is =  0.03621317446231842  and accuracy is =  0.757593984962406\n",
            "At step  30  and at epoch =  35  the loss is =  0.03471245989203453  and accuracy is =  0.7666165413533834\n",
            "At step  30  and at epoch =  36  the loss is =  0.039231494069099426  and accuracy is =  0.7744360902255639\n",
            "At step  30  and at epoch =  37  the loss is =  0.03671171888709068  and accuracy is =  0.7681203007518796\n",
            "At step  30  and at epoch =  38  the loss is =  0.035750146955251694  and accuracy is =  0.7855639097744361\n",
            "At step  30  and at epoch =  39  the loss is =  0.033220794051885605  and accuracy is =  0.7769924812030076\n",
            "At step  30  and at epoch =  40  the loss is =  0.037243958562612534  and accuracy is =  0.7863157894736842\n",
            "At step  30  and at epoch =  41  the loss is =  0.03714814782142639  and accuracy is =  0.7772932330827068\n",
            "At step  30  and at epoch =  42  the loss is =  0.038508180528879166  and accuracy is =  0.7845112781954887\n",
            "At step  30  and at epoch =  43  the loss is =  0.037726543843746185  and accuracy is =  0.7729323308270677\n",
            "At step  30  and at epoch =  44  the loss is =  0.03686882182955742  and accuracy is =  0.7825563909774436\n",
            "At step  30  and at epoch =  45  the loss is =  0.03830062970519066  and accuracy is =  0.7966917293233082\n",
            "At step  30  and at epoch =  46  the loss is =  0.03822943568229675  and accuracy is =  0.8021052631578948\n",
            "At step  30  and at epoch =  47  the loss is =  0.03770531341433525  and accuracy is =  0.7873684210526316\n",
            "At step  30  and at epoch =  48  the loss is =  0.03528561070561409  and accuracy is =  0.8007518796992481\n",
            "At step  30  and at epoch =  49  the loss is =  0.036521658301353455  and accuracy is =  0.8350375939849624\n",
            "At step  30  and at epoch =  50  the loss is =  0.03028508462011814  and accuracy is =  0.8494736842105263\n",
            "At step  30  and at epoch =  51  the loss is =  0.030447274446487427  and accuracy is =  0.8464661654135338\n",
            "At step  30  and at epoch =  52  the loss is =  0.031889982521533966  and accuracy is =  0.8539849624060151\n",
            "At step  30  and at epoch =  53  the loss is =  0.03067655675113201  and accuracy is =  0.8463157894736842\n",
            "At step  30  and at epoch =  54  the loss is =  0.03277170658111572  and accuracy is =  0.8581954887218045\n",
            "At step  30  and at epoch =  55  the loss is =  0.03212451562285423  and accuracy is =  0.8610526315789474\n",
            "At step  30  and at epoch =  56  the loss is =  0.03161020576953888  and accuracy is =  0.8613533834586466\n",
            "At step  30  and at epoch =  57  the loss is =  0.030903175473213196  and accuracy is =  0.8604511278195489\n",
            "At step  30  and at epoch =  58  the loss is =  0.03081890195608139  and accuracy is =  0.8666165413533835\n",
            "At step  30  and at epoch =  59  the loss is =  0.031493641436100006  and accuracy is =  0.8712781954887218\n",
            "At step  30  and at epoch =  60  the loss is =  0.029426967725157738  and accuracy is =  0.8615037593984962\n",
            "At step  30  and at epoch =  61  the loss is =  0.03190337494015694  and accuracy is =  0.8655639097744361\n",
            "At step  30  and at epoch =  62  the loss is =  0.029957160353660583  and accuracy is =  0.8697744360902255\n",
            "At step  30  and at epoch =  63  the loss is =  0.02882356196641922  and accuracy is =  0.8819548872180452\n",
            "At step  30  and at epoch =  64  the loss is =  0.03242561221122742  and accuracy is =  0.8765413533834586\n",
            "At step  30  and at epoch =  65  the loss is =  0.032616473734378815  and accuracy is =  0.8756390977443609\n",
            "At step  30  and at epoch =  66  the loss is =  0.03139045462012291  and accuracy is =  0.8759398496240601\n",
            "At step  30  and at epoch =  67  the loss is =  0.03206159919500351  and accuracy is =  0.8807518796992482\n",
            "At step  30  and at epoch =  68  the loss is =  0.032424718141555786  and accuracy is =  0.8772932330827068\n",
            "At step  30  and at epoch =  69  the loss is =  0.03032352589070797  and accuracy is =  0.8796992481203008\n",
            "task: 30 train accuracy = 0.7886\n",
            "task: 30 test accuracy = 0.65575\n"
          ],
          "name": "stdout"
        },
        {
          "output_type": "display_data",
          "data": {
            "image/png": "[encoded data removed]",
            "text/plain": [
              "<Figure size 432x288 with 2 Axes>"
            ]
          },
          "metadata": {
            "tags": []
          }
        },
        {
          "output_type": "stream",
          "text": [
            "task : 40\n",
            "0.9398843050003052 -1.6209080219268799\n",
            "At step  40  and at epoch =  0  the loss is =  0.06116306036710739  and accuracy is =  0.24333333333333335\n",
            "At step  40  and at epoch =  1  the loss is =  0.05641864985227585  and accuracy is =  0.31393939393939396\n",
            "At step  40  and at epoch =  2  the loss is =  0.057635899633169174  and accuracy is =  0.36378787878787877\n",
            "At step  40  and at epoch =  3  the loss is =  0.05927671492099762  and accuracy is =  0.40106060606060606\n",
            "At step  40  and at epoch =  4  the loss is =  0.055865947157144547  and accuracy is =  0.435\n",
            "At step  40  and at epoch =  5  the loss is =  0.054185573011636734  and accuracy is =  0.4527272727272727\n",
            "At step  40  and at epoch =  6  the loss is =  0.05567922815680504  and accuracy is =  0.47545454545454546\n",
            "At step  40  and at epoch =  7  the loss is =  0.058229971677064896  and accuracy is =  0.5053030303030303\n",
            "At step  40  and at epoch =  8  the loss is =  0.06055283546447754  and accuracy is =  0.5213636363636364\n",
            "At step  40  and at epoch =  9  the loss is =  0.05354596674442291  and accuracy is =  0.5389393939393939\n",
            "At step  40  and at epoch =  10  the loss is =  0.050637610256671906  and accuracy is =  0.5583333333333333\n",
            "At step  40  and at epoch =  11  the loss is =  0.0518987812101841  and accuracy is =  0.5703030303030303\n",
            "At step  40  and at epoch =  12  the loss is =  0.05653159320354462  and accuracy is =  0.5822727272727273\n",
            "At step  40  and at epoch =  13  the loss is =  0.05220205709338188  and accuracy is =  0.5968181818181818\n",
            "At step  40  and at epoch =  14  the loss is =  0.04963368922472  and accuracy is =  0.6104545454545455\n",
            "At step  40  and at epoch =  15  the loss is =  0.05296538770198822  and accuracy is =  0.6248484848484849\n",
            "At step  40  and at epoch =  16  the loss is =  0.05416218191385269  and accuracy is =  0.6275757575757576\n",
            "At step  40  and at epoch =  17  the loss is =  0.05096752569079399  and accuracy is =  0.6415151515151515\n",
            "At step  40  and at epoch =  18  the loss is =  0.05559619888663292  and accuracy is =  0.6445454545454545\n",
            "At step  40  and at epoch =  19  the loss is =  0.047291163355112076  and accuracy is =  0.6468181818181818\n",
            "At step  40  and at epoch =  20  the loss is =  0.05484413355588913  and accuracy is =  0.6574242424242425\n",
            "At step  40  and at epoch =  21  the loss is =  0.046633582562208176  and accuracy is =  0.656969696969697\n",
            "At step  40  and at epoch =  22  the loss is =  0.05613342300057411  and accuracy is =  0.6728787878787879\n",
            "At step  40  and at epoch =  23  the loss is =  0.05406101047992706  and accuracy is =  0.6707575757575758\n",
            "At step  40  and at epoch =  24  the loss is =  0.054221492260694504  and accuracy is =  0.696060606060606\n",
            "At step  40  and at epoch =  25  the loss is =  0.05141763761639595  and accuracy is =  0.69\n",
            "At step  40  and at epoch =  26  the loss is =  0.0541587769985199  and accuracy is =  0.6974242424242424\n",
            "At step  40  and at epoch =  27  the loss is =  0.048967693001031876  and accuracy is =  0.7065151515151515\n",
            "At step  40  and at epoch =  28  the loss is =  0.049152929335832596  and accuracy is =  0.7003030303030303\n",
            "At step  40  and at epoch =  29  the loss is =  0.04952386021614075  and accuracy is =  0.7048484848484848\n",
            "At step  40  and at epoch =  30  the loss is =  0.051685865968465805  and accuracy is =  0.7175757575757575\n",
            "At step  40  and at epoch =  31  the loss is =  0.05008094757795334  and accuracy is =  0.7236363636363636\n",
            "At step  40  and at epoch =  32  the loss is =  0.04938024282455444  and accuracy is =  0.7187878787878788\n",
            "At step  40  and at epoch =  33  the loss is =  0.05362968519330025  and accuracy is =  0.7172727272727273\n",
            "At step  40  and at epoch =  34  the loss is =  0.04982708394527435  and accuracy is =  0.7228787878787879\n",
            "At step  40  and at epoch =  35  the loss is =  0.04448055848479271  and accuracy is =  0.7295454545454545\n",
            "At step  40  and at epoch =  36  the loss is =  0.04864741116762161  and accuracy is =  0.7353030303030303\n",
            "At step  40  and at epoch =  37  the loss is =  0.052760712802410126  and accuracy is =  0.7348484848484849\n",
            "At step  40  and at epoch =  38  the loss is =  0.053402677178382874  and accuracy is =  0.7477272727272727\n",
            "At step  40  and at epoch =  39  the loss is =  0.053247883915901184  and accuracy is =  0.7636363636363637\n",
            "At step  40  and at epoch =  40  the loss is =  0.05055557191371918  and accuracy is =  0.7537878787878788\n",
            "At step  40  and at epoch =  41  the loss is =  0.046909868717193604  and accuracy is =  0.7460606060606061\n",
            "At step  40  and at epoch =  42  the loss is =  0.05006779357790947  and accuracy is =  0.7562121212121212\n",
            "At step  40  and at epoch =  43  the loss is =  0.04990500584244728  and accuracy is =  0.7568181818181818\n",
            "At step  40  and at epoch =  44  the loss is =  0.05031547695398331  and accuracy is =  0.7637878787878788\n",
            "At step  40  and at epoch =  45  the loss is =  0.052598390728235245  and accuracy is =  0.7557575757575757\n",
            "At step  40  and at epoch =  46  the loss is =  0.05515776202082634  and accuracy is =  0.7504545454545455\n",
            "At step  40  and at epoch =  47  the loss is =  0.04856226593255997  and accuracy is =  0.7510606060606061\n",
            "At step  40  and at epoch =  48  the loss is =  0.049040038138628006  and accuracy is =  0.7548484848484849\n",
            "At step  40  and at epoch =  49  the loss is =  0.04351533204317093  and accuracy is =  0.8104545454545454\n",
            "At step  40  and at epoch =  50  the loss is =  0.044201239943504333  and accuracy is =  0.828030303030303\n",
            "At step  40  and at epoch =  51  the loss is =  0.04584357514977455  and accuracy is =  0.8383333333333334\n",
            "At step  40  and at epoch =  52  the loss is =  0.04450688883662224  and accuracy is =  0.8418181818181818\n",
            "At step  40  and at epoch =  53  the loss is =  0.043147262185811996  and accuracy is =  0.8478787878787879\n",
            "At step  40  and at epoch =  54  the loss is =  0.04201039671897888  and accuracy is =  0.8501515151515151\n",
            "At step  40  and at epoch =  55  the loss is =  0.043985918164253235  and accuracy is =  0.8484848484848485\n",
            "At step  40  and at epoch =  56  the loss is =  0.04268307983875275  and accuracy is =  0.8486363636363636\n",
            "At step  40  and at epoch =  57  the loss is =  0.045413997024297714  and accuracy is =  0.8463636363636363\n",
            "At step  40  and at epoch =  58  the loss is =  0.04180990532040596  and accuracy is =  0.8504545454545455\n",
            "At step  40  and at epoch =  59  the loss is =  0.04439907521009445  and accuracy is =  0.8586363636363636\n",
            "At step  40  and at epoch =  60  the loss is =  0.04067923501133919  and accuracy is =  0.8560606060606061\n",
            "At step  40  and at epoch =  61  the loss is =  0.039219990372657776  and accuracy is =  0.8603030303030303\n",
            "At step  40  and at epoch =  62  the loss is =  0.04290076345205307  and accuracy is =  0.8584848484848485\n",
            "At step  40  and at epoch =  63  the loss is =  0.044321056455373764  and accuracy is =  0.8628787878787879\n",
            "At step  40  and at epoch =  64  the loss is =  0.04015339910984039  and accuracy is =  0.8619696969696969\n",
            "At step  40  and at epoch =  65  the loss is =  0.04014883190393448  and accuracy is =  0.8621212121212121\n",
            "At step  40  and at epoch =  66  the loss is =  0.04413723200559616  and accuracy is =  0.8656060606060606\n",
            "At step  40  and at epoch =  67  the loss is =  0.04222315549850464  and accuracy is =  0.8656060606060606\n",
            "At step  40  and at epoch =  68  the loss is =  0.04362957552075386  and accuracy is =  0.8622727272727273\n",
            "At step  40  and at epoch =  69  the loss is =  0.04044240340590477  and accuracy is =  0.8672727272727273\n",
            "task: 40 train accuracy = 0.7626\n",
            "task: 40 test accuracy = 0.6014\n"
          ],
          "name": "stdout"
        },
        {
          "output_type": "display_data",
          "data": {
            "image/png": "[encoded data removed]",
            "text/plain": [
              "<Figure size 432x288 with 2 Axes>"
            ]
          },
          "metadata": {
            "tags": []
          }
        },
        {
          "output_type": "stream",
          "text": [
            "task : 50\n",
            "0.807746410369873 -2.0544979572296143\n",
            "At step  50  and at epoch =  0  the loss is =  0.06527257710695267  and accuracy is =  0.2353030303030303\n",
            "At step  50  and at epoch =  1  the loss is =  0.07132894545793533  and accuracy is =  0.3184848484848485\n",
            "At step  50  and at epoch =  2  the loss is =  0.060114841908216476  and accuracy is =  0.38621212121212123\n",
            "At step  50  and at epoch =  3  the loss is =  0.06352844834327698  and accuracy is =  0.425\n",
            "At step  50  and at epoch =  4  the loss is =  0.06410476565361023  and accuracy is =  0.4574242424242424\n",
            "At step  50  and at epoch =  5  the loss is =  0.059670548886060715  and accuracy is =  0.4962121212121212\n",
            "At step  50  and at epoch =  6  the loss is =  0.06594976782798767  and accuracy is =  0.5095454545454545\n",
            "At step  50  and at epoch =  7  the loss is =  0.06799537688493729  and accuracy is =  0.5380303030303031\n",
            "At step  50  and at epoch =  8  the loss is =  0.06719205528497696  and accuracy is =  0.548030303030303\n",
            "At step  50  and at epoch =  9  the loss is =  0.06529819965362549  and accuracy is =  0.5651515151515152\n",
            "At step  50  and at epoch =  10  the loss is =  0.06719594448804855  and accuracy is =  0.5818181818181818\n",
            "At step  50  and at epoch =  11  the loss is =  0.06687349826097488  and accuracy is =  0.5942424242424242\n",
            "At step  50  and at epoch =  12  the loss is =  0.06254816055297852  and accuracy is =  0.6045454545454545\n",
            "At step  50  and at epoch =  13  the loss is =  0.06328833848237991  and accuracy is =  0.6165151515151515\n",
            "At step  50  and at epoch =  14  the loss is =  0.06263160705566406  and accuracy is =  0.6286363636363637\n",
            "At step  50  and at epoch =  15  the loss is =  0.06155527010560036  and accuracy is =  0.641969696969697\n",
            "At step  50  and at epoch =  16  the loss is =  0.06079011783003807  and accuracy is =  0.6477272727272727\n",
            "At step  50  and at epoch =  17  the loss is =  0.060514647513628006  and accuracy is =  0.6528787878787878\n",
            "At step  50  and at epoch =  18  the loss is =  0.06365028023719788  and accuracy is =  0.6671212121212121\n",
            "At step  50  and at epoch =  19  the loss is =  0.05772768706083298  and accuracy is =  0.668939393939394\n",
            "At step  50  and at epoch =  20  the loss is =  0.0637698695063591  and accuracy is =  0.6692424242424242\n",
            "At step  50  and at epoch =  21  the loss is =  0.06540597975254059  and accuracy is =  0.6796969696969697\n",
            "At step  50  and at epoch =  22  the loss is =  0.062453191727399826  and accuracy is =  0.688030303030303\n",
            "At step  50  and at epoch =  23  the loss is =  0.06777836382389069  and accuracy is =  0.6806060606060607\n",
            "At step  50  and at epoch =  24  the loss is =  0.05839007347822189  and accuracy is =  0.6983333333333334\n",
            "At step  50  and at epoch =  25  the loss is =  0.05754821375012398  and accuracy is =  0.6998484848484848\n",
            "At step  50  and at epoch =  26  the loss is =  0.060290612280368805  and accuracy is =  0.71\n",
            "At step  50  and at epoch =  27  the loss is =  0.05994162708520889  and accuracy is =  0.7115151515151515\n",
            "At step  50  and at epoch =  28  the loss is =  0.06514058262109756  and accuracy is =  0.7098484848484848\n",
            "At step  50  and at epoch =  29  the loss is =  0.06125761568546295  and accuracy is =  0.7140909090909091\n",
            "At step  50  and at epoch =  30  the loss is =  0.058737192302942276  and accuracy is =  0.7227272727272728\n",
            "At step  50  and at epoch =  31  the loss is =  0.06163864582777023  and accuracy is =  0.7237878787878788\n",
            "At step  50  and at epoch =  32  the loss is =  0.06126369163393974  and accuracy is =  0.718939393939394\n",
            "At step  50  and at epoch =  33  the loss is =  0.0586247518658638  and accuracy is =  0.7254545454545455\n",
            "At step  50  and at epoch =  34  the loss is =  0.0593130923807621  and accuracy is =  0.7384848484848485\n",
            "At step  50  and at epoch =  35  the loss is =  0.06503251194953918  and accuracy is =  0.7333333333333333\n",
            "At step  50  and at epoch =  36  the loss is =  0.05943801999092102  and accuracy is =  0.7456060606060606\n",
            "At step  50  and at epoch =  37  the loss is =  0.06087901070713997  and accuracy is =  0.7536363636363637\n",
            "At step  50  and at epoch =  38  the loss is =  0.06187382712960243  and accuracy is =  0.7528787878787879\n",
            "At step  50  and at epoch =  39  the loss is =  0.05905543267726898  and accuracy is =  0.7445454545454545\n",
            "At step  50  and at epoch =  40  the loss is =  0.05565518140792847  and accuracy is =  0.7415151515151515\n",
            "At step  50  and at epoch =  41  the loss is =  0.0577717088162899  and accuracy is =  0.7515151515151515\n",
            "At step  50  and at epoch =  42  the loss is =  0.06166515871882439  and accuracy is =  0.7495454545454545\n",
            "At step  50  and at epoch =  43  the loss is =  0.0602126270532608  and accuracy is =  0.7636363636363637\n",
            "At step  50  and at epoch =  44  the loss is =  0.059394385665655136  and accuracy is =  0.7562121212121212\n",
            "At step  50  and at epoch =  45  the loss is =  0.060698844492435455  and accuracy is =  0.7581818181818182\n",
            "At step  50  and at epoch =  46  the loss is =  0.0561397485435009  and accuracy is =  0.7612121212121212\n",
            "At step  50  and at epoch =  47  the loss is =  0.05888275429606438  and accuracy is =  0.7616666666666667\n",
            "At step  50  and at epoch =  48  the loss is =  0.05526022985577583  and accuracy is =  0.7630303030303031\n",
            "At step  50  and at epoch =  49  the loss is =  0.05936233699321747  and accuracy is =  0.8113636363636364\n",
            "At step  50  and at epoch =  50  the loss is =  0.056664880365133286  and accuracy is =  0.8259090909090909\n",
            "At step  50  and at epoch =  51  the loss is =  0.059621457010507584  and accuracy is =  0.8246969696969697\n",
            "At step  50  and at epoch =  52  the loss is =  0.05743381381034851  and accuracy is =  0.835\n",
            "At step  50  and at epoch =  53  the loss is =  0.05536403879523277  and accuracy is =  0.8433333333333334\n",
            "At step  50  and at epoch =  54  the loss is =  0.05577138811349869  and accuracy is =  0.8433333333333334\n",
            "At step  50  and at epoch =  55  the loss is =  0.051155075430870056  and accuracy is =  0.8428787878787879\n",
            "At step  50  and at epoch =  56  the loss is =  0.05218617990612984  and accuracy is =  0.8474242424242424\n",
            "At step  50  and at epoch =  57  the loss is =  0.053188350051641464  and accuracy is =  0.8477272727272728\n",
            "At step  50  and at epoch =  58  the loss is =  0.052668869495391846  and accuracy is =  0.8471212121212122\n",
            "At step  50  and at epoch =  59  the loss is =  0.05439291521906853  and accuracy is =  0.8460606060606061\n",
            "At step  50  and at epoch =  60  the loss is =  0.054736800491809845  and accuracy is =  0.8524242424242424\n",
            "At step  50  and at epoch =  61  the loss is =  0.056870315223932266  and accuracy is =  0.8469696969696969\n",
            "At step  50  and at epoch =  62  the loss is =  0.053964827209711075  and accuracy is =  0.8427272727272728\n",
            "At step  50  and at epoch =  63  the loss is =  0.05385991558432579  and accuracy is =  0.8553030303030303\n",
            "At step  50  and at epoch =  64  the loss is =  0.0548517145216465  and accuracy is =  0.8627272727272727\n",
            "At step  50  and at epoch =  65  the loss is =  0.053562652319669724  and accuracy is =  0.8628787878787879\n",
            "At step  50  and at epoch =  66  the loss is =  0.05197691544890404  and accuracy is =  0.8612121212121212\n",
            "At step  50  and at epoch =  67  the loss is =  0.05018671974539757  and accuracy is =  0.8616666666666667\n",
            "At step  50  and at epoch =  68  the loss is =  0.05841165408492088  and accuracy is =  0.8587878787878788\n",
            "At step  50  and at epoch =  69  the loss is =  0.05331883952021599  and accuracy is =  0.8518181818181818\n",
            "task: 50 train accuracy = 0.6318\n",
            "task: 50 test accuracy = 0.5355\n"
          ],
          "name": "stdout"
        },
        {
          "output_type": "display_data",
          "data": {
            "image/png": "[encoded data removed]",
            "text/plain": [
              "<Figure size 432x288 with 2 Axes>"
            ]
          },
          "metadata": {
            "tags": []
          }
        },
        {
          "output_type": "stream",
          "text": [
            "task : 60\n",
            "0.9132992625236511 -2.38911509513855\n",
            "At step  60  and at epoch =  0  the loss is =  0.07331742346286774  and accuracy is =  0.21540785498489426\n",
            "At step  60  and at epoch =  1  the loss is =  0.0700250193476677  and accuracy is =  0.29063444108761327\n",
            "At step  60  and at epoch =  2  the loss is =  0.07676052302122116  and accuracy is =  0.341238670694864\n",
            "At step  60  and at epoch =  3  the loss is =  0.07347710430622101  and accuracy is =  0.38836858006042296\n",
            "At step  60  and at epoch =  4  the loss is =  0.07785499840974808  and accuracy is =  0.40574018126888217\n",
            "At step  60  and at epoch =  5  the loss is =  0.07610246539115906  and accuracy is =  0.4216012084592145\n",
            "At step  60  and at epoch =  6  the loss is =  0.06813302636146545  and accuracy is =  0.4397280966767372\n",
            "At step  60  and at epoch =  7  the loss is =  0.07621514797210693  and accuracy is =  0.46963746223564956\n",
            "At step  60  and at epoch =  8  the loss is =  0.07472643256187439  and accuracy is =  0.479607250755287\n",
            "At step  60  and at epoch =  9  the loss is =  0.07387766987085342  and accuracy is =  0.5040785498489426\n",
            "At step  60  and at epoch =  10  the loss is =  0.0707353726029396  and accuracy is =  0.5095166163141994\n",
            "At step  60  and at epoch =  11  the loss is =  0.07167495787143707  and accuracy is =  0.5235649546827794\n",
            "At step  60  and at epoch =  12  the loss is =  0.07190295308828354  and accuracy is =  0.5330815709969788\n",
            "At step  60  and at epoch =  13  the loss is =  0.07580496370792389  and accuracy is =  0.5427492447129909\n",
            "At step  60  and at epoch =  14  the loss is =  0.06683305650949478  and accuracy is =  0.5493957703927492\n",
            "At step  60  and at epoch =  15  the loss is =  0.06973553448915482  and accuracy is =  0.5681268882175227\n",
            "At step  60  and at epoch =  16  the loss is =  0.06902270764112473  and accuracy is =  0.565558912386707\n",
            "At step  60  and at epoch =  17  the loss is =  0.07298500835895538  and accuracy is =  0.5809667673716012\n",
            "At step  60  and at epoch =  18  the loss is =  0.06928569078445435  and accuracy is =  0.5821752265861028\n",
            "At step  60  and at epoch =  19  the loss is =  0.0688585489988327  and accuracy is =  0.5929003021148036\n",
            "At step  60  and at epoch =  20  the loss is =  0.07087251543998718  and accuracy is =  0.5975830815709969\n",
            "At step  60  and at epoch =  21  the loss is =  0.06906645745038986  and accuracy is =  0.6031722054380665\n",
            "At step  60  and at epoch =  22  the loss is =  0.06636139005422592  and accuracy is =  0.6205438066465256\n",
            "At step  60  and at epoch =  23  the loss is =  0.06752476096153259  and accuracy is =  0.6095166163141994\n",
            "At step  60  and at epoch =  24  the loss is =  0.072313092648983  and accuracy is =  0.620392749244713\n",
            "At step  60  and at epoch =  25  the loss is =  0.06911686062812805  and accuracy is =  0.6258308157099698\n",
            "At step  60  and at epoch =  26  the loss is =  0.07446356117725372  and accuracy is =  0.6344410876132931\n",
            "At step  60  and at epoch =  27  the loss is =  0.06758394837379456  and accuracy is =  0.6324773413897281\n",
            "At step  60  and at epoch =  28  the loss is =  0.06741902232170105  and accuracy is =  0.6362537764350453\n",
            "At step  60  and at epoch =  29  the loss is =  0.07642330974340439  and accuracy is =  0.6377643504531723\n",
            "At step  60  and at epoch =  30  the loss is =  0.07377713918685913  and accuracy is =  0.6515105740181268\n",
            "At step  60  and at epoch =  31  the loss is =  0.07096490263938904  and accuracy is =  0.6483383685800604\n",
            "At step  60  and at epoch =  32  the loss is =  0.07113533467054367  and accuracy is =  0.666012084592145\n",
            "At step  60  and at epoch =  33  the loss is =  0.0686025470495224  and accuracy is =  0.6667673716012085\n",
            "At step  60  and at epoch =  34  the loss is =  0.06643038988113403  and accuracy is =  0.6817220543806647\n",
            "At step  60  and at epoch =  35  the loss is =  0.06867064535617828  and accuracy is =  0.6759818731117825\n",
            "At step  60  and at epoch =  36  the loss is =  0.0685703381896019  and accuracy is =  0.6768882175226586\n",
            "At step  60  and at epoch =  37  the loss is =  0.0717640072107315  and accuracy is =  0.6885196374622357\n",
            "At step  60  and at epoch =  38  the loss is =  0.07264461368322372  and accuracy is =  0.6759818731117825\n",
            "At step  60  and at epoch =  39  the loss is =  0.0630287379026413  and accuracy is =  0.6874622356495468\n",
            "At step  60  and at epoch =  40  the loss is =  0.06914617121219635  and accuracy is =  0.6889728096676737\n",
            "At step  60  and at epoch =  41  the loss is =  0.06801190227270126  and accuracy is =  0.6910876132930514\n",
            "At step  60  and at epoch =  42  the loss is =  0.06857173889875412  and accuracy is =  0.6954682779456194\n",
            "At step  60  and at epoch =  43  the loss is =  0.07096800208091736  and accuracy is =  0.6927492447129909\n",
            "At step  60  and at epoch =  44  the loss is =  0.06706004589796066  and accuracy is =  0.6984894259818731\n",
            "At step  60  and at epoch =  45  the loss is =  0.07113521546125412  and accuracy is =  0.695619335347432\n",
            "At step  60  and at epoch =  46  the loss is =  0.07088889926671982  and accuracy is =  0.6989425981873112\n",
            "At step  60  and at epoch =  47  the loss is =  0.06616029143333435  and accuracy is =  0.7042296072507553\n",
            "At step  60  and at epoch =  48  the loss is =  0.07060748338699341  and accuracy is =  0.7134441087613294\n",
            "At step  60  and at epoch =  49  the loss is =  0.063748799264431  and accuracy is =  0.7525679758308157\n",
            "At step  60  and at epoch =  50  the loss is =  0.0578424409031868  and accuracy is =  0.7734138972809668\n",
            "At step  60  and at epoch =  51  the loss is =  0.06547138839960098  and accuracy is =  0.7740181268882175\n",
            "At step  60  and at epoch =  52  the loss is =  0.0599227249622345  and accuracy is =  0.783987915407855\n",
            "At step  60  and at epoch =  53  the loss is =  0.06352692097425461  and accuracy is =  0.7829305135951662\n",
            "At step  60  and at epoch =  54  the loss is =  0.0631786659359932  and accuracy is =  0.7894259818731117\n",
            "At step  60  and at epoch =  55  the loss is =  0.06239922717213631  and accuracy is =  0.7960725075528701\n",
            "At step  60  and at epoch =  56  the loss is =  0.05908239260315895  and accuracy is =  0.793655589123867\n",
            "At step  60  and at epoch =  57  the loss is =  0.061176810413599014  and accuracy is =  0.8015105740181269\n",
            "At step  60  and at epoch =  58  the loss is =  0.06383322179317474  and accuracy is =  0.8045317220543806\n",
            "At step  60  and at epoch =  59  the loss is =  0.06438906490802765  and accuracy is =  0.8074018126888217\n",
            "At step  60  and at epoch =  60  the loss is =  0.0632350742816925  and accuracy is =  0.8010574018126888\n",
            "At step  60  and at epoch =  61  the loss is =  0.05738891661167145  and accuracy is =  0.806797583081571\n",
            "At step  60  and at epoch =  62  the loss is =  0.06618247926235199  and accuracy is =  0.8074018126888217\n",
            "At step  60  and at epoch =  63  the loss is =  0.06374712288379669  and accuracy is =  0.8101208459214502\n",
            "At step  60  and at epoch =  64  the loss is =  0.06257017701864243  and accuracy is =  0.8176737160120846\n",
            "At step  60  and at epoch =  65  the loss is =  0.06092562526464462  and accuracy is =  0.8202416918429003\n",
            "At step  60  and at epoch =  66  the loss is =  0.0692012757062912  and accuracy is =  0.8114803625377643\n",
            "At step  60  and at epoch =  67  the loss is =  0.06478176265954971  and accuracy is =  0.8217522658610272\n",
            "At step  60  and at epoch =  68  the loss is =  0.0614892840385437  and accuracy is =  0.8191842900302114\n",
            "At step  60  and at epoch =  69  the loss is =  0.06201154738664627  and accuracy is =  0.8185800604229607\n",
            "task: 60 train accuracy = 0.5694\n",
            "task: 60 test accuracy = 0.492\n"
          ],
          "name": "stdout"
        },
        {
          "output_type": "display_data",
          "data": {
            "image/png": "[encoded data removed]",
            "text/plain": [
              "<Figure size 432x288 with 2 Axes>"
            ]
          },
          "metadata": {
            "tags": []
          }
        },
        {
          "output_type": "stream",
          "text": [
            "task : 70\n",
            "0.969667911529541 -2.7819314002990723\n",
            "At step  70  and at epoch =  0  the loss is =  0.08468689769506454  and accuracy is =  0.23377777777777778\n",
            "At step  70  and at epoch =  1  the loss is =  0.08410261571407318  and accuracy is =  0.358962962962963\n",
            "At step  70  and at epoch =  2  the loss is =  0.08048982173204422  and accuracy is =  0.4194074074074074\n",
            "At step  70  and at epoch =  3  the loss is =  0.07839474827051163  and accuracy is =  0.4677037037037037\n",
            "At step  70  and at epoch =  4  the loss is =  0.08069466799497604  and accuracy is =  0.5045925925925926\n",
            "At step  70  and at epoch =  5  the loss is =  0.08672565966844559  and accuracy is =  0.5272592592592592\n",
            "At step  70  and at epoch =  6  the loss is =  0.08519527316093445  and accuracy is =  0.5411851851851852\n",
            "At step  70  and at epoch =  7  the loss is =  0.08066666126251221  and accuracy is =  0.5657777777777778\n",
            "At step  70  and at epoch =  8  the loss is =  0.0899687334895134  and accuracy is =  0.5847407407407408\n",
            "At step  70  and at epoch =  9  the loss is =  0.08084053546190262  and accuracy is =  0.5942222222222222\n",
            "At step  70  and at epoch =  10  the loss is =  0.08028186112642288  and accuracy is =  0.6094814814814815\n",
            "At step  70  and at epoch =  11  the loss is =  0.0753135234117508  and accuracy is =  0.6238518518518519\n",
            "At step  70  and at epoch =  12  the loss is =  0.08108672499656677  and accuracy is =  0.6312592592592593\n",
            "At step  70  and at epoch =  13  the loss is =  0.08163163810968399  and accuracy is =  0.6457777777777778\n",
            "At step  70  and at epoch =  14  the loss is =  0.08601203560829163  and accuracy is =  0.6552592592592592\n",
            "At step  70  and at epoch =  15  the loss is =  0.0802978128194809  and accuracy is =  0.6748148148148149\n",
            "At step  70  and at epoch =  16  the loss is =  0.0788339152932167  and accuracy is =  0.6672592592592592\n",
            "At step  70  and at epoch =  17  the loss is =  0.0744442418217659  and accuracy is =  0.670962962962963\n",
            "At step  70  and at epoch =  18  the loss is =  0.08555033057928085  and accuracy is =  0.6854814814814815\n",
            "At step  70  and at epoch =  19  the loss is =  0.07599816471338272  and accuracy is =  0.6945185185185185\n",
            "At step  70  and at epoch =  20  the loss is =  0.0846826434135437  and accuracy is =  0.6958518518518518\n",
            "At step  70  and at epoch =  21  the loss is =  0.08136758953332901  and accuracy is =  0.6948148148148148\n",
            "At step  70  and at epoch =  22  the loss is =  0.07877831906080246  and accuracy is =  0.7037037037037037\n",
            "At step  70  and at epoch =  23  the loss is =  0.07967569679021835  and accuracy is =  0.7048888888888889\n",
            "At step  70  and at epoch =  24  the loss is =  0.08020462095737457  and accuracy is =  0.7026666666666667\n",
            "At step  70  and at epoch =  25  the loss is =  0.07667361199855804  and accuracy is =  0.7174814814814815\n",
            "At step  70  and at epoch =  26  the loss is =  0.08156825602054596  and accuracy is =  0.7201481481481481\n",
            "At step  70  and at epoch =  27  the loss is =  0.07900092750787735  and accuracy is =  0.7189629629629629\n",
            "At step  70  and at epoch =  28  the loss is =  0.07826163619756699  and accuracy is =  0.7281481481481481\n",
            "At step  70  and at epoch =  29  the loss is =  0.08116254210472107  and accuracy is =  0.7281481481481481\n",
            "At step  70  and at epoch =  30  the loss is =  0.07670824229717255  and accuracy is =  0.7167407407407408\n",
            "At step  70  and at epoch =  31  the loss is =  0.07744727283716202  and accuracy is =  0.7303703703703703\n",
            "At step  70  and at epoch =  32  the loss is =  0.07767130434513092  and accuracy is =  0.7380740740740741\n",
            "At step  70  and at epoch =  33  the loss is =  0.07801013439893723  and accuracy is =  0.7352592592592593\n",
            "At step  70  and at epoch =  34  the loss is =  0.07919960469007492  and accuracy is =  0.7357037037037037\n",
            "At step  70  and at epoch =  35  the loss is =  0.07881395518779755  and accuracy is =  0.7487407407407407\n",
            "At step  70  and at epoch =  36  the loss is =  0.07860065996646881  and accuracy is =  0.7487407407407407\n",
            "At step  70  and at epoch =  37  the loss is =  0.07827156037092209  and accuracy is =  0.7314074074074074\n",
            "At step  70  and at epoch =  38  the loss is =  0.07757139950990677  and accuracy is =  0.7419259259259259\n",
            "At step  70  and at epoch =  39  the loss is =  0.08232123404741287  and accuracy is =  0.7429629629629629\n",
            "At step  70  and at epoch =  40  the loss is =  0.07870356738567352  and accuracy is =  0.7518518518518519\n",
            "At step  70  and at epoch =  41  the loss is =  0.07681410759687424  and accuracy is =  0.7622222222222222\n",
            "At step  70  and at epoch =  42  the loss is =  0.08246001601219177  and accuracy is =  0.7512592592592593\n",
            "At step  70  and at epoch =  43  the loss is =  0.08590836822986603  and accuracy is =  0.7591111111111111\n",
            "At step  70  and at epoch =  44  the loss is =  0.08616280555725098  and accuracy is =  0.7564444444444445\n",
            "At step  70  and at epoch =  45  the loss is =  0.0806952565908432  and accuracy is =  0.758962962962963\n",
            "At step  70  and at epoch =  46  the loss is =  0.08536384254693985  and accuracy is =  0.7610370370370371\n",
            "At step  70  and at epoch =  47  the loss is =  0.07497546076774597  and accuracy is =  0.7579259259259259\n",
            "At step  70  and at epoch =  48  the loss is =  0.08386333286762238  and accuracy is =  0.7631111111111111\n",
            "At step  70  and at epoch =  49  the loss is =  0.07768268138170242  and accuracy is =  0.8032592592592592\n",
            "At step  70  and at epoch =  50  the loss is =  0.07400897890329361  and accuracy is =  0.8133333333333334\n",
            "At step  70  and at epoch =  51  the loss is =  0.07556905597448349  and accuracy is =  0.8225185185185185\n",
            "At step  70  and at epoch =  52  the loss is =  0.07078533619642258  and accuracy is =  0.8260740740740741\n",
            "At step  70  and at epoch =  53  the loss is =  0.07227059453725815  and accuracy is =  0.821037037037037\n",
            "At step  70  and at epoch =  54  the loss is =  0.07868789881467819  and accuracy is =  0.8302222222222222\n",
            "At step  70  and at epoch =  55  the loss is =  0.07776416093111038  and accuracy is =  0.8355555555555556\n",
            "At step  70  and at epoch =  56  the loss is =  0.07615497708320618  and accuracy is =  0.829925925925926\n",
            "At step  70  and at epoch =  57  the loss is =  0.0727648213505745  and accuracy is =  0.8288888888888889\n",
            "At step  70  and at epoch =  58  the loss is =  0.07181690633296967  and accuracy is =  0.830962962962963\n",
            "At step  70  and at epoch =  59  the loss is =  0.07277023792266846  and accuracy is =  0.8284444444444444\n",
            "At step  70  and at epoch =  60  the loss is =  0.06994091719388962  and accuracy is =  0.8297777777777777\n",
            "At step  70  and at epoch =  61  the loss is =  0.07531926780939102  and accuracy is =  0.8355555555555556\n",
            "At step  70  and at epoch =  62  the loss is =  0.07092278450727463  and accuracy is =  0.8389629629629629\n",
            "At step  70  and at epoch =  63  the loss is =  0.07616231590509415  and accuracy is =  0.8362962962962963\n",
            "At step  70  and at epoch =  64  the loss is =  0.07268939912319183  and accuracy is =  0.8413333333333334\n",
            "At step  70  and at epoch =  65  the loss is =  0.07347346097230911  and accuracy is =  0.8386666666666667\n",
            "At step  70  and at epoch =  66  the loss is =  0.07391652464866638  and accuracy is =  0.8408888888888889\n",
            "At step  70  and at epoch =  67  the loss is =  0.07320022583007812  and accuracy is =  0.8397037037037037\n",
            "At step  70  and at epoch =  68  the loss is =  0.07357767224311829  and accuracy is =  0.8429629629629629\n",
            "At step  70  and at epoch =  69  the loss is =  0.07177995145320892  and accuracy is =  0.8413333333333334\n",
            "task: 70 train accuracy = 0.6596\n",
            "task: 70 test accuracy = 0.464\n"
          ],
          "name": "stdout"
        },
        {
          "output_type": "display_data",
          "data": {
            "image/png": "[encoded data removed]",
            "text/plain": [
              "<Figure size 432x288 with 2 Axes>"
            ]
          },
          "metadata": {
            "tags": []
          }
        },
        {
          "output_type": "stream",
          "text": [
            "task : 80\n",
            "0.9989548325538635 -3.229522466659546\n",
            "At step  80  and at epoch =  0  the loss is =  0.10688682645559311  and accuracy is =  0.22724550898203594\n",
            "At step  80  and at epoch =  1  the loss is =  0.10587386041879654  and accuracy is =  0.33338323353293414\n",
            "At step  80  and at epoch =  2  the loss is =  0.10554959625005722  and accuracy is =  0.37694610778443116\n",
            "At step  80  and at epoch =  3  the loss is =  0.0916074737906456  and accuracy is =  0.4205089820359281\n",
            "At step  80  and at epoch =  4  the loss is =  0.10970131307840347  and accuracy is =  0.4534431137724551\n",
            "At step  80  and at epoch =  5  the loss is =  0.10657721757888794  and accuracy is =  0.475748502994012\n",
            "At step  80  and at epoch =  6  the loss is =  0.09409713745117188  and accuracy is =  0.4991017964071856\n",
            "At step  80  and at epoch =  7  the loss is =  0.1010652706027031  and accuracy is =  0.5112275449101796\n",
            "At step  80  and at epoch =  8  the loss is =  0.08863750845193863  and accuracy is =  0.5261976047904192\n",
            "At step  80  and at epoch =  9  the loss is =  0.09224267303943634  and accuracy is =  0.5491017964071856\n",
            "At step  80  and at epoch =  10  the loss is =  0.1153954342007637  and accuracy is =  0.5510479041916168\n",
            "At step  80  and at epoch =  11  the loss is =  0.10278964042663574  and accuracy is =  0.555688622754491\n",
            "At step  80  and at epoch =  12  the loss is =  0.10147853195667267  and accuracy is =  0.582934131736527\n",
            "At step  80  and at epoch =  13  the loss is =  0.10074445605278015  and accuracy is =  0.5832335329341317\n",
            "At step  80  and at epoch =  14  the loss is =  0.09360046684741974  and accuracy is =  0.5899700598802395\n",
            "At step  80  and at epoch =  15  the loss is =  0.09080465137958527  and accuracy is =  0.6065868263473054\n",
            "At step  80  and at epoch =  16  the loss is =  0.09355995059013367  and accuracy is =  0.6218562874251496\n",
            "At step  80  and at epoch =  17  the loss is =  0.09599076211452484  and accuracy is =  0.6224550898203592\n",
            "At step  80  and at epoch =  18  the loss is =  0.10315024852752686  and accuracy is =  0.6282934131736527\n",
            "At step  80  and at epoch =  19  the loss is =  0.1017032116651535  and accuracy is =  0.6217065868263473\n",
            "At step  80  and at epoch =  20  the loss is =  0.10279789566993713  and accuracy is =  0.6353293413173653\n",
            "At step  80  and at epoch =  21  the loss is =  0.09568820893764496  and accuracy is =  0.6423652694610779\n",
            "At step  80  and at epoch =  22  the loss is =  0.0986250713467598  and accuracy is =  0.65\n",
            "At step  80  and at epoch =  23  the loss is =  0.1072293370962143  and accuracy is =  0.6547904191616767\n",
            "At step  80  and at epoch =  24  the loss is =  0.09262432157993317  and accuracy is =  0.6592814371257485\n",
            "At step  80  and at epoch =  25  the loss is =  0.0993499681353569  and accuracy is =  0.6699101796407185\n",
            "At step  80  and at epoch =  26  the loss is =  0.09955259412527084  and accuracy is =  0.6633233532934132\n",
            "At step  80  and at epoch =  27  the loss is =  0.0858021080493927  and accuracy is =  0.6736526946107785\n",
            "At step  80  and at epoch =  28  the loss is =  0.10190124809741974  and accuracy is =  0.6723053892215569\n",
            "At step  80  and at epoch =  29  the loss is =  0.09411780536174774  and accuracy is =  0.6809880239520958\n",
            "At step  80  and at epoch =  30  the loss is =  0.10028290003538132  and accuracy is =  0.6944610778443113\n",
            "At step  80  and at epoch =  31  the loss is =  0.09747059643268585  and accuracy is =  0.6842814371257485\n",
            "At step  80  and at epoch =  32  the loss is =  0.08643756806850433  and accuracy is =  0.6902694610778443\n",
            "At step  80  and at epoch =  33  the loss is =  0.09765502065420151  and accuracy is =  0.6956586826347305\n",
            "At step  80  and at epoch =  34  the loss is =  0.08543390780687332  and accuracy is =  0.7023952095808383\n",
            "At step  80  and at epoch =  35  the loss is =  0.11255208402872086  and accuracy is =  0.7017964071856287\n",
            "At step  80  and at epoch =  36  the loss is =  0.08872836083173752  and accuracy is =  0.6926646706586826\n",
            "At step  80  and at epoch =  37  the loss is =  0.10228408873081207  and accuracy is =  0.704940119760479\n",
            "At step  80  and at epoch =  38  the loss is =  0.1007588803768158  and accuracy is =  0.6838323353293413\n",
            "At step  80  and at epoch =  39  the loss is =  0.09752516448497772  and accuracy is =  0.7011976047904191\n",
            "At step  80  and at epoch =  40  the loss is =  0.09221851825714111  and accuracy is =  0.7208083832335329\n",
            "At step  80  and at epoch =  41  the loss is =  0.09344151616096497  and accuracy is =  0.7215568862275449\n",
            "At step  80  and at epoch =  42  the loss is =  0.09736771881580353  and accuracy is =  0.7127245508982036\n",
            "At step  80  and at epoch =  43  the loss is =  0.1009201928973198  and accuracy is =  0.7173652694610778\n",
            "At step  80  and at epoch =  44  the loss is =  0.08608438819646835  and accuracy is =  0.7169161676646707\n",
            "At step  80  and at epoch =  45  the loss is =  0.098065584897995  and accuracy is =  0.7302395209580839\n",
            "At step  80  and at epoch =  46  the loss is =  0.08741623163223267  and accuracy is =  0.7241017964071856\n",
            "At step  80  and at epoch =  47  the loss is =  0.10156401246786118  and accuracy is =  0.7360778443113772\n",
            "At step  80  and at epoch =  48  the loss is =  0.09832113236188889  and accuracy is =  0.7359281437125749\n",
            "At step  80  and at epoch =  49  the loss is =  0.08802607655525208  and accuracy is =  0.7827844311377246\n",
            "At step  80  and at epoch =  50  the loss is =  0.08351273089647293  and accuracy is =  0.7967065868263473\n",
            "At step  80  and at epoch =  51  the loss is =  0.0901455283164978  and accuracy is =  0.7998502994011976\n",
            "At step  80  and at epoch =  52  the loss is =  0.09100053459405899  and accuracy is =  0.8017964071856287\n",
            "At step  80  and at epoch =  53  the loss is =  0.09172556549310684  and accuracy is =  0.8049401197604791\n",
            "At step  80  and at epoch =  54  the loss is =  0.09378428012132645  and accuracy is =  0.8062874251497006\n",
            "At step  80  and at epoch =  55  the loss is =  0.09270711988210678  and accuracy is =  0.8091317365269461\n",
            "At step  80  and at epoch =  56  the loss is =  0.0917535200715065  and accuracy is =  0.8151197604790419\n",
            "At step  80  and at epoch =  57  the loss is =  0.09889643639326096  and accuracy is =  0.8140718562874252\n",
            "At step  80  and at epoch =  58  the loss is =  0.09446784853935242  and accuracy is =  0.8175149700598803\n",
            "At step  80  and at epoch =  59  the loss is =  0.09321415424346924  and accuracy is =  0.8073353293413174\n",
            "At step  80  and at epoch =  60  the loss is =  0.09375862032175064  and accuracy is =  0.8188622754491018\n",
            "At step  80  and at epoch =  61  the loss is =  0.08626656979322433  and accuracy is =  0.8167664670658683\n",
            "At step  80  and at epoch =  62  the loss is =  0.09351710230112076  and accuracy is =  0.8212574850299401\n",
            "At step  80  and at epoch =  63  the loss is =  0.08875560760498047  and accuracy is =  0.8248502994011976\n",
            "At step  80  and at epoch =  64  the loss is =  0.08414916694164276  and accuracy is =  0.8260479041916168\n",
            "At step  80  and at epoch =  65  the loss is =  0.09677430987358093  and accuracy is =  0.8252994011976048\n",
            "At step  80  and at epoch =  66  the loss is =  0.09815969318151474  and accuracy is =  0.8244011976047905\n",
            "At step  80  and at epoch =  67  the loss is =  0.08292174339294434  and accuracy is =  0.8279940119760479\n",
            "At step  80  and at epoch =  68  the loss is =  0.082309789955616  and accuracy is =  0.8305389221556886\n",
            "At step  80  and at epoch =  69  the loss is =  0.08908536285161972  and accuracy is =  0.8303892215568862\n",
            "task: 80 train accuracy = 0.5946\n",
            "task: 80 test accuracy = 0.41644444444444445\n"
          ],
          "name": "stdout"
        },
        {
          "output_type": "display_data",
          "data": {
            "image/png": "[encoded data removed]",
            "text/plain": [
              "<Figure size 432x288 with 2 Axes>"
            ]
          },
          "metadata": {
            "tags": []
          }
        },
        {
          "output_type": "stream",
          "text": [
            "task : 90\n",
            "0.936671793460846 -3.780292510986328\n",
            "At step  90  and at epoch =  0  the loss is =  0.1076403558254242  and accuracy is =  0.2445619335347432\n",
            "At step  90  and at epoch =  1  the loss is =  0.10459068417549133  and accuracy is =  0.3833836858006042\n",
            "At step  90  and at epoch =  2  the loss is =  0.10845541954040527  and accuracy is =  0.4368580060422961\n",
            "At step  90  and at epoch =  3  the loss is =  0.11139320582151413  and accuracy is =  0.47129909365558914\n",
            "At step  90  and at epoch =  4  the loss is =  0.09937039762735367  and accuracy is =  0.49395770392749244\n",
            "At step  90  and at epoch =  5  the loss is =  0.10793004184961319  and accuracy is =  0.5178247734138973\n",
            "At step  90  and at epoch =  6  the loss is =  0.1068011000752449  and accuracy is =  0.5422960725075529\n",
            "At step  90  and at epoch =  7  the loss is =  0.10353720188140869  and accuracy is =  0.558761329305136\n",
            "At step  90  and at epoch =  8  the loss is =  0.10532350093126297  and accuracy is =  0.5762839879154078\n",
            "At step  90  and at epoch =  9  the loss is =  0.10474179685115814  and accuracy is =  0.5845921450151057\n",
            "At step  90  and at epoch =  10  the loss is =  0.11083050072193146  and accuracy is =  0.5962235649546828\n",
            "At step  90  and at epoch =  11  the loss is =  0.10546129196882248  and accuracy is =  0.6080060422960725\n",
            "At step  90  and at epoch =  12  the loss is =  0.10470960289239883  and accuracy is =  0.6160120845921451\n",
            "At step  90  and at epoch =  13  the loss is =  0.1021110787987709  and accuracy is =  0.6358006042296073\n",
            "At step  90  and at epoch =  14  the loss is =  0.104203000664711  and accuracy is =  0.6394259818731118\n",
            "At step  90  and at epoch =  15  the loss is =  0.10267764329910278  and accuracy is =  0.6536253776435045\n",
            "At step  90  and at epoch =  16  the loss is =  0.11432550102472305  and accuracy is =  0.64607250755287\n",
            "At step  90  and at epoch =  17  the loss is =  0.10117815434932709  and accuracy is =  0.6619335347432024\n",
            "At step  90  and at epoch =  18  the loss is =  0.10297391563653946  and accuracy is =  0.6723564954682779\n",
            "At step  90  and at epoch =  19  the loss is =  0.099169060587883  and accuracy is =  0.663595166163142\n",
            "At step  90  and at epoch =  20  the loss is =  0.1053554117679596  and accuracy is =  0.691238670694864\n",
            "At step  90  and at epoch =  21  the loss is =  0.10396945476531982  and accuracy is =  0.6830815709969789\n",
            "At step  90  and at epoch =  22  the loss is =  0.10667583346366882  and accuracy is =  0.6848942598187311\n",
            "At step  90  and at epoch =  23  the loss is =  0.10580800473690033  and accuracy is =  0.695166163141994\n",
            "At step  90  and at epoch =  24  the loss is =  0.10250702500343323  and accuracy is =  0.6933534743202417\n",
            "At step  90  and at epoch =  25  the loss is =  0.10035504400730133  and accuracy is =  0.702416918429003\n",
            "At step  90  and at epoch =  26  the loss is =  0.10333171486854553  and accuracy is =  0.6993957703927492\n",
            "At step  90  and at epoch =  27  the loss is =  0.09843825548887253  and accuracy is =  0.7034743202416919\n",
            "At step  90  and at epoch =  28  the loss is =  0.10583232343196869  and accuracy is =  0.709214501510574\n",
            "At step  90  and at epoch =  29  the loss is =  0.10471499711275101  and accuracy is =  0.7209969788519638\n",
            "At step  90  and at epoch =  30  the loss is =  0.10273312032222748  and accuracy is =  0.720392749244713\n",
            "At step  90  and at epoch =  31  the loss is =  0.10510408133268356  and accuracy is =  0.7173716012084592\n",
            "At step  90  and at epoch =  32  the loss is =  0.09732764214277267  and accuracy is =  0.7276435045317221\n",
            "At step  90  and at epoch =  33  the loss is =  0.09916537255048752  and accuracy is =  0.7240181268882175\n",
            "At step  90  and at epoch =  34  the loss is =  0.09730057418346405  and accuracy is =  0.7246223564954682\n",
            "At step  90  and at epoch =  35  the loss is =  0.10481768846511841  and accuracy is =  0.7336858006042296\n",
            "At step  90  and at epoch =  36  the loss is =  0.09904345870018005  and accuracy is =  0.7249244712990937\n",
            "At step  90  and at epoch =  37  the loss is =  0.1079813614487648  and accuracy is =  0.7344410876132931\n",
            "At step  90  and at epoch =  38  the loss is =  0.1013922169804573  and accuracy is =  0.7283987915407855\n",
            "At step  90  and at epoch =  39  the loss is =  0.10480678826570511  and accuracy is =  0.741238670694864\n",
            "At step  90  and at epoch =  40  the loss is =  0.09852924942970276  and accuracy is =  0.7356495468277946\n",
            "At step  90  and at epoch =  41  the loss is =  0.10438642650842667  and accuracy is =  0.743202416918429\n",
            "At step  90  and at epoch =  42  the loss is =  0.09894746541976929  and accuracy is =  0.7379154078549849\n",
            "At step  90  and at epoch =  43  the loss is =  0.10662785172462463  and accuracy is =  0.7367069486404834\n",
            "At step  90  and at epoch =  44  the loss is =  0.10032445937395096  and accuracy is =  0.7474320241691843\n",
            "At step  90  and at epoch =  45  the loss is =  0.09933396428823471  and accuracy is =  0.7418429003021147\n",
            "At step  90  and at epoch =  46  the loss is =  0.10168395936489105  and accuracy is =  0.7534743202416918\n",
            "At step  90  and at epoch =  47  the loss is =  0.10095085203647614  and accuracy is =  0.7421450151057402\n",
            "At step  90  and at epoch =  48  the loss is =  0.10224127024412155  and accuracy is =  0.7512084592145015\n",
            "At step  90  and at epoch =  49  the loss is =  0.09362449496984482  and accuracy is =  0.7924471299093656\n",
            "At step  90  and at epoch =  50  the loss is =  0.09835638105869293  and accuracy is =  0.8070996978851964\n",
            "At step  90  and at epoch =  51  the loss is =  0.09841132164001465  and accuracy is =  0.8134441087613293\n",
            "At step  90  and at epoch =  52  the loss is =  0.09767306596040726  and accuracy is =  0.8187311178247734\n",
            "At step  90  and at epoch =  53  the loss is =  0.10014679282903671  and accuracy is =  0.81797583081571\n",
            "At step  90  and at epoch =  54  the loss is =  0.095179483294487  and accuracy is =  0.820845921450151\n",
            "At step  90  and at epoch =  55  the loss is =  0.1013469323515892  and accuracy is =  0.817522658610272\n",
            "At step  90  and at epoch =  56  the loss is =  0.09717387706041336  and accuracy is =  0.8268882175226586\n",
            "At step  90  and at epoch =  57  the loss is =  0.09566539525985718  and accuracy is =  0.8225075528700906\n",
            "At step  90  and at epoch =  58  the loss is =  0.10121767967939377  and accuracy is =  0.823262839879154\n",
            "At step  90  and at epoch =  59  the loss is =  0.09432496875524521  and accuracy is =  0.8196374622356496\n",
            "At step  90  and at epoch =  60  the loss is =  0.09305407851934433  and accuracy is =  0.8209969788519638\n",
            "At step  90  and at epoch =  61  the loss is =  0.0941041111946106  and accuracy is =  0.820845921450151\n",
            "At step  90  and at epoch =  62  the loss is =  0.09589818865060806  and accuracy is =  0.8324773413897281\n",
            "At step  90  and at epoch =  63  the loss is =  0.0962173342704773  and accuracy is =  0.8258308157099697\n",
            "At step  90  and at epoch =  64  the loss is =  0.09457512944936752  and accuracy is =  0.8314199395770393\n",
            "At step  90  and at epoch =  65  the loss is =  0.09652721136808395  and accuracy is =  0.8332326283987915\n",
            "At step  90  and at epoch =  66  the loss is =  0.0935574471950531  and accuracy is =  0.8302114803625378\n",
            "At step  90  and at epoch =  67  the loss is =  0.09775693714618683  and accuracy is =  0.8341389728096676\n",
            "At step  90  and at epoch =  68  the loss is =  0.10560023039579391  and accuracy is =  0.8332326283987915\n",
            "At step  90  and at epoch =  69  the loss is =  0.09391652047634125  and accuracy is =  0.8324773413897281\n",
            "task: 90 train accuracy = 0.5054\n",
            "task: 90 test accuracy = 0.3863\n"
          ],
          "name": "stdout"
        },
        {
          "output_type": "display_data",
          "data": {
            "image/png": "[encoded data removed]",
            "text/plain": [
              "<Figure size 432x288 with 2 Axes>"
            ]
          },
          "metadata": {
            "tags": []
          }
        }
      ]
    },
    {
      "cell_type": "code",
      "metadata": {
        "id": "BuSYf0y0f5QC",
        "colab_type": "code",
        "colab": {
          "base_uri": "https://localhost:8080/",
          "height": 158
        },
        "outputId": "d017fd4c-958f-4b9c-ad66-69eb60b926aa"
      },
      "source": [
        "pred = np.sum(cf, axis=0)\n",
        "pred"
      ],
      "execution_count": null,
      "outputs": [
        {
          "output_type": "execute_result",
          "data": {
            "text/plain": [
              "array([ 71,  66,  55,  51,  51,  43,  74,  80,  54,  57,  41,   5,  44,\n",
              "       148,  79, 153,  63,  32, 109,  58,  48, 185, 213,  96, 100,  91,\n",
              "        65,  58,  33,  79,  78,  98,  23,  77,  47, 642,  33, 254,  23,\n",
              "        35, 128,  13, 124,  27, 186,  35,  76,  27, 369,  58,  48,  99,\n",
              "        14,  86,  41, 232, 105,  46,  19,  82, 173,  26,  77, 238,  86,\n",
              "        57,  78, 114,  69,  72,  40,  36,  71,  97, 451,  47, 164,  61,\n",
              "        78,  77, 167,  28,  74,  49, 119,  42,  37, 343,  42, 186,  36,\n",
              "       441, 142,  25, 164,  49, 341,  75,  43,  58])"
            ]
          },
          "metadata": {
            "tags": []
          },
          "execution_count": 12
        }
      ]
    },
    {
      "cell_type": "code",
      "metadata": {
        "id": "4AyqbX6sf-q5",
        "colab_type": "code",
        "colab": {}
      },
      "source": [
        "val = np.arange(100)\n",
        "avg = np.mean(pred)"
      ],
      "execution_count": null,
      "outputs": []
    },
    {
      "cell_type": "code",
      "metadata": {
        "id": "izVl4B1hgBPk",
        "colab_type": "code",
        "colab": {
          "base_uri": "https://localhost:8080/",
          "height": 588
        },
        "outputId": "57e93a68-2368-4ead-c735-8aa19cd4a11f"
      },
      "source": [
        "fig = plt.figure(figsize=(20,10))\n",
        "ax = fig.add_subplot(111)\n",
        "x_coordinates = val\n",
        "ax.bar(x_coordinates, pred, align='center')\n",
        "ax.axhline(avg, color=\"gray\")\n",
        "plt.show()"
      ],
      "execution_count": null,
      "outputs": [
        {
          "output_type": "display_data",
          "data": {
            "image/png": "[encoded data removed]",
            "text/plain": [
              "<Figure size 1440x720 with 1 Axes>"
            ]
          },
          "metadata": {
            "tags": []
          }
        }
      ]
    },
    {
      "cell_type": "code",
      "metadata": {
        "id": "WAayIE_aPFWg",
        "colab_type": "code",
        "colab": {}
      },
      "source": [
        "import numpy as np\n",
        "import seaborn as sn\n",
        "import pandas as pd\n",
        "import matplotlib.pyplot as plt\n",
        "def plotTask(pars_tasks):\n",
        "\n",
        "  x_tasks =  np.linspace(10, 100, 10)\n",
        "\n",
        "  plt.plot(x_tasks, pars_tasks, label=['Accuracy'])\n",
        "  plt.xlabel(\"Epoch\")\n",
        "  plt.ylim(0,1)\n",
        "  plt.title('Accuracy over tasks')\n",
        "  plt.legend(['Accuracy'])\n",
        "  plt.grid(True)\n",
        "  plt.show()"
      ],
      "execution_count": null,
      "outputs": []
    }
  ]
}