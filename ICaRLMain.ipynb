{
  "nbformat": 4,
  "nbformat_minor": 0,
  "metadata": {
    "colab": {
      "name": "Copy of ICaRLMain.ipynb",
      "provenance": [],
      "collapsed_sections": [],
      "include_colab_link": true
    },
    "kernelspec": {
      "name": "python3",
      "display_name": "Python 3"
    },
    "accelerator": "GPU",
    "widgets": {
      "application/vnd.jupyter.widget-state+json": {
        "649ac39da10749c7ac4e0f5d5ee531c3": {
          "model_module": "@jupyter-widgets/controls",
          "model_name": "HBoxModel",
          "state": {
            "_view_name": "HBoxView",
            "_dom_classes": [],
            "_model_name": "HBoxModel",
            "_view_module": "@jupyter-widgets/controls",
            "_model_module_version": "1.5.0",
            "_view_count": null,
            "_view_module_version": "1.5.0",
            "box_style": "",
            "layout": "IPY_MODEL_2bc2bcfaf17d453fb56e6bb693fd553c",
            "_model_module": "@jupyter-widgets/controls",
            "children": [
              "IPY_MODEL_c7f40ecbd18e42539c0b43d23907ac10",
              "IPY_MODEL_5c95d94c79e94b0f89c17e2a6dd6f255"
            ]
          }
        },
        "2bc2bcfaf17d453fb56e6bb693fd553c": {
          "model_module": "@jupyter-widgets/base",
          "model_name": "LayoutModel",
          "state": {
            "_view_name": "LayoutView",
            "grid_template_rows": null,
            "right": null,
            "justify_content": null,
            "_view_module": "@jupyter-widgets/base",
            "overflow": null,
            "_model_module_version": "1.2.0",
            "_view_count": null,
            "flex_flow": null,
            "width": null,
            "min_width": null,
            "border": null,
            "align_items": null,
            "bottom": null,
            "_model_module": "@jupyter-widgets/base",
            "top": null,
            "grid_column": null,
            "overflow_y": null,
            "overflow_x": null,
            "grid_auto_flow": null,
            "grid_area": null,
            "grid_template_columns": null,
            "flex": null,
            "_model_name": "LayoutModel",
            "justify_items": null,
            "grid_row": null,
            "max_height": null,
            "align_content": null,
            "visibility": null,
            "align_self": null,
            "height": null,
            "min_height": null,
            "padding": null,
            "grid_auto_rows": null,
            "grid_gap": null,
            "max_width": null,
            "order": null,
            "_view_module_version": "1.2.0",
            "grid_template_areas": null,
            "object_position": null,
            "object_fit": null,
            "grid_auto_columns": null,
            "margin": null,
            "display": null,
            "left": null
          }
        },
        "c7f40ecbd18e42539c0b43d23907ac10": {
          "model_module": "@jupyter-widgets/controls",
          "model_name": "FloatProgressModel",
          "state": {
            "_view_name": "ProgressView",
            "style": "IPY_MODEL_4459c105e7a24bc191fc5bb2d3fcddce",
            "_dom_classes": [],
            "description": "",
            "_model_name": "FloatProgressModel",
            "bar_style": "info",
            "max": 1,
            "_view_module": "@jupyter-widgets/controls",
            "_model_module_version": "1.5.0",
            "value": 1,
            "_view_count": null,
            "_view_module_version": "1.5.0",
            "orientation": "horizontal",
            "min": 0,
            "description_tooltip": null,
            "_model_module": "@jupyter-widgets/controls",
            "layout": "IPY_MODEL_ca59d81f1bb34100b06acf5f2c34dd20"
          }
        },
        "5c95d94c79e94b0f89c17e2a6dd6f255": {
          "model_module": "@jupyter-widgets/controls",
          "model_name": "HTMLModel",
          "state": {
            "_view_name": "HTMLView",
            "style": "IPY_MODEL_b4efa2054f5948b0b863c4b7e98c782c",
            "_dom_classes": [],
            "description": "",
            "_model_name": "HTMLModel",
            "placeholder": "​",
            "_view_module": "@jupyter-widgets/controls",
            "_model_module_version": "1.5.0",
            "value": " 169009152/? [00:30&lt;00:00, 11549203.08it/s]",
            "_view_count": null,
            "_view_module_version": "1.5.0",
            "description_tooltip": null,
            "_model_module": "@jupyter-widgets/controls",
            "layout": "IPY_MODEL_a5879fa195b94d458c7f80cc2adab65d"
          }
        },
        "4459c105e7a24bc191fc5bb2d3fcddce": {
          "model_module": "@jupyter-widgets/controls",
          "model_name": "ProgressStyleModel",
          "state": {
            "_view_name": "StyleView",
            "_model_name": "ProgressStyleModel",
            "description_width": "initial",
            "_view_module": "@jupyter-widgets/base",
            "_model_module_version": "1.5.0",
            "_view_count": null,
            "_view_module_version": "1.2.0",
            "bar_color": null,
            "_model_module": "@jupyter-widgets/controls"
          }
        },
        "ca59d81f1bb34100b06acf5f2c34dd20": {
          "model_module": "@jupyter-widgets/base",
          "model_name": "LayoutModel",
          "state": {
            "_view_name": "LayoutView",
            "grid_template_rows": null,
            "right": null,
            "justify_content": null,
            "_view_module": "@jupyter-widgets/base",
            "overflow": null,
            "_model_module_version": "1.2.0",
            "_view_count": null,
            "flex_flow": null,
            "width": null,
            "min_width": null,
            "border": null,
            "align_items": null,
            "bottom": null,
            "_model_module": "@jupyter-widgets/base",
            "top": null,
            "grid_column": null,
            "overflow_y": null,
            "overflow_x": null,
            "grid_auto_flow": null,
            "grid_area": null,
            "grid_template_columns": null,
            "flex": null,
            "_model_name": "LayoutModel",
            "justify_items": null,
            "grid_row": null,
            "max_height": null,
            "align_content": null,
            "visibility": null,
            "align_self": null,
            "height": null,
            "min_height": null,
            "padding": null,
            "grid_auto_rows": null,
            "grid_gap": null,
            "max_width": null,
            "order": null,
            "_view_module_version": "1.2.0",
            "grid_template_areas": null,
            "object_position": null,
            "object_fit": null,
            "grid_auto_columns": null,
            "margin": null,
            "display": null,
            "left": null
          }
        },
        "b4efa2054f5948b0b863c4b7e98c782c": {
          "model_module": "@jupyter-widgets/controls",
          "model_name": "DescriptionStyleModel",
          "state": {
            "_view_name": "StyleView",
            "_model_name": "DescriptionStyleModel",
            "description_width": "",
            "_view_module": "@jupyter-widgets/base",
            "_model_module_version": "1.5.0",
            "_view_count": null,
            "_view_module_version": "1.2.0",
            "_model_module": "@jupyter-widgets/controls"
          }
        },
        "a5879fa195b94d458c7f80cc2adab65d": {
          "model_module": "@jupyter-widgets/base",
          "model_name": "LayoutModel",
          "state": {
            "_view_name": "LayoutView",
            "grid_template_rows": null,
            "right": null,
            "justify_content": null,
            "_view_module": "@jupyter-widgets/base",
            "overflow": null,
            "_model_module_version": "1.2.0",
            "_view_count": null,
            "flex_flow": null,
            "width": null,
            "min_width": null,
            "border": null,
            "align_items": null,
            "bottom": null,
            "_model_module": "@jupyter-widgets/base",
            "top": null,
            "grid_column": null,
            "overflow_y": null,
            "overflow_x": null,
            "grid_auto_flow": null,
            "grid_area": null,
            "grid_template_columns": null,
            "flex": null,
            "_model_name": "LayoutModel",
            "justify_items": null,
            "grid_row": null,
            "max_height": null,
            "align_content": null,
            "visibility": null,
            "align_self": null,
            "height": null,
            "min_height": null,
            "padding": null,
            "grid_auto_rows": null,
            "grid_gap": null,
            "max_width": null,
            "order": null,
            "_view_module_version": "1.2.0",
            "grid_template_areas": null,
            "object_position": null,
            "object_fit": null,
            "grid_auto_columns": null,
            "margin": null,
            "display": null,
            "left": null
          }
        }
      }
    }
  },
  "cells": [
    {
      "cell_type": "markdown",
      "metadata": {
        "id": "view-in-github",
        "colab_type": "text"
      },
      "source": [
        "<a href=\"https://colab.research.google.com/github/luciainnocenti/IncrementalLearning/blob/daRunnareFrancy/ICaRLMain.ipynb\" target=\"_parent\"><img src=\"https://colab.research.google.com/assets/colab-badge.svg\" alt=\"Open In Colab\"/></a>"
      ]
    },
    {
      "cell_type": "markdown",
      "metadata": {
        "id": "OLMLAOPyrR1K",
        "colab_type": "text"
      },
      "source": [
        "# Import GitHub repository"
      ]
    },
    {
      "cell_type": "code",
      "metadata": {
        "id": "3LqwZJLUlcYH",
        "colab_type": "code",
        "colab": {}
      },
      "source": [
        "import os\n",
        "import logging\n",
        "import sys"
      ],
      "execution_count": 1,
      "outputs": []
    },
    {
      "cell_type": "code",
      "metadata": {
        "id": "PVa_FlnxrXIk",
        "colab_type": "code",
        "colab": {
          "base_uri": "https://localhost:8080/",
          "height": 146
        },
        "outputId": "02f2d2ac-de26-4bcc-8e26-d7b79f725b1a"
      },
      "source": [
        "if not os.path.isdir('./DatasetCIFAR'):\n",
        "  !git clone -b daRunnareFrancy https://github.com/luciainnocenti/IncrementalLearning.git\n",
        "  !mv 'IncrementalLearning' 'DatasetCIFAR'"
      ],
      "execution_count": 2,
      "outputs": [
        {
          "output_type": "stream",
          "text": [
            "Cloning into 'IncrementalLearning'...\n",
            "remote: Enumerating objects: 70, done.\u001b[K\n",
            "remote: Counting objects: 100% (70/70), done.\u001b[K\n",
            "remote: Compressing objects: 100% (70/70), done.\u001b[K\n",
            "remote: Total 1569 (delta 38), reused 0 (delta 0), pack-reused 1499\u001b[K\n",
            "Receiving objects: 100% (1569/1569), 1.18 MiB | 1.01 MiB/s, done.\n",
            "Resolving deltas: 100% (1002/1002), done.\n"
          ],
          "name": "stdout"
        }
      ]
    },
    {
      "cell_type": "markdown",
      "metadata": {
        "id": "XXQyHMXzrZ5A",
        "colab_type": "text"
      },
      "source": [
        "# Import packages"
      ]
    },
    {
      "cell_type": "code",
      "metadata": {
        "id": "c24pdNxurdv1",
        "colab_type": "code",
        "colab": {
          "base_uri": "https://localhost:8080/",
          "height": 74
        },
        "outputId": "cbbb395f-c99e-4476-861d-baf2925e60be"
      },
      "source": [
        "from DatasetCIFAR.data_set import Dataset \n",
        "from DatasetCIFAR.data_set import Subset\n",
        "from DatasetCIFAR import ResNet\n",
        "from DatasetCIFAR import utils\n",
        "from DatasetCIFAR import params\n",
        "from DatasetCIFAR import ICaRLModel\n",
        "from torchvision import models\n",
        "import torch.nn as nn\n",
        "import torch\n",
        "import torch.optim as optim\n",
        "import torchvision\n",
        "import numpy as np\n",
        "import seaborn as sn\n",
        "import pandas as pd\n",
        "import matplotlib.pyplot as plt\n",
        "from sklearn.metrics import confusion_matrix\n",
        "\n",
        "from torchvision import transforms\n",
        "from torch.utils.data import DataLoader\n",
        "from torch.nn import functional as F\n",
        "import random\n",
        "random.seed(params.SEED)"
      ],
      "execution_count": 3,
      "outputs": [
        {
          "output_type": "stream",
          "text": [
            "/usr/local/lib/python3.6/dist-packages/statsmodels/tools/_testing.py:19: FutureWarning: pandas.util.testing is deprecated. Use the functions in the public API at pandas.testing instead.\n",
            "  import pandas.util.testing as tm\n"
          ],
          "name": "stderr"
        }
      ]
    },
    {
      "cell_type": "code",
      "metadata": {
        "id": "r2rkcBbIKfUQ",
        "colab_type": "code",
        "colab": {
          "base_uri": "https://localhost:8080/",
          "height": 54
        },
        "outputId": "33c6114b-5002-441c-acad-a0eca62848c5"
      },
      "source": [
        "print(params.SEED)\n",
        "print(params.NUM_WORKERS)"
      ],
      "execution_count": 4,
      "outputs": [
        {
          "output_type": "stream",
          "text": [
            "653\n",
            "4\n"
          ],
          "name": "stdout"
        }
      ]
    },
    {
      "cell_type": "markdown",
      "metadata": {
        "id": "1FlAkShyryrf",
        "colab_type": "text"
      },
      "source": [
        "# Define Datasets"
      ]
    },
    {
      "cell_type": "code",
      "metadata": {
        "id": "AP2iR2vl3Wiz",
        "colab_type": "code",
        "colab": {}
      },
      "source": [
        "train_transformer = transforms.Compose([transforms.RandomCrop(size = 32, padding=4),\n",
        "                                         transforms.RandomHorizontalFlip(),\n",
        "                                         transforms.ToTensor(),\n",
        "                                         transforms.Normalize((0.5, 0.5, 0.5), (0.5, 0.5, 0.5))\n",
        "])\n",
        "\n",
        "test_transformer = transforms.Compose([transforms.ToTensor(),\n",
        "                                         transforms.Normalize((0.5, 0.5, 0.5), (0.5, 0.5, 0.5))\n",
        "])"
      ],
      "execution_count": 5,
      "outputs": []
    },
    {
      "cell_type": "code",
      "metadata": {
        "id": "1CSNk0NlrvAL",
        "colab_type": "code",
        "colab": {
          "base_uri": "https://localhost:8080/",
          "height": 104,
          "referenced_widgets": [
            "649ac39da10749c7ac4e0f5d5ee531c3",
            "2bc2bcfaf17d453fb56e6bb693fd553c",
            "c7f40ecbd18e42539c0b43d23907ac10",
            "5c95d94c79e94b0f89c17e2a6dd6f255",
            "4459c105e7a24bc191fc5bb2d3fcddce",
            "ca59d81f1bb34100b06acf5f2c34dd20",
            "b4efa2054f5948b0b863c4b7e98c782c",
            "a5879fa195b94d458c7f80cc2adab65d"
          ]
        },
        "outputId": "b2f82a61-0370-43c6-dd21-40e542891be8"
      },
      "source": [
        "trainDS = Dataset(train=True)\n",
        "testDS = Dataset(train=False)"
      ],
      "execution_count": 6,
      "outputs": [
        {
          "output_type": "stream",
          "text": [
            "Downloading https://www.cs.toronto.edu/~kriz/cifar-100-python.tar.gz to data/cifar-100-python.tar.gz\n"
          ],
          "name": "stdout"
        },
        {
          "output_type": "display_data",
          "data": {
            "application/vnd.jupyter.widget-view+json": {
              "model_id": "649ac39da10749c7ac4e0f5d5ee531c3",
              "version_minor": 0,
              "version_major": 2
            },
            "text/plain": [
              "HBox(children=(FloatProgress(value=1.0, bar_style='info', max=1.0), HTML(value='')))"
            ]
          },
          "metadata": {
            "tags": []
          }
        },
        {
          "output_type": "stream",
          "text": [
            "Extracting data/cifar-100-python.tar.gz to data\n",
            "Files already downloaded and verified\n"
          ],
          "name": "stdout"
        }
      ]
    },
    {
      "cell_type": "code",
      "metadata": {
        "id": "W3ge3VayryJL",
        "colab_type": "code",
        "colab": {}
      },
      "source": [
        "train_splits = trainDS.splits\n",
        "test_splits = testDS.splits"
      ],
      "execution_count": 7,
      "outputs": []
    },
    {
      "cell_type": "markdown",
      "metadata": {
        "id": "AzxTlFF_rkfe",
        "colab_type": "text"
      },
      "source": [
        "# Define Network"
      ]
    },
    {
      "cell_type": "code",
      "metadata": {
        "id": "rgZtPkiPrmQK",
        "colab_type": "code",
        "colab": {}
      },
      "source": [
        "ICaRL = ResNet.resnet32(num_classes=100)\n",
        "ICaRL =  ICaRL.to(params.DEVICE)"
      ],
      "execution_count": 8,
      "outputs": []
    },
    {
      "cell_type": "code",
      "metadata": {
        "id": "CI8EyFmpOikN",
        "colab_type": "code",
        "colab": {}
      },
      "source": [
        "exemplars = [None]*100\n",
        "\n",
        "test_indexes =  []\n",
        "accs = []"
      ],
      "execution_count": 9,
      "outputs": []
    },
    {
      "cell_type": "code",
      "metadata": {
        "id": "fcFjbBGrOMz6",
        "colab_type": "code",
        "colab": {
          "base_uri": "https://localhost:8080/",
          "height": 801
        },
        "outputId": "ab0dfdcf-cf8c-4f13-b54f-023f64134bbe"
      },
      "source": [
        "for task in range(0, 100, params.TASK_SIZE):\n",
        "  train_indexes = trainDS.__getIndexesGroups__(task)\n",
        "  test_indexes = test_indexes + testDS.__getIndexesGroups__(task)\n",
        "\n",
        "  train_dataset = Subset(trainDS, train_indexes, transform = train_transformer)\n",
        "  test_dataset = Subset(testDS, test_indexes, transform = test_transformer)\n",
        "\n",
        "  train_loader = DataLoader( train_dataset, num_workers=params.NUM_WORKERS, batch_size=params.BATCH_SIZE, shuffle=True)\n",
        "  test_loader = DataLoader( test_dataset, num_workers=params.NUM_WORKERS, batch_size=params.BATCH_SIZE , shuffle=True )\n",
        "  \n",
        "  ICaRL, exemplars = ICaRLModel.incrementalTrain(task, trainDS, ICaRL, exemplars, train_transformer)\n",
        "\n",
        "  col = []\n",
        "  for i,x in enumerate( train_splits[ :int(task/10) + 1]) : \n",
        "    v = np.array(x)\n",
        "    col = np.concatenate( (col,v), axis = None)\n",
        "    col = col.astype(int)\n",
        "  mean = None\n",
        "  total = 0.0\n",
        "  running_corrects = 0.0\n",
        "  for img, lbl, _ in train_loader:\n",
        "      img = img.float().to(params.DEVICE)\n",
        "      preds, mean = ICaRLModel.classify(img, exemplars, ICaRL, task, trainDS, mean)\n",
        "      preds = preds.to(params.DEVICE)\n",
        "      labels = utils.mapFunction(lbl, col).to(params.DEVICE)\n",
        "\n",
        "      total += len(lbl)\n",
        "      running_corrects += torch.sum(preds == labels.data).data.item()\n",
        "\n",
        "  accuracy = float(running_corrects/total)\n",
        "  print(f'task: {task}', f'train accuracy = {accuracy}')\n",
        "  accs.append(accuracy)\n",
        "\n",
        "  total = 0.0\n",
        "  running_corrects = 0.0\n",
        "  tot_preds = []\n",
        "  tot_lab = []\n",
        "  for img, lbl, _ in test_loader:\n",
        "      img = img.float().to(params.DEVICE)\n",
        "      preds, _ = ICaRLModel.classify(img, exemplars, ICaRL, task, trainDS, mean)\n",
        "      preds = preds.to(params.DEVICE)\n",
        "      labels = utils.mapFunction(lbl, col).to(params.DEVICE)\n",
        "\n",
        "      tot_preds = np.concatenate( ( tot_preds, preds.data.cpu().numpy() ) )\n",
        "      tot_lab = np.concatenate( (tot_lab, labels.data.cpu().numpy()  ) )\n",
        "\n",
        "      total += len(lbl)\n",
        "      running_corrects += torch.sum(preds == labels.data).data.item()\n",
        "\n",
        "  accuracy = float(running_corrects/total)\n",
        "  print(f'task: {task}', f'test accuracy = {accuracy}')\n",
        "  cf = confusion_matrix(tot_lab, tot_preds)\n",
        "  df_cm = pd.DataFrame(cf, range(task + params.TASK_SIZE), range(task + params.TASK_SIZE))\n",
        "  sn.set(font_scale = .5) # for label size\n",
        "  sn.heatmap(df_cm, annot=False)\n",
        "  plt.show()"
      ],
      "execution_count": null,
      "outputs": [
        {
          "output_type": "stream",
          "text": [
            "At step  0  and at epoch =  0  the loss is =  0.03283439204096794  and accuracy is =  0.157\n",
            "At step  0  and at epoch =  1  the loss is =  0.02956738881766796  and accuracy is =  0.3686\n",
            "At step  0  and at epoch =  2  the loss is =  0.026554249227046967  and accuracy is =  0.4502\n",
            "Selected:  [9056, 20066, 32710, 30170, 48746, 43459, 4722, 1435, 40834, 28891, 49982, 9112, 20653, 25415, 30527, 39985, 31825, 112, 33875, 19873, 44482, 29884, 7189, 2589, 31910, 33445, 11738, 10644, 30585, 2309, 29636, 1189, 32696, 46354, 43391, 12820, 22226, 13250, 43975, 41060, 30934, 3005, 4370, 14488, 29644, 45652, 18682, 4988, 49815, 6536, 28706, 31897, 25448, 47196, 14250, 2486, 15797, 39092, 46032, 8992, 47857, 32537, 11436, 22009, 45955, 30557, 47476, 27790, 28764, 44593, 34451, 34541, 9304, 39327, 18914, 26306, 23646, 39530, 18345, 11579, 19237, 3559, 19361, 3177, 45510, 18924, 43548, 2298, 44720, 16182, 46875, 32473, 49818, 45494, 5888, 8631, 27975, 15927, 26932, 15538, 45575, 13826, 31313, 40319, 29501, 20441, 40927, 45787, 15435, 8493, 11233, 22944, 42254, 34467, 34822, 49277, 42599, 48073, 34287, 4061, 17672, 45008, 49195, 25810, 14943, 15527, 1297, 45232, 21717, 18234, 14944, 9917, 29995, 28277, 39492, 45320, 49298, 20877, 29911, 5652, 18079, 25273, 36263, 40568, 25667, 18409, 17891, 40458, 34620, 21239, 35497, 46995, 45154, 3184, 32261, 42625, 48006, 11129, 33817, 13079, 7464, 11670, 8487, 24276, 3363, 1483, 21745, 12591, 25085, 46168, 1305, 29460, 2573, 49614, 21313, 12486, 16050, 12942, 47324, 48488, 2246, 31562, 36132, 2046, 2494, 44145, 48149, 34462, 48723, 11066, 47933, 28553, 23246, 29756, 27025, 46641, 20990, 26750, 2608, 31280, 36071]\n",
            "Selected:  [48785, 32414, 33464, 26659, 22552, 9407, 17393, 20135, 16026, 26840, 46232, 44066, 10350, 11576, 41527, 35602, 45854, 12271, 27861, 205, 16172, 19903, 46909, 29735, 33553, 10447, 24060, 44922, 28344, 18598, 47713, 42316, 34442, 15062, 31705, 36922, 21524, 42935, 45935, 7592, 35591, 35884, 8003, 37947, 3216, 34902, 33146, 11064, 39207, 31700, 7238, 13390, 4112, 28821, 46178, 31824, 33580, 20417, 2632, 30291, 28129, 7435, 1044, 34144, 2887, 17225, 49065, 1218, 25606, 49529, 48246, 46509, 6787, 3065, 1182, 48398, 41269, 29967, 24514, 9091, 6009, 40114, 13230, 11237, 19974, 2718, 12717, 22224, 1924, 30844, 14098, 21062, 10389, 20760, 4543, 4073, 5994, 22518, 6888, 35302, 9447, 2089, 33246, 25107, 7679, 797, 28941, 24316, 5167, 18299, 30401, 30576, 19062, 28441, 47183, 6362, 40687, 11426, 47561, 8330, 17128, 34728, 6029, 15178, 19392, 39850, 24112, 14127, 38421, 32019, 21216, 16538, 31570, 21080, 18101, 36097, 2772, 35155, 147, 44123, 41414, 42838, 28602, 33159, 5249, 1339, 18823, 32859, 15824, 1049, 32442, 39357, 26897, 30938, 143, 4066, 7776, 2716, 9385, 32870, 42576, 4373, 12815, 3027, 34112, 41813, 41902, 22406, 45153, 26508, 41673, 43041, 18476, 2728, 3508, 3911, 47994, 20780, 48094, 17144, 15978, 435, 38068, 41482, 35288, 19815, 31098, 32469, 8625, 19327, 2735, 3091, 7043, 5325, 13633, 21446, 21242, 18190, 12209, 9602, 18241]\n",
            "Selected:  [19393, 31112, 40154, 19690, 36630, 30926, 45602, 12606, 41979, 44703, 883, 40748, 34174, 37892, 23308, 48178, 45969, 45851, 18452, 29288, 5736, 1096, 2721, 42199, 20612, 8194, 49178, 38587, 16234, 46482, 22301, 47758, 10863, 40649, 33554, 21818, 728, 40148, 6814, 4315, 8344, 49285, 33473, 23630, 31297, 41220, 29498, 1583, 46792, 33044, 3419, 19797, 8708, 29688, 34091, 3449, 33644, 3502, 35020, 561, 28817, 36047, 5391, 45295, 25520, 39088, 25407, 34188, 19176, 15459, 15261, 17854, 42581, 41445, 20204, 38354, 48155, 10622, 32451, 21850, 39709, 18759, 40407, 30186, 18130, 32118, 26964, 12155, 20027, 6518, 28190, 32168, 29983, 7906, 28990, 25336, 35980, 21250, 49386, 7652, 8069, 27645, 32881, 14115, 581, 42491, 39363, 25517, 11830, 32013, 44978, 25193, 30616, 7431, 39506, 28143, 38096, 8525, 49596, 48561, 11528, 34316, 23736, 24616, 29770, 9856, 23791, 14324, 25988, 21763, 20516, 33369, 29609, 2432, 37845, 14798, 39269, 11790, 17006, 30825, 45798, 29673, 1575, 37703, 8728, 38679, 25876, 665, 34593, 25580, 36029, 25676, 39286, 27725, 27547, 15829, 8407, 47617, 35037, 9494, 17185, 14745, 31499, 43843, 6885, 48225, 31487, 32985, 28786, 30765, 8423, 37488, 45040, 29235, 39050, 40032, 32342, 26836, 48493, 32335, 46440, 11478, 18517, 46430, 35313, 29484, 16664, 16306, 11713, 42216, 8534, 27144, 29082, 36079, 26027, 1240, 47040, 27694, 40916, 47086, 12806]\n",
            "Selected:  [9530, 49688, 17787, 29589, 41589, 49182, 45167, 33967, 3737, 22726, 6432, 1902, 39563, 13623, 46014, 13092, 9709, 19120, 7820, 42100, 1361, 10546, 34702, 14404, 5849, 11172, 15103, 20031, 8922, 30904, 14109, 15071, 14101, 49609, 12998, 19735, 11888, 36592, 12334, 37468, 49504, 21686, 46638, 5713, 12784, 45710, 39688, 23174, 26790, 13788, 3043, 17985, 9955, 14419, 2193, 46074, 10284, 12355, 35619, 37120, 5029, 215, 19385, 26004, 37400, 39499, 31387, 39144, 17497, 32923, 48260, 6585, 36661, 33052, 20115, 13362, 18137, 41428, 30927, 17564, 38141, 37522, 6357, 48293, 17598, 17263, 2777, 38431, 172, 13358, 27406, 24657, 32762, 16826, 45457, 37378, 45961, 2495, 12272, 25124, 39515, 15877, 18129, 42126, 18912, 13191, 14427, 19147, 15196, 23028, 34637, 47958, 44955, 28841, 9588, 29330, 34947, 42236, 28564, 5263, 48357, 43531, 13912, 1280, 19647, 38040, 26154, 17386, 19041, 17807, 14581, 10440, 4096, 46772, 6375, 6991, 4455, 11483, 16014, 26931, 29463, 43392, 38935, 39490, 16324, 17038, 26497, 25784, 41772, 3983, 27211, 2128, 5945, 35763, 37144, 5596, 38732, 1794, 28608, 7314, 11981, 19278, 2695, 11319, 23416, 18978, 40557, 21043, 13260, 12368, 19569, 44201, 6136, 7702, 39743, 18715, 39625, 41431, 15338, 39222, 38201, 2555, 40977, 15584, 32021, 9256, 33578, 24826, 7092, 34, 31206, 24902, 44887, 1070, 18761, 47654, 1558, 48598, 8818, 30804, 22629]\n",
            "Selected:  [3345, 9160, 30459, 37736, 6058, 455, 6825, 28469, 29541, 2776, 12359, 25745, 36531, 13967, 28923, 10681, 32475, 1067, 27592, 37302, 11998, 49543, 24333, 20512, 2404, 24710, 27456, 9538, 22558, 8500, 41631, 31374, 35286, 19143, 25065, 6727, 43095, 39504, 24258, 40903, 40629, 13691, 30743, 8175, 4203, 33661, 3147, 29718, 42223, 29177, 23578, 35449, 20351, 4331, 47886, 16956, 40210, 37573, 45626, 5406, 5965, 47964, 32459, 16524, 7283, 4487, 47113, 45946, 5650, 41082, 35721, 39415, 3012, 24005, 7113, 3137, 29761, 36527, 1648, 40066, 40344, 48320, 7403, 9758, 26161, 27228, 22590, 13641, 42779, 42976, 13774, 35224, 10080, 15457, 36905, 43572, 20139, 19375, 6912, 7388, 39741, 92, 44449, 12279, 36806, 32056, 17851, 15454, 65, 10552, 23869, 13659, 7041, 41393, 33417, 28503, 46489, 1303, 2585, 47111, 34782, 34763, 21874, 49873, 35852, 14294, 19515, 32679, 7218, 38029, 1798, 4489, 15283, 15362, 44621, 28737, 36667, 13675, 29894, 2999, 30167, 25605, 42880, 33483, 29482, 39958, 2088, 30620, 11937, 29325, 2570, 4429, 44500, 34610, 8855, 31089, 28697, 43486, 15450, 38055, 19766, 34306, 24557, 21191, 14173, 15702, 20888, 15757, 46398, 20765, 31640, 45015, 20069, 34602, 3465, 11583, 35344, 47415, 44919, 21964, 13156, 38644, 26380, 40261, 19059, 17870, 12107, 39716, 43627, 40910, 22712, 16036, 11986, 27168, 39049, 13294, 1266, 16595, 25405, 9486, 16599]\n",
            "Selected:  [1167, 30715, 14215, 43001, 42019, 39350, 776, 26825, 19886, 27038, 6522, 12972, 21799, 31891, 4787, 44808, 23486, 40795, 31574, 5361, 27676, 11843, 10394, 15511, 108, 38988, 29297, 26765, 30453, 43212, 31482, 4215, 34844, 29286, 16963, 37352, 4422, 16238, 29975, 37281, 15432, 36898, 39314, 34018, 17799, 42345, 49875, 43815, 49549, 35792, 9102, 8914, 48522, 45966, 36165, 21613, 45501, 14423, 42287, 47179, 48440, 47106, 17751, 1701, 31995, 36578, 39940, 37440, 4523, 397, 49001, 11753, 4387, 27001, 35305, 6310, 20038, 4845, 19144, 39221, 49475, 26517, 23949, 14787, 45911, 27964, 9259, 45627, 23461, 28854, 38415, 2196, 16068, 47455, 47761, 37426, 47438, 39531, 14906, 1468, 30145, 36491, 11023, 1783, 2918, 48820, 34304, 10982, 39436, 14972, 48429, 269, 38459, 37089, 49626, 8628, 39500, 442, 14167, 26349, 17027, 43044, 33423, 27809, 21127, 39721, 4657, 39599, 9491, 6595, 5929, 37544, 23863, 26303, 19946, 44648, 4870, 6838, 24037, 17754, 13045, 31671, 23930, 27069, 4493, 6766, 36541, 34378, 45218, 45142, 44416, 14334, 24912, 18984, 13406, 2001, 34183, 41011, 11963, 24535, 28828, 23889, 29524, 6290, 47956, 21522, 6916, 19129, 5954, 24629, 14841, 40468, 9452, 20845, 4092, 28131, 46309, 46633, 18635, 36669, 46755, 31586, 24138, 40994, 48285, 10239, 9503, 1822, 21240, 10654, 9333, 40271, 35186, 4554, 16915, 43311, 19681, 25519, 6509, 40003, 18192]\n",
            "Selected:  [25859, 12127, 29183, 13401, 42385, 47484, 19557, 47400, 13793, 22560, 26281, 7277, 22529, 45170, 6127, 42322, 32784, 30856, 18195, 3957, 30622, 37846, 21497, 25828, 17278, 27604, 13501, 44088, 449, 20456, 869, 12410, 44311, 27142, 34690, 42774, 22881, 39984, 16314, 23595, 22649, 27568, 12036, 37596, 6890, 26000, 15896, 19461, 17138, 15363, 4540, 14613, 14947, 29844, 43539, 22494, 43728, 6082, 42326, 38303, 26279, 41826, 23817, 15943, 14945, 21183, 43793, 36008, 22534, 12743, 31058, 2474, 18817, 16224, 25757, 43432, 20743, 49058, 16644, 5592, 40107, 41964, 47626, 2641, 34213, 31668, 45251, 32154, 32041, 41655, 21754, 37088, 14763, 21066, 19367, 25884, 29791, 3977, 43842, 15726, 26829, 43006, 2068, 40124, 30324, 42817, 18306, 42169, 7827, 13283, 27204, 14248, 35707, 49163, 47996, 19567, 12846, 38108, 3620, 25740, 5976, 22540, 35140, 8062, 41999, 44238, 41729, 35303, 46702, 41298, 6689, 45746, 613, 44110, 30632, 24023, 19783, 21625, 36364, 21362, 40934, 49907, 20879, 43430, 41803, 12912, 21340, 38071, 24905, 20756, 3709, 21543, 10974, 32215, 40447, 48503, 47570, 11293, 30066, 33509, 41226, 36231, 1532, 48613, 35257, 7343, 44733, 15076, 7051, 23329, 45503, 40545, 19231, 26537, 35180, 12667, 28172, 4127, 48480, 17765, 33021, 49089, 18200, 8416, 4753, 32567, 28556, 38214, 28308, 13028, 12583, 6202, 34186, 38590, 26135, 372, 35978, 4065, 13344, 12262, 40269]\n",
            "Selected:  [20076, 26208, 40383, 44424, 10004, 15588, 17640, 6926, 347, 38158, 30847, 34170, 25183, 16628, 21012, 20531, 26687, 20700, 7765, 34327, 22500, 28811, 36653, 29435, 40534, 24249, 45594, 47786, 34955, 10348, 43047, 46882, 16441, 45779, 34897, 9145, 48428, 48235, 48040, 16390, 2145, 24987, 18578, 12016, 30955, 7147, 6608, 25381, 45012, 501, 6421, 14191, 30988, 2543, 34422, 17587, 39973, 25786, 39071, 42545, 39677, 24593, 25337, 11853, 4742, 47870, 39629, 49190, 6678, 47211, 25058, 28516, 43872, 42547, 29970, 17043, 4290, 39740, 15475, 43331, 42063, 46665, 48871, 31509, 28807, 3575, 2545, 4980, 25038, 48344, 37863, 38153, 49827, 49895, 31615, 10063, 19209, 41063, 19460, 46347, 4177, 16639, 15998, 28599, 47297, 34503, 34805, 6790, 16426, 47980, 15172, 31373, 48444, 39179, 38757, 15910, 10256, 31702, 24973, 6257, 23283, 34299, 42917, 15498, 33395, 4332, 47877, 49383, 14535, 20312, 6839, 1492, 36500, 27135, 35790, 48655, 6748, 43851, 43705, 13611, 17725, 14570, 2359, 7231, 6170, 21935, 14720, 22207, 28975, 7084, 11466, 13129, 34716, 44829, 10796, 37804, 25886, 20758, 44192, 24797, 40509, 42521, 49800, 19457, 4140, 32933, 42314, 22839, 24990, 33491, 8274, 16698, 35999, 43677, 15540, 30204, 49026, 24681, 12269, 6033, 14192, 349, 31051, 29554, 49344, 10861, 47965, 29108, 9088, 31315, 43807, 15150, 41843, 31738, 34548, 18061, 10677, 46435, 37535, 49212, 10669]\n",
            "Selected:  [11150, 32190, 5096, 20063, 49361, 15686, 29710, 38008, 20201, 29852, 17459, 13669, 42821, 20447, 16515, 38782, 33766, 46204, 46448, 16064, 47130, 49308, 26963, 15604, 1137, 3894, 8197, 17417, 43497, 6264, 38474, 36278, 35562, 47864, 34255, 12569, 47520, 30937, 45558, 21275, 47580, 36639, 15110, 24617, 18110, 23841, 341, 30775, 27265, 32398, 35742, 29915, 16255, 17276, 26709, 42930, 26626, 9320, 14683, 14742, 26715, 26426, 43617, 25288, 47653, 13198, 31277, 18004, 374, 21653, 2615, 33451, 27124, 47825, 5764, 25960, 46479, 600, 36080, 17885, 43898, 24711, 37731, 37272, 6950, 9610, 25637, 2008, 48918, 6107, 44527, 4393, 18088, 35052, 478, 24764, 2967, 29037, 34968, 48369, 15983, 43394, 39767, 17801, 21548, 9522, 44926, 12141, 39479, 16243, 47535, 29939, 17863, 5890, 49362, 27426, 4894, 332, 22926, 7011, 4294, 18044, 19512, 27688, 24735, 132, 22140, 34075, 44572, 6980, 14738, 37625, 3623, 11967, 24931, 42587, 1190, 36251, 20762, 44999, 38881, 11317, 26985, 44053, 29537, 14225, 30447, 9737, 21472, 3771, 19524, 24564, 1884, 17270, 43071, 38321, 17174, 31604, 6139, 10122, 11971, 4413, 7626, 2416, 21454, 13601, 36133, 45362, 1688, 27684, 35741, 32421, 45907, 18507, 29026, 12303, 44760, 6738, 2592, 39715, 7609, 24774, 23482, 34884, 19924, 37152, 9070, 8084, 27558, 43970, 37770, 43554, 7387, 22024, 47397, 3538, 9831, 3658, 45397, 34055, 37369]\n",
            "Selected:  [2525, 11174, 24284, 26944, 8579, 31243, 392, 1964, 7253, 11262, 15312, 25320, 33457, 32746, 18787, 2296, 15830, 10665, 30293, 48220, 39848, 14197, 13997, 19701, 40797, 12265, 22480, 36333, 32868, 10083, 22816, 48887, 49588, 21730, 7282, 46675, 20806, 4803, 9035, 15569, 28147, 44300, 25863, 26050, 7505, 16497, 4997, 17160, 37096, 39781, 34221, 25871, 34616, 5403, 7896, 14437, 9137, 39287, 38973, 37180, 44468, 28898, 46667, 31378, 35716, 19351, 14418, 9601, 45847, 6123, 3923, 36614, 47772, 7943, 39131, 2790, 48837, 2499, 19343, 15851, 15888, 41180, 4478, 21687, 12058, 33569, 48546, 24461, 25866, 45191, 32788, 31706, 28295, 576, 33668, 15130, 49882, 25230, 23908, 32677, 41439, 36476, 1334, 34150, 16417, 44351, 24505, 45393, 8209, 22026, 48941, 41982, 10377, 8595, 34039, 1170, 29825, 11708, 10557, 11311, 13762, 44000, 36091, 24343, 1644, 9743, 12130, 10129, 48271, 44967, 40171, 5882, 6710, 15007, 8797, 23537, 22355, 42543, 11625, 10571, 44464, 17073, 41144, 13322, 14504, 44291, 32674, 27154, 44862, 37568, 29553, 20870, 32974, 45046, 25350, 41306, 28879, 46996, 48044, 38367, 47374, 33501, 15352, 16150, 9089, 30008, 22699, 20985, 35988, 20647, 8885, 34145, 15335, 10000, 40050, 152, 22565, 33570, 9328, 36200, 20601, 29236, 13576, 24182, 48112, 33413, 49985, 37256, 20712, 390, 6870, 40892, 41086, 36907, 6733, 45483, 1841, 43594, 22947, 22673, 45529]\n",
            "task: 0 train accuracy = 0.4916\n",
            "task: 0 test accuracy = 0.503\n"
          ],
          "name": "stdout"
        },
        {
          "output_type": "display_data",
          "data": {
            "image/png": "[encoded data removed]",
            "text/plain": [
              "<Figure size 432x288 with 2 Axes>"
            ]
          },
          "metadata": {
            "tags": []
          }
        },
        {
          "output_type": "stream",
          "text": [
            "At step  10  and at epoch =  0  the loss is =  0.04500354453921318  and accuracy is =  0.14108416547788874\n",
            "At step  10  and at epoch =  1  the loss is =  0.0383937731385231  and accuracy is =  0.3158345221112696\n",
            "At step  10  and at epoch =  2  the loss is =  0.03661169484257698  and accuracy is =  0.38830242510699003\n",
            "Selected:  [47878, 46305, 27262, 20256, 46517, 16199, 16762, 30456, 8660, 33529, 33990, 30695, 5589, 2956, 27913, 42382, 7073, 17794, 26939, 21083, 39234, 1225, 7412, 7915, 1120, 6284, 30478, 624, 39811, 23724, 41493, 28955, 895, 26327, 37974, 4616, 31044, 2992, 10673, 17614, 28636, 24722, 41441, 1245, 14896, 34470, 37234, 16742, 45997, 9591, 4138, 42388, 7963, 43445, 279, 3836, 25904, 37932, 37377, 30842, 2815, 2740, 36010, 9871, 17950, 27410, 44821, 18711, 48390, 41709, 34368, 32628, 23037, 8864, 4267, 15772, 41892, 29548, 17859, 24222, 30363, 1831, 22905, 32945, 43955, 20734, 44121, 19149, 38213, 19239, 24320, 43823, 21643, 15573, 12777, 18662, 14817, 2739, 45613, 19892, 21729]\n",
            "Selected:  [2364, 6180, 28030, 26309, 23697, 19898, 2586, 42914, 37393, 28508, 192, 37169, 33348, 12061, 39496, 33894, 2045, 44518, 40550, 7741, 47287, 49446, 2437, 25105, 32587, 39906, 3095, 648, 20037, 31827, 11814, 37298, 35871, 32319, 43290, 26730, 33526, 20875, 3641, 10017, 14954, 8897, 44974, 2322, 6819, 16582, 35138, 43167, 40844, 1157, 10575, 31010, 40755, 20105, 1906, 12741, 25263, 32063, 20882, 32915, 8806, 31804, 11199, 43611, 24195, 19666, 35513, 9302, 15025, 23564, 28128, 36568, 28406, 41593, 43137, 361, 45030, 12298, 9215, 2791, 41504, 33330, 24111, 24418, 42652, 9676, 48381, 29365, 37053, 48667, 1322, 5829, 35376, 3331, 18, 43720, 29240, 9446, 40251, 35419, 30148]\n",
            "Selected:  [20770, 46997, 30411, 7696, 24147, 25379, 4807, 22367, 20024, 15182, 3849, 29366, 24590, 8341, 40909, 23414, 239, 31742, 37807, 32047, 13630, 35337, 33620, 15804, 12872, 36897, 18174, 779, 24750, 27093, 40822, 25693, 14594, 10251, 19765, 25990, 19020, 26429, 5725, 35935, 33680, 12675, 16272, 4961, 5293, 44959, 6090, 21333, 2503, 19884, 43566, 42396, 23664, 18614, 25304, 5102, 31223, 42949, 3352, 21790, 35926, 3975, 46821, 36979, 44704, 16135, 36375, 14867, 11002, 22036, 8638, 26441, 17326, 5828, 6526, 10936, 6762, 36684, 9681, 32169, 36314, 8920, 36675, 9104, 24176, 16612, 9221, 424, 24042, 17251, 8088, 6968, 36954, 36367, 36977, 2251, 34723, 24064, 32217, 16472, 8942]\n",
            "Selected:  [6730, 19293, 47880, 12498, 4948, 20800, 2982, 23164, 33130, 29530, 22723, 10475, 14158, 17368, 705, 49767, 24607, 47442, 19304, 15560, 40912, 13539, 12465, 13840, 15805, 30792, 339, 10954, 42363, 6062, 13685, 4050, 28865, 2733, 27789, 29731, 24705, 46324, 21386, 48514, 29920, 1556, 44466, 23123, 4741, 41628, 26271, 28156, 28426, 21029, 13164, 7544, 17409, 28366, 4975, 48330, 48516, 41618, 38616, 48615, 25491, 2948, 45930, 48690, 16833, 34965, 17798, 12322, 22054, 21553, 27854, 42955, 36043, 693, 46400, 26751, 9357, 9707, 47441, 33327, 40865, 42895, 41319, 22787, 37156, 16246, 48049, 27502, 46912, 4335, 10586, 566, 23806, 14965, 45175, 2065, 9995, 45145, 34985, 44191, 31192]\n",
            "Selected:  [35494, 27798, 42865, 3084, 10599, 21831, 49040, 15183, 45560, 33985, 35593, 48160, 19547, 14970, 44845, 7336, 22186, 3342, 11173, 17604, 7814, 19494, 21367, 28169, 20928, 48629, 6388, 41703, 17797, 24862, 17023, 44990, 9301, 12740, 32892, 26605, 26102, 10943, 19978, 38025, 28793, 21185, 29843, 10801, 37502, 8723, 27836, 28658, 26691, 37380, 18809, 34587, 32846, 23698, 25766, 1286, 40722, 8694, 39010, 11840, 2516, 33377, 42187, 45514, 49402, 33807, 48864, 32498, 49427, 4259, 21124, 20047, 28612, 33551, 14989, 25528, 3388, 44305, 4160, 26799, 6292, 40548, 1950, 44499, 9015, 2054, 42079, 42065, 11421, 46939, 3685, 38494, 24171, 49518, 44517, 48317, 9114, 32579, 16518, 7241, 18775]\n",
            "Selected:  [5987, 41638, 28371, 23916, 17320, 491, 34028, 8184, 40303, 17521, 33058, 23332, 27385, 44473, 30057, 36439, 20341, 30807, 22424, 49994, 17068, 48530, 37424, 23205, 26637, 32465, 30754, 9756, 29017, 46539, 19113, 9207, 37409, 48085, 45227, 9712, 8630, 3532, 30855, 31714, 34705, 22602, 103, 33161, 30822, 8958, 2100, 19829, 40503, 34519, 43767, 44012, 22812, 14465, 21010, 43706, 23008, 26873, 4058, 24697, 43193, 33882, 32104, 45023, 47513, 20723, 40860, 10684, 13649, 31741, 22452, 45326, 16887, 28977, 9233, 18412, 39409, 29182, 12863, 22369, 530, 42958, 40168, 8417, 2637, 2761, 46822, 17021, 25031, 45262, 49338, 7174, 15542, 35970, 36270, 34301, 13319, 15021, 8809, 10510, 45354]\n",
            "Selected:  [22318, 32256, 25701, 12132, 22941, 17319, 43312, 16108, 8460, 34321, 17400, 48532, 13379, 10522, 26565, 36780, 21110, 45421, 35925, 36891, 20776, 11270, 34959, 49791, 47379, 16081, 2796, 21189, 18403, 4191, 23107, 25060, 33557, 49240, 7952, 2273, 21855, 27646, 4763, 36138, 45047, 40925, 6446, 42436, 2635, 25888, 2315, 41378, 45471, 20205, 45956, 18672, 27307, 21090, 33384, 23534, 32970, 1813, 46725, 4272, 6032, 38210, 43271, 25056, 34117, 26791, 28885, 31196, 646, 31059, 45773, 13370, 19876, 44971, 31485, 46568, 21095, 5508, 17658, 46841, 33494, 40685, 42974, 15524, 26436, 40224, 44336, 1098, 45079, 46166, 13460, 33094, 1091, 1209, 11796, 47028, 17345, 11663, 32786, 2381, 23596]\n",
            "Selected:  [41225, 17996, 4914, 1894, 19610, 26465, 7484, 43828, 45352, 4547, 4780, 17679, 26569, 24318, 40808, 35531, 4376, 31748, 41916, 14276, 5094, 26066, 30104, 41739, 18693, 19284, 38491, 26041, 30106, 6339, 18391, 37696, 49760, 25450, 43187, 41433, 33790, 14909, 17626, 44081, 35013, 4316, 24685, 38009, 34002, 39946, 34030, 26092, 31848, 15478, 7935, 6534, 21047, 29336, 6954, 2422, 12882, 32291, 31997, 45208, 9306, 13484, 47998, 11277, 18436, 16157, 28141, 2657, 3778, 37562, 26184, 27214, 591, 47702, 25679, 45329, 47250, 2575, 42826, 21400, 44589, 28712, 1278, 29143, 9948, 19674, 44894, 31768, 21668, 40847, 15611, 3851, 11157, 29711, 3787, 18401, 42611, 12560, 7296, 24342, 13728]\n",
            "Selected:  [4033, 28761, 39298, 34842, 28253, 42806, 44912, 38186, 44514, 44033, 17515, 14277, 30504, 2101, 40688, 11338, 13205, 14445, 10749, 34554, 15710, 12546, 33030, 21544, 31176, 32776, 21640, 7359, 21308, 1358, 34164, 35706, 13160, 24076, 41917, 46176, 17512, 11055, 37479, 2084, 48046, 31054, 1972, 33437, 35860, 47079, 28917, 29568, 38823, 46857, 38398, 13810, 30399, 9315, 5235, 31696, 10602, 45371, 27021, 35699, 37009, 16097, 46355, 24476, 18926, 39932, 34778, 10313, 8774, 36276, 38102, 23553, 44169, 48481, 38004, 17580, 47900, 17198, 3642, 9639, 26133, 38895, 25695, 12128, 20436, 768, 5785, 9350, 13086, 16811, 28303, 15497, 15715, 25480, 17050, 47813, 38651, 43082, 46322, 46993, 26297]\n",
            "Selected:  [45589, 45182, 43104, 845, 29987, 10490, 8999, 43934, 31626, 35981, 45875, 18094, 5374, 41637, 31162, 24480, 2803, 44707, 27662, 14176, 23722, 20632, 23458, 8984, 6049, 15210, 25164, 24758, 20688, 32410, 18689, 47523, 36014, 45248, 49369, 45, 4872, 22442, 22488, 9628, 49894, 8210, 32931, 48571, 19135, 34067, 43875, 28677, 33480, 40340, 14244, 28298, 3233, 36555, 17230, 5326, 43780, 12654, 37133, 17051, 16345, 13347, 47839, 43806, 32777, 17037, 44987, 10456, 40164, 14446, 11318, 44669, 20815, 30238, 16531, 34811, 38048, 25054, 28517, 19297, 5005, 47310, 15173, 42923, 19371, 11970, 28994, 4111, 6270, 11844, 46936, 4072, 27900, 14065, 21990, 8315, 32418, 31224, 47295, 6811, 39360]\n"
          ],
          "name": "stdout"
        }
      ]
    }
  ]
}