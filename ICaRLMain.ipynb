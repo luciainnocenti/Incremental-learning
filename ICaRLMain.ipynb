{
  "nbformat": 4,
  "nbformat_minor": 0,
  "metadata": {
    "colab": {
      "name": "Copy of ICaRLMain.ipynb",
      "provenance": [],
      "collapsed_sections": [],
      "include_colab_link": true
    },
    "kernelspec": {
      "name": "python3",
      "display_name": "Python 3"
    },
    "accelerator": "GPU",
    "widgets": {
      "application/vnd.jupyter.widget-state+json": {
        "d7608cae485e45c69a34629007a9fb42": {
          "model_module": "@jupyter-widgets/controls",
          "model_name": "HBoxModel",
          "state": {
            "_view_name": "HBoxView",
            "_dom_classes": [],
            "_model_name": "HBoxModel",
            "_view_module": "@jupyter-widgets/controls",
            "_model_module_version": "1.5.0",
            "_view_count": null,
            "_view_module_version": "1.5.0",
            "box_style": "",
            "layout": "IPY_MODEL_6617928f47064252933dd43d56cfee28",
            "_model_module": "@jupyter-widgets/controls",
            "children": [
              "IPY_MODEL_3639b006965744229dc3e8b44a3aa06b",
              "IPY_MODEL_65862bbb441c4eea9030563597d90250"
            ]
          }
        },
        "6617928f47064252933dd43d56cfee28": {
          "model_module": "@jupyter-widgets/base",
          "model_name": "LayoutModel",
          "state": {
            "_view_name": "LayoutView",
            "grid_template_rows": null,
            "right": null,
            "justify_content": null,
            "_view_module": "@jupyter-widgets/base",
            "overflow": null,
            "_model_module_version": "1.2.0",
            "_view_count": null,
            "flex_flow": null,
            "width": null,
            "min_width": null,
            "border": null,
            "align_items": null,
            "bottom": null,
            "_model_module": "@jupyter-widgets/base",
            "top": null,
            "grid_column": null,
            "overflow_y": null,
            "overflow_x": null,
            "grid_auto_flow": null,
            "grid_area": null,
            "grid_template_columns": null,
            "flex": null,
            "_model_name": "LayoutModel",
            "justify_items": null,
            "grid_row": null,
            "max_height": null,
            "align_content": null,
            "visibility": null,
            "align_self": null,
            "height": null,
            "min_height": null,
            "padding": null,
            "grid_auto_rows": null,
            "grid_gap": null,
            "max_width": null,
            "order": null,
            "_view_module_version": "1.2.0",
            "grid_template_areas": null,
            "object_position": null,
            "object_fit": null,
            "grid_auto_columns": null,
            "margin": null,
            "display": null,
            "left": null
          }
        },
        "3639b006965744229dc3e8b44a3aa06b": {
          "model_module": "@jupyter-widgets/controls",
          "model_name": "FloatProgressModel",
          "state": {
            "_view_name": "ProgressView",
            "style": "IPY_MODEL_e2bc0a6999ec49de8b9b252af6fcd9ec",
            "_dom_classes": [],
            "description": "",
            "_model_name": "FloatProgressModel",
            "bar_style": "info",
            "max": 1,
            "_view_module": "@jupyter-widgets/controls",
            "_model_module_version": "1.5.0",
            "value": 1,
            "_view_count": null,
            "_view_module_version": "1.5.0",
            "orientation": "horizontal",
            "min": 0,
            "description_tooltip": null,
            "_model_module": "@jupyter-widgets/controls",
            "layout": "IPY_MODEL_3aa325298dd04c2eb02c065d1cac2f2b"
          }
        },
        "65862bbb441c4eea9030563597d90250": {
          "model_module": "@jupyter-widgets/controls",
          "model_name": "HTMLModel",
          "state": {
            "_view_name": "HTMLView",
            "style": "IPY_MODEL_7a185a388a3c4142b497da69ceae7092",
            "_dom_classes": [],
            "description": "",
            "_model_name": "HTMLModel",
            "placeholder": "​",
            "_view_module": "@jupyter-widgets/controls",
            "_model_module_version": "1.5.0",
            "value": " 169009152/? [00:20&lt;00:00, 34410505.55it/s]",
            "_view_count": null,
            "_view_module_version": "1.5.0",
            "description_tooltip": null,
            "_model_module": "@jupyter-widgets/controls",
            "layout": "IPY_MODEL_e4041399c85f45228752acb990887f0b"
          }
        },
        "e2bc0a6999ec49de8b9b252af6fcd9ec": {
          "model_module": "@jupyter-widgets/controls",
          "model_name": "ProgressStyleModel",
          "state": {
            "_view_name": "StyleView",
            "_model_name": "ProgressStyleModel",
            "description_width": "initial",
            "_view_module": "@jupyter-widgets/base",
            "_model_module_version": "1.5.0",
            "_view_count": null,
            "_view_module_version": "1.2.0",
            "bar_color": null,
            "_model_module": "@jupyter-widgets/controls"
          }
        },
        "3aa325298dd04c2eb02c065d1cac2f2b": {
          "model_module": "@jupyter-widgets/base",
          "model_name": "LayoutModel",
          "state": {
            "_view_name": "LayoutView",
            "grid_template_rows": null,
            "right": null,
            "justify_content": null,
            "_view_module": "@jupyter-widgets/base",
            "overflow": null,
            "_model_module_version": "1.2.0",
            "_view_count": null,
            "flex_flow": null,
            "width": null,
            "min_width": null,
            "border": null,
            "align_items": null,
            "bottom": null,
            "_model_module": "@jupyter-widgets/base",
            "top": null,
            "grid_column": null,
            "overflow_y": null,
            "overflow_x": null,
            "grid_auto_flow": null,
            "grid_area": null,
            "grid_template_columns": null,
            "flex": null,
            "_model_name": "LayoutModel",
            "justify_items": null,
            "grid_row": null,
            "max_height": null,
            "align_content": null,
            "visibility": null,
            "align_self": null,
            "height": null,
            "min_height": null,
            "padding": null,
            "grid_auto_rows": null,
            "grid_gap": null,
            "max_width": null,
            "order": null,
            "_view_module_version": "1.2.0",
            "grid_template_areas": null,
            "object_position": null,
            "object_fit": null,
            "grid_auto_columns": null,
            "margin": null,
            "display": null,
            "left": null
          }
        },
        "7a185a388a3c4142b497da69ceae7092": {
          "model_module": "@jupyter-widgets/controls",
          "model_name": "DescriptionStyleModel",
          "state": {
            "_view_name": "StyleView",
            "_model_name": "DescriptionStyleModel",
            "description_width": "",
            "_view_module": "@jupyter-widgets/base",
            "_model_module_version": "1.5.0",
            "_view_count": null,
            "_view_module_version": "1.2.0",
            "_model_module": "@jupyter-widgets/controls"
          }
        },
        "e4041399c85f45228752acb990887f0b": {
          "model_module": "@jupyter-widgets/base",
          "model_name": "LayoutModel",
          "state": {
            "_view_name": "LayoutView",
            "grid_template_rows": null,
            "right": null,
            "justify_content": null,
            "_view_module": "@jupyter-widgets/base",
            "overflow": null,
            "_model_module_version": "1.2.0",
            "_view_count": null,
            "flex_flow": null,
            "width": null,
            "min_width": null,
            "border": null,
            "align_items": null,
            "bottom": null,
            "_model_module": "@jupyter-widgets/base",
            "top": null,
            "grid_column": null,
            "overflow_y": null,
            "overflow_x": null,
            "grid_auto_flow": null,
            "grid_area": null,
            "grid_template_columns": null,
            "flex": null,
            "_model_name": "LayoutModel",
            "justify_items": null,
            "grid_row": null,
            "max_height": null,
            "align_content": null,
            "visibility": null,
            "align_self": null,
            "height": null,
            "min_height": null,
            "padding": null,
            "grid_auto_rows": null,
            "grid_gap": null,
            "max_width": null,
            "order": null,
            "_view_module_version": "1.2.0",
            "grid_template_areas": null,
            "object_position": null,
            "object_fit": null,
            "grid_auto_columns": null,
            "margin": null,
            "display": null,
            "left": null
          }
        }
      }
    }
  },
  "cells": [
    {
      "cell_type": "markdown",
      "metadata": {
        "id": "view-in-github",
        "colab_type": "text"
      },
      "source": [
        "<a href=\"https://colab.research.google.com/github/luciainnocenti/IncrementalLearning/blob/improvement_Lucia/ICaRLMain.ipynb\" target=\"_parent\"><img src=\"https://colab.research.google.com/assets/colab-badge.svg\" alt=\"Open In Colab\"/></a>"
      ]
    },
    {
      "cell_type": "markdown",
      "metadata": {
        "id": "OLMLAOPyrR1K",
        "colab_type": "text"
      },
      "source": [
        "# Import GitHub repository"
      ]
    },
    {
      "cell_type": "code",
      "metadata": {
        "id": "3LqwZJLUlcYH",
        "colab_type": "code",
        "colab": {}
      },
      "source": [
        "import os\n",
        "import logging\n",
        "import sys"
      ],
      "execution_count": 1,
      "outputs": []
    },
    {
      "cell_type": "code",
      "metadata": {
        "id": "PVa_FlnxrXIk",
        "colab_type": "code",
        "colab": {
          "base_uri": "https://localhost:8080/",
          "height": 141
        },
        "outputId": "556b6715-0bc2-430b-fb57-1b8517c68cf1"
      },
      "source": [
        "if not os.path.isdir('./DatasetCIFAR'):\n",
        "  !git clone -b improvement_Lucia https://github.com/luciainnocenti/IncrementalLearning.git\n",
        "  !mv 'IncrementalLearning' 'DatasetCIFAR'"
      ],
      "execution_count": 2,
      "outputs": [
        {
          "output_type": "stream",
          "text": [
            "Cloning into 'IncrementalLearning'...\n",
            "remote: Enumerating objects: 3, done.\u001b[K\n",
            "remote: Counting objects: 100% (3/3), done.\u001b[K\n",
            "remote: Compressing objects: 100% (3/3), done.\u001b[K\n",
            "remote: Total 1757 (delta 0), reused 0 (delta 0), pack-reused 1754\u001b[K\n",
            "Receiving objects: 100% (1757/1757), 2.21 MiB | 4.30 MiB/s, done.\n",
            "Resolving deltas: 100% (1122/1122), done.\n"
          ],
          "name": "stdout"
        }
      ]
    },
    {
      "cell_type": "markdown",
      "metadata": {
        "id": "XXQyHMXzrZ5A",
        "colab_type": "text"
      },
      "source": [
        "# Import packages"
      ]
    },
    {
      "cell_type": "code",
      "metadata": {
        "id": "c24pdNxurdv1",
        "colab_type": "code",
        "colab": {
          "base_uri": "https://localhost:8080/",
          "height": 72
        },
        "outputId": "bd60b0cd-b365-4f37-bafa-a17e62a0f0f2"
      },
      "source": [
        "from DatasetCIFAR.data_set import Dataset \n",
        "from DatasetCIFAR.data_set import Subset\n",
        "from DatasetCIFAR import ResNet\n",
        "from DatasetCIFAR import utils\n",
        "from DatasetCIFAR import params\n",
        "from DatasetCIFAR import ICaRLModel\n",
        "from torchvision import models\n",
        "import torch.nn as nn\n",
        "import torch\n",
        "import torch.optim as optim\n",
        "import torchvision\n",
        "import numpy as np\n",
        "import seaborn as sn\n",
        "import pandas as pd\n",
        "import matplotlib.pyplot as plt\n",
        "from sklearn.metrics import confusion_matrix\n",
        "\n",
        "from torchvision import transforms\n",
        "from torch.utils.data import DataLoader\n",
        "from torch.nn import functional as F\n",
        "import random\n",
        "random.seed(params.SEED)"
      ],
      "execution_count": 3,
      "outputs": [
        {
          "output_type": "stream",
          "text": [
            "/usr/local/lib/python3.6/dist-packages/statsmodels/tools/_testing.py:19: FutureWarning: pandas.util.testing is deprecated. Use the functions in the public API at pandas.testing instead.\n",
            "  import pandas.util.testing as tm\n"
          ],
          "name": "stderr"
        }
      ]
    },
    {
      "cell_type": "code",
      "metadata": {
        "id": "r2rkcBbIKfUQ",
        "colab_type": "code",
        "colab": {
          "base_uri": "https://localhost:8080/",
          "height": 52
        },
        "outputId": "65248f07-efe9-4561-f10f-fc8d8e991830"
      },
      "source": [
        "print(params.SEED)\n",
        "print(params.NUM_WORKERS)"
      ],
      "execution_count": 4,
      "outputs": [
        {
          "output_type": "stream",
          "text": [
            "653\n",
            "4\n"
          ],
          "name": "stdout"
        }
      ]
    },
    {
      "cell_type": "markdown",
      "metadata": {
        "id": "1FlAkShyryrf",
        "colab_type": "text"
      },
      "source": [
        "# Define Datasets"
      ]
    },
    {
      "cell_type": "code",
      "metadata": {
        "id": "AP2iR2vl3Wiz",
        "colab_type": "code",
        "colab": {}
      },
      "source": [
        "train_transformer = transforms.Compose([transforms.RandomCrop(size = 32, padding=4),\n",
        "                                         transforms.RandomHorizontalFlip(),\n",
        "                                         transforms.ToTensor(),\n",
        "                                         transforms.Normalize((0.5, 0.5, 0.5), (0.5, 0.5, 0.5))\n",
        "])\n",
        "\n",
        "test_transformer = transforms.Compose([transforms.ToTensor(),\n",
        "                                         transforms.Normalize((0.5, 0.5, 0.5), (0.5, 0.5, 0.5))\n",
        "])"
      ],
      "execution_count": 5,
      "outputs": []
    },
    {
      "cell_type": "code",
      "metadata": {
        "id": "1CSNk0NlrvAL",
        "colab_type": "code",
        "colab": {
          "base_uri": "https://localhost:8080/",
          "height": 102,
          "referenced_widgets": [
            "d7608cae485e45c69a34629007a9fb42",
            "6617928f47064252933dd43d56cfee28",
            "3639b006965744229dc3e8b44a3aa06b",
            "65862bbb441c4eea9030563597d90250",
            "e2bc0a6999ec49de8b9b252af6fcd9ec",
            "3aa325298dd04c2eb02c065d1cac2f2b",
            "7a185a388a3c4142b497da69ceae7092",
            "e4041399c85f45228752acb990887f0b"
          ]
        },
        "outputId": "b2517eaa-58ef-4ac5-d3b3-fc5267389f56"
      },
      "source": [
        "trainDS = Dataset(train=True)\n",
        "testDS = Dataset(train=False)"
      ],
      "execution_count": 6,
      "outputs": [
        {
          "output_type": "stream",
          "text": [
            "Downloading https://www.cs.toronto.edu/~kriz/cifar-100-python.tar.gz to data/cifar-100-python.tar.gz\n"
          ],
          "name": "stdout"
        },
        {
          "output_type": "display_data",
          "data": {
            "application/vnd.jupyter.widget-view+json": {
              "model_id": "d7608cae485e45c69a34629007a9fb42",
              "version_minor": 0,
              "version_major": 2
            },
            "text/plain": [
              "HBox(children=(FloatProgress(value=1.0, bar_style='info', max=1.0), HTML(value='')))"
            ]
          },
          "metadata": {
            "tags": []
          }
        },
        {
          "output_type": "stream",
          "text": [
            "Extracting data/cifar-100-python.tar.gz to data\n",
            "Files already downloaded and verified\n"
          ],
          "name": "stdout"
        }
      ]
    },
    {
      "cell_type": "code",
      "metadata": {
        "id": "W3ge3VayryJL",
        "colab_type": "code",
        "colab": {}
      },
      "source": [
        "train_splits = trainDS.splits\n",
        "test_splits = testDS.splits"
      ],
      "execution_count": 7,
      "outputs": []
    },
    {
      "cell_type": "markdown",
      "metadata": {
        "id": "AzxTlFF_rkfe",
        "colab_type": "text"
      },
      "source": [
        "# Define Network"
      ]
    },
    {
      "cell_type": "code",
      "metadata": {
        "id": "rgZtPkiPrmQK",
        "colab_type": "code",
        "colab": {}
      },
      "source": [
        "ICaRL = ResNet.resnet32(num_classes=100)\n",
        "ICaRL =  ICaRL.to(params.DEVICE)"
      ],
      "execution_count": 8,
      "outputs": []
    },
    {
      "cell_type": "code",
      "metadata": {
        "id": "mEAKDqKak-nu",
        "colab_type": "code",
        "colab": {}
      },
      "source": [
        "BIC = ResNet.BICModel()"
      ],
      "execution_count": 9,
      "outputs": []
    },
    {
      "cell_type": "code",
      "metadata": {
        "id": "CI8EyFmpOikN",
        "colab_type": "code",
        "colab": {}
      },
      "source": [
        "exemplars = [None]*100\n",
        "\n",
        "test_indexes =  []\n",
        "accs = []"
      ],
      "execution_count": null,
      "outputs": []
    },
    {
      "cell_type": "code",
      "metadata": {
        "id": "fcFjbBGrOMz6",
        "colab_type": "code",
        "colab": {
          "base_uri": "https://localhost:8080/",
          "height": 1000
        },
        "outputId": "308fd962-8889-4882-d84d-339113678d64"
      },
      "source": [
        "for task in range(0, 100, params.TASK_SIZE):\n",
        "  train_indexes = trainDS.__getIndexesGroups__(task)\n",
        "  test_indexes = test_indexes + testDS.__getIndexesGroups__(task)\n",
        "\n",
        "  train_dataset = Subset(trainDS, train_indexes, transform = train_transformer)\n",
        "  test_dataset = Subset(testDS, test_indexes, transform = test_transformer)\n",
        "\n",
        "  train_loader = DataLoader( train_dataset, num_workers=params.NUM_WORKERS, batch_size=params.BATCH_SIZE, shuffle=True)\n",
        "  test_loader = DataLoader( test_dataset, num_workers=params.NUM_WORKERS, batch_size=params.BATCH_SIZE , shuffle=True )\n",
        "  \n",
        "  ICaRL, exemplars = ICaRLModel.incrementalTrain(task, trainDS, ICaRL, exemplars, train_transformer, BIC = BIC)\n",
        "\n",
        "  col = []\n",
        "  for i,x in enumerate( train_splits[ :int(task/10) + 1]) : \n",
        "    v = np.array(x)\n",
        "    col = np.concatenate( (col,v), axis = None)\n",
        "    col = col.astype(int)\n",
        "  mean = None\n",
        "  total = 0.0\n",
        "  running_corrects = 0.0\n",
        "  for img, lbl, _ in train_loader:\n",
        "      img = img.float().to(params.DEVICE)\n",
        "      preds, mean = ICaRLModel.classify(img, exemplars, ICaRL, task, trainDS, mean)\n",
        "      preds = preds.to(params.DEVICE)\n",
        "      labels = utils.mapFunction(lbl, col).to(params.DEVICE)\n",
        "\n",
        "      total += len(lbl)\n",
        "      running_corrects += torch.sum(preds == labels.data).data.item()\n",
        "\n",
        "  accuracy = float(running_corrects/total)\n",
        "  print(f'task: {task}', f'train accuracy = {accuracy}')\n",
        "  accs.append(accuracy)\n",
        "\n",
        "  total = 0.0\n",
        "  running_corrects = 0.0\n",
        "  tot_preds = []\n",
        "  tot_lab = []\n",
        "  for img, lbl, _ in test_loader:\n",
        "      img = img.float().to(params.DEVICE)\n",
        "      preds, _ = ICaRLModel.classify(img, exemplars, ICaRL, task, trainDS, mean)\n",
        "      preds = preds.to(params.DEVICE)\n",
        "      labels = utils.mapFunction(lbl, col).to(params.DEVICE)\n",
        "\n",
        "      tot_preds = np.concatenate( ( tot_preds, preds.data.cpu().numpy() ) )\n",
        "      tot_lab = np.concatenate( (tot_lab, labels.data.cpu().numpy()  ) )\n",
        "\n",
        "      total += len(lbl)\n",
        "      running_corrects += torch.sum(preds == labels.data).data.item()\n",
        "\n",
        "  accuracy = float(running_corrects/total)\n",
        "  print(f'task: {task}', f'test accuracy = {accuracy}')\n",
        "  cf = confusion_matrix(tot_lab, tot_preds)\n",
        "  df_cm = pd.DataFrame(cf, range(task + params.TASK_SIZE), range(task + params.TASK_SIZE))\n",
        "  sn.set(font_scale = .5) # for label size\n",
        "  sn.heatmap(df_cm, annot=False)\n",
        "  plt.show()"
      ],
      "execution_count": null,
      "outputs": [
        {
          "output_type": "stream",
          "text": [
            "At step  0  and at epoch =  0  the loss is =  0.0336373895406723  and accuracy is =  0.1588\n",
            "At step  0  and at epoch =  1  the loss is =  0.02943507395684719  and accuracy is =  0.3474\n",
            "At step  0  and at epoch =  2  the loss is =  0.02225463092327118  and accuracy is =  0.4572\n",
            "At step  0  and at epoch =  3  the loss is =  0.025764985010027885  and accuracy is =  0.5046\n",
            "At step  0  and at epoch =  4  the loss is =  0.012791835702955723  and accuracy is =  0.5694\n",
            "At step  0  and at epoch =  5  the loss is =  0.015578038059175014  and accuracy is =  0.5982\n",
            "At step  0  and at epoch =  6  the loss is =  0.013526367023587227  and accuracy is =  0.6414\n",
            "At step  0  and at epoch =  7  the loss is =  0.0183611661195755  and accuracy is =  0.6714\n",
            "At step  0  and at epoch =  8  the loss is =  0.011819431558251381  and accuracy is =  0.6918\n",
            "At step  0  and at epoch =  9  the loss is =  0.023584796115756035  and accuracy is =  0.718\n",
            "At step  0  and at epoch =  10  the loss is =  0.016854306682944298  and accuracy is =  0.7224\n",
            "At step  0  and at epoch =  11  the loss is =  0.014551636762917042  and accuracy is =  0.7288\n",
            "At step  0  and at epoch =  12  the loss is =  0.022684650495648384  and accuracy is =  0.7404\n",
            "At step  0  and at epoch =  13  the loss is =  0.01890726014971733  and accuracy is =  0.7594\n",
            "At step  0  and at epoch =  14  the loss is =  0.027260789647698402  and accuracy is =  0.754\n",
            "At step  0  and at epoch =  15  the loss is =  0.007350448984652758  and accuracy is =  0.7956\n",
            "At step  0  and at epoch =  16  the loss is =  0.0071776257827878  and accuracy is =  0.8066\n",
            "At step  0  and at epoch =  17  the loss is =  0.008169026114046574  and accuracy is =  0.8002\n",
            "At step  0  and at epoch =  18  the loss is =  0.019734131172299385  and accuracy is =  0.8038\n",
            "At step  0  and at epoch =  19  the loss is =  0.028716934844851494  and accuracy is =  0.8092\n",
            "At step  0  and at epoch =  20  the loss is =  0.019686397165060043  and accuracy is =  0.8024\n",
            "At step  0  and at epoch =  21  the loss is =  0.015161199495196342  and accuracy is =  0.8128\n",
            "At step  0  and at epoch =  22  the loss is =  0.03286532685160637  and accuracy is =  0.8052\n",
            "At step  0  and at epoch =  23  the loss is =  0.01940486580133438  and accuracy is =  0.8214\n",
            "At step  0  and at epoch =  24  the loss is =  0.014910212717950344  and accuracy is =  0.8386\n",
            "At step  0  and at epoch =  25  the loss is =  0.012644819915294647  and accuracy is =  0.8422\n",
            "At step  0  and at epoch =  26  the loss is =  0.014041642658412457  and accuracy is =  0.8512\n",
            "At step  0  and at epoch =  27  the loss is =  0.009896701201796532  and accuracy is =  0.8508\n",
            "At step  0  and at epoch =  28  the loss is =  0.026670970022678375  and accuracy is =  0.8652\n",
            "At step  0  and at epoch =  29  the loss is =  0.026856908574700356  and accuracy is =  0.8616\n",
            "At step  0  and at epoch =  30  the loss is =  0.005248296074569225  and accuracy is =  0.857\n",
            "At step  0  and at epoch =  31  the loss is =  0.004463962744921446  and accuracy is =  0.8794\n",
            "At step  0  and at epoch =  32  the loss is =  0.014281154610216618  and accuracy is =  0.8812\n",
            "At step  0  and at epoch =  33  the loss is =  0.002358932513743639  and accuracy is =  0.8806\n",
            "At step  0  and at epoch =  34  the loss is =  0.0014506818260997534  and accuracy is =  0.8924\n",
            "At step  0  and at epoch =  35  the loss is =  0.02639634720981121  and accuracy is =  0.9036\n",
            "At step  0  and at epoch =  36  the loss is =  0.013257141225039959  and accuracy is =  0.8508\n",
            "At step  0  and at epoch =  37  the loss is =  0.004201072268188  and accuracy is =  0.8896\n",
            "At step  0  and at epoch =  38  the loss is =  0.0030975888948887587  and accuracy is =  0.9054\n",
            "At step  0  and at epoch =  39  the loss is =  0.00038865592796355486  and accuracy is =  0.917\n",
            "At step  0  and at epoch =  40  the loss is =  0.0207501407712698  and accuracy is =  0.9214\n",
            "At step  0  and at epoch =  41  the loss is =  0.019388312473893166  and accuracy is =  0.8638\n",
            "At step  0  and at epoch =  42  the loss is =  0.004621539730578661  and accuracy is =  0.8578\n",
            "At step  0  and at epoch =  43  the loss is =  0.0057416134513914585  and accuracy is =  0.9012\n",
            "At step  0  and at epoch =  44  the loss is =  0.001909238169901073  and accuracy is =  0.8958\n",
            "At step  0  and at epoch =  45  the loss is =  0.036597367376089096  and accuracy is =  0.9182\n",
            "At step  0  and at epoch =  46  the loss is =  0.02308671362698078  and accuracy is =  0.8238\n",
            "At step  0  and at epoch =  47  the loss is =  0.013367714360356331  and accuracy is =  0.8728\n",
            "At step  0  and at epoch =  48  the loss is =  0.005239568650722504  and accuracy is =  0.901\n",
            "At step  0  and at epoch =  49  the loss is =  0.008761467412114143  and accuracy is =  0.9366\n",
            "At step  0  and at epoch =  50  the loss is =  0.010615775361657143  and accuracy is =  0.9512\n",
            "At step  0  and at epoch =  51  the loss is =  0.006603749934583902  and accuracy is =  0.951\n",
            "At step  0  and at epoch =  52  the loss is =  0.0012475348776206374  and accuracy is =  0.9512\n",
            "At step  0  and at epoch =  53  the loss is =  0.006885486654937267  and accuracy is =  0.955\n",
            "At step  0  and at epoch =  54  the loss is =  0.015169139951467514  and accuracy is =  0.9624\n",
            "At step  0  and at epoch =  55  the loss is =  0.013912884518504143  and accuracy is =  0.9542\n",
            "At step  0  and at epoch =  56  the loss is =  0.0033225282095372677  and accuracy is =  0.9488\n",
            "At step  0  and at epoch =  57  the loss is =  0.010215386748313904  and accuracy is =  0.9594\n",
            "At step  0  and at epoch =  58  the loss is =  0.011382839642465115  and accuracy is =  0.9576\n",
            "At step  0  and at epoch =  59  the loss is =  0.006253811996430159  and accuracy is =  0.9606\n",
            "At step  0  and at epoch =  60  the loss is =  0.0019726708997040987  and accuracy is =  0.9658\n",
            "At step  0  and at epoch =  61  the loss is =  0.008778427727520466  and accuracy is =  0.9658\n",
            "At step  0  and at epoch =  62  the loss is =  0.004588455893099308  and accuracy is =  0.9678\n",
            "At step  0  and at epoch =  63  the loss is =  0.015037556178867817  and accuracy is =  0.9728\n",
            "At step  0  and at epoch =  64  the loss is =  0.0011364372912794352  and accuracy is =  0.9724\n",
            "At step  0  and at epoch =  65  the loss is =  0.032160259783267975  and accuracy is =  0.9706\n",
            "At step  0  and at epoch =  66  the loss is =  0.00597861222922802  and accuracy is =  0.9736\n",
            "At step  0  and at epoch =  67  the loss is =  0.005492156837135553  and accuracy is =  0.9712\n",
            "At step  0  and at epoch =  68  the loss is =  0.004948584828525782  and accuracy is =  0.974\n",
            "At step  0  and at epoch =  69  the loss is =  0.003163629677146673  and accuracy is =  0.9756\n",
            "task: 0 train accuracy = 0.982\n",
            "task: 0 test accuracy = 0.892\n"
          ],
          "name": "stdout"
        },
        {
          "output_type": "display_data",
          "data": {
            "image/png": "[encoded data removed]",
            "text/plain": [
              "<Figure size 432x288 with 2 Axes>"
            ]
          },
          "metadata": {
            "tags": []
          }
        },
        {
          "output_type": "stream",
          "text": [
            "At step  10  and at epoch =  0  the loss is =  0.030366024002432823  and accuracy is =  0.29328571428571426\n",
            "At step  10  and at epoch =  1  the loss is =  0.030089590698480606  and accuracy is =  0.38042857142857145\n",
            "At step  10  and at epoch =  2  the loss is =  0.02637207694351673  and accuracy is =  0.474\n",
            "At step  10  and at epoch =  3  the loss is =  0.025352824479341507  and accuracy is =  0.5241428571428571\n",
            "At step  10  and at epoch =  4  the loss is =  0.02334417589008808  and accuracy is =  0.5698571428571428\n",
            "At step  10  and at epoch =  5  the loss is =  0.02544373646378517  and accuracy is =  0.5927142857142857\n",
            "At step  10  and at epoch =  6  the loss is =  0.022942043840885162  and accuracy is =  0.6035714285714285\n",
            "At step  10  and at epoch =  7  the loss is =  0.018515897914767265  and accuracy is =  0.6301428571428571\n",
            "At step  10  and at epoch =  8  the loss is =  0.026120716705918312  and accuracy is =  0.6532857142857142\n",
            "At step  10  and at epoch =  9  the loss is =  0.02153201587498188  and accuracy is =  0.6685714285714286\n",
            "At step  10  and at epoch =  10  the loss is =  0.02493269555270672  and accuracy is =  0.6797142857142857\n",
            "At step  10  and at epoch =  11  the loss is =  0.021765930578112602  and accuracy is =  0.69\n",
            "At step  10  and at epoch =  12  the loss is =  0.021470485255122185  and accuracy is =  0.7017142857142857\n",
            "At step  10  and at epoch =  13  the loss is =  0.02489803358912468  and accuracy is =  0.7122857142857143\n",
            "At step  10  and at epoch =  14  the loss is =  0.019361598417162895  and accuracy is =  0.7254285714285714\n",
            "At step  10  and at epoch =  15  the loss is =  0.018886076286435127  and accuracy is =  0.7185714285714285\n",
            "At step  10  and at epoch =  16  the loss is =  0.02104067988693714  and accuracy is =  0.7295714285714285\n",
            "At step  10  and at epoch =  17  the loss is =  0.01919998787343502  and accuracy is =  0.7448571428571429\n",
            "At step  10  and at epoch =  18  the loss is =  0.01926438696682453  and accuracy is =  0.7494285714285714\n",
            "At step  10  and at epoch =  19  the loss is =  0.018212204799056053  and accuracy is =  0.754\n",
            "At step  10  and at epoch =  20  the loss is =  0.019776998087763786  and accuracy is =  0.7687142857142857\n",
            "At step  10  and at epoch =  21  the loss is =  0.01842423900961876  and accuracy is =  0.7567142857142857\n",
            "At step  10  and at epoch =  22  the loss is =  0.015822818502783775  and accuracy is =  0.7644285714285715\n",
            "At step  10  and at epoch =  23  the loss is =  0.01961396262049675  and accuracy is =  0.7758571428571429\n",
            "At step  10  and at epoch =  24  the loss is =  0.01888236403465271  and accuracy is =  0.7801428571428571\n",
            "At step  10  and at epoch =  25  the loss is =  0.018587756901979446  and accuracy is =  0.7795714285714286\n",
            "At step  10  and at epoch =  26  the loss is =  0.021022768691182137  and accuracy is =  0.7865714285714286\n",
            "At step  10  and at epoch =  27  the loss is =  0.019327670335769653  and accuracy is =  0.7861428571428571\n",
            "At step  10  and at epoch =  28  the loss is =  0.01920243352651596  and accuracy is =  0.8005714285714286\n",
            "At step  10  and at epoch =  29  the loss is =  0.018515998497605324  and accuracy is =  0.7917142857142857\n",
            "At step  10  and at epoch =  30  the loss is =  0.018950626254081726  and accuracy is =  0.8038571428571428\n",
            "At step  10  and at epoch =  31  the loss is =  0.01842041127383709  and accuracy is =  0.8027142857142857\n",
            "At step  10  and at epoch =  32  the loss is =  0.018953837454319  and accuracy is =  0.8187142857142857\n",
            "At step  10  and at epoch =  33  the loss is =  0.019849885255098343  and accuracy is =  0.8204285714285714\n",
            "At step  10  and at epoch =  34  the loss is =  0.01679537631571293  and accuracy is =  0.814\n",
            "At step  10  and at epoch =  35  the loss is =  0.018004991114139557  and accuracy is =  0.8131428571428572\n",
            "At step  10  and at epoch =  36  the loss is =  0.017609311267733574  and accuracy is =  0.8242857142857143\n",
            "At step  10  and at epoch =  37  the loss is =  0.016023680567741394  and accuracy is =  0.821\n",
            "At step  10  and at epoch =  38  the loss is =  0.016646843403577805  and accuracy is =  0.826\n",
            "At step  10  and at epoch =  39  the loss is =  0.017038879916071892  and accuracy is =  0.8311428571428572\n",
            "At step  10  and at epoch =  40  the loss is =  0.019637759774923325  and accuracy is =  0.8358571428571429\n",
            "At step  10  and at epoch =  41  the loss is =  0.019341060891747475  and accuracy is =  0.8344285714285714\n",
            "At step  10  and at epoch =  42  the loss is =  0.016959574073553085  and accuracy is =  0.8324285714285714\n",
            "At step  10  and at epoch =  43  the loss is =  0.014207672327756882  and accuracy is =  0.8311428571428572\n",
            "At step  10  and at epoch =  44  the loss is =  0.01701274886727333  and accuracy is =  0.8452857142857143\n",
            "At step  10  and at epoch =  45  the loss is =  0.01643063873052597  and accuracy is =  0.8461428571428572\n",
            "At step  10  and at epoch =  46  the loss is =  0.017533959820866585  and accuracy is =  0.8404285714285714\n",
            "At step  10  and at epoch =  47  the loss is =  0.018978387117385864  and accuracy is =  0.844\n",
            "At step  10  and at epoch =  48  the loss is =  0.018693581223487854  and accuracy is =  0.8428571428571429\n",
            "At step  10  and at epoch =  49  the loss is =  0.013765550218522549  and accuracy is =  0.8835714285714286\n",
            "At step  10  and at epoch =  50  the loss is =  0.0167344119399786  and accuracy is =  0.9002857142857142\n",
            "At step  10  and at epoch =  51  the loss is =  0.01426620502024889  and accuracy is =  0.897\n",
            "At step  10  and at epoch =  52  the loss is =  0.014600266702473164  and accuracy is =  0.9071428571428571\n",
            "At step  10  and at epoch =  53  the loss is =  0.013352508656680584  and accuracy is =  0.9095714285714286\n",
            "At step  10  and at epoch =  54  the loss is =  0.012901547364890575  and accuracy is =  0.9072857142857143\n",
            "At step  10  and at epoch =  55  the loss is =  0.0135112339630723  and accuracy is =  0.9107142857142857\n",
            "At step  10  and at epoch =  56  the loss is =  0.011681200936436653  and accuracy is =  0.9137142857142857\n",
            "At step  10  and at epoch =  57  the loss is =  0.014719073660671711  and accuracy is =  0.9164285714285715\n",
            "At step  10  and at epoch =  58  the loss is =  0.013239054940640926  and accuracy is =  0.9158571428571428\n",
            "At step  10  and at epoch =  59  the loss is =  0.013779050670564175  and accuracy is =  0.9145714285714286\n",
            "At step  10  and at epoch =  60  the loss is =  0.011910728178918362  and accuracy is =  0.9161428571428571\n",
            "At step  10  and at epoch =  61  the loss is =  0.012828044593334198  and accuracy is =  0.9185714285714286\n",
            "At step  10  and at epoch =  62  the loss is =  0.011873709969222546  and accuracy is =  0.9208571428571428\n",
            "At step  10  and at epoch =  63  the loss is =  0.012958082370460033  and accuracy is =  0.9215714285714286\n",
            "At step  10  and at epoch =  64  the loss is =  0.010792423970997334  and accuracy is =  0.931\n",
            "At step  10  and at epoch =  65  the loss is =  0.012167457491159439  and accuracy is =  0.9272857142857143\n",
            "At step  10  and at epoch =  66  the loss is =  0.013997282832860947  and accuracy is =  0.9282857142857143\n",
            "At step  10  and at epoch =  67  the loss is =  0.012046288698911667  and accuracy is =  0.9305714285714286\n",
            "At step  10  and at epoch =  68  the loss is =  0.012594847939908504  and accuracy is =  0.9315714285714286\n",
            "At step  10  and at epoch =  69  the loss is =  0.01315037440508604  and accuracy is =  0.9305714285714286\n",
            "task: 10 train accuracy = 0.9544\n",
            "task: 10 test accuracy = 0.8135\n"
          ],
          "name": "stdout"
        },
        {
          "output_type": "display_data",
          "data": {
            "image/png": "[encoded data removed]",
            "text/plain": [
              "<Figure size 432x288 with 2 Axes>"
            ]
          },
          "metadata": {
            "tags": []
          }
        },
        {
          "output_type": "stream",
          "text": [
            "At step  20  and at epoch =  0  the loss is =  0.04109616577625275  and accuracy is =  0.26785714285714285\n",
            "At step  20  and at epoch =  1  the loss is =  0.03896987810730934  and accuracy is =  0.3392857142857143\n",
            "At step  20  and at epoch =  2  the loss is =  0.02964041382074356  and accuracy is =  0.437\n",
            "At step  20  and at epoch =  3  the loss is =  0.03718454763293266  and accuracy is =  0.49685714285714283\n",
            "At step  20  and at epoch =  4  the loss is =  0.03454594314098358  and accuracy is =  0.5385714285714286\n",
            "At step  20  and at epoch =  5  the loss is =  0.028597187250852585  and accuracy is =  0.563\n",
            "At step  20  and at epoch =  6  the loss is =  0.03535304591059685  and accuracy is =  0.6027142857142858\n",
            "At step  20  and at epoch =  7  the loss is =  0.03645609691739082  and accuracy is =  0.6151428571428571\n",
            "At step  20  and at epoch =  8  the loss is =  0.03423989564180374  and accuracy is =  0.6237142857142857\n",
            "At step  20  and at epoch =  9  the loss is =  0.03207738324999809  and accuracy is =  0.6392857142857142\n",
            "At step  20  and at epoch =  10  the loss is =  0.030895788222551346  and accuracy is =  0.6584285714285715\n",
            "At step  20  and at epoch =  11  the loss is =  0.03175695240497589  and accuracy is =  0.6817142857142857\n",
            "At step  20  and at epoch =  12  the loss is =  0.030720174312591553  and accuracy is =  0.6752857142857143\n",
            "At step  20  and at epoch =  13  the loss is =  0.027529045939445496  and accuracy is =  0.6961428571428572\n",
            "At step  20  and at epoch =  14  the loss is =  0.031298812478780746  and accuracy is =  0.7067142857142857\n",
            "At step  20  and at epoch =  15  the loss is =  0.0308974739164114  and accuracy is =  0.7042857142857143\n",
            "At step  20  and at epoch =  16  the loss is =  0.03191791847348213  and accuracy is =  0.7068571428571429\n",
            "At step  20  and at epoch =  17  the loss is =  0.02907666005194187  and accuracy is =  0.7328571428571429\n",
            "At step  20  and at epoch =  18  the loss is =  0.030653292313218117  and accuracy is =  0.7308571428571429\n",
            "At step  20  and at epoch =  19  the loss is =  0.031022019684314728  and accuracy is =  0.7367142857142858\n",
            "At step  20  and at epoch =  20  the loss is =  0.030250653624534607  and accuracy is =  0.7414285714285714\n",
            "At step  20  and at epoch =  21  the loss is =  0.028251327574253082  and accuracy is =  0.7427142857142857\n",
            "At step  20  and at epoch =  22  the loss is =  0.028845641762018204  and accuracy is =  0.7567142857142857\n",
            "At step  20  and at epoch =  23  the loss is =  0.02972107008099556  and accuracy is =  0.7568571428571429\n",
            "At step  20  and at epoch =  24  the loss is =  0.032038550823926926  and accuracy is =  0.7627142857142857\n",
            "At step  20  and at epoch =  25  the loss is =  0.032393183559179306  and accuracy is =  0.7622857142857142\n",
            "At step  20  and at epoch =  26  the loss is =  0.028257587924599648  and accuracy is =  0.7678571428571429\n",
            "At step  20  and at epoch =  27  the loss is =  0.030400564894080162  and accuracy is =  0.7644285714285715\n",
            "At step  20  and at epoch =  28  the loss is =  0.02925548143684864  and accuracy is =  0.7658571428571429\n",
            "At step  20  and at epoch =  29  the loss is =  0.02685043402016163  and accuracy is =  0.7794285714285715\n",
            "At step  20  and at epoch =  30  the loss is =  0.03179200738668442  and accuracy is =  0.7867142857142857\n",
            "At step  20  and at epoch =  31  the loss is =  0.028513776138424873  and accuracy is =  0.7722857142857142\n",
            "At step  20  and at epoch =  32  the loss is =  0.027743322774767876  and accuracy is =  0.7727142857142857\n",
            "At step  20  and at epoch =  33  the loss is =  0.02630467154085636  and accuracy is =  0.7904285714285715\n",
            "At step  20  and at epoch =  34  the loss is =  0.029632797464728355  and accuracy is =  0.7907142857142857\n",
            "At step  20  and at epoch =  35  the loss is =  0.028026293963193893  and accuracy is =  0.7907142857142857\n",
            "At step  20  and at epoch =  36  the loss is =  0.03178262710571289  and accuracy is =  0.794\n",
            "At step  20  and at epoch =  37  the loss is =  0.030391499400138855  and accuracy is =  0.7887142857142857\n",
            "At step  20  and at epoch =  38  the loss is =  0.026331691071391106  and accuracy is =  0.792\n",
            "At step  20  and at epoch =  39  the loss is =  0.02720402553677559  and accuracy is =  0.804\n",
            "At step  20  and at epoch =  40  the loss is =  0.024708284065127373  and accuracy is =  0.8022857142857143\n",
            "At step  20  and at epoch =  41  the loss is =  0.03023362345993519  and accuracy is =  0.8081428571428572\n",
            "At step  20  and at epoch =  42  the loss is =  0.03084363415837288  and accuracy is =  0.813\n",
            "At step  20  and at epoch =  43  the loss is =  0.027317047119140625  and accuracy is =  0.8081428571428572\n",
            "At step  20  and at epoch =  44  the loss is =  0.024140330031514168  and accuracy is =  0.8124285714285714\n",
            "At step  20  and at epoch =  45  the loss is =  0.02772902511060238  and accuracy is =  0.818\n",
            "At step  20  and at epoch =  46  the loss is =  0.02717362530529499  and accuracy is =  0.8155714285714286\n",
            "At step  20  and at epoch =  47  the loss is =  0.027522139251232147  and accuracy is =  0.8151428571428572\n",
            "At step  20  and at epoch =  48  the loss is =  0.02762812376022339  and accuracy is =  0.8095714285714286\n",
            "At step  20  and at epoch =  49  the loss is =  0.02672239951789379  and accuracy is =  0.845\n",
            "At step  20  and at epoch =  50  the loss is =  0.022009875625371933  and accuracy is =  0.8618571428571429\n",
            "At step  20  and at epoch =  51  the loss is =  0.024935001507401466  and accuracy is =  0.8704285714285714\n",
            "At step  20  and at epoch =  52  the loss is =  0.026891717687249184  and accuracy is =  0.8785714285714286\n",
            "At step  20  and at epoch =  53  the loss is =  0.023444877937436104  and accuracy is =  0.875\n",
            "At step  20  and at epoch =  54  the loss is =  0.02359059825539589  and accuracy is =  0.873\n",
            "At step  20  and at epoch =  55  the loss is =  0.02318660542368889  and accuracy is =  0.8685714285714285\n",
            "At step  20  and at epoch =  56  the loss is =  0.023846039548516273  and accuracy is =  0.8764285714285714\n",
            "At step  20  and at epoch =  57  the loss is =  0.02164599671959877  and accuracy is =  0.8827142857142857\n",
            "At step  20  and at epoch =  58  the loss is =  0.022257015109062195  and accuracy is =  0.8751428571428571\n",
            "At step  20  and at epoch =  59  the loss is =  0.02460581064224243  and accuracy is =  0.8797142857142857\n",
            "At step  20  and at epoch =  60  the loss is =  0.023738345131278038  and accuracy is =  0.8791428571428571\n",
            "At step  20  and at epoch =  61  the loss is =  0.02202182449400425  and accuracy is =  0.89\n",
            "At step  20  and at epoch =  62  the loss is =  0.023192130029201508  and accuracy is =  0.8842857142857142\n",
            "At step  20  and at epoch =  63  the loss is =  0.02264587953686714  and accuracy is =  0.8885714285714286\n",
            "At step  20  and at epoch =  64  the loss is =  0.02444818615913391  and accuracy is =  0.8882857142857142\n",
            "At step  20  and at epoch =  65  the loss is =  0.02366417646408081  and accuracy is =  0.8884285714285715\n",
            "At step  20  and at epoch =  66  the loss is =  0.0218688752502203  and accuracy is =  0.8884285714285715\n",
            "At step  20  and at epoch =  67  the loss is =  0.02295408584177494  and accuracy is =  0.891\n",
            "At step  20  and at epoch =  68  the loss is =  0.022495197132229805  and accuracy is =  0.8887142857142857\n",
            "At step  20  and at epoch =  69  the loss is =  0.022049488499760628  and accuracy is =  0.8938571428571429\n",
            "task: 20 train accuracy = 0.9112\n",
            "task: 20 test accuracy = 0.76\n"
          ],
          "name": "stdout"
        },
        {
          "output_type": "display_data",
          "data": {
            "image/png": "[encoded data removed]",
            "text/plain": [
              "<Figure size 432x288 with 2 Axes>"
            ]
          },
          "metadata": {
            "tags": []
          }
        },
        {
          "output_type": "stream",
          "text": [
            "At step  30  and at epoch =  0  the loss is =  0.047356799244880676  and accuracy is =  0.2724679029957204\n",
            "At step  30  and at epoch =  1  the loss is =  0.04599460959434509  and accuracy is =  0.35021398002853066\n",
            "At step  30  and at epoch =  2  the loss is =  0.04371301829814911  and accuracy is =  0.42624821683309555\n",
            "At step  30  and at epoch =  3  the loss is =  0.042441584169864655  and accuracy is =  0.47660485021398\n",
            "At step  30  and at epoch =  4  the loss is =  0.04263845458626747  and accuracy is =  0.5102710413694722\n",
            "At step  30  and at epoch =  5  the loss is =  0.039070889353752136  and accuracy is =  0.5425106990014266\n",
            "At step  30  and at epoch =  6  the loss is =  0.04009871557354927  and accuracy is =  0.572039942938659\n",
            "At step  30  and at epoch =  7  the loss is =  0.04068795591592789  and accuracy is =  0.58830242510699\n",
            "At step  30  and at epoch =  8  the loss is =  0.03927459567785263  and accuracy is =  0.6035663338088445\n",
            "At step  30  and at epoch =  9  the loss is =  0.03893233463168144  and accuracy is =  0.617546362339515\n",
            "At step  30  and at epoch =  10  the loss is =  0.040892645716667175  and accuracy is =  0.6249643366619115\n",
            "At step  30  and at epoch =  11  the loss is =  0.04152201861143112  and accuracy is =  0.645506419400856\n",
            "At step  30  and at epoch =  12  the loss is =  0.037056129425764084  and accuracy is =  0.6506419400855921\n",
            "At step  30  and at epoch =  13  the loss is =  0.042471300810575485  and accuracy is =  0.6547788873038516\n",
            "At step  30  and at epoch =  14  the loss is =  0.03982435539364815  and accuracy is =  0.6670470756062767\n",
            "At step  30  and at epoch =  15  the loss is =  0.03937290608882904  and accuracy is =  0.675320970042796\n",
            "At step  30  and at epoch =  16  the loss is =  0.04208033159375191  and accuracy is =  0.68188302425107\n",
            "At step  30  and at epoch =  17  the loss is =  0.03855336084961891  and accuracy is =  0.6901569186875891\n",
            "At step  30  and at epoch =  18  the loss is =  0.04202334210276604  and accuracy is =  0.6922967189728959\n",
            "At step  30  and at epoch =  19  the loss is =  0.039246346801519394  and accuracy is =  0.6990014265335235\n",
            "At step  30  and at epoch =  20  the loss is =  0.03863336145877838  and accuracy is =  0.7105563480741798\n",
            "At step  30  and at epoch =  21  the loss is =  0.038266055285930634  and accuracy is =  0.7138373751783167\n",
            "At step  30  and at epoch =  22  the loss is =  0.042430564761161804  and accuracy is =  0.7065620542082739\n",
            "At step  30  and at epoch =  23  the loss is =  0.03566090390086174  and accuracy is =  0.7178316690442226\n",
            "At step  30  and at epoch =  24  the loss is =  0.03706393018364906  and accuracy is =  0.7359486447931526\n",
            "At step  30  and at epoch =  25  the loss is =  0.0414583757519722  and accuracy is =  0.7335235378031384\n",
            "At step  30  and at epoch =  26  the loss is =  0.03833044320344925  and accuracy is =  0.733095577746077\n",
            "At step  30  and at epoch =  27  the loss is =  0.03773122280836105  and accuracy is =  0.7380884450784594\n",
            "At step  30  and at epoch =  28  the loss is =  0.03405424952507019  and accuracy is =  0.7456490727532097\n",
            "At step  30  and at epoch =  29  the loss is =  0.03737981617450714  and accuracy is =  0.7475035663338089\n",
            "At step  30  and at epoch =  30  the loss is =  0.03609754145145416  and accuracy is =  0.7500713266761769\n",
            "At step  30  and at epoch =  31  the loss is =  0.03629552200436592  and accuracy is =  0.7497860199714693\n",
            "At step  30  and at epoch =  32  the loss is =  0.03893522173166275  and accuracy is =  0.7540656205420827\n",
            "At step  30  and at epoch =  33  the loss is =  0.03709127753973007  and accuracy is =  0.7609129814550641\n",
            "At step  30  and at epoch =  34  the loss is =  0.04247435927391052  and accuracy is =  0.7644793152639087\n",
            "At step  30  and at epoch =  35  the loss is =  0.042552538216114044  and accuracy is =  0.7653352353780314\n",
            "At step  30  and at epoch =  36  the loss is =  0.03755175694823265  and accuracy is =  0.7646219686162625\n",
            "At step  30  and at epoch =  37  the loss is =  0.03437787666916847  and accuracy is =  0.7748930099857346\n",
            "At step  30  and at epoch =  38  the loss is =  0.03595047444105148  and accuracy is =  0.7720399429386591\n",
            "At step  30  and at epoch =  39  the loss is =  0.033531494438648224  and accuracy is =  0.7830242510699001\n",
            "At step  30  and at epoch =  40  the loss is =  0.035138268023729324  and accuracy is =  0.7776034236804565\n",
            "At step  30  and at epoch =  41  the loss is =  0.03662505000829697  and accuracy is =  0.7750356633380885\n",
            "At step  30  and at epoch =  42  the loss is =  0.03679748624563217  and accuracy is =  0.781169757489301\n",
            "At step  30  and at epoch =  43  the loss is =  0.03897878900170326  and accuracy is =  0.7855920114122682\n",
            "At step  30  and at epoch =  44  the loss is =  0.036836426705121994  and accuracy is =  0.7847360912981455\n",
            "At step  30  and at epoch =  45  the loss is =  0.03360410034656525  and accuracy is =  0.7861626248216833\n",
            "At step  30  and at epoch =  46  the loss is =  0.03986020386219025  and accuracy is =  0.7958630527817404\n",
            "At step  30  and at epoch =  47  the loss is =  0.04010876268148422  and accuracy is =  0.8009985734664765\n",
            "At step  30  and at epoch =  48  the loss is =  0.03626642003655434  and accuracy is =  0.7887303851640514\n",
            "At step  30  and at epoch =  49  the loss is =  0.035310402512550354  and accuracy is =  0.8268188302425107\n",
            "At step  30  and at epoch =  50  the loss is =  0.03410341218113899  and accuracy is =  0.8358059914407988\n",
            "At step  30  and at epoch =  51  the loss is =  0.031102769076824188  and accuracy is =  0.8496433666191155\n",
            "At step  30  and at epoch =  52  the loss is =  0.03505340591073036  and accuracy is =  0.855206847360913\n",
            "At step  30  and at epoch =  53  the loss is =  0.03383791446685791  and accuracy is =  0.8563480741797432\n",
            "At step  30  and at epoch =  54  the loss is =  0.03440996631979942  and accuracy is =  0.8607703281027104\n",
            "At step  30  and at epoch =  55  the loss is =  0.03341049328446388  and accuracy is =  0.8607703281027104\n",
            "At step  30  and at epoch =  56  the loss is =  0.033858370035886765  and accuracy is =  0.8562054208273895\n",
            "At step  30  and at epoch =  57  the loss is =  0.03225691616535187  and accuracy is =  0.8634807417974323\n",
            "At step  30  and at epoch =  58  the loss is =  0.03088822402060032  and accuracy is =  0.8617689015691868\n",
            "At step  30  and at epoch =  59  the loss is =  0.03146937116980553  and accuracy is =  0.8653352353780314\n",
            "At step  30  and at epoch =  60  the loss is =  0.03222373500466347  and accuracy is =  0.8683309557774608\n",
            "At step  30  and at epoch =  61  the loss is =  0.03398866951465607  and accuracy is =  0.8699001426533524\n",
            "At step  30  and at epoch =  62  the loss is =  0.03484975919127464  and accuracy is =  0.8707560627674751\n",
            "At step  30  and at epoch =  63  the loss is =  0.03193669393658638  and accuracy is =  0.8764621968616263\n",
            "At step  30  and at epoch =  64  the loss is =  0.03209451586008072  and accuracy is =  0.8825962910128388\n",
            "At step  30  and at epoch =  65  the loss is =  0.02973281778395176  and accuracy is =  0.872039942938659\n",
            "At step  30  and at epoch =  66  the loss is =  0.033368952572345734  and accuracy is =  0.8750356633380885\n",
            "At step  30  and at epoch =  67  the loss is =  0.03285112604498863  and accuracy is =  0.8747503566333809\n",
            "At step  30  and at epoch =  68  the loss is =  0.03196130692958832  and accuracy is =  0.8793152639087018\n",
            "At step  30  and at epoch =  69  the loss is =  0.03311365097761154  and accuracy is =  0.8767475035663338\n",
            "task: 30 train accuracy = 0.8724\n",
            "task: 30 test accuracy = 0.6915\n"
          ],
          "name": "stdout"
        },
        {
          "output_type": "display_data",
          "data": {
            "image/png": "[encoded data removed]",
            "text/plain": [
              "<Figure size 432x288 with 2 Axes>"
            ]
          },
          "metadata": {
            "tags": []
          }
        },
        {
          "output_type": "stream",
          "text": [
            "At step  40  and at epoch =  0  the loss is =  0.0570579469203949  and accuracy is =  0.27014285714285713\n",
            "At step  40  and at epoch =  1  the loss is =  0.05883275717496872  and accuracy is =  0.33371428571428574\n",
            "At step  40  and at epoch =  2  the loss is =  0.058996234089136124  and accuracy is =  0.38671428571428573\n",
            "At step  40  and at epoch =  3  the loss is =  0.051977161318063736  and accuracy is =  0.4268571428571429\n",
            "At step  40  and at epoch =  4  the loss is =  0.055674050003290176  and accuracy is =  0.45785714285714285\n",
            "At step  40  and at epoch =  5  the loss is =  0.053309231996536255  and accuracy is =  0.48714285714285716\n",
            "At step  40  and at epoch =  6  the loss is =  0.05848129466176033  and accuracy is =  0.5067142857142857\n",
            "At step  40  and at epoch =  7  the loss is =  0.054785337299108505  and accuracy is =  0.5388571428571428\n",
            "At step  40  and at epoch =  8  the loss is =  0.05516038462519646  and accuracy is =  0.5565714285714286\n",
            "At step  40  and at epoch =  9  the loss is =  0.05904960632324219  and accuracy is =  0.569\n",
            "At step  40  and at epoch =  10  the loss is =  0.05433380976319313  and accuracy is =  0.5767142857142857\n",
            "At step  40  and at epoch =  11  the loss is =  0.05457792058587074  and accuracy is =  0.5934285714285714\n",
            "At step  40  and at epoch =  12  the loss is =  0.05966329574584961  and accuracy is =  0.6052857142857143\n",
            "At step  40  and at epoch =  13  the loss is =  0.056093424558639526  and accuracy is =  0.6097142857142858\n",
            "At step  40  and at epoch =  14  the loss is =  0.0489068478345871  and accuracy is =  0.6202857142857143\n",
            "At step  40  and at epoch =  15  the loss is =  0.05537618324160576  and accuracy is =  0.6401428571428571\n",
            "At step  40  and at epoch =  16  the loss is =  0.05051179975271225  and accuracy is =  0.6472857142857142\n",
            "At step  40  and at epoch =  17  the loss is =  0.05341367423534393  and accuracy is =  0.6465714285714286\n",
            "At step  40  and at epoch =  18  the loss is =  0.05304346978664398  and accuracy is =  0.6567142857142857\n",
            "At step  40  and at epoch =  19  the loss is =  0.054258234798908234  and accuracy is =  0.6772857142857143\n",
            "At step  40  and at epoch =  20  the loss is =  0.05456288531422615  and accuracy is =  0.671\n",
            "At step  40  and at epoch =  21  the loss is =  0.049859706312417984  and accuracy is =  0.6727142857142857\n",
            "At step  40  and at epoch =  22  the loss is =  0.04992859065532684  and accuracy is =  0.6802857142857143\n",
            "At step  40  and at epoch =  23  the loss is =  0.05230127274990082  and accuracy is =  0.692\n",
            "At step  40  and at epoch =  24  the loss is =  0.054076261818408966  and accuracy is =  0.6935714285714286\n",
            "At step  40  and at epoch =  25  the loss is =  0.04758908227086067  and accuracy is =  0.689\n",
            "At step  40  and at epoch =  26  the loss is =  0.05427708104252815  and accuracy is =  0.7075714285714285\n",
            "At step  40  and at epoch =  27  the loss is =  0.05260969698429108  and accuracy is =  0.7104285714285714\n",
            "At step  40  and at epoch =  28  the loss is =  0.05541876703500748  and accuracy is =  0.7202857142857143\n",
            "At step  40  and at epoch =  29  the loss is =  0.051286131143569946  and accuracy is =  0.7177142857142857\n",
            "At step  40  and at epoch =  30  the loss is =  0.04836438223719597  and accuracy is =  0.7241428571428571\n",
            "At step  40  and at epoch =  31  the loss is =  0.05241353064775467  and accuracy is =  0.7265714285714285\n",
            "At step  40  and at epoch =  32  the loss is =  0.05033242702484131  and accuracy is =  0.7351428571428571\n",
            "At step  40  and at epoch =  33  the loss is =  0.05110206454992294  and accuracy is =  0.7348571428571429\n",
            "At step  40  and at epoch =  34  the loss is =  0.046844009310007095  and accuracy is =  0.7385714285714285\n",
            "At step  40  and at epoch =  35  the loss is =  0.052976127713918686  and accuracy is =  0.7442857142857143\n",
            "At step  40  and at epoch =  36  the loss is =  0.047845084220170975  and accuracy is =  0.7371428571428571\n",
            "At step  40  and at epoch =  37  the loss is =  0.04907047003507614  and accuracy is =  0.7407142857142858\n",
            "At step  40  and at epoch =  38  the loss is =  0.05007251352071762  and accuracy is =  0.7422857142857143\n",
            "At step  40  and at epoch =  39  the loss is =  0.049771178513765335  and accuracy is =  0.7487142857142857\n",
            "At step  40  and at epoch =  40  the loss is =  0.05545007809996605  and accuracy is =  0.7494285714285714\n",
            "At step  40  and at epoch =  41  the loss is =  0.047463033348321915  and accuracy is =  0.7514285714285714\n",
            "At step  40  and at epoch =  42  the loss is =  0.04886002838611603  and accuracy is =  0.7724285714285715\n",
            "At step  40  and at epoch =  43  the loss is =  0.05110457167029381  and accuracy is =  0.7635714285714286\n",
            "At step  40  and at epoch =  44  the loss is =  0.048704128712415695  and accuracy is =  0.7627142857142857\n",
            "At step  40  and at epoch =  45  the loss is =  0.0516740120947361  and accuracy is =  0.7707142857142857\n",
            "At step  40  and at epoch =  46  the loss is =  0.05140991136431694  and accuracy is =  0.7587142857142857\n",
            "At step  40  and at epoch =  47  the loss is =  0.04635756090283394  and accuracy is =  0.7677142857142857\n",
            "At step  40  and at epoch =  48  the loss is =  0.053675226867198944  and accuracy is =  0.7738571428571429\n",
            "At step  40  and at epoch =  49  the loss is =  0.048679836094379425  and accuracy is =  0.8184285714285714\n",
            "At step  40  and at epoch =  50  the loss is =  0.0434446781873703  and accuracy is =  0.8371428571428572\n",
            "At step  40  and at epoch =  51  the loss is =  0.04822161793708801  and accuracy is =  0.8414285714285714\n",
            "At step  40  and at epoch =  52  the loss is =  0.04423988237977028  and accuracy is =  0.8427142857142857\n",
            "At step  40  and at epoch =  53  the loss is =  0.04347449541091919  and accuracy is =  0.8468571428571429\n",
            "At step  40  and at epoch =  54  the loss is =  0.04307907447218895  and accuracy is =  0.8492857142857143\n",
            "At step  40  and at epoch =  55  the loss is =  0.04391428455710411  and accuracy is =  0.8488571428571429\n",
            "At step  40  and at epoch =  56  the loss is =  0.04365309700369835  and accuracy is =  0.8557142857142858\n",
            "At step  40  and at epoch =  57  the loss is =  0.046319715678691864  and accuracy is =  0.8584285714285714\n",
            "At step  40  and at epoch =  58  the loss is =  0.042318567633628845  and accuracy is =  0.8561428571428571\n",
            "At step  40  and at epoch =  59  the loss is =  0.04356128349900246  and accuracy is =  0.8581428571428571\n",
            "At step  40  and at epoch =  60  the loss is =  0.04480435326695442  and accuracy is =  0.8572857142857143\n",
            "At step  40  and at epoch =  61  the loss is =  0.043949928134679794  and accuracy is =  0.8662857142857143\n",
            "At step  40  and at epoch =  62  the loss is =  0.04084465652704239  and accuracy is =  0.8645714285714285\n",
            "At step  40  and at epoch =  63  the loss is =  0.04097306355834007  and accuracy is =  0.8662857142857143\n",
            "At step  40  and at epoch =  64  the loss is =  0.04232499748468399  and accuracy is =  0.8694285714285714\n",
            "At step  40  and at epoch =  65  the loss is =  0.039616554975509644  and accuracy is =  0.8642857142857143\n",
            "At step  40  and at epoch =  66  the loss is =  0.04428067430853844  and accuracy is =  0.8687142857142857\n",
            "At step  40  and at epoch =  67  the loss is =  0.042235955595970154  and accuracy is =  0.8701428571428571\n",
            "At step  40  and at epoch =  68  the loss is =  0.044784706085920334  and accuracy is =  0.8724285714285714\n",
            "At step  40  and at epoch =  69  the loss is =  0.044191159307956696  and accuracy is =  0.8702857142857143\n",
            "task: 40 train accuracy = 0.8252\n",
            "task: 40 test accuracy = 0.6438\n"
          ],
          "name": "stdout"
        },
        {
          "output_type": "display_data",
          "data": {
            "image/png": "[encoded data removed]",
            "text/plain": [
              "<Figure size 432x288 with 2 Axes>"
            ]
          },
          "metadata": {
            "tags": []
          }
        },
        {
          "output_type": "stream",
          "text": [
            "At step  50  and at epoch =  0  the loss is =  0.07140738517045975  and accuracy is =  0.25771428571428573\n",
            "At step  50  and at epoch =  1  the loss is =  0.06861652433872223  and accuracy is =  0.3397142857142857\n",
            "At step  50  and at epoch =  2  the loss is =  0.06468401849269867  and accuracy is =  0.40185714285714286\n",
            "At step  50  and at epoch =  3  the loss is =  0.06117944419384003  and accuracy is =  0.4412857142857143\n",
            "At step  50  and at epoch =  4  the loss is =  0.06230979785323143  and accuracy is =  0.47714285714285715\n",
            "At step  50  and at epoch =  5  the loss is =  0.06065322831273079  and accuracy is =  0.496\n",
            "At step  50  and at epoch =  6  the loss is =  0.06174367666244507  and accuracy is =  0.5164285714285715\n",
            "At step  50  and at epoch =  7  the loss is =  0.06272317469120026  and accuracy is =  0.5382857142857143\n",
            "At step  50  and at epoch =  8  the loss is =  0.06329348683357239  and accuracy is =  0.5528571428571428\n",
            "At step  50  and at epoch =  9  the loss is =  0.06035739555954933  and accuracy is =  0.5691428571428572\n",
            "At step  50  and at epoch =  10  the loss is =  0.05849740654230118  and accuracy is =  0.578\n",
            "At step  50  and at epoch =  11  the loss is =  0.06251800805330276  and accuracy is =  0.5964285714285714\n",
            "At step  50  and at epoch =  12  the loss is =  0.06426180154085159  and accuracy is =  0.6014285714285714\n",
            "At step  50  and at epoch =  13  the loss is =  0.0622655414044857  and accuracy is =  0.6134285714285714\n",
            "At step  50  and at epoch =  14  the loss is =  0.06167404353618622  and accuracy is =  0.627\n",
            "At step  50  and at epoch =  15  the loss is =  0.061484500765800476  and accuracy is =  0.6321428571428571\n",
            "At step  50  and at epoch =  16  the loss is =  0.06636659055948257  and accuracy is =  0.6318571428571429\n",
            "At step  50  and at epoch =  17  the loss is =  0.06442680209875107  and accuracy is =  0.6425714285714286\n",
            "At step  50  and at epoch =  18  the loss is =  0.056400805711746216  and accuracy is =  0.6611428571428571\n",
            "At step  50  and at epoch =  19  the loss is =  0.06074792891740799  and accuracy is =  0.659\n",
            "At step  50  and at epoch =  20  the loss is =  0.059140417724847794  and accuracy is =  0.6602857142857143\n",
            "At step  50  and at epoch =  21  the loss is =  0.06554421782493591  and accuracy is =  0.6667142857142857\n",
            "At step  50  and at epoch =  22  the loss is =  0.06349843740463257  and accuracy is =  0.6854285714285714\n",
            "At step  50  and at epoch =  23  the loss is =  0.06430932134389877  and accuracy is =  0.6775714285714286\n",
            "At step  50  and at epoch =  24  the loss is =  0.05842244252562523  and accuracy is =  0.6904285714285714\n",
            "At step  50  and at epoch =  25  the loss is =  0.056273408234119415  and accuracy is =  0.7057142857142857\n",
            "At step  50  and at epoch =  26  the loss is =  0.06376886367797852  and accuracy is =  0.704\n",
            "At step  50  and at epoch =  27  the loss is =  0.06380604952573776  and accuracy is =  0.6994285714285714\n",
            "At step  50  and at epoch =  28  the loss is =  0.06020773574709892  and accuracy is =  0.7118571428571429\n",
            "At step  50  and at epoch =  29  the loss is =  0.05795864388346672  and accuracy is =  0.7195714285714285\n",
            "At step  50  and at epoch =  30  the loss is =  0.06306914985179901  and accuracy is =  0.7241428571428571\n",
            "At step  50  and at epoch =  31  the loss is =  0.060801420360803604  and accuracy is =  0.7311428571428571\n",
            "At step  50  and at epoch =  32  the loss is =  0.060788657516241074  and accuracy is =  0.7234285714285714\n",
            "At step  50  and at epoch =  33  the loss is =  0.05784640088677406  and accuracy is =  0.7221428571428572\n",
            "At step  50  and at epoch =  34  the loss is =  0.057975880801677704  and accuracy is =  0.7344285714285714\n",
            "At step  50  and at epoch =  35  the loss is =  0.0580592006444931  and accuracy is =  0.7322857142857143\n",
            "At step  50  and at epoch =  36  the loss is =  0.05882098898291588  and accuracy is =  0.7391428571428571\n",
            "At step  50  and at epoch =  37  the loss is =  0.05593244358897209  and accuracy is =  0.7385714285714285\n",
            "At step  50  and at epoch =  38  the loss is =  0.05901619791984558  and accuracy is =  0.7407142857142858\n",
            "At step  50  and at epoch =  39  the loss is =  0.05857129395008087  and accuracy is =  0.7444285714285714\n",
            "At step  50  and at epoch =  40  the loss is =  0.05894949659705162  and accuracy is =  0.74\n",
            "At step  50  and at epoch =  41  the loss is =  0.061507001519203186  and accuracy is =  0.7515714285714286\n",
            "At step  50  and at epoch =  42  the loss is =  0.05809212476015091  and accuracy is =  0.7584285714285715\n",
            "At step  50  and at epoch =  43  the loss is =  0.06254168599843979  and accuracy is =  0.7584285714285715\n",
            "At step  50  and at epoch =  44  the loss is =  0.056369658559560776  and accuracy is =  0.7562857142857143\n",
            "At step  50  and at epoch =  45  the loss is =  0.06340572237968445  and accuracy is =  0.75\n",
            "At step  50  and at epoch =  46  the loss is =  0.056670401245355606  and accuracy is =  0.7607142857142857\n",
            "At step  50  and at epoch =  47  the loss is =  0.05673208087682724  and accuracy is =  0.7655714285714286\n",
            "At step  50  and at epoch =  48  the loss is =  0.06067864969372749  and accuracy is =  0.7684285714285715\n",
            "At step  50  and at epoch =  49  the loss is =  0.05522524192929268  and accuracy is =  0.7991428571428572\n",
            "At step  50  and at epoch =  50  the loss is =  0.05895712971687317  and accuracy is =  0.8257142857142857\n",
            "At step  50  and at epoch =  51  the loss is =  0.055904828011989594  and accuracy is =  0.821\n",
            "At step  50  and at epoch =  52  the loss is =  0.052895404398441315  and accuracy is =  0.8325714285714285\n",
            "At step  50  and at epoch =  53  the loss is =  0.053943052887916565  and accuracy is =  0.8407142857142857\n",
            "At step  50  and at epoch =  54  the loss is =  0.051819682121276855  and accuracy is =  0.8378571428571429\n",
            "At step  50  and at epoch =  55  the loss is =  0.053605347871780396  and accuracy is =  0.8394285714285714\n",
            "At step  50  and at epoch =  56  the loss is =  0.05456964299082756  and accuracy is =  0.8418571428571429\n",
            "At step  50  and at epoch =  57  the loss is =  0.054063212126493454  and accuracy is =  0.8445714285714285\n",
            "At step  50  and at epoch =  58  the loss is =  0.05693652480840683  and accuracy is =  0.8451428571428572\n",
            "At step  50  and at epoch =  59  the loss is =  0.050032876431941986  and accuracy is =  0.8371428571428572\n",
            "At step  50  and at epoch =  60  the loss is =  0.05633207783102989  and accuracy is =  0.8478571428571429\n",
            "At step  50  and at epoch =  61  the loss is =  0.05438952520489693  and accuracy is =  0.848\n",
            "At step  50  and at epoch =  62  the loss is =  0.05818289890885353  and accuracy is =  0.8457142857142858\n",
            "At step  50  and at epoch =  63  the loss is =  0.05411631241440773  and accuracy is =  0.8541428571428571\n",
            "At step  50  and at epoch =  64  the loss is =  0.05433830991387367  and accuracy is =  0.8548571428571429\n",
            "At step  50  and at epoch =  65  the loss is =  0.05394542217254639  and accuracy is =  0.8582857142857143\n",
            "At step  50  and at epoch =  66  the loss is =  0.04990749806165695  and accuracy is =  0.8582857142857143\n",
            "At step  50  and at epoch =  67  the loss is =  0.05322635918855667  and accuracy is =  0.8617142857142858\n",
            "At step  50  and at epoch =  68  the loss is =  0.05300089344382286  and accuracy is =  0.8587142857142858\n",
            "At step  50  and at epoch =  69  the loss is =  0.05493626371026039  and accuracy is =  0.8598571428571429\n",
            "task: 50 train accuracy = 0.8116\n",
            "task: 50 test accuracy = 0.5878333333333333\n"
          ],
          "name": "stdout"
        },
        {
          "output_type": "display_data",
          "data": {
            "image/png": "[encoded data removed]",
            "text/plain": [
              "<Figure size 432x288 with 2 Axes>"
            ]
          },
          "metadata": {
            "tags": []
          }
        },
        {
          "output_type": "stream",
          "text": [
            "At step  60  and at epoch =  0  the loss is =  0.07571043074131012  and accuracy is =  0.24312320916905444\n",
            "At step  60  and at epoch =  1  the loss is =  0.06969394534826279  and accuracy is =  0.32550143266475645\n",
            "At step  60  and at epoch =  2  the loss is =  0.07809892296791077  and accuracy is =  0.3687679083094556\n",
            "At step  60  and at epoch =  3  the loss is =  0.077652707695961  and accuracy is =  0.40186246418338106\n",
            "At step  60  and at epoch =  4  the loss is =  0.07253296673297882  and accuracy is =  0.4220630372492837\n",
            "At step  60  and at epoch =  5  the loss is =  0.0673932284116745  and accuracy is =  0.45830945558739256\n",
            "At step  60  and at epoch =  6  the loss is =  0.07396821677684784  and accuracy is =  0.47679083094555874\n",
            "At step  60  and at epoch =  7  the loss is =  0.06937094777822495  and accuracy is =  0.5030085959885386\n",
            "At step  60  and at epoch =  8  the loss is =  0.07524464279413223  and accuracy is =  0.5107449856733525\n",
            "At step  60  and at epoch =  9  the loss is =  0.07099171727895737  and accuracy is =  0.5262177650429799\n",
            "At step  60  and at epoch =  10  the loss is =  0.07489214092493057  and accuracy is =  0.5285100286532951\n",
            "At step  60  and at epoch =  11  the loss is =  0.07296182960271835  and accuracy is =  0.5547277936962751\n",
            "At step  60  and at epoch =  12  the loss is =  0.07063888013362885  and accuracy is =  0.5648997134670487\n",
            "At step  60  and at epoch =  13  the loss is =  0.06912408769130707  and accuracy is =  0.5737822349570201\n",
            "At step  60  and at epoch =  14  the loss is =  0.07488106191158295  and accuracy is =  0.5819484240687679\n",
            "At step  60  and at epoch =  15  the loss is =  0.07631008327007294  and accuracy is =  0.5842406876790831\n",
            "At step  60  and at epoch =  16  the loss is =  0.0671188235282898  and accuracy is =  0.5989971346704871\n",
            "At step  60  and at epoch =  17  the loss is =  0.07068144530057907  and accuracy is =  0.6077363896848138\n",
            "At step  60  and at epoch =  18  the loss is =  0.06854081153869629  and accuracy is =  0.6124641833810889\n",
            "At step  60  and at epoch =  19  the loss is =  0.06378663331270218  and accuracy is =  0.6191977077363897\n",
            "At step  60  and at epoch =  20  the loss is =  0.07522712647914886  and accuracy is =  0.6189111747851003\n",
            "At step  60  and at epoch =  21  the loss is =  0.07068657875061035  and accuracy is =  0.6313753581661891\n",
            "At step  60  and at epoch =  22  the loss is =  0.07948795706033707  and accuracy is =  0.6402578796561604\n",
            "At step  60  and at epoch =  23  the loss is =  0.06583358347415924  and accuracy is =  0.6272206303724929\n",
            "At step  60  and at epoch =  24  the loss is =  0.06928687542676926  and accuracy is =  0.6477077363896848\n",
            "At step  60  and at epoch =  25  the loss is =  0.06714596599340439  and accuracy is =  0.6444126074498567\n",
            "At step  60  and at epoch =  26  the loss is =  0.07033839076757431  and accuracy is =  0.6544412607449857\n",
            "At step  60  and at epoch =  27  the loss is =  0.06961842626333237  and accuracy is =  0.657163323782235\n",
            "At step  60  and at epoch =  28  the loss is =  0.06947381049394608  and accuracy is =  0.6598853868194843\n",
            "At step  60  and at epoch =  29  the loss is =  0.07067283987998962  and accuracy is =  0.6597421203438395\n",
            "At step  60  and at epoch =  30  the loss is =  0.07561635226011276  and accuracy is =  0.673352435530086\n",
            "At step  60  and at epoch =  31  the loss is =  0.06908782571554184  and accuracy is =  0.6840974212034384\n",
            "At step  60  and at epoch =  32  the loss is =  0.06895048916339874  and accuracy is =  0.6800859598853868\n",
            "At step  60  and at epoch =  33  the loss is =  0.06529605388641357  and accuracy is =  0.6840974212034384\n",
            "At step  60  and at epoch =  34  the loss is =  0.07141969352960587  and accuracy is =  0.6782234957020057\n",
            "At step  60  and at epoch =  35  the loss is =  0.06581367552280426  and accuracy is =  0.6839541547277938\n",
            "At step  60  and at epoch =  36  the loss is =  0.07055347412824631  and accuracy is =  0.6978510028653295\n",
            "At step  60  and at epoch =  37  the loss is =  0.06459658592939377  and accuracy is =  0.6904011461318051\n",
            "At step  60  and at epoch =  38  the loss is =  0.07338058203458786  and accuracy is =  0.7034383954154728\n",
            "At step  60  and at epoch =  39  the loss is =  0.06697183102369308  and accuracy is =  0.7011461318051576\n",
            "At step  60  and at epoch =  40  the loss is =  0.06511810421943665  and accuracy is =  0.7070200573065902\n",
            "At step  60  and at epoch =  41  the loss is =  0.06639644503593445  and accuracy is =  0.7024355300859599\n",
            "At step  60  and at epoch =  42  the loss is =  0.06853734701871872  and accuracy is =  0.7095988538681949\n",
            "At step  60  and at epoch =  43  the loss is =  0.06625701487064362  and accuracy is =  0.7217765042979942\n",
            "At step  60  and at epoch =  44  the loss is =  0.07728400081396103  and accuracy is =  0.7098853868194842\n",
            "At step  60  and at epoch =  45  the loss is =  0.06902121752500534  and accuracy is =  0.7187679083094556\n",
            "At step  60  and at epoch =  46  the loss is =  0.07046204805374146  and accuracy is =  0.7200573065902579\n",
            "At step  60  and at epoch =  47  the loss is =  0.06499404460191727  and accuracy is =  0.7184813753581661\n",
            "At step  60  and at epoch =  48  the loss is =  0.06899003684520721  and accuracy is =  0.7207736389684813\n",
            "At step  60  and at epoch =  49  the loss is =  0.06791095435619354  and accuracy is =  0.7587392550143266\n",
            "At step  60  and at epoch =  50  the loss is =  0.06641116738319397  and accuracy is =  0.791404011461318\n",
            "At step  60  and at epoch =  51  the loss is =  0.060117337852716446  and accuracy is =  0.7977077363896848\n",
            "At step  60  and at epoch =  52  the loss is =  0.05898270010948181  and accuracy is =  0.801432664756447\n",
            "At step  60  and at epoch =  53  the loss is =  0.06259840726852417  and accuracy is =  0.8041547277936962\n",
            "At step  60  and at epoch =  54  the loss is =  0.06789715588092804  and accuracy is =  0.8063037249283668\n",
            "At step  60  and at epoch =  55  the loss is =  0.06405499577522278  and accuracy is =  0.8113180515759313\n",
            "At step  60  and at epoch =  56  the loss is =  0.06720315665006638  and accuracy is =  0.8091690544412607\n",
            "At step  60  and at epoch =  57  the loss is =  0.06307277083396912  and accuracy is =  0.8130372492836676\n",
            "At step  60  and at epoch =  58  the loss is =  0.0660087987780571  and accuracy is =  0.8236389684813754\n",
            "At step  60  and at epoch =  59  the loss is =  0.06539226323366165  and accuracy is =  0.814756446991404\n",
            "At step  60  and at epoch =  60  the loss is =  0.06485879421234131  and accuracy is =  0.8230659025787965\n",
            "At step  60  and at epoch =  61  the loss is =  0.06215646490454674  and accuracy is =  0.8229226361031519\n",
            "At step  60  and at epoch =  62  the loss is =  0.06505592167377472  and accuracy is =  0.8242120343839542\n",
            "At step  60  and at epoch =  63  the loss is =  0.06504657864570618  and accuracy is =  0.8249283667621776\n",
            "At step  60  and at epoch =  64  the loss is =  0.059239938855171204  and accuracy is =  0.8342406876790831\n",
            "At step  60  and at epoch =  65  the loss is =  0.06182851269841194  and accuracy is =  0.8372492836676217\n",
            "At step  60  and at epoch =  66  the loss is =  0.0652851089835167  and accuracy is =  0.8353868194842407\n",
            "At step  60  and at epoch =  67  the loss is =  0.059038955718278885  and accuracy is =  0.8315186246418338\n",
            "At step  60  and at epoch =  68  the loss is =  0.06325210630893707  and accuracy is =  0.8276504297994269\n",
            "At step  60  and at epoch =  69  the loss is =  0.06499461084604263  and accuracy is =  0.8368194842406876\n",
            "task: 60 train accuracy = 0.7764\n",
            "task: 60 test accuracy = 0.5511428571428572\n"
          ],
          "name": "stdout"
        },
        {
          "output_type": "display_data",
          "data": {
            "image/png": "[encoded data removed]",
            "text/plain": [
              "<Figure size 432x288 with 2 Axes>"
            ]
          },
          "metadata": {
            "tags": []
          }
        },
        {
          "output_type": "stream",
          "text": [
            "At step  70  and at epoch =  0  the loss is =  0.08975418657064438  and accuracy is =  0.2739687055476529\n",
            "At step  70  and at epoch =  1  the loss is =  0.0861072838306427  and accuracy is =  0.3873399715504979\n",
            "At step  70  and at epoch =  2  the loss is =  0.08527283370494843  and accuracy is =  0.45718349928876245\n",
            "At step  70  and at epoch =  3  the loss is =  0.08664344251155853  and accuracy is =  0.49971550497866285\n",
            "At step  70  and at epoch =  4  the loss is =  0.07941558212041855  and accuracy is =  0.533854907539118\n",
            "At step  70  and at epoch =  5  the loss is =  0.08082135021686554  and accuracy is =  0.552773826458037\n",
            "At step  70  and at epoch =  6  the loss is =  0.08369114995002747  and accuracy is =  0.5812233285917496\n",
            "At step  70  and at epoch =  7  the loss is =  0.08187159895896912  and accuracy is =  0.595448079658606\n",
            "At step  70  and at epoch =  8  the loss is =  0.08445025980472565  and accuracy is =  0.6157894736842106\n",
            "At step  70  and at epoch =  9  the loss is =  0.08328678458929062  and accuracy is =  0.631578947368421\n",
            "At step  70  and at epoch =  10  the loss is =  0.07962159067392349  and accuracy is =  0.6477951635846373\n",
            "At step  70  and at epoch =  11  the loss is =  0.07689216732978821  and accuracy is =  0.6453769559032717\n",
            "At step  70  and at epoch =  12  the loss is =  0.0836884006857872  and accuracy is =  0.6594594594594595\n",
            "At step  70  and at epoch =  13  the loss is =  0.07856206595897675  and accuracy is =  0.6715504978662873\n",
            "At step  70  and at epoch =  14  the loss is =  0.07980281859636307  and accuracy is =  0.6755334281650072\n",
            "At step  70  and at epoch =  15  the loss is =  0.0802733525633812  and accuracy is =  0.6813655761024182\n",
            "At step  70  and at epoch =  16  the loss is =  0.0784807950258255  and accuracy is =  0.6913229018492176\n",
            "At step  70  and at epoch =  17  the loss is =  0.08408594131469727  and accuracy is =  0.6918918918918919\n",
            "At step  70  and at epoch =  18  the loss is =  0.0812310129404068  and accuracy is =  0.7044096728307254\n",
            "At step  70  and at epoch =  19  the loss is =  0.08402367681264877  and accuracy is =  0.7115220483641537\n",
            "At step  70  and at epoch =  20  the loss is =  0.08042771369218826  and accuracy is =  0.7065433854907539\n",
            "At step  70  and at epoch =  21  the loss is =  0.07458292692899704  and accuracy is =  0.7177809388335704\n",
            "At step  70  and at epoch =  22  the loss is =  0.07941674441099167  and accuracy is =  0.7221906116642959\n",
            "At step  70  and at epoch =  23  the loss is =  0.08369158953428268  and accuracy is =  0.7287339971550498\n",
            "At step  70  and at epoch =  24  the loss is =  0.079090915620327  and accuracy is =  0.7274537695590327\n",
            "At step  70  and at epoch =  25  the loss is =  0.08158943802118301  and accuracy is =  0.7365576102418208\n",
            "At step  70  and at epoch =  26  the loss is =  0.0784817785024643  and accuracy is =  0.7403982930298719\n",
            "At step  70  and at epoch =  27  the loss is =  0.08149463683366776  and accuracy is =  0.7365576102418208\n",
            "At step  70  and at epoch =  28  the loss is =  0.07720085233449936  and accuracy is =  0.7435277382645804\n",
            "At step  70  and at epoch =  29  the loss is =  0.082952119410038  and accuracy is =  0.7519203413940256\n",
            "At step  70  and at epoch =  30  the loss is =  0.08104537427425385  and accuracy is =  0.7403982930298719\n",
            "At step  70  and at epoch =  31  the loss is =  0.07314882427453995  and accuracy is =  0.7487908961593173\n",
            "At step  70  and at epoch =  32  the loss is =  0.08408565074205399  and accuracy is =  0.7499288762446658\n",
            "At step  70  and at epoch =  33  the loss is =  0.08445441722869873  and accuracy is =  0.7692745376955903\n",
            "At step  70  and at epoch =  34  the loss is =  0.07936107367277145  and accuracy is =  0.7522048364153627\n",
            "At step  70  and at epoch =  35  the loss is =  0.0778660997748375  and accuracy is =  0.7570412517780939\n",
            "At step  70  and at epoch =  36  the loss is =  0.08102317899465561  and accuracy is =  0.7654338549075391\n",
            "At step  70  and at epoch =  37  the loss is =  0.0789235457777977  and accuracy is =  0.7705547652916074\n",
            "At step  70  and at epoch =  38  the loss is =  0.08269982039928436  and accuracy is =  0.7603129445234709\n",
            "At step  70  and at epoch =  39  the loss is =  0.07887760549783707  and accuracy is =  0.7640113798008534\n",
            "At step  70  and at epoch =  40  the loss is =  0.07784160226583481  and accuracy is =  0.7644381223328591\n",
            "At step  70  and at epoch =  41  the loss is =  0.07849019020795822  and accuracy is =  0.7721194879089616\n",
            "At step  70  and at epoch =  42  the loss is =  0.0773795023560524  and accuracy is =  0.7638691322901849\n",
            "At step  70  and at epoch =  43  the loss is =  0.07900185137987137  and accuracy is =  0.7812233285917497\n",
            "At step  70  and at epoch =  44  the loss is =  0.07862090319395065  and accuracy is =  0.7716927453769559\n",
            "At step  70  and at epoch =  45  the loss is =  0.07481618225574493  and accuracy is =  0.7755334281650071\n",
            "At step  70  and at epoch =  46  the loss is =  0.07645294815301895  and accuracy is =  0.7748221906116642\n",
            "At step  70  and at epoch =  47  the loss is =  0.08037057518959045  and accuracy is =  0.7812233285917497\n",
            "At step  70  and at epoch =  48  the loss is =  0.07617885619401932  and accuracy is =  0.7864864864864864\n",
            "At step  70  and at epoch =  49  the loss is =  0.07180742919445038  and accuracy is =  0.8180654338549075\n",
            "At step  70  and at epoch =  50  the loss is =  0.07537508755922318  and accuracy is =  0.8330014224751067\n",
            "At step  70  and at epoch =  51  the loss is =  0.07323181629180908  and accuracy is =  0.8322901849217639\n",
            "At step  70  and at epoch =  52  the loss is =  0.07066721469163895  and accuracy is =  0.832574679943101\n",
            "At step  70  and at epoch =  53  the loss is =  0.07695268094539642  and accuracy is =  0.8435277382645804\n",
            "At step  70  and at epoch =  54  the loss is =  0.07502083480358124  and accuracy is =  0.8453769559032717\n",
            "At step  70  and at epoch =  55  the loss is =  0.07437053322792053  and accuracy is =  0.8442389758179232\n",
            "At step  70  and at epoch =  56  the loss is =  0.07228817045688629  and accuracy is =  0.8419630156472262\n",
            "At step  70  and at epoch =  57  the loss is =  0.07309434562921524  and accuracy is =  0.8493598862019914\n",
            "At step  70  and at epoch =  58  the loss is =  0.07410437613725662  and accuracy is =  0.8499288762446657\n",
            "At step  70  and at epoch =  59  the loss is =  0.07312990725040436  and accuracy is =  0.8429587482219061\n",
            "At step  70  and at epoch =  60  the loss is =  0.07275764644145966  and accuracy is =  0.8476529160739688\n",
            "At step  70  and at epoch =  61  the loss is =  0.07240000367164612  and accuracy is =  0.8487908961593172\n",
            "At step  70  and at epoch =  62  the loss is =  0.07447433471679688  and accuracy is =  0.8516358463726885\n",
            "At step  70  and at epoch =  63  the loss is =  0.07680828869342804  and accuracy is =  0.8563300142247511\n",
            "At step  70  and at epoch =  64  the loss is =  0.07354763895273209  and accuracy is =  0.8513513513513513\n",
            "At step  70  and at epoch =  65  the loss is =  0.07318948954343796  and accuracy is =  0.8547652916073969\n",
            "At step  70  and at epoch =  66  the loss is =  0.07084443420171738  and accuracy is =  0.8533428165007112\n",
            "At step  70  and at epoch =  67  the loss is =  0.07284602522850037  and accuracy is =  0.8580369843527739\n",
            "At step  70  and at epoch =  68  the loss is =  0.07377185672521591  and accuracy is =  0.855049786628734\n",
            "At step  70  and at epoch =  69  the loss is =  0.0745173990726471  and accuracy is =  0.8594594594594595\n",
            "task: 70 train accuracy = 0.8094\n",
            "task: 70 test accuracy = 0.527625\n"
          ],
          "name": "stdout"
        },
        {
          "output_type": "display_data",
          "data": {
            "image/png": "[encoded data removed]",
            "text/plain": [
              "<Figure size 432x288 with 2 Axes>"
            ]
          },
          "metadata": {
            "tags": []
          }
        },
        {
          "output_type": "stream",
          "text": [
            "At step  80  and at epoch =  0  the loss is =  0.10433454066514969  and accuracy is =  0.25785714285714284\n",
            "At step  80  and at epoch =  1  the loss is =  0.10242518037557602  and accuracy is =  0.35742857142857143\n",
            "At step  80  and at epoch =  2  the loss is =  0.09879288822412491  and accuracy is =  0.40785714285714286\n",
            "At step  80  and at epoch =  3  the loss is =  0.09430290758609772  and accuracy is =  0.451\n",
            "At step  80  and at epoch =  4  the loss is =  0.09283017367124557  and accuracy is =  0.47885714285714287\n",
            "At step  80  and at epoch =  5  the loss is =  0.09725122153759003  and accuracy is =  0.49885714285714283\n",
            "At step  80  and at epoch =  6  the loss is =  0.09873324632644653  and accuracy is =  0.5234285714285715\n",
            "At step  80  and at epoch =  7  the loss is =  0.09337771683931351  and accuracy is =  0.5388571428571428\n",
            "At step  80  and at epoch =  8  the loss is =  0.09405454993247986  and accuracy is =  0.5577142857142857\n",
            "At step  80  and at epoch =  9  the loss is =  0.09306677430868149  and accuracy is =  0.5714285714285714\n",
            "At step  80  and at epoch =  10  the loss is =  0.09801023453474045  and accuracy is =  0.5865714285714285\n",
            "At step  80  and at epoch =  11  the loss is =  0.09875241667032242  and accuracy is =  0.5995714285714285\n",
            "At step  80  and at epoch =  12  the loss is =  0.10081949830055237  and accuracy is =  0.6015714285714285\n",
            "At step  80  and at epoch =  13  the loss is =  0.09550271928310394  and accuracy is =  0.6174285714285714\n",
            "At step  80  and at epoch =  14  the loss is =  0.0934537798166275  and accuracy is =  0.634\n",
            "At step  80  and at epoch =  15  the loss is =  0.09599526226520538  and accuracy is =  0.6334285714285715\n",
            "At step  80  and at epoch =  16  the loss is =  0.09826836735010147  and accuracy is =  0.6378571428571429\n",
            "At step  80  and at epoch =  17  the loss is =  0.09112389385700226  and accuracy is =  0.6412857142857142\n",
            "At step  80  and at epoch =  18  the loss is =  0.0955737829208374  and accuracy is =  0.649\n",
            "At step  80  and at epoch =  19  the loss is =  0.09359294921159744  and accuracy is =  0.6654285714285715\n",
            "At step  80  and at epoch =  20  the loss is =  0.09611523896455765  and accuracy is =  0.6717142857142857\n",
            "At step  80  and at epoch =  21  the loss is =  0.09775485843420029  and accuracy is =  0.6668571428571428\n",
            "At step  80  and at epoch =  22  the loss is =  0.09584598988294601  and accuracy is =  0.68\n",
            "At step  80  and at epoch =  23  the loss is =  0.09452017396688461  and accuracy is =  0.6848571428571428\n",
            "At step  80  and at epoch =  24  the loss is =  0.09512810409069061  and accuracy is =  0.6828571428571428\n",
            "At step  80  and at epoch =  25  the loss is =  0.09725645929574966  and accuracy is =  0.6997142857142857\n",
            "At step  80  and at epoch =  26  the loss is =  0.09476469457149506  and accuracy is =  0.6941428571428572\n",
            "At step  80  and at epoch =  27  the loss is =  0.09674280136823654  and accuracy is =  0.7021428571428572\n",
            "At step  80  and at epoch =  28  the loss is =  0.08739859610795975  and accuracy is =  0.6991428571428572\n",
            "At step  80  and at epoch =  29  the loss is =  0.097474105656147  and accuracy is =  0.7061428571428572\n",
            "At step  80  and at epoch =  30  the loss is =  0.08650472015142441  and accuracy is =  0.706\n",
            "At step  80  and at epoch =  31  the loss is =  0.0927702784538269  and accuracy is =  0.7088571428571429\n",
            "At step  80  and at epoch =  32  the loss is =  0.09394564479589462  and accuracy is =  0.7151428571428572\n",
            "At step  80  and at epoch =  33  the loss is =  0.09198543429374695  and accuracy is =  0.7172857142857143\n",
            "At step  80  and at epoch =  34  the loss is =  0.09631415456533432  and accuracy is =  0.7194285714285714\n",
            "At step  80  and at epoch =  35  the loss is =  0.0911165326833725  and accuracy is =  0.7244285714285714\n",
            "At step  80  and at epoch =  36  the loss is =  0.0952269658446312  and accuracy is =  0.7241428571428571\n",
            "At step  80  and at epoch =  37  the loss is =  0.09005101025104523  and accuracy is =  0.7307142857142858\n",
            "At step  80  and at epoch =  38  the loss is =  0.09537822008132935  and accuracy is =  0.7334285714285714\n",
            "At step  80  and at epoch =  39  the loss is =  0.09211180359125137  and accuracy is =  0.734\n",
            "At step  80  and at epoch =  40  the loss is =  0.10130825638771057  and accuracy is =  0.741\n",
            "At step  80  and at epoch =  41  the loss is =  0.08603782206773758  and accuracy is =  0.7434285714285714\n",
            "At step  80  and at epoch =  42  the loss is =  0.09211412817239761  and accuracy is =  0.7372857142857143\n",
            "At step  80  and at epoch =  43  the loss is =  0.09167161583900452  and accuracy is =  0.7354285714285714\n",
            "At step  80  and at epoch =  44  the loss is =  0.09193301945924759  and accuracy is =  0.7447142857142857\n",
            "At step  80  and at epoch =  45  the loss is =  0.08852584660053253  and accuracy is =  0.7435714285714285\n",
            "At step  80  and at epoch =  46  the loss is =  0.08841519057750702  and accuracy is =  0.7492857142857143\n",
            "At step  80  and at epoch =  47  the loss is =  0.0933198630809784  and accuracy is =  0.7438571428571429\n",
            "At step  80  and at epoch =  48  the loss is =  0.09527935087680817  and accuracy is =  0.7438571428571429\n",
            "At step  80  and at epoch =  49  the loss is =  0.08963878452777863  and accuracy is =  0.793\n",
            "At step  80  and at epoch =  50  the loss is =  0.09013539552688599  and accuracy is =  0.8151428571428572\n",
            "At step  80  and at epoch =  51  the loss is =  0.0886899009346962  and accuracy is =  0.815\n",
            "At step  80  and at epoch =  52  the loss is =  0.08609700947999954  and accuracy is =  0.8214285714285714\n",
            "At step  80  and at epoch =  53  the loss is =  0.09797881543636322  and accuracy is =  0.8264285714285714\n",
            "At step  80  and at epoch =  54  the loss is =  0.08890730142593384  and accuracy is =  0.8275714285714286\n",
            "At step  80  and at epoch =  55  the loss is =  0.0885770246386528  and accuracy is =  0.8264285714285714\n",
            "At step  80  and at epoch =  56  the loss is =  0.08777690678834915  and accuracy is =  0.8298571428571428\n",
            "At step  80  and at epoch =  57  the loss is =  0.08510224521160126  and accuracy is =  0.8314285714285714\n",
            "At step  80  and at epoch =  58  the loss is =  0.08777811378240585  and accuracy is =  0.8344285714285714\n",
            "At step  80  and at epoch =  59  the loss is =  0.08422239869832993  and accuracy is =  0.8358571428571429\n",
            "At step  80  and at epoch =  60  the loss is =  0.08985057473182678  and accuracy is =  0.8332857142857143\n",
            "At step  80  and at epoch =  61  the loss is =  0.08768260478973389  and accuracy is =  0.835\n",
            "At step  80  and at epoch =  62  the loss is =  0.0845135748386383  and accuracy is =  0.8311428571428572\n",
            "At step  80  and at epoch =  63  the loss is =  0.08340311050415039  and accuracy is =  0.8367142857142857\n",
            "At step  80  and at epoch =  64  the loss is =  0.08500174432992935  and accuracy is =  0.8421428571428572\n",
            "At step  80  and at epoch =  65  the loss is =  0.08660475164651871  and accuracy is =  0.8482857142857143\n",
            "At step  80  and at epoch =  66  the loss is =  0.08327214419841766  and accuracy is =  0.8411428571428572\n",
            "At step  80  and at epoch =  67  the loss is =  0.08474032580852509  and accuracy is =  0.8404285714285714\n",
            "At step  80  and at epoch =  68  the loss is =  0.08505567163228989  and accuracy is =  0.8412857142857143\n",
            "At step  80  and at epoch =  69  the loss is =  0.08591896295547485  and accuracy is =  0.8414285714285714\n",
            "task: 80 train accuracy = 0.7594\n",
            "task: 80 test accuracy = 0.48744444444444446\n"
          ],
          "name": "stdout"
        },
        {
          "output_type": "display_data",
          "data": {
            "image/png": "[encoded data removed]",
            "text/plain": [
              "<Figure size 432x288 with 2 Axes>"
            ]
          },
          "metadata": {
            "tags": []
          }
        },
        {
          "output_type": "stream",
          "text": [
            "At step  90  and at epoch =  0  the loss is =  0.09890631586313248  and accuracy is =  0.2696275071633238\n",
            "At step  90  and at epoch =  1  the loss is =  0.10666072368621826  and accuracy is =  0.4040114613180516\n",
            "At step  90  and at epoch =  2  the loss is =  0.10273995250463486  and accuracy is =  0.46232091690544413\n",
            "At step  90  and at epoch =  3  the loss is =  0.0993950366973877  and accuracy is =  0.497134670487106\n",
            "At step  90  and at epoch =  4  the loss is =  0.11171770095825195  and accuracy is =  0.528080229226361\n",
            "At step  90  and at epoch =  5  the loss is =  0.11017142981290817  and accuracy is =  0.540974212034384\n",
            "At step  90  and at epoch =  6  the loss is =  0.10550718754529953  and accuracy is =  0.5634670487106017\n",
            "At step  90  and at epoch =  7  the loss is =  0.10293025523424149  and accuracy is =  0.5830945558739254\n",
            "At step  90  and at epoch =  8  the loss is =  0.10207685828208923  and accuracy is =  0.5921203438395416\n",
            "At step  90  and at epoch =  9  the loss is =  0.10511140525341034  and accuracy is =  0.6044412607449857\n",
            "At step  90  and at epoch =  10  the loss is =  0.10041961073875427  and accuracy is =  0.6179083094555874\n",
            "At step  90  and at epoch =  11  the loss is =  0.09892035275697708  and accuracy is =  0.6234957020057307\n",
            "At step  90  and at epoch =  12  the loss is =  0.10755392909049988  and accuracy is =  0.62621776504298\n",
            "At step  90  and at epoch =  13  the loss is =  0.09652505815029144  and accuracy is =  0.6342406876790831\n",
            "At step  90  and at epoch =  14  the loss is =  0.09901753813028336  and accuracy is =  0.6515759312320917\n",
            "At step  90  and at epoch =  15  the loss is =  0.09753254055976868  and accuracy is =  0.6567335243553009\n",
            "At step  90  and at epoch =  16  the loss is =  0.10337268561124802  and accuracy is =  0.6651862464183381\n",
            "At step  90  and at epoch =  17  the loss is =  0.10406818985939026  and accuracy is =  0.6696275071633238\n",
            "At step  90  and at epoch =  18  the loss is =  0.10782048106193542  and accuracy is =  0.6722063037249284\n",
            "At step  90  and at epoch =  19  the loss is =  0.10057076811790466  and accuracy is =  0.6818051575931232\n",
            "At step  90  and at epoch =  20  the loss is =  0.097547747194767  and accuracy is =  0.6922636103151862\n",
            "At step  90  and at epoch =  21  the loss is =  0.10690216720104218  and accuracy is =  0.686676217765043\n",
            "At step  90  and at epoch =  22  the loss is =  0.10085007548332214  and accuracy is =  0.6968481375358166\n",
            "At step  90  and at epoch =  23  the loss is =  0.10742969810962677  and accuracy is =  0.6972779369627508\n",
            "At step  90  and at epoch =  24  the loss is =  0.10359527170658112  and accuracy is =  0.7042979942693409\n",
            "At step  90  and at epoch =  25  the loss is =  0.10548297315835953  and accuracy is =  0.707593123209169\n",
            "At step  90  and at epoch =  26  the loss is =  0.10086867213249207  and accuracy is =  0.7124641833810889\n",
            "At step  90  and at epoch =  27  the loss is =  0.0979110524058342  and accuracy is =  0.7170487106017192\n",
            "At step  90  and at epoch =  28  the loss is =  0.097907654941082  and accuracy is =  0.7234957020057307\n",
            "At step  90  and at epoch =  29  the loss is =  0.10310059785842896  and accuracy is =  0.7164756446991404\n",
            "At step  90  and at epoch =  30  the loss is =  0.10962671786546707  and accuracy is =  0.7200573065902579\n",
            "At step  90  and at epoch =  31  the loss is =  0.09452737122774124  and accuracy is =  0.7184813753581661\n",
            "At step  90  and at epoch =  32  the loss is =  0.09861943125724792  and accuracy is =  0.7292263610315186\n",
            "At step  90  and at epoch =  33  the loss is =  0.10356099903583527  and accuracy is =  0.7310888252148997\n",
            "At step  90  and at epoch =  34  the loss is =  0.10599713027477264  and accuracy is =  0.7300859598853868\n",
            "At step  90  and at epoch =  35  the loss is =  0.09763754159212112  and accuracy is =  0.735243553008596\n",
            "At step  90  and at epoch =  36  the loss is =  0.10960260033607483  and accuracy is =  0.7406876790830945\n",
            "At step  90  and at epoch =  37  the loss is =  0.09903917461633682  and accuracy is =  0.7376790830945559\n",
            "At step  90  and at epoch =  38  the loss is =  0.09844620525836945  and accuracy is =  0.7411174785100286\n",
            "At step  90  and at epoch =  39  the loss is =  0.09175772964954376  and accuracy is =  0.7534383954154728\n",
            "At step  90  and at epoch =  40  the loss is =  0.09336963295936584  and accuracy is =  0.7396848137535816\n",
            "At step  90  and at epoch =  41  the loss is =  0.10480096936225891  and accuracy is =  0.7462750716332378\n",
            "At step  90  and at epoch =  42  the loss is =  0.10630142688751221  and accuracy is =  0.7573065902578796\n",
            "At step  90  and at epoch =  43  the loss is =  0.09868882596492767  and accuracy is =  0.7393982808022923\n",
            "At step  90  and at epoch =  44  the loss is =  0.09501496702432632  and accuracy is =  0.7371060171919771\n",
            "At step  90  and at epoch =  45  the loss is =  0.0976935476064682  and accuracy is =  0.7517191977077364\n",
            "At step  90  and at epoch =  46  the loss is =  0.10434859991073608  and accuracy is =  0.7583094555873926\n",
            "At step  90  and at epoch =  47  the loss is =  0.09815195947885513  and accuracy is =  0.7588825214899714\n",
            "At step  90  and at epoch =  48  the loss is =  0.10241758823394775  and accuracy is =  0.7545845272206304\n",
            "At step  90  and at epoch =  49  the loss is =  0.09504812955856323  and accuracy is =  0.8010028653295129\n",
            "At step  90  and at epoch =  50  the loss is =  0.09391012042760849  and accuracy is =  0.8136103151862464\n",
            "At step  90  and at epoch =  51  the loss is =  0.08902587741613388  and accuracy is =  0.8153295128939828\n",
            "At step  90  and at epoch =  52  the loss is =  0.09002343565225601  and accuracy is =  0.8159025787965616\n",
            "At step  90  and at epoch =  53  the loss is =  0.09187828749418259  and accuracy is =  0.8220630372492836\n",
            "At step  90  and at epoch =  54  the loss is =  0.09364710003137589  and accuracy is =  0.8315186246418338\n",
            "At step  90  and at epoch =  55  the loss is =  0.10348956286907196  and accuracy is =  0.8305157593123209\n",
            "At step  90  and at epoch =  56  the loss is =  0.09349922835826874  and accuracy is =  0.8293696275071634\n",
            "At step  90  and at epoch =  57  the loss is =  0.09720582515001297  and accuracy is =  0.8286532951289398\n",
            "At step  90  and at epoch =  58  the loss is =  0.10253550112247467  and accuracy is =  0.8303724928366762\n",
            "At step  90  and at epoch =  59  the loss is =  0.09881260991096497  and accuracy is =  0.8343839541547278\n",
            "At step  90  and at epoch =  60  the loss is =  0.09105447679758072  and accuracy is =  0.8296561604584527\n",
            "At step  90  and at epoch =  61  the loss is =  0.09497111290693283  and accuracy is =  0.8325214899713467\n",
            "At step  90  and at epoch =  62  the loss is =  0.09705975651741028  and accuracy is =  0.8305157593123209\n",
            "At step  90  and at epoch =  63  the loss is =  0.08889291435480118  and accuracy is =  0.842836676217765\n",
            "At step  90  and at epoch =  64  the loss is =  0.09493973106145859  and accuracy is =  0.8368194842406876\n",
            "At step  90  and at epoch =  65  the loss is =  0.09252476692199707  and accuracy is =  0.847134670487106\n",
            "At step  90  and at epoch =  66  the loss is =  0.09153305739164352  and accuracy is =  0.8383954154727794\n",
            "At step  90  and at epoch =  67  the loss is =  0.09237480908632278  and accuracy is =  0.845702005730659\n",
            "At step  90  and at epoch =  68  the loss is =  0.10099418461322784  and accuracy is =  0.8426934097421204\n",
            "At step  90  and at epoch =  69  the loss is =  0.09027785807847977  and accuracy is =  0.839541547277937\n",
            "task: 90 train accuracy = 0.7468\n",
            "task: 90 test accuracy = 0.4629\n"
          ],
          "name": "stdout"
        },
        {
          "output_type": "display_data",
          "data": {
            "image/png": "[encoded data removed]",
            "text/plain": [
              "<Figure size 432x288 with 2 Axes>"
            ]
          },
          "metadata": {
            "tags": []
          }
        }
      ]
    },
    {
      "cell_type": "code",
      "metadata": {
        "id": "Z4_a4Ut-Or2N",
        "colab_type": "code",
        "colab": {}
      },
      "source": [
        "accs = [.89,.81,.76,.69,.64,.59,.55,.53,.49,.46]"
      ],
      "execution_count": null,
      "outputs": []
    },
    {
      "cell_type": "code",
      "metadata": {
        "id": "WAayIE_aPFWg",
        "colab_type": "code",
        "colab": {
          "base_uri": "https://localhost:8080/",
          "height": 72
        },
        "outputId": "6156b61b-f7a9-44e6-c170-4bbad012eeab"
      },
      "source": [
        "import numpy as np\n",
        "import seaborn as sn\n",
        "import pandas as pd\n",
        "import matplotlib.pyplot as plt\n",
        "def plotTask(pars_tasks):\n",
        "\n",
        "  x_tasks =  np.linspace(10, 100, 10)\n",
        "\n",
        "  plt.plot(x_tasks, pars_tasks, label=['Accuracy'])\n",
        "  plt.xlabel(\"Epoch\")\n",
        "  plt.ylim(0,1)\n",
        "  plt.title('Accuracy over tasks')\n",
        "  plt.legend(['Accuracy'])\n",
        "  plt.grid(True)\n",
        "  plt.show()"
      ],
      "execution_count": null,
      "outputs": [
        {
          "output_type": "stream",
          "text": [
            "/usr/local/lib/python3.6/dist-packages/statsmodels/tools/_testing.py:19: FutureWarning: pandas.util.testing is deprecated. Use the functions in the public API at pandas.testing instead.\n",
            "  import pandas.util.testing as tm\n"
          ],
          "name": "stderr"
        }
      ]
    },
    {
      "cell_type": "code",
      "metadata": {
        "id": "2RnKOCdaPM9X",
        "colab_type": "code",
        "colab": {
          "base_uri": "https://localhost:8080/",
          "height": 294
        },
        "outputId": "a0844faa-f000-4409-a52a-1b02ec731d1b"
      },
      "source": [
        "plotTask(accs)"
      ],
      "execution_count": null,
      "outputs": [
        {
          "output_type": "display_data",
          "data": {
            "image/png": "[encoded data removed]",
            "text/plain": [
              "<Figure size 432x288 with 1 Axes>"
            ]
          },
          "metadata": {
            "tags": [],
            "needs_background": "light"
          }
        }
      ]
    }
  ]
}