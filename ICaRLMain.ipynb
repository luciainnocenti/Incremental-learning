{
  "nbformat": 4,
  "nbformat_minor": 0,
  "metadata": {
    "colab": {
      "name": "Copy of ICaRLMain.ipynb",
      "provenance": [],
      "collapsed_sections": [],
      "include_colab_link": true
    },
    "kernelspec": {
      "name": "python3",
      "display_name": "Python 3"
    },
    "accelerator": "GPU",
    "widgets": {
      "application/vnd.jupyter.widget-state+json": {
        "4d629936eb904df5bc29eedbb79ccc00": {
          "model_module": "@jupyter-widgets/controls",
          "model_name": "HBoxModel",
          "state": {
            "_view_name": "HBoxView",
            "_dom_classes": [],
            "_model_name": "HBoxModel",
            "_view_module": "@jupyter-widgets/controls",
            "_model_module_version": "1.5.0",
            "_view_count": null,
            "_view_module_version": "1.5.0",
            "box_style": "",
            "layout": "IPY_MODEL_a19ace2e76764427a5270ba093c8b907",
            "_model_module": "@jupyter-widgets/controls",
            "children": [
              "IPY_MODEL_ebe60e85abd54af3a9c20b2f2e155208",
              "IPY_MODEL_4a87774319574796a8c84837198f97ff"
            ]
          }
        },
        "a19ace2e76764427a5270ba093c8b907": {
          "model_module": "@jupyter-widgets/base",
          "model_name": "LayoutModel",
          "state": {
            "_view_name": "LayoutView",
            "grid_template_rows": null,
            "right": null,
            "justify_content": null,
            "_view_module": "@jupyter-widgets/base",
            "overflow": null,
            "_model_module_version": "1.2.0",
            "_view_count": null,
            "flex_flow": null,
            "width": null,
            "min_width": null,
            "border": null,
            "align_items": null,
            "bottom": null,
            "_model_module": "@jupyter-widgets/base",
            "top": null,
            "grid_column": null,
            "overflow_y": null,
            "overflow_x": null,
            "grid_auto_flow": null,
            "grid_area": null,
            "grid_template_columns": null,
            "flex": null,
            "_model_name": "LayoutModel",
            "justify_items": null,
            "grid_row": null,
            "max_height": null,
            "align_content": null,
            "visibility": null,
            "align_self": null,
            "height": null,
            "min_height": null,
            "padding": null,
            "grid_auto_rows": null,
            "grid_gap": null,
            "max_width": null,
            "order": null,
            "_view_module_version": "1.2.0",
            "grid_template_areas": null,
            "object_position": null,
            "object_fit": null,
            "grid_auto_columns": null,
            "margin": null,
            "display": null,
            "left": null
          }
        },
        "ebe60e85abd54af3a9c20b2f2e155208": {
          "model_module": "@jupyter-widgets/controls",
          "model_name": "FloatProgressModel",
          "state": {
            "_view_name": "ProgressView",
            "style": "IPY_MODEL_a8d5666e38614988868223c2f996dfe1",
            "_dom_classes": [],
            "description": "",
            "_model_name": "FloatProgressModel",
            "bar_style": "info",
            "max": 1,
            "_view_module": "@jupyter-widgets/controls",
            "_model_module_version": "1.5.0",
            "value": 1,
            "_view_count": null,
            "_view_module_version": "1.5.0",
            "orientation": "horizontal",
            "min": 0,
            "description_tooltip": null,
            "_model_module": "@jupyter-widgets/controls",
            "layout": "IPY_MODEL_05f5ca601bc049f2a8cd990323d042be"
          }
        },
        "4a87774319574796a8c84837198f97ff": {
          "model_module": "@jupyter-widgets/controls",
          "model_name": "HTMLModel",
          "state": {
            "_view_name": "HTMLView",
            "style": "IPY_MODEL_b213db287c1a422c86624757dcfc0367",
            "_dom_classes": [],
            "description": "",
            "_model_name": "HTMLModel",
            "placeholder": "​",
            "_view_module": "@jupyter-widgets/controls",
            "_model_module_version": "1.5.0",
            "value": " 169009152/? [00:30&lt;00:00, 17978322.63it/s]",
            "_view_count": null,
            "_view_module_version": "1.5.0",
            "description_tooltip": null,
            "_model_module": "@jupyter-widgets/controls",
            "layout": "IPY_MODEL_3b7462ff54ff4976bc495643e45ab8f3"
          }
        },
        "a8d5666e38614988868223c2f996dfe1": {
          "model_module": "@jupyter-widgets/controls",
          "model_name": "ProgressStyleModel",
          "state": {
            "_view_name": "StyleView",
            "_model_name": "ProgressStyleModel",
            "description_width": "initial",
            "_view_module": "@jupyter-widgets/base",
            "_model_module_version": "1.5.0",
            "_view_count": null,
            "_view_module_version": "1.2.0",
            "bar_color": null,
            "_model_module": "@jupyter-widgets/controls"
          }
        },
        "05f5ca601bc049f2a8cd990323d042be": {
          "model_module": "@jupyter-widgets/base",
          "model_name": "LayoutModel",
          "state": {
            "_view_name": "LayoutView",
            "grid_template_rows": null,
            "right": null,
            "justify_content": null,
            "_view_module": "@jupyter-widgets/base",
            "overflow": null,
            "_model_module_version": "1.2.0",
            "_view_count": null,
            "flex_flow": null,
            "width": null,
            "min_width": null,
            "border": null,
            "align_items": null,
            "bottom": null,
            "_model_module": "@jupyter-widgets/base",
            "top": null,
            "grid_column": null,
            "overflow_y": null,
            "overflow_x": null,
            "grid_auto_flow": null,
            "grid_area": null,
            "grid_template_columns": null,
            "flex": null,
            "_model_name": "LayoutModel",
            "justify_items": null,
            "grid_row": null,
            "max_height": null,
            "align_content": null,
            "visibility": null,
            "align_self": null,
            "height": null,
            "min_height": null,
            "padding": null,
            "grid_auto_rows": null,
            "grid_gap": null,
            "max_width": null,
            "order": null,
            "_view_module_version": "1.2.0",
            "grid_template_areas": null,
            "object_position": null,
            "object_fit": null,
            "grid_auto_columns": null,
            "margin": null,
            "display": null,
            "left": null
          }
        },
        "b213db287c1a422c86624757dcfc0367": {
          "model_module": "@jupyter-widgets/controls",
          "model_name": "DescriptionStyleModel",
          "state": {
            "_view_name": "StyleView",
            "_model_name": "DescriptionStyleModel",
            "description_width": "",
            "_view_module": "@jupyter-widgets/base",
            "_model_module_version": "1.5.0",
            "_view_count": null,
            "_view_module_version": "1.2.0",
            "_model_module": "@jupyter-widgets/controls"
          }
        },
        "3b7462ff54ff4976bc495643e45ab8f3": {
          "model_module": "@jupyter-widgets/base",
          "model_name": "LayoutModel",
          "state": {
            "_view_name": "LayoutView",
            "grid_template_rows": null,
            "right": null,
            "justify_content": null,
            "_view_module": "@jupyter-widgets/base",
            "overflow": null,
            "_model_module_version": "1.2.0",
            "_view_count": null,
            "flex_flow": null,
            "width": null,
            "min_width": null,
            "border": null,
            "align_items": null,
            "bottom": null,
            "_model_module": "@jupyter-widgets/base",
            "top": null,
            "grid_column": null,
            "overflow_y": null,
            "overflow_x": null,
            "grid_auto_flow": null,
            "grid_area": null,
            "grid_template_columns": null,
            "flex": null,
            "_model_name": "LayoutModel",
            "justify_items": null,
            "grid_row": null,
            "max_height": null,
            "align_content": null,
            "visibility": null,
            "align_self": null,
            "height": null,
            "min_height": null,
            "padding": null,
            "grid_auto_rows": null,
            "grid_gap": null,
            "max_width": null,
            "order": null,
            "_view_module_version": "1.2.0",
            "grid_template_areas": null,
            "object_position": null,
            "object_fit": null,
            "grid_auto_columns": null,
            "margin": null,
            "display": null,
            "left": null
          }
        }
      }
    }
  },
  "cells": [
    {
      "cell_type": "markdown",
      "metadata": {
        "id": "view-in-github",
        "colab_type": "text"
      },
      "source": [
        "<a href=\"https://colab.research.google.com/github/luciainnocenti/IncrementalLearning/blob/LinearSVM-Ele/ICaRLMain.ipynb\" target=\"_parent\"><img src=\"https://colab.research.google.com/assets/colab-badge.svg\" alt=\"Open In Colab\"/></a>"
      ]
    },
    {
      "cell_type": "markdown",
      "metadata": {
        "id": "OLMLAOPyrR1K",
        "colab_type": "text"
      },
      "source": [
        "# Import GitHub repository"
      ]
    },
    {
      "cell_type": "code",
      "metadata": {
        "id": "3LqwZJLUlcYH",
        "colab_type": "code",
        "colab": {}
      },
      "source": [
        "import os\n",
        "import logging\n",
        "import sys"
      ],
      "execution_count": null,
      "outputs": []
    },
    {
      "cell_type": "code",
      "metadata": {
        "id": "PVa_FlnxrXIk",
        "colab_type": "code",
        "colab": {
          "base_uri": "https://localhost:8080/",
          "height": 146
        },
        "outputId": "a0c64e07-1614-45f3-ab28-395d3c3d3d2f"
      },
      "source": [
        "if not os.path.isdir('./DatasetCIFAR'):\n",
        "  !git clone -b LinearSVM-Ele https://github.com/luciainnocenti/IncrementalLearning.git\n",
        "  !mv 'IncrementalLearning' 'DatasetCIFAR'"
      ],
      "execution_count": null,
      "outputs": [
        {
          "output_type": "stream",
          "text": [
            "Cloning into 'IncrementalLearning'...\n",
            "remote: Enumerating objects: 144, done.\u001b[K\n",
            "remote: Counting objects: 100% (144/144), done.\u001b[K\n",
            "remote: Compressing objects: 100% (144/144), done.\u001b[K\n",
            "remote: Total 1718 (delta 84), reused 0 (delta 0), pack-reused 1574\u001b[K\n",
            "Receiving objects: 100% (1718/1718), 2.20 MiB | 2.38 MiB/s, done.\n",
            "Resolving deltas: 100% (1092/1092), done.\n"
          ],
          "name": "stdout"
        }
      ]
    },
    {
      "cell_type": "markdown",
      "metadata": {
        "id": "XXQyHMXzrZ5A",
        "colab_type": "text"
      },
      "source": [
        "# Import packages"
      ]
    },
    {
      "cell_type": "code",
      "metadata": {
        "id": "c24pdNxurdv1",
        "colab_type": "code",
        "colab": {
          "base_uri": "https://localhost:8080/",
          "height": 74
        },
        "outputId": "d81210fe-5a9c-4b8c-fa6d-4312dd62bc1f"
      },
      "source": [
        "from DatasetCIFAR.data_set import Dataset \n",
        "from DatasetCIFAR.data_set import Subset\n",
        "from DatasetCIFAR import ResNet\n",
        "from DatasetCIFAR import utils\n",
        "from DatasetCIFAR import params\n",
        "from DatasetCIFAR import ICaRLModel\n",
        "from torchvision import models\n",
        "import torch.nn as nn\n",
        "import torch\n",
        "import torch.optim as optim\n",
        "import torchvision\n",
        "import numpy as np\n",
        "import seaborn as sn\n",
        "import pandas as pd\n",
        "import matplotlib.pyplot as plt\n",
        "from sklearn.metrics import confusion_matrix\n",
        "\n",
        "from torchvision import transforms\n",
        "from torch.utils.data import DataLoader\n",
        "from torch.nn import functional as F\n",
        "import random\n",
        "random.seed(params.SEED)"
      ],
      "execution_count": null,
      "outputs": [
        {
          "output_type": "stream",
          "text": [
            "/usr/local/lib/python3.6/dist-packages/statsmodels/tools/_testing.py:19: FutureWarning: pandas.util.testing is deprecated. Use the functions in the public API at pandas.testing instead.\n",
            "  import pandas.util.testing as tm\n"
          ],
          "name": "stderr"
        }
      ]
    },
    {
      "cell_type": "code",
      "metadata": {
        "id": "r2rkcBbIKfUQ",
        "colab_type": "code",
        "colab": {
          "base_uri": "https://localhost:8080/",
          "height": 54
        },
        "outputId": "19c7a2d3-e72c-4e2a-cbeb-3ebe5a995209"
      },
      "source": [
        "print(params.SEED)\n",
        "print(params.NUM_WORKERS)"
      ],
      "execution_count": null,
      "outputs": [
        {
          "output_type": "stream",
          "text": [
            "653\n",
            "4\n"
          ],
          "name": "stdout"
        }
      ]
    },
    {
      "cell_type": "markdown",
      "metadata": {
        "id": "1FlAkShyryrf",
        "colab_type": "text"
      },
      "source": [
        "# Define Datasets"
      ]
    },
    {
      "cell_type": "code",
      "metadata": {
        "id": "AP2iR2vl3Wiz",
        "colab_type": "code",
        "colab": {}
      },
      "source": [
        "train_transformer = transforms.Compose([transforms.RandomCrop(size = 32, padding=4),\n",
        "                                         transforms.RandomHorizontalFlip(),\n",
        "                                         transforms.ToTensor(),\n",
        "                                         transforms.Normalize((0.5, 0.5, 0.5), (0.5, 0.5, 0.5))\n",
        "])\n",
        "\n",
        "test_transformer = transforms.Compose([transforms.ToTensor(),\n",
        "                                         transforms.Normalize((0.5, 0.5, 0.5), (0.5, 0.5, 0.5))\n",
        "])"
      ],
      "execution_count": null,
      "outputs": []
    },
    {
      "cell_type": "code",
      "metadata": {
        "id": "1CSNk0NlrvAL",
        "colab_type": "code",
        "colab": {
          "base_uri": "https://localhost:8080/",
          "height": 104,
          "referenced_widgets": [
            "4d629936eb904df5bc29eedbb79ccc00",
            "a19ace2e76764427a5270ba093c8b907",
            "ebe60e85abd54af3a9c20b2f2e155208",
            "4a87774319574796a8c84837198f97ff",
            "a8d5666e38614988868223c2f996dfe1",
            "05f5ca601bc049f2a8cd990323d042be",
            "b213db287c1a422c86624757dcfc0367",
            "3b7462ff54ff4976bc495643e45ab8f3"
          ]
        },
        "outputId": "2f2601a0-b1f6-439a-9ca7-5a0421024db4"
      },
      "source": [
        "trainDS = Dataset(train=True)\n",
        "testDS = Dataset(train=False)"
      ],
      "execution_count": null,
      "outputs": [
        {
          "output_type": "stream",
          "text": [
            "Downloading https://www.cs.toronto.edu/~kriz/cifar-100-python.tar.gz to data/cifar-100-python.tar.gz\n"
          ],
          "name": "stdout"
        },
        {
          "output_type": "display_data",
          "data": {
            "application/vnd.jupyter.widget-view+json": {
              "model_id": "4d629936eb904df5bc29eedbb79ccc00",
              "version_minor": 0,
              "version_major": 2
            },
            "text/plain": [
              "HBox(children=(FloatProgress(value=1.0, bar_style='info', max=1.0), HTML(value='')))"
            ]
          },
          "metadata": {
            "tags": []
          }
        },
        {
          "output_type": "stream",
          "text": [
            "Extracting data/cifar-100-python.tar.gz to data\n",
            "Files already downloaded and verified\n"
          ],
          "name": "stdout"
        }
      ]
    },
    {
      "cell_type": "code",
      "metadata": {
        "id": "W3ge3VayryJL",
        "colab_type": "code",
        "colab": {}
      },
      "source": [
        "train_splits = trainDS.splits\n",
        "test_splits = testDS.splits"
      ],
      "execution_count": null,
      "outputs": []
    },
    {
      "cell_type": "markdown",
      "metadata": {
        "id": "AzxTlFF_rkfe",
        "colab_type": "text"
      },
      "source": [
        "# Define Network"
      ]
    },
    {
      "cell_type": "code",
      "metadata": {
        "id": "rgZtPkiPrmQK",
        "colab_type": "code",
        "colab": {}
      },
      "source": [
        "ICaRL = ResNet.resnet32(num_classes=100)\n",
        "ICaRL =  ICaRL.to(params.DEVICE)"
      ],
      "execution_count": null,
      "outputs": []
    },
    {
      "cell_type": "code",
      "metadata": {
        "id": "CI8EyFmpOikN",
        "colab_type": "code",
        "colab": {}
      },
      "source": [
        "exemplars = [None]*100\n",
        "\n",
        "test_indexes =  []\n",
        "accs = []"
      ],
      "execution_count": null,
      "outputs": []
    },
    {
      "cell_type": "code",
      "metadata": {
        "id": "fcFjbBGrOMz6",
        "colab_type": "code",
        "colab": {
          "base_uri": "https://localhost:8080/",
          "height": 1000
        },
        "outputId": "5d67db59-97e2-4f86-accb-3d1194b1a886"
      },
      "source": [
        "for task in range(0, 100, params.TASK_SIZE):\n",
        "  train_indexes = trainDS.__getIndexesGroups__(task)\n",
        "  test_indexes = test_indexes + testDS.__getIndexesGroups__(task)\n",
        "\n",
        "  train_dataset = Subset(trainDS, train_indexes, transform = train_transformer)\n",
        "  test_dataset = Subset(testDS, test_indexes, transform = test_transformer)\n",
        "\n",
        "  train_loader = DataLoader( train_dataset, num_workers=params.NUM_WORKERS, batch_size=params.BATCH_SIZE, shuffle=True)\n",
        "  test_loader = DataLoader( test_dataset, num_workers=params.NUM_WORKERS, batch_size=params.BATCH_SIZE , shuffle=True )\n",
        "  \n",
        "  ICaRL, exemplars = ICaRLModel.incrementalTrain(task, trainDS, ICaRL, exemplars, train_transformer)\n",
        "\n",
        "  col = []\n",
        "  for i,x in enumerate( train_splits[ :int(task/10) + 1]) : \n",
        "    v = np.array(x)\n",
        "    col = np.concatenate( (col,v), axis = None)\n",
        "    col = col.astype(int)\n",
        "  mean = None\n",
        "  total = 0.0\n",
        "  running_corrects = 0.0\n",
        "  for img, lbl, _ in train_loader:\n",
        "      img = img.float().to(params.DEVICE)\n",
        "      preds, mean = ICaRLModel.classify(img, exemplars, ICaRL, task, trainDS, mean)\n",
        "      preds = preds.to(params.DEVICE)\n",
        "      #print(\"this is preds\")\n",
        "      #print(preds)\n",
        "      #labels = utils.mapFunction(lbl, col).to(params.DEVICE)\n",
        "      #print(\"this is lbl\")\n",
        "      #print(lbl)\n",
        "      total += len(lbl)\n",
        "      running_corrects += torch.sum(preds == lbl.data.to(params.DEVICE)).data.item()\n",
        "\n",
        "  accuracy = float(running_corrects/total)\n",
        "  print(f'task: {task}', f'train accuracy = {accuracy}')\n",
        "  accs.append(accuracy)\n",
        "\n",
        "  total = 0.0\n",
        "  running_corrects = 0.0\n",
        "  tot_preds = []\n",
        "  tot_lab = []\n",
        "  for img, lbl, _ in test_loader:\n",
        "      img = img.float().to(params.DEVICE)\n",
        "      preds, _ = ICaRLModel.classify(img, exemplars, ICaRL, task, trainDS, mean)\n",
        "      preds = preds.to(params.DEVICE)\n",
        "      #labels = utils.mapFunction(lbl, col).to(params.DEVICE)\n",
        "\n",
        "      tot_preds = np.concatenate( ( tot_preds, preds.data.cpu().numpy() ) )\n",
        "      tot_lab = np.concatenate( (tot_lab, lbl.data.cpu().numpy()  ) )#labels\n",
        "\n",
        "      total += len(lbl)\n",
        "      running_corrects += torch.sum(preds == lbl.data.to(params.DEVICE)).data.item()\n",
        "\n",
        "  accuracy = float(running_corrects/total)\n",
        "  print(f'task: {task}', f'test accuracy = {accuracy}')\n",
        " # cf = confusion_matrix(tot_lab, tot_preds)\n",
        " # df_cm = pd.DataFrame(cf, range(task + params.TASK_SIZE), range(task + params.TASK_SIZE))\n",
        " # sn.set(font_scale = .5) # for label size\n",
        " # sn.heatmap(df_cm, annot=False)\n",
        " # plt.show()"
      ],
      "execution_count": null,
      "outputs": [
        {
          "output_type": "stream",
          "text": [
            "At step  0  and at epoch =  0  the loss is =  0.029777517542243004  and accuracy is =  0.2144\n",
            "At step  0  and at epoch =  1  the loss is =  0.025983760133385658  and accuracy is =  0.3852\n",
            "At step  0  and at epoch =  2  the loss is =  0.019630003720521927  and accuracy is =  0.4582\n",
            "At step  0  and at epoch =  3  the loss is =  0.024498725309967995  and accuracy is =  0.5288\n",
            "At step  0  and at epoch =  4  the loss is =  0.020160870626568794  and accuracy is =  0.5476\n",
            "At step  0  and at epoch =  5  the loss is =  0.03659680858254433  and accuracy is =  0.612\n",
            "At step  0  and at epoch =  6  the loss is =  0.02089894935488701  and accuracy is =  0.586\n",
            "At step  0  and at epoch =  7  the loss is =  0.016954362392425537  and accuracy is =  0.66\n",
            "At step  0  and at epoch =  8  the loss is =  0.02497043088078499  and accuracy is =  0.668\n",
            "At step  0  and at epoch =  9  the loss is =  0.01347848866134882  and accuracy is =  0.707\n",
            "At step  0  and at epoch =  10  the loss is =  0.016351349651813507  and accuracy is =  0.7168\n",
            "At step  0  and at epoch =  11  the loss is =  0.009934735484421253  and accuracy is =  0.7224\n",
            "At step  0  and at epoch =  12  the loss is =  0.016631165519356728  and accuracy is =  0.738\n",
            "At step  0  and at epoch =  13  the loss is =  0.012469232082366943  and accuracy is =  0.7512\n",
            "At step  0  and at epoch =  14  the loss is =  0.018605614081025124  and accuracy is =  0.7604\n",
            "At step  0  and at epoch =  15  the loss is =  0.015759993344545364  and accuracy is =  0.7846\n",
            "At step  0  and at epoch =  16  the loss is =  0.0075357649475336075  and accuracy is =  0.7454\n",
            "At step  0  and at epoch =  17  the loss is =  0.012874309904873371  and accuracy is =  0.7828\n",
            "At step  0  and at epoch =  18  the loss is =  0.026922574266791344  and accuracy is =  0.8014\n",
            "At step  0  and at epoch =  19  the loss is =  0.012080295011401176  and accuracy is =  0.802\n",
            "At step  0  and at epoch =  20  the loss is =  0.02663743682205677  and accuracy is =  0.8192\n",
            "At step  0  and at epoch =  21  the loss is =  0.009230591356754303  and accuracy is =  0.8192\n",
            "At step  0  and at epoch =  22  the loss is =  0.0185227133333683  and accuracy is =  0.8288\n",
            "At step  0  and at epoch =  23  the loss is =  0.005214428994804621  and accuracy is =  0.8294\n",
            "At step  0  and at epoch =  24  the loss is =  0.009469789452850819  and accuracy is =  0.8446\n",
            "At step  0  and at epoch =  25  the loss is =  0.021582627668976784  and accuracy is =  0.8396\n",
            "At step  0  and at epoch =  26  the loss is =  0.01523092482239008  and accuracy is =  0.8204\n",
            "At step  0  and at epoch =  27  the loss is =  0.01650896482169628  and accuracy is =  0.8426\n",
            "At step  0  and at epoch =  28  the loss is =  0.012655080296099186  and accuracy is =  0.8356\n",
            "At step  0  and at epoch =  29  the loss is =  0.026574961841106415  and accuracy is =  0.8556\n",
            "At step  0  and at epoch =  30  the loss is =  0.020039532333612442  and accuracy is =  0.8354\n",
            "At step  0  and at epoch =  31  the loss is =  0.02611919306218624  and accuracy is =  0.8598\n",
            "At step  0  and at epoch =  32  the loss is =  0.009192760102450848  and accuracy is =  0.8706\n",
            "At step  0  and at epoch =  33  the loss is =  0.02396060898900032  and accuracy is =  0.8702\n",
            "At step  0  and at epoch =  34  the loss is =  0.021988868713378906  and accuracy is =  0.8184\n",
            "At step  0  and at epoch =  35  the loss is =  0.0050398013554513454  and accuracy is =  0.839\n",
            "At step  0  and at epoch =  36  the loss is =  0.01603635959327221  and accuracy is =  0.877\n",
            "At step  0  and at epoch =  37  the loss is =  0.01058069709688425  and accuracy is =  0.8564\n",
            "At step  0  and at epoch =  38  the loss is =  0.003312472254037857  and accuracy is =  0.8856\n",
            "At step  0  and at epoch =  39  the loss is =  0.003962154965847731  and accuracy is =  0.8976\n",
            "At step  0  and at epoch =  40  the loss is =  0.02219676598906517  and accuracy is =  0.9108\n",
            "At step  0  and at epoch =  41  the loss is =  0.01183230895549059  and accuracy is =  0.8738\n",
            "At step  0  and at epoch =  42  the loss is =  0.004036040976643562  and accuracy is =  0.9072\n",
            "At step  0  and at epoch =  43  the loss is =  0.001615094835869968  and accuracy is =  0.9142\n",
            "At step  0  and at epoch =  44  the loss is =  0.012293169274926186  and accuracy is =  0.914\n",
            "At step  0  and at epoch =  45  the loss is =  0.009892637841403484  and accuracy is =  0.8828\n",
            "At step  0  and at epoch =  46  the loss is =  0.00267112348228693  and accuracy is =  0.8984\n",
            "At step  0  and at epoch =  47  the loss is =  0.0012252863962203264  and accuracy is =  0.9148\n",
            "At step  0  and at epoch =  48  the loss is =  0.0090129803866148  and accuracy is =  0.922\n",
            "At step  0  and at epoch =  49  the loss is =  0.00549084460362792  and accuracy is =  0.941\n",
            "At step  0  and at epoch =  50  the loss is =  0.01486094668507576  and accuracy is =  0.9572\n",
            "At step  0  and at epoch =  51  the loss is =  0.009315168485045433  and accuracy is =  0.9564\n",
            "At step  0  and at epoch =  52  the loss is =  0.007911291904747486  and accuracy is =  0.9618\n",
            "At step  0  and at epoch =  53  the loss is =  0.009631413966417313  and accuracy is =  0.9634\n",
            "At step  0  and at epoch =  54  the loss is =  0.00442800996825099  and accuracy is =  0.9578\n",
            "At step  0  and at epoch =  55  the loss is =  0.006673599127680063  and accuracy is =  0.9638\n",
            "At step  0  and at epoch =  56  the loss is =  0.010944164358079433  and accuracy is =  0.9612\n",
            "At step  0  and at epoch =  57  the loss is =  0.0012695112964138389  and accuracy is =  0.9656\n",
            "At step  0  and at epoch =  58  the loss is =  0.0022317986004054546  and accuracy is =  0.9676\n",
            "At step  0  and at epoch =  59  the loss is =  0.004123862832784653  and accuracy is =  0.9704\n",
            "At step  0  and at epoch =  60  the loss is =  0.002323357155546546  and accuracy is =  0.9736\n",
            "At step  0  and at epoch =  61  the loss is =  0.0007706433534622192  and accuracy is =  0.9686\n",
            "At step  0  and at epoch =  62  the loss is =  0.0014442254323512316  and accuracy is =  0.9746\n",
            "At step  0  and at epoch =  63  the loss is =  0.004084958229213953  and accuracy is =  0.9804\n",
            "At step  0  and at epoch =  64  the loss is =  0.01397580374032259  and accuracy is =  0.9778\n",
            "At step  0  and at epoch =  65  the loss is =  0.0024735622573643923  and accuracy is =  0.9778\n",
            "At step  0  and at epoch =  66  the loss is =  0.0027115612756460905  and accuracy is =  0.9798\n",
            "At step  0  and at epoch =  67  the loss is =  0.0022731067147105932  and accuracy is =  0.9784\n",
            "At step  0  and at epoch =  68  the loss is =  0.0040459888987243176  and accuracy is =  0.979\n",
            "At step  0  and at epoch =  69  the loss is =  0.00018428845214657485  and accuracy is =  0.981\n",
            "task: 0 train accuracy = 0.9872\n",
            "task: 0 test accuracy = 0.885\n"
          ],
          "name": "stdout"
        },
        {
          "output_type": "display_data",
          "data": {
            "image/png": "[encoded data removed]",
            "text/plain": [
              "<Figure size 432x288 with 2 Axes>"
            ]
          },
          "metadata": {
            "tags": []
          }
        },
        {
          "output_type": "stream",
          "text": [
            "At step  10  and at epoch =  0  the loss is =  0.031606610864400864  and accuracy is =  0.293\n",
            "At step  10  and at epoch =  1  the loss is =  0.027576420456171036  and accuracy is =  0.3782857142857143\n",
            "At step  10  and at epoch =  2  the loss is =  0.02466893009841442  and accuracy is =  0.4767142857142857\n",
            "At step  10  and at epoch =  3  the loss is =  0.024936120957136154  and accuracy is =  0.5408571428571428\n",
            "At step  10  and at epoch =  4  the loss is =  0.022189706563949585  and accuracy is =  0.5714285714285714\n",
            "At step  10  and at epoch =  5  the loss is =  0.023990655317902565  and accuracy is =  0.6012857142857143\n",
            "At step  10  and at epoch =  6  the loss is =  0.02155660279095173  and accuracy is =  0.6114285714285714\n",
            "At step  10  and at epoch =  7  the loss is =  0.021565573289990425  and accuracy is =  0.643\n",
            "At step  10  and at epoch =  8  the loss is =  0.023533713072538376  and accuracy is =  0.6514285714285715\n",
            "At step  10  and at epoch =  9  the loss is =  0.018561560660600662  and accuracy is =  0.6725714285714286\n",
            "At step  10  and at epoch =  10  the loss is =  0.02089374139904976  and accuracy is =  0.6837142857142857\n",
            "At step  10  and at epoch =  11  the loss is =  0.018386196345090866  and accuracy is =  0.6957142857142857\n",
            "At step  10  and at epoch =  12  the loss is =  0.022030066698789597  and accuracy is =  0.7131428571428572\n",
            "At step  10  and at epoch =  13  the loss is =  0.02225337363779545  and accuracy is =  0.7181428571428572\n",
            "At step  10  and at epoch =  14  the loss is =  0.019390547648072243  and accuracy is =  0.7175714285714285\n",
            "At step  10  and at epoch =  15  the loss is =  0.018831897526979446  and accuracy is =  0.7341428571428571\n",
            "At step  10  and at epoch =  16  the loss is =  0.01936609484255314  and accuracy is =  0.7487142857142857\n",
            "At step  10  and at epoch =  17  the loss is =  0.017491891980171204  and accuracy is =  0.7542857142857143\n",
            "At step  10  and at epoch =  18  the loss is =  0.017169715836644173  and accuracy is =  0.7527142857142857\n",
            "At step  10  and at epoch =  19  the loss is =  0.01908528245985508  and accuracy is =  0.7681428571428571\n",
            "At step  10  and at epoch =  20  the loss is =  0.017319416627287865  and accuracy is =  0.7724285714285715\n",
            "At step  10  and at epoch =  21  the loss is =  0.018020980060100555  and accuracy is =  0.7697142857142857\n",
            "At step  10  and at epoch =  22  the loss is =  0.02325335517525673  and accuracy is =  0.7835714285714286\n",
            "At step  10  and at epoch =  23  the loss is =  0.01855413056910038  and accuracy is =  0.7777142857142857\n",
            "At step  10  and at epoch =  24  the loss is =  0.01378831546753645  and accuracy is =  0.7965714285714286\n",
            "At step  10  and at epoch =  25  the loss is =  0.02058790624141693  and accuracy is =  0.7918571428571428\n",
            "At step  10  and at epoch =  26  the loss is =  0.01874239556491375  and accuracy is =  0.8008571428571428\n",
            "At step  10  and at epoch =  27  the loss is =  0.019591087475419044  and accuracy is =  0.7957142857142857\n",
            "At step  10  and at epoch =  28  the loss is =  0.016391243785619736  and accuracy is =  0.808\n",
            "At step  10  and at epoch =  29  the loss is =  0.017054786905646324  and accuracy is =  0.8034285714285714\n",
            "At step  10  and at epoch =  30  the loss is =  0.01738581992685795  and accuracy is =  0.8088571428571428\n",
            "At step  10  and at epoch =  31  the loss is =  0.01970786415040493  and accuracy is =  0.8137142857142857\n",
            "At step  10  and at epoch =  32  the loss is =  0.0163241159170866  and accuracy is =  0.8147142857142857\n",
            "At step  10  and at epoch =  33  the loss is =  0.015036066062748432  and accuracy is =  0.818\n",
            "At step  10  and at epoch =  34  the loss is =  0.017213234677910805  and accuracy is =  0.8277142857142857\n",
            "At step  10  and at epoch =  35  the loss is =  0.017230328172445297  and accuracy is =  0.8284285714285714\n",
            "At step  10  and at epoch =  36  the loss is =  0.01855834200978279  and accuracy is =  0.8285714285714286\n",
            "At step  10  and at epoch =  37  the loss is =  0.015911467373371124  and accuracy is =  0.8357142857142857\n",
            "At step  10  and at epoch =  38  the loss is =  0.018660247325897217  and accuracy is =  0.8408571428571429\n",
            "At step  10  and at epoch =  39  the loss is =  0.015360379591584206  and accuracy is =  0.847\n",
            "At step  10  and at epoch =  40  the loss is =  0.015508605167269707  and accuracy is =  0.8418571428571429\n",
            "At step  10  and at epoch =  41  the loss is =  0.01535254530608654  and accuracy is =  0.8461428571428572\n",
            "At step  10  and at epoch =  42  the loss is =  0.01426611002534628  and accuracy is =  0.8395714285714285\n",
            "At step  10  and at epoch =  43  the loss is =  0.015198701061308384  and accuracy is =  0.8525714285714285\n",
            "At step  10  and at epoch =  44  the loss is =  0.015189001336693764  and accuracy is =  0.847\n",
            "At step  10  and at epoch =  45  the loss is =  0.015834251418709755  and accuracy is =  0.8542857142857143\n",
            "At step  10  and at epoch =  46  the loss is =  0.020383253693580627  and accuracy is =  0.8505714285714285\n",
            "At step  10  and at epoch =  47  the loss is =  0.016972621902823448  and accuracy is =  0.8554285714285714\n",
            "At step  10  and at epoch =  48  the loss is =  0.016130821779370308  and accuracy is =  0.8611428571428571\n",
            "At step  10  and at epoch =  49  the loss is =  0.014267238788306713  and accuracy is =  0.893\n",
            "At step  10  and at epoch =  50  the loss is =  0.012918103486299515  and accuracy is =  0.9105714285714286\n",
            "At step  10  and at epoch =  51  the loss is =  0.013891766779124737  and accuracy is =  0.9071428571428571\n",
            "At step  10  and at epoch =  52  the loss is =  0.013122137635946274  and accuracy is =  0.9167142857142857\n",
            "At step  10  and at epoch =  53  the loss is =  0.013140382245182991  and accuracy is =  0.9192857142857143\n",
            "At step  10  and at epoch =  54  the loss is =  0.013822494074702263  and accuracy is =  0.9177142857142857\n",
            "At step  10  and at epoch =  55  the loss is =  0.013324921950697899  and accuracy is =  0.9307142857142857\n",
            "At step  10  and at epoch =  56  the loss is =  0.011824795976281166  and accuracy is =  0.9301428571428572\n",
            "At step  10  and at epoch =  57  the loss is =  0.011165003292262554  and accuracy is =  0.9305714285714286\n",
            "At step  10  and at epoch =  58  the loss is =  0.012828894890844822  and accuracy is =  0.9272857142857143\n",
            "At step  10  and at epoch =  59  the loss is =  0.012355700135231018  and accuracy is =  0.9247142857142857\n",
            "At step  10  and at epoch =  60  the loss is =  0.011275973170995712  and accuracy is =  0.9357142857142857\n",
            "At step  10  and at epoch =  61  the loss is =  0.011708762496709824  and accuracy is =  0.9312857142857143\n",
            "At step  10  and at epoch =  62  the loss is =  0.011874559335410595  and accuracy is =  0.935\n",
            "At step  10  and at epoch =  63  the loss is =  0.012779446318745613  and accuracy is =  0.9337142857142857\n",
            "At step  10  and at epoch =  64  the loss is =  0.011113954707980156  and accuracy is =  0.938\n",
            "At step  10  and at epoch =  65  the loss is =  0.01194931659847498  and accuracy is =  0.9405714285714286\n",
            "At step  10  and at epoch =  66  the loss is =  0.011865650303661823  and accuracy is =  0.9395714285714286\n",
            "At step  10  and at epoch =  67  the loss is =  0.011415962129831314  and accuracy is =  0.944\n",
            "At step  10  and at epoch =  68  the loss is =  0.01166471652686596  and accuracy is =  0.942\n",
            "At step  10  and at epoch =  69  the loss is =  0.011744136922061443  and accuracy is =  0.9357142857142857\n",
            "task: 10 train accuracy = 0.9578\n",
            "task: 10 test accuracy = 0.8035\n"
          ],
          "name": "stdout"
        },
        {
          "output_type": "display_data",
          "data": {
            "image/png": "[encoded data removed]",
            "text/plain": [
              "<Figure size 432x288 with 2 Axes>"
            ]
          },
          "metadata": {
            "tags": []
          }
        },
        {
          "output_type": "stream",
          "text": [
            "At step  20  and at epoch =  0  the loss is =  0.037509746849536896  and accuracy is =  0.28085714285714286\n",
            "At step  20  and at epoch =  1  the loss is =  0.03271573409438133  and accuracy is =  0.3465714285714286\n",
            "At step  20  and at epoch =  2  the loss is =  0.0333089604973793  and accuracy is =  0.44485714285714284\n",
            "At step  20  and at epoch =  3  the loss is =  0.04296373575925827  and accuracy is =  0.5054285714285714\n",
            "At step  20  and at epoch =  4  the loss is =  0.03297362104058266  and accuracy is =  0.5444285714285715\n",
            "At step  20  and at epoch =  5  the loss is =  0.030322592705488205  and accuracy is =  0.5702857142857143\n",
            "At step  20  and at epoch =  6  the loss is =  0.028407730162143707  and accuracy is =  0.6061428571428571\n",
            "At step  20  and at epoch =  7  the loss is =  0.03255954757332802  and accuracy is =  0.6215714285714286\n",
            "At step  20  and at epoch =  8  the loss is =  0.02985752746462822  and accuracy is =  0.6431428571428571\n",
            "At step  20  and at epoch =  9  the loss is =  0.028070654720067978  and accuracy is =  0.6552857142857142\n",
            "At step  20  and at epoch =  10  the loss is =  0.03243469074368477  and accuracy is =  0.6801428571428572\n",
            "At step  20  and at epoch =  11  the loss is =  0.03119935467839241  and accuracy is =  0.6824285714285714\n",
            "At step  20  and at epoch =  12  the loss is =  0.03139874339103699  and accuracy is =  0.6887142857142857\n",
            "At step  20  and at epoch =  13  the loss is =  0.030347159132361412  and accuracy is =  0.7004285714285714\n",
            "At step  20  and at epoch =  14  the loss is =  0.029498867690563202  and accuracy is =  0.707\n",
            "At step  20  and at epoch =  15  the loss is =  0.03094712644815445  and accuracy is =  0.724\n",
            "At step  20  and at epoch =  16  the loss is =  0.029637396335601807  and accuracy is =  0.7315714285714285\n",
            "At step  20  and at epoch =  17  the loss is =  0.02755187824368477  and accuracy is =  0.7427142857142857\n",
            "At step  20  and at epoch =  18  the loss is =  0.029166866093873978  and accuracy is =  0.7375714285714285\n",
            "At step  20  and at epoch =  19  the loss is =  0.02988145314157009  and accuracy is =  0.747\n",
            "At step  20  and at epoch =  20  the loss is =  0.03098885342478752  and accuracy is =  0.754\n",
            "At step  20  and at epoch =  21  the loss is =  0.02696198597550392  and accuracy is =  0.7517142857142857\n",
            "At step  20  and at epoch =  22  the loss is =  0.02987266518175602  and accuracy is =  0.7664285714285715\n",
            "At step  20  and at epoch =  23  the loss is =  0.025418562814593315  and accuracy is =  0.7665714285714286\n",
            "At step  20  and at epoch =  24  the loss is =  0.0293204914778471  and accuracy is =  0.7807142857142857\n",
            "At step  20  and at epoch =  25  the loss is =  0.025266407057642937  and accuracy is =  0.7765714285714286\n",
            "At step  20  and at epoch =  26  the loss is =  0.029544740915298462  and accuracy is =  0.7752857142857142\n",
            "At step  20  and at epoch =  27  the loss is =  0.02551126666367054  and accuracy is =  0.7827142857142857\n",
            "At step  20  and at epoch =  28  the loss is =  0.028637362644076347  and accuracy is =  0.7737142857142857\n",
            "At step  20  and at epoch =  29  the loss is =  0.027624938637018204  and accuracy is =  0.7964285714285714\n",
            "At step  20  and at epoch =  30  the loss is =  0.02537563629448414  and accuracy is =  0.7997142857142857\n",
            "At step  20  and at epoch =  31  the loss is =  0.026715420186519623  and accuracy is =  0.7988571428571428\n",
            "At step  20  and at epoch =  32  the loss is =  0.028546299785375595  and accuracy is =  0.8064285714285714\n",
            "At step  20  and at epoch =  33  the loss is =  0.029027950018644333  and accuracy is =  0.8062857142857143\n",
            "At step  20  and at epoch =  34  the loss is =  0.02944386936724186  and accuracy is =  0.8051428571428572\n",
            "At step  20  and at epoch =  35  the loss is =  0.026343276724219322  and accuracy is =  0.8057142857142857\n",
            "At step  20  and at epoch =  36  the loss is =  0.02670363150537014  and accuracy is =  0.8084285714285714\n",
            "At step  20  and at epoch =  37  the loss is =  0.027369285002350807  and accuracy is =  0.8234285714285714\n",
            "At step  20  and at epoch =  38  the loss is =  0.026791980490088463  and accuracy is =  0.8227142857142857\n",
            "At step  20  and at epoch =  39  the loss is =  0.025972863659262657  and accuracy is =  0.8274285714285714\n",
            "At step  20  and at epoch =  40  the loss is =  0.024138355627655983  and accuracy is =  0.8224285714285714\n",
            "At step  20  and at epoch =  41  the loss is =  0.027331657707691193  and accuracy is =  0.8228571428571428\n",
            "At step  20  and at epoch =  42  the loss is =  0.02506965957581997  and accuracy is =  0.8337142857142857\n",
            "At step  20  and at epoch =  43  the loss is =  0.026017531752586365  and accuracy is =  0.8251428571428572\n",
            "At step  20  and at epoch =  44  the loss is =  0.026514369994401932  and accuracy is =  0.8252857142857143\n",
            "At step  20  and at epoch =  45  the loss is =  0.026032375171780586  and accuracy is =  0.822\n",
            "At step  20  and at epoch =  46  the loss is =  0.03003270924091339  and accuracy is =  0.8317142857142857\n",
            "At step  20  and at epoch =  47  the loss is =  0.026227770373225212  and accuracy is =  0.8362857142857143\n",
            "At step  20  and at epoch =  48  the loss is =  0.025524798780679703  and accuracy is =  0.8371428571428572\n",
            "At step  20  and at epoch =  49  the loss is =  0.02491450496017933  and accuracy is =  0.8657142857142858\n",
            "At step  20  and at epoch =  50  the loss is =  0.023849831894040108  and accuracy is =  0.8865714285714286\n",
            "At step  20  and at epoch =  51  the loss is =  0.02149290032684803  and accuracy is =  0.8978571428571429\n",
            "At step  20  and at epoch =  52  the loss is =  0.023941732943058014  and accuracy is =  0.8897142857142857\n",
            "At step  20  and at epoch =  53  the loss is =  0.02124655991792679  and accuracy is =  0.8887142857142857\n",
            "At step  20  and at epoch =  54  the loss is =  0.022409824654459953  and accuracy is =  0.8987142857142857\n",
            "At step  20  and at epoch =  55  the loss is =  0.02210833691060543  and accuracy is =  0.894\n",
            "At step  20  and at epoch =  56  the loss is =  0.0225853081792593  and accuracy is =  0.8938571428571429\n",
            "At step  20  and at epoch =  57  the loss is =  0.02023777738213539  and accuracy is =  0.8952857142857142\n",
            "At step  20  and at epoch =  58  the loss is =  0.02227269485592842  and accuracy is =  0.9017142857142857\n",
            "At step  20  and at epoch =  59  the loss is =  0.02281033992767334  and accuracy is =  0.9012857142857142\n",
            "At step  20  and at epoch =  60  the loss is =  0.02077839896082878  and accuracy is =  0.8978571428571429\n",
            "At step  20  and at epoch =  61  the loss is =  0.023295225575566292  and accuracy is =  0.9005714285714286\n",
            "At step  20  and at epoch =  62  the loss is =  0.02351539023220539  and accuracy is =  0.9012857142857142\n",
            "At step  20  and at epoch =  63  the loss is =  0.021130584180355072  and accuracy is =  0.9068571428571428\n",
            "At step  20  and at epoch =  64  the loss is =  0.022181643173098564  and accuracy is =  0.9115714285714286\n",
            "At step  20  and at epoch =  65  the loss is =  0.021740350872278214  and accuracy is =  0.9068571428571428\n",
            "At step  20  and at epoch =  66  the loss is =  0.02085309848189354  and accuracy is =  0.9051428571428571\n",
            "At step  20  and at epoch =  67  the loss is =  0.02262781746685505  and accuracy is =  0.9064285714285715\n",
            "At step  20  and at epoch =  68  the loss is =  0.02160181850194931  and accuracy is =  0.9077142857142857\n",
            "At step  20  and at epoch =  69  the loss is =  0.02079703100025654  and accuracy is =  0.9087142857142857\n",
            "task: 20 train accuracy = 0.9112\n",
            "task: 20 test accuracy = 0.7433333333333333\n"
          ],
          "name": "stdout"
        },
        {
          "output_type": "display_data",
          "data": {
            "image/png": "[encoded data removed]",
            "text/plain": [
              "<Figure size 432x288 with 2 Axes>"
            ]
          },
          "metadata": {
            "tags": []
          }
        },
        {
          "output_type": "stream",
          "text": [
            "At step  30  and at epoch =  0  the loss is =  0.044557180255651474  and accuracy is =  0.2738944365192582\n",
            "At step  30  and at epoch =  1  the loss is =  0.04326305165886879  and accuracy is =  0.3700427960057061\n",
            "At step  30  and at epoch =  2  the loss is =  0.043464500457048416  and accuracy is =  0.43509272467902993\n",
            "At step  30  and at epoch =  3  the loss is =  0.04200762137770653  and accuracy is =  0.47803138373751786\n",
            "At step  30  and at epoch =  4  the loss is =  0.037551816552877426  and accuracy is =  0.5098430813124109\n",
            "At step  30  and at epoch =  5  the loss is =  0.042457737028598785  and accuracy is =  0.553922967189729\n",
            "At step  30  and at epoch =  6  the loss is =  0.037911564111709595  and accuracy is =  0.5738944365192582\n",
            "At step  30  and at epoch =  7  the loss is =  0.04266543686389923  and accuracy is =  0.5907275320970042\n",
            "At step  30  and at epoch =  8  the loss is =  0.037991128861904144  and accuracy is =  0.6094151212553495\n",
            "At step  30  and at epoch =  9  the loss is =  0.03939423710107803  and accuracy is =  0.6203994293865905\n",
            "At step  30  and at epoch =  10  the loss is =  0.038097117096185684  and accuracy is =  0.6299572039942939\n",
            "At step  30  and at epoch =  11  the loss is =  0.036785125732421875  and accuracy is =  0.653922967189729\n",
            "At step  30  and at epoch =  12  the loss is =  0.03584982082247734  and accuracy is =  0.656490727532097\n",
            "At step  30  and at epoch =  13  the loss is =  0.037266526371240616  and accuracy is =  0.6640513552068473\n",
            "At step  30  and at epoch =  14  the loss is =  0.03760676831007004  and accuracy is =  0.6784593437945792\n",
            "At step  30  and at epoch =  15  the loss is =  0.0334472730755806  and accuracy is =  0.6890156918687589\n",
            "At step  30  and at epoch =  16  the loss is =  0.03663276880979538  and accuracy is =  0.685734664764622\n",
            "At step  30  and at epoch =  17  the loss is =  0.03367157280445099  and accuracy is =  0.7\n",
            "At step  30  and at epoch =  18  the loss is =  0.0346277616918087  and accuracy is =  0.7114122681883024\n",
            "At step  30  and at epoch =  19  the loss is =  0.035907331854104996  and accuracy is =  0.7184022824536377\n",
            "At step  30  and at epoch =  20  the loss is =  0.038540150970220566  and accuracy is =  0.717546362339515\n",
            "At step  30  and at epoch =  21  the loss is =  0.037122391164302826  and accuracy is =  0.7263908701854493\n",
            "At step  30  and at epoch =  22  the loss is =  0.032327041029930115  and accuracy is =  0.7312410841654778\n",
            "At step  30  and at epoch =  23  the loss is =  0.036910563707351685  and accuracy is =  0.7355206847360913\n",
            "At step  30  and at epoch =  24  the loss is =  0.0357455313205719  and accuracy is =  0.7457917261055634\n",
            "At step  30  and at epoch =  25  the loss is =  0.03541303798556328  and accuracy is =  0.744793152639087\n",
            "At step  30  and at epoch =  26  the loss is =  0.03782106190919876  and accuracy is =  0.74151212553495\n",
            "At step  30  and at epoch =  27  the loss is =  0.037141818553209305  and accuracy is =  0.7497860199714693\n",
            "At step  30  and at epoch =  28  the loss is =  0.038832467049360275  and accuracy is =  0.7604850213980029\n",
            "At step  30  and at epoch =  29  the loss is =  0.031854212284088135  and accuracy is =  0.7590584878744651\n",
            "At step  30  and at epoch =  30  the loss is =  0.036256734281778336  and accuracy is =  0.7597717546362339\n",
            "At step  30  and at epoch =  31  the loss is =  0.038955993950366974  and accuracy is =  0.7609129814550641\n",
            "At step  30  and at epoch =  32  the loss is =  0.03599437326192856  and accuracy is =  0.761055634807418\n",
            "At step  30  and at epoch =  33  the loss is =  0.03614263981580734  and accuracy is =  0.7730385164051355\n",
            "At step  30  and at epoch =  34  the loss is =  0.034078579396009445  and accuracy is =  0.7763195435092725\n",
            "At step  30  and at epoch =  35  the loss is =  0.03650504723191261  and accuracy is =  0.7786019971469329\n",
            "At step  30  and at epoch =  36  the loss is =  0.03602278605103493  and accuracy is =  0.7756062767475036\n",
            "At step  30  and at epoch =  37  the loss is =  0.037153925746679306  and accuracy is =  0.7868758915834522\n",
            "At step  30  and at epoch =  38  the loss is =  0.035694483667612076  and accuracy is =  0.7830242510699001\n",
            "At step  30  and at epoch =  39  the loss is =  0.036142174154520035  and accuracy is =  0.7944365192582026\n",
            "At step  30  and at epoch =  40  the loss is =  0.034615181386470795  and accuracy is =  0.7818830242510699\n",
            "At step  30  and at epoch =  41  the loss is =  0.032725851982831955  and accuracy is =  0.7863052781740371\n",
            "At step  30  and at epoch =  42  the loss is =  0.032929737120866776  and accuracy is =  0.7960057061340942\n",
            "At step  30  and at epoch =  43  the loss is =  0.0342244915664196  and accuracy is =  0.8015691868758916\n",
            "At step  30  and at epoch =  44  the loss is =  0.035313915461301804  and accuracy is =  0.7918687589158345\n",
            "At step  30  and at epoch =  45  the loss is =  0.031840745359659195  and accuracy is =  0.8042796005706134\n",
            "At step  30  and at epoch =  46  the loss is =  0.03562469035387039  and accuracy is =  0.8021398002853067\n",
            "At step  30  and at epoch =  47  the loss is =  0.03646881505846977  and accuracy is =  0.8028530670470756\n",
            "At step  30  and at epoch =  48  the loss is =  0.036225613206624985  and accuracy is =  0.8067047075606276\n",
            "At step  30  and at epoch =  49  the loss is =  0.030419062823057175  and accuracy is =  0.84151212553495\n",
            "At step  30  and at epoch =  50  the loss is =  0.03236164152622223  and accuracy is =  0.8527817403708987\n",
            "At step  30  and at epoch =  51  the loss is =  0.02854427695274353  and accuracy is =  0.86490727532097\n",
            "At step  30  and at epoch =  52  the loss is =  0.03246738389134407  and accuracy is =  0.8657631954350927\n",
            "At step  30  and at epoch =  53  the loss is =  0.029869776219129562  and accuracy is =  0.8697574893009986\n",
            "At step  30  and at epoch =  54  the loss is =  0.028275931254029274  and accuracy is =  0.8613409415121255\n",
            "At step  30  and at epoch =  55  the loss is =  0.030664635822176933  and accuracy is =  0.8736091298145506\n",
            "At step  30  and at epoch =  56  the loss is =  0.030950728803873062  and accuracy is =  0.8780313837375179\n",
            "At step  30  and at epoch =  57  the loss is =  0.030407819896936417  and accuracy is =  0.8748930099857347\n",
            "At step  30  and at epoch =  58  the loss is =  0.029516147449612617  and accuracy is =  0.8817403708987162\n",
            "At step  30  and at epoch =  59  the loss is =  0.03304417058825493  and accuracy is =  0.8777460770328103\n",
            "At step  30  and at epoch =  60  the loss is =  0.03168678283691406  and accuracy is =  0.882453637660485\n",
            "At step  30  and at epoch =  61  the loss is =  0.027509914711117744  and accuracy is =  0.8790299572039942\n",
            "At step  30  and at epoch =  62  the loss is =  0.029398806393146515  and accuracy is =  0.8768901569186875\n",
            "At step  30  and at epoch =  63  the loss is =  0.031113529577851295  and accuracy is =  0.892867332382311\n",
            "At step  30  and at epoch =  64  the loss is =  0.030537927523255348  and accuracy is =  0.8835948644793152\n",
            "At step  30  and at epoch =  65  the loss is =  0.026045668870210648  and accuracy is =  0.8887303851640513\n",
            "At step  30  and at epoch =  66  the loss is =  0.030431916937232018  and accuracy is =  0.8900142653352354\n",
            "At step  30  and at epoch =  67  the loss is =  0.03164460510015488  and accuracy is =  0.8893009985734665\n",
            "At step  30  and at epoch =  68  the loss is =  0.03064107708632946  and accuracy is =  0.8921540656205421\n",
            "At step  30  and at epoch =  69  the loss is =  0.030048031359910965  and accuracy is =  0.892867332382311\n",
            "task: 30 train accuracy = 0.8814\n",
            "task: 30 test accuracy = 0.68325\n"
          ],
          "name": "stdout"
        },
        {
          "output_type": "display_data",
          "data": {
            "image/png": "[encoded data removed]",
            "text/plain": [
              "<Figure size 432x288 with 2 Axes>"
            ]
          },
          "metadata": {
            "tags": []
          }
        },
        {
          "output_type": "stream",
          "text": [
            "At step  40  and at epoch =  0  the loss is =  0.06022899970412254  and accuracy is =  0.26685714285714285\n",
            "At step  40  and at epoch =  1  the loss is =  0.055184658616781235  and accuracy is =  0.3384285714285714\n",
            "At step  40  and at epoch =  2  the loss is =  0.05522488057613373  and accuracy is =  0.38357142857142856\n",
            "At step  40  and at epoch =  3  the loss is =  0.050463706254959106  and accuracy is =  0.431\n",
            "At step  40  and at epoch =  4  the loss is =  0.051761068403720856  and accuracy is =  0.4627142857142857\n",
            "At step  40  and at epoch =  5  the loss is =  0.0548534132540226  and accuracy is =  0.495\n",
            "At step  40  and at epoch =  6  the loss is =  0.05004323646426201  and accuracy is =  0.5098571428571429\n",
            "At step  40  and at epoch =  7  the loss is =  0.049867745488882065  and accuracy is =  0.5332857142857143\n",
            "At step  40  and at epoch =  8  the loss is =  0.05045142024755478  and accuracy is =  0.547\n",
            "At step  40  and at epoch =  9  the loss is =  0.05065671727061272  and accuracy is =  0.5728571428571428\n",
            "At step  40  and at epoch =  10  the loss is =  0.05223178490996361  and accuracy is =  0.5781428571428572\n",
            "At step  40  and at epoch =  11  the loss is =  0.05123605206608772  and accuracy is =  0.5877142857142857\n",
            "At step  40  and at epoch =  12  the loss is =  0.05081239715218544  and accuracy is =  0.6007142857142858\n",
            "At step  40  and at epoch =  13  the loss is =  0.045095331966876984  and accuracy is =  0.611\n",
            "At step  40  and at epoch =  14  the loss is =  0.04858282953500748  and accuracy is =  0.63\n",
            "At step  40  and at epoch =  15  the loss is =  0.05057244747877121  and accuracy is =  0.6364285714285715\n",
            "At step  40  and at epoch =  16  the loss is =  0.046157412230968475  and accuracy is =  0.6434285714285715\n",
            "At step  40  and at epoch =  17  the loss is =  0.04799072816967964  and accuracy is =  0.6511428571428571\n",
            "At step  40  and at epoch =  18  the loss is =  0.0487833172082901  and accuracy is =  0.6737142857142857\n",
            "At step  40  and at epoch =  19  the loss is =  0.048799049109220505  and accuracy is =  0.6657142857142857\n",
            "At step  40  and at epoch =  20  the loss is =  0.04763270914554596  and accuracy is =  0.6735714285714286\n",
            "At step  40  and at epoch =  21  the loss is =  0.04997774586081505  and accuracy is =  0.6844285714285714\n",
            "At step  40  and at epoch =  22  the loss is =  0.04655848443508148  and accuracy is =  0.6852857142857143\n",
            "At step  40  and at epoch =  23  the loss is =  0.051551055163145065  and accuracy is =  0.693\n",
            "At step  40  and at epoch =  24  the loss is =  0.05076520889997482  and accuracy is =  0.7048571428571428\n",
            "At step  40  and at epoch =  25  the loss is =  0.048221830278635025  and accuracy is =  0.7121428571428572\n",
            "At step  40  and at epoch =  26  the loss is =  0.04341371729969978  and accuracy is =  0.7137142857142857\n",
            "At step  40  and at epoch =  27  the loss is =  0.046666670590639114  and accuracy is =  0.7327142857142858\n",
            "At step  40  and at epoch =  28  the loss is =  0.048377301543951035  and accuracy is =  0.719\n",
            "At step  40  and at epoch =  29  the loss is =  0.04648358374834061  and accuracy is =  0.7294285714285714\n",
            "At step  40  and at epoch =  30  the loss is =  0.04584476724267006  and accuracy is =  0.7247142857142858\n",
            "At step  40  and at epoch =  31  the loss is =  0.054634932428598404  and accuracy is =  0.7252857142857143\n",
            "At step  40  and at epoch =  32  the loss is =  0.04620163142681122  and accuracy is =  0.7382857142857143\n",
            "At step  40  and at epoch =  33  the loss is =  0.0436888262629509  and accuracy is =  0.7471428571428571\n",
            "At step  40  and at epoch =  34  the loss is =  0.04490891471505165  and accuracy is =  0.7414285714285714\n",
            "At step  40  and at epoch =  35  the loss is =  0.04653720185160637  and accuracy is =  0.7518571428571429\n",
            "At step  40  and at epoch =  36  the loss is =  0.045506104826927185  and accuracy is =  0.7541428571428571\n",
            "At step  40  and at epoch =  37  the loss is =  0.04385651275515556  and accuracy is =  0.7561428571428571\n",
            "At step  40  and at epoch =  38  the loss is =  0.04958067834377289  and accuracy is =  0.7484285714285714\n",
            "At step  40  and at epoch =  39  the loss is =  0.048776403069496155  and accuracy is =  0.7671428571428571\n",
            "At step  40  and at epoch =  40  the loss is =  0.04577089473605156  and accuracy is =  0.7591428571428571\n",
            "At step  40  and at epoch =  41  the loss is =  0.049229394644498825  and accuracy is =  0.7678571428571429\n",
            "At step  40  and at epoch =  42  the loss is =  0.04718853533267975  and accuracy is =  0.7662857142857142\n",
            "At step  40  and at epoch =  43  the loss is =  0.044386569410562515  and accuracy is =  0.7788571428571428\n",
            "At step  40  and at epoch =  44  the loss is =  0.04923699423670769  and accuracy is =  0.7815714285714286\n",
            "At step  40  and at epoch =  45  the loss is =  0.04380101338028908  and accuracy is =  0.7741428571428571\n",
            "At step  40  and at epoch =  46  the loss is =  0.045022111386060715  and accuracy is =  0.779\n",
            "At step  40  and at epoch =  47  the loss is =  0.04720098525285721  and accuracy is =  0.7792857142857142\n",
            "At step  40  and at epoch =  48  the loss is =  0.045039888471364975  and accuracy is =  0.7822857142857143\n",
            "At step  40  and at epoch =  49  the loss is =  0.04133307561278343  and accuracy is =  0.8307142857142857\n",
            "At step  40  and at epoch =  50  the loss is =  0.03835006803274155  and accuracy is =  0.8441428571428572\n",
            "At step  40  and at epoch =  51  the loss is =  0.043344639241695404  and accuracy is =  0.853\n",
            "At step  40  and at epoch =  52  the loss is =  0.038841672241687775  and accuracy is =  0.8541428571428571\n",
            "At step  40  and at epoch =  53  the loss is =  0.03921673074364662  and accuracy is =  0.8561428571428571\n",
            "At step  40  and at epoch =  54  the loss is =  0.03862187638878822  and accuracy is =  0.8674285714285714\n",
            "At step  40  and at epoch =  55  the loss is =  0.03764678165316582  and accuracy is =  0.867\n",
            "At step  40  and at epoch =  56  the loss is =  0.0421137809753418  and accuracy is =  0.8681428571428571\n",
            "At step  40  and at epoch =  57  the loss is =  0.04051864147186279  and accuracy is =  0.8714285714285714\n",
            "At step  40  and at epoch =  58  the loss is =  0.03929838165640831  and accuracy is =  0.8657142857142858\n",
            "At step  40  and at epoch =  59  the loss is =  0.03930037468671799  and accuracy is =  0.8698571428571429\n",
            "At step  40  and at epoch =  60  the loss is =  0.036309994757175446  and accuracy is =  0.8687142857142857\n",
            "At step  40  and at epoch =  61  the loss is =  0.039234377443790436  and accuracy is =  0.8758571428571429\n",
            "At step  40  and at epoch =  62  the loss is =  0.04145943373441696  and accuracy is =  0.8778571428571429\n",
            "At step  40  and at epoch =  63  the loss is =  0.0406549796462059  and accuracy is =  0.8842857142857142\n",
            "At step  40  and at epoch =  64  the loss is =  0.04182876646518707  and accuracy is =  0.8847142857142857\n",
            "At step  40  and at epoch =  65  the loss is =  0.04044955223798752  and accuracy is =  0.8772857142857143\n",
            "At step  40  and at epoch =  66  the loss is =  0.03900940343737602  and accuracy is =  0.8874285714285715\n",
            "At step  40  and at epoch =  67  the loss is =  0.038847438991069794  and accuracy is =  0.8775714285714286\n",
            "At step  40  and at epoch =  68  the loss is =  0.041100963950157166  and accuracy is =  0.8861428571428571\n",
            "At step  40  and at epoch =  69  the loss is =  0.037098854780197144  and accuracy is =  0.8831428571428571\n",
            "task: 40 train accuracy = 0.8238\n",
            "task: 40 test accuracy = 0.6368\n"
          ],
          "name": "stdout"
        },
        {
          "output_type": "display_data",
          "data": {
            "image/png": "[encoded data removed]",
            "text/plain": [
              "<Figure size 432x288 with 2 Axes>"
            ]
          },
          "metadata": {
            "tags": []
          }
        },
        {
          "output_type": "stream",
          "text": [
            "At step  50  and at epoch =  0  the loss is =  0.06232369318604469  and accuracy is =  0.261\n",
            "At step  50  and at epoch =  1  the loss is =  0.05951657518744469  and accuracy is =  0.32571428571428573\n",
            "At step  50  and at epoch =  2  the loss is =  0.06063231825828552  and accuracy is =  0.403\n",
            "At step  50  and at epoch =  3  the loss is =  0.05583743005990982  and accuracy is =  0.4502857142857143\n",
            "At step  50  and at epoch =  4  the loss is =  0.06478769332170486  and accuracy is =  0.4725714285714286\n",
            "At step  50  and at epoch =  5  the loss is =  0.061827629804611206  and accuracy is =  0.5007142857142857\n",
            "At step  50  and at epoch =  6  the loss is =  0.05987345054745674  and accuracy is =  0.5298571428571428\n",
            "At step  50  and at epoch =  7  the loss is =  0.062478333711624146  and accuracy is =  0.546\n",
            "At step  50  and at epoch =  8  the loss is =  0.060314372181892395  and accuracy is =  0.5634285714285714\n",
            "At step  50  and at epoch =  9  the loss is =  0.06175338104367256  and accuracy is =  0.5802857142857143\n",
            "At step  50  and at epoch =  10  the loss is =  0.0591759979724884  and accuracy is =  0.589\n",
            "At step  50  and at epoch =  11  the loss is =  0.057665351778268814  and accuracy is =  0.594\n",
            "At step  50  and at epoch =  12  the loss is =  0.058119997382164  and accuracy is =  0.6154285714285714\n",
            "At step  50  and at epoch =  13  the loss is =  0.05958888679742813  and accuracy is =  0.6367142857142857\n",
            "At step  50  and at epoch =  14  the loss is =  0.05475910007953644  and accuracy is =  0.6371428571428571\n",
            "At step  50  and at epoch =  15  the loss is =  0.05796220153570175  and accuracy is =  0.6395714285714286\n",
            "At step  50  and at epoch =  16  the loss is =  0.058805715292692184  and accuracy is =  0.6602857142857143\n",
            "At step  50  and at epoch =  17  the loss is =  0.05372447147965431  and accuracy is =  0.6611428571428571\n",
            "At step  50  and at epoch =  18  the loss is =  0.054575320333242416  and accuracy is =  0.667\n",
            "At step  50  and at epoch =  19  the loss is =  0.05825098231434822  and accuracy is =  0.678\n",
            "At step  50  and at epoch =  20  the loss is =  0.059490982443094254  and accuracy is =  0.6802857142857143\n",
            "At step  50  and at epoch =  21  the loss is =  0.056946903467178345  and accuracy is =  0.6898571428571428\n",
            "At step  50  and at epoch =  22  the loss is =  0.059221137315034866  and accuracy is =  0.695\n",
            "At step  50  and at epoch =  23  the loss is =  0.05473557114601135  and accuracy is =  0.7077142857142857\n",
            "At step  50  and at epoch =  24  the loss is =  0.05224360153079033  and accuracy is =  0.7141428571428572\n",
            "At step  50  and at epoch =  25  the loss is =  0.060525014996528625  and accuracy is =  0.7014285714285714\n",
            "At step  50  and at epoch =  26  the loss is =  0.058617472648620605  and accuracy is =  0.7134285714285714\n",
            "At step  50  and at epoch =  27  the loss is =  0.05604139342904091  and accuracy is =  0.7212857142857143\n",
            "At step  50  and at epoch =  28  the loss is =  0.06038889288902283  and accuracy is =  0.7355714285714285\n",
            "At step  50  and at epoch =  29  the loss is =  0.058767784386873245  and accuracy is =  0.7281428571428571\n",
            "At step  50  and at epoch =  30  the loss is =  0.05428759381175041  and accuracy is =  0.7291428571428571\n",
            "At step  50  and at epoch =  31  the loss is =  0.057193126529455185  and accuracy is =  0.7445714285714286\n",
            "At step  50  and at epoch =  32  the loss is =  0.0538875050842762  and accuracy is =  0.7362857142857143\n",
            "At step  50  and at epoch =  33  the loss is =  0.061670977622270584  and accuracy is =  0.7362857142857143\n",
            "At step  50  and at epoch =  34  the loss is =  0.05231292173266411  and accuracy is =  0.7488571428571429\n",
            "At step  50  and at epoch =  35  the loss is =  0.05301608145236969  and accuracy is =  0.7537142857142857\n",
            "At step  50  and at epoch =  36  the loss is =  0.05818129703402519  and accuracy is =  0.7552857142857143\n",
            "At step  50  and at epoch =  37  the loss is =  0.05346998572349548  and accuracy is =  0.7577142857142857\n",
            "At step  50  and at epoch =  38  the loss is =  0.05625668540596962  and accuracy is =  0.7622857142857142\n",
            "At step  50  and at epoch =  39  the loss is =  0.057316090911626816  and accuracy is =  0.7498571428571429\n",
            "At step  50  and at epoch =  40  the loss is =  0.054984189569950104  and accuracy is =  0.7688571428571429\n",
            "At step  50  and at epoch =  41  the loss is =  0.05562916025519371  and accuracy is =  0.7658571428571429\n",
            "At step  50  and at epoch =  42  the loss is =  0.05434697866439819  and accuracy is =  0.7621428571428571\n",
            "At step  50  and at epoch =  43  the loss is =  0.0547885037958622  and accuracy is =  0.7667142857142857\n",
            "At step  50  and at epoch =  44  the loss is =  0.05773536115884781  and accuracy is =  0.7698571428571429\n",
            "At step  50  and at epoch =  45  the loss is =  0.05694814398884773  and accuracy is =  0.77\n",
            "At step  50  and at epoch =  46  the loss is =  0.056464504450559616  and accuracy is =  0.7875714285714286\n",
            "At step  50  and at epoch =  47  the loss is =  0.05405217781662941  and accuracy is =  0.7762857142857142\n",
            "At step  50  and at epoch =  48  the loss is =  0.05746014788746834  and accuracy is =  0.7724285714285715\n",
            "At step  50  and at epoch =  49  the loss is =  0.053464554250240326  and accuracy is =  0.8225714285714286\n",
            "At step  50  and at epoch =  50  the loss is =  0.05326506868004799  and accuracy is =  0.8444285714285714\n",
            "At step  50  and at epoch =  51  the loss is =  0.050599317997694016  and accuracy is =  0.85\n",
            "At step  50  and at epoch =  52  the loss is =  0.053164027631282806  and accuracy is =  0.8531428571428571\n",
            "At step  50  and at epoch =  53  the loss is =  0.04694098234176636  and accuracy is =  0.8522857142857143\n",
            "At step  50  and at epoch =  54  the loss is =  0.05018720403313637  and accuracy is =  0.8528571428571429\n",
            "At step  50  and at epoch =  55  the loss is =  0.05073003098368645  and accuracy is =  0.8564285714285714\n",
            "At step  50  and at epoch =  56  the loss is =  0.050829414278268814  and accuracy is =  0.8605714285714285\n",
            "At step  50  and at epoch =  57  the loss is =  0.05245000869035721  and accuracy is =  0.8612857142857143\n",
            "At step  50  and at epoch =  58  the loss is =  0.05221143737435341  and accuracy is =  0.8635714285714285\n",
            "At step  50  and at epoch =  59  the loss is =  0.04712604358792305  and accuracy is =  0.8657142857142858\n",
            "At step  50  and at epoch =  60  the loss is =  0.04950457066297531  and accuracy is =  0.8618571428571429\n",
            "At step  50  and at epoch =  61  the loss is =  0.04995722696185112  and accuracy is =  0.8662857142857143\n",
            "At step  50  and at epoch =  62  the loss is =  0.05085724592208862  and accuracy is =  0.8695714285714286\n",
            "At step  50  and at epoch =  63  the loss is =  0.04985594004392624  and accuracy is =  0.8737142857142857\n",
            "At step  50  and at epoch =  64  the loss is =  0.050218142569065094  and accuracy is =  0.8668571428571429\n",
            "At step  50  and at epoch =  65  the loss is =  0.0483730249106884  and accuracy is =  0.8754285714285714\n",
            "At step  50  and at epoch =  66  the loss is =  0.0506369024515152  and accuracy is =  0.8717142857142857\n",
            "At step  50  and at epoch =  67  the loss is =  0.04796575382351875  and accuracy is =  0.877\n",
            "At step  50  and at epoch =  68  the loss is =  0.05300517752766609  and accuracy is =  0.8761428571428571\n",
            "At step  50  and at epoch =  69  the loss is =  0.05085190013051033  and accuracy is =  0.8687142857142857\n",
            "task: 50 train accuracy = 0.8334\n",
            "task: 50 test accuracy = 0.586\n"
          ],
          "name": "stdout"
        },
        {
          "output_type": "display_data",
          "data": {
            "image/png": "[encoded data removed]",
            "text/plain": [
              "<Figure size 432x288 with 2 Axes>"
            ]
          },
          "metadata": {
            "tags": []
          }
        },
        {
          "output_type": "stream",
          "text": [
            "At step  60  and at epoch =  0  the loss is =  0.06689195334911346  and accuracy is =  0.2487106017191977\n",
            "At step  60  and at epoch =  1  the loss is =  0.06780681014060974  and accuracy is =  0.3223495702005731\n",
            "At step  60  and at epoch =  2  the loss is =  0.06987850368022919  and accuracy is =  0.37177650429799425\n",
            "At step  60  and at epoch =  3  the loss is =  0.07107482850551605  and accuracy is =  0.4012893982808023\n",
            "At step  60  and at epoch =  4  the loss is =  0.07402251660823822  and accuracy is =  0.43810888252149\n",
            "At step  60  and at epoch =  5  the loss is =  0.07326319813728333  and accuracy is =  0.46977077363896846\n",
            "At step  60  and at epoch =  6  the loss is =  0.07307302951812744  and accuracy is =  0.4865329512893983\n",
            "At step  60  and at epoch =  7  the loss is =  0.07002076506614685  and accuracy is =  0.5\n",
            "At step  60  and at epoch =  8  the loss is =  0.06925351917743683  and accuracy is =  0.5163323782234956\n",
            "At step  60  and at epoch =  9  the loss is =  0.0671687126159668  and accuracy is =  0.5265042979942693\n",
            "At step  60  and at epoch =  10  the loss is =  0.06829454749822617  and accuracy is =  0.5505730659025788\n",
            "At step  60  and at epoch =  11  the loss is =  0.06801426410675049  and accuracy is =  0.5590257879656161\n",
            "At step  60  and at epoch =  12  the loss is =  0.06257066130638123  and accuracy is =  0.574785100286533\n",
            "At step  60  and at epoch =  13  the loss is =  0.0693952739238739  and accuracy is =  0.582378223495702\n",
            "At step  60  and at epoch =  14  the loss is =  0.0664796233177185  and accuracy is =  0.5924068767908309\n",
            "At step  60  and at epoch =  15  the loss is =  0.06472129374742508  and accuracy is =  0.6021489971346705\n",
            "At step  60  and at epoch =  16  the loss is =  0.06262479722499847  and accuracy is =  0.6167621776504298\n",
            "At step  60  and at epoch =  17  the loss is =  0.06809263676404953  and accuracy is =  0.6202005730659026\n",
            "At step  60  and at epoch =  18  the loss is =  0.063667431473732  and accuracy is =  0.6189111747851003\n",
            "At step  60  and at epoch =  19  the loss is =  0.068030945956707  and accuracy is =  0.6275071633237822\n",
            "At step  60  and at epoch =  20  the loss is =  0.06694813072681427  and accuracy is =  0.6330945558739255\n",
            "At step  60  and at epoch =  21  the loss is =  0.06597059220075607  and accuracy is =  0.6292263610315186\n",
            "At step  60  and at epoch =  22  the loss is =  0.06674308329820633  and accuracy is =  0.643839541547278\n",
            "At step  60  and at epoch =  23  the loss is =  0.07036925107240677  and accuracy is =  0.6389684813753582\n",
            "At step  60  and at epoch =  24  the loss is =  0.06749056279659271  and accuracy is =  0.6568767908309455\n",
            "At step  60  and at epoch =  25  the loss is =  0.06844858825206757  and accuracy is =  0.6643266475644699\n",
            "At step  60  and at epoch =  26  the loss is =  0.06151461973786354  and accuracy is =  0.6601719197707736\n",
            "At step  60  and at epoch =  27  the loss is =  0.07116536796092987  and accuracy is =  0.6699140401146132\n",
            "At step  60  and at epoch =  28  the loss is =  0.06386318802833557  and accuracy is =  0.6750716332378224\n",
            "At step  60  and at epoch =  29  the loss is =  0.06719449162483215  and accuracy is =  0.6717765042979943\n",
            "At step  60  and at epoch =  30  the loss is =  0.06992191076278687  and accuracy is =  0.67378223495702\n",
            "At step  60  and at epoch =  31  the loss is =  0.06289055943489075  and accuracy is =  0.6772206303724928\n",
            "At step  60  and at epoch =  32  the loss is =  0.0654992014169693  and accuracy is =  0.6859598853868195\n",
            "At step  60  and at epoch =  33  the loss is =  0.059942811727523804  and accuracy is =  0.6856733524355301\n",
            "At step  60  and at epoch =  34  the loss is =  0.06327548623085022  and accuracy is =  0.6911174785100287\n",
            "At step  60  and at epoch =  35  the loss is =  0.06587910652160645  and accuracy is =  0.7001432664756447\n",
            "At step  60  and at epoch =  36  the loss is =  0.06196611374616623  and accuracy is =  0.6935530085959886\n",
            "At step  60  and at epoch =  37  the loss is =  0.06690242141485214  and accuracy is =  0.6989971346704871\n",
            "At step  60  and at epoch =  38  the loss is =  0.06646391749382019  and accuracy is =  0.7095988538681949\n",
            "At step  60  and at epoch =  39  the loss is =  0.06654448062181473  and accuracy is =  0.7151862464183381\n",
            "At step  60  and at epoch =  40  the loss is =  0.07013864815235138  and accuracy is =  0.7084527220630372\n",
            "At step  60  and at epoch =  41  the loss is =  0.06940256059169769  and accuracy is =  0.7160458452722063\n",
            "At step  60  and at epoch =  42  the loss is =  0.06508269160985947  and accuracy is =  0.7183381088825215\n",
            "At step  60  and at epoch =  43  the loss is =  0.06022956222295761  and accuracy is =  0.7232091690544412\n",
            "At step  60  and at epoch =  44  the loss is =  0.06198493391275406  and accuracy is =  0.7266475644699141\n",
            "At step  60  and at epoch =  45  the loss is =  0.0625697672367096  and accuracy is =  0.7257879656160459\n",
            "At step  60  and at epoch =  46  the loss is =  0.06397843360900879  and accuracy is =  0.7159025787965616\n",
            "At step  60  and at epoch =  47  the loss is =  0.06039542332291603  and accuracy is =  0.7289398280802293\n",
            "At step  60  and at epoch =  48  the loss is =  0.058388784527778625  and accuracy is =  0.7305157593123209\n",
            "At step  60  and at epoch =  49  the loss is =  0.05634984374046326  and accuracy is =  0.7637535816618911\n",
            "At step  60  and at epoch =  50  the loss is =  0.05598927289247513  and accuracy is =  0.7904011461318051\n",
            "At step  60  and at epoch =  51  the loss is =  0.06043441593647003  and accuracy is =  0.8004297994269342\n",
            "At step  60  and at epoch =  52  the loss is =  0.05881611257791519  and accuracy is =  0.808595988538682\n",
            "At step  60  and at epoch =  53  the loss is =  0.06444420665502548  and accuracy is =  0.8128939828080229\n",
            "At step  60  and at epoch =  54  the loss is =  0.061067499220371246  and accuracy is =  0.8126074498567335\n",
            "At step  60  and at epoch =  55  the loss is =  0.05483289062976837  and accuracy is =  0.8226361031518624\n",
            "At step  60  and at epoch =  56  the loss is =  0.05514257028698921  and accuracy is =  0.8230659025787965\n",
            "At step  60  and at epoch =  57  the loss is =  0.06163923069834709  and accuracy is =  0.8194842406876791\n",
            "At step  60  and at epoch =  58  the loss is =  0.05542504042387009  and accuracy is =  0.8210601719197708\n",
            "At step  60  and at epoch =  59  the loss is =  0.054251719266176224  and accuracy is =  0.8227793696275072\n",
            "At step  60  and at epoch =  60  the loss is =  0.06147535517811775  and accuracy is =  0.8202005730659025\n",
            "At step  60  and at epoch =  61  the loss is =  0.05871359258890152  and accuracy is =  0.835243553008596\n",
            "At step  60  and at epoch =  62  the loss is =  0.0537264347076416  and accuracy is =  0.8340974212034384\n",
            "At step  60  and at epoch =  63  the loss is =  0.05763300135731697  and accuracy is =  0.8369627507163324\n",
            "At step  60  and at epoch =  64  the loss is =  0.05277799442410469  and accuracy is =  0.8356733524355301\n",
            "At step  60  and at epoch =  65  the loss is =  0.05704718828201294  and accuracy is =  0.8396848137535816\n",
            "At step  60  and at epoch =  66  the loss is =  0.05752183496952057  and accuracy is =  0.8419770773638968\n",
            "At step  60  and at epoch =  67  the loss is =  0.06345119327306747  and accuracy is =  0.8396848137535816\n",
            "At step  60  and at epoch =  68  the loss is =  0.05310726538300514  and accuracy is =  0.847134670487106\n",
            "At step  60  and at epoch =  69  the loss is =  0.055409129709005356  and accuracy is =  0.8422636103151863\n",
            "task: 60 train accuracy = 0.798\n",
            "task: 60 test accuracy = 0.5431428571428571\n"
          ],
          "name": "stdout"
        },
        {
          "output_type": "display_data",
          "data": {
            "image/png": "[encoded data removed]",
            "text/plain": [
              "<Figure size 432x288 with 2 Axes>"
            ]
          },
          "metadata": {
            "tags": []
          }
        },
        {
          "output_type": "stream",
          "text": [
            "At step  70  and at epoch =  0  the loss is =  0.07982976734638214  and accuracy is =  0.27752489331436697\n",
            "At step  70  and at epoch =  1  the loss is =  0.0813194140791893  and accuracy is =  0.389900426742532\n",
            "At step  70  and at epoch =  2  the loss is =  0.08038036525249481  and accuracy is =  0.44935988620199147\n",
            "At step  70  and at epoch =  3  the loss is =  0.08126425743103027  and accuracy is =  0.4938833570412518\n",
            "At step  70  and at epoch =  4  the loss is =  0.08215787261724472  and accuracy is =  0.542674253200569\n",
            "At step  70  and at epoch =  5  the loss is =  0.0818273276090622  and accuracy is =  0.5564722617354196\n",
            "At step  70  and at epoch =  6  the loss is =  0.08247662335634232  and accuracy is =  0.572972972972973\n",
            "At step  70  and at epoch =  7  the loss is =  0.08299863338470459  and accuracy is =  0.5981507823613087\n",
            "At step  70  and at epoch =  8  the loss is =  0.077061727643013  and accuracy is =  0.6092460881934566\n",
            "At step  70  and at epoch =  9  the loss is =  0.08112452924251556  and accuracy is =  0.6308677098150782\n",
            "At step  70  and at epoch =  10  the loss is =  0.077974334359169  and accuracy is =  0.6446657183499289\n",
            "At step  70  and at epoch =  11  the loss is =  0.07401839643716812  and accuracy is =  0.6517780938833571\n",
            "At step  70  and at epoch =  12  the loss is =  0.07150883227586746  and accuracy is =  0.6625889046941679\n",
            "At step  70  and at epoch =  13  the loss is =  0.07742881029844284  and accuracy is =  0.6724039829302987\n",
            "At step  70  and at epoch =  14  the loss is =  0.07517578452825546  and accuracy is =  0.6759601706970128\n",
            "At step  70  and at epoch =  15  the loss is =  0.07433804124593735  and accuracy is =  0.678805120910384\n",
            "At step  70  and at epoch =  16  the loss is =  0.07238852977752686  and accuracy is =  0.6943100995732575\n",
            "At step  70  and at epoch =  17  the loss is =  0.07460884749889374  and accuracy is =  0.7018492176386913\n",
            "At step  70  and at epoch =  18  the loss is =  0.07730168849229813  and accuracy is =  0.7064011379800853\n",
            "At step  70  and at epoch =  19  the loss is =  0.07249525934457779  and accuracy is =  0.7132290184921763\n",
            "At step  70  and at epoch =  20  the loss is =  0.07828261703252792  and accuracy is =  0.7160739687055476\n",
            "At step  70  and at epoch =  21  the loss is =  0.07648575305938721  and accuracy is =  0.7226173541963016\n",
            "At step  70  and at epoch =  22  the loss is =  0.08243155479431152  and accuracy is =  0.7186344238975818\n",
            "At step  70  and at epoch =  23  the loss is =  0.0726083293557167  and accuracy is =  0.7294452347083926\n",
            "At step  70  and at epoch =  24  the loss is =  0.07619195431470871  and accuracy is =  0.7379800853485065\n",
            "At step  70  and at epoch =  25  the loss is =  0.07905151695013046  and accuracy is =  0.7295874822190611\n",
            "At step  70  and at epoch =  26  the loss is =  0.08229474723339081  and accuracy is =  0.7382645803698435\n",
            "At step  70  and at epoch =  27  the loss is =  0.07691533118486404  and accuracy is =  0.7419630156472262\n",
            "At step  70  and at epoch =  28  the loss is =  0.07819610834121704  and accuracy is =  0.7413940256045519\n",
            "At step  70  and at epoch =  29  the loss is =  0.07222152501344681  and accuracy is =  0.7476529160739687\n",
            "At step  70  and at epoch =  30  the loss is =  0.07196932286024094  and accuracy is =  0.7519203413940256\n",
            "At step  70  and at epoch =  31  the loss is =  0.07534662634134293  and accuracy is =  0.755049786628734\n",
            "At step  70  and at epoch =  32  the loss is =  0.07624337822198868  and accuracy is =  0.758321479374111\n",
            "At step  70  and at epoch =  33  the loss is =  0.074737049639225  and accuracy is =  0.7719772403982931\n",
            "At step  70  and at epoch =  34  the loss is =  0.07661852985620499  and accuracy is =  0.7567567567567568\n",
            "At step  70  and at epoch =  35  the loss is =  0.07647842913866043  and accuracy is =  0.7604551920341394\n",
            "At step  70  and at epoch =  36  the loss is =  0.07159382849931717  and accuracy is =  0.7621621621621621\n",
            "At step  70  and at epoch =  37  the loss is =  0.07743559032678604  and accuracy is =  0.7733997155049787\n",
            "At step  70  and at epoch =  38  the loss is =  0.07572446018457413  and accuracy is =  0.7704125177809389\n",
            "At step  70  and at epoch =  39  the loss is =  0.07221978902816772  and accuracy is =  0.7702702702702703\n",
            "At step  70  and at epoch =  40  the loss is =  0.0771949514746666  and accuracy is =  0.7699857752489332\n",
            "At step  70  and at epoch =  41  the loss is =  0.07322240620851517  and accuracy is =  0.7735419630156473\n",
            "At step  70  and at epoch =  42  the loss is =  0.07480304688215256  and accuracy is =  0.7704125177809389\n",
            "At step  70  and at epoch =  43  the loss is =  0.07509960979223251  and accuracy is =  0.7769559032716927\n",
            "At step  70  and at epoch =  44  the loss is =  0.07170064747333527  and accuracy is =  0.7857752489331437\n",
            "At step  70  and at epoch =  45  the loss is =  0.07533621042966843  and accuracy is =  0.7822190611664296\n",
            "At step  70  and at epoch =  46  the loss is =  0.0748194083571434  and accuracy is =  0.7833570412517781\n",
            "At step  70  and at epoch =  47  the loss is =  0.07334403693675995  and accuracy is =  0.7870554765291607\n",
            "At step  70  and at epoch =  48  the loss is =  0.07559917122125626  and accuracy is =  0.788904694167852\n",
            "At step  70  and at epoch =  49  the loss is =  0.07306191325187683  and accuracy is =  0.8240398293029872\n",
            "At step  70  and at epoch =  50  the loss is =  0.07149416953325272  and accuracy is =  0.8382645803698435\n",
            "At step  70  and at epoch =  51  the loss is =  0.06957419961690903  and accuracy is =  0.8442389758179232\n",
            "At step  70  and at epoch =  52  the loss is =  0.07401009649038315  and accuracy is =  0.8483641536273115\n",
            "At step  70  and at epoch =  53  the loss is =  0.07350261509418488  and accuracy is =  0.8428165007112376\n",
            "At step  70  and at epoch =  54  the loss is =  0.07609987258911133  and accuracy is =  0.8480796586059743\n",
            "At step  70  and at epoch =  55  the loss is =  0.06972584128379822  and accuracy is =  0.8503556187766714\n",
            "At step  70  and at epoch =  56  the loss is =  0.07146633416414261  and accuracy is =  0.8506401137980085\n",
            "At step  70  and at epoch =  57  the loss is =  0.06684355437755585  and accuracy is =  0.8522048364153627\n",
            "At step  70  and at epoch =  58  the loss is =  0.06980111449956894  and accuracy is =  0.8557610241820768\n",
            "At step  70  and at epoch =  59  the loss is =  0.07091955095529556  and accuracy is =  0.8551920341394026\n",
            "At step  70  and at epoch =  60  the loss is =  0.07197704166173935  and accuracy is =  0.8580369843527739\n",
            "At step  70  and at epoch =  61  the loss is =  0.06899784505367279  and accuracy is =  0.8577524893314367\n",
            "At step  70  and at epoch =  62  the loss is =  0.06730670481920242  and accuracy is =  0.8648648648648649\n",
            "At step  70  and at epoch =  63  the loss is =  0.06713453680276871  and accuracy is =  0.8604551920341394\n",
            "At step  70  and at epoch =  64  the loss is =  0.07040748000144958  and accuracy is =  0.8614509246088193\n",
            "At step  70  and at epoch =  65  the loss is =  0.06754985451698303  and accuracy is =  0.8650071123755334\n",
            "At step  70  and at epoch =  66  the loss is =  0.07217154651880264  and accuracy is =  0.8630156472261735\n",
            "At step  70  and at epoch =  67  the loss is =  0.06759528070688248  and accuracy is =  0.8613086770981507\n",
            "At step  70  and at epoch =  68  the loss is =  0.06883011013269424  and accuracy is =  0.858321479374111\n",
            "At step  70  and at epoch =  69  the loss is =  0.07146796584129333  and accuracy is =  0.8625889046941678\n",
            "task: 70 train accuracy = 0.8156\n",
            "task: 70 test accuracy = 0.515\n"
          ],
          "name": "stdout"
        },
        {
          "output_type": "display_data",
          "data": {
            "image/png": "[encoded data removed]",
            "text/plain": [
              "<Figure size 432x288 with 2 Axes>"
            ]
          },
          "metadata": {
            "tags": []
          }
        },
        {
          "output_type": "stream",
          "text": [
            "At step  80  and at epoch =  0  the loss is =  0.09623076021671295  and accuracy is =  0.25671428571428573\n",
            "At step  80  and at epoch =  1  the loss is =  0.09782788157463074  and accuracy is =  0.33985714285714286\n",
            "At step  80  and at epoch =  2  the loss is =  0.09043783694505692  and accuracy is =  0.40414285714285714\n",
            "At step  80  and at epoch =  3  the loss is =  0.09906895458698273  and accuracy is =  0.43028571428571427\n",
            "At step  80  and at epoch =  4  the loss is =  0.08597283065319061  and accuracy is =  0.4675714285714286\n",
            "At step  80  and at epoch =  5  the loss is =  0.08928641676902771  and accuracy is =  0.49214285714285716\n",
            "At step  80  and at epoch =  6  the loss is =  0.09561583399772644  and accuracy is =  0.5138571428571429\n",
            "At step  80  and at epoch =  7  the loss is =  0.0882771909236908  and accuracy is =  0.539\n",
            "At step  80  and at epoch =  8  the loss is =  0.09028469026088715  and accuracy is =  0.5481428571428572\n",
            "At step  80  and at epoch =  9  the loss is =  0.09400331228971481  and accuracy is =  0.5594285714285714\n",
            "At step  80  and at epoch =  10  the loss is =  0.09160476922988892  and accuracy is =  0.5751428571428572\n",
            "At step  80  and at epoch =  11  the loss is =  0.09727616608142853  and accuracy is =  0.5922857142857143\n",
            "At step  80  and at epoch =  12  the loss is =  0.09182250499725342  and accuracy is =  0.5928571428571429\n",
            "At step  80  and at epoch =  13  the loss is =  0.08774983882904053  and accuracy is =  0.6091428571428571\n",
            "At step  80  and at epoch =  14  the loss is =  0.08929657191038132  and accuracy is =  0.6271428571428571\n",
            "At step  80  and at epoch =  15  the loss is =  0.09301383048295975  and accuracy is =  0.633\n",
            "At step  80  and at epoch =  16  the loss is =  0.09194424748420715  and accuracy is =  0.6508571428571429\n",
            "At step  80  and at epoch =  17  the loss is =  0.08781624585390091  and accuracy is =  0.6561428571428571\n",
            "At step  80  and at epoch =  18  the loss is =  0.0913245901465416  and accuracy is =  0.6571428571428571\n",
            "At step  80  and at epoch =  19  the loss is =  0.0942128449678421  and accuracy is =  0.6662857142857143\n",
            "At step  80  and at epoch =  20  the loss is =  0.09772516787052155  and accuracy is =  0.6678571428571428\n",
            "At step  80  and at epoch =  21  the loss is =  0.0896507129073143  and accuracy is =  0.6747142857142857\n",
            "At step  80  and at epoch =  22  the loss is =  0.09050684422254562  and accuracy is =  0.6842857142857143\n",
            "At step  80  and at epoch =  23  the loss is =  0.08818963915109634  and accuracy is =  0.6847142857142857\n",
            "At step  80  and at epoch =  24  the loss is =  0.08813638985157013  and accuracy is =  0.6944285714285714\n",
            "At step  80  and at epoch =  25  the loss is =  0.09504824876785278  and accuracy is =  0.7037142857142857\n",
            "At step  80  and at epoch =  26  the loss is =  0.08751977235078812  and accuracy is =  0.7098571428571429\n",
            "At step  80  and at epoch =  27  the loss is =  0.08920612931251526  and accuracy is =  0.709\n",
            "At step  80  and at epoch =  28  the loss is =  0.09043709188699722  and accuracy is =  0.7074285714285714\n",
            "At step  80  and at epoch =  29  the loss is =  0.0874188244342804  and accuracy is =  0.7197142857142858\n",
            "At step  80  and at epoch =  30  the loss is =  0.08927720040082932  and accuracy is =  0.7138571428571429\n",
            "At step  80  and at epoch =  31  the loss is =  0.09125415235757828  and accuracy is =  0.722\n",
            "At step  80  and at epoch =  32  the loss is =  0.08838394284248352  and accuracy is =  0.7221428571428572\n",
            "At step  80  and at epoch =  33  the loss is =  0.08724306523799896  and accuracy is =  0.724\n",
            "At step  80  and at epoch =  34  the loss is =  0.09165219217538834  and accuracy is =  0.7287142857142858\n",
            "At step  80  and at epoch =  35  the loss is =  0.09102955460548401  and accuracy is =  0.7401428571428571\n",
            "At step  80  and at epoch =  36  the loss is =  0.09010633826255798  and accuracy is =  0.7411428571428571\n",
            "At step  80  and at epoch =  37  the loss is =  0.09015548229217529  and accuracy is =  0.7352857142857143\n",
            "At step  80  and at epoch =  38  the loss is =  0.0882241278886795  and accuracy is =  0.7281428571428571\n",
            "At step  80  and at epoch =  39  the loss is =  0.09079167991876602  and accuracy is =  0.7428571428571429\n",
            "At step  80  and at epoch =  40  the loss is =  0.08443846553564072  and accuracy is =  0.7494285714285714\n",
            "At step  80  and at epoch =  41  the loss is =  0.08464439958333969  and accuracy is =  0.7554285714285714\n",
            "At step  80  and at epoch =  42  the loss is =  0.0854228287935257  and accuracy is =  0.754\n",
            "At step  80  and at epoch =  43  the loss is =  0.08962902426719666  and accuracy is =  0.7554285714285714\n",
            "At step  80  and at epoch =  44  the loss is =  0.08662453293800354  and accuracy is =  0.7635714285714286\n",
            "At step  80  and at epoch =  45  the loss is =  0.08835329860448837  and accuracy is =  0.7564285714285715\n",
            "At step  80  and at epoch =  46  the loss is =  0.08490759134292603  and accuracy is =  0.7547142857142857\n",
            "At step  80  and at epoch =  47  the loss is =  0.09332927316427231  and accuracy is =  0.7548571428571429\n",
            "At step  80  and at epoch =  48  the loss is =  0.08595801889896393  and accuracy is =  0.7617142857142857\n",
            "At step  80  and at epoch =  49  the loss is =  0.08272988349199295  and accuracy is =  0.8012857142857143\n",
            "At step  80  and at epoch =  50  the loss is =  0.08484163135290146  and accuracy is =  0.8262857142857143\n",
            "At step  80  and at epoch =  51  the loss is =  0.08239548653364182  and accuracy is =  0.8305714285714285\n",
            "At step  80  and at epoch =  52  the loss is =  0.08276194334030151  and accuracy is =  0.8305714285714285\n",
            "At step  80  and at epoch =  53  the loss is =  0.08117186278104782  and accuracy is =  0.8362857142857143\n",
            "At step  80  and at epoch =  54  the loss is =  0.07690208405256271  and accuracy is =  0.8437142857142857\n",
            "At step  80  and at epoch =  55  the loss is =  0.08115874230861664  and accuracy is =  0.831\n",
            "At step  80  and at epoch =  56  the loss is =  0.08265766501426697  and accuracy is =  0.8411428571428572\n",
            "At step  80  and at epoch =  57  the loss is =  0.08026359975337982  and accuracy is =  0.8422857142857143\n",
            "At step  80  and at epoch =  58  the loss is =  0.08263334631919861  and accuracy is =  0.8474285714285714\n",
            "At step  80  and at epoch =  59  the loss is =  0.08405625075101852  and accuracy is =  0.843\n",
            "At step  80  and at epoch =  60  the loss is =  0.0835893303155899  and accuracy is =  0.8448571428571429\n",
            "At step  80  and at epoch =  61  the loss is =  0.08282803744077682  and accuracy is =  0.8451428571428572\n",
            "At step  80  and at epoch =  62  the loss is =  0.08184133470058441  and accuracy is =  0.8464285714285714\n",
            "At step  80  and at epoch =  63  the loss is =  0.08208706974983215  and accuracy is =  0.8522857142857143\n",
            "At step  80  and at epoch =  64  the loss is =  0.08625878393650055  and accuracy is =  0.8531428571428571\n",
            "At step  80  and at epoch =  65  the loss is =  0.0836421325802803  and accuracy is =  0.8552857142857143\n",
            "At step  80  and at epoch =  66  the loss is =  0.07794294506311417  and accuracy is =  0.8498571428571429\n",
            "At step  80  and at epoch =  67  the loss is =  0.0821741446852684  and accuracy is =  0.8505714285714285\n",
            "At step  80  and at epoch =  68  the loss is =  0.07943926751613617  and accuracy is =  0.8572857142857143\n",
            "At step  80  and at epoch =  69  the loss is =  0.08160799741744995  and accuracy is =  0.8545714285714285\n",
            "task: 80 train accuracy = 0.7576\n",
            "task: 80 test accuracy = 0.48\n"
          ],
          "name": "stdout"
        },
        {
          "output_type": "display_data",
          "data": {
            "image/png": "[encoded data removed]",
            "text/plain": [
              "<Figure size 432x288 with 2 Axes>"
            ]
          },
          "metadata": {
            "tags": []
          }
        },
        {
          "output_type": "stream",
          "text": [
            "At step  90  and at epoch =  0  the loss is =  0.10774268954992294  and accuracy is =  0.2570200573065903\n",
            "At step  90  and at epoch =  1  the loss is =  0.09999920427799225  and accuracy is =  0.39040114613180515\n",
            "At step  90  and at epoch =  2  the loss is =  0.1007249653339386  and accuracy is =  0.4439828080229226\n",
            "At step  90  and at epoch =  3  the loss is =  0.09890284389257431  and accuracy is =  0.4878223495702006\n",
            "At step  90  and at epoch =  4  the loss is =  0.0914340540766716  and accuracy is =  0.5078796561604585\n",
            "At step  90  and at epoch =  5  the loss is =  0.09799078851938248  and accuracy is =  0.5369627507163324\n",
            "At step  90  and at epoch =  6  the loss is =  0.09469611197710037  and accuracy is =  0.5507163323782235\n",
            "At step  90  and at epoch =  7  the loss is =  0.09655670821666718  and accuracy is =  0.5693409742120343\n",
            "At step  90  and at epoch =  8  the loss is =  0.09683794528245926  and accuracy is =  0.5833810888252149\n",
            "At step  90  and at epoch =  9  the loss is =  0.09338311851024628  and accuracy is =  0.595702005730659\n",
            "At step  90  and at epoch =  10  the loss is =  0.09309040009975433  and accuracy is =  0.6078796561604585\n",
            "At step  90  and at epoch =  11  the loss is =  0.09481659531593323  and accuracy is =  0.6312320916905444\n",
            "At step  90  and at epoch =  12  the loss is =  0.09397227317094803  and accuracy is =  0.6318051575931232\n",
            "At step  90  and at epoch =  13  the loss is =  0.09718431532382965  and accuracy is =  0.6398280802292263\n",
            "At step  90  and at epoch =  14  the loss is =  0.0961274653673172  and accuracy is =  0.6487106017191977\n",
            "At step  90  and at epoch =  15  the loss is =  0.0989416316151619  and accuracy is =  0.6560171919770774\n",
            "At step  90  and at epoch =  16  the loss is =  0.09891769289970398  and accuracy is =  0.6650429799426935\n",
            "At step  90  and at epoch =  17  the loss is =  0.10038219392299652  and accuracy is =  0.671919770773639\n",
            "At step  90  and at epoch =  18  the loss is =  0.0915537178516388  and accuracy is =  0.6739255014326647\n",
            "At step  90  and at epoch =  19  the loss is =  0.09424888342618942  and accuracy is =  0.6879656160458453\n",
            "At step  90  and at epoch =  20  the loss is =  0.09033907949924469  and accuracy is =  0.6904011461318051\n",
            "At step  90  and at epoch =  21  the loss is =  0.09386608749628067  and accuracy is =  0.6979942693409742\n",
            "At step  90  and at epoch =  22  the loss is =  0.09931521117687225  and accuracy is =  0.7048710601719198\n",
            "At step  90  and at epoch =  23  the loss is =  0.09190330654382706  and accuracy is =  0.7\n",
            "At step  90  and at epoch =  24  the loss is =  0.09917555749416351  and accuracy is =  0.7065902578796561\n",
            "At step  90  and at epoch =  25  the loss is =  0.09623732417821884  and accuracy is =  0.7117478510028653\n",
            "At step  90  and at epoch =  26  the loss is =  0.09294569492340088  and accuracy is =  0.71432664756447\n",
            "At step  90  and at epoch =  27  the loss is =  0.09624087810516357  and accuracy is =  0.7227793696275072\n",
            "At step  90  and at epoch =  28  the loss is =  0.0951538234949112  and accuracy is =  0.7263610315186246\n",
            "At step  90  and at epoch =  29  the loss is =  0.09380808472633362  and accuracy is =  0.7265042979942693\n",
            "At step  90  and at epoch =  30  the loss is =  0.09151926636695862  and accuracy is =  0.7308022922636103\n",
            "At step  90  and at epoch =  31  the loss is =  0.09087054431438446  and accuracy is =  0.7393982808022923\n",
            "At step  90  and at epoch =  32  the loss is =  0.09885212779045105  and accuracy is =  0.7369627507163323\n",
            "At step  90  and at epoch =  33  the loss is =  0.09603095054626465  and accuracy is =  0.7389684813753582\n",
            "At step  90  and at epoch =  34  the loss is =  0.09715615957975388  and accuracy is =  0.7475644699140401\n",
            "At step  90  and at epoch =  35  the loss is =  0.09014881402254105  and accuracy is =  0.7446991404011462\n",
            "At step  90  and at epoch =  36  the loss is =  0.09411145001649857  and accuracy is =  0.7419770773638968\n",
            "At step  90  and at epoch =  37  the loss is =  0.09701299667358398  and accuracy is =  0.7492836676217765\n",
            "At step  90  and at epoch =  38  the loss is =  0.08901242911815643  and accuracy is =  0.7521489971346705\n",
            "At step  90  and at epoch =  39  the loss is =  0.09038778394460678  and accuracy is =  0.7597421203438396\n",
            "At step  90  and at epoch =  40  the loss is =  0.09588020294904709  and accuracy is =  0.7623209169054441\n",
            "At step  90  and at epoch =  41  the loss is =  0.09905057400465012  and accuracy is =  0.755730659025788\n",
            "At step  90  and at epoch =  42  the loss is =  0.0965418666601181  and accuracy is =  0.7548710601719197\n",
            "At step  90  and at epoch =  43  the loss is =  0.09758457541465759  and accuracy is =  0.76189111747851\n",
            "At step  90  and at epoch =  44  the loss is =  0.08726898580789566  and accuracy is =  0.7608882521489971\n",
            "At step  90  and at epoch =  45  the loss is =  0.08602374792098999  and accuracy is =  0.767621776504298\n",
            "At step  90  and at epoch =  46  the loss is =  0.09141463041305542  and accuracy is =  0.767621776504298\n",
            "At step  90  and at epoch =  47  the loss is =  0.09566906839609146  and accuracy is =  0.7628939828080229\n",
            "At step  90  and at epoch =  48  the loss is =  0.09550969302654266  and accuracy is =  0.7681948424068767\n",
            "At step  90  and at epoch =  49  the loss is =  0.08888881653547287  and accuracy is =  0.8141833810888253\n",
            "At step  90  and at epoch =  50  the loss is =  0.08562684804201126  and accuracy is =  0.8267908309455587\n",
            "At step  90  and at epoch =  51  the loss is =  0.09541510790586472  and accuracy is =  0.8282234957020057\n",
            "At step  90  and at epoch =  52  the loss is =  0.08634167164564133  and accuracy is =  0.8335243553008596\n",
            "At step  90  and at epoch =  53  the loss is =  0.08495306968688965  and accuracy is =  0.8340974212034384\n",
            "At step  90  and at epoch =  54  the loss is =  0.08945498615503311  and accuracy is =  0.8421203438395416\n",
            "At step  90  and at epoch =  55  the loss is =  0.09668400883674622  and accuracy is =  0.839541547277937\n",
            "At step  90  and at epoch =  56  the loss is =  0.08840891718864441  and accuracy is =  0.8418338108882522\n",
            "At step  90  and at epoch =  57  the loss is =  0.09095072746276855  and accuracy is =  0.8385386819484241\n",
            "At step  90  and at epoch =  58  the loss is =  0.08476387709379196  and accuracy is =  0.8436962750716333\n",
            "At step  90  and at epoch =  59  the loss is =  0.09183386713266373  and accuracy is =  0.8439828080229226\n",
            "At step  90  and at epoch =  60  the loss is =  0.08746331185102463  and accuracy is =  0.8412607449856734\n",
            "At step  90  and at epoch =  61  the loss is =  0.0893900915980339  and accuracy is =  0.8432664756446991\n",
            "At step  90  and at epoch =  62  the loss is =  0.08560489118099213  and accuracy is =  0.8478510028653296\n",
            "At step  90  and at epoch =  63  the loss is =  0.08400622010231018  and accuracy is =  0.8502865329512894\n",
            "At step  90  and at epoch =  64  the loss is =  0.09025205671787262  and accuracy is =  0.8551575931232092\n",
            "At step  90  and at epoch =  65  the loss is =  0.08569258451461792  and accuracy is =  0.8512893982808023\n",
            "At step  90  and at epoch =  66  the loss is =  0.08866731077432632  and accuracy is =  0.8504297994269341\n",
            "At step  90  and at epoch =  67  the loss is =  0.08702255040407181  and accuracy is =  0.8515759312320917\n",
            "At step  90  and at epoch =  68  the loss is =  0.08809349685907364  and accuracy is =  0.8564469914040115\n",
            "At step  90  and at epoch =  69  the loss is =  0.08688777685165405  and accuracy is =  0.8504297994269341\n",
            "task: 90 train accuracy = 0.7388\n",
            "task: 90 test accuracy = 0.4591\n"
          ],
          "name": "stdout"
        },
        {
          "output_type": "display_data",
          "data": {
            "image/png": "[encoded data removed]",
            "text/plain": [
              "<Figure size 432x288 with 2 Axes>"
            ]
          },
          "metadata": {
            "tags": []
          }
        }
      ]
    },
    {
      "cell_type": "code",
      "metadata": {
        "id": "Z4_a4Ut-Or2N",
        "colab_type": "code",
        "colab": {}
      },
      "source": [
        "accs = [.897,.80,.76,.69,.64,.58,.54,.52,.48,.46]"
      ],
      "execution_count": null,
      "outputs": []
    },
    {
      "cell_type": "code",
      "metadata": {
        "id": "WAayIE_aPFWg",
        "colab_type": "code",
        "colab": {}
      },
      "source": [
        "import numpy as np\n",
        "import seaborn as sn\n",
        "import pandas as pd\n",
        "import matplotlib.pyplot as plt\n",
        "def plotTask(pars_tasks):\n",
        "\n",
        "  x_tasks =  np.linspace(10, 100, 10)\n",
        "\n",
        "  plt.plot(x_tasks, pars_tasks, label=['Accuracy'])\n",
        "  plt.xlabel(\"Epoch\")\n",
        "  plt.ylim(0,1)\n",
        "  plt.title('Accuracy over tasks')\n",
        "  plt.legend(['Accuracy'])\n",
        "  plt.grid(True)\n",
        "  plt.show()"
      ],
      "execution_count": null,
      "outputs": []
    },
    {
      "cell_type": "code",
      "metadata": {
        "id": "2RnKOCdaPM9X",
        "colab_type": "code",
        "colab": {
          "base_uri": "https://localhost:8080/",
          "height": 282
        },
        "outputId": "67ec5cf7-eaea-45df-9dbf-6bdd48b5badd"
      },
      "source": [
        "plotTask(accs)"
      ],
      "execution_count": null,
      "outputs": [
        {
          "output_type": "display_data",
          "data": {
            "image/png": "[encoded data removed]",
            "text/plain": [
              "<Figure size 432x288 with 1 Axes>"
            ]
          },
          "metadata": {
            "tags": []
          }
        }
      ]
    },
    {
      "cell_type": "code",
      "metadata": {
        "id": "06OjJ60-H0SI",
        "colab_type": "code",
        "colab": {
          "base_uri": "https://localhost:8080/",
          "height": 128
        },
        "outputId": "be83243b-894e-44a1-859c-e5bfd0183690"
      },
      "source": [
        "np.diagonal(cf)"
      ],
      "execution_count": null,
      "outputs": [
        {
          "output_type": "execute_result",
          "data": {
            "text/plain": [
              "array([91, 48, 39, 68, 10, 59, 64, 47, 64, 76, 70, 22, 35, 42, 58, 35, 32,\n",
              "       51, 34, 66, 49, 52, 66, 46, 32, 35, 39, 54, 34, 62, 50, 68, 17, 50,\n",
              "       47, 46, 29, 30, 35, 64, 25, 46, 62,  9, 25, 26, 35, 63, 28, 37, 30,\n",
              "       40, 63, 22, 45, 31, 28, 42, 21, 24, 51, 50, 52, 40, 33, 39, 54, 59,\n",
              "       31, 12, 41, 45, 64, 58, 30, 73, 66, 45, 52, 40, 31, 41, 33, 40, 34,\n",
              "       33, 56, 30, 57, 56, 75, 57, 59, 69, 47, 34, 61, 70, 75, 80])"
            ]
          },
          "metadata": {
            "tags": []
          },
          "execution_count": 23
        }
      ]
    },
    {
      "cell_type": "code",
      "metadata": {
        "id": "jCn6mP7FH6w_",
        "colab_type": "code",
        "colab": {
          "base_uri": "https://localhost:8080/",
          "height": 165
        },
        "outputId": "c84cd43b-61f4-4f75-c621-d7ad2c811a48"
      },
      "source": [
        "true = np.sum(cf, axis=1)\n",
        "true"
      ],
      "execution_count": null,
      "outputs": [
        {
          "output_type": "execute_result",
          "data": {
            "text/plain": [
              "array([100, 100, 100, 100, 100, 100, 100, 100, 100, 100, 100, 100, 100,\n",
              "       100, 100, 100, 100, 100, 100, 100, 100, 100, 100, 100, 100, 100,\n",
              "       100, 100, 100, 100, 100, 100, 100, 100, 100, 100, 100, 100, 100,\n",
              "       100, 100, 100, 100, 100, 100, 100, 100, 100, 100, 100, 100, 100,\n",
              "       100, 100, 100, 100, 100, 100, 100, 100, 100, 100, 100, 100, 100,\n",
              "       100, 100, 100, 100, 100, 100, 100, 100, 100, 100, 100, 100, 100,\n",
              "       100, 100, 100, 100, 100, 100, 100, 100, 100, 100, 100, 100, 100,\n",
              "       100, 100, 100, 100, 100, 100, 100, 100, 100])"
            ]
          },
          "metadata": {
            "tags": []
          },
          "execution_count": 24
        }
      ]
    },
    {
      "cell_type": "code",
      "metadata": {
        "id": "5dzn4m6VIYfb",
        "colab_type": "code",
        "colab": {
          "base_uri": "https://localhost:8080/",
          "height": 165
        },
        "outputId": "728deb45-da41-4b1a-9539-b16935d106b3"
      },
      "source": [
        "pred = np.sum(cf, axis=0)\n",
        "pred"
      ],
      "execution_count": null,
      "outputs": [
        {
          "output_type": "execute_result",
          "data": {
            "text/plain": [
              "array([137,  98, 142, 112,  39,  82, 116,  96, 145, 112,  84, 110,  59,\n",
              "        96,  73,  78,  50,  91,  98,  92,  64, 109,  91,  72,  38,  70,\n",
              "        76,  81,  89, 102,  81, 116,  72,  59, 177,  59,  62,  63,  93,\n",
              "        90,  72,  79, 102,  52, 162,  68,  67,  80,  65,  98,  80,  65,\n",
              "        84,  96, 121,  53,  77, 136,  69, 103,  76,  94, 109,  79, 126,\n",
              "        61, 126, 106, 182,  68, 122,  94,  90,  80,  80, 159,  98, 132,\n",
              "       145,  88, 170,  77,  79,  78, 131,  74, 149,  70, 149, 114, 102,\n",
              "       172, 212, 134, 124, 187, 189, 114, 126, 131])"
            ]
          },
          "metadata": {
            "tags": []
          },
          "execution_count": 25
        }
      ]
    },
    {
      "cell_type": "code",
      "metadata": {
        "id": "qV-20gl8hgXA",
        "colab_type": "code",
        "colab": {}
      },
      "source": [
        "import numpy as np\n",
        "import matplotlib.pyplot as plt"
      ],
      "execution_count": null,
      "outputs": []
    },
    {
      "cell_type": "code",
      "metadata": {
        "id": "S1QrlS0-Xiga",
        "colab_type": "code",
        "colab": {}
      },
      "source": [
        "pred = np.array([137,  98, 142, 112,  39,  82, 116,  96, 145, 112,  84, 110,  59,\n",
        "        96,  73,  78,  50,  91,  98,  92,  64, 109,  91,  72,  38,  70,\n",
        "        76,  81,  89, 102,  81, 116,  72,  59, 177,  59,  62,  63,  93,\n",
        "        90,  72,  79, 102,  52, 162,  68,  67,  80,  65,  98,  80,  65,\n",
        "        84,  96, 121,  53,  77, 136,  69, 103,  76,  94, 109,  79, 126,\n",
        "        61, 126, 106, 182,  68, 122,  94,  90,  80,  80, 159,  98, 132,\n",
        "       145,  88, 170,  77,  79,  78, 131,  74, 149,  70, 149, 114, 102,\n",
        "       172, 212, 134, 124, 187, 189, 114, 126, 131])"
      ],
      "execution_count": null,
      "outputs": []
    },
    {
      "cell_type": "code",
      "metadata": {
        "id": "GXAFQKzPhnJJ",
        "colab_type": "code",
        "colab": {
          "base_uri": "https://localhost:8080/",
          "height": 123
        },
        "outputId": "e5357e22-423d-4a5e-a728-5773add1ed49"
      },
      "source": [
        "val = np.arange(100)"
      ],
      "execution_count": null,
      "outputs": [
        {
          "output_type": "execute_result",
          "data": {
            "text/plain": [
              "array([ 0,  1,  2,  3,  4,  5,  6,  7,  8,  9, 10, 11, 12, 13, 14, 15, 16,\n",
              "       17, 18, 19, 20, 21, 22, 23, 24, 25, 26, 27, 28, 29, 30, 31, 32, 33,\n",
              "       34, 35, 36, 37, 38, 39, 40, 41, 42, 43, 44, 45, 46, 47, 48, 49, 50,\n",
              "       51, 52, 53, 54, 55, 56, 57, 58, 59, 60, 61, 62, 63, 64, 65, 66, 67,\n",
              "       68, 69, 70, 71, 72, 73, 74, 75, 76, 77, 78, 79, 80, 81, 82, 83, 84,\n",
              "       85, 86, 87, 88, 89, 90, 91, 92, 93, 94, 95, 96, 97, 98, 99])"
            ]
          },
          "metadata": {
            "tags": []
          },
          "execution_count": 5
        }
      ]
    },
    {
      "cell_type": "code",
      "metadata": {
        "id": "_XbOJnTSk88o",
        "colab_type": "code",
        "colab": {
          "base_uri": "https://localhost:8080/",
          "height": 34
        },
        "outputId": "d9498f4d-f01e-48a7-ffdc-ed0e66771a10"
      },
      "source": [
        "avg = np.mean(pred)\n",
        "avg"
      ],
      "execution_count": null,
      "outputs": [
        {
          "output_type": "execute_result",
          "data": {
            "text/plain": [
              "100.0"
            ]
          },
          "metadata": {
            "tags": []
          },
          "execution_count": 13
        }
      ]
    },
    {
      "cell_type": "code",
      "metadata": {
        "id": "smzzsgUOjDH7",
        "colab_type": "code",
        "colab": {
          "base_uri": "https://localhost:8080/",
          "height": 592
        },
        "outputId": "d8e42cd7-c3f8-46f1-8474-9caaf6918874"
      },
      "source": [
        "fig = plt.figure(figsize=(20,10))\n",
        "ax = fig.add_subplot(111)\n",
        "x_coordinates = val\n",
        "ax.bar(x_coordinates, pred, align='center')\n",
        "ax.axhline(avg, color=\"gray\")\n",
        "plt.show()"
      ],
      "execution_count": null,
      "outputs": [
        {
          "output_type": "display_data",
          "data": {
            "image/png": "[encoded data removed]",
            "text/plain": [
              "<Figure size 1440x720 with 1 Axes>"
            ]
          },
          "metadata": {
            "tags": [],
            "needs_background": "light"
          }
        }
      ]
    },
    {
      "cell_type": "code",
      "metadata": {
        "id": "UlRx8JD01HDc",
        "colab_type": "code",
        "colab": {
          "base_uri": "https://localhost:8080/",
          "height": 1000
        },
        "outputId": "2c890cad-4afc-4949-fbfe-0cb826049573"
      },
      "source": [
        "i = 0\n",
        "for el, name in zip(pred,trainDS.__getClassesNames__()) :\n",
        "  print('classe', i, 'name', name, ',preds', el)\n",
        "  i+=1"
      ],
      "execution_count": null,
      "outputs": [
        {
          "output_type": "stream",
          "text": [
            "classe 0 name apple ,preds 137\n",
            "classe 1 name aquarium_fish ,preds 98\n",
            "classe 2 name baby ,preds 142\n",
            "classe 3 name bear ,preds 112\n",
            "classe 4 name beaver ,preds 39\n",
            "classe 5 name bed ,preds 82\n",
            "classe 6 name bee ,preds 116\n",
            "classe 7 name beetle ,preds 96\n",
            "classe 8 name bicycle ,preds 145\n",
            "classe 9 name bottle ,preds 112\n",
            "classe 10 name bowl ,preds 84\n",
            "classe 11 name boy ,preds 110\n",
            "classe 12 name bridge ,preds 59\n",
            "classe 13 name bus ,preds 96\n",
            "classe 14 name butterfly ,preds 73\n",
            "classe 15 name camel ,preds 78\n",
            "classe 16 name can ,preds 50\n",
            "classe 17 name castle ,preds 91\n",
            "classe 18 name caterpillar ,preds 98\n",
            "classe 19 name cattle ,preds 92\n",
            "classe 20 name chair ,preds 64\n",
            "classe 21 name chimpanzee ,preds 109\n",
            "classe 22 name clock ,preds 91\n",
            "classe 23 name cloud ,preds 72\n",
            "classe 24 name cockroach ,preds 38\n",
            "classe 25 name couch ,preds 70\n",
            "classe 26 name crab ,preds 76\n",
            "classe 27 name crocodile ,preds 81\n",
            "classe 28 name cup ,preds 89\n",
            "classe 29 name dinosaur ,preds 102\n",
            "classe 30 name dolphin ,preds 81\n",
            "classe 31 name elephant ,preds 116\n",
            "classe 32 name flatfish ,preds 72\n",
            "classe 33 name forest ,preds 59\n",
            "classe 34 name fox ,preds 177\n",
            "classe 35 name girl ,preds 59\n",
            "classe 36 name hamster ,preds 62\n",
            "classe 37 name house ,preds 63\n",
            "classe 38 name kangaroo ,preds 93\n",
            "classe 39 name keyboard ,preds 90\n",
            "classe 40 name lamp ,preds 72\n",
            "classe 41 name lawn_mower ,preds 79\n",
            "classe 42 name leopard ,preds 102\n",
            "classe 43 name lion ,preds 52\n",
            "classe 44 name lizard ,preds 162\n",
            "classe 45 name lobster ,preds 68\n",
            "classe 46 name man ,preds 67\n",
            "classe 47 name maple_tree ,preds 80\n",
            "classe 48 name motorcycle ,preds 65\n",
            "classe 49 name mountain ,preds 98\n",
            "classe 50 name mouse ,preds 80\n",
            "classe 51 name mushroom ,preds 65\n",
            "classe 52 name oak_tree ,preds 84\n",
            "classe 53 name orange ,preds 96\n",
            "classe 54 name orchid ,preds 121\n",
            "classe 55 name otter ,preds 53\n",
            "classe 56 name palm_tree ,preds 77\n",
            "classe 57 name pear ,preds 136\n",
            "classe 58 name pickup_truck ,preds 69\n",
            "classe 59 name pine_tree ,preds 103\n",
            "classe 60 name plain ,preds 76\n",
            "classe 61 name plate ,preds 94\n",
            "classe 62 name poppy ,preds 109\n",
            "classe 63 name porcupine ,preds 79\n",
            "classe 64 name possum ,preds 126\n",
            "classe 65 name rabbit ,preds 61\n",
            "classe 66 name raccoon ,preds 126\n",
            "classe 67 name ray ,preds 106\n",
            "classe 68 name road ,preds 182\n",
            "classe 69 name rocket ,preds 68\n",
            "classe 70 name rose ,preds 122\n",
            "classe 71 name sea ,preds 94\n",
            "classe 72 name seal ,preds 90\n",
            "classe 73 name shark ,preds 80\n",
            "classe 74 name shrew ,preds 80\n",
            "classe 75 name skunk ,preds 159\n",
            "classe 76 name skyscraper ,preds 98\n",
            "classe 77 name snail ,preds 132\n",
            "classe 78 name snake ,preds 145\n",
            "classe 79 name spider ,preds 88\n",
            "classe 80 name squirrel ,preds 170\n",
            "classe 81 name streetcar ,preds 77\n",
            "classe 82 name sunflower ,preds 79\n",
            "classe 83 name sweet_pepper ,preds 78\n",
            "classe 84 name table ,preds 131\n",
            "classe 85 name tank ,preds 74\n",
            "classe 86 name telephone ,preds 149\n",
            "classe 87 name television ,preds 70\n",
            "classe 88 name tiger ,preds 149\n",
            "classe 89 name tractor ,preds 114\n",
            "classe 90 name train ,preds 102\n",
            "classe 91 name trout ,preds 172\n",
            "classe 92 name tulip ,preds 212\n",
            "classe 93 name turtle ,preds 134\n",
            "classe 94 name wardrobe ,preds 124\n",
            "classe 95 name whale ,preds 187\n",
            "classe 96 name willow_tree ,preds 189\n",
            "classe 97 name wolf ,preds 114\n",
            "classe 98 name woman ,preds 126\n",
            "classe 99 name worm ,preds 131\n"
          ],
          "name": "stdout"
        }
      ]
    },
    {
      "cell_type": "code",
      "metadata": {
        "id": "FeuEDFid1qOE",
        "colab_type": "code",
        "colab": {
          "base_uri": "https://localhost:8080/",
          "height": 202
        },
        "outputId": "117fc7c8-2407-4e59-bcd6-c3bf920560fe"
      },
      "source": [
        "train_splits"
      ],
      "execution_count": null,
      "outputs": [
        {
          "output_type": "execute_result",
          "data": {
            "text/plain": [
              "[[94.0, 63.0, 74.0, 21.0, 35.0, 56.0, 91.0, 96.0, 87.0, 48.0],\n",
              " [68.0, 80.0, 22.0, 37.0, 60.0, 97.0, 51.0, 62.0, 92.0, 76.0],\n",
              " [75.0, 89.0, 23.0, 99.0, 39.0, 66.0, 54.0, 69.0, 84.0, 61.0],\n",
              " [85.0, 24.0, 98.0, 41.0, 73.0, 58.0, 78.0, 77.0, 70.0, 49.0],\n",
              " [65.0, 88.0, 36.0, 93.0, 45.0, 10.0, 90.0, 17.0, 32.0, 59.0],\n",
              " [83.0, 43.0, 53.0, 11.0, 86.0, 19.0, 38.0, 30.0, 40.0, 50.0],\n",
              " [57.0, 81.0, 12.0, 95.0, 25.0, 47.0, 34.0, 52.0, 44.0, 72.0],\n",
              " [46.0, 79.0, 20.0, 28.0, 5.0, 71.0, 8.0, 18.0, 33.0, 15.0],\n",
              " [55.0, 29.0, 64.0, 31.0, 67.0, 7.0, 13.0, 14.0, 42.0, 6.0],\n",
              " [82.0, 2.0, 27.0, 16.0, 26.0, 3.0, 4.0, 1.0, 9.0, 0.0]]"
            ]
          },
          "metadata": {
            "tags": []
          },
          "execution_count": 30
        }
      ]
    },
    {
      "cell_type": "code",
      "metadata": {
        "id": "Y3bivRc41rd5",
        "colab_type": "code",
        "colab": {
          "base_uri": "https://localhost:8080/",
          "height": 1000
        },
        "outputId": "32f30c8a-9074-498d-fa1b-1cef00a03f0c"
      },
      "source": [
        "trainDS.__getClassesNames__()"
      ],
      "execution_count": null,
      "outputs": [
        {
          "output_type": "execute_result",
          "data": {
            "text/plain": [
              "['apple',\n",
              " 'aquarium_fish',\n",
              " 'baby',\n",
              " 'bear',\n",
              " 'beaver',\n",
              " 'bed',\n",
              " 'bee',\n",
              " 'beetle',\n",
              " 'bicycle',\n",
              " 'bottle',\n",
              " 'bowl',\n",
              " 'boy',\n",
              " 'bridge',\n",
              " 'bus',\n",
              " 'butterfly',\n",
              " 'camel',\n",
              " 'can',\n",
              " 'castle',\n",
              " 'caterpillar',\n",
              " 'cattle',\n",
              " 'chair',\n",
              " 'chimpanzee',\n",
              " 'clock',\n",
              " 'cloud',\n",
              " 'cockroach',\n",
              " 'couch',\n",
              " 'crab',\n",
              " 'crocodile',\n",
              " 'cup',\n",
              " 'dinosaur',\n",
              " 'dolphin',\n",
              " 'elephant',\n",
              " 'flatfish',\n",
              " 'forest',\n",
              " 'fox',\n",
              " 'girl',\n",
              " 'hamster',\n",
              " 'house',\n",
              " 'kangaroo',\n",
              " 'keyboard',\n",
              " 'lamp',\n",
              " 'lawn_mower',\n",
              " 'leopard',\n",
              " 'lion',\n",
              " 'lizard',\n",
              " 'lobster',\n",
              " 'man',\n",
              " 'maple_tree',\n",
              " 'motorcycle',\n",
              " 'mountain',\n",
              " 'mouse',\n",
              " 'mushroom',\n",
              " 'oak_tree',\n",
              " 'orange',\n",
              " 'orchid',\n",
              " 'otter',\n",
              " 'palm_tree',\n",
              " 'pear',\n",
              " 'pickup_truck',\n",
              " 'pine_tree',\n",
              " 'plain',\n",
              " 'plate',\n",
              " 'poppy',\n",
              " 'porcupine',\n",
              " 'possum',\n",
              " 'rabbit',\n",
              " 'raccoon',\n",
              " 'ray',\n",
              " 'road',\n",
              " 'rocket',\n",
              " 'rose',\n",
              " 'sea',\n",
              " 'seal',\n",
              " 'shark',\n",
              " 'shrew',\n",
              " 'skunk',\n",
              " 'skyscraper',\n",
              " 'snail',\n",
              " 'snake',\n",
              " 'spider',\n",
              " 'squirrel',\n",
              " 'streetcar',\n",
              " 'sunflower',\n",
              " 'sweet_pepper',\n",
              " 'table',\n",
              " 'tank',\n",
              " 'telephone',\n",
              " 'television',\n",
              " 'tiger',\n",
              " 'tractor',\n",
              " 'train',\n",
              " 'trout',\n",
              " 'tulip',\n",
              " 'turtle',\n",
              " 'wardrobe',\n",
              " 'whale',\n",
              " 'willow_tree',\n",
              " 'wolf',\n",
              " 'woman',\n",
              " 'worm']"
            ]
          },
          "metadata": {
            "tags": []
          },
          "execution_count": 7
        }
      ]
    }
  ]
}