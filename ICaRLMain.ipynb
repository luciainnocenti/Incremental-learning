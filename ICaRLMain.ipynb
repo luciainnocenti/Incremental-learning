{
  "nbformat": 4,
  "nbformat_minor": 0,
  "metadata": {
    "colab": {
      "name": "Copy of ICaRLMain.ipynb",
      "provenance": [],
      "collapsed_sections": [],
      "include_colab_link": true
    },
    "kernelspec": {
      "name": "python3",
      "display_name": "Python 3"
    },
    "accelerator": "GPU",
    "widgets": {
      "application/vnd.jupyter.widget-state+json": {
        "4d68538dc26945c9813149e55749c485": {
          "model_module": "@jupyter-widgets/controls",
          "model_name": "HBoxModel",
          "state": {
            "_view_name": "HBoxView",
            "_dom_classes": [],
            "_model_name": "HBoxModel",
            "_view_module": "@jupyter-widgets/controls",
            "_model_module_version": "1.5.0",
            "_view_count": null,
            "_view_module_version": "1.5.0",
            "box_style": "",
            "layout": "IPY_MODEL_2a1eef91f00c44d3828b78070758832d",
            "_model_module": "@jupyter-widgets/controls",
            "children": [
              "IPY_MODEL_7668d1922fa84f21b749c826f8e0274a",
              "IPY_MODEL_2addecc1643e4151a0b1653ca9340d94"
            ]
          }
        },
        "2a1eef91f00c44d3828b78070758832d": {
          "model_module": "@jupyter-widgets/base",
          "model_name": "LayoutModel",
          "state": {
            "_view_name": "LayoutView",
            "grid_template_rows": null,
            "right": null,
            "justify_content": null,
            "_view_module": "@jupyter-widgets/base",
            "overflow": null,
            "_model_module_version": "1.2.0",
            "_view_count": null,
            "flex_flow": null,
            "width": null,
            "min_width": null,
            "border": null,
            "align_items": null,
            "bottom": null,
            "_model_module": "@jupyter-widgets/base",
            "top": null,
            "grid_column": null,
            "overflow_y": null,
            "overflow_x": null,
            "grid_auto_flow": null,
            "grid_area": null,
            "grid_template_columns": null,
            "flex": null,
            "_model_name": "LayoutModel",
            "justify_items": null,
            "grid_row": null,
            "max_height": null,
            "align_content": null,
            "visibility": null,
            "align_self": null,
            "height": null,
            "min_height": null,
            "padding": null,
            "grid_auto_rows": null,
            "grid_gap": null,
            "max_width": null,
            "order": null,
            "_view_module_version": "1.2.0",
            "grid_template_areas": null,
            "object_position": null,
            "object_fit": null,
            "grid_auto_columns": null,
            "margin": null,
            "display": null,
            "left": null
          }
        },
        "7668d1922fa84f21b749c826f8e0274a": {
          "model_module": "@jupyter-widgets/controls",
          "model_name": "FloatProgressModel",
          "state": {
            "_view_name": "ProgressView",
            "style": "IPY_MODEL_d596ce3b983149009e093bba8f2453bd",
            "_dom_classes": [],
            "description": "",
            "_model_name": "FloatProgressModel",
            "bar_style": "success",
            "max": 1,
            "_view_module": "@jupyter-widgets/controls",
            "_model_module_version": "1.5.0",
            "value": 1,
            "_view_count": null,
            "_view_module_version": "1.5.0",
            "orientation": "horizontal",
            "min": 0,
            "description_tooltip": null,
            "_model_module": "@jupyter-widgets/controls",
            "layout": "IPY_MODEL_a563cd945b244cd1823e2346375d4a15"
          }
        },
        "2addecc1643e4151a0b1653ca9340d94": {
          "model_module": "@jupyter-widgets/controls",
          "model_name": "HTMLModel",
          "state": {
            "_view_name": "HTMLView",
            "style": "IPY_MODEL_44792ce277a440f0ac9557f556678a6b",
            "_dom_classes": [],
            "description": "",
            "_model_name": "HTMLModel",
            "placeholder": "​",
            "_view_module": "@jupyter-widgets/controls",
            "_model_module_version": "1.5.0",
            "value": " 169009152/? [00:05&lt;00:00, 28206889.04it/s]",
            "_view_count": null,
            "_view_module_version": "1.5.0",
            "description_tooltip": null,
            "_model_module": "@jupyter-widgets/controls",
            "layout": "IPY_MODEL_fdd9cf3dfd224558a95cce2655f6d73f"
          }
        },
        "d596ce3b983149009e093bba8f2453bd": {
          "model_module": "@jupyter-widgets/controls",
          "model_name": "ProgressStyleModel",
          "state": {
            "_view_name": "StyleView",
            "_model_name": "ProgressStyleModel",
            "description_width": "initial",
            "_view_module": "@jupyter-widgets/base",
            "_model_module_version": "1.5.0",
            "_view_count": null,
            "_view_module_version": "1.2.0",
            "bar_color": null,
            "_model_module": "@jupyter-widgets/controls"
          }
        },
        "a563cd945b244cd1823e2346375d4a15": {
          "model_module": "@jupyter-widgets/base",
          "model_name": "LayoutModel",
          "state": {
            "_view_name": "LayoutView",
            "grid_template_rows": null,
            "right": null,
            "justify_content": null,
            "_view_module": "@jupyter-widgets/base",
            "overflow": null,
            "_model_module_version": "1.2.0",
            "_view_count": null,
            "flex_flow": null,
            "width": null,
            "min_width": null,
            "border": null,
            "align_items": null,
            "bottom": null,
            "_model_module": "@jupyter-widgets/base",
            "top": null,
            "grid_column": null,
            "overflow_y": null,
            "overflow_x": null,
            "grid_auto_flow": null,
            "grid_area": null,
            "grid_template_columns": null,
            "flex": null,
            "_model_name": "LayoutModel",
            "justify_items": null,
            "grid_row": null,
            "max_height": null,
            "align_content": null,
            "visibility": null,
            "align_self": null,
            "height": null,
            "min_height": null,
            "padding": null,
            "grid_auto_rows": null,
            "grid_gap": null,
            "max_width": null,
            "order": null,
            "_view_module_version": "1.2.0",
            "grid_template_areas": null,
            "object_position": null,
            "object_fit": null,
            "grid_auto_columns": null,
            "margin": null,
            "display": null,
            "left": null
          }
        },
        "44792ce277a440f0ac9557f556678a6b": {
          "model_module": "@jupyter-widgets/controls",
          "model_name": "DescriptionStyleModel",
          "state": {
            "_view_name": "StyleView",
            "_model_name": "DescriptionStyleModel",
            "description_width": "",
            "_view_module": "@jupyter-widgets/base",
            "_model_module_version": "1.5.0",
            "_view_count": null,
            "_view_module_version": "1.2.0",
            "_model_module": "@jupyter-widgets/controls"
          }
        },
        "fdd9cf3dfd224558a95cce2655f6d73f": {
          "model_module": "@jupyter-widgets/base",
          "model_name": "LayoutModel",
          "state": {
            "_view_name": "LayoutView",
            "grid_template_rows": null,
            "right": null,
            "justify_content": null,
            "_view_module": "@jupyter-widgets/base",
            "overflow": null,
            "_model_module_version": "1.2.0",
            "_view_count": null,
            "flex_flow": null,
            "width": null,
            "min_width": null,
            "border": null,
            "align_items": null,
            "bottom": null,
            "_model_module": "@jupyter-widgets/base",
            "top": null,
            "grid_column": null,
            "overflow_y": null,
            "overflow_x": null,
            "grid_auto_flow": null,
            "grid_area": null,
            "grid_template_columns": null,
            "flex": null,
            "_model_name": "LayoutModel",
            "justify_items": null,
            "grid_row": null,
            "max_height": null,
            "align_content": null,
            "visibility": null,
            "align_self": null,
            "height": null,
            "min_height": null,
            "padding": null,
            "grid_auto_rows": null,
            "grid_gap": null,
            "max_width": null,
            "order": null,
            "_view_module_version": "1.2.0",
            "grid_template_areas": null,
            "object_position": null,
            "object_fit": null,
            "grid_auto_columns": null,
            "margin": null,
            "display": null,
            "left": null
          }
        }
      }
    }
  },
  "cells": [
    {
      "cell_type": "markdown",
      "metadata": {
        "id": "view-in-github",
        "colab_type": "text"
      },
      "source": [
        "<a href=\"https://colab.research.google.com/github/luciainnocenti/IncrementalLearning/blob/improvement_Lucia2/ICaRLMain.ipynb\" target=\"_parent\"><img src=\"https://colab.research.google.com/assets/colab-badge.svg\" alt=\"Open In Colab\"/></a>"
      ]
    },
    {
      "cell_type": "markdown",
      "metadata": {
        "id": "OLMLAOPyrR1K",
        "colab_type": "text"
      },
      "source": [
        "# Import GitHub repository"
      ]
    },
    {
      "cell_type": "code",
      "metadata": {
        "id": "3LqwZJLUlcYH",
        "colab_type": "code",
        "colab": {}
      },
      "source": [
        "import os\n",
        "import logging\n",
        "import sys"
      ],
      "execution_count": 1,
      "outputs": []
    },
    {
      "cell_type": "code",
      "metadata": {
        "id": "PVa_FlnxrXIk",
        "colab_type": "code",
        "outputId": "cd7cae21-c56b-4552-af93-57a08d351e99",
        "colab": {
          "base_uri": "https://localhost:8080/",
          "height": 170
        }
      },
      "source": [
        "if not os.path.isdir('./DatasetCIFAR'):\n",
        "  !git clone -b improvement_Lucia2 https://github.com/luciainnocenti/IncrementalLearning.git\n",
        "  !mv 'IncrementalLearning' 'DatasetCIFAR'"
      ],
      "execution_count": 2,
      "outputs": [
        {
          "output_type": "stream",
          "text": [
            "Cloning into 'IncrementalLearning'...\n",
            "remote: Enumerating objects: 21, done.\u001b[K\n",
            "remote: Counting objects: 100% (21/21), done.\u001b[K\n",
            "remote: Compressing objects: 100% (21/21), done.\u001b[K\n",
            "remote: Total 2263 (delta 10), reused 0 (delta 0), pack-reused 2242\u001b[K\n",
            "Receiving objects: 100% (2263/2263), 2.83 MiB | 14.86 MiB/s, done.\n",
            "Resolving deltas: 100% (1450/1450), done.\n"
          ],
          "name": "stdout"
        }
      ]
    },
    {
      "cell_type": "markdown",
      "metadata": {
        "id": "XXQyHMXzrZ5A",
        "colab_type": "text"
      },
      "source": [
        "# Import packages"
      ]
    },
    {
      "cell_type": "code",
      "metadata": {
        "id": "c24pdNxurdv1",
        "colab_type": "code",
        "outputId": "b037ec2d-e7aa-41b6-863d-5b7f0aa3b567",
        "colab": {
          "base_uri": "https://localhost:8080/",
          "height": 84
        }
      },
      "source": [
        "from DatasetCIFAR.data_set import Dataset \n",
        "from DatasetCIFAR.data_set import Subset\n",
        "from DatasetCIFAR import ResNet\n",
        "from DatasetCIFAR import utils\n",
        "from DatasetCIFAR import params\n",
        "from DatasetCIFAR import ICaRLModel\n",
        "from torchvision import models\n",
        "import torch.nn as nn\n",
        "import torch\n",
        "import torch.optim as optim\n",
        "import torchvision\n",
        "import numpy as np\n",
        "import seaborn as sn\n",
        "import pandas as pd\n",
        "import matplotlib.pyplot as plt\n",
        "from sklearn.metrics import confusion_matrix\n",
        "\n",
        "from torchvision import transforms\n",
        "from torch.utils.data import DataLoader\n",
        "from torch.nn import functional as F\n",
        "import random\n",
        "random.seed(params.SEED)"
      ],
      "execution_count": 3,
      "outputs": [
        {
          "output_type": "stream",
          "text": [
            "/usr/local/lib/python3.6/dist-packages/statsmodels/tools/_testing.py:19: FutureWarning: pandas.util.testing is deprecated. Use the functions in the public API at pandas.testing instead.\n",
            "  import pandas.util.testing as tm\n"
          ],
          "name": "stderr"
        }
      ]
    },
    {
      "cell_type": "code",
      "metadata": {
        "id": "r2rkcBbIKfUQ",
        "colab_type": "code",
        "outputId": "faa55c4d-0935-4ba2-fdc7-beb4c7e26d5d",
        "colab": {
          "base_uri": "https://localhost:8080/",
          "height": 52
        }
      },
      "source": [
        "print(params.SEED)\n",
        "print(params.NUM_WORKERS)"
      ],
      "execution_count": 4,
      "outputs": [
        {
          "output_type": "stream",
          "text": [
            "653\n",
            "4\n"
          ],
          "name": "stdout"
        }
      ]
    },
    {
      "cell_type": "markdown",
      "metadata": {
        "id": "1FlAkShyryrf",
        "colab_type": "text"
      },
      "source": [
        "# Define Datasets"
      ]
    },
    {
      "cell_type": "code",
      "metadata": {
        "id": "AP2iR2vl3Wiz",
        "colab_type": "code",
        "colab": {}
      },
      "source": [
        "train_transformer = transforms.Compose([transforms.RandomCrop(size = 32, padding=4),\n",
        "                                         transforms.RandomHorizontalFlip(),\n",
        "                                         transforms.ToTensor(),\n",
        "                                         transforms.Normalize((0.5, 0.5, 0.5), (0.5, 0.5, 0.5))\n",
        "])\n",
        "\n",
        "test_transformer = transforms.Compose([transforms.ToTensor(),\n",
        "                                         transforms.Normalize((0.5, 0.5, 0.5), (0.5, 0.5, 0.5))\n",
        "])"
      ],
      "execution_count": 5,
      "outputs": []
    },
    {
      "cell_type": "code",
      "metadata": {
        "id": "1CSNk0NlrvAL",
        "colab_type": "code",
        "outputId": "ebb5587f-d721-45a7-d4a6-5280471b54ea",
        "colab": {
          "base_uri": "https://localhost:8080/",
          "height": 122,
          "referenced_widgets": [
            "4d68538dc26945c9813149e55749c485",
            "2a1eef91f00c44d3828b78070758832d",
            "7668d1922fa84f21b749c826f8e0274a",
            "2addecc1643e4151a0b1653ca9340d94",
            "d596ce3b983149009e093bba8f2453bd",
            "a563cd945b244cd1823e2346375d4a15",
            "44792ce277a440f0ac9557f556678a6b",
            "fdd9cf3dfd224558a95cce2655f6d73f"
          ]
        }
      },
      "source": [
        "trainDS = Dataset(train=True)\n",
        "testDS = Dataset(train=False)"
      ],
      "execution_count": 6,
      "outputs": [
        {
          "output_type": "stream",
          "text": [
            "Downloading https://www.cs.toronto.edu/~kriz/cifar-100-python.tar.gz to data/cifar-100-python.tar.gz\n"
          ],
          "name": "stdout"
        },
        {
          "output_type": "display_data",
          "data": {
            "application/vnd.jupyter.widget-view+json": {
              "model_id": "4d68538dc26945c9813149e55749c485",
              "version_minor": 0,
              "version_major": 2
            },
            "text/plain": [
              "HBox(children=(FloatProgress(value=1.0, bar_style='info', max=1.0), HTML(value='')))"
            ]
          },
          "metadata": {
            "tags": []
          }
        },
        {
          "output_type": "stream",
          "text": [
            "Extracting data/cifar-100-python.tar.gz to data\n",
            "Files already downloaded and verified\n"
          ],
          "name": "stdout"
        }
      ]
    },
    {
      "cell_type": "code",
      "metadata": {
        "id": "W3ge3VayryJL",
        "colab_type": "code",
        "colab": {}
      },
      "source": [
        "train_splits = trainDS.splits\n",
        "test_splits = testDS.splits"
      ],
      "execution_count": 7,
      "outputs": []
    },
    {
      "cell_type": "markdown",
      "metadata": {
        "id": "AzxTlFF_rkfe",
        "colab_type": "text"
      },
      "source": [
        "# Define Network"
      ]
    },
    {
      "cell_type": "code",
      "metadata": {
        "id": "rgZtPkiPrmQK",
        "colab_type": "code",
        "outputId": "1cbeb956-19ae-4890-85f8-bf56c72d0fb5",
        "colab": {
          "base_uri": "https://localhost:8080/",
          "height": 36
        }
      },
      "source": [
        "ICaRL = ResNet.resnet32(num_classes=100)\n",
        "ICaRL =  ICaRL.to(params.DEVICE)"
      ],
      "execution_count": 8,
      "outputs": [
        {
          "output_type": "stream",
          "text": [
            "\n"
          ],
          "name": "stdout"
        }
      ]
    },
    {
      "cell_type": "code",
      "metadata": {
        "id": "CI8EyFmpOikN",
        "colab_type": "code",
        "colab": {}
      },
      "source": [
        "exemplars = [None]*100\n",
        "\n",
        "test_indexes =  []\n",
        "accs = []"
      ],
      "execution_count": 9,
      "outputs": []
    },
    {
      "cell_type": "code",
      "metadata": {
        "id": "fcFjbBGrOMz6",
        "colab_type": "code",
        "outputId": "d4b4cc7e-d05b-461a-ff81-f05d43c6d744",
        "colab": {
          "base_uri": "https://localhost:8080/",
          "height": 1000
        }
      },
      "source": [
        "for task in range(0, 100, params.TASK_SIZE):\n",
        "  train_indexes = trainDS.__getIndexesGroups__(task)\n",
        "  test_indexes = test_indexes + testDS.__getIndexesGroups__(task)\n",
        "\n",
        "  train_dataset = Subset(trainDS, train_indexes, transform = train_transformer)\n",
        "  test_dataset = Subset(testDS, test_indexes, transform = test_transformer)\n",
        "\n",
        "  train_loader = DataLoader( train_dataset, num_workers=params.NUM_WORKERS, batch_size=params.BATCH_SIZE, shuffle=True)\n",
        "  test_loader = DataLoader( test_dataset, num_workers=params.NUM_WORKERS, batch_size=params.BATCH_SIZE , shuffle=True )\n",
        "  \n",
        "  ICaRL, exemplars = ICaRLModel.incrementalTrain(task, trainDS, ICaRL, exemplars, train_transformer)\n",
        "\n",
        "  col = []\n",
        "  for i,x in enumerate( train_splits[ :int(task/10) + 1]) : \n",
        "    v = np.array(x)\n",
        "    col = np.concatenate( (col,v), axis = None)\n",
        "    col = col.astype(int)\n",
        "  mean = None\n",
        "  total = 0.0\n",
        "  running_corrects = 0.0\n",
        "  for img, lbl, _ in train_loader:\n",
        "      img = img.float().to(params.DEVICE)\n",
        "      preds, mean = ICaRLModel.classify(img, exemplars, ICaRL, task, trainDS, mean)\n",
        "      preds = preds.to(params.DEVICE)\n",
        "      labels = utils.mapFunction(lbl, col).to(params.DEVICE)\n",
        "\n",
        "      total += len(lbl)\n",
        "      running_corrects += torch.sum(preds == labels.data).data.item()\n",
        "\n",
        "  accuracy = float(running_corrects/total)\n",
        "  print(f'task: {task}', f'train accuracy = {accuracy}')\n",
        "  accs.append(accuracy)\n",
        "\n",
        "  total = 0.0\n",
        "  running_corrects = 0.0\n",
        "  tot_preds = []\n",
        "  tot_lab = []\n",
        "  for img, lbl, _ in test_loader:\n",
        "      img = img.float().to(params.DEVICE)\n",
        "      preds, _ = ICaRLModel.classify(img, exemplars, ICaRL, task, trainDS, mean)\n",
        "      preds = preds.to(params.DEVICE)\n",
        "      labels = utils.mapFunction(lbl, col).to(params.DEVICE)\n",
        "\n",
        "      tot_preds = np.concatenate( ( tot_preds, preds.data.cpu().numpy() ) )\n",
        "      tot_lab = np.concatenate( (tot_lab, labels.data.cpu().numpy()  ) )\n",
        "\n",
        "      total += len(lbl)\n",
        "      running_corrects += torch.sum(preds == labels.data).data.item()\n",
        "\n",
        "  accuracy = float(running_corrects/total)\n",
        "  print(f'task: {task}', f'test accuracy = {accuracy}')\n",
        "  cf = confusion_matrix(tot_lab, tot_preds)\n",
        "  df_cm = pd.DataFrame(cf, range(task + params.TASK_SIZE), range(task + params.TASK_SIZE))\n",
        "  sn.set(font_scale = .5) # for label size\n",
        "  sn.heatmap(df_cm, annot=False)\n",
        "  plt.show()"
      ],
      "execution_count": 10,
      "outputs": [
        {
          "output_type": "stream",
          "text": [
            "At step  0  and at epoch =  0  the loss is =  0.03219613805413246  and accuracy is =  0.1542\n",
            "At step  0  and at epoch =  1  the loss is =  0.024425501003861427  and accuracy is =  0.374\n",
            "At step  0  and at epoch =  2  the loss is =  0.026289481669664383  and accuracy is =  0.4458\n",
            "At step  0  and at epoch =  3  the loss is =  0.03029630146920681  and accuracy is =  0.523\n",
            "At step  0  and at epoch =  4  the loss is =  0.01861530914902687  and accuracy is =  0.5684\n",
            "At step  0  and at epoch =  5  the loss is =  0.0300718042999506  and accuracy is =  0.6072\n",
            "At step  0  and at epoch =  6  the loss is =  0.01973263919353485  and accuracy is =  0.6406\n",
            "At step  0  and at epoch =  7  the loss is =  0.02217886410653591  and accuracy is =  0.6618\n",
            "At step  0  and at epoch =  8  the loss is =  0.013632857240736485  and accuracy is =  0.6748\n",
            "At step  0  and at epoch =  9  the loss is =  0.008944962173700333  and accuracy is =  0.718\n",
            "At step  0  and at epoch =  10  the loss is =  0.013350958935916424  and accuracy is =  0.7326\n",
            "At step  0  and at epoch =  11  the loss is =  0.02444472722709179  and accuracy is =  0.7278\n",
            "At step  0  and at epoch =  12  the loss is =  0.024743124842643738  and accuracy is =  0.7456\n",
            "At step  0  and at epoch =  13  the loss is =  0.014437100850045681  and accuracy is =  0.7514\n",
            "At step  0  and at epoch =  14  the loss is =  0.006962817162275314  and accuracy is =  0.77\n",
            "At step  0  and at epoch =  15  the loss is =  0.01701921597123146  and accuracy is =  0.779\n",
            "At step  0  and at epoch =  16  the loss is =  0.005981686525046825  and accuracy is =  0.7844\n",
            "At step  0  and at epoch =  17  the loss is =  0.016184797510504723  and accuracy is =  0.8062\n",
            "At step  0  and at epoch =  18  the loss is =  0.04104287177324295  and accuracy is =  0.7964\n",
            "At step  0  and at epoch =  19  the loss is =  0.023278646171092987  and accuracy is =  0.8058\n",
            "At step  0  and at epoch =  20  the loss is =  0.0115720946341753  and accuracy is =  0.8248\n",
            "At step  0  and at epoch =  21  the loss is =  0.004877825733274221  and accuracy is =  0.8124\n",
            "At step  0  and at epoch =  22  the loss is =  0.015629656612873077  and accuracy is =  0.8422\n",
            "At step  0  and at epoch =  23  the loss is =  0.013984582386910915  and accuracy is =  0.8244\n",
            "At step  0  and at epoch =  24  the loss is =  0.016486333683133125  and accuracy is =  0.8284\n",
            "At step  0  and at epoch =  25  the loss is =  0.006647842936217785  and accuracy is =  0.833\n",
            "At step  0  and at epoch =  26  the loss is =  0.025456739589571953  and accuracy is =  0.8612\n",
            "At step  0  and at epoch =  27  the loss is =  0.02324483171105385  and accuracy is =  0.8536\n",
            "At step  0  and at epoch =  28  the loss is =  0.013486863113939762  and accuracy is =  0.8066\n",
            "At step  0  and at epoch =  29  the loss is =  0.015972621738910675  and accuracy is =  0.829\n",
            "At step  0  and at epoch =  30  the loss is =  0.008855770342051983  and accuracy is =  0.848\n",
            "At step  0  and at epoch =  31  the loss is =  0.023831963539123535  and accuracy is =  0.877\n",
            "At step  0  and at epoch =  32  the loss is =  0.03358067572116852  and accuracy is =  0.8618\n",
            "At step  0  and at epoch =  33  the loss is =  0.03005242347717285  and accuracy is =  0.8416\n",
            "At step  0  and at epoch =  34  the loss is =  0.005734368227422237  and accuracy is =  0.8688\n",
            "At step  0  and at epoch =  35  the loss is =  0.01427427213639021  and accuracy is =  0.8794\n",
            "At step  0  and at epoch =  36  the loss is =  0.0019085671519860625  and accuracy is =  0.8766\n",
            "At step  0  and at epoch =  37  the loss is =  0.005807000678032637  and accuracy is =  0.9012\n",
            "At step  0  and at epoch =  38  the loss is =  0.012194732204079628  and accuracy is =  0.889\n",
            "At step  0  and at epoch =  39  the loss is =  0.016392188146710396  and accuracy is =  0.8618\n",
            "At step  0  and at epoch =  40  the loss is =  0.007502754684537649  and accuracy is =  0.8486\n",
            "At step  0  and at epoch =  41  the loss is =  0.003418108681216836  and accuracy is =  0.8818\n",
            "At step  0  and at epoch =  42  the loss is =  0.003917851950973272  and accuracy is =  0.9004\n",
            "At step  0  and at epoch =  43  the loss is =  0.006233827210962772  and accuracy is =  0.9096\n",
            "At step  0  and at epoch =  44  the loss is =  0.005389149766415358  and accuracy is =  0.9124\n",
            "At step  0  and at epoch =  45  the loss is =  0.01225230935961008  and accuracy is =  0.9106\n",
            "At step  0  and at epoch =  46  the loss is =  0.027063049376010895  and accuracy is =  0.8996\n",
            "At step  0  and at epoch =  47  the loss is =  0.0073265559040009975  and accuracy is =  0.898\n",
            "At step  0  and at epoch =  48  the loss is =  0.019825348630547523  and accuracy is =  0.9148\n",
            "At step  0  and at epoch =  49  the loss is =  0.00223526731133461  and accuracy is =  0.9374\n",
            "At step  0  and at epoch =  50  the loss is =  0.010116317309439182  and accuracy is =  0.9574\n",
            "At step  0  and at epoch =  51  the loss is =  0.012136809527873993  and accuracy is =  0.958\n",
            "At step  0  and at epoch =  52  the loss is =  0.011456279084086418  and accuracy is =  0.9572\n",
            "At step  0  and at epoch =  53  the loss is =  0.006008191499859095  and accuracy is =  0.9544\n",
            "At step  0  and at epoch =  54  the loss is =  0.006201050244271755  and accuracy is =  0.9654\n",
            "At step  0  and at epoch =  55  the loss is =  0.003719721920788288  and accuracy is =  0.9586\n",
            "At step  0  and at epoch =  56  the loss is =  0.022207297384738922  and accuracy is =  0.9622\n",
            "At step  0  and at epoch =  57  the loss is =  0.008553561754524708  and accuracy is =  0.956\n",
            "At step  0  and at epoch =  58  the loss is =  0.0016107737319543958  and accuracy is =  0.965\n",
            "At step  0  and at epoch =  59  the loss is =  0.00586322695016861  and accuracy is =  0.9674\n",
            "At step  0  and at epoch =  60  the loss is =  0.0007016478921286762  and accuracy is =  0.967\n",
            "At step  0  and at epoch =  61  the loss is =  0.001088154735043645  and accuracy is =  0.9728\n",
            "At step  0  and at epoch =  62  the loss is =  0.013503702357411385  and accuracy is =  0.9754\n",
            "At step  0  and at epoch =  63  the loss is =  0.01593703217804432  and accuracy is =  0.9774\n",
            "At step  0  and at epoch =  64  the loss is =  0.018590856343507767  and accuracy is =  0.9776\n",
            "At step  0  and at epoch =  65  the loss is =  0.0011383818928152323  and accuracy is =  0.9794\n",
            "At step  0  and at epoch =  66  the loss is =  0.0030788739677518606  and accuracy is =  0.9778\n",
            "At step  0  and at epoch =  67  the loss is =  0.0050124251283705235  and accuracy is =  0.9766\n",
            "At step  0  and at epoch =  68  the loss is =  0.017675243318080902  and accuracy is =  0.9776\n",
            "At step  0  and at epoch =  69  the loss is =  0.015266158618032932  and accuracy is =  0.976\n",
            "task: 0 train accuracy = 0.9842\n",
            "task: 0 test accuracy = 0.889\n"
          ],
          "name": "stdout"
        },
        {
          "output_type": "display_data",
          "data": {
            "image/png": "[encoded data removed]",
            "text/plain": [
              "<Figure size 432x288 with 2 Axes>"
            ]
          },
          "metadata": {
            "tags": []
          }
        },
        {
          "output_type": "stream",
          "text": [
            "At step  10  and at epoch =  0  the loss is =  0.029528988525271416  and accuracy is =  0.297\n",
            "At step  10  and at epoch =  1  the loss is =  0.02645486406981945  and accuracy is =  0.37842857142857145\n",
            "At step  10  and at epoch =  2  the loss is =  0.027002809569239616  and accuracy is =  0.46414285714285713\n",
            "At step  10  and at epoch =  3  the loss is =  0.021550079807639122  and accuracy is =  0.528\n",
            "At step  10  and at epoch =  4  the loss is =  0.02378280647099018  and accuracy is =  0.5618571428571428\n",
            "At step  10  and at epoch =  5  the loss is =  0.02465241216123104  and accuracy is =  0.5967142857142858\n",
            "At step  10  and at epoch =  6  the loss is =  0.02146647498011589  and accuracy is =  0.6285714285714286\n",
            "At step  10  and at epoch =  7  the loss is =  0.022409701719880104  and accuracy is =  0.6482857142857142\n",
            "At step  10  and at epoch =  8  the loss is =  0.020572859793901443  and accuracy is =  0.664\n",
            "At step  10  and at epoch =  9  the loss is =  0.0210245493799448  and accuracy is =  0.6778571428571428\n",
            "At step  10  and at epoch =  10  the loss is =  0.020551647990942  and accuracy is =  0.6915714285714286\n",
            "At step  10  and at epoch =  11  the loss is =  0.02306383289396763  and accuracy is =  0.7058571428571428\n",
            "At step  10  and at epoch =  12  the loss is =  0.021773461252450943  and accuracy is =  0.7158571428571429\n",
            "At step  10  and at epoch =  13  the loss is =  0.02108164317905903  and accuracy is =  0.7234285714285714\n",
            "At step  10  and at epoch =  14  the loss is =  0.01859062910079956  and accuracy is =  0.7317142857142858\n",
            "At step  10  and at epoch =  15  the loss is =  0.01746007800102234  and accuracy is =  0.7421428571428571\n",
            "At step  10  and at epoch =  16  the loss is =  0.021714651957154274  and accuracy is =  0.7398571428571429\n",
            "At step  10  and at epoch =  17  the loss is =  0.019083401188254356  and accuracy is =  0.7548571428571429\n",
            "At step  10  and at epoch =  18  the loss is =  0.01767258159816265  and accuracy is =  0.7628571428571429\n",
            "At step  10  and at epoch =  19  the loss is =  0.0176971647888422  and accuracy is =  0.7798571428571428\n",
            "At step  10  and at epoch =  20  the loss is =  0.018160628154873848  and accuracy is =  0.782\n",
            "At step  10  and at epoch =  21  the loss is =  0.01642608642578125  and accuracy is =  0.7827142857142857\n",
            "At step  10  and at epoch =  22  the loss is =  0.01833014003932476  and accuracy is =  0.7857142857142857\n",
            "At step  10  and at epoch =  23  the loss is =  0.01876487024128437  and accuracy is =  0.7951428571428572\n",
            "At step  10  and at epoch =  24  the loss is =  0.018392199650406837  and accuracy is =  0.8047142857142857\n",
            "At step  10  and at epoch =  25  the loss is =  0.021410005167126656  and accuracy is =  0.7962857142857143\n",
            "At step  10  and at epoch =  26  the loss is =  0.020079728215932846  and accuracy is =  0.7952857142857143\n",
            "At step  10  and at epoch =  27  the loss is =  0.017204757779836655  and accuracy is =  0.808\n",
            "At step  10  and at epoch =  28  the loss is =  0.017257465049624443  and accuracy is =  0.8181428571428572\n",
            "At step  10  and at epoch =  29  the loss is =  0.01822180300951004  and accuracy is =  0.8234285714285714\n",
            "At step  10  and at epoch =  30  the loss is =  0.016600221395492554  and accuracy is =  0.8232857142857143\n",
            "At step  10  and at epoch =  31  the loss is =  0.01663532853126526  and accuracy is =  0.8211428571428572\n",
            "At step  10  and at epoch =  32  the loss is =  0.019055644050240517  and accuracy is =  0.8392857142857143\n",
            "At step  10  and at epoch =  33  the loss is =  0.01938541792333126  and accuracy is =  0.8285714285714286\n",
            "At step  10  and at epoch =  34  the loss is =  0.01758391223847866  and accuracy is =  0.8281428571428572\n",
            "At step  10  and at epoch =  35  the loss is =  0.01682761311531067  and accuracy is =  0.8375714285714285\n",
            "At step  10  and at epoch =  36  the loss is =  0.018685216084122658  and accuracy is =  0.8431428571428572\n",
            "At step  10  and at epoch =  37  the loss is =  0.01869788207113743  and accuracy is =  0.836\n",
            "At step  10  and at epoch =  38  the loss is =  0.01834133081138134  and accuracy is =  0.8394285714285714\n",
            "At step  10  and at epoch =  39  the loss is =  0.01620682328939438  and accuracy is =  0.8425714285714285\n",
            "At step  10  and at epoch =  40  the loss is =  0.0163956880569458  and accuracy is =  0.8475714285714285\n",
            "At step  10  and at epoch =  41  the loss is =  0.020721742883324623  and accuracy is =  0.855\n",
            "At step  10  and at epoch =  42  the loss is =  0.018135175108909607  and accuracy is =  0.8518571428571429\n",
            "At step  10  and at epoch =  43  the loss is =  0.017067240551114082  and accuracy is =  0.8561428571428571\n",
            "At step  10  and at epoch =  44  the loss is =  0.016685297712683678  and accuracy is =  0.8505714285714285\n",
            "At step  10  and at epoch =  45  the loss is =  0.01780586689710617  and accuracy is =  0.8671428571428571\n",
            "At step  10  and at epoch =  46  the loss is =  0.015655264258384705  and accuracy is =  0.8597142857142858\n",
            "At step  10  and at epoch =  47  the loss is =  0.016074631363153458  and accuracy is =  0.863\n",
            "At step  10  and at epoch =  48  the loss is =  0.014612846076488495  and accuracy is =  0.8718571428571429\n",
            "At step  10  and at epoch =  49  the loss is =  0.012187251821160316  and accuracy is =  0.8837142857142857\n",
            "At step  10  and at epoch =  50  the loss is =  0.011193333193659782  and accuracy is =  0.9134285714285715\n",
            "At step  10  and at epoch =  51  the loss is =  0.012613419443368912  and accuracy is =  0.9164285714285715\n",
            "At step  10  and at epoch =  52  the loss is =  0.012521524913609028  and accuracy is =  0.9191428571428572\n",
            "At step  10  and at epoch =  53  the loss is =  0.012790743261575699  and accuracy is =  0.9224285714285714\n",
            "At step  10  and at epoch =  54  the loss is =  0.013609972782433033  and accuracy is =  0.924\n",
            "At step  10  and at epoch =  55  the loss is =  0.01065928302705288  and accuracy is =  0.9322857142857143\n",
            "At step  10  and at epoch =  56  the loss is =  0.011397281661629677  and accuracy is =  0.9285714285714286\n",
            "At step  10  and at epoch =  57  the loss is =  0.0105055533349514  and accuracy is =  0.932\n",
            "At step  10  and at epoch =  58  the loss is =  0.01185833290219307  and accuracy is =  0.9325714285714286\n",
            "At step  10  and at epoch =  59  the loss is =  0.012133603915572166  and accuracy is =  0.9325714285714286\n",
            "At step  10  and at epoch =  60  the loss is =  0.014947762712836266  and accuracy is =  0.9364285714285714\n",
            "At step  10  and at epoch =  61  the loss is =  0.013923080638051033  and accuracy is =  0.9305714285714286\n",
            "At step  10  and at epoch =  62  the loss is =  0.009943394921720028  and accuracy is =  0.9381428571428572\n",
            "At step  10  and at epoch =  63  the loss is =  0.011855406686663628  and accuracy is =  0.9378571428571428\n",
            "At step  10  and at epoch =  64  the loss is =  0.011359961703419685  and accuracy is =  0.9482857142857143\n",
            "At step  10  and at epoch =  65  the loss is =  0.0125877158716321  and accuracy is =  0.9395714285714286\n",
            "At step  10  and at epoch =  66  the loss is =  0.011801403947174549  and accuracy is =  0.9387142857142857\n",
            "At step  10  and at epoch =  67  the loss is =  0.012461497448384762  and accuracy is =  0.9427142857142857\n",
            "At step  10  and at epoch =  68  the loss is =  0.011767339892685413  and accuracy is =  0.9432857142857143\n",
            "At step  10  and at epoch =  69  the loss is =  0.011839291080832481  and accuracy is =  0.9424285714285714\n",
            "task: 10 train accuracy = 0.9534\n",
            "task: 10 test accuracy = 0.805\n"
          ],
          "name": "stdout"
        },
        {
          "output_type": "display_data",
          "data": {
            "image/png": "[encoded data removed]",
            "text/plain": [
              "<Figure size 432x288 with 2 Axes>"
            ]
          },
          "metadata": {
            "tags": []
          }
        },
        {
          "output_type": "stream",
          "text": [
            "At step  20  and at epoch =  0  the loss is =  0.03585805371403694  and accuracy is =  0.354\n",
            "At step  20  and at epoch =  1  the loss is =  0.03342461213469505  and accuracy is =  0.410375\n",
            "At step  20  and at epoch =  2  the loss is =  0.03256015479564667  and accuracy is =  0.47875\n",
            "At step  20  and at epoch =  3  the loss is =  0.02992243878543377  and accuracy is =  0.546125\n",
            "At step  20  and at epoch =  4  the loss is =  0.028710879385471344  and accuracy is =  0.576125\n",
            "At step  20  and at epoch =  5  the loss is =  0.02730417624115944  and accuracy is =  0.609625\n",
            "At step  20  and at epoch =  6  the loss is =  0.026081403717398643  and accuracy is =  0.625\n",
            "At step  20  and at epoch =  7  the loss is =  0.027049293741583824  and accuracy is =  0.649375\n",
            "At step  20  and at epoch =  8  the loss is =  0.030109919607639313  and accuracy is =  0.665875\n",
            "At step  20  and at epoch =  9  the loss is =  0.030148806050419807  and accuracy is =  0.67525\n",
            "At step  20  and at epoch =  10  the loss is =  0.030970754101872444  and accuracy is =  0.690375\n",
            "At step  20  and at epoch =  11  the loss is =  0.02511928230524063  and accuracy is =  0.697125\n",
            "At step  20  and at epoch =  12  the loss is =  0.03218108043074608  and accuracy is =  0.71725\n",
            "At step  20  and at epoch =  13  the loss is =  0.03066963143646717  and accuracy is =  0.723\n",
            "At step  20  and at epoch =  14  the loss is =  0.02967420220375061  and accuracy is =  0.728625\n",
            "At step  20  and at epoch =  15  the loss is =  0.02953830175101757  and accuracy is =  0.740375\n",
            "At step  20  and at epoch =  16  the loss is =  0.023507656529545784  and accuracy is =  0.742375\n",
            "At step  20  and at epoch =  17  the loss is =  0.03148019686341286  and accuracy is =  0.747375\n",
            "At step  20  and at epoch =  18  the loss is =  0.02684120647609234  and accuracy is =  0.755875\n",
            "At step  20  and at epoch =  19  the loss is =  0.029765866696834564  and accuracy is =  0.762875\n",
            "At step  20  and at epoch =  20  the loss is =  0.026042666286230087  and accuracy is =  0.770875\n",
            "At step  20  and at epoch =  21  the loss is =  0.029220661148428917  and accuracy is =  0.7625\n",
            "At step  20  and at epoch =  22  the loss is =  0.02941908687353134  and accuracy is =  0.76975\n",
            "At step  20  and at epoch =  23  the loss is =  0.027580836787819862  and accuracy is =  0.781\n",
            "At step  20  and at epoch =  24  the loss is =  0.03080783225595951  and accuracy is =  0.779625\n",
            "At step  20  and at epoch =  25  the loss is =  0.022556424140930176  and accuracy is =  0.7835\n",
            "At step  20  and at epoch =  26  the loss is =  0.026659158989787102  and accuracy is =  0.795375\n",
            "At step  20  and at epoch =  27  the loss is =  0.025872301310300827  and accuracy is =  0.78925\n",
            "At step  20  and at epoch =  28  the loss is =  0.02543179877102375  and accuracy is =  0.800375\n",
            "At step  20  and at epoch =  29  the loss is =  0.028477123007178307  and accuracy is =  0.786375\n",
            "At step  20  and at epoch =  30  the loss is =  0.027277369052171707  and accuracy is =  0.805625\n",
            "At step  20  and at epoch =  31  the loss is =  0.02932852692902088  and accuracy is =  0.81325\n",
            "At step  20  and at epoch =  32  the loss is =  0.02377411350607872  and accuracy is =  0.7965\n",
            "At step  20  and at epoch =  33  the loss is =  0.02499268390238285  and accuracy is =  0.803125\n",
            "At step  20  and at epoch =  34  the loss is =  0.02635500766336918  and accuracy is =  0.805375\n",
            "At step  20  and at epoch =  35  the loss is =  0.023497771471738815  and accuracy is =  0.809625\n",
            "At step  20  and at epoch =  36  the loss is =  0.0231991745531559  and accuracy is =  0.81425\n",
            "At step  20  and at epoch =  37  the loss is =  0.0257406085729599  and accuracy is =  0.815375\n",
            "At step  20  and at epoch =  38  the loss is =  0.024605372920632362  and accuracy is =  0.819125\n",
            "At step  20  and at epoch =  39  the loss is =  0.024441389366984367  and accuracy is =  0.82125\n",
            "At step  20  and at epoch =  40  the loss is =  0.023742811754345894  and accuracy is =  0.81425\n",
            "At step  20  and at epoch =  41  the loss is =  0.024671034887433052  and accuracy is =  0.825875\n",
            "At step  20  and at epoch =  42  the loss is =  0.021007070317864418  and accuracy is =  0.829625\n",
            "At step  20  and at epoch =  43  the loss is =  0.0229868832975626  and accuracy is =  0.83625\n",
            "At step  20  and at epoch =  44  the loss is =  0.023389587178826332  and accuracy is =  0.830875\n",
            "At step  20  and at epoch =  45  the loss is =  0.023991763591766357  and accuracy is =  0.82825\n",
            "At step  20  and at epoch =  46  the loss is =  0.023477401584386826  and accuracy is =  0.835125\n",
            "At step  20  and at epoch =  47  the loss is =  0.023110024631023407  and accuracy is =  0.835625\n",
            "At step  20  and at epoch =  48  the loss is =  0.02428150549530983  and accuracy is =  0.841125\n",
            "At step  20  and at epoch =  49  the loss is =  0.02114172652363777  and accuracy is =  0.87125\n",
            "At step  20  and at epoch =  50  the loss is =  0.022442862391471863  and accuracy is =  0.891\n",
            "At step  20  and at epoch =  51  the loss is =  0.020883899182081223  and accuracy is =  0.888375\n",
            "At step  20  and at epoch =  52  the loss is =  0.0216636061668396  and accuracy is =  0.893125\n",
            "At step  20  and at epoch =  53  the loss is =  0.01809501461684704  and accuracy is =  0.89\n",
            "At step  20  and at epoch =  54  the loss is =  0.021450739353895187  and accuracy is =  0.896375\n",
            "At step  20  and at epoch =  55  the loss is =  0.020340939983725548  and accuracy is =  0.9\n",
            "At step  20  and at epoch =  56  the loss is =  0.021186120808124542  and accuracy is =  0.900625\n",
            "At step  20  and at epoch =  57  the loss is =  0.022373709827661514  and accuracy is =  0.902\n",
            "At step  20  and at epoch =  58  the loss is =  0.018692564219236374  and accuracy is =  0.899125\n",
            "At step  20  and at epoch =  59  the loss is =  0.020293110981583595  and accuracy is =  0.9045\n",
            "At step  20  and at epoch =  60  the loss is =  0.02034156210720539  and accuracy is =  0.90925\n",
            "At step  20  and at epoch =  61  the loss is =  0.020008308812975883  and accuracy is =  0.906125\n",
            "At step  20  and at epoch =  62  the loss is =  0.021980730816721916  and accuracy is =  0.90875\n",
            "At step  20  and at epoch =  63  the loss is =  0.01984778791666031  and accuracy is =  0.915125\n",
            "At step  20  and at epoch =  64  the loss is =  0.019297881051898003  and accuracy is =  0.91275\n",
            "At step  20  and at epoch =  65  the loss is =  0.017536522820591927  and accuracy is =  0.912125\n",
            "At step  20  and at epoch =  66  the loss is =  0.020326480269432068  and accuracy is =  0.911\n",
            "At step  20  and at epoch =  67  the loss is =  0.020276933908462524  and accuracy is =  0.915125\n",
            "At step  20  and at epoch =  68  the loss is =  0.021460341289639473  and accuracy is =  0.908125\n",
            "At step  20  and at epoch =  69  the loss is =  0.018638020381331444  and accuracy is =  0.915\n",
            "task: 20 train accuracy = 0.9186\n",
            "task: 20 test accuracy = 0.7703333333333333\n"
          ],
          "name": "stdout"
        },
        {
          "output_type": "display_data",
          "data": {
            "image/png": "[encoded data removed]",
            "text/plain": [
              "<Figure size 432x288 with 2 Axes>"
            ]
          },
          "metadata": {
            "tags": []
          }
        },
        {
          "output_type": "stream",
          "text": [
            "At step  30  and at epoch =  0  the loss is =  0.03937281668186188  and accuracy is =  0.3931949250288351\n",
            "At step  30  and at epoch =  1  the loss is =  0.03487863764166832  and accuracy is =  0.44878892733564013\n",
            "At step  30  and at epoch =  2  the loss is =  0.037432678043842316  and accuracy is =  0.5124567474048443\n",
            "At step  30  and at epoch =  3  the loss is =  0.038555268198251724  and accuracy is =  0.5657439446366782\n",
            "At step  30  and at epoch =  4  the loss is =  0.03543270751833916  and accuracy is =  0.5931949250288351\n",
            "At step  30  and at epoch =  5  the loss is =  0.034201983362436295  and accuracy is =  0.6222606689734718\n",
            "At step  30  and at epoch =  6  the loss is =  0.032511964440345764  and accuracy is =  0.6401384083044983\n",
            "At step  30  and at epoch =  7  the loss is =  0.031207256019115448  and accuracy is =  0.6516724336793541\n",
            "At step  30  and at epoch =  8  the loss is =  0.033364810049533844  and accuracy is =  0.6599769319492503\n",
            "At step  30  and at epoch =  9  the loss is =  0.03326018154621124  and accuracy is =  0.6670126874279123\n",
            "At step  30  and at epoch =  10  the loss is =  0.0352487713098526  and accuracy is =  0.6835063437139561\n",
            "At step  30  and at epoch =  11  the loss is =  0.02969573624432087  and accuracy is =  0.6892733564013841\n",
            "At step  30  and at epoch =  12  the loss is =  0.03411149978637695  and accuracy is =  0.6987312572087658\n",
            "At step  30  and at epoch =  13  the loss is =  0.03416198864579201  and accuracy is =  0.7046136101499423\n",
            "At step  30  and at epoch =  14  the loss is =  0.029828110709786415  and accuracy is =  0.7046136101499423\n",
            "At step  30  and at epoch =  15  the loss is =  0.030156327411532402  and accuracy is =  0.7154555940023068\n",
            "At step  30  and at epoch =  16  the loss is =  0.033374007791280746  and accuracy is =  0.7244521337946943\n",
            "At step  30  and at epoch =  17  the loss is =  0.028748616576194763  and accuracy is =  0.72560553633218\n",
            "At step  30  and at epoch =  18  the loss is =  0.03217240422964096  and accuracy is =  0.7343713956170703\n",
            "At step  30  and at epoch =  19  the loss is =  0.02989029884338379  and accuracy is =  0.7417531718569781\n",
            "At step  30  and at epoch =  20  the loss is =  0.034136369824409485  and accuracy is =  0.7401384083044983\n",
            "At step  30  and at epoch =  21  the loss is =  0.029361512511968613  and accuracy is =  0.7412918108419838\n",
            "At step  30  and at epoch =  22  the loss is =  0.03072333335876465  and accuracy is =  0.7484429065743945\n",
            "At step  30  and at epoch =  23  the loss is =  0.032012712210416794  and accuracy is =  0.7566320645905421\n",
            "At step  30  and at epoch =  24  the loss is =  0.030194701626896858  and accuracy is =  0.7636678200692042\n",
            "At step  30  and at epoch =  25  the loss is =  0.03426970914006233  and accuracy is =  0.755363321799308\n",
            "At step  30  and at epoch =  26  the loss is =  0.034849803894758224  and accuracy is =  0.759515570934256\n",
            "At step  30  and at epoch =  27  the loss is =  0.033864088356494904  and accuracy is =  0.7660899653979238\n",
            "At step  30  and at epoch =  28  the loss is =  0.03264708071947098  and accuracy is =  0.7727797001153403\n",
            "At step  30  and at epoch =  29  the loss is =  0.03487452492117882  and accuracy is =  0.7726643598615917\n",
            "At step  30  and at epoch =  30  the loss is =  0.029177037999033928  and accuracy is =  0.7742791234140715\n",
            "At step  30  and at epoch =  31  the loss is =  0.032029345631599426  and accuracy is =  0.7797001153402537\n",
            "At step  30  and at epoch =  32  the loss is =  0.030056437477469444  and accuracy is =  0.7826989619377163\n",
            "At step  30  and at epoch =  33  the loss is =  0.031235095113515854  and accuracy is =  0.7782006920415225\n",
            "At step  30  and at epoch =  34  the loss is =  0.03077569045126438  and accuracy is =  0.7845444059976932\n",
            "At step  30  and at epoch =  35  the loss is =  0.03322248533368111  and accuracy is =  0.7854671280276817\n",
            "At step  30  and at epoch =  36  the loss is =  0.03273630887269974  and accuracy is =  0.7782006920415225\n",
            "At step  30  and at epoch =  37  the loss is =  0.02880900911986828  and accuracy is =  0.7831603229527105\n",
            "At step  30  and at epoch =  38  the loss is =  0.031449027359485626  and accuracy is =  0.7833910034602076\n",
            "At step  30  and at epoch =  39  the loss is =  0.03189229592680931  and accuracy is =  0.7898500576701268\n",
            "At step  30  and at epoch =  40  the loss is =  0.02973245084285736  and accuracy is =  0.7942329873125721\n",
            "At step  30  and at epoch =  41  the loss is =  0.03491442650556564  and accuracy is =  0.7937716262975778\n",
            "At step  30  and at epoch =  42  the loss is =  0.035021331161260605  and accuracy is =  0.7988465974625144\n",
            "At step  30  and at epoch =  43  the loss is =  0.03135959059000015  and accuracy is =  0.7993079584775087\n",
            "At step  30  and at epoch =  44  the loss is =  0.03198451176285744  and accuracy is =  0.7980392156862746\n",
            "At step  30  and at epoch =  45  the loss is =  0.03198624774813652  and accuracy is =  0.7972318339100346\n",
            "At step  30  and at epoch =  46  the loss is =  0.03322814404964447  and accuracy is =  0.7997693194925029\n",
            "At step  30  and at epoch =  47  the loss is =  0.030715305358171463  and accuracy is =  0.8054209919261822\n",
            "At step  30  and at epoch =  48  the loss is =  0.03135566785931587  and accuracy is =  0.8099192618223761\n",
            "At step  30  and at epoch =  49  the loss is =  0.028325175866484642  and accuracy is =  0.8409457900807382\n",
            "At step  30  and at epoch =  50  the loss is =  0.02594214677810669  and accuracy is =  0.8579008073817762\n",
            "At step  30  and at epoch =  51  the loss is =  0.026496341452002525  and accuracy is =  0.8650519031141869\n",
            "At step  30  and at epoch =  52  the loss is =  0.0269379410892725  and accuracy is =  0.8671280276816609\n",
            "At step  30  and at epoch =  53  the loss is =  0.0281804371625185  and accuracy is =  0.8746251441753172\n",
            "At step  30  and at epoch =  54  the loss is =  0.027994779869914055  and accuracy is =  0.8719723183391004\n",
            "At step  30  and at epoch =  55  the loss is =  0.024457581341266632  and accuracy is =  0.8767012687427912\n",
            "At step  30  and at epoch =  56  the loss is =  0.025994764640927315  and accuracy is =  0.876239907727797\n",
            "At step  30  and at epoch =  57  the loss is =  0.027542594820261  and accuracy is =  0.8815455594002307\n",
            "At step  30  and at epoch =  58  the loss is =  0.030879145488142967  and accuracy is =  0.8792387543252596\n",
            "At step  30  and at epoch =  59  the loss is =  0.02901783399283886  and accuracy is =  0.8847750865051903\n",
            "At step  30  and at epoch =  60  the loss is =  0.028484899550676346  and accuracy is =  0.8820069204152249\n",
            "At step  30  and at epoch =  61  the loss is =  0.026164812967181206  and accuracy is =  0.8771626297577855\n",
            "At step  30  and at epoch =  62  the loss is =  0.02742561511695385  and accuracy is =  0.8848904267589389\n",
            "At step  30  and at epoch =  63  the loss is =  0.025886718183755875  and accuracy is =  0.8921568627450981\n",
            "At step  30  and at epoch =  64  the loss is =  0.023870404809713364  and accuracy is =  0.8915801614763552\n",
            "At step  30  and at epoch =  65  the loss is =  0.025602228939533234  and accuracy is =  0.8925028835063438\n",
            "At step  30  and at epoch =  66  the loss is =  0.024695836007595062  and accuracy is =  0.8953863898500577\n",
            "At step  30  and at epoch =  67  the loss is =  0.023734446614980698  and accuracy is =  0.894002306805075\n",
            "At step  30  and at epoch =  68  the loss is =  0.025850577279925346  and accuracy is =  0.8927335640138409\n",
            "At step  30  and at epoch =  69  the loss is =  0.02617439068853855  and accuracy is =  0.8904267589388697\n",
            "task: 30 train accuracy = 0.9094\n",
            "task: 30 test accuracy = 0.71525\n"
          ],
          "name": "stdout"
        },
        {
          "output_type": "display_data",
          "data": {
            "image/png": "[encoded data removed]",
            "text/plain": [
              "<Figure size 432x288 with 2 Axes>"
            ]
          },
          "metadata": {
            "tags": []
          }
        },
        {
          "output_type": "stream",
          "text": [
            "At step  40  and at epoch =  0  the loss is =  0.046639468520879745  and accuracy is =  0.4044711014176663\n",
            "At step  40  and at epoch =  1  the loss is =  0.04787081852555275  and accuracy is =  0.4559432933478735\n",
            "At step  40  and at epoch =  2  the loss is =  0.04496025666594505  and accuracy is =  0.49236641221374045\n",
            "At step  40  and at epoch =  3  the loss is =  0.04689378663897514  and accuracy is =  0.5300981461286804\n",
            "At step  40  and at epoch =  4  the loss is =  0.042268335819244385  and accuracy is =  0.5488549618320611\n",
            "At step  40  and at epoch =  5  the loss is =  0.044052984565496445  and accuracy is =  0.566412213740458\n",
            "At step  40  and at epoch =  6  the loss is =  0.04359706863760948  and accuracy is =  0.5849509269356598\n",
            "At step  40  and at epoch =  7  the loss is =  0.03936767578125  and accuracy is =  0.5993456924754634\n",
            "At step  40  and at epoch =  8  the loss is =  0.0427296943962574  and accuracy is =  0.6177753544165758\n",
            "At step  40  and at epoch =  9  the loss is =  0.044603925198316574  and accuracy is =  0.6246455834242094\n",
            "At step  40  and at epoch =  10  the loss is =  0.04509183391928673  and accuracy is =  0.6333696837513632\n",
            "At step  40  and at epoch =  11  the loss is =  0.048609018325805664  and accuracy is =  0.6460196292257361\n",
            "At step  40  and at epoch =  12  the loss is =  0.04343431815505028  and accuracy is =  0.6515812431842967\n",
            "At step  40  and at epoch =  13  the loss is =  0.042970508337020874  and accuracy is =  0.6641221374045801\n",
            "At step  40  and at epoch =  14  the loss is =  0.03720906376838684  and accuracy is =  0.6703380588876772\n",
            "At step  40  and at epoch =  15  the loss is =  0.043236956000328064  and accuracy is =  0.6789531079607416\n",
            "At step  40  and at epoch =  16  the loss is =  0.040145352482795715  and accuracy is =  0.6789531079607416\n",
            "At step  40  and at epoch =  17  the loss is =  0.03553633391857147  and accuracy is =  0.6931297709923664\n",
            "At step  40  and at epoch =  18  the loss is =  0.04266045615077019  and accuracy is =  0.6931297709923664\n",
            "At step  40  and at epoch =  19  the loss is =  0.04252200201153755  and accuracy is =  0.6922573609596511\n",
            "At step  40  and at epoch =  20  the loss is =  0.0400715172290802  and accuracy is =  0.702071973827699\n",
            "At step  40  and at epoch =  21  the loss is =  0.04303230717778206  and accuracy is =  0.6995637949836423\n",
            "At step  40  and at epoch =  22  the loss is =  0.036958277225494385  and accuracy is =  0.7142857142857143\n",
            "At step  40  and at epoch =  23  the loss is =  0.03941473737359047  and accuracy is =  0.7128680479825518\n",
            "At step  40  and at epoch =  24  the loss is =  0.03578529879450798  and accuracy is =  0.7214830970556161\n",
            "At step  40  and at epoch =  25  the loss is =  0.04102860763669014  and accuracy is =  0.7235550708833152\n",
            "At step  40  and at epoch =  26  the loss is =  0.04155019298195839  and accuracy is =  0.738495092693566\n",
            "At step  40  and at epoch =  27  the loss is =  0.038514405488967896  and accuracy is =  0.7319520174482007\n",
            "At step  40  and at epoch =  28  the loss is =  0.040104735642671585  and accuracy is =  0.7303162486368593\n",
            "At step  40  and at epoch =  29  the loss is =  0.043336909264326096  and accuracy is =  0.734896401308615\n",
            "At step  40  and at epoch =  30  the loss is =  0.037503961473703384  and accuracy is =  0.7389312977099237\n",
            "At step  40  and at epoch =  31  the loss is =  0.0442589595913887  and accuracy is =  0.7347873500545257\n",
            "At step  40  and at epoch =  32  the loss is =  0.0416775718331337  and accuracy is =  0.7391494002181025\n",
            "At step  40  and at epoch =  33  the loss is =  0.03729202598333359  and accuracy is =  0.7422028353326063\n",
            "At step  40  and at epoch =  34  the loss is =  0.04336201399564743  and accuracy is =  0.748854961832061\n",
            "At step  40  and at epoch =  35  the loss is =  0.0423172190785408  and accuracy is =  0.7473282442748092\n",
            "At step  40  and at epoch =  36  the loss is =  0.03992748633027077  and accuracy is =  0.7480916030534351\n",
            "At step  40  and at epoch =  37  the loss is =  0.03518517687916756  and accuracy is =  0.7522355507088332\n",
            "At step  40  and at epoch =  38  the loss is =  0.03980482369661331  and accuracy is =  0.7645583424209378\n",
            "At step  40  and at epoch =  39  the loss is =  0.04667501896619797  and accuracy is =  0.7588876772082879\n",
            "At step  40  and at epoch =  40  the loss is =  0.0363018624484539  and accuracy is =  0.7603053435114504\n",
            "At step  40  and at epoch =  41  the loss is =  0.042146630585193634  and accuracy is =  0.7732824427480917\n",
            "At step  40  and at epoch =  42  the loss is =  0.039841294288635254  and accuracy is =  0.7673936750272629\n",
            "At step  40  and at epoch =  43  the loss is =  0.041320160031318665  and accuracy is =  0.7726281352235551\n",
            "At step  40  and at epoch =  44  the loss is =  0.03716115280985832  and accuracy is =  0.7683751363140676\n",
            "At step  40  and at epoch =  45  the loss is =  0.041609592735767365  and accuracy is =  0.7764449291166848\n",
            "At step  40  and at epoch =  46  the loss is =  0.03819926455616951  and accuracy is =  0.7691384950926936\n",
            "At step  40  and at epoch =  47  the loss is =  0.04189831390976906  and accuracy is =  0.774918211559433\n",
            "At step  40  and at epoch =  48  the loss is =  0.03524908423423767  and accuracy is =  0.7785169029443839\n",
            "At step  40  and at epoch =  49  the loss is =  0.035592079162597656  and accuracy is =  0.8279171210468921\n",
            "At step  40  and at epoch =  50  the loss is =  0.03437144309282303  and accuracy is =  0.8418756815703381\n",
            "At step  40  and at epoch =  51  the loss is =  0.03615933284163475  and accuracy is =  0.8478735005452562\n",
            "At step  40  and at epoch =  52  the loss is =  0.03689666837453842  and accuracy is =  0.8527808069792803\n",
            "At step  40  and at epoch =  53  the loss is =  0.03511831536889076  and accuracy is =  0.8572519083969465\n",
            "At step  40  and at epoch =  54  the loss is =  0.0345577709376812  and accuracy is =  0.85659760087241\n",
            "At step  40  and at epoch =  55  the loss is =  0.037434373050928116  and accuracy is =  0.8571428571428571\n",
            "At step  40  and at epoch =  56  the loss is =  0.03349802643060684  and accuracy is =  0.8625954198473282\n",
            "At step  40  and at epoch =  57  the loss is =  0.033015940338373184  and accuracy is =  0.8640130861504908\n",
            "At step  40  and at epoch =  58  the loss is =  0.03174455463886261  and accuracy is =  0.8653217011995638\n",
            "At step  40  and at epoch =  59  the loss is =  0.033661190420389175  and accuracy is =  0.8660850599781897\n",
            "At step  40  and at epoch =  60  the loss is =  0.03665094077587128  and accuracy is =  0.8678298800436205\n",
            "At step  40  and at epoch =  61  the loss is =  0.02969832345843315  and accuracy is =  0.8728462377317339\n",
            "At step  40  and at epoch =  62  the loss is =  0.035773150622844696  and accuracy is =  0.8673936750272628\n",
            "At step  40  and at epoch =  63  the loss is =  0.03736110404133797  and accuracy is =  0.8769901853871319\n",
            "At step  40  and at epoch =  64  the loss is =  0.03585169464349747  and accuracy is =  0.8802617230098146\n",
            "At step  40  and at epoch =  65  the loss is =  0.03391614556312561  and accuracy is =  0.8806979280261723\n",
            "At step  40  and at epoch =  66  the loss is =  0.03155628219246864  and accuracy is =  0.8823336968375136\n",
            "At step  40  and at epoch =  67  the loss is =  0.0374767929315567  and accuracy is =  0.8840785169029444\n",
            "At step  40  and at epoch =  68  the loss is =  0.033872902393341064  and accuracy is =  0.8805888767720829\n",
            "At step  40  and at epoch =  69  the loss is =  0.03465252369642258  and accuracy is =  0.8777535441657579\n",
            "task: 40 train accuracy = 0.8584\n",
            "task: 40 test accuracy = 0.665\n"
          ],
          "name": "stdout"
        },
        {
          "output_type": "display_data",
          "data": {
            "image/png": "[encoded data removed]",
            "text/plain": [
              "<Figure size 432x288 with 2 Axes>"
            ]
          },
          "metadata": {
            "tags": []
          }
        },
        {
          "output_type": "stream",
          "text": [
            "At step  50  and at epoch =  0  the loss is =  0.05612964928150177  and accuracy is =  0.4088819226750261\n",
            "At step  50  and at epoch =  1  the loss is =  0.052739184349775314  and accuracy is =  0.4689655172413793\n",
            "At step  50  and at epoch =  2  the loss is =  0.05595478415489197  and accuracy is =  0.515778474399164\n",
            "At step  50  and at epoch =  3  the loss is =  0.045178528875112534  and accuracy is =  0.5396029258098224\n",
            "At step  50  and at epoch =  4  the loss is =  0.04964965581893921  and accuracy is =  0.5619644723092999\n",
            "At step  50  and at epoch =  5  the loss is =  0.045273687690496445  and accuracy is =  0.5770114942528736\n",
            "At step  50  and at epoch =  6  the loss is =  0.04818975552916527  and accuracy is =  0.587042842215256\n",
            "At step  50  and at epoch =  7  the loss is =  0.050851009786129  and accuracy is =  0.6071055381400209\n",
            "At step  50  and at epoch =  8  the loss is =  0.05042227357625961  and accuracy is =  0.6136886102403344\n",
            "At step  50  and at epoch =  9  the loss is =  0.0477779395878315  and accuracy is =  0.6300940438871473\n",
            "At step  50  and at epoch =  10  the loss is =  0.04616408422589302  and accuracy is =  0.6334378265412748\n",
            "At step  50  and at epoch =  11  the loss is =  0.04784292355179787  and accuracy is =  0.6427377220480669\n",
            "At step  50  and at epoch =  12  the loss is =  0.04712032899260521  and accuracy is =  0.6492163009404389\n",
            "At step  50  and at epoch =  13  the loss is =  0.05564132332801819  and accuracy is =  0.6519331243469174\n",
            "At step  50  and at epoch =  14  the loss is =  0.047479499131441116  and accuracy is =  0.6600835945663532\n",
            "At step  50  and at epoch =  15  the loss is =  0.04742230474948883  and accuracy is =  0.6751306165099269\n",
            "At step  50  and at epoch =  16  the loss is =  0.04562010616064072  and accuracy is =  0.6672936259143156\n",
            "At step  50  and at epoch =  17  the loss is =  0.04242953658103943  and accuracy is =  0.6871473354231975\n",
            "At step  50  and at epoch =  18  the loss is =  0.044466614723205566  and accuracy is =  0.6842215256008359\n",
            "At step  50  and at epoch =  19  the loss is =  0.045798078179359436  and accuracy is =  0.6973876698014629\n",
            "At step  50  and at epoch =  20  the loss is =  0.04621261730790138  and accuracy is =  0.6889237199582027\n",
            "At step  50  and at epoch =  21  the loss is =  0.0485171303153038  and accuracy is =  0.6894461859979102\n",
            "At step  50  and at epoch =  22  the loss is =  0.047329649329185486  and accuracy is =  0.700417972831766\n",
            "At step  50  and at epoch =  23  the loss is =  0.047265443950891495  and accuracy is =  0.6966562173458725\n",
            "At step  50  and at epoch =  24  the loss is =  0.04491190239787102  and accuracy is =  0.7042842215256009\n",
            "At step  50  and at epoch =  25  the loss is =  0.04729541018605232  and accuracy is =  0.709508881922675\n",
            "At step  50  and at epoch =  26  the loss is =  0.04436034336686134  and accuracy is =  0.7176593521421107\n",
            "At step  50  and at epoch =  27  the loss is =  0.046252764761447906  and accuracy is =  0.7168234064785789\n",
            "At step  50  and at epoch =  28  the loss is =  0.05132751539349556  and accuracy is =  0.7271682340647858\n",
            "At step  50  and at epoch =  29  the loss is =  0.04636674374341965  and accuracy is =  0.7318704284221526\n",
            "At step  50  and at epoch =  30  the loss is =  0.04455694556236267  and accuracy is =  0.7274817136886103\n",
            "At step  50  and at epoch =  31  the loss is =  0.043711718171834946  and accuracy is =  0.7326018808777429\n",
            "At step  50  and at epoch =  32  the loss is =  0.0521775521337986  and accuracy is =  0.738662486938349\n",
            "At step  50  and at epoch =  33  the loss is =  0.04217241704463959  and accuracy is =  0.7346917450365726\n",
            "At step  50  and at epoch =  34  the loss is =  0.04692289978265762  and accuracy is =  0.7443051201671891\n",
            "At step  50  and at epoch =  35  the loss is =  0.046291597187519073  and accuracy is =  0.7413793103448276\n",
            "At step  50  and at epoch =  36  the loss is =  0.04786873981356621  and accuracy is =  0.7411703239289447\n",
            "At step  50  and at epoch =  37  the loss is =  0.047539953142404556  and accuracy is =  0.7407523510971786\n",
            "At step  50  and at epoch =  38  the loss is =  0.045279402285814285  and accuracy is =  0.7394984326018809\n",
            "At step  50  and at epoch =  39  the loss is =  0.04427562654018402  and accuracy is =  0.7471264367816092\n",
            "At step  50  and at epoch =  40  the loss is =  0.04346677288413048  and accuracy is =  0.7543364681295716\n",
            "At step  50  and at epoch =  41  the loss is =  0.051093023270368576  and accuracy is =  0.754649947753396\n",
            "At step  50  and at epoch =  42  the loss is =  0.0501345619559288  and accuracy is =  0.7557993730407524\n",
            "At step  50  and at epoch =  43  the loss is =  0.04332782328128815  and accuracy is =  0.7481713688610241\n",
            "At step  50  and at epoch =  44  the loss is =  0.04701937735080719  and accuracy is =  0.7538140020898642\n",
            "At step  50  and at epoch =  45  the loss is =  0.04915264621376991  and accuracy is =  0.7536050156739812\n",
            "At step  50  and at epoch =  46  the loss is =  0.04693570360541344  and accuracy is =  0.7600835945663532\n",
            "At step  50  and at epoch =  47  the loss is =  0.05052472651004791  and accuracy is =  0.764367816091954\n",
            "At step  50  and at epoch =  48  the loss is =  0.047244198620319366  and accuracy is =  0.7704284221525601\n",
            "At step  50  and at epoch =  49  the loss is =  0.043764617294073105  and accuracy is =  0.8074190177638454\n",
            "At step  50  and at epoch =  50  the loss is =  0.04132519289851189  and accuracy is =  0.8266457680250784\n",
            "At step  50  and at epoch =  51  the loss is =  0.0401994027197361  and accuracy is =  0.8296760710553814\n",
            "At step  50  and at epoch =  52  the loss is =  0.042042721062898636  and accuracy is =  0.8359456635318704\n",
            "At step  50  and at epoch =  53  the loss is =  0.04766387492418289  and accuracy is =  0.8378265412748171\n",
            "At step  50  and at epoch =  54  the loss is =  0.04367630183696747  and accuracy is =  0.8443051201671892\n",
            "At step  50  and at epoch =  55  the loss is =  0.041543759405612946  and accuracy is =  0.8468129571577847\n",
            "At step  50  and at epoch =  56  the loss is =  0.041215140372514725  and accuracy is =  0.8425287356321839\n",
            "At step  50  and at epoch =  57  the loss is =  0.04312649369239807  and accuracy is =  0.8454545454545455\n",
            "At step  50  and at epoch =  58  the loss is =  0.03962698578834534  and accuracy is =  0.848380355276907\n",
            "At step  50  and at epoch =  59  the loss is =  0.040992118418216705  and accuracy is =  0.8531870428422152\n",
            "At step  50  and at epoch =  60  the loss is =  0.03907354921102524  and accuracy is =  0.8527690700104493\n",
            "At step  50  and at epoch =  61  the loss is =  0.04127693921327591  and accuracy is =  0.855067920585162\n",
            "At step  50  and at epoch =  62  the loss is =  0.04110512137413025  and accuracy is =  0.8549634273772205\n",
            "At step  50  and at epoch =  63  the loss is =  0.041897039860486984  and accuracy is =  0.8606060606060606\n",
            "At step  50  and at epoch =  64  the loss is =  0.039694931358098984  and accuracy is =  0.8563218390804598\n",
            "At step  50  and at epoch =  65  the loss is =  0.03732822835445404  and accuracy is =  0.861337513061651\n",
            "At step  50  and at epoch =  66  the loss is =  0.042341288179159164  and accuracy is =  0.8646812957157785\n",
            "At step  50  and at epoch =  67  the loss is =  0.039703063666820526  and accuracy is =  0.8654127481713688\n",
            "At step  50  and at epoch =  68  the loss is =  0.040173232555389404  and accuracy is =  0.8640543364681296\n",
            "At step  50  and at epoch =  69  the loss is =  0.04033768177032471  and accuracy is =  0.8612330198537095\n",
            "task: 50 train accuracy = 0.8464\n",
            "task: 50 test accuracy = 0.6136666666666667\n"
          ],
          "name": "stdout"
        },
        {
          "output_type": "display_data",
          "data": {
            "image/png": "[encoded data removed]",
            "text/plain": [
              "<Figure size 432x288 with 2 Axes>"
            ]
          },
          "metadata": {
            "tags": []
          }
        },
        {
          "output_type": "stream",
          "text": [
            "At step  60  and at epoch =  0  the loss is =  0.056634481996297836  and accuracy is =  0.415959595959596\n",
            "At step  60  and at epoch =  1  the loss is =  0.06521689891815186  and accuracy is =  0.45595959595959595\n",
            "At step  60  and at epoch =  2  the loss is =  0.05011214315891266  and accuracy is =  0.48494949494949496\n",
            "At step  60  and at epoch =  3  the loss is =  0.051445528864860535  and accuracy is =  0.5143434343434343\n",
            "At step  60  and at epoch =  4  the loss is =  0.05092301964759827  and accuracy is =  0.535050505050505\n",
            "At step  60  and at epoch =  5  the loss is =  0.062151968479156494  and accuracy is =  0.5430303030303031\n",
            "At step  60  and at epoch =  6  the loss is =  0.053095798939466476  and accuracy is =  0.5631313131313131\n",
            "At step  60  and at epoch =  7  the loss is =  0.05884891748428345  and accuracy is =  0.5703030303030303\n",
            "At step  60  and at epoch =  8  the loss is =  0.0583098866045475  and accuracy is =  0.5838383838383838\n",
            "At step  60  and at epoch =  9  the loss is =  0.05750928074121475  and accuracy is =  0.5942424242424242\n",
            "At step  60  and at epoch =  10  the loss is =  0.06122489273548126  and accuracy is =  0.5962626262626263\n",
            "At step  60  and at epoch =  11  the loss is =  0.05241713300347328  and accuracy is =  0.6025252525252526\n",
            "At step  60  and at epoch =  12  the loss is =  0.0566704086959362  and accuracy is =  0.612020202020202\n",
            "At step  60  and at epoch =  13  the loss is =  0.05331209674477577  and accuracy is =  0.6131313131313131\n",
            "At step  60  and at epoch =  14  the loss is =  0.049099162220954895  and accuracy is =  0.618989898989899\n",
            "At step  60  and at epoch =  15  the loss is =  0.053122248500585556  and accuracy is =  0.6374747474747475\n",
            "At step  60  and at epoch =  16  the loss is =  0.05396053194999695  and accuracy is =  0.633030303030303\n",
            "At step  60  and at epoch =  17  the loss is =  0.054114241153001785  and accuracy is =  0.6370707070707071\n",
            "At step  60  and at epoch =  18  the loss is =  0.05783911421895027  and accuracy is =  0.6415151515151515\n",
            "At step  60  and at epoch =  19  the loss is =  0.05801326408982277  and accuracy is =  0.6487878787878788\n",
            "At step  60  and at epoch =  20  the loss is =  0.049517322331666946  and accuracy is =  0.6548484848484849\n",
            "At step  60  and at epoch =  21  the loss is =  0.05782562121748924  and accuracy is =  0.6554545454545454\n",
            "At step  60  and at epoch =  22  the loss is =  0.05065710097551346  and accuracy is =  0.6585858585858586\n",
            "At step  60  and at epoch =  23  the loss is =  0.054834671318531036  and accuracy is =  0.6602020202020202\n",
            "At step  60  and at epoch =  24  the loss is =  0.05702262744307518  and accuracy is =  0.6572727272727272\n",
            "At step  60  and at epoch =  25  the loss is =  0.05364247411489487  and accuracy is =  0.6691919191919192\n",
            "At step  60  and at epoch =  26  the loss is =  0.04717202112078667  and accuracy is =  0.6656565656565656\n",
            "At step  60  and at epoch =  27  the loss is =  0.047543004155159  and accuracy is =  0.6758585858585858\n",
            "At step  60  and at epoch =  28  the loss is =  0.056488197296857834  and accuracy is =  0.6772727272727272\n",
            "At step  60  and at epoch =  29  the loss is =  0.0602547861635685  and accuracy is =  0.6836363636363636\n",
            "At step  60  and at epoch =  30  the loss is =  0.04379839822649956  and accuracy is =  0.6809090909090909\n",
            "At step  60  and at epoch =  31  the loss is =  0.04858188331127167  and accuracy is =  0.6843434343434344\n",
            "At step  60  and at epoch =  32  the loss is =  0.05143070966005325  and accuracy is =  0.6812121212121212\n",
            "At step  60  and at epoch =  33  the loss is =  0.05731263756752014  and accuracy is =  0.6810101010101011\n",
            "At step  60  and at epoch =  34  the loss is =  0.05715104565024376  and accuracy is =  0.6885858585858586\n",
            "At step  60  and at epoch =  35  the loss is =  0.05488743260502815  and accuracy is =  0.6917171717171717\n",
            "At step  60  and at epoch =  36  the loss is =  0.057389408349990845  and accuracy is =  0.69\n",
            "At step  60  and at epoch =  37  the loss is =  0.04543669894337654  and accuracy is =  0.6845454545454546\n",
            "At step  60  and at epoch =  38  the loss is =  0.04814092069864273  and accuracy is =  0.6985858585858585\n",
            "At step  60  and at epoch =  39  the loss is =  0.05782252922654152  and accuracy is =  0.7006060606060606\n",
            "At step  60  and at epoch =  40  the loss is =  0.05438568443059921  and accuracy is =  0.696969696969697\n",
            "At step  60  and at epoch =  41  the loss is =  0.05753694102168083  and accuracy is =  0.7012121212121212\n",
            "At step  60  and at epoch =  42  the loss is =  0.05703551694750786  and accuracy is =  0.6966666666666667\n",
            "At step  60  and at epoch =  43  the loss is =  0.0549897775053978  and accuracy is =  0.6994949494949495\n",
            "At step  60  and at epoch =  44  the loss is =  0.06142757833003998  and accuracy is =  0.7044444444444444\n",
            "At step  60  and at epoch =  45  the loss is =  0.05658935755491257  and accuracy is =  0.702020202020202\n",
            "At step  60  and at epoch =  46  the loss is =  0.05670071393251419  and accuracy is =  0.7081818181818181\n",
            "At step  60  and at epoch =  47  the loss is =  0.04769061878323555  and accuracy is =  0.7133333333333334\n",
            "At step  60  and at epoch =  48  the loss is =  0.0537637397646904  and accuracy is =  0.7259595959595959\n",
            "At step  60  and at epoch =  49  the loss is =  0.04918238893151283  and accuracy is =  0.7624242424242424\n",
            "At step  60  and at epoch =  50  the loss is =  0.046903762966394424  and accuracy is =  0.7748484848484849\n",
            "At step  60  and at epoch =  51  the loss is =  0.04815499857068062  and accuracy is =  0.7885858585858586\n",
            "At step  60  and at epoch =  52  the loss is =  0.0470656156539917  and accuracy is =  0.7875757575757576\n",
            "At step  60  and at epoch =  53  the loss is =  0.04665789008140564  and accuracy is =  0.7907070707070707\n",
            "At step  60  and at epoch =  54  the loss is =  0.04150977358222008  and accuracy is =  0.7981818181818182\n",
            "At step  60  and at epoch =  55  the loss is =  0.04741176962852478  and accuracy is =  0.7927272727272727\n",
            "At step  60  and at epoch =  56  the loss is =  0.0540822297334671  and accuracy is =  0.8018181818181818\n",
            "At step  60  and at epoch =  57  the loss is =  0.052423108369112015  and accuracy is =  0.8021212121212121\n",
            "At step  60  and at epoch =  58  the loss is =  0.04993012920022011  and accuracy is =  0.8080808080808081\n",
            "At step  60  and at epoch =  59  the loss is =  0.05067342519760132  and accuracy is =  0.8084848484848485\n",
            "At step  60  and at epoch =  60  the loss is =  0.04919426515698433  and accuracy is =  0.8135353535353536\n",
            "At step  60  and at epoch =  61  the loss is =  0.04696932062506676  and accuracy is =  0.8127272727272727\n",
            "At step  60  and at epoch =  62  the loss is =  0.04809727892279625  and accuracy is =  0.8131313131313131\n",
            "At step  60  and at epoch =  63  the loss is =  0.043833620846271515  and accuracy is =  0.8222222222222222\n",
            "At step  60  and at epoch =  64  the loss is =  0.057820145040750504  and accuracy is =  0.8218181818181818\n",
            "At step  60  and at epoch =  65  the loss is =  0.04856085404753685  and accuracy is =  0.8264646464646465\n",
            "At step  60  and at epoch =  66  the loss is =  0.04701360687613487  and accuracy is =  0.8236363636363636\n",
            "At step  60  and at epoch =  67  the loss is =  0.053908172994852066  and accuracy is =  0.8267676767676768\n",
            "At step  60  and at epoch =  68  the loss is =  0.0418250747025013  and accuracy is =  0.8276767676767677\n",
            "At step  60  and at epoch =  69  the loss is =  0.04400060325860977  and accuracy is =  0.8228282828282828\n",
            "task: 60 train accuracy = 0.825\n",
            "task: 60 test accuracy = 0.5825714285714285\n"
          ],
          "name": "stdout"
        },
        {
          "output_type": "display_data",
          "data": {
            "image/png": "[encoded data removed]",
            "text/plain": [
              "<Figure size 432x288 with 2 Axes>"
            ]
          },
          "metadata": {
            "tags": []
          }
        },
        {
          "output_type": "stream",
          "text": [
            "At step  70  and at epoch =  0  the loss is =  0.05978542938828468  and accuracy is =  0.4088321884200196\n",
            "At step  70  and at epoch =  1  the loss is =  0.06885889917612076  and accuracy is =  0.49646712463199216\n",
            "At step  70  and at epoch =  2  the loss is =  0.06614070385694504  and accuracy is =  0.5406280667320903\n",
            "At step  70  and at epoch =  3  the loss is =  0.06487462669610977  and accuracy is =  0.5773307163886163\n",
            "At step  70  and at epoch =  4  the loss is =  0.061123307794332504  and accuracy is =  0.5975466143277723\n",
            "At step  70  and at epoch =  5  the loss is =  0.05642439424991608  and accuracy is =  0.6115799803729146\n",
            "At step  70  and at epoch =  6  the loss is =  0.06310288608074188  and accuracy is =  0.6342492639842984\n",
            "At step  70  and at epoch =  7  the loss is =  0.05560189113020897  and accuracy is =  0.6404317958783121\n",
            "At step  70  and at epoch =  8  the loss is =  0.05899195000529289  and accuracy is =  0.6466143277723259\n",
            "At step  70  and at epoch =  9  the loss is =  0.058925777673721313  and accuracy is =  0.6590775269872424\n",
            "At step  70  and at epoch =  10  the loss is =  0.061615001410245895  and accuracy is =  0.6691854759568204\n",
            "At step  70  and at epoch =  11  the loss is =  0.05797671526670456  and accuracy is =  0.6719332679097154\n",
            "At step  70  and at epoch =  12  the loss is =  0.06127409264445305  and accuracy is =  0.6741903827281649\n",
            "At step  70  and at epoch =  13  the loss is =  0.06014886498451233  and accuracy is =  0.6852796859666339\n",
            "At step  70  and at epoch =  14  the loss is =  0.05669015645980835  and accuracy is =  0.6905789990186457\n",
            "At step  70  and at epoch =  15  the loss is =  0.060034289956092834  and accuracy is =  0.6929342492639843\n",
            "At step  70  and at epoch =  16  the loss is =  0.06379126012325287  and accuracy is =  0.6971540726202159\n",
            "At step  70  and at epoch =  17  the loss is =  0.060245007276535034  and accuracy is =  0.7001962708537782\n",
            "At step  70  and at epoch =  18  the loss is =  0.06651246547698975  and accuracy is =  0.7085377821393523\n",
            "At step  70  and at epoch =  19  the loss is =  0.0640791580080986  and accuracy is =  0.7097154072620215\n",
            "At step  70  and at epoch =  20  the loss is =  0.052650388330221176  and accuracy is =  0.6997055937193327\n",
            "At step  70  and at epoch =  21  the loss is =  0.06217940151691437  and accuracy is =  0.7177625122669283\n",
            "At step  70  and at epoch =  22  the loss is =  0.05601887032389641  and accuracy is =  0.718351324828263\n",
            "At step  70  and at epoch =  23  the loss is =  0.06159935146570206  and accuracy is =  0.7168792934249264\n",
            "At step  70  and at epoch =  24  the loss is =  0.062308888882398605  and accuracy is =  0.7209028459273797\n",
            "At step  70  and at epoch =  25  the loss is =  0.06259840726852417  and accuracy is =  0.7245338567222768\n",
            "At step  70  and at epoch =  26  the loss is =  0.06294957548379898  and accuracy is =  0.7223748773307164\n",
            "At step  70  and at epoch =  27  the loss is =  0.061709560453891754  and accuracy is =  0.7334641805691855\n",
            "At step  70  and at epoch =  28  the loss is =  0.06339452415704727  and accuracy is =  0.7305201177625122\n",
            "At step  70  and at epoch =  29  the loss is =  0.05820930004119873  and accuracy is =  0.7342492639842984\n",
            "At step  70  and at epoch =  30  the loss is =  0.05113693326711655  and accuracy is =  0.7369970559371933\n",
            "At step  70  and at epoch =  31  the loss is =  0.062408484518527985  and accuracy is =  0.7327772325809617\n",
            "At step  70  and at epoch =  32  the loss is =  0.05816120281815529  and accuracy is =  0.7344455348380765\n",
            "At step  70  and at epoch =  33  the loss is =  0.05532252788543701  and accuracy is =  0.7399411187438666\n",
            "At step  70  and at epoch =  34  the loss is =  0.056927941739559174  and accuracy is =  0.7350343473994112\n",
            "At step  70  and at epoch =  35  the loss is =  0.05344177782535553  and accuracy is =  0.7334641805691855\n",
            "At step  70  and at epoch =  36  the loss is =  0.06840737909078598  and accuracy is =  0.7378802747791953\n",
            "At step  70  and at epoch =  37  the loss is =  0.05965817719697952  and accuracy is =  0.7437684003925417\n",
            "At step  70  and at epoch =  38  the loss is =  0.05717388913035393  and accuracy is =  0.7463199214916585\n",
            "At step  70  and at epoch =  39  the loss is =  0.05269725248217583  and accuracy is =  0.7431795878312071\n",
            "At step  70  and at epoch =  40  the loss is =  0.05688310042023659  and accuracy is =  0.7497546614327772\n",
            "At step  70  and at epoch =  41  the loss is =  0.058009251952171326  and accuracy is =  0.7491658488714426\n",
            "At step  70  and at epoch =  42  the loss is =  0.05920403078198433  and accuracy is =  0.758783120706575\n",
            "At step  70  and at epoch =  43  the loss is =  0.05976352468132973  and accuracy is =  0.7503434739941118\n",
            "At step  70  and at epoch =  44  the loss is =  0.05928199738264084  and accuracy is =  0.7532875368007851\n",
            "At step  70  and at epoch =  45  the loss is =  0.06043046712875366  and accuracy is =  0.7533856722276742\n",
            "At step  70  and at epoch =  46  the loss is =  0.062254540622234344  and accuracy is =  0.7471050049067713\n",
            "At step  70  and at epoch =  47  the loss is =  0.060535870492458344  and accuracy is =  0.7509322865554465\n",
            "At step  70  and at epoch =  48  the loss is =  0.05585813522338867  and accuracy is =  0.7583905789990186\n",
            "At step  70  and at epoch =  49  the loss is =  0.054761189967393875  and accuracy is =  0.7957801766437684\n",
            "At step  70  and at epoch =  50  the loss is =  0.054779503494501114  and accuracy is =  0.8146221786064769\n",
            "At step  70  and at epoch =  51  the loss is =  0.050712667405605316  and accuracy is =  0.8205103042198234\n",
            "At step  70  and at epoch =  52  the loss is =  0.05234608054161072  and accuracy is =  0.8241413150147203\n",
            "At step  70  and at epoch =  53  the loss is =  0.05259641259908676  and accuracy is =  0.8234543670264965\n",
            "At step  70  and at epoch =  54  the loss is =  0.05347951129078865  and accuracy is =  0.825711481844946\n",
            "At step  70  and at epoch =  55  the loss is =  0.04902394488453865  and accuracy is =  0.8278704612365064\n",
            "At step  70  and at epoch =  56  the loss is =  0.05188916251063347  and accuracy is =  0.8314033366045143\n",
            "At step  70  and at epoch =  57  the loss is =  0.04939998313784599  and accuracy is =  0.8342492639842983\n",
            "At step  70  and at epoch =  58  the loss is =  0.05541662499308586  and accuracy is =  0.8355250245338567\n",
            "At step  70  and at epoch =  59  the loss is =  0.05147409066557884  and accuracy is =  0.8341511285574092\n",
            "At step  70  and at epoch =  60  the loss is =  0.05484308674931526  and accuracy is =  0.8373895976447497\n",
            "At step  70  and at epoch =  61  the loss is =  0.04958861321210861  and accuracy is =  0.8369970559371933\n",
            "At step  70  and at epoch =  62  the loss is =  0.048500336706638336  and accuracy is =  0.8346418056918548\n",
            "At step  70  and at epoch =  63  the loss is =  0.05955784022808075  and accuracy is =  0.839450441609421\n",
            "At step  70  and at epoch =  64  the loss is =  0.05447500944137573  and accuracy is =  0.8417075564278704\n",
            "At step  70  and at epoch =  65  the loss is =  0.052176736295223236  and accuracy is =  0.8386653581943081\n",
            "At step  70  and at epoch =  66  the loss is =  0.057822439819574356  and accuracy is =  0.8423945044160942\n",
            "At step  70  and at epoch =  67  the loss is =  0.048108071088790894  and accuracy is =  0.8480863591756624\n",
            "At step  70  and at epoch =  68  the loss is =  0.05494268611073494  and accuracy is =  0.8416094210009814\n",
            "At step  70  and at epoch =  69  the loss is =  0.05766662210226059  and accuracy is =  0.8427870461236506\n",
            "task: 70 train accuracy = 0.8314\n",
            "task: 70 test accuracy = 0.563875\n"
          ],
          "name": "stdout"
        },
        {
          "output_type": "display_data",
          "data": {
            "image/png": "[encoded data removed]",
            "text/plain": [
              "<Figure size 432x288 with 2 Axes>"
            ]
          },
          "metadata": {
            "tags": []
          }
        },
        {
          "output_type": "stream",
          "text": [
            "At step  80  and at epoch =  0  the loss is =  0.07345347106456757  and accuracy is =  0.4165708812260536\n",
            "At step  80  and at epoch =  1  the loss is =  0.07345559448003769  and accuracy is =  0.4814176245210728\n",
            "At step  80  and at epoch =  2  the loss is =  0.07786306738853455  and accuracy is =  0.5171455938697318\n",
            "At step  80  and at epoch =  3  the loss is =  0.07260922342538834  and accuracy is =  0.5434865900383141\n",
            "At step  80  and at epoch =  4  the loss is =  0.0720619410276413  and accuracy is =  0.5620689655172414\n",
            "At step  80  and at epoch =  5  the loss is =  0.07376109063625336  and accuracy is =  0.5798850574712644\n",
            "At step  80  and at epoch =  6  the loss is =  0.07720989733934402  and accuracy is =  0.5915708812260536\n",
            "At step  80  and at epoch =  7  the loss is =  0.06754349172115326  and accuracy is =  0.596360153256705\n",
            "At step  80  and at epoch =  8  the loss is =  0.07603361457586288  and accuracy is =  0.6099616858237548\n",
            "At step  80  and at epoch =  9  the loss is =  0.0716528445482254  and accuracy is =  0.6181992337164751\n",
            "At step  80  and at epoch =  10  the loss is =  0.06860137730836868  and accuracy is =  0.6279693486590038\n",
            "At step  80  and at epoch =  11  the loss is =  0.06834913045167923  and accuracy is =  0.6307471264367817\n",
            "At step  80  and at epoch =  12  the loss is =  0.06551606953144073  and accuracy is =  0.6404214559386974\n",
            "At step  80  and at epoch =  13  the loss is =  0.06984324008226395  and accuracy is =  0.642816091954023\n",
            "At step  80  and at epoch =  14  the loss is =  0.06752721965312958  and accuracy is =  0.6475095785440613\n",
            "At step  80  and at epoch =  15  the loss is =  0.07165555655956268  and accuracy is =  0.6547892720306513\n",
            "At step  80  and at epoch =  16  the loss is =  0.06360792368650436  and accuracy is =  0.6568007662835249\n",
            "At step  80  and at epoch =  17  the loss is =  0.06973415613174438  and accuracy is =  0.6578544061302682\n",
            "At step  80  and at epoch =  18  the loss is =  0.07375611364841461  and accuracy is =  0.6736590038314176\n",
            "At step  80  and at epoch =  19  the loss is =  0.06981724500656128  and accuracy is =  0.6657088122605364\n",
            "At step  80  and at epoch =  20  the loss is =  0.06956186890602112  and accuracy is =  0.6700191570881227\n",
            "At step  80  and at epoch =  21  the loss is =  0.0668434128165245  and accuracy is =  0.6804597701149425\n",
            "At step  80  and at epoch =  22  the loss is =  0.05863003432750702  and accuracy is =  0.6880268199233717\n",
            "At step  80  and at epoch =  23  the loss is =  0.06735749542713165  and accuracy is =  0.6833333333333333\n",
            "At step  80  and at epoch =  24  the loss is =  0.06643176823854446  and accuracy is =  0.6853448275862069\n",
            "At step  80  and at epoch =  25  the loss is =  0.06545412540435791  and accuracy is =  0.6836206896551724\n",
            "At step  80  and at epoch =  26  the loss is =  0.06014654412865639  and accuracy is =  0.6875478927203065\n",
            "At step  80  and at epoch =  27  the loss is =  0.06425666809082031  and accuracy is =  0.688984674329502\n",
            "At step  80  and at epoch =  28  the loss is =  0.06614352017641068  and accuracy is =  0.6931034482758621\n",
            "At step  80  and at epoch =  29  the loss is =  0.06589756906032562  and accuracy is =  0.6917624521072797\n",
            "At step  80  and at epoch =  30  the loss is =  0.06167834252119064  and accuracy is =  0.6990421455938697\n",
            "At step  80  and at epoch =  31  the loss is =  0.06745212525129318  and accuracy is =  0.6958812260536399\n",
            "At step  80  and at epoch =  32  the loss is =  0.07097314298152924  and accuracy is =  0.6976053639846743\n",
            "At step  80  and at epoch =  33  the loss is =  0.06808988749980927  and accuracy is =  0.7\n",
            "At step  80  and at epoch =  34  the loss is =  0.06635380536317825  and accuracy is =  0.7129310344827586\n",
            "At step  80  and at epoch =  35  the loss is =  0.06961775571107864  and accuracy is =  0.7028735632183908\n",
            "At step  80  and at epoch =  36  the loss is =  0.0652010515332222  and accuracy is =  0.7020114942528736\n",
            "At step  80  and at epoch =  37  the loss is =  0.06206293776631355  and accuracy is =  0.7194444444444444\n",
            "At step  80  and at epoch =  38  the loss is =  0.062243781983852386  and accuracy is =  0.7088122605363985\n",
            "At step  80  and at epoch =  39  the loss is =  0.06993716210126877  and accuracy is =  0.7118773946360153\n",
            "At step  80  and at epoch =  40  the loss is =  0.07680171728134155  and accuracy is =  0.7040229885057471\n",
            "At step  80  and at epoch =  41  the loss is =  0.06282617151737213  and accuracy is =  0.7115900383141762\n",
            "At step  80  and at epoch =  42  the loss is =  0.06894668191671371  and accuracy is =  0.7132183908045977\n",
            "At step  80  and at epoch =  43  the loss is =  0.064118891954422  and accuracy is =  0.7146551724137931\n",
            "At step  80  and at epoch =  44  the loss is =  0.06541136652231216  and accuracy is =  0.7246168582375478\n",
            "At step  80  and at epoch =  45  the loss is =  0.06701591610908508  and accuracy is =  0.7165708812260536\n",
            "At step  80  and at epoch =  46  the loss is =  0.07138393819332123  and accuracy is =  0.7260536398467433\n",
            "At step  80  and at epoch =  47  the loss is =  0.06483887135982513  and accuracy is =  0.7228927203065134\n",
            "At step  80  and at epoch =  48  the loss is =  0.06500284373760223  and accuracy is =  0.7244252873563218\n",
            "At step  80  and at epoch =  49  the loss is =  0.0668276697397232  and accuracy is =  0.7702107279693486\n",
            "At step  80  and at epoch =  50  the loss is =  0.056391239166259766  and accuracy is =  0.7836206896551724\n",
            "At step  80  and at epoch =  51  the loss is =  0.06140747293829918  and accuracy is =  0.7887931034482759\n",
            "At step  80  and at epoch =  52  the loss is =  0.058979399502277374  and accuracy is =  0.7942528735632184\n",
            "At step  80  and at epoch =  53  the loss is =  0.061764687299728394  and accuracy is =  0.8012452107279694\n",
            "At step  80  and at epoch =  54  the loss is =  0.06339205056428909  and accuracy is =  0.7984674329501916\n",
            "At step  80  and at epoch =  55  the loss is =  0.061332255601882935  and accuracy is =  0.8026819923371648\n",
            "At step  80  and at epoch =  56  the loss is =  0.053974635899066925  and accuracy is =  0.8027777777777778\n",
            "At step  80  and at epoch =  57  the loss is =  0.05824454873800278  and accuracy is =  0.8065134099616859\n",
            "At step  80  and at epoch =  58  the loss is =  0.05931945517659187  and accuracy is =  0.8071839080459771\n",
            "At step  80  and at epoch =  59  the loss is =  0.06562159210443497  and accuracy is =  0.803448275862069\n",
            "At step  80  and at epoch =  60  the loss is =  0.05389784276485443  and accuracy is =  0.8101532567049808\n",
            "At step  80  and at epoch =  61  the loss is =  0.0660800039768219  and accuracy is =  0.8066091954022988\n",
            "At step  80  and at epoch =  62  the loss is =  0.06837683171033859  and accuracy is =  0.8126436781609195\n",
            "At step  80  and at epoch =  63  the loss is =  0.056922510266304016  and accuracy is =  0.8185823754789272\n",
            "At step  80  and at epoch =  64  the loss is =  0.05609290301799774  and accuracy is =  0.8140804597701149\n",
            "At step  80  and at epoch =  65  the loss is =  0.06286071240901947  and accuracy is =  0.8171455938697318\n",
            "At step  80  and at epoch =  66  the loss is =  0.05663170665502548  and accuracy is =  0.8243295019157089\n",
            "At step  80  and at epoch =  67  the loss is =  0.0617024227976799  and accuracy is =  0.8194444444444444\n",
            "At step  80  and at epoch =  68  the loss is =  0.06019360572099686  and accuracy is =  0.8222222222222222\n",
            "At step  80  and at epoch =  69  the loss is =  0.07174084335565567  and accuracy is =  0.821168582375479\n",
            "task: 80 train accuracy = 0.7926\n",
            "task: 80 test accuracy = 0.5288888888888889\n"
          ],
          "name": "stdout"
        },
        {
          "output_type": "display_data",
          "data": {
            "image/png": "[encoded data removed]",
            "text/plain": [
              "<Figure size 432x288 with 2 Axes>"
            ]
          },
          "metadata": {
            "tags": []
          }
        },
        {
          "output_type": "stream",
          "text": [
            "At step  90  and at epoch =  0  the loss is =  0.07890269160270691  and accuracy is =  0.42457786116322704\n",
            "At step  90  and at epoch =  1  the loss is =  0.08678707480430603  and accuracy is =  0.5040337711069418\n",
            "At step  90  and at epoch =  2  the loss is =  0.07180420309305191  and accuracy is =  0.5285178236397748\n",
            "At step  90  and at epoch =  3  the loss is =  0.07477344572544098  and accuracy is =  0.5531894934333959\n",
            "At step  90  and at epoch =  4  the loss is =  0.07369875907897949  and accuracy is =  0.5697936210131332\n",
            "At step  90  and at epoch =  5  the loss is =  0.06774802505970001  and accuracy is =  0.5867729831144465\n",
            "At step  90  and at epoch =  6  the loss is =  0.07269026339054108  and accuracy is =  0.5916510318949343\n",
            "At step  90  and at epoch =  7  the loss is =  0.0750788226723671  and accuracy is =  0.6045028142589118\n",
            "At step  90  and at epoch =  8  the loss is =  0.0848400741815567  and accuracy is =  0.6183864915572233\n",
            "At step  90  and at epoch =  9  the loss is =  0.07012587040662766  and accuracy is =  0.624202626641651\n",
            "At step  90  and at epoch =  10  the loss is =  0.07105500996112823  and accuracy is =  0.625234521575985\n",
            "At step  90  and at epoch =  11  the loss is =  0.06731478869915009  and accuracy is =  0.6394934333958724\n",
            "At step  90  and at epoch =  12  the loss is =  0.06530571728944778  and accuracy is =  0.6279549718574109\n",
            "At step  90  and at epoch =  13  the loss is =  0.064809650182724  and accuracy is =  0.6460600375234522\n",
            "At step  90  and at epoch =  14  the loss is =  0.06363844871520996  and accuracy is =  0.65\n",
            "At step  90  and at epoch =  15  the loss is =  0.08023318648338318  and accuracy is =  0.6592870544090056\n",
            "At step  90  and at epoch =  16  the loss is =  0.07045610249042511  and accuracy is =  0.6611632270168856\n",
            "At step  90  and at epoch =  17  the loss is =  0.07800345122814178  and accuracy is =  0.6621013133208256\n",
            "At step  90  and at epoch =  18  the loss is =  0.06615173816680908  and accuracy is =  0.6636022514071295\n",
            "At step  90  and at epoch =  19  the loss is =  0.07075555622577667  and accuracy is =  0.6645403377110695\n",
            "At step  90  and at epoch =  20  the loss is =  0.07254540175199509  and accuracy is =  0.6725140712945591\n",
            "At step  90  and at epoch =  21  the loss is =  0.07199637591838837  and accuracy is =  0.675046904315197\n",
            "At step  90  and at epoch =  22  the loss is =  0.07442183047533035  and accuracy is =  0.6766416510318949\n",
            "At step  90  and at epoch =  23  the loss is =  0.0676746740937233  and accuracy is =  0.674953095684803\n",
            "At step  90  and at epoch =  24  the loss is =  0.06721916794776917  and accuracy is =  0.6845215759849906\n",
            "At step  90  and at epoch =  25  the loss is =  0.060151293873786926  and accuracy is =  0.6866791744840526\n",
            "At step  90  and at epoch =  26  the loss is =  0.06851229071617126  and accuracy is =  0.6924015009380863\n",
            "At step  90  and at epoch =  27  the loss is =  0.06703036278486252  and accuracy is =  0.6892120075046905\n",
            "At step  90  and at epoch =  28  the loss is =  0.07491692900657654  and accuracy is =  0.6935272045028142\n",
            "At step  90  and at epoch =  29  the loss is =  0.07797439396381378  and accuracy is =  0.6884615384615385\n",
            "At step  90  and at epoch =  30  the loss is =  0.06834952533245087  and accuracy is =  0.6911819887429643\n",
            "At step  90  and at epoch =  31  the loss is =  0.0690777450799942  and accuracy is =  0.699249530956848\n",
            "At step  90  and at epoch =  32  the loss is =  0.07261446118354797  and accuracy is =  0.6955909943714822\n",
            "At step  90  and at epoch =  33  the loss is =  0.06715358793735504  and accuracy is =  0.6939024390243902\n",
            "At step  90  and at epoch =  34  the loss is =  0.07346761226654053  and accuracy is =  0.6969981238273921\n",
            "At step  90  and at epoch =  35  the loss is =  0.05532551184296608  and accuracy is =  0.7055347091932458\n",
            "At step  90  and at epoch =  36  the loss is =  0.0607457160949707  and accuracy is =  0.7028142589118199\n",
            "At step  90  and at epoch =  37  the loss is =  0.0846812054514885  and accuracy is =  0.7104127579737336\n",
            "At step  90  and at epoch =  38  the loss is =  0.06894099712371826  and accuracy is =  0.7021575984990619\n",
            "At step  90  and at epoch =  39  the loss is =  0.07384682446718216  and accuracy is =  0.7118198874296435\n",
            "At step  90  and at epoch =  40  the loss is =  0.07846041023731232  and accuracy is =  0.7097560975609756\n",
            "At step  90  and at epoch =  41  the loss is =  0.06374099105596542  and accuracy is =  0.7165103189493434\n",
            "At step  90  and at epoch =  42  the loss is =  0.07195192575454712  and accuracy is =  0.7036585365853658\n",
            "At step  90  and at epoch =  43  the loss is =  0.07438010722398758  and accuracy is =  0.7080675422138837\n",
            "At step  90  and at epoch =  44  the loss is =  0.07405617833137512  and accuracy is =  0.7166979362101313\n",
            "At step  90  and at epoch =  45  the loss is =  0.07304901629686356  and accuracy is =  0.7116322701688556\n",
            "At step  90  and at epoch =  46  the loss is =  0.0667840912938118  and accuracy is =  0.7113508442776736\n",
            "At step  90  and at epoch =  47  the loss is =  0.05694116652011871  and accuracy is =  0.7140712945590995\n",
            "At step  90  and at epoch =  48  the loss is =  0.0731600821018219  and accuracy is =  0.7199812382739212\n",
            "At step  90  and at epoch =  49  the loss is =  0.063179150223732  and accuracy is =  0.7623827392120075\n",
            "At step  90  and at epoch =  50  the loss is =  0.06884800642728806  and accuracy is =  0.7786116322701688\n",
            "At step  90  and at epoch =  51  the loss is =  0.06752024590969086  and accuracy is =  0.7808630393996248\n",
            "At step  90  and at epoch =  52  the loss is =  0.059240665286779404  and accuracy is =  0.7822701688555347\n",
            "At step  90  and at epoch =  53  the loss is =  0.06587957590818405  and accuracy is =  0.7897748592870544\n",
            "At step  90  and at epoch =  54  the loss is =  0.06340478360652924  and accuracy is =  0.7878048780487805\n",
            "At step  90  and at epoch =  55  the loss is =  0.05861730873584747  and accuracy is =  0.7918386491557223\n",
            "At step  90  and at epoch =  56  the loss is =  0.0700112134218216  and accuracy is =  0.7925891181988743\n",
            "At step  90  and at epoch =  57  the loss is =  0.055867668241262436  and accuracy is =  0.7969981238273921\n",
            "At step  90  and at epoch =  58  the loss is =  0.06366986036300659  and accuracy is =  0.7958724202626641\n",
            "At step  90  and at epoch =  59  the loss is =  0.06443549692630768  and accuracy is =  0.7962476547842402\n",
            "At step  90  and at epoch =  60  the loss is =  0.05368955805897713  and accuracy is =  0.7965290806754222\n",
            "At step  90  and at epoch =  61  the loss is =  0.06168592348694801  and accuracy is =  0.799343339587242\n",
            "At step  90  and at epoch =  62  the loss is =  0.06521984934806824  and accuracy is =  0.7965290806754222\n",
            "At step  90  and at epoch =  63  the loss is =  0.07694262266159058  and accuracy is =  0.8039399624765479\n",
            "At step  90  and at epoch =  64  the loss is =  0.06397546827793121  and accuracy is =  0.8049718574108818\n",
            "At step  90  and at epoch =  65  the loss is =  0.06502954661846161  and accuracy is =  0.8083489681050656\n",
            "At step  90  and at epoch =  66  the loss is =  0.0574113167822361  and accuracy is =  0.8050656660412758\n",
            "At step  90  and at epoch =  67  the loss is =  0.06353505700826645  and accuracy is =  0.8056285178236398\n",
            "At step  90  and at epoch =  68  the loss is =  0.06916938722133636  and accuracy is =  0.8039399624765479\n",
            "At step  90  and at epoch =  69  the loss is =  0.07173395156860352  and accuracy is =  0.8039399624765479\n",
            "task: 90 train accuracy = 0.8\n",
            "task: 90 test accuracy = 0.5061\n"
          ],
          "name": "stdout"
        },
        {
          "output_type": "display_data",
          "data": {
            "image/png": "[encoded data removed]",
            "text/plain": [
              "<Figure size 432x288 with 2 Axes>"
            ]
          },
          "metadata": {
            "tags": []
          }
        }
      ]
    },
    {
      "cell_type": "code",
      "metadata": {
        "id": "Z4_a4Ut-Or2N",
        "colab_type": "code",
        "colab": {}
      },
      "source": [
        "accs = [.90,.80,.76,.69,.64,.58,.54,.52,.48,.46]"
      ],
      "execution_count": 11,
      "outputs": []
    },
    {
      "cell_type": "code",
      "metadata": {
        "id": "WAayIE_aPFWg",
        "colab_type": "code",
        "colab": {}
      },
      "source": [
        "import numpy as np\n",
        "import seaborn as sn\n",
        "import pandas as pd\n",
        "import matplotlib.pyplot as plt\n",
        "def plotTask(pars_tasks):\n",
        "\n",
        "  x_tasks =  np.linspace(10, 100, 10)\n",
        "\n",
        "  plt.plot(x_tasks, pars_tasks, label=['Accuracy'])\n",
        "  plt.xlabel(\"Epoch\")\n",
        "  plt.ylim(0,1)\n",
        "  plt.title('Accuracy over tasks')\n",
        "  plt.legend(['Accuracy'])\n",
        "  plt.grid(True)\n",
        "  plt.show()"
      ],
      "execution_count": 12,
      "outputs": []
    },
    {
      "cell_type": "code",
      "metadata": {
        "id": "2RnKOCdaPM9X",
        "colab_type": "code",
        "colab": {
          "base_uri": "https://localhost:8080/",
          "height": 282
        },
        "outputId": "d4b86250-28fc-42d1-81c0-ec07604c6195"
      },
      "source": [
        "plotTask(accs)"
      ],
      "execution_count": 13,
      "outputs": [
        {
          "output_type": "display_data",
          "data": {
            "image/png": "[encoded data removed]",
            "text/plain": [
              "<Figure size 432x288 with 1 Axes>"
            ]
          },
          "metadata": {
            "tags": []
          }
        }
      ]
    },
    {
      "cell_type": "code",
      "metadata": {
        "id": "06OjJ60-H0SI",
        "colab_type": "code",
        "colab": {
          "base_uri": "https://localhost:8080/",
          "height": 122
        },
        "outputId": "8f776b93-3572-4c3a-e599-dcc19040b25b"
      },
      "source": [
        "np.diagonal(cf)"
      ],
      "execution_count": 14,
      "outputs": [
        {
          "output_type": "execute_result",
          "data": {
            "text/plain": [
              "array([94, 62, 49, 88, 31, 73, 70, 52, 74, 91, 84, 37, 47, 66, 78, 55, 44,\n",
              "       58, 41, 80, 70, 62, 64, 53, 45, 44, 59, 62, 42, 55, 59, 66, 27, 60,\n",
              "       46, 59, 35, 42, 53, 67, 24, 51, 74, 15, 27, 26, 40, 65, 34, 37, 31,\n",
              "       48, 64, 25, 50, 45, 32, 43, 32, 28, 50, 60, 48, 45, 38, 48, 41, 67,\n",
              "       27, 12, 24, 48, 61, 50, 37, 64, 64, 43, 46, 29, 24, 43, 25, 49, 45,\n",
              "       33, 46, 31, 67, 53, 78, 55, 60, 71, 49, 35, 40, 69, 70, 81])"
            ]
          },
          "metadata": {
            "tags": []
          },
          "execution_count": 14
        }
      ]
    },
    {
      "cell_type": "code",
      "metadata": {
        "id": "jCn6mP7FH6w_",
        "colab_type": "code",
        "colab": {
          "base_uri": "https://localhost:8080/",
          "height": 158
        },
        "outputId": "e0756cef-8a84-4c5a-b1bf-ece28f517820"
      },
      "source": [
        "true = np.sum(cf, axis=1)\n",
        "true"
      ],
      "execution_count": 15,
      "outputs": [
        {
          "output_type": "execute_result",
          "data": {
            "text/plain": [
              "array([100, 100, 100, 100, 100, 100, 100, 100, 100, 100, 100, 100, 100,\n",
              "       100, 100, 100, 100, 100, 100, 100, 100, 100, 100, 100, 100, 100,\n",
              "       100, 100, 100, 100, 100, 100, 100, 100, 100, 100, 100, 100, 100,\n",
              "       100, 100, 100, 100, 100, 100, 100, 100, 100, 100, 100, 100, 100,\n",
              "       100, 100, 100, 100, 100, 100, 100, 100, 100, 100, 100, 100, 100,\n",
              "       100, 100, 100, 100, 100, 100, 100, 100, 100, 100, 100, 100, 100,\n",
              "       100, 100, 100, 100, 100, 100, 100, 100, 100, 100, 100, 100, 100,\n",
              "       100, 100, 100, 100, 100, 100, 100, 100, 100])"
            ]
          },
          "metadata": {
            "tags": []
          },
          "execution_count": 15
        }
      ]
    },
    {
      "cell_type": "code",
      "metadata": {
        "id": "5dzn4m6VIYfb",
        "colab_type": "code",
        "colab": {
          "base_uri": "https://localhost:8080/",
          "height": 158
        },
        "outputId": "98adba00-6637-4b63-f7d9-fae701e65f10"
      },
      "source": [
        "pred = np.sum(cf, axis=0)\n",
        "pred"
      ],
      "execution_count": 16,
      "outputs": [
        {
          "output_type": "execute_result",
          "data": {
            "text/plain": [
              "array([129, 110, 157, 144,  80,  86, 126, 109, 137, 146, 101, 149,  85,\n",
              "       118,  99,  95,  67,  99,  87, 110,  83, 108,  82,  89,  60,  65,\n",
              "        86,  98,  85,  83,  98, 101, 108,  79, 143,  82,  82,  92, 114,\n",
              "        89,  81,  75, 133,  73, 142,  70,  67,  92,  65,  65,  88,  78,\n",
              "       101,  83,  83,  84,  62, 109, 105, 132,  91, 118,  99,  77, 103,\n",
              "        87, 101, 122, 137,  92,  80,  94,  76,  64,  70, 121,  84, 125,\n",
              "       111,  87, 124,  65,  63,  91, 107,  58, 126,  71, 157,  77,  96,\n",
              "       149, 189, 116, 115, 138, 126, 110, 113, 121])"
            ]
          },
          "metadata": {
            "tags": []
          },
          "execution_count": 16
        }
      ]
    },
    {
      "cell_type": "code",
      "metadata": {
        "id": "S1QrlS0-Xiga",
        "colab_type": "code",
        "colab": {}
      },
      "source": [
        "pred = np.array([137,  98, 142, 112,  39,  82, 116,  96, 145, 112,  84, 110,  59,\n",
        "        96,  73,  78,  50,  91,  98,  92,  64, 109,  91,  72,  38,  70,\n",
        "        76,  81,  89, 102,  81, 116,  72,  59, 177,  59,  62,  63,  93,\n",
        "        90,  72,  79, 102,  52, 162,  68,  67,  80,  65,  98,  80,  65,\n",
        "        84,  96, 121,  53,  77, 136,  69, 103,  76,  94, 109,  79, 126,\n",
        "        61, 126, 106, 182,  68, 122,  94,  90,  80,  80, 159,  98, 132,\n",
        "       145,  88, 170,  77,  79,  78, 131,  74, 149,  70, 149, 114, 102,\n",
        "       172, 212, 134, 124, 187, 189, 114, 126, 131])"
      ],
      "execution_count": 17,
      "outputs": []
    },
    {
      "cell_type": "code",
      "metadata": {
        "id": "UlRx8JD01HDc",
        "colab_type": "code",
        "colab": {
          "base_uri": "https://localhost:8080/",
          "height": 1000
        },
        "outputId": "9afaf57f-af81-4085-a405-3656afb6b65e"
      },
      "source": [
        "i = 0\n",
        "for el, name in zip(pred,trainDS.__getClassesNames__()) :\n",
        "  print('classe', i, 'name', name, ',preds', el)\n",
        "  i+=1"
      ],
      "execution_count": 18,
      "outputs": [
        {
          "output_type": "stream",
          "text": [
            "classe 0 name apple ,preds 137\n",
            "classe 1 name aquarium_fish ,preds 98\n",
            "classe 2 name baby ,preds 142\n",
            "classe 3 name bear ,preds 112\n",
            "classe 4 name beaver ,preds 39\n",
            "classe 5 name bed ,preds 82\n",
            "classe 6 name bee ,preds 116\n",
            "classe 7 name beetle ,preds 96\n",
            "classe 8 name bicycle ,preds 145\n",
            "classe 9 name bottle ,preds 112\n",
            "classe 10 name bowl ,preds 84\n",
            "classe 11 name boy ,preds 110\n",
            "classe 12 name bridge ,preds 59\n",
            "classe 13 name bus ,preds 96\n",
            "classe 14 name butterfly ,preds 73\n",
            "classe 15 name camel ,preds 78\n",
            "classe 16 name can ,preds 50\n",
            "classe 17 name castle ,preds 91\n",
            "classe 18 name caterpillar ,preds 98\n",
            "classe 19 name cattle ,preds 92\n",
            "classe 20 name chair ,preds 64\n",
            "classe 21 name chimpanzee ,preds 109\n",
            "classe 22 name clock ,preds 91\n",
            "classe 23 name cloud ,preds 72\n",
            "classe 24 name cockroach ,preds 38\n",
            "classe 25 name couch ,preds 70\n",
            "classe 26 name crab ,preds 76\n",
            "classe 27 name crocodile ,preds 81\n",
            "classe 28 name cup ,preds 89\n",
            "classe 29 name dinosaur ,preds 102\n",
            "classe 30 name dolphin ,preds 81\n",
            "classe 31 name elephant ,preds 116\n",
            "classe 32 name flatfish ,preds 72\n",
            "classe 33 name forest ,preds 59\n",
            "classe 34 name fox ,preds 177\n",
            "classe 35 name girl ,preds 59\n",
            "classe 36 name hamster ,preds 62\n",
            "classe 37 name house ,preds 63\n",
            "classe 38 name kangaroo ,preds 93\n",
            "classe 39 name keyboard ,preds 90\n",
            "classe 40 name lamp ,preds 72\n",
            "classe 41 name lawn_mower ,preds 79\n",
            "classe 42 name leopard ,preds 102\n",
            "classe 43 name lion ,preds 52\n",
            "classe 44 name lizard ,preds 162\n",
            "classe 45 name lobster ,preds 68\n",
            "classe 46 name man ,preds 67\n",
            "classe 47 name maple_tree ,preds 80\n",
            "classe 48 name motorcycle ,preds 65\n",
            "classe 49 name mountain ,preds 98\n",
            "classe 50 name mouse ,preds 80\n",
            "classe 51 name mushroom ,preds 65\n",
            "classe 52 name oak_tree ,preds 84\n",
            "classe 53 name orange ,preds 96\n",
            "classe 54 name orchid ,preds 121\n",
            "classe 55 name otter ,preds 53\n",
            "classe 56 name palm_tree ,preds 77\n",
            "classe 57 name pear ,preds 136\n",
            "classe 58 name pickup_truck ,preds 69\n",
            "classe 59 name pine_tree ,preds 103\n",
            "classe 60 name plain ,preds 76\n",
            "classe 61 name plate ,preds 94\n",
            "classe 62 name poppy ,preds 109\n",
            "classe 63 name porcupine ,preds 79\n",
            "classe 64 name possum ,preds 126\n",
            "classe 65 name rabbit ,preds 61\n",
            "classe 66 name raccoon ,preds 126\n",
            "classe 67 name ray ,preds 106\n",
            "classe 68 name road ,preds 182\n",
            "classe 69 name rocket ,preds 68\n",
            "classe 70 name rose ,preds 122\n",
            "classe 71 name sea ,preds 94\n",
            "classe 72 name seal ,preds 90\n",
            "classe 73 name shark ,preds 80\n",
            "classe 74 name shrew ,preds 80\n",
            "classe 75 name skunk ,preds 159\n",
            "classe 76 name skyscraper ,preds 98\n",
            "classe 77 name snail ,preds 132\n",
            "classe 78 name snake ,preds 145\n",
            "classe 79 name spider ,preds 88\n",
            "classe 80 name squirrel ,preds 170\n",
            "classe 81 name streetcar ,preds 77\n",
            "classe 82 name sunflower ,preds 79\n",
            "classe 83 name sweet_pepper ,preds 78\n",
            "classe 84 name table ,preds 131\n",
            "classe 85 name tank ,preds 74\n",
            "classe 86 name telephone ,preds 149\n",
            "classe 87 name television ,preds 70\n",
            "classe 88 name tiger ,preds 149\n",
            "classe 89 name tractor ,preds 114\n",
            "classe 90 name train ,preds 102\n",
            "classe 91 name trout ,preds 172\n",
            "classe 92 name tulip ,preds 212\n",
            "classe 93 name turtle ,preds 134\n",
            "classe 94 name wardrobe ,preds 124\n",
            "classe 95 name whale ,preds 187\n",
            "classe 96 name willow_tree ,preds 189\n",
            "classe 97 name wolf ,preds 114\n",
            "classe 98 name woman ,preds 126\n",
            "classe 99 name worm ,preds 131\n"
          ],
          "name": "stdout"
        }
      ]
    },
    {
      "cell_type": "code",
      "metadata": {
        "id": "FeuEDFid1qOE",
        "colab_type": "code",
        "colab": {
          "base_uri": "https://localhost:8080/",
          "height": 193
        },
        "outputId": "e5856db0-5baa-4713-d7ec-26629678a3fa"
      },
      "source": [
        "train_splits"
      ],
      "execution_count": 19,
      "outputs": [
        {
          "output_type": "execute_result",
          "data": {
            "text/plain": [
              "[[94.0, 63.0, 74.0, 21.0, 35.0, 56.0, 91.0, 96.0, 87.0, 48.0],\n",
              " [68.0, 80.0, 22.0, 37.0, 60.0, 97.0, 51.0, 62.0, 92.0, 76.0],\n",
              " [75.0, 89.0, 23.0, 99.0, 39.0, 66.0, 54.0, 69.0, 84.0, 61.0],\n",
              " [85.0, 24.0, 98.0, 41.0, 73.0, 58.0, 78.0, 77.0, 70.0, 49.0],\n",
              " [65.0, 88.0, 36.0, 93.0, 45.0, 10.0, 90.0, 17.0, 32.0, 59.0],\n",
              " [83.0, 43.0, 53.0, 11.0, 86.0, 19.0, 38.0, 30.0, 40.0, 50.0],\n",
              " [57.0, 81.0, 12.0, 95.0, 25.0, 47.0, 34.0, 52.0, 44.0, 72.0],\n",
              " [46.0, 79.0, 20.0, 28.0, 5.0, 71.0, 8.0, 18.0, 33.0, 15.0],\n",
              " [55.0, 29.0, 64.0, 31.0, 67.0, 7.0, 13.0, 14.0, 42.0, 6.0],\n",
              " [82.0, 2.0, 27.0, 16.0, 26.0, 3.0, 4.0, 1.0, 9.0, 0.0]]"
            ]
          },
          "metadata": {
            "tags": []
          },
          "execution_count": 19
        }
      ]
    },
    {
      "cell_type": "code",
      "metadata": {
        "id": "Y3bivRc41rd5",
        "colab_type": "code",
        "colab": {
          "base_uri": "https://localhost:8080/",
          "height": 1000
        },
        "outputId": "9f2d196e-9865-4e4a-f318-bf22e0b4676a"
      },
      "source": [
        "trainDS.__getClassesNames__()"
      ],
      "execution_count": 20,
      "outputs": [
        {
          "output_type": "execute_result",
          "data": {
            "text/plain": [
              "['apple',\n",
              " 'aquarium_fish',\n",
              " 'baby',\n",
              " 'bear',\n",
              " 'beaver',\n",
              " 'bed',\n",
              " 'bee',\n",
              " 'beetle',\n",
              " 'bicycle',\n",
              " 'bottle',\n",
              " 'bowl',\n",
              " 'boy',\n",
              " 'bridge',\n",
              " 'bus',\n",
              " 'butterfly',\n",
              " 'camel',\n",
              " 'can',\n",
              " 'castle',\n",
              " 'caterpillar',\n",
              " 'cattle',\n",
              " 'chair',\n",
              " 'chimpanzee',\n",
              " 'clock',\n",
              " 'cloud',\n",
              " 'cockroach',\n",
              " 'couch',\n",
              " 'crab',\n",
              " 'crocodile',\n",
              " 'cup',\n",
              " 'dinosaur',\n",
              " 'dolphin',\n",
              " 'elephant',\n",
              " 'flatfish',\n",
              " 'forest',\n",
              " 'fox',\n",
              " 'girl',\n",
              " 'hamster',\n",
              " 'house',\n",
              " 'kangaroo',\n",
              " 'keyboard',\n",
              " 'lamp',\n",
              " 'lawn_mower',\n",
              " 'leopard',\n",
              " 'lion',\n",
              " 'lizard',\n",
              " 'lobster',\n",
              " 'man',\n",
              " 'maple_tree',\n",
              " 'motorcycle',\n",
              " 'mountain',\n",
              " 'mouse',\n",
              " 'mushroom',\n",
              " 'oak_tree',\n",
              " 'orange',\n",
              " 'orchid',\n",
              " 'otter',\n",
              " 'palm_tree',\n",
              " 'pear',\n",
              " 'pickup_truck',\n",
              " 'pine_tree',\n",
              " 'plain',\n",
              " 'plate',\n",
              " 'poppy',\n",
              " 'porcupine',\n",
              " 'possum',\n",
              " 'rabbit',\n",
              " 'raccoon',\n",
              " 'ray',\n",
              " 'road',\n",
              " 'rocket',\n",
              " 'rose',\n",
              " 'sea',\n",
              " 'seal',\n",
              " 'shark',\n",
              " 'shrew',\n",
              " 'skunk',\n",
              " 'skyscraper',\n",
              " 'snail',\n",
              " 'snake',\n",
              " 'spider',\n",
              " 'squirrel',\n",
              " 'streetcar',\n",
              " 'sunflower',\n",
              " 'sweet_pepper',\n",
              " 'table',\n",
              " 'tank',\n",
              " 'telephone',\n",
              " 'television',\n",
              " 'tiger',\n",
              " 'tractor',\n",
              " 'train',\n",
              " 'trout',\n",
              " 'tulip',\n",
              " 'turtle',\n",
              " 'wardrobe',\n",
              " 'whale',\n",
              " 'willow_tree',\n",
              " 'wolf',\n",
              " 'woman',\n",
              " 'worm']"
            ]
          },
          "metadata": {
            "tags": []
          },
          "execution_count": 20
        }
      ]
    }
  ]
}