{
  "nbformat": 4,
  "nbformat_minor": 0,
  "metadata": {
    "colab": {
      "name": "Copy of ICaRLMain.ipynb",
      "provenance": [],
      "collapsed_sections": [],
      "include_colab_link": true
    },
    "kernelspec": {
      "name": "python3",
      "display_name": "Python 3"
    },
    "accelerator": "GPU",
    "widgets": {
      "application/vnd.jupyter.widget-state+json": {
        "60bab9890c77440f837ec36f03262ed3": {
          "model_module": "@jupyter-widgets/controls",
          "model_name": "HBoxModel",
          "state": {
            "_view_name": "HBoxView",
            "_dom_classes": [],
            "_model_name": "HBoxModel",
            "_view_module": "@jupyter-widgets/controls",
            "_model_module_version": "1.5.0",
            "_view_count": null,
            "_view_module_version": "1.5.0",
            "box_style": "",
            "layout": "IPY_MODEL_06f19ba16942401e9d13be70c2c6acf8",
            "_model_module": "@jupyter-widgets/controls",
            "children": [
              "IPY_MODEL_84d152b9f51d4dcdb156e3e1c7bbb33e",
              "IPY_MODEL_4812b59f5d854227940aea37e9fe2005"
            ]
          }
        },
        "06f19ba16942401e9d13be70c2c6acf8": {
          "model_module": "@jupyter-widgets/base",
          "model_name": "LayoutModel",
          "state": {
            "_view_name": "LayoutView",
            "grid_template_rows": null,
            "right": null,
            "justify_content": null,
            "_view_module": "@jupyter-widgets/base",
            "overflow": null,
            "_model_module_version": "1.2.0",
            "_view_count": null,
            "flex_flow": null,
            "width": null,
            "min_width": null,
            "border": null,
            "align_items": null,
            "bottom": null,
            "_model_module": "@jupyter-widgets/base",
            "top": null,
            "grid_column": null,
            "overflow_y": null,
            "overflow_x": null,
            "grid_auto_flow": null,
            "grid_area": null,
            "grid_template_columns": null,
            "flex": null,
            "_model_name": "LayoutModel",
            "justify_items": null,
            "grid_row": null,
            "max_height": null,
            "align_content": null,
            "visibility": null,
            "align_self": null,
            "height": null,
            "min_height": null,
            "padding": null,
            "grid_auto_rows": null,
            "grid_gap": null,
            "max_width": null,
            "order": null,
            "_view_module_version": "1.2.0",
            "grid_template_areas": null,
            "object_position": null,
            "object_fit": null,
            "grid_auto_columns": null,
            "margin": null,
            "display": null,
            "left": null
          }
        },
        "84d152b9f51d4dcdb156e3e1c7bbb33e": {
          "model_module": "@jupyter-widgets/controls",
          "model_name": "FloatProgressModel",
          "state": {
            "_view_name": "ProgressView",
            "style": "IPY_MODEL_d627e5140bc04e8b95b4d25bacd671e2",
            "_dom_classes": [],
            "description": "",
            "_model_name": "FloatProgressModel",
            "bar_style": "success",
            "max": 1,
            "_view_module": "@jupyter-widgets/controls",
            "_model_module_version": "1.5.0",
            "value": 1,
            "_view_count": null,
            "_view_module_version": "1.5.0",
            "orientation": "horizontal",
            "min": 0,
            "description_tooltip": null,
            "_model_module": "@jupyter-widgets/controls",
            "layout": "IPY_MODEL_82face3ff0b7473c8426d2c3551568d3"
          }
        },
        "4812b59f5d854227940aea37e9fe2005": {
          "model_module": "@jupyter-widgets/controls",
          "model_name": "HTMLModel",
          "state": {
            "_view_name": "HTMLView",
            "style": "IPY_MODEL_583d78ba56e24fb4a29ceea71061a052",
            "_dom_classes": [],
            "description": "",
            "_model_name": "HTMLModel",
            "placeholder": "​",
            "_view_module": "@jupyter-widgets/controls",
            "_model_module_version": "1.5.0",
            "value": " 169009152/? [00:09&lt;00:00, 17134988.16it/s]",
            "_view_count": null,
            "_view_module_version": "1.5.0",
            "description_tooltip": null,
            "_model_module": "@jupyter-widgets/controls",
            "layout": "IPY_MODEL_f1c50c5ecf524be1997a2535aa653ba7"
          }
        },
        "d627e5140bc04e8b95b4d25bacd671e2": {
          "model_module": "@jupyter-widgets/controls",
          "model_name": "ProgressStyleModel",
          "state": {
            "_view_name": "StyleView",
            "_model_name": "ProgressStyleModel",
            "description_width": "initial",
            "_view_module": "@jupyter-widgets/base",
            "_model_module_version": "1.5.0",
            "_view_count": null,
            "_view_module_version": "1.2.0",
            "bar_color": null,
            "_model_module": "@jupyter-widgets/controls"
          }
        },
        "82face3ff0b7473c8426d2c3551568d3": {
          "model_module": "@jupyter-widgets/base",
          "model_name": "LayoutModel",
          "state": {
            "_view_name": "LayoutView",
            "grid_template_rows": null,
            "right": null,
            "justify_content": null,
            "_view_module": "@jupyter-widgets/base",
            "overflow": null,
            "_model_module_version": "1.2.0",
            "_view_count": null,
            "flex_flow": null,
            "width": null,
            "min_width": null,
            "border": null,
            "align_items": null,
            "bottom": null,
            "_model_module": "@jupyter-widgets/base",
            "top": null,
            "grid_column": null,
            "overflow_y": null,
            "overflow_x": null,
            "grid_auto_flow": null,
            "grid_area": null,
            "grid_template_columns": null,
            "flex": null,
            "_model_name": "LayoutModel",
            "justify_items": null,
            "grid_row": null,
            "max_height": null,
            "align_content": null,
            "visibility": null,
            "align_self": null,
            "height": null,
            "min_height": null,
            "padding": null,
            "grid_auto_rows": null,
            "grid_gap": null,
            "max_width": null,
            "order": null,
            "_view_module_version": "1.2.0",
            "grid_template_areas": null,
            "object_position": null,
            "object_fit": null,
            "grid_auto_columns": null,
            "margin": null,
            "display": null,
            "left": null
          }
        },
        "583d78ba56e24fb4a29ceea71061a052": {
          "model_module": "@jupyter-widgets/controls",
          "model_name": "DescriptionStyleModel",
          "state": {
            "_view_name": "StyleView",
            "_model_name": "DescriptionStyleModel",
            "description_width": "",
            "_view_module": "@jupyter-widgets/base",
            "_model_module_version": "1.5.0",
            "_view_count": null,
            "_view_module_version": "1.2.0",
            "_model_module": "@jupyter-widgets/controls"
          }
        },
        "f1c50c5ecf524be1997a2535aa653ba7": {
          "model_module": "@jupyter-widgets/base",
          "model_name": "LayoutModel",
          "state": {
            "_view_name": "LayoutView",
            "grid_template_rows": null,
            "right": null,
            "justify_content": null,
            "_view_module": "@jupyter-widgets/base",
            "overflow": null,
            "_model_module_version": "1.2.0",
            "_view_count": null,
            "flex_flow": null,
            "width": null,
            "min_width": null,
            "border": null,
            "align_items": null,
            "bottom": null,
            "_model_module": "@jupyter-widgets/base",
            "top": null,
            "grid_column": null,
            "overflow_y": null,
            "overflow_x": null,
            "grid_auto_flow": null,
            "grid_area": null,
            "grid_template_columns": null,
            "flex": null,
            "_model_name": "LayoutModel",
            "justify_items": null,
            "grid_row": null,
            "max_height": null,
            "align_content": null,
            "visibility": null,
            "align_self": null,
            "height": null,
            "min_height": null,
            "padding": null,
            "grid_auto_rows": null,
            "grid_gap": null,
            "max_width": null,
            "order": null,
            "_view_module_version": "1.2.0",
            "grid_template_areas": null,
            "object_position": null,
            "object_fit": null,
            "grid_auto_columns": null,
            "margin": null,
            "display": null,
            "left": null
          }
        }
      }
    }
  },
  "cells": [
    {
      "cell_type": "markdown",
      "metadata": {
        "id": "view-in-github",
        "colab_type": "text"
      },
      "source": [
        "<a href=\"https://colab.research.google.com/github/luciainnocenti/IncrementalLearning/blob/improvement_Lucia2/ICaRLMain.ipynb\" target=\"_parent\"><img src=\"https://colab.research.google.com/assets/colab-badge.svg\" alt=\"Open In Colab\"/></a>"
      ]
    },
    {
      "cell_type": "markdown",
      "metadata": {
        "id": "OLMLAOPyrR1K",
        "colab_type": "text"
      },
      "source": [
        "# Import GitHub repository"
      ]
    },
    {
      "cell_type": "code",
      "metadata": {
        "id": "3LqwZJLUlcYH",
        "colab_type": "code",
        "colab": {}
      },
      "source": [
        "import os\n",
        "import logging\n",
        "import sys"
      ],
      "execution_count": 1,
      "outputs": []
    },
    {
      "cell_type": "code",
      "metadata": {
        "id": "PVa_FlnxrXIk",
        "colab_type": "code",
        "colab": {
          "base_uri": "https://localhost:8080/",
          "height": 136
        },
        "outputId": "eff89491-975a-436b-d09e-38758c420cce"
      },
      "source": [
        "if not os.path.isdir('./DatasetCIFAR'):\n",
        "  !git clone -b improvement_Lucia2 https://github.com/luciainnocenti/IncrementalLearning.git\n",
        "  !mv 'IncrementalLearning' 'DatasetCIFAR'"
      ],
      "execution_count": 2,
      "outputs": [
        {
          "output_type": "stream",
          "text": [
            "Cloning into 'IncrementalLearning'...\n",
            "remote: Enumerating objects: 150, done.\u001b[K\n",
            "remote: Counting objects: 100% (150/150), done.\u001b[K\n",
            "remote: Compressing objects: 100% (150/150), done.\u001b[K\n",
            "remote: Total 1724 (delta 88), reused 0 (delta 0), pack-reused 1574\u001b[K\n",
            "Receiving objects: 100% (1724/1724), 2.20 MiB | 742.00 KiB/s, done.\n",
            "Resolving deltas: 100% (1096/1096), done.\n"
          ],
          "name": "stdout"
        }
      ]
    },
    {
      "cell_type": "markdown",
      "metadata": {
        "id": "XXQyHMXzrZ5A",
        "colab_type": "text"
      },
      "source": [
        "# Import packages"
      ]
    },
    {
      "cell_type": "code",
      "metadata": {
        "id": "c24pdNxurdv1",
        "colab_type": "code",
        "colab": {
          "base_uri": "https://localhost:8080/",
          "height": 51
        },
        "outputId": "9ef1f2ba-5bb0-40c7-8fed-bdc78d4f32ee"
      },
      "source": [
        "from DatasetCIFAR.data_set import Dataset \n",
        "from DatasetCIFAR.data_set import Subset\n",
        "from DatasetCIFAR import ResNet\n",
        "from DatasetCIFAR import utils\n",
        "from DatasetCIFAR import params\n",
        "from DatasetCIFAR import ICaRLModel\n",
        "from torchvision import models\n",
        "import torch.nn as nn\n",
        "import torch\n",
        "import torch.optim as optim\n",
        "import torchvision\n",
        "import numpy as np\n",
        "import seaborn as sn\n",
        "import pandas as pd\n",
        "import matplotlib.pyplot as plt\n",
        "from sklearn.metrics import confusion_matrix\n",
        "\n",
        "from torchvision import transforms\n",
        "from torch.utils.data import DataLoader\n",
        "from torch.nn import functional as F\n",
        "import random\n",
        "random.seed(params.SEED)"
      ],
      "execution_count": 3,
      "outputs": [
        {
          "output_type": "stream",
          "text": [
            "/usr/local/lib/python3.6/dist-packages/statsmodels/tools/_testing.py:19: FutureWarning: pandas.util.testing is deprecated. Use the functions in the public API at pandas.testing instead.\n",
            "  import pandas.util.testing as tm\n"
          ],
          "name": "stderr"
        }
      ]
    },
    {
      "cell_type": "code",
      "metadata": {
        "id": "r2rkcBbIKfUQ",
        "colab_type": "code",
        "colab": {
          "base_uri": "https://localhost:8080/",
          "height": 51
        },
        "outputId": "6b2a219e-7b66-4a3a-dd4b-931625929537"
      },
      "source": [
        "print(params.SEED)\n",
        "print(params.NUM_WORKERS)"
      ],
      "execution_count": 4,
      "outputs": [
        {
          "output_type": "stream",
          "text": [
            "653\n",
            "4\n"
          ],
          "name": "stdout"
        }
      ]
    },
    {
      "cell_type": "markdown",
      "metadata": {
        "id": "1FlAkShyryrf",
        "colab_type": "text"
      },
      "source": [
        "# Define Datasets"
      ]
    },
    {
      "cell_type": "code",
      "metadata": {
        "id": "AP2iR2vl3Wiz",
        "colab_type": "code",
        "colab": {}
      },
      "source": [
        "train_transformer = transforms.Compose([transforms.RandomCrop(size = 32, padding=4),\n",
        "                                         transforms.RandomHorizontalFlip(),\n",
        "                                         transforms.ToTensor(),\n",
        "                                         transforms.Normalize((0.5, 0.5, 0.5), (0.5, 0.5, 0.5))\n",
        "])\n",
        "\n",
        "test_transformer = transforms.Compose([transforms.ToTensor(),\n",
        "                                         transforms.Normalize((0.5, 0.5, 0.5), (0.5, 0.5, 0.5))\n",
        "])"
      ],
      "execution_count": 5,
      "outputs": []
    },
    {
      "cell_type": "code",
      "metadata": {
        "id": "1CSNk0NlrvAL",
        "colab_type": "code",
        "colab": {
          "base_uri": "https://localhost:8080/",
          "height": 100,
          "referenced_widgets": [
            "60bab9890c77440f837ec36f03262ed3",
            "06f19ba16942401e9d13be70c2c6acf8",
            "84d152b9f51d4dcdb156e3e1c7bbb33e",
            "4812b59f5d854227940aea37e9fe2005",
            "d627e5140bc04e8b95b4d25bacd671e2",
            "82face3ff0b7473c8426d2c3551568d3",
            "583d78ba56e24fb4a29ceea71061a052",
            "f1c50c5ecf524be1997a2535aa653ba7"
          ]
        },
        "outputId": "8dd100e5-ac96-4db5-fd7b-3bf2d36d0eaf"
      },
      "source": [
        "trainDS = Dataset(train=True)\n",
        "testDS = Dataset(train=False)"
      ],
      "execution_count": 6,
      "outputs": [
        {
          "output_type": "stream",
          "text": [
            "Downloading https://www.cs.toronto.edu/~kriz/cifar-100-python.tar.gz to data/cifar-100-python.tar.gz\n"
          ],
          "name": "stdout"
        },
        {
          "output_type": "display_data",
          "data": {
            "application/vnd.jupyter.widget-view+json": {
              "model_id": "60bab9890c77440f837ec36f03262ed3",
              "version_minor": 0,
              "version_major": 2
            },
            "text/plain": [
              "HBox(children=(FloatProgress(value=1.0, bar_style='info', max=1.0), HTML(value='')))"
            ]
          },
          "metadata": {
            "tags": []
          }
        },
        {
          "output_type": "stream",
          "text": [
            "Extracting data/cifar-100-python.tar.gz to data\n",
            "Files already downloaded and verified\n"
          ],
          "name": "stdout"
        }
      ]
    },
    {
      "cell_type": "code",
      "metadata": {
        "id": "W3ge3VayryJL",
        "colab_type": "code",
        "colab": {}
      },
      "source": [
        "train_splits = trainDS.splits\n",
        "test_splits = testDS.splits"
      ],
      "execution_count": 7,
      "outputs": []
    },
    {
      "cell_type": "markdown",
      "metadata": {
        "id": "AzxTlFF_rkfe",
        "colab_type": "text"
      },
      "source": [
        "# Define Network"
      ]
    },
    {
      "cell_type": "code",
      "metadata": {
        "id": "rgZtPkiPrmQK",
        "colab_type": "code",
        "colab": {
          "base_uri": "https://localhost:8080/",
          "height": 34
        },
        "outputId": "c529ee28-82ac-42f7-9be8-f0cdd5df26a9"
      },
      "source": [
        "ICaRL = ResNet.resnet32(num_classes=100)\n",
        "ICaRL =  ICaRL.to(params.DEVICE)"
      ],
      "execution_count": 8,
      "outputs": [
        {
          "output_type": "stream",
          "text": [
            "\n"
          ],
          "name": "stdout"
        }
      ]
    },
    {
      "cell_type": "code",
      "metadata": {
        "id": "CI8EyFmpOikN",
        "colab_type": "code",
        "colab": {}
      },
      "source": [
        "exemplars = [None]*100\n",
        "\n",
        "test_indexes =  []\n",
        "accs = []"
      ],
      "execution_count": 9,
      "outputs": []
    },
    {
      "cell_type": "code",
      "metadata": {
        "id": "fcFjbBGrOMz6",
        "colab_type": "code",
        "colab": {
          "base_uri": "https://localhost:8080/",
          "height": 1000
        },
        "outputId": "859d12a5-392b-4390-e5d5-71e386f3c073"
      },
      "source": [
        "for task in range(0, 100, params.TASK_SIZE):\n",
        "  train_indexes = trainDS.__getIndexesGroups__(task)\n",
        "  test_indexes = test_indexes + testDS.__getIndexesGroups__(task)\n",
        "\n",
        "  train_dataset = Subset(trainDS, train_indexes, transform = train_transformer)\n",
        "  test_dataset = Subset(testDS, test_indexes, transform = test_transformer)\n",
        "\n",
        "  train_loader = DataLoader( train_dataset, num_workers=params.NUM_WORKERS, batch_size=params.BATCH_SIZE, shuffle=True)\n",
        "  test_loader = DataLoader( test_dataset, num_workers=params.NUM_WORKERS, batch_size=params.BATCH_SIZE , shuffle=True )\n",
        "  \n",
        "  ICaRL, exemplars = ICaRLModel.incrementalTrain(task, trainDS, ICaRL, exemplars, train_transformer)\n",
        "\n",
        "  col = []\n",
        "  for i,x in enumerate( train_splits[ :int(task/10) + 1]) : \n",
        "    v = np.array(x)\n",
        "    col = np.concatenate( (col,v), axis = None)\n",
        "    col = col.astype(int)\n",
        "  mean = None\n",
        "  total = 0.0\n",
        "  running_corrects = 0.0\n",
        "  for img, lbl, _ in train_loader:\n",
        "      img = img.float().to(params.DEVICE)\n",
        "      preds, mean = ICaRLModel.classify(img, exemplars, ICaRL, task, trainDS, mean)\n",
        "      preds = preds.to(params.DEVICE)\n",
        "      labels = utils.mapFunction(lbl, col).to(params.DEVICE)\n",
        "\n",
        "      total += len(lbl)\n",
        "      running_corrects += torch.sum(preds == labels.data).data.item()\n",
        "\n",
        "  accuracy = float(running_corrects/total)\n",
        "  print(f'task: {task}', f'train accuracy = {accuracy}')\n",
        "  accs.append(accuracy)\n",
        "\n",
        "  total = 0.0\n",
        "  running_corrects = 0.0\n",
        "  tot_preds = []\n",
        "  tot_lab = []\n",
        "  for img, lbl, _ in test_loader:\n",
        "      img = img.float().to(params.DEVICE)\n",
        "      preds, _ = ICaRLModel.classify(img, exemplars, ICaRL, task, trainDS, mean)\n",
        "      preds = preds.to(params.DEVICE)\n",
        "      labels = utils.mapFunction(lbl, col).to(params.DEVICE)\n",
        "\n",
        "      tot_preds = np.concatenate( ( tot_preds, preds.data.cpu().numpy() ) )\n",
        "      tot_lab = np.concatenate( (tot_lab, labels.data.cpu().numpy()  ) )\n",
        "\n",
        "      total += len(lbl)\n",
        "      running_corrects += torch.sum(preds == labels.data).data.item()\n",
        "\n",
        "  accuracy = float(running_corrects/total)\n",
        "  print(f'task: {task}', f'test accuracy = {accuracy}')\n",
        "  cf = confusion_matrix(tot_lab, tot_preds)\n",
        "  df_cm = pd.DataFrame(cf, range(task + params.TASK_SIZE), range(task + params.TASK_SIZE))\n",
        "  sn.set(font_scale = .5) # for label size\n",
        "  sn.heatmap(df_cm, annot=False)\n",
        "  plt.show()"
      ],
      "execution_count": 10,
      "outputs": [
        {
          "output_type": "stream",
          "text": [
            "At step  0  and at epoch =  0  the loss is =  0.03364010155200958  and accuracy is =  0.1588\n",
            "At step  0  and at epoch =  1  the loss is =  0.033587899059057236  and accuracy is =  0.349\n",
            "At step  0  and at epoch =  2  the loss is =  0.020905598998069763  and accuracy is =  0.4794\n",
            "At step  0  and at epoch =  3  the loss is =  0.014216865412890911  and accuracy is =  0.543\n",
            "At step  0  and at epoch =  4  the loss is =  0.011078710667788982  and accuracy is =  0.5914\n",
            "At step  0  and at epoch =  5  the loss is =  0.022685445845127106  and accuracy is =  0.6192\n",
            "At step  0  and at epoch =  6  the loss is =  0.01937151327729225  and accuracy is =  0.638\n",
            "At step  0  and at epoch =  7  the loss is =  0.020210005342960358  and accuracy is =  0.6746\n",
            "At step  0  and at epoch =  8  the loss is =  0.017571579664945602  and accuracy is =  0.6622\n",
            "At step  0  and at epoch =  9  the loss is =  0.02171386405825615  and accuracy is =  0.71\n",
            "At step  0  and at epoch =  10  the loss is =  0.014421495608985424  and accuracy is =  0.7098\n",
            "At step  0  and at epoch =  11  the loss is =  0.022348731756210327  and accuracy is =  0.7384\n",
            "At step  0  and at epoch =  12  the loss is =  0.017995625734329224  and accuracy is =  0.754\n",
            "At step  0  and at epoch =  13  the loss is =  0.031322870403528214  and accuracy is =  0.7278\n",
            "At step  0  and at epoch =  14  the loss is =  0.00692377332597971  and accuracy is =  0.7618\n",
            "At step  0  and at epoch =  15  the loss is =  0.013609594665467739  and accuracy is =  0.7828\n",
            "At step  0  and at epoch =  16  the loss is =  0.011616353876888752  and accuracy is =  0.7858\n",
            "At step  0  and at epoch =  17  the loss is =  0.02746715024113655  and accuracy is =  0.7854\n",
            "At step  0  and at epoch =  18  the loss is =  0.01606045849621296  and accuracy is =  0.7912\n",
            "At step  0  and at epoch =  19  the loss is =  0.02672955021262169  and accuracy is =  0.8092\n",
            "At step  0  and at epoch =  20  the loss is =  0.006628651637583971  and accuracy is =  0.8042\n",
            "At step  0  and at epoch =  21  the loss is =  0.008857167325913906  and accuracy is =  0.8266\n",
            "At step  0  and at epoch =  22  the loss is =  0.0042332750745117664  and accuracy is =  0.8336\n",
            "At step  0  and at epoch =  23  the loss is =  0.004811475984752178  and accuracy is =  0.8442\n",
            "At step  0  and at epoch =  24  the loss is =  0.022080888971686363  and accuracy is =  0.8446\n",
            "At step  0  and at epoch =  25  the loss is =  0.013756119646131992  and accuracy is =  0.822\n",
            "At step  0  and at epoch =  26  the loss is =  0.013959664851427078  and accuracy is =  0.8316\n",
            "At step  0  and at epoch =  27  the loss is =  0.021549338474869728  and accuracy is =  0.8298\n",
            "At step  0  and at epoch =  28  the loss is =  0.021795643493533134  and accuracy is =  0.8118\n",
            "At step  0  and at epoch =  29  the loss is =  0.020881839096546173  and accuracy is =  0.8468\n",
            "At step  0  and at epoch =  30  the loss is =  0.0019910456612706184  and accuracy is =  0.8618\n",
            "At step  0  and at epoch =  31  the loss is =  0.002915190299972892  and accuracy is =  0.8824\n",
            "At step  0  and at epoch =  32  the loss is =  0.01262553408741951  and accuracy is =  0.8854\n",
            "At step  0  and at epoch =  33  the loss is =  0.0066126990132033825  and accuracy is =  0.8654\n",
            "At step  0  and at epoch =  34  the loss is =  0.008036009036004543  and accuracy is =  0.8722\n",
            "At step  0  and at epoch =  35  the loss is =  0.019530098885297775  and accuracy is =  0.8588\n",
            "At step  0  and at epoch =  36  the loss is =  0.007116385735571384  and accuracy is =  0.8594\n",
            "At step  0  and at epoch =  37  the loss is =  0.005037838127464056  and accuracy is =  0.889\n",
            "At step  0  and at epoch =  38  the loss is =  0.004964781925082207  and accuracy is =  0.9004\n",
            "At step  0  and at epoch =  39  the loss is =  0.00909951888024807  and accuracy is =  0.902\n",
            "At step  0  and at epoch =  40  the loss is =  0.021301111206412315  and accuracy is =  0.89\n",
            "At step  0  and at epoch =  41  the loss is =  0.017854681238532066  and accuracy is =  0.8578\n",
            "At step  0  and at epoch =  42  the loss is =  0.00800356175750494  and accuracy is =  0.888\n",
            "At step  0  and at epoch =  43  the loss is =  0.014455705881118774  and accuracy is =  0.8842\n",
            "At step  0  and at epoch =  44  the loss is =  0.03246361389756203  and accuracy is =  0.8744\n",
            "At step  0  and at epoch =  45  the loss is =  0.013171512633562088  and accuracy is =  0.8804\n",
            "At step  0  and at epoch =  46  the loss is =  0.01866278611123562  and accuracy is =  0.8962\n",
            "At step  0  and at epoch =  47  the loss is =  0.009649308398365974  and accuracy is =  0.8844\n",
            "At step  0  and at epoch =  48  the loss is =  0.006948073860257864  and accuracy is =  0.9036\n",
            "At step  0  and at epoch =  49  the loss is =  0.014280436560511589  and accuracy is =  0.9336\n",
            "At step  0  and at epoch =  50  the loss is =  0.0011436230270192027  and accuracy is =  0.9486\n",
            "At step  0  and at epoch =  51  the loss is =  0.0009940180461853743  and accuracy is =  0.9542\n",
            "At step  0  and at epoch =  52  the loss is =  0.00305934832431376  and accuracy is =  0.9538\n",
            "At step  0  and at epoch =  53  the loss is =  0.009449190460145473  and accuracy is =  0.9538\n",
            "At step  0  and at epoch =  54  the loss is =  0.002297935076057911  and accuracy is =  0.955\n",
            "At step  0  and at epoch =  55  the loss is =  0.01041084062308073  and accuracy is =  0.9602\n",
            "At step  0  and at epoch =  56  the loss is =  0.006556713953614235  and accuracy is =  0.9568\n",
            "At step  0  and at epoch =  57  the loss is =  0.014096363447606564  and accuracy is =  0.9578\n",
            "At step  0  and at epoch =  58  the loss is =  0.004271050449460745  and accuracy is =  0.9526\n",
            "At step  0  and at epoch =  59  the loss is =  0.02462044358253479  and accuracy is =  0.9612\n",
            "At step  0  and at epoch =  60  the loss is =  0.01207621581852436  and accuracy is =  0.9512\n",
            "At step  0  and at epoch =  61  the loss is =  0.01834646612405777  and accuracy is =  0.9612\n",
            "At step  0  and at epoch =  62  the loss is =  0.00460902601480484  and accuracy is =  0.949\n",
            "At step  0  and at epoch =  63  the loss is =  0.0057427226565778255  and accuracy is =  0.9648\n",
            "At step  0  and at epoch =  64  the loss is =  0.003799840109422803  and accuracy is =  0.9706\n",
            "At step  0  and at epoch =  65  the loss is =  0.007588871754705906  and accuracy is =  0.97\n",
            "At step  0  and at epoch =  66  the loss is =  0.007840362377464771  and accuracy is =  0.9684\n",
            "At step  0  and at epoch =  67  the loss is =  0.00241738255135715  and accuracy is =  0.9714\n",
            "At step  0  and at epoch =  68  the loss is =  0.0043605295941233635  and accuracy is =  0.974\n",
            "At step  0  and at epoch =  69  the loss is =  0.0016814711270853877  and accuracy is =  0.971\n",
            "task: 0 train accuracy = 0.9786\n",
            "task: 0 test accuracy = 0.891\n"
          ],
          "name": "stdout"
        },
        {
          "output_type": "display_data",
          "data": {
            "image/png": "[encoded data removed]",
            "text/plain": [
              "<Figure size 432x288 with 2 Axes>"
            ]
          },
          "metadata": {
            "tags": []
          }
        },
        {
          "output_type": "stream",
          "text": [
            "At step  10  and at epoch =  0  the loss is =  0.030563462525606155  and accuracy is =  0.2935714285714286\n",
            "At step  10  and at epoch =  1  the loss is =  0.02839851751923561  and accuracy is =  0.38557142857142856\n",
            "At step  10  and at epoch =  2  the loss is =  0.027798740193247795  and accuracy is =  0.4667142857142857\n",
            "At step  10  and at epoch =  3  the loss is =  0.024307535961270332  and accuracy is =  0.5291428571428571\n",
            "At step  10  and at epoch =  4  the loss is =  0.02436373382806778  and accuracy is =  0.5654285714285714\n",
            "At step  10  and at epoch =  5  the loss is =  0.023604175075888634  and accuracy is =  0.5992857142857143\n",
            "At step  10  and at epoch =  6  the loss is =  0.024663414806127548  and accuracy is =  0.6234285714285714\n",
            "At step  10  and at epoch =  7  the loss is =  0.023106692358851433  and accuracy is =  0.6458571428571429\n",
            "At step  10  and at epoch =  8  the loss is =  0.020869998261332512  and accuracy is =  0.6617142857142857\n",
            "At step  10  and at epoch =  9  the loss is =  0.02293550968170166  and accuracy is =  0.6811428571428572\n",
            "At step  10  and at epoch =  10  the loss is =  0.024855293333530426  and accuracy is =  0.6902857142857143\n",
            "At step  10  and at epoch =  11  the loss is =  0.021117422729730606  and accuracy is =  0.7008571428571428\n",
            "At step  10  and at epoch =  12  the loss is =  0.019402725622057915  and accuracy is =  0.7028571428571428\n",
            "At step  10  and at epoch =  13  the loss is =  0.018036942929029465  and accuracy is =  0.7184285714285714\n",
            "At step  10  and at epoch =  14  the loss is =  0.021671585738658905  and accuracy is =  0.724\n",
            "At step  10  and at epoch =  15  the loss is =  0.01713535748422146  and accuracy is =  0.7368571428571429\n",
            "At step  10  and at epoch =  16  the loss is =  0.024579904973506927  and accuracy is =  0.7392857142857143\n",
            "At step  10  and at epoch =  17  the loss is =  0.017090914770960808  and accuracy is =  0.7524285714285714\n",
            "At step  10  and at epoch =  18  the loss is =  0.018946168944239616  and accuracy is =  0.7531428571428571\n",
            "At step  10  and at epoch =  19  the loss is =  0.017006132751703262  and accuracy is =  0.7598571428571429\n",
            "At step  10  and at epoch =  20  the loss is =  0.022395800799131393  and accuracy is =  0.7735714285714286\n",
            "At step  10  and at epoch =  21  the loss is =  0.017711088061332703  and accuracy is =  0.7694285714285715\n",
            "At step  10  and at epoch =  22  the loss is =  0.020382322371006012  and accuracy is =  0.7767142857142857\n",
            "At step  10  and at epoch =  23  the loss is =  0.01765354909002781  and accuracy is =  0.7848571428571428\n",
            "At step  10  and at epoch =  24  the loss is =  0.019192466512322426  and accuracy is =  0.7945714285714286\n",
            "At step  10  and at epoch =  25  the loss is =  0.017063351348042488  and accuracy is =  0.7922857142857143\n",
            "At step  10  and at epoch =  26  the loss is =  0.018764089792966843  and accuracy is =  0.7937142857142857\n",
            "At step  10  and at epoch =  27  the loss is =  0.018254494294524193  and accuracy is =  0.8105714285714286\n",
            "At step  10  and at epoch =  28  the loss is =  0.01866035908460617  and accuracy is =  0.8055714285714286\n",
            "At step  10  and at epoch =  29  the loss is =  0.015698080882430077  and accuracy is =  0.8105714285714286\n",
            "At step  10  and at epoch =  30  the loss is =  0.018832851201295853  and accuracy is =  0.8062857142857143\n",
            "At step  10  and at epoch =  31  the loss is =  0.01673005521297455  and accuracy is =  0.8087142857142857\n",
            "At step  10  and at epoch =  32  the loss is =  0.016312789171934128  and accuracy is =  0.819\n",
            "At step  10  and at epoch =  33  the loss is =  0.015483011491596699  and accuracy is =  0.8127142857142857\n",
            "At step  10  and at epoch =  34  the loss is =  0.01791997440159321  and accuracy is =  0.8275714285714286\n",
            "At step  10  and at epoch =  35  the loss is =  0.01920776627957821  and accuracy is =  0.8268571428571428\n",
            "At step  10  and at epoch =  36  the loss is =  0.01875360682606697  and accuracy is =  0.8331428571428572\n",
            "At step  10  and at epoch =  37  the loss is =  0.017620867118239403  and accuracy is =  0.8275714285714286\n",
            "At step  10  and at epoch =  38  the loss is =  0.015205563977360725  and accuracy is =  0.836\n",
            "At step  10  and at epoch =  39  the loss is =  0.01598646305501461  and accuracy is =  0.8364285714285714\n",
            "At step  10  and at epoch =  40  the loss is =  0.016660252586007118  and accuracy is =  0.8488571428571429\n",
            "At step  10  and at epoch =  41  the loss is =  0.016958432272076607  and accuracy is =  0.8405714285714285\n",
            "At step  10  and at epoch =  42  the loss is =  0.01813601888716221  and accuracy is =  0.841\n",
            "At step  10  and at epoch =  43  the loss is =  0.01636628247797489  and accuracy is =  0.8491428571428571\n",
            "At step  10  and at epoch =  44  the loss is =  0.01794307678937912  and accuracy is =  0.845\n",
            "At step  10  and at epoch =  45  the loss is =  0.016046838834881783  and accuracy is =  0.8475714285714285\n",
            "At step  10  and at epoch =  46  the loss is =  0.01678251475095749  and accuracy is =  0.8528571428571429\n",
            "At step  10  and at epoch =  47  the loss is =  0.017772309482097626  and accuracy is =  0.8514285714285714\n",
            "At step  10  and at epoch =  48  the loss is =  0.014508412219583988  and accuracy is =  0.8538571428571429\n",
            "At step  10  and at epoch =  49  the loss is =  0.012953581288456917  and accuracy is =  0.8894285714285715\n",
            "At step  10  and at epoch =  50  the loss is =  0.013652127236127853  and accuracy is =  0.9088571428571428\n",
            "At step  10  and at epoch =  51  the loss is =  0.013119914568960667  and accuracy is =  0.917\n",
            "At step  10  and at epoch =  52  the loss is =  0.012405451387166977  and accuracy is =  0.9142857142857143\n",
            "At step  10  and at epoch =  53  the loss is =  0.012080490589141846  and accuracy is =  0.915\n",
            "At step  10  and at epoch =  54  the loss is =  0.012092893943190575  and accuracy is =  0.921\n",
            "At step  10  and at epoch =  55  the loss is =  0.013908051885664463  and accuracy is =  0.9191428571428572\n",
            "At step  10  and at epoch =  56  the loss is =  0.012245705351233482  and accuracy is =  0.9264285714285714\n",
            "At step  10  and at epoch =  57  the loss is =  0.013028481975197792  and accuracy is =  0.9248571428571428\n",
            "At step  10  and at epoch =  58  the loss is =  0.012008339166641235  and accuracy is =  0.9211428571428572\n",
            "At step  10  and at epoch =  59  the loss is =  0.014636192470788956  and accuracy is =  0.9291428571428572\n",
            "At step  10  and at epoch =  60  the loss is =  0.012141888961195946  and accuracy is =  0.9345714285714286\n",
            "At step  10  and at epoch =  61  the loss is =  0.0143028749153018  and accuracy is =  0.9294285714285714\n",
            "At step  10  and at epoch =  62  the loss is =  0.012415841221809387  and accuracy is =  0.9308571428571428\n",
            "At step  10  and at epoch =  63  the loss is =  0.011874220333993435  and accuracy is =  0.9345714285714286\n",
            "At step  10  and at epoch =  64  the loss is =  0.011916019953787327  and accuracy is =  0.9352857142857143\n",
            "At step  10  and at epoch =  65  the loss is =  0.013248242437839508  and accuracy is =  0.9398571428571428\n",
            "At step  10  and at epoch =  66  the loss is =  0.014529377222061157  and accuracy is =  0.937\n",
            "At step  10  and at epoch =  67  the loss is =  0.012006652541458607  and accuracy is =  0.9404285714285714\n",
            "At step  10  and at epoch =  68  the loss is =  0.011350270360708237  and accuracy is =  0.938\n",
            "At step  10  and at epoch =  69  the loss is =  0.012204566970467567  and accuracy is =  0.9441428571428572\n",
            "task: 10 train accuracy = 0.9548\n",
            "task: 10 test accuracy = 0.8065\n"
          ],
          "name": "stdout"
        },
        {
          "output_type": "display_data",
          "data": {
            "image/png": "[encoded data removed]",
            "text/plain": [
              "<Figure size 432x288 with 2 Axes>"
            ]
          },
          "metadata": {
            "tags": []
          }
        },
        {
          "output_type": "stream",
          "text": [
            "At step  20  and at epoch =  0  the loss is =  0.03530837595462799  and accuracy is =  0.3495\n",
            "At step  20  and at epoch =  1  the loss is =  0.03254513069987297  and accuracy is =  0.41175\n",
            "At step  20  and at epoch =  2  the loss is =  0.029761575162410736  and accuracy is =  0.49025\n",
            "At step  20  and at epoch =  3  the loss is =  0.030520444735884666  and accuracy is =  0.5435\n",
            "At step  20  and at epoch =  4  the loss is =  0.03220035135746002  and accuracy is =  0.5765\n",
            "At step  20  and at epoch =  5  the loss is =  0.03428512066602707  and accuracy is =  0.603\n",
            "At step  20  and at epoch =  6  the loss is =  0.02876703254878521  and accuracy is =  0.632125\n",
            "At step  20  and at epoch =  7  the loss is =  0.027374161407351494  and accuracy is =  0.651125\n",
            "At step  20  and at epoch =  8  the loss is =  0.027278553694486618  and accuracy is =  0.665375\n",
            "At step  20  and at epoch =  9  the loss is =  0.03167557343840599  and accuracy is =  0.681625\n",
            "At step  20  and at epoch =  10  the loss is =  0.029543742537498474  and accuracy is =  0.689125\n",
            "At step  20  and at epoch =  11  the loss is =  0.02644314616918564  and accuracy is =  0.706875\n",
            "At step  20  and at epoch =  12  the loss is =  0.025391297414898872  and accuracy is =  0.71275\n",
            "At step  20  and at epoch =  13  the loss is =  0.027182547375559807  and accuracy is =  0.718625\n",
            "At step  20  and at epoch =  14  the loss is =  0.02553861029446125  and accuracy is =  0.724\n",
            "At step  20  and at epoch =  15  the loss is =  0.027632679790258408  and accuracy is =  0.73575\n",
            "At step  20  and at epoch =  16  the loss is =  0.02565615065395832  and accuracy is =  0.734375\n",
            "At step  20  and at epoch =  17  the loss is =  0.02839779295027256  and accuracy is =  0.740125\n",
            "At step  20  and at epoch =  18  the loss is =  0.025177137926220894  and accuracy is =  0.754875\n",
            "At step  20  and at epoch =  19  the loss is =  0.026957981288433075  and accuracy is =  0.765875\n",
            "At step  20  and at epoch =  20  the loss is =  0.028372734785079956  and accuracy is =  0.7635\n",
            "At step  20  and at epoch =  21  the loss is =  0.026844948530197144  and accuracy is =  0.76925\n",
            "At step  20  and at epoch =  22  the loss is =  0.02954312041401863  and accuracy is =  0.771\n",
            "At step  20  and at epoch =  23  the loss is =  0.02949494682252407  and accuracy is =  0.7815\n",
            "At step  20  and at epoch =  24  the loss is =  0.024895498529076576  and accuracy is =  0.77225\n",
            "At step  20  and at epoch =  25  the loss is =  0.025045666843652725  and accuracy is =  0.788\n",
            "At step  20  and at epoch =  26  the loss is =  0.029426272958517075  and accuracy is =  0.781375\n",
            "At step  20  and at epoch =  27  the loss is =  0.024218780919909477  and accuracy is =  0.789\n",
            "At step  20  and at epoch =  28  the loss is =  0.02743922732770443  and accuracy is =  0.800125\n",
            "At step  20  and at epoch =  29  the loss is =  0.025441274046897888  and accuracy is =  0.797125\n",
            "At step  20  and at epoch =  30  the loss is =  0.029810013249516487  and accuracy is =  0.797125\n",
            "At step  20  and at epoch =  31  the loss is =  0.029509220272302628  and accuracy is =  0.801875\n",
            "At step  20  and at epoch =  32  the loss is =  0.027321262285113335  and accuracy is =  0.803625\n",
            "At step  20  and at epoch =  33  the loss is =  0.02644379623234272  and accuracy is =  0.807125\n",
            "At step  20  and at epoch =  34  the loss is =  0.02367965318262577  and accuracy is =  0.81475\n",
            "At step  20  and at epoch =  35  the loss is =  0.02454208768904209  and accuracy is =  0.81425\n",
            "At step  20  and at epoch =  36  the loss is =  0.024692978709936142  and accuracy is =  0.821\n",
            "At step  20  and at epoch =  37  the loss is =  0.02295062504708767  and accuracy is =  0.813125\n",
            "At step  20  and at epoch =  38  the loss is =  0.02455810457468033  and accuracy is =  0.8225\n",
            "At step  20  and at epoch =  39  the loss is =  0.027680745348334312  and accuracy is =  0.822625\n",
            "At step  20  and at epoch =  40  the loss is =  0.025226909667253494  and accuracy is =  0.811375\n",
            "At step  20  and at epoch =  41  the loss is =  0.026344478130340576  and accuracy is =  0.834\n",
            "At step  20  and at epoch =  42  the loss is =  0.025129476562142372  and accuracy is =  0.82075\n",
            "At step  20  and at epoch =  43  the loss is =  0.022769490256905556  and accuracy is =  0.826875\n",
            "At step  20  and at epoch =  44  the loss is =  0.02446853183209896  and accuracy is =  0.832\n",
            "At step  20  and at epoch =  45  the loss is =  0.02230890467762947  and accuracy is =  0.822875\n",
            "At step  20  and at epoch =  46  the loss is =  0.023969899863004684  and accuracy is =  0.83225\n",
            "At step  20  and at epoch =  47  the loss is =  0.02593849040567875  and accuracy is =  0.8395\n",
            "At step  20  and at epoch =  48  the loss is =  0.025257105007767677  and accuracy is =  0.84025\n",
            "At step  20  and at epoch =  49  the loss is =  0.022046150639653206  and accuracy is =  0.87125\n",
            "At step  20  and at epoch =  50  the loss is =  0.02069156803190708  and accuracy is =  0.882625\n",
            "At step  20  and at epoch =  51  the loss is =  0.02032381482422352  and accuracy is =  0.890625\n",
            "At step  20  and at epoch =  52  the loss is =  0.02108589932322502  and accuracy is =  0.895875\n",
            "At step  20  and at epoch =  53  the loss is =  0.019760148599743843  and accuracy is =  0.89375\n",
            "At step  20  and at epoch =  54  the loss is =  0.019592298194766045  and accuracy is =  0.901125\n",
            "At step  20  and at epoch =  55  the loss is =  0.01932140439748764  and accuracy is =  0.893125\n",
            "At step  20  and at epoch =  56  the loss is =  0.019861871376633644  and accuracy is =  0.905625\n",
            "At step  20  and at epoch =  57  the loss is =  0.02179274894297123  and accuracy is =  0.900875\n",
            "At step  20  and at epoch =  58  the loss is =  0.02006588876247406  and accuracy is =  0.903\n",
            "At step  20  and at epoch =  59  the loss is =  0.02344493381679058  and accuracy is =  0.899875\n",
            "At step  20  and at epoch =  60  the loss is =  0.020352091640233994  and accuracy is =  0.90975\n",
            "At step  20  and at epoch =  61  the loss is =  0.02063634805381298  and accuracy is =  0.90975\n",
            "At step  20  and at epoch =  62  the loss is =  0.019556675106287003  and accuracy is =  0.902625\n",
            "At step  20  and at epoch =  63  the loss is =  0.019458498805761337  and accuracy is =  0.909625\n",
            "At step  20  and at epoch =  64  the loss is =  0.020608926191926003  and accuracy is =  0.907125\n",
            "At step  20  and at epoch =  65  the loss is =  0.02206171676516533  and accuracy is =  0.915375\n",
            "At step  20  and at epoch =  66  the loss is =  0.020361121743917465  and accuracy is =  0.91325\n",
            "At step  20  and at epoch =  67  the loss is =  0.02285153791308403  and accuracy is =  0.911\n",
            "At step  20  and at epoch =  68  the loss is =  0.022806057706475258  and accuracy is =  0.913375\n",
            "At step  20  and at epoch =  69  the loss is =  0.018643230199813843  and accuracy is =  0.9145\n",
            "task: 20 train accuracy = 0.9254\n",
            "task: 20 test accuracy = 0.7596666666666667\n"
          ],
          "name": "stdout"
        },
        {
          "output_type": "display_data",
          "data": {
            "image/png": "[encoded data removed]",
            "text/plain": [
              "<Figure size 432x288 with 2 Axes>"
            ]
          },
          "metadata": {
            "tags": []
          }
        },
        {
          "output_type": "stream",
          "text": [
            "At step  30  and at epoch =  0  the loss is =  0.040889520198106766  and accuracy is =  0.3958477508650519\n",
            "At step  30  and at epoch =  1  the loss is =  0.04249314218759537  and accuracy is =  0.47139561707035754\n",
            "At step  30  and at epoch =  2  the loss is =  0.0399496853351593  and accuracy is =  0.542560553633218\n",
            "At step  30  and at epoch =  3  the loss is =  0.03648645803332329  and accuracy is =  0.5694348327566321\n",
            "At step  30  and at epoch =  4  the loss is =  0.033575911074876785  and accuracy is =  0.5993079584775086\n",
            "At step  30  and at epoch =  5  the loss is =  0.03394066169857979  and accuracy is =  0.6179930795847751\n",
            "At step  30  and at epoch =  6  the loss is =  0.03505949676036835  and accuracy is =  0.6342560553633217\n",
            "At step  30  and at epoch =  7  the loss is =  0.0382717065513134  and accuracy is =  0.6415224913494809\n",
            "At step  30  and at epoch =  8  the loss is =  0.03809073567390442  and accuracy is =  0.654325259515571\n",
            "At step  30  and at epoch =  9  the loss is =  0.03621811419725418  and accuracy is =  0.6701268742791234\n",
            "At step  30  and at epoch =  10  the loss is =  0.035527363419532776  and accuracy is =  0.682237600922722\n",
            "At step  30  and at epoch =  11  the loss is =  0.03609073534607887  and accuracy is =  0.6918108419838523\n",
            "At step  30  and at epoch =  12  the loss is =  0.032541826367378235  and accuracy is =  0.6914648212226067\n",
            "At step  30  and at epoch =  13  the loss is =  0.033771879971027374  and accuracy is =  0.7034602076124568\n",
            "At step  30  and at epoch =  14  the loss is =  0.03370135277509689  and accuracy is =  0.7048442906574395\n",
            "At step  30  and at epoch =  15  the loss is =  0.029313528910279274  and accuracy is =  0.7124567474048443\n",
            "At step  30  and at epoch =  16  the loss is =  0.036220330744981766  and accuracy is =  0.7184544405997694\n",
            "At step  30  and at epoch =  17  the loss is =  0.03351344168186188  and accuracy is =  0.7145328719723183\n",
            "At step  30  and at epoch =  18  the loss is =  0.035958558320999146  and accuracy is =  0.728719723183391\n",
            "At step  30  and at epoch =  19  the loss is =  0.03230859339237213  and accuracy is =  0.7377162629757785\n",
            "At step  30  and at epoch =  20  the loss is =  0.034011274576187134  and accuracy is =  0.73760092272203\n",
            "At step  30  and at epoch =  21  the loss is =  0.03316298499703407  and accuracy is =  0.7392156862745098\n",
            "At step  30  and at epoch =  22  the loss is =  0.031937871128320694  and accuracy is =  0.7378316032295271\n",
            "At step  30  and at epoch =  23  the loss is =  0.032602857798337936  and accuracy is =  0.7417531718569781\n",
            "At step  30  and at epoch =  24  the loss is =  0.034825824201107025  and accuracy is =  0.753517877739331\n",
            "At step  30  and at epoch =  25  the loss is =  0.03191854804754257  and accuracy is =  0.753517877739331\n",
            "At step  30  and at epoch =  26  the loss is =  0.03322022035717964  and accuracy is =  0.7522491349480969\n",
            "At step  30  and at epoch =  27  the loss is =  0.028716469183564186  and accuracy is =  0.7558246828143022\n",
            "At step  30  and at epoch =  28  the loss is =  0.03389866650104523  and accuracy is =  0.7638985005767013\n",
            "At step  30  and at epoch =  29  the loss is =  0.03458581864833832  and accuracy is =  0.7599769319492503\n",
            "At step  30  and at epoch =  30  the loss is =  0.030691174790263176  and accuracy is =  0.771280276816609\n",
            "At step  30  and at epoch =  31  the loss is =  0.03024871088564396  and accuracy is =  0.7760092272202999\n",
            "At step  30  and at epoch =  32  the loss is =  0.02928745374083519  and accuracy is =  0.7800461361014994\n",
            "At step  30  and at epoch =  33  the loss is =  0.02963924966752529  and accuracy is =  0.7693194925028836\n",
            "At step  30  and at epoch =  34  the loss is =  0.033050812780857086  and accuracy is =  0.7795847750865051\n",
            "At step  30  and at epoch =  35  the loss is =  0.03364167362451553  and accuracy is =  0.7868512110726643\n",
            "At step  30  and at epoch =  36  the loss is =  0.03371357545256615  and accuracy is =  0.782237600922722\n",
            "At step  30  and at epoch =  37  the loss is =  0.0357295460999012  and accuracy is =  0.7825836216839677\n",
            "At step  30  and at epoch =  38  the loss is =  0.03350818157196045  and accuracy is =  0.7852364475201845\n",
            "At step  30  and at epoch =  39  the loss is =  0.031835779547691345  and accuracy is =  0.7811995386389851\n",
            "At step  30  and at epoch =  40  the loss is =  0.03376347944140434  and accuracy is =  0.7846597462514417\n",
            "At step  30  and at epoch =  41  the loss is =  0.031158067286014557  and accuracy is =  0.7906574394463668\n",
            "At step  30  and at epoch =  42  the loss is =  0.036305252462625504  and accuracy is =  0.7935409457900807\n",
            "At step  30  and at epoch =  43  the loss is =  0.03127018362283707  and accuracy is =  0.7946943483275664\n",
            "At step  30  and at epoch =  44  the loss is =  0.032798394560813904  and accuracy is =  0.8006920415224914\n",
            "At step  30  and at epoch =  45  the loss is =  0.025951944291591644  and accuracy is =  0.8004613610149942\n",
            "At step  30  and at epoch =  46  the loss is =  0.029241599142551422  and accuracy is =  0.8068050749711649\n",
            "At step  30  and at epoch =  47  the loss is =  0.03566884249448776  and accuracy is =  0.7985005767012687\n",
            "At step  30  and at epoch =  48  the loss is =  0.03239905461668968  and accuracy is =  0.8016147635524798\n",
            "At step  30  and at epoch =  49  the loss is =  0.026669956743717194  and accuracy is =  0.8364475201845444\n",
            "At step  30  and at epoch =  50  the loss is =  0.02637334354221821  and accuracy is =  0.8525951557093425\n",
            "At step  30  and at epoch =  51  the loss is =  0.026369893923401833  and accuracy is =  0.8547866205305652\n",
            "At step  30  and at epoch =  52  the loss is =  0.02999400906264782  and accuracy is =  0.8628604382929642\n",
            "At step  30  and at epoch =  53  the loss is =  0.028710322454571724  and accuracy is =  0.8629757785467128\n",
            "At step  30  and at epoch =  54  the loss is =  0.026138152927160263  and accuracy is =  0.8696655132641292\n",
            "At step  30  and at epoch =  55  the loss is =  0.026848839595913887  and accuracy is =  0.8690888119953863\n",
            "At step  30  and at epoch =  56  the loss is =  0.02933366410434246  and accuracy is =  0.8668973471741638\n",
            "At step  30  and at epoch =  57  the loss is =  0.026282859966158867  and accuracy is =  0.8718569780853518\n",
            "At step  30  and at epoch =  58  the loss is =  0.026750801131129265  and accuracy is =  0.8740484429065744\n",
            "At step  30  and at epoch =  59  the loss is =  0.025176486000418663  and accuracy is =  0.8708189158016147\n",
            "At step  30  and at epoch =  60  the loss is =  0.026923781260848045  and accuracy is =  0.8746251441753172\n",
            "At step  30  and at epoch =  61  the loss is =  0.02381751500070095  and accuracy is =  0.8787773933102653\n",
            "At step  30  and at epoch =  62  the loss is =  0.025396494194865227  and accuracy is =  0.8779700115340254\n",
            "At step  30  and at epoch =  63  the loss is =  0.025580378249287605  and accuracy is =  0.8933102652825836\n",
            "At step  30  and at epoch =  64  the loss is =  0.02620820328593254  and accuracy is =  0.8874279123414072\n",
            "At step  30  and at epoch =  65  the loss is =  0.027331091463565826  and accuracy is =  0.884083044982699\n",
            "At step  30  and at epoch =  66  the loss is =  0.026998067274689674  and accuracy is =  0.8815455594002307\n",
            "At step  30  and at epoch =  67  the loss is =  0.029751813039183617  and accuracy is =  0.884313725490196\n",
            "At step  30  and at epoch =  68  the loss is =  0.023727457970380783  and accuracy is =  0.890080738177624\n",
            "At step  30  and at epoch =  69  the loss is =  0.025809310376644135  and accuracy is =  0.8896193771626297\n",
            "task: 30 train accuracy = 0.8932\n",
            "task: 30 test accuracy = 0.70975\n"
          ],
          "name": "stdout"
        },
        {
          "output_type": "display_data",
          "data": {
            "image/png": "[encoded data removed]",
            "text/plain": [
              "<Figure size 432x288 with 2 Axes>"
            ]
          },
          "metadata": {
            "tags": []
          }
        },
        {
          "output_type": "stream",
          "text": [
            "At step  40  and at epoch =  0  the loss is =  0.04406003654003143  and accuracy is =  0.40458015267175573\n",
            "At step  40  and at epoch =  1  the loss is =  0.052818961441516876  and accuracy is =  0.43598691384950927\n",
            "At step  40  and at epoch =  2  the loss is =  0.04554988443851471  and accuracy is =  0.4835332606324973\n",
            "At step  40  and at epoch =  3  the loss is =  0.041941557079553604  and accuracy is =  0.5190839694656488\n",
            "At step  40  and at epoch =  4  the loss is =  0.04460242763161659  and accuracy is =  0.5367502726281352\n",
            "At step  40  and at epoch =  5  the loss is =  0.04912680387496948  and accuracy is =  0.5525627044711015\n",
            "At step  40  and at epoch =  6  the loss is =  0.042268410325050354  and accuracy is =  0.580370774263904\n",
            "At step  40  and at epoch =  7  the loss is =  0.03784191608428955  and accuracy is =  0.5856052344601963\n",
            "At step  40  and at epoch =  8  the loss is =  0.04361666738986969  and accuracy is =  0.6013086150490731\n",
            "At step  40  and at epoch =  9  the loss is =  0.04367773234844208  and accuracy is =  0.6241003271537623\n",
            "At step  40  and at epoch =  10  the loss is =  0.04592343419790268  and accuracy is =  0.6273718647764449\n",
            "At step  40  and at epoch =  11  the loss is =  0.047232307493686676  and accuracy is =  0.6371864776444929\n",
            "At step  40  and at epoch =  12  the loss is =  0.04261954873800278  and accuracy is =  0.6460196292257361\n",
            "At step  40  and at epoch =  13  the loss is =  0.04361296072602272  and accuracy is =  0.6557251908396946\n",
            "At step  40  and at epoch =  14  the loss is =  0.043013326823711395  and accuracy is =  0.6610687022900763\n",
            "At step  40  and at epoch =  15  the loss is =  0.03957946226000786  and accuracy is =  0.6750272628135223\n",
            "At step  40  and at epoch =  16  the loss is =  0.0420740582048893  and accuracy is =  0.6737186477644493\n",
            "At step  40  and at epoch =  17  the loss is =  0.03920898959040642  and accuracy is =  0.684732824427481\n",
            "At step  40  and at epoch =  18  the loss is =  0.042964253574609756  and accuracy is =  0.6820065430752453\n",
            "At step  40  and at epoch =  19  the loss is =  0.04073091968894005  and accuracy is =  0.688876772082879\n",
            "At step  40  and at epoch =  20  the loss is =  0.0399780236184597  and accuracy is =  0.7044711014176663\n",
            "At step  40  and at epoch =  21  the loss is =  0.040059443563222885  and accuracy is =  0.7051254089422029\n",
            "At step  40  and at epoch =  22  the loss is =  0.04461032897233963  and accuracy is =  0.7131952017448201\n",
            "At step  40  and at epoch =  23  the loss is =  0.042047351598739624  and accuracy is =  0.7128680479825518\n",
            "At step  40  and at epoch =  24  the loss is =  0.04611801728606224  and accuracy is =  0.7186477644492911\n",
            "At step  40  and at epoch =  25  the loss is =  0.04261436685919762  and accuracy is =  0.7232279171210468\n",
            "At step  40  and at epoch =  26  the loss is =  0.039651647210121155  and accuracy is =  0.7178844056706652\n",
            "At step  40  and at epoch =  27  the loss is =  0.03978799656033516  and accuracy is =  0.7242093784078517\n",
            "At step  40  and at epoch =  28  the loss is =  0.04155126214027405  and accuracy is =  0.7343511450381679\n",
            "At step  40  and at epoch =  29  the loss is =  0.0384010411798954  and accuracy is =  0.736423118865867\n",
            "At step  40  and at epoch =  30  the loss is =  0.03854893147945404  and accuracy is =  0.7429661941112323\n",
            "At step  40  and at epoch =  31  the loss is =  0.03902990743517876  and accuracy is =  0.7460196292257361\n",
            "At step  40  and at epoch =  32  the loss is =  0.039766211062669754  and accuracy is =  0.7420937840785169\n",
            "At step  40  and at epoch =  33  the loss is =  0.038837939500808716  and accuracy is =  0.7557251908396947\n",
            "At step  40  and at epoch =  34  the loss is =  0.03838252276182175  and accuracy is =  0.7523446019629225\n",
            "At step  40  and at epoch =  35  the loss is =  0.03857765346765518  and accuracy is =  0.7487459105779717\n",
            "At step  40  and at epoch =  36  the loss is =  0.03957146778702736  and accuracy is =  0.7569247546346783\n",
            "At step  40  and at epoch =  37  the loss is =  0.04137231409549713  and accuracy is =  0.7556161395856053\n",
            "At step  40  and at epoch =  38  the loss is =  0.04288509488105774  and accuracy is =  0.7557251908396947\n",
            "At step  40  and at epoch =  39  the loss is =  0.041765715926885605  and accuracy is =  0.7605234460196292\n",
            "At step  40  and at epoch =  40  the loss is =  0.04187493398785591  and accuracy is =  0.7608505997818975\n",
            "At step  40  and at epoch =  41  the loss is =  0.04098695516586304  and accuracy is =  0.7639040348964014\n",
            "At step  40  and at epoch =  42  the loss is =  0.04178168997168541  and accuracy is =  0.7696837513631407\n",
            "At step  40  and at epoch =  43  the loss is =  0.04252749681472778  and accuracy is =  0.773391494002181\n",
            "At step  40  and at epoch =  44  the loss is =  0.034824248403310776  and accuracy is =  0.7736095965103599\n",
            "At step  40  and at epoch =  45  the loss is =  0.04029039293527603  and accuracy is =  0.7772082878953108\n",
            "At step  40  and at epoch =  46  the loss is =  0.03828008845448494  and accuracy is =  0.778298800436205\n",
            "At step  40  and at epoch =  47  the loss is =  0.04125015810132027  and accuracy is =  0.7680479825517993\n",
            "At step  40  and at epoch =  48  the loss is =  0.04120533913373947  and accuracy is =  0.7862595419847328\n",
            "At step  40  and at epoch =  49  the loss is =  0.03354861959815025  and accuracy is =  0.8255179934569248\n",
            "At step  40  and at epoch =  50  the loss is =  0.03710047900676727  and accuracy is =  0.8430752453653217\n",
            "At step  40  and at epoch =  51  the loss is =  0.03451497480273247  and accuracy is =  0.849618320610687\n",
            "At step  40  and at epoch =  52  the loss is =  0.03248915448784828  and accuracy is =  0.8568157033805889\n",
            "At step  40  and at epoch =  53  the loss is =  0.03357513248920441  and accuracy is =  0.8574700109051254\n",
            "At step  40  and at epoch =  54  the loss is =  0.030731040984392166  and accuracy is =  0.8616139585605235\n",
            "At step  40  and at epoch =  55  the loss is =  0.034475602209568024  and accuracy is =  0.8673936750272628\n",
            "At step  40  and at epoch =  56  the loss is =  0.03577181324362755  and accuracy is =  0.8660850599781897\n",
            "At step  40  and at epoch =  57  the loss is =  0.03698400408029556  and accuracy is =  0.8683751363140676\n",
            "At step  40  and at epoch =  58  the loss is =  0.03491903841495514  and accuracy is =  0.8682660850599782\n",
            "At step  40  and at epoch =  59  the loss is =  0.03500238060951233  and accuracy is =  0.8669574700109052\n",
            "At step  40  and at epoch =  60  the loss is =  0.036762967705726624  and accuracy is =  0.8682660850599782\n",
            "At step  40  and at epoch =  61  the loss is =  0.03381482511758804  and accuracy is =  0.8745910577971646\n",
            "At step  40  and at epoch =  62  the loss is =  0.03369566425681114  and accuracy is =  0.8736095965103599\n",
            "At step  40  and at epoch =  63  the loss is =  0.03519246354699135  and accuracy is =  0.8837513631406761\n",
            "At step  40  and at epoch =  64  the loss is =  0.03395554795861244  and accuracy is =  0.877535441657579\n",
            "At step  40  and at epoch =  65  the loss is =  0.03406684845685959  and accuracy is =  0.8824427480916031\n",
            "At step  40  and at epoch =  66  the loss is =  0.03246729448437691  and accuracy is =  0.8838604143947656\n",
            "At step  40  and at epoch =  67  the loss is =  0.031954582780599594  and accuracy is =  0.8823336968375136\n",
            "At step  40  and at epoch =  68  the loss is =  0.03037833608686924  and accuracy is =  0.8851690294438386\n",
            "At step  40  and at epoch =  69  the loss is =  0.030055111274123192  and accuracy is =  0.8781897491821156\n",
            "task: 40 train accuracy = 0.8424\n",
            "task: 40 test accuracy = 0.665\n"
          ],
          "name": "stdout"
        },
        {
          "output_type": "display_data",
          "data": {
            "image/png": "[encoded data removed]",
            "text/plain": [
              "<Figure size 432x288 with 2 Axes>"
            ]
          },
          "metadata": {
            "tags": []
          }
        },
        {
          "output_type": "stream",
          "text": [
            "At step  50  and at epoch =  0  the loss is =  0.05051273852586746  and accuracy is =  0.4240334378265413\n",
            "At step  50  and at epoch =  1  the loss is =  0.054981715977191925  and accuracy is =  0.47826541274817136\n",
            "At step  50  and at epoch =  2  the loss is =  0.05579419061541557  and accuracy is =  0.5155694879832811\n",
            "At step  50  and at epoch =  3  the loss is =  0.05115609988570213  and accuracy is =  0.5403343782654128\n",
            "At step  50  and at epoch =  4  the loss is =  0.048242777585983276  and accuracy is =  0.5636363636363636\n",
            "At step  50  and at epoch =  5  the loss is =  0.04724421352148056  and accuracy is =  0.5853709508881922\n",
            "At step  50  and at epoch =  6  the loss is =  0.04743902012705803  and accuracy is =  0.5878787878787879\n",
            "At step  50  and at epoch =  7  the loss is =  0.05182919651269913  and accuracy is =  0.6020898641588297\n",
            "At step  50  and at epoch =  8  the loss is =  0.0462958961725235  and accuracy is =  0.622466039707419\n",
            "At step  50  and at epoch =  9  the loss is =  0.051820576190948486  and accuracy is =  0.6301985370950888\n",
            "At step  50  and at epoch =  10  the loss is =  0.05095761641860008  and accuracy is =  0.6361546499477534\n",
            "At step  50  and at epoch =  11  the loss is =  0.0509914867579937  and accuracy is =  0.6402298850574712\n",
            "At step  50  and at epoch =  12  the loss is =  0.0463053435087204  and accuracy is =  0.6529780564263323\n",
            "At step  50  and at epoch =  13  the loss is =  0.043147820979356766  and accuracy is =  0.6528735632183909\n",
            "At step  50  and at epoch =  14  the loss is =  0.052439700812101364  and accuracy is =  0.6641588296760711\n",
            "At step  50  and at epoch =  15  the loss is =  0.05099936202168465  and accuracy is =  0.6654127481713689\n",
            "At step  50  and at epoch =  16  the loss is =  0.0473196767270565  and accuracy is =  0.6728317659352142\n",
            "At step  50  and at epoch =  17  the loss is =  0.050312429666519165  and accuracy is =  0.680355276907001\n",
            "At step  50  and at epoch =  18  the loss is =  0.04851682111620903  and accuracy is =  0.6888192267502612\n",
            "At step  50  and at epoch =  19  the loss is =  0.049241095781326294  and accuracy is =  0.6896551724137931\n",
            "At step  50  and at epoch =  20  the loss is =  0.04621899127960205  and accuracy is =  0.6983281086729363\n",
            "At step  50  and at epoch =  21  the loss is =  0.05224735662341118  and accuracy is =  0.7003134796238244\n",
            "At step  50  and at epoch =  22  the loss is =  0.04889516532421112  and accuracy is =  0.7040752351097179\n",
            "At step  50  and at epoch =  23  the loss is =  0.04716775193810463  and accuracy is =  0.6992685475444096\n",
            "At step  50  and at epoch =  24  the loss is =  0.04823339357972145  and accuracy is =  0.7124346917450366\n",
            "At step  50  and at epoch =  25  the loss is =  0.045354120433330536  and accuracy is =  0.7103448275862069\n",
            "At step  50  and at epoch =  26  the loss is =  0.0468745119869709  and accuracy is =  0.7168234064785789\n",
            "At step  50  and at epoch =  27  the loss is =  0.049291905015707016  and accuracy is =  0.726332288401254\n",
            "At step  50  and at epoch =  28  the loss is =  0.05030449852347374  and accuracy is =  0.7223615464994775\n",
            "At step  50  and at epoch =  29  the loss is =  0.04462342709302902  and accuracy is =  0.7260188087774294\n",
            "At step  50  and at epoch =  30  the loss is =  0.04388928413391113  and accuracy is =  0.7251828631138976\n",
            "At step  50  and at epoch =  31  the loss is =  0.04500318691134453  and accuracy is =  0.7308254963427377\n",
            "At step  50  and at epoch =  32  the loss is =  0.04725376144051552  and accuracy is =  0.7320794148380355\n",
            "At step  50  and at epoch =  33  the loss is =  0.04698661342263222  and accuracy is =  0.7280041797283177\n",
            "At step  50  and at epoch =  34  the loss is =  0.04961544647812843  and accuracy is =  0.7408568443051202\n",
            "At step  50  and at epoch =  35  the loss is =  0.046216931194067  and accuracy is =  0.7415882967607106\n",
            "At step  50  and at epoch =  36  the loss is =  0.0470346137881279  and accuracy is =  0.738662486938349\n",
            "At step  50  and at epoch =  37  the loss is =  0.043752480298280716  and accuracy is =  0.7529780564263323\n",
            "At step  50  and at epoch =  38  the loss is =  0.04724505543708801  and accuracy is =  0.747962382445141\n",
            "At step  50  and at epoch =  39  the loss is =  0.044740621000528336  and accuracy is =  0.7505747126436781\n",
            "At step  50  and at epoch =  40  the loss is =  0.04361366108059883  and accuracy is =  0.7565308254963428\n",
            "At step  50  and at epoch =  41  the loss is =  0.04547768831253052  and accuracy is =  0.7533960292580982\n",
            "At step  50  and at epoch =  42  the loss is =  0.043304119259119034  and accuracy is =  0.7468129571577847\n",
            "At step  50  and at epoch =  43  the loss is =  0.04832544922828674  and accuracy is =  0.7625914315569488\n",
            "At step  50  and at epoch =  44  the loss is =  0.05215347185730934  and accuracy is =  0.7592476489028214\n",
            "At step  50  and at epoch =  45  the loss is =  0.04487849771976471  and accuracy is =  0.7559038662486939\n",
            "At step  50  and at epoch =  46  the loss is =  0.04752447456121445  and accuracy is =  0.7596656217345873\n",
            "At step  50  and at epoch =  47  the loss is =  0.047475941479206085  and accuracy is =  0.7590386624869383\n",
            "At step  50  and at epoch =  48  the loss is =  0.045025940984487534  and accuracy is =  0.7691745036572623\n",
            "At step  50  and at epoch =  49  the loss is =  0.04650004953145981  and accuracy is =  0.8039707419017764\n",
            "At step  50  and at epoch =  50  the loss is =  0.03998884558677673  and accuracy is =  0.8245559038662487\n",
            "At step  50  and at epoch =  51  the loss is =  0.042689282447099686  and accuracy is =  0.831974921630094\n",
            "At step  50  and at epoch =  52  the loss is =  0.0413275845348835  and accuracy is =  0.8385579937304075\n",
            "At step  50  and at epoch =  53  the loss is =  0.04175351932644844  and accuracy is =  0.8363636363636363\n",
            "At step  50  and at epoch =  54  the loss is =  0.040540315210819244  and accuracy is =  0.8377220480668757\n",
            "At step  50  and at epoch =  55  the loss is =  0.040560923516750336  and accuracy is =  0.8426332288401254\n",
            "At step  50  and at epoch =  56  the loss is =  0.038003697991371155  and accuracy is =  0.8429467084639498\n",
            "At step  50  and at epoch =  57  the loss is =  0.04036417603492737  and accuracy is =  0.8463949843260188\n",
            "At step  50  and at epoch =  58  the loss is =  0.04424063488841057  and accuracy is =  0.84858934169279\n",
            "At step  50  and at epoch =  59  the loss is =  0.040370114147663116  and accuracy is =  0.8510971786833855\n",
            "At step  50  and at epoch =  60  the loss is =  0.03817920759320259  and accuracy is =  0.8503657262277952\n",
            "At step  50  and at epoch =  61  the loss is =  0.04143183305859566  and accuracy is =  0.8505747126436781\n",
            "At step  50  and at epoch =  62  the loss is =  0.04167821258306503  and accuracy is =  0.8549634273772205\n",
            "At step  50  and at epoch =  63  the loss is =  0.03794185072183609  and accuracy is =  0.8591431556948799\n",
            "At step  50  and at epoch =  64  the loss is =  0.042369965463876724  and accuracy is =  0.8606060606060606\n",
            "At step  50  and at epoch =  65  the loss is =  0.03920641914010048  and accuracy is =  0.8664576802507837\n",
            "At step  50  and at epoch =  66  the loss is =  0.0385618694126606  and accuracy is =  0.8621734587251829\n",
            "At step  50  and at epoch =  67  the loss is =  0.03674912452697754  and accuracy is =  0.8589341692789969\n",
            "At step  50  and at epoch =  68  the loss is =  0.04172687232494354  and accuracy is =  0.8632183908045977\n",
            "At step  50  and at epoch =  69  the loss is =  0.03972230106592178  and accuracy is =  0.8630094043887148\n",
            "task: 50 train accuracy = 0.8478\n",
            "task: 50 test accuracy = 0.62\n"
          ],
          "name": "stdout"
        },
        {
          "output_type": "display_data",
          "data": {
            "image/png": "[encoded data removed]",
            "text/plain": [
              "<Figure size 432x288 with 2 Axes>"
            ]
          },
          "metadata": {
            "tags": []
          }
        },
        {
          "output_type": "stream",
          "text": [
            "At step  60  and at epoch =  0  the loss is =  0.05677218362689018  and accuracy is =  0.4177777777777778\n",
            "At step  60  and at epoch =  1  the loss is =  0.0605681873857975  and accuracy is =  0.46545454545454545\n",
            "At step  60  and at epoch =  2  the loss is =  0.0550994798541069  and accuracy is =  0.5013131313131313\n",
            "At step  60  and at epoch =  3  the loss is =  0.058967169374227524  and accuracy is =  0.5219191919191919\n",
            "At step  60  and at epoch =  4  the loss is =  0.05778615549206734  and accuracy is =  0.547979797979798\n",
            "At step  60  and at epoch =  5  the loss is =  0.057293206453323364  and accuracy is =  0.5548484848484848\n",
            "At step  60  and at epoch =  6  the loss is =  0.05734318122267723  and accuracy is =  0.5726262626262626\n",
            "At step  60  and at epoch =  7  the loss is =  0.059172600507736206  and accuracy is =  0.5784848484848485\n",
            "At step  60  and at epoch =  8  the loss is =  0.05556999146938324  and accuracy is =  0.5909090909090909\n",
            "At step  60  and at epoch =  9  the loss is =  0.047069936990737915  and accuracy is =  0.5992929292929293\n",
            "At step  60  and at epoch =  10  the loss is =  0.05073513463139534  and accuracy is =  0.6121212121212121\n",
            "At step  60  and at epoch =  11  the loss is =  0.044818390160799026  and accuracy is =  0.6237373737373737\n",
            "At step  60  and at epoch =  12  the loss is =  0.05644721910357475  and accuracy is =  0.6194949494949495\n",
            "At step  60  and at epoch =  13  the loss is =  0.04880034923553467  and accuracy is =  0.6280808080808081\n",
            "At step  60  and at epoch =  14  the loss is =  0.05166728422045708  and accuracy is =  0.6356565656565657\n",
            "At step  60  and at epoch =  15  the loss is =  0.061665136367082596  and accuracy is =  0.6432323232323233\n",
            "At step  60  and at epoch =  16  the loss is =  0.042505666613578796  and accuracy is =  0.6357575757575757\n",
            "At step  60  and at epoch =  17  the loss is =  0.050339438021183014  and accuracy is =  0.6502020202020202\n",
            "At step  60  and at epoch =  18  the loss is =  0.049595288932323456  and accuracy is =  0.6486868686868686\n",
            "At step  60  and at epoch =  19  the loss is =  0.059228766709566116  and accuracy is =  0.6578787878787878\n",
            "At step  60  and at epoch =  20  the loss is =  0.05419234186410904  and accuracy is =  0.6631313131313131\n",
            "At step  60  and at epoch =  21  the loss is =  0.05825849995017052  and accuracy is =  0.6592929292929293\n",
            "At step  60  and at epoch =  22  the loss is =  0.052213154733181  and accuracy is =  0.6635353535353535\n",
            "At step  60  and at epoch =  23  the loss is =  0.052360814064741135  and accuracy is =  0.674949494949495\n",
            "At step  60  and at epoch =  24  the loss is =  0.04542231559753418  and accuracy is =  0.6709090909090909\n",
            "At step  60  and at epoch =  25  the loss is =  0.06040892377495766  and accuracy is =  0.6698989898989899\n",
            "At step  60  and at epoch =  26  the loss is =  0.0564207099378109  and accuracy is =  0.6755555555555556\n",
            "At step  60  and at epoch =  27  the loss is =  0.05822938308119774  and accuracy is =  0.6793939393939394\n",
            "At step  60  and at epoch =  28  the loss is =  0.05455522984266281  and accuracy is =  0.6903030303030303\n",
            "At step  60  and at epoch =  29  the loss is =  0.04697548225522041  and accuracy is =  0.6911111111111111\n",
            "At step  60  and at epoch =  30  the loss is =  0.05315247178077698  and accuracy is =  0.6872727272727273\n",
            "At step  60  and at epoch =  31  the loss is =  0.0570458248257637  and accuracy is =  0.6887878787878788\n",
            "At step  60  and at epoch =  32  the loss is =  0.04855691269040108  and accuracy is =  0.6971717171717172\n",
            "At step  60  and at epoch =  33  the loss is =  0.06157462298870087  and accuracy is =  0.6986868686868687\n",
            "At step  60  and at epoch =  34  the loss is =  0.06401736289262772  and accuracy is =  0.6866666666666666\n",
            "At step  60  and at epoch =  35  the loss is =  0.051754388958215714  and accuracy is =  0.7003030303030303\n",
            "At step  60  and at epoch =  36  the loss is =  0.05610840022563934  and accuracy is =  0.6970707070707071\n",
            "At step  60  and at epoch =  37  the loss is =  0.05081132426857948  and accuracy is =  0.6994949494949495\n",
            "At step  60  and at epoch =  38  the loss is =  0.05058005079627037  and accuracy is =  0.7023232323232323\n",
            "At step  60  and at epoch =  39  the loss is =  0.0405142717063427  and accuracy is =  0.7038383838383838\n",
            "At step  60  and at epoch =  40  the loss is =  0.048801977187395096  and accuracy is =  0.7081818181818181\n",
            "At step  60  and at epoch =  41  the loss is =  0.054630495607852936  and accuracy is =  0.7113131313131313\n",
            "At step  60  and at epoch =  42  the loss is =  0.04952406510710716  and accuracy is =  0.7103030303030303\n",
            "At step  60  and at epoch =  43  the loss is =  0.05579311400651932  and accuracy is =  0.7138383838383838\n",
            "At step  60  and at epoch =  44  the loss is =  0.04808705672621727  and accuracy is =  0.7252525252525253\n",
            "At step  60  and at epoch =  45  the loss is =  0.050370484590530396  and accuracy is =  0.718989898989899\n",
            "At step  60  and at epoch =  46  the loss is =  0.050432510673999786  and accuracy is =  0.7228282828282828\n",
            "At step  60  and at epoch =  47  the loss is =  0.048078037798404694  and accuracy is =  0.7164646464646465\n",
            "At step  60  and at epoch =  48  the loss is =  0.05145861580967903  and accuracy is =  0.7141414141414142\n",
            "At step  60  and at epoch =  49  the loss is =  0.04509161785244942  and accuracy is =  0.7571717171717172\n",
            "At step  60  and at epoch =  50  the loss is =  0.05018598586320877  and accuracy is =  0.7852525252525252\n",
            "At step  60  and at epoch =  51  the loss is =  0.04997444152832031  and accuracy is =  0.7974747474747474\n",
            "At step  60  and at epoch =  52  the loss is =  0.04774215444922447  and accuracy is =  0.7962626262626262\n",
            "At step  60  and at epoch =  53  the loss is =  0.05364445224404335  and accuracy is =  0.803939393939394\n",
            "At step  60  and at epoch =  54  the loss is =  0.04342161864042282  and accuracy is =  0.8010101010101011\n",
            "At step  60  and at epoch =  55  the loss is =  0.043799325823783875  and accuracy is =  0.8078787878787879\n",
            "At step  60  and at epoch =  56  the loss is =  0.04574522748589516  and accuracy is =  0.8080808080808081\n",
            "At step  60  and at epoch =  57  the loss is =  0.0504034087061882  and accuracy is =  0.8117171717171717\n",
            "At step  60  and at epoch =  58  the loss is =  0.04528428986668587  and accuracy is =  0.8142424242424242\n",
            "At step  60  and at epoch =  59  the loss is =  0.04898962378501892  and accuracy is =  0.8223232323232323\n",
            "At step  60  and at epoch =  60  the loss is =  0.05231049656867981  and accuracy is =  0.8176767676767677\n",
            "At step  60  and at epoch =  61  the loss is =  0.05027291178703308  and accuracy is =  0.8196969696969697\n",
            "At step  60  and at epoch =  62  the loss is =  0.04609610140323639  and accuracy is =  0.8224242424242424\n",
            "At step  60  and at epoch =  63  the loss is =  0.04976998642086983  and accuracy is =  0.8262626262626263\n",
            "At step  60  and at epoch =  64  the loss is =  0.04706895351409912  and accuracy is =  0.8295959595959596\n",
            "At step  60  and at epoch =  65  the loss is =  0.05573674291372299  and accuracy is =  0.8314141414141414\n",
            "At step  60  and at epoch =  66  the loss is =  0.046242572367191315  and accuracy is =  0.8316161616161616\n",
            "At step  60  and at epoch =  67  the loss is =  0.049860212951898575  and accuracy is =  0.8289898989898989\n",
            "At step  60  and at epoch =  68  the loss is =  0.04998766630887985  and accuracy is =  0.8354545454545454\n",
            "At step  60  and at epoch =  69  the loss is =  0.05115178972482681  and accuracy is =  0.8337373737373738\n",
            "task: 60 train accuracy = 0.8108\n",
            "task: 60 test accuracy = 0.5767142857142857\n"
          ],
          "name": "stdout"
        },
        {
          "output_type": "display_data",
          "data": {
            "image/png": "[encoded data removed]",
            "text/plain": [
              "<Figure size 432x288 with 2 Axes>"
            ]
          },
          "metadata": {
            "tags": []
          }
        },
        {
          "output_type": "stream",
          "text": [
            "At step  70  and at epoch =  0  the loss is =  0.06504695862531662  and accuracy is =  0.42894995093228655\n",
            "At step  70  and at epoch =  1  the loss is =  0.06042324751615524  and accuracy is =  0.5148184494602551\n",
            "At step  70  and at epoch =  2  the loss is =  0.0586308054625988  and accuracy is =  0.5527968596663395\n",
            "At step  70  and at epoch =  3  the loss is =  0.06313804537057877  and accuracy is =  0.582531894013739\n",
            "At step  70  and at epoch =  4  the loss is =  0.05804988369345665  and accuracy is =  0.6114818449460255\n",
            "At step  70  and at epoch =  5  the loss is =  0.05986989662051201  and accuracy is =  0.6276741903827282\n",
            "At step  70  and at epoch =  6  the loss is =  0.06453952193260193  and accuracy is =  0.6422963689892051\n",
            "At step  70  and at epoch =  7  the loss is =  0.052441906183958054  and accuracy is =  0.6477919528949951\n",
            "At step  70  and at epoch =  8  the loss is =  0.05866334214806557  and accuracy is =  0.6549558390578999\n",
            "At step  70  and at epoch =  9  the loss is =  0.05482720583677292  and accuracy is =  0.6613346418056919\n",
            "At step  70  and at epoch =  10  the loss is =  0.061601895838975906  and accuracy is =  0.6656526005888126\n",
            "At step  70  and at epoch =  11  the loss is =  0.06510032713413239  and accuracy is =  0.6747791952894995\n",
            "At step  70  and at epoch =  12  the loss is =  0.06017862260341644  and accuracy is =  0.6854759568204122\n",
            "At step  70  and at epoch =  13  the loss is =  0.05841096490621567  and accuracy is =  0.6874386653581943\n",
            "At step  70  and at epoch =  14  the loss is =  0.06390123814344406  and accuracy is =  0.6931305201177625\n",
            "At step  70  and at epoch =  15  the loss is =  0.06039983406662941  and accuracy is =  0.6999018645731109\n",
            "At step  70  and at epoch =  16  the loss is =  0.06278031319379807  and accuracy is =  0.70549558390579\n",
            "At step  70  and at epoch =  17  the loss is =  0.05768527835607529  and accuracy is =  0.7113837095191364\n",
            "At step  70  and at epoch =  18  the loss is =  0.05972975119948387  and accuracy is =  0.7052011776251227\n",
            "At step  70  and at epoch =  19  the loss is =  0.056328773498535156  and accuracy is =  0.7066732090284593\n",
            "At step  70  and at epoch =  20  the loss is =  0.06459808349609375  and accuracy is =  0.7135426889106967\n",
            "At step  70  and at epoch =  21  the loss is =  0.056200575083494186  and accuracy is =  0.7131501472031403\n",
            "At step  70  and at epoch =  22  the loss is =  0.05882136523723602  and accuracy is =  0.719332679097154\n",
            "At step  70  and at epoch =  23  the loss is =  0.056868571788072586  and accuracy is =  0.718253189401374\n",
            "At step  70  and at epoch =  24  the loss is =  0.05740009620785713  and accuracy is =  0.7243375858684985\n",
            "At step  70  and at epoch =  25  the loss is =  0.06573463976383209  and accuracy is =  0.7252208047105005\n",
            "At step  70  and at epoch =  26  the loss is =  0.05879003182053566  and accuracy is =  0.7242394504416094\n",
            "At step  70  and at epoch =  27  the loss is =  0.056174296885728836  and accuracy is =  0.7310107948969577\n",
            "At step  70  and at epoch =  28  the loss is =  0.05993799865245819  and accuracy is =  0.73297350343474\n",
            "At step  70  and at epoch =  29  the loss is =  0.06442614644765854  and accuracy is =  0.7360157016683022\n",
            "At step  70  and at epoch =  30  the loss is =  0.06141750141978264  and accuracy is =  0.7335623159960746\n",
            "At step  70  and at epoch =  31  the loss is =  0.06022505462169647  and accuracy is =  0.7350343473994112\n",
            "At step  70  and at epoch =  32  the loss is =  0.05434494465589523  and accuracy is =  0.7432777232580962\n",
            "At step  70  and at epoch =  33  the loss is =  0.05461326241493225  and accuracy is =  0.7405299313052012\n",
            "At step  70  and at epoch =  34  the loss is =  0.05143068730831146  and accuracy is =  0.7444553483807654\n",
            "At step  70  and at epoch =  35  the loss is =  0.060375895351171494  and accuracy is =  0.7390578999018645\n",
            "At step  70  and at epoch =  36  the loss is =  0.05882813408970833  and accuracy is =  0.7406280667320903\n",
            "At step  70  and at epoch =  37  the loss is =  0.05578770488500595  and accuracy is =  0.7395485770363102\n",
            "At step  70  and at epoch =  38  the loss is =  0.0548725388944149  and accuracy is =  0.7449460255152109\n",
            "At step  70  and at epoch =  39  the loss is =  0.05817210301756859  and accuracy is =  0.7466143277723258\n",
            "At step  70  and at epoch =  40  the loss is =  0.060126181691884995  and accuracy is =  0.7543670264965653\n",
            "At step  70  and at epoch =  41  the loss is =  0.06108609959483147  and accuracy is =  0.7540726202158979\n",
            "At step  70  and at epoch =  42  the loss is =  0.056904882192611694  and accuracy is =  0.7469087340529932\n",
            "At step  70  and at epoch =  43  the loss is =  0.05502094700932503  and accuracy is =  0.7540726202158979\n",
            "At step  70  and at epoch =  44  the loss is =  0.05862598866224289  and accuracy is =  0.759666339548577\n",
            "At step  70  and at epoch =  45  the loss is =  0.052654996514320374  and accuracy is =  0.752306182531894\n",
            "At step  70  and at epoch =  46  the loss is =  0.056405652314424515  and accuracy is =  0.7532875368007851\n",
            "At step  70  and at epoch =  47  the loss is =  0.06056962162256241  and accuracy is =  0.7527968596663396\n",
            "At step  70  and at epoch =  48  the loss is =  0.058965932577848434  and accuracy is =  0.7611383709519136\n",
            "At step  70  and at epoch =  49  the loss is =  0.05232173949480057  and accuracy is =  0.8020608439646713\n",
            "At step  70  and at epoch =  50  the loss is =  0.05456671118736267  and accuracy is =  0.8151128557409225\n",
            "At step  70  and at epoch =  51  the loss is =  0.0523720420897007  and accuracy is =  0.8182531894013739\n",
            "At step  70  and at epoch =  52  the loss is =  0.05683043599128723  and accuracy is =  0.820117762512267\n",
            "At step  70  and at epoch =  53  the loss is =  0.05255752056837082  and accuracy is =  0.822963689892051\n",
            "At step  70  and at epoch =  54  the loss is =  0.0582396425306797  and accuracy is =  0.8263984298331698\n",
            "At step  70  and at epoch =  55  the loss is =  0.05498392507433891  and accuracy is =  0.8309126594700686\n",
            "At step  70  and at epoch =  56  the loss is =  0.05031793192028999  and accuracy is =  0.8299313052011776\n",
            "At step  70  and at epoch =  57  the loss is =  0.05129636079072952  and accuracy is =  0.8293424926398429\n",
            "At step  70  and at epoch =  58  the loss is =  0.054470211267471313  and accuracy is =  0.8289499509322865\n",
            "At step  70  and at epoch =  59  the loss is =  0.05646854266524315  and accuracy is =  0.8365063788027478\n",
            "At step  70  and at epoch =  60  the loss is =  0.0475035086274147  and accuracy is =  0.8366045142296369\n",
            "At step  70  and at epoch =  61  the loss is =  0.043288517743349075  and accuracy is =  0.8324828263002944\n",
            "At step  70  and at epoch =  62  the loss is =  0.054407354444265366  and accuracy is =  0.8331697742885181\n",
            "At step  70  and at epoch =  63  the loss is =  0.05742240324616432  and accuracy is =  0.8384690873405299\n",
            "At step  70  and at epoch =  64  the loss is =  0.05458137020468712  and accuracy is =  0.8429833169774289\n",
            "At step  70  and at epoch =  65  the loss is =  0.05099201202392578  and accuracy is =  0.8397448478900883\n",
            "At step  70  and at epoch =  66  the loss is =  0.05029859393835068  and accuracy is =  0.8416094210009814\n",
            "At step  70  and at epoch =  67  the loss is =  0.04688391834497452  and accuracy is =  0.8487733071638862\n",
            "At step  70  and at epoch =  68  the loss is =  0.05502330884337425  and accuracy is =  0.8451422963689892\n",
            "At step  70  and at epoch =  69  the loss is =  0.048459917306900024  and accuracy is =  0.8427870461236506\n",
            "task: 70 train accuracy = 0.8342\n",
            "task: 70 test accuracy = 0.557125\n"
          ],
          "name": "stdout"
        },
        {
          "output_type": "display_data",
          "data": {
            "image/png": "[encoded data removed]",
            "text/plain": [
              "<Figure size 432x288 with 2 Axes>"
            ]
          },
          "metadata": {
            "tags": []
          }
        },
        {
          "output_type": "stream",
          "text": [
            "At step  80  and at epoch =  0  the loss is =  0.07328721135854721  and accuracy is =  0.4253831417624521\n",
            "At step  80  and at epoch =  1  the loss is =  0.07152435183525085  and accuracy is =  0.4874521072796935\n",
            "At step  80  and at epoch =  2  the loss is =  0.0750768855214119  and accuracy is =  0.521551724137931\n",
            "At step  80  and at epoch =  3  the loss is =  0.07176433503627777  and accuracy is =  0.54272030651341\n",
            "At step  80  and at epoch =  4  the loss is =  0.07526594400405884  and accuracy is =  0.5646551724137931\n",
            "At step  80  and at epoch =  5  the loss is =  0.06681686639785767  and accuracy is =  0.578735632183908\n",
            "At step  80  and at epoch =  6  the loss is =  0.06677520275115967  and accuracy is =  0.5884099616858237\n",
            "At step  80  and at epoch =  7  the loss is =  0.06750642508268356  and accuracy is =  0.6030651340996168\n",
            "At step  80  and at epoch =  8  the loss is =  0.06458910554647446  and accuracy is =  0.6079501915708813\n",
            "At step  80  and at epoch =  9  the loss is =  0.0687527060508728  and accuracy is =  0.6232758620689656\n",
            "At step  80  and at epoch =  10  the loss is =  0.06889127194881439  and accuracy is =  0.6261494252873563\n",
            "At step  80  and at epoch =  11  the loss is =  0.06880580633878708  and accuracy is =  0.6288314176245211\n",
            "At step  80  and at epoch =  12  the loss is =  0.06720797717571259  and accuracy is =  0.6408045977011494\n",
            "At step  80  and at epoch =  13  the loss is =  0.07166656851768494  and accuracy is =  0.6423371647509578\n",
            "At step  80  and at epoch =  14  the loss is =  0.06877373158931732  and accuracy is =  0.6490421455938697\n",
            "At step  80  and at epoch =  15  the loss is =  0.059548281133174896  and accuracy is =  0.657088122605364\n",
            "At step  80  and at epoch =  16  the loss is =  0.0718381330370903  and accuracy is =  0.6613026819923372\n",
            "At step  80  and at epoch =  17  the loss is =  0.06486731767654419  and accuracy is =  0.6620689655172414\n",
            "At step  80  and at epoch =  18  the loss is =  0.06405962258577347  and accuracy is =  0.6666666666666666\n",
            "At step  80  and at epoch =  19  the loss is =  0.06787247210741043  and accuracy is =  0.6754789272030651\n",
            "At step  80  and at epoch =  20  the loss is =  0.06575677543878555  and accuracy is =  0.674712643678161\n",
            "At step  80  and at epoch =  21  the loss is =  0.07036120444536209  and accuracy is =  0.6818965517241379\n",
            "At step  80  and at epoch =  22  the loss is =  0.06744277477264404  and accuracy is =  0.6829501915708812\n",
            "At step  80  and at epoch =  23  the loss is =  0.06716800481081009  and accuracy is =  0.6872605363984674\n",
            "At step  80  and at epoch =  24  the loss is =  0.07274661213159561  and accuracy is =  0.685536398467433\n",
            "At step  80  and at epoch =  25  the loss is =  0.06835296750068665  and accuracy is =  0.6877394636015326\n",
            "At step  80  and at epoch =  26  the loss is =  0.06654433161020279  and accuracy is =  0.6908045977011494\n",
            "At step  80  and at epoch =  27  the loss is =  0.06086813285946846  and accuracy is =  0.696168582375479\n",
            "At step  80  and at epoch =  28  the loss is =  0.07094860821962357  and accuracy is =  0.6954980842911878\n",
            "At step  80  and at epoch =  29  the loss is =  0.06326263397932053  and accuracy is =  0.6983716475095786\n",
            "At step  80  and at epoch =  30  the loss is =  0.07029197365045547  and accuracy is =  0.6923371647509579\n",
            "At step  80  and at epoch =  31  the loss is =  0.0673714354634285  and accuracy is =  0.6990421455938697\n",
            "At step  80  and at epoch =  32  the loss is =  0.06668872386217117  and accuracy is =  0.7075670498084291\n",
            "At step  80  and at epoch =  33  the loss is =  0.06909496337175369  and accuracy is =  0.7110153256704981\n",
            "At step  80  and at epoch =  34  the loss is =  0.07103276997804642  and accuracy is =  0.7049808429118773\n",
            "At step  80  and at epoch =  35  the loss is =  0.06761890649795532  and accuracy is =  0.7110153256704981\n",
            "At step  80  and at epoch =  36  the loss is =  0.06863231956958771  and accuracy is =  0.7195402298850575\n",
            "At step  80  and at epoch =  37  the loss is =  0.06701717525720596  and accuracy is =  0.7112068965517241\n",
            "At step  80  and at epoch =  38  the loss is =  0.0664450004696846  and accuracy is =  0.7136015325670498\n",
            "At step  80  and at epoch =  39  the loss is =  0.06185174360871315  and accuracy is =  0.7168582375478927\n",
            "At step  80  and at epoch =  40  the loss is =  0.06740645319223404  and accuracy is =  0.7116858237547893\n",
            "At step  80  and at epoch =  41  the loss is =  0.06509995460510254  and accuracy is =  0.7212643678160919\n",
            "At step  80  and at epoch =  42  the loss is =  0.05811628699302673  and accuracy is =  0.7202107279693487\n",
            "At step  80  and at epoch =  43  the loss is =  0.06202336773276329  and accuracy is =  0.7217432950191571\n",
            "At step  80  and at epoch =  44  the loss is =  0.07186000049114227  and accuracy is =  0.7207854406130269\n",
            "At step  80  and at epoch =  45  the loss is =  0.06478429585695267  and accuracy is =  0.7256704980842912\n",
            "At step  80  and at epoch =  46  the loss is =  0.06299523264169693  and accuracy is =  0.7232758620689655\n",
            "At step  80  and at epoch =  47  the loss is =  0.0689207911491394  and accuracy is =  0.721551724137931\n",
            "At step  80  and at epoch =  48  the loss is =  0.06632214039564133  and accuracy is =  0.7313218390804598\n",
            "At step  80  and at epoch =  49  the loss is =  0.06721237301826477  and accuracy is =  0.771264367816092\n",
            "At step  80  and at epoch =  50  the loss is =  0.06464799493551254  and accuracy is =  0.792911877394636\n",
            "At step  80  and at epoch =  51  the loss is =  0.06372836977243423  and accuracy is =  0.7940613026819924\n",
            "At step  80  and at epoch =  52  the loss is =  0.06439622491598129  and accuracy is =  0.8009578544061303\n",
            "At step  80  and at epoch =  53  the loss is =  0.05794366076588631  and accuracy is =  0.8062260536398468\n",
            "At step  80  and at epoch =  54  the loss is =  0.06427137553691864  and accuracy is =  0.8081417624521072\n",
            "At step  80  and at epoch =  55  the loss is =  0.06264513731002808  and accuracy is =  0.8073754789272031\n",
            "At step  80  and at epoch =  56  the loss is =  0.0622749887406826  and accuracy is =  0.810823754789272\n",
            "At step  80  and at epoch =  57  the loss is =  0.059194616973400116  and accuracy is =  0.8134099616858238\n",
            "At step  80  and at epoch =  58  the loss is =  0.06481339037418365  and accuracy is =  0.8116858237547893\n",
            "At step  80  and at epoch =  59  the loss is =  0.05961519107222557  and accuracy is =  0.8193486590038315\n",
            "At step  80  and at epoch =  60  the loss is =  0.06039276346564293  and accuracy is =  0.8163793103448276\n",
            "At step  80  and at epoch =  61  the loss is =  0.05793385207653046  and accuracy is =  0.8118773946360153\n",
            "At step  80  and at epoch =  62  the loss is =  0.06607918441295624  and accuracy is =  0.8199233716475096\n",
            "At step  80  and at epoch =  63  the loss is =  0.057412538677453995  and accuracy is =  0.8225095785440613\n",
            "At step  80  and at epoch =  64  the loss is =  0.0586908794939518  and accuracy is =  0.8280651340996169\n",
            "At step  80  and at epoch =  65  the loss is =  0.06347379833459854  and accuracy is =  0.8246168582375479\n",
            "At step  80  and at epoch =  66  the loss is =  0.05647372081875801  and accuracy is =  0.8261494252873564\n",
            "At step  80  and at epoch =  67  the loss is =  0.05715698003768921  and accuracy is =  0.8293103448275863\n",
            "At step  80  and at epoch =  68  the loss is =  0.06096651777625084  and accuracy is =  0.8226053639846743\n",
            "At step  80  and at epoch =  69  the loss is =  0.06289876997470856  and accuracy is =  0.8261494252873564\n",
            "task: 80 train accuracy = 0.784\n",
            "task: 80 test accuracy = 0.5265555555555556\n"
          ],
          "name": "stdout"
        },
        {
          "output_type": "display_data",
          "data": {
            "image/png": "[encoded data removed]",
            "text/plain": [
              "<Figure size 432x288 with 2 Axes>"
            ]
          },
          "metadata": {
            "tags": []
          }
        },
        {
          "output_type": "stream",
          "text": [
            "At step  90  and at epoch =  0  the loss is =  0.08535147458314896  and accuracy is =  0.4227954971857411\n",
            "At step  90  and at epoch =  1  the loss is =  0.08231018483638763  and accuracy is =  0.4950281425891182\n",
            "At step  90  and at epoch =  2  the loss is =  0.07341602444648743  and accuracy is =  0.5393996247654784\n",
            "At step  90  and at epoch =  3  the loss is =  0.07298402488231659  and accuracy is =  0.5551594746716698\n",
            "At step  90  and at epoch =  4  the loss is =  0.07149110734462738  and accuracy is =  0.5766416510318949\n",
            "At step  90  and at epoch =  5  the loss is =  0.07245880365371704  and accuracy is =  0.5857410881801126\n",
            "At step  90  and at epoch =  6  the loss is =  0.07513263821601868  and accuracy is =  0.5964352720450281\n",
            "At step  90  and at epoch =  7  the loss is =  0.06918898969888687  and accuracy is =  0.6058161350844278\n",
            "At step  90  and at epoch =  8  the loss is =  0.06966813653707504  and accuracy is =  0.6136960600375234\n",
            "At step  90  and at epoch =  9  the loss is =  0.07443715631961823  and accuracy is =  0.6190431519699813\n",
            "At step  90  and at epoch =  10  the loss is =  0.06706186383962631  and accuracy is =  0.624390243902439\n",
            "At step  90  and at epoch =  11  the loss is =  0.06387701630592346  and accuracy is =  0.6349906191369606\n",
            "At step  90  and at epoch =  12  the loss is =  0.07152625173330307  and accuracy is =  0.6380863039399625\n",
            "At step  90  and at epoch =  13  the loss is =  0.0778721272945404  and accuracy is =  0.6426829268292683\n",
            "At step  90  and at epoch =  14  the loss is =  0.07262744754552841  and accuracy is =  0.64812382739212\n",
            "At step  90  and at epoch =  15  the loss is =  0.07981279492378235  and accuracy is =  0.6470919324577861\n",
            "At step  90  and at epoch =  16  the loss is =  0.07948759198188782  and accuracy is =  0.6541275797373358\n",
            "At step  90  and at epoch =  17  the loss is =  0.08050708472728729  and accuracy is =  0.6628517823639775\n",
            "At step  90  and at epoch =  18  the loss is =  0.07372807711362839  and accuracy is =  0.6596622889305817\n",
            "At step  90  and at epoch =  19  the loss is =  0.06814941763877869  and accuracy is =  0.6605065666041275\n",
            "At step  90  and at epoch =  20  the loss is =  0.08837874978780746  and accuracy is =  0.674765478424015\n",
            "At step  90  and at epoch =  21  the loss is =  0.0797661766409874  and accuracy is =  0.6691369606003752\n",
            "At step  90  and at epoch =  22  the loss is =  0.06784108281135559  and accuracy is =  0.673733583489681\n",
            "At step  90  and at epoch =  23  the loss is =  0.07071136683225632  and accuracy is =  0.6792682926829269\n",
            "At step  90  and at epoch =  24  the loss is =  0.07525978237390518  and accuracy is =  0.6809568480300188\n",
            "At step  90  and at epoch =  25  the loss is =  0.06871525198221207  and accuracy is =  0.6871482176360225\n",
            "At step  90  and at epoch =  26  the loss is =  0.0785522311925888  and accuracy is =  0.6824577861163227\n",
            "At step  90  and at epoch =  27  the loss is =  0.061075083911418915  and accuracy is =  0.6796435272045028\n",
            "At step  90  and at epoch =  28  the loss is =  0.06993983685970306  and accuracy is =  0.6849906191369606\n",
            "At step  90  and at epoch =  29  the loss is =  0.06672849506139755  and accuracy is =  0.6859287054409006\n",
            "At step  90  and at epoch =  30  the loss is =  0.062106791883707047  and accuracy is =  0.6901500938086303\n",
            "At step  90  and at epoch =  31  the loss is =  0.07196836173534393  and accuracy is =  0.69859287054409\n",
            "At step  90  and at epoch =  32  the loss is =  0.06847621500492096  and accuracy is =  0.6937148217636022\n",
            "At step  90  and at epoch =  33  the loss is =  0.06595189869403839  and accuracy is =  0.6934333958724203\n",
            "At step  90  and at epoch =  34  the loss is =  0.07121920585632324  and accuracy is =  0.699343339587242\n",
            "At step  90  and at epoch =  35  the loss is =  0.07960427552461624  and accuracy is =  0.700187617260788\n",
            "At step  90  and at epoch =  36  the loss is =  0.07438622415065765  and accuracy is =  0.6959662288930581\n",
            "At step  90  and at epoch =  37  the loss is =  0.06398522853851318  and accuracy is =  0.7048780487804878\n",
            "At step  90  and at epoch =  38  the loss is =  0.07514144480228424  and accuracy is =  0.7106941838649156\n",
            "At step  90  and at epoch =  39  the loss is =  0.07633821666240692  and accuracy is =  0.7090994371482177\n",
            "At step  90  and at epoch =  40  the loss is =  0.08023098856210709  and accuracy is =  0.7041275797373359\n",
            "At step  90  and at epoch =  41  the loss is =  0.06848879158496857  and accuracy is =  0.7115384615384616\n",
            "At step  90  and at epoch =  42  the loss is =  0.07780731469392776  and accuracy is =  0.7139774859287055\n",
            "At step  90  and at epoch =  43  the loss is =  0.07881440967321396  and accuracy is =  0.7105065666041276\n",
            "At step  90  and at epoch =  44  the loss is =  0.06740876287221909  and accuracy is =  0.7078799249530957\n",
            "At step  90  and at epoch =  45  the loss is =  0.07534166425466537  and accuracy is =  0.7170731707317073\n",
            "At step  90  and at epoch =  46  the loss is =  0.07635539025068283  and accuracy is =  0.7143527204502814\n",
            "At step  90  and at epoch =  47  the loss is =  0.070374496281147  and accuracy is =  0.7105065666041276\n",
            "At step  90  and at epoch =  48  the loss is =  0.06449685245752335  and accuracy is =  0.7076923076923077\n",
            "At step  90  and at epoch =  49  the loss is =  0.0674777701497078  and accuracy is =  0.7541275797373358\n",
            "At step  90  and at epoch =  50  the loss is =  0.07677358388900757  and accuracy is =  0.7720450281425891\n",
            "At step  90  and at epoch =  51  the loss is =  0.06878968328237534  and accuracy is =  0.7823639774859287\n",
            "At step  90  and at epoch =  52  the loss is =  0.06699322909116745  and accuracy is =  0.7769230769230769\n",
            "At step  90  and at epoch =  53  the loss is =  0.06394573301076889  and accuracy is =  0.7845215759849906\n",
            "At step  90  and at epoch =  54  the loss is =  0.06883171200752258  and accuracy is =  0.7893058161350844\n",
            "At step  90  and at epoch =  55  the loss is =  0.06380962580442429  and accuracy is =  0.7896810506566604\n",
            "At step  90  and at epoch =  56  the loss is =  0.06092723459005356  and accuracy is =  0.7898686679174484\n",
            "At step  90  and at epoch =  57  the loss is =  0.05918441340327263  and accuracy is =  0.7937148217636022\n",
            "At step  90  and at epoch =  58  the loss is =  0.06972423195838928  and accuracy is =  0.7913696060037524\n",
            "At step  90  and at epoch =  59  the loss is =  0.062094490975141525  and accuracy is =  0.7934333958724202\n",
            "At step  90  and at epoch =  60  the loss is =  0.07191409915685654  and accuracy is =  0.7927767354596623\n",
            "At step  90  and at epoch =  61  the loss is =  0.07337043434381485  and accuracy is =  0.7924015009380863\n",
            "At step  90  and at epoch =  62  the loss is =  0.06508632004261017  and accuracy is =  0.7974671669793622\n",
            "At step  90  and at epoch =  63  the loss is =  0.06713026762008667  and accuracy is =  0.799812382739212\n",
            "At step  90  and at epoch =  64  the loss is =  0.06294026225805283  and accuracy is =  0.8031894934333959\n",
            "At step  90  and at epoch =  65  the loss is =  0.07169028371572495  and accuracy is =  0.8020637898686679\n",
            "At step  90  and at epoch =  66  the loss is =  0.061680689454078674  and accuracy is =  0.8030018761726079\n",
            "At step  90  and at epoch =  67  the loss is =  0.07261954247951508  and accuracy is =  0.8060975609756098\n",
            "At step  90  and at epoch =  68  the loss is =  0.06823298335075378  and accuracy is =  0.8039399624765479\n",
            "At step  90  and at epoch =  69  the loss is =  0.06775304675102234  and accuracy is =  0.8066604127579737\n",
            "task: 90 train accuracy = 0.7638\n",
            "task: 90 test accuracy = 0.4959\n"
          ],
          "name": "stdout"
        },
        {
          "output_type": "display_data",
          "data": {
            "image/png": "[encoded data removed]",
            "text/plain": [
              "<Figure size 432x288 with 2 Axes>"
            ]
          },
          "metadata": {
            "tags": []
          }
        }
      ]
    },
    {
      "cell_type": "code",
      "metadata": {
        "id": "Z4_a4Ut-Or2N",
        "colab_type": "code",
        "colab": {}
      },
      "source": [
        "accs = [.897,.80,.76,.69,.64,.58,.54,.52,.48,.46]"
      ],
      "execution_count": 11,
      "outputs": []
    },
    {
      "cell_type": "code",
      "metadata": {
        "id": "WAayIE_aPFWg",
        "colab_type": "code",
        "colab": {}
      },
      "source": [
        "import numpy as np\n",
        "import seaborn as sn\n",
        "import pandas as pd\n",
        "import matplotlib.pyplot as plt\n",
        "def plotTask(pars_tasks):\n",
        "\n",
        "  x_tasks =  np.linspace(10, 100, 10)\n",
        "\n",
        "  plt.plot(x_tasks, pars_tasks, label=['Accuracy'])\n",
        "  plt.xlabel(\"Epoch\")\n",
        "  plt.ylim(0,1)\n",
        "  plt.title('Accuracy over tasks')\n",
        "  plt.legend(['Accuracy'])\n",
        "  plt.grid(True)\n",
        "  plt.show()"
      ],
      "execution_count": 12,
      "outputs": []
    },
    {
      "cell_type": "code",
      "metadata": {
        "id": "2RnKOCdaPM9X",
        "colab_type": "code",
        "colab": {
          "base_uri": "https://localhost:8080/",
          "height": 282
        },
        "outputId": "235b8095-a5db-4d9c-e143-a8f05c60f90b"
      },
      "source": [
        "plotTask(accs)"
      ],
      "execution_count": 13,
      "outputs": [
        {
          "output_type": "display_data",
          "data": {
            "image/png": "[encoded data removed]",
            "text/plain": [
              "<Figure size 432x288 with 1 Axes>"
            ]
          },
          "metadata": {
            "tags": []
          }
        }
      ]
    },
    {
      "cell_type": "code",
      "metadata": {
        "id": "06OjJ60-H0SI",
        "colab_type": "code",
        "colab": {
          "base_uri": "https://localhost:8080/",
          "height": 119
        },
        "outputId": "c499fb91-dc95-4f85-96a3-2a5f6192f1f2"
      },
      "source": [
        "np.diagonal(cf)"
      ],
      "execution_count": 14,
      "outputs": [
        {
          "output_type": "execute_result",
          "data": {
            "text/plain": [
              "array([92, 58, 53, 81, 37, 80, 70, 58, 72, 93, 87, 26, 45, 60, 76, 57, 51,\n",
              "       51, 45, 74, 64, 59, 64, 59, 41, 47, 51, 68, 44, 50, 59, 69, 30, 57,\n",
              "       45, 57, 32, 39, 50, 62, 17, 50, 54, 12, 24, 23, 38, 57, 38, 41, 38,\n",
              "       45, 60, 26, 46, 35, 30, 44, 40, 20, 54, 48, 52, 41, 30, 43, 36, 74,\n",
              "       25, 22, 33, 50, 61, 58, 37, 71, 65, 46, 41, 41, 27, 32, 29, 41, 38,\n",
              "       29, 46, 37, 57, 53, 80, 52, 57, 68, 45, 36, 41, 67, 71, 74])"
            ]
          },
          "metadata": {
            "tags": []
          },
          "execution_count": 14
        }
      ]
    },
    {
      "cell_type": "code",
      "metadata": {
        "id": "jCn6mP7FH6w_",
        "colab_type": "code",
        "colab": {
          "base_uri": "https://localhost:8080/",
          "height": 153
        },
        "outputId": "d05175e8-9c94-43e9-d0d3-9b5c5a5b2014"
      },
      "source": [
        "true = np.sum(cf, axis=1)\n",
        "true"
      ],
      "execution_count": 15,
      "outputs": [
        {
          "output_type": "execute_result",
          "data": {
            "text/plain": [
              "array([100, 100, 100, 100, 100, 100, 100, 100, 100, 100, 100, 100, 100,\n",
              "       100, 100, 100, 100, 100, 100, 100, 100, 100, 100, 100, 100, 100,\n",
              "       100, 100, 100, 100, 100, 100, 100, 100, 100, 100, 100, 100, 100,\n",
              "       100, 100, 100, 100, 100, 100, 100, 100, 100, 100, 100, 100, 100,\n",
              "       100, 100, 100, 100, 100, 100, 100, 100, 100, 100, 100, 100, 100,\n",
              "       100, 100, 100, 100, 100, 100, 100, 100, 100, 100, 100, 100, 100,\n",
              "       100, 100, 100, 100, 100, 100, 100, 100, 100, 100, 100, 100, 100,\n",
              "       100, 100, 100, 100, 100, 100, 100, 100, 100])"
            ]
          },
          "metadata": {
            "tags": []
          },
          "execution_count": 15
        }
      ]
    },
    {
      "cell_type": "code",
      "metadata": {
        "id": "5dzn4m6VIYfb",
        "colab_type": "code",
        "colab": {
          "base_uri": "https://localhost:8080/",
          "height": 153
        },
        "outputId": "b89c5ad9-827e-4563-f47c-4123e6517899"
      },
      "source": [
        "pred = np.sum(cf, axis=0)\n",
        "pred"
      ],
      "execution_count": 16,
      "outputs": [
        {
          "output_type": "execute_result",
          "data": {
            "text/plain": [
              "array([137, 111, 174, 137, 101,  98, 113, 124, 142, 146,  99,  98,  78,\n",
              "       125, 100, 104,  74,  81, 104,  96,  79,  99,  85, 101,  54,  69,\n",
              "        96, 104,  78,  72,  84, 132,  83,  76, 149,  85,  66,  66,  99,\n",
              "        85,  64,  78,  97,  62, 141,  70, 100,  73,  75,  83, 104,  93,\n",
              "        88,  96, 118,  63,  86, 123,  82, 109, 101,  94,  99,  65,  85,\n",
              "        80,  80, 130, 178, 141, 102,  90,  80,  81,  93, 121,  92, 124,\n",
              "        96,  95, 124,  51,  92,  72, 102,  47, 102,  84, 131, 100, 119,\n",
              "       144, 169, 103, 106, 138, 158, 102, 103, 117])"
            ]
          },
          "metadata": {
            "tags": []
          },
          "execution_count": 16
        }
      ]
    },
    {
      "cell_type": "code",
      "metadata": {
        "id": "S1QrlS0-Xiga",
        "colab_type": "code",
        "colab": {}
      },
      "source": [
        "pred = np.array([137,  98, 142, 112,  39,  82, 116,  96, 145, 112,  84, 110,  59,\n",
        "        96,  73,  78,  50,  91,  98,  92,  64, 109,  91,  72,  38,  70,\n",
        "        76,  81,  89, 102,  81, 116,  72,  59, 177,  59,  62,  63,  93,\n",
        "        90,  72,  79, 102,  52, 162,  68,  67,  80,  65,  98,  80,  65,\n",
        "        84,  96, 121,  53,  77, 136,  69, 103,  76,  94, 109,  79, 126,\n",
        "        61, 126, 106, 182,  68, 122,  94,  90,  80,  80, 159,  98, 132,\n",
        "       145,  88, 170,  77,  79,  78, 131,  74, 149,  70, 149, 114, 102,\n",
        "       172, 212, 134, 124, 187, 189, 114, 126, 131])"
      ],
      "execution_count": 17,
      "outputs": []
    },
    {
      "cell_type": "code",
      "metadata": {
        "id": "UlRx8JD01HDc",
        "colab_type": "code",
        "colab": {
          "base_uri": "https://localhost:8080/",
          "height": 1000
        },
        "outputId": "b54f0010-763d-4737-f5df-093f4a036a0a"
      },
      "source": [
        "i = 0\n",
        "for el, name in zip(pred,trainDS.__getClassesNames__()) :\n",
        "  print('classe', i, 'name', name, ',preds', el)\n",
        "  i+=1"
      ],
      "execution_count": 18,
      "outputs": [
        {
          "output_type": "stream",
          "text": [
            "classe 0 name apple ,preds 137\n",
            "classe 1 name aquarium_fish ,preds 98\n",
            "classe 2 name baby ,preds 142\n",
            "classe 3 name bear ,preds 112\n",
            "classe 4 name beaver ,preds 39\n",
            "classe 5 name bed ,preds 82\n",
            "classe 6 name bee ,preds 116\n",
            "classe 7 name beetle ,preds 96\n",
            "classe 8 name bicycle ,preds 145\n",
            "classe 9 name bottle ,preds 112\n",
            "classe 10 name bowl ,preds 84\n",
            "classe 11 name boy ,preds 110\n",
            "classe 12 name bridge ,preds 59\n",
            "classe 13 name bus ,preds 96\n",
            "classe 14 name butterfly ,preds 73\n",
            "classe 15 name camel ,preds 78\n",
            "classe 16 name can ,preds 50\n",
            "classe 17 name castle ,preds 91\n",
            "classe 18 name caterpillar ,preds 98\n",
            "classe 19 name cattle ,preds 92\n",
            "classe 20 name chair ,preds 64\n",
            "classe 21 name chimpanzee ,preds 109\n",
            "classe 22 name clock ,preds 91\n",
            "classe 23 name cloud ,preds 72\n",
            "classe 24 name cockroach ,preds 38\n",
            "classe 25 name couch ,preds 70\n",
            "classe 26 name crab ,preds 76\n",
            "classe 27 name crocodile ,preds 81\n",
            "classe 28 name cup ,preds 89\n",
            "classe 29 name dinosaur ,preds 102\n",
            "classe 30 name dolphin ,preds 81\n",
            "classe 31 name elephant ,preds 116\n",
            "classe 32 name flatfish ,preds 72\n",
            "classe 33 name forest ,preds 59\n",
            "classe 34 name fox ,preds 177\n",
            "classe 35 name girl ,preds 59\n",
            "classe 36 name hamster ,preds 62\n",
            "classe 37 name house ,preds 63\n",
            "classe 38 name kangaroo ,preds 93\n",
            "classe 39 name keyboard ,preds 90\n",
            "classe 40 name lamp ,preds 72\n",
            "classe 41 name lawn_mower ,preds 79\n",
            "classe 42 name leopard ,preds 102\n",
            "classe 43 name lion ,preds 52\n",
            "classe 44 name lizard ,preds 162\n",
            "classe 45 name lobster ,preds 68\n",
            "classe 46 name man ,preds 67\n",
            "classe 47 name maple_tree ,preds 80\n",
            "classe 48 name motorcycle ,preds 65\n",
            "classe 49 name mountain ,preds 98\n",
            "classe 50 name mouse ,preds 80\n",
            "classe 51 name mushroom ,preds 65\n",
            "classe 52 name oak_tree ,preds 84\n",
            "classe 53 name orange ,preds 96\n",
            "classe 54 name orchid ,preds 121\n",
            "classe 55 name otter ,preds 53\n",
            "classe 56 name palm_tree ,preds 77\n",
            "classe 57 name pear ,preds 136\n",
            "classe 58 name pickup_truck ,preds 69\n",
            "classe 59 name pine_tree ,preds 103\n",
            "classe 60 name plain ,preds 76\n",
            "classe 61 name plate ,preds 94\n",
            "classe 62 name poppy ,preds 109\n",
            "classe 63 name porcupine ,preds 79\n",
            "classe 64 name possum ,preds 126\n",
            "classe 65 name rabbit ,preds 61\n",
            "classe 66 name raccoon ,preds 126\n",
            "classe 67 name ray ,preds 106\n",
            "classe 68 name road ,preds 182\n",
            "classe 69 name rocket ,preds 68\n",
            "classe 70 name rose ,preds 122\n",
            "classe 71 name sea ,preds 94\n",
            "classe 72 name seal ,preds 90\n",
            "classe 73 name shark ,preds 80\n",
            "classe 74 name shrew ,preds 80\n",
            "classe 75 name skunk ,preds 159\n",
            "classe 76 name skyscraper ,preds 98\n",
            "classe 77 name snail ,preds 132\n",
            "classe 78 name snake ,preds 145\n",
            "classe 79 name spider ,preds 88\n",
            "classe 80 name squirrel ,preds 170\n",
            "classe 81 name streetcar ,preds 77\n",
            "classe 82 name sunflower ,preds 79\n",
            "classe 83 name sweet_pepper ,preds 78\n",
            "classe 84 name table ,preds 131\n",
            "classe 85 name tank ,preds 74\n",
            "classe 86 name telephone ,preds 149\n",
            "classe 87 name television ,preds 70\n",
            "classe 88 name tiger ,preds 149\n",
            "classe 89 name tractor ,preds 114\n",
            "classe 90 name train ,preds 102\n",
            "classe 91 name trout ,preds 172\n",
            "classe 92 name tulip ,preds 212\n",
            "classe 93 name turtle ,preds 134\n",
            "classe 94 name wardrobe ,preds 124\n",
            "classe 95 name whale ,preds 187\n",
            "classe 96 name willow_tree ,preds 189\n",
            "classe 97 name wolf ,preds 114\n",
            "classe 98 name woman ,preds 126\n",
            "classe 99 name worm ,preds 131\n"
          ],
          "name": "stdout"
        }
      ]
    },
    {
      "cell_type": "code",
      "metadata": {
        "id": "FeuEDFid1qOE",
        "colab_type": "code",
        "colab": {
          "base_uri": "https://localhost:8080/",
          "height": 187
        },
        "outputId": "7cc34c25-7f4a-4a0f-c483-2e4b87f1dcd2"
      },
      "source": [
        "train_splits"
      ],
      "execution_count": 19,
      "outputs": [
        {
          "output_type": "execute_result",
          "data": {
            "text/plain": [
              "[[94.0, 63.0, 74.0, 21.0, 35.0, 56.0, 91.0, 96.0, 87.0, 48.0],\n",
              " [68.0, 80.0, 22.0, 37.0, 60.0, 97.0, 51.0, 62.0, 92.0, 76.0],\n",
              " [75.0, 89.0, 23.0, 99.0, 39.0, 66.0, 54.0, 69.0, 84.0, 61.0],\n",
              " [85.0, 24.0, 98.0, 41.0, 73.0, 58.0, 78.0, 77.0, 70.0, 49.0],\n",
              " [65.0, 88.0, 36.0, 93.0, 45.0, 10.0, 90.0, 17.0, 32.0, 59.0],\n",
              " [83.0, 43.0, 53.0, 11.0, 86.0, 19.0, 38.0, 30.0, 40.0, 50.0],\n",
              " [57.0, 81.0, 12.0, 95.0, 25.0, 47.0, 34.0, 52.0, 44.0, 72.0],\n",
              " [46.0, 79.0, 20.0, 28.0, 5.0, 71.0, 8.0, 18.0, 33.0, 15.0],\n",
              " [55.0, 29.0, 64.0, 31.0, 67.0, 7.0, 13.0, 14.0, 42.0, 6.0],\n",
              " [82.0, 2.0, 27.0, 16.0, 26.0, 3.0, 4.0, 1.0, 9.0, 0.0]]"
            ]
          },
          "metadata": {
            "tags": []
          },
          "execution_count": 19
        }
      ]
    },
    {
      "cell_type": "code",
      "metadata": {
        "id": "Y3bivRc41rd5",
        "colab_type": "code",
        "colab": {
          "base_uri": "https://localhost:8080/",
          "height": 1000
        },
        "outputId": "d89c8829-18e3-4911-bd33-f4e8f7edebc9"
      },
      "source": [
        "trainDS.__getClassesNames__()"
      ],
      "execution_count": 20,
      "outputs": [
        {
          "output_type": "execute_result",
          "data": {
            "text/plain": [
              "['apple',\n",
              " 'aquarium_fish',\n",
              " 'baby',\n",
              " 'bear',\n",
              " 'beaver',\n",
              " 'bed',\n",
              " 'bee',\n",
              " 'beetle',\n",
              " 'bicycle',\n",
              " 'bottle',\n",
              " 'bowl',\n",
              " 'boy',\n",
              " 'bridge',\n",
              " 'bus',\n",
              " 'butterfly',\n",
              " 'camel',\n",
              " 'can',\n",
              " 'castle',\n",
              " 'caterpillar',\n",
              " 'cattle',\n",
              " 'chair',\n",
              " 'chimpanzee',\n",
              " 'clock',\n",
              " 'cloud',\n",
              " 'cockroach',\n",
              " 'couch',\n",
              " 'crab',\n",
              " 'crocodile',\n",
              " 'cup',\n",
              " 'dinosaur',\n",
              " 'dolphin',\n",
              " 'elephant',\n",
              " 'flatfish',\n",
              " 'forest',\n",
              " 'fox',\n",
              " 'girl',\n",
              " 'hamster',\n",
              " 'house',\n",
              " 'kangaroo',\n",
              " 'keyboard',\n",
              " 'lamp',\n",
              " 'lawn_mower',\n",
              " 'leopard',\n",
              " 'lion',\n",
              " 'lizard',\n",
              " 'lobster',\n",
              " 'man',\n",
              " 'maple_tree',\n",
              " 'motorcycle',\n",
              " 'mountain',\n",
              " 'mouse',\n",
              " 'mushroom',\n",
              " 'oak_tree',\n",
              " 'orange',\n",
              " 'orchid',\n",
              " 'otter',\n",
              " 'palm_tree',\n",
              " 'pear',\n",
              " 'pickup_truck',\n",
              " 'pine_tree',\n",
              " 'plain',\n",
              " 'plate',\n",
              " 'poppy',\n",
              " 'porcupine',\n",
              " 'possum',\n",
              " 'rabbit',\n",
              " 'raccoon',\n",
              " 'ray',\n",
              " 'road',\n",
              " 'rocket',\n",
              " 'rose',\n",
              " 'sea',\n",
              " 'seal',\n",
              " 'shark',\n",
              " 'shrew',\n",
              " 'skunk',\n",
              " 'skyscraper',\n",
              " 'snail',\n",
              " 'snake',\n",
              " 'spider',\n",
              " 'squirrel',\n",
              " 'streetcar',\n",
              " 'sunflower',\n",
              " 'sweet_pepper',\n",
              " 'table',\n",
              " 'tank',\n",
              " 'telephone',\n",
              " 'television',\n",
              " 'tiger',\n",
              " 'tractor',\n",
              " 'train',\n",
              " 'trout',\n",
              " 'tulip',\n",
              " 'turtle',\n",
              " 'wardrobe',\n",
              " 'whale',\n",
              " 'willow_tree',\n",
              " 'wolf',\n",
              " 'woman',\n",
              " 'worm']"
            ]
          },
          "metadata": {
            "tags": []
          },
          "execution_count": 20
        }
      ]
    }
  ]
}