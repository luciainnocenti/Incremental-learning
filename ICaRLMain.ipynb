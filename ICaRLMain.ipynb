{
  "nbformat": 4,
  "nbformat_minor": 0,
  "metadata": {
    "colab": {
      "name": "Copy of ICaRLMain.ipynb",
      "provenance": [],
      "collapsed_sections": [],
      "include_colab_link": true
    },
    "kernelspec": {
      "name": "python3",
      "display_name": "Python 3"
    },
    "accelerator": "GPU",
    "widgets": {
      "application/vnd.jupyter.widget-state+json": {
        "c4583c8031654976aeeeb9021a30b84e": {
          "model_module": "@jupyter-widgets/controls",
          "model_name": "HBoxModel",
          "state": {
            "_view_name": "HBoxView",
            "_dom_classes": [],
            "_model_name": "HBoxModel",
            "_view_module": "@jupyter-widgets/controls",
            "_model_module_version": "1.5.0",
            "_view_count": null,
            "_view_module_version": "1.5.0",
            "box_style": "",
            "layout": "IPY_MODEL_c18f1ce5b5b84a26bc3465e9605ebcb6",
            "_model_module": "@jupyter-widgets/controls",
            "children": [
              "IPY_MODEL_78dd5413fa3e421482725f4f0c2c771f",
              "IPY_MODEL_b384a4cc03a5441d9a205d99d4fc554d"
            ]
          }
        },
        "c18f1ce5b5b84a26bc3465e9605ebcb6": {
          "model_module": "@jupyter-widgets/base",
          "model_name": "LayoutModel",
          "state": {
            "_view_name": "LayoutView",
            "grid_template_rows": null,
            "right": null,
            "justify_content": null,
            "_view_module": "@jupyter-widgets/base",
            "overflow": null,
            "_model_module_version": "1.2.0",
            "_view_count": null,
            "flex_flow": null,
            "width": null,
            "min_width": null,
            "border": null,
            "align_items": null,
            "bottom": null,
            "_model_module": "@jupyter-widgets/base",
            "top": null,
            "grid_column": null,
            "overflow_y": null,
            "overflow_x": null,
            "grid_auto_flow": null,
            "grid_area": null,
            "grid_template_columns": null,
            "flex": null,
            "_model_name": "LayoutModel",
            "justify_items": null,
            "grid_row": null,
            "max_height": null,
            "align_content": null,
            "visibility": null,
            "align_self": null,
            "height": null,
            "min_height": null,
            "padding": null,
            "grid_auto_rows": null,
            "grid_gap": null,
            "max_width": null,
            "order": null,
            "_view_module_version": "1.2.0",
            "grid_template_areas": null,
            "object_position": null,
            "object_fit": null,
            "grid_auto_columns": null,
            "margin": null,
            "display": null,
            "left": null
          }
        },
        "78dd5413fa3e421482725f4f0c2c771f": {
          "model_module": "@jupyter-widgets/controls",
          "model_name": "FloatProgressModel",
          "state": {
            "_view_name": "ProgressView",
            "style": "IPY_MODEL_9140c261bc6a4deda6b5ecd9cfebec7a",
            "_dom_classes": [],
            "description": "",
            "_model_name": "FloatProgressModel",
            "bar_style": "info",
            "max": 1,
            "_view_module": "@jupyter-widgets/controls",
            "_model_module_version": "1.5.0",
            "value": 1,
            "_view_count": null,
            "_view_module_version": "1.5.0",
            "orientation": "horizontal",
            "min": 0,
            "description_tooltip": null,
            "_model_module": "@jupyter-widgets/controls",
            "layout": "IPY_MODEL_433ec59c0b374ede9616d3a330e82f2c"
          }
        },
        "b384a4cc03a5441d9a205d99d4fc554d": {
          "model_module": "@jupyter-widgets/controls",
          "model_name": "HTMLModel",
          "state": {
            "_view_name": "HTMLView",
            "style": "IPY_MODEL_8ca3c0764a0c40dbac4ff97fbc3589de",
            "_dom_classes": [],
            "description": "",
            "_model_name": "HTMLModel",
            "placeholder": "​",
            "_view_module": "@jupyter-widgets/controls",
            "_model_module_version": "1.5.0",
            "value": " 169009152/? [00:20&lt;00:00, 33292219.44it/s]",
            "_view_count": null,
            "_view_module_version": "1.5.0",
            "description_tooltip": null,
            "_model_module": "@jupyter-widgets/controls",
            "layout": "IPY_MODEL_cec6f29eef5d4da0b8c15695e014ec88"
          }
        },
        "9140c261bc6a4deda6b5ecd9cfebec7a": {
          "model_module": "@jupyter-widgets/controls",
          "model_name": "ProgressStyleModel",
          "state": {
            "_view_name": "StyleView",
            "_model_name": "ProgressStyleModel",
            "description_width": "initial",
            "_view_module": "@jupyter-widgets/base",
            "_model_module_version": "1.5.0",
            "_view_count": null,
            "_view_module_version": "1.2.0",
            "bar_color": null,
            "_model_module": "@jupyter-widgets/controls"
          }
        },
        "433ec59c0b374ede9616d3a330e82f2c": {
          "model_module": "@jupyter-widgets/base",
          "model_name": "LayoutModel",
          "state": {
            "_view_name": "LayoutView",
            "grid_template_rows": null,
            "right": null,
            "justify_content": null,
            "_view_module": "@jupyter-widgets/base",
            "overflow": null,
            "_model_module_version": "1.2.0",
            "_view_count": null,
            "flex_flow": null,
            "width": null,
            "min_width": null,
            "border": null,
            "align_items": null,
            "bottom": null,
            "_model_module": "@jupyter-widgets/base",
            "top": null,
            "grid_column": null,
            "overflow_y": null,
            "overflow_x": null,
            "grid_auto_flow": null,
            "grid_area": null,
            "grid_template_columns": null,
            "flex": null,
            "_model_name": "LayoutModel",
            "justify_items": null,
            "grid_row": null,
            "max_height": null,
            "align_content": null,
            "visibility": null,
            "align_self": null,
            "height": null,
            "min_height": null,
            "padding": null,
            "grid_auto_rows": null,
            "grid_gap": null,
            "max_width": null,
            "order": null,
            "_view_module_version": "1.2.0",
            "grid_template_areas": null,
            "object_position": null,
            "object_fit": null,
            "grid_auto_columns": null,
            "margin": null,
            "display": null,
            "left": null
          }
        },
        "8ca3c0764a0c40dbac4ff97fbc3589de": {
          "model_module": "@jupyter-widgets/controls",
          "model_name": "DescriptionStyleModel",
          "state": {
            "_view_name": "StyleView",
            "_model_name": "DescriptionStyleModel",
            "description_width": "",
            "_view_module": "@jupyter-widgets/base",
            "_model_module_version": "1.5.0",
            "_view_count": null,
            "_view_module_version": "1.2.0",
            "_model_module": "@jupyter-widgets/controls"
          }
        },
        "cec6f29eef5d4da0b8c15695e014ec88": {
          "model_module": "@jupyter-widgets/base",
          "model_name": "LayoutModel",
          "state": {
            "_view_name": "LayoutView",
            "grid_template_rows": null,
            "right": null,
            "justify_content": null,
            "_view_module": "@jupyter-widgets/base",
            "overflow": null,
            "_model_module_version": "1.2.0",
            "_view_count": null,
            "flex_flow": null,
            "width": null,
            "min_width": null,
            "border": null,
            "align_items": null,
            "bottom": null,
            "_model_module": "@jupyter-widgets/base",
            "top": null,
            "grid_column": null,
            "overflow_y": null,
            "overflow_x": null,
            "grid_auto_flow": null,
            "grid_area": null,
            "grid_template_columns": null,
            "flex": null,
            "_model_name": "LayoutModel",
            "justify_items": null,
            "grid_row": null,
            "max_height": null,
            "align_content": null,
            "visibility": null,
            "align_self": null,
            "height": null,
            "min_height": null,
            "padding": null,
            "grid_auto_rows": null,
            "grid_gap": null,
            "max_width": null,
            "order": null,
            "_view_module_version": "1.2.0",
            "grid_template_areas": null,
            "object_position": null,
            "object_fit": null,
            "grid_auto_columns": null,
            "margin": null,
            "display": null,
            "left": null
          }
        }
      }
    }
  },
  "cells": [
    {
      "cell_type": "markdown",
      "metadata": {
        "id": "view-in-github",
        "colab_type": "text"
      },
      "source": [
        "<a href=\"https://colab.research.google.com/github/luciainnocenti/IncrementalLearning/blob/master/ICaRLMain.ipynb\" target=\"_parent\"><img src=\"https://colab.research.google.com/assets/colab-badge.svg\" alt=\"Open In Colab\"/></a>"
      ]
    },
    {
      "cell_type": "markdown",
      "metadata": {
        "id": "OLMLAOPyrR1K",
        "colab_type": "text"
      },
      "source": [
        "# Import GitHub repository"
      ]
    },
    {
      "cell_type": "code",
      "metadata": {
        "id": "3LqwZJLUlcYH",
        "colab_type": "code",
        "colab": {}
      },
      "source": [
        "import os\n",
        "import logging\n",
        "import sys"
      ],
      "execution_count": 0,
      "outputs": []
    },
    {
      "cell_type": "code",
      "metadata": {
        "id": "PVa_FlnxrXIk",
        "colab_type": "code",
        "outputId": "1fa30068-6a8c-4b75-eb6c-9707ea30ea53",
        "colab": {
          "base_uri": "https://localhost:8080/",
          "height": 141
        }
      },
      "source": [
        "if not os.path.isdir('./DatasetCIFAR'):\n",
        "  !git clone https://github.com/luciainnocenti/IncrementalLearning.git\n",
        "  !mv 'IncrementalLearning' 'DatasetCIFAR'"
      ],
      "execution_count": 2,
      "outputs": [
        {
          "output_type": "stream",
          "text": [
            "Cloning into 'IncrementalLearning'...\n",
            "remote: Enumerating objects: 112, done.\u001b[K\n",
            "remote: Counting objects:   0% (1/112)\u001b[K\rremote: Counting objects:   1% (2/112)\u001b[K\rremote: Counting objects:   2% (3/112)\u001b[K\rremote: Counting objects:   3% (4/112)\u001b[K\rremote: Counting objects:   4% (5/112)\u001b[K\rremote: Counting objects:   5% (6/112)\u001b[K\rremote: Counting objects:   6% (7/112)\u001b[K\rremote: Counting objects:   7% (8/112)\u001b[K\rremote: Counting objects:   8% (9/112)\u001b[K\rremote: Counting objects:   9% (11/112)\u001b[K\rremote: Counting objects:  10% (12/112)\u001b[K\rremote: Counting objects:  11% (13/112)\u001b[K\rremote: Counting objects:  12% (14/112)\u001b[K\rremote: Counting objects:  13% (15/112)\u001b[K\rremote: Counting objects:  14% (16/112)\u001b[K\rremote: Counting objects:  15% (17/112)\u001b[K\rremote: Counting objects:  16% (18/112)\u001b[K\rremote: Counting objects:  17% (20/112)\u001b[K\rremote: Counting objects:  18% (21/112)\u001b[K\rremote: Counting objects:  19% (22/112)\u001b[K\rremote: Counting objects:  20% (23/112)\u001b[K\rremote: Counting objects:  21% (24/112)\u001b[K\rremote: Counting objects:  22% (25/112)\u001b[K\rremote: Counting objects:  23% (26/112)\u001b[K\rremote: Counting objects:  24% (27/112)\u001b[K\rremote: Counting objects:  25% (28/112)\u001b[K\rremote: Counting objects:  26% (30/112)\u001b[K\rremote: Counting objects:  27% (31/112)\u001b[K\rremote: Counting objects:  28% (32/112)\u001b[K\rremote: Counting objects:  29% (33/112)\u001b[K\rremote: Counting objects:  30% (34/112)\u001b[K\rremote: Counting objects:  31% (35/112)\u001b[K\rremote: Counting objects:  32% (36/112)\u001b[K\rremote: Counting objects:  33% (37/112)\u001b[K\rremote: Counting objects:  34% (39/112)\u001b[K\rremote: Counting objects:  35% (40/112)\u001b[K\rremote: Counting objects:  36% (41/112)\u001b[K\rremote: Counting objects:  37% (42/112)\u001b[K\rremote: Counting objects:  38% (43/112)\u001b[K\rremote: Counting objects:  39% (44/112)\u001b[K\rremote: Counting objects:  40% (45/112)\u001b[K\rremote: Counting objects:  41% (46/112)\u001b[K\rremote: Counting objects:  42% (48/112)\u001b[K\rremote: Counting objects:  43% (49/112)\u001b[K\rremote: Counting objects:  44% (50/112)\u001b[K\rremote: Counting objects:  45% (51/112)\u001b[K\rremote: Counting objects:  46% (52/112)\u001b[K\rremote: Counting objects:  47% (53/112)\u001b[K\rremote: Counting objects:  48% (54/112)\u001b[K\rremote: Counting objects:  49% (55/112)\u001b[K\rremote: Counting objects:  50% (56/112)\u001b[K\rremote: Counting objects:  51% (58/112)\u001b[K\rremote: Counting objects:  52% (59/112)\u001b[K\rremote: Counting objects:  53% (60/112)\u001b[K\rremote: Counting objects:  54% (61/112)\u001b[K\rremote: Counting objects:  55% (62/112)\u001b[K\rremote: Counting objects:  56% (63/112)\u001b[K\rremote: Counting objects:  57% (64/112)\u001b[K\rremote: Counting objects:  58% (65/112)\u001b[K\rremote: Counting objects:  59% (67/112)\u001b[K\rremote: Counting objects:  60% (68/112)\u001b[K\rremote: Counting objects:  61% (69/112)\u001b[K\rremote: Counting objects:  62% (70/112)\u001b[K\rremote: Counting objects:  63% (71/112)\u001b[K\rremote: Counting objects:  64% (72/112)\u001b[K\rremote: Counting objects:  65% (73/112)\u001b[K\rremote: Counting objects:  66% (74/112)\u001b[K\rremote: Counting objects:  67% (76/112)\u001b[K\rremote: Counting objects:  68% (77/112)\u001b[K\rremote: Counting objects:  69% (78/112)\u001b[K\rremote: Counting objects:  70% (79/112)\u001b[K\rremote: Counting objects:  71% (80/112)\u001b[K\rremote: Counting objects:  72% (81/112)\u001b[K\rremote: Counting objects:  73% (82/112)\u001b[K\rremote: Counting objects:  74% (83/112)\u001b[K\rremote: Counting objects:  75% (84/112)\u001b[K\rremote: Counting objects:  76% (86/112)\u001b[K\rremote: Counting objects:  77% (87/112)\u001b[K\rremote: Counting objects:  78% (88/112)\u001b[K\rremote: Counting objects:  79% (89/112)\u001b[K\rremote: Counting objects:  80% (90/112)\u001b[K\rremote: Counting objects:  81% (91/112)\u001b[K\rremote: Counting objects:  82% (92/112)\u001b[K\rremote: Counting objects:  83% (93/112)\u001b[K\rremote: Counting objects:  84% (95/112)\u001b[K\rremote: Counting objects:  85% (96/112)\u001b[K\rremote: Counting objects:  86% (97/112)\u001b[K\rremote: Counting objects:  87% (98/112)\u001b[K\rremote: Counting objects:  88% (99/112)\u001b[K\rremote: Counting objects:  89% (100/112)\u001b[K\rremote: Counting objects:  90% (101/112)\u001b[K\rremote: Counting objects:  91% (102/112)\u001b[K\rremote: Counting objects:  92% (104/112)\u001b[K\rremote: Counting objects:  93% (105/112)\u001b[K\rremote: Counting objects:  94% (106/112)\u001b[K\rremote: Counting objects:  95% (107/112)\u001b[K\rremote: Counting objects:  96% (108/112)\u001b[K\rremote: Counting objects:  97% (109/112)\u001b[K\rremote: Counting objects:  98% (110/112)\u001b[K\rremote: Counting objects:  99% (111/112)\u001b[K\rremote: Counting objects: 100% (112/112)\u001b[K\rremote: Counting objects: 100% (112/112), done.\u001b[K\n",
            "remote: Compressing objects: 100% (112/112), done.\u001b[K\n",
            "remote: Total 1386 (delta 69), reused 0 (delta 0), pack-reused 1274\u001b[K\n",
            "Receiving objects: 100% (1386/1386), 836.88 KiB | 2.25 MiB/s, done.\n",
            "Resolving deltas: 100% (883/883), done.\n"
          ],
          "name": "stdout"
        }
      ]
    },
    {
      "cell_type": "markdown",
      "metadata": {
        "id": "XXQyHMXzrZ5A",
        "colab_type": "text"
      },
      "source": [
        "# Import packages"
      ]
    },
    {
      "cell_type": "code",
      "metadata": {
        "id": "c24pdNxurdv1",
        "colab_type": "code",
        "colab": {}
      },
      "source": [
        "from DatasetCIFAR.data_set import Dataset \n",
        "from DatasetCIFAR import ResNet\n",
        "from DatasetCIFAR import utils\n",
        "from DatasetCIFAR import params\n",
        "from DatasetCIFAR import ICaRLModel\n",
        "from torchvision import models\n",
        "import torch.nn as nn\n",
        "import torch\n",
        "import torch.optim as optim\n",
        "import torchvision\n",
        "import numpy as np\n",
        "\n",
        "from torchvision import transforms\n",
        "from torch.utils.data import Subset, DataLoader\n",
        "from torch.nn import functional as F\n",
        "import random\n",
        "random.seed(params.SEED)"
      ],
      "execution_count": 0,
      "outputs": []
    },
    {
      "cell_type": "markdown",
      "metadata": {
        "id": "1FlAkShyryrf",
        "colab_type": "text"
      },
      "source": [
        "# Define Datasets"
      ]
    },
    {
      "cell_type": "code",
      "metadata": {
        "id": "AP2iR2vl3Wiz",
        "colab_type": "code",
        "colab": {}
      },
      "source": [
        "train_transformer = transforms.Compose([transforms.RandomCrop(size = 32, padding=4),\n",
        "                                         transforms.RandomHorizontalFlip(),\n",
        "                                         transforms.ToTensor(),\n",
        "                                         transforms.Normalize((0.5, 0.5, 0.5), (0.5, 0.5, 0.5))\n",
        "])\n",
        "\n",
        "test_transformer = transforms.Compose([transforms.ToTensor(),\n",
        "                                         transforms.Normalize((0.5, 0.5, 0.5), (0.5, 0.5, 0.5))\n",
        "])"
      ],
      "execution_count": 0,
      "outputs": []
    },
    {
      "cell_type": "code",
      "metadata": {
        "id": "1CSNk0NlrvAL",
        "colab_type": "code",
        "outputId": "836393f0-2b8b-4871-d26f-030454ea473f",
        "colab": {
          "base_uri": "https://localhost:8080/",
          "height": 102,
          "referenced_widgets": [
            "c4583c8031654976aeeeb9021a30b84e",
            "c18f1ce5b5b84a26bc3465e9605ebcb6",
            "78dd5413fa3e421482725f4f0c2c771f",
            "b384a4cc03a5441d9a205d99d4fc554d",
            "9140c261bc6a4deda6b5ecd9cfebec7a",
            "433ec59c0b374ede9616d3a330e82f2c",
            "8ca3c0764a0c40dbac4ff97fbc3589de",
            "cec6f29eef5d4da0b8c15695e014ec88"
          ]
        }
      },
      "source": [
        "trainDS = Dataset(train=True, transform = train_transformer)\n",
        "testDS = Dataset(train=False, transform = test_transformer)"
      ],
      "execution_count": 5,
      "outputs": [
        {
          "output_type": "stream",
          "text": [
            "Downloading https://www.cs.toronto.edu/~kriz/cifar-100-python.tar.gz to data/cifar-100-python.tar.gz\n"
          ],
          "name": "stdout"
        },
        {
          "output_type": "display_data",
          "data": {
            "application/vnd.jupyter.widget-view+json": {
              "model_id": "c4583c8031654976aeeeb9021a30b84e",
              "version_minor": 0,
              "version_major": 2
            },
            "text/plain": [
              "HBox(children=(FloatProgress(value=1.0, bar_style='info', max=1.0), HTML(value='')))"
            ]
          },
          "metadata": {
            "tags": []
          }
        },
        {
          "output_type": "stream",
          "text": [
            "Extracting data/cifar-100-python.tar.gz to data\n",
            "Files already downloaded and verified\n"
          ],
          "name": "stdout"
        }
      ]
    },
    {
      "cell_type": "code",
      "metadata": {
        "id": "W3ge3VayryJL",
        "colab_type": "code",
        "colab": {}
      },
      "source": [
        "train_splits = trainDS.splits\n",
        "test_splits = testDS.splits"
      ],
      "execution_count": 0,
      "outputs": []
    },
    {
      "cell_type": "markdown",
      "metadata": {
        "id": "AzxTlFF_rkfe",
        "colab_type": "text"
      },
      "source": [
        "# Define Network"
      ]
    },
    {
      "cell_type": "code",
      "metadata": {
        "id": "rgZtPkiPrmQK",
        "colab_type": "code",
        "colab": {}
      },
      "source": [
        "ICaRL = ResNet.resnet32(num_classes=100)\n",
        "ICaRL =  ICaRL.to(params.DEVICE)"
      ],
      "execution_count": 0,
      "outputs": []
    },
    {
      "cell_type": "code",
      "metadata": {
        "id": "CI8EyFmpOikN",
        "colab_type": "code",
        "colab": {}
      },
      "source": [
        "exemplars = [None]*100\n",
        "\n",
        "test_indexes =  []"
      ],
      "execution_count": 0,
      "outputs": []
    },
    {
      "cell_type": "code",
      "metadata": {
        "id": "fcFjbBGrOMz6",
        "colab_type": "code",
        "outputId": "178621e2-dcee-409a-ef6a-88e700f01da0",
        "colab": {
          "base_uri": "https://localhost:8080/",
          "height": 1000
        }
      },
      "source": [
        "for task in range(0, 100, params.TASK_SIZE):\n",
        "  train_indexes = trainDS.__getIndexesGroups__(task)\n",
        "  test_indexes = test_indexes + testDS.__getIndexesGroups__(task)\n",
        "\n",
        "  train_dataset = Subset(trainDS, train_indexes)\n",
        "  test_dataset = Subset(testDS, test_indexes)\n",
        "\n",
        "  train_loader = DataLoader( train_dataset, num_workers=params.NUM_WORKERS, batch_size=params.BATCH_SIZE)\n",
        "  test_loader = DataLoader( test_dataset, num_workers=params.NUM_WORKERS, batch_size=params.BATCH_SIZE )\n",
        "\n",
        "  ICaRL, exemplars = ICaRLModel.incrementalTrain(task, trainDS, ICaRL, exemplars)\n",
        "\n",
        "  col = []\n",
        "  for i,x in enumerate( train_splits[ :int(task/10) + 1]) : \n",
        "    v = np.array(x)\n",
        "    col = np.concatenate( (col,v), axis = None)\n",
        "    col = col.astype(int)\n",
        "\n",
        "  total = 0.0\n",
        "  running_corrects = 0.0\n",
        "  for img, lbl, _ in train_loader:\n",
        "      img = img.float().to(params.DEVICE)\n",
        "      preds = ICaRLModel.classify(img, exemplars, ICaRL, task)\n",
        "      preds = preds.to(params.DEVICE)\n",
        "      labels = utils.mapFunction(lbl, col).to(params.DEVICE)\n",
        "      #print(\"preds: \", preds.data)\n",
        "      #print(\"mapped labels: \", labels)\n",
        "      #print(\"labels: \", lbl)\n",
        "      total += len(lbl)\n",
        "      running_corrects += torch.sum(preds == labels.data).data.item()\n",
        "      #print(running_corrects)\n",
        "  accuracy = float(running_corrects/total)\n",
        "  print(f'task: {task}', f'train accuracy = {accuracy}')\n",
        "\n",
        "  total = 0.0\n",
        "  running_corrects = 0.0\n",
        "  for img, lbl, _ in test_loader:\n",
        "      img = img.float().to(params.DEVICE)\n",
        "      preds = ICaRLModel.classify(img, exemplars, ICaRL, task)\n",
        "      preds = preds.to(params.DEVICE)\n",
        "      labels = utils.mapFunction(lbl, col).to(params.DEVICE)\n",
        "      #print(\"preds: \", preds.data)\n",
        "      #print(\"mapped labels: \", labels)\n",
        "      #print(\"labels: \", lbl)\n",
        "      total += len(lbl)\n",
        "      running_corrects += torch.sum(preds == labels.data).data.item()\n",
        "      #print(running_corrects)\n",
        "  accuracy = float(running_corrects/total)\n",
        "  print(f'task: {task}', f'test accuracy = {accuracy}')"
      ],
      "execution_count": 0,
      "outputs": [
        {
          "output_type": "stream",
          "text": [
            "col =  [94 63 74 21 35 56 91 96 87 48]\n",
            "col[:10] [94 63 74 21 35 56 91 96 87 48]\n",
            "At step  0  and at epoch =  0  the loss is =  0.029210049659013748  and accuracy is =  0.172\n",
            "At step  0  and at epoch =  1  the loss is =  0.02382724918425083  and accuracy is =  0.4112\n",
            "At step  0  and at epoch =  2  the loss is =  0.027573294937610626  and accuracy is =  0.5198\n",
            "At step  0  and at epoch =  3  the loss is =  0.021596098318696022  and accuracy is =  0.5734\n",
            "At step  0  and at epoch =  4  the loss is =  0.026554450392723083  and accuracy is =  0.624\n",
            "At step  0  and at epoch =  5  the loss is =  0.01702011376619339  and accuracy is =  0.6544\n",
            "At step  0  and at epoch =  6  the loss is =  0.009529526345431805  and accuracy is =  0.7222\n",
            "At step  0  and at epoch =  7  the loss is =  0.016744224354624748  and accuracy is =  0.7554\n",
            "At step  0  and at epoch =  8  the loss is =  0.00977414846420288  and accuracy is =  0.776\n",
            "At step  0  and at epoch =  9  the loss is =  0.012991290539503098  and accuracy is =  0.7996\n",
            "At step  0  and at epoch =  10  the loss is =  0.016288749873638153  and accuracy is =  0.8068\n",
            "At step  0  and at epoch =  11  the loss is =  0.013319392688572407  and accuracy is =  0.8214\n",
            "At step  0  and at epoch =  12  the loss is =  0.005208016373217106  and accuracy is =  0.863\n",
            "At step  0  and at epoch =  13  the loss is =  0.003921314608305693  and accuracy is =  0.902\n",
            "At step  0  and at epoch =  14  the loss is =  0.05629856884479523  and accuracy is =  0.9098\n",
            "At step  0  and at epoch =  15  the loss is =  0.03787258639931679  and accuracy is =  0.6626\n",
            "At step  0  and at epoch =  16  the loss is =  0.01001003198325634  and accuracy is =  0.7802\n",
            "At step  0  and at epoch =  17  the loss is =  0.027469100430607796  and accuracy is =  0.8588\n",
            "At step  0  and at epoch =  18  the loss is =  0.017522703856229782  and accuracy is =  0.8482\n",
            "At step  0  and at epoch =  19  the loss is =  0.013269771821796894  and accuracy is =  0.8756\n",
            "At step  0  and at epoch =  20  the loss is =  0.02553863450884819  and accuracy is =  0.9408\n",
            "At step  0  and at epoch =  21  the loss is =  0.01758011244237423  and accuracy is =  0.9138\n",
            "At step  0  and at epoch =  22  the loss is =  0.0067286984995007515  and accuracy is =  0.9238\n",
            "At step  0  and at epoch =  23  the loss is =  0.004550302866846323  and accuracy is =  0.9408\n",
            "At step  0  and at epoch =  24  the loss is =  0.008652392774820328  and accuracy is =  0.9568\n",
            "At step  0  and at epoch =  25  the loss is =  0.008298130705952644  and accuracy is =  0.9462\n",
            "At step  0  and at epoch =  26  the loss is =  0.008465917780995369  and accuracy is =  0.9216\n",
            "At step  0  and at epoch =  27  the loss is =  0.022499442100524902  and accuracy is =  0.9424\n",
            "At step  0  and at epoch =  28  the loss is =  0.005396761000156403  and accuracy is =  0.9104\n",
            "At step  0  and at epoch =  29  the loss is =  0.003286862513050437  and accuracy is =  0.9694\n",
            "At step  0  and at epoch =  30  the loss is =  0.011394595727324486  and accuracy is =  0.988\n",
            "At step  0  and at epoch =  31  the loss is =  0.02094316855072975  and accuracy is =  0.9054\n",
            "At step  0  and at epoch =  32  the loss is =  0.0049563986249268055  and accuracy is =  0.9068\n",
            "At step  0  and at epoch =  33  the loss is =  0.0017200944712385535  and accuracy is =  0.9726\n",
            "At step  0  and at epoch =  34  the loss is =  0.0014104542788118124  and accuracy is =  0.9928\n",
            "At step  0  and at epoch =  35  the loss is =  0.001135918078944087  and accuracy is =  0.9918\n",
            "At step  0  and at epoch =  36  the loss is =  0.009432530961930752  and accuracy is =  0.9942\n",
            "At step  0  and at epoch =  37  the loss is =  0.001145494170486927  and accuracy is =  0.9734\n",
            "At step  0  and at epoch =  38  the loss is =  0.012563514523208141  and accuracy is =  0.9922\n",
            "At step  0  and at epoch =  39  the loss is =  0.008698287419974804  and accuracy is =  0.955\n",
            "At step  0  and at epoch =  40  the loss is =  0.0038600314874202013  and accuracy is =  0.9382\n",
            "At step  0  and at epoch =  41  the loss is =  0.009162433445453644  and accuracy is =  0.971\n",
            "At step  0  and at epoch =  42  the loss is =  0.01555563136935234  and accuracy is =  0.9312\n",
            "At step  0  and at epoch =  43  the loss is =  0.015436860732734203  and accuracy is =  0.9498\n",
            "At step  0  and at epoch =  44  the loss is =  0.0025455914437770844  and accuracy is =  0.9498\n",
            "At step  0  and at epoch =  45  the loss is =  0.005753315053880215  and accuracy is =  0.9888\n",
            "At step  0  and at epoch =  46  the loss is =  0.003907115198671818  and accuracy is =  0.988\n",
            "At step  0  and at epoch =  47  the loss is =  0.007690274156630039  and accuracy is =  0.9804\n",
            "At step  0  and at epoch =  48  the loss is =  0.005543292034417391  and accuracy is =  0.9432\n",
            "At step  0  and at epoch =  49  the loss is =  0.01038888655602932  and accuracy is =  0.9666\n",
            "At step  0  and at epoch =  50  the loss is =  0.014923407696187496  and accuracy is =  0.9676\n",
            "At step  0  and at epoch =  51  the loss is =  0.023402627557516098  and accuracy is =  0.9298\n",
            "At step  0  and at epoch =  52  the loss is =  0.015229140408337116  and accuracy is =  0.9408\n",
            "At step  0  and at epoch =  53  the loss is =  0.0018376673106104136  and accuracy is =  0.957\n",
            "At step  0  and at epoch =  54  the loss is =  0.0024386041332036257  and accuracy is =  0.9946\n",
            "At step  0  and at epoch =  55  the loss is =  0.021663077175617218  and accuracy is =  0.9842\n",
            "At step  0  and at epoch =  56  the loss is =  0.007145644165575504  and accuracy is =  0.944\n",
            "At step  0  and at epoch =  57  the loss is =  0.0008704971987754107  and accuracy is =  0.9682\n",
            "At step  0  and at epoch =  58  the loss is =  0.003027871483936906  and accuracy is =  0.9964\n",
            "At step  0  and at epoch =  59  the loss is =  0.005663714371621609  and accuracy is =  0.9966\n",
            "At step  0  and at epoch =  60  the loss is =  0.002029027324169874  and accuracy is =  0.9904\n",
            "At step  0  and at epoch =  61  the loss is =  0.0017585060559213161  and accuracy is =  0.9972\n",
            "At step  0  and at epoch =  62  the loss is =  0.00873345322906971  and accuracy is =  0.998\n",
            "At step  0  and at epoch =  63  the loss is =  0.003077636007219553  and accuracy is =  0.9712\n",
            "At step  0  and at epoch =  64  the loss is =  0.009473808109760284  and accuracy is =  0.9912\n",
            "At step  0  and at epoch =  65  the loss is =  0.0005651561659760773  and accuracy is =  0.9376\n",
            "At step  0  and at epoch =  66  the loss is =  0.00288827670738101  and accuracy is =  0.9858\n",
            "At step  0  and at epoch =  67  the loss is =  0.001575495465658605  and accuracy is =  0.9914\n",
            "At step  0  and at epoch =  68  the loss is =  0.0017506140284240246  and accuracy is =  0.9934\n",
            "At step  0  and at epoch =  69  the loss is =  0.0015377381350845098  and accuracy is =  0.992\n",
            "Files already downloaded and verified\n",
            "Files already downloaded and verified\n",
            "Files already downloaded and verified\n",
            "Files already downloaded and verified\n",
            "Files already downloaded and verified\n",
            "Files already downloaded and verified\n",
            "Files already downloaded and verified\n",
            "Files already downloaded and verified\n",
            "Files already downloaded and verified\n",
            "Files already downloaded and verified\n",
            "Files already downloaded and verified\n",
            "Files already downloaded and verified\n",
            "Files already downloaded and verified\n",
            "Files already downloaded and verified\n",
            "Files already downloaded and verified\n",
            "Files already downloaded and verified\n",
            "Files already downloaded and verified\n",
            "Files already downloaded and verified\n",
            "Files already downloaded and verified\n",
            "Files already downloaded and verified\n",
            "Files already downloaded and verified\n",
            "Files already downloaded and verified\n",
            "Files already downloaded and verified\n",
            "Files already downloaded and verified\n",
            "Files already downloaded and verified\n",
            "Files already downloaded and verified\n",
            "Files already downloaded and verified\n",
            "Files already downloaded and verified\n",
            "Files already downloaded and verified\n",
            "Files already downloaded and verified\n",
            "Files already downloaded and verified\n",
            "Files already downloaded and verified\n",
            "Files already downloaded and verified\n",
            "Files already downloaded and verified\n",
            "Files already downloaded and verified\n",
            "Files already downloaded and verified\n",
            "Files already downloaded and verified\n",
            "Files already downloaded and verified\n",
            "Files already downloaded and verified\n",
            "Files already downloaded and verified\n",
            "task: 0 train accuracy = 0.9976\n",
            "Files already downloaded and verified\n",
            "Files already downloaded and verified\n",
            "Files already downloaded and verified\n",
            "Files already downloaded and verified\n",
            "Files already downloaded and verified\n",
            "Files already downloaded and verified\n",
            "Files already downloaded and verified\n",
            "Files already downloaded and verified\n",
            "task: 0 test accuracy = 0.767\n",
            "col =  [94 63 74 21 35 56 91 96 87 48 68 80 22 37 60 97 51 62 92 76]\n",
            "col[:10] [94 63 74 21 35 56 91 96 87 48]\n",
            "At step  10  and at epoch =  0  the loss is =  0.02971140295267105  and accuracy is =  0.30114122681883027\n",
            "At step  10  and at epoch =  1  the loss is =  0.025199884548783302  and accuracy is =  0.3768901569186876\n",
            "At step  10  and at epoch =  2  the loss is =  0.020233886316418648  and accuracy is =  0.4483594864479315\n"
          ],
          "name": "stdout"
        }
      ]
    }
  ]
}