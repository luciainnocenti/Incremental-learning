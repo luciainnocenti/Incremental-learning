{
  "nbformat": 4,
  "nbformat_minor": 0,
  "metadata": {
    "colab": {
      "name": "Copy of ICaRLMain.ipynb",
      "provenance": [],
      "collapsed_sections": [],
      "include_colab_link": true
    },
    "kernelspec": {
      "name": "python3",
      "display_name": "Python 3"
    },
    "accelerator": "GPU",
    "widgets": {
      "application/vnd.jupyter.widget-state+json": {
        "1532a7858bc64d2da93e408a154502e9": {
          "model_module": "@jupyter-widgets/controls",
          "model_name": "HBoxModel",
          "state": {
            "_view_name": "HBoxView",
            "_dom_classes": [],
            "_model_name": "HBoxModel",
            "_view_module": "@jupyter-widgets/controls",
            "_model_module_version": "1.5.0",
            "_view_count": null,
            "_view_module_version": "1.5.0",
            "box_style": "",
            "layout": "IPY_MODEL_532f1e172868458c8c236b7b531af07f",
            "_model_module": "@jupyter-widgets/controls",
            "children": [
              "IPY_MODEL_fabb0d6ef5d649b290e656bc910c1b8a",
              "IPY_MODEL_87bce877930d48f4b69ebc0960a02f41"
            ]
          }
        },
        "532f1e172868458c8c236b7b531af07f": {
          "model_module": "@jupyter-widgets/base",
          "model_name": "LayoutModel",
          "state": {
            "_view_name": "LayoutView",
            "grid_template_rows": null,
            "right": null,
            "justify_content": null,
            "_view_module": "@jupyter-widgets/base",
            "overflow": null,
            "_model_module_version": "1.2.0",
            "_view_count": null,
            "flex_flow": null,
            "width": null,
            "min_width": null,
            "border": null,
            "align_items": null,
            "bottom": null,
            "_model_module": "@jupyter-widgets/base",
            "top": null,
            "grid_column": null,
            "overflow_y": null,
            "overflow_x": null,
            "grid_auto_flow": null,
            "grid_area": null,
            "grid_template_columns": null,
            "flex": null,
            "_model_name": "LayoutModel",
            "justify_items": null,
            "grid_row": null,
            "max_height": null,
            "align_content": null,
            "visibility": null,
            "align_self": null,
            "height": null,
            "min_height": null,
            "padding": null,
            "grid_auto_rows": null,
            "grid_gap": null,
            "max_width": null,
            "order": null,
            "_view_module_version": "1.2.0",
            "grid_template_areas": null,
            "object_position": null,
            "object_fit": null,
            "grid_auto_columns": null,
            "margin": null,
            "display": null,
            "left": null
          }
        },
        "fabb0d6ef5d649b290e656bc910c1b8a": {
          "model_module": "@jupyter-widgets/controls",
          "model_name": "FloatProgressModel",
          "state": {
            "_view_name": "ProgressView",
            "style": "IPY_MODEL_ba70eb728ba0478ea18449fa3542b452",
            "_dom_classes": [],
            "description": "",
            "_model_name": "FloatProgressModel",
            "bar_style": "info",
            "max": 1,
            "_view_module": "@jupyter-widgets/controls",
            "_model_module_version": "1.5.0",
            "value": 1,
            "_view_count": null,
            "_view_module_version": "1.5.0",
            "orientation": "horizontal",
            "min": 0,
            "description_tooltip": null,
            "_model_module": "@jupyter-widgets/controls",
            "layout": "IPY_MODEL_198f7f29a4c647ca9a29f9ef2913ee52"
          }
        },
        "87bce877930d48f4b69ebc0960a02f41": {
          "model_module": "@jupyter-widgets/controls",
          "model_name": "HTMLModel",
          "state": {
            "_view_name": "HTMLView",
            "style": "IPY_MODEL_7adc97e1bc954effbd407a8c4da819e9",
            "_dom_classes": [],
            "description": "",
            "_model_name": "HTMLModel",
            "placeholder": "​",
            "_view_module": "@jupyter-widgets/controls",
            "_model_module_version": "1.5.0",
            "value": " 169009152/? [00:30&lt;00:00, 17365087.79it/s]",
            "_view_count": null,
            "_view_module_version": "1.5.0",
            "description_tooltip": null,
            "_model_module": "@jupyter-widgets/controls",
            "layout": "IPY_MODEL_47bd52af283e44998d8f050860693253"
          }
        },
        "ba70eb728ba0478ea18449fa3542b452": {
          "model_module": "@jupyter-widgets/controls",
          "model_name": "ProgressStyleModel",
          "state": {
            "_view_name": "StyleView",
            "_model_name": "ProgressStyleModel",
            "description_width": "initial",
            "_view_module": "@jupyter-widgets/base",
            "_model_module_version": "1.5.0",
            "_view_count": null,
            "_view_module_version": "1.2.0",
            "bar_color": null,
            "_model_module": "@jupyter-widgets/controls"
          }
        },
        "198f7f29a4c647ca9a29f9ef2913ee52": {
          "model_module": "@jupyter-widgets/base",
          "model_name": "LayoutModel",
          "state": {
            "_view_name": "LayoutView",
            "grid_template_rows": null,
            "right": null,
            "justify_content": null,
            "_view_module": "@jupyter-widgets/base",
            "overflow": null,
            "_model_module_version": "1.2.0",
            "_view_count": null,
            "flex_flow": null,
            "width": null,
            "min_width": null,
            "border": null,
            "align_items": null,
            "bottom": null,
            "_model_module": "@jupyter-widgets/base",
            "top": null,
            "grid_column": null,
            "overflow_y": null,
            "overflow_x": null,
            "grid_auto_flow": null,
            "grid_area": null,
            "grid_template_columns": null,
            "flex": null,
            "_model_name": "LayoutModel",
            "justify_items": null,
            "grid_row": null,
            "max_height": null,
            "align_content": null,
            "visibility": null,
            "align_self": null,
            "height": null,
            "min_height": null,
            "padding": null,
            "grid_auto_rows": null,
            "grid_gap": null,
            "max_width": null,
            "order": null,
            "_view_module_version": "1.2.0",
            "grid_template_areas": null,
            "object_position": null,
            "object_fit": null,
            "grid_auto_columns": null,
            "margin": null,
            "display": null,
            "left": null
          }
        },
        "7adc97e1bc954effbd407a8c4da819e9": {
          "model_module": "@jupyter-widgets/controls",
          "model_name": "DescriptionStyleModel",
          "state": {
            "_view_name": "StyleView",
            "_model_name": "DescriptionStyleModel",
            "description_width": "",
            "_view_module": "@jupyter-widgets/base",
            "_model_module_version": "1.5.0",
            "_view_count": null,
            "_view_module_version": "1.2.0",
            "_model_module": "@jupyter-widgets/controls"
          }
        },
        "47bd52af283e44998d8f050860693253": {
          "model_module": "@jupyter-widgets/base",
          "model_name": "LayoutModel",
          "state": {
            "_view_name": "LayoutView",
            "grid_template_rows": null,
            "right": null,
            "justify_content": null,
            "_view_module": "@jupyter-widgets/base",
            "overflow": null,
            "_model_module_version": "1.2.0",
            "_view_count": null,
            "flex_flow": null,
            "width": null,
            "min_width": null,
            "border": null,
            "align_items": null,
            "bottom": null,
            "_model_module": "@jupyter-widgets/base",
            "top": null,
            "grid_column": null,
            "overflow_y": null,
            "overflow_x": null,
            "grid_auto_flow": null,
            "grid_area": null,
            "grid_template_columns": null,
            "flex": null,
            "_model_name": "LayoutModel",
            "justify_items": null,
            "grid_row": null,
            "max_height": null,
            "align_content": null,
            "visibility": null,
            "align_self": null,
            "height": null,
            "min_height": null,
            "padding": null,
            "grid_auto_rows": null,
            "grid_gap": null,
            "max_width": null,
            "order": null,
            "_view_module_version": "1.2.0",
            "grid_template_areas": null,
            "object_position": null,
            "object_fit": null,
            "grid_auto_columns": null,
            "margin": null,
            "display": null,
            "left": null
          }
        }
      }
    }
  },
  "cells": [
    {
      "cell_type": "markdown",
      "metadata": {
        "id": "view-in-github",
        "colab_type": "text"
      },
      "source": [
        "<a href=\"https://colab.research.google.com/github/luciainnocenti/IncrementalLearning/blob/master/ICaRLMain.ipynb\" target=\"_parent\"><img src=\"https://colab.research.google.com/assets/colab-badge.svg\" alt=\"Open In Colab\"/></a>"
      ]
    },
    {
      "cell_type": "markdown",
      "metadata": {
        "id": "OLMLAOPyrR1K",
        "colab_type": "text"
      },
      "source": [
        "# Import GitHub repository"
      ]
    },
    {
      "cell_type": "code",
      "metadata": {
        "id": "3LqwZJLUlcYH",
        "colab_type": "code",
        "colab": {}
      },
      "source": [
        "import os\n",
        "import logging\n",
        "import sys"
      ],
      "execution_count": null,
      "outputs": []
    },
    {
      "cell_type": "code",
      "metadata": {
        "id": "PVa_FlnxrXIk",
        "colab_type": "code",
        "colab": {
          "base_uri": "https://localhost:8080/",
          "height": 136
        },
        "outputId": "4ea6d2cc-f1c7-403d-ce80-fb222542b145"
      },
      "source": [
        "if not os.path.isdir('./DatasetCIFAR'):\n",
        "  !git clone https://github.com/luciainnocenti/IncrementalLearning.git\n",
        "  !mv 'IncrementalLearning' 'DatasetCIFAR'"
      ],
      "execution_count": null,
      "outputs": [
        {
          "output_type": "stream",
          "text": [
            "Cloning into 'IncrementalLearning'...\n",
            "remote: Enumerating objects: 81, done.\u001b[K\n",
            "remote: Counting objects: 100% (81/81), done.\u001b[K\n",
            "remote: Compressing objects: 100% (81/81), done.\u001b[K\n",
            "remote: Total 1580 (delta 44), reused 0 (delta 0), pack-reused 1499\u001b[K\n",
            "Receiving objects: 100% (1580/1580), 1.20 MiB | 1.35 MiB/s, done.\n",
            "Resolving deltas: 100% (1008/1008), done.\n"
          ],
          "name": "stdout"
        }
      ]
    },
    {
      "cell_type": "markdown",
      "metadata": {
        "id": "XXQyHMXzrZ5A",
        "colab_type": "text"
      },
      "source": [
        "# Import packages"
      ]
    },
    {
      "cell_type": "code",
      "metadata": {
        "id": "c24pdNxurdv1",
        "colab_type": "code",
        "colab": {
          "base_uri": "https://localhost:8080/",
          "height": 51
        },
        "outputId": "31133af7-0c30-43e8-944e-c94961c8d126"
      },
      "source": [
        "from DatasetCIFAR.data_set import Dataset \n",
        "from DatasetCIFAR.data_set import Subset\n",
        "from DatasetCIFAR import ResNet\n",
        "from DatasetCIFAR import utils\n",
        "from DatasetCIFAR import params\n",
        "from DatasetCIFAR import ICaRLModel\n",
        "from torchvision import models\n",
        "import torch.nn as nn\n",
        "import torch\n",
        "import torch.optim as optim\n",
        "import torchvision\n",
        "import numpy as np\n",
        "import seaborn as sn\n",
        "import pandas as pd\n",
        "import matplotlib.pyplot as plt\n",
        "from sklearn.metrics import confusion_matrix\n",
        "\n",
        "from torchvision import transforms\n",
        "from torch.utils.data import DataLoader\n",
        "from torch.nn import functional as F\n",
        "import random\n",
        "random.seed(params.SEED)"
      ],
      "execution_count": null,
      "outputs": [
        {
          "output_type": "stream",
          "text": [
            "/usr/local/lib/python3.6/dist-packages/statsmodels/tools/_testing.py:19: FutureWarning: pandas.util.testing is deprecated. Use the functions in the public API at pandas.testing instead.\n",
            "  import pandas.util.testing as tm\n"
          ],
          "name": "stderr"
        }
      ]
    },
    {
      "cell_type": "code",
      "metadata": {
        "id": "r2rkcBbIKfUQ",
        "colab_type": "code",
        "colab": {
          "base_uri": "https://localhost:8080/",
          "height": 51
        },
        "outputId": "a565ed6d-6147-4b70-c4ed-4e3c5d721157"
      },
      "source": [
        "print(params.SEED)\n",
        "print(params.NUM_WORKERS)"
      ],
      "execution_count": null,
      "outputs": [
        {
          "output_type": "stream",
          "text": [
            "653\n",
            "4\n"
          ],
          "name": "stdout"
        }
      ]
    },
    {
      "cell_type": "markdown",
      "metadata": {
        "id": "1FlAkShyryrf",
        "colab_type": "text"
      },
      "source": [
        "# Define Datasets"
      ]
    },
    {
      "cell_type": "code",
      "metadata": {
        "id": "AP2iR2vl3Wiz",
        "colab_type": "code",
        "colab": {}
      },
      "source": [
        "train_transformer = transforms.Compose([transforms.RandomCrop(size = 32, padding=4),\n",
        "                                         transforms.RandomHorizontalFlip(),\n",
        "                                         transforms.ToTensor(),\n",
        "                                         transforms.Normalize((0.5, 0.5, 0.5), (0.5, 0.5, 0.5))\n",
        "])\n",
        "\n",
        "test_transformer = transforms.Compose([transforms.ToTensor(),\n",
        "                                         transforms.Normalize((0.5, 0.5, 0.5), (0.5, 0.5, 0.5))\n",
        "])"
      ],
      "execution_count": null,
      "outputs": []
    },
    {
      "cell_type": "code",
      "metadata": {
        "id": "1CSNk0NlrvAL",
        "colab_type": "code",
        "colab": {
          "base_uri": "https://localhost:8080/",
          "height": 100,
          "referenced_widgets": [
            "1532a7858bc64d2da93e408a154502e9",
            "532f1e172868458c8c236b7b531af07f",
            "fabb0d6ef5d649b290e656bc910c1b8a",
            "87bce877930d48f4b69ebc0960a02f41",
            "ba70eb728ba0478ea18449fa3542b452",
            "198f7f29a4c647ca9a29f9ef2913ee52",
            "7adc97e1bc954effbd407a8c4da819e9",
            "47bd52af283e44998d8f050860693253"
          ]
        },
        "outputId": "3c426606-ddf6-4fb4-9b5f-2069272958d1"
      },
      "source": [
        "trainDS = Dataset(train=True)\n",
        "testDS = Dataset(train=False)"
      ],
      "execution_count": null,
      "outputs": [
        {
          "output_type": "stream",
          "text": [
            "Downloading https://www.cs.toronto.edu/~kriz/cifar-100-python.tar.gz to data/cifar-100-python.tar.gz\n"
          ],
          "name": "stdout"
        },
        {
          "output_type": "display_data",
          "data": {
            "application/vnd.jupyter.widget-view+json": {
              "model_id": "1532a7858bc64d2da93e408a154502e9",
              "version_minor": 0,
              "version_major": 2
            },
            "text/plain": [
              "HBox(children=(FloatProgress(value=1.0, bar_style='info', max=1.0), HTML(value='')))"
            ]
          },
          "metadata": {
            "tags": []
          }
        },
        {
          "output_type": "stream",
          "text": [
            "Extracting data/cifar-100-python.tar.gz to data\n",
            "Files already downloaded and verified\n"
          ],
          "name": "stdout"
        }
      ]
    },
    {
      "cell_type": "code",
      "metadata": {
        "id": "W3ge3VayryJL",
        "colab_type": "code",
        "colab": {}
      },
      "source": [
        "train_splits = trainDS.splits\n",
        "test_splits = testDS.splits"
      ],
      "execution_count": null,
      "outputs": []
    },
    {
      "cell_type": "markdown",
      "metadata": {
        "id": "AzxTlFF_rkfe",
        "colab_type": "text"
      },
      "source": [
        "# Define Network"
      ]
    },
    {
      "cell_type": "code",
      "metadata": {
        "id": "rgZtPkiPrmQK",
        "colab_type": "code",
        "colab": {}
      },
      "source": [
        "ICaRL = ResNet.resnet32(num_classes=100)\n",
        "ICaRL =  ICaRL.to(params.DEVICE)"
      ],
      "execution_count": null,
      "outputs": []
    },
    {
      "cell_type": "code",
      "metadata": {
        "id": "CI8EyFmpOikN",
        "colab_type": "code",
        "colab": {}
      },
      "source": [
        "exemplars = [None]*100\n",
        "\n",
        "test_indexes =  []\n",
        "accs = []"
      ],
      "execution_count": null,
      "outputs": []
    },
    {
      "cell_type": "code",
      "metadata": {
        "id": "fcFjbBGrOMz6",
        "colab_type": "code",
        "colab": {
          "base_uri": "https://localhost:8080/",
          "height": 1000
        },
        "outputId": "2a7b2c9d-3068-459c-fb11-02728a683f1b"
      },
      "source": [
        "for task in range(0, 100, params.TASK_SIZE):\n",
        "  train_indexes = trainDS.__getIndexesGroups__(task)\n",
        "  test_indexes = test_indexes + testDS.__getIndexesGroups__(task)\n",
        "\n",
        "  train_dataset = Subset(trainDS, train_indexes, transform = train_transformer)\n",
        "  test_dataset = Subset(testDS, test_indexes, transform = test_transformer)\n",
        "\n",
        "  train_loader = DataLoader( train_dataset, num_workers=params.NUM_WORKERS, batch_size=params.BATCH_SIZE, shuffle=True)\n",
        "  test_loader = DataLoader( test_dataset, num_workers=params.NUM_WORKERS, batch_size=params.BATCH_SIZE , shuffle=True )\n",
        "  \n",
        "  ICaRL, exemplars = ICaRLModel.incrementalTrain(task, trainDS, ICaRL, exemplars, train_transformer)\n",
        "\n",
        "  col = []\n",
        "  for i,x in enumerate( train_splits[ :int(task/10) + 1]) : \n",
        "    v = np.array(x)\n",
        "    col = np.concatenate( (col,v), axis = None)\n",
        "    col = col.astype(int)\n",
        "  mean = None\n",
        "  total = 0.0\n",
        "  running_corrects = 0.0\n",
        "  for img, lbl, _ in train_loader:\n",
        "      img = img.float().to(params.DEVICE)\n",
        "      preds, mean = ICaRLModel.classify(img, exemplars, ICaRL, task, trainDS, mean)\n",
        "      preds = preds.to(params.DEVICE)\n",
        "      labels = utils.mapFunction(lbl, col).to(params.DEVICE)\n",
        "\n",
        "      total += len(lbl)\n",
        "      running_corrects += torch.sum(preds == labels.data).data.item()\n",
        "\n",
        "  accuracy = float(running_corrects/total)\n",
        "  print(f'task: {task}', f'train accuracy = {accuracy}')\n",
        "  accs.append(accuracy)\n",
        "\n",
        "  total = 0.0\n",
        "  running_corrects = 0.0\n",
        "  tot_preds = []\n",
        "  tot_lab = []\n",
        "  for img, lbl, _ in test_loader:\n",
        "      img = img.float().to(params.DEVICE)\n",
        "      preds, _ = ICaRLModel.classify(img, exemplars, ICaRL, task, trainDS, mean)\n",
        "      preds = preds.to(params.DEVICE)\n",
        "      labels = utils.mapFunction(lbl, col).to(params.DEVICE)\n",
        "\n",
        "      tot_preds = np.concatenate( ( tot_preds, preds.data.cpu().numpy() ) )\n",
        "      tot_lab = np.concatenate( (tot_lab, labels.data.cpu().numpy()  ) )\n",
        "\n",
        "      total += len(lbl)\n",
        "      running_corrects += torch.sum(preds == labels.data).data.item()\n",
        "\n",
        "  accuracy = float(running_corrects/total)\n",
        "  print(f'task: {task}', f'test accuracy = {accuracy}')\n",
        "  cf = confusion_matrix(tot_lab, tot_preds)\n",
        "  df_cm = pd.DataFrame(cf, range(task + params.TASK_SIZE), range(task + params.TASK_SIZE))\n",
        "  sn.set(font_scale = .5) # for label size\n",
        "  sn.heatmap(df_cm, annot=False)\n",
        "  plt.show()"
      ],
      "execution_count": null,
      "outputs": [
        {
          "output_type": "stream",
          "text": [
            "At step  0  and at epoch =  0  the loss is =  0.03090560808777809  and accuracy is =  0.1564\n",
            "At step  0  and at epoch =  1  the loss is =  0.025860246270895004  and accuracy is =  0.3122\n",
            "At step  0  and at epoch =  2  the loss is =  0.01707105152308941  and accuracy is =  0.435\n",
            "At step  0  and at epoch =  3  the loss is =  0.023238729685544968  and accuracy is =  0.5066\n",
            "At step  0  and at epoch =  4  the loss is =  0.01705314591526985  and accuracy is =  0.5498\n",
            "At step  0  and at epoch =  5  the loss is =  0.02490994893014431  and accuracy is =  0.5898\n",
            "At step  0  and at epoch =  6  the loss is =  0.016995780169963837  and accuracy is =  0.6234\n",
            "At step  0  and at epoch =  7  the loss is =  0.015786608681082726  and accuracy is =  0.6488\n",
            "At step  0  and at epoch =  8  the loss is =  0.020119864493608475  and accuracy is =  0.685\n",
            "At step  0  and at epoch =  9  the loss is =  0.008716439828276634  and accuracy is =  0.698\n",
            "At step  0  and at epoch =  10  the loss is =  0.011174947023391724  and accuracy is =  0.701\n",
            "At step  0  and at epoch =  11  the loss is =  0.010026433505117893  and accuracy is =  0.743\n",
            "At step  0  and at epoch =  12  the loss is =  0.026747247204184532  and accuracy is =  0.7482\n",
            "At step  0  and at epoch =  13  the loss is =  0.023674674332141876  and accuracy is =  0.7278\n",
            "At step  0  and at epoch =  14  the loss is =  0.028365936130285263  and accuracy is =  0.7594\n",
            "At step  0  and at epoch =  15  the loss is =  0.02349260449409485  and accuracy is =  0.7332\n",
            "At step  0  and at epoch =  16  the loss is =  0.02402815781533718  and accuracy is =  0.7468\n",
            "At step  0  and at epoch =  17  the loss is =  0.009750337339937687  and accuracy is =  0.7974\n",
            "At step  0  and at epoch =  18  the loss is =  0.017644857987761497  and accuracy is =  0.7958\n",
            "At step  0  and at epoch =  19  the loss is =  0.007147366181015968  and accuracy is =  0.8\n",
            "At step  0  and at epoch =  20  the loss is =  0.01399775967001915  and accuracy is =  0.8166\n",
            "At step  0  and at epoch =  21  the loss is =  0.024497786536812782  and accuracy is =  0.7866\n",
            "At step  0  and at epoch =  22  the loss is =  0.00948005635291338  and accuracy is =  0.8012\n",
            "At step  0  and at epoch =  23  the loss is =  0.012588956393301487  and accuracy is =  0.8348\n",
            "At step  0  and at epoch =  24  the loss is =  0.008136567659676075  and accuracy is =  0.843\n",
            "At step  0  and at epoch =  25  the loss is =  0.004795998800545931  and accuracy is =  0.8262\n",
            "At step  0  and at epoch =  26  the loss is =  0.009742696769535542  and accuracy is =  0.8526\n",
            "At step  0  and at epoch =  27  the loss is =  0.015931880101561546  and accuracy is =  0.8496\n",
            "At step  0  and at epoch =  28  the loss is =  0.014795036986470222  and accuracy is =  0.8366\n",
            "At step  0  and at epoch =  29  the loss is =  0.03805474564433098  and accuracy is =  0.8538\n",
            "At step  0  and at epoch =  30  the loss is =  0.014052881859242916  and accuracy is =  0.811\n",
            "At step  0  and at epoch =  31  the loss is =  0.014656197279691696  and accuracy is =  0.8464\n",
            "At step  0  and at epoch =  32  the loss is =  0.005070893559604883  and accuracy is =  0.8536\n",
            "At step  0  and at epoch =  33  the loss is =  0.007030665874481201  and accuracy is =  0.879\n",
            "At step  0  and at epoch =  34  the loss is =  0.009086987003684044  and accuracy is =  0.8874\n",
            "At step  0  and at epoch =  35  the loss is =  0.022712811827659607  and accuracy is =  0.8754\n",
            "At step  0  and at epoch =  36  the loss is =  0.007857601158320904  and accuracy is =  0.8474\n",
            "At step  0  and at epoch =  37  the loss is =  0.006602043751627207  and accuracy is =  0.8728\n",
            "At step  0  and at epoch =  38  the loss is =  0.01021475251764059  and accuracy is =  0.8794\n",
            "At step  0  and at epoch =  39  the loss is =  0.018418477848172188  and accuracy is =  0.8766\n",
            "At step  0  and at epoch =  40  the loss is =  0.004646810237318277  and accuracy is =  0.8664\n",
            "At step  0  and at epoch =  41  the loss is =  0.004256236366927624  and accuracy is =  0.8982\n",
            "At step  0  and at epoch =  42  the loss is =  0.015487036667764187  and accuracy is =  0.9062\n",
            "At step  0  and at epoch =  43  the loss is =  0.008589604869484901  and accuracy is =  0.885\n",
            "At step  0  and at epoch =  44  the loss is =  0.021374566480517387  and accuracy is =  0.889\n",
            "At step  0  and at epoch =  45  the loss is =  0.006698437966406345  and accuracy is =  0.8712\n",
            "At step  0  and at epoch =  46  the loss is =  0.019674185663461685  and accuracy is =  0.871\n",
            "At step  0  and at epoch =  47  the loss is =  0.014405481517314911  and accuracy is =  0.91\n",
            "At step  0  and at epoch =  48  the loss is =  0.0244545117020607  and accuracy is =  0.9078\n",
            "At step  0  and at epoch =  49  the loss is =  0.009512288495898247  and accuracy is =  0.937\n",
            "At step  0  and at epoch =  50  the loss is =  0.0032377606257796288  and accuracy is =  0.943\n",
            "At step  0  and at epoch =  51  the loss is =  0.016280552372336388  and accuracy is =  0.9522\n",
            "At step  0  and at epoch =  52  the loss is =  0.0035761473700404167  and accuracy is =  0.9528\n",
            "At step  0  and at epoch =  53  the loss is =  0.008301743306219578  and accuracy is =  0.9588\n",
            "At step  0  and at epoch =  54  the loss is =  0.0033320917282253504  and accuracy is =  0.9556\n",
            "At step  0  and at epoch =  55  the loss is =  0.009580254554748535  and accuracy is =  0.9586\n",
            "At step  0  and at epoch =  56  the loss is =  0.005791925825178623  and accuracy is =  0.9566\n",
            "At step  0  and at epoch =  57  the loss is =  0.022352270781993866  and accuracy is =  0.957\n",
            "At step  0  and at epoch =  58  the loss is =  0.009047958068549633  and accuracy is =  0.9598\n",
            "At step  0  and at epoch =  59  the loss is =  0.005637557245790958  and accuracy is =  0.9586\n",
            "At step  0  and at epoch =  60  the loss is =  0.03428417071700096  and accuracy is =  0.9656\n",
            "At step  0  and at epoch =  61  the loss is =  0.006849014665931463  and accuracy is =  0.9572\n",
            "At step  0  and at epoch =  62  the loss is =  0.000555644219275564  and accuracy is =  0.9602\n",
            "At step  0  and at epoch =  63  the loss is =  0.0006037175771780312  and accuracy is =  0.97\n",
            "At step  0  and at epoch =  64  the loss is =  0.010999049060046673  and accuracy is =  0.9706\n",
            "At step  0  and at epoch =  65  the loss is =  0.0030375507194548845  and accuracy is =  0.971\n",
            "At step  0  and at epoch =  66  the loss is =  0.010541818104684353  and accuracy is =  0.9718\n",
            "At step  0  and at epoch =  67  the loss is =  0.001073867897503078  and accuracy is =  0.9718\n",
            "At step  0  and at epoch =  68  the loss is =  0.008597294799983501  and accuracy is =  0.9728\n",
            "At step  0  and at epoch =  69  the loss is =  0.01256900280714035  and accuracy is =  0.9704\n",
            "task: 0 train accuracy = 0.9796\n",
            "task: 0 test accuracy = 0.897\n"
          ],
          "name": "stdout"
        },
        {
          "output_type": "display_data",
          "data": {
            "image/png": "[encoded data removed]",
            "text/plain": [
              "<Figure size 432x288 with 2 Axes>"
            ]
          },
          "metadata": {
            "tags": []
          }
        },
        {
          "output_type": "stream",
          "text": [
            "At step  10  and at epoch =  0  the loss is =  0.028366409242153168  and accuracy is =  0.3041369472182596\n",
            "At step  10  and at epoch =  1  the loss is =  0.03058656118810177  and accuracy is =  0.40456490727532096\n",
            "At step  10  and at epoch =  2  the loss is =  0.028254637494683266  and accuracy is =  0.4884450784593438\n",
            "At step  10  and at epoch =  3  the loss is =  0.022528735920786858  and accuracy is =  0.54679029957204\n",
            "At step  10  and at epoch =  4  the loss is =  0.02314004674553871  and accuracy is =  0.5723252496433666\n",
            "At step  10  and at epoch =  5  the loss is =  0.023708531633019447  and accuracy is =  0.6005706134094151\n",
            "At step  10  and at epoch =  6  the loss is =  0.023413117974996567  and accuracy is =  0.6159771754636234\n",
            "At step  10  and at epoch =  7  the loss is =  0.02410012111067772  and accuracy is =  0.645506419400856\n",
            "At step  10  and at epoch =  8  the loss is =  0.02483855001628399  and accuracy is =  0.6651925820256777\n",
            "At step  10  and at epoch =  9  the loss is =  0.019933870062232018  and accuracy is =  0.681169757489301\n",
            "At step  10  and at epoch =  10  the loss is =  0.021360376849770546  and accuracy is =  0.6911554921540656\n",
            "At step  10  and at epoch =  11  the loss is =  0.0245368592441082  and accuracy is =  0.7\n",
            "At step  10  and at epoch =  12  the loss is =  0.02231629565358162  and accuracy is =  0.715549215406562\n",
            "At step  10  and at epoch =  13  the loss is =  0.024370994418859482  and accuracy is =  0.7169757489300999\n",
            "At step  10  and at epoch =  14  the loss is =  0.021802091971039772  and accuracy is =  0.7345221112696149\n",
            "At step  10  and at epoch =  15  the loss is =  0.020534073933959007  and accuracy is =  0.743509272467903\n",
            "At step  10  and at epoch =  16  the loss is =  0.01846456155180931  and accuracy is =  0.743509272467903\n",
            "At step  10  and at epoch =  17  the loss is =  0.020034044981002808  and accuracy is =  0.7527817403708987\n",
            "At step  10  and at epoch =  18  the loss is =  0.02053278125822544  and accuracy is =  0.7553495007132668\n",
            "At step  10  and at epoch =  19  the loss is =  0.02008693851530552  and accuracy is =  0.7680456490727532\n",
            "At step  10  and at epoch =  20  the loss is =  0.0168389230966568  and accuracy is =  0.7679029957203994\n",
            "At step  10  and at epoch =  21  the loss is =  0.016662485897541046  and accuracy is =  0.7793152639087019\n",
            "At step  10  and at epoch =  22  the loss is =  0.01894870400428772  and accuracy is =  0.7757489300998573\n",
            "At step  10  and at epoch =  23  the loss is =  0.021002119407057762  and accuracy is =  0.7825962910128388\n",
            "At step  10  and at epoch =  24  the loss is =  0.017336219549179077  and accuracy is =  0.7977175463623395\n",
            "At step  10  and at epoch =  25  the loss is =  0.017384668812155724  and accuracy is =  0.7955777460770328\n",
            "At step  10  and at epoch =  26  the loss is =  0.01565229333937168  and accuracy is =  0.8002853067047075\n",
            "At step  10  and at epoch =  27  the loss is =  0.017859339714050293  and accuracy is =  0.8062767475035664\n",
            "At step  10  and at epoch =  28  the loss is =  0.019060244783759117  and accuracy is =  0.8059914407988588\n",
            "At step  10  and at epoch =  29  the loss is =  0.01654728874564171  and accuracy is =  0.8088445078459344\n",
            "At step  10  and at epoch =  30  the loss is =  0.021514447405934334  and accuracy is =  0.8166904422253923\n",
            "At step  10  and at epoch =  31  the loss is =  0.01591862551867962  and accuracy is =  0.8186875891583453\n",
            "At step  10  and at epoch =  32  the loss is =  0.020562883466482162  and accuracy is =  0.822681883024251\n",
            "At step  10  and at epoch =  33  the loss is =  0.01494946051388979  and accuracy is =  0.8255349500713267\n",
            "At step  10  and at epoch =  34  the loss is =  0.018425684422254562  and accuracy is =  0.833808844507846\n",
            "At step  10  and at epoch =  35  the loss is =  0.01844911091029644  and accuracy is =  0.8298145506419401\n",
            "At step  10  and at epoch =  36  the loss is =  0.01587609201669693  and accuracy is =  0.8242510699001426\n",
            "At step  10  and at epoch =  37  the loss is =  0.01916665770113468  and accuracy is =  0.8390870185449358\n",
            "At step  10  and at epoch =  38  the loss is =  0.017944663763046265  and accuracy is =  0.8427960057061341\n",
            "At step  10  and at epoch =  39  the loss is =  0.017043692991137505  and accuracy is =  0.8466476462196861\n",
            "At step  10  and at epoch =  40  the loss is =  0.017333412542939186  and accuracy is =  0.8385164051355207\n",
            "At step  10  and at epoch =  41  the loss is =  0.016756821423768997  and accuracy is =  0.8459343794579173\n",
            "At step  10  and at epoch =  42  the loss is =  0.016885338351130486  and accuracy is =  0.8475035663338089\n",
            "At step  10  and at epoch =  43  the loss is =  0.01462695375084877  and accuracy is =  0.8516405135520685\n",
            "At step  10  and at epoch =  44  the loss is =  0.01629350520670414  and accuracy is =  0.8420827389443651\n",
            "At step  10  and at epoch =  45  the loss is =  0.01567806489765644  and accuracy is =  0.8549215406562054\n",
            "At step  10  and at epoch =  46  the loss is =  0.015218700282275677  and accuracy is =  0.862339514978602\n",
            "At step  10  and at epoch =  47  the loss is =  0.015011783689260483  and accuracy is =  0.8584878744650499\n",
            "At step  10  and at epoch =  48  the loss is =  0.019356675446033478  and accuracy is =  0.8573466476462197\n",
            "At step  10  and at epoch =  49  the loss is =  0.012382770888507366  and accuracy is =  0.8957203994293866\n",
            "At step  10  and at epoch =  50  the loss is =  0.013380030170083046  and accuracy is =  0.9121255349500713\n",
            "At step  10  and at epoch =  51  the loss is =  0.013203675858676434  and accuracy is =  0.912981455064194\n",
            "At step  10  and at epoch =  52  the loss is =  0.012571732513606548  and accuracy is =  0.9178316690442225\n",
            "At step  10  and at epoch =  53  the loss is =  0.014054575935006142  and accuracy is =  0.9266761768901569\n",
            "At step  10  and at epoch =  54  the loss is =  0.010887287557125092  and accuracy is =  0.9232524964336661\n",
            "At step  10  and at epoch =  55  the loss is =  0.011825261637568474  and accuracy is =  0.921398002853067\n",
            "At step  10  and at epoch =  56  the loss is =  0.010987196117639542  and accuracy is =  0.929243937232525\n",
            "At step  10  and at epoch =  57  the loss is =  0.011264908127486706  and accuracy is =  0.9282453637660485\n",
            "At step  10  and at epoch =  58  the loss is =  0.013326842337846756  and accuracy is =  0.9316690442225393\n",
            "At step  10  and at epoch =  59  the loss is =  0.01287696324288845  and accuracy is =  0.9305278174037089\n",
            "At step  10  and at epoch =  60  the loss is =  0.012008759193122387  and accuracy is =  0.9322396576319544\n",
            "At step  10  and at epoch =  61  the loss is =  0.010568810626864433  and accuracy is =  0.931811697574893\n",
            "At step  10  and at epoch =  62  the loss is =  0.013524112291634083  and accuracy is =  0.9353780313837375\n",
            "At step  10  and at epoch =  63  the loss is =  0.013278534635901451  and accuracy is =  0.9392296718972896\n",
            "At step  10  and at epoch =  64  the loss is =  0.013943399302661419  and accuracy is =  0.9426533523537803\n",
            "At step  10  and at epoch =  65  the loss is =  0.012364314869046211  and accuracy is =  0.9379457917261056\n",
            "At step  10  and at epoch =  66  the loss is =  0.011214300990104675  and accuracy is =  0.9386590584878745\n",
            "At step  10  and at epoch =  67  the loss is =  0.01275661215186119  and accuracy is =  0.9419400855920114\n",
            "At step  10  and at epoch =  68  the loss is =  0.011794811114668846  and accuracy is =  0.9389443651925821\n",
            "At step  10  and at epoch =  69  the loss is =  0.010670779272913933  and accuracy is =  0.9430813124108417\n",
            "task: 10 train accuracy = 0.9554\n",
            "task: 10 test accuracy = 0.8085\n"
          ],
          "name": "stdout"
        },
        {
          "output_type": "display_data",
          "data": {
            "image/png": "[encoded data removed]",
            "text/plain": [
              "<Figure size 432x288 with 2 Axes>"
            ]
          },
          "metadata": {
            "tags": []
          }
        },
        {
          "output_type": "stream",
          "text": [
            "At step  20  and at epoch =  0  the loss is =  0.044499702751636505  and accuracy is =  0.27521367521367524\n",
            "At step  20  and at epoch =  1  the loss is =  0.03558014705777168  and accuracy is =  0.34985754985754985\n",
            "At step  20  and at epoch =  2  the loss is =  0.03488459438085556  and accuracy is =  0.43304843304843305\n",
            "At step  20  and at epoch =  3  the loss is =  0.03387703746557236  and accuracy is =  0.48846153846153845\n",
            "At step  20  and at epoch =  4  the loss is =  0.03554879501461983  and accuracy is =  0.5313390313390314\n",
            "At step  20  and at epoch =  5  the loss is =  0.03126857429742813  and accuracy is =  0.5710826210826211\n",
            "At step  20  and at epoch =  6  the loss is =  0.031395770609378815  and accuracy is =  0.5886039886039887\n",
            "At step  20  and at epoch =  7  the loss is =  0.03017565980553627  and accuracy is =  0.607977207977208\n",
            "At step  20  and at epoch =  8  the loss is =  0.034722700715065  and accuracy is =  0.6411680911680911\n",
            "At step  20  and at epoch =  9  the loss is =  0.028491290286183357  and accuracy is =  0.6522792022792023\n",
            "At step  20  and at epoch =  10  the loss is =  0.027857225388288498  and accuracy is =  0.6635327635327636\n",
            "At step  20  and at epoch =  11  the loss is =  0.030678095296025276  and accuracy is =  0.6746438746438747\n",
            "At step  20  and at epoch =  12  the loss is =  0.02942100167274475  and accuracy is =  0.6864672364672365\n",
            "At step  20  and at epoch =  13  the loss is =  0.03049762360751629  and accuracy is =  0.6962962962962963\n",
            "At step  20  and at epoch =  14  the loss is =  0.030194832012057304  and accuracy is =  0.7062678062678063\n",
            "At step  20  and at epoch =  15  the loss is =  0.030884472653269768  and accuracy is =  0.7163817663817664\n",
            "At step  20  and at epoch =  16  the loss is =  0.029297808185219765  and accuracy is =  0.7217948717948718\n",
            "At step  20  and at epoch =  17  the loss is =  0.03051755204796791  and accuracy is =  0.7314814814814815\n",
            "At step  20  and at epoch =  18  the loss is =  0.02602042816579342  and accuracy is =  0.7465811965811966\n",
            "At step  20  and at epoch =  19  the loss is =  0.027135727927088737  and accuracy is =  0.7450142450142451\n",
            "At step  20  and at epoch =  20  the loss is =  0.02938331849873066  and accuracy is =  0.7317663817663818\n",
            "At step  20  and at epoch =  21  the loss is =  0.02878154069185257  and accuracy is =  0.7551282051282051\n",
            "At step  20  and at epoch =  22  the loss is =  0.02654973976314068  and accuracy is =  0.7608262108262108\n",
            "At step  20  and at epoch =  23  the loss is =  0.026679806411266327  and accuracy is =  0.7703703703703704\n",
            "At step  20  and at epoch =  24  the loss is =  0.0282880961894989  and accuracy is =  0.7646723646723647\n",
            "At step  20  and at epoch =  25  the loss is =  0.030690912157297134  and accuracy is =  0.762962962962963\n",
            "At step  20  and at epoch =  26  the loss is =  0.02888353168964386  and accuracy is =  0.7853276353276353\n",
            "At step  20  and at epoch =  27  the loss is =  0.029110366478562355  and accuracy is =  0.7700854700854701\n",
            "At step  20  and at epoch =  28  the loss is =  0.027013637125492096  and accuracy is =  0.7834757834757835\n",
            "At step  20  and at epoch =  29  the loss is =  0.028384298086166382  and accuracy is =  0.7853276353276353\n",
            "At step  20  and at epoch =  30  the loss is =  0.029973383992910385  and accuracy is =  0.7861823361823361\n",
            "At step  20  and at epoch =  31  the loss is =  0.027153421193361282  and accuracy is =  0.7984330484330484\n",
            "At step  20  and at epoch =  32  the loss is =  0.02841387502849102  and accuracy is =  0.8002849002849003\n",
            "At step  20  and at epoch =  33  the loss is =  0.025879310443997383  and accuracy is =  0.7962962962962963\n",
            "At step  20  and at epoch =  34  the loss is =  0.026686616241931915  and accuracy is =  0.8038461538461539\n",
            "At step  20  and at epoch =  35  the loss is =  0.025530949234962463  and accuracy is =  0.8092592592592592\n",
            "At step  20  and at epoch =  36  the loss is =  0.027591094374656677  and accuracy is =  0.8061253561253561\n",
            "At step  20  and at epoch =  37  the loss is =  0.029729695990681648  and accuracy is =  0.8068376068376069\n",
            "At step  20  and at epoch =  38  the loss is =  0.028417985886335373  and accuracy is =  0.8155270655270656\n",
            "At step  20  and at epoch =  39  the loss is =  0.02934725396335125  and accuracy is =  0.8055555555555556\n",
            "At step  20  and at epoch =  40  the loss is =  0.025048794224858284  and accuracy is =  0.8200854700854701\n",
            "At step  20  and at epoch =  41  the loss is =  0.027014922350645065  and accuracy is =  0.8109686609686609\n",
            "At step  20  and at epoch =  42  the loss is =  0.025555357336997986  and accuracy is =  0.8190883190883191\n",
            "At step  20  and at epoch =  43  the loss is =  0.024663424119353294  and accuracy is =  0.8233618233618234\n",
            "At step  20  and at epoch =  44  the loss is =  0.026670651510357857  and accuracy is =  0.8209401709401709\n",
            "At step  20  and at epoch =  45  the loss is =  0.026929881423711777  and accuracy is =  0.8290598290598291\n",
            "At step  20  and at epoch =  46  the loss is =  0.03092259354889393  and accuracy is =  0.8225071225071225\n",
            "At step  20  and at epoch =  47  the loss is =  0.02623484842479229  and accuracy is =  0.8195156695156696\n",
            "At step  20  and at epoch =  48  the loss is =  0.02543458715081215  and accuracy is =  0.8319088319088319\n",
            "At step  20  and at epoch =  49  the loss is =  0.023023828864097595  and accuracy is =  0.8660968660968661\n",
            "At step  20  and at epoch =  50  the loss is =  0.023385951295495033  and accuracy is =  0.8843304843304843\n",
            "At step  20  and at epoch =  51  the loss is =  0.02064507082104683  and accuracy is =  0.8796296296296297\n",
            "At step  20  and at epoch =  52  the loss is =  0.022155145183205605  and accuracy is =  0.8837606837606837\n",
            "At step  20  and at epoch =  53  the loss is =  0.02185799740254879  and accuracy is =  0.8883190883190883\n",
            "At step  20  and at epoch =  54  the loss is =  0.02084212750196457  and accuracy is =  0.8884615384615384\n",
            "At step  20  and at epoch =  55  the loss is =  0.023342959582805634  and accuracy is =  0.8904558404558405\n",
            "At step  20  and at epoch =  56  the loss is =  0.023549191653728485  and accuracy is =  0.8978632478632479\n",
            "At step  20  and at epoch =  57  the loss is =  0.02215592749416828  and accuracy is =  0.895014245014245\n",
            "At step  20  and at epoch =  58  the loss is =  0.021530795842409134  and accuracy is =  0.8904558404558405\n",
            "At step  20  and at epoch =  59  the loss is =  0.02099497988820076  and accuracy is =  0.8995726495726496\n",
            "At step  20  and at epoch =  60  the loss is =  0.023749319836497307  and accuracy is =  0.8987179487179487\n",
            "At step  20  and at epoch =  61  the loss is =  0.020397290587425232  and accuracy is =  0.9014245014245015\n",
            "At step  20  and at epoch =  62  the loss is =  0.021203482523560524  and accuracy is =  0.9032763532763532\n",
            "At step  20  and at epoch =  63  the loss is =  0.02283548377454281  and accuracy is =  0.9022792022792023\n",
            "At step  20  and at epoch =  64  the loss is =  0.019774146378040314  and accuracy is =  0.9034188034188034\n",
            "At step  20  and at epoch =  65  the loss is =  0.020592300221323967  and accuracy is =  0.9072649572649573\n",
            "At step  20  and at epoch =  66  the loss is =  0.021228214725852013  and accuracy is =  0.9078347578347579\n",
            "At step  20  and at epoch =  67  the loss is =  0.022613663226366043  and accuracy is =  0.9071225071225071\n",
            "At step  20  and at epoch =  68  the loss is =  0.021696509793400764  and accuracy is =  0.9025641025641026\n",
            "At step  20  and at epoch =  69  the loss is =  0.019651172682642937  and accuracy is =  0.9081196581196581\n",
            "task: 20 train accuracy = 0.912\n",
            "task: 20 test accuracy = 0.7593333333333333\n"
          ],
          "name": "stdout"
        },
        {
          "output_type": "display_data",
          "data": {
            "image/png": "[encoded data removed]",
            "text/plain": [
              "<Figure size 432x288 with 2 Axes>"
            ]
          },
          "metadata": {
            "tags": []
          }
        },
        {
          "output_type": "stream",
          "text": [
            "At step  30  and at epoch =  0  the loss is =  0.047485869377851486  and accuracy is =  0.2867332382310984\n",
            "At step  30  and at epoch =  1  the loss is =  0.04574733227491379  and accuracy is =  0.37646219686162624\n",
            "At step  30  and at epoch =  2  the loss is =  0.04059475660324097  and accuracy is =  0.44265335235378034\n",
            "At step  30  and at epoch =  3  the loss is =  0.03944365680217743  and accuracy is =  0.48958630527817404\n",
            "At step  30  and at epoch =  4  the loss is =  0.040769558399915695  and accuracy is =  0.5293865905848787\n",
            "At step  30  and at epoch =  5  the loss is =  0.04012158140540123  and accuracy is =  0.5549215406562055\n",
            "At step  30  and at epoch =  6  the loss is =  0.042844269424676895  and accuracy is =  0.5803138373751783\n",
            "At step  30  and at epoch =  7  the loss is =  0.04179094359278679  and accuracy is =  0.5861626248216834\n",
            "At step  30  and at epoch =  8  the loss is =  0.04047355800867081  and accuracy is =  0.6124108416547789\n",
            "At step  30  and at epoch =  9  the loss is =  0.042256638407707214  and accuracy is =  0.6235378031383737\n",
            "At step  30  and at epoch =  10  the loss is =  0.03764661028981209  and accuracy is =  0.6360912981455065\n",
            "At step  30  and at epoch =  11  the loss is =  0.03577326983213425  and accuracy is =  0.6398002853067047\n",
            "At step  30  and at epoch =  12  the loss is =  0.037696585059165955  and accuracy is =  0.6517831669044223\n",
            "At step  30  and at epoch =  13  the loss is =  0.04004465043544769  and accuracy is =  0.669472182596291\n",
            "At step  30  and at epoch =  14  the loss is =  0.03868579491972923  and accuracy is =  0.6767475035663338\n",
            "At step  30  and at epoch =  15  the loss is =  0.03938359022140503  and accuracy is =  0.6815977175463623\n",
            "At step  30  and at epoch =  16  the loss is =  0.03983759507536888  and accuracy is =  0.6808844507845935\n",
            "At step  30  and at epoch =  17  the loss is =  0.037648193538188934  and accuracy is =  0.694864479315264\n",
            "At step  30  and at epoch =  18  the loss is =  0.03733041137456894  and accuracy is =  0.7028530670470756\n",
            "At step  30  and at epoch =  19  the loss is =  0.034832119941711426  and accuracy is =  0.6984308131241084\n",
            "At step  30  and at epoch =  20  the loss is =  0.03783098980784416  and accuracy is =  0.7192582025677603\n",
            "At step  30  and at epoch =  21  the loss is =  0.03450078144669533  and accuracy is =  0.7206847360912981\n",
            "At step  30  and at epoch =  22  the loss is =  0.03608966991305351  and accuracy is =  0.7104136947218259\n",
            "At step  30  and at epoch =  23  the loss is =  0.03577813878655434  and accuracy is =  0.7283880171184023\n",
            "At step  30  and at epoch =  24  the loss is =  0.03527478128671646  and accuracy is =  0.7298145506419401\n",
            "At step  30  and at epoch =  25  the loss is =  0.03820039704442024  and accuracy is =  0.7407988587731812\n",
            "At step  30  and at epoch =  26  the loss is =  0.03918648883700371  and accuracy is =  0.7492154065620542\n",
            "At step  30  and at epoch =  27  the loss is =  0.03524213656783104  and accuracy is =  0.7439372325249644\n",
            "At step  30  and at epoch =  28  the loss is =  0.0342283770442009  and accuracy is =  0.7533523537803138\n",
            "At step  30  and at epoch =  29  the loss is =  0.03371948376297951  and accuracy is =  0.7586305278174037\n",
            "At step  30  and at epoch =  30  the loss is =  0.03585581108927727  and accuracy is =  0.7573466476462197\n",
            "At step  30  and at epoch =  31  the loss is =  0.0360662043094635  and accuracy is =  0.7674750356633381\n",
            "At step  30  and at epoch =  32  the loss is =  0.03613702207803726  and accuracy is =  0.7620542082738945\n",
            "At step  30  and at epoch =  33  the loss is =  0.03534509986639023  and accuracy is =  0.7624821683309557\n",
            "At step  30  and at epoch =  34  the loss is =  0.03866785019636154  and accuracy is =  0.7620542082738945\n",
            "At step  30  and at epoch =  35  the loss is =  0.03780694305896759  and accuracy is =  0.781169757489301\n",
            "At step  30  and at epoch =  36  the loss is =  0.035262446850538254  and accuracy is =  0.7748930099857346\n",
            "At step  30  and at epoch =  37  the loss is =  0.03334697335958481  and accuracy is =  0.7727532097004279\n",
            "At step  30  and at epoch =  38  the loss is =  0.03742120787501335  and accuracy is =  0.779885877318117\n",
            "At step  30  and at epoch =  39  the loss is =  0.035062093287706375  and accuracy is =  0.7771754636233952\n",
            "At step  30  and at epoch =  40  the loss is =  0.03746715188026428  and accuracy is =  0.7855920114122682\n",
            "At step  30  and at epoch =  41  the loss is =  0.03579431772232056  and accuracy is =  0.7938659058487875\n",
            "At step  30  and at epoch =  42  the loss is =  0.03872571885585785  and accuracy is =  0.7927246790299572\n",
            "At step  30  and at epoch =  43  the loss is =  0.03374148905277252  and accuracy is =  0.7910128388017118\n",
            "At step  30  and at epoch =  44  the loss is =  0.03694641962647438  and accuracy is =  0.7960057061340942\n",
            "At step  30  and at epoch =  45  the loss is =  0.03427980840206146  and accuracy is =  0.8018544935805991\n",
            "At step  30  and at epoch =  46  the loss is =  0.0366264171898365  and accuracy is =  0.7902995720399429\n",
            "At step  30  and at epoch =  47  the loss is =  0.036759499460458755  and accuracy is =  0.7977175463623395\n",
            "At step  30  and at epoch =  48  the loss is =  0.032426122575998306  and accuracy is =  0.7981455064194009\n",
            "At step  30  and at epoch =  49  the loss is =  0.0344521664083004  and accuracy is =  0.8332382310984308\n",
            "At step  30  and at epoch =  50  the loss is =  0.034110281616449356  and accuracy is =  0.8462196861626248\n",
            "At step  30  and at epoch =  51  the loss is =  0.03223922476172447  and accuracy is =  0.8563480741797432\n",
            "At step  30  and at epoch =  52  the loss is =  0.033789362758398056  and accuracy is =  0.8627674750356633\n",
            "At step  30  and at epoch =  53  the loss is =  0.031148551031947136  and accuracy is =  0.8606276747503566\n",
            "At step  30  and at epoch =  54  the loss is =  0.030618883669376373  and accuracy is =  0.8627674750356633\n",
            "At step  30  and at epoch =  55  the loss is =  0.03252166137099266  and accuracy is =  0.8659058487874465\n",
            "At step  30  and at epoch =  56  the loss is =  0.032793015241622925  and accuracy is =  0.8686162624821683\n",
            "At step  30  and at epoch =  57  the loss is =  0.03297392651438713  and accuracy is =  0.8716119828815977\n",
            "At step  30  and at epoch =  58  the loss is =  0.03100883960723877  and accuracy is =  0.8710413694721826\n",
            "At step  30  and at epoch =  59  the loss is =  0.03194284811615944  and accuracy is =  0.87660485021398\n",
            "At step  30  and at epoch =  60  the loss is =  0.03361319750547409  and accuracy is =  0.8793152639087018\n",
            "At step  30  and at epoch =  61  the loss is =  0.030481716617941856  and accuracy is =  0.8794579172610556\n",
            "At step  30  and at epoch =  62  the loss is =  0.030847087502479553  and accuracy is =  0.8780313837375179\n",
            "At step  30  and at epoch =  63  the loss is =  0.029492083936929703  and accuracy is =  0.8840228245363766\n",
            "At step  30  and at epoch =  64  the loss is =  0.03086714819073677  and accuracy is =  0.8881597717546362\n",
            "At step  30  and at epoch =  65  the loss is =  0.03121638111770153  and accuracy is =  0.8855920114122682\n",
            "At step  30  and at epoch =  66  the loss is =  0.02862516976892948  and accuracy is =  0.8828815977175464\n",
            "At step  30  and at epoch =  67  the loss is =  0.03182539343833923  and accuracy is =  0.887018544935806\n",
            "At step  30  and at epoch =  68  the loss is =  0.030320290476083755  and accuracy is =  0.8881597717546362\n",
            "At step  30  and at epoch =  69  the loss is =  0.029418639838695526  and accuracy is =  0.8865905848787446\n",
            "task: 30 train accuracy = 0.8836\n",
            "task: 30 test accuracy = 0.69075\n"
          ],
          "name": "stdout"
        },
        {
          "output_type": "display_data",
          "data": {
            "image/png": "[encoded data removed]",
            "text/plain": [
              "<Figure size 432x288 with 2 Axes>"
            ]
          },
          "metadata": {
            "tags": []
          }
        },
        {
          "output_type": "stream",
          "text": [
            "At step  40  and at epoch =  0  the loss is =  0.060169920325279236  and accuracy is =  0.2650568181818182\n",
            "At step  40  and at epoch =  1  the loss is =  0.05666143447160721  and accuracy is =  0.33167613636363635\n",
            "At step  40  and at epoch =  2  the loss is =  0.05305064097046852  and accuracy is =  0.3731534090909091\n",
            "At step  40  and at epoch =  3  the loss is =  0.05727294832468033  and accuracy is =  0.42272727272727273\n",
            "At step  40  and at epoch =  4  the loss is =  0.049758151173591614  and accuracy is =  0.45852272727272725\n",
            "At step  40  and at epoch =  5  the loss is =  0.052201222628355026  and accuracy is =  0.48210227272727274\n",
            "At step  40  and at epoch =  6  the loss is =  0.050882451236248016  and accuracy is =  0.5110795454545455\n",
            "At step  40  and at epoch =  7  the loss is =  0.052581775933504105  and accuracy is =  0.5258522727272728\n",
            "At step  40  and at epoch =  8  the loss is =  0.05020326375961304  and accuracy is =  0.5457386363636364\n",
            "At step  40  and at epoch =  9  the loss is =  0.051037926226854324  and accuracy is =  0.5613636363636364\n",
            "At step  40  and at epoch =  10  the loss is =  0.05009140819311142  and accuracy is =  0.5731534090909091\n",
            "At step  40  and at epoch =  11  the loss is =  0.04965117201209068  and accuracy is =  0.5916193181818182\n",
            "At step  40  and at epoch =  12  the loss is =  0.049968499690294266  and accuracy is =  0.6012784090909091\n",
            "At step  40  and at epoch =  13  the loss is =  0.05183153972029686  and accuracy is =  0.6069602272727272\n",
            "At step  40  and at epoch =  14  the loss is =  0.05112005025148392  and accuracy is =  0.6170454545454546\n",
            "At step  40  and at epoch =  15  the loss is =  0.050823062658309937  and accuracy is =  0.6349431818181818\n",
            "At step  40  and at epoch =  16  the loss is =  0.0479624941945076  and accuracy is =  0.6346590909090909\n",
            "At step  40  and at epoch =  17  the loss is =  0.05111478269100189  and accuracy is =  0.6498579545454546\n",
            "At step  40  and at epoch =  18  the loss is =  0.04854780435562134  and accuracy is =  0.6544034090909091\n",
            "At step  40  and at epoch =  19  the loss is =  0.04955791309475899  and accuracy is =  0.662784090909091\n",
            "At step  40  and at epoch =  20  the loss is =  0.04616246744990349  and accuracy is =  0.6786931818181818\n",
            "At step  40  and at epoch =  21  the loss is =  0.051734764128923416  and accuracy is =  0.6755681818181818\n",
            "At step  40  and at epoch =  22  the loss is =  0.049509771168231964  and accuracy is =  0.6923295454545455\n",
            "At step  40  and at epoch =  23  the loss is =  0.05214880034327507  and accuracy is =  0.6869318181818181\n",
            "At step  40  and at epoch =  24  the loss is =  0.046226028352975845  and accuracy is =  0.7015625\n",
            "At step  40  and at epoch =  25  the loss is =  0.04994397237896919  and accuracy is =  0.703125\n",
            "At step  40  and at epoch =  26  the loss is =  0.04628871753811836  and accuracy is =  0.709375\n",
            "At step  40  and at epoch =  27  the loss is =  0.04869575425982475  and accuracy is =  0.7117897727272727\n",
            "At step  40  and at epoch =  28  the loss is =  0.04756464809179306  and accuracy is =  0.7188920454545454\n",
            "At step  40  and at epoch =  29  the loss is =  0.05151204764842987  and accuracy is =  0.7147727272727272\n",
            "At step  40  and at epoch =  30  the loss is =  0.050838716328144073  and accuracy is =  0.7232954545454545\n",
            "At step  40  and at epoch =  31  the loss is =  0.047043610364198685  and accuracy is =  0.727840909090909\n",
            "At step  40  and at epoch =  32  the loss is =  0.04691993445158005  and accuracy is =  0.7345170454545454\n",
            "At step  40  and at epoch =  33  the loss is =  0.04839706793427467  and accuracy is =  0.7342329545454546\n",
            "At step  40  and at epoch =  34  the loss is =  0.044905297458171844  and accuracy is =  0.7421875\n",
            "At step  40  and at epoch =  35  the loss is =  0.04757118225097656  and accuracy is =  0.7375\n",
            "At step  40  and at epoch =  36  the loss is =  0.049773503094911575  and accuracy is =  0.7492897727272727\n",
            "At step  40  and at epoch =  37  the loss is =  0.04613151401281357  and accuracy is =  0.7551136363636364\n",
            "At step  40  and at epoch =  38  the loss is =  0.045848388224840164  and accuracy is =  0.7556818181818182\n",
            "At step  40  and at epoch =  39  the loss is =  0.048293884843587875  and accuracy is =  0.7573863636363637\n",
            "At step  40  and at epoch =  40  the loss is =  0.048589061945676804  and accuracy is =  0.7536931818181818\n",
            "At step  40  and at epoch =  41  the loss is =  0.04787597432732582  and accuracy is =  0.7561079545454545\n",
            "At step  40  and at epoch =  42  the loss is =  0.047115497291088104  and accuracy is =  0.7715909090909091\n",
            "At step  40  and at epoch =  43  the loss is =  0.04489035904407501  and accuracy is =  0.7761363636363636\n",
            "At step  40  and at epoch =  44  the loss is =  0.04867532476782799  and accuracy is =  0.7696022727272728\n",
            "At step  40  and at epoch =  45  the loss is =  0.04611068218946457  and accuracy is =  0.7723011363636364\n",
            "At step  40  and at epoch =  46  the loss is =  0.04285847395658493  and accuracy is =  0.7691761363636364\n",
            "At step  40  and at epoch =  47  the loss is =  0.0485224612057209  and accuracy is =  0.7677556818181818\n",
            "At step  40  and at epoch =  48  the loss is =  0.04679132252931595  and accuracy is =  0.7732954545454546\n",
            "At step  40  and at epoch =  49  the loss is =  0.04183369129896164  and accuracy is =  0.8220170454545455\n",
            "At step  40  and at epoch =  50  the loss is =  0.04180801659822464  and accuracy is =  0.8386363636363636\n",
            "At step  40  and at epoch =  51  the loss is =  0.04138587787747383  and accuracy is =  0.8463068181818182\n",
            "At step  40  and at epoch =  52  the loss is =  0.042932406067848206  and accuracy is =  0.8507102272727273\n",
            "At step  40  and at epoch =  53  the loss is =  0.042776916176080704  and accuracy is =  0.8589488636363637\n",
            "At step  40  and at epoch =  54  the loss is =  0.038573961704969406  and accuracy is =  0.8521306818181819\n",
            "At step  40  and at epoch =  55  the loss is =  0.04184246063232422  and accuracy is =  0.8542613636363636\n",
            "At step  40  and at epoch =  56  the loss is =  0.04131682962179184  and accuracy is =  0.8649147727272727\n",
            "At step  40  and at epoch =  57  the loss is =  0.041682831943035126  and accuracy is =  0.8620738636363636\n",
            "At step  40  and at epoch =  58  the loss is =  0.04243224114179611  and accuracy is =  0.8646306818181818\n",
            "At step  40  and at epoch =  59  the loss is =  0.04068714380264282  and accuracy is =  0.8730113636363637\n",
            "At step  40  and at epoch =  60  the loss is =  0.04088880494236946  and accuracy is =  0.8734375\n",
            "At step  40  and at epoch =  61  the loss is =  0.04020342603325844  and accuracy is =  0.8694602272727273\n",
            "At step  40  and at epoch =  62  the loss is =  0.04260794073343277  and accuracy is =  0.8694602272727273\n",
            "At step  40  and at epoch =  63  the loss is =  0.03894416615366936  and accuracy is =  0.8813920454545454\n",
            "At step  40  and at epoch =  64  the loss is =  0.03939555585384369  and accuracy is =  0.8848011363636363\n",
            "At step  40  and at epoch =  65  the loss is =  0.042724885046482086  and accuracy is =  0.8809659090909091\n",
            "At step  40  and at epoch =  66  the loss is =  0.038613878190517426  and accuracy is =  0.8742897727272727\n",
            "At step  40  and at epoch =  67  the loss is =  0.04073648527264595  and accuracy is =  0.8768465909090909\n",
            "At step  40  and at epoch =  68  the loss is =  0.04004422947764397  and accuracy is =  0.8754261363636363\n",
            "At step  40  and at epoch =  69  the loss is =  0.04086336866021156  and accuracy is =  0.8782670454545455\n",
            "task: 40 train accuracy = 0.8234\n",
            "task: 40 test accuracy = 0.635\n"
          ],
          "name": "stdout"
        },
        {
          "output_type": "display_data",
          "data": {
            "image/png": "[encoded data removed]",
            "text/plain": [
              "<Figure size 432x288 with 2 Axes>"
            ]
          },
          "metadata": {
            "tags": []
          }
        },
        {
          "output_type": "stream",
          "text": [
            "At step  50  and at epoch =  0  the loss is =  0.0831393301486969  and accuracy is =  0.2500709219858156\n",
            "At step  50  and at epoch =  1  the loss is =  0.06995198875665665  and accuracy is =  0.30141843971631205\n",
            "At step  50  and at epoch =  2  the loss is =  0.09400006383657455  and accuracy is =  0.3777304964539007\n",
            "At step  50  and at epoch =  3  the loss is =  0.0689115971326828  and accuracy is =  0.4136170212765957\n",
            "At step  50  and at epoch =  4  the loss is =  0.07107898592948914  and accuracy is =  0.43560283687943263\n",
            "At step  50  and at epoch =  5  the loss is =  0.08040109276771545  and accuracy is =  0.4682269503546099\n",
            "At step  50  and at epoch =  6  the loss is =  0.07730340212583542  and accuracy is =  0.49446808510638296\n",
            "At step  50  and at epoch =  7  the loss is =  0.09919480234384537  and accuracy is =  0.5038297872340426\n",
            "At step  50  and at epoch =  8  the loss is =  0.058443766087293625  and accuracy is =  0.49546099290780143\n",
            "At step  50  and at epoch =  9  the loss is =  0.07236413657665253  and accuracy is =  0.5331914893617021\n",
            "At step  50  and at epoch =  10  the loss is =  0.06194208189845085  and accuracy is =  0.5445390070921986\n",
            "At step  50  and at epoch =  11  the loss is =  0.07481682300567627  and accuracy is =  0.5533333333333333\n",
            "At step  50  and at epoch =  12  the loss is =  0.08596727252006531  and accuracy is =  0.5683687943262411\n",
            "At step  50  and at epoch =  13  the loss is =  0.08272145688533783  and accuracy is =  0.5668085106382978\n",
            "At step  50  and at epoch =  14  the loss is =  0.07954815030097961  and accuracy is =  0.5782978723404255\n",
            "At step  50  and at epoch =  15  the loss is =  0.06395357102155685  and accuracy is =  0.588936170212766\n",
            "At step  50  and at epoch =  16  the loss is =  0.08414406329393387  and accuracy is =  0.6076595744680852\n",
            "At step  50  and at epoch =  17  the loss is =  0.08265408128499985  and accuracy is =  0.5931914893617021\n",
            "At step  50  and at epoch =  18  the loss is =  0.08125584572553635  and accuracy is =  0.604822695035461\n",
            "At step  50  and at epoch =  19  the loss is =  0.07070475071668625  and accuracy is =  0.6131914893617021\n",
            "At step  50  and at epoch =  20  the loss is =  0.053285516798496246  and accuracy is =  0.6249645390070921\n",
            "At step  50  and at epoch =  21  the loss is =  0.07542228698730469  and accuracy is =  0.6329078014184397\n",
            "At step  50  and at epoch =  22  the loss is =  0.0778619572520256  and accuracy is =  0.6343262411347518\n",
            "At step  50  and at epoch =  23  the loss is =  0.08205459266901016  and accuracy is =  0.6231205673758865\n",
            "At step  50  and at epoch =  24  the loss is =  0.07681459933519363  and accuracy is =  0.6360283687943262\n",
            "At step  50  and at epoch =  25  the loss is =  0.05175390467047691  and accuracy is =  0.6556028368794327\n",
            "At step  50  and at epoch =  26  the loss is =  0.06718821078538895  and accuracy is =  0.664822695035461\n",
            "At step  50  and at epoch =  27  the loss is =  0.05555108189582825  and accuracy is =  0.6581560283687943\n",
            "At step  50  and at epoch =  28  the loss is =  0.08749747276306152  and accuracy is =  0.6886524822695036\n",
            "At step  50  and at epoch =  29  the loss is =  0.0756416991353035  and accuracy is =  0.6370212765957447\n",
            "At step  50  and at epoch =  30  the loss is =  0.07370610535144806  and accuracy is =  0.6656737588652483\n",
            "At step  50  and at epoch =  31  the loss is =  0.06920482963323593  and accuracy is =  0.6780141843971631\n",
            "At step  50  and at epoch =  32  the loss is =  0.07488339394330978  and accuracy is =  0.6809929078014184\n",
            "At step  50  and at epoch =  33  the loss is =  0.07380915433168411  and accuracy is =  0.6695035460992907\n",
            "At step  50  and at epoch =  34  the loss is =  0.06438372284173965  and accuracy is =  0.6872340425531915\n",
            "At step  50  and at epoch =  35  the loss is =  0.05545575171709061  and accuracy is =  0.683404255319149\n",
            "At step  50  and at epoch =  36  the loss is =  0.06811627745628357  and accuracy is =  0.6921985815602837\n",
            "At step  50  and at epoch =  37  the loss is =  0.06016894057393074  and accuracy is =  0.6995744680851064\n",
            "At step  50  and at epoch =  38  the loss is =  0.0629909336566925  and accuracy is =  0.7090780141843972\n",
            "At step  50  and at epoch =  39  the loss is =  0.07856352627277374  and accuracy is =  0.7100709219858156\n",
            "At step  50  and at epoch =  40  the loss is =  0.05794491991400719  and accuracy is =  0.6946099290780142\n",
            "At step  50  and at epoch =  41  the loss is =  0.06570276618003845  and accuracy is =  0.711063829787234\n",
            "At step  50  and at epoch =  42  the loss is =  0.07020629942417145  and accuracy is =  0.7168794326241135\n",
            "At step  50  and at epoch =  43  the loss is =  0.06920117884874344  and accuracy is =  0.7184397163120567\n",
            "At step  50  and at epoch =  44  the loss is =  0.08630849421024323  and accuracy is =  0.7217021276595744\n",
            "At step  50  and at epoch =  45  the loss is =  0.06836211681365967  and accuracy is =  0.693049645390071\n",
            "At step  50  and at epoch =  46  the loss is =  0.05757936090230942  and accuracy is =  0.7102127659574468\n",
            "At step  50  and at epoch =  47  the loss is =  0.06905350089073181  and accuracy is =  0.7341843971631206\n",
            "At step  50  and at epoch =  48  the loss is =  0.06781091541051865  and accuracy is =  0.7321985815602837\n",
            "At step  50  and at epoch =  49  the loss is =  0.07061631232500076  and accuracy is =  0.7778723404255319\n",
            "At step  50  and at epoch =  50  the loss is =  0.05741334706544876  and accuracy is =  0.7904964539007092\n",
            "At step  50  and at epoch =  51  the loss is =  0.05663072690367699  and accuracy is =  0.798581560283688\n",
            "At step  50  and at epoch =  52  the loss is =  0.0814819484949112  and accuracy is =  0.7926241134751772\n",
            "At step  50  and at epoch =  53  the loss is =  0.05006183683872223  and accuracy is =  0.8065248226950354\n",
            "At step  50  and at epoch =  54  the loss is =  0.053740229457616806  and accuracy is =  0.8197163120567376\n",
            "At step  50  and at epoch =  55  the loss is =  0.05367462709546089  and accuracy is =  0.8134751773049645\n",
            "At step  50  and at epoch =  56  the loss is =  0.05365645885467529  and accuracy is =  0.808936170212766\n",
            "At step  50  and at epoch =  57  the loss is =  0.05681620538234711  and accuracy is =  0.8175886524822695\n",
            "At step  50  and at epoch =  58  the loss is =  0.06419031322002411  and accuracy is =  0.8173049645390071\n",
            "At step  50  and at epoch =  59  the loss is =  0.06967830657958984  and accuracy is =  0.8154609929078014\n",
            "At step  50  and at epoch =  60  the loss is =  0.07599377632141113  and accuracy is =  0.8184397163120567\n",
            "At step  50  and at epoch =  61  the loss is =  0.06228719279170036  and accuracy is =  0.8205673758865248\n",
            "At step  50  and at epoch =  62  the loss is =  0.07383088767528534  and accuracy is =  0.8231205673758866\n",
            "At step  50  and at epoch =  63  the loss is =  0.06833390146493912  and accuracy is =  0.8285106382978723\n",
            "At step  50  and at epoch =  64  the loss is =  0.05655962601304054  and accuracy is =  0.8370212765957447\n",
            "At step  50  and at epoch =  65  the loss is =  0.05569286271929741  and accuracy is =  0.8360283687943263\n",
            "At step  50  and at epoch =  66  the loss is =  0.06690989434719086  and accuracy is =  0.8380141843971631\n",
            "At step  50  and at epoch =  67  the loss is =  0.08232948929071426  and accuracy is =  0.8365957446808511\n",
            "At step  50  and at epoch =  68  the loss is =  0.06599073112010956  and accuracy is =  0.8417021276595744\n",
            "At step  50  and at epoch =  69  the loss is =  0.054075662046670914  and accuracy is =  0.831063829787234\n",
            "task: 50 train accuracy = 0.7922\n",
            "task: 50 test accuracy = 0.5773333333333334\n"
          ],
          "name": "stdout"
        },
        {
          "output_type": "display_data",
          "data": {
            "image/png": "[encoded data removed]",
            "text/plain": [
              "<Figure size 432x288 with 2 Axes>"
            ]
          },
          "metadata": {
            "tags": []
          }
        },
        {
          "output_type": "stream",
          "text": [
            "At step  60  and at epoch =  0  the loss is =  0.07279569655656815  and accuracy is =  0.23863636363636365\n",
            "At step  60  and at epoch =  1  the loss is =  0.07277166843414307  and accuracy is =  0.30298295454545454\n",
            "At step  60  and at epoch =  2  the loss is =  0.06845667958259583  and accuracy is =  0.35696022727272725\n",
            "At step  60  and at epoch =  3  the loss is =  0.0686529204249382  and accuracy is =  0.39801136363636364\n",
            "At step  60  and at epoch =  4  the loss is =  0.06606439501047134  and accuracy is =  0.42088068181818183\n",
            "At step  60  and at epoch =  5  the loss is =  0.067217618227005  and accuracy is =  0.45071022727272725\n",
            "At step  60  and at epoch =  6  the loss is =  0.06797261536121368  and accuracy is =  0.4629261363636364\n",
            "At step  60  and at epoch =  7  the loss is =  0.0696958601474762  and accuracy is =  0.49119318181818183\n",
            "At step  60  and at epoch =  8  the loss is =  0.0673186257481575  and accuracy is =  0.4941761363636364\n",
            "At step  60  and at epoch =  9  the loss is =  0.0702277347445488  and accuracy is =  0.515625\n",
            "At step  60  and at epoch =  10  the loss is =  0.06371091306209564  and accuracy is =  0.5350852272727272\n",
            "At step  60  and at epoch =  11  the loss is =  0.06353165209293365  and accuracy is =  0.5390625\n",
            "At step  60  and at epoch =  12  the loss is =  0.06543571501970291  and accuracy is =  0.5521306818181818\n",
            "At step  60  and at epoch =  13  the loss is =  0.06556811183691025  and accuracy is =  0.5663352272727272\n",
            "At step  60  and at epoch =  14  the loss is =  0.06382892280817032  and accuracy is =  0.5751420454545455\n",
            "At step  60  and at epoch =  15  the loss is =  0.06477558612823486  and accuracy is =  0.5830965909090909\n",
            "At step  60  and at epoch =  16  the loss is =  0.06966792047023773  and accuracy is =  0.5940340909090909\n",
            "At step  60  and at epoch =  17  the loss is =  0.06482728570699692  and accuracy is =  0.5971590909090909\n",
            "At step  60  and at epoch =  18  the loss is =  0.06590846180915833  and accuracy is =  0.6122159090909091\n",
            "At step  60  and at epoch =  19  the loss is =  0.06513819843530655  and accuracy is =  0.6190340909090909\n",
            "At step  60  and at epoch =  20  the loss is =  0.06391063332557678  and accuracy is =  0.6210227272727272\n",
            "At step  60  and at epoch =  21  the loss is =  0.06424577534198761  and accuracy is =  0.6299715909090909\n",
            "At step  60  and at epoch =  22  the loss is =  0.06838920712471008  and accuracy is =  0.6417613636363636\n",
            "At step  60  and at epoch =  23  the loss is =  0.06692181527614594  and accuracy is =  0.6482954545454546\n",
            "At step  60  and at epoch =  24  the loss is =  0.06166911870241165  and accuracy is =  0.6514204545454545\n",
            "At step  60  and at epoch =  25  the loss is =  0.06279606372117996  and accuracy is =  0.6629261363636364\n",
            "At step  60  and at epoch =  26  the loss is =  0.060458410531282425  and accuracy is =  0.6633522727272727\n",
            "At step  60  and at epoch =  27  the loss is =  0.06547954678535461  and accuracy is =  0.6636363636363637\n",
            "At step  60  and at epoch =  28  the loss is =  0.0632646381855011  and accuracy is =  0.654971590909091\n",
            "At step  60  and at epoch =  29  the loss is =  0.06715422868728638  and accuracy is =  0.662784090909091\n",
            "At step  60  and at epoch =  30  the loss is =  0.06668227910995483  and accuracy is =  0.659375\n",
            "At step  60  and at epoch =  31  the loss is =  0.06481070071458817  and accuracy is =  0.6732954545454546\n",
            "At step  60  and at epoch =  32  the loss is =  0.0638090968132019  and accuracy is =  0.6863636363636364\n",
            "At step  60  and at epoch =  33  the loss is =  0.06603309512138367  and accuracy is =  0.684375\n",
            "At step  60  and at epoch =  34  the loss is =  0.063827283680439  and accuracy is =  0.6813920454545455\n",
            "At step  60  and at epoch =  35  the loss is =  0.06475987285375595  and accuracy is =  0.6904829545454545\n",
            "At step  60  and at epoch =  36  the loss is =  0.06534633785486221  and accuracy is =  0.6977272727272728\n",
            "At step  60  and at epoch =  37  the loss is =  0.068022720515728  and accuracy is =  0.6946022727272727\n",
            "At step  60  and at epoch =  38  the loss is =  0.06845798343420029  and accuracy is =  0.7021306818181818\n",
            "At step  60  and at epoch =  39  the loss is =  0.061550162732601166  and accuracy is =  0.7008522727272727\n",
            "At step  60  and at epoch =  40  the loss is =  0.06708932667970657  and accuracy is =  0.7071022727272728\n",
            "At step  60  and at epoch =  41  the loss is =  0.06587576866149902  and accuracy is =  0.7083806818181818\n",
            "At step  60  and at epoch =  42  the loss is =  0.07224038988351822  and accuracy is =  0.7157670454545455\n",
            "At step  60  and at epoch =  43  the loss is =  0.06247691810131073  and accuracy is =  0.7112215909090909\n",
            "At step  60  and at epoch =  44  the loss is =  0.06350716203451157  and accuracy is =  0.7201704545454546\n",
            "At step  60  and at epoch =  45  the loss is =  0.06804151087999344  and accuracy is =  0.7129261363636363\n",
            "At step  60  and at epoch =  46  the loss is =  0.060868699103593826  and accuracy is =  0.7132102272727273\n",
            "At step  60  and at epoch =  47  the loss is =  0.06416918337345123  and accuracy is =  0.7204545454545455\n",
            "At step  60  and at epoch =  48  the loss is =  0.06713222712278366  and accuracy is =  0.7267045454545454\n",
            "At step  60  and at epoch =  49  the loss is =  0.0564403273165226  and accuracy is =  0.7657670454545454\n",
            "At step  60  and at epoch =  50  the loss is =  0.059192053973674774  and accuracy is =  0.7975852272727273\n",
            "At step  60  and at epoch =  51  the loss is =  0.06347020715475082  and accuracy is =  0.8068181818181818\n",
            "At step  60  and at epoch =  52  the loss is =  0.05825325846672058  and accuracy is =  0.8024147727272727\n",
            "At step  60  and at epoch =  53  the loss is =  0.06032666936516762  and accuracy is =  0.8080965909090909\n",
            "At step  60  and at epoch =  54  the loss is =  0.06050318107008934  and accuracy is =  0.8109375\n",
            "At step  60  and at epoch =  55  the loss is =  0.05979914218187332  and accuracy is =  0.8211647727272727\n",
            "At step  60  and at epoch =  56  the loss is =  0.060165222734212875  and accuracy is =  0.8170454545454545\n",
            "At step  60  and at epoch =  57  the loss is =  0.05747339129447937  and accuracy is =  0.8230113636363636\n",
            "At step  60  and at epoch =  58  the loss is =  0.057095520198345184  and accuracy is =  0.8205965909090909\n",
            "At step  60  and at epoch =  59  the loss is =  0.05818277224898338  and accuracy is =  0.826846590909091\n",
            "At step  60  and at epoch =  60  the loss is =  0.0594828799366951  and accuracy is =  0.8259943181818182\n",
            "At step  60  and at epoch =  61  the loss is =  0.05915139615535736  and accuracy is =  0.8360795454545454\n",
            "At step  60  and at epoch =  62  the loss is =  0.06019793450832367  and accuracy is =  0.8323863636363636\n",
            "At step  60  and at epoch =  63  the loss is =  0.05737707018852234  and accuracy is =  0.8325284090909091\n",
            "At step  60  and at epoch =  64  the loss is =  0.05658470839262009  and accuracy is =  0.8393465909090909\n",
            "At step  60  and at epoch =  65  the loss is =  0.057093601673841476  and accuracy is =  0.8352272727272727\n",
            "At step  60  and at epoch =  66  the loss is =  0.05879644304513931  and accuracy is =  0.8383522727272728\n",
            "At step  60  and at epoch =  67  the loss is =  0.057341501116752625  and accuracy is =  0.8373579545454546\n",
            "At step  60  and at epoch =  68  the loss is =  0.05712178722023964  and accuracy is =  0.8443181818181819\n",
            "At step  60  and at epoch =  69  the loss is =  0.057620007544755936  and accuracy is =  0.8409090909090909\n",
            "task: 60 train accuracy = 0.785\n",
            "task: 60 test accuracy = 0.5391428571428571\n"
          ],
          "name": "stdout"
        },
        {
          "output_type": "display_data",
          "data": {
            "image/png": "[encoded data removed]",
            "text/plain": [
              "<Figure size 432x288 with 2 Axes>"
            ]
          },
          "metadata": {
            "tags": []
          }
        },
        {
          "output_type": "stream",
          "text": [
            "At step  70  and at epoch =  0  the loss is =  0.09032084047794342  and accuracy is =  0.2520625889046942\n",
            "At step  70  and at epoch =  1  the loss is =  0.07543714344501495  and accuracy is =  0.36728307254623044\n",
            "At step  70  and at epoch =  2  the loss is =  0.07683560997247696  and accuracy is =  0.4294452347083926\n",
            "At step  70  and at epoch =  3  the loss is =  0.08741398900747299  and accuracy is =  0.48193456614509245\n",
            "At step  70  and at epoch =  4  the loss is =  0.0777384415268898  and accuracy is =  0.5184921763869133\n",
            "At step  70  and at epoch =  5  the loss is =  0.08059888333082199  and accuracy is =  0.5517780938833571\n",
            "At step  70  and at epoch =  6  the loss is =  0.07884905487298965  and accuracy is =  0.5741109530583215\n",
            "At step  70  and at epoch =  7  the loss is =  0.07864441722631454  and accuracy is =  0.5873399715504979\n",
            "At step  70  and at epoch =  8  the loss is =  0.07603292912244797  and accuracy is =  0.6056899004267425\n",
            "At step  70  and at epoch =  9  the loss is =  0.0786515399813652  and accuracy is =  0.6274537695590328\n",
            "At step  70  and at epoch =  10  the loss is =  0.07854805886745453  and accuracy is =  0.6271692745376956\n",
            "At step  70  and at epoch =  11  the loss is =  0.07473652809858322  and accuracy is =  0.6411095305832148\n",
            "At step  70  and at epoch =  12  the loss is =  0.08104518055915833  and accuracy is =  0.6615931721194879\n",
            "At step  70  and at epoch =  13  the loss is =  0.08013483881950378  and accuracy is =  0.6624466571834993\n",
            "At step  70  and at epoch =  14  the loss is =  0.07898332178592682  and accuracy is =  0.6718349928876245\n",
            "At step  70  and at epoch =  15  the loss is =  0.07725107669830322  and accuracy is =  0.6756756756756757\n",
            "At step  70  and at epoch =  16  the loss is =  0.07882727682590485  and accuracy is =  0.6842105263157895\n",
            "At step  70  and at epoch =  17  the loss is =  0.07727508991956711  and accuracy is =  0.6978662873399716\n",
            "At step  70  and at epoch =  18  the loss is =  0.07570961862802505  and accuracy is =  0.6992887624466572\n",
            "At step  70  and at epoch =  19  the loss is =  0.0774393379688263  and accuracy is =  0.7049786628733997\n",
            "At step  70  and at epoch =  20  the loss is =  0.07655403763055801  and accuracy is =  0.7160739687055476\n",
            "At step  70  and at epoch =  21  the loss is =  0.07836060225963593  and accuracy is =  0.7139402560455193\n",
            "At step  70  and at epoch =  22  the loss is =  0.07604116946458817  and accuracy is =  0.714651493598862\n",
            "At step  70  and at epoch =  23  the loss is =  0.07394368201494217  and accuracy is =  0.7183499288762447\n",
            "At step  70  and at epoch =  24  the loss is =  0.07304450869560242  and accuracy is =  0.7298719772403983\n",
            "At step  70  and at epoch =  25  the loss is =  0.07492533326148987  and accuracy is =  0.7413940256045519\n",
            "At step  70  and at epoch =  26  the loss is =  0.07534853368997574  and accuracy is =  0.7216216216216216\n",
            "At step  70  and at epoch =  27  the loss is =  0.07529716193675995  and accuracy is =  0.7376955903271692\n",
            "At step  70  and at epoch =  28  the loss is =  0.07684266567230225  and accuracy is =  0.7385490753911806\n",
            "At step  70  and at epoch =  29  the loss is =  0.0747363269329071  and accuracy is =  0.7401137980085348\n",
            "At step  70  and at epoch =  30  the loss is =  0.07399012893438339  and accuracy is =  0.7439544807965861\n",
            "At step  70  and at epoch =  31  the loss is =  0.07172983139753342  and accuracy is =  0.7415362731152205\n",
            "At step  70  and at epoch =  32  the loss is =  0.07520689815282822  and accuracy is =  0.7502133712660028\n",
            "At step  70  and at epoch =  33  the loss is =  0.07331240922212601  and accuracy is =  0.7541963015647226\n",
            "At step  70  and at epoch =  34  the loss is =  0.07684904336929321  and accuracy is =  0.7610241820768137\n",
            "At step  70  and at epoch =  35  the loss is =  0.07873013615608215  and accuracy is =  0.7544807965860597\n",
            "At step  70  and at epoch =  36  the loss is =  0.08322560787200928  and accuracy is =  0.7608819345661451\n",
            "At step  70  and at epoch =  37  the loss is =  0.075887031853199  and accuracy is =  0.7593172119487909\n",
            "At step  70  and at epoch =  38  the loss is =  0.07578151673078537  and accuracy is =  0.7652916073968705\n",
            "At step  70  and at epoch =  39  the loss is =  0.07330811768770218  and accuracy is =  0.7630156472261735\n",
            "At step  70  and at epoch =  40  the loss is =  0.07259960472583771  and accuracy is =  0.7691322901849218\n",
            "At step  70  and at epoch =  41  the loss is =  0.0770680233836174  and accuracy is =  0.767425320056899\n",
            "At step  70  and at epoch =  42  the loss is =  0.07977668195962906  and accuracy is =  0.7698435277382646\n",
            "At step  70  and at epoch =  43  the loss is =  0.07197592407464981  and accuracy is =  0.770697012802276\n",
            "At step  70  and at epoch =  44  the loss is =  0.07247485220432281  and accuracy is =  0.77325746799431\n",
            "At step  70  and at epoch =  45  the loss is =  0.07550763338804245  and accuracy is =  0.7762446657183499\n",
            "At step  70  and at epoch =  46  the loss is =  0.07724183052778244  and accuracy is =  0.7718349928876245\n",
            "At step  70  and at epoch =  47  the loss is =  0.07115563005208969  and accuracy is =  0.7788051209103841\n",
            "At step  70  and at epoch =  48  the loss is =  0.07292994856834412  and accuracy is =  0.7770981507823613\n",
            "At step  70  and at epoch =  49  the loss is =  0.07356671988964081  and accuracy is =  0.817923186344239\n",
            "At step  70  and at epoch =  50  the loss is =  0.07115764170885086  and accuracy is =  0.8305832147937411\n",
            "At step  70  and at epoch =  51  the loss is =  0.07001430541276932  and accuracy is =  0.8298719772403983\n",
            "At step  70  and at epoch =  52  the loss is =  0.06815068423748016  and accuracy is =  0.8332859174964438\n",
            "At step  70  and at epoch =  53  the loss is =  0.0729304775595665  and accuracy is =  0.8408250355618777\n",
            "At step  70  and at epoch =  54  the loss is =  0.07245197147130966  and accuracy is =  0.840398293029872\n",
            "At step  70  and at epoch =  55  the loss is =  0.06822159886360168  and accuracy is =  0.8448079658605975\n",
            "At step  70  and at epoch =  56  the loss is =  0.07251770794391632  and accuracy is =  0.8418207681365576\n",
            "At step  70  and at epoch =  57  the loss is =  0.07091385871171951  and accuracy is =  0.8446657183499289\n",
            "At step  70  and at epoch =  58  the loss is =  0.07217681407928467  and accuracy is =  0.8497866287339971\n",
            "At step  70  and at epoch =  59  the loss is =  0.0778212696313858  and accuracy is =  0.8429587482219061\n",
            "At step  70  and at epoch =  60  the loss is =  0.06827420741319656  and accuracy is =  0.8499288762446657\n",
            "At step  70  and at epoch =  61  the loss is =  0.06994888931512833  and accuracy is =  0.8490753911806543\n",
            "At step  70  and at epoch =  62  the loss is =  0.07103900611400604  and accuracy is =  0.8553342816500711\n",
            "At step  70  and at epoch =  63  the loss is =  0.07044123113155365  and accuracy is =  0.8486486486486486\n",
            "At step  70  and at epoch =  64  the loss is =  0.06890039145946503  and accuracy is =  0.8500711237553343\n",
            "At step  70  and at epoch =  65  the loss is =  0.06946669518947601  and accuracy is =  0.8594594594594595\n",
            "At step  70  and at epoch =  66  the loss is =  0.07293086498975754  and accuracy is =  0.8584637268847796\n",
            "At step  70  and at epoch =  67  the loss is =  0.07257737219333649  and accuracy is =  0.855049786628734\n",
            "At step  70  and at epoch =  68  the loss is =  0.07090768963098526  and accuracy is =  0.8524893314366998\n",
            "At step  70  and at epoch =  69  the loss is =  0.06781767308712006  and accuracy is =  0.8557610241820768\n",
            "task: 70 train accuracy = 0.7968\n",
            "task: 70 test accuracy = 0.52225\n"
          ],
          "name": "stdout"
        },
        {
          "output_type": "display_data",
          "data": {
            "image/png": "[encoded data removed]",
            "text/plain": [
              "<Figure size 432x288 with 2 Axes>"
            ]
          },
          "metadata": {
            "tags": []
          }
        },
        {
          "output_type": "stream",
          "text": [
            "At step  80  and at epoch =  0  the loss is =  0.09435156732797623  and accuracy is =  0.26228813559322034\n",
            "At step  80  and at epoch =  1  the loss is =  0.10137956589460373  and accuracy is =  0.35409604519774013\n",
            "At step  80  and at epoch =  2  the loss is =  0.1017940565943718  and accuracy is =  0.40353107344632766\n",
            "At step  80  and at epoch =  3  the loss is =  0.100143663585186  and accuracy is =  0.44392655367231637\n",
            "At step  80  and at epoch =  4  the loss is =  0.09285052865743637  and accuracy is =  0.4703389830508475\n",
            "At step  80  and at epoch =  5  the loss is =  0.10853821784257889  and accuracy is =  0.4837570621468927\n",
            "At step  80  and at epoch =  6  the loss is =  0.09833651781082153  and accuracy is =  0.5100282485875707\n",
            "At step  80  and at epoch =  7  the loss is =  0.09294835478067398  and accuracy is =  0.5333333333333333\n",
            "At step  80  and at epoch =  8  the loss is =  0.09839897602796555  and accuracy is =  0.5501412429378532\n",
            "At step  80  and at epoch =  9  the loss is =  0.08934887498617172  and accuracy is =  0.5545197740112995\n",
            "At step  80  and at epoch =  10  the loss is =  0.09354738146066666  and accuracy is =  0.5748587570621468\n",
            "At step  80  and at epoch =  11  the loss is =  0.10312651842832565  and accuracy is =  0.5826271186440678\n",
            "At step  80  and at epoch =  12  the loss is =  0.08944101631641388  and accuracy is =  0.5915254237288136\n",
            "At step  80  and at epoch =  13  the loss is =  0.09803841263055801  and accuracy is =  0.6007062146892655\n",
            "At step  80  and at epoch =  14  the loss is =  0.10219071060419083  and accuracy is =  0.6084745762711864\n",
            "At step  80  and at epoch =  15  the loss is =  0.08837457746267319  and accuracy is =  0.6146892655367232\n",
            "At step  80  and at epoch =  16  the loss is =  0.08916499465703964  and accuracy is =  0.6358757062146893\n",
            "At step  80  and at epoch =  17  the loss is =  0.08997595310211182  and accuracy is =  0.6295197740112994\n",
            "At step  80  and at epoch =  18  the loss is =  0.0938943549990654  and accuracy is =  0.6454802259887006\n",
            "At step  80  and at epoch =  19  the loss is =  0.08561810851097107  and accuracy is =  0.65\n",
            "At step  80  and at epoch =  20  the loss is =  0.09313307702541351  and accuracy is =  0.6596045197740112\n",
            "At step  80  and at epoch =  21  the loss is =  0.08997707068920135  and accuracy is =  0.6604519774011299\n",
            "At step  80  and at epoch =  22  the loss is =  0.08724599331617355  and accuracy is =  0.6693502824858757\n",
            "At step  80  and at epoch =  23  the loss is =  0.08822798728942871  and accuracy is =  0.6718926553672316\n",
            "At step  80  and at epoch =  24  the loss is =  0.09703241288661957  and accuracy is =  0.6752824858757062\n",
            "At step  80  and at epoch =  25  the loss is =  0.08842524886131287  and accuracy is =  0.6796610169491526\n",
            "At step  80  and at epoch =  26  the loss is =  0.08523347228765488  and accuracy is =  0.6916666666666667\n",
            "At step  80  and at epoch =  27  the loss is =  0.08659308403730392  and accuracy is =  0.6946327683615819\n",
            "At step  80  and at epoch =  28  the loss is =  0.08183411508798599  and accuracy is =  0.6925141242937853\n",
            "At step  80  and at epoch =  29  the loss is =  0.09483881294727325  and accuracy is =  0.7050847457627119\n",
            "At step  80  and at epoch =  30  the loss is =  0.08705804497003555  and accuracy is =  0.7007062146892655\n",
            "At step  80  and at epoch =  31  the loss is =  0.09721994400024414  and accuracy is =  0.7090395480225988\n",
            "At step  80  and at epoch =  32  the loss is =  0.09095779061317444  and accuracy is =  0.7096045197740113\n",
            "At step  80  and at epoch =  33  the loss is =  0.08527418971061707  and accuracy is =  0.7069209039548022\n",
            "At step  80  and at epoch =  34  the loss is =  0.09504974633455276  and accuracy is =  0.7193502824858757\n",
            "At step  80  and at epoch =  35  the loss is =  0.09015873819589615  and accuracy is =  0.7062146892655368\n",
            "At step  80  and at epoch =  36  the loss is =  0.08282281458377838  and accuracy is =  0.718502824858757\n",
            "At step  80  and at epoch =  37  the loss is =  0.08817830681800842  and accuracy is =  0.7180790960451977\n",
            "At step  80  and at epoch =  38  the loss is =  0.09211915731430054  and accuracy is =  0.7245762711864406\n",
            "At step  80  and at epoch =  39  the loss is =  0.09794259816408157  and accuracy is =  0.7192090395480226\n",
            "At step  80  and at epoch =  40  the loss is =  0.090080127120018  and accuracy is =  0.7331920903954803\n",
            "At step  80  and at epoch =  41  the loss is =  0.08786127716302872  and accuracy is =  0.7387005649717514\n",
            "At step  80  and at epoch =  42  the loss is =  0.09019897878170013  and accuracy is =  0.7299435028248588\n",
            "At step  80  and at epoch =  43  the loss is =  0.09376770257949829  and accuracy is =  0.7290960451977401\n",
            "At step  80  and at epoch =  44  the loss is =  0.10075896233320236  and accuracy is =  0.7323446327683616\n",
            "At step  80  and at epoch =  45  the loss is =  0.09221921116113663  and accuracy is =  0.7450564971751412\n",
            "At step  80  and at epoch =  46  the loss is =  0.0970127210021019  and accuracy is =  0.7488700564971752\n",
            "At step  80  and at epoch =  47  the loss is =  0.09088307619094849  and accuracy is =  0.7389830508474576\n",
            "At step  80  and at epoch =  48  the loss is =  0.096218541264534  and accuracy is =  0.7389830508474576\n",
            "At step  80  and at epoch =  49  the loss is =  0.08539097756147385  and accuracy is =  0.7911016949152543\n",
            "At step  80  and at epoch =  50  the loss is =  0.08857434242963791  and accuracy is =  0.8107344632768362\n",
            "At step  80  and at epoch =  51  the loss is =  0.08913695067167282  and accuracy is =  0.8138418079096045\n",
            "At step  80  and at epoch =  52  the loss is =  0.0869666039943695  and accuracy is =  0.8101694915254237\n",
            "At step  80  and at epoch =  53  the loss is =  0.08315356820821762  and accuracy is =  0.8217514124293785\n",
            "At step  80  and at epoch =  54  the loss is =  0.08594122529029846  and accuracy is =  0.8286723163841808\n",
            "At step  80  and at epoch =  55  the loss is =  0.0872960239648819  and accuracy is =  0.8234463276836158\n",
            "At step  80  and at epoch =  56  the loss is =  0.08378511667251587  and accuracy is =  0.8268361581920904\n",
            "At step  80  and at epoch =  57  the loss is =  0.08484496921300888  and accuracy is =  0.8235875706214689\n",
            "At step  80  and at epoch =  58  the loss is =  0.08646944910287857  and accuracy is =  0.8265536723163842\n",
            "At step  80  and at epoch =  59  the loss is =  0.08339909464120865  and accuracy is =  0.827683615819209\n",
            "At step  80  and at epoch =  60  the loss is =  0.08449374884366989  and accuracy is =  0.8285310734463277\n",
            "At step  80  and at epoch =  61  the loss is =  0.0819370299577713  and accuracy is =  0.8330508474576271\n",
            "At step  80  and at epoch =  62  the loss is =  0.08590094745159149  and accuracy is =  0.8355932203389831\n",
            "At step  80  and at epoch =  63  the loss is =  0.08665888011455536  and accuracy is =  0.8375706214689266\n",
            "At step  80  and at epoch =  64  the loss is =  0.07797999680042267  and accuracy is =  0.8413841807909604\n",
            "At step  80  and at epoch =  65  the loss is =  0.08223666250705719  and accuracy is =  0.8425141242937854\n",
            "At step  80  and at epoch =  66  the loss is =  0.08706755191087723  and accuracy is =  0.8406779661016949\n",
            "At step  80  and at epoch =  67  the loss is =  0.08231427520513535  and accuracy is =  0.8362994350282486\n",
            "At step  80  and at epoch =  68  the loss is =  0.08353777229785919  and accuracy is =  0.8392655367231638\n",
            "At step  80  and at epoch =  69  the loss is =  0.08252523094415665  and accuracy is =  0.8411016949152542\n",
            "task: 80 train accuracy = 0.7584\n",
            "task: 80 test accuracy = 0.48055555555555557\n"
          ],
          "name": "stdout"
        },
        {
          "output_type": "display_data",
          "data": {
            "image/png": "[encoded data removed]",
            "text/plain": [
              "<Figure size 432x288 with 2 Axes>"
            ]
          },
          "metadata": {
            "tags": []
          }
        },
        {
          "output_type": "stream",
          "text": [
            "At step  90  and at epoch =  0  the loss is =  0.1102849692106247  and accuracy is =  0.25346534653465347\n",
            "At step  90  and at epoch =  1  the loss is =  0.11838110536336899  and accuracy is =  0.3852899575671853\n",
            "At step  90  and at epoch =  2  the loss is =  0.09780171513557434  and accuracy is =  0.43182461103253184\n",
            "At step  90  and at epoch =  3  the loss is =  0.09479768574237823  and accuracy is =  0.47326732673267324\n",
            "At step  90  and at epoch =  4  the loss is =  0.09133771806955338  and accuracy is =  0.4957567185289958\n",
            "At step  90  and at epoch =  5  the loss is =  0.1040867492556572  and accuracy is =  0.5178217821782178\n",
            "At step  90  and at epoch =  6  the loss is =  0.09194578230381012  and accuracy is =  0.5332390381895332\n",
            "At step  90  and at epoch =  7  the loss is =  0.0977047011256218  and accuracy is =  0.5586987270155587\n",
            "At step  90  and at epoch =  8  the loss is =  0.08776780217885971  and accuracy is =  0.5673267326732673\n",
            "At step  90  and at epoch =  9  the loss is =  0.09759494662284851  and accuracy is =  0.5794908062234795\n",
            "At step  90  and at epoch =  10  the loss is =  0.1088792085647583  and accuracy is =  0.5967468175388968\n",
            "At step  90  and at epoch =  11  the loss is =  0.0940234437584877  and accuracy is =  0.592079207920792\n",
            "At step  90  and at epoch =  12  the loss is =  0.09921824187040329  and accuracy is =  0.6123055162659123\n",
            "At step  90  and at epoch =  13  the loss is =  0.10025905072689056  and accuracy is =  0.6134370579915135\n",
            "At step  90  and at epoch =  14  the loss is =  0.10388746112585068  and accuracy is =  0.6322489391796322\n",
            "At step  90  and at epoch =  15  the loss is =  0.10164721310138702  and accuracy is =  0.6397454031117398\n",
            "At step  90  and at epoch =  16  the loss is =  0.09653430432081223  and accuracy is =  0.633946251768034\n",
            "At step  90  and at epoch =  17  the loss is =  0.1091349869966507  and accuracy is =  0.6523338048090523\n",
            "At step  90  and at epoch =  18  the loss is =  0.08803503215312958  and accuracy is =  0.6678925035360679\n",
            "At step  90  and at epoch =  19  the loss is =  0.11004316806793213  and accuracy is =  0.6568599717114568\n",
            "At step  90  and at epoch =  20  the loss is =  0.09608805179595947  and accuracy is =  0.6661951909476662\n",
            "At step  90  and at epoch =  21  the loss is =  0.1088213101029396  and accuracy is =  0.685007072135785\n",
            "At step  90  and at epoch =  22  the loss is =  0.10182897746562958  and accuracy is =  0.6763790664780763\n",
            "At step  90  and at epoch =  23  the loss is =  0.10668585449457169  and accuracy is =  0.6752475247524753\n",
            "At step  90  and at epoch =  24  the loss is =  0.10188847035169601  and accuracy is =  0.6854314002828854\n",
            "At step  90  and at epoch =  25  the loss is =  0.10375954955816269  and accuracy is =  0.6862800565770862\n",
            "At step  90  and at epoch =  26  the loss is =  0.10111908614635468  and accuracy is =  0.6956152758132956\n",
            "At step  90  and at epoch =  27  the loss is =  0.10248962044715881  and accuracy is =  0.7028288543140029\n",
            "At step  90  and at epoch =  28  the loss is =  0.09547415375709534  and accuracy is =  0.6988684582743989\n",
            "At step  90  and at epoch =  29  the loss is =  0.0887969434261322  and accuracy is =  0.7025459688826026\n",
            "At step  90  and at epoch =  30  the loss is =  0.10577381402254105  and accuracy is =  0.7158415841584158\n",
            "At step  90  and at epoch =  31  the loss is =  0.11461605876684189  and accuracy is =  0.7223479490806224\n",
            "At step  90  and at epoch =  32  the loss is =  0.09691796451807022  and accuracy is =  0.7107496463932107\n",
            "At step  90  and at epoch =  33  the loss is =  0.0989702120423317  and accuracy is =  0.7168316831683168\n",
            "At step  90  and at epoch =  34  the loss is =  0.09481736272573471  and accuracy is =  0.713012729844413\n",
            "At step  90  and at epoch =  35  the loss is =  0.09251902252435684  and accuracy is =  0.7263083451202264\n",
            "At step  90  and at epoch =  36  the loss is =  0.0999833270907402  and accuracy is =  0.7193776520509194\n",
            "At step  90  and at epoch =  37  the loss is =  0.10604081302881241  and accuracy is =  0.7212164073550212\n",
            "At step  90  and at epoch =  38  the loss is =  0.09599465876817703  and accuracy is =  0.7304101838755304\n",
            "At step  90  and at epoch =  39  the loss is =  0.10435925424098969  and accuracy is =  0.7347949080622348\n",
            "At step  90  and at epoch =  40  the loss is =  0.09103944152593613  and accuracy is =  0.7301272984441302\n",
            "At step  90  and at epoch =  41  the loss is =  0.09839995950460434  and accuracy is =  0.7370579915134371\n",
            "At step  90  and at epoch =  42  the loss is =  0.09990169107913971  and accuracy is =  0.7364922206506365\n",
            "At step  90  and at epoch =  43  the loss is =  0.09146051853895187  and accuracy is =  0.7388967468175389\n",
            "At step  90  and at epoch =  44  the loss is =  0.09961425513029099  and accuracy is =  0.7442715700141442\n",
            "At step  90  and at epoch =  45  the loss is =  0.0922798216342926  and accuracy is =  0.7451202263083451\n",
            "At step  90  and at epoch =  46  the loss is =  0.10025789588689804  and accuracy is =  0.7483734087694484\n",
            "At step  90  and at epoch =  47  the loss is =  0.09592962265014648  and accuracy is =  0.7513437057991513\n",
            "At step  90  and at epoch =  48  the loss is =  0.1077667847275734  and accuracy is =  0.7547383309759548\n",
            "At step  90  and at epoch =  49  the loss is =  0.08576271682977676  and accuracy is =  0.7917963224893918\n",
            "At step  90  and at epoch =  50  the loss is =  0.09546960145235062  and accuracy is =  0.8096181046676096\n",
            "At step  90  and at epoch =  51  the loss is =  0.08958301693201065  and accuracy is =  0.8132956152758133\n",
            "At step  90  and at epoch =  52  the loss is =  0.08409420400857925  and accuracy is =  0.8181046676096181\n",
            "At step  90  and at epoch =  53  the loss is =  0.10107307881116867  and accuracy is =  0.8224893917963225\n",
            "At step  90  and at epoch =  54  the loss is =  0.09387504309415817  and accuracy is =  0.8198019801980198\n",
            "At step  90  and at epoch =  55  the loss is =  0.09330646693706512  and accuracy is =  0.8205091937765205\n",
            "At step  90  and at epoch =  56  the loss is =  0.09231743961572647  and accuracy is =  0.8231966053748232\n",
            "At step  90  and at epoch =  57  the loss is =  0.09495456516742706  and accuracy is =  0.8288543140028288\n",
            "At step  90  and at epoch =  58  the loss is =  0.10011182725429535  and accuracy is =  0.8237623762376237\n",
            "At step  90  and at epoch =  59  the loss is =  0.09529781341552734  and accuracy is =  0.8200848656294201\n",
            "At step  90  and at epoch =  60  the loss is =  0.09356338530778885  and accuracy is =  0.8274398868458275\n",
            "At step  90  and at epoch =  61  the loss is =  0.09346763789653778  and accuracy is =  0.8314002828854314\n",
            "At step  90  and at epoch =  62  the loss is =  0.0956205204129219  and accuracy is =  0.8287128712871287\n",
            "At step  90  and at epoch =  63  the loss is =  0.08920744061470032  and accuracy is =  0.8350777934936351\n",
            "At step  90  and at epoch =  64  the loss is =  0.09103424847126007  and accuracy is =  0.8339462517680339\n",
            "At step  90  and at epoch =  65  the loss is =  0.09370157867670059  and accuracy is =  0.8353606789250354\n",
            "At step  90  and at epoch =  66  the loss is =  0.07845159620046616  and accuracy is =  0.8370579915134371\n",
            "At step  90  and at epoch =  67  the loss is =  0.09128975123167038  and accuracy is =  0.8318246110325318\n",
            "At step  90  and at epoch =  68  the loss is =  0.08983632177114487  and accuracy is =  0.8356435643564356\n",
            "At step  90  and at epoch =  69  the loss is =  0.1038258895277977  and accuracy is =  0.8356435643564356\n",
            "task: 90 train accuracy = 0.7362\n",
            "task: 90 test accuracy = 0.4548\n"
          ],
          "name": "stdout"
        },
        {
          "output_type": "display_data",
          "data": {
            "image/png": "[encoded data removed]",
            "text/plain": [
              "<Figure size 432x288 with 2 Axes>"
            ]
          },
          "metadata": {
            "tags": []
          }
        }
      ]
    }
  ]
}