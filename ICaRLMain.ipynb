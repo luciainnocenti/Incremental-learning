{
  "nbformat": 4,
  "nbformat_minor": 0,
  "metadata": {
    "colab": {
      "name": "Copy of ICaRLMain.ipynb",
      "provenance": [],
      "collapsed_sections": [],
      "include_colab_link": true
    },
    "kernelspec": {
      "name": "python3",
      "display_name": "Python 3"
    },
    "accelerator": "GPU",
    "widgets": {
      "application/vnd.jupyter.widget-state+json": {
        "a998ec12075446318694f6f355ddbca8": {
          "model_module": "@jupyter-widgets/controls",
          "model_name": "HBoxModel",
          "state": {
            "_view_name": "HBoxView",
            "_dom_classes": [],
            "_model_name": "HBoxModel",
            "_view_module": "@jupyter-widgets/controls",
            "_model_module_version": "1.5.0",
            "_view_count": null,
            "_view_module_version": "1.5.0",
            "box_style": "",
            "layout": "IPY_MODEL_24d950b6adce4ef6a684f7a912eb478f",
            "_model_module": "@jupyter-widgets/controls",
            "children": [
              "IPY_MODEL_988b1e2b59d848358619d3c6b5f534e7",
              "IPY_MODEL_24dfe17d37574efba9d23d60f207bfff"
            ]
          }
        },
        "24d950b6adce4ef6a684f7a912eb478f": {
          "model_module": "@jupyter-widgets/base",
          "model_name": "LayoutModel",
          "state": {
            "_view_name": "LayoutView",
            "grid_template_rows": null,
            "right": null,
            "justify_content": null,
            "_view_module": "@jupyter-widgets/base",
            "overflow": null,
            "_model_module_version": "1.2.0",
            "_view_count": null,
            "flex_flow": null,
            "width": null,
            "min_width": null,
            "border": null,
            "align_items": null,
            "bottom": null,
            "_model_module": "@jupyter-widgets/base",
            "top": null,
            "grid_column": null,
            "overflow_y": null,
            "overflow_x": null,
            "grid_auto_flow": null,
            "grid_area": null,
            "grid_template_columns": null,
            "flex": null,
            "_model_name": "LayoutModel",
            "justify_items": null,
            "grid_row": null,
            "max_height": null,
            "align_content": null,
            "visibility": null,
            "align_self": null,
            "height": null,
            "min_height": null,
            "padding": null,
            "grid_auto_rows": null,
            "grid_gap": null,
            "max_width": null,
            "order": null,
            "_view_module_version": "1.2.0",
            "grid_template_areas": null,
            "object_position": null,
            "object_fit": null,
            "grid_auto_columns": null,
            "margin": null,
            "display": null,
            "left": null
          }
        },
        "988b1e2b59d848358619d3c6b5f534e7": {
          "model_module": "@jupyter-widgets/controls",
          "model_name": "FloatProgressModel",
          "state": {
            "_view_name": "ProgressView",
            "style": "IPY_MODEL_ac5bbe65cd574e1dbaf552090ebcad9c",
            "_dom_classes": [],
            "description": "",
            "_model_name": "FloatProgressModel",
            "bar_style": "info",
            "max": 1,
            "_view_module": "@jupyter-widgets/controls",
            "_model_module_version": "1.5.0",
            "value": 1,
            "_view_count": null,
            "_view_module_version": "1.5.0",
            "orientation": "horizontal",
            "min": 0,
            "description_tooltip": null,
            "_model_module": "@jupyter-widgets/controls",
            "layout": "IPY_MODEL_ccf07a3c26164894b14daadfc5ac7476"
          }
        },
        "24dfe17d37574efba9d23d60f207bfff": {
          "model_module": "@jupyter-widgets/controls",
          "model_name": "HTMLModel",
          "state": {
            "_view_name": "HTMLView",
            "style": "IPY_MODEL_ea1c03319a8142b0b6f3ff63c8c84b46",
            "_dom_classes": [],
            "description": "",
            "_model_name": "HTMLModel",
            "placeholder": "​",
            "_view_module": "@jupyter-widgets/controls",
            "_model_module_version": "1.5.0",
            "value": " 169009152/? [01:20&lt;00:00, 7356645.97it/s]",
            "_view_count": null,
            "_view_module_version": "1.5.0",
            "description_tooltip": null,
            "_model_module": "@jupyter-widgets/controls",
            "layout": "IPY_MODEL_51f71b8c49a24c9e94498d6d817f5c9d"
          }
        },
        "ac5bbe65cd574e1dbaf552090ebcad9c": {
          "model_module": "@jupyter-widgets/controls",
          "model_name": "ProgressStyleModel",
          "state": {
            "_view_name": "StyleView",
            "_model_name": "ProgressStyleModel",
            "description_width": "initial",
            "_view_module": "@jupyter-widgets/base",
            "_model_module_version": "1.5.0",
            "_view_count": null,
            "_view_module_version": "1.2.0",
            "bar_color": null,
            "_model_module": "@jupyter-widgets/controls"
          }
        },
        "ccf07a3c26164894b14daadfc5ac7476": {
          "model_module": "@jupyter-widgets/base",
          "model_name": "LayoutModel",
          "state": {
            "_view_name": "LayoutView",
            "grid_template_rows": null,
            "right": null,
            "justify_content": null,
            "_view_module": "@jupyter-widgets/base",
            "overflow": null,
            "_model_module_version": "1.2.0",
            "_view_count": null,
            "flex_flow": null,
            "width": null,
            "min_width": null,
            "border": null,
            "align_items": null,
            "bottom": null,
            "_model_module": "@jupyter-widgets/base",
            "top": null,
            "grid_column": null,
            "overflow_y": null,
            "overflow_x": null,
            "grid_auto_flow": null,
            "grid_area": null,
            "grid_template_columns": null,
            "flex": null,
            "_model_name": "LayoutModel",
            "justify_items": null,
            "grid_row": null,
            "max_height": null,
            "align_content": null,
            "visibility": null,
            "align_self": null,
            "height": null,
            "min_height": null,
            "padding": null,
            "grid_auto_rows": null,
            "grid_gap": null,
            "max_width": null,
            "order": null,
            "_view_module_version": "1.2.0",
            "grid_template_areas": null,
            "object_position": null,
            "object_fit": null,
            "grid_auto_columns": null,
            "margin": null,
            "display": null,
            "left": null
          }
        },
        "ea1c03319a8142b0b6f3ff63c8c84b46": {
          "model_module": "@jupyter-widgets/controls",
          "model_name": "DescriptionStyleModel",
          "state": {
            "_view_name": "StyleView",
            "_model_name": "DescriptionStyleModel",
            "description_width": "",
            "_view_module": "@jupyter-widgets/base",
            "_model_module_version": "1.5.0",
            "_view_count": null,
            "_view_module_version": "1.2.0",
            "_model_module": "@jupyter-widgets/controls"
          }
        },
        "51f71b8c49a24c9e94498d6d817f5c9d": {
          "model_module": "@jupyter-widgets/base",
          "model_name": "LayoutModel",
          "state": {
            "_view_name": "LayoutView",
            "grid_template_rows": null,
            "right": null,
            "justify_content": null,
            "_view_module": "@jupyter-widgets/base",
            "overflow": null,
            "_model_module_version": "1.2.0",
            "_view_count": null,
            "flex_flow": null,
            "width": null,
            "min_width": null,
            "border": null,
            "align_items": null,
            "bottom": null,
            "_model_module": "@jupyter-widgets/base",
            "top": null,
            "grid_column": null,
            "overflow_y": null,
            "overflow_x": null,
            "grid_auto_flow": null,
            "grid_area": null,
            "grid_template_columns": null,
            "flex": null,
            "_model_name": "LayoutModel",
            "justify_items": null,
            "grid_row": null,
            "max_height": null,
            "align_content": null,
            "visibility": null,
            "align_self": null,
            "height": null,
            "min_height": null,
            "padding": null,
            "grid_auto_rows": null,
            "grid_gap": null,
            "max_width": null,
            "order": null,
            "_view_module_version": "1.2.0",
            "grid_template_areas": null,
            "object_position": null,
            "object_fit": null,
            "grid_auto_columns": null,
            "margin": null,
            "display": null,
            "left": null
          }
        }
      }
    }
  },
  "cells": [
    {
      "cell_type": "markdown",
      "metadata": {
        "id": "view-in-github",
        "colab_type": "text"
      },
      "source": [
        "<a href=\"https://colab.research.google.com/github/luciainnocenti/IncrementalLearning/blob/master/ICaRLMain.ipynb\" target=\"_parent\"><img src=\"https://colab.research.google.com/assets/colab-badge.svg\" alt=\"Open In Colab\"/></a>"
      ]
    },
    {
      "cell_type": "markdown",
      "metadata": {
        "id": "OLMLAOPyrR1K",
        "colab_type": "text"
      },
      "source": [
        "# Import GitHub repository"
      ]
    },
    {
      "cell_type": "code",
      "metadata": {
        "id": "3LqwZJLUlcYH",
        "colab_type": "code",
        "colab": {}
      },
      "source": [
        "import os\n",
        "import logging\n",
        "import sys"
      ],
      "execution_count": null,
      "outputs": []
    },
    {
      "cell_type": "code",
      "metadata": {
        "id": "PVa_FlnxrXIk",
        "colab_type": "code",
        "colab": {
          "base_uri": "https://localhost:8080/",
          "height": 141
        },
        "outputId": "fab71ee8-d02e-420b-ff78-3bf7739763d7"
      },
      "source": [
        "if not os.path.isdir('./DatasetCIFAR'):\n",
        "  !git clone https://github.com/luciainnocenti/IncrementalLearning.git\n",
        "  !mv 'IncrementalLearning' 'DatasetCIFAR'"
      ],
      "execution_count": null,
      "outputs": [
        {
          "output_type": "stream",
          "text": [
            "Cloning into 'IncrementalLearning'...\n",
            "remote: Enumerating objects: 124, done.\u001b[K\n",
            "remote: Counting objects: 100% (124/124), done.\u001b[K\n",
            "remote: Compressing objects: 100% (99/99), done.\u001b[K\n",
            "remote: Total 1236 (delta 87), reused 26 (delta 25), pack-reused 1112\u001b[K\n",
            "Receiving objects: 100% (1236/1236), 825.04 KiB | 719.00 KiB/s, done.\n",
            "Resolving deltas: 100% (787/787), done.\n"
          ],
          "name": "stdout"
        }
      ]
    },
    {
      "cell_type": "markdown",
      "metadata": {
        "id": "XXQyHMXzrZ5A",
        "colab_type": "text"
      },
      "source": [
        "# Import packages"
      ]
    },
    {
      "cell_type": "code",
      "metadata": {
        "id": "c24pdNxurdv1",
        "colab_type": "code",
        "colab": {}
      },
      "source": [
        "from DatasetCIFAR.data_set import Dataset \n",
        "from DatasetCIFAR import ResNet\n",
        "from DatasetCIFAR import utils\n",
        "from DatasetCIFAR import params\n",
        "from DatasetCIFAR import ICaRLModel\n",
        "from torchvision import models\n",
        "import torch.nn as nn\n",
        "import torch\n",
        "import torch.optim as optim\n",
        "import torchvision\n",
        "import numpy as np\n",
        "\n",
        "from torchvision import transforms\n",
        "from torch.utils.data import Subset, DataLoader\n",
        "from torch.nn import functional as F\n",
        "import random\n",
        "random.seed(params.SEED)"
      ],
      "execution_count": null,
      "outputs": []
    },
    {
      "cell_type": "code",
      "metadata": {
        "id": "r2rkcBbIKfUQ",
        "colab_type": "code",
        "colab": {
          "base_uri": "https://localhost:8080/",
          "height": 52
        },
        "outputId": "0ae7cee8-e454-4212-c7c4-29c286548361"
      },
      "source": [
        "print(params.SEED)\n",
        "print(params.NUM_WORKERS)"
      ],
      "execution_count": null,
      "outputs": [
        {
          "output_type": "stream",
          "text": [
            "653\n",
            "4\n"
          ],
          "name": "stdout"
        }
      ]
    },
    {
      "cell_type": "markdown",
      "metadata": {
        "id": "1FlAkShyryrf",
        "colab_type": "text"
      },
      "source": [
        "# Define Datasets"
      ]
    },
    {
      "cell_type": "code",
      "metadata": {
        "id": "AP2iR2vl3Wiz",
        "colab_type": "code",
        "colab": {}
      },
      "source": [
        "train_transformer = transforms.Compose([transforms.RandomCrop(size = 32, padding=4),\n",
        "                                         transforms.RandomHorizontalFlip(),\n",
        "                                         transforms.ToTensor(),\n",
        "                                         transforms.Normalize((0.5, 0.5, 0.5), (0.5, 0.5, 0.5))\n",
        "])\n",
        "\n",
        "test_transformer = transforms.Compose([transforms.ToTensor(),\n",
        "                                         transforms.Normalize((0.5, 0.5, 0.5), (0.5, 0.5, 0.5))\n",
        "])"
      ],
      "execution_count": null,
      "outputs": []
    },
    {
      "cell_type": "code",
      "metadata": {
        "id": "1CSNk0NlrvAL",
        "colab_type": "code",
        "colab": {
          "base_uri": "https://localhost:8080/",
          "height": 102,
          "referenced_widgets": [
            "a998ec12075446318694f6f355ddbca8",
            "24d950b6adce4ef6a684f7a912eb478f",
            "988b1e2b59d848358619d3c6b5f534e7",
            "24dfe17d37574efba9d23d60f207bfff",
            "ac5bbe65cd574e1dbaf552090ebcad9c",
            "ccf07a3c26164894b14daadfc5ac7476",
            "ea1c03319a8142b0b6f3ff63c8c84b46",
            "51f71b8c49a24c9e94498d6d817f5c9d"
          ]
        },
        "outputId": "7e98ab38-8efd-44c2-ebf0-9580f3f56604"
      },
      "source": [
        "trainDS = Dataset(train=True, transform = train_transformer)\n",
        "testDS = Dataset(train=False, transform = test_transformer)"
      ],
      "execution_count": null,
      "outputs": [
        {
          "output_type": "stream",
          "text": [
            "Downloading https://www.cs.toronto.edu/~kriz/cifar-100-python.tar.gz to data/cifar-100-python.tar.gz\n"
          ],
          "name": "stdout"
        },
        {
          "output_type": "display_data",
          "data": {
            "application/vnd.jupyter.widget-view+json": {
              "model_id": "a998ec12075446318694f6f355ddbca8",
              "version_minor": 0,
              "version_major": 2
            },
            "text/plain": [
              "HBox(children=(FloatProgress(value=1.0, bar_style='info', max=1.0), HTML(value='')))"
            ]
          },
          "metadata": {
            "tags": []
          }
        },
        {
          "output_type": "stream",
          "text": [
            "Extracting data/cifar-100-python.tar.gz to data\n",
            "Files already downloaded and verified\n"
          ],
          "name": "stdout"
        }
      ]
    },
    {
      "cell_type": "code",
      "metadata": {
        "id": "W3ge3VayryJL",
        "colab_type": "code",
        "colab": {}
      },
      "source": [
        "train_splits = trainDS.splits\n",
        "test_splits = testDS.splits"
      ],
      "execution_count": null,
      "outputs": []
    },
    {
      "cell_type": "markdown",
      "metadata": {
        "id": "AzxTlFF_rkfe",
        "colab_type": "text"
      },
      "source": [
        "# Define Network"
      ]
    },
    {
      "cell_type": "code",
      "metadata": {
        "id": "rgZtPkiPrmQK",
        "colab_type": "code",
        "colab": {}
      },
      "source": [
        "ICaRL = ResNet.resnet32(num_classes=100)\n",
        "ICaRL =  ICaRL.to(params.DEVICE)"
      ],
      "execution_count": null,
      "outputs": []
    },
    {
      "cell_type": "code",
      "metadata": {
        "id": "CI8EyFmpOikN",
        "colab_type": "code",
        "colab": {}
      },
      "source": [
        "exemplars = [None]*100\n",
        "\n",
        "test_indexes =  []"
      ],
      "execution_count": null,
      "outputs": []
    },
    {
      "cell_type": "code",
      "metadata": {
        "id": "fcFjbBGrOMz6",
        "colab_type": "code",
        "colab": {
          "base_uri": "https://localhost:8080/",
          "height": 1000
        },
        "outputId": "b2c7b178-3ff6-4948-ee9c-4b4b03f73ecf"
      },
      "source": [
        "for task in range(0, 100, params.TASK_SIZE):\n",
        "  train_indexes = trainDS.__getIndexesGroups__(task)\n",
        "  test_indexes = test_indexes + testDS.__getIndexesGroups__(task)\n",
        "\n",
        "  train_dataset = Subset(trainDS, train_indexes)\n",
        "  test_dataset = Subset(testDS, test_indexes)\n",
        "\n",
        "  train_loader = DataLoader( train_dataset, num_workers=params.NUM_WORKERS, batch_size=params.BATCH_SIZE, shuffle=True)\n",
        "  test_loader = DataLoader( test_dataset, num_workers=params.NUM_WORKERS, batch_size=params.BATCH_SIZE , shuffle=True )\n",
        "\n",
        "  ICaRL, exemplars = ICaRLModel.incrementalTrain(task, trainDS, ICaRL, exemplars)\n",
        "\n",
        "  col = []\n",
        "  for i,x in enumerate( train_splits[ :int(task/10) + 1]) : \n",
        "    v = np.array(x)\n",
        "    col = np.concatenate( (col,v), axis = None)\n",
        "    col = col.astype(int)\n",
        "  mean = None\n",
        "  total = 0.0\n",
        "  running_corrects = 0.0\n",
        "  for img, lbl, _ in train_loader:\n",
        "      img = img.float().to(params.DEVICE)\n",
        "      preds, mean = ICaRLModel.classify(img, exemplars, ICaRL, task, trainDS, mean)\n",
        "      preds = preds.to(params.DEVICE)\n",
        "      labels = utils.mapFunction(lbl, col).to(params.DEVICE)\n",
        "      #print(\"preds: \", preds.data)\n",
        "      #print(\"mapped labels: \", labels)\n",
        "      #print(\"labels: \", lbl)\n",
        "      total += len(lbl)\n",
        "      running_corrects += torch.sum(preds == labels.data).data.item()\n",
        "      #print(running_corrects)\n",
        "  accuracy = float(running_corrects/total)\n",
        "  print(f'task: {task}', f'train accuracy = {accuracy}')\n",
        "\n",
        "  total = 0.0\n",
        "  running_corrects = 0.0\n",
        "  for img, lbl, _ in test_loader:\n",
        "      img = img.float().to(params.DEVICE)\n",
        "      preds, _ = ICaRLModel.classify(img, exemplars, ICaRL, task, trainDS, mean)\n",
        "      preds = preds.to(params.DEVICE)\n",
        "      labels = utils.mapFunction(lbl, col).to(params.DEVICE)\n",
        "      #print(\"preds: \", preds.data)\n",
        "      #print(\"mapped labels: \", labels)\n",
        "      #print(\"labels: \", lbl)\n",
        "      total += len(lbl)\n",
        "      running_corrects += torch.sum(preds == labels.data).data.item()\n",
        "      #print(running_corrects)\n",
        "  accuracy = float(running_corrects/total)\n",
        "  print(f'task: {task}', f'test accuracy = {accuracy}')"
      ],
      "execution_count": null,
      "outputs": [
        {
          "output_type": "stream",
          "text": [
            "col =  [94 63 74 21 35 56 91 96 87 48]\n",
            "col[:10] [94 63 74 21 35 56 91 96 87 48]\n",
            "At step  0  and at epoch =  0  the loss is =  0.028480004519224167  and accuracy is =  0.1768\n",
            "At step  0  and at epoch =  1  the loss is =  0.019171271473169327  and accuracy is =  0.3918\n",
            "At step  0  and at epoch =  2  the loss is =  0.029270019382238388  and accuracy is =  0.527\n",
            "At step  0  and at epoch =  3  the loss is =  0.018794864416122437  and accuracy is =  0.5656\n",
            "At step  0  and at epoch =  4  the loss is =  0.021449249237775803  and accuracy is =  0.6436\n",
            "At step  0  and at epoch =  5  the loss is =  0.027098191902041435  and accuracy is =  0.6864\n",
            "At step  0  and at epoch =  6  the loss is =  0.010569561272859573  and accuracy is =  0.663\n",
            "At step  0  and at epoch =  7  the loss is =  0.022752324119210243  and accuracy is =  0.7302\n",
            "At step  0  and at epoch =  8  the loss is =  0.012079591862857342  and accuracy is =  0.735\n",
            "At step  0  and at epoch =  9  the loss is =  0.012296602129936218  and accuracy is =  0.7744\n",
            "At step  0  and at epoch =  10  the loss is =  0.01193516980856657  and accuracy is =  0.8194\n",
            "At step  0  and at epoch =  11  the loss is =  0.007811207789927721  and accuracy is =  0.8284\n",
            "At step  0  and at epoch =  12  the loss is =  0.013202928937971592  and accuracy is =  0.8356\n",
            "At step  0  and at epoch =  13  the loss is =  0.01917399652302265  and accuracy is =  0.8488\n",
            "At step  0  and at epoch =  14  the loss is =  0.011569097638130188  and accuracy is =  0.8384\n",
            "At step  0  and at epoch =  15  the loss is =  0.017682116478681564  and accuracy is =  0.8672\n",
            "At step  0  and at epoch =  16  the loss is =  0.011800979264080524  and accuracy is =  0.857\n",
            "At step  0  and at epoch =  17  the loss is =  0.005199942272156477  and accuracy is =  0.9066\n",
            "At step  0  and at epoch =  18  the loss is =  0.0024893032386898994  and accuracy is =  0.945\n",
            "At step  0  and at epoch =  19  the loss is =  0.009978541173040867  and accuracy is =  0.9468\n",
            "At step  0  and at epoch =  20  the loss is =  0.008611202239990234  and accuracy is =  0.9088\n",
            "At step  0  and at epoch =  21  the loss is =  0.012127158232033253  and accuracy is =  0.897\n",
            "At step  0  and at epoch =  22  the loss is =  0.01028933934867382  and accuracy is =  0.9298\n",
            "At step  0  and at epoch =  23  the loss is =  0.010405567474663258  and accuracy is =  0.9388\n",
            "At step  0  and at epoch =  24  the loss is =  0.017168831080198288  and accuracy is =  0.9152\n",
            "At step  0  and at epoch =  25  the loss is =  0.009182660840451717  and accuracy is =  0.954\n",
            "At step  0  and at epoch =  26  the loss is =  0.011222738772630692  and accuracy is =  0.9596\n",
            "At step  0  and at epoch =  27  the loss is =  0.004292749799787998  and accuracy is =  0.9718\n",
            "At step  0  and at epoch =  28  the loss is =  0.0053621819242835045  and accuracy is =  0.9796\n",
            "At step  0  and at epoch =  29  the loss is =  0.00435154652222991  and accuracy is =  0.948\n",
            "At step  0  and at epoch =  30  the loss is =  0.008090618997812271  and accuracy is =  0.9416\n",
            "At step  0  and at epoch =  31  the loss is =  0.009308393113315105  and accuracy is =  0.9426\n",
            "At step  0  and at epoch =  32  the loss is =  0.0013035270385444164  and accuracy is =  0.9724\n",
            "At step  0  and at epoch =  33  the loss is =  0.003712250152602792  and accuracy is =  0.9948\n",
            "At step  0  and at epoch =  34  the loss is =  0.0066452352330088615  and accuracy is =  0.9594\n",
            "At step  0  and at epoch =  35  the loss is =  0.022658061236143112  and accuracy is =  0.9442\n",
            "At step  0  and at epoch =  36  the loss is =  0.00331499264575541  and accuracy is =  0.9218\n",
            "At step  0  and at epoch =  37  the loss is =  0.01319802738726139  and accuracy is =  0.9714\n",
            "At step  0  and at epoch =  38  the loss is =  0.003855520160868764  and accuracy is =  0.9526\n",
            "At step  0  and at epoch =  39  the loss is =  0.011812401935458183  and accuracy is =  0.9878\n",
            "At step  0  and at epoch =  40  the loss is =  0.007544156163930893  and accuracy is =  0.9816\n",
            "At step  0  and at epoch =  41  the loss is =  0.007583190221339464  and accuracy is =  0.9612\n",
            "At step  0  and at epoch =  42  the loss is =  0.0027368986047804356  and accuracy is =  0.983\n",
            "At step  0  and at epoch =  43  the loss is =  0.0005647417274303734  and accuracy is =  0.989\n",
            "At step  0  and at epoch =  44  the loss is =  0.0005241390899755061  and accuracy is =  0.9964\n",
            "At step  0  and at epoch =  45  the loss is =  0.003809622721746564  and accuracy is =  0.9992\n",
            "At step  0  and at epoch =  46  the loss is =  0.009337644092738628  and accuracy is =  0.9744\n",
            "At step  0  and at epoch =  47  the loss is =  0.009851228445768356  and accuracy is =  0.9722\n",
            "At step  0  and at epoch =  48  the loss is =  0.005459723994135857  and accuracy is =  0.9622\n",
            "At step  0  and at epoch =  49  the loss is =  0.008231175132095814  and accuracy is =  0.9586\n",
            "At step  0  and at epoch =  50  the loss is =  0.0031390723306685686  and accuracy is =  0.9728\n",
            "At step  0  and at epoch =  51  the loss is =  0.0028498091269284487  and accuracy is =  0.9774\n",
            "At step  0  and at epoch =  52  the loss is =  0.0021417546086013317  and accuracy is =  0.9892\n",
            "At step  0  and at epoch =  53  the loss is =  0.0048485854640603065  and accuracy is =  0.988\n",
            "At step  0  and at epoch =  54  the loss is =  0.0003283006662968546  and accuracy is =  0.9758\n",
            "At step  0  and at epoch =  55  the loss is =  0.011170906946063042  and accuracy is =  0.9966\n",
            "At step  0  and at epoch =  56  the loss is =  0.0017794700106605887  and accuracy is =  0.9814\n",
            "At step  0  and at epoch =  57  the loss is =  0.01250517088919878  and accuracy is =  0.9886\n",
            "At step  0  and at epoch =  58  the loss is =  0.014696968719363213  and accuracy is =  0.9434\n",
            "At step  0  and at epoch =  59  the loss is =  0.013194472528994083  and accuracy is =  0.9418\n",
            "At step  0  and at epoch =  60  the loss is =  0.008754728361964226  and accuracy is =  0.9396\n",
            "At step  0  and at epoch =  61  the loss is =  0.020884547382593155  and accuracy is =  0.9296\n",
            "At step  0  and at epoch =  62  the loss is =  0.008209059946238995  and accuracy is =  0.8906\n",
            "At step  0  and at epoch =  63  the loss is =  0.012993814423680305  and accuracy is =  0.9576\n",
            "At step  0  and at epoch =  64  the loss is =  0.0015677785268053412  and accuracy is =  0.9858\n",
            "At step  0  and at epoch =  65  the loss is =  0.011824754066765308  and accuracy is =  0.9962\n",
            "At step  0  and at epoch =  66  the loss is =  0.010928219184279442  and accuracy is =  0.971\n",
            "At step  0  and at epoch =  67  the loss is =  0.0017065139254555106  and accuracy is =  0.9658\n",
            "At step  0  and at epoch =  68  the loss is =  0.005905419588088989  and accuracy is =  0.9886\n",
            "At step  0  and at epoch =  69  the loss is =  0.022565171122550964  and accuracy is =  0.9852\n",
            "task: 0 train accuracy = 0.9964\n",
            "task: 0 test accuracy = 0.787\n",
            "col =  [94 63 74 21 35 56 91 96 87 48 68 80 22 37 60 97 51 62 92 76]\n",
            "col[:10] [94 63 74 21 35 56 91 96 87 48]\n",
            "At step  10  and at epoch =  0  the loss is =  0.02417534403502941  and accuracy is =  0.3079885877318117\n",
            "At step  10  and at epoch =  1  the loss is =  0.02719801850616932  and accuracy is =  0.38830242510699003\n",
            "At step  10  and at epoch =  2  the loss is =  0.022551363334059715  and accuracy is =  0.466904422253923\n",
            "At step  10  and at epoch =  3  the loss is =  0.02068624645471573  and accuracy is =  0.5348074179743224\n",
            "At step  10  and at epoch =  4  the loss is =  0.02070017345249653  and accuracy is =  0.5918687589158346\n",
            "At step  10  and at epoch =  5  the loss is =  0.016529448330402374  and accuracy is =  0.642796005706134\n",
            "At step  10  and at epoch =  6  the loss is =  0.01962932012975216  and accuracy is =  0.7065620542082739\n",
            "At step  10  and at epoch =  7  the loss is =  0.01496724784374237  and accuracy is =  0.7546362339514978\n",
            "At step  10  and at epoch =  8  the loss is =  0.014277864247560501  and accuracy is =  0.7938659058487875\n",
            "At step  10  and at epoch =  9  the loss is =  0.013979910872876644  and accuracy is =  0.8343794579172611\n",
            "At step  10  and at epoch =  10  the loss is =  0.012692979536950588  and accuracy is =  0.8453637660485022\n",
            "At step  10  and at epoch =  11  the loss is =  0.015236171893775463  and accuracy is =  0.859058487874465\n",
            "At step  10  and at epoch =  12  the loss is =  0.012397249229252338  and accuracy is =  0.8744650499286734\n",
            "At step  10  and at epoch =  13  the loss is =  0.011125895194709301  and accuracy is =  0.897432239657632\n",
            "At step  10  and at epoch =  14  the loss is =  0.010172652080655098  and accuracy is =  0.9061340941512126\n",
            "At step  10  and at epoch =  15  the loss is =  0.010319010354578495  and accuracy is =  0.9126961483594864\n",
            "At step  10  and at epoch =  16  the loss is =  0.010121751576662064  and accuracy is =  0.9232524964336661\n",
            "At step  10  and at epoch =  17  the loss is =  0.010104321874678135  and accuracy is =  0.9348074179743224\n",
            "At step  10  and at epoch =  18  the loss is =  0.009209837764501572  and accuracy is =  0.9365192582025678\n",
            "At step  10  and at epoch =  19  the loss is =  0.00936167873442173  and accuracy is =  0.9336661911554922\n",
            "At step  10  and at epoch =  20  the loss is =  0.010305734351277351  and accuracy is =  0.920114122681883\n",
            "At step  10  and at epoch =  21  the loss is =  0.011654841713607311  and accuracy is =  0.910413694721826\n",
            "At step  10  and at epoch =  22  the loss is =  0.009919577278196812  and accuracy is =  0.9078459343794579\n",
            "At step  10  and at epoch =  23  the loss is =  0.010350074619054794  and accuracy is =  0.9028530670470756\n",
            "At step  10  and at epoch =  24  the loss is =  0.012541563250124454  and accuracy is =  0.9164051355206847\n",
            "At step  10  and at epoch =  25  the loss is =  0.011277045123279095  and accuracy is =  0.9075606276747503\n",
            "At step  10  and at epoch =  26  the loss is =  0.00907058734446764  and accuracy is =  0.9228245363766049\n",
            "At step  10  and at epoch =  27  the loss is =  0.008657311089336872  and accuracy is =  0.9349500713266762\n"
          ],
          "name": "stdout"
        }
      ]
    },
    {
      "cell_type": "code",
      "metadata": {
        "id": "o0C6HE4usvUy",
        "colab_type": "code",
        "colab": {}
      },
      "source": [
        ""
      ],
      "execution_count": null,
      "outputs": []
    }
  ]
}