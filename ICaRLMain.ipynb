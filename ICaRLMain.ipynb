{
  "nbformat": 4,
  "nbformat_minor": 0,
  "metadata": {
    "colab": {
      "name": "Copy of ICaRLMain.ipynb",
      "provenance": [],
      "collapsed_sections": [],
      "include_colab_link": true
    },
    "kernelspec": {
      "name": "python3",
      "display_name": "Python 3"
    },
    "accelerator": "GPU",
    "widgets": {
      "application/vnd.jupyter.widget-state+json": {
        "44e3e99f63f24951bebf5426d1c39eed": {
          "model_module": "@jupyter-widgets/controls",
          "model_name": "HBoxModel",
          "state": {
            "_view_name": "HBoxView",
            "_dom_classes": [],
            "_model_name": "HBoxModel",
            "_view_module": "@jupyter-widgets/controls",
            "_model_module_version": "1.5.0",
            "_view_count": null,
            "_view_module_version": "1.5.0",
            "box_style": "",
            "layout": "IPY_MODEL_c26b31ed8c644690ad40ffc01e4ea644",
            "_model_module": "@jupyter-widgets/controls",
            "children": [
              "IPY_MODEL_42223a1a70cc4bc3951c311545dcec7c",
              "IPY_MODEL_489f999a64eb4b6d8283706b861385bc"
            ]
          }
        },
        "c26b31ed8c644690ad40ffc01e4ea644": {
          "model_module": "@jupyter-widgets/base",
          "model_name": "LayoutModel",
          "state": {
            "_view_name": "LayoutView",
            "grid_template_rows": null,
            "right": null,
            "justify_content": null,
            "_view_module": "@jupyter-widgets/base",
            "overflow": null,
            "_model_module_version": "1.2.0",
            "_view_count": null,
            "flex_flow": null,
            "width": null,
            "min_width": null,
            "border": null,
            "align_items": null,
            "bottom": null,
            "_model_module": "@jupyter-widgets/base",
            "top": null,
            "grid_column": null,
            "overflow_y": null,
            "overflow_x": null,
            "grid_auto_flow": null,
            "grid_area": null,
            "grid_template_columns": null,
            "flex": null,
            "_model_name": "LayoutModel",
            "justify_items": null,
            "grid_row": null,
            "max_height": null,
            "align_content": null,
            "visibility": null,
            "align_self": null,
            "height": null,
            "min_height": null,
            "padding": null,
            "grid_auto_rows": null,
            "grid_gap": null,
            "max_width": null,
            "order": null,
            "_view_module_version": "1.2.0",
            "grid_template_areas": null,
            "object_position": null,
            "object_fit": null,
            "grid_auto_columns": null,
            "margin": null,
            "display": null,
            "left": null
          }
        },
        "42223a1a70cc4bc3951c311545dcec7c": {
          "model_module": "@jupyter-widgets/controls",
          "model_name": "FloatProgressModel",
          "state": {
            "_view_name": "ProgressView",
            "style": "IPY_MODEL_4d33467d8b214b4eb839b25bdd3ca218",
            "_dom_classes": [],
            "description": "",
            "_model_name": "FloatProgressModel",
            "bar_style": "info",
            "max": 1,
            "_view_module": "@jupyter-widgets/controls",
            "_model_module_version": "1.5.0",
            "value": 1,
            "_view_count": null,
            "_view_module_version": "1.5.0",
            "orientation": "horizontal",
            "min": 0,
            "description_tooltip": null,
            "_model_module": "@jupyter-widgets/controls",
            "layout": "IPY_MODEL_b197746031e74bb7963bd910d9be4edf"
          }
        },
        "489f999a64eb4b6d8283706b861385bc": {
          "model_module": "@jupyter-widgets/controls",
          "model_name": "HTMLModel",
          "state": {
            "_view_name": "HTMLView",
            "style": "IPY_MODEL_81c9d7d35d7745e68d73e0421f132fb8",
            "_dom_classes": [],
            "description": "",
            "_model_name": "HTMLModel",
            "placeholder": "​",
            "_view_module": "@jupyter-widgets/controls",
            "_model_module_version": "1.5.0",
            "value": " 169009152/? [00:30&lt;00:00, 16334665.96it/s]",
            "_view_count": null,
            "_view_module_version": "1.5.0",
            "description_tooltip": null,
            "_model_module": "@jupyter-widgets/controls",
            "layout": "IPY_MODEL_2259cbe57c5c4c6dac4143d37d3f979d"
          }
        },
        "4d33467d8b214b4eb839b25bdd3ca218": {
          "model_module": "@jupyter-widgets/controls",
          "model_name": "ProgressStyleModel",
          "state": {
            "_view_name": "StyleView",
            "_model_name": "ProgressStyleModel",
            "description_width": "initial",
            "_view_module": "@jupyter-widgets/base",
            "_model_module_version": "1.5.0",
            "_view_count": null,
            "_view_module_version": "1.2.0",
            "bar_color": null,
            "_model_module": "@jupyter-widgets/controls"
          }
        },
        "b197746031e74bb7963bd910d9be4edf": {
          "model_module": "@jupyter-widgets/base",
          "model_name": "LayoutModel",
          "state": {
            "_view_name": "LayoutView",
            "grid_template_rows": null,
            "right": null,
            "justify_content": null,
            "_view_module": "@jupyter-widgets/base",
            "overflow": null,
            "_model_module_version": "1.2.0",
            "_view_count": null,
            "flex_flow": null,
            "width": null,
            "min_width": null,
            "border": null,
            "align_items": null,
            "bottom": null,
            "_model_module": "@jupyter-widgets/base",
            "top": null,
            "grid_column": null,
            "overflow_y": null,
            "overflow_x": null,
            "grid_auto_flow": null,
            "grid_area": null,
            "grid_template_columns": null,
            "flex": null,
            "_model_name": "LayoutModel",
            "justify_items": null,
            "grid_row": null,
            "max_height": null,
            "align_content": null,
            "visibility": null,
            "align_self": null,
            "height": null,
            "min_height": null,
            "padding": null,
            "grid_auto_rows": null,
            "grid_gap": null,
            "max_width": null,
            "order": null,
            "_view_module_version": "1.2.0",
            "grid_template_areas": null,
            "object_position": null,
            "object_fit": null,
            "grid_auto_columns": null,
            "margin": null,
            "display": null,
            "left": null
          }
        },
        "81c9d7d35d7745e68d73e0421f132fb8": {
          "model_module": "@jupyter-widgets/controls",
          "model_name": "DescriptionStyleModel",
          "state": {
            "_view_name": "StyleView",
            "_model_name": "DescriptionStyleModel",
            "description_width": "",
            "_view_module": "@jupyter-widgets/base",
            "_model_module_version": "1.5.0",
            "_view_count": null,
            "_view_module_version": "1.2.0",
            "_model_module": "@jupyter-widgets/controls"
          }
        },
        "2259cbe57c5c4c6dac4143d37d3f979d": {
          "model_module": "@jupyter-widgets/base",
          "model_name": "LayoutModel",
          "state": {
            "_view_name": "LayoutView",
            "grid_template_rows": null,
            "right": null,
            "justify_content": null,
            "_view_module": "@jupyter-widgets/base",
            "overflow": null,
            "_model_module_version": "1.2.0",
            "_view_count": null,
            "flex_flow": null,
            "width": null,
            "min_width": null,
            "border": null,
            "align_items": null,
            "bottom": null,
            "_model_module": "@jupyter-widgets/base",
            "top": null,
            "grid_column": null,
            "overflow_y": null,
            "overflow_x": null,
            "grid_auto_flow": null,
            "grid_area": null,
            "grid_template_columns": null,
            "flex": null,
            "_model_name": "LayoutModel",
            "justify_items": null,
            "grid_row": null,
            "max_height": null,
            "align_content": null,
            "visibility": null,
            "align_self": null,
            "height": null,
            "min_height": null,
            "padding": null,
            "grid_auto_rows": null,
            "grid_gap": null,
            "max_width": null,
            "order": null,
            "_view_module_version": "1.2.0",
            "grid_template_areas": null,
            "object_position": null,
            "object_fit": null,
            "grid_auto_columns": null,
            "margin": null,
            "display": null,
            "left": null
          }
        }
      }
    }
  },
  "cells": [
    {
      "cell_type": "markdown",
      "metadata": {
        "id": "view-in-github",
        "colab_type": "text"
      },
      "source": [
        "<a href=\"https://colab.research.google.com/github/luciainnocenti/IncrementalLearning/blob/provaNuovaNormalizzazione/ICaRLMain.ipynb\" target=\"_parent\"><img src=\"https://colab.research.google.com/assets/colab-badge.svg\" alt=\"Open In Colab\"/></a>"
      ]
    },
    {
      "cell_type": "markdown",
      "metadata": {
        "id": "OLMLAOPyrR1K",
        "colab_type": "text"
      },
      "source": [
        "# Import GitHub repository"
      ]
    },
    {
      "cell_type": "code",
      "metadata": {
        "id": "3LqwZJLUlcYH",
        "colab_type": "code",
        "colab": {}
      },
      "source": [
        "import os\n",
        "import logging\n",
        "import sys"
      ],
      "execution_count": 1,
      "outputs": []
    },
    {
      "cell_type": "code",
      "metadata": {
        "id": "PVa_FlnxrXIk",
        "colab_type": "code",
        "colab": {
          "base_uri": "https://localhost:8080/",
          "height": 146
        },
        "outputId": "199d8959-bf37-4236-8078-676456c1358e"
      },
      "source": [
        "if not os.path.isdir('./DatasetCIFAR'):\n",
        "  !git clone -b provaNuovaNormalizzazione https://github.com/luciainnocenti/IncrementalLearning.git\n",
        "  !mv 'IncrementalLearning' 'DatasetCIFAR'"
      ],
      "execution_count": 2,
      "outputs": [
        {
          "output_type": "stream",
          "text": [
            "Cloning into 'IncrementalLearning'...\n",
            "remote: Enumerating objects: 18, done.\u001b[K\n",
            "remote: Counting objects: 100% (18/18), done.\u001b[K\n",
            "remote: Compressing objects: 100% (18/18), done.\u001b[K\n",
            "remote: Total 1329 (delta 9), reused 0 (delta 0), pack-reused 1311\u001b[K\n",
            "Receiving objects: 100% (1329/1329), 884.46 KiB | 1.17 MiB/s, done.\n",
            "Resolving deltas: 100% (851/851), done.\n"
          ],
          "name": "stdout"
        }
      ]
    },
    {
      "cell_type": "markdown",
      "metadata": {
        "id": "XXQyHMXzrZ5A",
        "colab_type": "text"
      },
      "source": [
        "# Import packages"
      ]
    },
    {
      "cell_type": "code",
      "metadata": {
        "id": "c24pdNxurdv1",
        "colab_type": "code",
        "colab": {}
      },
      "source": [
        "from DatasetCIFAR.data_set import Dataset \n",
        "from DatasetCIFAR import ResNet\n",
        "from DatasetCIFAR import utils\n",
        "from DatasetCIFAR import params\n",
        "from DatasetCIFAR import ICaRLModel\n",
        "from torchvision import models\n",
        "import torch.nn as nn\n",
        "import torch\n",
        "import torch.optim as optim\n",
        "import torchvision\n",
        "import numpy as np\n",
        "\n",
        "from torchvision import transforms\n",
        "from torch.utils.data import Subset, DataLoader\n",
        "from torch.nn import functional as F\n",
        "import random\n",
        "random.seed(params.SEED)"
      ],
      "execution_count": 3,
      "outputs": []
    },
    {
      "cell_type": "code",
      "metadata": {
        "id": "r2rkcBbIKfUQ",
        "colab_type": "code",
        "colab": {
          "base_uri": "https://localhost:8080/",
          "height": 54
        },
        "outputId": "44fbe778-6ac1-413c-a9a4-73535c9bb392"
      },
      "source": [
        "print(params.SEED)\n",
        "print(params.NUM_WORKERS)"
      ],
      "execution_count": 4,
      "outputs": [
        {
          "output_type": "stream",
          "text": [
            "653\n",
            "4\n"
          ],
          "name": "stdout"
        }
      ]
    },
    {
      "cell_type": "markdown",
      "metadata": {
        "id": "1FlAkShyryrf",
        "colab_type": "text"
      },
      "source": [
        "# Define Datasets"
      ]
    },
    {
      "cell_type": "code",
      "metadata": {
        "id": "AP2iR2vl3Wiz",
        "colab_type": "code",
        "colab": {}
      },
      "source": [
        "train_transformer = transforms.Compose([transforms.RandomCrop(size = 32, padding=4),\n",
        "                                         transforms.RandomHorizontalFlip(),\n",
        "                                         transforms.ToTensor(),\n",
        "                                         transforms.Normalize((0.5, 0.5, 0.5), (0.5, 0.5, 0.5))\n",
        "])\n",
        "\n",
        "test_transformer = transforms.Compose([transforms.ToTensor(),\n",
        "                                         transforms.Normalize((0.5, 0.5, 0.5), (0.5, 0.5, 0.5))\n",
        "])"
      ],
      "execution_count": 5,
      "outputs": []
    },
    {
      "cell_type": "code",
      "metadata": {
        "id": "1CSNk0NlrvAL",
        "colab_type": "code",
        "colab": {
          "base_uri": "https://localhost:8080/",
          "height": 104,
          "referenced_widgets": [
            "44e3e99f63f24951bebf5426d1c39eed",
            "c26b31ed8c644690ad40ffc01e4ea644",
            "42223a1a70cc4bc3951c311545dcec7c",
            "489f999a64eb4b6d8283706b861385bc",
            "4d33467d8b214b4eb839b25bdd3ca218",
            "b197746031e74bb7963bd910d9be4edf",
            "81c9d7d35d7745e68d73e0421f132fb8",
            "2259cbe57c5c4c6dac4143d37d3f979d"
          ]
        },
        "outputId": "b2070c7f-5339-4dbf-dd5b-751dbf93289c"
      },
      "source": [
        "trainDS = Dataset(train=True, transform = train_transformer)\n",
        "testDS = Dataset(train=False, transform = test_transformer)"
      ],
      "execution_count": 6,
      "outputs": [
        {
          "output_type": "stream",
          "text": [
            "Downloading https://www.cs.toronto.edu/~kriz/cifar-100-python.tar.gz to data/cifar-100-python.tar.gz\n"
          ],
          "name": "stdout"
        },
        {
          "output_type": "display_data",
          "data": {
            "application/vnd.jupyter.widget-view+json": {
              "model_id": "44e3e99f63f24951bebf5426d1c39eed",
              "version_minor": 0,
              "version_major": 2
            },
            "text/plain": [
              "HBox(children=(FloatProgress(value=1.0, bar_style='info', max=1.0), HTML(value='')))"
            ]
          },
          "metadata": {
            "tags": []
          }
        },
        {
          "output_type": "stream",
          "text": [
            "Extracting data/cifar-100-python.tar.gz to data\n",
            "Files already downloaded and verified\n"
          ],
          "name": "stdout"
        }
      ]
    },
    {
      "cell_type": "code",
      "metadata": {
        "id": "W3ge3VayryJL",
        "colab_type": "code",
        "colab": {}
      },
      "source": [
        "train_splits = trainDS.splits\n",
        "test_splits = testDS.splits"
      ],
      "execution_count": 7,
      "outputs": []
    },
    {
      "cell_type": "markdown",
      "metadata": {
        "id": "AzxTlFF_rkfe",
        "colab_type": "text"
      },
      "source": [
        "# Define Network"
      ]
    },
    {
      "cell_type": "code",
      "metadata": {
        "id": "rgZtPkiPrmQK",
        "colab_type": "code",
        "colab": {}
      },
      "source": [
        "ICaRL = ResNet.resnet32(num_classes=100)\n",
        "ICaRL =  ICaRL.to(params.DEVICE)"
      ],
      "execution_count": 8,
      "outputs": []
    },
    {
      "cell_type": "code",
      "metadata": {
        "id": "CI8EyFmpOikN",
        "colab_type": "code",
        "colab": {}
      },
      "source": [
        "exemplars = [None]*100\n",
        "\n",
        "test_indexes =  []"
      ],
      "execution_count": 9,
      "outputs": []
    },
    {
      "cell_type": "code",
      "metadata": {
        "id": "fcFjbBGrOMz6",
        "colab_type": "code",
        "colab": {
          "base_uri": "https://localhost:8080/",
          "height": 1000
        },
        "outputId": "a9f365e0-3278-4c74-f52f-375d0532e356"
      },
      "source": [
        "for task in range(0, 100, params.TASK_SIZE):\n",
        "  train_indexes = trainDS.__getIndexesGroups__(task)\n",
        "  test_indexes = test_indexes + testDS.__getIndexesGroups__(task)\n",
        "\n",
        "  train_dataset = Subset(trainDS, train_indexes)\n",
        "  test_dataset = Subset(testDS, test_indexes)\n",
        "\n",
        "  train_loader = DataLoader( train_dataset, num_workers=params.NUM_WORKERS, batch_size=params.BATCH_SIZE, shuffle=True)\n",
        "  test_loader = DataLoader( test_dataset, num_workers=params.NUM_WORKERS, batch_size=params.BATCH_SIZE , shuffle=True )\n",
        "\n",
        "  ICaRL, exemplars = ICaRLModel.incrementalTrain(task, trainDS, ICaRL, exemplars)\n",
        "\n",
        "  col = []\n",
        "  for i,x in enumerate( train_splits[ :int(task/10) + 1]) : \n",
        "    v = np.array(x)\n",
        "    col = np.concatenate( (col,v), axis = None)\n",
        "    col = col.astype(int)\n",
        "  mean = None\n",
        "  total = 0.0\n",
        "  running_corrects = 0.0\n",
        "  for img, lbl, _ in train_loader:\n",
        "      img = img.float().to(params.DEVICE)\n",
        "      preds, mean = ICaRLModel.classify(img, exemplars, ICaRL, task, trainDS, mean)\n",
        "      preds = preds.to(params.DEVICE)\n",
        "      labels = utils.mapFunction(lbl, col).to(params.DEVICE)\n",
        "      #print(\"preds: \", preds.data)\n",
        "      #print(\"mapped labels: \", labels)\n",
        "      #print(\"labels: \", lbl)\n",
        "      total += len(lbl)\n",
        "      running_corrects += torch.sum(preds == labels.data).data.item()\n",
        "      #print(running_corrects)\n",
        "  accuracy = float(running_corrects/total)\n",
        "  print(f'task: {task}', f'train accuracy = {accuracy}')\n",
        "\n",
        "  total = 0.0\n",
        "  running_corrects = 0.0\n",
        "  for img, lbl, _ in test_loader:\n",
        "      img = img.float().to(params.DEVICE)\n",
        "      preds, _ = ICaRLModel.classify(img, exemplars, ICaRL, task, trainDS, mean)\n",
        "      preds = preds.to(params.DEVICE)\n",
        "      labels = utils.mapFunction(lbl, col).to(params.DEVICE)\n",
        "      #print(\"preds: \", preds.data)\n",
        "      #print(\"mapped labels: \", labels)\n",
        "      #print(\"labels: \", lbl)\n",
        "      total += len(lbl)\n",
        "      running_corrects += torch.sum(preds == labels.data).data.item()\n",
        "      #print(running_corrects)\n",
        "  accuracy = float(running_corrects/total)\n",
        "  print(f'task: {task}', f'test accuracy = {accuracy}')"
      ],
      "execution_count": null,
      "outputs": [
        {
          "output_type": "stream",
          "text": [
            "col =  [94 63 74 21 35 56 91 96 87 48]\n",
            "col[:10] [94 63 74 21 35 56 91 96 87 48]\n",
            "At step  0  and at epoch =  0  the loss is =  0.040957339107990265  and accuracy is =  0.188\n",
            "At step  0  and at epoch =  1  the loss is =  0.029910482466220856  and accuracy is =  0.4158\n",
            "At step  0  and at epoch =  2  the loss is =  0.018764276057481766  and accuracy is =  0.4728\n",
            "At step  0  and at epoch =  3  the loss is =  0.020915627479553223  and accuracy is =  0.5934\n",
            "At step  0  and at epoch =  4  the loss is =  0.014162520878016949  and accuracy is =  0.6122\n",
            "At step  0  and at epoch =  5  the loss is =  0.01721615344285965  and accuracy is =  0.6668\n",
            "At step  0  and at epoch =  6  the loss is =  0.020808834582567215  and accuracy is =  0.7066\n",
            "At step  0  and at epoch =  7  the loss is =  0.020209748297929764  and accuracy is =  0.7372\n",
            "At step  0  and at epoch =  8  the loss is =  0.012374729849398136  and accuracy is =  0.7698\n",
            "At step  0  and at epoch =  9  the loss is =  0.018472393974661827  and accuracy is =  0.7706\n",
            "At step  0  and at epoch =  10  the loss is =  0.012434503994882107  and accuracy is =  0.8246\n",
            "At step  0  and at epoch =  11  the loss is =  0.012957515195012093  and accuracy is =  0.802\n",
            "At step  0  and at epoch =  12  the loss is =  0.012635595165193081  and accuracy is =  0.8302\n",
            "At step  0  and at epoch =  13  the loss is =  0.014313600957393646  and accuracy is =  0.8818\n",
            "At step  0  and at epoch =  14  the loss is =  0.012395297177135944  and accuracy is =  0.8638\n",
            "At step  0  and at epoch =  15  the loss is =  0.011565686203539371  and accuracy is =  0.88\n",
            "At step  0  and at epoch =  16  the loss is =  0.004992111586034298  and accuracy is =  0.9058\n",
            "At step  0  and at epoch =  17  the loss is =  0.021251805126667023  and accuracy is =  0.9252\n",
            "At step  0  and at epoch =  18  the loss is =  0.005144997034221888  and accuracy is =  0.8822\n",
            "At step  0  and at epoch =  19  the loss is =  0.009929688647389412  and accuracy is =  0.9194\n",
            "At step  0  and at epoch =  20  the loss is =  0.021257027983665466  and accuracy is =  0.9394\n",
            "At step  0  and at epoch =  21  the loss is =  0.016090665012598038  and accuracy is =  0.9062\n",
            "At step  0  and at epoch =  22  the loss is =  0.012760122306644917  and accuracy is =  0.8574\n",
            "At step  0  and at epoch =  23  the loss is =  0.007467418909072876  and accuracy is =  0.887\n",
            "At step  0  and at epoch =  24  the loss is =  0.005929087288677692  and accuracy is =  0.9622\n",
            "At step  0  and at epoch =  25  the loss is =  0.008147838525474072  and accuracy is =  0.9768\n",
            "At step  0  and at epoch =  26  the loss is =  0.001400735811330378  and accuracy is =  0.9618\n",
            "At step  0  and at epoch =  27  the loss is =  0.01498761773109436  and accuracy is =  0.984\n",
            "At step  0  and at epoch =  28  the loss is =  0.011861445382237434  and accuracy is =  0.932\n",
            "At step  0  and at epoch =  29  the loss is =  0.0036597796715795994  and accuracy is =  0.9482\n",
            "At step  0  and at epoch =  30  the loss is =  0.011977088637650013  and accuracy is =  0.9768\n",
            "At step  0  and at epoch =  31  the loss is =  0.0023586361203342676  and accuracy is =  0.9668\n",
            "At step  0  and at epoch =  32  the loss is =  0.012226122431457043  and accuracy is =  0.9792\n",
            "At step  0  and at epoch =  33  the loss is =  0.007368267979472876  and accuracy is =  0.9118\n",
            "At step  0  and at epoch =  34  the loss is =  0.003345188917592168  and accuracy is =  0.9464\n",
            "At step  0  and at epoch =  35  the loss is =  0.01697312481701374  and accuracy is =  0.977\n",
            "At step  0  and at epoch =  36  the loss is =  0.025764601305127144  and accuracy is =  0.9608\n",
            "At step  0  and at epoch =  37  the loss is =  0.010278753936290741  and accuracy is =  0.8814\n",
            "At step  0  and at epoch =  38  the loss is =  0.011652486398816109  and accuracy is =  0.9492\n",
            "At step  0  and at epoch =  39  the loss is =  0.006708304863423109  and accuracy is =  0.9716\n",
            "At step  0  and at epoch =  40  the loss is =  0.03052317351102829  and accuracy is =  0.9876\n",
            "At step  0  and at epoch =  41  the loss is =  0.013119522482156754  and accuracy is =  0.8374\n",
            "At step  0  and at epoch =  42  the loss is =  0.0039045761805027723  and accuracy is =  0.9478\n",
            "At step  0  and at epoch =  43  the loss is =  0.0016865060897544026  and accuracy is =  0.9772\n",
            "At step  0  and at epoch =  44  the loss is =  0.0034079989418387413  and accuracy is =  0.995\n",
            "At step  0  and at epoch =  45  the loss is =  0.012122929096221924  and accuracy is =  0.983\n",
            "At step  0  and at epoch =  46  the loss is =  0.017573218792676926  and accuracy is =  0.8718\n",
            "At step  0  and at epoch =  47  the loss is =  0.013401364907622337  and accuracy is =  0.9374\n",
            "At step  0  and at epoch =  48  the loss is =  0.0018900571158155799  and accuracy is =  0.972\n",
            "At step  0  and at epoch =  49  the loss is =  0.005873008165508509  and accuracy is =  0.9922\n",
            "At step  0  and at epoch =  50  the loss is =  0.017758440226316452  and accuracy is =  0.983\n",
            "At step  0  and at epoch =  51  the loss is =  0.003310450818389654  and accuracy is =  0.9476\n",
            "At step  0  and at epoch =  52  the loss is =  0.010163310915231705  and accuracy is =  0.976\n",
            "At step  0  and at epoch =  53  the loss is =  0.009082256816327572  and accuracy is =  0.9826\n",
            "At step  0  and at epoch =  54  the loss is =  0.007817796431481838  and accuracy is =  0.9782\n",
            "At step  0  and at epoch =  55  the loss is =  0.01072202529758215  and accuracy is =  0.9616\n",
            "At step  0  and at epoch =  56  the loss is =  0.0009201081120409071  and accuracy is =  0.9544\n",
            "At step  0  and at epoch =  57  the loss is =  0.014987575821578503  and accuracy is =  0.994\n",
            "At step  0  and at epoch =  58  the loss is =  0.005932256579399109  and accuracy is =  0.9484\n",
            "At step  0  and at epoch =  59  the loss is =  0.0021908425260335207  and accuracy is =  0.982\n",
            "At step  0  and at epoch =  60  the loss is =  0.004652823321521282  and accuracy is =  0.9938\n",
            "At step  0  and at epoch =  61  the loss is =  0.01792743243277073  and accuracy is =  0.9738\n",
            "At step  0  and at epoch =  62  the loss is =  0.015146189369261265  and accuracy is =  0.9572\n",
            "At step  0  and at epoch =  63  the loss is =  0.006394915282726288  and accuracy is =  0.9654\n",
            "At step  0  and at epoch =  64  the loss is =  0.012690062634646893  and accuracy is =  0.9634\n",
            "At step  0  and at epoch =  65  the loss is =  0.003512801369652152  and accuracy is =  0.9672\n",
            "At step  0  and at epoch =  66  the loss is =  0.011010231450200081  and accuracy is =  0.9936\n",
            "At step  0  and at epoch =  67  the loss is =  0.014334139414131641  and accuracy is =  0.9732\n",
            "At step  0  and at epoch =  68  the loss is =  0.0069276331923902035  and accuracy is =  0.942\n",
            "At step  0  and at epoch =  69  the loss is =  0.016408564522862434  and accuracy is =  0.9908\n",
            "task: 0 train accuracy = 0.9892\n",
            "task: 0 test accuracy = 0.757\n",
            "col =  [94 63 74 21 35 56 91 96 87 48 68 80 22 37 60 97 51 62 92 76]\n",
            "col[:10] [94 63 74 21 35 56 91 96 87 48]\n",
            "At step  10  and at epoch =  0  the loss is =  0.030145907774567604  and accuracy is =  0.3017118402282454\n",
            "At step  10  and at epoch =  1  the loss is =  0.028098002076148987  and accuracy is =  0.36433666191155495\n",
            "At step  10  and at epoch =  2  the loss is =  0.027179023250937462  and accuracy is =  0.44821683309557775\n",
            "At step  10  and at epoch =  3  the loss is =  0.023768624290823936  and accuracy is =  0.5027104136947218\n",
            "At step  10  and at epoch =  4  the loss is =  0.017438571900129318  and accuracy is =  0.5460770328102711\n",
            "At step  10  and at epoch =  5  the loss is =  0.017239881679415703  and accuracy is =  0.5997146932952925\n",
            "At step  10  and at epoch =  6  the loss is =  0.01930118538439274  and accuracy is =  0.6483594864479315\n",
            "At step  10  and at epoch =  7  the loss is =  0.0173754021525383  and accuracy is =  0.6904422253922967\n",
            "At step  10  and at epoch =  8  the loss is =  0.016325123608112335  and accuracy is =  0.74151212553495\n",
            "At step  10  and at epoch =  9  the loss is =  0.01405227929353714  and accuracy is =  0.779885877318117\n",
            "At step  10  and at epoch =  10  the loss is =  0.012929613701999187  and accuracy is =  0.8087018544935806\n",
            "At step  10  and at epoch =  11  the loss is =  0.014761666767299175  and accuracy is =  0.8328102710413695\n",
            "At step  10  and at epoch =  12  the loss is =  0.013028092682361603  and accuracy is =  0.8533523537803138\n",
            "At step  10  and at epoch =  13  the loss is =  0.014467108994722366  and accuracy is =  0.8607703281027104\n",
            "At step  10  and at epoch =  14  the loss is =  0.01057096105068922  and accuracy is =  0.8860199714693295\n",
            "At step  10  and at epoch =  15  the loss is =  0.012234657071530819  and accuracy is =  0.8987161198288159\n",
            "At step  10  and at epoch =  16  the loss is =  0.01129420567303896  and accuracy is =  0.8971469329529244\n",
            "At step  10  and at epoch =  17  the loss is =  0.013896971940994263  and accuracy is =  0.8924393723252496\n",
            "At step  10  and at epoch =  18  the loss is =  0.010468943044543266  and accuracy is =  0.901283880171184\n",
            "At step  10  and at epoch =  19  the loss is =  0.012008405290544033  and accuracy is =  0.9124108416547789\n",
            "At step  10  and at epoch =  20  the loss is =  0.010921148583292961  and accuracy is =  0.9212553495007133\n",
            "At step  10  and at epoch =  21  the loss is =  0.00859794020652771  and accuracy is =  0.9278174037089871\n",
            "At step  10  and at epoch =  22  the loss is =  0.013046708889305592  and accuracy is =  0.933808844507846\n",
            "At step  10  and at epoch =  23  the loss is =  0.009843413718044758  and accuracy is =  0.9243937232524965\n",
            "At step  10  and at epoch =  24  the loss is =  0.0096335643902421  and accuracy is =  0.922681883024251\n",
            "At step  10  and at epoch =  25  the loss is =  0.008740163408219814  and accuracy is =  0.9300998573466477\n",
            "At step  10  and at epoch =  26  the loss is =  0.010696380399167538  and accuracy is =  0.9186875891583453\n",
            "At step  10  and at epoch =  27  the loss is =  0.009472726844251156  and accuracy is =  0.9278174037089871\n",
            "At step  10  and at epoch =  28  the loss is =  0.009262816980481148  and accuracy is =  0.9427960057061341\n",
            "At step  10  and at epoch =  29  the loss is =  0.008582980372011662  and accuracy is =  0.9450784593437945\n",
            "At step  10  and at epoch =  30  the loss is =  0.010776332579553127  and accuracy is =  0.950641940085592\n",
            "At step  10  and at epoch =  31  the loss is =  0.009665261022746563  and accuracy is =  0.9594864479315264\n",
            "At step  10  and at epoch =  32  the loss is =  0.008365916088223457  and accuracy is =  0.9592011412268189\n",
            "At step  10  and at epoch =  33  the loss is =  0.00935431383550167  and accuracy is =  0.9663338088445078\n",
            "At step  10  and at epoch =  34  the loss is =  0.007824848406016827  and accuracy is =  0.9680456490727533\n",
            "At step  10  and at epoch =  35  the loss is =  0.009285757318139076  and accuracy is =  0.9721825962910129\n",
            "At step  10  and at epoch =  36  the loss is =  0.007658711634576321  and accuracy is =  0.9717546362339515\n",
            "At step  10  and at epoch =  37  the loss is =  0.007992063648998737  and accuracy is =  0.972039942938659\n",
            "At step  10  and at epoch =  38  the loss is =  0.008901002816855907  and accuracy is =  0.9713266761768902\n",
            "At step  10  and at epoch =  39  the loss is =  0.00733246561139822  and accuracy is =  0.9707560627674751\n",
            "At step  10  and at epoch =  40  the loss is =  0.008182425051927567  and accuracy is =  0.9716119828815977\n",
            "At step  10  and at epoch =  41  the loss is =  0.008453983813524246  and accuracy is =  0.9751783166904422\n",
            "At step  10  and at epoch =  42  the loss is =  0.008303484879434109  and accuracy is =  0.9718972895863053\n",
            "At step  10  and at epoch =  43  the loss is =  0.00820451695472002  and accuracy is =  0.9760342368045649\n",
            "At step  10  and at epoch =  44  the loss is =  0.008191244676709175  and accuracy is =  0.9714693295292439\n",
            "At step  10  and at epoch =  45  the loss is =  0.006757764145731926  and accuracy is =  0.9707560627674751\n",
            "At step  10  and at epoch =  46  the loss is =  0.00875362753868103  and accuracy is =  0.974037089871612\n",
            "At step  10  and at epoch =  47  the loss is =  0.007753415033221245  and accuracy is =  0.972039942938659\n",
            "At step  10  and at epoch =  48  the loss is =  0.009113939478993416  and accuracy is =  0.9667617689015692\n",
            "At step  10  and at epoch =  49  the loss is =  0.00932003278285265  and accuracy is =  0.9626248216833095\n",
            "At step  10  and at epoch =  50  the loss is =  0.00897450465708971  and accuracy is =  0.9432239657631954\n",
            "At step  10  and at epoch =  51  the loss is =  0.022397803142666817  and accuracy is =  0.8349500713266762\n",
            "At step  10  and at epoch =  52  the loss is =  0.01668657548725605  and accuracy is =  0.781169757489301\n",
            "At step  10  and at epoch =  53  the loss is =  0.014702798798680305  and accuracy is =  0.8601997146932953\n",
            "At step  10  and at epoch =  54  the loss is =  0.011234395205974579  and accuracy is =  0.9032810271041369\n",
            "At step  10  and at epoch =  55  the loss is =  0.007923495024442673  and accuracy is =  0.9303851640513552\n",
            "At step  10  and at epoch =  56  the loss is =  0.010017301887273788  and accuracy is =  0.9426533523537803\n",
            "At step  10  and at epoch =  57  the loss is =  0.008615823462605476  and accuracy is =  0.9546362339514979\n",
            "At step  10  and at epoch =  58  the loss is =  0.009963109157979488  and accuracy is =  0.9587731811697575\n",
            "At step  10  and at epoch =  59  the loss is =  0.009180165827274323  and accuracy is =  0.9619115549215407\n",
            "At step  10  and at epoch =  60  the loss is =  0.007572651840746403  and accuracy is =  0.9690442225392297\n",
            "At step  10  and at epoch =  61  the loss is =  0.00851014256477356  and accuracy is =  0.9724679029957204\n",
            "At step  10  and at epoch =  62  the loss is =  0.008293685503304005  and accuracy is =  0.9770328102710414\n",
            "At step  10  and at epoch =  63  the loss is =  0.008629647083580494  and accuracy is =  0.9764621968616263\n",
            "At step  10  and at epoch =  64  the loss is =  0.0077222674153745174  and accuracy is =  0.9723252496433666\n",
            "At step  10  and at epoch =  65  the loss is =  0.007214725948870182  and accuracy is =  0.9708987161198288\n",
            "At step  10  and at epoch =  66  the loss is =  0.008567971177399158  and accuracy is =  0.9726105563480741\n",
            "At step  10  and at epoch =  67  the loss is =  0.007701283786445856  and accuracy is =  0.9726105563480741\n",
            "At step  10  and at epoch =  68  the loss is =  0.00883516576141119  and accuracy is =  0.9773181169757489\n",
            "At step  10  and at epoch =  69  the loss is =  0.008052945137023926  and accuracy is =  0.9746077032810271\n",
            "task: 10 train accuracy = 0.9822\n",
            "task: 10 test accuracy = 0.647\n",
            "col =  [94 63 74 21 35 56 91 96 87 48 68 80 22 37 60 97 51 62 92 76 75 89 23 99\n",
            " 39 66 54 69 84 61]\n",
            "col[:10] [94 63 74 21 35 56 91 96 87 48]\n",
            "At step  20  and at epoch =  0  the loss is =  0.04134364426136017  and accuracy is =  0.2745014245014245\n",
            "At step  20  and at epoch =  1  the loss is =  0.036178793758153915  and accuracy is =  0.37464387464387466\n",
            "At step  20  and at epoch =  2  the loss is =  0.03280800208449364  and accuracy is =  0.46324786324786327\n",
            "At step  20  and at epoch =  3  the loss is =  0.03273287042975426  and accuracy is =  0.5566951566951567\n",
            "At step  20  and at epoch =  4  the loss is =  0.02605789713561535  and accuracy is =  0.6210826210826211\n",
            "At step  20  and at epoch =  5  the loss is =  0.028614306822419167  and accuracy is =  0.6804843304843304\n"
          ],
          "name": "stdout"
        }
      ]
    }
  ]
}