{
  "nbformat": 4,
  "nbformat_minor": 0,
  "metadata": {
    "colab": {
      "name": "Copy of ICaRLMain.ipynb",
      "provenance": [],
      "collapsed_sections": [],
      "include_colab_link": true
    },
    "kernelspec": {
      "name": "python3",
      "display_name": "Python 3"
    },
    "accelerator": "GPU",
    "widgets": {
      "application/vnd.jupyter.widget-state+json": {
        "1f98fd7289174825a77049e40a945e5c": {
          "model_module": "@jupyter-widgets/controls",
          "model_name": "HBoxModel",
          "state": {
            "_view_name": "HBoxView",
            "_dom_classes": [],
            "_model_name": "HBoxModel",
            "_view_module": "@jupyter-widgets/controls",
            "_model_module_version": "1.5.0",
            "_view_count": null,
            "_view_module_version": "1.5.0",
            "box_style": "",
            "layout": "IPY_MODEL_f717d828d416484baee3a5b4a98cf110",
            "_model_module": "@jupyter-widgets/controls",
            "children": [
              "IPY_MODEL_881e5cde33e44554af7af36eb13017a5",
              "IPY_MODEL_53436dedbc9346ee846885b0124fbc68"
            ]
          }
        },
        "f717d828d416484baee3a5b4a98cf110": {
          "model_module": "@jupyter-widgets/base",
          "model_name": "LayoutModel",
          "state": {
            "_view_name": "LayoutView",
            "grid_template_rows": null,
            "right": null,
            "justify_content": null,
            "_view_module": "@jupyter-widgets/base",
            "overflow": null,
            "_model_module_version": "1.2.0",
            "_view_count": null,
            "flex_flow": null,
            "width": null,
            "min_width": null,
            "border": null,
            "align_items": null,
            "bottom": null,
            "_model_module": "@jupyter-widgets/base",
            "top": null,
            "grid_column": null,
            "overflow_y": null,
            "overflow_x": null,
            "grid_auto_flow": null,
            "grid_area": null,
            "grid_template_columns": null,
            "flex": null,
            "_model_name": "LayoutModel",
            "justify_items": null,
            "grid_row": null,
            "max_height": null,
            "align_content": null,
            "visibility": null,
            "align_self": null,
            "height": null,
            "min_height": null,
            "padding": null,
            "grid_auto_rows": null,
            "grid_gap": null,
            "max_width": null,
            "order": null,
            "_view_module_version": "1.2.0",
            "grid_template_areas": null,
            "object_position": null,
            "object_fit": null,
            "grid_auto_columns": null,
            "margin": null,
            "display": null,
            "left": null
          }
        },
        "881e5cde33e44554af7af36eb13017a5": {
          "model_module": "@jupyter-widgets/controls",
          "model_name": "FloatProgressModel",
          "state": {
            "_view_name": "ProgressView",
            "style": "IPY_MODEL_28daaa573599441a8d1d7fc650cbf32c",
            "_dom_classes": [],
            "description": "",
            "_model_name": "FloatProgressModel",
            "bar_style": "info",
            "max": 1,
            "_view_module": "@jupyter-widgets/controls",
            "_model_module_version": "1.5.0",
            "value": 1,
            "_view_count": null,
            "_view_module_version": "1.5.0",
            "orientation": "horizontal",
            "min": 0,
            "description_tooltip": null,
            "_model_module": "@jupyter-widgets/controls",
            "layout": "IPY_MODEL_a8bb6aede7c84990bc301b4a18518c75"
          }
        },
        "53436dedbc9346ee846885b0124fbc68": {
          "model_module": "@jupyter-widgets/controls",
          "model_name": "HTMLModel",
          "state": {
            "_view_name": "HTMLView",
            "style": "IPY_MODEL_d93afe563d844cc1beefa767e1825e27",
            "_dom_classes": [],
            "description": "",
            "_model_name": "HTMLModel",
            "placeholder": "​",
            "_view_module": "@jupyter-widgets/controls",
            "_model_module_version": "1.5.0",
            "value": " 169009152/? [00:20&lt;00:00, 51374678.49it/s]",
            "_view_count": null,
            "_view_module_version": "1.5.0",
            "description_tooltip": null,
            "_model_module": "@jupyter-widgets/controls",
            "layout": "IPY_MODEL_3d8a39ffdf9b481086d3d440de15486c"
          }
        },
        "28daaa573599441a8d1d7fc650cbf32c": {
          "model_module": "@jupyter-widgets/controls",
          "model_name": "ProgressStyleModel",
          "state": {
            "_view_name": "StyleView",
            "_model_name": "ProgressStyleModel",
            "description_width": "initial",
            "_view_module": "@jupyter-widgets/base",
            "_model_module_version": "1.5.0",
            "_view_count": null,
            "_view_module_version": "1.2.0",
            "bar_color": null,
            "_model_module": "@jupyter-widgets/controls"
          }
        },
        "a8bb6aede7c84990bc301b4a18518c75": {
          "model_module": "@jupyter-widgets/base",
          "model_name": "LayoutModel",
          "state": {
            "_view_name": "LayoutView",
            "grid_template_rows": null,
            "right": null,
            "justify_content": null,
            "_view_module": "@jupyter-widgets/base",
            "overflow": null,
            "_model_module_version": "1.2.0",
            "_view_count": null,
            "flex_flow": null,
            "width": null,
            "min_width": null,
            "border": null,
            "align_items": null,
            "bottom": null,
            "_model_module": "@jupyter-widgets/base",
            "top": null,
            "grid_column": null,
            "overflow_y": null,
            "overflow_x": null,
            "grid_auto_flow": null,
            "grid_area": null,
            "grid_template_columns": null,
            "flex": null,
            "_model_name": "LayoutModel",
            "justify_items": null,
            "grid_row": null,
            "max_height": null,
            "align_content": null,
            "visibility": null,
            "align_self": null,
            "height": null,
            "min_height": null,
            "padding": null,
            "grid_auto_rows": null,
            "grid_gap": null,
            "max_width": null,
            "order": null,
            "_view_module_version": "1.2.0",
            "grid_template_areas": null,
            "object_position": null,
            "object_fit": null,
            "grid_auto_columns": null,
            "margin": null,
            "display": null,
            "left": null
          }
        },
        "d93afe563d844cc1beefa767e1825e27": {
          "model_module": "@jupyter-widgets/controls",
          "model_name": "DescriptionStyleModel",
          "state": {
            "_view_name": "StyleView",
            "_model_name": "DescriptionStyleModel",
            "description_width": "",
            "_view_module": "@jupyter-widgets/base",
            "_model_module_version": "1.5.0",
            "_view_count": null,
            "_view_module_version": "1.2.0",
            "_model_module": "@jupyter-widgets/controls"
          }
        },
        "3d8a39ffdf9b481086d3d440de15486c": {
          "model_module": "@jupyter-widgets/base",
          "model_name": "LayoutModel",
          "state": {
            "_view_name": "LayoutView",
            "grid_template_rows": null,
            "right": null,
            "justify_content": null,
            "_view_module": "@jupyter-widgets/base",
            "overflow": null,
            "_model_module_version": "1.2.0",
            "_view_count": null,
            "flex_flow": null,
            "width": null,
            "min_width": null,
            "border": null,
            "align_items": null,
            "bottom": null,
            "_model_module": "@jupyter-widgets/base",
            "top": null,
            "grid_column": null,
            "overflow_y": null,
            "overflow_x": null,
            "grid_auto_flow": null,
            "grid_area": null,
            "grid_template_columns": null,
            "flex": null,
            "_model_name": "LayoutModel",
            "justify_items": null,
            "grid_row": null,
            "max_height": null,
            "align_content": null,
            "visibility": null,
            "align_self": null,
            "height": null,
            "min_height": null,
            "padding": null,
            "grid_auto_rows": null,
            "grid_gap": null,
            "max_width": null,
            "order": null,
            "_view_module_version": "1.2.0",
            "grid_template_areas": null,
            "object_position": null,
            "object_fit": null,
            "grid_auto_columns": null,
            "margin": null,
            "display": null,
            "left": null
          }
        }
      }
    }
  },
  "cells": [
    {
      "cell_type": "markdown",
      "metadata": {
        "id": "view-in-github",
        "colab_type": "text"
      },
      "source": [
        "<a href=\"https://colab.research.google.com/github/luciainnocenti/IncrementalLearning/blob/newLosses_Lucia/ICaRLMain.ipynb\" target=\"_parent\"><img src=\"https://colab.research.google.com/assets/colab-badge.svg\" alt=\"Open In Colab\"/></a>"
      ]
    },
    {
      "cell_type": "markdown",
      "metadata": {
        "id": "OLMLAOPyrR1K",
        "colab_type": "text"
      },
      "source": [
        "# Import GitHub repository"
      ]
    },
    {
      "cell_type": "code",
      "metadata": {
        "id": "3LqwZJLUlcYH",
        "colab_type": "code",
        "colab": {}
      },
      "source": [
        "import os\n",
        "import logging\n",
        "import sys"
      ],
      "execution_count": 1,
      "outputs": []
    },
    {
      "cell_type": "code",
      "metadata": {
        "id": "PVa_FlnxrXIk",
        "colab_type": "code",
        "colab": {
          "base_uri": "https://localhost:8080/",
          "height": 146
        },
        "outputId": "7c37d08d-d107-4476-d80f-a6b77a4115f4"
      },
      "source": [
        "if not os.path.isdir('./DatasetCIFAR'):\n",
        "  !git clone -b newLosses_Lucia https://github.com/luciainnocenti/IncrementalLearning.git\n",
        "  !mv 'IncrementalLearning' 'DatasetCIFAR'"
      ],
      "execution_count": 2,
      "outputs": [
        {
          "output_type": "stream",
          "text": [
            "Cloning into 'IncrementalLearning'...\n",
            "remote: Enumerating objects: 43, done.\u001b[K\n",
            "remote: Counting objects: 100% (43/43), done.\u001b[K\n",
            "remote: Compressing objects: 100% (43/43), done.\u001b[K\n",
            "remote: Total 1354 (delta 24), reused 0 (delta 0), pack-reused 1311\u001b[K\n",
            "Receiving objects: 100% (1354/1354), 905.27 KiB | 3.48 MiB/s, done.\n",
            "Resolving deltas: 100% (866/866), done.\n"
          ],
          "name": "stdout"
        }
      ]
    },
    {
      "cell_type": "markdown",
      "metadata": {
        "id": "XXQyHMXzrZ5A",
        "colab_type": "text"
      },
      "source": [
        "# Import packages"
      ]
    },
    {
      "cell_type": "code",
      "metadata": {
        "id": "c24pdNxurdv1",
        "colab_type": "code",
        "colab": {}
      },
      "source": [
        "from DatasetCIFAR.data_set import Dataset \n",
        "from DatasetCIFAR.data_set import Subset\n",
        "from DatasetCIFAR import ResNet\n",
        "from DatasetCIFAR import utils\n",
        "from DatasetCIFAR import params\n",
        "from DatasetCIFAR import ICaRLModel\n",
        "from torchvision import models\n",
        "import torch.nn as nn\n",
        "import torch\n",
        "import torch.optim as optim\n",
        "import torchvision\n",
        "import numpy as np\n",
        "\n",
        "from torchvision import transforms\n",
        "from torch.utils.data import DataLoader\n",
        "from torch.nn import functional as F\n",
        "import random\n",
        "random.seed(params.SEED)"
      ],
      "execution_count": 3,
      "outputs": []
    },
    {
      "cell_type": "code",
      "metadata": {
        "id": "r2rkcBbIKfUQ",
        "colab_type": "code",
        "colab": {
          "base_uri": "https://localhost:8080/",
          "height": 54
        },
        "outputId": "8447304e-2b3a-4bd2-81e5-9311c8660008"
      },
      "source": [
        "print(params.SEED)\n",
        "print(params.NUM_WORKERS)"
      ],
      "execution_count": 4,
      "outputs": [
        {
          "output_type": "stream",
          "text": [
            "653\n",
            "1\n"
          ],
          "name": "stdout"
        }
      ]
    },
    {
      "cell_type": "markdown",
      "metadata": {
        "id": "1FlAkShyryrf",
        "colab_type": "text"
      },
      "source": [
        "# Define Datasets"
      ]
    },
    {
      "cell_type": "code",
      "metadata": {
        "id": "AP2iR2vl3Wiz",
        "colab_type": "code",
        "colab": {}
      },
      "source": [
        "train_transformer = transforms.Compose([transforms.RandomCrop(size = 32, padding=4),\n",
        "                                         transforms.RandomHorizontalFlip(),\n",
        "                                         transforms.ToTensor(),\n",
        "                                         transforms.Normalize((0.5, 0.5, 0.5), (0.5, 0.5, 0.5))\n",
        "])\n",
        "\n",
        "test_transformer = transforms.Compose([transforms.ToTensor(),\n",
        "                                         transforms.Normalize((0.5, 0.5, 0.5), (0.5, 0.5, 0.5))\n",
        "])"
      ],
      "execution_count": 5,
      "outputs": []
    },
    {
      "cell_type": "code",
      "metadata": {
        "id": "1CSNk0NlrvAL",
        "colab_type": "code",
        "colab": {
          "base_uri": "https://localhost:8080/",
          "height": 104,
          "referenced_widgets": [
            "1f98fd7289174825a77049e40a945e5c",
            "f717d828d416484baee3a5b4a98cf110",
            "881e5cde33e44554af7af36eb13017a5",
            "53436dedbc9346ee846885b0124fbc68",
            "28daaa573599441a8d1d7fc650cbf32c",
            "a8bb6aede7c84990bc301b4a18518c75",
            "d93afe563d844cc1beefa767e1825e27",
            "3d8a39ffdf9b481086d3d440de15486c"
          ]
        },
        "outputId": "5c5e939a-dbc5-4ddd-901e-70db7c4e343f"
      },
      "source": [
        "trainDS = Dataset(train=True)\n",
        "testDS = Dataset(train=False)"
      ],
      "execution_count": 6,
      "outputs": [
        {
          "output_type": "stream",
          "text": [
            "Downloading https://www.cs.toronto.edu/~kriz/cifar-100-python.tar.gz to data/cifar-100-python.tar.gz\n"
          ],
          "name": "stdout"
        },
        {
          "output_type": "display_data",
          "data": {
            "application/vnd.jupyter.widget-view+json": {
              "model_id": "1f98fd7289174825a77049e40a945e5c",
              "version_minor": 0,
              "version_major": 2
            },
            "text/plain": [
              "HBox(children=(FloatProgress(value=1.0, bar_style='info', max=1.0), HTML(value='')))"
            ]
          },
          "metadata": {
            "tags": []
          }
        },
        {
          "output_type": "stream",
          "text": [
            "Extracting data/cifar-100-python.tar.gz to data\n",
            "Files already downloaded and verified\n"
          ],
          "name": "stdout"
        }
      ]
    },
    {
      "cell_type": "code",
      "metadata": {
        "id": "W3ge3VayryJL",
        "colab_type": "code",
        "colab": {}
      },
      "source": [
        "train_splits = trainDS.splits\n",
        "test_splits = testDS.splits"
      ],
      "execution_count": 7,
      "outputs": []
    },
    {
      "cell_type": "markdown",
      "metadata": {
        "id": "AzxTlFF_rkfe",
        "colab_type": "text"
      },
      "source": [
        "# Define Network"
      ]
    },
    {
      "cell_type": "code",
      "metadata": {
        "id": "rgZtPkiPrmQK",
        "colab_type": "code",
        "colab": {}
      },
      "source": [
        "ICaRL = ResNet.resnet32(num_classes=100)\n",
        "ICaRL =  ICaRL.to(params.DEVICE)"
      ],
      "execution_count": 8,
      "outputs": []
    },
    {
      "cell_type": "code",
      "metadata": {
        "id": "CI8EyFmpOikN",
        "colab_type": "code",
        "colab": {}
      },
      "source": [
        "exemplars = [None]*100\n",
        "\n",
        "test_indexes =  []"
      ],
      "execution_count": 9,
      "outputs": []
    },
    {
      "cell_type": "code",
      "metadata": {
        "id": "fcFjbBGrOMz6",
        "colab_type": "code",
        "colab": {
          "base_uri": "https://localhost:8080/",
          "height": 1000
        },
        "outputId": "7ae0136e-f106-42ef-fcc6-5a3ffebb90d1"
      },
      "source": [
        "for task in range(0, 100, params.TASK_SIZE):\n",
        "  train_indexes = trainDS.__getIndexesGroups__(task)\n",
        "  test_indexes = test_indexes + testDS.__getIndexesGroups__(task)\n",
        "\n",
        "  train_dataset = Subset(trainDS, train_indexes, transform = train_transformer)\n",
        "  test_dataset = Subset(testDS, test_indexes, transform = test_transformer)\n",
        "\n",
        "  train_loader = DataLoader( train_dataset, num_workers=params.NUM_WORKERS, batch_size=params.BATCH_SIZE, shuffle=True)\n",
        "  test_loader = DataLoader( test_dataset, num_workers=params.NUM_WORKERS, batch_size=params.BATCH_SIZE , shuffle=True )\n",
        "\n",
        "  ICaRL, exemplars = ICaRLModel.incrementalTrain(task, trainDS, ICaRL, exemplars, train_transformer)\n",
        "\n",
        "  col = []\n",
        "  for i,x in enumerate( train_splits[ :int(task/10) + 1]) : \n",
        "    v = np.array(x)\n",
        "    col = np.concatenate( (col,v), axis = None)\n",
        "    col = col.astype(int)\n",
        "  mean = None\n",
        "  total = 0.0\n",
        "  running_corrects = 0.0\n",
        "  for img, lbl, _ in train_loader:\n",
        "      img = img.float().to(params.DEVICE)\n",
        "      preds, mean = ICaRLModel.classify(img, exemplars, ICaRL, task, trainDS, mean)\n",
        "      preds = preds.to(params.DEVICE)\n",
        "      labels = utils.mapFunction(lbl, col).to(params.DEVICE)\n",
        "      #print(\"preds: \", preds.data)\n",
        "      #print(\"mapped labels: \", labels)\n",
        "      #print(\"labels: \", lbl)\n",
        "      total += len(lbl)\n",
        "      running_corrects += torch.sum(preds == labels.data).data.item()\n",
        "      #print(running_corrects)\n",
        "  accuracy = float(running_corrects/total)\n",
        "  print(f'task: {task}', f'train accuracy = {accuracy}')\n",
        "\n",
        "  total = 0.0\n",
        "  running_corrects = 0.0\n",
        "  for img, lbl, _ in test_loader:\n",
        "      img = img.float().to(params.DEVICE)\n",
        "      preds, _ = ICaRLModel.classify(img, exemplars, ICaRL, task, trainDS, mean)\n",
        "      preds = preds.to(params.DEVICE)\n",
        "      labels = utils.mapFunction(lbl, col).to(params.DEVICE)\n",
        "      #print(\"preds: \", preds.data)\n",
        "      #print(\"mapped labels: \", labels)\n",
        "      #print(\"labels: \", lbl)\n",
        "      total += len(lbl)\n",
        "      running_corrects += torch.sum(preds == labels.data).data.item()\n",
        "      #print(running_corrects)\n",
        "  accuracy = float(running_corrects/total)\n",
        "  print(f'task: {task}', f'test accuracy = {accuracy}')"
      ],
      "execution_count": null,
      "outputs": [
        {
          "output_type": "stream",
          "text": [
            "col =  [94 63 74 21 35 56 91 96 87 48]\n",
            "col[:10] [94 63 74 21 35 56 91 96 87 48]\n",
            "At step  0  and at epoch =  0  the loss is =  0.02831031195819378  and accuracy is =  0.1468\n",
            "At step  0  and at epoch =  1  the loss is =  0.029719891026616096  and accuracy is =  0.3536\n",
            "At step  0  and at epoch =  2  the loss is =  0.020482255145907402  and accuracy is =  0.4626\n",
            "At step  0  and at epoch =  3  the loss is =  0.023546457290649414  and accuracy is =  0.5134\n",
            "At step  0  and at epoch =  4  the loss is =  0.022952646017074585  and accuracy is =  0.5606\n",
            "At step  0  and at epoch =  5  the loss is =  0.02674838900566101  and accuracy is =  0.5912\n",
            "At step  0  and at epoch =  6  the loss is =  0.022412966936826706  and accuracy is =  0.6174\n",
            "At step  0  and at epoch =  7  the loss is =  0.020046290010213852  and accuracy is =  0.6502\n",
            "At step  0  and at epoch =  8  the loss is =  0.011683103628456593  and accuracy is =  0.647\n",
            "At step  0  and at epoch =  9  the loss is =  0.024492520838975906  and accuracy is =  0.7072\n",
            "At step  0  and at epoch =  10  the loss is =  0.019028227776288986  and accuracy is =  0.684\n",
            "At step  0  and at epoch =  11  the loss is =  0.01213077362626791  and accuracy is =  0.7088\n",
            "At step  0  and at epoch =  12  the loss is =  0.017505889758467674  and accuracy is =  0.7354\n",
            "At step  0  and at epoch =  13  the loss is =  0.021505827084183693  and accuracy is =  0.7452\n",
            "At step  0  and at epoch =  14  the loss is =  0.015916232019662857  and accuracy is =  0.759\n",
            "At step  0  and at epoch =  15  the loss is =  0.022107534110546112  and accuracy is =  0.7568\n",
            "At step  0  and at epoch =  16  the loss is =  0.016284896060824394  and accuracy is =  0.762\n",
            "At step  0  and at epoch =  17  the loss is =  0.004500371869653463  and accuracy is =  0.7784\n",
            "At step  0  and at epoch =  18  the loss is =  0.013946373015642166  and accuracy is =  0.808\n",
            "At step  0  and at epoch =  19  the loss is =  0.01912553608417511  and accuracy is =  0.8018\n",
            "At step  0  and at epoch =  20  the loss is =  0.004318777937442064  and accuracy is =  0.7886\n",
            "At step  0  and at epoch =  21  the loss is =  0.011272044852375984  and accuracy is =  0.8222\n",
            "At step  0  and at epoch =  22  the loss is =  0.013638060539960861  and accuracy is =  0.805\n",
            "At step  0  and at epoch =  23  the loss is =  0.013422677293419838  and accuracy is =  0.8096\n",
            "At step  0  and at epoch =  24  the loss is =  0.020910412073135376  and accuracy is =  0.8246\n",
            "At step  0  and at epoch =  25  the loss is =  0.00976051576435566  and accuracy is =  0.8044\n",
            "At step  0  and at epoch =  26  the loss is =  0.006127993110567331  and accuracy is =  0.8206\n",
            "At step  0  and at epoch =  27  the loss is =  0.015240482985973358  and accuracy is =  0.838\n",
            "At step  0  and at epoch =  28  the loss is =  0.012418422847986221  and accuracy is =  0.8506\n",
            "At step  0  and at epoch =  29  the loss is =  0.004963902290910482  and accuracy is =  0.8264\n",
            "At step  0  and at epoch =  30  the loss is =  0.021014804020524025  and accuracy is =  0.8504\n",
            "At step  0  and at epoch =  31  the loss is =  0.011518661864101887  and accuracy is =  0.8482\n",
            "At step  0  and at epoch =  32  the loss is =  0.012767617590725422  and accuracy is =  0.8566\n",
            "At step  0  and at epoch =  33  the loss is =  0.0013973560417070985  and accuracy is =  0.8606\n",
            "At step  0  and at epoch =  34  the loss is =  0.014064565300941467  and accuracy is =  0.8752\n",
            "At step  0  and at epoch =  35  the loss is =  0.005218568257987499  and accuracy is =  0.8502\n",
            "At step  0  and at epoch =  36  the loss is =  0.026199033483862877  and accuracy is =  0.8798\n",
            "At step  0  and at epoch =  37  the loss is =  0.009599368087947369  and accuracy is =  0.8582\n",
            "At step  0  and at epoch =  38  the loss is =  0.003088271012529731  and accuracy is =  0.8898\n",
            "At step  0  and at epoch =  39  the loss is =  0.015469641424715519  and accuracy is =  0.8952\n",
            "At step  0  and at epoch =  40  the loss is =  0.015352309681475163  and accuracy is =  0.881\n",
            "At step  0  and at epoch =  41  the loss is =  0.00934571586549282  and accuracy is =  0.8894\n",
            "At step  0  and at epoch =  42  the loss is =  0.0051293871365487576  and accuracy is =  0.8652\n",
            "At step  0  and at epoch =  43  the loss is =  0.012526816688477993  and accuracy is =  0.895\n",
            "At step  0  and at epoch =  44  the loss is =  0.002992281224578619  and accuracy is =  0.8956\n",
            "At step  0  and at epoch =  45  the loss is =  0.012223891913890839  and accuracy is =  0.8898\n",
            "At step  0  and at epoch =  46  the loss is =  0.007651780266314745  and accuracy is =  0.8934\n",
            "At step  0  and at epoch =  47  the loss is =  0.007277921307832003  and accuracy is =  0.9014\n",
            "At step  0  and at epoch =  48  the loss is =  0.013819854706525803  and accuracy is =  0.8966\n",
            "At step  0  and at epoch =  49  the loss is =  0.016063183546066284  and accuracy is =  0.8728\n",
            "At step  0  and at epoch =  50  the loss is =  0.0283795353025198  and accuracy is =  0.8934\n",
            "At step  0  and at epoch =  51  the loss is =  0.027752432972192764  and accuracy is =  0.851\n",
            "At step  0  and at epoch =  52  the loss is =  0.010703367181122303  and accuracy is =  0.8858\n",
            "At step  0  and at epoch =  53  the loss is =  0.004930977243930101  and accuracy is =  0.903\n",
            "At step  0  and at epoch =  54  the loss is =  0.010259701870381832  and accuracy is =  0.9064\n",
            "At step  0  and at epoch =  55  the loss is =  0.0016487031243741512  and accuracy is =  0.911\n",
            "At step  0  and at epoch =  56  the loss is =  0.010464301332831383  and accuracy is =  0.9282\n",
            "At step  0  and at epoch =  57  the loss is =  0.012352175079286098  and accuracy is =  0.8816\n",
            "At step  0  and at epoch =  58  the loss is =  0.009691988117992878  and accuracy is =  0.909\n",
            "At step  0  and at epoch =  59  the loss is =  0.013741440139710903  and accuracy is =  0.9058\n",
            "At step  0  and at epoch =  60  the loss is =  0.008994149044156075  and accuracy is =  0.9108\n",
            "At step  0  and at epoch =  61  the loss is =  0.009843498468399048  and accuracy is =  0.9032\n",
            "At step  0  and at epoch =  62  the loss is =  0.02552446350455284  and accuracy is =  0.907\n",
            "At step  0  and at epoch =  63  the loss is =  0.01217821054160595  and accuracy is =  0.9096\n",
            "At step  0  and at epoch =  64  the loss is =  0.0019253452774137259  and accuracy is =  0.9188\n",
            "At step  0  and at epoch =  65  the loss is =  0.015796326100826263  and accuracy is =  0.9408\n",
            "At step  0  and at epoch =  66  the loss is =  0.006603780668228865  and accuracy is =  0.9354\n",
            "At step  0  and at epoch =  67  the loss is =  0.01539488323032856  and accuracy is =  0.9356\n",
            "At step  0  and at epoch =  68  the loss is =  0.015249805524945259  and accuracy is =  0.9442\n",
            "At step  0  and at epoch =  69  the loss is =  0.011863899417221546  and accuracy is =  0.9134\n",
            "task: 0 train accuracy = 0.9098\n",
            "task: 0 test accuracy = 0.836\n",
            "col =  [94 63 74 21 35 56 91 96 87 48 68 80 22 37 60 97 51 62 92 76]\n",
            "col[:10] [94 63 74 21 35 56 91 96 87 48]\n",
            "At step  10  and at epoch =  0  the loss is =  0.0335683636367321  and accuracy is =  0.25606276747503565\n",
            "At step  10  and at epoch =  1  the loss is =  0.02495603822171688  and accuracy is =  0.32781740370898715\n",
            "At step  10  and at epoch =  2  the loss is =  0.023878883570432663  and accuracy is =  0.39885877318116975\n",
            "At step  10  and at epoch =  3  the loss is =  0.02395549602806568  and accuracy is =  0.4522111269614836\n",
            "At step  10  and at epoch =  4  the loss is =  0.0287290308624506  and accuracy is =  0.4898716119828816\n"
          ],
          "name": "stdout"
        }
      ]
    }
  ]
}