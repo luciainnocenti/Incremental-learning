{
  "nbformat": 4,
  "nbformat_minor": 0,
  "metadata": {
    "colab": {
      "name": "Copy of ICaRLMain.ipynb",
      "provenance": [],
      "collapsed_sections": [],
      "include_colab_link": true
    },
    "kernelspec": {
      "name": "python3",
      "display_name": "Python 3"
    },
    "accelerator": "GPU",
    "widgets": {
      "application/vnd.jupyter.widget-state+json": {
        "cf9ca8edfa4040dab43e9c5acc19ff20": {
          "model_module": "@jupyter-widgets/controls",
          "model_name": "HBoxModel",
          "state": {
            "_view_name": "HBoxView",
            "_dom_classes": [],
            "_model_name": "HBoxModel",
            "_view_module": "@jupyter-widgets/controls",
            "_model_module_version": "1.5.0",
            "_view_count": null,
            "_view_module_version": "1.5.0",
            "box_style": "",
            "layout": "IPY_MODEL_eca40f9f7e2e4441a774d4b1f8c5e2db",
            "_model_module": "@jupyter-widgets/controls",
            "children": [
              "IPY_MODEL_d462a0b9c8e249bdaaf9b3830fad4064",
              "IPY_MODEL_35c4a0e0753f43ab9d099db97f560c26"
            ]
          }
        },
        "eca40f9f7e2e4441a774d4b1f8c5e2db": {
          "model_module": "@jupyter-widgets/base",
          "model_name": "LayoutModel",
          "state": {
            "_view_name": "LayoutView",
            "grid_template_rows": null,
            "right": null,
            "justify_content": null,
            "_view_module": "@jupyter-widgets/base",
            "overflow": null,
            "_model_module_version": "1.2.0",
            "_view_count": null,
            "flex_flow": null,
            "width": null,
            "min_width": null,
            "border": null,
            "align_items": null,
            "bottom": null,
            "_model_module": "@jupyter-widgets/base",
            "top": null,
            "grid_column": null,
            "overflow_y": null,
            "overflow_x": null,
            "grid_auto_flow": null,
            "grid_area": null,
            "grid_template_columns": null,
            "flex": null,
            "_model_name": "LayoutModel",
            "justify_items": null,
            "grid_row": null,
            "max_height": null,
            "align_content": null,
            "visibility": null,
            "align_self": null,
            "height": null,
            "min_height": null,
            "padding": null,
            "grid_auto_rows": null,
            "grid_gap": null,
            "max_width": null,
            "order": null,
            "_view_module_version": "1.2.0",
            "grid_template_areas": null,
            "object_position": null,
            "object_fit": null,
            "grid_auto_columns": null,
            "margin": null,
            "display": null,
            "left": null
          }
        },
        "d462a0b9c8e249bdaaf9b3830fad4064": {
          "model_module": "@jupyter-widgets/controls",
          "model_name": "FloatProgressModel",
          "state": {
            "_view_name": "ProgressView",
            "style": "IPY_MODEL_899c6bb4aaf14967a61b2274bedf8c70",
            "_dom_classes": [],
            "description": "",
            "_model_name": "FloatProgressModel",
            "bar_style": "success",
            "max": 1,
            "_view_module": "@jupyter-widgets/controls",
            "_model_module_version": "1.5.0",
            "value": 1,
            "_view_count": null,
            "_view_module_version": "1.5.0",
            "orientation": "horizontal",
            "min": 0,
            "description_tooltip": null,
            "_model_module": "@jupyter-widgets/controls",
            "layout": "IPY_MODEL_57f3e44da2724dc189db49ddb197d42d"
          }
        },
        "35c4a0e0753f43ab9d099db97f560c26": {
          "model_module": "@jupyter-widgets/controls",
          "model_name": "HTMLModel",
          "state": {
            "_view_name": "HTMLView",
            "style": "IPY_MODEL_c2a8783267a341cc8047116fe85ff8af",
            "_dom_classes": [],
            "description": "",
            "_model_name": "HTMLModel",
            "placeholder": "​",
            "_view_module": "@jupyter-widgets/controls",
            "_model_module_version": "1.5.0",
            "value": " 169009152/? [00:07&lt;00:00, 22352323.78it/s]",
            "_view_count": null,
            "_view_module_version": "1.5.0",
            "description_tooltip": null,
            "_model_module": "@jupyter-widgets/controls",
            "layout": "IPY_MODEL_1577e249a6884489b1bc08bc0131b226"
          }
        },
        "899c6bb4aaf14967a61b2274bedf8c70": {
          "model_module": "@jupyter-widgets/controls",
          "model_name": "ProgressStyleModel",
          "state": {
            "_view_name": "StyleView",
            "_model_name": "ProgressStyleModel",
            "description_width": "initial",
            "_view_module": "@jupyter-widgets/base",
            "_model_module_version": "1.5.0",
            "_view_count": null,
            "_view_module_version": "1.2.0",
            "bar_color": null,
            "_model_module": "@jupyter-widgets/controls"
          }
        },
        "57f3e44da2724dc189db49ddb197d42d": {
          "model_module": "@jupyter-widgets/base",
          "model_name": "LayoutModel",
          "state": {
            "_view_name": "LayoutView",
            "grid_template_rows": null,
            "right": null,
            "justify_content": null,
            "_view_module": "@jupyter-widgets/base",
            "overflow": null,
            "_model_module_version": "1.2.0",
            "_view_count": null,
            "flex_flow": null,
            "width": null,
            "min_width": null,
            "border": null,
            "align_items": null,
            "bottom": null,
            "_model_module": "@jupyter-widgets/base",
            "top": null,
            "grid_column": null,
            "overflow_y": null,
            "overflow_x": null,
            "grid_auto_flow": null,
            "grid_area": null,
            "grid_template_columns": null,
            "flex": null,
            "_model_name": "LayoutModel",
            "justify_items": null,
            "grid_row": null,
            "max_height": null,
            "align_content": null,
            "visibility": null,
            "align_self": null,
            "height": null,
            "min_height": null,
            "padding": null,
            "grid_auto_rows": null,
            "grid_gap": null,
            "max_width": null,
            "order": null,
            "_view_module_version": "1.2.0",
            "grid_template_areas": null,
            "object_position": null,
            "object_fit": null,
            "grid_auto_columns": null,
            "margin": null,
            "display": null,
            "left": null
          }
        },
        "c2a8783267a341cc8047116fe85ff8af": {
          "model_module": "@jupyter-widgets/controls",
          "model_name": "DescriptionStyleModel",
          "state": {
            "_view_name": "StyleView",
            "_model_name": "DescriptionStyleModel",
            "description_width": "",
            "_view_module": "@jupyter-widgets/base",
            "_model_module_version": "1.5.0",
            "_view_count": null,
            "_view_module_version": "1.2.0",
            "_model_module": "@jupyter-widgets/controls"
          }
        },
        "1577e249a6884489b1bc08bc0131b226": {
          "model_module": "@jupyter-widgets/base",
          "model_name": "LayoutModel",
          "state": {
            "_view_name": "LayoutView",
            "grid_template_rows": null,
            "right": null,
            "justify_content": null,
            "_view_module": "@jupyter-widgets/base",
            "overflow": null,
            "_model_module_version": "1.2.0",
            "_view_count": null,
            "flex_flow": null,
            "width": null,
            "min_width": null,
            "border": null,
            "align_items": null,
            "bottom": null,
            "_model_module": "@jupyter-widgets/base",
            "top": null,
            "grid_column": null,
            "overflow_y": null,
            "overflow_x": null,
            "grid_auto_flow": null,
            "grid_area": null,
            "grid_template_columns": null,
            "flex": null,
            "_model_name": "LayoutModel",
            "justify_items": null,
            "grid_row": null,
            "max_height": null,
            "align_content": null,
            "visibility": null,
            "align_self": null,
            "height": null,
            "min_height": null,
            "padding": null,
            "grid_auto_rows": null,
            "grid_gap": null,
            "max_width": null,
            "order": null,
            "_view_module_version": "1.2.0",
            "grid_template_areas": null,
            "object_position": null,
            "object_fit": null,
            "grid_auto_columns": null,
            "margin": null,
            "display": null,
            "left": null
          }
        }
      }
    }
  },
  "cells": [
    {
      "cell_type": "markdown",
      "metadata": {
        "id": "view-in-github",
        "colab_type": "text"
      },
      "source": [
        "<a href=\"https://colab.research.google.com/github/luciainnocenti/IncrementalLearning/blob/improvement_Lucia2/ICaRLMain.ipynb\" target=\"_parent\"><img src=\"https://colab.research.google.com/assets/colab-badge.svg\" alt=\"Open In Colab\"/></a>"
      ]
    },
    {
      "cell_type": "markdown",
      "metadata": {
        "id": "OLMLAOPyrR1K",
        "colab_type": "text"
      },
      "source": [
        "# Import GitHub repository"
      ]
    },
    {
      "cell_type": "code",
      "metadata": {
        "id": "3LqwZJLUlcYH",
        "colab_type": "code",
        "colab": {}
      },
      "source": [
        "import os\n",
        "import logging\n",
        "import sys"
      ],
      "execution_count": 1,
      "outputs": []
    },
    {
      "cell_type": "code",
      "metadata": {
        "id": "PVa_FlnxrXIk",
        "colab_type": "code",
        "colab": {
          "base_uri": "https://localhost:8080/",
          "height": 146
        },
        "outputId": "9af9def7-12ef-41a3-ad09-78415a4842e6"
      },
      "source": [
        "if not os.path.isdir('./DatasetCIFAR'):\n",
        "  !git clone -b improvement_Lucia2 https://github.com/luciainnocenti/IncrementalLearning.git\n",
        "  !mv 'IncrementalLearning' 'DatasetCIFAR'"
      ],
      "execution_count": 2,
      "outputs": [
        {
          "output_type": "stream",
          "text": [
            "Cloning into 'IncrementalLearning'...\n",
            "remote: Enumerating objects: 95, done.\u001b[K\n",
            "remote: Counting objects:   1% (1/95)\u001b[K\rremote: Counting objects:   2% (2/95)\u001b[K\rremote: Counting objects:   3% (3/95)\u001b[K\rremote: Counting objects:   4% (4/95)\u001b[K\rremote: Counting objects:   5% (5/95)\u001b[K\rremote: Counting objects:   6% (6/95)\u001b[K\rremote: Counting objects:   7% (7/95)\u001b[K\rremote: Counting objects:   8% (8/95)\u001b[K\rremote: Counting objects:   9% (9/95)\u001b[K\rremote: Counting objects:  10% (10/95)\u001b[K\rremote: Counting objects:  11% (11/95)\u001b[K\rremote: Counting objects:  12% (12/95)\u001b[K\rremote: Counting objects:  13% (13/95)\u001b[K\rremote: Counting objects:  14% (14/95)\u001b[K\rremote: Counting objects:  15% (15/95)\u001b[K\rremote: Counting objects:  16% (16/95)\u001b[K\rremote: Counting objects:  17% (17/95)\u001b[K\rremote: Counting objects:  18% (18/95)\u001b[K\rremote: Counting objects:  20% (19/95)\u001b[K\rremote: Counting objects:  21% (20/95)\u001b[K\rremote: Counting objects:  22% (21/95)\u001b[K\rremote: Counting objects:  23% (22/95)\u001b[K\rremote: Counting objects:  24% (23/95)\u001b[K\rremote: Counting objects:  25% (24/95)\u001b[K\rremote: Counting objects:  26% (25/95)\u001b[K\rremote: Counting objects:  27% (26/95)\u001b[K\rremote: Counting objects:  28% (27/95)\u001b[K\rremote: Counting objects:  29% (28/95)\u001b[K\rremote: Counting objects:  30% (29/95)\u001b[K\rremote: Counting objects:  31% (30/95)\u001b[K\rremote: Counting objects:  32% (31/95)\u001b[K\rremote: Counting objects:  33% (32/95)\u001b[K\rremote: Counting objects:  34% (33/95)\u001b[K\rremote: Counting objects:  35% (34/95)\u001b[K\rremote: Counting objects:  36% (35/95)\u001b[K\rremote: Counting objects:  37% (36/95)\u001b[K\rremote: Counting objects:  38% (37/95)\u001b[K\rremote: Counting objects:  40% (38/95)\u001b[K\rremote: Counting objects:  41% (39/95)\u001b[K\rremote: Counting objects:  42% (40/95)\u001b[K\rremote: Counting objects:  43% (41/95)\u001b[K\rremote: Counting objects:  44% (42/95)\u001b[K\rremote: Counting objects:  45% (43/95)\u001b[K\rremote: Counting objects:  46% (44/95)\u001b[K\rremote: Counting objects:  47% (45/95)\u001b[K\rremote: Counting objects:  48% (46/95)\u001b[K\rremote: Counting objects:  49% (47/95)\u001b[K\rremote: Counting objects:  50% (48/95)\u001b[K\rremote: Counting objects:  51% (49/95)\u001b[K\rremote: Counting objects:  52% (50/95)\u001b[K\rremote: Counting objects:  53% (51/95)\u001b[K\rremote: Counting objects:  54% (52/95)\u001b[K\rremote: Counting objects:  55% (53/95)\u001b[K\rremote: Counting objects:  56% (54/95)\u001b[K\rremote: Counting objects:  57% (55/95)\u001b[K\rremote: Counting objects:  58% (56/95)\u001b[K\rremote: Counting objects:  60% (57/95)\u001b[K\rremote: Counting objects:  61% (58/95)\u001b[K\rremote: Counting objects:  62% (59/95)\u001b[K\rremote: Counting objects:  63% (60/95)\u001b[K\rremote: Counting objects:  64% (61/95)\u001b[K\rremote: Counting objects:  65% (62/95)\u001b[K\rremote: Counting objects:  66% (63/95)\u001b[K\rremote: Counting objects:  67% (64/95)\u001b[K\rremote: Counting objects:  68% (65/95)\u001b[K\rremote: Counting objects:  69% (66/95)\u001b[K\rremote: Counting objects:  70% (67/95)\u001b[K\rremote: Counting objects:  71% (68/95)\u001b[K\rremote: Counting objects:  72% (69/95)\u001b[K\rremote: Counting objects:  73% (70/95)\u001b[K\rremote: Counting objects:  74% (71/95)\u001b[K\rremote: Counting objects:  75% (72/95)\u001b[K\rremote: Counting objects:  76% (73/95)\u001b[K\rremote: Counting objects:  77% (74/95)\u001b[K\rremote: Counting objects:  78% (75/95)\u001b[K\rremote: Counting objects:  80% (76/95)\u001b[K\rremote: Counting objects:  81% (77/95)\u001b[K\rremote: Counting objects:  82% (78/95)\u001b[K\rremote: Counting objects:  83% (79/95)\u001b[K\rremote: Counting objects:  84% (80/95)\u001b[K\rremote: Counting objects:  85% (81/95)\u001b[K\rremote: Counting objects:  86% (82/95)\u001b[K\rremote: Counting objects:  87% (83/95)\u001b[K\rremote: Counting objects:  88% (84/95)\u001b[K\rremote: Counting objects:  89% (85/95)\u001b[K\rremote: Counting objects:  90% (86/95)\u001b[K\rremote: Counting objects:  91% (87/95)\u001b[K\rremote: Counting objects:  92% (88/95)\u001b[K\rremote: Counting objects:  93% (89/95)\u001b[K\rremote: Counting objects:  94% (90/95)\u001b[K\rremote: Counting objects:  95% (91/95)\u001b[K\rremote: Counting objects:  96% (92/95)\u001b[K\rremote: Counting objects:  97% (93/95)\u001b[K\rremote: Counting objects:  98% (94/95)\u001b[K\rremote: Counting objects: 100% (95/95)\u001b[K\rremote: Counting objects: 100% (95/95), done.\u001b[K\n",
            "remote: Compressing objects: 100% (95/95), done.\u001b[K\n",
            "remote: Total 2148 (delta 57), reused 0 (delta 0), pack-reused 2053\u001b[K\n",
            "Receiving objects: 100% (2148/2148), 2.54 MiB | 6.81 MiB/s, done.\n",
            "Resolving deltas: 100% (1372/1372), done.\n"
          ],
          "name": "stdout"
        }
      ]
    },
    {
      "cell_type": "markdown",
      "metadata": {
        "id": "XXQyHMXzrZ5A",
        "colab_type": "text"
      },
      "source": [
        "# Import packages"
      ]
    },
    {
      "cell_type": "code",
      "metadata": {
        "id": "c24pdNxurdv1",
        "colab_type": "code",
        "colab": {
          "base_uri": "https://localhost:8080/",
          "height": 74
        },
        "outputId": "064a6b66-1aba-4793-f385-ce0dca22907a"
      },
      "source": [
        "from DatasetCIFAR.data_set import Dataset \n",
        "from DatasetCIFAR.data_set import Subset\n",
        "from DatasetCIFAR import ResNet\n",
        "from DatasetCIFAR import utils\n",
        "from DatasetCIFAR import params\n",
        "from DatasetCIFAR import ICaRLModel\n",
        "from torchvision import models\n",
        "import torch.nn as nn\n",
        "import torch\n",
        "import torch.optim as optim\n",
        "import torchvision\n",
        "import numpy as np\n",
        "import seaborn as sn\n",
        "import pandas as pd\n",
        "import matplotlib.pyplot as plt\n",
        "from sklearn.metrics import confusion_matrix\n",
        "\n",
        "from torchvision import transforms\n",
        "from torch.utils.data import DataLoader\n",
        "from torch.nn import functional as F\n",
        "import random\n",
        "random.seed(params.SEED)"
      ],
      "execution_count": 3,
      "outputs": [
        {
          "output_type": "stream",
          "text": [
            "/usr/local/lib/python3.6/dist-packages/statsmodels/tools/_testing.py:19: FutureWarning: pandas.util.testing is deprecated. Use the functions in the public API at pandas.testing instead.\n",
            "  import pandas.util.testing as tm\n"
          ],
          "name": "stderr"
        }
      ]
    },
    {
      "cell_type": "code",
      "metadata": {
        "id": "r2rkcBbIKfUQ",
        "colab_type": "code",
        "colab": {
          "base_uri": "https://localhost:8080/",
          "height": 54
        },
        "outputId": "13672a29-6904-4c71-9efb-7c4b342a625b"
      },
      "source": [
        "print(params.SEED)\n",
        "print(params.NUM_WORKERS)"
      ],
      "execution_count": 4,
      "outputs": [
        {
          "output_type": "stream",
          "text": [
            "653\n",
            "4\n"
          ],
          "name": "stdout"
        }
      ]
    },
    {
      "cell_type": "markdown",
      "metadata": {
        "id": "1FlAkShyryrf",
        "colab_type": "text"
      },
      "source": [
        "# Define Datasets"
      ]
    },
    {
      "cell_type": "code",
      "metadata": {
        "id": "AP2iR2vl3Wiz",
        "colab_type": "code",
        "colab": {}
      },
      "source": [
        "train_transformer = transforms.Compose([transforms.RandomCrop(size = 32, padding=4),\n",
        "                                         transforms.RandomHorizontalFlip(),\n",
        "                                         transforms.ToTensor(),\n",
        "                                         transforms.Normalize((0.5, 0.5, 0.5), (0.5, 0.5, 0.5))\n",
        "])\n",
        "\n",
        "test_transformer = transforms.Compose([transforms.ToTensor(),\n",
        "                                         transforms.Normalize((0.5, 0.5, 0.5), (0.5, 0.5, 0.5))\n",
        "])"
      ],
      "execution_count": 5,
      "outputs": []
    },
    {
      "cell_type": "code",
      "metadata": {
        "id": "1CSNk0NlrvAL",
        "colab_type": "code",
        "colab": {
          "base_uri": "https://localhost:8080/",
          "height": 104,
          "referenced_widgets": [
            "cf9ca8edfa4040dab43e9c5acc19ff20",
            "eca40f9f7e2e4441a774d4b1f8c5e2db",
            "d462a0b9c8e249bdaaf9b3830fad4064",
            "35c4a0e0753f43ab9d099db97f560c26",
            "899c6bb4aaf14967a61b2274bedf8c70",
            "57f3e44da2724dc189db49ddb197d42d",
            "c2a8783267a341cc8047116fe85ff8af",
            "1577e249a6884489b1bc08bc0131b226"
          ]
        },
        "outputId": "52c45329-9ae2-425e-e61a-bdd455a8c020"
      },
      "source": [
        "trainDS = Dataset(train=True)\n",
        "testDS = Dataset(train=False)"
      ],
      "execution_count": 6,
      "outputs": [
        {
          "output_type": "stream",
          "text": [
            "Downloading https://www.cs.toronto.edu/~kriz/cifar-100-python.tar.gz to data/cifar-100-python.tar.gz\n"
          ],
          "name": "stdout"
        },
        {
          "output_type": "display_data",
          "data": {
            "application/vnd.jupyter.widget-view+json": {
              "model_id": "cf9ca8edfa4040dab43e9c5acc19ff20",
              "version_minor": 0,
              "version_major": 2
            },
            "text/plain": [
              "HBox(children=(FloatProgress(value=1.0, bar_style='info', max=1.0), HTML(value='')))"
            ]
          },
          "metadata": {
            "tags": []
          }
        },
        {
          "output_type": "stream",
          "text": [
            "Extracting data/cifar-100-python.tar.gz to data\n",
            "Files already downloaded and verified\n"
          ],
          "name": "stdout"
        }
      ]
    },
    {
      "cell_type": "code",
      "metadata": {
        "id": "W3ge3VayryJL",
        "colab_type": "code",
        "colab": {}
      },
      "source": [
        "train_splits = trainDS.splits\n",
        "test_splits = testDS.splits"
      ],
      "execution_count": 7,
      "outputs": []
    },
    {
      "cell_type": "markdown",
      "metadata": {
        "id": "AzxTlFF_rkfe",
        "colab_type": "text"
      },
      "source": [
        "# Define Network"
      ]
    },
    {
      "cell_type": "code",
      "metadata": {
        "id": "rgZtPkiPrmQK",
        "colab_type": "code",
        "colab": {
          "base_uri": "https://localhost:8080/",
          "height": 35
        },
        "outputId": "70631006-df53-43bf-8031-e5ac2bed0470"
      },
      "source": [
        "ICaRL = ResNet.resnet32(num_classes=100)\n",
        "ICaRL =  ICaRL.to(params.DEVICE)"
      ],
      "execution_count": 8,
      "outputs": [
        {
          "output_type": "stream",
          "text": [
            "\n"
          ],
          "name": "stdout"
        }
      ]
    },
    {
      "cell_type": "code",
      "metadata": {
        "id": "CI8EyFmpOikN",
        "colab_type": "code",
        "colab": {}
      },
      "source": [
        "exemplars = [None]*100\n",
        "\n",
        "test_indexes =  []\n",
        "accs = []"
      ],
      "execution_count": 9,
      "outputs": []
    },
    {
      "cell_type": "code",
      "metadata": {
        "id": "fcFjbBGrOMz6",
        "colab_type": "code",
        "colab": {
          "base_uri": "https://localhost:8080/",
          "height": 1000
        },
        "outputId": "ce63befe-597d-40d3-88c8-8da30fedf957"
      },
      "source": [
        "for task in range(0, 100, params.TASK_SIZE):\n",
        "  train_indexes = trainDS.__getIndexesGroups__(task)\n",
        "  test_indexes = test_indexes + testDS.__getIndexesGroups__(task)\n",
        "\n",
        "  train_dataset = Subset(trainDS, train_indexes, transform = train_transformer)\n",
        "  test_dataset = Subset(testDS, test_indexes, transform = test_transformer)\n",
        "\n",
        "  train_loader = DataLoader( train_dataset, num_workers=params.NUM_WORKERS, batch_size=params.BATCH_SIZE, shuffle=True)\n",
        "  test_loader = DataLoader( test_dataset, num_workers=params.NUM_WORKERS, batch_size=params.BATCH_SIZE , shuffle=True )\n",
        "  \n",
        "  ICaRL, exemplars = ICaRLModel.incrementalTrain(task, trainDS, ICaRL, exemplars, train_transformer)\n",
        "\n",
        "  col = []\n",
        "  for i,x in enumerate( train_splits[ :int(task/10) + 1]) : \n",
        "    v = np.array(x)\n",
        "    col = np.concatenate( (col,v), axis = None)\n",
        "    col = col.astype(int)\n",
        "  mean = None\n",
        "  total = 0.0\n",
        "  running_corrects = 0.0\n",
        "  for img, lbl, _ in train_loader:\n",
        "      img = img.float().to(params.DEVICE)\n",
        "      preds, mean = ICaRLModel.classify(img, exemplars, ICaRL, task, trainDS, mean)\n",
        "      preds = preds.to(params.DEVICE)\n",
        "      labels = utils.mapFunction(lbl, col).to(params.DEVICE)\n",
        "\n",
        "      total += len(lbl)\n",
        "      running_corrects += torch.sum(preds == labels.data).data.item()\n",
        "\n",
        "  accuracy = float(running_corrects/total)\n",
        "  print(f'task: {task}', f'train accuracy = {accuracy}')\n",
        "  accs.append(accuracy)\n",
        "\n",
        "  total = 0.0\n",
        "  running_corrects = 0.0\n",
        "  tot_preds = []\n",
        "  tot_lab = []\n",
        "  for img, lbl, _ in test_loader:\n",
        "      img = img.float().to(params.DEVICE)\n",
        "      preds, _ = ICaRLModel.classify(img, exemplars, ICaRL, task, trainDS, mean)\n",
        "      preds = preds.to(params.DEVICE)\n",
        "      labels = utils.mapFunction(lbl, col).to(params.DEVICE)\n",
        "\n",
        "      tot_preds = np.concatenate( ( tot_preds, preds.data.cpu().numpy() ) )\n",
        "      tot_lab = np.concatenate( (tot_lab, labels.data.cpu().numpy()  ) )\n",
        "\n",
        "      total += len(lbl)\n",
        "      running_corrects += torch.sum(preds == labels.data).data.item()\n",
        "\n",
        "  accuracy = float(running_corrects/total)\n",
        "  print(f'task: {task}', f'test accuracy = {accuracy}')\n",
        "  cf = confusion_matrix(tot_lab, tot_preds)\n",
        "  df_cm = pd.DataFrame(cf, range(task + params.TASK_SIZE), range(task + params.TASK_SIZE))\n",
        "  sn.set(font_scale = .5) # for label size\n",
        "  sn.heatmap(df_cm, annot=False)\n",
        "  plt.show()"
      ],
      "execution_count": null,
      "outputs": [
        {
          "output_type": "stream",
          "text": [
            "At step  0  and at epoch =  0  the loss is =  0.03553874418139458  and accuracy is =  0.1512\n",
            "At step  0  and at epoch =  1  the loss is =  0.035814277827739716  and accuracy is =  0.3658\n",
            "At step  0  and at epoch =  2  the loss is =  0.019422875717282295  and accuracy is =  0.4394\n",
            "At step  0  and at epoch =  3  the loss is =  0.01824834942817688  and accuracy is =  0.504\n",
            "At step  0  and at epoch =  4  the loss is =  0.02295566536486149  and accuracy is =  0.5522\n",
            "At step  0  and at epoch =  5  the loss is =  0.02002432383596897  and accuracy is =  0.5826\n",
            "At step  0  and at epoch =  6  the loss is =  0.019542668014764786  and accuracy is =  0.5884\n",
            "At step  0  and at epoch =  7  the loss is =  0.01539906021207571  and accuracy is =  0.6504\n",
            "At step  0  and at epoch =  8  the loss is =  0.022105002775788307  and accuracy is =  0.669\n",
            "At step  0  and at epoch =  9  the loss is =  0.013011856004595757  and accuracy is =  0.6736\n",
            "At step  0  and at epoch =  10  the loss is =  0.012887015007436275  and accuracy is =  0.7076\n",
            "At step  0  and at epoch =  11  the loss is =  0.012726008892059326  and accuracy is =  0.7252\n",
            "At step  0  and at epoch =  12  the loss is =  0.017366498708724976  and accuracy is =  0.7182\n",
            "At step  0  and at epoch =  13  the loss is =  0.0321926586329937  and accuracy is =  0.7452\n",
            "At step  0  and at epoch =  14  the loss is =  0.02105696313083172  and accuracy is =  0.7456\n",
            "At step  0  and at epoch =  15  the loss is =  0.013882115483283997  and accuracy is =  0.7668\n",
            "At step  0  and at epoch =  16  the loss is =  0.02514495700597763  and accuracy is =  0.7704\n",
            "At step  0  and at epoch =  17  the loss is =  0.009157001040875912  and accuracy is =  0.7756\n",
            "At step  0  and at epoch =  18  the loss is =  0.014643650501966476  and accuracy is =  0.7972\n",
            "At step  0  and at epoch =  19  the loss is =  0.024600187316536903  and accuracy is =  0.8018\n",
            "At step  0  and at epoch =  20  the loss is =  0.015999021008610725  and accuracy is =  0.7904\n",
            "At step  0  and at epoch =  21  the loss is =  0.016549834981560707  and accuracy is =  0.8094\n",
            "At step  0  and at epoch =  22  the loss is =  0.006877816282212734  and accuracy is =  0.8094\n",
            "At step  0  and at epoch =  23  the loss is =  0.00656749727204442  and accuracy is =  0.8316\n",
            "At step  0  and at epoch =  24  the loss is =  0.007575100287795067  and accuracy is =  0.846\n",
            "At step  0  and at epoch =  25  the loss is =  0.013568859547376633  and accuracy is =  0.8364\n",
            "At step  0  and at epoch =  26  the loss is =  0.013299026526510715  and accuracy is =  0.8438\n",
            "At step  0  and at epoch =  27  the loss is =  0.009451665915548801  and accuracy is =  0.8334\n",
            "At step  0  and at epoch =  28  the loss is =  0.007705232128500938  and accuracy is =  0.8404\n",
            "At step  0  and at epoch =  29  the loss is =  0.0070644281804561615  and accuracy is =  0.8436\n",
            "At step  0  and at epoch =  30  the loss is =  0.021773409098386765  and accuracy is =  0.8642\n",
            "At step  0  and at epoch =  31  the loss is =  0.009029018692672253  and accuracy is =  0.8434\n",
            "At step  0  and at epoch =  32  the loss is =  0.007300083059817553  and accuracy is =  0.8566\n",
            "At step  0  and at epoch =  33  the loss is =  0.014701913110911846  and accuracy is =  0.873\n",
            "At step  0  and at epoch =  34  the loss is =  0.003282564226537943  and accuracy is =  0.8652\n",
            "At step  0  and at epoch =  35  the loss is =  0.009790253825485706  and accuracy is =  0.893\n",
            "At step  0  and at epoch =  36  the loss is =  0.010050156153738499  and accuracy is =  0.8822\n",
            "At step  0  and at epoch =  37  the loss is =  0.02289130724966526  and accuracy is =  0.867\n",
            "At step  0  and at epoch =  38  the loss is =  0.010892597027122974  and accuracy is =  0.8646\n",
            "At step  0  and at epoch =  39  the loss is =  0.01724374108016491  and accuracy is =  0.8858\n",
            "At step  0  and at epoch =  40  the loss is =  0.0021742486860603094  and accuracy is =  0.849\n",
            "At step  0  and at epoch =  41  the loss is =  0.014006691984832287  and accuracy is =  0.8938\n",
            "At step  0  and at epoch =  42  the loss is =  0.0029370966367423534  and accuracy is =  0.8998\n",
            "At step  0  and at epoch =  43  the loss is =  0.010610339231789112  and accuracy is =  0.9076\n",
            "At step  0  and at epoch =  44  the loss is =  0.0010271862847730517  and accuracy is =  0.8984\n",
            "At step  0  and at epoch =  45  the loss is =  0.001902818912640214  and accuracy is =  0.9094\n",
            "At step  0  and at epoch =  46  the loss is =  0.001579705043695867  and accuracy is =  0.9092\n",
            "At step  0  and at epoch =  47  the loss is =  0.014054826460778713  and accuracy is =  0.9046\n",
            "At step  0  and at epoch =  48  the loss is =  0.01810675859451294  and accuracy is =  0.8816\n",
            "At step  0  and at epoch =  49  the loss is =  0.01704069972038269  and accuracy is =  0.9126\n",
            "At step  0  and at epoch =  50  the loss is =  0.01658015511929989  and accuracy is =  0.9394\n",
            "At step  0  and at epoch =  51  the loss is =  0.0017135108355432749  and accuracy is =  0.9476\n",
            "At step  0  and at epoch =  52  the loss is =  0.0150122856721282  and accuracy is =  0.9604\n",
            "At step  0  and at epoch =  53  the loss is =  0.012522909790277481  and accuracy is =  0.9496\n",
            "At step  0  and at epoch =  54  the loss is =  0.016760634258389473  and accuracy is =  0.953\n",
            "At step  0  and at epoch =  55  the loss is =  0.03058752790093422  and accuracy is =  0.949\n",
            "At step  0  and at epoch =  56  the loss is =  0.0007279495475813746  and accuracy is =  0.958\n",
            "At step  0  and at epoch =  57  the loss is =  0.0022747081238776445  and accuracy is =  0.968\n",
            "At step  0  and at epoch =  58  the loss is =  0.003945691976696253  and accuracy is =  0.9664\n",
            "At step  0  and at epoch =  59  the loss is =  0.01593680866062641  and accuracy is =  0.9584\n",
            "At step  0  and at epoch =  60  the loss is =  0.011707098223268986  and accuracy is =  0.9532\n",
            "At step  0  and at epoch =  61  the loss is =  0.004325394053012133  and accuracy is =  0.9688\n",
            "At step  0  and at epoch =  62  the loss is =  0.010154010728001595  and accuracy is =  0.9696\n",
            "At step  0  and at epoch =  63  the loss is =  0.00824408233165741  and accuracy is =  0.9716\n",
            "At step  0  and at epoch =  64  the loss is =  0.005029402673244476  and accuracy is =  0.976\n",
            "At step  0  and at epoch =  65  the loss is =  0.00484818359836936  and accuracy is =  0.975\n",
            "At step  0  and at epoch =  66  the loss is =  0.015966003760695457  and accuracy is =  0.98\n",
            "At step  0  and at epoch =  67  the loss is =  0.009546599350869656  and accuracy is =  0.9794\n",
            "At step  0  and at epoch =  68  the loss is =  0.0005449756281450391  and accuracy is =  0.9796\n",
            "At step  0  and at epoch =  69  the loss is =  0.0023475477937608957  and accuracy is =  0.9772\n",
            "task: 0 train accuracy = 0.9846\n",
            "task: 0 test accuracy = 0.895\n"
          ],
          "name": "stdout"
        },
        {
          "output_type": "display_data",
          "data": {
            "image/png": "[encoded data removed]",
            "text/plain": [
              "<Figure size 432x288 with 2 Axes>"
            ]
          },
          "metadata": {
            "tags": []
          }
        },
        {
          "output_type": "stream",
          "text": [
            "At step  10  and at epoch =  0  the loss is =  0.029056577011942863  and accuracy is =  0.30328571428571427\n",
            "At step  10  and at epoch =  1  the loss is =  0.028877992182970047  and accuracy is =  0.39\n",
            "At step  10  and at epoch =  2  the loss is =  0.02777109481394291  and accuracy is =  0.4897142857142857\n",
            "At step  10  and at epoch =  3  the loss is =  0.0241326205432415  and accuracy is =  0.5358571428571428\n",
            "At step  10  and at epoch =  4  the loss is =  0.023878006264567375  and accuracy is =  0.5781428571428572\n",
            "At step  10  and at epoch =  5  the loss is =  0.027481786906719208  and accuracy is =  0.6087142857142858\n",
            "At step  10  and at epoch =  6  the loss is =  0.02515465021133423  and accuracy is =  0.6307142857142857\n",
            "At step  10  and at epoch =  7  the loss is =  0.018982505425810814  and accuracy is =  0.6435714285714286\n",
            "At step  10  and at epoch =  8  the loss is =  0.027352523058652878  and accuracy is =  0.6634285714285715\n",
            "At step  10  and at epoch =  9  the loss is =  0.02202901802957058  and accuracy is =  0.6837142857142857\n",
            "At step  10  and at epoch =  10  the loss is =  0.021063264459371567  and accuracy is =  0.6915714285714286\n",
            "At step  10  and at epoch =  11  the loss is =  0.02272932603955269  and accuracy is =  0.695\n",
            "At step  10  and at epoch =  12  the loss is =  0.022787433117628098  and accuracy is =  0.7061428571428572\n",
            "At step  10  and at epoch =  13  the loss is =  0.022157687693834305  and accuracy is =  0.7278571428571429\n",
            "At step  10  and at epoch =  14  the loss is =  0.02094319649040699  and accuracy is =  0.7327142857142858\n",
            "At step  10  and at epoch =  15  the loss is =  0.021433379501104355  and accuracy is =  0.7437142857142857\n",
            "At step  10  and at epoch =  16  the loss is =  0.021155867725610733  and accuracy is =  0.7438571428571429\n",
            "At step  10  and at epoch =  17  the loss is =  0.018661851063370705  and accuracy is =  0.7474285714285714\n",
            "At step  10  and at epoch =  18  the loss is =  0.0188183281570673  and accuracy is =  0.7654285714285715\n",
            "At step  10  and at epoch =  19  the loss is =  0.019124090671539307  and accuracy is =  0.7495714285714286\n",
            "At step  10  and at epoch =  20  the loss is =  0.020907562226057053  and accuracy is =  0.7685714285714286\n",
            "At step  10  and at epoch =  21  the loss is =  0.016129983589053154  and accuracy is =  0.7722857142857142\n",
            "At step  10  and at epoch =  22  the loss is =  0.021219100803136826  and accuracy is =  0.7734285714285715\n",
            "At step  10  and at epoch =  23  the loss is =  0.01870962604880333  and accuracy is =  0.7872857142857143\n",
            "At step  10  and at epoch =  24  the loss is =  0.0189632847905159  and accuracy is =  0.786\n",
            "At step  10  and at epoch =  25  the loss is =  0.01702764257788658  and accuracy is =  0.794\n",
            "At step  10  and at epoch =  26  the loss is =  0.02099967934191227  and accuracy is =  0.8048571428571428\n",
            "At step  10  and at epoch =  27  the loss is =  0.01867758110165596  and accuracy is =  0.8118571428571428\n",
            "At step  10  and at epoch =  28  the loss is =  0.020649036392569542  and accuracy is =  0.809\n",
            "At step  10  and at epoch =  29  the loss is =  0.017471518367528915  and accuracy is =  0.8162857142857143\n",
            "At step  10  and at epoch =  30  the loss is =  0.01661933958530426  and accuracy is =  0.8195714285714286\n",
            "At step  10  and at epoch =  31  the loss is =  0.015932511538267136  and accuracy is =  0.8078571428571428\n",
            "At step  10  and at epoch =  32  the loss is =  0.019742708653211594  and accuracy is =  0.8165714285714286\n",
            "At step  10  and at epoch =  33  the loss is =  0.015675978735089302  and accuracy is =  0.8248571428571428\n",
            "At step  10  and at epoch =  34  the loss is =  0.015979554504156113  and accuracy is =  0.8258571428571428\n",
            "At step  10  and at epoch =  35  the loss is =  0.015775132924318314  and accuracy is =  0.8257142857142857\n",
            "At step  10  and at epoch =  36  the loss is =  0.016188377514481544  and accuracy is =  0.8341428571428572\n",
            "At step  10  and at epoch =  37  the loss is =  0.01647232659161091  and accuracy is =  0.831\n",
            "At step  10  and at epoch =  38  the loss is =  0.016250424087047577  and accuracy is =  0.8395714285714285\n",
            "At step  10  and at epoch =  39  the loss is =  0.018554091453552246  and accuracy is =  0.8491428571428571\n",
            "At step  10  and at epoch =  40  the loss is =  0.01637236773967743  and accuracy is =  0.8462857142857143\n",
            "At step  10  and at epoch =  41  the loss is =  0.01476833876222372  and accuracy is =  0.8482857142857143\n",
            "At step  10  and at epoch =  42  the loss is =  0.015160417184233665  and accuracy is =  0.8527142857142858\n",
            "At step  10  and at epoch =  43  the loss is =  0.017994629219174385  and accuracy is =  0.8508571428571429\n",
            "At step  10  and at epoch =  44  the loss is =  0.017007866874337196  and accuracy is =  0.8417142857142857\n",
            "At step  10  and at epoch =  45  the loss is =  0.015930602326989174  and accuracy is =  0.8592857142857143\n",
            "At step  10  and at epoch =  46  the loss is =  0.014738237485289574  and accuracy is =  0.8505714285714285\n",
            "At step  10  and at epoch =  47  the loss is =  0.01753607951104641  and accuracy is =  0.8561428571428571\n",
            "At step  10  and at epoch =  48  the loss is =  0.01340305432677269  and accuracy is =  0.863\n",
            "At step  10  and at epoch =  49  the loss is =  0.01434354204684496  and accuracy is =  0.8945714285714286\n",
            "At step  10  and at epoch =  50  the loss is =  0.01259902585297823  and accuracy is =  0.91\n",
            "At step  10  and at epoch =  51  the loss is =  0.013998577371239662  and accuracy is =  0.9204285714285714\n",
            "At step  10  and at epoch =  52  the loss is =  0.011340567842125893  and accuracy is =  0.9214285714285714\n",
            "At step  10  and at epoch =  53  the loss is =  0.013319462537765503  and accuracy is =  0.9191428571428572\n",
            "At step  10  and at epoch =  54  the loss is =  0.011878498829901218  and accuracy is =  0.9301428571428572\n",
            "At step  10  and at epoch =  55  the loss is =  0.011366485618054867  and accuracy is =  0.9244285714285714\n",
            "At step  10  and at epoch =  56  the loss is =  0.009806670248508453  and accuracy is =  0.9312857142857143\n",
            "At step  10  and at epoch =  57  the loss is =  0.012887619435787201  and accuracy is =  0.9328571428571428\n",
            "At step  10  and at epoch =  58  the loss is =  0.0119868703186512  and accuracy is =  0.9305714285714286\n",
            "At step  10  and at epoch =  59  the loss is =  0.013053656555712223  and accuracy is =  0.9308571428571428\n",
            "At step  10  and at epoch =  60  the loss is =  0.012821261771023273  and accuracy is =  0.9322857142857143\n",
            "At step  10  and at epoch =  61  the loss is =  0.011069773696362972  and accuracy is =  0.9345714285714286\n",
            "At step  10  and at epoch =  62  the loss is =  0.012018715031445026  and accuracy is =  0.9364285714285714\n",
            "At step  10  and at epoch =  63  the loss is =  0.012803287245333195  and accuracy is =  0.943\n",
            "At step  10  and at epoch =  64  the loss is =  0.011938530020415783  and accuracy is =  0.9435714285714286\n",
            "At step  10  and at epoch =  65  the loss is =  0.010334854945540428  and accuracy is =  0.9422857142857143\n",
            "At step  10  and at epoch =  66  the loss is =  0.010923522524535656  and accuracy is =  0.9435714285714286\n",
            "At step  10  and at epoch =  67  the loss is =  0.010859820991754532  and accuracy is =  0.9441428571428572\n",
            "At step  10  and at epoch =  68  the loss is =  0.01111309789121151  and accuracy is =  0.9427142857142857\n",
            "At step  10  and at epoch =  69  the loss is =  0.011565927416086197  and accuracy is =  0.9441428571428572\n",
            "task: 10 train accuracy = 0.9642\n",
            "task: 10 test accuracy = 0.8065\n"
          ],
          "name": "stdout"
        },
        {
          "output_type": "display_data",
          "data": {
            "image/png": "[encoded data removed]",
            "text/plain": [
              "<Figure size 432x288 with 2 Axes>"
            ]
          },
          "metadata": {
            "tags": []
          }
        },
        {
          "output_type": "stream",
          "text": [
            "At step  20  and at epoch =  0  the loss is =  0.034325480461120605  and accuracy is =  0.349375\n",
            "At step  20  and at epoch =  1  the loss is =  0.033642224967479706  and accuracy is =  0.4095\n",
            "At step  20  and at epoch =  2  the loss is =  0.03419780731201172  and accuracy is =  0.472\n",
            "At step  20  and at epoch =  3  the loss is =  0.03436579182744026  and accuracy is =  0.537375\n",
            "At step  20  and at epoch =  4  the loss is =  0.03220774978399277  and accuracy is =  0.57325\n",
            "At step  20  and at epoch =  5  the loss is =  0.029806895181536674  and accuracy is =  0.6\n",
            "At step  20  and at epoch =  6  the loss is =  0.029415272176265717  and accuracy is =  0.62325\n",
            "At step  20  and at epoch =  7  the loss is =  0.028958816081285477  and accuracy is =  0.643\n",
            "At step  20  and at epoch =  8  the loss is =  0.03406600281596184  and accuracy is =  0.66275\n",
            "At step  20  and at epoch =  9  the loss is =  0.03416507691144943  and accuracy is =  0.677625\n",
            "At step  20  and at epoch =  10  the loss is =  0.027750074863433838  and accuracy is =  0.6975\n",
            "At step  20  and at epoch =  11  the loss is =  0.029634989798069  and accuracy is =  0.704875\n",
            "At step  20  and at epoch =  12  the loss is =  0.027429156005382538  and accuracy is =  0.715125\n",
            "At step  20  and at epoch =  13  the loss is =  0.03251747414469719  and accuracy is =  0.721375\n",
            "At step  20  and at epoch =  14  the loss is =  0.029865974560379982  and accuracy is =  0.720875\n",
            "At step  20  and at epoch =  15  the loss is =  0.02676292322576046  and accuracy is =  0.737625\n",
            "At step  20  and at epoch =  16  the loss is =  0.026277044788002968  and accuracy is =  0.741\n",
            "At step  20  and at epoch =  17  the loss is =  0.026411952450871468  and accuracy is =  0.74325\n",
            "At step  20  and at epoch =  18  the loss is =  0.025802310556173325  and accuracy is =  0.75125\n",
            "At step  20  and at epoch =  19  the loss is =  0.033098626881837845  and accuracy is =  0.75325\n",
            "At step  20  and at epoch =  20  the loss is =  0.025549788028001785  and accuracy is =  0.76975\n",
            "At step  20  and at epoch =  21  the loss is =  0.02621738612651825  and accuracy is =  0.76175\n",
            "At step  20  and at epoch =  22  the loss is =  0.027039503678679466  and accuracy is =  0.781\n",
            "At step  20  and at epoch =  23  the loss is =  0.028470337390899658  and accuracy is =  0.775875\n",
            "At step  20  and at epoch =  24  the loss is =  0.02468849904835224  and accuracy is =  0.779125\n",
            "At step  20  and at epoch =  25  the loss is =  0.02476511150598526  and accuracy is =  0.7875\n",
            "At step  20  and at epoch =  26  the loss is =  0.026351366192102432  and accuracy is =  0.7995\n",
            "At step  20  and at epoch =  27  the loss is =  0.023655688390135765  and accuracy is =  0.79375\n",
            "At step  20  and at epoch =  28  the loss is =  0.02283504046499729  and accuracy is =  0.794125\n",
            "At step  20  and at epoch =  29  the loss is =  0.023564709350466728  and accuracy is =  0.798\n",
            "At step  20  and at epoch =  30  the loss is =  0.024318918585777283  and accuracy is =  0.799125\n",
            "At step  20  and at epoch =  31  the loss is =  0.02526555024087429  and accuracy is =  0.807125\n",
            "At step  20  and at epoch =  32  the loss is =  0.02567552588880062  and accuracy is =  0.8045\n",
            "At step  20  and at epoch =  33  the loss is =  0.02672930248081684  and accuracy is =  0.808125\n",
            "At step  20  and at epoch =  34  the loss is =  0.024675047025084496  and accuracy is =  0.815875\n",
            "At step  20  and at epoch =  35  the loss is =  0.02405451238155365  and accuracy is =  0.815\n",
            "At step  20  and at epoch =  36  the loss is =  0.025195006281137466  and accuracy is =  0.808625\n",
            "At step  20  and at epoch =  37  the loss is =  0.023942474275827408  and accuracy is =  0.815125\n",
            "At step  20  and at epoch =  38  the loss is =  0.021265339106321335  and accuracy is =  0.81925\n",
            "At step  20  and at epoch =  39  the loss is =  0.022073497995734215  and accuracy is =  0.829125\n",
            "At step  20  and at epoch =  40  the loss is =  0.023340558633208275  and accuracy is =  0.8285\n",
            "At step  20  and at epoch =  41  the loss is =  0.02995489537715912  and accuracy is =  0.8195\n",
            "At step  20  and at epoch =  42  the loss is =  0.02772640623152256  and accuracy is =  0.828125\n",
            "At step  20  and at epoch =  43  the loss is =  0.023736996576189995  and accuracy is =  0.824125\n",
            "At step  20  and at epoch =  44  the loss is =  0.0260871984064579  and accuracy is =  0.818125\n",
            "At step  20  and at epoch =  45  the loss is =  0.02451242320239544  and accuracy is =  0.83275\n",
            "At step  20  and at epoch =  46  the loss is =  0.02389923296868801  and accuracy is =  0.839125\n",
            "At step  20  and at epoch =  47  the loss is =  0.022274965420365334  and accuracy is =  0.83975\n",
            "At step  20  and at epoch =  48  the loss is =  0.02346343733370304  and accuracy is =  0.8355\n",
            "At step  20  and at epoch =  49  the loss is =  0.02281751111149788  and accuracy is =  0.878625\n",
            "At step  20  and at epoch =  50  the loss is =  0.019251622259616852  and accuracy is =  0.886875\n",
            "At step  20  and at epoch =  51  the loss is =  0.019102241843938828  and accuracy is =  0.88875\n",
            "At step  20  and at epoch =  52  the loss is =  0.020277833566069603  and accuracy is =  0.89225\n",
            "At step  20  and at epoch =  53  the loss is =  0.02090275287628174  and accuracy is =  0.897\n",
            "At step  20  and at epoch =  54  the loss is =  0.0185774564743042  and accuracy is =  0.894625\n",
            "At step  20  and at epoch =  55  the loss is =  0.019587036222219467  and accuracy is =  0.901875\n",
            "At step  20  and at epoch =  56  the loss is =  0.02281295321881771  and accuracy is =  0.89475\n",
            "At step  20  and at epoch =  57  the loss is =  0.016900693997740746  and accuracy is =  0.9075\n",
            "At step  20  and at epoch =  58  the loss is =  0.01972845569252968  and accuracy is =  0.902625\n",
            "At step  20  and at epoch =  59  the loss is =  0.021000761538743973  and accuracy is =  0.9055\n",
            "At step  20  and at epoch =  60  the loss is =  0.021305877715349197  and accuracy is =  0.908375\n",
            "At step  20  and at epoch =  61  the loss is =  0.01972239278256893  and accuracy is =  0.904125\n",
            "At step  20  and at epoch =  62  the loss is =  0.019883912056684494  and accuracy is =  0.90175\n",
            "At step  20  and at epoch =  63  the loss is =  0.018199296668171883  and accuracy is =  0.9105\n",
            "At step  20  and at epoch =  64  the loss is =  0.02269342914223671  and accuracy is =  0.914\n",
            "At step  20  and at epoch =  65  the loss is =  0.021610712632536888  and accuracy is =  0.911\n",
            "At step  20  and at epoch =  66  the loss is =  0.01875167526304722  and accuracy is =  0.91525\n",
            "At step  20  and at epoch =  67  the loss is =  0.01869678497314453  and accuracy is =  0.917625\n",
            "At step  20  and at epoch =  68  the loss is =  0.018734293058514595  and accuracy is =  0.91425\n",
            "At step  20  and at epoch =  69  the loss is =  0.019162649288773537  and accuracy is =  0.913125\n",
            "task: 20 train accuracy = 0.9302\n",
            "task: 20 test accuracy = 0.7466666666666667\n"
          ],
          "name": "stdout"
        },
        {
          "output_type": "display_data",
          "data": {
            "image/png": "[encoded data removed]",
            "text/plain": [
              "<Figure size 432x288 with 2 Axes>"
            ]
          },
          "metadata": {
            "tags": []
          }
        },
        {
          "output_type": "stream",
          "text": [
            "At step  30  and at epoch =  0  the loss is =  0.03921209275722504  and accuracy is =  0.39711649365628604\n",
            "At step  30  and at epoch =  1  the loss is =  0.038293059915304184  and accuracy is =  0.46608996539792386\n",
            "At step  30  and at epoch =  2  the loss is =  0.03869814798235893  and accuracy is =  0.5271049596309112\n",
            "At step  30  and at epoch =  3  the loss is =  0.03321243077516556  and accuracy is =  0.5604382929642445\n",
            "At step  30  and at epoch =  4  the loss is =  0.03496675193309784  and accuracy is =  0.5945790080738178\n",
            "At step  30  and at epoch =  5  the loss is =  0.03481946513056755  and accuracy is =  0.6035755478662053\n",
            "At step  30  and at epoch =  6  the loss is =  0.03521040827035904  and accuracy is =  0.6243367935409458\n",
            "At step  30  and at epoch =  7  the loss is =  0.03130773454904556  and accuracy is =  0.6450980392156863\n",
            "At step  30  and at epoch =  8  the loss is =  0.035456202924251556  and accuracy is =  0.6517877739331026\n",
            "At step  30  and at epoch =  9  the loss is =  0.03417379409074783  and accuracy is =  0.6607843137254902\n",
            "At step  30  and at epoch =  10  the loss is =  0.03469259291887283  and accuracy is =  0.6713956170703576\n",
            "At step  30  and at epoch =  11  the loss is =  0.03341968357563019  and accuracy is =  0.6802768166089965\n",
            "At step  30  and at epoch =  12  the loss is =  0.03481936827301979  and accuracy is =  0.6974625144175317\n",
            "At step  30  and at epoch =  13  the loss is =  0.028517959639430046  and accuracy is =  0.6920415224913494\n",
            "At step  30  and at epoch =  14  the loss is =  0.03007437102496624  and accuracy is =  0.7031141868512111\n",
            "At step  30  and at epoch =  15  the loss is =  0.03177725896239281  and accuracy is =  0.7100346020761246\n",
            "At step  30  and at epoch =  16  the loss is =  0.03074554353952408  and accuracy is =  0.7170703575547867\n",
            "At step  30  and at epoch =  17  the loss is =  0.03731482848525047  and accuracy is =  0.7153402537485583\n",
            "At step  30  and at epoch =  18  the loss is =  0.03200419247150421  and accuracy is =  0.7250288350634372\n",
            "At step  30  and at epoch =  19  the loss is =  0.031744860112667084  and accuracy is =  0.7254901960784313\n",
            "At step  30  and at epoch =  20  the loss is =  0.033199604600667953  and accuracy is =  0.7374855824682814\n",
            "At step  30  and at epoch =  21  the loss is =  0.03545210883021355  and accuracy is =  0.7459054209919261\n",
            "At step  30  and at epoch =  22  the loss is =  0.03309571370482445  and accuracy is =  0.742560553633218\n",
            "At step  30  and at epoch =  23  the loss is =  0.032047394663095474  and accuracy is =  0.754325259515571\n",
            "At step  30  and at epoch =  24  the loss is =  0.030645407736301422  and accuracy is =  0.7575547866205306\n",
            "At step  30  and at epoch =  25  the loss is =  0.030639713630080223  and accuracy is =  0.7582468281430219\n",
            "At step  30  and at epoch =  26  the loss is =  0.035915181040763855  and accuracy is =  0.7559400230680507\n",
            "At step  30  and at epoch =  27  the loss is =  0.03061896748840809  and accuracy is =  0.7510957324106113\n",
            "At step  30  and at epoch =  28  the loss is =  0.029990850016474724  and accuracy is =  0.7679354094579008\n",
            "At step  30  and at epoch =  29  the loss is =  0.03127805143594742  and accuracy is =  0.7581314878892733\n",
            "At step  30  and at epoch =  30  the loss is =  0.03181247413158417  and accuracy is =  0.774163783160323\n",
            "At step  30  and at epoch =  31  the loss is =  0.03524339944124222  and accuracy is =  0.7695501730103806\n",
            "At step  30  and at epoch =  32  the loss is =  0.030256042256951332  and accuracy is =  0.7715109573241061\n",
            "At step  30  and at epoch =  33  the loss is =  0.030345913022756577  and accuracy is =  0.774163783160323\n",
            "At step  30  and at epoch =  34  the loss is =  0.03071938082575798  and accuracy is =  0.7775086505190312\n",
            "At step  30  and at epoch =  35  the loss is =  0.030378015711903572  and accuracy is =  0.780161476355248\n",
            "At step  30  and at epoch =  36  the loss is =  0.032810624688863754  and accuracy is =  0.7816608996539792\n",
            "At step  30  and at epoch =  37  the loss is =  0.030787350609898567  and accuracy is =  0.7878892733564014\n",
            "At step  30  and at epoch =  38  the loss is =  0.030698157846927643  and accuracy is =  0.7899653979238754\n",
            "At step  30  and at epoch =  39  the loss is =  0.029518866911530495  and accuracy is =  0.7923875432525952\n",
            "At step  30  and at epoch =  40  the loss is =  0.03059482015669346  and accuracy is =  0.788235294117647\n",
            "At step  30  and at epoch =  41  the loss is =  0.027444535866379738  and accuracy is =  0.791118800461361\n",
            "At step  30  and at epoch =  42  the loss is =  0.032996419817209244  and accuracy is =  0.798961937716263\n",
            "At step  30  and at epoch =  43  the loss is =  0.0297929085791111  and accuracy is =  0.792964244521338\n",
            "At step  30  and at epoch =  44  the loss is =  0.033517759293317795  and accuracy is =  0.7966551326412918\n",
            "At step  30  and at epoch =  45  the loss is =  0.03362838923931122  and accuracy is =  0.7944636678200692\n",
            "At step  30  and at epoch =  46  the loss is =  0.030379606410861015  and accuracy is =  0.8110726643598616\n",
            "At step  30  and at epoch =  47  the loss is =  0.030969837680459023  and accuracy is =  0.8050749711649365\n",
            "At step  30  and at epoch =  48  the loss is =  0.034197911620140076  and accuracy is =  0.7996539792387544\n",
            "At step  30  and at epoch =  49  the loss is =  0.027122262865304947  and accuracy is =  0.8416378316032296\n",
            "At step  30  and at epoch =  50  the loss is =  0.026664165779948235  and accuracy is =  0.8604382929642446\n",
            "At step  30  and at epoch =  51  the loss is =  0.024760592728853226  and accuracy is =  0.8621683967704729\n",
            "At step  30  and at epoch =  52  the loss is =  0.02853589504957199  and accuracy is =  0.8675893886966551\n",
            "At step  30  and at epoch =  53  the loss is =  0.02768578752875328  and accuracy is =  0.8728950403690888\n",
            "At step  30  and at epoch =  54  the loss is =  0.025821639224886894  and accuracy is =  0.8690888119953863\n",
            "At step  30  and at epoch =  55  the loss is =  0.026211410760879517  and accuracy is =  0.8731257208765859\n",
            "At step  30  and at epoch =  56  the loss is =  0.02603083848953247  and accuracy is =  0.8769319492502884\n",
            "At step  30  and at epoch =  57  the loss is =  0.028034307062625885  and accuracy is =  0.880161476355248\n",
            "At step  30  and at epoch =  58  the loss is =  0.027269572019577026  and accuracy is =  0.8797001153402537\n",
            "At step  30  and at epoch =  59  the loss is =  0.027082258835434914  and accuracy is =  0.8826989619377162\n",
            "At step  30  and at epoch =  60  the loss is =  0.027694156393408775  and accuracy is =  0.8853517877739331\n",
            "At step  30  and at epoch =  61  the loss is =  0.024270586669445038  and accuracy is =  0.8813148788927335\n",
            "At step  30  and at epoch =  62  the loss is =  0.02547048032283783  and accuracy is =  0.8836216839677047\n",
            "At step  30  and at epoch =  63  the loss is =  0.026946943253278732  and accuracy is =  0.8988465974625144\n",
            "At step  30  and at epoch =  64  the loss is =  0.025485027581453323  and accuracy is =  0.8953863898500577\n",
            "At step  30  and at epoch =  65  the loss is =  0.025386907160282135  and accuracy is =  0.8952710495963091\n",
            "At step  30  and at epoch =  66  the loss is =  0.026004303246736526  and accuracy is =  0.8901960784313725\n",
            "At step  30  and at epoch =  67  the loss is =  0.02331354282796383  and accuracy is =  0.8904267589388697\n",
            "At step  30  and at epoch =  68  the loss is =  0.02427530661225319  and accuracy is =  0.8967704728950404\n",
            "At step  30  and at epoch =  69  the loss is =  0.02934117056429386  and accuracy is =  0.8948096885813149\n",
            "task: 30 train accuracy = 0.8954\n",
            "task: 30 test accuracy = 0.706\n"
          ],
          "name": "stdout"
        },
        {
          "output_type": "display_data",
          "data": {
            "image/png": "[encoded data removed]",
            "text/plain": [
              "<Figure size 432x288 with 2 Axes>"
            ]
          },
          "metadata": {
            "tags": []
          }
        },
        {
          "output_type": "stream",
          "text": [
            "At step  40  and at epoch =  0  the loss is =  0.05045821890234947  and accuracy is =  0.40806979280261724\n",
            "At step  40  and at epoch =  1  the loss is =  0.046041637659072876  and accuracy is =  0.4451472191930207\n",
            "At step  40  and at epoch =  2  the loss is =  0.044134341180324554  and accuracy is =  0.48833151581243184\n",
            "At step  40  and at epoch =  3  the loss is =  0.04091155156493187  and accuracy is =  0.521701199563795\n",
            "At step  40  and at epoch =  4  the loss is =  0.04156788811087608  and accuracy is =  0.5411123227917121\n",
            "At step  40  and at epoch =  5  the loss is =  0.04542053863406181  and accuracy is =  0.5687022900763359\n",
            "At step  40  and at epoch =  6  the loss is =  0.0426415354013443  and accuracy is =  0.5899672846237731\n",
            "At step  40  and at epoch =  7  the loss is =  0.051304012537002563  and accuracy is =  0.6030534351145038\n",
            "At step  40  and at epoch =  8  the loss is =  0.04689464345574379  and accuracy is =  0.6187568157033806\n",
            "At step  40  and at epoch =  9  the loss is =  0.04370066151022911  and accuracy is =  0.622464558342421\n",
            "At step  40  and at epoch =  10  the loss is =  0.04686075448989868  and accuracy is =  0.6346782988004362\n",
            "At step  40  and at epoch =  11  the loss is =  0.04579988867044449  and accuracy is =  0.6417666303162486\n",
            "At step  40  and at epoch =  12  the loss is =  0.0446300283074379  and accuracy is =  0.6548527808069793\n",
            "At step  40  and at epoch =  13  the loss is =  0.045041389763355255  and accuracy is =  0.6623773173391494\n",
            "At step  40  and at epoch =  14  the loss is =  0.04020855203270912  and accuracy is =  0.6661941112322791\n",
            "At step  40  and at epoch =  15  the loss is =  0.040671780705451965  and accuracy is =  0.6717557251908397\n",
            "At step  40  and at epoch =  16  the loss is =  0.0459594763815403  and accuracy is =  0.6826608505997819\n",
            "At step  40  and at epoch =  17  the loss is =  0.04150192812085152  and accuracy is =  0.6900763358778625\n",
            "At step  40  and at epoch =  18  the loss is =  0.040900714695453644  and accuracy is =  0.6900763358778625\n",
            "At step  40  and at epoch =  19  the loss is =  0.04200868681073189  and accuracy is =  0.6982551799345692\n",
            "At step  40  and at epoch =  20  the loss is =  0.04166704788804054  and accuracy is =  0.7016357688113414\n",
            "At step  40  and at epoch =  21  the loss is =  0.04154203087091446  and accuracy is =  0.7073064340239913\n",
            "At step  40  and at epoch =  22  the loss is =  0.042348649352788925  and accuracy is =  0.7185387131952018\n",
            "At step  40  and at epoch =  23  the loss is =  0.04153447225689888  and accuracy is =  0.7165757906215922\n",
            "At step  40  and at epoch =  24  the loss is =  0.04029872268438339  and accuracy is =  0.7191930207197382\n",
            "At step  40  and at epoch =  25  the loss is =  0.03787843883037567  and accuracy is =  0.7229007633587786\n",
            "At step  40  and at epoch =  26  the loss is =  0.03763015195727348  and accuracy is =  0.7246455834242094\n",
            "At step  40  and at epoch =  27  the loss is =  0.04198804125189781  and accuracy is =  0.7284623773173392\n",
            "At step  40  and at epoch =  28  the loss is =  0.0395883172750473  and accuracy is =  0.726608505997819\n",
            "At step  40  and at epoch =  29  the loss is =  0.035106632858514786  and accuracy is =  0.741875681570338\n",
            "At step  40  and at epoch =  30  the loss is =  0.042376529425382614  and accuracy is =  0.7427480916030534\n",
            "At step  40  and at epoch =  31  the loss is =  0.04538595303893089  and accuracy is =  0.7451472191930207\n",
            "At step  40  and at epoch =  32  the loss is =  0.03950841352343559  and accuracy is =  0.746782988004362\n",
            "At step  40  and at epoch =  33  the loss is =  0.038359418511390686  and accuracy is =  0.7551799345692476\n",
            "At step  40  and at epoch =  34  the loss is =  0.0362042635679245  and accuracy is =  0.7507088331515812\n",
            "At step  40  and at epoch =  35  the loss is =  0.039462704211473465  and accuracy is =  0.747546346782988\n",
            "At step  40  and at epoch =  36  the loss is =  0.03755929321050644  and accuracy is =  0.7520174482006543\n",
            "At step  40  and at epoch =  37  the loss is =  0.0369633212685585  and accuracy is =  0.7694656488549618\n",
            "At step  40  and at epoch =  38  the loss is =  0.03898010402917862  and accuracy is =  0.7605234460196292\n",
            "At step  40  and at epoch =  39  the loss is =  0.03950005769729614  and accuracy is =  0.7654307524536532\n",
            "At step  40  and at epoch =  40  the loss is =  0.04153046756982803  and accuracy is =  0.7623773173391494\n",
            "At step  40  and at epoch =  41  the loss is =  0.046700507402420044  and accuracy is =  0.7642311886586696\n",
            "At step  40  and at epoch =  42  the loss is =  0.039809808135032654  and accuracy is =  0.7653217011995638\n",
            "At step  40  and at epoch =  43  the loss is =  0.03705236688256264  and accuracy is =  0.7725190839694657\n",
            "At step  40  and at epoch =  44  the loss is =  0.038213543593883514  and accuracy is =  0.7740458015267175\n",
            "At step  40  and at epoch =  45  the loss is =  0.04122432693839073  and accuracy is =  0.7755725190839695\n",
            "At step  40  and at epoch =  46  the loss is =  0.03495350107550621  and accuracy is =  0.7692475463467829\n",
            "At step  40  and at epoch =  47  the loss is =  0.03789264336228371  and accuracy is =  0.7848418756815704\n",
            "At step  40  and at epoch =  48  the loss is =  0.04363883286714554  and accuracy is =  0.7809160305343511\n",
            "At step  40  and at epoch =  49  the loss is =  0.03540417179465294  and accuracy is =  0.8285714285714286\n",
            "At step  40  and at epoch =  50  the loss is =  0.034488167613744736  and accuracy is =  0.8449291166848418\n",
            "At step  40  and at epoch =  51  the loss is =  0.033788301050662994  and accuracy is =  0.8498364231188659\n",
            "At step  40  and at epoch =  52  the loss is =  0.03502411022782326  and accuracy is =  0.8541984732824427\n",
            "At step  40  and at epoch =  53  the loss is =  0.03801038861274719  and accuracy is =  0.8569247546346783\n",
            "At step  40  and at epoch =  54  the loss is =  0.03522014990448952  and accuracy is =  0.859432933478735\n",
            "At step  40  and at epoch =  55  the loss is =  0.03476707637310028  and accuracy is =  0.8670665212649945\n",
            "At step  40  and at epoch =  56  the loss is =  0.03184223547577858  and accuracy is =  0.8701199563794983\n",
            "At step  40  and at epoch =  57  the loss is =  0.03154049813747406  and accuracy is =  0.8670665212649945\n",
            "At step  40  and at epoch =  58  the loss is =  0.03367150202393532  and accuracy is =  0.8693565976008724\n",
            "At step  40  and at epoch =  59  the loss is =  0.03259776532649994  and accuracy is =  0.8730643402399128\n",
            "At step  40  and at epoch =  60  the loss is =  0.03166000917553902  and accuracy is =  0.8748091603053435\n",
            "At step  40  and at epoch =  61  the loss is =  0.037708085030317307  and accuracy is =  0.8739367502726282\n",
            "At step  40  and at epoch =  62  the loss is =  0.032633766531944275  and accuracy is =  0.8708833151581243\n",
            "At step  40  and at epoch =  63  the loss is =  0.02924385480582714  and accuracy is =  0.8799345692475463\n",
            "At step  40  and at epoch =  64  the loss is =  0.03350954130291939  and accuracy is =  0.8779716466739368\n",
            "At step  40  and at epoch =  65  the loss is =  0.03261522576212883  and accuracy is =  0.8833151581243184\n",
            "At step  40  and at epoch =  66  the loss is =  0.032646842300891876  and accuracy is =  0.8812431842966194\n",
            "At step  40  and at epoch =  67  the loss is =  0.03510673716664314  and accuracy is =  0.8865866957470011\n",
            "At step  40  and at epoch =  68  the loss is =  0.0335402674973011  and accuracy is =  0.8817884405670665\n",
            "At step  40  and at epoch =  69  the loss is =  0.03371349722146988  and accuracy is =  0.8850599781897491\n",
            "task: 40 train accuracy = 0.858\n",
            "task: 40 test accuracy = 0.6568\n"
          ],
          "name": "stdout"
        },
        {
          "output_type": "display_data",
          "data": {
            "image/png": "[encoded data removed]",
            "text/plain": [
              "<Figure size 432x288 with 2 Axes>"
            ]
          },
          "metadata": {
            "tags": []
          }
        },
        {
          "output_type": "stream",
          "text": [
            "At step  50  and at epoch =  0  the loss is =  0.05230920761823654  and accuracy is =  0.41243469174503655\n",
            "At step  50  and at epoch =  1  the loss is =  0.05095735564827919  and accuracy is =  0.470846394984326\n",
            "At step  50  and at epoch =  2  the loss is =  0.04795372113585472  and accuracy is =  0.5174503657262278\n",
            "At step  50  and at epoch =  3  the loss is =  0.04589647427201271  and accuracy is =  0.5431556948798328\n",
            "At step  50  and at epoch =  4  the loss is =  0.047950629144907  and accuracy is =  0.5700104493207941\n",
            "At step  50  and at epoch =  5  the loss is =  0.049517422914505005  and accuracy is =  0.5824451410658307\n",
            "At step  50  and at epoch =  6  the loss is =  0.051253125071525574  and accuracy is =  0.6055381400208987\n",
            "At step  50  and at epoch =  7  the loss is =  0.048239994794130325  and accuracy is =  0.6106583072100313\n",
            "At step  50  and at epoch =  8  the loss is =  0.0443805567920208  and accuracy is =  0.61901776384535\n",
            "At step  50  and at epoch =  9  the loss is =  0.0470002219080925  and accuracy is =  0.632183908045977\n",
            "At step  50  and at epoch =  10  the loss is =  0.05103985220193863  and accuracy is =  0.6329153605015674\n",
            "At step  50  and at epoch =  11  the loss is =  0.04687071964144707  and accuracy is =  0.6469174503657262\n",
            "At step  50  and at epoch =  12  the loss is =  0.04649460315704346  and accuracy is =  0.6537095088819227\n",
            "At step  50  and at epoch =  13  the loss is =  0.04950539022684097  and accuracy is =  0.6560083594566353\n",
            "At step  50  and at epoch =  14  the loss is =  0.0463530607521534  and accuracy is =  0.6681295715778475\n",
            "At step  50  and at epoch =  15  the loss is =  0.04576440900564194  and accuracy is =  0.6681295715778475\n",
            "At step  50  and at epoch =  16  the loss is =  0.04414365813136101  and accuracy is =  0.6789968652037618\n",
            "At step  50  and at epoch =  17  the loss is =  0.04554658755660057  and accuracy is =  0.6818181818181818\n",
            "At step  50  and at epoch =  18  the loss is =  0.052554793655872345  and accuracy is =  0.6841170323928945\n",
            "At step  50  and at epoch =  19  the loss is =  0.04914772883057594  and accuracy is =  0.6919540229885057\n",
            "At step  50  and at epoch =  20  the loss is =  0.04706369340419769  and accuracy is =  0.6991640543364681\n",
            "At step  50  and at epoch =  21  the loss is =  0.05122190713882446  and accuracy is =  0.7003134796238244\n",
            "At step  50  and at epoch =  22  the loss is =  0.0476747527718544  and accuracy is =  0.6980146290491118\n",
            "At step  50  and at epoch =  23  the loss is =  0.05349929630756378  and accuracy is =  0.7061650992685475\n",
            "At step  50  and at epoch =  24  the loss is =  0.048025425523519516  and accuracy is =  0.7107628004179728\n",
            "At step  50  and at epoch =  25  the loss is =  0.045622099190950394  and accuracy is =  0.7138975966562173\n",
            "At step  50  and at epoch =  26  the loss is =  0.045929811894893646  and accuracy is =  0.7216300940438871\n",
            "At step  50  and at epoch =  27  the loss is =  0.047066580504179  and accuracy is =  0.7148380355276907\n",
            "At step  50  and at epoch =  28  the loss is =  0.04733734577894211  and accuracy is =  0.7148380355276907\n",
            "At step  50  and at epoch =  29  the loss is =  0.04732878878712654  and accuracy is =  0.7266457680250784\n",
            "At step  50  and at epoch =  30  the loss is =  0.04719085246324539  and accuracy is =  0.7270637408568443\n",
            "At step  50  and at epoch =  31  the loss is =  0.04437265917658806  and accuracy is =  0.7320794148380355\n",
            "At step  50  and at epoch =  32  the loss is =  0.04536254703998566  and accuracy is =  0.7296760710553813\n",
            "At step  50  and at epoch =  33  the loss is =  0.04739648476243019  and accuracy is =  0.7332288401253918\n",
            "At step  50  and at epoch =  34  the loss is =  0.04255867004394531  and accuracy is =  0.7317659352142111\n",
            "At step  50  and at epoch =  35  the loss is =  0.04743241146206856  and accuracy is =  0.7394984326018809\n",
            "At step  50  and at epoch =  36  the loss is =  0.04919356480240822  and accuracy is =  0.738871473354232\n",
            "At step  50  and at epoch =  37  the loss is =  0.04477965831756592  and accuracy is =  0.7448275862068966\n",
            "At step  50  and at epoch =  38  the loss is =  0.04701355844736099  and accuracy is =  0.742110762800418\n",
            "At step  50  and at epoch =  39  the loss is =  0.04352215677499771  and accuracy is =  0.7481713688610241\n",
            "At step  50  and at epoch =  40  the loss is =  0.046472836285829544  and accuracy is =  0.7528735632183908\n",
            "At step  50  and at epoch =  41  the loss is =  0.0426119901239872  and accuracy is =  0.7539184952978056\n",
            "At step  50  and at epoch =  42  the loss is =  0.04479643702507019  and accuracy is =  0.7515151515151515\n",
            "At step  50  and at epoch =  43  the loss is =  0.04994586482644081  and accuracy is =  0.7582027168234065\n",
            "At step  50  and at epoch =  44  the loss is =  0.04588925093412399  and accuracy is =  0.7464994775339603\n",
            "At step  50  and at epoch =  45  the loss is =  0.047627028077840805  and accuracy is =  0.7543364681295716\n",
            "At step  50  and at epoch =  46  the loss is =  0.043588124215602875  and accuracy is =  0.7602925809822362\n",
            "At step  50  and at epoch =  47  the loss is =  0.044347915798425674  and accuracy is =  0.7663531870428422\n",
            "At step  50  and at epoch =  48  the loss is =  0.04620423913002014  and accuracy is =  0.7640543364681296\n",
            "At step  50  and at epoch =  49  the loss is =  0.039777521044015884  and accuracy is =  0.8065830721003134\n",
            "At step  50  and at epoch =  50  the loss is =  0.0419711172580719  and accuracy is =  0.8280041797283176\n",
            "At step  50  and at epoch =  51  the loss is =  0.03785701468586922  and accuracy is =  0.8368861024033438\n",
            "At step  50  and at epoch =  52  the loss is =  0.03868432343006134  and accuracy is =  0.838662486938349\n",
            "At step  50  and at epoch =  53  the loss is =  0.041007909923791885  and accuracy is =  0.8461859979101358\n",
            "At step  50  and at epoch =  54  the loss is =  0.0416555218398571  and accuracy is =  0.8473354231974921\n",
            "At step  50  and at epoch =  55  the loss is =  0.0424860417842865  and accuracy is =  0.8429467084639498\n",
            "At step  50  and at epoch =  56  the loss is =  0.040665555745363235  and accuracy is =  0.8484848484848485\n",
            "At step  50  and at epoch =  57  the loss is =  0.044072072952985764  and accuracy is =  0.8460815047021943\n",
            "At step  50  and at epoch =  58  the loss is =  0.03881608694791794  and accuracy is =  0.84858934169279\n",
            "At step  50  and at epoch =  59  the loss is =  0.042295608669519424  and accuracy is =  0.854440961337513\n",
            "At step  50  and at epoch =  60  the loss is =  0.04248705133795738  and accuracy is =  0.8557993730407524\n",
            "At step  50  and at epoch =  61  the loss is =  0.04126147925853729  and accuracy is =  0.8561128526645768\n",
            "At step  50  and at epoch =  62  the loss is =  0.04294659197330475  and accuracy is =  0.8508881922675026\n",
            "At step  50  and at epoch =  63  the loss is =  0.03942836448550224  and accuracy is =  0.8648902821316614\n",
            "At step  50  and at epoch =  64  the loss is =  0.04425783082842827  and accuracy is =  0.8677115987460815\n",
            "At step  50  and at epoch =  65  the loss is =  0.042198546230793  and accuracy is =  0.8659352142110763\n",
            "At step  50  and at epoch =  66  the loss is =  0.04017271474003792  and accuracy is =  0.8700104493207942\n",
            "At step  50  and at epoch =  67  the loss is =  0.039322491735219955  and accuracy is =  0.8656217345872518\n",
            "At step  50  and at epoch =  68  the loss is =  0.039425771683454514  and accuracy is =  0.8653082549634273\n",
            "At step  50  and at epoch =  69  the loss is =  0.040259189903736115  and accuracy is =  0.8661442006269593\n",
            "task: 50 train accuracy = 0.8504\n",
            "task: 50 test accuracy = 0.6095\n"
          ],
          "name": "stdout"
        },
        {
          "output_type": "display_data",
          "data": {
            "image/png": "[encoded data removed]",
            "text/plain": [
              "<Figure size 432x288 with 2 Axes>"
            ]
          },
          "metadata": {
            "tags": []
          }
        },
        {
          "output_type": "stream",
          "text": [
            "At step  60  and at epoch =  0  the loss is =  0.055877935141325  and accuracy is =  0.41494949494949496\n",
            "At step  60  and at epoch =  1  the loss is =  0.05757898464798927  and accuracy is =  0.4616161616161616\n",
            "At step  60  and at epoch =  2  the loss is =  0.06488163024187088  and accuracy is =  0.49444444444444446\n",
            "At step  60  and at epoch =  3  the loss is =  0.05413069948554039  and accuracy is =  0.5197979797979798\n",
            "At step  60  and at epoch =  4  the loss is =  0.05270574614405632  and accuracy is =  0.5366666666666666\n",
            "At step  60  and at epoch =  5  the loss is =  0.058674637228250504  and accuracy is =  0.5526262626262626\n",
            "At step  60  and at epoch =  6  the loss is =  0.05706387758255005  and accuracy is =  0.573939393939394\n",
            "At step  60  and at epoch =  7  the loss is =  0.05389115959405899  and accuracy is =  0.5791919191919191\n",
            "At step  60  and at epoch =  8  the loss is =  0.05350618436932564  and accuracy is =  0.5908080808080808\n",
            "At step  60  and at epoch =  9  the loss is =  0.059301987290382385  and accuracy is =  0.5944444444444444\n",
            "At step  60  and at epoch =  10  the loss is =  0.057864751666784286  and accuracy is =  0.6013131313131314\n",
            "At step  60  and at epoch =  11  the loss is =  0.058602698147296906  and accuracy is =  0.6132323232323232\n",
            "At step  60  and at epoch =  12  the loss is =  0.05038043111562729  and accuracy is =  0.6157575757575757\n",
            "At step  60  and at epoch =  13  the loss is =  0.04845530167222023  and accuracy is =  0.6216161616161616\n",
            "At step  60  and at epoch =  14  the loss is =  0.051550254225730896  and accuracy is =  0.6286868686868687\n",
            "At step  60  and at epoch =  15  the loss is =  0.05466504395008087  and accuracy is =  0.6332323232323233\n",
            "At step  60  and at epoch =  16  the loss is =  0.053367163985967636  and accuracy is =  0.6377777777777778\n",
            "At step  60  and at epoch =  17  the loss is =  0.05339239537715912  and accuracy is =  0.6450505050505051\n",
            "At step  60  and at epoch =  18  the loss is =  0.061404988169670105  and accuracy is =  0.637979797979798\n",
            "At step  60  and at epoch =  19  the loss is =  0.05429347604513168  and accuracy is =  0.6575757575757576\n",
            "At step  60  and at epoch =  20  the loss is =  0.04995777830481529  and accuracy is =  0.6551515151515152\n",
            "At step  60  and at epoch =  21  the loss is =  0.04558014124631882  and accuracy is =  0.6603030303030303\n",
            "At step  60  and at epoch =  22  the loss is =  0.05743055045604706  and accuracy is =  0.6602020202020202\n",
            "At step  60  and at epoch =  23  the loss is =  0.04952918365597725  and accuracy is =  0.6671717171717172\n",
            "At step  60  and at epoch =  24  the loss is =  0.05442120134830475  and accuracy is =  0.6676767676767676\n",
            "At step  60  and at epoch =  25  the loss is =  0.04937051236629486  and accuracy is =  0.6702020202020202\n",
            "At step  60  and at epoch =  26  the loss is =  0.046084240078926086  and accuracy is =  0.6723232323232323\n",
            "At step  60  and at epoch =  27  the loss is =  0.048516757786273956  and accuracy is =  0.6765656565656566\n",
            "At step  60  and at epoch =  28  the loss is =  0.05357983708381653  and accuracy is =  0.6821212121212121\n",
            "At step  60  and at epoch =  29  the loss is =  0.046497952193021774  and accuracy is =  0.6826262626262626\n",
            "At step  60  and at epoch =  30  the loss is =  0.048959992825984955  and accuracy is =  0.6845454545454546\n",
            "At step  60  and at epoch =  31  the loss is =  0.05516604706645012  and accuracy is =  0.6862626262626262\n",
            "At step  60  and at epoch =  32  the loss is =  0.04909385368227959  and accuracy is =  0.6834343434343434\n",
            "At step  60  and at epoch =  33  the loss is =  0.05717693641781807  and accuracy is =  0.6924242424242424\n",
            "At step  60  and at epoch =  34  the loss is =  0.0530979223549366  and accuracy is =  0.6885858585858586\n",
            "At step  60  and at epoch =  35  the loss is =  0.05734807252883911  and accuracy is =  0.6977777777777778\n",
            "At step  60  and at epoch =  36  the loss is =  0.05574243888258934  and accuracy is =  0.6874747474747475\n",
            "At step  60  and at epoch =  37  the loss is =  0.0480990894138813  and accuracy is =  0.6901010101010101\n",
            "At step  60  and at epoch =  38  the loss is =  0.053235605359077454  and accuracy is =  0.6964646464646465\n",
            "At step  60  and at epoch =  39  the loss is =  0.04951680824160576  and accuracy is =  0.7009090909090909\n",
            "At step  60  and at epoch =  40  the loss is =  0.05227338522672653  and accuracy is =  0.7047474747474748\n",
            "At step  60  and at epoch =  41  the loss is =  0.057478852570056915  and accuracy is =  0.7064646464646465\n",
            "At step  60  and at epoch =  42  the loss is =  0.0440109521150589  and accuracy is =  0.7013131313131313\n",
            "At step  60  and at epoch =  43  the loss is =  0.05374563857913017  and accuracy is =  0.71\n",
            "At step  60  and at epoch =  44  the loss is =  0.052310194820165634  and accuracy is =  0.7107070707070707\n",
            "At step  60  and at epoch =  45  the loss is =  0.05143791064620018  and accuracy is =  0.7001010101010101\n",
            "At step  60  and at epoch =  46  the loss is =  0.05361967533826828  and accuracy is =  0.7098989898989899\n",
            "At step  60  and at epoch =  47  the loss is =  0.05241380259394646  and accuracy is =  0.7042424242424242\n",
            "At step  60  and at epoch =  48  the loss is =  0.051178574562072754  and accuracy is =  0.7126262626262626\n",
            "At step  60  and at epoch =  49  the loss is =  0.043474044650793076  and accuracy is =  0.7575757575757576\n",
            "At step  60  and at epoch =  50  the loss is =  0.05132266506552696  and accuracy is =  0.7725252525252525\n",
            "At step  60  and at epoch =  51  the loss is =  0.047168660908937454  and accuracy is =  0.7833333333333333\n",
            "At step  60  and at epoch =  52  the loss is =  0.045606836676597595  and accuracy is =  0.7871717171717172\n",
            "At step  60  and at epoch =  53  the loss is =  0.047379713505506516  and accuracy is =  0.795959595959596\n",
            "At step  60  and at epoch =  54  the loss is =  0.04117721691727638  and accuracy is =  0.7961616161616162\n",
            "At step  60  and at epoch =  55  the loss is =  0.04395736753940582  and accuracy is =  0.7973737373737374\n",
            "At step  60  and at epoch =  56  the loss is =  0.05356375128030777  and accuracy is =  0.7995959595959596\n",
            "At step  60  and at epoch =  57  the loss is =  0.041986700147390366  and accuracy is =  0.807979797979798\n",
            "At step  60  and at epoch =  58  the loss is =  0.04832886531949043  and accuracy is =  0.8112121212121212\n",
            "At step  60  and at epoch =  59  the loss is =  0.05013446509838104  and accuracy is =  0.8112121212121212\n",
            "At step  60  and at epoch =  60  the loss is =  0.03990844637155533  and accuracy is =  0.812020202020202\n",
            "At step  60  and at epoch =  61  the loss is =  0.04970638081431389  and accuracy is =  0.8156565656565656\n",
            "At step  60  and at epoch =  62  the loss is =  0.046885162591934204  and accuracy is =  0.8147474747474748\n",
            "At step  60  and at epoch =  63  the loss is =  0.05387042835354805  and accuracy is =  0.826060606060606\n",
            "At step  60  and at epoch =  64  the loss is =  0.05216814950108528  and accuracy is =  0.8242424242424242\n",
            "At step  60  and at epoch =  65  the loss is =  0.04723932594060898  and accuracy is =  0.8267676767676768\n",
            "At step  60  and at epoch =  66  the loss is =  0.04838424175977707  and accuracy is =  0.8197979797979797\n",
            "At step  60  and at epoch =  67  the loss is =  0.052840448915958405  and accuracy is =  0.8273737373737374\n",
            "At step  60  and at epoch =  68  the loss is =  0.04871928691864014  and accuracy is =  0.8261616161616162\n",
            "At step  60  and at epoch =  69  the loss is =  0.050070591270923615  and accuracy is =  0.8332323232323232\n",
            "task: 60 train accuracy = 0.8006\n",
            "task: 60 test accuracy = 0.566\n"
          ],
          "name": "stdout"
        },
        {
          "output_type": "display_data",
          "data": {
            "image/png": "[encoded data removed]",
            "text/plain": [
              "<Figure size 432x288 with 2 Axes>"
            ]
          },
          "metadata": {
            "tags": []
          }
        },
        {
          "output_type": "stream",
          "text": [
            "At step  70  and at epoch =  0  the loss is =  0.06713707745075226  and accuracy is =  0.41030421982335624\n",
            "At step  70  and at epoch =  1  the loss is =  0.06349731981754303  and accuracy is =  0.4929342492639843\n",
            "At step  70  and at epoch =  2  the loss is =  0.05691636726260185  and accuracy is =  0.5524043179587831\n",
            "At step  70  and at epoch =  3  the loss is =  0.055807217955589294  and accuracy is =  0.5788027477919528\n",
            "At step  70  and at epoch =  4  the loss is =  0.058765679597854614  and accuracy is =  0.5996074582924436\n",
            "At step  70  and at epoch =  5  the loss is =  0.060603950172662735  and accuracy is =  0.6157998037291462\n",
            "At step  70  and at epoch =  6  the loss is =  0.06140134111046791  and accuracy is =  0.6245338567222768\n",
            "At step  70  and at epoch =  7  the loss is =  0.05968040972948074  and accuracy is =  0.6371933267909715\n",
            "At step  70  and at epoch =  8  the loss is =  0.0571315735578537  and accuracy is =  0.6580961727183513\n",
            "At step  70  and at epoch =  9  the loss is =  0.056378137320280075  and accuracy is =  0.6608439646712463\n",
            "At step  70  and at epoch =  10  the loss is =  0.056230515241622925  and accuracy is =  0.671540726202159\n",
            "At step  70  and at epoch =  11  the loss is =  0.052700530737638474  and accuracy is =  0.6785083415112856\n",
            "At step  70  and at epoch =  12  the loss is =  0.054005276411771774  and accuracy is =  0.677134445534838\n",
            "At step  70  and at epoch =  13  the loss is =  0.058977190405130386  and accuracy is =  0.6854759568204122\n",
            "At step  70  and at epoch =  14  the loss is =  0.05956248566508293  and accuracy is =  0.6919528949950933\n",
            "At step  70  and at epoch =  15  the loss is =  0.05386574566364288  and accuracy is =  0.6904808635917566\n",
            "At step  70  and at epoch =  16  the loss is =  0.05945071950554848  and accuracy is =  0.6961727183513249\n",
            "At step  70  and at epoch =  17  the loss is =  0.06426180899143219  and accuracy is =  0.6979391560353287\n",
            "At step  70  and at epoch =  18  the loss is =  0.054104018956422806  and accuracy is =  0.7033366045142296\n",
            "At step  70  and at epoch =  19  the loss is =  0.05910124257206917  and accuracy is =  0.7125613346418057\n",
            "At step  70  and at epoch =  20  the loss is =  0.05451123043894768  and accuracy is =  0.7144259077526988\n",
            "At step  70  and at epoch =  21  the loss is =  0.057212039828300476  and accuracy is =  0.7112855740922474\n",
            "At step  70  and at epoch =  22  the loss is =  0.056076448410749435  and accuracy is =  0.7121687929342493\n",
            "At step  70  and at epoch =  23  the loss is =  0.05781511217355728  and accuracy is =  0.7170755642787046\n",
            "At step  70  and at epoch =  24  the loss is =  0.06003953889012337  and accuracy is =  0.7187438665358195\n",
            "At step  70  and at epoch =  25  the loss is =  0.06133153289556503  and accuracy is =  0.7260058881256134\n",
            "At step  70  and at epoch =  26  the loss is =  0.055622395128011703  and accuracy is =  0.7288518155053975\n",
            "At step  70  and at epoch =  27  the loss is =  0.061655208468437195  and accuracy is =  0.7231599607458292\n",
            "At step  70  and at epoch =  28  the loss is =  0.057301707565784454  and accuracy is =  0.7269872423945044\n",
            "At step  70  and at epoch =  29  the loss is =  0.05685005336999893  and accuracy is =  0.7353287536800786\n",
            "At step  70  and at epoch =  30  the loss is =  0.059341516345739365  and accuracy is =  0.7285574092247301\n",
            "At step  70  and at epoch =  31  the loss is =  0.05736137926578522  and accuracy is =  0.736702649656526\n",
            "At step  70  and at epoch =  32  the loss is =  0.06006874144077301  and accuracy is =  0.7354268891069676\n",
            "At step  70  and at epoch =  33  the loss is =  0.05979897454380989  and accuracy is =  0.7326790971540726\n",
            "At step  70  and at epoch =  34  the loss is =  0.059109773486852646  and accuracy is =  0.738567222767419\n",
            "At step  70  and at epoch =  35  the loss is =  0.05662771314382553  and accuracy is =  0.7404317958783121\n",
            "At step  70  and at epoch =  36  the loss is =  0.0576530396938324  and accuracy is =  0.743081452404318\n",
            "At step  70  and at epoch =  37  the loss is =  0.05885403975844383  and accuracy is =  0.7393523061825319\n",
            "At step  70  and at epoch =  38  the loss is =  0.060219746083021164  and accuracy is =  0.7449460255152109\n",
            "At step  70  and at epoch =  39  the loss is =  0.060504406690597534  and accuracy is =  0.7470068694798823\n",
            "At step  70  and at epoch =  40  the loss is =  0.06053848937153816  and accuracy is =  0.7497546614327772\n",
            "At step  70  and at epoch =  41  the loss is =  0.06087173894047737  and accuracy is =  0.7477919528949951\n",
            "At step  70  and at epoch =  42  the loss is =  0.05569940432906151  and accuracy is =  0.7411187438665359\n",
            "At step  70  and at epoch =  43  the loss is =  0.059594105929136276  and accuracy is =  0.7465161923454368\n",
            "At step  70  and at epoch =  44  the loss is =  0.05591288208961487  and accuracy is =  0.751422963689892\n",
            "At step  70  and at epoch =  45  the loss is =  0.054220858961343765  and accuracy is =  0.751324828263003\n",
            "At step  70  and at epoch =  46  the loss is =  0.05292195454239845  and accuracy is =  0.7535819430814524\n",
            "At step  70  and at epoch =  47  the loss is =  0.0552574098110199  and accuracy is =  0.7591756624141315\n",
            "At step  70  and at epoch =  48  the loss is =  0.051046859472990036  and accuracy is =  0.7549558390578999\n",
            "At step  70  and at epoch =  49  the loss is =  0.05377329885959625  and accuracy is =  0.7891069676153091\n",
            "At step  70  and at epoch =  50  the loss is =  0.05106986314058304  and accuracy is =  0.8053974484789009\n",
            "At step  70  and at epoch =  51  the loss is =  0.050605278462171555  and accuracy is =  0.8123650637880275\n",
            "At step  70  and at epoch =  52  the loss is =  0.061381809413433075  and accuracy is =  0.8184494602551521\n",
            "At step  70  and at epoch =  53  the loss is =  0.056484952569007874  and accuracy is =  0.8209028459273798\n",
            "At step  70  and at epoch =  54  the loss is =  0.05009138584136963  and accuracy is =  0.823846908734053\n",
            "At step  70  and at epoch =  55  the loss is =  0.0512707456946373  and accuracy is =  0.8200196270853778\n",
            "At step  70  and at epoch =  56  the loss is =  0.05482301861047745  and accuracy is =  0.8290480863591757\n",
            "At step  70  and at epoch =  57  the loss is =  0.048732172697782516  and accuracy is =  0.8315996074582924\n"
          ],
          "name": "stdout"
        }
      ]
    },
    {
      "cell_type": "code",
      "metadata": {
        "id": "Z4_a4Ut-Or2N",
        "colab_type": "code",
        "colab": {}
      },
      "source": [
        "accs = [.897,.80,.76,.69,.64,.58,.54,.52,.48,.46]"
      ],
      "execution_count": null,
      "outputs": []
    },
    {
      "cell_type": "code",
      "metadata": {
        "id": "WAayIE_aPFWg",
        "colab_type": "code",
        "colab": {}
      },
      "source": [
        "import numpy as np\n",
        "import seaborn as sn\n",
        "import pandas as pd\n",
        "import matplotlib.pyplot as plt\n",
        "def plotTask(pars_tasks):\n",
        "\n",
        "  x_tasks =  np.linspace(10, 100, 10)\n",
        "\n",
        "  plt.plot(x_tasks, pars_tasks, label=['Accuracy'])\n",
        "  plt.xlabel(\"Epoch\")\n",
        "  plt.ylim(0,1)\n",
        "  plt.title('Accuracy over tasks')\n",
        "  plt.legend(['Accuracy'])\n",
        "  plt.grid(True)\n",
        "  plt.show()"
      ],
      "execution_count": null,
      "outputs": []
    },
    {
      "cell_type": "code",
      "metadata": {
        "id": "2RnKOCdaPM9X",
        "colab_type": "code",
        "colab": {}
      },
      "source": [
        "plotTask(accs)"
      ],
      "execution_count": null,
      "outputs": []
    },
    {
      "cell_type": "code",
      "metadata": {
        "id": "06OjJ60-H0SI",
        "colab_type": "code",
        "colab": {}
      },
      "source": [
        "np.diagonal(cf)"
      ],
      "execution_count": null,
      "outputs": []
    },
    {
      "cell_type": "code",
      "metadata": {
        "id": "jCn6mP7FH6w_",
        "colab_type": "code",
        "colab": {}
      },
      "source": [
        "true = np.sum(cf, axis=1)\n",
        "true"
      ],
      "execution_count": null,
      "outputs": []
    },
    {
      "cell_type": "code",
      "metadata": {
        "id": "5dzn4m6VIYfb",
        "colab_type": "code",
        "colab": {}
      },
      "source": [
        "pred = np.sum(cf, axis=0)\n",
        "pred"
      ],
      "execution_count": null,
      "outputs": []
    },
    {
      "cell_type": "code",
      "metadata": {
        "id": "S1QrlS0-Xiga",
        "colab_type": "code",
        "colab": {}
      },
      "source": [
        "pred = np.array([137,  98, 142, 112,  39,  82, 116,  96, 145, 112,  84, 110,  59,\n",
        "        96,  73,  78,  50,  91,  98,  92,  64, 109,  91,  72,  38,  70,\n",
        "        76,  81,  89, 102,  81, 116,  72,  59, 177,  59,  62,  63,  93,\n",
        "        90,  72,  79, 102,  52, 162,  68,  67,  80,  65,  98,  80,  65,\n",
        "        84,  96, 121,  53,  77, 136,  69, 103,  76,  94, 109,  79, 126,\n",
        "        61, 126, 106, 182,  68, 122,  94,  90,  80,  80, 159,  98, 132,\n",
        "       145,  88, 170,  77,  79,  78, 131,  74, 149,  70, 149, 114, 102,\n",
        "       172, 212, 134, 124, 187, 189, 114, 126, 131])"
      ],
      "execution_count": null,
      "outputs": []
    },
    {
      "cell_type": "code",
      "metadata": {
        "id": "UlRx8JD01HDc",
        "colab_type": "code",
        "colab": {}
      },
      "source": [
        "i = 0\n",
        "for el, name in zip(pred,trainDS.__getClassesNames__()) :\n",
        "  print('classe', i, 'name', name, ',preds', el)\n",
        "  i+=1"
      ],
      "execution_count": null,
      "outputs": []
    },
    {
      "cell_type": "code",
      "metadata": {
        "id": "FeuEDFid1qOE",
        "colab_type": "code",
        "colab": {}
      },
      "source": [
        "train_splits"
      ],
      "execution_count": null,
      "outputs": []
    },
    {
      "cell_type": "code",
      "metadata": {
        "id": "Y3bivRc41rd5",
        "colab_type": "code",
        "colab": {}
      },
      "source": [
        "trainDS.__getClassesNames__()"
      ],
      "execution_count": null,
      "outputs": []
    }
  ]
}