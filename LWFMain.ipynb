{
  "nbformat": 4,
  "nbformat_minor": 0,
  "metadata": {
    "colab": {
      "name": "TrainAndTest.ipynb",
      "provenance": [],
      "collapsed_sections": [],
      "include_colab_link": true
    },
    "kernelspec": {
      "name": "python3",
      "display_name": "Python 3"
    },
    "accelerator": "GPU",
    "widgets": {
      "application/vnd.jupyter.widget-state+json": {
        "8d98bca9ed554bf0b7fbd38466baf32a": {
          "model_module": "@jupyter-widgets/controls",
          "model_name": "HBoxModel",
          "state": {
            "_view_name": "HBoxView",
            "_dom_classes": [],
            "_model_name": "HBoxModel",
            "_view_module": "@jupyter-widgets/controls",
            "_model_module_version": "1.5.0",
            "_view_count": null,
            "_view_module_version": "1.5.0",
            "box_style": "",
            "layout": "IPY_MODEL_66ad95e69d2d412fa0c3953c6545c199",
            "_model_module": "@jupyter-widgets/controls",
            "children": [
              "IPY_MODEL_19db65aa101246ea87ff370cae0bf167",
              "IPY_MODEL_e3102f04f0a741e29398c9f926564904"
            ]
          }
        },
        "66ad95e69d2d412fa0c3953c6545c199": {
          "model_module": "@jupyter-widgets/base",
          "model_name": "LayoutModel",
          "state": {
            "_view_name": "LayoutView",
            "grid_template_rows": null,
            "right": null,
            "justify_content": null,
            "_view_module": "@jupyter-widgets/base",
            "overflow": null,
            "_model_module_version": "1.2.0",
            "_view_count": null,
            "flex_flow": null,
            "width": null,
            "min_width": null,
            "border": null,
            "align_items": null,
            "bottom": null,
            "_model_module": "@jupyter-widgets/base",
            "top": null,
            "grid_column": null,
            "overflow_y": null,
            "overflow_x": null,
            "grid_auto_flow": null,
            "grid_area": null,
            "grid_template_columns": null,
            "flex": null,
            "_model_name": "LayoutModel",
            "justify_items": null,
            "grid_row": null,
            "max_height": null,
            "align_content": null,
            "visibility": null,
            "align_self": null,
            "height": null,
            "min_height": null,
            "padding": null,
            "grid_auto_rows": null,
            "grid_gap": null,
            "max_width": null,
            "order": null,
            "_view_module_version": "1.2.0",
            "grid_template_areas": null,
            "object_position": null,
            "object_fit": null,
            "grid_auto_columns": null,
            "margin": null,
            "display": null,
            "left": null
          }
        },
        "19db65aa101246ea87ff370cae0bf167": {
          "model_module": "@jupyter-widgets/controls",
          "model_name": "FloatProgressModel",
          "state": {
            "_view_name": "ProgressView",
            "style": "IPY_MODEL_e5790a9932c7478f8619d1bab60d2606",
            "_dom_classes": [],
            "description": "",
            "_model_name": "FloatProgressModel",
            "bar_style": "info",
            "max": 1,
            "_view_module": "@jupyter-widgets/controls",
            "_model_module_version": "1.5.0",
            "value": 1,
            "_view_count": null,
            "_view_module_version": "1.5.0",
            "orientation": "horizontal",
            "min": 0,
            "description_tooltip": null,
            "_model_module": "@jupyter-widgets/controls",
            "layout": "IPY_MODEL_c0a93905966746738df20211831d9cdd"
          }
        },
        "e3102f04f0a741e29398c9f926564904": {
          "model_module": "@jupyter-widgets/controls",
          "model_name": "HTMLModel",
          "state": {
            "_view_name": "HTMLView",
            "style": "IPY_MODEL_72df6acd27324aaa95b32f91f09d8bc6",
            "_dom_classes": [],
            "description": "",
            "_model_name": "HTMLModel",
            "placeholder": "​",
            "_view_module": "@jupyter-widgets/controls",
            "_model_module_version": "1.5.0",
            "value": " 169009152/? [00:30&lt;00:00, 14585644.78it/s]",
            "_view_count": null,
            "_view_module_version": "1.5.0",
            "description_tooltip": null,
            "_model_module": "@jupyter-widgets/controls",
            "layout": "IPY_MODEL_d479421e64b2495fa56557dcf8417a18"
          }
        },
        "e5790a9932c7478f8619d1bab60d2606": {
          "model_module": "@jupyter-widgets/controls",
          "model_name": "ProgressStyleModel",
          "state": {
            "_view_name": "StyleView",
            "_model_name": "ProgressStyleModel",
            "description_width": "initial",
            "_view_module": "@jupyter-widgets/base",
            "_model_module_version": "1.5.0",
            "_view_count": null,
            "_view_module_version": "1.2.0",
            "bar_color": null,
            "_model_module": "@jupyter-widgets/controls"
          }
        },
        "c0a93905966746738df20211831d9cdd": {
          "model_module": "@jupyter-widgets/base",
          "model_name": "LayoutModel",
          "state": {
            "_view_name": "LayoutView",
            "grid_template_rows": null,
            "right": null,
            "justify_content": null,
            "_view_module": "@jupyter-widgets/base",
            "overflow": null,
            "_model_module_version": "1.2.0",
            "_view_count": null,
            "flex_flow": null,
            "width": null,
            "min_width": null,
            "border": null,
            "align_items": null,
            "bottom": null,
            "_model_module": "@jupyter-widgets/base",
            "top": null,
            "grid_column": null,
            "overflow_y": null,
            "overflow_x": null,
            "grid_auto_flow": null,
            "grid_area": null,
            "grid_template_columns": null,
            "flex": null,
            "_model_name": "LayoutModel",
            "justify_items": null,
            "grid_row": null,
            "max_height": null,
            "align_content": null,
            "visibility": null,
            "align_self": null,
            "height": null,
            "min_height": null,
            "padding": null,
            "grid_auto_rows": null,
            "grid_gap": null,
            "max_width": null,
            "order": null,
            "_view_module_version": "1.2.0",
            "grid_template_areas": null,
            "object_position": null,
            "object_fit": null,
            "grid_auto_columns": null,
            "margin": null,
            "display": null,
            "left": null
          }
        },
        "72df6acd27324aaa95b32f91f09d8bc6": {
          "model_module": "@jupyter-widgets/controls",
          "model_name": "DescriptionStyleModel",
          "state": {
            "_view_name": "StyleView",
            "_model_name": "DescriptionStyleModel",
            "description_width": "",
            "_view_module": "@jupyter-widgets/base",
            "_model_module_version": "1.5.0",
            "_view_count": null,
            "_view_module_version": "1.2.0",
            "_model_module": "@jupyter-widgets/controls"
          }
        },
        "d479421e64b2495fa56557dcf8417a18": {
          "model_module": "@jupyter-widgets/base",
          "model_name": "LayoutModel",
          "state": {
            "_view_name": "LayoutView",
            "grid_template_rows": null,
            "right": null,
            "justify_content": null,
            "_view_module": "@jupyter-widgets/base",
            "overflow": null,
            "_model_module_version": "1.2.0",
            "_view_count": null,
            "flex_flow": null,
            "width": null,
            "min_width": null,
            "border": null,
            "align_items": null,
            "bottom": null,
            "_model_module": "@jupyter-widgets/base",
            "top": null,
            "grid_column": null,
            "overflow_y": null,
            "overflow_x": null,
            "grid_auto_flow": null,
            "grid_area": null,
            "grid_template_columns": null,
            "flex": null,
            "_model_name": "LayoutModel",
            "justify_items": null,
            "grid_row": null,
            "max_height": null,
            "align_content": null,
            "visibility": null,
            "align_self": null,
            "height": null,
            "min_height": null,
            "padding": null,
            "grid_auto_rows": null,
            "grid_gap": null,
            "max_width": null,
            "order": null,
            "_view_module_version": "1.2.0",
            "grid_template_areas": null,
            "object_position": null,
            "object_fit": null,
            "grid_auto_columns": null,
            "margin": null,
            "display": null,
            "left": null
          }
        }
      }
    }
  },
  "cells": [
    {
      "cell_type": "markdown",
      "metadata": {
        "id": "view-in-github",
        "colab_type": "text"
      },
      "source": [
        "<a href=\"https://colab.research.google.com/github/luciainnocenti/IncrementalLearning/blob/master/LWFMain.ipynb\" target=\"_parent\"><img src=\"https://colab.research.google.com/assets/colab-badge.svg\" alt=\"Open In Colab\"/></a>"
      ]
    },
    {
      "cell_type": "markdown",
      "metadata": {
        "id": "mbtGDBU3QJaq",
        "colab_type": "text"
      },
      "source": [
        "# Import GitHub repository"
      ]
    },
    {
      "cell_type": "code",
      "metadata": {
        "id": "wf0TmOM3NdFM",
        "colab_type": "code",
        "colab": {}
      },
      "source": [
        "import os\n",
        "import logging\n",
        "import sys\n"
      ],
      "execution_count": null,
      "outputs": []
    },
    {
      "cell_type": "code",
      "metadata": {
        "id": "8I0pKIVIM2KC",
        "colab_type": "code",
        "colab": {
          "base_uri": "https://localhost:8080/",
          "height": 146
        },
        "outputId": "4429c00d-4655-414e-ae09-f45dad00c49d"
      },
      "source": [
        "if not os.path.isdir('./DatasetCIFAR'):\n",
        "  !git clone https://github.com/luciainnocenti/IncrementalLearning.git\n",
        "  !mv 'IncrementalLearning' 'DatasetCIFAR'"
      ],
      "execution_count": null,
      "outputs": [
        {
          "output_type": "stream",
          "text": [
            "Cloning into 'IncrementalLearning'...\n",
            "remote: Enumerating objects: 106, done.\u001b[K\n",
            "remote: Counting objects: 100% (106/106), done.\u001b[K\n",
            "remote: Compressing objects: 100% (81/81), done.\u001b[K\n",
            "remote: Total 1218 (delta 74), reused 26 (delta 25), pack-reused 1112\u001b[K\n",
            "Receiving objects: 100% (1218/1218), 816.27 KiB | 905.00 KiB/s, done.\n",
            "Resolving deltas: 100% (774/774), done.\n"
          ],
          "name": "stdout"
        }
      ]
    },
    {
      "cell_type": "markdown",
      "metadata": {
        "id": "aLaS2laafBaG",
        "colab_type": "text"
      },
      "source": [
        "# Import packages"
      ]
    },
    {
      "cell_type": "code",
      "metadata": {
        "id": "liUP5Kc1DMbH",
        "colab_type": "code",
        "colab": {}
      },
      "source": [
        "from DatasetCIFAR.data_set import Dataset \n",
        "from DatasetCIFAR import ResNet\n",
        "from DatasetCIFAR import utils\n",
        "from DatasetCIFAR import params\n",
        "from torchvision import models\n",
        "import torch.nn as nn\n",
        "import torch\n",
        "import torch.optim as optim\n",
        "import torchvision\n",
        "import numpy as np\n",
        "\n",
        "from torchvision import transforms\n",
        "from torch.utils.data import Subset, DataLoader\n",
        "from torch.nn import functional as F\n",
        "import random\n",
        "random.seed(params.SEED)"
      ],
      "execution_count": null,
      "outputs": []
    },
    {
      "cell_type": "code",
      "metadata": {
        "id": "JToBIXRBKgOm",
        "colab_type": "code",
        "colab": {
          "base_uri": "https://localhost:8080/",
          "height": 54
        },
        "outputId": "6304a75a-4bd1-4360-c151-ec860734f531"
      },
      "source": [
        "print(params.SEED)\n",
        "print(params.NUM_WORKERS)"
      ],
      "execution_count": null,
      "outputs": [
        {
          "output_type": "stream",
          "text": [
            "653\n",
            "4\n"
          ],
          "name": "stdout"
        }
      ]
    },
    {
      "cell_type": "markdown",
      "metadata": {
        "id": "0_vlqOL7ehLC",
        "colab_type": "text"
      },
      "source": [
        "# Define Network"
      ]
    },
    {
      "cell_type": "code",
      "metadata": {
        "id": "tWttFW3ljoMj",
        "colab_type": "code",
        "colab": {}
      },
      "source": [
        "resNet = ResNet.resnet32(num_classes=100)\n",
        "resNet = resNet.to(params.DEVICE)"
      ],
      "execution_count": null,
      "outputs": []
    },
    {
      "cell_type": "code",
      "metadata": {
        "id": "HSmohsyVWFpr",
        "colab_type": "code",
        "colab": {}
      },
      "source": [
        "train_transformer = transforms.Compose([transforms.RandomCrop(size = 32, padding=4),\n",
        "                                         transforms.RandomHorizontalFlip(),\n",
        "                                         transforms.ToTensor(),\n",
        "                                         transforms.Normalize((0.5, 0.5, 0.5), (0.5, 0.5, 0.5))\n",
        "])\n",
        "\n",
        "test_transformer = transforms.Compose([transforms.ToTensor(),\n",
        "                                         transforms.Normalize((0.5, 0.5, 0.5), (0.5, 0.5, 0.5))\n",
        "])"
      ],
      "execution_count": null,
      "outputs": []
    },
    {
      "cell_type": "markdown",
      "metadata": {
        "id": "y_cyhIzFej5-",
        "colab_type": "text"
      },
      "source": [
        "# Define DataSets"
      ]
    },
    {
      "cell_type": "code",
      "metadata": {
        "id": "wcBNohmiYBtP",
        "colab_type": "code",
        "colab": {
          "base_uri": "https://localhost:8080/",
          "height": 104,
          "referenced_widgets": [
            "8d98bca9ed554bf0b7fbd38466baf32a",
            "66ad95e69d2d412fa0c3953c6545c199",
            "19db65aa101246ea87ff370cae0bf167",
            "e3102f04f0a741e29398c9f926564904",
            "e5790a9932c7478f8619d1bab60d2606",
            "c0a93905966746738df20211831d9cdd",
            "72df6acd27324aaa95b32f91f09d8bc6",
            "d479421e64b2495fa56557dcf8417a18"
          ]
        },
        "outputId": "95020b12-1d4c-452f-bf46-dc568a055b87"
      },
      "source": [
        "trainDS = Dataset(train=True, transform = train_transformer)\n",
        "testDS = Dataset(train=False, transform = test_transformer)"
      ],
      "execution_count": null,
      "outputs": [
        {
          "output_type": "stream",
          "text": [
            "Downloading https://www.cs.toronto.edu/~kriz/cifar-100-python.tar.gz to data/cifar-100-python.tar.gz\n"
          ],
          "name": "stdout"
        },
        {
          "output_type": "display_data",
          "data": {
            "application/vnd.jupyter.widget-view+json": {
              "model_id": "8d98bca9ed554bf0b7fbd38466baf32a",
              "version_minor": 0,
              "version_major": 2
            },
            "text/plain": [
              "HBox(children=(FloatProgress(value=1.0, bar_style='info', max=1.0), HTML(value='')))"
            ]
          },
          "metadata": {
            "tags": []
          }
        },
        {
          "output_type": "stream",
          "text": [
            "Extracting data/cifar-100-python.tar.gz to data\n",
            "Files already downloaded and verified\n"
          ],
          "name": "stdout"
        }
      ]
    },
    {
      "cell_type": "code",
      "metadata": {
        "id": "dFxMUO_FQZRo",
        "colab_type": "code",
        "colab": {
          "base_uri": "https://localhost:8080/",
          "height": 74
        },
        "outputId": "e1e507b3-450a-485e-a992-4953c492677f"
      },
      "source": [
        "train_splits = trainDS.splits\n",
        "test_splits = testDS.splits\n",
        "print(train_splits)\n",
        "print(test_splits)"
      ],
      "execution_count": null,
      "outputs": [
        {
          "output_type": "stream",
          "text": [
            "[[94.0, 63.0, 74.0, 21.0, 35.0, 56.0, 91.0, 96.0, 87.0, 48.0], [68.0, 80.0, 22.0, 37.0, 60.0, 97.0, 51.0, 62.0, 92.0, 76.0], [75.0, 89.0, 23.0, 99.0, 39.0, 66.0, 54.0, 69.0, 84.0, 61.0], [85.0, 24.0, 98.0, 41.0, 73.0, 58.0, 78.0, 77.0, 70.0, 49.0], [65.0, 88.0, 36.0, 93.0, 45.0, 10.0, 90.0, 17.0, 32.0, 59.0], [83.0, 43.0, 53.0, 11.0, 86.0, 19.0, 38.0, 30.0, 40.0, 50.0], [57.0, 81.0, 12.0, 95.0, 25.0, 47.0, 34.0, 52.0, 44.0, 72.0], [46.0, 79.0, 20.0, 28.0, 5.0, 71.0, 8.0, 18.0, 33.0, 15.0], [55.0, 29.0, 64.0, 31.0, 67.0, 7.0, 13.0, 14.0, 42.0, 6.0], [82.0, 2.0, 27.0, 16.0, 26.0, 3.0, 4.0, 1.0, 9.0, 0.0]]\n",
            "[[94.0, 63.0, 74.0, 21.0, 35.0, 56.0, 91.0, 96.0, 87.0, 48.0], [68.0, 80.0, 22.0, 37.0, 60.0, 97.0, 51.0, 62.0, 92.0, 76.0], [75.0, 89.0, 23.0, 99.0, 39.0, 66.0, 54.0, 69.0, 84.0, 61.0], [85.0, 24.0, 98.0, 41.0, 73.0, 58.0, 78.0, 77.0, 70.0, 49.0], [65.0, 88.0, 36.0, 93.0, 45.0, 10.0, 90.0, 17.0, 32.0, 59.0], [83.0, 43.0, 53.0, 11.0, 86.0, 19.0, 38.0, 30.0, 40.0, 50.0], [57.0, 81.0, 12.0, 95.0, 25.0, 47.0, 34.0, 52.0, 44.0, 72.0], [46.0, 79.0, 20.0, 28.0, 5.0, 71.0, 8.0, 18.0, 33.0, 15.0], [55.0, 29.0, 64.0, 31.0, 67.0, 7.0, 13.0, 14.0, 42.0, 6.0], [82.0, 2.0, 27.0, 16.0, 26.0, 3.0, 4.0, 1.0, 9.0, 0.0]]\n"
          ],
          "name": "stdout"
        }
      ]
    },
    {
      "cell_type": "markdown",
      "metadata": {
        "id": "WgAT2KQEersx",
        "colab_type": "text"
      },
      "source": [
        "# Useful plots"
      ]
    },
    {
      "cell_type": "markdown",
      "metadata": {
        "id": "B1l7flYj4NJh",
        "colab_type": "text"
      },
      "source": [
        "The function plotEpoch plots, at the end of each task, how accuracy and loss change during the training phase. It show\n",
        "\n",
        "*   Validation and Training Accuracy\n",
        "*   Validation and Training Loss\n",
        "\n",
        "The function plotTask, for each task, how the accuracy on the validation set change when adding new tasks\n"
      ]
    },
    {
      "cell_type": "code",
      "metadata": {
        "id": "Gr58kkHiIzZU",
        "colab_type": "code",
        "colab": {}
      },
      "source": [
        "def plotTask(pars_tasks):\n",
        "  import numpy as np\n",
        "  import matplotlib.pyplot as plt\n",
        "\n",
        "  x_tasks =  np.linspace(10, 100, 10)\n",
        "\n",
        "  plt.plot(x_tasks, pars_tasks, label=['Accuracy', 'Loss'])\n",
        "  plt.xlabel(\"Epoch\")\n",
        "  plt.title('Accuracy over tasks')\n",
        "  plt.legend(['Accuracy', 'Loss'])\n",
        "  plt.grid(True)\n",
        "  plt.show()\n",
        "\n"
      ],
      "execution_count": null,
      "outputs": []
    },
    {
      "cell_type": "markdown",
      "metadata": {
        "id": "iApKvCs942aS",
        "colab_type": "text"
      },
      "source": [
        "# Train and evaluation phase"
      ]
    },
    {
      "cell_type": "code",
      "metadata": {
        "id": "oJse4JU7d9ck",
        "colab_type": "code",
        "colab": {
          "base_uri": "https://localhost:8080/",
          "height": 1000
        },
        "outputId": "9d96ac8f-a52d-42ce-9216-fa01074c790b"
      },
      "source": [
        "pars_tasks = []\n",
        "test_indexes = []\n",
        "\n",
        "for task in range(0, 100, params.TASK_SIZE):\n",
        "  pars_tasks.insert(task, 0)\n",
        "\n",
        "for task in range(0, 100, params.TASK_SIZE):\n",
        "\n",
        "  train_indexes = trainDS.__getIndexesGroups__(task)\n",
        "  test_indexes = test_indexes + testDS.__getIndexesGroups__(task)\n",
        "\n",
        "  train_dataset = Subset(trainDS, train_indexes)\n",
        "  test_dataset = Subset(testDS, test_indexes)\n",
        "\n",
        "  train_loader = DataLoader( train_dataset, num_workers=params.NUM_WORKERS, batch_size=params.BATCH_SIZE, shuffle = True)\n",
        "  test_loader = DataLoader( test_dataset, num_workers=params.NUM_WORKERS, batch_size=params.BATCH_SIZE, shuffle = True )\n",
        "\n",
        "  if(task == 0):\n",
        "    torch.save(resNet, 'resNet_task{0}.pt'.format(task))\n",
        "  \n",
        "  \n",
        "\n",
        "  utils.trainfunction(task, train_loader, train_splits)\n",
        "  param = utils.evaluationTest(task, test_loader, test_splits)\n",
        "  pars_tasks[int(task/10)] = param #pars_task[i] = (accuracy, loss) at i-th task\t"
      ],
      "execution_count": null,
      "outputs": [
        {
          "output_type": "stream",
          "text": [
            "task = 0 \n",
            "train col =  [94 63 74 21 35 56 91 96 87 48]\n",
            "train col =  [[94 63 74 21 35 56 91 96 87 48]]\n"
          ],
          "name": "stdout"
        },
        {
          "output_type": "stream",
          "text": [
            "/usr/local/lib/python3.6/dist-packages/torch/optim/lr_scheduler.py:123: UserWarning: Detected call of `lr_scheduler.step()` before `optimizer.step()`. In PyTorch 1.1.0 and later, you should call them in the opposite order: `optimizer.step()` before `lr_scheduler.step()`.  Failure to do this will result in PyTorch skipping the first value of the learning rate schedule. See more details at https://pytorch.org/docs/stable/optim.html#how-to-adjust-learning-rate\n",
            "  \"https://pytorch.org/docs/stable/optim.html#how-to-adjust-learning-rate\", UserWarning)\n"
          ],
          "name": "stderr"
        },
        {
          "output_type": "stream",
          "text": [
            "At step  0  and at epoch =  0  the loss is =  0.036493223160505295  and accuracy is =  0.1638\n",
            "At step  0  and at epoch =  1  the loss is =  0.021640753373503685  and accuracy is =  0.4074\n",
            "At step  0  and at epoch =  2  the loss is =  0.021695980802178383  and accuracy is =  0.5226\n",
            "At step  0  and at epoch =  3  the loss is =  0.012798791751265526  and accuracy is =  0.5884\n",
            "At step  0  and at epoch =  4  the loss is =  0.0154981454834342  and accuracy is =  0.6562\n",
            "At step  0  and at epoch =  5  the loss is =  0.01473699975758791  and accuracy is =  0.6968\n",
            "At step  0  and at epoch =  6  the loss is =  0.013683991506695747  and accuracy is =  0.7312\n",
            "At step  0  and at epoch =  7  the loss is =  0.02381151355803013  and accuracy is =  0.7186\n",
            "At step  0  and at epoch =  8  the loss is =  0.01795913465321064  and accuracy is =  0.7818\n",
            "At step  0  and at epoch =  9  the loss is =  0.00974088255316019  and accuracy is =  0.8154\n",
            "At step  0  and at epoch =  10  the loss is =  0.012343451380729675  and accuracy is =  0.8496\n",
            "At step  0  and at epoch =  11  the loss is =  0.014830658212304115  and accuracy is =  0.7734\n",
            "At step  0  and at epoch =  12  the loss is =  0.009510687552392483  and accuracy is =  0.8412\n",
            "At step  0  and at epoch =  13  the loss is =  0.009038632735610008  and accuracy is =  0.8602\n",
            "At step  0  and at epoch =  14  the loss is =  0.019206728786230087  and accuracy is =  0.912\n",
            "At step  0  and at epoch =  15  the loss is =  0.009329359978437424  and accuracy is =  0.8896\n",
            "At step  0  and at epoch =  16  the loss is =  0.008614934980869293  and accuracy is =  0.9178\n",
            "At step  0  and at epoch =  17  the loss is =  0.006938822101801634  and accuracy is =  0.9392\n",
            "At step  0  and at epoch =  18  the loss is =  0.026734504848718643  and accuracy is =  0.9388\n",
            "At step  0  and at epoch =  19  the loss is =  0.015066449530422688  and accuracy is =  0.8808\n",
            "At step  0  and at epoch =  20  the loss is =  0.0169356781989336  and accuracy is =  0.8776\n",
            "At step  0  and at epoch =  21  the loss is =  0.014505233615636826  and accuracy is =  0.9576\n",
            "At step  0  and at epoch =  22  the loss is =  0.012692805379629135  and accuracy is =  0.9418\n",
            "At step  0  and at epoch =  23  the loss is =  0.0017561089480295777  and accuracy is =  0.9204\n",
            "At step  0  and at epoch =  24  the loss is =  0.00432854238897562  and accuracy is =  0.972\n",
            "At step  0  and at epoch =  25  the loss is =  0.014755301177501678  and accuracy is =  0.9704\n",
            "At step  0  and at epoch =  26  the loss is =  0.006640965584665537  and accuracy is =  0.9202\n",
            "At step  0  and at epoch =  27  the loss is =  0.007506462279707193  and accuracy is =  0.9282\n",
            "At step  0  and at epoch =  28  the loss is =  0.005759524181485176  and accuracy is =  0.9272\n",
            "At step  0  and at epoch =  29  the loss is =  0.0032847824040800333  and accuracy is =  0.9596\n",
            "At step  0  and at epoch =  30  the loss is =  0.007688543759286404  and accuracy is =  0.9742\n",
            "At step  0  and at epoch =  31  the loss is =  0.012473697774112225  and accuracy is =  0.9326\n",
            "At step  0  and at epoch =  32  the loss is =  0.006124965380877256  and accuracy is =  0.9168\n",
            "At step  0  and at epoch =  33  the loss is =  0.005825921893119812  and accuracy is =  0.9638\n",
            "At step  0  and at epoch =  34  the loss is =  0.0019133432069793344  and accuracy is =  0.9684\n",
            "At step  0  and at epoch =  35  the loss is =  0.0021418994292616844  and accuracy is =  0.9884\n",
            "At step  0  and at epoch =  36  the loss is =  0.007307644467800856  and accuracy is =  0.9924\n",
            "At step  0  and at epoch =  37  the loss is =  0.009943748824298382  and accuracy is =  0.9786\n",
            "At step  0  and at epoch =  38  the loss is =  0.01124845165759325  and accuracy is =  0.9852\n",
            "At step  0  and at epoch =  39  the loss is =  0.005363035015761852  and accuracy is =  0.943\n",
            "At step  0  and at epoch =  40  the loss is =  0.018350571393966675  and accuracy is =  0.9744\n",
            "At step  0  and at epoch =  41  the loss is =  0.01122872345149517  and accuracy is =  0.9018\n",
            "At step  0  and at epoch =  42  the loss is =  0.004084205720573664  and accuracy is =  0.9516\n",
            "At step  0  and at epoch =  43  the loss is =  0.007937303744256496  and accuracy is =  0.9788\n",
            "At step  0  and at epoch =  44  the loss is =  0.0019432228291407228  and accuracy is =  0.9758\n",
            "At step  0  and at epoch =  45  the loss is =  0.008999919518828392  and accuracy is =  0.9852\n",
            "At step  0  and at epoch =  46  the loss is =  0.006015663035213947  and accuracy is =  0.9792\n",
            "At step  0  and at epoch =  47  the loss is =  0.005552177783101797  and accuracy is =  0.9798\n",
            "At step  0  and at epoch =  48  the loss is =  0.00545106315985322  and accuracy is =  0.9902\n",
            "At step  0  and at epoch =  49  the loss is =  0.0011313635623082519  and accuracy is =  0.9958\n",
            "At step  0  and at epoch =  50  the loss is =  0.0009537485893815756  and accuracy is =  0.9988\n",
            "At step  0  and at epoch =  51  the loss is =  0.006440404336899519  and accuracy is =  0.9992\n",
            "At step  0  and at epoch =  52  the loss is =  0.003324651625007391  and accuracy is =  0.9982\n",
            "At step  0  and at epoch =  53  the loss is =  0.0018890566425397992  and accuracy is =  0.9984\n",
            "At step  0  and at epoch =  54  the loss is =  0.008215409703552723  and accuracy is =  0.9988\n",
            "At step  0  and at epoch =  55  the loss is =  0.0057973978109657764  and accuracy is =  0.998\n",
            "At step  0  and at epoch =  56  the loss is =  0.014733823947608471  and accuracy is =  0.999\n",
            "At step  0  and at epoch =  57  the loss is =  0.006791053805500269  and accuracy is =  0.998\n",
            "At step  0  and at epoch =  58  the loss is =  0.002594633726403117  and accuracy is =  0.9992\n",
            "At step  0  and at epoch =  59  the loss is =  0.007154378108680248  and accuracy is =  0.998\n",
            "At step  0  and at epoch =  60  the loss is =  0.015613667666912079  and accuracy is =  0.9984\n",
            "At step  0  and at epoch =  61  the loss is =  0.009612289257347584  and accuracy is =  0.9978\n",
            "At step  0  and at epoch =  62  the loss is =  0.01126138586550951  and accuracy is =  0.9994\n",
            "At step  0  and at epoch =  63  the loss is =  0.0004858107422478497  and accuracy is =  0.9998\n",
            "At step  0  and at epoch =  64  the loss is =  0.0015203391667455435  and accuracy is =  0.9998\n",
            "At step  0  and at epoch =  65  the loss is =  0.0021054036915302277  and accuracy is =  1.0\n",
            "At step  0  and at epoch =  66  the loss is =  0.00013757443230133504  and accuracy is =  0.9994\n",
            "At step  0  and at epoch =  67  the loss is =  0.00036436255322769284  and accuracy is =  1.0\n",
            "At step  0  and at epoch =  68  the loss is =  0.008166180923581123  and accuracy is =  0.9994\n",
            "At step  0  and at epoch =  69  the loss is =  0.0018022843869403005  and accuracy is =  1.0\n",
            "128\n",
            "128\n",
            "128\n",
            "128\n",
            "128\n",
            "128\n",
            "128\n",
            "104\n",
            "Validation Loss: 0.009688585065305233 Validation Accuracy : 0.798\n",
            "task = 10 \n",
            "train col =  [68 80 22 37 60 97 51 62 92 76]\n",
            "train col =  [[68 80 22 37 60 97 51 62 92 76]]\n",
            "At step  10  and at epoch =  0  the loss is =  0.03514116257429123  and accuracy is =  0.3104\n",
            "At step  10  and at epoch =  1  the loss is =  0.0322069451212883  and accuracy is =  0.544\n",
            "At step  10  and at epoch =  2  the loss is =  0.04203643649816513  and accuracy is =  0.6198\n",
            "At step  10  and at epoch =  3  the loss is =  0.03849848732352257  and accuracy is =  0.6794\n",
            "At step  10  and at epoch =  4  the loss is =  0.028997311368584633  and accuracy is =  0.7242\n",
            "At step  10  and at epoch =  5  the loss is =  0.028623217716813087  and accuracy is =  0.7696\n",
            "At step  10  and at epoch =  6  the loss is =  0.031122421845793724  and accuracy is =  0.8094\n",
            "At step  10  and at epoch =  7  the loss is =  0.038757774978876114  and accuracy is =  0.8582\n",
            "At step  10  and at epoch =  8  the loss is =  0.03527091071009636  and accuracy is =  0.8522\n",
            "At step  10  and at epoch =  9  the loss is =  0.022715510800480843  and accuracy is =  0.8474\n",
            "At step  10  and at epoch =  10  the loss is =  0.03648151457309723  and accuracy is =  0.9128\n"
          ],
          "name": "stdout"
        }
      ]
    },
    {
      "cell_type": "code",
      "metadata": {
        "id": "Ptf2qZjFbWNr",
        "colab_type": "code",
        "colab": {}
      },
      "source": [
        "plotTask(pars_tasks)"
      ],
      "execution_count": null,
      "outputs": []
    }
  ]
}