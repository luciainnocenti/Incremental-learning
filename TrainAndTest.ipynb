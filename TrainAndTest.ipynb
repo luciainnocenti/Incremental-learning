{
  "nbformat": 4,
  "nbformat_minor": 0,
  "metadata": {
    "colab": {
      "name": "TrainAndTest.ipynb",
      "provenance": [],
      "collapsed_sections": [],
      "include_colab_link": true
    },
    "kernelspec": {
      "name": "python3",
      "display_name": "Python 3"
    },
    "accelerator": "GPU",
    "widgets": {
      "application/vnd.jupyter.widget-state+json": {
        "2813c58046b3475a870d44e7f51c5e5b": {
          "model_module": "@jupyter-widgets/controls",
          "model_name": "HBoxModel",
          "state": {
            "_view_name": "HBoxView",
            "_dom_classes": [],
            "_model_name": "HBoxModel",
            "_view_module": "@jupyter-widgets/controls",
            "_model_module_version": "1.5.0",
            "_view_count": null,
            "_view_module_version": "1.5.0",
            "box_style": "",
            "layout": "IPY_MODEL_bbba811b2aea4f569658668074b6bced",
            "_model_module": "@jupyter-widgets/controls",
            "children": [
              "IPY_MODEL_17158798c8354e458e05979796105e34",
              "IPY_MODEL_310f4ee0238b44a7b4a34cc7ee5340af"
            ]
          }
        },
        "bbba811b2aea4f569658668074b6bced": {
          "model_module": "@jupyter-widgets/base",
          "model_name": "LayoutModel",
          "state": {
            "_view_name": "LayoutView",
            "grid_template_rows": null,
            "right": null,
            "justify_content": null,
            "_view_module": "@jupyter-widgets/base",
            "overflow": null,
            "_model_module_version": "1.2.0",
            "_view_count": null,
            "flex_flow": null,
            "width": null,
            "min_width": null,
            "border": null,
            "align_items": null,
            "bottom": null,
            "_model_module": "@jupyter-widgets/base",
            "top": null,
            "grid_column": null,
            "overflow_y": null,
            "overflow_x": null,
            "grid_auto_flow": null,
            "grid_area": null,
            "grid_template_columns": null,
            "flex": null,
            "_model_name": "LayoutModel",
            "justify_items": null,
            "grid_row": null,
            "max_height": null,
            "align_content": null,
            "visibility": null,
            "align_self": null,
            "height": null,
            "min_height": null,
            "padding": null,
            "grid_auto_rows": null,
            "grid_gap": null,
            "max_width": null,
            "order": null,
            "_view_module_version": "1.2.0",
            "grid_template_areas": null,
            "object_position": null,
            "object_fit": null,
            "grid_auto_columns": null,
            "margin": null,
            "display": null,
            "left": null
          }
        },
        "17158798c8354e458e05979796105e34": {
          "model_module": "@jupyter-widgets/controls",
          "model_name": "FloatProgressModel",
          "state": {
            "_view_name": "ProgressView",
            "style": "IPY_MODEL_60c0f69bab8641a6a1d641eeb163a728",
            "_dom_classes": [],
            "description": "",
            "_model_name": "FloatProgressModel",
            "bar_style": "info",
            "max": 1,
            "_view_module": "@jupyter-widgets/controls",
            "_model_module_version": "1.5.0",
            "value": 1,
            "_view_count": null,
            "_view_module_version": "1.5.0",
            "orientation": "horizontal",
            "min": 0,
            "description_tooltip": null,
            "_model_module": "@jupyter-widgets/controls",
            "layout": "IPY_MODEL_3d23cdd4a261432da588c9ef6032feb6"
          }
        },
        "310f4ee0238b44a7b4a34cc7ee5340af": {
          "model_module": "@jupyter-widgets/controls",
          "model_name": "HTMLModel",
          "state": {
            "_view_name": "HTMLView",
            "style": "IPY_MODEL_66d200c6fe254724b36d661702ca948e",
            "_dom_classes": [],
            "description": "",
            "_model_name": "HTMLModel",
            "placeholder": "​",
            "_view_module": "@jupyter-widgets/controls",
            "_model_module_version": "1.5.0",
            "value": " 169009152/? [00:30&lt;00:00, 16785657.29it/s]",
            "_view_count": null,
            "_view_module_version": "1.5.0",
            "description_tooltip": null,
            "_model_module": "@jupyter-widgets/controls",
            "layout": "IPY_MODEL_045bf17fc72e4e9089058be5f9cdf86c"
          }
        },
        "60c0f69bab8641a6a1d641eeb163a728": {
          "model_module": "@jupyter-widgets/controls",
          "model_name": "ProgressStyleModel",
          "state": {
            "_view_name": "StyleView",
            "_model_name": "ProgressStyleModel",
            "description_width": "initial",
            "_view_module": "@jupyter-widgets/base",
            "_model_module_version": "1.5.0",
            "_view_count": null,
            "_view_module_version": "1.2.0",
            "bar_color": null,
            "_model_module": "@jupyter-widgets/controls"
          }
        },
        "3d23cdd4a261432da588c9ef6032feb6": {
          "model_module": "@jupyter-widgets/base",
          "model_name": "LayoutModel",
          "state": {
            "_view_name": "LayoutView",
            "grid_template_rows": null,
            "right": null,
            "justify_content": null,
            "_view_module": "@jupyter-widgets/base",
            "overflow": null,
            "_model_module_version": "1.2.0",
            "_view_count": null,
            "flex_flow": null,
            "width": null,
            "min_width": null,
            "border": null,
            "align_items": null,
            "bottom": null,
            "_model_module": "@jupyter-widgets/base",
            "top": null,
            "grid_column": null,
            "overflow_y": null,
            "overflow_x": null,
            "grid_auto_flow": null,
            "grid_area": null,
            "grid_template_columns": null,
            "flex": null,
            "_model_name": "LayoutModel",
            "justify_items": null,
            "grid_row": null,
            "max_height": null,
            "align_content": null,
            "visibility": null,
            "align_self": null,
            "height": null,
            "min_height": null,
            "padding": null,
            "grid_auto_rows": null,
            "grid_gap": null,
            "max_width": null,
            "order": null,
            "_view_module_version": "1.2.0",
            "grid_template_areas": null,
            "object_position": null,
            "object_fit": null,
            "grid_auto_columns": null,
            "margin": null,
            "display": null,
            "left": null
          }
        },
        "66d200c6fe254724b36d661702ca948e": {
          "model_module": "@jupyter-widgets/controls",
          "model_name": "DescriptionStyleModel",
          "state": {
            "_view_name": "StyleView",
            "_model_name": "DescriptionStyleModel",
            "description_width": "",
            "_view_module": "@jupyter-widgets/base",
            "_model_module_version": "1.5.0",
            "_view_count": null,
            "_view_module_version": "1.2.0",
            "_model_module": "@jupyter-widgets/controls"
          }
        },
        "045bf17fc72e4e9089058be5f9cdf86c": {
          "model_module": "@jupyter-widgets/base",
          "model_name": "LayoutModel",
          "state": {
            "_view_name": "LayoutView",
            "grid_template_rows": null,
            "right": null,
            "justify_content": null,
            "_view_module": "@jupyter-widgets/base",
            "overflow": null,
            "_model_module_version": "1.2.0",
            "_view_count": null,
            "flex_flow": null,
            "width": null,
            "min_width": null,
            "border": null,
            "align_items": null,
            "bottom": null,
            "_model_module": "@jupyter-widgets/base",
            "top": null,
            "grid_column": null,
            "overflow_y": null,
            "overflow_x": null,
            "grid_auto_flow": null,
            "grid_area": null,
            "grid_template_columns": null,
            "flex": null,
            "_model_name": "LayoutModel",
            "justify_items": null,
            "grid_row": null,
            "max_height": null,
            "align_content": null,
            "visibility": null,
            "align_self": null,
            "height": null,
            "min_height": null,
            "padding": null,
            "grid_auto_rows": null,
            "grid_gap": null,
            "max_width": null,
            "order": null,
            "_view_module_version": "1.2.0",
            "grid_template_areas": null,
            "object_position": null,
            "object_fit": null,
            "grid_auto_columns": null,
            "margin": null,
            "display": null,
            "left": null
          }
        }
      }
    }
  },
  "cells": [
    {
      "cell_type": "markdown",
      "metadata": {
        "id": "view-in-github",
        "colab_type": "text"
      },
      "source": [
        "<a href=\"https://colab.research.google.com/github/luciainnocenti/IncrementalLearning/blob/Lucia/TrainAndTest.ipynb\" target=\"_parent\"><img src=\"https://colab.research.google.com/assets/colab-badge.svg\" alt=\"Open In Colab\"/></a>"
      ]
    },
    {
      "cell_type": "markdown",
      "metadata": {
        "id": "mbtGDBU3QJaq",
        "colab_type": "text"
      },
      "source": [
        "# Import GitHub repository"
      ]
    },
    {
      "cell_type": "code",
      "metadata": {
        "id": "wf0TmOM3NdFM",
        "colab_type": "code",
        "colab": {}
      },
      "source": [
        "import os\n",
        "import logging\n",
        "import sys\n"
      ],
      "execution_count": 0,
      "outputs": []
    },
    {
      "cell_type": "code",
      "metadata": {
        "id": "8I0pKIVIM2KC",
        "colab_type": "code",
        "outputId": "c9bcbccf-de9d-40ea-a35a-4e9464ee5e6a",
        "colab": {
          "base_uri": "https://localhost:8080/",
          "height": 146
        }
      },
      "source": [
        "if not os.path.isdir('./DatasetCIFAR'):\n",
        "  !git clone -b Lucia https://github.com/luciainnocenti/IncrementalLearning.git\n",
        "  !mv 'IncrementalLearning' 'DatasetCIFAR'"
      ],
      "execution_count": 2,
      "outputs": [
        {
          "output_type": "stream",
          "text": [
            "Cloning into 'IncrementalLearning'...\n",
            "remote: Enumerating objects: 165, done.\u001b[K\n",
            "remote: Counting objects: 100% (165/165), done.\u001b[K\n",
            "remote: Compressing objects: 100% (165/165), done.\u001b[K\n",
            "remote: Total 495 (delta 102), reused 0 (delta 0), pack-reused 330\u001b[K\n",
            "Receiving objects: 100% (495/495), 324.11 KiB | 607.00 KiB/s, done.\n",
            "Resolving deltas: 100% (301/301), done.\n"
          ],
          "name": "stdout"
        }
      ]
    },
    {
      "cell_type": "markdown",
      "metadata": {
        "id": "aLaS2laafBaG",
        "colab_type": "text"
      },
      "source": [
        "# Import packages"
      ]
    },
    {
      "cell_type": "code",
      "metadata": {
        "id": "liUP5Kc1DMbH",
        "colab_type": "code",
        "colab": {}
      },
      "source": [
        "from DatasetCIFAR.data_set import Dataset \n",
        "from DatasetCIFAR import ResNet\n",
        "from DatasetCIFAR import utils\n",
        "from DatasetCIFAR import params\n",
        "from torchvision import models\n",
        "import torch.nn as nn\n",
        "import torch\n",
        "import torch.optim as optim\n",
        "import torchvision\n",
        "import numpy as np\n",
        "\n",
        "from torchvision import transforms\n",
        "from torch.utils.data import Subset, DataLoader\n",
        "from torch.nn import functional as F\n",
        "import random\n",
        "random.seed(params.SEED)"
      ],
      "execution_count": 0,
      "outputs": []
    },
    {
      "cell_type": "markdown",
      "metadata": {
        "id": "0_vlqOL7ehLC",
        "colab_type": "text"
      },
      "source": [
        "# Define Network"
      ]
    },
    {
      "cell_type": "code",
      "metadata": {
        "id": "tWttFW3ljoMj",
        "colab_type": "code",
        "colab": {}
      },
      "source": [
        "resNet = ResNet.resnet32(num_classes=100)\n",
        "resNet = resNet.to(params.DEVICE)"
      ],
      "execution_count": 0,
      "outputs": []
    },
    {
      "cell_type": "code",
      "metadata": {
        "id": "HSmohsyVWFpr",
        "colab_type": "code",
        "colab": {}
      },
      "source": [
        "resnet_transformer = transforms.Compose([transforms.Resize(32), \n",
        "                                      transforms.Normalize((0.5, 0.5, 0.5), (0.5, 0.5, 0.5)) # Normalizes tensor with mean and standard deviation\n",
        "])\n"
      ],
      "execution_count": 0,
      "outputs": []
    },
    {
      "cell_type": "markdown",
      "metadata": {
        "id": "y_cyhIzFej5-",
        "colab_type": "text"
      },
      "source": [
        "# Define DataSets"
      ]
    },
    {
      "cell_type": "code",
      "metadata": {
        "id": "wcBNohmiYBtP",
        "colab_type": "code",
        "outputId": "14c157e0-05c1-412c-8f63-24dff2318ea8",
        "colab": {
          "base_uri": "https://localhost:8080/",
          "height": 104,
          "referenced_widgets": [
            "2813c58046b3475a870d44e7f51c5e5b",
            "bbba811b2aea4f569658668074b6bced",
            "17158798c8354e458e05979796105e34",
            "310f4ee0238b44a7b4a34cc7ee5340af",
            "60c0f69bab8641a6a1d641eeb163a728",
            "3d23cdd4a261432da588c9ef6032feb6",
            "66d200c6fe254724b36d661702ca948e",
            "045bf17fc72e4e9089058be5f9cdf86c"
          ]
        }
      },
      "source": [
        "trainDS = Dataset(train=True, transform = resnet_transformer)\n",
        "testDS = Dataset(train=False, transform = resnet_transformer)"
      ],
      "execution_count": 6,
      "outputs": [
        {
          "output_type": "stream",
          "text": [
            "Downloading https://www.cs.toronto.edu/~kriz/cifar-100-python.tar.gz to data/cifar-100-python.tar.gz\n"
          ],
          "name": "stdout"
        },
        {
          "output_type": "display_data",
          "data": {
            "application/vnd.jupyter.widget-view+json": {
              "model_id": "2813c58046b3475a870d44e7f51c5e5b",
              "version_minor": 0,
              "version_major": 2
            },
            "text/plain": [
              "HBox(children=(FloatProgress(value=1.0, bar_style='info', max=1.0), HTML(value='')))"
            ]
          },
          "metadata": {
            "tags": []
          }
        },
        {
          "output_type": "stream",
          "text": [
            "Extracting data/cifar-100-python.tar.gz to data\n",
            "Files already downloaded and verified\n"
          ],
          "name": "stdout"
        }
      ]
    },
    {
      "cell_type": "code",
      "metadata": {
        "id": "dFxMUO_FQZRo",
        "colab_type": "code",
        "outputId": "82ecbb49-6c15-4b9e-94a0-57e5bb41830a",
        "colab": {
          "base_uri": "https://localhost:8080/",
          "height": 74
        }
      },
      "source": [
        "train_splits = trainDS.splits\n",
        "test_splits = testDS.splits\n",
        "print(train_splits)\n",
        "print(test_splits)"
      ],
      "execution_count": 7,
      "outputs": [
        {
          "output_type": "stream",
          "text": [
            "[[49.0, 97.0, 53.0, 5.0, 33.0, 65.0, 62.0, 51.0, 38.0, 61.0], [55.0, 59.0, 6.0, 35.0, 74.0, 71.0, 57.0, 41.0, 70.0, 48.0], [64.0, 69.0, 7.0, 37.0, 84.0, 81.0, 67.0, 44.0, 80.0, 56.0], [75.0, 79.0, 8.0, 40.0, 94.0, 91.0, 77.0, 87.0, 76.0, 98.0], [90.0, 28.0, 82.0, 93.0, 30.0, 2.0, 20.0, 42.0, 39.0, 29.0], [34.0, 96.0, 43.0, 3.0, 22.0, 54.0, 52.0, 36.0, 25.0, 50.0], [58.0, 63.0, 4.0, 24.0, 83.0, 78.0, 60.0, 31.0, 73.0, 17.0], [92.0, 21.0, 86.0, 23.0, 1.0, 15.0, 32.0, 27.0, 95.0, 16.0], [46.0, 47.0, 66.0, 12.0, 19.0, 10.0, 26.0, 72.0, 11.0, 9.0], [18.0, 89.0, 0.0, 68.0, 14.0, 13.0, 45.0, 99.0, 88.0, 85.0]]\n",
            "[[49.0, 97.0, 53.0, 5.0, 33.0, 65.0, 62.0, 51.0, 38.0, 61.0], [55.0, 59.0, 6.0, 35.0, 74.0, 71.0, 57.0, 41.0, 70.0, 48.0], [64.0, 69.0, 7.0, 37.0, 84.0, 81.0, 67.0, 44.0, 80.0, 56.0], [75.0, 79.0, 8.0, 40.0, 94.0, 91.0, 77.0, 87.0, 76.0, 98.0], [90.0, 28.0, 82.0, 93.0, 30.0, 2.0, 20.0, 42.0, 39.0, 29.0], [34.0, 96.0, 43.0, 3.0, 22.0, 54.0, 52.0, 36.0, 25.0, 50.0], [58.0, 63.0, 4.0, 24.0, 83.0, 78.0, 60.0, 31.0, 73.0, 17.0], [92.0, 21.0, 86.0, 23.0, 1.0, 15.0, 32.0, 27.0, 95.0, 16.0], [46.0, 47.0, 66.0, 12.0, 19.0, 10.0, 26.0, 72.0, 11.0, 9.0], [18.0, 89.0, 0.0, 68.0, 14.0, 13.0, 45.0, 99.0, 88.0, 85.0]]\n"
          ],
          "name": "stdout"
        }
      ]
    },
    {
      "cell_type": "markdown",
      "metadata": {
        "id": "WgAT2KQEersx",
        "colab_type": "text"
      },
      "source": [
        "# Useful plots"
      ]
    },
    {
      "cell_type": "markdown",
      "metadata": {
        "id": "B1l7flYj4NJh",
        "colab_type": "text"
      },
      "source": [
        "The function plotEpoch plots, at the end of each task, how accuracy and loss change during the training phase. It show\n",
        "\n",
        "*   Validation and Training Accuracy\n",
        "*   Validation and Training Loss\n",
        "\n",
        "The function plotTask, for each task, how the accuracy on the validation set change when adding new tasks\n"
      ]
    },
    {
      "cell_type": "code",
      "metadata": {
        "id": "Gr58kkHiIzZU",
        "colab_type": "code",
        "colab": {}
      },
      "source": [
        "def plotTask(pars_tasks):\n",
        "  import numpy as np\n",
        "  import matplotlib.pyplot as plt\n",
        "\n",
        "  x_tasks =  np.linspace(10, 100, 10)\n",
        "\n",
        "  plt.plot(x_tasks, pars_tasks, label=['Accuracy', 'Loss'])\n",
        "  plt.xlabel(\"Epoch\")\n",
        "  plt.title('Accuracy over tasks')\n",
        "  plt.legend(['Accuracy', 'Loss'])\n",
        "  plt.grid(True)\n",
        "  plt.show()\n",
        "\n"
      ],
      "execution_count": 0,
      "outputs": []
    },
    {
      "cell_type": "markdown",
      "metadata": {
        "id": "iApKvCs942aS",
        "colab_type": "text"
      },
      "source": [
        "# Train and evaluation phase"
      ]
    },
    {
      "cell_type": "code",
      "metadata": {
        "id": "oJse4JU7d9ck",
        "colab_type": "code",
        "outputId": "d234537c-12af-4db5-b9ea-97a69452ebd7",
        "colab": {
          "base_uri": "https://localhost:8080/",
          "height": 1000
        }
      },
      "source": [
        "pars_tasks = []\n",
        "test_indexes = []\n",
        "\n",
        "for task in range(0, 100, params.TASK_SIZE):\n",
        "  pars_tasks.insert(task, 0)\n",
        "\n",
        "for task in range(0, 100, params.TASK_SIZE):\n",
        "\n",
        "  train_indexes = trainDS.__getIndexesGroups__(task)\n",
        "  test_indexes = test_indexes + testDS.__getIndexesGroups__(task)\n",
        "\n",
        "  train_dataset = Subset(trainDS, train_indexes)\n",
        "  test_dataset = Subset(testDS, test_indexes)\n",
        "\n",
        "  train_loader = DataLoader( train_dataset, num_workers=params.NUM_WORKERS, batch_size=params.BATCH_SIZE)\n",
        "  test_loader = DataLoader( test_dataset, num_workers=params.NUM_WORKERS, batch_size=params.BATCH_SIZE )\n",
        "\n",
        "  if(task == 0):\n",
        "    torch.save(resNet, 'resNet_task{0}.pt'.format(task))\n",
        "  \n",
        "  \n",
        "\n",
        "  utils.trainfunction(task, train_loader, train_splits)\n",
        "  param = utils.evaluationTest(task, test_loader, test_splits) #evaluate test set at step task\n",
        "  pars_tasks[int(task/10)] = param #pars_task[i] = (accuracy, loss) at i-th task\t\n",
        "\n",
        "train_splits = trainDS.splits\n",
        "test_splits = testDS.splits"
      ],
      "execution_count": 0,
      "outputs": [
        {
          "output_type": "stream",
          "text": [
            "task = 0 \n",
            "train col =  [49 97 53  5 33 65 62 51 38 61]\n",
            "train col =  [[49 97 53  5 33 65 62 51 38 61]]\n"
          ],
          "name": "stdout"
        },
        {
          "output_type": "stream",
          "text": [
            "/usr/local/lib/python3.6/dist-packages/torch/optim/lr_scheduler.py:123: UserWarning: Detected call of `lr_scheduler.step()` before `optimizer.step()`. In PyTorch 1.1.0 and later, you should call them in the opposite order: `optimizer.step()` before `lr_scheduler.step()`.  Failure to do this will result in PyTorch skipping the first value of the learning rate schedule. See more details at https://pytorch.org/docs/stable/optim.html#how-to-adjust-learning-rate\n",
            "  \"https://pytorch.org/docs/stable/optim.html#how-to-adjust-learning-rate\", UserWarning)\n"
          ],
          "name": "stderr"
        },
        {
          "output_type": "stream",
          "text": [
            "At step  0  and at epoch =  0  the loss is =  0.03358946368098259  and accuracy is =  0.1908\n",
            "At step  0  and at epoch =  1  the loss is =  0.023538200184702873  and accuracy is =  0.3548\n",
            "At step  0  and at epoch =  2  the loss is =  0.019897596910595894  and accuracy is =  0.4288\n",
            "At step  0  and at epoch =  3  the loss is =  0.01805814355611801  and accuracy is =  0.4576\n",
            "At step  0  and at epoch =  4  the loss is =  0.016763538122177124  and accuracy is =  0.4838\n",
            "At step  0  and at epoch =  5  the loss is =  0.015761978924274445  and accuracy is =  0.504\n",
            "At step  0  and at epoch =  6  the loss is =  0.013972810469567776  and accuracy is =  0.5188\n",
            "At step  0  and at epoch =  7  the loss is =  0.01271007303148508  and accuracy is =  0.5418\n",
            "At step  0  and at epoch =  8  the loss is =  0.01113803405314684  and accuracy is =  0.5592\n",
            "At step  0  and at epoch =  9  the loss is =  0.01016147993505001  and accuracy is =  0.5752\n",
            "At step  0  and at epoch =  10  the loss is =  0.009248973801732063  and accuracy is =  0.5888\n",
            "At step  0  and at epoch =  11  the loss is =  0.008295218460261822  and accuracy is =  0.6048\n",
            "At step  0  and at epoch =  12  the loss is =  0.0076314425095915794  and accuracy is =  0.623\n",
            "At step  0  and at epoch =  13  the loss is =  0.006669510621577501  and accuracy is =  0.639\n",
            "At step  0  and at epoch =  14  the loss is =  0.006837969180196524  and accuracy is =  0.646\n",
            "At step  0  and at epoch =  15  the loss is =  0.005415618885308504  and accuracy is =  0.6604\n",
            "At step  0  and at epoch =  16  the loss is =  0.005379123147577047  and accuracy is =  0.6818\n",
            "At step  0  and at epoch =  17  the loss is =  0.005172420758754015  and accuracy is =  0.692\n",
            "At step  0  and at epoch =  18  the loss is =  0.004594516009092331  and accuracy is =  0.7074\n",
            "At step  0  and at epoch =  19  the loss is =  0.00407851068302989  and accuracy is =  0.7618\n",
            "At step  0  and at epoch =  20  the loss is =  0.0034156052861362696  and accuracy is =  0.7878\n",
            "At step  0  and at epoch =  21  the loss is =  0.0031754272058606148  and accuracy is =  0.7996\n",
            "At step  0  and at epoch =  22  the loss is =  0.003008001483976841  and accuracy is =  0.8114\n",
            "At step  0  and at epoch =  23  the loss is =  0.0028770724311470985  and accuracy is =  0.825\n",
            "At step  0  and at epoch =  24  the loss is =  0.0027397088706493378  and accuracy is =  0.8338\n",
            "At step  0  and at epoch =  25  the loss is =  0.002631802810356021  and accuracy is =  0.8434\n",
            "At step  0  and at epoch =  26  the loss is =  0.002500713337212801  and accuracy is =  0.8528\n",
            "At step  0  and at epoch =  27  the loss is =  0.002391326706856489  and accuracy is =  0.86\n",
            "At step  0  and at epoch =  28  the loss is =  0.0022972070146352053  and accuracy is =  0.8692\n",
            "At step  0  and at epoch =  29  the loss is =  0.0022195656783878803  and accuracy is =  0.8702\n",
            "At step  0  and at epoch =  30  the loss is =  0.0022217012010514736  and accuracy is =  0.8752\n",
            "At step  0  and at epoch =  31  the loss is =  0.002209726022556424  and accuracy is =  0.8774\n",
            "At step  0  and at epoch =  32  the loss is =  0.002192727057263255  and accuracy is =  0.8798\n",
            "At step  0  and at epoch =  33  the loss is =  0.0021777877118438482  and accuracy is =  0.8822\n",
            "At step  0  and at epoch =  34  the loss is =  0.0021612492855638266  and accuracy is =  0.8844\n",
            "At step  0  and at epoch =  35  the loss is =  0.0021439166739583015  and accuracy is =  0.8874\n",
            "At step  0  and at epoch =  36  the loss is =  0.002125261351466179  and accuracy is =  0.8898\n",
            "At step  0  and at epoch =  37  the loss is =  0.002105348976328969  and accuracy is =  0.8924\n",
            "At step  0  and at epoch =  38  the loss is =  0.0020871353335678577  and accuracy is =  0.894\n",
            "At step  0  and at epoch =  39  the loss is =  0.0020773927681148052  and accuracy is =  0.891\n",
            "At step  0  and at epoch =  40  the loss is =  0.0020837022457271814  and accuracy is =  0.893\n",
            "At step  0  and at epoch =  41  the loss is =  0.0020832896698266268  and accuracy is =  0.894\n",
            "At step  0  and at epoch =  42  the loss is =  0.002080568578094244  and accuracy is =  0.8944\n",
            "At step  0  and at epoch =  43  the loss is =  0.0020772446878254414  and accuracy is =  0.8946\n",
            "At step  0  and at epoch =  44  the loss is =  0.0020732737611979246  and accuracy is =  0.8948\n",
            "At step  0  and at epoch =  45  the loss is =  0.0020694644190371037  and accuracy is =  0.895\n",
            "At step  0  and at epoch =  46  the loss is =  0.002065562177449465  and accuracy is =  0.8954\n",
            "At step  0  and at epoch =  47  the loss is =  0.002061725128442049  and accuracy is =  0.8962\n",
            "At step  0  and at epoch =  48  the loss is =  0.0020583253353834152  and accuracy is =  0.8966\n",
            "At step  0  and at epoch =  49  the loss is =  0.0020550377666950226  and accuracy is =  0.896\n",
            "At step  0  and at epoch =  50  the loss is =  0.002057881560176611  and accuracy is =  0.8964\n",
            "At step  0  and at epoch =  51  the loss is =  0.0020598836708813906  and accuracy is =  0.897\n",
            "At step  0  and at epoch =  52  the loss is =  0.002061012666672468  and accuracy is =  0.8976\n",
            "At step  0  and at epoch =  53  the loss is =  0.0020613805390894413  and accuracy is =  0.8974\n",
            "At step  0  and at epoch =  54  the loss is =  0.0020615363027900457  and accuracy is =  0.8974\n",
            "At step  0  and at epoch =  55  the loss is =  0.002061522798612714  and accuracy is =  0.8976\n",
            "At step  0  and at epoch =  56  the loss is =  0.0020612343214452267  and accuracy is =  0.898\n",
            "At step  0  and at epoch =  57  the loss is =  0.002060821047052741  and accuracy is =  0.8984\n",
            "At step  0  and at epoch =  58  the loss is =  0.0020603311713784933  and accuracy is =  0.8984\n",
            "At step  0  and at epoch =  59  the loss is =  0.0020597269758582115  and accuracy is =  0.8984\n",
            "[49 97 53  5 33 65 62 51 38 61]\n",
            "Validation Loss: 0.19852380454540253 Validation Accuracy : 0.623\n",
            "task = 10 \n",
            "train col =  [55 59  6 35 74 71 57 41 70 48]\n",
            "train col =  [[55 59  6 35 74 71 57 41 70 48]]\n",
            "At step  10  and at epoch =  0  the loss is =  0.041181229054927826  and accuracy is =  0.3072\n",
            "At step  10  and at epoch =  1  the loss is =  0.03652301803231239  and accuracy is =  0.4514\n",
            "At step  10  and at epoch =  2  the loss is =  0.03200523182749748  and accuracy is =  0.5042\n",
            "At step  10  and at epoch =  3  the loss is =  0.029281552881002426  and accuracy is =  0.5452\n",
            "At step  10  and at epoch =  4  the loss is =  0.028252553194761276  and accuracy is =  0.5694\n",
            "At step  10  and at epoch =  5  the loss is =  0.027012452483177185  and accuracy is =  0.5988\n",
            "At step  10  and at epoch =  6  the loss is =  0.025766653940081596  and accuracy is =  0.6264\n",
            "At step  10  and at epoch =  7  the loss is =  0.0239227507263422  and accuracy is =  0.6504\n",
            "At step  10  and at epoch =  8  the loss is =  0.022993838414549828  and accuracy is =  0.6682\n",
            "At step  10  and at epoch =  9  the loss is =  0.02192850224673748  and accuracy is =  0.6918\n",
            "At step  10  and at epoch =  10  the loss is =  0.02045302651822567  and accuracy is =  0.7208\n",
            "At step  10  and at epoch =  11  the loss is =  0.01942506432533264  and accuracy is =  0.7378\n",
            "At step  10  and at epoch =  12  the loss is =  0.01907777227461338  and accuracy is =  0.7514\n",
            "At step  10  and at epoch =  13  the loss is =  0.01840590499341488  and accuracy is =  0.7746\n",
            "At step  10  and at epoch =  14  the loss is =  0.01979720965027809  and accuracy is =  0.796\n",
            "At step  10  and at epoch =  15  the loss is =  0.018208473920822144  and accuracy is =  0.8094\n",
            "At step  10  and at epoch =  16  the loss is =  0.018614107742905617  and accuracy is =  0.829\n",
            "At step  10  and at epoch =  17  the loss is =  0.019161546602845192  and accuracy is =  0.8544\n",
            "At step  10  and at epoch =  18  the loss is =  0.017802655696868896  and accuracy is =  0.868\n",
            "At step  10  and at epoch =  19  the loss is =  0.01689504086971283  and accuracy is =  0.9058\n",
            "At step  10  and at epoch =  20  the loss is =  0.01594489812850952  and accuracy is =  0.9366\n",
            "At step  10  and at epoch =  21  the loss is =  0.015688329935073853  and accuracy is =  0.9458\n",
            "At step  10  and at epoch =  22  the loss is =  0.015562223270535469  and accuracy is =  0.9528\n",
            "At step  10  and at epoch =  23  the loss is =  0.015471826307475567  and accuracy is =  0.9572\n",
            "At step  10  and at epoch =  24  the loss is =  0.015397162176668644  and accuracy is =  0.9606\n",
            "At step  10  and at epoch =  25  the loss is =  0.01533663459122181  and accuracy is =  0.9646\n",
            "At step  10  and at epoch =  26  the loss is =  0.015269996598362923  and accuracy is =  0.968\n",
            "At step  10  and at epoch =  27  the loss is =  0.01521362829953432  and accuracy is =  0.9706\n",
            "At step  10  and at epoch =  28  the loss is =  0.015163188800215721  and accuracy is =  0.9734\n",
            "At step  10  and at epoch =  29  the loss is =  0.015111297369003296  and accuracy is =  0.9746\n",
            "At step  10  and at epoch =  30  the loss is =  0.015105556696653366  and accuracy is =  0.9762\n",
            "At step  10  and at epoch =  31  the loss is =  0.015095367096364498  and accuracy is =  0.9766\n",
            "At step  10  and at epoch =  32  the loss is =  0.015085463412106037  and accuracy is =  0.9772\n",
            "At step  10  and at epoch =  33  the loss is =  0.015075181610882282  and accuracy is =  0.978\n",
            "At step  10  and at epoch =  34  the loss is =  0.01506549958139658  and accuracy is =  0.979\n",
            "At step  10  and at epoch =  35  the loss is =  0.015055852010846138  and accuracy is =  0.9794\n",
            "At step  10  and at epoch =  36  the loss is =  0.01504639070481062  and accuracy is =  0.9806\n",
            "At step  10  and at epoch =  37  the loss is =  0.015037699602544308  and accuracy is =  0.981\n",
            "At step  10  and at epoch =  38  the loss is =  0.01502919476479292  and accuracy is =  0.9816\n",
            "At step  10  and at epoch =  39  the loss is =  0.015018471516668797  and accuracy is =  0.982\n",
            "At step  10  and at epoch =  40  the loss is =  0.015019893646240234  and accuracy is =  0.9816\n",
            "At step  10  and at epoch =  41  the loss is =  0.015019255690276623  and accuracy is =  0.9816\n",
            "At step  10  and at epoch =  42  the loss is =  0.01501763891428709  and accuracy is =  0.9816\n",
            "At step  10  and at epoch =  43  the loss is =  0.015015880577266216  and accuracy is =  0.9818\n",
            "At step  10  and at epoch =  44  the loss is =  0.015013916417956352  and accuracy is =  0.9822\n",
            "At step  10  and at epoch =  45  the loss is =  0.01501198299229145  and accuracy is =  0.9822\n",
            "At step  10  and at epoch =  46  the loss is =  0.015009974129498005  and accuracy is =  0.9822\n",
            "At step  10  and at epoch =  47  the loss is =  0.015008047223091125  and accuracy is =  0.9822\n",
            "At step  10  and at epoch =  48  the loss is =  0.015006122179329395  and accuracy is =  0.9822\n",
            "At step  10  and at epoch =  49  the loss is =  0.015002738684415817  and accuracy is =  0.9824\n",
            "At step  10  and at epoch =  50  the loss is =  0.01500274520367384  and accuracy is =  0.9822\n",
            "At step  10  and at epoch =  51  the loss is =  0.015002667903900146  and accuracy is =  0.9824\n",
            "At step  10  and at epoch =  52  the loss is =  0.015002505853772163  and accuracy is =  0.9824\n",
            "At step  10  and at epoch =  53  the loss is =  0.015002288855612278  and accuracy is =  0.9824\n",
            "At step  10  and at epoch =  54  the loss is =  0.015002033673226833  and accuracy is =  0.9824\n",
            "At step  10  and at epoch =  55  the loss is =  0.015001757070422173  and accuracy is =  0.9824\n",
            "At step  10  and at epoch =  56  the loss is =  0.015001448802649975  and accuracy is =  0.9824\n",
            "At step  10  and at epoch =  57  the loss is =  0.015001123771071434  and accuracy is =  0.9824\n",
            "At step  10  and at epoch =  58  the loss is =  0.015000793151557446  and accuracy is =  0.9824\n",
            "At step  10  and at epoch =  59  the loss is =  0.015000439248979092  and accuracy is =  0.9824\n",
            "[49 97 53  5 33 65 62 51 38 61 55 59  6 35 74 71 57 41 70 48]\n",
            "Validation Loss: 0.15268512070178986 Validation Accuracy : 0.4245\n",
            "task = 20 \n",
            "train col =  [64 69  7 37 84 81 67 44 80 56]\n",
            "train col =  [[64 69  7 37 84 81 67 44 80 56]]\n",
            "At step  20  and at epoch =  0  the loss is =  0.06235996633768082  and accuracy is =  0.2396\n",
            "At step  20  and at epoch =  1  the loss is =  0.06116577610373497  and accuracy is =  0.3622\n",
            "At step  20  and at epoch =  2  the loss is =  0.05645988509058952  and accuracy is =  0.4226\n",
            "At step  20  and at epoch =  3  the loss is =  0.052120231091976166  and accuracy is =  0.4536\n",
            "At step  20  and at epoch =  4  the loss is =  0.0493619441986084  and accuracy is =  0.4862\n",
            "At step  20  and at epoch =  5  the loss is =  0.04974757879972458  and accuracy is =  0.5084\n",
            "At step  20  and at epoch =  6  the loss is =  0.0462576299905777  and accuracy is =  0.5334\n",
            "At step  20  and at epoch =  7  the loss is =  0.044727228581905365  and accuracy is =  0.5602\n",
            "At step  20  and at epoch =  8  the loss is =  0.04245499521493912  and accuracy is =  0.5816\n",
            "At step  20  and at epoch =  9  the loss is =  0.04354464262723923  and accuracy is =  0.5978\n",
            "At step  20  and at epoch =  10  the loss is =  0.04122515767812729  and accuracy is =  0.6166\n",
            "At step  20  and at epoch =  11  the loss is =  0.03874749317765236  and accuracy is =  0.6406\n",
            "At step  20  and at epoch =  12  the loss is =  0.03886551037430763  and accuracy is =  0.6636\n",
            "At step  20  and at epoch =  13  the loss is =  0.03870181366801262  and accuracy is =  0.6928\n",
            "At step  20  and at epoch =  14  the loss is =  0.03755724057555199  and accuracy is =  0.72\n",
            "At step  20  and at epoch =  15  the loss is =  0.036522671580314636  and accuracy is =  0.7216\n",
            "At step  20  and at epoch =  16  the loss is =  0.036602940410375595  and accuracy is =  0.7498\n",
            "At step  20  and at epoch =  17  the loss is =  0.035164669156074524  and accuracy is =  0.7644\n",
            "At step  20  and at epoch =  18  the loss is =  0.03473825752735138  and accuracy is =  0.7992\n",
            "At step  20  and at epoch =  19  the loss is =  0.0352216437458992  and accuracy is =  0.857\n",
            "At step  20  and at epoch =  20  the loss is =  0.03249923139810562  and accuracy is =  0.8856\n",
            "At step  20  and at epoch =  21  the loss is =  0.03224136307835579  and accuracy is =  0.8986\n",
            "At step  20  and at epoch =  22  the loss is =  0.03209032863378525  and accuracy is =  0.9074\n",
            "At step  20  and at epoch =  23  the loss is =  0.03197215870022774  and accuracy is =  0.9144\n",
            "At step  20  and at epoch =  24  the loss is =  0.03185790404677391  and accuracy is =  0.9208\n",
            "At step  20  and at epoch =  25  the loss is =  0.03174740821123123  and accuracy is =  0.9274\n",
            "At step  20  and at epoch =  26  the loss is =  0.03164982423186302  and accuracy is =  0.934\n",
            "At step  20  and at epoch =  27  the loss is =  0.03155279904603958  and accuracy is =  0.9402\n",
            "At step  20  and at epoch =  28  the loss is =  0.03145549073815346  and accuracy is =  0.944\n",
            "At step  20  and at epoch =  29  the loss is =  0.0313311442732811  and accuracy is =  0.9478\n",
            "At step  20  and at epoch =  30  the loss is =  0.03132541477680206  and accuracy is =  0.9488\n",
            "At step  20  and at epoch =  31  the loss is =  0.03131260722875595  and accuracy is =  0.9498\n",
            "At step  20  and at epoch =  32  the loss is =  0.03129807487130165  and accuracy is =  0.951\n",
            "At step  20  and at epoch =  33  the loss is =  0.03128180280327797  and accuracy is =  0.9518\n",
            "At step  20  and at epoch =  34  the loss is =  0.03126460313796997  and accuracy is =  0.9528\n",
            "At step  20  and at epoch =  35  the loss is =  0.031247705221176147  and accuracy is =  0.9538\n",
            "At step  20  and at epoch =  36  the loss is =  0.03123084455728531  and accuracy is =  0.9548\n",
            "At step  20  and at epoch =  37  the loss is =  0.03121366910636425  and accuracy is =  0.9558\n",
            "At step  20  and at epoch =  38  the loss is =  0.03119610995054245  and accuracy is =  0.9562\n",
            "At step  20  and at epoch =  39  the loss is =  0.03117985650897026  and accuracy is =  0.957\n",
            "At step  20  and at epoch =  40  the loss is =  0.031185008585453033  and accuracy is =  0.9568\n",
            "At step  20  and at epoch =  41  the loss is =  0.031183971092104912  and accuracy is =  0.9574\n",
            "At step  20  and at epoch =  42  the loss is =  0.03118131496012211  and accuracy is =  0.9576\n",
            "At step  20  and at epoch =  43  the loss is =  0.031178418546915054  and accuracy is =  0.9582\n",
            "At step  20  and at epoch =  44  the loss is =  0.031175054609775543  and accuracy is =  0.959\n",
            "At step  20  and at epoch =  45  the loss is =  0.031171724200248718  and accuracy is =  0.9594\n",
            "At step  20  and at epoch =  46  the loss is =  0.03116828203201294  and accuracy is =  0.9598\n",
            "At step  20  and at epoch =  47  the loss is =  0.031164810061454773  and accuracy is =  0.96\n",
            "At step  20  and at epoch =  48  the loss is =  0.03116130456328392  and accuracy is =  0.961\n",
            "At step  20  and at epoch =  49  the loss is =  0.031155280768871307  and accuracy is =  0.9606\n",
            "At step  20  and at epoch =  50  the loss is =  0.0311560221016407  and accuracy is =  0.9606\n",
            "At step  20  and at epoch =  51  the loss is =  0.03115643747150898  and accuracy is =  0.9604\n",
            "At step  20  and at epoch =  52  the loss is =  0.031156420707702637  and accuracy is =  0.9606\n",
            "At step  20  and at epoch =  53  the loss is =  0.031156307086348534  and accuracy is =  0.961\n",
            "At step  20  and at epoch =  54  the loss is =  0.03115607611835003  and accuracy is =  0.961\n",
            "At step  20  and at epoch =  55  the loss is =  0.031155714765191078  and accuracy is =  0.9612\n",
            "At step  20  and at epoch =  56  the loss is =  0.03115527145564556  and accuracy is =  0.9612\n",
            "At step  20  and at epoch =  57  the loss is =  0.03115473873913288  and accuracy is =  0.9612\n",
            "At step  20  and at epoch =  58  the loss is =  0.031154168769717216  and accuracy is =  0.9612\n",
            "At step  20  and at epoch =  59  the loss is =  0.03115355409681797  and accuracy is =  0.9614\n",
            "[49 97 53  5 33 65 62 51 38 61 55 59  6 35 74 71 57 41 70 48 64 69  7 37\n",
            " 84 81 67 44 80 56]\n",
            "Validation Loss: 0.16366007924079895 Validation Accuracy : 0.2846666666666667\n",
            "task = 30 \n",
            "train col =  [75 79  8 40 94 91 77 87 76 98]\n",
            "train col =  [[75 79  8 40 94 91 77 87 76 98]]\n",
            "At step  30  and at epoch =  0  the loss is =  0.08490006625652313  and accuracy is =  0.283\n",
            "At step  30  and at epoch =  1  the loss is =  0.08335106819868088  and accuracy is =  0.43\n",
            "At step  30  and at epoch =  2  the loss is =  0.0778326466679573  and accuracy is =  0.4792\n",
            "At step  30  and at epoch =  3  the loss is =  0.07321596890687943  and accuracy is =  0.52\n",
            "At step  30  and at epoch =  4  the loss is =  0.07123348116874695  and accuracy is =  0.5516\n",
            "At step  30  and at epoch =  5  the loss is =  0.07082004100084305  and accuracy is =  0.5792\n",
            "At step  30  and at epoch =  6  the loss is =  0.069309301674366  and accuracy is =  0.6114\n",
            "At step  30  and at epoch =  7  the loss is =  0.06526773422956467  and accuracy is =  0.637\n",
            "At step  30  and at epoch =  8  the loss is =  0.06438260525465012  and accuracy is =  0.6628\n"
          ],
          "name": "stdout"
        }
      ]
    },
    {
      "cell_type": "code",
      "metadata": {
        "id": "fIn7zSiOIxkl",
        "colab_type": "code",
        "colab": {}
      },
      "source": [
        "train_loader.shape"
      ],
      "execution_count": 0,
      "outputs": []
    }
  ]
}