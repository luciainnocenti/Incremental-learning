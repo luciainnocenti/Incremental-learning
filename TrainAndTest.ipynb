{
  "nbformat": 4,
  "nbformat_minor": 0,
  "metadata": {
    "colab": {
      "name": "TrainAndTest.ipynb",
      "provenance": [],
      "collapsed_sections": [],
      "toc_visible": true,
      "include_colab_link": true
    },
    "kernelspec": {
      "name": "python3",
      "display_name": "Python 3"
    },
    "accelerator": "GPU",
    "widgets": {
      "application/vnd.jupyter.widget-state+json": {
        "5f3598d17121496791ef640d8e86f91b": {
          "model_module": "@jupyter-widgets/controls",
          "model_name": "HBoxModel",
          "state": {
            "_view_name": "HBoxView",
            "_dom_classes": [],
            "_model_name": "HBoxModel",
            "_view_module": "@jupyter-widgets/controls",
            "_model_module_version": "1.5.0",
            "_view_count": null,
            "_view_module_version": "1.5.0",
            "box_style": "",
            "layout": "IPY_MODEL_3eb3e4699dd44e9c953d989ca09ecbef",
            "_model_module": "@jupyter-widgets/controls",
            "children": [
              "IPY_MODEL_dedc7209f4cb4d73ae8c328d334f9873",
              "IPY_MODEL_fab84cfc64454a969c75dd4e9bd52068"
            ]
          }
        },
        "3eb3e4699dd44e9c953d989ca09ecbef": {
          "model_module": "@jupyter-widgets/base",
          "model_name": "LayoutModel",
          "state": {
            "_view_name": "LayoutView",
            "grid_template_rows": null,
            "right": null,
            "justify_content": null,
            "_view_module": "@jupyter-widgets/base",
            "overflow": null,
            "_model_module_version": "1.2.0",
            "_view_count": null,
            "flex_flow": null,
            "width": null,
            "min_width": null,
            "border": null,
            "align_items": null,
            "bottom": null,
            "_model_module": "@jupyter-widgets/base",
            "top": null,
            "grid_column": null,
            "overflow_y": null,
            "overflow_x": null,
            "grid_auto_flow": null,
            "grid_area": null,
            "grid_template_columns": null,
            "flex": null,
            "_model_name": "LayoutModel",
            "justify_items": null,
            "grid_row": null,
            "max_height": null,
            "align_content": null,
            "visibility": null,
            "align_self": null,
            "height": null,
            "min_height": null,
            "padding": null,
            "grid_auto_rows": null,
            "grid_gap": null,
            "max_width": null,
            "order": null,
            "_view_module_version": "1.2.0",
            "grid_template_areas": null,
            "object_position": null,
            "object_fit": null,
            "grid_auto_columns": null,
            "margin": null,
            "display": null,
            "left": null
          }
        },
        "dedc7209f4cb4d73ae8c328d334f9873": {
          "model_module": "@jupyter-widgets/controls",
          "model_name": "FloatProgressModel",
          "state": {
            "_view_name": "ProgressView",
            "style": "IPY_MODEL_cee4745fd5744febab794ee6bc443941",
            "_dom_classes": [],
            "description": "",
            "_model_name": "FloatProgressModel",
            "bar_style": "info",
            "max": 1,
            "_view_module": "@jupyter-widgets/controls",
            "_model_module_version": "1.5.0",
            "value": 1,
            "_view_count": null,
            "_view_module_version": "1.5.0",
            "orientation": "horizontal",
            "min": 0,
            "description_tooltip": null,
            "_model_module": "@jupyter-widgets/controls",
            "layout": "IPY_MODEL_44d12372227340a3b552d7074ec26f16"
          }
        },
        "fab84cfc64454a969c75dd4e9bd52068": {
          "model_module": "@jupyter-widgets/controls",
          "model_name": "HTMLModel",
          "state": {
            "_view_name": "HTMLView",
            "style": "IPY_MODEL_de52e7a1138b46db866827c87a335bae",
            "_dom_classes": [],
            "description": "",
            "_model_name": "HTMLModel",
            "placeholder": "​",
            "_view_module": "@jupyter-widgets/controls",
            "_model_module_version": "1.5.0",
            "value": " 169009152/? [00:30&lt;00:00, 14315099.39it/s]",
            "_view_count": null,
            "_view_module_version": "1.5.0",
            "description_tooltip": null,
            "_model_module": "@jupyter-widgets/controls",
            "layout": "IPY_MODEL_2a270b80ecf2465093d10659dcee0971"
          }
        },
        "cee4745fd5744febab794ee6bc443941": {
          "model_module": "@jupyter-widgets/controls",
          "model_name": "ProgressStyleModel",
          "state": {
            "_view_name": "StyleView",
            "_model_name": "ProgressStyleModel",
            "description_width": "initial",
            "_view_module": "@jupyter-widgets/base",
            "_model_module_version": "1.5.0",
            "_view_count": null,
            "_view_module_version": "1.2.0",
            "bar_color": null,
            "_model_module": "@jupyter-widgets/controls"
          }
        },
        "44d12372227340a3b552d7074ec26f16": {
          "model_module": "@jupyter-widgets/base",
          "model_name": "LayoutModel",
          "state": {
            "_view_name": "LayoutView",
            "grid_template_rows": null,
            "right": null,
            "justify_content": null,
            "_view_module": "@jupyter-widgets/base",
            "overflow": null,
            "_model_module_version": "1.2.0",
            "_view_count": null,
            "flex_flow": null,
            "width": null,
            "min_width": null,
            "border": null,
            "align_items": null,
            "bottom": null,
            "_model_module": "@jupyter-widgets/base",
            "top": null,
            "grid_column": null,
            "overflow_y": null,
            "overflow_x": null,
            "grid_auto_flow": null,
            "grid_area": null,
            "grid_template_columns": null,
            "flex": null,
            "_model_name": "LayoutModel",
            "justify_items": null,
            "grid_row": null,
            "max_height": null,
            "align_content": null,
            "visibility": null,
            "align_self": null,
            "height": null,
            "min_height": null,
            "padding": null,
            "grid_auto_rows": null,
            "grid_gap": null,
            "max_width": null,
            "order": null,
            "_view_module_version": "1.2.0",
            "grid_template_areas": null,
            "object_position": null,
            "object_fit": null,
            "grid_auto_columns": null,
            "margin": null,
            "display": null,
            "left": null
          }
        },
        "de52e7a1138b46db866827c87a335bae": {
          "model_module": "@jupyter-widgets/controls",
          "model_name": "DescriptionStyleModel",
          "state": {
            "_view_name": "StyleView",
            "_model_name": "DescriptionStyleModel",
            "description_width": "",
            "_view_module": "@jupyter-widgets/base",
            "_model_module_version": "1.5.0",
            "_view_count": null,
            "_view_module_version": "1.2.0",
            "_model_module": "@jupyter-widgets/controls"
          }
        },
        "2a270b80ecf2465093d10659dcee0971": {
          "model_module": "@jupyter-widgets/base",
          "model_name": "LayoutModel",
          "state": {
            "_view_name": "LayoutView",
            "grid_template_rows": null,
            "right": null,
            "justify_content": null,
            "_view_module": "@jupyter-widgets/base",
            "overflow": null,
            "_model_module_version": "1.2.0",
            "_view_count": null,
            "flex_flow": null,
            "width": null,
            "min_width": null,
            "border": null,
            "align_items": null,
            "bottom": null,
            "_model_module": "@jupyter-widgets/base",
            "top": null,
            "grid_column": null,
            "overflow_y": null,
            "overflow_x": null,
            "grid_auto_flow": null,
            "grid_area": null,
            "grid_template_columns": null,
            "flex": null,
            "_model_name": "LayoutModel",
            "justify_items": null,
            "grid_row": null,
            "max_height": null,
            "align_content": null,
            "visibility": null,
            "align_self": null,
            "height": null,
            "min_height": null,
            "padding": null,
            "grid_auto_rows": null,
            "grid_gap": null,
            "max_width": null,
            "order": null,
            "_view_module_version": "1.2.0",
            "grid_template_areas": null,
            "object_position": null,
            "object_fit": null,
            "grid_auto_columns": null,
            "margin": null,
            "display": null,
            "left": null
          }
        }
      }
    }
  },
  "cells": [
    {
      "cell_type": "markdown",
      "metadata": {
        "id": "view-in-github",
        "colab_type": "text"
      },
      "source": [
        "<a href=\"https://colab.research.google.com/github/luciainnocenti/IncrementalLearning/blob/Lucia/TrainAndTest.ipynb\" target=\"_parent\"><img src=\"https://colab.research.google.com/assets/colab-badge.svg\" alt=\"Open In Colab\"/></a>"
      ]
    },
    {
      "cell_type": "markdown",
      "metadata": {
        "id": "mbtGDBU3QJaq",
        "colab_type": "text"
      },
      "source": [
        "# Import GitHub repository"
      ]
    },
    {
      "cell_type": "code",
      "metadata": {
        "id": "wf0TmOM3NdFM",
        "colab_type": "code",
        "colab": {}
      },
      "source": [
        "import os\n",
        "import logging\n",
        "import sys\n"
      ],
      "execution_count": 0,
      "outputs": []
    },
    {
      "cell_type": "code",
      "metadata": {
        "id": "8I0pKIVIM2KC",
        "colab_type": "code",
        "outputId": "a6937578-f8bc-440b-96e6-a808baa109f9",
        "colab": {
          "base_uri": "https://localhost:8080/",
          "height": 141
        }
      },
      "source": [
        "if not os.path.isdir('./DatasetCIFAR'):\n",
        "  !git clone -b Lucia https://github.com/luciainnocenti/IncrementalLearning.git\n",
        "  !mv 'IncrementalLearning' 'DatasetCIFAR'"
      ],
      "execution_count": 2,
      "outputs": [
        {
          "output_type": "stream",
          "text": [
            "Cloning into 'IncrementalLearning'...\n",
            "remote: Enumerating objects: 45, done.\u001b[K\n",
            "remote: Counting objects: 100% (45/45), done.\u001b[K\n",
            "remote: Compressing objects: 100% (45/45), done.\u001b[K\n",
            "remote: Total 577 (delta 27), reused 0 (delta 0), pack-reused 532\u001b[K\n",
            "Receiving objects: 100% (577/577), 361.19 KiB | 501.00 KiB/s, done.\n",
            "Resolving deltas: 100% (356/356), done.\n"
          ],
          "name": "stdout"
        }
      ]
    },
    {
      "cell_type": "markdown",
      "metadata": {
        "id": "aLaS2laafBaG",
        "colab_type": "text"
      },
      "source": [
        "# Import packages"
      ]
    },
    {
      "cell_type": "code",
      "metadata": {
        "id": "liUP5Kc1DMbH",
        "colab_type": "code",
        "colab": {}
      },
      "source": [
        "from DatasetCIFAR.data_set import Dataset \n",
        "from DatasetCIFAR import ResNet\n",
        "from DatasetCIFAR import utils\n",
        "from DatasetCIFAR import params\n",
        "from torchvision import models\n",
        "import torch.nn as nn\n",
        "import torch\n",
        "import torch.optim as optim\n",
        "import torchvision\n",
        "import numpy as np\n",
        "\n",
        "from torchvision import transforms\n",
        "from torch.utils.data import Subset, DataLoader\n",
        "from torch.nn import functional as F\n",
        "import random\n",
        "random.seed(params.SEED)"
      ],
      "execution_count": 0,
      "outputs": []
    },
    {
      "cell_type": "markdown",
      "metadata": {
        "id": "0_vlqOL7ehLC",
        "colab_type": "text"
      },
      "source": [
        "# Define Network"
      ]
    },
    {
      "cell_type": "code",
      "metadata": {
        "id": "tWttFW3ljoMj",
        "colab_type": "code",
        "colab": {}
      },
      "source": [
        "resNet = ResNet.resnet32(num_classes=100)\n",
        "resNet = resNet.to(params.DEVICE)"
      ],
      "execution_count": 0,
      "outputs": []
    },
    {
      "cell_type": "code",
      "metadata": {
        "id": "HSmohsyVWFpr",
        "colab_type": "code",
        "colab": {}
      },
      "source": [
        "resnet_transformer = transforms.Compose([transforms.Resize(32), \n",
        "                                      transforms.Normalize((0.5, 0.5, 0.5), (0.5, 0.5, 0.5)) # Normalizes tensor with mean and standard deviation\n",
        "])\n"
      ],
      "execution_count": 0,
      "outputs": []
    },
    {
      "cell_type": "markdown",
      "metadata": {
        "id": "y_cyhIzFej5-",
        "colab_type": "text"
      },
      "source": [
        "# Define DataSets"
      ]
    },
    {
      "cell_type": "code",
      "metadata": {
        "id": "wcBNohmiYBtP",
        "colab_type": "code",
        "outputId": "76dbc404-3142-469b-f695-dd855b8fb96a",
        "colab": {
          "base_uri": "https://localhost:8080/",
          "height": 102,
          "referenced_widgets": [
            "5f3598d17121496791ef640d8e86f91b",
            "3eb3e4699dd44e9c953d989ca09ecbef",
            "dedc7209f4cb4d73ae8c328d334f9873",
            "fab84cfc64454a969c75dd4e9bd52068",
            "cee4745fd5744febab794ee6bc443941",
            "44d12372227340a3b552d7074ec26f16",
            "de52e7a1138b46db866827c87a335bae",
            "2a270b80ecf2465093d10659dcee0971"
          ]
        }
      },
      "source": [
        "trainDS = Dataset(train=True, transform = resnet_transformer)\n",
        "testDS = Dataset(train=False, transform = resnet_transformer)"
      ],
      "execution_count": 6,
      "outputs": [
        {
          "output_type": "stream",
          "text": [
            "Downloading https://www.cs.toronto.edu/~kriz/cifar-100-python.tar.gz to data/cifar-100-python.tar.gz\n"
          ],
          "name": "stdout"
        },
        {
          "output_type": "display_data",
          "data": {
            "application/vnd.jupyter.widget-view+json": {
              "model_id": "5f3598d17121496791ef640d8e86f91b",
              "version_minor": 0,
              "version_major": 2
            },
            "text/plain": [
              "HBox(children=(FloatProgress(value=1.0, bar_style='info', max=1.0), HTML(value='')))"
            ]
          },
          "metadata": {
            "tags": []
          }
        },
        {
          "output_type": "stream",
          "text": [
            "Extracting data/cifar-100-python.tar.gz to data\n",
            "Files already downloaded and verified\n"
          ],
          "name": "stdout"
        }
      ]
    },
    {
      "cell_type": "code",
      "metadata": {
        "id": "dFxMUO_FQZRo",
        "colab_type": "code",
        "outputId": "4e780684-da40-4460-a8bd-e7c35a8713c9",
        "colab": {
          "base_uri": "https://localhost:8080/",
          "height": 72
        }
      },
      "source": [
        "train_splits = trainDS.splits\n",
        "test_splits = testDS.splits\n",
        "print(train_splits)\n",
        "print(test_splits)"
      ],
      "execution_count": 7,
      "outputs": [
        {
          "output_type": "stream",
          "text": [
            "[[17.0, 72.0, 97.0, 8.0, 32.0, 15.0, 63.0, 57.0, 60.0, 83.0], [20.0, 80.0, 9.0, 36.0, 18.0, 70.0, 64.0, 67.0, 92.0, 52.0], [23.0, 90.0, 10.0, 40.0, 21.0, 79.0, 73.0, 76.0, 58.0, 33.0], [26.0, 11.0, 45.0, 24.0, 91.0, 84.0, 87.0, 55.0, 35.0, 71.0], [12.0, 56.0, 93.0, 86.0, 81.0, 4.0, 28.0, 7.0, 49.0, 94.0], [16.0, 68.0, 5.0, 34.0, 14.0, 59.0, 51.0, 54.0, 78.0, 46.0], [25.0, 95.0, 6.0, 41.0, 22.0, 77.0, 69.0, 75.0, 61.0, 62.0], [13.0, 50.0, 96.0, 88.0, 85.0, 2.0, 30.0, 3.0, 44.0, 43.0], [98.0, 29.0, 66.0, 99.0, 65.0, 39.0, 48.0, 19.0, 82.0, 74.0], [37.0, 1.0, 42.0, 0.0, 38.0, 47.0, 89.0, 31.0, 27.0, 53.0]]\n",
            "[[17.0, 72.0, 97.0, 8.0, 32.0, 15.0, 63.0, 57.0, 60.0, 83.0], [20.0, 80.0, 9.0, 36.0, 18.0, 70.0, 64.0, 67.0, 92.0, 52.0], [23.0, 90.0, 10.0, 40.0, 21.0, 79.0, 73.0, 76.0, 58.0, 33.0], [26.0, 11.0, 45.0, 24.0, 91.0, 84.0, 87.0, 55.0, 35.0, 71.0], [12.0, 56.0, 93.0, 86.0, 81.0, 4.0, 28.0, 7.0, 49.0, 94.0], [16.0, 68.0, 5.0, 34.0, 14.0, 59.0, 51.0, 54.0, 78.0, 46.0], [25.0, 95.0, 6.0, 41.0, 22.0, 77.0, 69.0, 75.0, 61.0, 62.0], [13.0, 50.0, 96.0, 88.0, 85.0, 2.0, 30.0, 3.0, 44.0, 43.0], [98.0, 29.0, 66.0, 99.0, 65.0, 39.0, 48.0, 19.0, 82.0, 74.0], [37.0, 1.0, 42.0, 0.0, 38.0, 47.0, 89.0, 31.0, 27.0, 53.0]]\n"
          ],
          "name": "stdout"
        }
      ]
    },
    {
      "cell_type": "markdown",
      "metadata": {
        "id": "WgAT2KQEersx",
        "colab_type": "text"
      },
      "source": [
        "# Useful plots"
      ]
    },
    {
      "cell_type": "markdown",
      "metadata": {
        "id": "B1l7flYj4NJh",
        "colab_type": "text"
      },
      "source": [
        "The function plotEpoch plots, at the end of each task, how accuracy and loss change during the training phase. It show\n",
        "\n",
        "*   Validation and Training Accuracy\n",
        "*   Validation and Training Loss\n",
        "\n",
        "The function plotTask, for each task, how the accuracy on the validation set change when adding new tasks\n"
      ]
    },
    {
      "cell_type": "code",
      "metadata": {
        "id": "Gr58kkHiIzZU",
        "colab_type": "code",
        "colab": {}
      },
      "source": [
        "def plotTask(pars_tasks):\n",
        "  import numpy as np\n",
        "  import matplotlib.pyplot as plt\n",
        "\n",
        "  x_tasks =  np.linspace(10, 100, 10)\n",
        "\n",
        "  plt.plot(x_tasks, pars_tasks, label=['Accuracy', 'Loss'])\n",
        "  plt.xlabel(\"Epoch\")\n",
        "  plt.title('Accuracy over tasks')\n",
        "  plt.legend(['Accuracy', 'Loss'])\n",
        "  plt.grid(True)\n",
        "  plt.show()\n",
        "\n"
      ],
      "execution_count": 0,
      "outputs": []
    },
    {
      "cell_type": "markdown",
      "metadata": {
        "id": "iApKvCs942aS",
        "colab_type": "text"
      },
      "source": [
        "# Train and evaluation phase"
      ]
    },
    {
      "cell_type": "code",
      "metadata": {
        "id": "oJse4JU7d9ck",
        "colab_type": "code",
        "outputId": "3a29430f-7361-4eac-c110-17f6bbe602f8",
        "colab": {
          "base_uri": "https://localhost:8080/",
          "height": 1000
        }
      },
      "source": [
        "pars_tasks = []\n",
        "test_indexes = []\n",
        "\n",
        "for task in range(0, 100, params.TASK_SIZE):\n",
        "  pars_tasks.insert(task, 0)\n",
        "\n",
        "for task in range(0, 100, params.TASK_SIZE):\n",
        "\n",
        "  train_indexes = trainDS.__getIndexesGroups__(task)\n",
        "  test_indexes = test_indexes + testDS.__getIndexesGroups__(task)\n",
        "\n",
        "  train_dataset = Subset(trainDS, train_indexes)\n",
        "  test_dataset = Subset(testDS, test_indexes)\n",
        "\n",
        "  train_loader = DataLoader( train_dataset, num_workers=params.NUM_WORKERS, batch_size=params.BATCH_SIZE)\n",
        "  test_loader = DataLoader( test_dataset, num_workers=params.NUM_WORKERS, batch_size=params.BATCH_SIZE )\n",
        "\n",
        "  if(task == 0):\n",
        "    torch.save(resNet, 'resNet_task{0}.pt'.format(task))\n",
        "  \n",
        "  \n",
        "\n",
        "  utils.trainfunction(task, train_loader, train_splits)\n",
        "  param = utils.evaluationTest(task, test_loader, test_splits)\n",
        "  #pars_tasks[int(task/10)] = param #pars_task[i] = (accuracy, loss) at i-th task\t"
      ],
      "execution_count": 0,
      "outputs": [
        {
          "output_type": "stream",
          "text": [
            "task = 0 \n",
            "train col =  [17 72 97  8 32 15 63 57 60 83]\n",
            "train col =  [[17 72 97  8 32 15 63 57 60 83]]\n"
          ],
          "name": "stdout"
        },
        {
          "output_type": "stream",
          "text": [
            "/usr/local/lib/python3.6/dist-packages/torch/optim/lr_scheduler.py:123: UserWarning: Detected call of `lr_scheduler.step()` before `optimizer.step()`. In PyTorch 1.1.0 and later, you should call them in the opposite order: `optimizer.step()` before `lr_scheduler.step()`.  Failure to do this will result in PyTorch skipping the first value of the learning rate schedule. See more details at https://pytorch.org/docs/stable/optim.html#how-to-adjust-learning-rate\n",
            "  \"https://pytorch.org/docs/stable/optim.html#how-to-adjust-learning-rate\", UserWarning)\n"
          ],
          "name": "stderr"
        },
        {
          "output_type": "stream",
          "text": [
            "At step  0  and at epoch =  0  the loss is =  0.036828476935625076  and accuracy is =  0.1326\n",
            "At step  0  and at epoch =  1  the loss is =  0.02744181640446186  and accuracy is =  0.2628\n",
            "At step  0  and at epoch =  2  the loss is =  0.022374358028173447  and accuracy is =  0.3694\n",
            "At step  0  and at epoch =  3  the loss is =  0.019286874681711197  and accuracy is =  0.435\n",
            "At step  0  and at epoch =  4  the loss is =  0.017826994881033897  and accuracy is =  0.4678\n",
            "At step  0  and at epoch =  5  the loss is =  0.016273045912384987  and accuracy is =  0.4822\n",
            "At step  0  and at epoch =  6  the loss is =  0.015226992778480053  and accuracy is =  0.5064\n",
            "At step  0  and at epoch =  7  the loss is =  0.012609448283910751  and accuracy is =  0.5272\n",
            "At step  0  and at epoch =  8  the loss is =  0.011636112816631794  and accuracy is =  0.5472\n",
            "At step  0  and at epoch =  9  the loss is =  0.010476014576852322  and accuracy is =  0.5678\n",
            "At step  0  and at epoch =  10  the loss is =  0.009431696496903896  and accuracy is =  0.5846\n",
            "At step  0  and at epoch =  11  the loss is =  0.007749781012535095  and accuracy is =  0.5978\n",
            "At step  0  and at epoch =  12  the loss is =  0.0065594809129834175  and accuracy is =  0.6188\n",
            "At step  0  and at epoch =  13  the loss is =  0.006519627291709185  and accuracy is =  0.631\n",
            "At step  0  and at epoch =  14  the loss is =  0.005722510628402233  and accuracy is =  0.6432\n",
            "At step  0  and at epoch =  15  the loss is =  0.005566618405282497  and accuracy is =  0.6628\n",
            "At step  0  and at epoch =  16  the loss is =  0.005161512177437544  and accuracy is =  0.6822\n",
            "At step  0  and at epoch =  17  the loss is =  0.004705472383648157  and accuracy is =  0.7008\n",
            "At step  0  and at epoch =  18  the loss is =  0.004107117187231779  and accuracy is =  0.7164\n",
            "At step  0  and at epoch =  19  the loss is =  0.003407372860237956  and accuracy is =  0.7304\n",
            "At step  0  and at epoch =  20  the loss is =  0.0034684687852859497  and accuracy is =  0.7338\n",
            "At step  0  and at epoch =  21  the loss is =  0.002918086014688015  and accuracy is =  0.7644\n",
            "At step  0  and at epoch =  22  the loss is =  0.0032332921400666237  and accuracy is =  0.7752\n",
            "At step  0  and at epoch =  23  the loss is =  0.002658962504938245  and accuracy is =  0.7852\n",
            "At step  0  and at epoch =  24  the loss is =  0.0026920384261757135  and accuracy is =  0.7934\n",
            "At step  0  and at epoch =  25  the loss is =  0.0025035315193235874  and accuracy is =  0.8138\n",
            "At step  0  and at epoch =  26  the loss is =  0.0019019785104319453  and accuracy is =  0.8298\n",
            "At step  0  and at epoch =  27  the loss is =  0.002073424169793725  and accuracy is =  0.8468\n",
            "At step  0  and at epoch =  28  the loss is =  0.0018179279286414385  and accuracy is =  0.8546\n",
            "At step  0  and at epoch =  29  the loss is =  0.0014234328409656882  and accuracy is =  0.8762\n",
            "At step  0  and at epoch =  30  the loss is =  0.0010961764492094517  and accuracy is =  0.8794\n",
            "At step  0  and at epoch =  31  the loss is =  0.0012127637164667249  and accuracy is =  0.8772\n",
            "At step  0  and at epoch =  32  the loss is =  0.001113634672947228  and accuracy is =  0.903\n",
            "At step  0  and at epoch =  33  the loss is =  0.0011311393463984132  and accuracy is =  0.9198\n",
            "At step  0  and at epoch =  34  the loss is =  0.0008414271287620068  and accuracy is =  0.9262\n",
            "At step  0  and at epoch =  35  the loss is =  0.0071420129388570786  and accuracy is =  0.916\n",
            "At step  0  and at epoch =  36  the loss is =  0.001974890474230051  and accuracy is =  0.749\n",
            "At step  0  and at epoch =  37  the loss is =  0.0011609353823587298  and accuracy is =  0.908\n",
            "At step  0  and at epoch =  38  the loss is =  0.0008673177217133343  and accuracy is =  0.9594\n",
            "At step  0  and at epoch =  39  the loss is =  0.0006286492571234703  and accuracy is =  0.9858\n",
            "At step  0  and at epoch =  40  the loss is =  0.0004651040071621537  and accuracy is =  0.9958\n",
            "At step  0  and at epoch =  41  the loss is =  0.0003588561376091093  and accuracy is =  0.9988\n",
            "At step  0  and at epoch =  42  the loss is =  0.00031433708500117064  and accuracy is =  0.9996\n",
            "At step  0  and at epoch =  43  the loss is =  0.0002790821890812367  and accuracy is =  1.0\n",
            "At step  0  and at epoch =  44  the loss is =  0.0002525918243918568  and accuracy is =  1.0\n",
            "At step  0  and at epoch =  45  the loss is =  0.0002291540731675923  and accuracy is =  1.0\n",
            "At step  0  and at epoch =  46  the loss is =  0.00021467189071699977  and accuracy is =  1.0\n",
            "At step  0  and at epoch =  47  the loss is =  0.00020134255464654416  and accuracy is =  1.0\n",
            "At step  0  and at epoch =  48  the loss is =  0.00019821585738100111  and accuracy is =  1.0\n",
            "At step  0  and at epoch =  49  the loss is =  0.0001957269269041717  and accuracy is =  1.0\n",
            "At step  0  and at epoch =  50  the loss is =  0.0001923325762618333  and accuracy is =  1.0\n",
            "At step  0  and at epoch =  51  the loss is =  0.00018946427735500038  and accuracy is =  1.0\n",
            "At step  0  and at epoch =  52  the loss is =  0.00018676377658266574  and accuracy is =  1.0\n",
            "At step  0  and at epoch =  53  the loss is =  0.0001841319171944633  and accuracy is =  1.0\n",
            "At step  0  and at epoch =  54  the loss is =  0.0001818083255784586  and accuracy is =  1.0\n",
            "At step  0  and at epoch =  55  the loss is =  0.00017956597730517387  and accuracy is =  1.0\n",
            "At step  0  and at epoch =  56  the loss is =  0.00017739474424161017  and accuracy is =  1.0\n",
            "At step  0  and at epoch =  57  the loss is =  0.00017533385835122317  and accuracy is =  1.0\n",
            "At step  0  and at epoch =  58  the loss is =  0.00017334781296085566  and accuracy is =  1.0\n",
            "At step  0  and at epoch =  59  the loss is =  0.00017146728350780904  and accuracy is =  1.0\n",
            "At step  0  and at epoch =  60  the loss is =  0.0001696035615168512  and accuracy is =  1.0\n",
            "At step  0  and at epoch =  61  the loss is =  0.00016784171748440713  and accuracy is =  1.0\n",
            "At step  0  and at epoch =  62  the loss is =  0.0001663807051954791  and accuracy is =  1.0\n",
            "At step  0  and at epoch =  63  the loss is =  0.00016607950965408236  and accuracy is =  1.0\n",
            "At step  0  and at epoch =  64  the loss is =  0.00016577623318880796  and accuracy is =  1.0\n",
            "At step  0  and at epoch =  65  the loss is =  0.00016548896383028477  and accuracy is =  1.0\n",
            "At step  0  and at epoch =  66  the loss is =  0.00016518376651220024  and accuracy is =  1.0\n",
            "At step  0  and at epoch =  67  the loss is =  0.00016487705579493195  and accuracy is =  1.0\n",
            "At step  0  and at epoch =  68  the loss is =  0.0001645649754209444  and accuracy is =  1.0\n",
            "At step  0  and at epoch =  69  the loss is =  0.00016425120702479035  and accuracy is =  1.0\n",
            "128\n",
            "128\n",
            "128\n",
            "128\n",
            "128\n",
            "128\n",
            "128\n",
            "104\n",
            "Validation Loss: 0.027313992381095886 Validation Accuracy : 0.592\n",
            "task = 10 \n",
            "train col =  [20 80  9 36 18 70 64 67 92 52]\n",
            "train col =  [[20 80  9 36 18 70 64 67 92 52]]\n",
            "At step  10  and at epoch =  0  the loss is =  0.045392926782369614  and accuracy is =  0.2966\n",
            "At step  10  and at epoch =  1  the loss is =  0.04075244814157486  and accuracy is =  0.4142\n",
            "At step  10  and at epoch =  2  the loss is =  0.02969026006758213  and accuracy is =  0.452\n",
            "At step  10  and at epoch =  3  the loss is =  0.030780848115682602  and accuracy is =  0.4834\n",
            "At step  10  and at epoch =  4  the loss is =  0.02567647583782673  and accuracy is =  0.5156\n",
            "At step  10  and at epoch =  5  the loss is =  0.025203337892889977  and accuracy is =  0.5464\n",
            "At step  10  and at epoch =  6  the loss is =  0.0235736146569252  and accuracy is =  0.5636\n",
            "At step  10  and at epoch =  7  the loss is =  0.022681986913084984  and accuracy is =  0.5878\n",
            "At step  10  and at epoch =  8  the loss is =  0.018247483298182487  and accuracy is =  0.6118\n",
            "At step  10  and at epoch =  9  the loss is =  0.01631997525691986  and accuracy is =  0.6424\n",
            "At step  10  and at epoch =  10  the loss is =  0.015574001707136631  and accuracy is =  0.6684\n",
            "At step  10  and at epoch =  11  the loss is =  0.015944896265864372  and accuracy is =  0.6902\n",
            "At step  10  and at epoch =  12  the loss is =  0.017129769548773766  and accuracy is =  0.7162\n",
            "At step  10  and at epoch =  13  the loss is =  0.019430628046393394  and accuracy is =  0.7248\n",
            "At step  10  and at epoch =  14  the loss is =  0.017090879380702972  and accuracy is =  0.7412\n",
            "At step  10  and at epoch =  15  the loss is =  0.015319442376494408  and accuracy is =  0.7776\n",
            "At step  10  and at epoch =  16  the loss is =  0.01292759645730257  and accuracy is =  0.7954\n",
            "At step  10  and at epoch =  17  the loss is =  0.012282758951187134  and accuracy is =  0.826\n",
            "At step  10  and at epoch =  18  the loss is =  0.011519563384354115  and accuracy is =  0.8282\n",
            "At step  10  and at epoch =  19  the loss is =  0.01140246819704771  and accuracy is =  0.8532\n",
            "At step  10  and at epoch =  20  the loss is =  0.011764820665121078  and accuracy is =  0.8796\n",
            "At step  10  and at epoch =  21  the loss is =  0.01029183715581894  and accuracy is =  0.8822\n",
            "At step  10  and at epoch =  22  the loss is =  0.010229027830064297  and accuracy is =  0.9056\n",
            "At step  10  and at epoch =  23  the loss is =  0.010745469480752945  and accuracy is =  0.925\n",
            "At step  10  and at epoch =  24  the loss is =  0.010197960771620274  and accuracy is =  0.9346\n",
            "At step  10  and at epoch =  25  the loss is =  0.010987252928316593  and accuracy is =  0.939\n",
            "At step  10  and at epoch =  26  the loss is =  0.011540090665221214  and accuracy is =  0.9556\n",
            "At step  10  and at epoch =  27  the loss is =  0.011054557748138905  and accuracy is =  0.963\n",
            "At step  10  and at epoch =  28  the loss is =  0.009165006689727306  and accuracy is =  0.9762\n",
            "At step  10  and at epoch =  29  the loss is =  0.008506761863827705  and accuracy is =  0.9844\n",
            "At step  10  and at epoch =  30  the loss is =  0.008490316569805145  and accuracy is =  0.987\n",
            "At step  10  and at epoch =  31  the loss is =  0.008850661106407642  and accuracy is =  0.9824\n",
            "At step  10  and at epoch =  32  the loss is =  0.008679143153131008  and accuracy is =  0.989\n",
            "At step  10  and at epoch =  33  the loss is =  0.007991859689354897  and accuracy is =  0.9948\n",
            "At step  10  and at epoch =  34  the loss is =  0.007981404662132263  and accuracy is =  0.9966\n",
            "At step  10  and at epoch =  35  the loss is =  0.007955135777592659  and accuracy is =  0.9988\n",
            "At step  10  and at epoch =  36  the loss is =  0.008240730501711369  and accuracy is =  0.9988\n",
            "At step  10  and at epoch =  37  the loss is =  0.008727756328880787  and accuracy is =  0.9986\n",
            "At step  10  and at epoch =  38  the loss is =  0.008173271082341671  and accuracy is =  0.9994\n",
            "At step  10  and at epoch =  39  the loss is =  0.008281165733933449  and accuracy is =  0.999\n",
            "At step  10  and at epoch =  40  the loss is =  0.0077487328089773655  and accuracy is =  0.9986\n",
            "At step  10  and at epoch =  41  the loss is =  0.007941165007650852  and accuracy is =  0.9994\n",
            "At step  10  and at epoch =  42  the loss is =  0.00845499150454998  and accuracy is =  0.9996\n",
            "At step  10  and at epoch =  43  the loss is =  0.00934996735304594  and accuracy is =  0.9994\n",
            "At step  10  and at epoch =  44  the loss is =  0.007881893776357174  and accuracy is =  0.9994\n",
            "At step  10  and at epoch =  45  the loss is =  0.007782550062984228  and accuracy is =  1.0\n",
            "At step  10  and at epoch =  46  the loss is =  0.007350506726652384  and accuracy is =  0.9998\n",
            "At step  10  and at epoch =  47  the loss is =  0.007382518611848354  and accuracy is =  0.9998\n",
            "At step  10  and at epoch =  48  the loss is =  0.008409230969846249  and accuracy is =  1.0\n",
            "At step  10  and at epoch =  49  the loss is =  0.007342435419559479  and accuracy is =  1.0\n",
            "At step  10  and at epoch =  50  the loss is =  0.007203790824860334  and accuracy is =  1.0\n",
            "At step  10  and at epoch =  51  the loss is =  0.007164495997130871  and accuracy is =  1.0\n",
            "At step  10  and at epoch =  52  the loss is =  0.00714733824133873  and accuracy is =  1.0\n",
            "At step  10  and at epoch =  53  the loss is =  0.007137439213693142  and accuracy is =  1.0\n",
            "At step  10  and at epoch =  54  the loss is =  0.007130717858672142  and accuracy is =  1.0\n",
            "At step  10  and at epoch =  55  the loss is =  0.0071247718296945095  and accuracy is =  1.0\n",
            "At step  10  and at epoch =  56  the loss is =  0.007119389716535807  and accuracy is =  1.0\n",
            "At step  10  and at epoch =  57  the loss is =  0.007114841602742672  and accuracy is =  1.0\n",
            "At step  10  and at epoch =  58  the loss is =  0.007110366597771645  and accuracy is =  1.0\n",
            "At step  10  and at epoch =  59  the loss is =  0.007106202654540539  and accuracy is =  1.0\n",
            "At step  10  and at epoch =  60  the loss is =  0.007102153263986111  and accuracy is =  1.0\n",
            "At step  10  and at epoch =  61  the loss is =  0.007098375353962183  and accuracy is =  1.0\n",
            "At step  10  and at epoch =  62  the loss is =  0.007101727183908224  and accuracy is =  1.0\n",
            "At step  10  and at epoch =  63  the loss is =  0.007101219613105059  and accuracy is =  1.0\n",
            "At step  10  and at epoch =  64  the loss is =  0.007099058013409376  and accuracy is =  1.0\n",
            "At step  10  and at epoch =  65  the loss is =  0.007097295485436916  and accuracy is =  1.0\n",
            "At step  10  and at epoch =  66  the loss is =  0.007095713634043932  and accuracy is =  1.0\n",
            "At step  10  and at epoch =  67  the loss is =  0.007094415370374918  and accuracy is =  1.0\n",
            "At step  10  and at epoch =  68  the loss is =  0.007093294523656368  and accuracy is =  1.0\n",
            "At step  10  and at epoch =  69  the loss is =  0.007092267274856567  and accuracy is =  1.0\n",
            "128\n",
            "128\n",
            "128\n",
            "128\n",
            "128\n",
            "128\n",
            "128\n",
            "128\n",
            "128\n",
            "128\n",
            "128\n",
            "128\n",
            "128\n",
            "128\n",
            "128\n",
            "80\n",
            "Validation Loss: 0.04684116691350937 Validation Accuracy : 0.406\n",
            "task = 20 \n",
            "train col =  [23 90 10 40 21 79 73 76 58 33]\n",
            "train col =  [[23 90 10 40 21 79 73 76 58 33]]\n",
            "At step  20  and at epoch =  0  the loss is =  0.05028738081455231  and accuracy is =  0.305\n",
            "At step  20  and at epoch =  1  the loss is =  0.04119831323623657  and accuracy is =  0.4544\n",
            "At step  20  and at epoch =  2  the loss is =  0.03174468129873276  and accuracy is =  0.5002\n",
            "At step  20  and at epoch =  3  the loss is =  0.029743747785687447  and accuracy is =  0.5382\n",
            "At step  20  and at epoch =  4  the loss is =  0.029062611982226372  and accuracy is =  0.5776\n",
            "At step  20  and at epoch =  5  the loss is =  0.02822180651128292  and accuracy is =  0.6104\n",
            "At step  20  and at epoch =  6  the loss is =  0.02494511567056179  and accuracy is =  0.63\n",
            "At step  20  and at epoch =  7  the loss is =  0.02579919993877411  and accuracy is =  0.6744\n",
            "At step  20  and at epoch =  8  the loss is =  0.026197489351034164  and accuracy is =  0.6848\n",
            "At step  20  and at epoch =  9  the loss is =  0.023373344913125038  and accuracy is =  0.7212\n",
            "At step  20  and at epoch =  10  the loss is =  0.022540215402841568  and accuracy is =  0.744\n",
            "At step  20  and at epoch =  11  the loss is =  0.020020898431539536  and accuracy is =  0.7702\n",
            "At step  20  and at epoch =  12  the loss is =  0.0194830484688282  and accuracy is =  0.7972\n",
            "At step  20  and at epoch =  13  the loss is =  0.018931642174720764  and accuracy is =  0.8174\n",
            "At step  20  and at epoch =  14  the loss is =  0.018603729084134102  and accuracy is =  0.8382\n",
            "At step  20  and at epoch =  15  the loss is =  0.019624799489974976  and accuracy is =  0.8676\n",
            "At step  20  and at epoch =  16  the loss is =  0.01890193112194538  and accuracy is =  0.8662\n",
            "At step  20  and at epoch =  17  the loss is =  0.018235081806778908  and accuracy is =  0.8794\n",
            "At step  20  and at epoch =  18  the loss is =  0.017915261909365654  and accuracy is =  0.9042\n",
            "At step  20  and at epoch =  19  the loss is =  0.01805601641535759  and accuracy is =  0.9228\n",
            "At step  20  and at epoch =  20  the loss is =  0.016954941675066948  and accuracy is =  0.9322\n",
            "At step  20  and at epoch =  21  the loss is =  0.01634497009217739  and accuracy is =  0.9436\n",
            "At step  20  and at epoch =  22  the loss is =  0.016275925561785698  and accuracy is =  0.9502\n",
            "At step  20  and at epoch =  23  the loss is =  0.016340773552656174  and accuracy is =  0.9568\n",
            "At step  20  and at epoch =  24  the loss is =  0.01642613671720028  and accuracy is =  0.9634\n",
            "At step  20  and at epoch =  25  the loss is =  0.015885107219219208  and accuracy is =  0.9672\n",
            "At step  20  and at epoch =  26  the loss is =  0.015418755821883678  and accuracy is =  0.9784\n",
            "At step  20  and at epoch =  27  the loss is =  0.015605034306645393  and accuracy is =  0.9844\n",
            "At step  20  and at epoch =  28  the loss is =  0.01638484001159668  and accuracy is =  0.9864\n",
            "At step  20  and at epoch =  29  the loss is =  0.016755567863583565  and accuracy is =  0.9904\n"
          ],
          "name": "stdout"
        }
      ]
    }
  ]
}