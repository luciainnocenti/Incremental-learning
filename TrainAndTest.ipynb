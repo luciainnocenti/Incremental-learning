{
  "nbformat": 4,
  "nbformat_minor": 0,
  "metadata": {
    "colab": {
      "name": "TrainAndTest.ipynb",
      "provenance": [],
      "collapsed_sections": [],
      "include_colab_link": true
    },
    "kernelspec": {
      "name": "python3",
      "display_name": "Python 3"
    },
    "accelerator": "GPU",
    "widgets": {
      "application/vnd.jupyter.widget-state+json": {
        "00a25a85507a4fdebf17dc3957d3adab": {
          "model_module": "@jupyter-widgets/controls",
          "model_name": "HBoxModel",
          "state": {
            "_view_name": "HBoxView",
            "_dom_classes": [],
            "_model_name": "HBoxModel",
            "_view_module": "@jupyter-widgets/controls",
            "_model_module_version": "1.5.0",
            "_view_count": null,
            "_view_module_version": "1.5.0",
            "box_style": "",
            "layout": "IPY_MODEL_59c47458168c4711b49b7446acefa464",
            "_model_module": "@jupyter-widgets/controls",
            "children": [
              "IPY_MODEL_2950fe63ba864941b473726154192217",
              "IPY_MODEL_7530f77037f445f68f1f776f9aa18158"
            ]
          }
        },
        "59c47458168c4711b49b7446acefa464": {
          "model_module": "@jupyter-widgets/base",
          "model_name": "LayoutModel",
          "state": {
            "_view_name": "LayoutView",
            "grid_template_rows": null,
            "right": null,
            "justify_content": null,
            "_view_module": "@jupyter-widgets/base",
            "overflow": null,
            "_model_module_version": "1.2.0",
            "_view_count": null,
            "flex_flow": null,
            "width": null,
            "min_width": null,
            "border": null,
            "align_items": null,
            "bottom": null,
            "_model_module": "@jupyter-widgets/base",
            "top": null,
            "grid_column": null,
            "overflow_y": null,
            "overflow_x": null,
            "grid_auto_flow": null,
            "grid_area": null,
            "grid_template_columns": null,
            "flex": null,
            "_model_name": "LayoutModel",
            "justify_items": null,
            "grid_row": null,
            "max_height": null,
            "align_content": null,
            "visibility": null,
            "align_self": null,
            "height": null,
            "min_height": null,
            "padding": null,
            "grid_auto_rows": null,
            "grid_gap": null,
            "max_width": null,
            "order": null,
            "_view_module_version": "1.2.0",
            "grid_template_areas": null,
            "object_position": null,
            "object_fit": null,
            "grid_auto_columns": null,
            "margin": null,
            "display": null,
            "left": null
          }
        },
        "2950fe63ba864941b473726154192217": {
          "model_module": "@jupyter-widgets/controls",
          "model_name": "FloatProgressModel",
          "state": {
            "_view_name": "ProgressView",
            "style": "IPY_MODEL_80674a7552ab44e4b4ca7e67c5763095",
            "_dom_classes": [],
            "description": "",
            "_model_name": "FloatProgressModel",
            "bar_style": "info",
            "max": 1,
            "_view_module": "@jupyter-widgets/controls",
            "_model_module_version": "1.5.0",
            "value": 1,
            "_view_count": null,
            "_view_module_version": "1.5.0",
            "orientation": "horizontal",
            "min": 0,
            "description_tooltip": null,
            "_model_module": "@jupyter-widgets/controls",
            "layout": "IPY_MODEL_137f791daf6f42c5831df6f1031ab4d7"
          }
        },
        "7530f77037f445f68f1f776f9aa18158": {
          "model_module": "@jupyter-widgets/controls",
          "model_name": "HTMLModel",
          "state": {
            "_view_name": "HTMLView",
            "style": "IPY_MODEL_6f514f74cdb44bee9c1e2196cf2fbc47",
            "_dom_classes": [],
            "description": "",
            "_model_name": "HTMLModel",
            "placeholder": "​",
            "_view_module": "@jupyter-widgets/controls",
            "_model_module_version": "1.5.0",
            "value": " 169009152/? [00:30&lt;00:00, 17018481.63it/s]",
            "_view_count": null,
            "_view_module_version": "1.5.0",
            "description_tooltip": null,
            "_model_module": "@jupyter-widgets/controls",
            "layout": "IPY_MODEL_39c0663920d544609bbb5e2bd8c18ad9"
          }
        },
        "80674a7552ab44e4b4ca7e67c5763095": {
          "model_module": "@jupyter-widgets/controls",
          "model_name": "ProgressStyleModel",
          "state": {
            "_view_name": "StyleView",
            "_model_name": "ProgressStyleModel",
            "description_width": "initial",
            "_view_module": "@jupyter-widgets/base",
            "_model_module_version": "1.5.0",
            "_view_count": null,
            "_view_module_version": "1.2.0",
            "bar_color": null,
            "_model_module": "@jupyter-widgets/controls"
          }
        },
        "137f791daf6f42c5831df6f1031ab4d7": {
          "model_module": "@jupyter-widgets/base",
          "model_name": "LayoutModel",
          "state": {
            "_view_name": "LayoutView",
            "grid_template_rows": null,
            "right": null,
            "justify_content": null,
            "_view_module": "@jupyter-widgets/base",
            "overflow": null,
            "_model_module_version": "1.2.0",
            "_view_count": null,
            "flex_flow": null,
            "width": null,
            "min_width": null,
            "border": null,
            "align_items": null,
            "bottom": null,
            "_model_module": "@jupyter-widgets/base",
            "top": null,
            "grid_column": null,
            "overflow_y": null,
            "overflow_x": null,
            "grid_auto_flow": null,
            "grid_area": null,
            "grid_template_columns": null,
            "flex": null,
            "_model_name": "LayoutModel",
            "justify_items": null,
            "grid_row": null,
            "max_height": null,
            "align_content": null,
            "visibility": null,
            "align_self": null,
            "height": null,
            "min_height": null,
            "padding": null,
            "grid_auto_rows": null,
            "grid_gap": null,
            "max_width": null,
            "order": null,
            "_view_module_version": "1.2.0",
            "grid_template_areas": null,
            "object_position": null,
            "object_fit": null,
            "grid_auto_columns": null,
            "margin": null,
            "display": null,
            "left": null
          }
        },
        "6f514f74cdb44bee9c1e2196cf2fbc47": {
          "model_module": "@jupyter-widgets/controls",
          "model_name": "DescriptionStyleModel",
          "state": {
            "_view_name": "StyleView",
            "_model_name": "DescriptionStyleModel",
            "description_width": "",
            "_view_module": "@jupyter-widgets/base",
            "_model_module_version": "1.5.0",
            "_view_count": null,
            "_view_module_version": "1.2.0",
            "_model_module": "@jupyter-widgets/controls"
          }
        },
        "39c0663920d544609bbb5e2bd8c18ad9": {
          "model_module": "@jupyter-widgets/base",
          "model_name": "LayoutModel",
          "state": {
            "_view_name": "LayoutView",
            "grid_template_rows": null,
            "right": null,
            "justify_content": null,
            "_view_module": "@jupyter-widgets/base",
            "overflow": null,
            "_model_module_version": "1.2.0",
            "_view_count": null,
            "flex_flow": null,
            "width": null,
            "min_width": null,
            "border": null,
            "align_items": null,
            "bottom": null,
            "_model_module": "@jupyter-widgets/base",
            "top": null,
            "grid_column": null,
            "overflow_y": null,
            "overflow_x": null,
            "grid_auto_flow": null,
            "grid_area": null,
            "grid_template_columns": null,
            "flex": null,
            "_model_name": "LayoutModel",
            "justify_items": null,
            "grid_row": null,
            "max_height": null,
            "align_content": null,
            "visibility": null,
            "align_self": null,
            "height": null,
            "min_height": null,
            "padding": null,
            "grid_auto_rows": null,
            "grid_gap": null,
            "max_width": null,
            "order": null,
            "_view_module_version": "1.2.0",
            "grid_template_areas": null,
            "object_position": null,
            "object_fit": null,
            "grid_auto_columns": null,
            "margin": null,
            "display": null,
            "left": null
          }
        }
      }
    }
  },
  "cells": [
    {
      "cell_type": "markdown",
      "metadata": {
        "id": "view-in-github",
        "colab_type": "text"
      },
      "source": [
        "<a href=\"https://colab.research.google.com/github/luciainnocenti/IncrementalLearning/blob/master/TrainAndTest.ipynb\" target=\"_parent\"><img src=\"https://colab.research.google.com/assets/colab-badge.svg\" alt=\"Open In Colab\"/></a>"
      ]
    },
    {
      "cell_type": "markdown",
      "metadata": {
        "id": "mbtGDBU3QJaq",
        "colab_type": "text"
      },
      "source": [
        "# Import GitHub repository"
      ]
    },
    {
      "cell_type": "code",
      "metadata": {
        "id": "wf0TmOM3NdFM",
        "colab_type": "code",
        "colab": {}
      },
      "source": [
        "import os\n",
        "import logging\n",
        "import sys\n"
      ],
      "execution_count": 0,
      "outputs": []
    },
    {
      "cell_type": "code",
      "metadata": {
        "id": "8I0pKIVIM2KC",
        "colab_type": "code",
        "outputId": "b5c5d441-8534-4acc-d2ff-14f6d577f761",
        "colab": {
          "base_uri": "https://localhost:8080/",
          "height": 141
        }
      },
      "source": [
        "if not os.path.isdir('./DatasetCIFAR'):\n",
        "  !git clone https://github.com/luciainnocenti/IncrementalLearning.git\n",
        "  !mv 'IncrementalLearning' 'DatasetCIFAR'"
      ],
      "execution_count": 2,
      "outputs": [
        {
          "output_type": "stream",
          "text": [
            "Cloning into 'IncrementalLearning'...\n",
            "remote: Enumerating objects: 166, done.\u001b[K\n",
            "remote: Counting objects: 100% (166/166), done.\u001b[K\n",
            "remote: Compressing objects: 100% (166/166), done.\u001b[K\n",
            "remote: Total 698 (delta 104), reused 0 (delta 0), pack-reused 532\u001b[K\n",
            "Receiving objects: 100% (698/698), 451.06 KiB | 648.00 KiB/s, done.\n",
            "Resolving deltas: 100% (433/433), done.\n"
          ],
          "name": "stdout"
        }
      ]
    },
    {
      "cell_type": "markdown",
      "metadata": {
        "id": "aLaS2laafBaG",
        "colab_type": "text"
      },
      "source": [
        "# Import packages"
      ]
    },
    {
      "cell_type": "code",
      "metadata": {
        "id": "liUP5Kc1DMbH",
        "colab_type": "code",
        "colab": {}
      },
      "source": [
        "from DatasetCIFAR.data_set import Dataset \n",
        "from DatasetCIFAR import ResNet\n",
        "from DatasetCIFAR import utils\n",
        "from DatasetCIFAR import params\n",
        "from torchvision import models\n",
        "import torch.nn as nn\n",
        "import torch\n",
        "import torch.optim as optim\n",
        "import torchvision\n",
        "import numpy as np\n",
        "\n",
        "from torchvision import transforms\n",
        "from torch.utils.data import Subset, DataLoader\n",
        "from torch.nn import functional as F\n",
        "import random\n",
        "random.seed(params.SEED)"
      ],
      "execution_count": 0,
      "outputs": []
    },
    {
      "cell_type": "markdown",
      "metadata": {
        "id": "0_vlqOL7ehLC",
        "colab_type": "text"
      },
      "source": [
        "# Define Network"
      ]
    },
    {
      "cell_type": "code",
      "metadata": {
        "id": "tWttFW3ljoMj",
        "colab_type": "code",
        "colab": {}
      },
      "source": [
        "resNet = ResNet.resnet32(num_classes=100)\n",
        "resNet = resNet.to(params.DEVICE)"
      ],
      "execution_count": 0,
      "outputs": []
    },
    {
      "cell_type": "code",
      "metadata": {
        "id": "HSmohsyVWFpr",
        "colab_type": "code",
        "colab": {}
      },
      "source": [
        "train_transformer = transforms.Compose([transforms.RandomCrop(size = 32, padding=4),\n",
        "                                         transforms.RandomHorizontalFlip(),\n",
        "                                         transforms.ToTensor(),\n",
        "                                         transforms.Normalize((0.5, 0.5, 0.5), (0.5, 0.5, 0.5))\n",
        "])\n",
        "\n",
        "test_transformer = transforms.Compose([transforms.ToTensor(),\n",
        "                                         transforms.Normalize((0.5, 0.5, 0.5), (0.5, 0.5, 0.5))\n",
        "])"
      ],
      "execution_count": 0,
      "outputs": []
    },
    {
      "cell_type": "markdown",
      "metadata": {
        "id": "y_cyhIzFej5-",
        "colab_type": "text"
      },
      "source": [
        "# Define DataSets"
      ]
    },
    {
      "cell_type": "code",
      "metadata": {
        "id": "wcBNohmiYBtP",
        "colab_type": "code",
        "outputId": "09cb578b-d196-4d8b-c164-d3f1155abae0",
        "colab": {
          "base_uri": "https://localhost:8080/",
          "height": 102,
          "referenced_widgets": [
            "00a25a85507a4fdebf17dc3957d3adab",
            "59c47458168c4711b49b7446acefa464",
            "2950fe63ba864941b473726154192217",
            "7530f77037f445f68f1f776f9aa18158",
            "80674a7552ab44e4b4ca7e67c5763095",
            "137f791daf6f42c5831df6f1031ab4d7",
            "6f514f74cdb44bee9c1e2196cf2fbc47",
            "39c0663920d544609bbb5e2bd8c18ad9"
          ]
        }
      },
      "source": [
        "trainDS = Dataset(train=True, transform = train_transformer)\n",
        "testDS = Dataset(train=False, transform = test_transformer)"
      ],
      "execution_count": 6,
      "outputs": [
        {
          "output_type": "stream",
          "text": [
            "Downloading https://www.cs.toronto.edu/~kriz/cifar-100-python.tar.gz to data/cifar-100-python.tar.gz\n"
          ],
          "name": "stdout"
        },
        {
          "output_type": "display_data",
          "data": {
            "application/vnd.jupyter.widget-view+json": {
              "model_id": "00a25a85507a4fdebf17dc3957d3adab",
              "version_minor": 0,
              "version_major": 2
            },
            "text/plain": [
              "HBox(children=(FloatProgress(value=1.0, bar_style='info', max=1.0), HTML(value='')))"
            ]
          },
          "metadata": {
            "tags": []
          }
        },
        {
          "output_type": "stream",
          "text": [
            "Extracting data/cifar-100-python.tar.gz to data\n",
            "Files already downloaded and verified\n"
          ],
          "name": "stdout"
        }
      ]
    },
    {
      "cell_type": "code",
      "metadata": {
        "id": "dFxMUO_FQZRo",
        "colab_type": "code",
        "outputId": "07568d30-0c6c-4854-bf8a-d5e83cc9d8e1",
        "colab": {
          "base_uri": "https://localhost:8080/",
          "height": 72
        }
      },
      "source": [
        "train_splits = trainDS.splits\n",
        "test_splits = testDS.splits\n",
        "print(train_splits)\n",
        "print(test_splits)"
      ],
      "execution_count": 7,
      "outputs": [
        {
          "output_type": "stream",
          "text": [
            "[[94.0, 63.0, 74.0, 21.0, 35.0, 56.0, 91.0, 96.0, 87.0, 48.0], [68.0, 80.0, 22.0, 37.0, 60.0, 97.0, 51.0, 62.0, 92.0, 76.0], [75.0, 89.0, 23.0, 99.0, 39.0, 66.0, 54.0, 69.0, 84.0, 61.0], [85.0, 24.0, 98.0, 41.0, 73.0, 58.0, 78.0, 77.0, 70.0, 49.0], [65.0, 88.0, 36.0, 93.0, 45.0, 10.0, 90.0, 17.0, 32.0, 59.0], [83.0, 43.0, 53.0, 11.0, 86.0, 19.0, 38.0, 30.0, 40.0, 50.0], [57.0, 81.0, 12.0, 95.0, 25.0, 47.0, 34.0, 52.0, 44.0, 72.0], [46.0, 79.0, 20.0, 28.0, 5.0, 71.0, 8.0, 18.0, 33.0, 15.0], [55.0, 29.0, 64.0, 31.0, 67.0, 7.0, 13.0, 14.0, 42.0, 6.0], [82.0, 2.0, 27.0, 16.0, 26.0, 3.0, 4.0, 1.0, 9.0, 0.0]]\n",
            "[[94.0, 63.0, 74.0, 21.0, 35.0, 56.0, 91.0, 96.0, 87.0, 48.0], [68.0, 80.0, 22.0, 37.0, 60.0, 97.0, 51.0, 62.0, 92.0, 76.0], [75.0, 89.0, 23.0, 99.0, 39.0, 66.0, 54.0, 69.0, 84.0, 61.0], [85.0, 24.0, 98.0, 41.0, 73.0, 58.0, 78.0, 77.0, 70.0, 49.0], [65.0, 88.0, 36.0, 93.0, 45.0, 10.0, 90.0, 17.0, 32.0, 59.0], [83.0, 43.0, 53.0, 11.0, 86.0, 19.0, 38.0, 30.0, 40.0, 50.0], [57.0, 81.0, 12.0, 95.0, 25.0, 47.0, 34.0, 52.0, 44.0, 72.0], [46.0, 79.0, 20.0, 28.0, 5.0, 71.0, 8.0, 18.0, 33.0, 15.0], [55.0, 29.0, 64.0, 31.0, 67.0, 7.0, 13.0, 14.0, 42.0, 6.0], [82.0, 2.0, 27.0, 16.0, 26.0, 3.0, 4.0, 1.0, 9.0, 0.0]]\n"
          ],
          "name": "stdout"
        }
      ]
    },
    {
      "cell_type": "markdown",
      "metadata": {
        "id": "WgAT2KQEersx",
        "colab_type": "text"
      },
      "source": [
        "# Useful plots"
      ]
    },
    {
      "cell_type": "markdown",
      "metadata": {
        "id": "B1l7flYj4NJh",
        "colab_type": "text"
      },
      "source": [
        "The function plotEpoch plots, at the end of each task, how accuracy and loss change during the training phase. It show\n",
        "\n",
        "*   Validation and Training Accuracy\n",
        "*   Validation and Training Loss\n",
        "\n",
        "The function plotTask, for each task, how the accuracy on the validation set change when adding new tasks\n"
      ]
    },
    {
      "cell_type": "code",
      "metadata": {
        "id": "Gr58kkHiIzZU",
        "colab_type": "code",
        "colab": {}
      },
      "source": [
        "def plotTask(pars_tasks):\n",
        "  import numpy as np\n",
        "  import matplotlib.pyplot as plt\n",
        "\n",
        "  x_tasks =  np.linspace(10, 100, 10)\n",
        "\n",
        "  plt.plot(x_tasks, pars_tasks, label=['Accuracy', 'Loss'])\n",
        "  plt.xlabel(\"Epoch\")\n",
        "  plt.title('Accuracy over tasks')\n",
        "  plt.legend(['Accuracy', 'Loss'])\n",
        "  plt.grid(True)\n",
        "  plt.show()\n",
        "\n"
      ],
      "execution_count": 0,
      "outputs": []
    },
    {
      "cell_type": "markdown",
      "metadata": {
        "id": "iApKvCs942aS",
        "colab_type": "text"
      },
      "source": [
        "# Train and evaluation phase"
      ]
    },
    {
      "cell_type": "code",
      "metadata": {
        "id": "oJse4JU7d9ck",
        "colab_type": "code",
        "outputId": "a3a039b3-4d36-4294-8a8a-4c15cba16334",
        "colab": {
          "base_uri": "https://localhost:8080/",
          "height": 1000
        }
      },
      "source": [
        "pars_tasks = []\n",
        "test_indexes = []\n",
        "\n",
        "for task in range(0, 100, params.TASK_SIZE):\n",
        "  pars_tasks.insert(task, 0)\n",
        "\n",
        "for task in range(0, 100, params.TASK_SIZE):\n",
        "\n",
        "  train_indexes = trainDS.__getIndexesGroups__(task)\n",
        "  test_indexes = test_indexes + testDS.__getIndexesGroups__(task)\n",
        "\n",
        "  train_dataset = Subset(trainDS, train_indexes)\n",
        "  test_dataset = Subset(testDS, test_indexes)\n",
        "\n",
        "  train_loader = DataLoader( train_dataset, num_workers=params.NUM_WORKERS, batch_size=params.BATCH_SIZE)\n",
        "  test_loader = DataLoader( test_dataset, num_workers=params.NUM_WORKERS, batch_size=params.BATCH_SIZE )\n",
        "\n",
        "  if(task == 0):\n",
        "    torch.save(resNet, 'resNet_task{0}.pt'.format(task))\n",
        "  \n",
        "  \n",
        "\n",
        "  utils.trainfunction(task, train_loader, train_splits)\n",
        "  param = utils.evaluationTest(task, test_loader, test_splits)\n",
        "  pars_tasks[int(task/10)] = param #pars_task[i] = (accuracy, loss) at i-th task\t"
      ],
      "execution_count": 0,
      "outputs": [
        {
          "output_type": "stream",
          "text": [
            "task = 0 \n",
            "train col =  [94 63 74 21 35 56 91 96 87 48]\n",
            "train col =  [[94 63 74 21 35 56 91 96 87 48]]\n"
          ],
          "name": "stdout"
        },
        {
          "output_type": "stream",
          "text": [
            "/usr/local/lib/python3.6/dist-packages/torch/optim/lr_scheduler.py:123: UserWarning: Detected call of `lr_scheduler.step()` before `optimizer.step()`. In PyTorch 1.1.0 and later, you should call them in the opposite order: `optimizer.step()` before `lr_scheduler.step()`.  Failure to do this will result in PyTorch skipping the first value of the learning rate schedule. See more details at https://pytorch.org/docs/stable/optim.html#how-to-adjust-learning-rate\n",
            "  \"https://pytorch.org/docs/stable/optim.html#how-to-adjust-learning-rate\", UserWarning)\n"
          ],
          "name": "stderr"
        },
        {
          "output_type": "stream",
          "text": [
            "At step  0  and at epoch =  0  the loss is =  0.0340101458132267  and accuracy is =  0.2076\n",
            "At step  0  and at epoch =  1  the loss is =  0.021763300523161888  and accuracy is =  0.429\n",
            "At step  0  and at epoch =  2  the loss is =  0.01901213638484478  and accuracy is =  0.5172\n",
            "At step  0  and at epoch =  3  the loss is =  0.014705012552440166  and accuracy is =  0.5908\n",
            "At step  0  and at epoch =  4  the loss is =  0.007145622745156288  and accuracy is =  0.6602\n",
            "At step  0  and at epoch =  5  the loss is =  0.005915941670536995  and accuracy is =  0.7086\n",
            "At step  0  and at epoch =  6  the loss is =  0.0026560472324490547  and accuracy is =  0.7326\n",
            "At step  0  and at epoch =  7  the loss is =  0.0022382631432265043  and accuracy is =  0.7766\n",
            "At step  0  and at epoch =  8  the loss is =  0.0025955145247280598  and accuracy is =  0.7914\n",
            "At step  0  and at epoch =  9  the loss is =  0.0031505143269896507  and accuracy is =  0.8324\n",
            "At step  0  and at epoch =  10  the loss is =  0.003195703262463212  and accuracy is =  0.8404\n",
            "At step  0  and at epoch =  11  the loss is =  0.002137043746188283  and accuracy is =  0.8576\n",
            "At step  0  and at epoch =  12  the loss is =  0.0008386328699998558  and accuracy is =  0.87\n",
            "At step  0  and at epoch =  13  the loss is =  0.0006072240066714585  and accuracy is =  0.8938\n",
            "At step  0  and at epoch =  14  the loss is =  0.0011257707374170423  and accuracy is =  0.8994\n",
            "At step  0  and at epoch =  15  the loss is =  0.0018267147243022919  and accuracy is =  0.9242\n",
            "At step  0  and at epoch =  16  the loss is =  0.0021263137459754944  and accuracy is =  0.9412\n",
            "At step  0  and at epoch =  17  the loss is =  0.0007374738925136626  and accuracy is =  0.9434\n",
            "At step  0  and at epoch =  18  the loss is =  0.00033872120548039675  and accuracy is =  0.952\n",
            "At step  0  and at epoch =  19  the loss is =  0.000900941900908947  and accuracy is =  0.9622\n",
            "At step  0  and at epoch =  20  the loss is =  0.0027316289488226175  and accuracy is =  0.9642\n",
            "At step  0  and at epoch =  21  the loss is =  0.00045269078691489995  and accuracy is =  0.957\n",
            "At step  0  and at epoch =  22  the loss is =  0.0005198942963033915  and accuracy is =  0.9764\n",
            "At step  0  and at epoch =  23  the loss is =  0.0004230144841130823  and accuracy is =  0.9862\n",
            "At step  0  and at epoch =  24  the loss is =  0.0047115180641412735  and accuracy is =  0.989\n",
            "At step  0  and at epoch =  25  the loss is =  0.004723924677819014  and accuracy is =  0.9782\n",
            "At step  0  and at epoch =  26  the loss is =  0.0007819270249456167  and accuracy is =  0.9686\n",
            "At step  0  and at epoch =  27  the loss is =  0.0001745607441989705  and accuracy is =  0.982\n",
            "At step  0  and at epoch =  28  the loss is =  0.0002016796643147245  and accuracy is =  0.9894\n",
            "At step  0  and at epoch =  29  the loss is =  0.00014168908819556236  and accuracy is =  0.9922\n",
            "At step  0  and at epoch =  30  the loss is =  0.00013188736920710653  and accuracy is =  0.9952\n",
            "At step  0  and at epoch =  31  the loss is =  0.00010146141721634194  and accuracy is =  0.997\n",
            "At step  0  and at epoch =  32  the loss is =  9.180098277283832e-05  and accuracy is =  0.999\n",
            "At step  0  and at epoch =  33  the loss is =  7.385756907751784e-05  and accuracy is =  0.9994\n",
            "At step  0  and at epoch =  34  the loss is =  6.157263851491734e-05  and accuracy is =  1.0\n",
            "At step  0  and at epoch =  35  the loss is =  6.061801468604244e-05  and accuracy is =  1.0\n",
            "At step  0  and at epoch =  36  the loss is =  6.0081023548264056e-05  and accuracy is =  1.0\n",
            "At step  0  and at epoch =  37  the loss is =  6.0345151723595336e-05  and accuracy is =  1.0\n",
            "At step  0  and at epoch =  38  the loss is =  6.097726509324275e-05  and accuracy is =  1.0\n",
            "At step  0  and at epoch =  39  the loss is =  6.184165977174416e-05  and accuracy is =  1.0\n",
            "At step  0  and at epoch =  40  the loss is =  6.285691779339686e-05  and accuracy is =  1.0\n",
            "At step  0  and at epoch =  41  the loss is =  6.395711534423754e-05  and accuracy is =  1.0\n",
            "At step  0  and at epoch =  42  the loss is =  6.510331149911508e-05  and accuracy is =  1.0\n",
            "At step  0  and at epoch =  43  the loss is =  6.62741731503047e-05  and accuracy is =  1.0\n",
            "At step  0  and at epoch =  44  the loss is =  6.744977144990116e-05  and accuracy is =  1.0\n",
            "At step  0  and at epoch =  45  the loss is =  6.859024870209396e-05  and accuracy is =  1.0\n",
            "At step  0  and at epoch =  46  the loss is =  6.968603702262044e-05  and accuracy is =  1.0\n",
            "At step  0  and at epoch =  47  the loss is =  7.075502071529627e-05  and accuracy is =  1.0\n",
            "At step  0  and at epoch =  48  the loss is =  7.068675768096e-05  and accuracy is =  1.0\n",
            "At step  0  and at epoch =  49  the loss is =  7.082242518663406e-05  and accuracy is =  1.0\n",
            "At step  0  and at epoch =  50  the loss is =  7.097236812114716e-05  and accuracy is =  1.0\n",
            "At step  0  and at epoch =  51  the loss is =  7.113035826478153e-05  and accuracy is =  1.0\n",
            "At step  0  and at epoch =  52  the loss is =  7.129816367523745e-05  and accuracy is =  1.0\n",
            "At step  0  and at epoch =  53  the loss is =  7.146759890019894e-05  and accuracy is =  1.0\n",
            "At step  0  and at epoch =  54  the loss is =  7.163867849158123e-05  and accuracy is =  1.0\n",
            "At step  0  and at epoch =  55  the loss is =  7.181437104009092e-05  and accuracy is =  1.0\n",
            "At step  0  and at epoch =  56  the loss is =  7.198991806944832e-05  and accuracy is =  1.0\n",
            "At step  0  and at epoch =  57  the loss is =  7.217007805593312e-05  and accuracy is =  1.0\n",
            "At step  0  and at epoch =  58  the loss is =  7.234873191919178e-05  and accuracy is =  1.0\n",
            "At step  0  and at epoch =  59  the loss is =  7.252635987242684e-05  and accuracy is =  1.0\n",
            "At step  0  and at epoch =  60  the loss is =  7.270591595442966e-05  and accuracy is =  1.0\n",
            "At step  0  and at epoch =  61  the loss is =  7.28851737221703e-05  and accuracy is =  1.0\n",
            "At step  0  and at epoch =  62  the loss is =  7.287821790669113e-05  and accuracy is =  1.0\n",
            "At step  0  and at epoch =  63  the loss is =  7.290932990144938e-05  and accuracy is =  1.0\n",
            "At step  0  and at epoch =  64  the loss is =  7.294104580068961e-05  and accuracy is =  1.0\n",
            "At step  0  and at epoch =  65  the loss is =  7.297395495697856e-05  and accuracy is =  1.0\n",
            "At step  0  and at epoch =  66  the loss is =  7.30052197468467e-05  and accuracy is =  1.0\n",
            "At step  0  and at epoch =  67  the loss is =  7.304020982701331e-05  and accuracy is =  1.0\n",
            "At step  0  and at epoch =  68  the loss is =  7.307386113097891e-05  and accuracy is =  1.0\n",
            "At step  0  and at epoch =  69  the loss is =  7.31076579540968e-05  and accuracy is =  1.0\n",
            "128\n",
            "128\n",
            "128\n",
            "128\n",
            "128\n",
            "128\n",
            "128\n",
            "104\n",
            "Validation Loss: 0.019592279568314552 Validation Accuracy : 0.795\n",
            "task = 10 \n",
            "train col =  [68 80 22 37 60 97 51 62 92 76]\n",
            "train col =  [[68 80 22 37 60 97 51 62 92 76]]\n",
            "At step  10  and at epoch =  0  the loss is =  0.032269272953271866  and accuracy is =  0.3422\n",
            "At step  10  and at epoch =  1  the loss is =  0.018249880522489548  and accuracy is =  0.5726\n",
            "At step  10  and at epoch =  2  the loss is =  0.01641361601650715  and accuracy is =  0.6596\n",
            "At step  10  and at epoch =  3  the loss is =  0.01586201973259449  and accuracy is =  0.725\n",
            "At step  10  and at epoch =  4  the loss is =  0.01192979421466589  and accuracy is =  0.7812\n",
            "At step  10  and at epoch =  5  the loss is =  0.013810886070132256  and accuracy is =  0.819\n",
            "At step  10  and at epoch =  6  the loss is =  0.014916975051164627  and accuracy is =  0.823\n",
            "At step  10  and at epoch =  7  the loss is =  0.011357633396983147  and accuracy is =  0.854\n",
            "At step  10  and at epoch =  8  the loss is =  0.009676975198090076  and accuracy is =  0.8992\n",
            "At step  10  and at epoch =  9  the loss is =  0.009933077730238438  and accuracy is =  0.9316\n",
            "At step  10  and at epoch =  10  the loss is =  0.010025161318480968  and accuracy is =  0.9436\n",
            "At step  10  and at epoch =  11  the loss is =  0.010020079091191292  and accuracy is =  0.9398\n",
            "At step  10  and at epoch =  12  the loss is =  0.00990578904747963  and accuracy is =  0.929\n",
            "At step  10  and at epoch =  13  the loss is =  0.009466195479035378  and accuracy is =  0.9518\n",
            "At step  10  and at epoch =  14  the loss is =  0.00888771191239357  and accuracy is =  0.9604\n",
            "At step  10  and at epoch =  15  the loss is =  0.009023497812449932  and accuracy is =  0.963\n",
            "At step  10  and at epoch =  16  the loss is =  0.008582972921431065  and accuracy is =  0.9662\n",
            "At step  10  and at epoch =  17  the loss is =  0.00893634743988514  and accuracy is =  0.9666\n",
            "At step  10  and at epoch =  18  the loss is =  0.00879539456218481  and accuracy is =  0.9734\n",
            "At step  10  and at epoch =  19  the loss is =  0.008713253773748875  and accuracy is =  0.9736\n",
            "At step  10  and at epoch =  20  the loss is =  0.010853984393179417  and accuracy is =  0.9858\n",
            "At step  10  and at epoch =  21  the loss is =  0.009746626950800419  and accuracy is =  0.986\n",
            "At step  10  and at epoch =  22  the loss is =  0.009575417265295982  and accuracy is =  0.9898\n",
            "At step  10  and at epoch =  23  the loss is =  0.009278275072574615  and accuracy is =  0.9946\n",
            "At step  10  and at epoch =  24  the loss is =  0.00873879436403513  and accuracy is =  0.996\n",
            "At step  10  and at epoch =  25  the loss is =  0.007685795892030001  and accuracy is =  0.997\n",
            "At step  10  and at epoch =  26  the loss is =  0.007769107818603516  and accuracy is =  0.9956\n",
            "At step  10  and at epoch =  27  the loss is =  0.008229381404817104  and accuracy is =  0.9964\n",
            "At step  10  and at epoch =  28  the loss is =  0.009105946868658066  and accuracy is =  0.9994\n",
            "At step  10  and at epoch =  29  the loss is =  0.008778815157711506  and accuracy is =  0.9998\n",
            "At step  10  and at epoch =  30  the loss is =  0.008686825633049011  and accuracy is =  0.9994\n",
            "At step  10  and at epoch =  31  the loss is =  0.00807191152125597  and accuracy is =  1.0\n",
            "At step  10  and at epoch =  32  the loss is =  0.007493620738387108  and accuracy is =  1.0\n",
            "At step  10  and at epoch =  33  the loss is =  0.00804731622338295  and accuracy is =  1.0\n",
            "At step  10  and at epoch =  34  the loss is =  0.007655159570276737  and accuracy is =  1.0\n",
            "At step  10  and at epoch =  35  the loss is =  0.007717766799032688  and accuracy is =  1.0\n",
            "At step  10  and at epoch =  36  the loss is =  0.007537886966019869  and accuracy is =  1.0\n",
            "At step  10  and at epoch =  37  the loss is =  0.007604541722685099  and accuracy is =  1.0\n",
            "At step  10  and at epoch =  38  the loss is =  0.007809910457581282  and accuracy is =  1.0\n",
            "At step  10  and at epoch =  39  the loss is =  0.00816214457154274  and accuracy is =  1.0\n",
            "At step  10  and at epoch =  40  the loss is =  0.007443316280841827  and accuracy is =  1.0\n",
            "At step  10  and at epoch =  41  the loss is =  0.00732297170907259  and accuracy is =  1.0\n",
            "At step  10  and at epoch =  42  the loss is =  0.007298693526536226  and accuracy is =  1.0\n",
            "At step  10  and at epoch =  43  the loss is =  0.007304628845304251  and accuracy is =  1.0\n",
            "At step  10  and at epoch =  44  the loss is =  0.007350062020123005  and accuracy is =  1.0\n",
            "At step  10  and at epoch =  45  the loss is =  0.007432142738252878  and accuracy is =  1.0\n",
            "At step  10  and at epoch =  46  the loss is =  0.0076805055141448975  and accuracy is =  1.0\n",
            "At step  10  and at epoch =  47  the loss is =  0.007699060719460249  and accuracy is =  1.0\n",
            "At step  10  and at epoch =  48  the loss is =  0.007447581738233566  and accuracy is =  1.0\n",
            "At step  10  and at epoch =  49  the loss is =  0.0072250221855938435  and accuracy is =  1.0\n",
            "At step  10  and at epoch =  50  the loss is =  0.0071993120945990086  and accuracy is =  1.0\n",
            "At step  10  and at epoch =  51  the loss is =  0.007183078210800886  and accuracy is =  1.0\n",
            "At step  10  and at epoch =  52  the loss is =  0.007172369863837957  and accuracy is =  1.0\n",
            "At step  10  and at epoch =  53  the loss is =  0.007164560258388519  and accuracy is =  1.0\n",
            "At step  10  and at epoch =  54  the loss is =  0.00715838186442852  and accuracy is =  1.0\n",
            "At step  10  and at epoch =  55  the loss is =  0.007153294049203396  and accuracy is =  1.0\n",
            "At step  10  and at epoch =  56  the loss is =  0.0071488176472485065  and accuracy is =  1.0\n",
            "At step  10  and at epoch =  57  the loss is =  0.007144741714000702  and accuracy is =  1.0\n",
            "At step  10  and at epoch =  58  the loss is =  0.007140926085412502  and accuracy is =  1.0\n",
            "At step  10  and at epoch =  59  the loss is =  0.00713743083178997  and accuracy is =  1.0\n",
            "At step  10  and at epoch =  60  the loss is =  0.007134141866117716  and accuracy is =  1.0\n",
            "At step  10  and at epoch =  61  the loss is =  0.007131047081202269  and accuracy is =  1.0\n",
            "At step  10  and at epoch =  62  the loss is =  0.007125937379896641  and accuracy is =  1.0\n",
            "At step  10  and at epoch =  63  the loss is =  0.007126009091734886  and accuracy is =  1.0\n",
            "At step  10  and at epoch =  64  the loss is =  0.007125324569642544  and accuracy is =  1.0\n",
            "At step  10  and at epoch =  65  the loss is =  0.007124652620404959  and accuracy is =  1.0\n",
            "At step  10  and at epoch =  66  the loss is =  0.0071240197867155075  and accuracy is =  1.0\n",
            "At step  10  and at epoch =  67  the loss is =  0.007123413495719433  and accuracy is =  1.0\n",
            "At step  10  and at epoch =  68  the loss is =  0.007122834213078022  and accuracy is =  1.0\n",
            "At step  10  and at epoch =  69  the loss is =  0.007122266571968794  and accuracy is =  1.0\n",
            "128\n",
            "128\n",
            "128\n",
            "128\n",
            "128\n",
            "128\n",
            "128\n",
            "128\n",
            "128\n",
            "128\n",
            "128\n",
            "128\n",
            "128\n",
            "128\n",
            "128\n",
            "80\n",
            "Validation Loss: 0.02758130431175232 Validation Accuracy : 0.5495\n",
            "task = 20 \n",
            "train col =  [75 89 23 99 39 66 54 69 84 61]\n",
            "train col =  [[75 89 23 99 39 66 54 69 84 61]]\n",
            "At step  20  and at epoch =  0  the loss is =  0.06197771802544594  and accuracy is =  0.443\n",
            "At step  20  and at epoch =  1  the loss is =  0.043659619987010956  and accuracy is =  0.6322\n",
            "At step  20  and at epoch =  2  the loss is =  0.03325200825929642  and accuracy is =  0.7324\n",
            "At step  20  and at epoch =  3  the loss is =  0.02655845135450363  and accuracy is =  0.8028\n",
            "At step  20  and at epoch =  4  the loss is =  0.025188464671373367  and accuracy is =  0.8638\n",
            "At step  20  and at epoch =  5  the loss is =  0.023214979097247124  and accuracy is =  0.8962\n",
            "At step  20  and at epoch =  6  the loss is =  0.022761063650250435  and accuracy is =  0.9084\n",
            "At step  20  and at epoch =  7  the loss is =  0.024969452992081642  and accuracy is =  0.9168\n",
            "At step  20  and at epoch =  8  the loss is =  0.027947111055254936  and accuracy is =  0.9312\n",
            "At step  20  and at epoch =  9  the loss is =  0.02026495710015297  and accuracy is =  0.952\n",
            "At step  20  and at epoch =  10  the loss is =  0.01863849349319935  and accuracy is =  0.974\n",
            "At step  20  and at epoch =  11  the loss is =  0.019902104511857033  and accuracy is =  0.9788\n",
            "At step  20  and at epoch =  12  the loss is =  0.01888422854244709  and accuracy is =  0.9846\n",
            "At step  20  and at epoch =  13  the loss is =  0.018880533054471016  and accuracy is =  0.993\n",
            "At step  20  and at epoch =  14  the loss is =  0.01861588843166828  and accuracy is =  0.99\n",
            "At step  20  and at epoch =  15  the loss is =  0.019107669591903687  and accuracy is =  0.9898\n",
            "At step  20  and at epoch =  16  the loss is =  0.017846694216132164  and accuracy is =  0.9922\n",
            "At step  20  and at epoch =  17  the loss is =  0.018017450347542763  and accuracy is =  0.9892\n",
            "At step  20  and at epoch =  18  the loss is =  0.017318470403552055  and accuracy is =  0.9914\n",
            "At step  20  and at epoch =  19  the loss is =  0.02048650197684765  and accuracy is =  0.991\n",
            "At step  20  and at epoch =  20  the loss is =  0.02304060384631157  and accuracy is =  0.9902\n",
            "At step  20  and at epoch =  21  the loss is =  0.019500942900776863  and accuracy is =  0.985\n",
            "At step  20  and at epoch =  22  the loss is =  0.017854923382401466  and accuracy is =  0.9876\n",
            "At step  20  and at epoch =  23  the loss is =  0.018033985048532486  and accuracy is =  0.995\n",
            "At step  20  and at epoch =  24  the loss is =  0.016683362424373627  and accuracy is =  0.9972\n"
          ],
          "name": "stdout"
        }
      ]
    },
    {
      "cell_type": "code",
      "metadata": {
        "id": "Ptf2qZjFbWNr",
        "colab_type": "code",
        "colab": {}
      },
      "source": [
        "plotTask(pars_tasks)"
      ],
      "execution_count": 0,
      "outputs": []
    }
  ]
}