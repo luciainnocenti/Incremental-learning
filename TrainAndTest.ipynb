{
  "nbformat": 4,
  "nbformat_minor": 0,
  "metadata": {
    "colab": {
      "name": "TrainAndTest.ipynb",
      "provenance": [],
      "collapsed_sections": [],
      "toc_visible": true,
      "include_colab_link": true
    },
    "kernelspec": {
      "name": "python3",
      "display_name": "Python 3"
    },
    "accelerator": "GPU",
    "widgets": {
      "application/vnd.jupyter.widget-state+json": {
        "42689f2b7ebb40afac2c1d5c6dffe01a": {
          "model_module": "@jupyter-widgets/controls",
          "model_name": "HBoxModel",
          "state": {
            "_view_name": "HBoxView",
            "_dom_classes": [],
            "_model_name": "HBoxModel",
            "_view_module": "@jupyter-widgets/controls",
            "_model_module_version": "1.5.0",
            "_view_count": null,
            "_view_module_version": "1.5.0",
            "box_style": "",
            "layout": "IPY_MODEL_999d218568664435bdeee09b34f52b83",
            "_model_module": "@jupyter-widgets/controls",
            "children": [
              "IPY_MODEL_cc23ae3b4606419ca4c468ae77b8f633",
              "IPY_MODEL_e0a09715d55f44fe91844b2826520867"
            ]
          }
        },
        "999d218568664435bdeee09b34f52b83": {
          "model_module": "@jupyter-widgets/base",
          "model_name": "LayoutModel",
          "state": {
            "_view_name": "LayoutView",
            "grid_template_rows": null,
            "right": null,
            "justify_content": null,
            "_view_module": "@jupyter-widgets/base",
            "overflow": null,
            "_model_module_version": "1.2.0",
            "_view_count": null,
            "flex_flow": null,
            "width": null,
            "min_width": null,
            "border": null,
            "align_items": null,
            "bottom": null,
            "_model_module": "@jupyter-widgets/base",
            "top": null,
            "grid_column": null,
            "overflow_y": null,
            "overflow_x": null,
            "grid_auto_flow": null,
            "grid_area": null,
            "grid_template_columns": null,
            "flex": null,
            "_model_name": "LayoutModel",
            "justify_items": null,
            "grid_row": null,
            "max_height": null,
            "align_content": null,
            "visibility": null,
            "align_self": null,
            "height": null,
            "min_height": null,
            "padding": null,
            "grid_auto_rows": null,
            "grid_gap": null,
            "max_width": null,
            "order": null,
            "_view_module_version": "1.2.0",
            "grid_template_areas": null,
            "object_position": null,
            "object_fit": null,
            "grid_auto_columns": null,
            "margin": null,
            "display": null,
            "left": null
          }
        },
        "cc23ae3b4606419ca4c468ae77b8f633": {
          "model_module": "@jupyter-widgets/controls",
          "model_name": "FloatProgressModel",
          "state": {
            "_view_name": "ProgressView",
            "style": "IPY_MODEL_d5409ad3c69f40c28183906d2d0ea75b",
            "_dom_classes": [],
            "description": "",
            "_model_name": "FloatProgressModel",
            "bar_style": "info",
            "max": 1,
            "_view_module": "@jupyter-widgets/controls",
            "_model_module_version": "1.5.0",
            "value": 1,
            "_view_count": null,
            "_view_module_version": "1.5.0",
            "orientation": "horizontal",
            "min": 0,
            "description_tooltip": null,
            "_model_module": "@jupyter-widgets/controls",
            "layout": "IPY_MODEL_934ba0138121435b8116a61634c40a0e"
          }
        },
        "e0a09715d55f44fe91844b2826520867": {
          "model_module": "@jupyter-widgets/controls",
          "model_name": "HTMLModel",
          "state": {
            "_view_name": "HTMLView",
            "style": "IPY_MODEL_306897ee000f419c9151bfc3581ea1c7",
            "_dom_classes": [],
            "description": "",
            "_model_name": "HTMLModel",
            "placeholder": "​",
            "_view_module": "@jupyter-widgets/controls",
            "_model_module_version": "1.5.0",
            "value": " 169009152/? [00:30&lt;00:00, 15904828.90it/s]",
            "_view_count": null,
            "_view_module_version": "1.5.0",
            "description_tooltip": null,
            "_model_module": "@jupyter-widgets/controls",
            "layout": "IPY_MODEL_9ad4a2b5ffb142049ac1b25c05b82479"
          }
        },
        "d5409ad3c69f40c28183906d2d0ea75b": {
          "model_module": "@jupyter-widgets/controls",
          "model_name": "ProgressStyleModel",
          "state": {
            "_view_name": "StyleView",
            "_model_name": "ProgressStyleModel",
            "description_width": "initial",
            "_view_module": "@jupyter-widgets/base",
            "_model_module_version": "1.5.0",
            "_view_count": null,
            "_view_module_version": "1.2.0",
            "bar_color": null,
            "_model_module": "@jupyter-widgets/controls"
          }
        },
        "934ba0138121435b8116a61634c40a0e": {
          "model_module": "@jupyter-widgets/base",
          "model_name": "LayoutModel",
          "state": {
            "_view_name": "LayoutView",
            "grid_template_rows": null,
            "right": null,
            "justify_content": null,
            "_view_module": "@jupyter-widgets/base",
            "overflow": null,
            "_model_module_version": "1.2.0",
            "_view_count": null,
            "flex_flow": null,
            "width": null,
            "min_width": null,
            "border": null,
            "align_items": null,
            "bottom": null,
            "_model_module": "@jupyter-widgets/base",
            "top": null,
            "grid_column": null,
            "overflow_y": null,
            "overflow_x": null,
            "grid_auto_flow": null,
            "grid_area": null,
            "grid_template_columns": null,
            "flex": null,
            "_model_name": "LayoutModel",
            "justify_items": null,
            "grid_row": null,
            "max_height": null,
            "align_content": null,
            "visibility": null,
            "align_self": null,
            "height": null,
            "min_height": null,
            "padding": null,
            "grid_auto_rows": null,
            "grid_gap": null,
            "max_width": null,
            "order": null,
            "_view_module_version": "1.2.0",
            "grid_template_areas": null,
            "object_position": null,
            "object_fit": null,
            "grid_auto_columns": null,
            "margin": null,
            "display": null,
            "left": null
          }
        },
        "306897ee000f419c9151bfc3581ea1c7": {
          "model_module": "@jupyter-widgets/controls",
          "model_name": "DescriptionStyleModel",
          "state": {
            "_view_name": "StyleView",
            "_model_name": "DescriptionStyleModel",
            "description_width": "",
            "_view_module": "@jupyter-widgets/base",
            "_model_module_version": "1.5.0",
            "_view_count": null,
            "_view_module_version": "1.2.0",
            "_model_module": "@jupyter-widgets/controls"
          }
        },
        "9ad4a2b5ffb142049ac1b25c05b82479": {
          "model_module": "@jupyter-widgets/base",
          "model_name": "LayoutModel",
          "state": {
            "_view_name": "LayoutView",
            "grid_template_rows": null,
            "right": null,
            "justify_content": null,
            "_view_module": "@jupyter-widgets/base",
            "overflow": null,
            "_model_module_version": "1.2.0",
            "_view_count": null,
            "flex_flow": null,
            "width": null,
            "min_width": null,
            "border": null,
            "align_items": null,
            "bottom": null,
            "_model_module": "@jupyter-widgets/base",
            "top": null,
            "grid_column": null,
            "overflow_y": null,
            "overflow_x": null,
            "grid_auto_flow": null,
            "grid_area": null,
            "grid_template_columns": null,
            "flex": null,
            "_model_name": "LayoutModel",
            "justify_items": null,
            "grid_row": null,
            "max_height": null,
            "align_content": null,
            "visibility": null,
            "align_self": null,
            "height": null,
            "min_height": null,
            "padding": null,
            "grid_auto_rows": null,
            "grid_gap": null,
            "max_width": null,
            "order": null,
            "_view_module_version": "1.2.0",
            "grid_template_areas": null,
            "object_position": null,
            "object_fit": null,
            "grid_auto_columns": null,
            "margin": null,
            "display": null,
            "left": null
          }
        }
      }
    }
  },
  "cells": [
    {
      "cell_type": "markdown",
      "metadata": {
        "id": "view-in-github",
        "colab_type": "text"
      },
      "source": [
        "<a href=\"https://colab.research.google.com/github/luciainnocenti/IncrementalLearning/blob/Lucia/TrainAndTest.ipynb\" target=\"_parent\"><img src=\"https://colab.research.google.com/assets/colab-badge.svg\" alt=\"Open In Colab\"/></a>"
      ]
    },
    {
      "cell_type": "markdown",
      "metadata": {
        "id": "mbtGDBU3QJaq",
        "colab_type": "text"
      },
      "source": [
        "# Import GitHub repository"
      ]
    },
    {
      "cell_type": "code",
      "metadata": {
        "id": "wf0TmOM3NdFM",
        "colab_type": "code",
        "colab": {}
      },
      "source": [
        "import os\n",
        "import logging\n",
        "import sys\n"
      ],
      "execution_count": 0,
      "outputs": []
    },
    {
      "cell_type": "code",
      "metadata": {
        "id": "8I0pKIVIM2KC",
        "colab_type": "code",
        "outputId": "b5ab8e1b-8edc-48c4-e4dc-901034c45ed5",
        "colab": {
          "base_uri": "https://localhost:8080/",
          "height": 146
        }
      },
      "source": [
        "if not os.path.isdir('./DatasetCIFAR'):\n",
        "  !git clone -b Lucia https://github.com/luciainnocenti/IncrementalLearning.git\n",
        "  !mv 'IncrementalLearning' 'DatasetCIFAR'"
      ],
      "execution_count": 2,
      "outputs": [
        {
          "output_type": "stream",
          "text": [
            "Cloning into 'IncrementalLearning'...\n",
            "remote: Enumerating objects: 36, done.\u001b[K\n",
            "remote: Counting objects: 100% (36/36), done.\u001b[K\n",
            "remote: Compressing objects: 100% (36/36), done.\u001b[K\n",
            "remote: Total 366 (delta 21), reused 0 (delta 0), pack-reused 330\u001b[K\n",
            "Receiving objects: 100% (366/366), 275.79 KiB | 510.00 KiB/s, done.\n",
            "Resolving deltas: 100% (220/220), done.\n"
          ],
          "name": "stdout"
        }
      ]
    },
    {
      "cell_type": "markdown",
      "metadata": {
        "id": "aLaS2laafBaG",
        "colab_type": "text"
      },
      "source": [
        "# Import packages"
      ]
    },
    {
      "cell_type": "code",
      "metadata": {
        "id": "liUP5Kc1DMbH",
        "colab_type": "code",
        "colab": {}
      },
      "source": [
        "from DatasetCIFAR.data_set import Dataset \n",
        "from DatasetCIFAR import ResNet\n",
        "from DatasetCIFAR import utils\n",
        "from DatasetCIFAR import params\n",
        "from torchvision import models\n",
        "import torch.nn as nn\n",
        "import torch\n",
        "import torch.optim as optim\n",
        "import torchvision\n",
        "import numpy as np\n",
        "\n",
        "from torchvision import transforms\n",
        "from torch.utils.data import Subset, DataLoader\n",
        "from torch.nn import functional as F\n",
        "import random\n",
        "random.seed(42)"
      ],
      "execution_count": 0,
      "outputs": []
    },
    {
      "cell_type": "markdown",
      "metadata": {
        "id": "0_vlqOL7ehLC",
        "colab_type": "text"
      },
      "source": [
        "# Define Network"
      ]
    },
    {
      "cell_type": "code",
      "metadata": {
        "id": "tWttFW3ljoMj",
        "colab_type": "code",
        "colab": {}
      },
      "source": [
        "resNet = ResNet.resnet32(num_classes=100)\n",
        "resNet = resNet.to(params.DEVICE)"
      ],
      "execution_count": 0,
      "outputs": []
    },
    {
      "cell_type": "code",
      "metadata": {
        "id": "HSmohsyVWFpr",
        "colab_type": "code",
        "colab": {}
      },
      "source": [
        "resnet_transformer = transforms.Compose([transforms.Resize(32), \n",
        "                                      transforms.Normalize((0.5, 0.5, 0.5), (0.5, 0.5, 0.5)) # Normalizes tensor with mean and standard deviation\n",
        "])\n"
      ],
      "execution_count": 0,
      "outputs": []
    },
    {
      "cell_type": "markdown",
      "metadata": {
        "id": "y_cyhIzFej5-",
        "colab_type": "text"
      },
      "source": [
        "# Define DataSets"
      ]
    },
    {
      "cell_type": "code",
      "metadata": {
        "id": "wcBNohmiYBtP",
        "colab_type": "code",
        "outputId": "243c858a-e699-4fcb-d6b2-016cb3435fff",
        "colab": {
          "base_uri": "https://localhost:8080/",
          "height": 104,
          "referenced_widgets": [
            "42689f2b7ebb40afac2c1d5c6dffe01a",
            "999d218568664435bdeee09b34f52b83",
            "cc23ae3b4606419ca4c468ae77b8f633",
            "e0a09715d55f44fe91844b2826520867",
            "d5409ad3c69f40c28183906d2d0ea75b",
            "934ba0138121435b8116a61634c40a0e",
            "306897ee000f419c9151bfc3581ea1c7",
            "9ad4a2b5ffb142049ac1b25c05b82479"
          ]
        }
      },
      "source": [
        "trainDS = Dataset(train=True, transform = resnet_transformer)\n",
        "testDS = Dataset(train=False, transform = resnet_transformer)"
      ],
      "execution_count": 6,
      "outputs": [
        {
          "output_type": "stream",
          "text": [
            "Downloading https://www.cs.toronto.edu/~kriz/cifar-100-python.tar.gz to data/cifar-100-python.tar.gz\n"
          ],
          "name": "stdout"
        },
        {
          "output_type": "display_data",
          "data": {
            "application/vnd.jupyter.widget-view+json": {
              "model_id": "42689f2b7ebb40afac2c1d5c6dffe01a",
              "version_minor": 0,
              "version_major": 2
            },
            "text/plain": [
              "HBox(children=(FloatProgress(value=1.0, bar_style='info', max=1.0), HTML(value='')))"
            ]
          },
          "metadata": {
            "tags": []
          }
        },
        {
          "output_type": "stream",
          "text": [
            "Extracting data/cifar-100-python.tar.gz to data\n",
            "Files already downloaded and verified\n"
          ],
          "name": "stdout"
        }
      ]
    },
    {
      "cell_type": "code",
      "metadata": {
        "id": "dFxMUO_FQZRo",
        "colab_type": "code",
        "colab": {}
      },
      "source": [
        "train_splits = trainDS.splits\n",
        "test_splits = testDS.splits"
      ],
      "execution_count": 0,
      "outputs": []
    },
    {
      "cell_type": "markdown",
      "metadata": {
        "id": "WgAT2KQEersx",
        "colab_type": "text"
      },
      "source": [
        "# Useful plots"
      ]
    },
    {
      "cell_type": "markdown",
      "metadata": {
        "id": "B1l7flYj4NJh",
        "colab_type": "text"
      },
      "source": [
        "The function plotEpoch plots, at the end of each task, how accuracy and loss change during the training phase. It show\n",
        "\n",
        "*   Validation and Training Accuracy\n",
        "*   Validation and Training Loss\n",
        "\n",
        "The function plotTask, for each task, how the accuracy on the validation set change when adding new tasks\n"
      ]
    },
    {
      "cell_type": "code",
      "metadata": {
        "id": "Gr58kkHiIzZU",
        "colab_type": "code",
        "colab": {}
      },
      "source": [
        "def plotTask(pars_tasks):\n",
        "  import numpy as np\n",
        "  import matplotlib.pyplot as plt\n",
        "\n",
        "  x_tasks =  np.linspace(10, 100, 10)\n",
        "\n",
        "  plt.plot(x_tasks, pars_tasks, label=['Accuracy', 'Loss'])\n",
        "  plt.xlabel(\"Epoch\")\n",
        "  plt.title('Accuracy over tasks')\n",
        "  plt.legend(['Accuracy', 'Loss'])\n",
        "  plt.grid(True)\n",
        "  plt.show()\n",
        "\n"
      ],
      "execution_count": 0,
      "outputs": []
    },
    {
      "cell_type": "markdown",
      "metadata": {
        "id": "iApKvCs942aS",
        "colab_type": "text"
      },
      "source": [
        "# Train and evaluation phase"
      ]
    },
    {
      "cell_type": "code",
      "metadata": {
        "id": "oJse4JU7d9ck",
        "colab_type": "code",
        "outputId": "37f810e9-6e1d-41e5-cf43-4cf51b73cbcd",
        "colab": {
          "base_uri": "https://localhost:8080/",
          "height": 1000
        }
      },
      "source": [
        "pars_tasks = []\n",
        "test_indexes = []\n",
        "\n",
        "for task in range(0, 100, params.TASK_SIZE):\n",
        "  pars_tasks.insert(task, 0)\n",
        "\n",
        "for task in range(0, 100, params.TASK_SIZE):\n",
        "\n",
        "  train_indexes = trainDS.__getIndexesGroups__(task)\n",
        "  test_indexes = test_indexes + testDS.__getIndexesGroups__(task)\n",
        "\n",
        "  train_dataset = Subset(trainDS, train_indexes)\n",
        "  test_dataset = Subset(testDS, test_indexes)\n",
        "\n",
        "  train_loader = DataLoader( train_dataset, num_workers=params.NUM_WORKERS, batch_size=params.BATCH_SIZE)\n",
        "  test_loader = DataLoader( test_dataset, num_workers=params.NUM_WORKERS, batch_size=params.BATCH_SIZE )\n",
        "\n",
        "  if(task == 0):\n",
        "    torch.save(resNet, 'resNet_task{0}.pt'.format(task))\n",
        "  \n",
        "  \n",
        "\n",
        "  utils.trainfunction(task, train_loader, train_splits)\n",
        "  param = utils.evaluationTest(task, test_loader, test_splits) #evaluate test set at step task\n",
        "  pars_tasks[int(task/10)] = param #pars_task[i] = (accuracy, loss) at i-th task\t\n",
        "\n",
        "train_splits = trainDS.splits\n",
        "test_splits = testDS.splits"
      ],
      "execution_count": 0,
      "outputs": [
        {
          "output_type": "stream",
          "text": [
            "task = 0 \n"
          ],
          "name": "stdout"
        },
        {
          "output_type": "stream",
          "text": [
            "/usr/local/lib/python3.6/dist-packages/torch/optim/lr_scheduler.py:123: UserWarning: Detected call of `lr_scheduler.step()` before `optimizer.step()`. In PyTorch 1.1.0 and later, you should call them in the opposite order: `optimizer.step()` before `lr_scheduler.step()`.  Failure to do this will result in PyTorch skipping the first value of the learning rate schedule. See more details at https://pytorch.org/docs/stable/optim.html#how-to-adjust-learning-rate\n",
            "  \"https://pytorch.org/docs/stable/optim.html#how-to-adjust-learning-rate\", UserWarning)\n"
          ],
          "name": "stderr"
        },
        {
          "output_type": "stream",
          "text": [
            "At step  0  and at epoch =  0  the loss is =  0.2949681282043457  and accuracy is =  0.1968\n",
            "At step  0  and at epoch =  1  the loss is =  0.26361843943595886  and accuracy is =  0.3256\n",
            "At step  0  and at epoch =  2  the loss is =  0.252512663602829  and accuracy is =  0.3908\n",
            "At step  0  and at epoch =  3  the loss is =  0.216915562748909  and accuracy is =  0.4324\n",
            "At step  0  and at epoch =  4  the loss is =  0.17416445910930634  and accuracy is =  0.4846\n",
            "At step  0  and at epoch =  5  the loss is =  0.16072317957878113  and accuracy is =  0.5212\n",
            "At step  0  and at epoch =  6  the loss is =  0.1329203099012375  and accuracy is =  0.5496\n",
            "At step  0  and at epoch =  7  the loss is =  0.13106726109981537  and accuracy is =  0.5984\n",
            "At step  0  and at epoch =  8  the loss is =  0.11575031280517578  and accuracy is =  0.5956\n",
            "At step  0  and at epoch =  9  the loss is =  0.08751790970563889  and accuracy is =  0.64\n",
            "At step  0  and at epoch =  10  the loss is =  0.08377613872289658  and accuracy is =  0.6902\n",
            "At step  0  and at epoch =  11  the loss is =  0.07255598157644272  and accuracy is =  0.7168\n",
            "At step  0  and at epoch =  12  the loss is =  0.05681443214416504  and accuracy is =  0.7518\n",
            "At step  0  and at epoch =  13  the loss is =  0.056218791753053665  and accuracy is =  0.7732\n",
            "At step  0  and at epoch =  14  the loss is =  0.05490177869796753  and accuracy is =  0.803\n",
            "At step  0  and at epoch =  15  the loss is =  0.08654047548770905  and accuracy is =  0.8216\n",
            "At step  0  and at epoch =  16  the loss is =  0.049112554639577866  and accuracy is =  0.8322\n",
            "At step  0  and at epoch =  17  the loss is =  0.029519442468881607  and accuracy is =  0.871\n",
            "At step  0  and at epoch =  18  the loss is =  0.0745280534029007  and accuracy is =  0.8876\n",
            "At step  0  and at epoch =  19  the loss is =  0.043650612235069275  and accuracy is =  0.8488\n",
            "At step  0  and at epoch =  20  the loss is =  0.01639596000313759  and accuracy is =  0.962\n",
            "At step  0  and at epoch =  21  the loss is =  0.011260933242738247  and accuracy is =  0.9868\n",
            "At step  0  and at epoch =  22  the loss is =  0.008661074563860893  and accuracy is =  0.9944\n",
            "At step  0  and at epoch =  23  the loss is =  0.007037443108856678  and accuracy is =  0.9974\n",
            "At step  0  and at epoch =  24  the loss is =  0.006012035068124533  and accuracy is =  0.999\n",
            "At step  0  and at epoch =  25  the loss is =  0.005317136645317078  and accuracy is =  0.9998\n",
            "At step  0  and at epoch =  26  the loss is =  0.004793854895979166  and accuracy is =  0.9998\n",
            "At step  0  and at epoch =  27  the loss is =  0.004375964403152466  and accuracy is =  0.9998\n",
            "At step  0  and at epoch =  28  the loss is =  0.004030720796436071  and accuracy is =  0.9998\n",
            "At step  0  and at epoch =  29  the loss is =  0.003644929500296712  and accuracy is =  0.9998\n",
            "At step  0  and at epoch =  30  the loss is =  0.0036146454513072968  and accuracy is =  0.9998\n",
            "At step  0  and at epoch =  31  the loss is =  0.0035784661304205656  and accuracy is =  0.9998\n",
            "At step  0  and at epoch =  32  the loss is =  0.0035387834068387747  and accuracy is =  0.9998\n",
            "At step  0  and at epoch =  33  the loss is =  0.003497821046039462  and accuracy is =  0.9998\n",
            "At step  0  and at epoch =  34  the loss is =  0.003456634236499667  and accuracy is =  1.0\n",
            "At step  0  and at epoch =  35  the loss is =  0.003415491431951523  and accuracy is =  1.0\n",
            "At step  0  and at epoch =  36  the loss is =  0.0033748175483196974  and accuracy is =  1.0\n",
            "At step  0  and at epoch =  37  the loss is =  0.003334550652652979  and accuracy is =  1.0\n",
            "At step  0  and at epoch =  38  the loss is =  0.0032949205487966537  and accuracy is =  1.0\n",
            "At step  0  and at epoch =  39  the loss is =  0.0032380581833422184  and accuracy is =  1.0\n",
            "At step  0  and at epoch =  40  the loss is =  0.003231200622394681  and accuracy is =  1.0\n",
            "At step  0  and at epoch =  41  the loss is =  0.003224304411560297  and accuracy is =  1.0\n",
            "At step  0  and at epoch =  42  the loss is =  0.003217374673113227  and accuracy is =  1.0\n",
            "At step  0  and at epoch =  43  the loss is =  0.00321039161644876  and accuracy is =  1.0\n",
            "At step  0  and at epoch =  44  the loss is =  0.003203397383913398  and accuracy is =  1.0\n",
            "At step  0  and at epoch =  45  the loss is =  0.00319642573595047  and accuracy is =  1.0\n",
            "At step  0  and at epoch =  46  the loss is =  0.0031894550193101168  and accuracy is =  1.0\n",
            "At step  0  and at epoch =  47  the loss is =  0.0031824547331780195  and accuracy is =  1.0\n",
            "At step  0  and at epoch =  48  the loss is =  0.003175434423610568  and accuracy is =  1.0\n",
            "At step  0  and at epoch =  49  the loss is =  0.003164835972711444  and accuracy is =  1.0\n",
            "At step  0  and at epoch =  50  the loss is =  0.003163470420986414  and accuracy is =  1.0\n",
            "At step  0  and at epoch =  51  the loss is =  0.0031621064990758896  and accuracy is =  1.0\n",
            "At step  0  and at epoch =  52  the loss is =  0.003160738153383136  and accuracy is =  1.0\n",
            "At step  0  and at epoch =  53  the loss is =  0.0031593807507306337  and accuracy is =  1.0\n",
            "At step  0  and at epoch =  54  the loss is =  0.0031580098439007998  and accuracy is =  1.0\n",
            "At step  0  and at epoch =  55  the loss is =  0.0031566366087645292  and accuracy is =  1.0\n",
            "At step  0  and at epoch =  56  the loss is =  0.0031552836298942566  and accuracy is =  1.0\n",
            "At step  0  and at epoch =  57  the loss is =  0.0031539038754999638  and accuracy is =  1.0\n",
            "At step  0  and at epoch =  58  the loss is =  0.0031525343656539917  and accuracy is =  1.0\n",
            "At step  0  and at epoch =  59  the loss is =  0.00315115787088871  and accuracy is =  1.0\n",
            "Validation Loss: 0.7243320345878601 Validation Accuracy : 0.09\n",
            "task = 10 \n",
            "At step  10  and at epoch =  0  the loss is =  0.41582047939300537  and accuracy is =  0.3262\n",
            "At step  10  and at epoch =  1  the loss is =  0.4146016240119934  and accuracy is =  0.4558\n",
            "At step  10  and at epoch =  2  the loss is =  0.4114835858345032  and accuracy is =  0.5394\n",
            "At step  10  and at epoch =  3  the loss is =  0.3989858627319336  and accuracy is =  0.6024\n",
            "At step  10  and at epoch =  4  the loss is =  0.39373669028282166  and accuracy is =  0.6472\n",
            "At step  10  and at epoch =  5  the loss is =  0.3787325620651245  and accuracy is =  0.6918\n",
            "At step  10  and at epoch =  6  the loss is =  0.3716771900653839  and accuracy is =  0.7322\n",
            "At step  10  and at epoch =  7  the loss is =  0.36816275119781494  and accuracy is =  0.7664\n",
            "At step  10  and at epoch =  8  the loss is =  0.36985841393470764  and accuracy is =  0.8098\n",
            "At step  10  and at epoch =  9  the loss is =  0.35824817419052124  and accuracy is =  0.8372\n",
            "At step  10  and at epoch =  10  the loss is =  0.35776740312576294  and accuracy is =  0.8662\n",
            "At step  10  and at epoch =  11  the loss is =  0.34627825021743774  and accuracy is =  0.8952\n",
            "At step  10  and at epoch =  12  the loss is =  0.3443969488143921  and accuracy is =  0.919\n",
            "At step  10  and at epoch =  13  the loss is =  0.3471463918685913  and accuracy is =  0.9382\n",
            "At step  10  and at epoch =  14  the loss is =  0.3448876440525055  and accuracy is =  0.9498\n",
            "At step  10  and at epoch =  15  the loss is =  0.3436342179775238  and accuracy is =  0.9586\n",
            "At step  10  and at epoch =  16  the loss is =  0.3419988751411438  and accuracy is =  0.9676\n",
            "At step  10  and at epoch =  17  the loss is =  0.3417692184448242  and accuracy is =  0.9762\n",
            "At step  10  and at epoch =  18  the loss is =  0.3418126702308655  and accuracy is =  0.9798\n",
            "At step  10  and at epoch =  19  the loss is =  0.34746235609054565  and accuracy is =  0.9846\n",
            "At step  10  and at epoch =  20  the loss is =  0.33991003036499023  and accuracy is =  0.9876\n",
            "At step  10  and at epoch =  21  the loss is =  0.3382304012775421  and accuracy is =  0.988\n",
            "At step  10  and at epoch =  22  the loss is =  0.33751314878463745  and accuracy is =  0.99\n",
            "At step  10  and at epoch =  23  the loss is =  0.3371710181236267  and accuracy is =  0.9904\n",
            "At step  10  and at epoch =  24  the loss is =  0.3369894325733185  and accuracy is =  0.9906\n",
            "At step  10  and at epoch =  25  the loss is =  0.33687442541122437  and accuracy is =  0.9908\n",
            "At step  10  and at epoch =  26  the loss is =  0.33678656816482544  and accuracy is =  0.991\n",
            "At step  10  and at epoch =  27  the loss is =  0.33671167492866516  and accuracy is =  0.9916\n",
            "At step  10  and at epoch =  28  the loss is =  0.33664366602897644  and accuracy is =  0.9922\n",
            "At step  10  and at epoch =  29  the loss is =  0.33637475967407227  and accuracy is =  0.9916\n",
            "At step  10  and at epoch =  30  the loss is =  0.33647093176841736  and accuracy is =  0.993\n",
            "At step  10  and at epoch =  31  the loss is =  0.33647993206977844  and accuracy is =  0.9932\n",
            "At step  10  and at epoch =  32  the loss is =  0.33647477626800537  and accuracy is =  0.9932\n",
            "At step  10  and at epoch =  33  the loss is =  0.3364664912223816  and accuracy is =  0.9932\n",
            "At step  10  and at epoch =  34  the loss is =  0.33645713329315186  and accuracy is =  0.9934\n",
            "At step  10  and at epoch =  35  the loss is =  0.3364473283290863  and accuracy is =  0.9936\n",
            "At step  10  and at epoch =  36  the loss is =  0.3364371359348297  and accuracy is =  0.9936\n",
            "At step  10  and at epoch =  37  the loss is =  0.3364267647266388  and accuracy is =  0.9936\n",
            "At step  10  and at epoch =  38  the loss is =  0.3364163637161255  and accuracy is =  0.9938\n",
            "At step  10  and at epoch =  39  the loss is =  0.3362577259540558  and accuracy is =  0.9938\n",
            "At step  10  and at epoch =  40  the loss is =  0.33628588914871216  and accuracy is =  0.9938\n",
            "At step  10  and at epoch =  41  the loss is =  0.33630308508872986  and accuracy is =  0.9938\n",
            "At step  10  and at epoch =  42  the loss is =  0.336313396692276  and accuracy is =  0.9938\n",
            "At step  10  and at epoch =  43  the loss is =  0.33631932735443115  and accuracy is =  0.9938\n",
            "At step  10  and at epoch =  44  the loss is =  0.33632248640060425  and accuracy is =  0.9938\n",
            "At step  10  and at epoch =  45  the loss is =  0.33632388710975647  and accuracy is =  0.9938\n",
            "At step  10  and at epoch =  46  the loss is =  0.33632418513298035  and accuracy is =  0.9938\n",
            "At step  10  and at epoch =  47  the loss is =  0.33632373809814453  and accuracy is =  0.9942\n",
            "At step  10  and at epoch =  48  the loss is =  0.3363228440284729  and accuracy is =  0.9942\n",
            "At step  10  and at epoch =  49  the loss is =  0.33628466725349426  and accuracy is =  0.9944\n",
            "At step  10  and at epoch =  50  the loss is =  0.3362860679626465  and accuracy is =  0.9946\n",
            "At step  10  and at epoch =  51  the loss is =  0.33628731966018677  and accuracy is =  0.9946\n",
            "At step  10  and at epoch =  52  the loss is =  0.3362883925437927  and accuracy is =  0.9946\n",
            "At step  10  and at epoch =  53  the loss is =  0.3362894058227539  and accuracy is =  0.9946\n",
            "At step  10  and at epoch =  54  the loss is =  0.33629027009010315  and accuracy is =  0.9946\n",
            "At step  10  and at epoch =  55  the loss is =  0.33629101514816284  and accuracy is =  0.9946\n",
            "At step  10  and at epoch =  56  the loss is =  0.33629167079925537  and accuracy is =  0.9946\n",
            "At step  10  and at epoch =  57  the loss is =  0.33629220724105835  and accuracy is =  0.9946\n",
            "At step  10  and at epoch =  58  the loss is =  0.33629268407821655  and accuracy is =  0.9946\n",
            "At step  10  and at epoch =  59  the loss is =  0.33629310131073  and accuracy is =  0.9946\n",
            "Validation Loss: 0.6945651173591614 Validation Accuracy : 0.126\n",
            "task = 20 \n"
          ],
          "name": "stdout"
        }
      ]
    },
    {
      "cell_type": "code",
      "metadata": {
        "id": "KHm9_i7WM7c-",
        "colab_type": "code",
        "colab": {}
      },
      "source": [
        "plotTask(pars_tasks)"
      ],
      "execution_count": 0,
      "outputs": []
    }
  ]
}