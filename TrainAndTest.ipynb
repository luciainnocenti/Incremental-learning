{
  "nbformat": 4,
  "nbformat_minor": 0,
  "metadata": {
    "colab": {
      "name": "TrainAndTest.ipynb",
      "provenance": [],
      "collapsed_sections": [],
      "include_colab_link": true
    },
    "kernelspec": {
      "name": "python3",
      "display_name": "Python 3"
    },
    "accelerator": "GPU",
    "widgets": {
      "application/vnd.jupyter.widget-state+json": {
        "dcfb72bdb6d749d7ba5d71323ad30684": {
          "model_module": "@jupyter-widgets/controls",
          "model_name": "HBoxModel",
          "state": {
            "_view_name": "HBoxView",
            "_dom_classes": [],
            "_model_name": "HBoxModel",
            "_view_module": "@jupyter-widgets/controls",
            "_model_module_version": "1.5.0",
            "_view_count": null,
            "_view_module_version": "1.5.0",
            "box_style": "",
            "layout": "IPY_MODEL_0c675b8ec5d3435d945a67c968ff9e6d",
            "_model_module": "@jupyter-widgets/controls",
            "children": [
              "IPY_MODEL_d77d1b968f644ab3a3e11947022f5569",
              "IPY_MODEL_4f1a0b96d8cd4e9f8320f26fbc74ade1"
            ]
          }
        },
        "0c675b8ec5d3435d945a67c968ff9e6d": {
          "model_module": "@jupyter-widgets/base",
          "model_name": "LayoutModel",
          "state": {
            "_view_name": "LayoutView",
            "grid_template_rows": null,
            "right": null,
            "justify_content": null,
            "_view_module": "@jupyter-widgets/base",
            "overflow": null,
            "_model_module_version": "1.2.0",
            "_view_count": null,
            "flex_flow": null,
            "width": null,
            "min_width": null,
            "border": null,
            "align_items": null,
            "bottom": null,
            "_model_module": "@jupyter-widgets/base",
            "top": null,
            "grid_column": null,
            "overflow_y": null,
            "overflow_x": null,
            "grid_auto_flow": null,
            "grid_area": null,
            "grid_template_columns": null,
            "flex": null,
            "_model_name": "LayoutModel",
            "justify_items": null,
            "grid_row": null,
            "max_height": null,
            "align_content": null,
            "visibility": null,
            "align_self": null,
            "height": null,
            "min_height": null,
            "padding": null,
            "grid_auto_rows": null,
            "grid_gap": null,
            "max_width": null,
            "order": null,
            "_view_module_version": "1.2.0",
            "grid_template_areas": null,
            "object_position": null,
            "object_fit": null,
            "grid_auto_columns": null,
            "margin": null,
            "display": null,
            "left": null
          }
        },
        "d77d1b968f644ab3a3e11947022f5569": {
          "model_module": "@jupyter-widgets/controls",
          "model_name": "FloatProgressModel",
          "state": {
            "_view_name": "ProgressView",
            "style": "IPY_MODEL_7c3533107cfb4d539c97b05efc9494c8",
            "_dom_classes": [],
            "description": "",
            "_model_name": "FloatProgressModel",
            "bar_style": "info",
            "max": 1,
            "_view_module": "@jupyter-widgets/controls",
            "_model_module_version": "1.5.0",
            "value": 1,
            "_view_count": null,
            "_view_module_version": "1.5.0",
            "orientation": "horizontal",
            "min": 0,
            "description_tooltip": null,
            "_model_module": "@jupyter-widgets/controls",
            "layout": "IPY_MODEL_89900ced8ac048cfbdc3cf7dccd43657"
          }
        },
        "4f1a0b96d8cd4e9f8320f26fbc74ade1": {
          "model_module": "@jupyter-widgets/controls",
          "model_name": "HTMLModel",
          "state": {
            "_view_name": "HTMLView",
            "style": "IPY_MODEL_e0f982eb6a6f411ab1f8c036eb10950d",
            "_dom_classes": [],
            "description": "",
            "_model_name": "HTMLModel",
            "placeholder": "​",
            "_view_module": "@jupyter-widgets/controls",
            "_model_module_version": "1.5.0",
            "value": " 169009152/? [00:30&lt;00:00, 16983110.41it/s]",
            "_view_count": null,
            "_view_module_version": "1.5.0",
            "description_tooltip": null,
            "_model_module": "@jupyter-widgets/controls",
            "layout": "IPY_MODEL_7c6de3d9ff964a8d8378f81302be95c3"
          }
        },
        "7c3533107cfb4d539c97b05efc9494c8": {
          "model_module": "@jupyter-widgets/controls",
          "model_name": "ProgressStyleModel",
          "state": {
            "_view_name": "StyleView",
            "_model_name": "ProgressStyleModel",
            "description_width": "initial",
            "_view_module": "@jupyter-widgets/base",
            "_model_module_version": "1.5.0",
            "_view_count": null,
            "_view_module_version": "1.2.0",
            "bar_color": null,
            "_model_module": "@jupyter-widgets/controls"
          }
        },
        "89900ced8ac048cfbdc3cf7dccd43657": {
          "model_module": "@jupyter-widgets/base",
          "model_name": "LayoutModel",
          "state": {
            "_view_name": "LayoutView",
            "grid_template_rows": null,
            "right": null,
            "justify_content": null,
            "_view_module": "@jupyter-widgets/base",
            "overflow": null,
            "_model_module_version": "1.2.0",
            "_view_count": null,
            "flex_flow": null,
            "width": null,
            "min_width": null,
            "border": null,
            "align_items": null,
            "bottom": null,
            "_model_module": "@jupyter-widgets/base",
            "top": null,
            "grid_column": null,
            "overflow_y": null,
            "overflow_x": null,
            "grid_auto_flow": null,
            "grid_area": null,
            "grid_template_columns": null,
            "flex": null,
            "_model_name": "LayoutModel",
            "justify_items": null,
            "grid_row": null,
            "max_height": null,
            "align_content": null,
            "visibility": null,
            "align_self": null,
            "height": null,
            "min_height": null,
            "padding": null,
            "grid_auto_rows": null,
            "grid_gap": null,
            "max_width": null,
            "order": null,
            "_view_module_version": "1.2.0",
            "grid_template_areas": null,
            "object_position": null,
            "object_fit": null,
            "grid_auto_columns": null,
            "margin": null,
            "display": null,
            "left": null
          }
        },
        "e0f982eb6a6f411ab1f8c036eb10950d": {
          "model_module": "@jupyter-widgets/controls",
          "model_name": "DescriptionStyleModel",
          "state": {
            "_view_name": "StyleView",
            "_model_name": "DescriptionStyleModel",
            "description_width": "",
            "_view_module": "@jupyter-widgets/base",
            "_model_module_version": "1.5.0",
            "_view_count": null,
            "_view_module_version": "1.2.0",
            "_model_module": "@jupyter-widgets/controls"
          }
        },
        "7c6de3d9ff964a8d8378f81302be95c3": {
          "model_module": "@jupyter-widgets/base",
          "model_name": "LayoutModel",
          "state": {
            "_view_name": "LayoutView",
            "grid_template_rows": null,
            "right": null,
            "justify_content": null,
            "_view_module": "@jupyter-widgets/base",
            "overflow": null,
            "_model_module_version": "1.2.0",
            "_view_count": null,
            "flex_flow": null,
            "width": null,
            "min_width": null,
            "border": null,
            "align_items": null,
            "bottom": null,
            "_model_module": "@jupyter-widgets/base",
            "top": null,
            "grid_column": null,
            "overflow_y": null,
            "overflow_x": null,
            "grid_auto_flow": null,
            "grid_area": null,
            "grid_template_columns": null,
            "flex": null,
            "_model_name": "LayoutModel",
            "justify_items": null,
            "grid_row": null,
            "max_height": null,
            "align_content": null,
            "visibility": null,
            "align_self": null,
            "height": null,
            "min_height": null,
            "padding": null,
            "grid_auto_rows": null,
            "grid_gap": null,
            "max_width": null,
            "order": null,
            "_view_module_version": "1.2.0",
            "grid_template_areas": null,
            "object_position": null,
            "object_fit": null,
            "grid_auto_columns": null,
            "margin": null,
            "display": null,
            "left": null
          }
        }
      }
    }
  },
  "cells": [
    {
      "cell_type": "markdown",
      "metadata": {
        "id": "view-in-github",
        "colab_type": "text"
      },
      "source": [
        "<a href=\"https://colab.research.google.com/github/luciainnocenti/IncrementalLearning/blob/Lucia/TrainAndTest.ipynb\" target=\"_parent\"><img src=\"https://colab.research.google.com/assets/colab-badge.svg\" alt=\"Open In Colab\"/></a>"
      ]
    },
    {
      "cell_type": "markdown",
      "metadata": {
        "id": "mbtGDBU3QJaq",
        "colab_type": "text"
      },
      "source": [
        "# Import GitHub repository"
      ]
    },
    {
      "cell_type": "code",
      "metadata": {
        "id": "wf0TmOM3NdFM",
        "colab_type": "code",
        "colab": {}
      },
      "source": [
        "import os\n",
        "import logging\n",
        "import sys\n"
      ],
      "execution_count": 0,
      "outputs": []
    },
    {
      "cell_type": "code",
      "metadata": {
        "id": "8I0pKIVIM2KC",
        "colab_type": "code",
        "outputId": "e3de02e2-3970-4d2c-d34a-059eef75a6f5",
        "colab": {
          "base_uri": "https://localhost:8080/",
          "height": 141
        }
      },
      "source": [
        "if not os.path.isdir('./DatasetCIFAR'):\n",
        "  !git clone -b Lucia https://github.com/luciainnocenti/IncrementalLearning.git\n",
        "  !mv 'IncrementalLearning' 'DatasetCIFAR'"
      ],
      "execution_count": 2,
      "outputs": [
        {
          "output_type": "stream",
          "text": [
            "Cloning into 'IncrementalLearning'...\n",
            "remote: Enumerating objects: 153, done.\u001b[K\n",
            "remote: Counting objects: 100% (153/153), done.\u001b[K\n",
            "remote: Compressing objects: 100% (153/153), done.\u001b[K\n",
            "remote: Total 483 (delta 94), reused 0 (delta 0), pack-reused 330\u001b[K\n",
            "Receiving objects: 100% (483/483), 318.56 KiB | 585.00 KiB/s, done.\n",
            "Resolving deltas: 100% (293/293), done.\n"
          ],
          "name": "stdout"
        }
      ]
    },
    {
      "cell_type": "markdown",
      "metadata": {
        "id": "aLaS2laafBaG",
        "colab_type": "text"
      },
      "source": [
        "# Import packages"
      ]
    },
    {
      "cell_type": "code",
      "metadata": {
        "id": "liUP5Kc1DMbH",
        "colab_type": "code",
        "colab": {}
      },
      "source": [
        "from DatasetCIFAR.data_set import Dataset \n",
        "from DatasetCIFAR import ResNet\n",
        "from DatasetCIFAR import utils\n",
        "from DatasetCIFAR import params\n",
        "from torchvision import models\n",
        "import torch.nn as nn\n",
        "import torch\n",
        "import torch.optim as optim\n",
        "import torchvision\n",
        "import numpy as np\n",
        "\n",
        "from torchvision import transforms\n",
        "from torch.utils.data import Subset, DataLoader\n",
        "from torch.nn import functional as F\n",
        "import random\n",
        "random.seed(params.SEED)"
      ],
      "execution_count": 0,
      "outputs": []
    },
    {
      "cell_type": "markdown",
      "metadata": {
        "id": "0_vlqOL7ehLC",
        "colab_type": "text"
      },
      "source": [
        "# Define Network"
      ]
    },
    {
      "cell_type": "code",
      "metadata": {
        "id": "tWttFW3ljoMj",
        "colab_type": "code",
        "colab": {}
      },
      "source": [
        "resNet = ResNet.resnet32(num_classes=100)\n",
        "resNet = resNet.to(params.DEVICE)"
      ],
      "execution_count": 0,
      "outputs": []
    },
    {
      "cell_type": "code",
      "metadata": {
        "id": "HSmohsyVWFpr",
        "colab_type": "code",
        "colab": {}
      },
      "source": [
        "resnet_transformer = transforms.Compose([transforms.Resize(32), \n",
        "                                      transforms.Normalize((0.5, 0.5, 0.5), (0.5, 0.5, 0.5)) # Normalizes tensor with mean and standard deviation\n",
        "])\n"
      ],
      "execution_count": 0,
      "outputs": []
    },
    {
      "cell_type": "markdown",
      "metadata": {
        "id": "y_cyhIzFej5-",
        "colab_type": "text"
      },
      "source": [
        "# Define DataSets"
      ]
    },
    {
      "cell_type": "code",
      "metadata": {
        "id": "wcBNohmiYBtP",
        "colab_type": "code",
        "outputId": "f2e7d902-0dfc-455b-b287-e6bedd28aaa3",
        "colab": {
          "base_uri": "https://localhost:8080/",
          "height": 102,
          "referenced_widgets": [
            "dcfb72bdb6d749d7ba5d71323ad30684",
            "0c675b8ec5d3435d945a67c968ff9e6d",
            "d77d1b968f644ab3a3e11947022f5569",
            "4f1a0b96d8cd4e9f8320f26fbc74ade1",
            "7c3533107cfb4d539c97b05efc9494c8",
            "89900ced8ac048cfbdc3cf7dccd43657",
            "e0f982eb6a6f411ab1f8c036eb10950d",
            "7c6de3d9ff964a8d8378f81302be95c3"
          ]
        }
      },
      "source": [
        "trainDS = Dataset(train=True, transform = resnet_transformer)\n",
        "testDS = Dataset(train=False, transform = resnet_transformer)"
      ],
      "execution_count": 6,
      "outputs": [
        {
          "output_type": "stream",
          "text": [
            "Downloading https://www.cs.toronto.edu/~kriz/cifar-100-python.tar.gz to data/cifar-100-python.tar.gz\n"
          ],
          "name": "stdout"
        },
        {
          "output_type": "display_data",
          "data": {
            "application/vnd.jupyter.widget-view+json": {
              "model_id": "dcfb72bdb6d749d7ba5d71323ad30684",
              "version_minor": 0,
              "version_major": 2
            },
            "text/plain": [
              "HBox(children=(FloatProgress(value=1.0, bar_style='info', max=1.0), HTML(value='')))"
            ]
          },
          "metadata": {
            "tags": []
          }
        },
        {
          "output_type": "stream",
          "text": [
            "Extracting data/cifar-100-python.tar.gz to data\n",
            "Files already downloaded and verified\n"
          ],
          "name": "stdout"
        }
      ]
    },
    {
      "cell_type": "code",
      "metadata": {
        "id": "dFxMUO_FQZRo",
        "colab_type": "code",
        "outputId": "7845f101-762a-47b6-aee4-2a9c3e6a808f",
        "colab": {
          "base_uri": "https://localhost:8080/",
          "height": 72
        }
      },
      "source": [
        "train_splits = trainDS.splits\n",
        "test_splits = testDS.splits\n",
        "print(train_splits)\n",
        "print(test_splits)"
      ],
      "execution_count": 7,
      "outputs": [
        {
          "output_type": "stream",
          "text": [
            "[[49.0, 97.0, 53.0, 5.0, 33.0, 65.0, 62.0, 51.0, 38.0, 61.0], [55.0, 59.0, 6.0, 35.0, 74.0, 71.0, 57.0, 41.0, 70.0, 48.0], [64.0, 69.0, 7.0, 37.0, 84.0, 81.0, 67.0, 44.0, 80.0, 56.0], [75.0, 79.0, 8.0, 40.0, 94.0, 91.0, 77.0, 87.0, 76.0, 98.0], [90.0, 28.0, 82.0, 93.0, 30.0, 2.0, 20.0, 42.0, 39.0, 29.0], [34.0, 96.0, 43.0, 3.0, 22.0, 54.0, 52.0, 36.0, 25.0, 50.0], [58.0, 63.0, 4.0, 24.0, 83.0, 78.0, 60.0, 31.0, 73.0, 17.0], [92.0, 21.0, 86.0, 23.0, 1.0, 15.0, 32.0, 27.0, 95.0, 16.0], [46.0, 47.0, 66.0, 12.0, 19.0, 10.0, 26.0, 72.0, 11.0, 9.0], [18.0, 89.0, 0.0, 68.0, 14.0, 13.0, 45.0, 99.0, 88.0, 85.0]]\n",
            "[[49.0, 97.0, 53.0, 5.0, 33.0, 65.0, 62.0, 51.0, 38.0, 61.0], [55.0, 59.0, 6.0, 35.0, 74.0, 71.0, 57.0, 41.0, 70.0, 48.0], [64.0, 69.0, 7.0, 37.0, 84.0, 81.0, 67.0, 44.0, 80.0, 56.0], [75.0, 79.0, 8.0, 40.0, 94.0, 91.0, 77.0, 87.0, 76.0, 98.0], [90.0, 28.0, 82.0, 93.0, 30.0, 2.0, 20.0, 42.0, 39.0, 29.0], [34.0, 96.0, 43.0, 3.0, 22.0, 54.0, 52.0, 36.0, 25.0, 50.0], [58.0, 63.0, 4.0, 24.0, 83.0, 78.0, 60.0, 31.0, 73.0, 17.0], [92.0, 21.0, 86.0, 23.0, 1.0, 15.0, 32.0, 27.0, 95.0, 16.0], [46.0, 47.0, 66.0, 12.0, 19.0, 10.0, 26.0, 72.0, 11.0, 9.0], [18.0, 89.0, 0.0, 68.0, 14.0, 13.0, 45.0, 99.0, 88.0, 85.0]]\n"
          ],
          "name": "stdout"
        }
      ]
    },
    {
      "cell_type": "markdown",
      "metadata": {
        "id": "WgAT2KQEersx",
        "colab_type": "text"
      },
      "source": [
        "# Useful plots"
      ]
    },
    {
      "cell_type": "markdown",
      "metadata": {
        "id": "B1l7flYj4NJh",
        "colab_type": "text"
      },
      "source": [
        "The function plotEpoch plots, at the end of each task, how accuracy and loss change during the training phase. It show\n",
        "\n",
        "*   Validation and Training Accuracy\n",
        "*   Validation and Training Loss\n",
        "\n",
        "The function plotTask, for each task, how the accuracy on the validation set change when adding new tasks\n"
      ]
    },
    {
      "cell_type": "code",
      "metadata": {
        "id": "Gr58kkHiIzZU",
        "colab_type": "code",
        "colab": {}
      },
      "source": [
        "def plotTask(pars_tasks):\n",
        "  import numpy as np\n",
        "  import matplotlib.pyplot as plt\n",
        "\n",
        "  x_tasks =  np.linspace(10, 100, 10)\n",
        "\n",
        "  plt.plot(x_tasks, pars_tasks, label=['Accuracy', 'Loss'])\n",
        "  plt.xlabel(\"Epoch\")\n",
        "  plt.title('Accuracy over tasks')\n",
        "  plt.legend(['Accuracy', 'Loss'])\n",
        "  plt.grid(True)\n",
        "  plt.show()\n",
        "\n"
      ],
      "execution_count": 0,
      "outputs": []
    },
    {
      "cell_type": "markdown",
      "metadata": {
        "id": "iApKvCs942aS",
        "colab_type": "text"
      },
      "source": [
        "# Train and evaluation phase"
      ]
    },
    {
      "cell_type": "code",
      "metadata": {
        "id": "oJse4JU7d9ck",
        "colab_type": "code",
        "outputId": "1d8405ff-0af9-45a3-b16f-08d2eb643ee9",
        "colab": {
          "base_uri": "https://localhost:8080/",
          "height": 1000
        }
      },
      "source": [
        "pars_tasks = []\n",
        "test_indexes = []\n",
        "\n",
        "for task in range(0, 100, params.TASK_SIZE):\n",
        "  pars_tasks.insert(task, 0)\n",
        "\n",
        "for task in range(0, 100, params.TASK_SIZE):\n",
        "\n",
        "  train_indexes = trainDS.__getIndexesGroups__(task)\n",
        "  test_indexes = test_indexes + testDS.__getIndexesGroups__(task)\n",
        "\n",
        "  train_dataset = Subset(trainDS, train_indexes)\n",
        "  test_dataset = Subset(testDS, test_indexes)\n",
        "\n",
        "  train_loader = DataLoader( train_dataset, num_workers=params.NUM_WORKERS, batch_size=params.BATCH_SIZE)\n",
        "  test_loader = DataLoader( test_dataset, num_workers=params.NUM_WORKERS, batch_size=params.BATCH_SIZE )\n",
        "\n",
        "  if(task == 0):\n",
        "    torch.save(resNet, 'resNet_task{0}.pt'.format(task))\n",
        "  \n",
        "  \n",
        "\n",
        "  utils.trainfunction(task, train_loader, train_splits)\n",
        "  param = utils.evaluationTest(task, test_loader, test_splits) #evaluate test set at step task\n",
        "  pars_tasks[int(task/10)] = param #pars_task[i] = (accuracy, loss) at i-th task\t\n",
        "\n",
        "train_splits = trainDS.splits\n",
        "test_splits = testDS.splits"
      ],
      "execution_count": 9,
      "outputs": [
        {
          "output_type": "stream",
          "text": [
            "task = 0 \n",
            "train col =  [49 97 53  5 33 65 62 51 38 61]\n",
            "train col =  [[49 97 53  5 33 65 62 51 38 61]]\n"
          ],
          "name": "stdout"
        },
        {
          "output_type": "stream",
          "text": [
            "/usr/local/lib/python3.6/dist-packages/torch/optim/lr_scheduler.py:123: UserWarning: Detected call of `lr_scheduler.step()` before `optimizer.step()`. In PyTorch 1.1.0 and later, you should call them in the opposite order: `optimizer.step()` before `lr_scheduler.step()`.  Failure to do this will result in PyTorch skipping the first value of the learning rate schedule. See more details at https://pytorch.org/docs/stable/optim.html#how-to-adjust-learning-rate\n",
            "  \"https://pytorch.org/docs/stable/optim.html#how-to-adjust-learning-rate\", UserWarning)\n"
          ],
          "name": "stderr"
        },
        {
          "output_type": "stream",
          "text": [
            "At step  0  and at epoch =  0  the loss is =  0.0349443256855011  and accuracy is =  0.154\n",
            "At step  0  and at epoch =  1  the loss is =  0.024762127548456192  and accuracy is =  0.3358\n",
            "At step  0  and at epoch =  2  the loss is =  0.02005366049706936  and accuracy is =  0.418\n",
            "At step  0  and at epoch =  3  the loss is =  0.01801546849310398  and accuracy is =  0.4648\n",
            "At step  0  and at epoch =  4  the loss is =  0.01644180342555046  and accuracy is =  0.4924\n",
            "At step  0  and at epoch =  5  the loss is =  0.014306946657598019  and accuracy is =  0.5166\n",
            "At step  0  and at epoch =  6  the loss is =  0.012568402104079723  and accuracy is =  0.5364\n",
            "At step  0  and at epoch =  7  the loss is =  0.011006725952029228  and accuracy is =  0.5546\n",
            "At step  0  and at epoch =  8  the loss is =  0.00969531387090683  and accuracy is =  0.5756\n",
            "At step  0  and at epoch =  9  the loss is =  0.008760159835219383  and accuracy is =  0.5888\n",
            "At step  0  and at epoch =  10  the loss is =  0.0080194603651762  and accuracy is =  0.6004\n",
            "At step  0  and at epoch =  11  the loss is =  0.007113088387995958  and accuracy is =  0.6174\n",
            "At step  0  and at epoch =  12  the loss is =  0.006216032896190882  and accuracy is =  0.6318\n",
            "At step  0  and at epoch =  13  the loss is =  0.005725976079702377  and accuracy is =  0.6516\n",
            "At step  0  and at epoch =  14  the loss is =  0.005421692039817572  and accuracy is =  0.6652\n",
            "At step  0  and at epoch =  15  the loss is =  0.004773973021656275  and accuracy is =  0.6766\n",
            "At step  0  and at epoch =  16  the loss is =  0.00492221349850297  and accuracy is =  0.6902\n",
            "At step  0  and at epoch =  17  the loss is =  0.003945134114474058  and accuracy is =  0.6902\n",
            "At step  0  and at epoch =  18  the loss is =  0.0035018797498196363  and accuracy is =  0.7262\n",
            "At step  0  and at epoch =  19  the loss is =  0.0029387420509010553  and accuracy is =  0.7708\n",
            "At step  0  and at epoch =  20  the loss is =  0.002922589657828212  and accuracy is =  0.7926\n",
            "At step  0  and at epoch =  21  the loss is =  0.0028417962603271008  and accuracy is =  0.8062\n",
            "At step  0  and at epoch =  22  the loss is =  0.002745845587924123  and accuracy is =  0.8162\n",
            "At step  0  and at epoch =  23  the loss is =  0.0026790692936629057  and accuracy is =  0.8254\n",
            "At step  0  and at epoch =  24  the loss is =  0.0025978735648095608  and accuracy is =  0.8352\n",
            "At step  0  and at epoch =  25  the loss is =  0.002526776632294059  and accuracy is =  0.843\n",
            "At step  0  and at epoch =  26  the loss is =  0.0024440959095954895  and accuracy is =  0.8506\n",
            "At step  0  and at epoch =  27  the loss is =  0.002384540159255266  and accuracy is =  0.8578\n",
            "At step  0  and at epoch =  28  the loss is =  0.0023130832705646753  and accuracy is =  0.8644\n",
            "At step  0  and at epoch =  29  the loss is =  0.002223947551101446  and accuracy is =  0.8624\n",
            "At step  0  and at epoch =  30  the loss is =  0.002232552273198962  and accuracy is =  0.8682\n",
            "At step  0  and at epoch =  31  the loss is =  0.002229539444670081  and accuracy is =  0.8708\n",
            "At step  0  and at epoch =  32  the loss is =  0.002223735209554434  and accuracy is =  0.873\n",
            "At step  0  and at epoch =  33  the loss is =  0.0022135188337415457  and accuracy is =  0.8748\n",
            "At step  0  and at epoch =  34  the loss is =  0.0022033201530575752  and accuracy is =  0.876\n",
            "At step  0  and at epoch =  35  the loss is =  0.0021893063094466925  and accuracy is =  0.877\n",
            "At step  0  and at epoch =  36  the loss is =  0.0021769690793007612  and accuracy is =  0.8778\n",
            "At step  0  and at epoch =  37  the loss is =  0.002164748264476657  and accuracy is =  0.88\n",
            "At step  0  and at epoch =  38  the loss is =  0.002152669243514538  and accuracy is =  0.8822\n",
            "At step  0  and at epoch =  39  the loss is =  0.0021281251683831215  and accuracy is =  0.8772\n",
            "At step  0  and at epoch =  40  the loss is =  0.0021282893139868975  and accuracy is =  0.8784\n",
            "At step  0  and at epoch =  41  the loss is =  0.0021275070030242205  and accuracy is =  0.8792\n",
            "At step  0  and at epoch =  42  the loss is =  0.002125616418197751  and accuracy is =  0.8804\n",
            "At step  0  and at epoch =  43  the loss is =  0.0021228091791272163  and accuracy is =  0.8814\n",
            "At step  0  and at epoch =  44  the loss is =  0.002120025223121047  and accuracy is =  0.8818\n",
            "At step  0  and at epoch =  45  the loss is =  0.0021167390514165163  and accuracy is =  0.882\n",
            "At step  0  and at epoch =  46  the loss is =  0.0021137406583875418  and accuracy is =  0.8822\n",
            "At step  0  and at epoch =  47  the loss is =  0.0021108021028339863  and accuracy is =  0.8826\n",
            "At step  0  and at epoch =  48  the loss is =  0.002107946202158928  and accuracy is =  0.8836\n",
            "At step  0  and at epoch =  49  the loss is =  0.0021030514035373926  and accuracy is =  0.8846\n",
            "At step  0  and at epoch =  50  the loss is =  0.002104216953739524  and accuracy is =  0.8842\n",
            "At step  0  and at epoch =  51  the loss is =  0.002105018822476268  and accuracy is =  0.8842\n",
            "At step  0  and at epoch =  52  the loss is =  0.002105333376675844  and accuracy is =  0.8842\n",
            "At step  0  and at epoch =  53  the loss is =  0.0021053513046354055  and accuracy is =  0.8842\n",
            "At step  0  and at epoch =  54  the loss is =  0.0021052046213299036  and accuracy is =  0.8844\n",
            "At step  0  and at epoch =  55  the loss is =  0.0021050171926617622  and accuracy is =  0.8844\n",
            "At step  0  and at epoch =  56  the loss is =  0.002104726852849126  and accuracy is =  0.8844\n",
            "At step  0  and at epoch =  57  the loss is =  0.0021043478045612574  and accuracy is =  0.8844\n",
            "At step  0  and at epoch =  58  the loss is =  0.0021039240527898073  and accuracy is =  0.8844\n",
            "At step  0  and at epoch =  59  the loss is =  0.0021034078672528267  and accuracy is =  0.8844\n",
            "[49 97 53  5 33 65 62 51 38 61]\n",
            "Validation Loss: 0.1872023195028305 Validation Accuracy : 0.617\n",
            "task = 10 \n",
            "train col =  [55 59  6 35 74 71 57 41 70 48]\n",
            "train col =  [[55 59  6 35 74 71 57 41 70 48]]\n",
            "At step  10  and at epoch =  0  the loss is =  0.034924015402793884  and accuracy is =  0.3428\n",
            "At step  10  and at epoch =  1  the loss is =  0.022829169407486916  and accuracy is =  0.4646\n",
            "At step  10  and at epoch =  2  the loss is =  0.018879039213061333  and accuracy is =  0.5322\n",
            "At step  10  and at epoch =  3  the loss is =  0.017310557886958122  and accuracy is =  0.5744\n",
            "At step  10  and at epoch =  4  the loss is =  0.01557255256921053  and accuracy is =  0.6136\n",
            "At step  10  and at epoch =  5  the loss is =  0.0140623664483428  and accuracy is =  0.6382\n",
            "At step  10  and at epoch =  6  the loss is =  0.012696342542767525  and accuracy is =  0.667\n",
            "At step  10  and at epoch =  7  the loss is =  0.011848825961351395  and accuracy is =  0.6852\n",
            "At step  10  and at epoch =  8  the loss is =  0.011032316833734512  and accuracy is =  0.7054\n",
            "At step  10  and at epoch =  9  the loss is =  0.009731722995638847  and accuracy is =  0.7238\n",
            "At step  10  and at epoch =  10  the loss is =  0.009667475707828999  and accuracy is =  0.746\n",
            "At step  10  and at epoch =  11  the loss is =  0.008716332726180553  and accuracy is =  0.7654\n",
            "At step  10  and at epoch =  12  the loss is =  0.00908185075968504  and accuracy is =  0.7756\n",
            "At step  10  and at epoch =  13  the loss is =  0.008767890743911266  and accuracy is =  0.788\n",
            "At step  10  and at epoch =  14  the loss is =  0.008857420645654202  and accuracy is =  0.8072\n",
            "At step  10  and at epoch =  15  the loss is =  0.007478189188987017  and accuracy is =  0.8156\n",
            "At step  10  and at epoch =  16  the loss is =  0.0067700957879424095  and accuracy is =  0.8286\n",
            "At step  10  and at epoch =  17  the loss is =  0.006880707573145628  and accuracy is =  0.8384\n",
            "At step  10  and at epoch =  18  the loss is =  0.0065839835442602634  and accuracy is =  0.8514\n",
            "At step  10  and at epoch =  19  the loss is =  0.0062415264546871185  and accuracy is =  0.8908\n",
            "At step  10  and at epoch =  20  the loss is =  0.0060201059095561504  and accuracy is =  0.829\n",
            "At step  10  and at epoch =  21  the loss is =  0.005629547871649265  and accuracy is =  0.8804\n",
            "At step  10  and at epoch =  22  the loss is =  0.0054393610917031765  and accuracy is =  0.8994\n",
            "At step  10  and at epoch =  23  the loss is =  nan  and accuracy is =  0.1\n",
            "At step  10  and at epoch =  24  the loss is =  nan  and accuracy is =  0.1\n",
            "At step  10  and at epoch =  25  the loss is =  nan  and accuracy is =  0.1\n",
            "At step  10  and at epoch =  26  the loss is =  nan  and accuracy is =  0.1\n",
            "At step  10  and at epoch =  27  the loss is =  nan  and accuracy is =  0.1\n",
            "At step  10  and at epoch =  28  the loss is =  nan  and accuracy is =  0.1\n",
            "At step  10  and at epoch =  29  the loss is =  nan  and accuracy is =  0.1\n",
            "At step  10  and at epoch =  30  the loss is =  nan  and accuracy is =  0.1\n",
            "At step  10  and at epoch =  31  the loss is =  nan  and accuracy is =  0.1\n",
            "At step  10  and at epoch =  32  the loss is =  nan  and accuracy is =  0.1\n",
            "At step  10  and at epoch =  33  the loss is =  nan  and accuracy is =  0.1\n",
            "At step  10  and at epoch =  34  the loss is =  nan  and accuracy is =  0.1\n",
            "At step  10  and at epoch =  35  the loss is =  nan  and accuracy is =  0.1\n",
            "At step  10  and at epoch =  36  the loss is =  nan  and accuracy is =  0.1\n",
            "At step  10  and at epoch =  37  the loss is =  nan  and accuracy is =  0.1\n",
            "At step  10  and at epoch =  38  the loss is =  nan  and accuracy is =  0.1\n",
            "At step  10  and at epoch =  39  the loss is =  nan  and accuracy is =  0.1\n",
            "At step  10  and at epoch =  40  the loss is =  nan  and accuracy is =  0.1\n",
            "At step  10  and at epoch =  41  the loss is =  nan  and accuracy is =  0.1\n",
            "At step  10  and at epoch =  42  the loss is =  nan  and accuracy is =  0.1\n",
            "At step  10  and at epoch =  43  the loss is =  nan  and accuracy is =  0.1\n",
            "At step  10  and at epoch =  44  the loss is =  nan  and accuracy is =  0.1\n",
            "At step  10  and at epoch =  45  the loss is =  nan  and accuracy is =  0.1\n",
            "At step  10  and at epoch =  46  the loss is =  nan  and accuracy is =  0.1\n",
            "At step  10  and at epoch =  47  the loss is =  nan  and accuracy is =  0.1\n",
            "At step  10  and at epoch =  48  the loss is =  nan  and accuracy is =  0.1\n",
            "At step  10  and at epoch =  49  the loss is =  nan  and accuracy is =  0.1\n",
            "At step  10  and at epoch =  50  the loss is =  nan  and accuracy is =  0.1\n",
            "At step  10  and at epoch =  51  the loss is =  nan  and accuracy is =  0.1\n",
            "At step  10  and at epoch =  52  the loss is =  nan  and accuracy is =  0.1\n",
            "At step  10  and at epoch =  53  the loss is =  nan  and accuracy is =  0.1\n",
            "At step  10  and at epoch =  54  the loss is =  nan  and accuracy is =  0.1\n",
            "At step  10  and at epoch =  55  the loss is =  nan  and accuracy is =  0.1\n",
            "At step  10  and at epoch =  56  the loss is =  nan  and accuracy is =  0.1\n",
            "At step  10  and at epoch =  57  the loss is =  nan  and accuracy is =  0.1\n",
            "At step  10  and at epoch =  58  the loss is =  nan  and accuracy is =  0.1\n",
            "At step  10  and at epoch =  59  the loss is =  nan  and accuracy is =  0.1\n",
            "[49 97 53  5 33 65 62 51 38 61 55 59  6 35 74 71 57 41 70 48]\n",
            "Validation Loss: nan Validation Accuracy : 0.05\n",
            "task = 20 \n",
            "train col =  [64 69  7 37 84 81 67 44 80 56]\n",
            "train col =  [[64 69  7 37 84 81 67 44 80 56]]\n"
          ],
          "name": "stdout"
        },
        {
          "output_type": "error",
          "ename": "RuntimeError",
          "evalue": "ignored",
          "traceback": [
            "\u001b[0;31m---------------------------------------------------------------------------\u001b[0m",
            "\u001b[0;31mRuntimeError\u001b[0m                              Traceback (most recent call last)",
            "\u001b[0;32m<ipython-input-9-72d43d200f99>\u001b[0m in \u001b[0;36m<module>\u001b[0;34m()\u001b[0m\n\u001b[1;32m     21\u001b[0m \u001b[0;34m\u001b[0m\u001b[0m\n\u001b[1;32m     22\u001b[0m \u001b[0;34m\u001b[0m\u001b[0m\n\u001b[0;32m---> 23\u001b[0;31m   \u001b[0mutils\u001b[0m\u001b[0;34m.\u001b[0m\u001b[0mtrainfunction\u001b[0m\u001b[0;34m(\u001b[0m\u001b[0mtask\u001b[0m\u001b[0;34m,\u001b[0m \u001b[0mtrain_loader\u001b[0m\u001b[0;34m,\u001b[0m \u001b[0mtrain_splits\u001b[0m\u001b[0;34m)\u001b[0m\u001b[0;34m\u001b[0m\u001b[0;34m\u001b[0m\u001b[0m\n\u001b[0m\u001b[1;32m     24\u001b[0m   \u001b[0mparam\u001b[0m \u001b[0;34m=\u001b[0m \u001b[0mutils\u001b[0m\u001b[0;34m.\u001b[0m\u001b[0mevaluationTest\u001b[0m\u001b[0;34m(\u001b[0m\u001b[0mtask\u001b[0m\u001b[0;34m,\u001b[0m \u001b[0mtest_loader\u001b[0m\u001b[0;34m,\u001b[0m \u001b[0mtest_splits\u001b[0m\u001b[0;34m)\u001b[0m \u001b[0;31m#evaluate test set at step task\u001b[0m\u001b[0;34m\u001b[0m\u001b[0;34m\u001b[0m\u001b[0m\n\u001b[1;32m     25\u001b[0m   \u001b[0mpars_tasks\u001b[0m\u001b[0;34m[\u001b[0m\u001b[0mint\u001b[0m\u001b[0;34m(\u001b[0m\u001b[0mtask\u001b[0m\u001b[0;34m/\u001b[0m\u001b[0;36m10\u001b[0m\u001b[0;34m)\u001b[0m\u001b[0;34m]\u001b[0m \u001b[0;34m=\u001b[0m \u001b[0mparam\u001b[0m \u001b[0;31m#pars_task[i] = (accuracy, loss) at i-th task\u001b[0m\u001b[0;34m\u001b[0m\u001b[0;34m\u001b[0m\u001b[0m\n",
            "\u001b[0;32m/content/DatasetCIFAR/utils.py\u001b[0m in \u001b[0;36mtrainfunction\u001b[0;34m(task, train_loader, train_splits)\u001b[0m\n\u001b[1;32m     57\u001b[0m                         \u001b[0;31m# Get predictions\u001b[0m\u001b[0;34m\u001b[0m\u001b[0;34m\u001b[0m\u001b[0;34m\u001b[0m\u001b[0m\n\u001b[1;32m     58\u001b[0m \u001b[0;34m\u001b[0m\u001b[0m\n\u001b[0;32m---> 59\u001b[0;31m                         \u001b[0mcut_outputs\u001b[0m \u001b[0;34m=\u001b[0m \u001b[0mnp\u001b[0m\u001b[0;34m.\u001b[0m\u001b[0mtake_along_axis\u001b[0m\u001b[0;34m(\u001b[0m\u001b[0moutputs\u001b[0m\u001b[0;34m.\u001b[0m\u001b[0mto\u001b[0m\u001b[0;34m(\u001b[0m\u001b[0mparams\u001b[0m\u001b[0;34m.\u001b[0m\u001b[0mDEVICE\u001b[0m\u001b[0;34m)\u001b[0m\u001b[0;34m,\u001b[0m \u001b[0mcol\u001b[0m\u001b[0;34m[\u001b[0m\u001b[0;32mNone\u001b[0m\u001b[0;34m,\u001b[0m \u001b[0;34m:\u001b[0m\u001b[0;34m]\u001b[0m\u001b[0;34m,\u001b[0m \u001b[0maxis\u001b[0m \u001b[0;34m=\u001b[0m \u001b[0;36m1\u001b[0m\u001b[0;34m)\u001b[0m\u001b[0;34m.\u001b[0m\u001b[0mto\u001b[0m\u001b[0;34m(\u001b[0m\u001b[0mparams\u001b[0m\u001b[0;34m.\u001b[0m\u001b[0mDEVICE\u001b[0m\u001b[0;34m)\u001b[0m\u001b[0;34m\u001b[0m\u001b[0;34m\u001b[0m\u001b[0m\n\u001b[0m\u001b[1;32m     60\u001b[0m                         \u001b[0m_\u001b[0m\u001b[0;34m,\u001b[0m \u001b[0mpreds\u001b[0m \u001b[0;34m=\u001b[0m \u001b[0mtorch\u001b[0m\u001b[0;34m.\u001b[0m\u001b[0mmax\u001b[0m\u001b[0;34m(\u001b[0m\u001b[0mcut_outputs\u001b[0m\u001b[0;34m.\u001b[0m\u001b[0mdata\u001b[0m\u001b[0;34m,\u001b[0m \u001b[0;36m1\u001b[0m\u001b[0;34m)\u001b[0m\u001b[0;34m\u001b[0m\u001b[0;34m\u001b[0m\u001b[0m\n\u001b[1;32m     61\u001b[0m                         \u001b[0;31m#print(preds)\u001b[0m\u001b[0;34m\u001b[0m\u001b[0;34m\u001b[0m\u001b[0;34m\u001b[0m\u001b[0m\n",
            "\u001b[0;32m<__array_function__ internals>\u001b[0m in \u001b[0;36mtake_along_axis\u001b[0;34m(*args, **kwargs)\u001b[0m\n",
            "\u001b[0;32m/usr/local/lib/python3.6/dist-packages/numpy/lib/shape_base.py\u001b[0m in \u001b[0;36mtake_along_axis\u001b[0;34m(arr, indices, axis)\u001b[0m\n\u001b[1;32m    170\u001b[0m \u001b[0;34m\u001b[0m\u001b[0m\n\u001b[1;32m    171\u001b[0m     \u001b[0;31m# use the fancy index\u001b[0m\u001b[0;34m\u001b[0m\u001b[0;34m\u001b[0m\u001b[0;34m\u001b[0m\u001b[0m\n\u001b[0;32m--> 172\u001b[0;31m     \u001b[0;32mreturn\u001b[0m \u001b[0marr\u001b[0m\u001b[0;34m[\u001b[0m\u001b[0m_make_along_axis_idx\u001b[0m\u001b[0;34m(\u001b[0m\u001b[0marr_shape\u001b[0m\u001b[0;34m,\u001b[0m \u001b[0mindices\u001b[0m\u001b[0;34m,\u001b[0m \u001b[0maxis\u001b[0m\u001b[0;34m)\u001b[0m\u001b[0;34m]\u001b[0m\u001b[0;34m\u001b[0m\u001b[0;34m\u001b[0m\u001b[0m\n\u001b[0m\u001b[1;32m    173\u001b[0m \u001b[0;34m\u001b[0m\u001b[0m\n\u001b[1;32m    174\u001b[0m \u001b[0;34m\u001b[0m\u001b[0m\n",
            "\u001b[0;31mRuntimeError\u001b[0m: CUDA error: an illegal memory access was encountered"
          ]
        }
      ]
    },
    {
      "cell_type": "code",
      "metadata": {
        "id": "fIn7zSiOIxkl",
        "colab_type": "code",
        "colab": {}
      },
      "source": [
        "train_loader.shape"
      ],
      "execution_count": 0,
      "outputs": []
    }
  ]
}